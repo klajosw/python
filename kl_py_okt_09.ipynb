{
  "nbformat": 4,
  "nbformat_minor": 0,
  "metadata": {
    "anaconda-cloud": {},
    "hide_input": false,
    "kernelspec": {
      "display_name": "Python 3",
      "language": "python",
      "name": "python3"
    },
    "language_info": {
      "codemirror_mode": {
        "name": "ipython",
        "version": 3
      },
      "file_extension": ".py",
      "mimetype": "text/x-python",
      "name": "python",
      "nbconvert_exporter": "python",
      "pygments_lexer": "ipython3",
      "version": "3.7.4"
    },
    "name": "linalg.ipynb",
    "colab": {
      "name": "kl_py_okt_09.ipynb",
      "provenance": [],
      "collapsed_sections": [],
      "include_colab_link": true
    }
  },
  "cells": [
    {
      "cell_type": "markdown",
      "metadata": {
        "id": "view-in-github",
        "colab_type": "text"
      },
      "source": [
        "<a href=\"https://colab.research.google.com/github/klajosw/python/blob/master/kl_py_okt_09.ipynb\" target=\"_parent\"><img src=\"https://colab.research.google.com/assets/colab-badge.svg\" alt=\"Open In Colab\"/></a>"
      ]
    },
    {
      "cell_type": "markdown",
      "metadata": {
        "id": "Vo-RY7EqrGKd",
        "colab_type": "text"
      },
      "source": [
        "<p align=\"left\"> \n",
        "    <img src=\"https://raw.githubusercontent.com/klajosw/python/master/kl_mie_python_logo_250.jpg\" \n",
        "         align=\"left\" width=\"251\" height=\"251\">\n",
        "    \n",
        "</p>\n",
        "\n",
        "\n",
        "<p> </p>\n",
        "\n",
        "\n",
        "\n",
        "# Python alapok 9\n",
        "\n",
        "<https://klajosw.blogspot.com/>\n",
        "\n",
        "\n",
        "---"
      ]
    },
    {
      "cell_type": "markdown",
      "metadata": {
        "id": "-BgrMLM8rGKf",
        "colab_type": "text"
      },
      "source": [
        "# Még több scipy ...\n",
        "\n",
        "Az alábbi notebookban megismerkedünk két témával, melyek annak ellenére, hogy magukban is fontos jelentőséggel bírnak, kulcsfontosságú szerepet töltenek be más problémák numerikus megoldásában. A numerikus integrálás témakörében megvizsgálunk néhány egyszerű integrált a `scipy` csomag `quad` függvényével. A második kérdéskör, a differenciálegyenletek megoldása számos fizikai probléma vizsgálatában nyújthat segítséget. Gondoljunk csak arra, hogy a klasszikus mechanika [Newton törvényei](https://hu.wikipedia.org/wiki/Newton_t%C3%B6rv%C3%A9nyei), az elektrodinamika [Maxwell-egyenletei](https://hu.wikipedia.org/wiki/Maxwell-egyenletek), a kvantummechanika [Schrödinger-egyenlete](https://hu.wikipedia.org/wiki/Schr%C3%B6dinger-egyenlet), illetve az általános relativitáselmélet [Einstein-egyenletei](https://hu.wikipedia.org/wiki/%C3%81ltal%C3%A1nos_relativit%C3%A1selm%C3%A9let#Az_elm.C3.A9let_l.C3.A9nyege) mind-4mind differenciálegyenletek!\n"
      ]
    },
    {
      "cell_type": "markdown",
      "metadata": {
        "id": "1yWy664trGKg",
        "colab_type": "text"
      },
      "source": [
        "# Numerikus integrálás\n",
        "\n",
        "Sok gyakorlati alkalmazásban előkerül egy fügvény integráljának, azaz a függvény görbéje alatti területnek a meghatározása. Sok analitikus függvény integrálját zárt alakban meg lehet határozni. A gyakorlatban viszont sokszor nem ismert a függvény analitikus alakja. Gondoljunk itt például egy zajos mérésre. Ilyen esetben a függvény integrálját a rendelkezésre áló mérési pontok $x_0,x_1,x_2,…x_j,…$ és mért értékek $f_0,f_1,f_2,…f_j,…$ alapján kell valahogy meghatároznunk. Ekkor az integrál értékét rendszerint egy véges összegzéssel határozhatjuk meg, ahol az összeadandó értékek a mérési pontok és a mért mennyiségek valamilyen függvényei. Az alábbiakban a `scipy` csomag `quad` függvényével fogunk megismerkedni, mely függvények numerikus integrálására alkalmas. "
      ]
    },
    {
      "cell_type": "markdown",
      "metadata": {
        "id": "9mOeW-ktrGKg",
        "colab_type": "text"
      },
      "source": [
        "## 1D integrál"
      ]
    },
    {
      "cell_type": "code",
      "metadata": {
        "id": "2xToMbfdrGKh",
        "colab_type": "code",
        "colab": {},
        "outputId": "bdeaa4cc-9d29-4761-b35c-636f76a3fc1c"
      },
      "source": [
        "# a szokásos rutinok betöltése\n",
        "%pylab inline\n",
        "from scipy.integrate import * # az integráló rutinok betöltése"
      ],
      "execution_count": 0,
      "outputs": [
        {
          "output_type": "stream",
          "text": [
            "Populating the interactive namespace from numpy and matplotlib\n"
          ],
          "name": "stdout"
        }
      ]
    },
    {
      "cell_type": "markdown",
      "metadata": {
        "id": "LJyNk07ErGKl",
        "colab_type": "text"
      },
      "source": [
        "Vizsgáljuk meg az alábbi egyszerű integrált $$ \\int_{-1}^1 (x^2+3x +2)\\mathrm{d}x .$$ \n",
        "Ennek az értéke némi [algebrával](http://www.wolframalpha.com/input/?i=%5Cint_%7B-1%7D%5E1+%28x%5E2%2B3x+%2B2%29) $14/3\\approx 4.66666$ Vajon ugyen ezt kapjuk-e a `quad` fügvénnyel ?"
      ]
    },
    {
      "cell_type": "markdown",
      "metadata": {
        "id": "gWxeAIqZrGKl",
        "colab_type": "text"
      },
      "source": [
        "Először definiáljuk az integrálandó függvényt."
      ]
    },
    {
      "cell_type": "code",
      "metadata": {
        "id": "Ah8AUGsJrGKm",
        "colab_type": "code",
        "colab": {}
      },
      "source": [
        "def f(x):\n",
        "    return (x**2+3*x+2)"
      ],
      "execution_count": 0,
      "outputs": []
    },
    {
      "cell_type": "markdown",
      "metadata": {
        "id": "m38naHrhrGKo",
        "colab_type": "text"
      },
      "source": [
        "Most már meghívhatjuk a `quad`-ot. Az első változó az integrálandó függvény, a második és a harmadik pedig az integrálási határok. A kimenet két szám. Az első az integrál becsült értéke, a második az algoritmus becsült hibája."
      ]
    },
    {
      "cell_type": "code",
      "metadata": {
        "id": "DhEqxSEJrGKp",
        "colab_type": "code",
        "colab": {},
        "outputId": "b7e8d9fe-b9ba-42a9-ab6a-423b66bc084b"
      },
      "source": [
        "quad(f,-1,1)"
      ],
      "execution_count": 0,
      "outputs": [
        {
          "output_type": "execute_result",
          "data": {
            "text/plain": [
              "(4.666666666666666, 5.1810407815840634e-14)"
            ]
          },
          "metadata": {
            "tags": []
          },
          "execution_count": 3
        }
      ]
    },
    {
      "cell_type": "markdown",
      "metadata": {
        "id": "l4_3mAumrGKr",
        "colab_type": "text"
      },
      "source": [
        "Amint az eredmény is mutatja, ez az analitikus számítás és a numerikus integrál megegyeznek. \n",
        "\n",
        "Előfordulhat, hogy az integrálási határok végtelenek. Például vizsgáljuk meg a Gauss-görbe alatti területet:\n",
        "$$ \\int_{-\\infty}^\\infty \\mathrm{e}^{-x^2}\\mathrm{d}x =\\sqrt{\\pi}$$\n",
        "\n"
      ]
    },
    {
      "cell_type": "code",
      "metadata": {
        "id": "7EZlbc8CrGKr",
        "colab_type": "code",
        "colab": {}
      },
      "source": [
        "# az integrandus definiálása\n",
        "def gauss(x):\n",
        "    return exp(-x**2)"
      ],
      "execution_count": 0,
      "outputs": []
    },
    {
      "cell_type": "markdown",
      "metadata": {
        "id": "X2Vk9QhPrGKt",
        "colab_type": "text"
      },
      "source": [
        "A `quad` függvénynek a végtelen integrálási határokat az `inf` jelöléssel adhatjuk meg."
      ]
    },
    {
      "cell_type": "code",
      "metadata": {
        "id": "jnWc2EaDrGKu",
        "colab_type": "code",
        "colab": {},
        "outputId": "f8a5cd11-8a8b-4a50-9857-c5d63d14fd53"
      },
      "source": [
        "quad(gauss,-inf,inf)"
      ],
      "execution_count": 0,
      "outputs": [
        {
          "output_type": "execute_result",
          "data": {
            "text/plain": [
              "(1.7724538509055159, 1.4202636780944923e-08)"
            ]
          },
          "metadata": {
            "tags": []
          },
          "execution_count": 5
        }
      ]
    },
    {
      "cell_type": "code",
      "metadata": {
        "id": "RjY20JOvrGKv",
        "colab_type": "code",
        "colab": {},
        "outputId": "14eb5ae3-f79b-435f-d28f-b3c947a98ee9"
      },
      "source": [
        "sqrt(pi)"
      ],
      "execution_count": 0,
      "outputs": [
        {
          "output_type": "execute_result",
          "data": {
            "text/plain": [
              "1.7724538509055159"
            ]
          },
          "metadata": {
            "tags": []
          },
          "execution_count": 6
        }
      ]
    },
    {
      "cell_type": "markdown",
      "metadata": {
        "id": "1dVZt3hMrGKy",
        "colab_type": "text"
      },
      "source": [
        "A fent vizsgált két példával különösebb gond nélkül meg tudott birkózni a `quad`. Előfordul azonban, hogy az integrálás problémákba ütközik. Erre egy jó példa, ha az integrandus szingulárissá válik a integrálási tartomány egy pontjában. Ez nem feltétlenül jelenti azt, hogy az integrál nem létezik! Az ilyen pontokra külön felhívhatjuk a `quad` függvény figyelmét a `points` kulcsszó segítségével.\n",
        "\n",
        "Vizsgáljuk meg a $$h(x)=\\sqrt[3]{\\frac{1}{(x-1)^2}}$$ függvényt mely a $x=1$ esetén divergál:"
      ]
    },
    {
      "cell_type": "code",
      "metadata": {
        "id": "N5LNp7jRrGKy",
        "colab_type": "code",
        "colab": {}
      },
      "source": [
        "def h(x):\n",
        "    return ((x-1.0)**(-2))**(1.0/3.0)"
      ],
      "execution_count": 0,
      "outputs": []
    },
    {
      "cell_type": "code",
      "metadata": {
        "id": "VsB38x-4rGK0",
        "colab_type": "code",
        "colab": {},
        "outputId": "65a11f72-34f4-40bc-b42a-94aea9a787a4"
      },
      "source": [
        "quad(h,0,2)"
      ],
      "execution_count": 0,
      "outputs": [
        {
          "output_type": "error",
          "ename": "ZeroDivisionError",
          "evalue": "0.0 cannot be raised to a negative power",
          "traceback": [
            "\u001b[1;31m---------------------------------------------------------------------------\u001b[0m",
            "\u001b[1;31mZeroDivisionError\u001b[0m                         Traceback (most recent call last)",
            "\u001b[1;32m<ipython-input-8-5e2f2a226d67>\u001b[0m in \u001b[0;36m<module>\u001b[1;34m()\u001b[0m\n\u001b[1;32m----> 1\u001b[1;33m \u001b[0mquad\u001b[0m\u001b[1;33m(\u001b[0m\u001b[0mh\u001b[0m\u001b[1;33m,\u001b[0m\u001b[1;36m0\u001b[0m\u001b[1;33m,\u001b[0m\u001b[1;36m2\u001b[0m\u001b[1;33m)\u001b[0m\u001b[1;33m\u001b[0m\u001b[0m\n\u001b[0m",
            "\u001b[1;32m/opt/conda/lib/python3.5/site-packages/scipy/integrate/quadpack.py\u001b[0m in \u001b[0;36mquad\u001b[1;34m(func, a, b, args, full_output, epsabs, epsrel, limit, points, weight, wvar, wopts, maxp1, limlst)\u001b[0m\n\u001b[0;32m    314\u001b[0m     \u001b[1;32mif\u001b[0m \u001b[1;33m(\u001b[0m\u001b[0mweight\u001b[0m \u001b[1;32mis\u001b[0m \u001b[1;32mNone\u001b[0m\u001b[1;33m)\u001b[0m\u001b[1;33m:\u001b[0m\u001b[1;33m\u001b[0m\u001b[0m\n\u001b[0;32m    315\u001b[0m         retval = _quad(func, a, b, args, full_output, epsabs, epsrel, limit,\n\u001b[1;32m--> 316\u001b[1;33m                        points)\n\u001b[0m\u001b[0;32m    317\u001b[0m     \u001b[1;32melse\u001b[0m\u001b[1;33m:\u001b[0m\u001b[1;33m\u001b[0m\u001b[0m\n\u001b[0;32m    318\u001b[0m         retval = _quad_weight(func, a, b, args, full_output, epsabs, epsrel,\n",
            "\u001b[1;32m/opt/conda/lib/python3.5/site-packages/scipy/integrate/quadpack.py\u001b[0m in \u001b[0;36m_quad\u001b[1;34m(func, a, b, args, full_output, epsabs, epsrel, limit, points)\u001b[0m\n\u001b[0;32m    379\u001b[0m     \u001b[1;32mif\u001b[0m \u001b[0mpoints\u001b[0m \u001b[1;32mis\u001b[0m \u001b[1;32mNone\u001b[0m\u001b[1;33m:\u001b[0m\u001b[1;33m\u001b[0m\u001b[0m\n\u001b[0;32m    380\u001b[0m         \u001b[1;32mif\u001b[0m \u001b[0minfbounds\u001b[0m \u001b[1;33m==\u001b[0m \u001b[1;36m0\u001b[0m\u001b[1;33m:\u001b[0m\u001b[1;33m\u001b[0m\u001b[0m\n\u001b[1;32m--> 381\u001b[1;33m             \u001b[1;32mreturn\u001b[0m \u001b[0m_quadpack\u001b[0m\u001b[1;33m.\u001b[0m\u001b[0m_qagse\u001b[0m\u001b[1;33m(\u001b[0m\u001b[0mfunc\u001b[0m\u001b[1;33m,\u001b[0m\u001b[0ma\u001b[0m\u001b[1;33m,\u001b[0m\u001b[0mb\u001b[0m\u001b[1;33m,\u001b[0m\u001b[0margs\u001b[0m\u001b[1;33m,\u001b[0m\u001b[0mfull_output\u001b[0m\u001b[1;33m,\u001b[0m\u001b[0mepsabs\u001b[0m\u001b[1;33m,\u001b[0m\u001b[0mepsrel\u001b[0m\u001b[1;33m,\u001b[0m\u001b[0mlimit\u001b[0m\u001b[1;33m)\u001b[0m\u001b[1;33m\u001b[0m\u001b[0m\n\u001b[0m\u001b[0;32m    382\u001b[0m         \u001b[1;32melse\u001b[0m\u001b[1;33m:\u001b[0m\u001b[1;33m\u001b[0m\u001b[0m\n\u001b[0;32m    383\u001b[0m             \u001b[1;32mreturn\u001b[0m \u001b[0m_quadpack\u001b[0m\u001b[1;33m.\u001b[0m\u001b[0m_qagie\u001b[0m\u001b[1;33m(\u001b[0m\u001b[0mfunc\u001b[0m\u001b[1;33m,\u001b[0m\u001b[0mbound\u001b[0m\u001b[1;33m,\u001b[0m\u001b[0minfbounds\u001b[0m\u001b[1;33m,\u001b[0m\u001b[0margs\u001b[0m\u001b[1;33m,\u001b[0m\u001b[0mfull_output\u001b[0m\u001b[1;33m,\u001b[0m\u001b[0mepsabs\u001b[0m\u001b[1;33m,\u001b[0m\u001b[0mepsrel\u001b[0m\u001b[1;33m,\u001b[0m\u001b[0mlimit\u001b[0m\u001b[1;33m)\u001b[0m\u001b[1;33m\u001b[0m\u001b[0m\n",
            "\u001b[1;32m<ipython-input-7-6f67c98dcaf3>\u001b[0m in \u001b[0;36mh\u001b[1;34m(x)\u001b[0m\n\u001b[0;32m      1\u001b[0m \u001b[1;32mdef\u001b[0m \u001b[0mh\u001b[0m\u001b[1;33m(\u001b[0m\u001b[0mx\u001b[0m\u001b[1;33m)\u001b[0m\u001b[1;33m:\u001b[0m\u001b[1;33m\u001b[0m\u001b[0m\n\u001b[1;32m----> 2\u001b[1;33m     \u001b[1;32mreturn\u001b[0m \u001b[1;33m(\u001b[0m\u001b[1;33m(\u001b[0m\u001b[0mx\u001b[0m\u001b[1;33m-\u001b[0m\u001b[1;36m1.0\u001b[0m\u001b[1;33m)\u001b[0m\u001b[1;33m**\u001b[0m\u001b[1;33m(\u001b[0m\u001b[1;33m-\u001b[0m\u001b[1;36m2\u001b[0m\u001b[1;33m)\u001b[0m\u001b[1;33m)\u001b[0m\u001b[1;33m**\u001b[0m\u001b[1;33m(\u001b[0m\u001b[1;36m1.0\u001b[0m\u001b[1;33m/\u001b[0m\u001b[1;36m3.0\u001b[0m\u001b[1;33m)\u001b[0m\u001b[1;33m\u001b[0m\u001b[0m\n\u001b[0m",
            "\u001b[1;31mZeroDivisionError\u001b[0m: 0.0 cannot be raised to a negative power"
          ]
        }
      ]
    },
    {
      "cell_type": "markdown",
      "metadata": {
        "id": "8BpRq0wtrGK2",
        "colab_type": "text"
      },
      "source": [
        "A `quad` bizony nehézségekbe ütközik, ha a 0 reciprokát kell vennie! Specifikáljuk most az $x=1$-et mint problémás pontot:"
      ]
    },
    {
      "cell_type": "code",
      "metadata": {
        "id": "jKwwqrkHrGK3",
        "colab_type": "code",
        "colab": {},
        "outputId": "37e0fed0-447f-404e-98aa-9fe0fd4ae655"
      },
      "source": [
        "quad(h,0,2,points=[1.0])"
      ],
      "execution_count": 0,
      "outputs": [
        {
          "output_type": "execute_result",
          "data": {
            "text/plain": [
              "(6.000000000001056, 4.723332835965266e-12)"
            ]
          },
          "metadata": {
            "tags": []
          },
          "execution_count": 9
        }
      ]
    },
    {
      "cell_type": "markdown",
      "metadata": {
        "id": "8nFW4ejwrGK5",
        "colab_type": "text"
      },
      "source": [
        "Így az integrál már szépen elvégezhető."
      ]
    },
    {
      "cell_type": "markdown",
      "metadata": {
        "id": "ys-JMmXBrGK5",
        "colab_type": "text"
      },
      "source": [
        "## 2D integrál\n",
        "\n",
        "A `quad` függvény kétdimenziós változata a `dblquad`. Nézzünk két egyszerű példát kétdimenziós integrálra is!"
      ]
    },
    {
      "cell_type": "markdown",
      "metadata": {
        "id": "lkWgQRFfrGK6",
        "colab_type": "text"
      },
      "source": [
        "Integráljuk a $$ \\cos(x) e^{-(x^2+y^2)} $$ függvényt az alábbi két integrálási tartományon:\n",
        "- egy origó központú egységnyi hosszú négyzeten \n",
        "- az origó központú egység körlapon!"
      ]
    },
    {
      "cell_type": "code",
      "metadata": {
        "id": "-8Z6JNdkrGK6",
        "colab_type": "code",
        "colab": {}
      },
      "source": [
        "# Az integrandus definiálása\n",
        "def func(x,y):\n",
        "    return cos(x)*exp(-x**2-y**2)"
      ],
      "execution_count": 0,
      "outputs": []
    },
    {
      "cell_type": "markdown",
      "metadata": {
        "id": "iINXq6i9rGK8",
        "colab_type": "text"
      },
      "source": [
        "A `dblquad` első paramétere megint az integrálandó függvény. A második és harmadik bemenő paraméter az integrandusfüggvény első paraméterének határait adja meg. A negyedik és ötödik bemenő paraméter az első integrálási változó függvényeként kifejezve a második integrálási változó határai. A legegyszerűbb esetben ezek valamilyen konstansfüggvények. \n",
        "Az első integrálási tartomány tehát így számítható :"
      ]
    },
    {
      "cell_type": "code",
      "metadata": {
        "id": "9YKxtTtbrGK9",
        "colab_type": "code",
        "colab": {},
        "outputId": "5d694880-81dd-4324-f302-b65cc8f47b8c"
      },
      "source": [
        "dblquad(func, -1/2, 1/2, lambda x:-1/2, lambda x:1/2)"
      ],
      "execution_count": 0,
      "outputs": [
        {
          "output_type": "execute_result",
          "data": {
            "text/plain": [
              "(0.8183636555228812, 9.085661728779128e-15)"
            ]
          },
          "metadata": {
            "tags": []
          },
          "execution_count": 11
        }
      ]
    },
    {
      "cell_type": "markdown",
      "metadata": {
        "id": "9OfN5TO-rGK_",
        "colab_type": "text"
      },
      "source": [
        "A második integrálási tartományban az $x$ változó függvényében kell paraméterezni az $y$ változó szélső értékeit. Ha az integrálási tartomány az egység sugarú körlap, akkor az alsó határt a $y(x)=-\\sqrt{1-x^2}$, a felső határt pedig a $y(x)=\\sqrt{1-x^2}$ adja:"
      ]
    },
    {
      "cell_type": "code",
      "metadata": {
        "id": "m4s_OEhrrGK_",
        "colab_type": "code",
        "colab": {},
        "outputId": "2aa92b64-6883-42b0-dcf7-16bfb2443b1e"
      },
      "source": [
        "dblquad(func,-1,1,lambda x:-sqrt(1-x**2),lambda x:sqrt(1-x**2))"
      ],
      "execution_count": 0,
      "outputs": [
        {
          "output_type": "execute_result",
          "data": {
            "text/plain": [
              "(1.7860608962993605, 2.211336003199449e-09)"
            ]
          },
          "metadata": {
            "tags": []
          },
          "execution_count": 12
        }
      ]
    },
    {
      "cell_type": "markdown",
      "metadata": {
        "id": "XEj0WmbprGLB",
        "colab_type": "text"
      },
      "source": [
        "# Differenciálegyenletek"
      ]
    },
    {
      "cell_type": "markdown",
      "metadata": {
        "id": "Tyd3hajcrGLC",
        "colab_type": "text"
      },
      "source": [
        "Amint azt a bevezetőben is említettük, a fizikai törvények jelentős része a differenciálegyenletek nyelvén van megfogalmazva. \n",
        "Az alábbiakban megismerkedünk az `odeint` rutinnal amely differenciálegyenletek numerikus megoldását tesz lehetővé. "
      ]
    },
    {
      "cell_type": "code",
      "metadata": {
        "id": "q6BlWkLYrGLC",
        "colab_type": "code",
        "colab": {}
      },
      "source": [
        "from scipy.integrate import * # ez kell a diffegyenletekhez is!!"
      ],
      "execution_count": 0,
      "outputs": []
    },
    {
      "cell_type": "markdown",
      "metadata": {
        "id": "Dp7l3GAxrGLE",
        "colab_type": "text"
      },
      "source": [
        "Egy egyenletet differenciálegyenletnek hívunk, ha a meghatározandó függvény deriváltjai szerepelnek benne. Egy egyszerű differenciálegyenletre jutunk például, ha megvizsgáljuk egy kondenzátor töltésének időbeli válltozását! \n",
        "<img src=\"http://fizipedia.bme.hu/images/e/e0/RC_k%C3%B6r.JPG\" width=300></img>\n"
      ]
    },
    {
      "cell_type": "markdown",
      "metadata": {
        "id": "ffeM0uFfrGLF",
        "colab_type": "text"
      },
      "source": [
        "A kondenzátoron felhalmozott $Q$ töltés meghatározására induljunk ki a Kirchhoff-féle huroktörvényből, amit a fenti ábrán látható áramkörre írtunk fel:\n",
        "$$ \\varepsilon= \\underbrace{I R}_{U_R}+ \\underbrace{\\frac{Q}{C}}_{U_C} = \\frac{\\mathrm{d}Q}{\\mathrm{d}t}R+\\frac{Q}{C}$$\n",
        "\n",
        "A megoldandó differenciálegyenlet tehát:\n",
        "\n",
        "$$ \\frac{\\mathrm{d}Q}{\\mathrm{d}t}= \\frac{\\varepsilon}{R}-\\frac{Q}{RC} $$\n",
        "\n",
        "Tegyük fel, hogy a kezdetben üres volt a kondenzátor, tehát $Q(0)=0$, és számoljunk az $\\varepsilon=1\\mathrm{V}$, $R=1\\mathrm{M}\\Omega$ és $C=100nF$ paraméterekkel!"
      ]
    },
    {
      "cell_type": "code",
      "metadata": {
        "id": "39a2HS92rGLF",
        "colab_type": "code",
        "colab": {}
      },
      "source": [
        "# Paraméterek definiálása\n",
        "epsilon=1\n",
        "R=1.0e6\n",
        "C=1.0e-7"
      ],
      "execution_count": 0,
      "outputs": []
    },
    {
      "cell_type": "markdown",
      "metadata": {
        "id": "kSjDUC6ZrGLH",
        "colab_type": "text"
      },
      "source": [
        "Az `odeint` függvény hívásához szükség van a paramétereken kívül a növekményfüggvényre (azaz a fenti egyenlet jobb oldalára), definiáljuk most ezt:"
      ]
    },
    {
      "cell_type": "code",
      "metadata": {
        "id": "D59Xp5VPrGLI",
        "colab_type": "code",
        "colab": {}
      },
      "source": [
        "def RCkor(q,t):   \n",
        "    return epsilon/R-q/(R*C)"
      ],
      "execution_count": 0,
      "outputs": []
    },
    {
      "cell_type": "markdown",
      "metadata": {
        "id": "vzSBaxdxrGLL",
        "colab_type": "text"
      },
      "source": [
        "Most már készen vagyunk arra, hogy meghívjuk a differenciál egyenlet megoldó függvényt! Az `odeint` alapvetően három bemenő paramétert vár. Az első a fent definiált növekményfüggvény, a második a meghatározandó függvény kezdeti értéke, a harmadik pedig azon időpontok halmaza, ahol kíváncsiak vagyunk a megoldásra. A függvény visszatérési értéke maga a keresett adatsor."
      ]
    },
    {
      "cell_type": "code",
      "metadata": {
        "id": "d6OSRZEYrGLM",
        "colab_type": "code",
        "colab": {}
      },
      "source": [
        "t=linspace(0,1,1000) # ezek az érdekes idő pillanatok\n",
        "q0=0 # A töltés kezdeti értéke\n",
        "q=odeint(RCkor,q0,t) # itt oldjuk meg a diffegyenletet"
      ],
      "execution_count": 0,
      "outputs": []
    },
    {
      "cell_type": "markdown",
      "metadata": {
        "id": "XpMcli6KrGLO",
        "colab_type": "text"
      },
      "source": [
        "Most már csak ábrázolni kell!"
      ]
    },
    {
      "cell_type": "code",
      "metadata": {
        "id": "TXJvfdfqrGLO",
        "colab_type": "code",
        "colab": {},
        "outputId": "5aad4f5b-35d4-4311-85e9-f71127031d23"
      },
      "source": [
        "plot(t,q/C,lw=3)\n",
        "xlabel(r'$t$[s]',fontsize=20)\n",
        "ylabel(r'$Q/C$[V]',fontsize=20)\n",
        "grid()"
      ],
      "execution_count": 0,
      "outputs": [
        {
          "output_type": "display_data",
          "data": {
            "image/png": "[encoded data removed]",
            "text/plain": [
              "<matplotlib.figure.Figure at 0x7feb3c914400>"
            ]
          },
          "metadata": {
            "tags": []
          }
        }
      ]
    },
    {
      "cell_type": "markdown",
      "metadata": {
        "id": "2OSqoBDBrGLQ",
        "colab_type": "text"
      },
      "source": [
        "Vizsgáljunk meg egy másik példát ! Legyen ez egy rugóval rögzített test, mely egy vonal mentén súrlódás nélkül tud mozogni.\n",
        "<img src=\"https://i1.wp.com/www.paroc.com/knowhow/sound/~/media/Images/Knowhow/Sound/The-ideal-mass-spring-system-3244099.ashx\" width=300></img>\n",
        "\n",
        "Ennek a mozgásnak az egyenlete Newton szerint, \n",
        "\n",
        "$$m\\frac{\\mathrm{d}^2x}{\\mathrm{d}t^2}(t)=-kx(t)$$\n",
        "\n",
        "Írjuk át ezt az időben másodrendű differenciálegyenletet két időben elsőrendű differenciálegyenletre! \n",
        "\n",
        "$$\\frac{\\mathrm{d}x}{\\mathrm{d}t}(t)=v(t)$$\n",
        "\n",
        "$$m \\frac{\\mathrm{d}v}{\\mathrm{d}t}(t)=-k x(t)$$\n",
        "\n",
        "\n",
        "Általában minden magasabb rendű differenciálegyenlet rendje hasonló módon csökkenthető. Azaz a legáltalánosabb esetben is új ismeretlen függvények bevezetésével elsőrendű differenciálegyenlet-rendszer megoldására tudjuk redukálni a problémánkat!\n",
        "\n",
        "Vizsgáljuk meg azt az esetet, ha $m=k=1$ !\n",
        "Most a növekményfüggvényünk egy kételemű vektort kell, hogy kezeljen!"
      ]
    },
    {
      "cell_type": "code",
      "metadata": {
        "id": "WfEmA7BPrGLR",
        "colab_type": "code",
        "colab": {}
      },
      "source": [
        "def f(u, t):\n",
        "    x=u[0] # az u első komponense a kitérés\n",
        "    v=u[1] # az u második komponense a sebesség\n",
        "        \n",
        "    return  [v,-x] # ez maga a növekmény kiértékelése "
      ],
      "execution_count": 0,
      "outputs": []
    },
    {
      "cell_type": "markdown",
      "metadata": {
        "id": "dq4SiFLErGLS",
        "colab_type": "text"
      },
      "source": [
        "Oldjuk meg az egyenleteket úgy, hogy kezdetben a kitérés 1, a kezdősebesség pedig nulla!"
      ]
    },
    {
      "cell_type": "code",
      "metadata": {
        "id": "yOke3qM2rGLT",
        "colab_type": "code",
        "colab": {}
      },
      "source": [
        "t=linspace(0,20,1000); # az idő intervallum\n",
        "u0 = [1,0] # kezdeti érték x-re és v-re\n",
        "u=odeint(f,u0,t) # itt történik a diffegyenlet megoldása"
      ],
      "execution_count": 0,
      "outputs": []
    },
    {
      "cell_type": "code",
      "metadata": {
        "id": "3ERxzdA0rGLV",
        "colab_type": "code",
        "colab": {},
        "outputId": "36e71154-6766-4caa-9d6c-5be391c0e238"
      },
      "source": [
        "plot(t,u[:,0],label=r'$x(t)$ pozicio')\n",
        "plot(t,u[:,1],label=r'$v(t)$ sebesseg')\n",
        "legend(fontsize=20)\n",
        "xlabel(r'$t$[s]',fontsize=20)\n",
        "grid()"
      ],
      "execution_count": 0,
      "outputs": [
        {
          "output_type": "display_data",
          "data": {
            "image/png": "[encoded data removed]",
            "text/plain": [
              "<matplotlib.figure.Figure at 0x7feb4c0a7518>"
            ]
          },
          "metadata": {
            "tags": []
          }
        }
      ]
    }
  ]
}