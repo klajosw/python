{
  "nbformat": 4,
  "nbformat_minor": 0,
  "metadata": {
    "colab": {
      "name": "Copy of kl_web_korpusz_01.ipynb",
      "version": "0.3.2",
      "provenance": [],
      "collapsed_sections": [],
      "include_colab_link": true
    },
    "kernelspec": {
      "name": "python3",
      "display_name": "Python 3"
    }
  },
  "cells": [
    {
      "cell_type": "markdown",
      "metadata": {
        "id": "view-in-github",
        "colab_type": "text"
      },
      "source": [
        "<a href=\"https://colab.research.google.com/github/klajosw/python/blob/master/Copy_of_kl_web_korpusz_01.ipynb\" target=\"_parent\"><img src=\"https://colab.research.google.com/assets/colab-badge.svg\" alt=\"Open In Colab\"/></a>"
      ]
    },
    {
      "cell_type": "markdown",
      "metadata": {
        "id": "qZcYc3e4T7Fu",
        "colab_type": "text"
      },
      "source": [
        "# WEB lapról korpusz gyüjtés\n",
        "\n",
        "## Szöveg elemzés:\n",
        "\n",
        "**korpusz** – Nyelvészeti céllal összegyűjtött nagy mennyiségű szöveg vagy szövegek összessége. \n",
        "\n",
        "A korpusz egyik fontos tulajdonsága a mérete, azonban a használhatóságát nagyban befolyásolja a kiegyensúlyozottsága: a szövegei mennyire reprezentatívak. \n",
        "\n",
        "A többféle forrásból és változatos műfajból származó szövegekből felépülő korpusz általában jobban reprezentálja a nyelvet, általános nyelvészeti kutatásokat jobban ki tud szolgálni.\n",
        "\n",
        "\n",
        "Ez lehetőséget ad arra, hogy megvizsgáljuk az adott nyelv gyakori struktúráit és ezek időbeli változásait. Használunk a szótövesítés, az ékezetesítés,  a főnévicsoport- felismerés és a mondatvázak módszertanokat is.\n",
        " \n",
        "A Biblia, az egyik legrégebbi és legjobban elemezett korpusz: kb. 600.000 szóból áll.\n",
        "\n",
        "Az internetről elérhető nagyméretű korpuszt hogyan használhatjuk, miként fedezhetjük fel benne a főnévi csoportok és mondatok leggyakoribb mintáit. \n",
        "\n",
        "Fel kell arra is készülni, hogy  a nyelv folyamatosan változik, él\n",
        ", tehát új kifejezések jelennek meg, mások eltűnnek. \n",
        "\n",
        "A web szövegeinek előnye a méretén túl az is, hogy a segítségükkel időbeli változásokat (trendek, gyorsan elterjedő új kifejezések) is ki lehet mutatni.\n",
        "\n",
        "Elvárás lehet tovbbá a szöveg kohéziója, bekezdések és azokon belül a mondatok összefüggése, a duplikátum-mentesség elérése, a minél tisztább, zaj- és reklámmentes, homogén nyelvű szöveg.\n",
        "\n",
        "\n",
        "Informáió, forrás:\n",
        "\n",
        "http://corpus.tools/wiki/Justext\n",
        "\n",
        "https://nlp.fi.muni.cz/projects/justext/\n"
      ]
    },
    {
      "cell_type": "code",
      "metadata": {
        "id": "NxkpHB_MSKNt",
        "colab_type": "code",
        "outputId": "bd968df3-268b-4e26-c10a-35bcaf7f4042",
        "colab": {
          "base_uri": "https://localhost:8080/",
          "height": 1000
        }
      },
      "source": [
        "## !pip install justext  ## csak egyszer telepítésnél\n",
        "import requests\n",
        "import justext\n",
        "\n",
        "response = requests.get(\"https://mierdekel.hu/blog/category/stat/\")\n",
        "paragraphs = justext.justext(response.content, justext.get_stoplist(\"Hungarian\"))  # English, Hungarian\n",
        "for paragraph in paragraphs:\n",
        "    print (paragraph.text)\n",
        "    \n",
        "    "
      ],
      "execution_count": 0,
      "outputs": [
        {
          "output_type": "stream",
          "text": [
            "mierdekel.hu Blog\n",
            "mierdekel.hu Blog\n",
            "Kilépés a tartalomba\n",
            "Kezdőlap\n",
            "Android\n",
            "GDPR\n",
            "Statisztika kategória bejegyzései\n",
            "← Korábbi bejegyzés\n",
            "MOL Bubi adatelemző verseny ‘körbejárása’\n",
            "Közzétéve 2015-09-25 | Szerző:KL_szerzo\n",
            "MOL Bubi üzemelése során összegyűlt nagyméretű adat elemzésének céljából a Budapesti Közlekedési Központ az MTA SZTAKI-val együttműködik és MOL Bubi adatelemzési versenyt hirdet ( BKK és a SZTAKI dolgozók kizárva ). A MOL Bubi adatelemző verseny három feladata: A kiválasztott tesztnapokon … Egy kattintás ide a folytatáshoz…. →\n",
            "Kategória:Informatika, Oktatás, Statisztika|Címke:adatelemzés, bigdata, bubi, gps|Hozzászólás most!\n",
            "Talend lte eszköz bemutatása\n",
            "Közzétéve 2015-06-17 | Szerző:KL_szerzo\n",
            "A Talend egyedüli OpenSource szállítóként bekerült a Gartner DataIntegration Magic Quadrant-ba. Érdekes fizetős termékük az adat minőség management (DQM) megoldásuk, ami önállóan és a Talend-es job-okba integráltan is tud működni. A szokásos “gyors” rendszer integrációs feladatoknál tud nagyon eredményes lenni. … Egy kattintás ide a folytatáshoz…. →\n",
            "Kategória:Informatika, Oktatás, Statisztika|Címke:Eclipse, elt, java, talend|Hozzászólás most!\n",
            "WEB GIS szabványok\n",
            "Közzétéve 2015-06-10 | Szerző:KL_szerzo\n",
            "Nyílt szabványok és a WebGIS – OGC: Open Geospatial Consortium, non-profit, nemzetközi konzorcium, mely élen jár földrajzi, illetve térbeli adatokhoz kötődő szabványok fejlesztésében – A legfontosabb OGC szabványok térbeli adatok webes publikálásához kötődnek, ezek a WMS, WFS, WCS – WMS: … Egy kattintás ide a folytatáshoz…. →\n",
            "Kategória:Informatika, Oktatás, Statisztika|Címke:gis, WEB|Hozzászólás most!\n",
            "Universal Analytics (UA) alapok\n",
            "Közzétéve 2015-06-06 | Szerző:KL_szerzo\n",
            "Universal Analytics, a Google Analytics újragondolt tovább fejlesztett változata. Bevezetésével új struktúrák kerülnek felhasználásra és cserélni kell a mérőkódokat weboldalainkban. A fő hangsúly a fogyasztói szokások és a felhasználók viselkedésének mélyreható, részletes megismerésre helyeződik. – KÖVETŐKÓDOK KEZELÉSE A Universal Analytics … Egy kattintás ide a folytatáshoz…. →\n",
            "Kategória:Felmérő, Informatika, Oktatás, Statisztika|Címke:Analytics, Universal|Hozzászólás most!\n",
            "Google Analytics alapjai\n",
            "Közzétéve 2015-06-04 | Szerző:KL_szerzo\n",
            "Google Analytics egy webanalitika szoftver amely statisztikai elemzések végrehajtására alkalmas. Az egyik legfontosabb feladata, hogy támogassa a látogatók szám növelési elvárásunkat. A Google Analytics a Google mindenki számára rendelkezésre álló, egy egyszerű regisztráció után használható ingyenes webanalitikai szoftvere. – Elérési … Egy kattintás ide a folytatáshoz…. →\n",
            "Kategória:Informatika, Statisztika|Címke:Analytics, google, statisztika|Hozzászólás most!\n",
            "Oracle DB trükkök 1. Rekord/sor generátor (Row Generator):\n",
            "Közzétéve 2015-03-11 | Szerző:KL_szerzo\n",
            "A terv adatoknál, előjelzések és egyéb más adat vetítéshez szükség lehet egy referencia adattáblára (12 hó, 365 nap, …) amelyre ráhúzzuk a számolási szabályokat. Általában a dual táblát használhatjuk az egyszerű függvény érték kiszámítás megjelenítésére pl.: logaritmus select log(2,3456) as … Egy kattintás ide a folytatáshoz…. →\n",
            "Kategória:Informatika, Oktatás, Statisztika|Címke:generátor, oracle|Hozzászólás most!\n",
            "Táblázatkezelők alapjai\n",
            "Közzétéve 2015-03-09 | Szerző:KL_szerzo\n",
            "A táblázatkezelő programok olyan cél programok, amely adatbevitelre, adatokkal végzett számításokra, elemzésekre és adatok grafikus megjelenítésére alkalmasak. A táblázatban egy speciális szerkezet, mely keretrendszerben ha az adatot módosítunk, akkor az eredmények azonnal módosulnak, így mindig a pontos eredményeket (számolt eredményeket) látjuk, ezért … Egy kattintás ide a folytatáshoz…. →\n",
            "Kategória:Informatika, Oktatás, Statisztika|Címke:táblázat, táblázatkezelő|Hozzászólás most!\n",
            "Egy vállalkozásnak annyi mindent kell nyilvántartania és ellenőrzésre azonnal átadni\n",
            "Közzétéve 2015-01-31 | Szerző:KL_szerzo\n",
            "Ellenőrzésre lehet mindig számítani, de mit is ellenőriznek? Gondoljuk át a kis mintánkat 6 ember 2 épület vonatkoztatásában 2 évre: Munkavállalókkal kapcsolatban: 1. Végzettség, szakképzettség igazolása (diploma, szakképzettség oklevele); 2. Különböző regisztrációs kártya és diplomamásolat 3. Munkaszerződés(ek); 4. Munkaköri leírás(ok); 5. Munka- … Egy kattintás ide a folytatáshoz…. →\n",
            "Kategória:Informatika, Oktatás, Statisztika|Címke:dokumentumok, ellenőrzések|Hozzászólás most!\n",
            "Üzleti intelligencia => Business Intelligence (BI) alapfogalmai\n",
            "Közzétéve 2014-12-16 | Szerző:KL_szerzo\n",
            "Üzleti intelligencia BI technológiák célja Az üzleti döntéshozást megkönnyítendő adathalmazok feltárása, feldolgozása, ere épülő kimutatások, statisztikák, elemzések létrehozása és felhasználása a szervezet összes szintjén úgy, hogy az a üzleti döntéshozás támogatás valós időben komplex rendszerként valósuljon meg. A cégek az adathalmazai természetesen a normál ügymenetből származó adatokkal … Egy kattintás ide a folytatáshoz…. →\n",
            "Kategória:Egyéb, Informatika, Statisztika|Címke:adatárház, DWH|Hozzászólás most!\n",
            "Django (python WEB keretrendszer)\n",
            "Közzétéve 2014-12-05 | Szerző:KL_szerzo\n",
            "A Django egy nyílt forráskódú, magas szintű Python alapú keretrendszer mely folyamatos fejlesztés alatt áll. A Django tehát egy Python programozási nyelven írt keretrendszer, amely segítségével gyorsan tudunk weboldalakat készíteni. Fő funcionalitása a bonyolult, adatbázis alapú weboldalak készítésésének támogatása. ( … Egy kattintás ide a folytatáshoz…. →\n",
            "Kategória:Informatika, Oktatás, Statisztika|Címke:django, Python|Hozzászólás most!\n",
            "← Korábbi bejegyzés\n",
            "Keresés:\n",
            "Legutóbbi bejegyzések\n",
            "Android alapok\n",
            "Adatmodellezés alapjai PowerDesignerrel\n",
            "Adatmodellezés alapjai SqlDeveloperrel\n",
            "Oracle SQL haladó minták\n",
            "Szoftver fejlesztés mint folyamat\n",
            "Legutóbbi hozzászólások\n",
            "Archívum\n",
            "2018 augusztus\n",
            "2018 július\n",
            "2015 december\n",
            "2015 november\n",
            "2015 október\n",
            "2015 szeptember\n",
            "2015 augusztus\n",
            "2015 július\n",
            "2015 június\n",
            "2015 május\n",
            "2015 április\n",
            "2015 március\n",
            "2015 február\n",
            "2015 január\n",
            "2014 december\n",
            "2014 november\n",
            "2014 október\n",
            "2014 szeptember\n",
            "2014 augusztus\n",
            "2014 július\n",
            "2014 május\n",
            "2014 március\n",
            "2014 február\n",
            "2014 január\n",
            "Kategóriák\n",
            "Egyéb\n",
            "Felmérő\n",
            "Hoby\n",
            "Informatika\n",
            "Más\n",
            "Oktatás\n",
            "Statisztika\n",
            "Személyiség\n",
            "Meta\n",
            "Bejelentkezés\n",
            "RSS (bejegyzés)\n",
            "RSS (hozzászólás)\n",
            "WordPress.org\n",
            "mierdekel.hu Blog\n",
            "Köszönjük WordPress!\n",
            "This website uses cookies to improve your experience. We'll assume you're ok with this, but you can opt-out if you wish.\n",
            "A weboldalunkon cookie-kat használunk, hogy a legjobb felhasználói élményt nyújthassukOK / ElfogadásMore info / további infó\n",
            "GDPR & Cookies\n"
          ],
          "name": "stdout"
        }
      ]
    },
    {
      "cell_type": "markdown",
      "metadata": {
        "id": "Ff_1hWOeVRH8",
        "colab_type": "text"
      },
      "source": [
        "# JusText algoritmus \n",
        "## (Pomikálek 2011)\n",
        "\n",
        "A JusText algoritmus  a HTML-tartalmat bekezdésekre bontja a szöveget tartalmazó címkék mentén. \n",
        "\n",
        "Minden egységben megszámolja a benne szereplő szavak, linkek és stopword-ök számát. \n",
        "\n",
        "*(A stopword azokat a szavakat jelenti, amelyeket egy rendszer figyelmen kívül hagy a feldolgozás során. Általában ezek egy nyelv leggyakoribb szavai (a, az, és, hogy stb.) és feladatonként eltérő lehet a listájuk.)*\n",
        "\n",
        "Ezek alapján osztályozza őket: bizonyos küszöb mentén \n",
        "- jó, \n",
        "- majdnem jó \n",
        "- illetve rossz \n",
        "kategóriákba. \n",
        "\n",
        "Majd a jókkal körülvett majdnem jók szintén bekerülnek a jók közé, és így születik meg az értékes szöveg: a jó bekezdések. \n",
        "\n",
        "Az algoritmus elfogadható minőséget ad még extrém oldalakon is. "
      ]
    },
    {
      "cell_type": "code",
      "metadata": {
        "id": "xS5nb7xmVVcr",
        "colab_type": "code",
        "outputId": "e015147c-70f0-4506-b6c0-5b5c378d5c7f",
        "colab": {
          "base_uri": "https://localhost:8080/",
          "height": 146
        }
      },
      "source": [
        "## Segítség kiíratása\n",
        "help(justext.justext)\n"
      ],
      "execution_count": 0,
      "outputs": [
        {
          "output_type": "stream",
          "text": [
            "Help on function justext in module justext.core:\n",
            "\n",
            "justext(html_text, stoplist, length_low=70, length_high=200, stopwords_low=0.3, stopwords_high=0.32, max_link_density=0.2, max_heading_distance=200, no_headings=False, encoding=None, default_encoding='utf8', enc_errors='replace', preprocessor=<function preprocessor at 0x7f3c5c89f8c8>)\n",
            "    Converts an HTML page into a list of classified paragraphs. Each paragraph\n",
            "    is represented as instance of class ˙˙justext.paragraph.Paragraph˙˙.\n",
            "\n"
          ],
          "name": "stdout"
        }
      ]
    },
    {
      "cell_type": "markdown",
      "metadata": {
        "id": "TwXzYA-gjyfm",
        "colab_type": "text"
      },
      "source": [
        "# Lemmatizáció \n",
        "\n",
        "\n",
        "Lemmatizálónak nevezzük azokat az eszközöket, amelyek mindig a szótárírói hagyománynak megfelelő reprezentáns alakot, a lemmát adják vissza.\n",
        "\n",
        "\n",
        "A lemmatizáló algoritmus lényege az, hogy a tő építésekor az abban szereplő morfémák felszíni alakját használjuk fel, kivéve az utolsó tőalkotó morfémát: ennek a szótári alakja szerepel a tőben. TeFontos kérdés, hogy mely morfémák számítanak tőalkotónak, és melyek nem.\n",
        "\n",
        "\n",
        "\n",
        "## Stemmer\n",
        "\n",
        "Stemmernek nevezünk minden olyan eszközt, amely valamilyen tőalakot létrehoz az adott szóalakhoz.\n",
        "Itt fel kell készülni, hogy :\n",
        "- a létrehozás bármiféle megszorítás nélkül történhet. \n",
        "- a talált alak valóban az adott lexéma paradigmájának valamelyik tagja legyen, vagy akár csak létező szóalak legyen az adott nyelven. \n",
        "\n",
        "\n",
        "Az általános, szótárt nem tartalmazó gyors algoritmikus tövesítő algoritmusok a szóalak csonkolásával gyakran ilyen tőalakokat hoznak létre.\n",
        "\n",
        "\n",
        "Egy komplex szövegfeldolgozási feladat megoldása általában feltételez egy olyan algoritmust, amely képes a szövegekben szereplő szavak tövének vagy lehetséges töveinek megállapítására.\n",
        "\n",
        "\n",
        "A bonyolult morfológiájú nyelvek esetében fontos szerepe lehet, hiszen egy-egy lexémának a szövegekben előforduló rengeteg különböző toldalékolt alakja lehet és csak így képezhető le egy közös formára, amelynek segítségével a ragozott alakok mind megtalálhatóak.\n",
        "\n",
        "\n",
        "\n",
        "Általában egy szónak több is töve lehet, és ritka esetektől (például szóviccektől) eltekintve ezek közül csak egy a valódi töve egy adott környezetben. Azonban a tövesítő modulok bemenete általában csak egy szó (szövegkörnyezet nélkül), és az IR rendszerek architektúrája is szó alapon hívja a tövesítőket\n"
      ]
    },
    {
      "cell_type": "code",
      "metadata": {
        "colab_type": "code",
        "outputId": "41d15120-73c2-4f55-8923-3d29be4fb831",
        "id": "Q8X8qTVKu6k4",
        "colab": {
          "base_uri": "https://localhost:8080/",
          "height": 201
        }
      },
      "source": [
        "## !pip install  nltk  ## csak egyszer kell installálni\n",
        "## modul importálás\n",
        "import requests\n",
        "from bs4 import BeautifulSoup    \n",
        "\n",
        "#import nltk\n",
        "# nltk.download(\"stopwords\")  ## Le kell tölteni a stop szavakat\n",
        "\n",
        "## deffinicio\n",
        "def Get_kl_beautibulsoup():\n",
        "    page = requests.get(\"https://mierdekel.hu/blog/category/stat/\")\n",
        "#    print ( page.status_code) ## WEB lap státusz kódja : 200\n",
        "#    print ( page.content)     ## WEB lap tartalom közvetlen kiíratása\n",
        "    soup = BeautifulSoup(page.content, 'html.parser')\n",
        "#    print (soup())            ## WEB lap tartalom közvetlen kiíratása\n",
        "#    print(soup.prettify())    ## WEB lap tartalom közvetlen kiíratása\n",
        "    soup = BeautifulSoup(page.content, 'html.parser')\n",
        "    print(\"---1---\")\n",
        "    print (soup.find_all('p')[0].get_text())  ## Első bekezdés tartalma\n",
        "    print(\"---2---\")\n",
        "    print (soup.find_all('p')[1].get_text())  ## Második bekezdés tartalma\n",
        "    print(\"---3---\")\n",
        "    print (soup.find_all('p')[2].get_text())  ## Harmadik bekezdés tartalma\n",
        "    print(\"--4----\")\n",
        "    txt=  (soup.find_all('p')[3].get_text())\n",
        "    print (txt)  ## Negyedik bekezdés tartalma\n",
        "    print(\"---Vége---\")\n",
        "    \n",
        "  \n",
        "## használat\n",
        "if __name__ ==\"__main__\":\n",
        "     Get_kl_beautibulsoup()\n",
        " \n",
        "    \n",
        "    \n",
        "\n",
        "\n",
        "\n"
      ],
      "execution_count": 0,
      "outputs": [
        {
          "output_type": "stream",
          "text": [
            "---1---\n",
            "MOL Bubi üzemelése során összegyűlt nagyméretű adat elemzésének céljából a Budapesti Közlekedési Központ az MTA SZTAKI-val együttműködik és MOL Bubi adatelemzési versenyt hirdet ( BKK és a SZTAKI dolgozók kizárva ). A MOL Bubi adatelemző verseny három feladata: A kiválasztott tesztnapokon … Egy kattintás ide a folytatáshoz…. →\n",
            "---2---\n",
            "A Talend egyedüli OpenSource szállítóként bekerült a Gartner DataIntegration Magic Quadrant-ba. Érdekes fizetős termékük az adat minőség management (DQM) megoldásuk, ami önállóan és a Talend-es job-okba integráltan is tud működni. A szokásos “gyors” rendszer integrációs feladatoknál tud nagyon eredményes lenni. … Egy kattintás ide a folytatáshoz…. →\n",
            "---3---\n",
            "Nyílt szabványok és a WebGIS – OGC: Open Geospatial Consortium, non-profit, nemzetközi konzorcium, mely élen jár földrajzi, illetve térbeli adatokhoz kötődő szabványok fejlesztésében – A legfontosabb OGC szabványok térbeli adatok webes publikálásához kötődnek, ezek a WMS, WFS, WCS – WMS: … Egy kattintás ide a folytatáshoz…. →\n",
            "--4----\n",
            "Universal Analytics, a Google Analytics újragondolt tovább fejlesztett változata. Bevezetésével új struktúrák kerülnek felhasználásra és cserélni kell a mérőkódokat weboldalainkban. A fő hangsúly a fogyasztói szokások és a felhasználók viselkedésének mélyreható, részletes megismerésre helyeződik. – KÖVETŐKÓDOK KEZELÉSE A Universal Analytics … Egy kattintás ide a folytatáshoz…. →\n",
            "---Vége---\n"
          ],
          "name": "stdout"
        }
      ]
    },
    {
      "cell_type": "code",
      "metadata": {
        "id": "ZrjzH6fvxfZo",
        "colab_type": "code",
        "outputId": "283284b9-3154-47ad-c3e2-d189368a35c1",
        "colab": {
          "base_uri": "https://localhost:8080/",
          "height": 1000
        }
      },
      "source": [
        "import requests\n",
        "from bs4 import BeautifulSoup    \n",
        "import nltk\n",
        "\n",
        "nltk.download(\"stopwords\")  ## Le kell tölteni a stop szavakat\n",
        "\n",
        "from nltk.tokenize import RegexpTokenizer\n",
        "\n",
        "def kl_plot_word_freq(url):\n",
        "    \"\"\"Takes a url (from Project Gutenberg) and plots a word frequency\n",
        "    distribution\"\"\"\n",
        "    # Make the request and check object type\n",
        "    r = requests.get(url)\n",
        "    # Extract HTML from Response object and print\n",
        "    html = r.text\n",
        "    # Create a BeautifulSoup object from the HTML\n",
        "    soup = BeautifulSoup(html, \"html5lib\")\n",
        "    # Get the text out of the soup and print it\n",
        "    text = soup.get_text()\n",
        "    # Create tokenizer\n",
        "    tokenizer = RegexpTokenizer('\\w+')\n",
        "    # Create tokens\n",
        "    tokens = tokenizer.tokenize(text)\n",
        "    # Initialize new list\n",
        "    words = []\n",
        "    # Loop through list tokens and make lower case\n",
        "    for word in tokens:\n",
        "        words.append(word.lower())\n",
        "    # Get English stopwords and print some of them\n",
        "    sw = nltk.corpus.stopwords.words('english')\n",
        "    # Initialize new list\n",
        "    words_ns = []\n",
        "    # Add to words_ns all words that are in words but not in sw\n",
        "    for word in words:\n",
        "        if word not in sw:\n",
        "            words_ns.append(word)\n",
        "    # Create freq dist and plot\n",
        "    freqdist1 = nltk.FreqDist(words_ns)\n",
        "    freqdist1.plot(25)\n",
        "    \n",
        "## használat  \n",
        "print('Gutenberg: Pride and Prejudice')\n",
        "kl_plot_word_freq('https://www.gutenberg.org/files/42671/42671-h/42671-h.htm')\n",
        "print('Gutenberg: Robinson Crusoe')\n",
        "kl_plot_word_freq('https://www.gutenberg.org/files/521/521-h/521-h.htm')\n",
        "print('Mierdekel.hu')\n",
        "kl_plot_word_freq('https://mierdekel.hu/blog/category/stat/')\n"
      ],
      "execution_count": 0,
      "outputs": [
        {
          "output_type": "stream",
          "text": [
            "[nltk_data] Downloading package stopwords to /root/nltk_data...\n",
            "[nltk_data]   Package stopwords is already up-to-date!\n",
            "Gutenberg: Pride and Prejudice\n"
          ],
          "name": "stdout"
        },
        {
          "output_type": "display_data",
          "data": {
            "image/png": "[encoded data removed]",
            "text/plain": [
              "<Figure size 432x288 with 1 Axes>"
            ]
          },
          "metadata": {
            "tags": []
          }
        },
        {
          "output_type": "stream",
          "text": [
            "Gutenberg: Robinson Crusoe\n"
          ],
          "name": "stdout"
        },
        {
          "output_type": "display_data",
          "data": {
            "image/png": "[encoded data removed]",
            "text/plain": [
              "<Figure size 432x288 with 1 Axes>"
            ]
          },
          "metadata": {
            "tags": []
          }
        },
        {
          "output_type": "stream",
          "text": [
            "Mierdekel.hu\n"
          ],
          "name": "stdout"
        },
        {
          "output_type": "display_data",
          "data": {
            "image/png": "[encoded data removed]",
            "text/plain": [
              "<Figure size 432x288 with 1 Axes>"
            ]
          },
          "metadata": {
            "tags": []
          }
        }
      ]
    }
  ]
}