{
  "nbformat": 4,
  "nbformat_minor": 0,
  "metadata": {
    "kernelspec": {
      "display_name": "Python 3",
      "language": "python",
      "name": "python3"
    },
    "language_info": {
      "codemirror_mode": {
        "name": "ipython",
        "version": 3
      },
      "file_extension": ".py",
      "mimetype": "text/x-python",
      "name": "python",
      "nbconvert_exporter": "python",
      "pygments_lexer": "ipython3",
      "version": "3.6.1"
    },
    "colab": {
      "name": "kl_python_alapok2.ipynb",
      "version": "0.3.2",
      "provenance": [],
      "collapsed_sections": [],
      "include_colab_link": true
    }
  },
  "cells": [
    {
      "cell_type": "markdown",
      "metadata": {
        "id": "view-in-github",
        "colab_type": "text"
      },
      "source": [
        "<a href=\"https://colab.research.google.com/github/klajosw/python/blob/master/kl_python_alapok2.ipynb\" target=\"_parent\"><img src=\"https://colab.research.google.com/assets/colab-badge.svg\" alt=\"Open In Colab\"/></a>"
      ]
    },
    {
      "cell_type": "markdown",
      "metadata": {
        "id": "TMqP2t2cJGzU",
        "colab_type": "text"
      },
      "source": [
        "##Függvény készítése és fügvény meghívás"
      ]
    },
    {
      "cell_type": "code",
      "metadata": {
        "id": "fQ9IATAnIsuB",
        "colab_type": "code",
        "colab": {
          "base_uri": "https://localhost:8080/",
          "height": 34
        },
        "outputId": "72ccf77d-ab00-4d25-d2ec-679029a1c6f6"
      },
      "source": [
        "#Föggvény készítése deffiniálása\n",
        "def fug01(x):\n",
        "    y = 0\n",
        "    while(y < x):\n",
        "        y = y + 1\n",
        "        print('Még egy növelés! most :', y )\n",
        "    return('Kész vagyok')\n",
        "  \n",
        "## föggvény meghívása\n",
        "fug01(0)   ## ->  'Kész vagyok'\n"
      ],
      "execution_count": 8,
      "outputs": [
        {
          "output_type": "execute_result",
          "data": {
            "text/plain": [
              "'Kész vagyok'"
            ]
          },
          "metadata": {
            "tags": []
          },
          "execution_count": 8
        }
      ]
    },
    {
      "cell_type": "markdown",
      "metadata": {
        "id": "q_unjpWORAzP",
        "colab_type": "text"
      },
      "source": [
        ""
      ]
    },
    {
      "cell_type": "code",
      "metadata": {
        "id": "4X1T3JcoIsuP",
        "colab_type": "code",
        "colab": {
          "base_uri": "https://localhost:8080/",
          "height": 87
        },
        "outputId": "a7f0ee91-42e5-4fb5-8484-77ad36ec9e07"
      },
      "source": [
        "## Föggvény meghívása\n",
        "print(fug01(3))  ## -# Még egy növelés! most : 1 / Még egy növelés! most : 2 / Még egy növelés! most : 3 / Kész vagyok"
      ],
      "execution_count": 10,
      "outputs": [
        {
          "output_type": "stream",
          "text": [
            "Még egy növelés! most : 1\n",
            "Még egy növelés! most : 2\n",
            "Még egy növelés! most : 3\n",
            "Kész vagyok\n"
          ],
          "name": "stdout"
        }
      ]
    },
    {
      "cell_type": "markdown",
      "metadata": {
        "id": "smMRoReuL--I",
        "colab_type": "text"
      },
      "source": [
        "## Osztály létehozása és példányosítása\n",
        "\n",
        "###Öröklés és működése"
      ]
    },
    {
      "cell_type": "code",
      "metadata": {
        "id": "jXGoTNSvIsuk",
        "colab_type": "code",
        "colab": {
          "base_uri": "https://localhost:8080/",
          "height": 87
        },
        "outputId": "a1beafea-da9a-4a0e-941a-0f2441d03f90"
      },
      "source": [
        "## Osztály deffinició\n",
        "class Cicus:    \n",
        "    def __init__(self, name, color, age, speed):\n",
        "        self.name = name\n",
        "        self.color = color\n",
        "        self.age = age\n",
        "        self.speed = speed\n",
        "        \n",
        "# osztály metodos létre hozása        \n",
        "    def nyavogj(self):\n",
        "        print(\"Miauuu\")\n",
        "\n",
        "\n",
        "# példány létrehozása osztályból       \n",
        "cicus1 = Cicus(\"Cirmi\", \"szürke\", 2, \"gyors\")\n",
        "\n",
        "# példány tulajdonság megjelenítése\n",
        "print(cicus1.name)\n",
        "print(cicus1.age)\n",
        "# osztály metodus meghívása \n",
        "cicus1.nyavogj()\n",
        "\n",
        "# Öröklés és metodussal bővítése\n",
        "class fo_maccsek(Cicus):\n",
        "    def jellemzo(self):\n",
        "        print(\"Én vagyok a király\")\n",
        "        \n",
        "# bővített osztály alapján példányosítás        \n",
        "kedvenc = fo_maccsek(\"Kedvenc\", \"kormi\", 5, \"lassú\")\n",
        "\n",
        "# bővitett metodus használata\n",
        "kedvenc.jellemzo()\n",
        "\n",
        "# cicus.jellemzo()  ## -> ez hibát üzennek mivel a szülőnél még nem volt deffiniálva ez a metodus\n"
      ],
      "execution_count": 19,
      "outputs": [
        {
          "output_type": "stream",
          "text": [
            "Cirmi\n",
            "2\n",
            "Miauuu\n",
            "Én vagyok a király\n"
          ],
          "name": "stdout"
        }
      ]
    },
    {
      "cell_type": "markdown",
      "metadata": {
        "id": "TtbrZpnvR2Yr",
        "colab_type": "text"
      },
      "source": [
        "##Reguláris kifejezések használata\n",
        "### keresés, szürés\n"
      ]
    },
    {
      "cell_type": "code",
      "metadata": {
        "id": "4DluEKpHSCgA",
        "colab_type": "code",
        "colab": {
          "base_uri": "https://localhost:8080/",
          "height": 87
        },
        "outputId": "ca066e50-fe62-4e64-9f9c-fd608814cf5f"
      },
      "source": [
        "# modul metöltése\n",
        "import re\n",
        "szoveg = \"Keresd meg, hogy a Lajos szó szerepel ebben a szövegben vagy sem, persze a lajos szot ne vedd figyelembe. Na csöggedj el megoldható ez is. ha mégsem megy mierdekel@mail.com címre irj.\"\n",
        "\n",
        "# Minta keresés normál\n",
        "van = re.search('lajos', szoveg)\n",
        "if van :\n",
        "  print(van.span()) ## találat poziciója\n",
        "else :\n",
        "  print('Nem található')\n",
        "\n",
        "#összes a betüt\n",
        "osszes = re.findall('a', szoveg, re.IGNORECASE)\n",
        "  \n",
        "if osszes :\n",
        "  print(osszes) ## találat poziciója\n",
        "  \n",
        "# nagybetűvel kazdődő szavakat  \n",
        "nagybetus = re.findall('[A-Z][a-z]*', szoveg)  \n",
        "\n",
        "if nagybetus  :\n",
        "  print(nagybetus)\n",
        "  \n",
        "email = re.findall(\"[\\w\\.-]+@[\\w\\.-]+\", szoveg, re.IGNORECASE)  \n",
        "\n",
        "if email :\n",
        "   print(email)"
      ],
      "execution_count": 43,
      "outputs": [
        {
          "output_type": "stream",
          "text": [
            "(75, 80)\n",
            "['a', 'a', 'a', 'a', 'a', 'a', 'a', 'a', 'a', 'a']\n",
            "['Keresd', 'Lajos', 'Na']\n",
            "['mierdekel@mail.com']\n"
          ],
          "name": "stdout"
        }
      ]
    },
    {
      "cell_type": "markdown",
      "metadata": {
        "id": "tZ8GaveNXzPg",
        "colab_type": "text"
      },
      "source": [
        "## Fle műveletek\n",
        "### File olvasás, írás"
      ]
    },
    {
      "cell_type": "code",
      "metadata": {
        "id": "hy4h1qwgX9oe",
        "colab_type": "code",
        "colab": {
          "base_uri": "https://localhost:8080/",
          "height": 123
        },
        "outputId": "2b078f9b-ddbf-4b95-e8f9-e250250f8f8f"
      },
      "source": [
        "# odul betöltés\n",
        "import os\n",
        "\n",
        "# aktuális munka könyvtár lekérdezése\n",
        "os.getcwd()   ## ->  /content'  (colab-on)\n",
        "\n",
        "#-------------------------\n",
        "\n",
        "# írásra megnyítás (tartalom bekülírás módban)\n",
        "file1 = open(\"minta_file1.txt\", \"w\")\n",
        "\n",
        "# file tartalmáb írás\n",
        "file1.write(\"Új sor besüzása a minta_file1.txt filebe\")\n",
        "\n",
        "# Beírás\n",
        "file1.flush()\n",
        "\n",
        "# File bezárása\n",
        "file1.close\n",
        "\n",
        "#-------------------------\n",
        "\n",
        "# Lezárt File megnyítása olvasásra\n",
        "file1 = open(\"minta_file1.txt\", \"r\")\n",
        "\n",
        "# file tartalmának egy szerű kiolvasása és változóba helyeztése\n",
        "text1 = file1.read()\n",
        "\n",
        "# tartalom kiírása\n",
        "print(text1)\n",
        "\n",
        "# szöveg hossz kiírása\n",
        "print(len(text1))\n",
        "\n",
        "# File lezárása\n",
        "file1.close()\n",
        "\n",
        "#-------------------------\n",
        "\n",
        "# file megnyítása tartalom bővítésre (append mód) 1.\n",
        "file1 = open(\"minta_file1.txt\", \"a\")\n",
        "file1.write(\"\\n Ez eg újabb sor beszürását készíti első két spec karakter az újsort hozza létre \\n ez is új sorba kerül. \")\n",
        "file1.close()\n",
        "\n",
        "# file megnyítása tartalom bővítésre (append mód) 2. !! nem kell a file.close\n",
        "with open(\"minta_file1.txt\", \"a\") as file:\n",
        "    file.write(\"\\n ez is új sorba kerül a szöveg végére füzve\")\n",
        "\n",
        "#------------------------- elelnőrés, kiolvasás és megjelenítés\n",
        "file1 = open(\"minta_file1.txt\", \"r\")\n",
        "text3 = file1.read()\n",
        "print(text3)  \n",
        "\n",
        "\n",
        "# soronkéntik iírás\n",
        "for line in file1:\n",
        "    print(line, end = \"\")\n",
        "\n",
        "    \n",
        "    \n"
      ],
      "execution_count": 53,
      "outputs": [
        {
          "output_type": "stream",
          "text": [
            "Új sor besüzása a minta_file1.txt filebe\n",
            "40\n",
            "Új sor besüzása a minta_file1.txt filebe\n",
            " Ez eg újabb sor beszürását készíti első két spec karakter az újsort hozza létre \n",
            " ez is új sorba kerül. \n",
            " ez is új sorba kerül a szöveg végére füzve\n"
          ],
          "name": "stdout"
        }
      ]
    },
    {
      "cell_type": "markdown",
      "metadata": {
        "id": "CzvJmRpbdGVc",
        "colab_type": "text"
      },
      "source": [
        "# komplex szöveg elemzés\n"
      ]
    },
    {
      "cell_type": "code",
      "metadata": {
        "id": "OIobD-D8dKc-",
        "colab_type": "code",
        "colab": {
          "base_uri": "https://localhost:8080/",
          "height": 107
        },
        "outputId": "0811068c-080e-420f-8bc2-567d032102d3"
      },
      "source": [
        "# Modul betöltése\n",
        "import string\n",
        "\n",
        "\n",
        "def cleanword(word):\n",
        "    \"\"\"\n",
        "    # szöveg tisztítás különleges karaketrektől\n",
        "    #használat\n",
        "    >>> cleanword('?!Zavaros szoveg!?')\n",
        "    'Zavaros szoveg'\n",
        "    \"\"\"\n",
        "    word = word.lstrip('\\'\"?!,;:.+-_=@#$%&*()[]{}/\\\\<>\\n~`')\n",
        "    return word.rstrip('\\'\"?!,;:.+-_=@#$%&*()[]{}/\\\\<>\\n~`')\n",
        "\n",
        "  \n",
        "def has_dashdash(s):\n",
        "    \"\"\"\n",
        "    # a szövegben kettős kötöjel jelenlétének jelzése\n",
        "    >>> has_dashdash('Vigyázz--vagy mégsem')\n",
        "    True\n",
        "    \"\"\"\n",
        "    return '--' in s\n",
        "\n",
        "\n",
        "def extract_words(s):\n",
        "    \"\"\"\n",
        "    # szöveg kivonatoló, szavakká bontás space mentés\n",
        "      >>> extract_words('Egyszer volt hol nam volt.')\n",
        "      ['Egyszer', 'volt', 'hol', 'nem', 'volt']\n",
        "    \"\"\"\n",
        "    s = s.replace('--', ' ')\n",
        "    words = s.split()\n",
        "    for i, word in enumerate(words):\n",
        "        words[i] = cleanword(word).lower()\n",
        "    return words\n",
        " \n",
        "\n",
        "def wordcount(word, wordlist):\n",
        "    \"\"\"\n",
        "    # szó előforduló és pozició számoló\n",
        "      >>> wordcount('volt', ['Egyszer', 'volt', 'hol', 'nem', 'volt'])\n",
        "      ['volt', 2, [1, 4]]\n",
        "    \"\"\"\n",
        "    return [word, wordlist.count(word),  [i for i,x in enumerate(wordlist) if x == word]]\n",
        " \n",
        "\n",
        "def wordset(wordlist):\n",
        "    \"\"\"\n",
        "      >>> wordset(['Egyszer', 'volt', 'hol', 'nem', 'volt'])\n",
        "      ['Egyszer', 'hol', 'nem', 'volt']\n",
        "    \"\"\"\n",
        "    newlist = wordlist[:]\n",
        "    newlist.sort()\n",
        "    uniquewords = []\n",
        "    for word in newlist:\n",
        "        if word not in uniquewords:\n",
        "            uniquewords.append(word)\n",
        "    return uniquewords\n",
        "\n",
        "#--------------------------\n",
        "# Szövegelemzési minta\n",
        "  \n",
        "# elemzendő forrás file betöltése változóba olvasás\n",
        "infile = open('/content/alice_in_wonderland.txt', 'r')\n",
        "text = infile.read()\n",
        "infile.close()\n",
        "\n",
        "\n",
        "# elemző függvények meghívása\n",
        "wordlist = extract_words(text)\n",
        "words = wordset(wordlist)\n",
        "wordcounts = []\n",
        "for word in words:\n",
        "    wordcounts.append(wordcount(word, wordlist))\n",
        "    \n",
        "    \n",
        "# elemzés eredményének kírása    \n",
        "outfile = open('/content/alice_in_wonderland_elemzes.txt', 'w')\n",
        "outfile.write(\"%-18s%s\\n\" % (\"Word\", \"Count\"))\n",
        "outfile.write(\"=======================\\n\")\n",
        "\n",
        "\n",
        "for word in wordcounts:\n",
        "    if word[0] and word[0][0] in string.ascii_letters:\n",
        "        outfile.write(\"%-18s %d -> %30s \\n\" % (word[0], word[1], word[2]))\n",
        "        \n",
        "        # yes és no találat kiírásaa képernyőre is szó, találat száma, pozició tömb a szövegben előfordulás karakterhelyei\n",
        "        if word[0] == 'yes' or  word[0] == 'no' : \n",
        "           print(\"%-18s %d -> %30s \\n\" % (word[0], word[1], word[2]))\n",
        "            \n",
        "\n",
        "# állomány lezárása\n",
        "outfile.close()\n",
        "\n",
        "\n"
      ],
      "execution_count": 60,
      "outputs": [
        {
          "output_type": "stream",
          "text": [
            "no                 90 -> [57, 605, 640, 698, 771, 836, 1070, 1389, 1490, 1897, 1983, 2930, 3076, 3089, 3106, 3655, 3777, 4462, 4913, 4990, 5164, 5512, 5539, 6500, 6730, 6755, 6768, 6781, 6900, 6968, 7069, 7299, 7475, 7735, 8129, 9054, 9885, 10064, 10083, 10267, 10281, 10472, 10473, 10479, 11150, 11185, 11430, 11507, 11872, 12480, 12541, 12544, 12635, 13591, 13593, 14221, 14300, 14347, 14759, 15153, 15188, 16512, 16905, 17420, 17484, 17536, 18193, 19206, 19355, 19397, 19747, 20728, 20735, 20745, 21126, 21675, 21770, 21790, 21791, 22456, 22808, 23245, 23699, 24177, 25280, 25332, 25703, 25937, 26009, 26010] \n",
            "\n",
            "yes                13 -> [621, 5693, 14068, 14745, 14889, 15944, 16798, 20057, 20140, 20292, 21314, 22386, 23719] \n",
            "\n"
          ],
          "name": "stdout"
        }
      ]
    },
    {
      "cell_type": "markdown",
      "metadata": {
        "id": "FbJ4bUqmkkTJ",
        "colab_type": "text"
      },
      "source": [
        "## CSV file kezelése"
      ]
    },
    {
      "cell_type": "code",
      "metadata": {
        "id": "8qbJLP9pjcnU",
        "colab_type": "code",
        "colab": {
          "base_uri": "https://localhost:8080/",
          "height": 34
        },
        "outputId": "d9c98848-8f01-441b-b7b7-f19584fa4ca9"
      },
      "source": [
        "# modul betöltése\n",
        "import csv\n",
        "\n",
        "# olvasásra megnyitas\n",
        "csv1 = open('minta.csv', 'r')\n",
        "\n",
        "# változóba olvasás\n",
        "read = csv.reader(csv1)  \n",
        "\n",
        "#tartalom megjelenitése soronként\n",
        "for row in read:\n",
        "    print(row)\n"
      ],
      "execution_count": 63,
      "outputs": [
        {
          "output_type": "execute_result",
          "data": {
            "text/plain": [
              "['volt', 2, [1, 4]]"
            ]
          },
          "metadata": {
            "tags": []
          },
          "execution_count": 63
        }
      ]
    },
    {
      "cell_type": "markdown",
      "metadata": {
        "id": "EKpkCtbbla3l",
        "colab_type": "text"
      },
      "source": [
        "##WEB-ről file megnyitása"
      ]
    },
    {
      "cell_type": "code",
      "metadata": {
        "colab_type": "code",
        "outputId": "f7aeeadb-f479-46b8-a8d1-8cb8f00ba48b",
        "id": "Qqd6KaXXos0S",
        "colab": {
          "base_uri": "https://localhost:8080/",
          "height": 70
        }
      },
      "source": [
        "# modulok betöltése\n",
        "import csv\n",
        "import requests\n",
        "\n",
        "#WEB cim megadása mint URL\n",
        "url = requests.get(\"https://archive.ics.uci.edu/ml/machine-learning-databases/iris/iris.data\")\n",
        "url.raise_for_status()\n",
        "szoveg=url.content.decode('utf-8') ## utf8 kódolással\n",
        "\n",
        "# újsorok/soronként vágás és beolvasása változóba\n",
        "szoveg2=szoveg.split(\"\\n\")\n",
        "\n",
        "szoveg3=[]\n",
        "for sz in szoveg2:\n",
        "  # veszönként vágás és beolvasása változóba\n",
        "  szoveg3.append(sz.split(\",\"))\n",
        "\n",
        "# megjelenités  \n",
        "for sz2 in range(3): \n",
        "  print(szoveg3[0])"
      ],
      "execution_count": 83,
      "outputs": [
        {
          "output_type": "stream",
          "text": [
            "['5.1', '3.5', '1.4', '0.2', 'Iris-setosa']\n",
            "['5.1', '3.5', '1.4', '0.2', 'Iris-setosa']\n",
            "['5.1', '3.5', '1.4', '0.2', 'Iris-setosa']\n"
          ],
          "name": "stdout"
        }
      ]
    }
  ]
}