{
  "nbformat": 4,
  "nbformat_minor": 0,
  "metadata": {
    "colab": {
      "name": "kl_python_database_01",
      "version": "0.3.2",
      "provenance": [],
      "collapsed_sections": [],
      "toc_visible": true,
      "include_colab_link": true
    },
    "kernelspec": {
      "display_name": "Python 3",
      "name": "python3"
    }
  },
  "cells": [
    {
      "cell_type": "markdown",
      "metadata": {
        "id": "view-in-github",
        "colab_type": "text"
      },
      "source": [
        "<a href=\"https://colab.research.google.com/github/klajosw/python/blob/master/kl_python_database_01.ipynb\" target=\"_parent\"><img src=\"https://colab.research.google.com/assets/colab-badge.svg\" alt=\"Open In Colab\"/></a>"
      ]
    },
    {
      "cell_type": "markdown",
      "metadata": {
        "id": "xetL3kPbe2jx",
        "colab_type": "text"
      },
      "source": [
        "## Python adatbázis kapcsolat létesitese\n",
        "\n",
        "### modul betöltése\n",
        "### kapcsolódás\n",
        "### új tábla létrehozás\n",
        "### induló adatfedltöltés\n",
        "### adatok lekérdezése és megjelenitése\n",
        "\n",
        "Előkészités SqLite adatbázis állomány feltöltése (files menüpontal):\n",
        "/content/mie_pills_periods.s3db\n",
        "\n",
        "![alt text](https://1.bp.blogspot.com/-fV2YWY4OS0c/XUx2rRntgoI/AAAAAAAAWIc/scg02Mh7ifMYcL6FU6SBX5bf4Q0KgS5HACLcBGAs/s1600/colab_py_sqlite_01.jpg)"
      ]
    },
    {
      "cell_type": "code",
      "metadata": {
        "id": "Hv_5u3meiEWa",
        "colab_type": "code",
        "colab": {}
      },
      "source": [
        ""
      ],
      "execution_count": 0,
      "outputs": []
    },
    {
      "cell_type": "code",
      "metadata": {
        "id": "5hCi3rSQfClk",
        "colab_type": "code",
        "outputId": "5b95e969-3c05-43c6-fec9-d1fc90da15f0",
        "colab": {
          "base_uri": "https://localhost:8080/",
          "height": 105
        }
      },
      "source": [
        "## Installálás csak egyszerkel\n",
        "#  !pip install db-sqlite3  \n",
        "\n",
        "import sqlite3 as lite\n",
        "import sys\n",
        "conn = lite.connect(\"/content/mie_pills_periods.s3db\")\n",
        "cur = conn.cursor()\n",
        "\n",
        "#---\n",
        "# cur.execute(\"CREATE TABLE drinks(Id INTEGER PRIMARY KEY AUTOINCREMENT, Name TEXT, Price REAL)\") ## Tábla létrehozása (üres)\n",
        "# cur.execute(\"CREATE TABLE fruits(Id INTEGER PRIMARY KEY AUTOINCREMENT, Name TEXT, Price REAL)\") ## Tábla létrehozása (üres)\n",
        "\n",
        "#--\n",
        "# cur.execute(\"INSERT INTO drinks(Id, Name, Price ) VALUES ( 4, 'NEV01', 12.1 )\")        # Adat feltöltés 1\n",
        "# cur.execute(\"INSERT INTO drinks(Id, Name, Price ) VALUES ( 11, 'NEV11', 112.1 )\")     # Adat feltöltés 2\n",
        "# cur.execute(\"INSERT INTO drinks(Id, Name, Price ) VALUES ( 21, 'NEV21', 42.1 )\")      # Adat feltöltés 3\n",
        "\n",
        "#---\n",
        "## Véglegesités\n",
        "conn.commit()\n",
        "\n",
        "#--- lekérdezés\n",
        "##list(cur.execute(\"select * from periods limit 2;\"))\n",
        "#-1\n",
        "# eredmeny=list(cur.execute(\"select * from drinks limit 2;\"))\n",
        "# print(eredmeny)\n",
        "\n",
        "#-2\n",
        "cur.execute(\"select * from drinks\")\n",
        "rows = cur.fetchall()\n",
        " \n",
        "for row in rows:\n",
        "        print(row)"
      ],
      "execution_count": 0,
      "outputs": [
        {
          "output_type": "stream",
          "text": [
            "(1, 'NEV1', 12.1)\n",
            "(4, 'NEV01', 12.1)\n",
            "(11, 'NEV11', 112.1)\n",
            "(21, 'NEV21', 42.1)\n",
            "(101, 'NEV_01', 42.1)\n"
          ],
          "name": "stdout"
        }
      ]
    },
    {
      "cell_type": "code",
      "metadata": {
        "id": "jSs6qSEHuwj7",
        "colab_type": "code",
        "colab": {}
      },
      "source": [
        ""
      ],
      "execution_count": 0,
      "outputs": []
    }
  ]
}