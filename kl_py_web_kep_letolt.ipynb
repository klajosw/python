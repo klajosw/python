{
  "nbformat": 4,
  "nbformat_minor": 0,
  "metadata": {
    "colab": {
      "name": "kl_py_web_kep_letolt.ipynb",
      "provenance": [],
      "collapsed_sections": [],
      "include_colab_link": true
    },
    "kernelspec": {
      "display_name": "Python 3",
      "language": "python",
      "name": "python3"
    },
    "language_info": {
      "codemirror_mode": {
        "name": "ipython",
        "version": 3
      },
      "file_extension": ".py",
      "mimetype": "text/x-python",
      "name": "python",
      "nbconvert_exporter": "python",
      "pygments_lexer": "ipython3",
      "version": "3.7.4"
    }
  },
  "cells": [
    {
      "cell_type": "markdown",
      "metadata": {
        "id": "view-in-github",
        "colab_type": "text"
      },
      "source": [
        "<a href=\"https://colab.research.google.com/github/klajosw/python/blob/master/kl_py_web_kep_letolt.ipynb\" target=\"_parent\"><img src=\"https://colab.research.google.com/assets/colab-badge.svg\" alt=\"Open In Colab\"/></a>"
      ]
    },
    {
      "cell_type": "markdown",
      "metadata": {
        "id": "ilCp3jdX4iMV",
        "colab_type": "text"
      },
      "source": [
        "<p align=\"left\"> \n",
        "    <img src=\"https://raw.githubusercontent.com/klajosw/python/master/kl_mie_python_logo_250.jpg\" \n",
        "         align=\"left\" width=\"251\" height=\"251\">\n",
        "    \n",
        "</p>\n",
        "\n",
        "\n",
        "<p> </p>\n",
        "\n",
        "\n",
        "\n",
        "# Python webről képek letöltése\n",
        "\n",
        "<https://klajosw.blogspot.com/>\n",
        "\n",
        "\n",
        "---"
      ]
    },
    {
      "cell_type": "markdown",
      "metadata": {
        "id": "KFbSjQxV4iMY",
        "colab_type": "text"
      },
      "source": [
        "\n",
        "\n",
        "## Szép képek letöltése a  https://www.reddit.com/r/EarthPorn/  oldalról\n",
        "\n"
      ]
    },
    {
      "cell_type": "code",
      "metadata": {
        "scrolled": true,
        "id": "wH3R83jP4iMZ",
        "colab_type": "code",
        "colab": {},
        "outputId": "3263aa6e-8cc6-4edb-e9eb-c58e46e40d0c"
      },
      "source": [
        "#!/usr/bin/env python2\n",
        "# coding: utf-8\n",
        "import datetime\n",
        "import urllib.request\n",
        "import json\n",
        "import pprint\n",
        "\n",
        "date_object = datetime.date.today()   \n",
        "\n",
        "def ciklus(urlData) :\n",
        "    ##  urlData = \"https://www.reddit.com/r/EarthPorn/.json?count=25&after=t3_acvbop\"\n",
        "    date_kl = datetime.date.today()   \n",
        "    webURL = urllib.request.urlopen(urlData)\n",
        "    data = webURL.read()\n",
        "    encoding = webURL.info().get_content_charset('utf-8')\n",
        "    dn=json.loads(data.decode(encoding))\n",
        "    a1 = 0\n",
        "    for dn2 in dn['data']['children']:\n",
        "        a1 += 1\n",
        "        aaa = (dn2['data']['url'])\n",
        "        if aaa[-4] == '.' :\n",
        "            print  (aaa)\n",
        "            urllib.request.urlretrieve(aaa,\"c:/Users/User/Documents/kepek/py_kepek/kep3\"+str(date_kl)+\"_\"+str(a1)+\".jpg\")\n",
        "\n",
        "    print('----   KÉSZ   ----')\n",
        "\n",
        "urlData = \"https://www.reddit.com/r/earthporn/.json\" ## jó   \n",
        "# urlData = \"https://www.reddit.com/r/FostTalicska/.json\" ## jó\n",
        "# urlData = \"https://www.reddit.com/r/pics/.json\" ## jó\n",
        "# urlData = \"https://www.reddit.com/r/aww/.json\"  ## jó\n",
        "# urlData = \"https://www.reddit.com/r/food/.json\"  ## jó\n",
        "# urlData = \"https://www.reddit.com/r/natureismetal/.json\"\n",
        "ciklus(urlData)\n"
      ],
      "execution_count": 0,
      "outputs": [
        {
          "output_type": "stream",
          "text": [
            "https://i.redd.it/5gu1hrhhgwg41.jpg\n",
            "https://i.redd.it/dhs70skxfvg41.jpg\n",
            "https://i.redd.it/e8fhhthbgwg41.jpg\n",
            "https://i.redd.it/szl3bv5fszg41.jpg\n",
            "https://i.redd.it/48217tood0h41.jpg\n",
            "https://i.redd.it/mg89v7t9fsg41.jpg\n",
            "https://i.redd.it/v42w1uupwyg41.jpg\n",
            "https://i.redd.it/fc7nuztjkvg41.jpg\n",
            "https://i.redd.it/sc0yagyoyxg41.jpg\n",
            "https://i.redd.it/ji6idn626xg41.jpg\n",
            "https://i.redd.it/97f37mtjbrg41.jpg\n",
            "https://i.imgur.com/HPpKEYG.mp4\n",
            "https://i.redd.it/743htdnbarg41.jpg\n",
            "https://i.redd.it/bzoxu8wxftg41.jpg\n",
            "https://i.redd.it/blh1d4knyqg41.jpg\n",
            "https://i.redd.it/ubm4nrsmcpg41.jpg\n",
            "https://i.redd.it/0k8hid3gzqg41.jpg\n",
            "https://i.redd.it/nkpxjo4u8pg41.gif\n",
            "----   KÉSZ   ----\n"
          ],
          "name": "stdout"
        }
      ]
    },
    {
      "cell_type": "code",
      "metadata": {
        "id": "gbArQCjh4iMd",
        "colab_type": "code",
        "colab": {},
        "outputId": "fe93572f-e0f7-45e8-a87a-8f93d0307f3d"
      },
      "source": [
        "## dátum függvények használata\n",
        "import datetime\n",
        "\n",
        "## now\n",
        "datetime_object = datetime.datetime.now()  ## -> 2020-02-15 08:32:23.723026\n",
        "print(datetime_object)\n",
        "\n",
        "## today\n",
        "date_object = datetime.date.today()        ## -> 2020-02-15\n",
        "print(date_object)\n",
        "\n",
        "## timedelta\n",
        "print('timedelta 1 :', datetime.timedelta(hours=-5))\n",
        "print('timedelta 2 :', datetime.timedelta(days=-1, seconds=68400))\n",
        "\n",
        "another_year = datetime.timedelta(weeks=40, days=84, hours=23, minutes=50, seconds=600)  # adds up to 365 days\n",
        "print('timedelta 3 :',another_year)\n",
        "\n",
        "## fromordinal\n",
        "d = datetime.date.fromordinal(730920) ## 730920 -dik eltelt nap 1. 1. 0001 óta\n",
        "print('fromordinal 1 :', d)\n",
        "\n",
        "datetime.date(2020, 3, 14)  ## Dátum beállítása\n",
        "print('isoformat 1 :', d.isoformat())\n",
        "\n",
        "\n",
        "print('strformat 1 :',  d.strftime(\"%d/%m/%y\"))\n",
        "\n",
        "print('strformat 2 :',  d.strftime(\"%A %d. %B %Y\"))\n",
        "\n",
        "print('ctime :',  d.ctime())\n",
        "\n",
        "print( 'The {1} is {0:%d}, the {2} is {0:%B}.'.format(d, \"day\", \"month\"))\n",
        "\n",
        "print('--- timetuple ---')\n",
        "t = d.timetuple()\n",
        "for i in t:     \n",
        "    print(i)\n",
        "\n",
        "print('--- isocalendar  ---')\n",
        "ic = d.isocalendar()\n",
        "for i in ic:    \n",
        "    print(i)\n",
        "\n",
        "## A date object is immutable; all operations produce a new object\n",
        "print('replace :', d.replace(year=2025))\n",
        "\n",
        "print('vége')"
      ],
      "execution_count": 0,
      "outputs": [
        {
          "output_type": "stream",
          "text": [
            "2020-02-15 09:02:05.978195\n",
            "2020-02-15\n",
            "timedelta 1 : -1 day, 19:00:00\n",
            "timedelta 2 : -1 day, 19:00:00\n",
            "timedelta 3 : 365 days, 0:00:00\n",
            "fromordinal 1 : 2002-03-11\n",
            "isoformat 1 : 2002-03-11\n",
            "strformat 1 : 11/03/02\n",
            "strformat 2 : Monday 11. March 2002\n",
            "ctime : Mon Mar 11 00:00:00 2002\n",
            "The day is 11, the month is March.\n",
            "--- timetuple ---\n",
            "2002\n",
            "3\n",
            "11\n",
            "0\n",
            "0\n",
            "0\n",
            "0\n",
            "70\n",
            "-1\n",
            "--- isocalendar  ---\n",
            "2002\n",
            "11\n",
            "1\n",
            "replace : 2025-03-11\n",
            "vége\n"
          ],
          "name": "stdout"
        }
      ]
    },
    {
      "cell_type": "markdown",
      "metadata": {
        "id": "OAnfphTf4iMg",
        "colab_type": "text"
      },
      "source": [
        "\n",
        "---\n",
        "\n",
        "## File tartalom átmozgatás\n",
        "\n",
        "\n"
      ]
    },
    {
      "cell_type": "code",
      "metadata": {
        "id": "oUlvHASH4iMh",
        "colab_type": "code",
        "colab": {}
      },
      "source": [
        "import datetime, glob, gzip, os\n",
        "\n",
        "# a bemeneti fajlok nevei\n",
        "fnames = sorted(glob.glob(\"xyz/*/*.txt.gz\"))\n",
        "for fname in fnames: # vegigiteralunk a bemeneti fajlokon\n",
        "    # a kimeneti fajl neve    \n",
        "    fname2 = fname.replace(\"xyz\", \"xyz2\")\n",
        "\n",
        "    # letrehozzuk a kimeneti fajl konyvtarat\n",
        "    try: os.makedirs(os.path.dirname(fname2))\n",
        "    except FileExistsError: pass\n",
        "    \n",
        "    # kimeneti fajl elkeszitese\n",
        "    f = gzip.open(fname2, \"wt\", encoding=\"utf-8\")\n",
        "    for line in gzip.open(fname, \"rt\", encoding=\"utf-8\"):\n",
        "        # modositott naplosor eloallitasa\n",
        "        y, mo, d = int(line[1: 5]), int(line[6: 8]), int(line[9: 11])\n",
        "        h, mi, s = int(line[12: 14]), int(line[15: 17]), int(line[18: 20])\n",
        "        dt = datetime.datetime(y, mo, d, h, mi, s)\n",
        "        line2 = \"[\" + str(dt + datetime.timedelta(1 / 3)) + line[20:]\n",
        "        \n",
        "        # iras a kimeneti fajlba\n",
        "        f.write(line2)\n",
        "    f.close()\n"
      ],
      "execution_count": 0,
      "outputs": []
    },
    {
      "cell_type": "code",
      "metadata": {
        "id": "UCmHPFBi4iMl",
        "colab_type": "code",
        "colab": {}
      },
      "source": [
        ""
      ],
      "execution_count": 0,
      "outputs": []
    }
  ]
}