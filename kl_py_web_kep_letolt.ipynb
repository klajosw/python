{
  "nbformat": 4,
  "nbformat_minor": 0,
  "metadata": {
    "colab": {
      "name": "kl_py_web_kep_letolt.ipynb",
      "provenance": [],
      "collapsed_sections": [],
      "include_colab_link": true
    },
    "kernelspec": {
      "display_name": "Python 3",
      "language": "python",
      "name": "python3"
    },
    "language_info": {
      "codemirror_mode": {
        "name": "ipython",
        "version": 3
      },
      "file_extension": ".py",
      "mimetype": "text/x-python",
      "name": "python",
      "nbconvert_exporter": "python",
      "pygments_lexer": "ipython3",
      "version": "3.7.4"
    }
  },
  "cells": [
    {
      "cell_type": "markdown",
      "metadata": {
        "id": "view-in-github",
        "colab_type": "text"
      },
      "source": [
        "<a href=\"https://colab.research.google.com/github/klajosw/python/blob/master/kl_py_web_kep_letolt.ipynb\" target=\"_parent\"><img src=\"https://colab.research.google.com/assets/colab-badge.svg\" alt=\"Open In Colab\"/></a>"
      ]
    },
    {
      "cell_type": "markdown",
      "metadata": {
        "id": "7OguCjFaytM0",
        "colab_type": "text"
      },
      "source": [
        "<p align=\"left\"> \n",
        "    <img src=\"https://raw.githubusercontent.com/klajosw/python/master/kl_mie_python_logo_250.jpg\" \n",
        "         align=\"left\" width=\"251\" height=\"251\">\n",
        "    \n",
        "</p>\n",
        "\n",
        "\n",
        "<p> </p>\n",
        "\n",
        "\n",
        "\n",
        "# Python webről képek letöltése\n",
        "\n",
        "<https://klajosw.blogspot.com/>\n",
        "\n",
        "\n",
        "---"
      ]
    },
    {
      "cell_type": "markdown",
      "metadata": {
        "id": "NQ3NJ3fDytM2",
        "colab_type": "text"
      },
      "source": [
        "\n",
        "\n",
        "## Szép képek letöltése a  https://www.reddit.com/r/EarthPorn/  oldalról\n",
        "\n"
      ]
    },
    {
      "cell_type": "code",
      "metadata": {
        "scrolled": true,
        "id": "8Yfw_8KgytM2",
        "colab_type": "code",
        "colab": {},
        "outputId": "7dce25f2-f80c-49a0-b6dd-33552b07088e"
      },
      "source": [
        "#!/usr/bin/env python2\n",
        "# coding: utf-8\n",
        "\n",
        "import urllib.request\n",
        "import json\n",
        "import pprint\n",
        "\n",
        "urlData = \"https://www.reddit.com/r/earthporn/.json\"\n",
        "##  urlData = \"https://www.reddit.com/r/EarthPorn/.json?count=25&after=t3_acvbop\"\n",
        "webURL = urllib.request.urlopen(urlData)\n",
        "data = webURL.read()\n",
        "encoding = webURL.info().get_content_charset('utf-8')\n",
        "dn=json.loads(data.decode(encoding))\n",
        "a1 = 0\n",
        "for dn2 in dn['data']['children']:\n",
        "    a1 += 1\n",
        "    aaa = (dn2['data']['url'])\n",
        "    if aaa[-4] == '.' :\n",
        "        print  (aaa)\n",
        "        urllib.request.urlretrieve(aaa,\"c:/Users/User/Documents/kepek/py_kepek/kep20200119_2_\"+str(a1)+\".jpg\")\n",
        "\n",
        "print('----   KÉSZ   ----')\n"
      ],
      "execution_count": 0,
      "outputs": [
        {
          "output_type": "stream",
          "text": [
            "https://i.redd.it/7k6fx9bpinb41.jpg\n",
            "https://i.redd.it/caqcxl2p8qb41.jpg\n",
            "https://i.redd.it/jt7pxu35kqb41.jpg\n",
            "https://i.redd.it/5uuk1yg5mqb41.jpg\n",
            "https://i.redd.it/pvc9nswj8rb41.jpg\n",
            "https://i.imgur.com/hf1IWDr.jpg\n",
            "https://i.redd.it/0mq4qmnb3rb41.jpg\n",
            "https://i.redd.it/2d55dml5aqb41.jpg\n",
            "https://i.redd.it/wqp3g7gbsqb41.jpg\n",
            "https://i.redd.it/tjp1pxv7uhb41.jpg\n",
            "https://i.redd.it/4w461jobpmb41.jpg\n",
            "https://i.imgur.com/7JqgbIc.jpg\n",
            "https://i.redd.it/gpf14bk6zpb41.jpg\n",
            "https://i.redd.it/o25bv8f7gnb41.jpg\n",
            "https://i.redd.it/fom9q6k63lb41.jpg\n",
            "https://i.redd.it/hnzlrg9ugpb41.jpg\n",
            "https://i.redd.it/apqplxna3kb41.png\n",
            "https://i.redd.it/06fdf2244rb41.jpg\n",
            "https://i.redd.it/4ytcye984rb41.jpg\n",
            "https://i.redd.it/8us35olhgrb41.jpg\n",
            "https://i.redd.it/xg8yhxpe9rb41.jpg\n",
            "https://i.redd.it/p3lpj6qmarb41.jpg\n",
            "https://i.redd.it/sgxatv2kyqb41.jpg\n",
            "----   KÉSZ   ----\n"
          ],
          "name": "stdout"
        },
        {
          "output_type": "execute_result",
          "data": {
            "text/plain": [
              "'\\nhttps://i.redd.it/7k6fx9bpinb41.jpg\\nhttps://i.redd.it/caqcxl2p8qb41.jpg\\nhttps://i.redd.it/jt7pxu35kqb41.jpg\\nhttps://i.redd.it/5uuk1yg5mqb41.jpg\\n'"
            ]
          },
          "metadata": {
            "tags": []
          },
          "execution_count": 31
        }
      ]
    },
    {
      "cell_type": "markdown",
      "metadata": {
        "id": "PlFGSwh9ytM6",
        "colab_type": "text"
      },
      "source": [
        "\n",
        "---\n",
        "\n",
        "## File tartalom átmozgatás\n",
        "\n",
        "\n"
      ]
    },
    {
      "cell_type": "code",
      "metadata": {
        "id": "Tw80C8i8ytM7",
        "colab_type": "code",
        "colab": {}
      },
      "source": [
        "import datetime, glob, gzip, os\n",
        "\n",
        "# a bemeneti fajlok nevei\n",
        "fnames = sorted(glob.glob(\"xyz/*/*.txt.gz\"))\n",
        "for fname in fnames: # vegigiteralunk a bemeneti fajlokon\n",
        "    # a kimeneti fajl neve    \n",
        "    fname2 = fname.replace(\"xyz\", \"xyz2\")\n",
        "\n",
        "    # letrehozzuk a kimeneti fajl konyvtarat\n",
        "    try: os.makedirs(os.path.dirname(fname2))\n",
        "    except FileExistsError: pass\n",
        "    \n",
        "    # kimeneti fajl elkeszitese\n",
        "    f = gzip.open(fname2, \"wt\", encoding=\"utf-8\")\n",
        "    for line in gzip.open(fname, \"rt\", encoding=\"utf-8\"):\n",
        "        # modositott naplosor eloallitasa\n",
        "        y, mo, d = int(line[1: 5]), int(line[6: 8]), int(line[9: 11])\n",
        "        h, mi, s = int(line[12: 14]), int(line[15: 17]), int(line[18: 20])\n",
        "        dt = datetime.datetime(y, mo, d, h, mi, s)\n",
        "        line2 = \"[\" + str(dt + datetime.timedelta(1 / 3)) + line[20:]\n",
        "        \n",
        "        # iras a kimeneti fajlba\n",
        "        f.write(line2)\n",
        "    f.close()\n"
      ],
      "execution_count": 0,
      "outputs": []
    },
    {
      "cell_type": "code",
      "metadata": {
        "id": "h1HfZEdtytM9",
        "colab_type": "code",
        "colab": {}
      },
      "source": [
        ""
      ],
      "execution_count": 0,
      "outputs": []
    }
  ]
}