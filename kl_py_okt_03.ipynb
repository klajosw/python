{
  "nbformat": 4,
  "nbformat_minor": 0,
  "metadata": {
    "anaconda-cloud": {},
    "hide_input": false,
    "kernelspec": {
      "display_name": "Python 3",
      "language": "python",
      "name": "python3"
    },
    "language_info": {
      "codemirror_mode": {
        "name": "ipython",
        "version": 3
      },
      "file_extension": ".py",
      "mimetype": "text/x-python",
      "name": "python",
      "nbconvert_exporter": "python",
      "pygments_lexer": "ipython3",
      "version": "3.7.4"
    },
    "latex_envs": {
      "bibliofile": "biblio.bib",
      "cite_by": "apalike",
      "current_citInitial": 1,
      "eqLabelWithNumbers": true,
      "eqNumInitial": 0
    },
    "toc": {
      "toc_cell": false,
      "toc_number_sections": true,
      "toc_threshold": 6,
      "toc_window_display": false
    },
    "colab": {
      "name": "kl_py_okt_03.ipynb",
      "provenance": [],
      "collapsed_sections": [
        "Ff7dNa2fsmGo",
        "cj-_PpHHsmHj"
      ],
      "include_colab_link": true
    }
  },
  "cells": [
    {
      "cell_type": "markdown",
      "metadata": {
        "id": "view-in-github",
        "colab_type": "text"
      },
      "source": [
        "<a href=\"https://colab.research.google.com/github/klajosw/python/blob/master/kl_py_okt_03.ipynb\" target=\"_parent\"><img src=\"https://colab.research.google.com/assets/colab-badge.svg\" alt=\"Open In Colab\"/></a>"
      ]
    },
    {
      "cell_type": "markdown",
      "metadata": {
        "id": "VOmd_OMZsmF-",
        "colab_type": "text"
      },
      "source": [
        "<p align=\"left\"> \n",
        "    <img src=\"https://raw.githubusercontent.com/klajosw/python/master/kl_mie_python_logo_250.jpg\" \n",
        "         align=\"left\" width=\"251\" height=\"251\">\n",
        "    \n",
        "</p>\n",
        "\n",
        "\n",
        "<p> </p>\n",
        "\n",
        "\n",
        "\n",
        "# Python alapok 3\n",
        "\n",
        "<https://klajosw.blogspot.com/>\n",
        "\n",
        "\n",
        "---"
      ]
    },
    {
      "cell_type": "markdown",
      "metadata": {
        "id": "5eCQNNKlsmGB",
        "colab_type": "text"
      },
      "source": [
        "# [Modulok]\n",
        "\n",
        "\n",
        "A `Python`ban, mint minden más modern nyelvben, szokás előre megírt, hasznos függvényeket és függvénycsomagokat használni. A Python szintaxisában az `import` parancs segítségével tudunk külső függvényeket, csomagokat vagy modulokat betölteni. \n",
        "Modulnak nevezünk egy `Python` nyelven írt file-t, ami `Python`-függvények, esetleg osztályok definícióit tartalmazza. Rendszerint ez egy `.py` kiterjeszésű file. Több ilyen definíciókat tartalmazó file-ok összességét hívjuk csomagnak. Nagy, sok függvénydefiníciót tartalmazó, csomagokat szokás alcsomagokra osztani. Ebben a notebookban a `numpy` a `matplotlib` és a `csv` csomagok néhány hasznos függvényével és adatstruktúrájával fogunk megismerkedni.  \n",
        "Mielőtt ezeket használni tudnánk be kell őket tölteni. \n",
        "Lássunk erre egy példát!"
      ]
    },
    {
      "cell_type": "code",
      "metadata": {
        "id": "s_GlEXS4smGC",
        "colab_type": "code",
        "colab": {}
      },
      "source": [
        "import numpy"
      ],
      "execution_count": 0,
      "outputs": []
    },
    {
      "cell_type": "markdown",
      "metadata": {
        "id": "PkZJyGSksmGE",
        "colab_type": "text"
      },
      "source": [
        "A fenti parancs betöltötte a `numpy` modult és ezzel a modulban definiált függvények és adatstruktúrák rendelkezésünkre állnak! A `numpy` csomag sok gyakran használt matematikai függvény implementációját is tartalmazza Határozzuk meg például, hogy mennyi $\\sin(3)$ :"
      ]
    },
    {
      "cell_type": "code",
      "metadata": {
        "id": "_TfIpPgzsmGF",
        "colab_type": "code",
        "colab": {},
        "outputId": "1236bd66-c3bb-43d9-a8d8-8ddde0f06089"
      },
      "source": [
        "numpy.sin(3)"
      ],
      "execution_count": 0,
      "outputs": [
        {
          "output_type": "execute_result",
          "data": {
            "text/plain": [
              "0.14112000805986721"
            ]
          },
          "metadata": {
            "tags": []
          },
          "execution_count": 2
        }
      ]
    },
    {
      "cell_type": "markdown",
      "metadata": {
        "id": "ne-VueyCsmGI",
        "colab_type": "text"
      },
      "source": [
        "Amint a fenti példa is illusztrálja egy betöltött modul függvényeit az alábbi szintaxis szerint kell használni\n",
        ">```python\n",
        "modul_neve.fuggveny_neve(...)\n",
        "```\n",
        "\n",
        "Egy modul nem csak függvényeket hanem előre definiált változókat is tartalmazhat. Például a `numpy` modul definiálja a matematikában és a fizikában is gyakran használt $e$ és $\\pi$ számokat. Ezekre  - talán nem túl meglepő módon - így hivatkozunk:"
      ]
    },
    {
      "cell_type": "code",
      "metadata": {
        "id": "V_IF_w6_smGJ",
        "colab_type": "code",
        "colab": {},
        "outputId": "9a111eb4-e2f9-46cb-fc21-0bd0ee0aa52c"
      },
      "source": [
        "numpy.e"
      ],
      "execution_count": 0,
      "outputs": [
        {
          "output_type": "execute_result",
          "data": {
            "text/plain": [
              "2.718281828459045"
            ]
          },
          "metadata": {
            "tags": []
          },
          "execution_count": 3
        }
      ]
    },
    {
      "cell_type": "code",
      "metadata": {
        "id": "TyydDcxwsmGL",
        "colab_type": "code",
        "colab": {},
        "outputId": "0439e4c1-cfaf-42e0-f9c5-5847a68de2da"
      },
      "source": [
        "numpy.pi"
      ],
      "execution_count": 0,
      "outputs": [
        {
          "output_type": "execute_result",
          "data": {
            "text/plain": [
              "3.141592653589793"
            ]
          },
          "metadata": {
            "tags": []
          },
          "execution_count": 4
        }
      ]
    },
    {
      "cell_type": "markdown",
      "metadata": {
        "id": "Wf78haB1smGN",
        "colab_type": "text"
      },
      "source": [
        "Nagy moduloknak sok almodulja is van. Az almodulokra az alábbi szintaxis alapján hivatkozunk:\n",
        ">```python\n",
        "modul_neve.almodul_neve.fuggveny_neve(...)\n",
        "```\n",
        "\n",
        "Például a `numpy` véletlenszámokat generáló függvényei a `random` almodul függvényeiként vannak definiálva. Az alábbi kódcella $0$ és $99$ között generál egy véletlen számot, ehhez a `numpy` modul  `random` almoduljának a `randint` fügvényét használja."
      ]
    },
    {
      "cell_type": "code",
      "metadata": {
        "id": "6Fzry2-WsmGN",
        "colab_type": "code",
        "colab": {},
        "outputId": "0bcb7c2e-f7e3-47b5-af73-e2244e4a73ff"
      },
      "source": [
        "numpy.random.randint(100)"
      ],
      "execution_count": 0,
      "outputs": [
        {
          "output_type": "execute_result",
          "data": {
            "text/plain": [
              "82"
            ]
          },
          "metadata": {
            "tags": []
          },
          "execution_count": 5
        }
      ]
    },
    {
      "cell_type": "markdown",
      "metadata": {
        "id": "z6HMYdtqsmGP",
        "colab_type": "text"
      },
      "source": [
        "Előfordulhat, hogy egy modulból csak bizonyos függvényeket szeretnénk betölteni. Erre ad lehetőséget a \n",
        ">```python\n",
        "from modul_neve import egyik_fuggveny_neve, masik_fuggveny_neve\n",
        "```\n",
        "\n",
        "konstrukció. Például ha a numpy csomagból csak a $\\sin$ és $\\cos$ függvényeket szeretnénk használni, akkor ezt az alábbi módon tehetjük meg:"
      ]
    },
    {
      "cell_type": "code",
      "metadata": {
        "id": "e6-DP3XvsmGQ",
        "colab_type": "code",
        "colab": {}
      },
      "source": [
        "from numpy import sin,cos"
      ],
      "execution_count": 0,
      "outputs": []
    },
    {
      "cell_type": "markdown",
      "metadata": {
        "id": "lwvtu5WIsmGS",
        "colab_type": "text"
      },
      "source": [
        "Ezután a modulnév használata nélkül rendelkezésünkre állnak a $\\sin()$ és $\\cos()$ függvények!"
      ]
    },
    {
      "cell_type": "code",
      "metadata": {
        "id": "1YyXT_m8smGS",
        "colab_type": "code",
        "colab": {},
        "outputId": "6482cd21-ef18-44e2-f666-f82bd9cd85a3"
      },
      "source": [
        "sin(23)**2+cos(23)**2"
      ],
      "execution_count": 0,
      "outputs": [
        {
          "output_type": "execute_result",
          "data": {
            "text/plain": [
              "1.0"
            ]
          },
          "metadata": {
            "tags": []
          },
          "execution_count": 7
        }
      ]
    },
    {
      "cell_type": "markdown",
      "metadata": {
        "id": "eJtJKavEsmGU",
        "colab_type": "text"
      },
      "source": [
        "Egy modulból akár betölthetjük az összes függvényt és változót is:"
      ]
    },
    {
      "cell_type": "code",
      "metadata": {
        "id": "NIZ7wTpKsmGV",
        "colab_type": "code",
        "colab": {}
      },
      "source": [
        "from numpy import *"
      ],
      "execution_count": 0,
      "outputs": []
    },
    {
      "cell_type": "markdown",
      "metadata": {
        "id": "gKTSa59dsmGX",
        "colab_type": "text"
      },
      "source": [
        "Ekkor már például hivatkozhatunk a $\\pi$ értékét tároló `pi` változóra a `numpy` kiírása nélkül."
      ]
    },
    {
      "cell_type": "code",
      "metadata": {
        "id": "VuotVDwIsmGX",
        "colab_type": "code",
        "colab": {},
        "outputId": "8e88a81b-3d45-4ad3-e8eb-d5768ba3a8dd"
      },
      "source": [
        "pi"
      ],
      "execution_count": 0,
      "outputs": [
        {
          "output_type": "execute_result",
          "data": {
            "text/plain": [
              "3.141592653589793"
            ]
          },
          "metadata": {
            "tags": []
          },
          "execution_count": 9
        }
      ]
    },
    {
      "cell_type": "markdown",
      "metadata": {
        "id": "Bfoia7zXsmGZ",
        "colab_type": "text"
      },
      "source": [
        "A kurzus további részében - eltekintve néhány speciális esettől -  célszerű lesz minden notebookot néhány sokszor használt modul betöltésével kezdeni. Ezt a `jupyter` notebookokban az alábbi paranccsal ( cell magic-el ) tehetjük meg:"
      ]
    },
    {
      "cell_type": "code",
      "metadata": {
        "id": "tO0irf7UsmGa",
        "colab_type": "code",
        "colab": {},
        "outputId": "c0b0aa5e-9722-467e-b840-b8b4483bcabd"
      },
      "source": [
        "%pylab inline"
      ],
      "execution_count": 0,
      "outputs": [
        {
          "output_type": "stream",
          "text": [
            "Populating the interactive namespace from numpy and matplotlib\n"
          ],
          "name": "stdout"
        }
      ]
    },
    {
      "cell_type": "markdown",
      "metadata": {
        "id": "_huArxBismGc",
        "colab_type": "text"
      },
      "source": [
        "A fenti utasítás a következő importálásokat tartalmazza:\n",
        "\n",
        ">```python\n",
        ">import numpy\n",
        ">import matplotlib\n",
        ">from matplotlib import pylab, mlab, pyplot\n",
        ">np = numpy\n",
        ">plt = pyplot\n",
        ">\n",
        ">from IPython.display import display\n",
        ">from IPython.core.pylabtools import figsize, getfigs\n",
        ">\n",
        ">from pylab import *\n",
        ">from numpy import *\n",
        ">```\n",
        "\n",
        "Azaz a `numpy` numerikus csomagon túl többek közt betölti a `matplotlib` ábra készítő modult is. "
      ]
    },
    {
      "cell_type": "markdown",
      "metadata": {
        "id": "-jryp54DsmGd",
        "colab_type": "text"
      },
      "source": [
        "# Még egy adatstruktúra: `array`"
      ]
    },
    {
      "cell_type": "markdown",
      "metadata": {
        "collapsed": true,
        "id": "esSmld0csmGe",
        "colab_type": "text"
      },
      "source": [
        "A numpy csomag egy a listekhez hasonló adatstruktúrával gazdagítja a repertoárunkat. Ennek az új adatstruktúrának a neve: array. Tekintsük át az array-k viselkedésének  néhány alapvető tulajdonságát! (Részletesebb leírások [angol](https://scipy-lectures.github.io/intro/numpy/array_object.html) nyelven. )\n",
        "\n",
        "A listek hez hasonlóan számok vagy más objektumok listáinak segítségével tudjuk őket definiálni:"
      ]
    },
    {
      "cell_type": "code",
      "metadata": {
        "id": "SUHrx78PsmGe",
        "colab_type": "code",
        "colab": {},
        "outputId": "f70a284e-5a19-4dd5-9fe6-cb972c8ad453"
      },
      "source": [
        "vec=array([1,2,3])\n",
        "vec"
      ],
      "execution_count": 0,
      "outputs": [
        {
          "output_type": "execute_result",
          "data": {
            "text/plain": [
              "array([1, 2, 3])"
            ]
          },
          "metadata": {
            "tags": []
          },
          "execution_count": 11
        }
      ]
    },
    {
      "cell_type": "code",
      "metadata": {
        "id": "WRmKjPAUsmGg",
        "colab_type": "code",
        "colab": {},
        "outputId": "1f47ffda-d7f3-4247-a13a-8a6978a8b5d5"
      },
      "source": [
        "matr=array([[1,1,3],[4,3,5],[6,2,3]])\n",
        "matr"
      ],
      "execution_count": 0,
      "outputs": [
        {
          "output_type": "execute_result",
          "data": {
            "text/plain": [
              "array([[1, 1, 3],\n",
              "       [4, 3, 5],\n",
              "       [6, 2, 3]])"
            ]
          },
          "metadata": {
            "tags": []
          },
          "execution_count": 12
        }
      ]
    },
    {
      "cell_type": "code",
      "metadata": {
        "id": "wIvkEwCxsmGi",
        "colab_type": "code",
        "colab": {},
        "outputId": "2ff0028f-38d0-48c0-a784-f07f760c5a24"
      },
      "source": [
        "b=array(['a','b','cd'])\n",
        "b"
      ],
      "execution_count": 0,
      "outputs": [
        {
          "output_type": "execute_result",
          "data": {
            "text/plain": [
              "array(['a', 'b', 'cd'], \n",
              "      dtype='<U2')"
            ]
          },
          "metadata": {
            "tags": []
          },
          "execution_count": 13
        }
      ]
    },
    {
      "cell_type": "code",
      "metadata": {
        "id": "NvNVA8PGsmGk",
        "colab_type": "code",
        "colab": {},
        "outputId": "ace75333-6eb7-4bd4-a515-9278a314105f"
      },
      "source": [
        "c=array([1,2,3,'sd',])\n",
        "c"
      ],
      "execution_count": 0,
      "outputs": [
        {
          "output_type": "execute_result",
          "data": {
            "text/plain": [
              "array(['1', '2', '3', 'sd'], \n",
              "      dtype='<U21')"
            ]
          },
          "metadata": {
            "tags": []
          },
          "execution_count": 14
        }
      ]
    },
    {
      "cell_type": "code",
      "metadata": {
        "id": "tW8ebh1usmGm",
        "colab_type": "code",
        "colab": {},
        "outputId": "effee7d2-a2d2-4e2c-e267-d7876401eeda"
      },
      "source": [
        "d=array([[1,2],[1,3,4],23])\n",
        "d"
      ],
      "execution_count": 0,
      "outputs": [
        {
          "output_type": "execute_result",
          "data": {
            "text/plain": [
              "array([[1, 2], [1, 3, 4], 23], dtype=object)"
            ]
          },
          "metadata": {
            "tags": []
          },
          "execution_count": 15
        }
      ]
    },
    {
      "cell_type": "markdown",
      "metadata": {
        "id": "SZSfyiMBsmGo",
        "colab_type": "text"
      },
      "source": [
        "Az utolsó pár példában a kiírásban megjelent `dtype=` azt jelzi, hogy az adott array-ben milyen jellegű dolgok vannak csoportosítva. Egy `array`-ban mindig a legáltalánosabb adattípus érvényesül. A `vec` és `matr` változókban skalárok vannak, a `b` és a `c` válltozóban karakterláncok. \n",
        "A `d` változóban pedig, mivel skalár (az utolsó szám) is van benne, meg listák is (az első két vektor), ezért általános \"objektumok\" halmazának csoportjaként jelenik meg."
      ]
    },
    {
      "cell_type": "markdown",
      "metadata": {
        "id": "Ff7dNa2fsmGo",
        "colab_type": "text"
      },
      "source": [
        "## Egy pár hasznos array művelet:"
      ]
    },
    {
      "cell_type": "markdown",
      "metadata": {
        "id": "saxfnBEYsmGp",
        "colab_type": "text"
      },
      "source": [
        "Egy array alakjáról a `shape` attribútum segítségével érdeklődhetünk:"
      ]
    },
    {
      "cell_type": "code",
      "metadata": {
        "id": "FdnHjIt-smGp",
        "colab_type": "code",
        "colab": {},
        "outputId": "4c8425c2-3bbe-4fa8-dc36-ee5995b0310f"
      },
      "source": [
        "vec.shape"
      ],
      "execution_count": 0,
      "outputs": [
        {
          "output_type": "execute_result",
          "data": {
            "text/plain": [
              "(3,)"
            ]
          },
          "metadata": {
            "tags": []
          },
          "execution_count": 16
        }
      ]
    },
    {
      "cell_type": "code",
      "metadata": {
        "id": "qMD1lMfusmGt",
        "colab_type": "code",
        "colab": {},
        "outputId": "34289641-7a0a-4569-e3bf-418d80089a64"
      },
      "source": [
        "matr.shape"
      ],
      "execution_count": 0,
      "outputs": [
        {
          "output_type": "execute_result",
          "data": {
            "text/plain": [
              "(3, 3)"
            ]
          },
          "metadata": {
            "tags": []
          },
          "execution_count": 17
        }
      ]
    },
    {
      "cell_type": "code",
      "metadata": {
        "id": "ok7VEKE1smGv",
        "colab_type": "code",
        "colab": {},
        "outputId": "14f67b94-d5d9-43a9-b5cf-16d28534294f"
      },
      "source": [
        "d.shape"
      ],
      "execution_count": 0,
      "outputs": [
        {
          "output_type": "execute_result",
          "data": {
            "text/plain": [
              "(3,)"
            ]
          },
          "metadata": {
            "tags": []
          },
          "execution_count": 18
        }
      ]
    },
    {
      "cell_type": "markdown",
      "metadata": {
        "id": "z0PZ5bCBsmGx",
        "colab_type": "text"
      },
      "source": [
        "A `size` attribútum az elemek összes számáról ad tájékoztatást:"
      ]
    },
    {
      "cell_type": "code",
      "metadata": {
        "id": "dkL9EVC5smGx",
        "colab_type": "code",
        "colab": {},
        "outputId": "82c78cae-7ed9-48d2-ddc5-ca69dc67d85f"
      },
      "source": [
        "matr.size"
      ],
      "execution_count": 0,
      "outputs": [
        {
          "output_type": "execute_result",
          "data": {
            "text/plain": [
              "9"
            ]
          },
          "metadata": {
            "tags": []
          },
          "execution_count": 19
        }
      ]
    },
    {
      "cell_type": "markdown",
      "metadata": {
        "id": "Qf6o6mJysmGz",
        "colab_type": "text"
      },
      "source": [
        "Számosorok statisztikai vizsgálatában segít a `min` és a `max` (legkisebb és legnagyobb elem értéke), illetve a `mean` (átlag) és az `std` (szórás) függvények"
      ]
    },
    {
      "cell_type": "code",
      "metadata": {
        "id": "Sj4M_ktAsmG0",
        "colab_type": "code",
        "colab": {},
        "outputId": "52e931d1-0cbd-4ce9-a557-3d36a7d01d77"
      },
      "source": [
        "vec.min()"
      ],
      "execution_count": 0,
      "outputs": [
        {
          "output_type": "execute_result",
          "data": {
            "text/plain": [
              "1"
            ]
          },
          "metadata": {
            "tags": []
          },
          "execution_count": 20
        }
      ]
    },
    {
      "cell_type": "code",
      "metadata": {
        "id": "4Tkf5KJVsmG2",
        "colab_type": "code",
        "colab": {},
        "outputId": "8e7e0e3e-0381-4ae8-f819-225e141900bd"
      },
      "source": [
        "vec.max()"
      ],
      "execution_count": 0,
      "outputs": [
        {
          "output_type": "execute_result",
          "data": {
            "text/plain": [
              "3"
            ]
          },
          "metadata": {
            "tags": []
          },
          "execution_count": 21
        }
      ]
    },
    {
      "cell_type": "code",
      "metadata": {
        "id": "PqG3dSc4smG3",
        "colab_type": "code",
        "colab": {},
        "outputId": "c277f8de-9810-4902-a627-9eb918ad7de0"
      },
      "source": [
        "vec.mean()"
      ],
      "execution_count": 0,
      "outputs": [
        {
          "output_type": "execute_result",
          "data": {
            "text/plain": [
              "2.0"
            ]
          },
          "metadata": {
            "tags": []
          },
          "execution_count": 22
        }
      ]
    },
    {
      "cell_type": "code",
      "metadata": {
        "id": "_Yn3iCg8smG5",
        "colab_type": "code",
        "colab": {},
        "outputId": "0a2dfbdd-60ab-48fa-a9b0-3474a292f98c"
      },
      "source": [
        "vec.std()"
      ],
      "execution_count": 0,
      "outputs": [
        {
          "output_type": "execute_result",
          "data": {
            "text/plain": [
              "0.81649658092772603"
            ]
          },
          "metadata": {
            "tags": []
          },
          "execution_count": 23
        }
      ]
    },
    {
      "cell_type": "markdown",
      "metadata": {
        "id": "TuImwgxmsmG9",
        "colab_type": "text"
      },
      "source": [
        "Ha az array alakja nem egydimenziós, mint például a `matr` változó esetében, akkor a fenti függvényeket soronként vagy oszloponként is hattathatjuk a változóra:"
      ]
    },
    {
      "cell_type": "code",
      "metadata": {
        "id": "6QE6JrbXsmG-",
        "colab_type": "code",
        "colab": {},
        "outputId": "48820eca-80ee-4d02-bad9-8ece76d222ec"
      },
      "source": [
        "matr.mean(axis=0) #oszlop szerinti átlag"
      ],
      "execution_count": 0,
      "outputs": [
        {
          "output_type": "execute_result",
          "data": {
            "text/plain": [
              "array([ 3.66666667,  2.        ,  3.66666667])"
            ]
          },
          "metadata": {
            "tags": []
          },
          "execution_count": 24
        }
      ]
    },
    {
      "cell_type": "code",
      "metadata": {
        "id": "V9FsqvyGsmHA",
        "colab_type": "code",
        "colab": {},
        "outputId": "e3a0998a-ab9b-4ac5-afc6-921ce428efcb"
      },
      "source": [
        "matr.mean(axis=1) #sor szerint"
      ],
      "execution_count": 0,
      "outputs": [
        {
          "output_type": "execute_result",
          "data": {
            "text/plain": [
              "array([ 1.66666667,  4.        ,  3.66666667])"
            ]
          },
          "metadata": {
            "tags": []
          },
          "execution_count": 25
        }
      ]
    },
    {
      "cell_type": "markdown",
      "metadata": {
        "id": "p--Et5XgsmHC",
        "colab_type": "text"
      },
      "source": [
        "A `matr` mátrix transzponáltját a `T` attribútum segítségével kapjuk."
      ]
    },
    {
      "cell_type": "code",
      "metadata": {
        "id": "3iumP2ycsmHD",
        "colab_type": "code",
        "colab": {},
        "outputId": "f230bb95-ddf6-42fb-f089-61d11221d29c"
      },
      "source": [
        "matr.T"
      ],
      "execution_count": 0,
      "outputs": [
        {
          "output_type": "execute_result",
          "data": {
            "text/plain": [
              "array([[1, 4, 6],\n",
              "       [1, 3, 2],\n",
              "       [3, 5, 3]])"
            ]
          },
          "metadata": {
            "tags": []
          },
          "execution_count": 26
        }
      ]
    },
    {
      "cell_type": "markdown",
      "metadata": {
        "id": "V0VLDn5qsmHF",
        "colab_type": "text"
      },
      "source": [
        "Egy array-ban jelenlévő elemek szorzata és összege a `sum`, illetve a `prod` segítségével kapható:"
      ]
    },
    {
      "cell_type": "code",
      "metadata": {
        "id": "p1EPBhE7smHF",
        "colab_type": "code",
        "colab": {},
        "outputId": "5cc4161b-f7a6-4f30-c48d-e6209835f7e7"
      },
      "source": [
        "vec.sum() # A vec változó összes elemének az összege"
      ],
      "execution_count": 0,
      "outputs": [
        {
          "output_type": "execute_result",
          "data": {
            "text/plain": [
              "6"
            ]
          },
          "metadata": {
            "tags": []
          },
          "execution_count": 27
        }
      ]
    },
    {
      "cell_type": "code",
      "metadata": {
        "id": "jdHOQviPsmHH",
        "colab_type": "code",
        "colab": {},
        "outputId": "b5d17921-24c3-46ec-9fd8-f4760dc1e589"
      },
      "source": [
        "matr.prod() # A matr változó összes elemének szorzata"
      ],
      "execution_count": 0,
      "outputs": [
        {
          "output_type": "execute_result",
          "data": {
            "text/plain": [
              "6480"
            ]
          },
          "metadata": {
            "tags": []
          },
          "execution_count": 28
        }
      ]
    },
    {
      "cell_type": "markdown",
      "metadata": {
        "id": "pxYAed4dsmHI",
        "colab_type": "text"
      },
      "source": [
        "Azonban vigyázni kell, mert nem minden arrayfüggvény alkalmazható minden array-re! Ha karaktereket tartalmazó mátrix produktumára vagyunk kíváncsiak akkor hibát fogunk kapni!"
      ]
    },
    {
      "cell_type": "code",
      "metadata": {
        "collapsed": true,
        "id": "yE_YHBkNsmHJ",
        "colab_type": "code",
        "colab": {}
      },
      "source": [
        "matrS=array([['a','b'],['c','d']])"
      ],
      "execution_count": 0,
      "outputs": []
    },
    {
      "cell_type": "code",
      "metadata": {
        "id": "RI3UFr9-smHK",
        "colab_type": "code",
        "colab": {},
        "outputId": "1e7d6d2b-504d-443f-f7b3-f67e0bd29b82"
      },
      "source": [
        "matrS.prod()"
      ],
      "execution_count": 0,
      "outputs": [
        {
          "output_type": "error",
          "ename": "TypeError",
          "evalue": "cannot perform reduce with flexible type",
          "traceback": [
            "\u001b[0;31m---------------------------------------------------------------------------\u001b[0m",
            "\u001b[0;31mTypeError\u001b[0m                                 Traceback (most recent call last)",
            "\u001b[0;32m<ipython-input-30-9768fae74e07>\u001b[0m in \u001b[0;36m<module>\u001b[0;34m()\u001b[0m\n\u001b[0;32m----> 1\u001b[0;31m \u001b[0mmatrS\u001b[0m\u001b[0;34m.\u001b[0m\u001b[0mprod\u001b[0m\u001b[0;34m(\u001b[0m\u001b[0;34m)\u001b[0m\u001b[0;34m\u001b[0m\u001b[0m\n\u001b[0m",
            "\u001b[0;32m/opt/conda/lib/python3.5/site-packages/numpy/core/_methods.py\u001b[0m in \u001b[0;36m_prod\u001b[0;34m(a, axis, dtype, out, keepdims)\u001b[0m\n\u001b[1;32m     33\u001b[0m \u001b[0;34m\u001b[0m\u001b[0m\n\u001b[1;32m     34\u001b[0m \u001b[0;32mdef\u001b[0m \u001b[0m_prod\u001b[0m\u001b[0;34m(\u001b[0m\u001b[0ma\u001b[0m\u001b[0;34m,\u001b[0m \u001b[0maxis\u001b[0m\u001b[0;34m=\u001b[0m\u001b[0;32mNone\u001b[0m\u001b[0;34m,\u001b[0m \u001b[0mdtype\u001b[0m\u001b[0;34m=\u001b[0m\u001b[0;32mNone\u001b[0m\u001b[0;34m,\u001b[0m \u001b[0mout\u001b[0m\u001b[0;34m=\u001b[0m\u001b[0;32mNone\u001b[0m\u001b[0;34m,\u001b[0m \u001b[0mkeepdims\u001b[0m\u001b[0;34m=\u001b[0m\u001b[0;32mFalse\u001b[0m\u001b[0;34m)\u001b[0m\u001b[0;34m:\u001b[0m\u001b[0;34m\u001b[0m\u001b[0m\n\u001b[0;32m---> 35\u001b[0;31m     \u001b[0;32mreturn\u001b[0m \u001b[0mumr_prod\u001b[0m\u001b[0;34m(\u001b[0m\u001b[0ma\u001b[0m\u001b[0;34m,\u001b[0m \u001b[0maxis\u001b[0m\u001b[0;34m,\u001b[0m \u001b[0mdtype\u001b[0m\u001b[0;34m,\u001b[0m \u001b[0mout\u001b[0m\u001b[0;34m,\u001b[0m \u001b[0mkeepdims\u001b[0m\u001b[0;34m)\u001b[0m\u001b[0;34m\u001b[0m\u001b[0m\n\u001b[0m\u001b[1;32m     36\u001b[0m \u001b[0;34m\u001b[0m\u001b[0m\n\u001b[1;32m     37\u001b[0m \u001b[0;32mdef\u001b[0m \u001b[0m_any\u001b[0m\u001b[0;34m(\u001b[0m\u001b[0ma\u001b[0m\u001b[0;34m,\u001b[0m \u001b[0maxis\u001b[0m\u001b[0;34m=\u001b[0m\u001b[0;32mNone\u001b[0m\u001b[0;34m,\u001b[0m \u001b[0mdtype\u001b[0m\u001b[0;34m=\u001b[0m\u001b[0;32mNone\u001b[0m\u001b[0;34m,\u001b[0m \u001b[0mout\u001b[0m\u001b[0;34m=\u001b[0m\u001b[0;32mNone\u001b[0m\u001b[0;34m,\u001b[0m \u001b[0mkeepdims\u001b[0m\u001b[0;34m=\u001b[0m\u001b[0;32mFalse\u001b[0m\u001b[0;34m)\u001b[0m\u001b[0;34m:\u001b[0m\u001b[0;34m\u001b[0m\u001b[0m\n",
            "\u001b[0;31mTypeError\u001b[0m: cannot perform reduce with flexible type"
          ]
        }
      ]
    },
    {
      "cell_type": "markdown",
      "metadata": {
        "id": "76YA_CRXsmHN",
        "colab_type": "text"
      },
      "source": [
        "Néhány függvény segíti, hogy valamilyen előre megadott struktúrával rendelkező array-ek generáljunk. Lássunk erre néhány példát!\n",
        "A `linspace()` függvény egy megadott kezdő- és végérték között megadott számú egyenletesen mintavételezett számot ad:"
      ]
    },
    {
      "cell_type": "code",
      "metadata": {
        "id": "9LYxZAklsmHN",
        "colab_type": "code",
        "colab": {},
        "outputId": "caff39bf-cdd6-4472-83a8-ea87e46bde03"
      },
      "source": [
        "linspace(0,pi,10) #10 szám 0 és pi között.. "
      ],
      "execution_count": 0,
      "outputs": [
        {
          "output_type": "execute_result",
          "data": {
            "text/plain": [
              "array([ 0.        ,  0.34906585,  0.6981317 ,  1.04719755,  1.3962634 ,\n",
              "        1.74532925,  2.0943951 ,  2.44346095,  2.7925268 ,  3.14159265])"
            ]
          },
          "metadata": {
            "tags": []
          },
          "execution_count": 31
        }
      ]
    },
    {
      "cell_type": "markdown",
      "metadata": {
        "id": "MzgIibtqsmHR",
        "colab_type": "text"
      },
      "source": [
        "A `rand()` függvény és a hozzá hasonló `randn()`, illetve `randint()` véletlen számokat tartalmazó array-ket adnak."
      ]
    },
    {
      "cell_type": "code",
      "metadata": {
        "id": "81hkrbO3smHR",
        "colab_type": "code",
        "colab": {},
        "outputId": "3d80ad5d-9fa8-4359-8608-7f2a7d486e48"
      },
      "source": [
        "rand() #0 és 1 között egy véletlen szám"
      ],
      "execution_count": 0,
      "outputs": [
        {
          "output_type": "execute_result",
          "data": {
            "text/plain": [
              "0.1262308349286887"
            ]
          },
          "metadata": {
            "tags": []
          },
          "execution_count": 32
        }
      ]
    },
    {
      "cell_type": "code",
      "metadata": {
        "id": "khvz6vOlsmHT",
        "colab_type": "code",
        "colab": {},
        "outputId": "c0a49a70-c8ac-4aa0-cf69-939deb0be3dc"
      },
      "source": [
        "randn(3) #3 darab véletlen Normális elpszlású szám "
      ],
      "execution_count": 0,
      "outputs": [
        {
          "output_type": "execute_result",
          "data": {
            "text/plain": [
              "array([ 0.41822238, -0.74672338, -0.76571842])"
            ]
          },
          "metadata": {
            "tags": []
          },
          "execution_count": 33
        }
      ]
    },
    {
      "cell_type": "code",
      "metadata": {
        "id": "bdX4VMr5smHU",
        "colab_type": "code",
        "colab": {},
        "outputId": "7f17d6a8-814c-4373-d607-ee111786659c"
      },
      "source": [
        "randint(0,9,(2,3)) # egy 2x3 as véletlen mátrix amely 0 és 9 közötti egész számokat tartalmaz"
      ],
      "execution_count": 0,
      "outputs": [
        {
          "output_type": "execute_result",
          "data": {
            "text/plain": [
              "array([[5, 1, 0],\n",
              "       [7, 3, 1]])"
            ]
          },
          "metadata": {
            "tags": []
          },
          "execution_count": 34
        }
      ]
    },
    {
      "cell_type": "markdown",
      "metadata": {
        "id": "aD372gfKsmHW",
        "colab_type": "text"
      },
      "source": [
        "Fontos megjegyezni, hogy bizonyos alapműveletek (összeadás, kivonás, szorzás és osztás) és alapvető matematikai függvények (például a sin, cos és exp függvények) array típusú változókra elemenként hatnak!"
      ]
    },
    {
      "cell_type": "code",
      "metadata": {
        "id": "HdE894nlsmHX",
        "colab_type": "code",
        "colab": {},
        "outputId": "78586040-2391-47b3-fcc6-5063b763893a"
      },
      "source": [
        "v1=array([1,2,3])\n",
        "v2=array([2,3,3])\n",
        "v1*v2"
      ],
      "execution_count": 0,
      "outputs": [
        {
          "output_type": "execute_result",
          "data": {
            "text/plain": [
              "array([2, 6, 9])"
            ]
          },
          "metadata": {
            "tags": []
          },
          "execution_count": 35
        }
      ]
    },
    {
      "cell_type": "code",
      "metadata": {
        "id": "B9FJ0VjismHa",
        "colab_type": "code",
        "colab": {},
        "outputId": "e22433fb-58c3-461f-8729-6714978fe303"
      },
      "source": [
        "sin(v1)"
      ],
      "execution_count": 0,
      "outputs": [
        {
          "output_type": "execute_result",
          "data": {
            "text/plain": [
              "array([ 0.84147098,  0.90929743,  0.14112001])"
            ]
          },
          "metadata": {
            "tags": []
          },
          "execution_count": 36
        }
      ]
    },
    {
      "cell_type": "markdown",
      "metadata": {
        "id": "xsO_J5xrsmHd",
        "colab_type": "text"
      },
      "source": [
        "Bool típusú változók array-énak összege elemenkénti `or`,  szorzata elemenkénti `and` műveletnek felel meg:"
      ]
    },
    {
      "cell_type": "code",
      "metadata": {
        "collapsed": true,
        "id": "e0_UdnbbsmHf",
        "colab_type": "code",
        "colab": {}
      },
      "source": [
        "b1=array([True,False,True,False])\n",
        "b2=array([False,False,True,True])"
      ],
      "execution_count": 0,
      "outputs": []
    },
    {
      "cell_type": "code",
      "metadata": {
        "id": "R8Zz0jnnsmHg",
        "colab_type": "code",
        "colab": {},
        "outputId": "25bf053d-c102-403e-d6e7-01a256f539b4"
      },
      "source": [
        "b1+b2 "
      ],
      "execution_count": 0,
      "outputs": [
        {
          "output_type": "execute_result",
          "data": {
            "text/plain": [
              "array([ True, False,  True,  True], dtype=bool)"
            ]
          },
          "metadata": {
            "tags": []
          },
          "execution_count": 38
        }
      ]
    },
    {
      "cell_type": "code",
      "metadata": {
        "id": "PBwNlqPtsmHi",
        "colab_type": "code",
        "colab": {},
        "outputId": "f5151078-9890-42de-ff29-ba26111b83d4"
      },
      "source": [
        "b1*b2"
      ],
      "execution_count": 0,
      "outputs": [
        {
          "output_type": "execute_result",
          "data": {
            "text/plain": [
              "array([False, False,  True, False], dtype=bool)"
            ]
          },
          "metadata": {
            "tags": []
          },
          "execution_count": 39
        }
      ]
    },
    {
      "cell_type": "markdown",
      "metadata": {
        "id": "cj-_PpHHsmHj",
        "colab_type": "text"
      },
      "source": [
        "## Array típusú változók indexelései"
      ]
    },
    {
      "cell_type": "markdown",
      "metadata": {
        "id": "sgtdMbj4smHj",
        "colab_type": "text"
      },
      "source": [
        "Az array típusú változók legfontosabb tulajdonsága, hogy a list-eknél jóval gazdagabb indexelési módszerekkel rendelkeznek. Nézzünk ezekre néhány példát! Előszöris definiáljunk néhány változót:"
      ]
    },
    {
      "cell_type": "code",
      "metadata": {
        "collapsed": true,
        "id": "9vkUAyFTsmHk",
        "colab_type": "code",
        "colab": {}
      },
      "source": [
        "proba1=linspace(0,10,10) #1-től 10-ig 10 db egyenletes szám\n",
        "proba2=rand(10) #10 véleteln szám\n",
        "proba3=randint(0,10,(5,5)) #5x5 ös véletlen mátrix"
      ],
      "execution_count": 0,
      "outputs": []
    },
    {
      "cell_type": "markdown",
      "metadata": {
        "id": "P3jIb43XsmHn",
        "colab_type": "text"
      },
      "source": [
        "A list-eknél megszokott szeletelések itt is működnek:"
      ]
    },
    {
      "cell_type": "code",
      "metadata": {
        "id": "3JcxD1lXsmHn",
        "colab_type": "code",
        "colab": {},
        "outputId": "a311ff9a-2d83-4e7f-b8dc-6859f938f8ee"
      },
      "source": [
        "proba1[0:3]"
      ],
      "execution_count": 0,
      "outputs": [
        {
          "output_type": "execute_result",
          "data": {
            "text/plain": [
              "array([ 0.        ,  1.11111111,  2.22222222])"
            ]
          },
          "metadata": {
            "tags": []
          },
          "execution_count": 41
        }
      ]
    },
    {
      "cell_type": "code",
      "metadata": {
        "id": "eRpG99JUsmHp",
        "colab_type": "code",
        "colab": {},
        "outputId": "d1b51c00-111e-454d-acd9-e234d61fac6e"
      },
      "source": [
        "proba1[-4:-1]"
      ],
      "execution_count": 0,
      "outputs": [
        {
          "output_type": "execute_result",
          "data": {
            "text/plain": [
              "array([ 6.66666667,  7.77777778,  8.88888889])"
            ]
          },
          "metadata": {
            "tags": []
          },
          "execution_count": 42
        }
      ]
    },
    {
      "cell_type": "markdown",
      "metadata": {
        "id": "OxS_GP09smHq",
        "colab_type": "text"
      },
      "source": [
        "A list-ekkel ellentétben itt egy tetszőleges indexlistát is megadhatunk indexelésként:"
      ]
    },
    {
      "cell_type": "code",
      "metadata": {
        "id": "E3r8z79tsmHr",
        "colab_type": "code",
        "colab": {},
        "outputId": "f7a69b26-8d18-4bc5-fc38-8a05430bc16c"
      },
      "source": [
        "proba1[[3,5,2]]"
      ],
      "execution_count": 0,
      "outputs": [
        {
          "output_type": "execute_result",
          "data": {
            "text/plain": [
              "array([ 3.33333333,  5.55555556,  2.22222222])"
            ]
          },
          "metadata": {
            "tags": []
          },
          "execution_count": 43
        }
      ]
    },
    {
      "cell_type": "markdown",
      "metadata": {
        "id": "nRgPGxXfsmHs",
        "colab_type": "text"
      },
      "source": [
        "Egy másik hasznos dolog, hogy egy array-ből Bool típusú array segítségével valamilyen kritériumokat teljesítő elemeket választhatunk ki:"
      ]
    },
    {
      "cell_type": "code",
      "metadata": {
        "id": "4WbIoffjsmHs",
        "colab_type": "code",
        "colab": {},
        "outputId": "e24983c7-7b6b-4066-8cc0-b43a63418527"
      },
      "source": [
        "proba1>5 # Ez a kifejezés egy bool típusú array-t ad vissza"
      ],
      "execution_count": 0,
      "outputs": [
        {
          "output_type": "execute_result",
          "data": {
            "text/plain": [
              "array([False, False, False, False, False,  True,  True,  True,  True,  True], dtype=bool)"
            ]
          },
          "metadata": {
            "tags": []
          },
          "execution_count": 44
        }
      ]
    },
    {
      "cell_type": "markdown",
      "metadata": {
        "id": "OdbH-TyNsmHu",
        "colab_type": "text"
      },
      "source": [
        "Ha a fenti Bool típusú array-t mint indexet használjuk a proba1 hasában, akkor egy olyan array-t kapunk, amely a `proba1`-nek csak azon elemeit tartalmazza, ahol a Bool érték `True` volt, azaz az utolsó 5 elemet!"
      ]
    },
    {
      "cell_type": "code",
      "metadata": {
        "id": "CV5AljaRsmHu",
        "colab_type": "code",
        "colab": {},
        "outputId": "b93432c2-d4a8-4138-f9cb-8b12c03ae209"
      },
      "source": [
        "proba1[proba1>5]"
      ],
      "execution_count": 0,
      "outputs": [
        {
          "output_type": "execute_result",
          "data": {
            "text/plain": [
              "array([  5.55555556,   6.66666667,   7.77777778,   8.88888889,  10.        ])"
            ]
          },
          "metadata": {
            "tags": []
          },
          "execution_count": 45
        }
      ]
    },
    {
      "cell_type": "markdown",
      "metadata": {
        "id": "AV4hCax8smHw",
        "colab_type": "text"
      },
      "source": [
        "Adatbázisok elemzésénél egy igen hasznos művelet valamilyen tulajdonság szerint válogatni az adatbázisban. Ezen feladatok  sokszor megfogalmazhatóak úgy, mint egy array elemeinek egy másik array elemei szerinti szelektálása! Vizsgáljuk meg például a `proba1` azon elemeit amelyeknek megfelelő elemek a `proba2`-ben 0.25-nél nagyobbak:"
      ]
    },
    {
      "cell_type": "code",
      "metadata": {
        "id": "C-VPCpqNsmHw",
        "colab_type": "code",
        "colab": {},
        "outputId": "2157d48e-8ff1-4b1f-88c8-feebf20277c8"
      },
      "source": [
        "proba1[proba2>0.25]"
      ],
      "execution_count": 0,
      "outputs": [
        {
          "output_type": "execute_result",
          "data": {
            "text/plain": [
              "array([ 0.        ,  1.11111111,  2.22222222,  4.44444444,  5.55555556,\n",
              "        6.66666667,  7.77777778,  8.88888889])"
            ]
          },
          "metadata": {
            "tags": []
          },
          "execution_count": 46
        }
      ]
    },
    {
      "cell_type": "markdown",
      "metadata": {
        "id": "6f1hdjy-smHy",
        "colab_type": "text"
      },
      "source": [
        "Végül áljon itt egy pár grafikus példa magasabb dimmenziójú array változók indexeléseire:\n",
        "<table style=\"width:100%;border: 0px solid #ffffff\">\n",
        "<tr style=\"border: 0px solid #ffffff\">\n",
        "<td style=\"border: 0px solid #ffffff\">\n",
        "<img src=\"https://scipy-lectures.github.io/_images/numpy_indexing.png\" width=400> \n",
        "</td>\n",
        "<td style=\"border: 0px solid #ffffff\">\n",
        "<img src=\"http://scipy-lectures.github.io/_images/numpy_fancy_indexing.png\" width=400>\n",
        "</td>\n",
        "</tr>\n",
        "</table>"
      ]
    },
    {
      "cell_type": "markdown",
      "metadata": {
        "id": "aJZH-ctUsmHy",
        "colab_type": "text"
      },
      "source": [
        "# Ábrákról dióhéjban\n",
        "\n",
        "Igen sokszor egy program futása végén a kiszámolt eredményeket ábrákban foglaljuk össze. A `Python` nyelvben sok modul van, ami ábra készítésére alkalmas, ezek közül talán a legelterjedtebb a `matplotlib`. Az alábbiakban néhány egyszerűbb ábrakészítési feladatot tekintünk át. \n",
        "A `plot()` függvény, amit a későbbiekben is igen gyakran fogunk használni, a legalapvetőbb ábrakészítő függvény.\n",
        "Ezt a függvény a `matplotlib` modul `pyplot` almoduljában található. Tehát ha a `matplotlib` modult betöltöttük akkor az alábbi módon használható:"
      ]
    },
    {
      "cell_type": "code",
      "metadata": {
        "id": "xs-4e6wxsmHz",
        "colab_type": "code",
        "colab": {},
        "outputId": "781dd197-2618-4e85-ac5c-d44a562211db"
      },
      "source": [
        "x=[1,2,3,4,5]\n",
        "y=[1,4,13,10,25]\n",
        "matplotlib.pyplot.plot(x,y)"
      ],
      "execution_count": 0,
      "outputs": [
        {
          "output_type": "execute_result",
          "data": {
            "text/plain": [
              "[<matplotlib.lines.Line2D at 0x7f8d21942828>]"
            ]
          },
          "metadata": {
            "tags": []
          },
          "execution_count": 47
        },
        {
          "output_type": "display_data",
          "data": {
            "image/png": "[encoded data removed]",
            "text/plain": [
              "<matplotlib.figure.Figure at 0x7f8d21cfc3c8>"
            ]
          },
          "metadata": {
            "tags": []
          }
        }
      ]
    },
    {
      "cell_type": "markdown",
      "metadata": {
        "id": "L3podYpMsmH0",
        "colab_type": "text"
      },
      "source": [
        "A fenti parancs tehát az `y` tömböt ábrázolja az `x` függvényében. "
      ]
    },
    {
      "cell_type": "markdown",
      "metadata": {
        "id": "sUWCzVDdsmH0",
        "colab_type": "text"
      },
      "source": [
        "Mivel a notebook elején lefuttatuk a  `%pylab inline` parancsot, ami többek között a `matplotlib.pyplot` modulból is betöltötte az összes függvényt, ezért elegendő a `plot()` függvényt magában hívni!"
      ]
    },
    {
      "cell_type": "code",
      "metadata": {
        "id": "gTYEV60rsmH0",
        "colab_type": "code",
        "colab": {},
        "outputId": "f52ad517-cd50-4440-9db8-e6f24c73b278"
      },
      "source": [
        "plot(x,y)"
      ],
      "execution_count": 0,
      "outputs": [
        {
          "output_type": "execute_result",
          "data": {
            "text/plain": [
              "[<matplotlib.lines.Line2D at 0x7f8d20eb8828>]"
            ]
          },
          "metadata": {
            "tags": []
          },
          "execution_count": 48
        },
        {
          "output_type": "display_data",
          "data": {
            "image/png": "[encoded data removed]",
            "text/plain": [
              "<matplotlib.figure.Figure at 0x7f8d21cfc320>"
            ]
          },
          "metadata": {
            "tags": []
          }
        }
      ]
    },
    {
      "cell_type": "markdown",
      "metadata": {
        "id": "XH7-TcpNsmH2",
        "colab_type": "text"
      },
      "source": [
        "A `Python`-ban konkrét matematikai függvények ábrázolásának az a legegyszerűbb módja, ha két tömböt generálunk, egyet, amely azokat a pontokat tartalmazza, ahol a függvényt ki szeretnénk értékelni, illetve egyet, amely a függvény értékét tartalmazza a kiértékelendő pontokban. Ezeket a `plot()` függvény segítségével ábrázoljuk.\n",
        "Az alábbi példán a $\\sin(t)$ függvényt ábrázoljuk a $[0,2\\pi]$ intervallumon tíz darab mintavételezési pontot használva."
      ]
    },
    {
      "cell_type": "code",
      "metadata": {
        "id": "KRoNqrf8smH2",
        "colab_type": "code",
        "colab": {},
        "outputId": "572c78d5-779f-4a50-f758-49dba1686790"
      },
      "source": [
        "t=linspace(0,2*pi,10)\n",
        "plot(t,sin(t))"
      ],
      "execution_count": 0,
      "outputs": [
        {
          "output_type": "execute_result",
          "data": {
            "text/plain": [
              "[<matplotlib.lines.Line2D at 0x7f8d2175ccf8>]"
            ]
          },
          "metadata": {
            "tags": []
          },
          "execution_count": 49
        },
        {
          "output_type": "display_data",
          "data": {
            "image/png": "[encoded data removed]",
            "text/plain": [
              "<matplotlib.figure.Figure at 0x7f8d221899b0>"
            ]
          },
          "metadata": {
            "tags": []
          }
        }
      ]
    },
    {
      "cell_type": "markdown",
      "metadata": {
        "id": "MESfa-rcsmH3",
        "colab_type": "text"
      },
      "source": [
        "Ha több mintavételezési pontot használunk akkor simább függvényt kapunk. Ezt úgy érhetjük el, ha a `linspace()` függvény harmadik változójának segítségével megnöveljük a legenerált értékek számát. "
      ]
    },
    {
      "cell_type": "code",
      "metadata": {
        "id": "tCwB6QTKsmH4",
        "colab_type": "code",
        "colab": {},
        "outputId": "4cc6c350-0e89-498b-840c-4110857c7187"
      },
      "source": [
        "t=linspace(0,2*pi,100) \n",
        "plot(t,sin(t))"
      ],
      "execution_count": 0,
      "outputs": [
        {
          "output_type": "execute_result",
          "data": {
            "text/plain": [
              "[<matplotlib.lines.Line2D at 0x7f8d200f0860>]"
            ]
          },
          "metadata": {
            "tags": []
          },
          "execution_count": 50
        },
        {
          "output_type": "display_data",
          "data": {
            "image/png": "[encoded data removed]",
            "text/plain": [
              "<matplotlib.figure.Figure at 0x7f8d21772860>"
            ]
          },
          "metadata": {
            "tags": []
          }
        }
      ]
    },
    {
      "cell_type": "markdown",
      "metadata": {
        "id": "8x2F6ErusmH8",
        "colab_type": "text"
      },
      "source": [
        "Ha egyszerre több függvényt szeretnénk ábrázolni, akkor egy kódcellán belül több `plot()` parancsot is kiadhatunk:"
      ]
    },
    {
      "cell_type": "code",
      "metadata": {
        "id": "113Z8TvssmH9",
        "colab_type": "code",
        "colab": {},
        "outputId": "72a4380b-0fad-49c1-859c-dbdd5f289aa2"
      },
      "source": [
        "plot(t,sin(t))\n",
        "plot(t,cos(t))"
      ],
      "execution_count": 0,
      "outputs": [
        {
          "output_type": "execute_result",
          "data": {
            "text/plain": [
              "[<matplotlib.lines.Line2D at 0x7f8d200feba8>]"
            ]
          },
          "metadata": {
            "tags": []
          },
          "execution_count": 51
        },
        {
          "output_type": "display_data",
          "data": {
            "image/png": "[encoded data removed]",
            "text/plain": [
              "<matplotlib.figure.Figure at 0x7f8d200febe0>"
            ]
          },
          "metadata": {
            "tags": []
          }
        }
      ]
    },
    {
      "cell_type": "markdown",
      "metadata": {
        "id": "1AzyjGonsmH_",
        "colab_type": "text"
      },
      "source": [
        "Ha kétváltozós függvényt szeretnénk ábrázolni, akkor ahhoz a mintavételezést a `numpy` csomag `meshgrid()` függvényével tehetjük meg az alábbi szintaxis szerint:"
      ]
    },
    {
      "cell_type": "code",
      "metadata": {
        "id": "vq6G77mgsmH_",
        "colab_type": "code",
        "colab": {}
      },
      "source": [
        "xrange=linspace(-3,3,100) # határok és pontok száma az x irányba\n",
        "yrange=linspace(-3,3,100) # határok és pontok száma az y irányba\n",
        "x,y=meshgrid(xrange,yrange) # mintavételezés az x és y síkban"
      ],
      "execution_count": 0,
      "outputs": []
    },
    {
      "cell_type": "markdown",
      "metadata": {
        "id": "G4PUoHP9smIB",
        "colab_type": "text"
      },
      "source": [
        "Két változós függvényt a `pcolor()` `matplotlib` függvény segítségével tudunk ábrázolni. A fent definiált `x` és `y` tömbök segítségével például az $$f(x,y)=\\mathrm{e}^{-(x^2+y^2)}$$ kétdimenziós Gauss-görbét az alábbi módon ábrázolhatjuk:"
      ]
    },
    {
      "cell_type": "code",
      "metadata": {
        "id": "rY1P2yS9smIC",
        "colab_type": "code",
        "colab": {},
        "outputId": "75c81a62-174e-4473-a94a-974413978423"
      },
      "source": [
        "pcolor(x,y,exp(-(x**2+y**2)))"
      ],
      "execution_count": 0,
      "outputs": [
        {
          "output_type": "execute_result",
          "data": {
            "text/plain": [
              "<matplotlib.collections.PolyCollection at 0x7f8d21475f60>"
            ]
          },
          "metadata": {
            "tags": []
          },
          "execution_count": 53
        },
        {
          "output_type": "display_data",
          "data": {
            "image/png": "[encoded data removed]",
            "text/plain": [
              "<matplotlib.figure.Figure at 0x7f8d2172cd68>"
            ]
          },
          "metadata": {
            "tags": []
          }
        }
      ]
    },
    {
      "cell_type": "markdown",
      "metadata": {
        "id": "OYNDgz95smIE",
        "colab_type": "text"
      },
      "source": [
        "Végül a statisztikus problémák vizsgálatakor számtalanszor használt hisztogramkészítéssel ismerkedjünk. Erre a `matplotlib` modul a `hist()` függvényét fogjuk használni. Előszöris gyártsunk a `numpy` modul `random` almoduljának `randn()` függvényével ezer darab véletlen számot. A  `randn()` függvény Gauss-eloszlás szerint generál véletlen számokat. A `numpy` `random` modulja sok egyéb más eloszlás szerint is tud véletlenszámokat generálni, a rendelkezésre álló generátorokról [itt](http://docs.scipy.org/doc/numpy/reference/routines.random.html) található információ."
      ]
    },
    {
      "cell_type": "code",
      "metadata": {
        "id": "6TFfQUkFsmIE",
        "colab_type": "code",
        "colab": {}
      },
      "source": [
        "gauss_eloszlas=random.randn(1000)"
      ],
      "execution_count": 0,
      "outputs": []
    },
    {
      "cell_type": "markdown",
      "metadata": {
        "id": "v2zkpubvsmII",
        "colab_type": "text"
      },
      "source": [
        "Egy adatsor hisztogramját egyszerűen a `hist()` függvénnyel lehet legyártani:"
      ]
    },
    {
      "cell_type": "code",
      "metadata": {
        "id": "tIBZIauTsmII",
        "colab_type": "code",
        "colab": {},
        "outputId": "7eaec648-712e-442b-c4b9-0dc6a928fb02"
      },
      "source": [
        "hist(gauss_eloszlas)"
      ],
      "execution_count": 0,
      "outputs": [
        {
          "output_type": "execute_result",
          "data": {
            "text/plain": [
              "(array([   1.,    6.,   14.,   79.,  197.,  271.,  273.,  117.,   34.,    8.]),\n",
              " array([-4.29185613, -3.54341105, -2.79496596, -2.04652088, -1.29807579,\n",
              "        -0.54963071,  0.19881438,  0.94725946,  1.69570454,  2.44414963,\n",
              "         3.19259471]),\n",
              " <a list of 10 Patch objects>)"
            ]
          },
          "metadata": {
            "tags": []
          },
          "execution_count": 55
        },
        {
          "output_type": "display_data",
          "data": {
            "image/png": "[encoded data removed]",
            "text/plain": [
              "<matplotlib.figure.Figure at 0x7f8d217317b8>"
            ]
          },
          "metadata": {
            "tags": []
          }
        }
      ]
    },
    {
      "cell_type": "markdown",
      "metadata": {
        "id": "I-dksR5zsmIL",
        "colab_type": "text"
      },
      "source": [
        "A fenti ábrán az ábrázolt intervallumot a hist parancs, az alapértelmezésnek megfelelően 10 alintervallumra osztja, és azt jeleníti meg, hogy az adott alintervallumban hány érték található a bemeneti `gauss_eloszlas` tömbben. "
      ]
    },
    {
      "cell_type": "markdown",
      "metadata": {
        "id": "T49wAJoGsmIL",
        "colab_type": "text"
      },
      "source": [
        "Fontos megjegyezni hogy a `plot()`, `pcolor()` és`hist()` parancsoknak a fent tárgyalt legegyszerűbb használatán túl számos alapértelmezett értékekkel ellátott kulcsszavas argumentuma van, melyekről egy rövid leírás a megfelelő függvény dokumentációjában ( a docstringjében ) található."
      ]
    }
  ]
}