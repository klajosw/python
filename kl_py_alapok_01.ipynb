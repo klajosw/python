{
  "nbformat": 4,
  "nbformat_minor": 0,
  "metadata": {
    "colab": {
      "name": "kl_py_alapok_01.ipynb",
      "provenance": [],
      "collapsed_sections": [],
      "include_colab_link": true
    },
    "kernelspec": {
      "display_name": "Python 3",
      "language": "python",
      "name": "python3"
    },
    "language_info": {
      "codemirror_mode": {
        "name": "ipython",
        "version": 3
      },
      "file_extension": ".py",
      "mimetype": "text/x-python",
      "name": "python",
      "nbconvert_exporter": "python",
      "pygments_lexer": "ipython3",
      "version": "3.7.4"
    }
  },
  "cells": [
    {
      "cell_type": "markdown",
      "metadata": {
        "id": "view-in-github",
        "colab_type": "text"
      },
      "source": [
        "<a href=\"https://colab.research.google.com/github/klajosw/python/blob/master/kl_py_alapok_01.ipynb\" target=\"_parent\"><img src=\"https://colab.research.google.com/assets/colab-badge.svg\" alt=\"Open In Colab\"/></a>"
      ]
    },
    {
      "cell_type": "markdown",
      "metadata": {
        "id": "FDO27uWJizef",
        "colab_type": "text"
      },
      "source": [
        "# Python programozási nyelv alapok\n",
        "\n",
        "\n",
        "## változok\n",
        "\n"
      ]
    },
    {
      "cell_type": "markdown",
      "metadata": {
        "id": "PcfaxOFjizeg",
        "colab_type": "text"
      },
      "source": [
        "### Szöveges változók (nem megváltoztatható /\tImmutable)"
      ]
    },
    {
      "cell_type": "code",
      "metadata": {
        "id": "UZwH83R7izeh",
        "colab_type": "code",
        "colab": {},
        "outputId": "2b65e5a4-76df-4c2b-aa0b-3cf1c984421c"
      },
      "source": [
        "# megjegyzés mindig # -el kezdődik és hatása asor végéig tart\n",
        "\n",
        "szoveg = 'Szöveg1'     ## egyszeres idézőjelben\n",
        "szoveg = \"Szöveg2\"     ## kettős idézőjelben\n",
        "szoveg = '''Szöveg3''' ## háromszoros idézőjelben\n",
        "\n",
        "#normál szöveg\n",
        "szoveg = \"Új sor jelzésre szolgál a \\n valami új sorba\"\n",
        "print(szoveg)\n",
        "\n",
        "## raw string (nem értelmez vezérlő és különleges karaktereket) !! nagyon hasznos pl. reguláris kifejezések megadásánál\n",
        "r_szoveg = r\"Új sor jelzésre szolgál a \\n valami új sorba\"\n",
        "print(r_szoveg)\n",
        "\n",
        "# Több soros szöveg\n",
        "szoveg = \"\"\"Új sor jelzésre szolgál \n",
        "a valami \n",
        "új sorba\"\"\"\n",
        "print(szoveg)\n",
        "\n",
        "# Töbsorban megadott és mégyis egysorba kerülő szöveg\n",
        "szoveg =\"Töbsorban megadott.\\\n",
        "egysorba kerülő szöveg.\"\n",
        "print(szoveg)\n",
        "\n",
        "# szöveggé alakítás\n",
        "szoveg = str(12)\n",
        "szoveg = str(12.05)\n",
        "\n"
      ],
      "execution_count": 0,
      "outputs": [
        {
          "output_type": "stream",
          "text": [
            "Új sor jelzésre szolgál a \n",
            " valami új sorba\n",
            "Új sor jelzésre szolgál a \\n valami új sorba\n",
            "Új sor jelzésre szolgál \n",
            "a valami \n",
            "új sorba\n",
            "Töbsorban megadott.egysorba kerülő szöveg.\n"
          ],
          "name": "stdout"
        }
      ]
    },
    {
      "cell_type": "markdown",
      "metadata": {
        "id": "anLISxXvizej",
        "colab_type": "text"
      },
      "source": [
        "### Kimenetre írás (print)"
      ]
    },
    {
      "cell_type": "code",
      "metadata": {
        "id": "URFRwOomizek",
        "colab_type": "code",
        "colab": {},
        "outputId": "472aeb4a-603e-4e2e-80dd-417d21d260c0"
      },
      "source": [
        "## több változó kiírása vesszövel tagoltan\n",
        "print('Lajos', 57, 'BI', 40+2)\n",
        "\n",
        "## összefüzéses kiíratás\n",
        "print('Kecskeméti' + ' ' +'Lajos')\n",
        "\n",
        "## Újsor jelzés kikapcsolása\n",
        "print('a',end=' ') \n",
        "print('b',end=' ') \n",
        "print('c')\n",
        "\n",
        "## promázott kiíratás\n",
        "print('{0:.3f}'.format(1.033/33)) \n",
        "print('{0:_^13}'.format('Szia'))\n",
        "print('{name} született {born} -ben'.format(name='Lajos', born=62))\n"
      ],
      "execution_count": 0,
      "outputs": [
        {
          "output_type": "stream",
          "text": [
            "Lajos 57 BI 42\n",
            "Kecskeméti Lajos\n",
            "a b c\n",
            "0.031\n",
            "____Szia_____\n",
            "Lajos született 62 -ben\n"
          ],
          "name": "stdout"
        }
      ]
    },
    {
      "cell_type": "code",
      "metadata": {
        "id": "PRVNK4Ffizem",
        "colab_type": "code",
        "colab": {},
        "outputId": "fe73412b-13ab-4cec-e086-db38c092fd8b"
      },
      "source": [
        "for x in range(1, 11):\n",
        "    print(repr(x).rjust(2), repr(x * x).rjust(3), end=' ')\n",
        "    print(repr(x * x * x).rjust(4))\n",
        "    \n",
        "#-----------------------------------    \n",
        "for x in range(1,11):\n",
        "     print('{0:2d} {1:3d} {2:4d}'.format(x, x * x, x * x * x))\n",
        "       \n",
        "#-----------------------------------  \n",
        "print('12'.zfill(5))\n",
        "print('Nevem {}, születtem \"{}-en.\"'.format('Lajos', 'Budapest'))\n",
        "\n",
        "#----------------------------------- \n",
        "import math\n",
        "print('PI értéke {!r}.'.format(math.pi))\n",
        "print('PI kerekített értéke {0:.3f}.'.format(math.pi))\n"
      ],
      "execution_count": 0,
      "outputs": [
        {
          "output_type": "stream",
          "text": [
            " 1   1    1\n",
            " 2   4    8\n",
            " 3   9   27\n",
            " 4  16   64\n",
            " 5  25  125\n",
            " 6  36  216\n",
            " 7  49  343\n",
            " 8  64  512\n",
            " 9  81  729\n",
            "10 100 1000\n",
            " 1   1    1\n",
            " 2   4    8\n",
            " 3   9   27\n",
            " 4  16   64\n",
            " 5  25  125\n",
            " 6  36  216\n",
            " 7  49  343\n",
            " 8  64  512\n",
            " 9  81  729\n",
            "10 100 1000\n",
            "00012\n",
            "Nevem Lajos, születtem \"Budapest-en.\"\n",
            "PI értéke 3.141592653589793.\n",
            "PI kerekített értéke 3.142.\n"
          ],
          "name": "stdout"
        }
      ]
    },
    {
      "cell_type": "markdown",
      "metadata": {
        "id": "BRb90TJeizeo",
        "colab_type": "text"
      },
      "source": [
        "### adat, szöveg bekérés"
      ]
    },
    {
      "cell_type": "code",
      "metadata": {
        "id": "Pk3t2y0-izep",
        "colab_type": "code",
        "colab": {},
        "outputId": "ae22172f-327c-4aca-c107-62d77db8cc6e"
      },
      "source": [
        "szoveg=input('Adj meg egy szöveget : ')\n",
        "szam = int(input('Kérek egy számot\t:\t'))\n"
      ],
      "execution_count": 0,
      "outputs": [
        {
          "output_type": "stream",
          "text": [
            "Adj meg egy szöveget : ezt adom m eg\n",
            "Kérek egy számot\t:\t100\n"
          ],
          "name": "stdout"
        }
      ]
    },
    {
      "cell_type": "markdown",
      "metadata": {
        "id": "mhogrbZcizeq",
        "colab_type": "text"
      },
      "source": [
        "### Szintaktika (\n",
        "#### egy sor egy utasítás, \n",
        "#### vagy egysorba több utasítás, pontosveszzővel elválasztva\n",
        "#### vagy több sorba de arészeket \\ karakterrel 'ragasszuk össze'"
      ]
    },
    {
      "cell_type": "code",
      "metadata": {
        "id": "D-zoOD6Pizer",
        "colab_type": "code",
        "colab": {},
        "outputId": "eb52cc2c-8bc7-4b6e-aeb6-f1e1ef1bad68"
      },
      "source": [
        "i=5 \n",
        "print(i) \n",
        "i=i + 1 \n",
        "print(i)\n",
        "print('-----------Elválasztás-----------')\n",
        "i=5 ; print(i) ; i=i + 1 ;print(i)\n",
        "print('-----------Elválasztás-----------')\n",
        "i = \\\n",
        "5\n",
        "print \\\n",
        "(i)\n",
        "i= \\\n",
        "i \\\n",
        "+1\n",
        "print(i)"
      ],
      "execution_count": 0,
      "outputs": [
        {
          "output_type": "stream",
          "text": [
            "5\n",
            "6\n",
            "-----------Elválasztás-----------\n",
            "5\n",
            "6\n",
            "-----------Elválasztás-----------\n",
            "5\n",
            "6\n"
          ],
          "name": "stdout"
        }
      ]
    },
    {
      "cell_type": "markdown",
      "metadata": {
        "id": "Qgs8d9kyizet",
        "colab_type": "text"
      },
      "source": [
        "### Program tagolás behuzással (Indentation)"
      ]
    },
    {
      "cell_type": "code",
      "metadata": {
        "id": "S_yZpclPizeu",
        "colab_type": "code",
        "colab": {},
        "outputId": "d3ca714d-741d-4bdd-fddf-3d50cddf0f35"
      },
      "source": [
        "# from __future__ import braces\n",
        "\n",
        "i=5\n",
        "if i < 10:\n",
        "    print(i)\n",
        "    i = i + 1  # növel 1-el\n",
        "    i += 4     # növel 4-el\n",
        "    i *= 2     # megkétszerez\n",
        "print(i)\n",
        "\n",
        "if True:\n",
        "    print('Ez egy mindíg igaz állítás')\n"
      ],
      "execution_count": 0,
      "outputs": [
        {
          "output_type": "stream",
          "text": [
            "5\n",
            "20\n",
            "Ez egy mindíg igaz állítás\n"
          ],
          "name": "stdout"
        }
      ]
    },
    {
      "cell_type": "markdown",
      "metadata": {
        "id": "OA0lvjafizew",
        "colab_type": "text"
      },
      "source": [
        "## Ciklusok\n",
        "\n",
        "### for ciklus\n"
      ]
    },
    {
      "cell_type": "code",
      "metadata": {
        "id": "llxGIa6Sizew",
        "colab_type": "code",
        "colab": {},
        "outputId": "062eb16f-ece9-426a-fa4b-af396b3f6d1a"
      },
      "source": [
        "for i in range(1,5):\n",
        "    print('Számoljunk', i) \n",
        "else:\n",
        "    print('A for ciklus végetért')\n",
        "    \n",
        "print('Ez mindíg megjelenik')"
      ],
      "execution_count": 0,
      "outputs": [
        {
          "output_type": "stream",
          "text": [
            "Számoljunk 1\n",
            "Számoljunk 2\n",
            "Számoljunk 3\n",
            "Számoljunk 4\n",
            "A for ciklus végetért\n",
            "Ez mindíg megjelenik\n"
          ],
          "name": "stdout"
        }
      ]
    },
    {
      "cell_type": "code",
      "metadata": {
        "id": "k9947XMgizey",
        "colab_type": "code",
        "colab": {},
        "outputId": "1890beea-043f-4171-fed8-0029e7753622"
      },
      "source": [
        "## Kiolvasó ciklus 1.\n",
        "szamok = ['egy', 'kettő', 'három', 'négy']\n",
        "for p in szamok:\n",
        "    print(p, ' szám hossza ', len(p))\n"
      ],
      "execution_count": 0,
      "outputs": [
        {
          "output_type": "stream",
          "text": [
            "egy  szám hossza  3\n",
            "kettő  szám hossza  5\n",
            "három  szám hossza  5\n",
            "négy  szám hossza  4\n"
          ],
          "name": "stdout"
        }
      ]
    },
    {
      "cell_type": "code",
      "metadata": {
        "id": "mzP5jHFUize0",
        "colab_type": "code",
        "colab": {},
        "outputId": "3993d37f-e8cf-4bea-829f-ca7a2bb4e924"
      },
      "source": [
        "## Kiolvasó ciklus 2.\n",
        "szamok = ['egy', 'kettő', 'három', 'négy']\n",
        "for i in range(len(szamok)):\n",
        "    print(i, szamok[i])\n"
      ],
      "execution_count": 0,
      "outputs": [
        {
          "output_type": "stream",
          "text": [
            "0 egy\n",
            "1 kettő\n",
            "2 három\n",
            "3 négy\n"
          ],
          "name": "stdout"
        }
      ]
    },
    {
      "cell_type": "code",
      "metadata": {
        "id": "csTn8N0rize2",
        "colab_type": "code",
        "colab": {},
        "outputId": "c99054b6-34a5-41bc-eb5c-7dc233bb6fa2"
      },
      "source": [
        "# Prim keresés\n",
        "for n in range(2, 21):\n",
        "    for x in range(2, n):\n",
        "        if n % x == 0:\n",
        "            print(n, ' nem prim, felbontható', x, '*', n/x)\n",
        "            break\n",
        "    else:\n",
        "        # sigue el bucle sin encontrar un factor\n",
        "        print(n, ' Ez prim szám ')\n"
      ],
      "execution_count": 0,
      "outputs": [
        {
          "output_type": "stream",
          "text": [
            "2  Ez prim szám \n",
            "3  Ez prim szám \n",
            "4  nem prim, felbontható 2 * 2.0\n",
            "5  Ez prim szám \n",
            "6  nem prim, felbontható 2 * 3.0\n",
            "7  Ez prim szám \n",
            "8  nem prim, felbontható 2 * 4.0\n",
            "9  nem prim, felbontható 3 * 3.0\n",
            "10  nem prim, felbontható 2 * 5.0\n",
            "11  Ez prim szám \n",
            "12  nem prim, felbontható 2 * 6.0\n",
            "13  Ez prim szám \n",
            "14  nem prim, felbontható 2 * 7.0\n",
            "15  nem prim, felbontható 3 * 5.0\n",
            "16  nem prim, felbontható 2 * 8.0\n",
            "17  Ez prim szám \n",
            "18  nem prim, felbontható 2 * 9.0\n",
            "19  Ez prim szám \n",
            "20  nem prim, felbontható 2 * 10.0\n"
          ],
          "name": "stdout"
        }
      ]
    },
    {
      "cell_type": "code",
      "metadata": {
        "id": "hRWwyQ5iize4",
        "colab_type": "code",
        "colab": {},
        "outputId": "193db105-c708-4fb8-82da-e95c970f5c73"
      },
      "source": [
        "print('range(10)       = ', range(10))\n",
        "print('list(range(10)) =', list(range(10)))"
      ],
      "execution_count": 0,
      "outputs": [
        {
          "output_type": "stream",
          "text": [
            "range(10)       =  range(0, 10)\n",
            "list(range(10)) = [0, 1, 2, 3, 4, 5, 6, 7, 8, 9]\n"
          ],
          "name": "stdout"
        }
      ]
    },
    {
      "cell_type": "markdown",
      "metadata": {
        "id": "jfPYKXSdize5",
        "colab_type": "text"
      },
      "source": [
        "### While ciklus"
      ]
    },
    {
      "cell_type": "code",
      "metadata": {
        "id": "D2JNaeoTize6",
        "colab_type": "code",
        "colab": {},
        "outputId": "da10b17a-ed66-4a3f-ba0f-c9e5b895097a"
      },
      "source": [
        "number=42 \n",
        "kerdez=True\n",
        "tip=0\n",
        "while kerdez:\n",
        "    guess=int(input('Kérek egy számot (1-100 között) : '))\n",
        "    tip+=1\n",
        "    if guess == number:\n",
        "        print('Gratulálok eltaláltad. Neked ', tip, 'tipelésed volt.')\n",
        "        kerdez=False\n",
        "    elif guess < number:\n",
        "        print('Nem talált nagyobbat adjál meg.') \n",
        "    else:\n",
        "        print('Nem talált kisebbet adjál meg.') \n",
        "else:\t\t\t\t\n",
        "    print('Itt a while ciklus vége.')\n",
        "\n",
        "print('Kész vagyunk. Ha háromból eltaláltad ügyes vagy.')\n"
      ],
      "execution_count": 0,
      "outputs": [
        {
          "output_type": "stream",
          "text": [
            "Kérek egy számot (1-100 között) : 12\n",
            "Nem talált nagyobbat adjál meg.\n",
            "Kérek egy számot (1-100 között) : 81\n",
            "Nem talált kisebbet adjál meg.\n",
            "Kérek egy számot (1-100 között) : 42\n",
            "Gratulálok eltaláltad. Neked  3 tipelésed volt.\n",
            "Itt a while ciklus vége.\n",
            "Kész vagyunk. Ha háromból eltaláltad ügyes vagy.\n"
          ],
          "name": "stdout"
        }
      ]
    },
    {
      "cell_type": "code",
      "metadata": {
        "id": "Vc-3NQC9ize8",
        "colab_type": "code",
        "colab": {},
        "outputId": "374b462c-ef85-4539-f685-e7db06c171dc"
      },
      "source": [
        "## Fibonacci sor whilde ciklussal:\n",
        "a, b = 0, 1\n",
        "while b < 100:\n",
        "    print(b, end=' -> ')  ## Egysorvba legyen az eredmény\n",
        "    a, b = b, a+b\n"
      ],
      "execution_count": 0,
      "outputs": [
        {
          "output_type": "stream",
          "text": [
            "1 -> 1 -> 2 -> 3 -> 5 -> 8 -> 13 -> 21 -> 34 -> 55 -> 89 -> "
          ],
          "name": "stdout"
        }
      ]
    },
    {
      "cell_type": "markdown",
      "metadata": {
        "id": "-bIABK3Bize9",
        "colab_type": "text"
      },
      "source": [
        "## Python interaktív módja"
      ]
    },
    {
      "cell_type": "code",
      "metadata": {
        "id": "VYuYBUD1ize-",
        "colab_type": "code",
        "colab": {},
        "outputId": "0ffe0102-fde6-46bd-b702-eeac1953baed"
      },
      "source": [
        "4+4"
      ],
      "execution_count": 0,
      "outputs": [
        {
          "output_type": "execute_result",
          "data": {
            "text/plain": [
              "8"
            ]
          },
          "metadata": {
            "tags": []
          },
          "execution_count": 51
        }
      ]
    },
    {
      "cell_type": "code",
      "metadata": {
        "id": "rLNUuAYGizfA",
        "colab_type": "code",
        "colab": {},
        "outputId": "b2aed09c-b19f-4bd6-f9cd-a0eb290190f8"
      },
      "source": [
        "_"
      ],
      "execution_count": 0,
      "outputs": [
        {
          "output_type": "execute_result",
          "data": {
            "text/plain": [
              "8"
            ]
          },
          "metadata": {
            "tags": []
          },
          "execution_count": 52
        }
      ]
    },
    {
      "cell_type": "code",
      "metadata": {
        "id": "z2Uquu8jizfC",
        "colab_type": "code",
        "colab": {},
        "outputId": "cd4b30ad-29ec-420d-eca8-6126345fae88"
      },
      "source": [
        "'lajos'"
      ],
      "execution_count": 0,
      "outputs": [
        {
          "output_type": "execute_result",
          "data": {
            "text/plain": [
              "'lajos'"
            ]
          },
          "metadata": {
            "tags": []
          },
          "execution_count": 53
        }
      ]
    },
    {
      "cell_type": "code",
      "metadata": {
        "id": "o6tYO9neizfD",
        "colab_type": "code",
        "colab": {},
        "outputId": "59985962-94a2-4e09-f95e-ac6bc611dae3"
      },
      "source": [
        "_"
      ],
      "execution_count": 0,
      "outputs": [
        {
          "output_type": "execute_result",
          "data": {
            "text/plain": [
              "'lajos'"
            ]
          },
          "metadata": {
            "tags": []
          },
          "execution_count": 54
        }
      ]
    },
    {
      "cell_type": "markdown",
      "metadata": {
        "id": "kK5GsUDgizfF",
        "colab_type": "text"
      },
      "source": [
        "### Számok"
      ]
    },
    {
      "cell_type": "code",
      "metadata": {
        "id": "MYyXGgRmizfG",
        "colab_type": "code",
        "colab": {},
        "outputId": "ac050282-5b28-4d70-c0b6-c20293399d7c"
      },
      "source": [
        "print('17 + 3       = ', 17 + 3)\n",
        "print('17 - 3       = ', 17 - 3)\n",
        "print('17 % 3      = ', 17 % 3)\n",
        "print('17 / 3      = ', 17 / 3)\n",
        "print('17 // 3     = ', 17 // 3)\n",
        "print('17 ** 3     = ', 17 ** 3)\n",
        "\n",
        "print('5 * 3 + 2   = ', 5 * 3 + 2)\n",
        "print('50 - 5*6    = ',50 - 5*6)\n",
        "print('50 - 5*6)/4 = ', (50 - 5*6) / 4)\n",
        "print('round(17/3, 2   = ', round((17/3), 2))\n",
        "      "
      ],
      "execution_count": 0,
      "outputs": [
        {
          "output_type": "stream",
          "text": [
            "17 + 3       =  20\n",
            "17 - 3       =  14\n",
            "17 % 3      =  2\n",
            "17 / 3      =  5.666666666666667\n",
            "17 // 3     =  5\n",
            "17 ** 3     =  4913\n",
            "5 * 3 + 2   =  17\n",
            "50 - 5*6    =  20\n",
            "50 - 5*6)/4 =  5.0\n",
            "round(17/3, 2   =  5.67\n"
          ],
          "name": "stdout"
        }
      ]
    },
    {
      "cell_type": "markdown",
      "metadata": {
        "id": "ekhFa4ZHizfK",
        "colab_type": "text"
      },
      "source": [
        "### Listák    [ ]\n",
        "\n",
        " +---+---+---+---+---+---+\n",
        " | 1 | 2 | 4 | 8 | 16| 32|\n",
        " +---+---+---+---+---+---+\n",
        " | a | b | c | d | e | f |\n",
        " +---+---+---+---+---+---+\n",
        " | P | y | t | h | o | n |\n",
        " +---+---+---+---+---+---+\n",
        " 0   1   2   3   4   5   6\n",
        "-6  -5  -4  -3  -2  -1\n"
      ]
    },
    {
      "cell_type": "code",
      "metadata": {
        "id": "zOw_w7GGizfL",
        "colab_type": "code",
        "colab": {},
        "outputId": "bfe59d54-c46e-4d7f-b245-e87f7fea4ce6"
      },
      "source": [
        "lista = [1, 2, 4, 8, 16, 32, 61, 128]\n",
        "abc = ['a', 'b', 'c', 'd', 'e', 'f', 'g']\n",
        "abc[2:5] = []\n",
        "print(abc)\n",
        "\n",
        "lista.append(256)\n",
        "lista[6] =64\n",
        "print('lista[0]  : ', lista[0])\n",
        "print('lista[1]  : ', lista[1])\n",
        "print('lista[-1]  : ', lista[-1])\n",
        "print('lista[:-1]  : ', lista[:-1])\n",
        "print('lista[::-1]  : ', lista[::-1]) ## forditott sorrendű lista kiírás\n",
        "\n",
        "a = ['a', 'b', 'c']\n",
        "n = [1, 2, 3]\n",
        "x = [a, n]\n",
        "print(x)       ## [['a', 'b', 'c'], [1, 2, 3]]\n",
        "print(x[0])    ## ['a', 'b', 'c']\n",
        "print(x[0][1]) ## 'b' \n"
      ],
      "execution_count": 0,
      "outputs": [
        {
          "output_type": "stream",
          "text": [
            "['a', 'b', 'f', 'g']\n",
            "lista[0]  :  1\n",
            "lista[1]  :  2\n",
            "lista[-1]  :  256\n",
            "lista[:-1]  :  [1, 2, 4, 8, 16, 32, 64, 128]\n",
            "lista[::-1]  :  [256, 128, 64, 32, 16, 8, 4, 2, 1]\n",
            "[['a', 'b', 'c'], [1, 2, 3]]\n",
            "['a', 'b', 'c']\n",
            "b\n"
          ],
          "name": "stdout"
        }
      ]
    },
    {
      "cell_type": "code",
      "metadata": {
        "id": "gsaAb7OgizfN",
        "colab_type": "code",
        "colab": {},
        "outputId": "03136e14-e372-407a-b4ac-359eeb53a246"
      },
      "source": [
        "a = [42.25, 420, 4200, 1, 42.5]\n",
        "print(a.count(420), a.count(42.25), a.count('x'))\n",
        "a.insert(2, -1)\n",
        "a.append(420)\n",
        "print(a) \n",
        "print(a.index(420))\n",
        "a.remove(420)\n",
        "print(a) \n",
        "a.reverse()\n",
        "print(a) \n",
        "a.sort()\n",
        "print(a) \n",
        "print(a.pop())\n",
        "del a[2:4]\n",
        "print(a) \n",
        "\n",
        "print('----------------- Csúcs Négyzet sor számítás --------------------')\n",
        "print(list(map(lambda x: x**2, range(10))))\n",
        "print('==')\n",
        "print([x ** 2 for x in range(10)])\n",
        "\n",
        "print('----------------- Csúcs márix számítás azonos kizárással --------------------')\n",
        "print([(x, y) for x in [1,2,3] for y in [3,1,4] if x != y])\n",
        "print('==')\n",
        "combs = []\n",
        "for x in [1,2,3]:\n",
        "     for y in [3,1,4]:\n",
        "        if x != y:\n",
        "             combs.append((x, y))\n",
        "\n",
        "print(combs)\n",
        "\n",
        "print('----------------- Csúcs négyzet sor számítás --------------------')\n",
        "\n",
        "print([(x, x ** 2) for x in range(11)])\n",
        "\n",
        "print('----------------- Csúcs sor kibontás --------------------')\n",
        "\n",
        "vec = [[1,2,3], [4,5,6], [7,8,9]]\n",
        "print( [num for elem in vec for num in elem])\n",
        "\n",
        "print('----------------- Csúcs PI kerekítgetés --------------------')\n",
        "from math import pi\n",
        "print( [str(round(pi, i)) for i in range(1, 6)])\n",
        "\n",
        "print('----------------- Csúcs mátrix átszámolás 4x3 -> 3x4--------------------')\n",
        "\n",
        "matriz = [\n",
        "    [1, 2, 3, 4],\n",
        "    [5, 6, 7, 8],\n",
        "    [9, 10, 11, 12],\n",
        "    ]\n",
        "print( [[fila[i] for fila in matriz] for i in range(4)])\n",
        "print('==')\n",
        "\n",
        "trans = []\n",
        "for i in range(4):\n",
        "       trans.append([fila[i] for fila in matriz])\n",
        "print( trans)\n",
        "print('==')\n",
        "\n",
        "print(list(zip(*matriz)))\n"
      ],
      "execution_count": 0,
      "outputs": [
        {
          "output_type": "stream",
          "text": [
            "1 1 0\n",
            "[42.25, 420, -1, 4200, 1, 42.5, 420]\n",
            "1\n",
            "[42.25, -1, 4200, 1, 42.5, 420]\n",
            "[420, 42.5, 1, 4200, -1, 42.25]\n",
            "[-1, 1, 42.25, 42.5, 420, 4200]\n",
            "4200\n",
            "[-1, 1, 420]\n",
            "----------------- Csúcs Négyzet sor számítás --------------------\n",
            "[0, 1, 4, 9, 16, 25, 36, 49, 64, 81]\n",
            "==\n",
            "[0, 1, 4, 9, 16, 25, 36, 49, 64, 81]\n",
            "----------------- Csúcs márix számítás azonos kizárással --------------------\n",
            "[(1, 3), (1, 4), (2, 3), (2, 1), (2, 4), (3, 1), (3, 4)]\n",
            "==\n",
            "[(1, 3), (1, 4), (2, 3), (2, 1), (2, 4), (3, 1), (3, 4)]\n",
            "----------------- Csúcs négyzet sor számítás --------------------\n",
            "[(0, 0), (1, 1), (2, 4), (3, 9), (4, 16), (5, 25), (6, 36), (7, 49), (8, 64), (9, 81), (10, 100)]\n",
            "----------------- Csúcs sor kibontás --------------------\n",
            "[1, 2, 3, 4, 5, 6, 7, 8, 9]\n",
            "----------------- Csúcs PI kerekítgetés --------------------\n",
            "['3.1', '3.14', '3.142', '3.1416', '3.14159']\n",
            "----------------- Csúcs mátrix átszámolás 4x3 -> 3x4--------------------\n",
            "[[1, 5, 9], [2, 6, 10], [3, 7, 11], [4, 8, 12]]\n",
            "==\n",
            "[[1, 5, 9], [2, 6, 10], [3, 7, 11], [4, 8, 12]]\n",
            "==\n",
            "[(1, 5, 9), (2, 6, 10), (3, 7, 11), (4, 8, 12)]\n"
          ],
          "name": "stdout"
        }
      ]
    },
    {
      "cell_type": "markdown",
      "metadata": {
        "id": "dCJR0qwOizfP",
        "colab_type": "text"
      },
      "source": [
        "### Tuple használata Nem változtatható lista (inmutables)"
      ]
    },
    {
      "cell_type": "code",
      "metadata": {
        "id": "xYFG9cZxizfQ",
        "colab_type": "code",
        "colab": {},
        "outputId": "f4d21bbc-5210-417d-b23b-ba2824afc09a"
      },
      "source": [
        "t = 12345, 54321, 'Lajos'\n",
        "print( t[0])\n",
        "print(t)\n",
        "t = ('Lajos', 12345, 54321, 'Dani')\n",
        "print(t)\n",
        "u = t, (1, 2, 3, 4, 5)\n",
        "print(u)\n",
        "egyTuple = 'Lajos',\n",
        "print(egyTuple)"
      ],
      "execution_count": 0,
      "outputs": [
        {
          "output_type": "stream",
          "text": [
            "12345\n",
            "(12345, 54321, 'Lajos')\n",
            "('Lajos', 12345, 54321, 'Dani')\n",
            "(('Lajos', 12345, 54321, 'Dani'), (1, 2, 3, 4, 5))\n",
            "('Lajos',)\n"
          ],
          "name": "stdout"
        }
      ]
    },
    {
      "cell_type": "markdown",
      "metadata": {
        "id": "ObZnGyfjizfR",
        "colab_type": "text"
      },
      "source": [
        "### Halmazok (SET)"
      ]
    },
    {
      "cell_type": "code",
      "metadata": {
        "id": "i_cm0P7IizfS",
        "colab_type": "code",
        "colab": {},
        "outputId": "a750842b-d0eb-48b5-f7e9-742924957fb2"
      },
      "source": [
        "a = set('abracadabra')\n",
        "b = set('alkatresz')\n",
        "print(a)\n",
        "print(a - b)\n",
        "print(a | b)\n",
        "print(a & b)\n",
        "print(a ^ b)\n",
        "\n",
        "a = {x for x in 'abracadabra' if x not in 'abc'}\n",
        "print(a)"
      ],
      "execution_count": 0,
      "outputs": [
        {
          "output_type": "stream",
          "text": [
            "{'c', 'r', 'd', 'a', 'b'}\n",
            "{'d', 'c', 'b'}\n",
            "{'e', 'c', 'r', 't', 'd', 'a', 'k', 'l', 's', 'b', 'z'}\n",
            "{'a', 'r'}\n",
            "{'e', 'c', 't', 'd', 'k', 'l', 'b', 's', 'z'}\n",
            "{'d', 'r'}\n"
          ],
          "name": "stdout"
        }
      ]
    },
    {
      "cell_type": "markdown",
      "metadata": {
        "id": "wJ9zRoqrizfU",
        "colab_type": "text"
      },
      "source": [
        "### DIR"
      ]
    },
    {
      "cell_type": "code",
      "metadata": {
        "id": "gtZF7GG4izfU",
        "colab_type": "code",
        "colab": {},
        "outputId": "55a20166-cd74-4a2d-90a3-0c43ad83e9cc"
      },
      "source": [
        "tel = {'jack': 4098, 'sape': 4139}\n",
        "tel['guido'] = 4127\n",
        "print( tel)\n",
        "print(sorted(tel.keys()))\n",
        "print(list(tel.keys()))\n",
        "print(list(tel.values()))\n",
        "\n",
        "dict([('sape', 4139), ('guido', 4127), ('jack', 4098)])\n",
        "print('==')\n",
        "dict(sape=4139, guido=4127, jack=4098)\n",
        "\n",
        "for k, v in tel.items():\n",
        "     print(k, v)\n",
        "\n",
        "\n",
        "print('----------------- Csúcs generálás--------------------')\n",
        "print( {x: x ** 2 for x in (2, 4, 6)})\n",
        "\n",
        "print('----------------- Csúcs generálás--------------------')\n",
        "for i, v in enumerate(['ta', 'te', 'ti']):\n",
        "     print(i, v)\n",
        "  \n",
        "print('----------------- Csúcs generálás--------------------')\n",
        "pre = ['pre1', 'pre2', 'pre3']\n",
        "res = ['res1', 'res2', 'res3']\n",
        "for p, r in zip(pre, res):\n",
        "    print(p,r)"
      ],
      "execution_count": 0,
      "outputs": [
        {
          "output_type": "stream",
          "text": [
            "{'jack': 4098, 'sape': 4139, 'guido': 4127}\n",
            "['guido', 'jack', 'sape']\n",
            "['jack', 'sape', 'guido']\n",
            "[4098, 4139, 4127]\n",
            "==\n",
            "jack 4098\n",
            "sape 4139\n",
            "guido 4127\n",
            "----------------- Csúcs generálás--------------------\n",
            "{2: 4, 4: 16, 6: 36}\n",
            "----------------- Csúcs generálás--------------------\n",
            "0 ta\n",
            "1 te\n",
            "2 ti\n",
            "----------------- Csúcs generálás--------------------\n",
            "pre1 res1\n",
            "pre2 res2\n",
            "pre3 res3\n"
          ],
          "name": "stdout"
        }
      ]
    },
    {
      "cell_type": "markdown",
      "metadata": {
        "id": "yFiy3fe8izfW",
        "colab_type": "text"
      },
      "source": [
        "### Függvények"
      ]
    },
    {
      "cell_type": "code",
      "metadata": {
        "id": "sgjOU0vdizfW",
        "colab_type": "code",
        "colab": {},
        "outputId": "77382642-2ce7-43bf-fddc-70ffea00a53d"
      },
      "source": [
        "def fib(n):         # Függvény Fibonacci sor kiszámolására\n",
        "      \"\"\"Függvény Fibonacci sor kiszámolására.\"\"\"\n",
        "      a, b = 0, 1\n",
        "      while a < n:\n",
        "          print(a, end=' ')\n",
        "          a, b = b, a+b\n",
        "    \n",
        "\n",
        "def fib2(n):         # Függvény Fibonacci sor listába írására\n",
        "    \"\"\"Függvény Fibonacci sor listába írására.\"\"\"\n",
        "    result = []\n",
        "    a, b = 0, 1\n",
        "    while a < n:\n",
        "           result.append(a)    # ver abajo\n",
        "           a, b = b, a+b\n",
        "    return result\n",
        "\n",
        "\n",
        "print(fib(2000))  ## Deffinició meghívása\n",
        "\n",
        "print(fib) ## fib typus lekérése :  <function fib at 0x00000192AEF69DC8>\n",
        "\n",
        "f = fib    ## alias létrehozása f névvel\n",
        "print( f(100) )    ## Deffinició meghívása\n",
        "\n",
        "print(fib(0))  ## Nincs eredmény  : None\n",
        "\n",
        "print('fib2(100)  = ', fib2(100))\n"
      ],
      "execution_count": 0,
      "outputs": [
        {
          "output_type": "stream",
          "text": [
            "0 1 1 2 3 5 8 13 21 34 55 89 144 233 377 610 987 1597 None\n",
            "<function fib at 0x00000192AEF69828>\n",
            "0 1 1 2 3 5 8 13 21 34 55 89 None\n",
            "None\n",
            "fib2(100)  =  [0, 1, 1, 2, 3, 5, 8, 13, 21, 34, 55, 89]\n"
          ],
          "name": "stdout"
        }
      ]
    },
    {
      "cell_type": "code",
      "metadata": {
        "id": "qfVYtd7JizfY",
        "colab_type": "code",
        "colab": {},
        "outputId": "14782df5-e4f3-4462-fef7-a674c390840d"
      },
      "source": [
        "def f(a, L=[]):\n",
        "    L.append(a)\n",
        "    return L\n",
        "\n",
        "def f2(a, L=None):\n",
        "    if L is None:\n",
        "        L = []\n",
        "    L.append(a)\n",
        "    return L\n",
        "\n",
        "print(f(1))\n",
        "print(f(2))\n",
        "print(f(3))\n",
        "\n",
        "print(f2(1))\n",
        "print(f2(2))\n",
        "print(f2(3))\n"
      ],
      "execution_count": 0,
      "outputs": [
        {
          "output_type": "stream",
          "text": [
            "[1]\n",
            "[1, 2]\n",
            "[1, 2, 3]\n",
            "[1]\n",
            "[2]\n",
            "[3]\n"
          ],
          "name": "stdout"
        }
      ]
    },
    {
      "cell_type": "code",
      "metadata": {
        "id": "PuCqskf9izfa",
        "colab_type": "code",
        "colab": {},
        "outputId": "14e71765-839c-464a-cc86-652397509c07"
      },
      "source": [
        "## paraméter átadás\n",
        "def param_olvaso(valt, *argument, **lista):\n",
        "    print(\"Változó : \", valt, \" OK\")\n",
        "\n",
        "    for arg in argument:\n",
        "        print(arg)\n",
        "    print(\"-\" * 40)  ## Elválasztás kiírása\n",
        "    claves = sorted(lista.keys())\n",
        "    for c in claves:\n",
        "        print(c, \":\", lista[c])\n",
        "        \n",
        "param_olvaso(\"Lajos\", \"Egyes1.\",\n",
        "             \"kettes2.\",\n",
        "             cliente=\"Dani\",\n",
        "             vendedor=\"Tomi\",\n",
        "             join=\"Testvérek\")\n",
        "\n",
        "#--------------------------------------\n",
        "\n",
        "def concatenar(*args, sep=\"/\"):\n",
        "    return sep.join(args)\n",
        "\n",
        "print(concatenar(\"Lajos\", \"Tamás\", \"Dani\"))\n",
        "print(concatenar(\"Lajos\", \"Tamás\", \"Dani\", sep=\".\"))\n",
        "\n",
        "\n",
        "#-------------------------------------\n",
        "def lambda_incrementor(n):\n",
        "    \"\"\" Ez a függvény használja a lambda függvényt\n",
        "    a deffiniciós részében\n",
        "    érdekes lehet\"\"\"\n",
        "    return lambda x: x + n  ## névtelen függvény használata\n",
        "\n",
        "f = lambda_incrementor(42)\n",
        "print(f(0))\n",
        "print(f(5))\n",
        "\n",
        "print(lambda_incrementor.__doc__)  ## függvény dokumentációs infó megjelenítése\n",
        "\n",
        "        "
      ],
      "execution_count": 0,
      "outputs": [
        {
          "output_type": "stream",
          "text": [
            "Változó :  Lajos  OK\n",
            "Egyes1.\n",
            "kettes2.\n",
            "----------------------------------------\n",
            "cliente : Dani\n",
            "join : Testvérek\n",
            "vendedor : Tomi\n",
            "Lajos/Tamás/Dani\n",
            "Lajos.Tamás.Dani\n",
            "42\n",
            "47\n",
            " Ez a függvény használja a lambda függvényt\n",
            "    a deffiniciós részében\n",
            "    érdekes lehet\n"
          ],
          "name": "stdout"
        }
      ]
    },
    {
      "cell_type": "code",
      "metadata": {
        "id": "eyDYt1FMizfb",
        "colab_type": "code",
        "colab": {}
      },
      "source": [
        "## modul tartalma  /// fibo.py\n",
        "\n",
        "def fib(n):    \n",
        "    a, b = 0, 1\n",
        "    while b < n:\n",
        "        print(b, end=' ')\n",
        "        a, b = b, a+b\n",
        "     print()\n",
        "    \n",
        "def fib2(n): \n",
        "    resultado = []\n",
        "    a, b = 0, 1\n",
        "    while b < n:\n",
        "        resultado.append(b)\n",
        "        a, b = b, a+b\n",
        "    return resultado\n",
        "\n",
        "## modul használat\n",
        "\n",
        "from fibo import *\n",
        "from fibo import fib, fib2\n",
        "\n",
        "imp.reload(fibo)\n",
        "\n",
        "if __name__ == \"__main__\":\n",
        "    import sys\n",
        "    fib(int(sys.argv[1]))\n",
        "    \n",
        "    \n",
        "# modul használatos meghívás \n",
        "python fibo.py 50\n",
        "\n",
        "\n",
        "\n",
        "# modul info megjelenítése\n",
        "import fibo, sys\n",
        "dir(fibo)\n",
        "\n",
        "\n",
        "## modul elérési könyvtár lista bővítése\n",
        "import sys\n",
        "sys.path.append('/ufs/guido/lib/python') \n",
        "\n"
      ],
      "execution_count": 0,
      "outputs": []
    }
  ]
}