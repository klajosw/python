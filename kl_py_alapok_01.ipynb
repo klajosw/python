{
  "nbformat": 4,
  "nbformat_minor": 0,
  "metadata": {
    "colab": {
      "name": "kl_py_alapok_01.ipynb",
      "provenance": [],
      "collapsed_sections": [],
      "include_colab_link": true
    },
    "kernelspec": {
      "display_name": "Python 3",
      "language": "python",
      "name": "python3"
    },
    "language_info": {
      "codemirror_mode": {
        "name": "ipython",
        "version": 3
      },
      "file_extension": ".py",
      "mimetype": "text/x-python",
      "name": "python",
      "nbconvert_exporter": "python",
      "pygments_lexer": "ipython3",
      "version": "3.7.4"
    }
  },
  "cells": [
    {
      "cell_type": "markdown",
      "metadata": {
        "id": "view-in-github",
        "colab_type": "text"
      },
      "source": [
        "<a href=\"https://colab.research.google.com/github/klajosw/python/blob/master/kl_py_alapok_01.ipynb\" target=\"_parent\"><img src=\"https://colab.research.google.com/assets/colab-badge.svg\" alt=\"Open In Colab\"/></a>"
      ]
    },
    {
      "cell_type": "markdown",
      "metadata": {
        "id": "cSQtkEoG5RKt",
        "colab_type": "text"
      },
      "source": [
        "# Python programozási nyelv alapok\n",
        "\n",
        "\n",
        "## változok\n",
        "\n"
      ]
    },
    {
      "cell_type": "markdown",
      "metadata": {
        "id": "aa-A749e5RKv",
        "colab_type": "text"
      },
      "source": [
        "### Szöveges változók (nem megváltoztatható /\tImmutable)"
      ]
    },
    {
      "cell_type": "code",
      "metadata": {
        "id": "cgM2YGrM5RKw",
        "colab_type": "code",
        "colab": {},
        "outputId": "67e8bb8f-8ff3-444f-de75-37701a03e918"
      },
      "source": [
        "# megjegyzés mindig # -el kezdődik és hatása asor végéig tart\n",
        "\n",
        "szoveg = 'Szöveg1'     ## egyszeres idézőjelben\n",
        "szoveg = \"Szöveg2\"     ## kettős idézőjelben\n",
        "szoveg = '''Szöveg3''' ## háromszoros idézőjelben\n",
        "\n",
        "#normál szöveg\n",
        "szoveg = \"Új sor jelzésre szolgál a \\n valami új sorba\"\n",
        "print(szoveg)\n",
        "\n",
        "## raw string (nem értelmez vezérlő és különleges karaktereket) !! nagyon hasznos pl. reguláris kifejezések megadásánál\n",
        "r_szoveg = r\"Új sor jelzésre szolgál a \\n valami új sorba\"\n",
        "print(r_szoveg)\n",
        "\n",
        "# Több soros szöveg\n",
        "szoveg = \"\"\"Új sor jelzésre szolgál \n",
        "a valami \n",
        "új sorba\"\"\"\n",
        "print(szoveg)\n",
        "\n",
        "# Töbsorban megadott és mégyis egysorba kerülő szöveg\n",
        "szoveg =\"Töbsorban megadott.\\\n",
        "egysorba kerülő szöveg.\"\n",
        "print(szoveg)\n",
        "\n",
        "# szöveggé alakítás\n",
        "szoveg = str(12)\n",
        "szoveg = str(12.05)\n",
        "\n"
      ],
      "execution_count": 0,
      "outputs": [
        {
          "output_type": "stream",
          "text": [
            "Új sor jelzésre szolgál a \n",
            " valami új sorba\n",
            "Új sor jelzésre szolgál a \\n valami új sorba\n",
            "Új sor jelzésre szolgál \n",
            "a valami \n",
            "új sorba\n",
            "Töbsorban megadott.egysorba kerülő szöveg.\n"
          ],
          "name": "stdout"
        }
      ]
    },
    {
      "cell_type": "markdown",
      "metadata": {
        "id": "zS8Lr2r55RK0",
        "colab_type": "text"
      },
      "source": [
        "### Kimenetre írás (print)"
      ]
    },
    {
      "cell_type": "code",
      "metadata": {
        "id": "ibPLkmln5RK0",
        "colab_type": "code",
        "colab": {},
        "outputId": "f6a51488-11bf-4c92-b0a8-24798ca7858c"
      },
      "source": [
        "## több változó kiírása vesszövel tagoltan\n",
        "print('Lajos', 57, 'BI', 40+2)\n",
        "\n",
        "## összefüzéses kiíratás\n",
        "print('Kecskeméti' + ' ' +'Lajos')\n",
        "\n",
        "## Újsor jelzés kikapcsolása\n",
        "print('a',end=' ') \n",
        "print('b',end=' ') \n",
        "print('c')\n",
        "\n",
        "## promázott kiíratás\n",
        "print('{0:.3f}'.format(1.033/33)) \n",
        "print('{0:_^13}'.format('Szia'))\n",
        "print('{name} született {born} -ben'.format(name='Lajos', born=62))\n",
        "\n",
        "\n",
        "\n"
      ],
      "execution_count": 0,
      "outputs": [
        {
          "output_type": "stream",
          "text": [
            "Lajos 57 BI 42\n",
            "Kecskeméti Lajos\n",
            "a b c\n",
            "0.031\n",
            "____Szia_____\n",
            "Lajos született 62 -ben\n"
          ],
          "name": "stdout"
        }
      ]
    },
    {
      "cell_type": "markdown",
      "metadata": {
        "id": "nl0pt6YY5RK3",
        "colab_type": "text"
      },
      "source": [
        "### adat, szöveg bekérés"
      ]
    },
    {
      "cell_type": "code",
      "metadata": {
        "id": "aQoHw6865RK4",
        "colab_type": "code",
        "colab": {},
        "outputId": "4fb855e1-1dae-457f-f5f7-c42476b4ad08"
      },
      "source": [
        "szoveg=input('Adj meg egy szöveget : ')\n",
        "szam = int(input('Kérek egy számot\t:\t'))\n"
      ],
      "execution_count": 0,
      "outputs": [
        {
          "output_type": "stream",
          "text": [
            "Adj meg egy szöveget : ezt adom m eg\n",
            "Kérek egy számot\t:\t100\n"
          ],
          "name": "stdout"
        }
      ]
    },
    {
      "cell_type": "markdown",
      "metadata": {
        "id": "SRef-br65RK6",
        "colab_type": "text"
      },
      "source": [
        "### Szintaktika \n",
        "#### egy sor egy utasítás, \n",
        "#### vagy egysorba több utasítás, pontosveszzővel elválasztva\n",
        "#### vagy több sorba de arészeket \\ karakterrel 'ragasszuk össze'"
      ]
    },
    {
      "cell_type": "code",
      "metadata": {
        "id": "Du6F65ri5RK6",
        "colab_type": "code",
        "colab": {},
        "outputId": "19cadde1-f48c-4514-f3b7-8f0d0ad01b2f"
      },
      "source": [
        "i=5 \n",
        "print(i) \n",
        "i=i + 1 \n",
        "print(i)\n",
        "print('-----------Elválasztás-----------')\n",
        "i=5 ; print(i) ; i=i + 1 ;print(i)\n",
        "print('-----------Elválasztás-----------')\n",
        "i = \\\n",
        "5\n",
        "print \\\n",
        "(i)\n",
        "i= \\\n",
        "i \\\n",
        "+1\n",
        "print(i)"
      ],
      "execution_count": 0,
      "outputs": [
        {
          "output_type": "stream",
          "text": [
            "5\n",
            "6\n",
            "-----------Elválasztás-----------\n",
            "5\n",
            "6\n",
            "-----------Elválasztás-----------\n",
            "5\n",
            "6\n"
          ],
          "name": "stdout"
        }
      ]
    },
    {
      "cell_type": "markdown",
      "metadata": {
        "id": "56wsNxQa5RK8",
        "colab_type": "text"
      },
      "source": [
        "### Program tagolás behuzással (Indentation)"
      ]
    },
    {
      "cell_type": "code",
      "metadata": {
        "id": "eUso2vOQ5RK9",
        "colab_type": "code",
        "colab": {},
        "outputId": "62683b82-5375-42db-abde-b25ec60a510d"
      },
      "source": [
        "# from __future__ import braces\n",
        "\n",
        "i=5\n",
        "if i < 10:\n",
        "    print(i)\n",
        "    i = i + 1  # növel 1-el\n",
        "    i += 4     # növel 4-el\n",
        "    i *= 2     # megkétszerez\n",
        "print(i)\n",
        "\n",
        "if True:\n",
        "    print('Ez egy mindíg igaz állítás')\n"
      ],
      "execution_count": 0,
      "outputs": [
        {
          "output_type": "stream",
          "text": [
            "5\n",
            "20\n",
            "Ez egy mindíg igaz állítás\n"
          ],
          "name": "stdout"
        }
      ]
    },
    {
      "cell_type": "markdown",
      "metadata": {
        "id": "Ljbnoc1I5RK-",
        "colab_type": "text"
      },
      "source": [
        "## Ciklusok\n",
        "\n",
        "### for ciklus\n"
      ]
    },
    {
      "cell_type": "code",
      "metadata": {
        "id": "T1doBdNH5RK_",
        "colab_type": "code",
        "colab": {},
        "outputId": "79bb866b-30f2-4a69-fd79-b6d143cc9eb0"
      },
      "source": [
        "for i in range(1,5):\n",
        "    print('Számoljunk', i) \n",
        "else:\n",
        "    print('A for ciklus végetért')\n",
        "    \n",
        "print('Ez mindíg megjelenik')"
      ],
      "execution_count": 0,
      "outputs": [
        {
          "output_type": "stream",
          "text": [
            "Számoljunk 1\n",
            "Számoljunk 2\n",
            "Számoljunk 3\n",
            "Számoljunk 4\n",
            "A for ciklus végetért\n",
            "Ez mindíg megjelenik\n"
          ],
          "name": "stdout"
        }
      ]
    },
    {
      "cell_type": "markdown",
      "metadata": {
        "id": "xjzpAgfV5RLB",
        "colab_type": "text"
      },
      "source": [
        "### While ciklus"
      ]
    },
    {
      "cell_type": "code",
      "metadata": {
        "id": "hdWSkFEp5RLB",
        "colab_type": "code",
        "colab": {},
        "outputId": "76ae05c7-5d89-44a8-ae6a-a5af76929bc0"
      },
      "source": [
        "number=42 \n",
        "kerdez=True\n",
        "tip=0\n",
        "while kerdez:\n",
        "    guess=int(input('Kérek egy számot (1-100 között) : '))\n",
        "    tip+=1\n",
        "    if guess == number:\n",
        "        print('Gratulálok eltaláltad. Neked ', tip, 'tipelésed volt.')\n",
        "        kerdez=False\n",
        "    elif guess < number:\n",
        "        print('Nem talált nagyobbat adjál meg.') \n",
        "    else:\n",
        "        print('Nem talált kisebbet adjál meg.') \n",
        "else:\t\t\t\t\n",
        "    print('Itt a while ciklus vége.')\n",
        "\n",
        "print('Kész vagyunk. Ha háromból eltaláltad ügyes vagy.')\n"
      ],
      "execution_count": 0,
      "outputs": [
        {
          "output_type": "stream",
          "text": [
            "Kérek egy számot (1-100 között) : 12\n",
            "Nem talált nagyobbat adjál meg.\n",
            "Kérek egy számot (1-100 között) : 81\n",
            "Nem talált kisebbet adjál meg.\n",
            "Kérek egy számot (1-100 között) : 42\n",
            "Gratulálok eltaláltad. Neked  3 tipelésed volt.\n",
            "Itt a while ciklus vége.\n",
            "Kész vagyunk. Ha háromból eltaláltad ügyes vagy.\n"
          ],
          "name": "stdout"
        }
      ]
    },
    {
      "cell_type": "markdown",
      "metadata": {
        "id": "y9TCatEJ5RLD",
        "colab_type": "text"
      },
      "source": [
        "## Python interaktív módja"
      ]
    },
    {
      "cell_type": "code",
      "metadata": {
        "id": "7jXvnI8r5RLE",
        "colab_type": "code",
        "colab": {
          "base_uri": "https://localhost:8080/",
          "height": 34
        },
        "outputId": "75a8a4a6-d6ed-4bdd-b090-8af22c21cc21"
      },
      "source": [
        "4+4"
      ],
      "execution_count": 1,
      "outputs": [
        {
          "output_type": "execute_result",
          "data": {
            "text/plain": [
              "8"
            ]
          },
          "metadata": {
            "tags": []
          },
          "execution_count": 1
        }
      ]
    },
    {
      "cell_type": "code",
      "metadata": {
        "id": "dpKbbYGo5RLG",
        "colab_type": "code",
        "colab": {},
        "outputId": "da6dfe5a-7083-4851-bdef-3ee14b29c093"
      },
      "source": [
        "_"
      ],
      "execution_count": 0,
      "outputs": [
        {
          "output_type": "execute_result",
          "data": {
            "text/plain": [
              "8"
            ]
          },
          "metadata": {
            "tags": []
          },
          "execution_count": 52
        }
      ]
    },
    {
      "cell_type": "code",
      "metadata": {
        "id": "4964z51w5RLI",
        "colab_type": "code",
        "colab": {},
        "outputId": "a4dd2054-0784-48a1-ea54-e719fefd7d2b"
      },
      "source": [
        "'lajos'"
      ],
      "execution_count": 0,
      "outputs": [
        {
          "output_type": "execute_result",
          "data": {
            "text/plain": [
              "'lajos'"
            ]
          },
          "metadata": {
            "tags": []
          },
          "execution_count": 53
        }
      ]
    },
    {
      "cell_type": "code",
      "metadata": {
        "id": "ewuM5Xyx5RLK",
        "colab_type": "code",
        "colab": {},
        "outputId": "701d6b2b-da5c-4a29-cc38-50ddc3075044"
      },
      "source": [
        "_"
      ],
      "execution_count": 0,
      "outputs": [
        {
          "output_type": "execute_result",
          "data": {
            "text/plain": [
              "'lajos'"
            ]
          },
          "metadata": {
            "tags": []
          },
          "execution_count": 54
        }
      ]
    }
  ]
}