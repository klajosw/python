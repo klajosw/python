{
  "nbformat": 4,
  "nbformat_minor": 0,
  "metadata": {
    "kernelspec": {
      "display_name": "Python 3",
      "language": "python",
      "name": "python3"
    },
    "language_info": {
      "codemirror_mode": {
        "name": "ipython",
        "version": 3
      },
      "file_extension": ".py",
      "mimetype": "text/x-python",
      "name": "python",
      "nbconvert_exporter": "python",
      "pygments_lexer": "ipython3",
      "version": "3.7.7"
    },
    "colab": {
      "name": "kl_py_adatelemzes_01.ipynb",
      "provenance": [],
      "collapsed_sections": [
        "1wkUE5scfwI4",
        "hkdEOW9TfwI-",
        "ITlx8uTefwJA",
        "WRsj9nNDfwJD",
        "Xwlw9_BUfwJH",
        "JxMWVznrfwJo"
      ],
      "include_colab_link": true
    }
  },
  "cells": [
    {
      "cell_type": "markdown",
      "metadata": {
        "id": "view-in-github",
        "colab_type": "text"
      },
      "source": [
        "<a href=\"https://colab.research.google.com/github/klajosw/python/blob/master/kl_py_adatelemzes_01.ipynb\" target=\"_parent\"><img src=\"https://colab.research.google.com/assets/colab-badge.svg\" alt=\"Open In Colab\"/></a>"
      ]
    },
    {
      "cell_type": "markdown",
      "metadata": {
        "id": "0bIyvkTBfwIM"
      },
      "source": [
        "<p align=\"left\"> \n",
        "    <img src=\"https://raw.githubusercontent.com/klajosw/python/master/kl_mie_python_logo_250.jpg\" \n",
        "         align=\"left\" width=\"251\" height=\"251\">\n",
        "    \n",
        "</p>\n",
        "\n",
        "\n",
        "<p> </p>\n",
        "\n",
        "# Python adatelemzés adat elemzőknek / Python for Data Analysis \n",
        "\n",
        "\n",
        "## pandas használata\n",
        "\n",
        "<https://klajosw.blogspot.com/>\n",
        "\n",
        "---"
      ]
    },
    {
      "cell_type": "markdown",
      "metadata": {
        "id": "Y3rU-axnfwIQ"
      },
      "source": [
        "---\n",
        "\n",
        "\n",
        "# Python elemzés első lépése / Python for Data Analysis first step\n",
        "\n",
        "----"
      ]
    },
    {
      "cell_type": "code",
      "metadata": {
        "id": "6zLbBH9BfwIR"
      },
      "source": [
        "## Python modulok betöltése / Import Python Libraries\n",
        "%matplotlib inline\n",
        "\n",
        "import numpy as np\n",
        "import scipy as sp\n",
        "import pandas as pd\n",
        "import matplotlib.pyplot as plt\n",
        "import seaborn as sns"
      ],
      "execution_count": null,
      "outputs": []
    },
    {
      "cell_type": "markdown",
      "metadata": {
        "id": "DDaP2l38fwIV"
      },
      "source": [
        "---\n",
        "\n",
        "# Panda csomag részei\n",
        "\n",
        "- Series    (1D tömb / 1d array)\n",
        "- DataFrame (2D tömb / 2d labeled array)\n",
        "- Panel     (3D tömb / general 3d array)\n",
        "\n",
        "---\n",
        "\n",
        "\n",
        "## Panda sorozatok / Pandas Series\n",
        "\n",
        "\n",
        "A Pandas Series egydimenziós és címkével ellátott tömb, amely többnyire azonos típusú adatokat tartalmaz \n",
        "(egész számok, karakterláncok, lebegőpontos számok, Python-objektumok stb.). \n",
        "A tengely címkéket indexnek is nevezik.\n",
        "\n",
        "---"
      ]
    },
    {
      "cell_type": "code",
      "metadata": {
        "id": "Yo8SfllRfwIW",
        "outputId": "c5d51384-a985-4b28-ed6b-907b8b50ad00"
      },
      "source": [
        "# Panda sorozat létrehozása / creating Pandas series :\n",
        "s1 = pd.Series( [-42,-1,1,7,42] )     ## homogén\n",
        "s2 = pd.Series( [-3,-1,'Lajos',1,5] ) ## inhomogén / heterogeneous\n",
        "print('S1\\n',s1)\n",
        "print('-----------')\n",
        "print('S2\\n',s2)"
      ],
      "execution_count": null,
      "outputs": [
        {
          "output_type": "stream",
          "text": [
            "S1\n",
            " 0   -42\n",
            "1    -1\n",
            "2     1\n",
            "3     7\n",
            "4    42\n",
            "dtype: int64\n",
            "-----------\n",
            "S2\n",
            " 0       -3\n",
            "1       -1\n",
            "2    Lajos\n",
            "3        1\n",
            "4        5\n",
            "dtype: object\n"
          ],
          "name": "stdout"
        }
      ]
    },
    {
      "cell_type": "code",
      "metadata": {
        "id": "VBZvvS5LfwIZ",
        "outputId": "2343459a-01f2-4cee-e270-70d12db851ce"
      },
      "source": [
        "# Index használata / View index values\n",
        "print('Nincs index : ', s1.index)  ## nincs index\n",
        "\n",
        "new_index =['a2', 'b2', 'c2', 'd2', 'e2'] \n",
        "\n",
        "# index beállítása / set the index \n",
        "s1.index=['a1', 'b1', 'c1', 'd1', 'e1'] \n",
        "s2.index = new_index \n",
        "\n",
        "print('Van index : ', s1.index)"
      ],
      "execution_count": null,
      "outputs": [
        {
          "output_type": "stream",
          "text": [
            "Nincs index :  RangeIndex(start=0, stop=5, step=1)\n",
            "Van index :  Index(['a1', 'b1', 'c1', 'd1', 'e1'], dtype='object')\n"
          ],
          "name": "stdout"
        }
      ]
    },
    {
      "cell_type": "code",
      "metadata": {
        "id": "ouPdB5iIfwIc",
        "outputId": "ce29072a-78d3-47bb-e65a-6e79adc01db6"
      },
      "source": [
        "# panda sorozat létrehozása index megadásával / Creating Pandas series with index:\n",
        "s2 = pd.Series( np.random.randn(5), index=['a', 'b', 'c', 'd', 'e'] )\n",
        "print(s2)\n",
        "\n",
        "print( 'v1 (index) :', s2['a'],' | v2 :',  s2[0])"
      ],
      "execution_count": null,
      "outputs": [
        {
          "output_type": "stream",
          "text": [
            "a    0.372578\n",
            "b    1.062642\n",
            "c    0.319626\n",
            "d   -2.380873\n",
            "e   -0.038077\n",
            "dtype: float64\n",
            "v1 : 0.37257833425649717  | v2 : 0.37257833425649717\n"
          ],
          "name": "stdout"
        }
      ]
    },
    {
      "cell_type": "code",
      "metadata": {
        "id": "mneuw65ufwIe",
        "outputId": "7286ae9a-564b-4925-c28f-cb429474d555"
      },
      "source": [
        "# Index értékek / View index values\n",
        "print(s2.index)"
      ],
      "execution_count": null,
      "outputs": [
        {
          "output_type": "stream",
          "text": [
            "Index(['a', 'b', 'c', 'd', 'e'], dtype='object')\n"
          ],
          "name": "stdout"
        }
      ]
    },
    {
      "cell_type": "code",
      "metadata": {
        "id": "KXMy63PrfwIh",
        "outputId": "2ee6790d-9f83-4085-cd5f-63a92122ce2c"
      },
      "source": [
        "\n",
        "data = {'pi': 3.1415, 'e': 2.71828}  # dictionary\n",
        "print(data)\n",
        "print('Könyvtár : ', data['pi'])\n",
        "\n",
        "# Pand sorozat létrehozása könyvtárból / Create a Series from dictionary\n",
        "s3 = pd.Series ( data )\n",
        "print(s3)\n",
        "print('Panda sorozat : ', s3['pi'])"
      ],
      "execution_count": null,
      "outputs": [
        {
          "output_type": "stream",
          "text": [
            "{'pi': 3.1415, 'e': 2.71828}\n",
            "Könyvtár :  3.1415\n",
            "pi    3.14150\n",
            "e     2.71828\n",
            "dtype: float64\n",
            "Panda sorozat :  3.1415\n"
          ],
          "name": "stdout"
        }
      ]
    },
    {
      "cell_type": "code",
      "metadata": {
        "id": "yP9fBZOhfwIj",
        "outputId": "c66cc95f-7180-4c7f-af3e-4119be2f8e86"
      },
      "source": [
        "# Elemek átrendezése és bővítése / reordering the elements and insert\n",
        "s4 = pd.Series ( data, index = ['e', 'pi', 'egyeb'])\n",
        "print(s4)\n",
        "\n",
        "## Ha nem kap értéket valami akkor használatos a panda sepciális jelzője\n",
        "## NAN (non a number) - is used to specify a missing value in Pandas.\n"
      ],
      "execution_count": null,
      "outputs": [
        {
          "output_type": "stream",
          "text": [
            "e        2.71828\n",
            "pi       3.14150\n",
            "egyeb        NaN\n",
            "dtype: float64\n"
          ],
          "name": "stdout"
        }
      ]
    },
    {
      "cell_type": "code",
      "metadata": {
        "id": "cnT58SQhfwIm",
        "outputId": "6a0e78ed-edce-4872-ec0a-b4f8e51fb879"
      },
      "source": [
        "## pozició hivatkozás (tulhivatkozást elbírja)\n",
        "print(s1[:12])      # első tizenkét elem (de csak 4 van ténylegesen)/ First 12 elements\n",
        "\n",
        "print('--------------')\n",
        "\n",
        "print( s1[[2,1,0]])  # elemek konkrét sorrendjének megadása / Elements out of order\n"
      ],
      "execution_count": null,
      "outputs": [
        {
          "output_type": "stream",
          "text": [
            "a1   -42\n",
            "b1    -1\n",
            "c1     1\n",
            "d1     7\n",
            "e1    42\n",
            "dtype: int64\n",
            "--------------\n",
            "c1     1\n",
            "b1    -1\n",
            "a1   -42\n",
            "dtype: int64\n"
          ],
          "name": "stdout"
        }
      ]
    },
    {
      "cell_type": "code",
      "metadata": {
        "id": "d9i_nsQWfwIp",
        "outputId": "c30922c3-e488-464e-e91b-2dd2e94e3ce2"
      },
      "source": [
        "# nevezetes értékek megjelenítése ndarray szerint / Series can be used as ndarray:\n",
        "print(\"Median:\" , s4.median())"
      ],
      "execution_count": null,
      "outputs": [
        {
          "output_type": "stream",
          "text": [
            "Median: 2.9298900000000003\n"
          ],
          "name": "stdout"
        }
      ]
    },
    {
      "cell_type": "code",
      "metadata": {
        "id": "_Lb_wg6QfwIr",
        "outputId": "36dd66bd-405b-47c6-d611-3466f68ae3ad"
      },
      "source": [
        "## szűrési feltétel megadása a hivatkozásban\n",
        "print(s1[s1 > 0])             ## csak anullánál nagyobb értéküek jelenjenek meg\n",
        "\n",
        "print('--------------')\n",
        "\n",
        "print(s4[s4 > s4.median()])   ## csak a mediánnál nagyobbak jelenjenek meg"
      ],
      "execution_count": null,
      "outputs": [
        {
          "output_type": "stream",
          "text": [
            "c1     1\n",
            "d1     7\n",
            "e1    42\n",
            "dtype: int64\n",
            "--------------\n",
            "pi    3.1415\n",
            "dtype: float64\n"
          ],
          "name": "stdout"
        }
      ]
    },
    {
      "cell_type": "markdown",
      "metadata": {
        "id": "gRbLFAGXfwIt"
      },
      "source": [
        "---\n",
        "\n",
        "#### Népszerű attribútumok és módszerek  /  Popular Attributes and Methods:\n",
        "\n",
        "|  Attribute/Method | Description | Leírás |\n",
        "|-----|-----|-----|\n",
        "| dtype | data type of values in series | adat tipus |\n",
        "| empty | True if series is empty | üres érték van akkor igazzat ad |\n",
        "| size | number of elements | elemek száma |\n",
        "| values | Returns values as ndarray | értékek visszaadása mint ndarray |\n",
        "| head() | First n elements | első 5 elem |\n",
        "| tail() | Last n elements | utolsó 5 elem |\n",
        "\n",
        "---"
      ]
    },
    {
      "cell_type": "markdown",
      "metadata": {
        "id": "RfS6qPh0fwIu"
      },
      "source": [
        "---\n",
        "\n",
        "## Pandas DataFrame\n",
        "\n",
        "A Pandas DataFrame egy kétdimenziós, méretben változtatható, heterogén táblázatos adatszerkezet, címkézett sorokkal és oszlopokkal (tengelyekkel). \n",
        "Használható szótárszerű tárolóként a python sorozatú objektumok tárolására.\n",
        "\n",
        "Pandas DataFrame is two-dimensional, size-mutable, heterogeneous tabular data structure with labeled rows and columns ( axes ). \n",
        "Can be thought of a dictionary-like container to store python Series objects.\n",
        "\n",
        "---"
      ]
    },
    {
      "cell_type": "code",
      "metadata": {
        "id": "yxqluc9vfwIu",
        "outputId": "eea5944c-f550-4f1d-8d29-6ed01826223b"
      },
      "source": [
        "##  DataFrame létrehozása index nélkül / create a DataFrame without index\n",
        "d =  pd.DataFrame({ \n",
        "         'Name': pd.Series(['Alice','Bob','Chris']), \n",
        "         'Age': pd.Series([ 21,25,23]), \n",
        "         'Group': pd.Series(['a','a','b']) \n",
        "          } )\n",
        "\n",
        "## adjunk egy új oszlopot hozzá / Add a new column:\n",
        "d['height'] = pd.Series([5.2,6.0,5.6])\n",
        "\n",
        "## jelenítsük meg\n",
        "print(d)"
      ],
      "execution_count": null,
      "outputs": [
        {
          "output_type": "stream",
          "text": [
            "    Name  Age Group  height\n",
            "0  Alice   21     a     5.2\n",
            "1    Bob   25     a     6.0\n",
            "2  Chris   23     b     5.6\n"
          ],
          "name": "stdout"
        }
      ]
    },
    {
      "cell_type": "code",
      "metadata": {
        "id": "GHeKS-dTfwIw",
        "outputId": "457b70d4-5b2a-483b-f0cd-1fe645c85bd9"
      },
      "source": [
        "##  DataFrame létrehozása indexel / create a DataFrame with index\n",
        "d2 = pd.DataFrame(np.array([['Alice','Bob','Chris'],[ 21,25,23],['a','a','b']]).T, columns=['Name','Age','Group'])\n",
        "\n",
        "## adjunk egy új oszlopot hozzá / Add a new column:\n",
        "d['height'] = pd.Series([5.2,6.0,5.6])\n",
        "\n",
        "## jelenítsük meg\n",
        "print(d)"
      ],
      "execution_count": null,
      "outputs": [
        {
          "output_type": "stream",
          "text": [
            "    Name  Age Group  height\n",
            "0  Alice   21     a     5.2\n",
            "1    Bob   25     a     6.0\n",
            "2  Chris   23     b     5.6\n"
          ],
          "name": "stdout"
        }
      ]
    },
    {
      "cell_type": "code",
      "metadata": {
        "id": "oP_ayLUCfwIy"
      },
      "source": [
        "## CSV fileből beolvasás / Read csv file\n",
        "df = pd.read_csv(\"https://raw.githubusercontent.com/klajosw/python/master/Salaries.csv\")\n",
        "\n",
        "## beolvasoot adatok megjelenitése (első 5 sor) / Display a few first records\n",
        "df.head(5)\n"
      ],
      "execution_count": null,
      "outputs": []
    },
    {
      "cell_type": "markdown",
      "metadata": {
        "id": "_p7_KaG-fwI1"
      },
      "source": [
        "---"
      ]
    },
    {
      "cell_type": "code",
      "metadata": {
        "id": "nZ8fAsvyfwI2",
        "outputId": "9593329f-6722-4a2d-f611-602c10193494"
      },
      "source": [
        "## adattartalom tipus allenőrzése / Check the type of a column \"salary\"\n",
        "print( df['salary'].dtype)\n",
        "\n",
        "print('--------------')\n",
        "\n",
        "## összes oszloptipus kilistázása / List the types of all columns\n",
        "print(df.dtypes)\n",
        "\n",
        "print('--------------')\n",
        "\n",
        "## oszlop nevek kilistázása / List the column names\n",
        "print(df.columns)\n",
        "\n",
        "print('--------------')\n",
        "\n",
        "## sor cimkék és oszlop nevek kilistázása / List the row labels and the column names\n",
        "print(df.axes)\n",
        "\n",
        "print('--------------')\n",
        "\n",
        "## Dimenziószám kiírása / Number of dimensions\n",
        "print(df.ndim)\n",
        "\n",
        "print('--------------')\n",
        "\n",
        "## Elemek számának kiírása /Total number of elements in the Data Frame\n",
        "print(df.size)\n",
        "\n",
        "print('--------------')\n",
        "\n",
        "## sor és oszlop számának kiírása / Number of rows and columns\n",
        "print(df.shape)\n",
        "\n",
        "print('--------------')\n",
        "\n",
        "## Átlag számítása az összes szám tipusú mezőre / Calculate mean for all numeric columns\n",
        "print(df.mean())\n",
        "\n",
        "print('--------------')\n",
        "\n",
        "## Alap statisztika kiírása / Output basic statistics for the numeric columns\n",
        "df.describe()\n",
        "\n",
        "\n"
      ],
      "execution_count": null,
      "outputs": [
        {
          "output_type": "stream",
          "text": [
            "int64\n",
            "--------------\n",
            "rank          object\n",
            "discipline    object\n",
            "phd            int64\n",
            "service        int64\n",
            "sex           object\n",
            "salary         int64\n",
            "dtype: object\n",
            "--------------\n",
            "Index(['rank', 'discipline', 'phd', 'service', 'sex', 'salary'], dtype='object')\n",
            "--------------\n",
            "[RangeIndex(start=0, stop=78, step=1), Index(['rank', 'discipline', 'phd', 'service', 'sex', 'salary'], dtype='object')]\n",
            "--------------\n",
            "2\n",
            "--------------\n",
            "468\n",
            "--------------\n",
            "(78, 6)\n",
            "--------------\n",
            "phd            19.705128\n",
            "service        15.051282\n",
            "salary     108023.782051\n",
            "dtype: float64\n",
            "--------------\n"
          ],
          "name": "stdout"
        },
        {
          "output_type": "execute_result",
          "data": {
            "text/html": [
              "<div>\n",
              "<style scoped>\n",
              "    .dataframe tbody tr th:only-of-type {\n",
              "        vertical-align: middle;\n",
              "    }\n",
              "\n",
              "    .dataframe tbody tr th {\n",
              "        vertical-align: top;\n",
              "    }\n",
              "\n",
              "    .dataframe thead th {\n",
              "        text-align: right;\n",
              "    }\n",
              "</style>\n",
              "<table border=\"1\" class=\"dataframe\">\n",
              "  <thead>\n",
              "    <tr style=\"text-align: right;\">\n",
              "      <th></th>\n",
              "      <th>phd</th>\n",
              "      <th>service</th>\n",
              "      <th>salary</th>\n",
              "    </tr>\n",
              "  </thead>\n",
              "  <tbody>\n",
              "    <tr>\n",
              "      <th>count</th>\n",
              "      <td>78.000000</td>\n",
              "      <td>78.000000</td>\n",
              "      <td>78.000000</td>\n",
              "    </tr>\n",
              "    <tr>\n",
              "      <th>mean</th>\n",
              "      <td>19.705128</td>\n",
              "      <td>15.051282</td>\n",
              "      <td>108023.782051</td>\n",
              "    </tr>\n",
              "    <tr>\n",
              "      <th>std</th>\n",
              "      <td>12.498425</td>\n",
              "      <td>12.139768</td>\n",
              "      <td>28293.661022</td>\n",
              "    </tr>\n",
              "    <tr>\n",
              "      <th>min</th>\n",
              "      <td>1.000000</td>\n",
              "      <td>0.000000</td>\n",
              "      <td>57800.000000</td>\n",
              "    </tr>\n",
              "    <tr>\n",
              "      <th>25%</th>\n",
              "      <td>10.250000</td>\n",
              "      <td>5.250000</td>\n",
              "      <td>88612.500000</td>\n",
              "    </tr>\n",
              "    <tr>\n",
              "      <th>50%</th>\n",
              "      <td>18.500000</td>\n",
              "      <td>14.500000</td>\n",
              "      <td>104671.000000</td>\n",
              "    </tr>\n",
              "    <tr>\n",
              "      <th>75%</th>\n",
              "      <td>27.750000</td>\n",
              "      <td>20.750000</td>\n",
              "      <td>126774.750000</td>\n",
              "    </tr>\n",
              "    <tr>\n",
              "      <th>max</th>\n",
              "      <td>56.000000</td>\n",
              "      <td>51.000000</td>\n",
              "      <td>186960.000000</td>\n",
              "    </tr>\n",
              "  </tbody>\n",
              "</table>\n",
              "</div>"
            ],
            "text/plain": [
              "             phd    service         salary\n",
              "count  78.000000  78.000000      78.000000\n",
              "mean   19.705128  15.051282  108023.782051\n",
              "std    12.498425  12.139768   28293.661022\n",
              "min     1.000000   0.000000   57800.000000\n",
              "25%    10.250000   5.250000   88612.500000\n",
              "50%    18.500000  14.500000  104671.000000\n",
              "75%    27.750000  20.750000  126774.750000\n",
              "max    56.000000  51.000000  186960.000000"
            ]
          },
          "metadata": {
            "tags": []
          },
          "execution_count": 56
        }
      ]
    },
    {
      "cell_type": "markdown",
      "metadata": {
        "collapsed": true,
        "id": "1wkUE5scfwI4"
      },
      "source": [
        "---\n",
        "\n",
        "### Adat szeletelés és csoport képzés / Data slicing and grouping\n",
        "\n",
        "---"
      ]
    },
    {
      "cell_type": "code",
      "metadata": {
        "id": "zKBEEKEWfwI4",
        "outputId": "bab25bd8-04aa-4ac6-f4f3-a85889c07276"
      },
      "source": [
        "## meghatározott oszlop megjelenitése (név szerint megadással)  / Extract a column by name \n",
        "print(df['sex'].head())\n",
        "\n",
        "print('--------------------')\n",
        "\n",
        "## Csoport képzés megadott mező szerint (rank mező) / Group data using rank\n",
        "df_rank = df.groupby('rank')\n",
        "\n",
        "## Átlag számítása az összes szám tipusú mezőre rank szerint / Calculate mean for all numeric columns using rank\n",
        "print(df_rank.mean())\n",
        "\n",
        "\n",
        "print('--------------------')\n",
        "\n",
        "## Egy sorban paraméter megadás (csoport képzés és számolási mód megadása) az összesre számol\n",
        "print(df.groupby('sex').mean())\n",
        "\n",
        "print('--------------------')\n",
        "\n",
        "## Egy sorban paraméter megadás (csoport képzés és számolási mód megadása) csak a megadott oszlopra számol\n",
        "print(df.groupby('sex')['salary'].mean().round(2))                         ## kerekített megjelenités\n",
        "\n",
        "print('--------------------')\n",
        "\n",
        "## Összetett csoportosítás képzés / Group using 2 variables - sex and rank:\n",
        "print(df.groupby(['rank','sex'], sort=True)[['salary']].mean().round(2))  ## kerekített megjelenités\n",
        "\n",
        "print('--------------------')\n",
        "\n",
        "## Összetett csoportosítás képzés és több érték számítás / Group using 2 variables - sex and rank:\n",
        "print(df.groupby(['rank','sex'], sort=True).agg({'salary': ['mean', 'min', 'max']}))\n"
      ],
      "execution_count": null,
      "outputs": [
        {
          "output_type": "stream",
          "text": [
            "0    Male\n",
            "1    Male\n",
            "2    Male\n",
            "3    Male\n",
            "4    Male\n",
            "Name: sex, dtype: object\n",
            "--------------------\n",
            "                 phd    service         salary\n",
            "rank                                          \n",
            "AssocProf  15.076923  11.307692   91786.230769\n",
            "AsstProf    5.052632   2.210526   81362.789474\n",
            "Prof       27.065217  21.413043  123624.804348\n",
            "--------------------\n",
            "              phd    service         salary\n",
            "sex                                        \n",
            "Female  16.512821  11.564103  101002.410256\n",
            "Male    22.897436  18.538462  115045.153846\n",
            "--------------------\n",
            "sex\n",
            "Female    101002.41\n",
            "Male      115045.15\n",
            "Name: salary, dtype: float64\n",
            "--------------------\n",
            "                     salary\n",
            "rank      sex              \n",
            "AssocProf Female   88512.80\n",
            "          Male    102697.67\n",
            "AsstProf  Female   78049.91\n",
            "          Male     85918.00\n",
            "Prof      Female  121967.61\n",
            "          Male    124690.14\n",
            "--------------------\n",
            "                         salary               \n",
            "                           mean    min     max\n",
            "rank      sex                                 \n",
            "AssocProf Female   88512.800000  62884  109650\n",
            "          Male    102697.666667  81285  119800\n",
            "AsstProf  Female   78049.909091  63100   97032\n",
            "          Male     85918.000000  73000   92000\n",
            "Prof      Female  121967.611111  90450  161101\n",
            "          Male    124690.142857  57800  186960\n"
          ],
          "name": "stdout"
        }
      ]
    },
    {
      "cell_type": "code",
      "metadata": {
        "id": "0uDpF-z5fwI8",
        "outputId": "9b71a03e-10ec-4f7d-cb83-dab2ff453e33"
      },
      "source": [
        "d = {\n",
        "    'Index Title': ['Apples', 'Oranges', 'Puppies', 'Ducks'],\n",
        "    'Column 1': [1.1, 2.1, 3.1, 4.1],\n",
        "    'Column 2': [2.1, 3.1, 4.1, 5.1]\n",
        "    }\n",
        "\n",
        "df = pd.DataFrame(d).set_index('Index Title')\n",
        "print (df)\n",
        "\n",
        "print ('--------------------')\n",
        "print (df.index.name)\n",
        "print (df.columns.name)\n",
        "\n",
        "print ('--------------------')\n",
        "\n",
        "d = {\n",
        "    'Index Title': ['Apples', 'Oranges', 'Puppies', 'Ducks'],\n",
        "    'Column 1': [1.2, 2.2, 3.2, 4.2],\n",
        "    'Column 2': [2.2, 3.2, 4.2, 5.2]\n",
        "    }\n",
        "\n",
        "df = pd.DataFrame(d).set_index('Index Title').rename_axis('Col Name', axis=1)  ## átnevezés\n",
        "print (df)\n",
        "\n",
        "print ('--------------------')\n",
        "print (df.index.name)\n",
        "print (df.columns.name)\n",
        "print (df.columns.values)\n",
        "\n",
        "print ('--------------------')\n",
        "\n",
        "grouped_multiple = df.groupby(['Index Title']).agg({'Column 2': ['mean', 'min', 'max']})\n",
        "grouped_multiple.columns = ['age_mean', 'age_min', 'age_max']\n",
        "grouped_multiple = grouped_multiple.reset_index()\n",
        "print(grouped_multiple)\n"
      ],
      "execution_count": null,
      "outputs": [
        {
          "output_type": "stream",
          "text": [
            "             Column 1  Column 2\n",
            "Index Title                    \n",
            "Apples            1.1       2.1\n",
            "Oranges           2.1       3.1\n",
            "Puppies           3.1       4.1\n",
            "Ducks             4.1       5.1\n",
            "--------------------\n",
            "Index Title\n",
            "None\n",
            "--------------------\n",
            "Col Name     Column 1  Column 2\n",
            "Index Title                    \n",
            "Apples            1.2       2.2\n",
            "Oranges           2.2       3.2\n",
            "Puppies           3.2       4.2\n",
            "Ducks             4.2       5.2\n",
            "--------------------\n",
            "Index Title\n",
            "Col Name\n",
            "['Column 1' 'Column 2']\n",
            "--------------------\n",
            "  Index Title  age_mean  age_min  age_max\n",
            "0      Apples       2.2      2.2      2.2\n",
            "1       Ducks       5.2      5.2      5.2\n",
            "2     Oranges       3.2      3.2      3.2\n",
            "3     Puppies       4.2      4.2      4.2\n"
          ],
          "name": "stdout"
        }
      ]
    },
    {
      "cell_type": "markdown",
      "metadata": {
        "id": "hkdEOW9TfwI-"
      },
      "source": [
        "---\n",
        "\n",
        "### Adatszűrések / Filtering\n",
        "\n",
        "---"
      ]
    },
    {
      "cell_type": "code",
      "metadata": {
        "id": "DVPvIfBafwI-",
        "outputId": "9c85d150-5c07-46a7-cd0b-7ca0cfd3260a"
      },
      "source": [
        "## CSV fileből beolvasás / Read csv file\n",
        "df = pd.read_csv(\"https://raw.githubusercontent.com/klajosw/python/master/Salaries.csv\")\n",
        "\n",
        "## feltétel megadása a szűréshez / Select observation with the value in the salary column > 120K\n",
        "df_sub = df[ df['salary'] > 120000]\n",
        "\n",
        "print (df_sub.head())\n",
        "\n",
        "print ('--------------------')\n",
        "\n",
        "print(df_sub.axes)\n",
        "\n",
        "print ('--------------------')\n",
        "\n",
        "## másik szűrési feltétel megadáss / Select data for female professors\n",
        "df_w = df[ df['sex'] == 'Female']\n",
        "print (df_w.head())\n",
        "\n",
        "print ('--------------------')\n",
        "\n",
        "## részleges megjelenítés sorok és oszlopok kijelőlése / If we want to select both rows and columns we can use method .loc\n",
        "print(df.loc[10:15,['rank', 'sex','salary']])\n",
        "\n",
        "print ('--------------------')\n",
        "\n",
        "## részleges megjelenítés sorok és oszlopok kijelőlése /  Unlike method .loc, method iloc selects rows (and columns) by poistion:\n",
        "print (df.iloc[10:15, [0,3,4,5]])\n"
      ],
      "execution_count": null,
      "outputs": [
        {
          "output_type": "stream",
          "text": [
            "    rank discipline  phd  service   sex  salary\n",
            "0   Prof          B   56       49  Male  186960\n",
            "3   Prof          A   40       31  Male  131205\n",
            "5   Prof          A   20       20  Male  122400\n",
            "7   Prof          A   18       18  Male  126300\n",
            "10  Prof          B   39       33  Male  128250\n",
            "--------------------\n",
            "[Int64Index([ 0,  3,  5,  7, 10, 11, 13, 14, 15, 19, 26, 27, 29, 31, 35, 36, 39,\n",
            "            40, 44, 45, 49, 51, 58, 72, 75],\n",
            "           dtype='int64'), Index(['rank', 'discipline', 'phd', 'service', 'sex', 'salary'], dtype='object')]\n",
            "--------------------\n",
            "         rank discipline  phd  service     sex  salary\n",
            "39       Prof          B   18       18  Female  129000\n",
            "40       Prof          A   39       36  Female  137000\n",
            "41  AssocProf          A   13        8  Female   74830\n",
            "42   AsstProf          B    4        2  Female   80225\n",
            "43   AsstProf          B    5        0  Female   77000\n",
            "--------------------\n",
            "        rank   sex  salary\n",
            "10      Prof  Male  128250\n",
            "11      Prof  Male  134778\n",
            "12  AsstProf  Male   88000\n",
            "13      Prof  Male  162200\n",
            "14      Prof  Male  153750\n",
            "15      Prof  Male  150480\n",
            "--------------------\n",
            "        rank  service   sex  salary\n",
            "10      Prof       33  Male  128250\n",
            "11      Prof       23  Male  134778\n",
            "12  AsstProf        0  Male   88000\n",
            "13      Prof       33  Male  162200\n",
            "14      Prof       19  Male  153750\n"
          ],
          "name": "stdout"
        }
      ]
    },
    {
      "cell_type": "markdown",
      "metadata": {
        "id": "ITlx8uTefwJA"
      },
      "source": [
        "---\n",
        "\n",
        "### Adatok rendezése / Sorting the Data\n",
        "\n",
        "---"
      ]
    },
    {
      "cell_type": "code",
      "metadata": {
        "id": "1u5mJiu_fwJB",
        "outputId": "588c4d91-5fab-448c-a366-725229b77a05"
      },
      "source": [
        "## adatok rendezése oszlop kijelőléssel / Sort the data frame by yrs.service and create a new data frame\n",
        "df_sorted = df.sort_values(by = 'service')\n",
        "print(df_sorted.head())\n",
        "\n",
        "print ('--------------------')\n",
        "\n",
        "## adatok rendezése oszlop kijelőléssel felülírása az eredeti adatoknak / Sort the data frame by yrs.service and overwrite the original dataset\n",
        "df.sort_values(by = 'service', ascending = False, inplace = True)\n",
        "print (df.head())\n",
        "\n",
        "print ('--------------------')\n",
        "\n",
        "## Állítsuk vissza az eredeti sorrendet (index szerinti rendezéssel) / Restore the original order (by sorting using index)\n",
        "df.sort_index(axis=0, ascending = True, inplace = True)\n",
        "print (df.head())\n",
        "\n",
        "print ('--------------------')\n",
        "\n",
        "## Rendezzük az dataframe két vagy több oszlop használatával / Sort the dataframe using 2 or more columns:\n",
        "df_sorted = df.sort_values(by = ['service', 'salary'], ascending = [True, False])\n",
        "print (df_sorted.head(5))"
      ],
      "execution_count": null,
      "outputs": [
        {
          "output_type": "stream",
          "text": [
            "        rank discipline  phd  service     sex  salary\n",
            "55  AsstProf          A    2        0  Female   72500\n",
            "23  AsstProf          A    2        0    Male   85000\n",
            "43  AsstProf          B    5        0  Female   77000\n",
            "17  AsstProf          B    4        0    Male   92000\n",
            "12  AsstProf          B    1        0    Male   88000\n",
            "--------------------\n",
            "    rank discipline  phd  service     sex  salary\n",
            "9   Prof          A   51       51    Male   57800\n",
            "0   Prof          B   56       49    Male  186960\n",
            "36  Prof          B   45       45    Male  146856\n",
            "27  Prof          A   45       43    Male  155865\n",
            "40  Prof          A   39       36  Female  137000\n",
            "--------------------\n",
            "   rank discipline  phd  service   sex  salary\n",
            "0  Prof          B   56       49  Male  186960\n",
            "1  Prof          A   12        6  Male   93000\n",
            "2  Prof          A   23       20  Male  110515\n",
            "3  Prof          A   40       31  Male  131205\n",
            "4  Prof          B   20       18  Male  104800\n",
            "--------------------\n",
            "        rank discipline  phd  service     sex  salary\n",
            "52      Prof          A   12        0  Female  105000\n",
            "17  AsstProf          B    4        0    Male   92000\n",
            "12  AsstProf          B    1        0    Male   88000\n",
            "23  AsstProf          A    2        0    Male   85000\n",
            "43  AsstProf          B    5        0  Female   77000\n"
          ],
          "name": "stdout"
        }
      ]
    },
    {
      "cell_type": "markdown",
      "metadata": {
        "id": "WRsj9nNDfwJD"
      },
      "source": [
        "---\n",
        "\n",
        "### Hibás hiányzó értékek kezelése / Missing Values\n",
        "\n",
        "(Adattisztítás / datacleaning)\n",
        "\n",
        "\n",
        "---"
      ]
    },
    {
      "cell_type": "code",
      "metadata": {
        "id": "kYrIOLl_fwJD",
        "outputId": "b9facc7b-7c62-48e0-eb07-c63aa1479683"
      },
      "source": [
        "## Olvassuk be a forrás állományt hibákkal, hiányzó adatokkal / Read a dataset with missing values\n",
        "flights = pd.read_csv(\"https://raw.githubusercontent.com/klajosw/python/master/flights.csv\")\n",
        "\n",
        "## jelenítsük meg a hibás, hiányzó adatokat (bármely oszlop tartalmaza is) / Select the rows that have at least one missing value\n",
        "print(flights[flights.isnull().any(axis=1)].head(5))\n",
        "\n",
        "print ('--------------------')\n",
        "\n",
        "## jelenítsük meg a hibás, hiányzó adatokat ha bizonyos oszlopban előfordul /  Filter all the rows where arr_delay value is missing:\n",
        "flights1 = flights[ flights['arr_delay'].isnull( )]\n",
        "print (flights1.head(5))\n",
        "\n",
        "print ('--------------------')"
      ],
      "execution_count": null,
      "outputs": [
        {
          "output_type": "stream",
          "text": [
            "     year  month  day  dep_time  dep_delay  arr_time  arr_delay carrier  \\\n",
            "330  2013      1    1    1807.0       29.0    2251.0        NaN      UA   \n",
            "403  2013      1    1       NaN        NaN       NaN        NaN      AA   \n",
            "404  2013      1    1       NaN        NaN       NaN        NaN      AA   \n",
            "855  2013      1    2    2145.0       16.0       NaN        NaN      UA   \n",
            "858  2013      1    2       NaN        NaN       NaN        NaN      AA   \n",
            "\n",
            "    tailnum  flight origin dest  air_time  distance  hour  minute  \n",
            "330  N31412    1228    EWR  SAN       NaN      2425  18.0     7.0  \n",
            "403  N3EHAA     791    LGA  DFW       NaN      1389   NaN     NaN  \n",
            "404  N3EVAA    1925    LGA  MIA       NaN      1096   NaN     NaN  \n",
            "855  N12221    1299    EWR  RSW       NaN      1068  21.0    45.0  \n",
            "858     NaN     133    JFK  LAX       NaN      2475   NaN     NaN  \n",
            "--------------------\n",
            "     year  month  day  dep_time  dep_delay  arr_time  arr_delay carrier  \\\n",
            "330  2013      1    1    1807.0       29.0    2251.0        NaN      UA   \n",
            "403  2013      1    1       NaN        NaN       NaN        NaN      AA   \n",
            "404  2013      1    1       NaN        NaN       NaN        NaN      AA   \n",
            "855  2013      1    2    2145.0       16.0       NaN        NaN      UA   \n",
            "858  2013      1    2       NaN        NaN       NaN        NaN      AA   \n",
            "\n",
            "    tailnum  flight origin dest  air_time  distance  hour  minute  \n",
            "330  N31412    1228    EWR  SAN       NaN      2425  18.0     7.0  \n",
            "403  N3EHAA     791    LGA  DFW       NaN      1389   NaN     NaN  \n",
            "404  N3EVAA    1925    LGA  MIA       NaN      1096   NaN     NaN  \n",
            "855  N12221    1299    EWR  RSW       NaN      1068  21.0    45.0  \n",
            "858     NaN     133    JFK  LAX       NaN      2475   NaN     NaN  \n",
            "--------------------\n"
          ],
          "name": "stdout"
        }
      ]
    },
    {
      "cell_type": "code",
      "metadata": {
        "id": "6OZbkzZyfwJF",
        "outputId": "c3db1611-e040-4c53-db2a-4c79d07aaa16"
      },
      "source": [
        "## adat javítás: hibás adatok eldobásával / Remove all the observations with missing values\n",
        "nomiss1 = flights.dropna()\n",
        "print('javított1 : ', nomiss1.isnull().any())\n",
        "\n",
        "print ('--------------------')\n",
        "\n",
        "## adat javítás: hibás adatok kinullázával / Fill missing values with zeros\n",
        "nomiss2 =flights['dep_delay'].fillna(0)\n",
        "print('javított2 : ', nomiss2.isnull().any())"
      ],
      "execution_count": null,
      "outputs": [
        {
          "output_type": "stream",
          "text": [
            "javított1 :  year         False\n",
            "month        False\n",
            "day          False\n",
            "dep_time     False\n",
            "dep_delay    False\n",
            "arr_time     False\n",
            "arr_delay    False\n",
            "carrier      False\n",
            "tailnum      False\n",
            "flight       False\n",
            "origin       False\n",
            "dest         False\n",
            "air_time     False\n",
            "distance     False\n",
            "hour         False\n",
            "minute       False\n",
            "dtype: bool\n",
            "--------------------\n",
            "javított2 :  False\n"
          ],
          "name": "stdout"
        }
      ]
    },
    {
      "cell_type": "markdown",
      "metadata": {
        "id": "Xwlw9_BUfwJH"
      },
      "source": [
        "---\n",
        "\n",
        "### Általános összesítési funkciók / Common Aggregation Functions:\n",
        "\n",
        "|Function|Description | Leírás |\n",
        "|-------|-------- |--------\n",
        "|min   | minimum | minimum |\n",
        "|max   | maximum | maximum |\n",
        "|count   | number of non-null observations | a nem null értékű meződarabszám |\n",
        "|sum   | sum of values | érték összegzés |\n",
        "|mean  | arithmetic mean of values | átlag |\n",
        "|median | median | medián |\n",
        "|mad | mean absolute deviation | abs deviancia |\n",
        "|mode | mode | mode |\n",
        "|prod   | product of values | termék szám |\n",
        "|std  | standard deviation | deviancia |\n",
        "|var | unbiased variance | variancia |\n",
        "\n"
      ]
    },
    {
      "cell_type": "code",
      "metadata": {
        "id": "b2iQkszIfwJH",
        "outputId": "ebff9310-fc54-4cad-f9c7-4d11fcf5762c"
      },
      "source": [
        "## táblázat elemzi adatai / Find the number of non-missing values in each column\n",
        "print (flights.describe())\n",
        "\n",
        "print ('--------------------')\n",
        "\n",
        "print (flights.dep_delay.describe())\n",
        "\n",
        "print ('--------------------')\n",
        "\n",
        "print(flights.min())\n",
        "\n",
        "print ('--------------------')\n",
        "\n",
        "print(flights[['dep_delay','arr_delay']].agg(['min','mean','max']))\n",
        "\n",
        "print ('--------------------')\n",
        "\n",
        "print(flights.agg({'dep_delay':['min','mean',max], 'carrier':['nunique']}))\n",
        "\n",
        "print ('--------------------')\n",
        "\n",
        "print(flights['dep_delay'].idxmin())  ## minimum érték / minimum value\n",
        "\n",
        "print ('--------------------')\n",
        "\n",
        "## Különmböző értékkek megszámolása / Count the number of records for each different value in a vector\n",
        "print (flights['carrier'].value_counts())\n",
        "\n"
      ],
      "execution_count": null,
      "outputs": [
        {
          "output_type": "stream",
          "text": [
            "           year          month            day       dep_time      dep_delay  \\\n",
            "count  160754.0  160754.000000  160754.000000  158418.000000  158418.000000   \n",
            "mean     2013.0       6.547395      15.716567    1316.146006       9.463773   \n",
            "std         0.0       3.410001       8.762794     470.823715      36.545109   \n",
            "min      2013.0       1.000000       1.000000       1.000000     -33.000000   \n",
            "25%      2013.0       4.000000       8.000000     855.000000      -5.000000   \n",
            "50%      2013.0       7.000000      16.000000    1345.000000      -2.000000   \n",
            "75%      2013.0      10.000000      23.000000    1725.000000       7.000000   \n",
            "max      2013.0      12.000000      31.000000    2400.000000    1014.000000   \n",
            "\n",
            "            arr_time      arr_delay         flight       air_time  \\\n",
            "count  158275.000000  157927.000000  160754.000000  157927.000000   \n",
            "mean     1517.471161       2.094537    1156.344987     180.685158   \n",
            "std       510.695413      41.479349     695.884283      97.507866   \n",
            "min         1.000000     -75.000000       1.000000      21.000000   \n",
            "25%      1112.000000     -19.000000     504.000000     111.000000   \n",
            "50%      1541.000000      -7.000000    1157.000000     153.000000   \n",
            "75%      1944.000000       9.000000    1715.000000     258.000000   \n",
            "max      2400.000000    1007.000000    2599.000000     695.000000   \n",
            "\n",
            "            distance           hour         minute  \n",
            "count  160754.000000  158418.000000  158418.000000  \n",
            "mean     1282.445420      12.837582      32.387847  \n",
            "std       765.895383       4.725552      18.687423  \n",
            "min        17.000000       0.000000       0.000000  \n",
            "25%       733.000000       8.000000      16.000000  \n",
            "50%      1076.000000      13.000000      32.000000  \n",
            "75%      1728.000000      17.000000      51.000000  \n",
            "max      4963.000000      24.000000      59.000000  \n",
            "--------------------\n",
            "count    158418.000000\n",
            "mean          9.463773\n",
            "std          36.545109\n",
            "min         -33.000000\n",
            "25%          -5.000000\n",
            "50%          -2.000000\n",
            "75%           7.000000\n",
            "max        1014.000000\n",
            "Name: dep_delay, dtype: float64\n",
            "--------------------\n",
            "year         2013\n",
            "month           1\n",
            "day             1\n",
            "dep_time        1\n",
            "dep_delay     -33\n",
            "arr_time        1\n",
            "arr_delay     -75\n",
            "carrier        AA\n",
            "flight          1\n",
            "origin        EWR\n",
            "dest          ANC\n",
            "air_time       21\n",
            "distance       17\n",
            "hour            0\n",
            "minute          0\n",
            "dtype: object\n",
            "--------------------\n",
            "        dep_delay    arr_delay\n",
            "min    -33.000000   -75.000000\n",
            "mean     9.463773     2.094537\n",
            "max   1014.000000  1007.000000\n",
            "--------------------\n",
            "           dep_delay  carrier\n",
            "max      1014.000000      NaN\n",
            "mean        9.463773      NaN\n",
            "min       -33.000000      NaN\n",
            "nunique          NaN      5.0\n",
            "--------------------\n",
            "54111\n",
            "--------------------\n",
            "UA    58665\n",
            "DL    48110\n",
            "AA    32729\n",
            "US    20536\n",
            "AS      714\n",
            "Name: carrier, dtype: int64\n"
          ],
          "name": "stdout"
        }
      ]
    },
    {
      "cell_type": "markdown",
      "metadata": {
        "id": "joKjLK7-fwJJ"
      },
      "source": [
        "---\n",
        "\n",
        "## Grafikonos adatmegjelenítés / Explore data using graphics\n",
        "\n",
        "---"
      ]
    },
    {
      "cell_type": "code",
      "metadata": {
        "id": "hbq3El6zfwJK"
      },
      "source": [
        "## mágikus kapcsolóval grafikus megjelenítés modulok betöltése / Show graphs withint Python notebook\n",
        "%matplotlib inline"
      ],
      "execution_count": null,
      "outputs": []
    },
    {
      "cell_type": "code",
      "metadata": {
        "id": "A7gVZkjkfwJM",
        "outputId": "3ab1140c-a0b9-4265-a72f-c398dafab2bf"
      },
      "source": [
        "## matplotlib segítségével historgamos adat megjelenítés / Use matplotlib to draw a histogram of a salary data\n",
        "plt.hist(df['salary'],bins=8, density=True)"
      ],
      "execution_count": null,
      "outputs": [
        {
          "output_type": "execute_result",
          "data": {
            "text/plain": [
              "(array([7.14677085e-06, 8.73494215e-06, 1.74698843e-05, 8.73494215e-06,\n",
              "        9.52902780e-06, 6.35268520e-06, 3.17634260e-06, 7.94085650e-07]),\n",
              " array([ 57800.,  73945.,  90090., 106235., 122380., 138525., 154670.,\n",
              "        170815., 186960.]),\n",
              " <a list of 8 Patch objects>)"
            ]
          },
          "metadata": {
            "tags": []
          },
          "execution_count": 117
        },
        {
          "output_type": "display_data",
          "data": {
            "image/png": "[encoded data removed]",
            "text/plain": [
              "<Figure size 432x288 with 1 Axes>"
            ]
          },
          "metadata": {
            "tags": [],
            "needs_background": "light"
          }
        }
      ]
    },
    {
      "cell_type": "code",
      "metadata": {
        "id": "Ozwr9_USfwJO",
        "outputId": "c6d6975a-4142-4a0b-f559-86759f3e0073"
      },
      "source": [
        "## seaborn segítségével historgamos adat megjelenítés / Use seaborn package to draw a histogram\n",
        "sns.distplot(df['salary']);"
      ],
      "execution_count": null,
      "outputs": [
        {
          "output_type": "display_data",
          "data": {
            "image/png": "[encoded data removed]",
            "text/plain": [
              "<Figure size 432x288 with 1 Axes>"
            ]
          },
          "metadata": {
            "tags": [],
            "needs_background": "light"
          }
        }
      ]
    },
    {
      "cell_type": "code",
      "metadata": {
        "id": "Hh2lg0ASfwJR",
        "outputId": "07f7e5f3-d7f6-4d7c-d242-04c78ad97f2d"
      },
      "source": [
        "## Oszlop diagramos megjelenítés matplotlib segítségével / Use regular matplotlib function to display a barplot\n",
        "df.groupby(['rank'])['salary'].count().plot(kind='bar')"
      ],
      "execution_count": null,
      "outputs": [
        {
          "output_type": "execute_result",
          "data": {
            "text/plain": [
              "<matplotlib.axes._subplots.AxesSubplot at 0x1b545b5d888>"
            ]
          },
          "metadata": {
            "tags": []
          },
          "execution_count": 120
        },
        {
          "output_type": "display_data",
          "data": {
            "image/png": "[encoded data removed]",
            "text/plain": [
              "<Figure size 432x288 with 1 Axes>"
            ]
          },
          "metadata": {
            "tags": [],
            "needs_background": "light"
          }
        }
      ]
    },
    {
      "cell_type": "code",
      "metadata": {
        "scrolled": false,
        "id": "KlOogjwtfwJT",
        "outputId": "317afda0-a5b8-459c-c698-67e5f8907fe4"
      },
      "source": [
        "## Oszlop diagramos megjelenítés seaborn segítségével / Use seaborn package to display a barplot\n",
        "sns.set_style(\"whitegrid\")\n",
        "ax = sns.barplot(x='rank',y ='salary', data=df, estimator=len)"
      ],
      "execution_count": null,
      "outputs": [
        {
          "output_type": "display_data",
          "data": {
            "image/png": "[encoded data removed]",
            "text/plain": [
              "<Figure size 432x288 with 1 Axes>"
            ]
          },
          "metadata": {
            "tags": []
          }
        }
      ]
    },
    {
      "cell_type": "code",
      "metadata": {
        "id": "Tt_hu-ssfwJV",
        "outputId": "09bbd39c-93d9-4d2a-9b48-c80c0b49df4d"
      },
      "source": [
        "## Oszlop diagramos megjelenítés seaborn segítségével két támában / Use seaborn package to display a barplot split into 2 groups:\n",
        "ax = sns.barplot(x='rank',y ='salary', hue='sex', data=df, estimator=len)"
      ],
      "execution_count": null,
      "outputs": [
        {
          "output_type": "display_data",
          "data": {
            "image/png": "[encoded data removed]",
            "text/plain": [
              "<Figure size 432x288 with 1 Axes>"
            ]
          },
          "metadata": {
            "tags": []
          }
        }
      ]
    },
    {
      "cell_type": "code",
      "metadata": {
        "id": "mHbU6hvufwJX",
        "outputId": "3e05f321-20d1-4972-b872-9d6337dc12f2"
      },
      "source": [
        "## Violinplot diagramos megjelenítés seaborn segítségével\n",
        "sns.violinplot(x = \"salary\", data=df)"
      ],
      "execution_count": null,
      "outputs": [
        {
          "output_type": "execute_result",
          "data": {
            "text/plain": [
              "<matplotlib.axes._subplots.AxesSubplot at 0x1b545bfd588>"
            ]
          },
          "metadata": {
            "tags": []
          },
          "execution_count": 123
        },
        {
          "output_type": "display_data",
          "data": {
            "image/png": "[encoded data removed]",
            "text/plain": [
              "<Figure size 432x288 with 1 Axes>"
            ]
          },
          "metadata": {
            "tags": []
          }
        }
      ]
    },
    {
      "cell_type": "code",
      "metadata": {
        "id": "NO6dwL-pfwJZ",
        "outputId": "528b96fa-c41a-4f75-fd3f-955ef03b70d7"
      },
      "source": [
        "#Scatterplot diagramos megjelenítés seaborn segítségével\n",
        "sns.jointplot(x='service', y='salary', data=df)"
      ],
      "execution_count": null,
      "outputs": [
        {
          "output_type": "execute_result",
          "data": {
            "text/plain": [
              "<seaborn.axisgrid.JointGrid at 0x1b545e8ea88>"
            ]
          },
          "metadata": {
            "tags": []
          },
          "execution_count": 124
        },
        {
          "output_type": "display_data",
          "data": {
            "image/png": "[encoded data removed]",
            "text/plain": [
              "<Figure size 432x432 with 3 Axes>"
            ]
          },
          "metadata": {
            "tags": []
          }
        }
      ]
    },
    {
      "cell_type": "code",
      "metadata": {
        "id": "Si8WxLcXfwJb",
        "outputId": "adee4280-b53e-4533-eea7-9f060ffac7b3"
      },
      "source": [
        "## linear regresszio diagramos megjelenítés seaborn segítségével / linear regression plot for 2 numeric variables we can use regplot\n",
        "sns.regplot(x='service', y='salary', data=df)"
      ],
      "execution_count": null,
      "outputs": [
        {
          "output_type": "stream",
          "text": [
            "C:\\Users\\User\\Anaconda3\\lib\\site-packages\\numpy\\linalg\\linalg.py:1965: RuntimeWarning: invalid value encountered in greater\n",
            "  large = s > cutoff\n"
          ],
          "name": "stderr"
        },
        {
          "output_type": "execute_result",
          "data": {
            "text/plain": [
              "<matplotlib.axes._subplots.AxesSubplot at 0x1b545fe5948>"
            ]
          },
          "metadata": {
            "tags": []
          },
          "execution_count": 125
        },
        {
          "output_type": "display_data",
          "data": {
            "image/png": "[encoded data removed]",
            "text/plain": [
              "<Figure size 432x288 with 1 Axes>"
            ]
          },
          "metadata": {
            "tags": []
          }
        }
      ]
    },
    {
      "cell_type": "code",
      "metadata": {
        "id": "ivVDO-MIfwJd",
        "outputId": "9203034d-9e2c-4545-8621-346322ab386c"
      },
      "source": [
        "# box diagramos megjelenítés seaborn segítségével\n",
        "sns.boxplot(x='rank',y='salary', data=df)"
      ],
      "execution_count": null,
      "outputs": [
        {
          "output_type": "execute_result",
          "data": {
            "text/plain": [
              "<matplotlib.axes._subplots.AxesSubplot at 0x1b546088ec8>"
            ]
          },
          "metadata": {
            "tags": []
          },
          "execution_count": 126
        },
        {
          "output_type": "display_data",
          "data": {
            "image/png": "[encoded data removed]",
            "text/plain": [
              "<Figure size 432x288 with 1 Axes>"
            ]
          },
          "metadata": {
            "tags": []
          }
        }
      ]
    },
    {
      "cell_type": "code",
      "metadata": {
        "id": "wydfPNMUfwJf",
        "outputId": "acf8fc8a-7f29-4187-e68f-df4577c0d6c7"
      },
      "source": [
        "# side-by-side box diagramos megjelenítés seaborn segítségével\n",
        "sns.boxplot(x='rank',y='salary', data=df, hue='sex')"
      ],
      "execution_count": null,
      "outputs": [
        {
          "output_type": "execute_result",
          "data": {
            "text/plain": [
              "<matplotlib.axes._subplots.AxesSubplot at 0x1b546120288>"
            ]
          },
          "metadata": {
            "tags": []
          },
          "execution_count": 127
        },
        {
          "output_type": "display_data",
          "data": {
            "image/png": "[encoded data removed]",
            "text/plain": [
              "<Figure size 432x288 with 1 Axes>"
            ]
          },
          "metadata": {
            "tags": []
          }
        }
      ]
    },
    {
      "cell_type": "code",
      "metadata": {
        "id": "ipCSxoaOfwJh",
        "outputId": "59c6819b-7c87-4366-b025-af97cb70ca39"
      },
      "source": [
        "# swarm diagramos megjelenítés seaborn segítségével\n",
        "sns.swarmplot(x='rank',y='salary', data=df)"
      ],
      "execution_count": null,
      "outputs": [
        {
          "output_type": "execute_result",
          "data": {
            "text/plain": [
              "<matplotlib.axes._subplots.AxesSubplot at 0x1b546203248>"
            ]
          },
          "metadata": {
            "tags": []
          },
          "execution_count": 128
        },
        {
          "output_type": "display_data",
          "data": {
            "image/png": "[encoded data removed]",
            "text/plain": [
              "<Figure size 432x288 with 1 Axes>"
            ]
          },
          "metadata": {
            "tags": []
          }
        }
      ]
    },
    {
      "cell_type": "code",
      "metadata": {
        "id": "6MnWb5sufwJj",
        "outputId": "cc575631-b4b2-4e14-851a-66466f200283"
      },
      "source": [
        "#factorplot diagramos megjelenítés seaborn segítségével\n",
        "sns.catplot(x='carrier',y='dep_delay', data=flights, kind='bar')"
      ],
      "execution_count": null,
      "outputs": [
        {
          "output_type": "execute_result",
          "data": {
            "text/plain": [
              "<seaborn.axisgrid.FacetGrid at 0x1b54625c948>"
            ]
          },
          "metadata": {
            "tags": []
          },
          "execution_count": 129
        },
        {
          "output_type": "display_data",
          "data": {
            "image/png": "[encoded data removed]",
            "text/plain": [
              "<Figure size 360x360 with 1 Axes>"
            ]
          },
          "metadata": {
            "tags": []
          }
        }
      ]
    },
    {
      "cell_type": "code",
      "metadata": {
        "id": "n96vaBcyfwJl",
        "outputId": "cd8244d1-e3ee-4065-e0db-8fd74ea070c9"
      },
      "source": [
        "# Pairplot diagramos megjelenítés seaborn segítségével\n",
        "sns.pairplot(df)"
      ],
      "execution_count": null,
      "outputs": [
        {
          "output_type": "execute_result",
          "data": {
            "text/plain": [
              "<seaborn.axisgrid.PairGrid at 0x1b5462429c8>"
            ]
          },
          "metadata": {
            "tags": []
          },
          "execution_count": 130
        },
        {
          "output_type": "display_data",
          "data": {
            "image/png": "[encoded data removed]",
            "text/plain": [
              "<Figure size 540x540 with 12 Axes>"
            ]
          },
          "metadata": {
            "tags": []
          }
        }
      ]
    },
    {
      "cell_type": "markdown",
      "metadata": {
        "id": "8oMscC0FfwJo"
      },
      "source": [
        "---\n",
        "\n",
        "## Alapvető statisztikai elemzések / Basic statistical Analysis\n",
        "\n",
        "---"
      ]
    },
    {
      "cell_type": "markdown",
      "metadata": {
        "id": "JxMWVznrfwJo"
      },
      "source": [
        "### Linear Regression"
      ]
    },
    {
      "cell_type": "code",
      "metadata": {
        "id": "E9uo4dkyfwJo"
      },
      "source": [
        ""
      ],
      "execution_count": null,
      "outputs": []
    },
    {
      "cell_type": "code",
      "metadata": {
        "id": "5E7uN8vEfwJq",
        "outputId": "0d1629b1-3b6a-4910-f50d-083fd535faa9"
      },
      "source": [
        "## Statsmodel használata\n",
        "import statsmodels.formula.api as smf\n",
        "\n",
        "# modell létrtehozása / create a fitted model\n",
        "lm = smf.ols(formula='salary ~ service', data=df).fit()\n",
        "\n",
        "## összegzések /  summary\n",
        "print(lm.summary())\n",
        "\n",
        "print ('--------------------')\n",
        "\n",
        "print(lm.params)\n",
        "\n",
        "print ('--------------------')"
      ],
      "execution_count": null,
      "outputs": [
        {
          "output_type": "stream",
          "text": [
            "                            OLS Regression Results                            \n",
            "==============================================================================\n",
            "Dep. Variable:                 salary   R-squared:                       0.283\n",
            "Model:                            OLS   Adj. R-squared:                  0.274\n",
            "Method:                 Least Squares   F-statistic:                     30.03\n",
            "Date:                Mon, 16 Nov 2020   Prob (F-statistic):           5.31e-07\n",
            "Time:                        15:36:59   Log-Likelihood:                -896.72\n",
            "No. Observations:                  78   AIC:                             1797.\n",
            "Df Residuals:                      76   BIC:                             1802.\n",
            "Df Model:                           1                                         \n",
            "Covariance Type:            nonrobust                                         \n",
            "==============================================================================\n",
            "                 coef    std err          t      P>|t|      [0.025      0.975]\n",
            "------------------------------------------------------------------------------\n",
            "Intercept   8.935e+04   4365.651     20.468      0.000    8.07e+04     9.8e+04\n",
            "service     1240.3567    226.341      5.480      0.000     789.560    1691.153\n",
            "==============================================================================\n",
            "Omnibus:                       12.741   Durbin-Watson:                   1.630\n",
            "Prob(Omnibus):                  0.002   Jarque-Bera (JB):               21.944\n",
            "Skew:                          -0.576   Prob(JB):                     1.72e-05\n",
            "Kurtosis:                       5.329   Cond. No.                         30.9\n",
            "==============================================================================\n",
            "\n",
            "Warnings:\n",
            "[1] Standard Errors assume that the covariance matrix of the errors is correctly specified.\n",
            "--------------------\n",
            "Intercept    89354.824215\n",
            "service       1240.356654\n",
            "dtype: float64\n",
            "--------------------\n"
          ],
          "name": "stdout"
        }
      ]
    },
    {
      "cell_type": "code",
      "metadata": {
        "id": "psHfdgAAfwJs",
        "outputId": "d7450b15-91cd-411e-d89c-817cbde77f0a"
      },
      "source": [
        "## scikit-learn használata / using scikit-learn\n",
        "from sklearn import linear_model\n",
        "est = linear_model.LinearRegression(fit_intercept = True)   # create estimator object\n",
        "est.fit(df[['service']], df[['salary']])\n",
        "\n",
        "## eredmény / print result\n",
        "print(\"Coef:\", est.coef_, \"\\nIntercept:\", est.intercept_)\n"
      ],
      "execution_count": null,
      "outputs": [
        {
          "output_type": "stream",
          "text": [
            "Coef: [[1240.3566535]] \n",
            "Intercept: [89354.82421525]\n"
          ],
          "name": "stdout"
        }
      ]
    }
  ]
}