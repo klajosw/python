{
  "nbformat": 4,
  "nbformat_minor": 0,
  "metadata": {
    "anaconda-cloud": {},
    "hide_input": false,
    "kernelspec": {
      "display_name": "Python 3",
      "language": "python",
      "name": "python3"
    },
    "language_info": {
      "codemirror_mode": {
        "name": "ipython",
        "version": 3
      },
      "file_extension": ".py",
      "mimetype": "text/x-python",
      "name": "python",
      "nbconvert_exporter": "python",
      "pygments_lexer": "ipython3",
      "version": "3.7.4"
    },
    "latex_envs": {
      "bibliofile": "biblio.bib",
      "cite_by": "apalike",
      "current_citInitial": 1,
      "eqLabelWithNumbers": true,
      "eqNumInitial": 0
    },
    "name": "Interact.ipynb",
    "colab": {
      "name": "kl_py_interakcio.ipynb",
      "provenance": [],
      "collapsed_sections": [],
      "include_colab_link": true
    },
    "widgets": {
      "application/vnd.jupyter.widget-state+json": {
        "8ec329a4f9804a14850acda3ed888bda": {
          "model_module": "@jupyter-widgets/controls",
          "model_name": "VBoxModel",
          "state": {
            "_view_name": "VBoxView",
            "_dom_classes": [
              "widget-interact"
            ],
            "_model_name": "VBoxModel",
            "_view_module": "@jupyter-widgets/controls",
            "_model_module_version": "1.5.0",
            "_view_count": null,
            "_view_module_version": "1.5.0",
            "box_style": "",
            "layout": "IPY_MODEL_e027e994a2894145bf291c44da9c700f",
            "_model_module": "@jupyter-widgets/controls",
            "children": [
              "IPY_MODEL_378100c5b817408d957c112af2dcbc12",
              "IPY_MODEL_6ce79f9167174e8caf9d9c9e6ec33005"
            ]
          }
        },
        "e027e994a2894145bf291c44da9c700f": {
          "model_module": "@jupyter-widgets/base",
          "model_name": "LayoutModel",
          "state": {
            "_view_name": "LayoutView",
            "grid_template_rows": null,
            "right": null,
            "justify_content": null,
            "_view_module": "@jupyter-widgets/base",
            "overflow": null,
            "_model_module_version": "1.2.0",
            "_view_count": null,
            "flex_flow": null,
            "width": null,
            "min_width": null,
            "border": null,
            "align_items": null,
            "bottom": null,
            "_model_module": "@jupyter-widgets/base",
            "top": null,
            "grid_column": null,
            "overflow_y": null,
            "overflow_x": null,
            "grid_auto_flow": null,
            "grid_area": null,
            "grid_template_columns": null,
            "flex": null,
            "_model_name": "LayoutModel",
            "justify_items": null,
            "grid_row": null,
            "max_height": null,
            "align_content": null,
            "visibility": null,
            "align_self": null,
            "height": null,
            "min_height": null,
            "padding": null,
            "grid_auto_rows": null,
            "grid_gap": null,
            "max_width": null,
            "order": null,
            "_view_module_version": "1.2.0",
            "grid_template_areas": null,
            "object_position": null,
            "object_fit": null,
            "grid_auto_columns": null,
            "margin": null,
            "display": null,
            "left": null
          }
        },
        "378100c5b817408d957c112af2dcbc12": {
          "model_module": "@jupyter-widgets/controls",
          "model_name": "IntSliderModel",
          "state": {
            "_view_name": "IntSliderView",
            "style": "IPY_MODEL_6fb210b74d4746abb418af61180bd89c",
            "_dom_classes": [],
            "description": "m",
            "step": 1,
            "_model_name": "IntSliderModel",
            "orientation": "horizontal",
            "max": 17,
            "_view_module": "@jupyter-widgets/controls",
            "_model_module_version": "1.5.0",
            "value": 0,
            "_view_count": null,
            "disabled": false,
            "_view_module_version": "1.5.0",
            "min": 0,
            "continuous_update": true,
            "readout_format": "d",
            "description_tooltip": null,
            "readout": true,
            "_model_module": "@jupyter-widgets/controls",
            "layout": "IPY_MODEL_138dbb45358140d49ae1aba037391f1d"
          }
        },
        "6ce79f9167174e8caf9d9c9e6ec33005": {
          "model_module": "@jupyter-widgets/output",
          "model_name": "OutputModel",
          "state": {
            "_view_name": "OutputView",
            "msg_id": "",
            "_dom_classes": [],
            "_model_name": "OutputModel",
            "outputs": [
              {
                "output_type": "stream",
                "metadata": {
                  "tags": []
                },
                "text": "/usr/local/lib/python3.6/dist-packages/ipykernel_launcher.py:23: MatplotlibDeprecationWarning: Adding an axes using the same arguments as a previous axes currently reuses the earlier instance.  In a future version, a new instance will always be created and returned.  Meanwhile, this warning can be suppressed, and the future behavior ensured, by passing a unique label to each axes instance.\n",
                "stream": "stderr"
              },
              {
                "output_type": "display_data",
                "metadata": {
                  "tags": []
                },
                "image/png": "iVBORw0KGgoAAAANSUhEUgAAA10AAAHBCAYAAACSQNFOAAAABHNCSVQICAgIfAhkiAAAAAlwSFlz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\nAAAASUVORK5CYII=\n",
                "text/plain": "<Figure size 576x576 with 1 Axes>"
              }
            ],
            "_view_module": "@jupyter-widgets/output",
            "_model_module_version": "1.0.0",
            "_view_count": null,
            "_view_module_version": "1.0.0",
            "layout": "IPY_MODEL_ce017d833f8247648dca6fc8703690e0",
            "_model_module": "@jupyter-widgets/output"
          }
        },
        "6fb210b74d4746abb418af61180bd89c": {
          "model_module": "@jupyter-widgets/controls",
          "model_name": "SliderStyleModel",
          "state": {
            "_view_name": "StyleView",
            "handle_color": null,
            "_model_name": "SliderStyleModel",
            "description_width": "",
            "_view_module": "@jupyter-widgets/base",
            "_model_module_version": "1.5.0",
            "_view_count": null,
            "_view_module_version": "1.2.0",
            "_model_module": "@jupyter-widgets/controls"
          }
        },
        "138dbb45358140d49ae1aba037391f1d": {
          "model_module": "@jupyter-widgets/base",
          "model_name": "LayoutModel",
          "state": {
            "_view_name": "LayoutView",
            "grid_template_rows": null,
            "right": null,
            "justify_content": null,
            "_view_module": "@jupyter-widgets/base",
            "overflow": null,
            "_model_module_version": "1.2.0",
            "_view_count": null,
            "flex_flow": null,
            "width": null,
            "min_width": null,
            "border": null,
            "align_items": null,
            "bottom": null,
            "_model_module": "@jupyter-widgets/base",
            "top": null,
            "grid_column": null,
            "overflow_y": null,
            "overflow_x": null,
            "grid_auto_flow": null,
            "grid_area": null,
            "grid_template_columns": null,
            "flex": null,
            "_model_name": "LayoutModel",
            "justify_items": null,
            "grid_row": null,
            "max_height": null,
            "align_content": null,
            "visibility": null,
            "align_self": null,
            "height": null,
            "min_height": null,
            "padding": null,
            "grid_auto_rows": null,
            "grid_gap": null,
            "max_width": null,
            "order": null,
            "_view_module_version": "1.2.0",
            "grid_template_areas": null,
            "object_position": null,
            "object_fit": null,
            "grid_auto_columns": null,
            "margin": null,
            "display": null,
            "left": null
          }
        }
      }
    }
  },
  "cells": [
    {
      "cell_type": "markdown",
      "metadata": {
        "id": "view-in-github",
        "colab_type": "text"
      },
      "source": [
        "<a href=\"https://colab.research.google.com/github/klajosw/python/blob/master/kl_py_interakcio.ipynb\" target=\"_parent\"><img src=\"https://colab.research.google.com/assets/colab-badge.svg\" alt=\"Open In Colab\"/></a>"
      ]
    },
    {
      "cell_type": "markdown",
      "metadata": {
        "id": "PfdyJhH_L3kK",
        "colab_type": "text"
      },
      "source": [
        "<p align=\"left\"> \n",
        "    <img src=\"https://raw.githubusercontent.com/klajosw/python/master/kl_mie_python_logo_250.jpg\" \n",
        "         align=\"left\" width=\"251\" height=\"251\">\n",
        "    \n",
        "</p>\n",
        "\n",
        "\n",
        "<p> </p>\n",
        "\n",
        "\n",
        "\n",
        "# Python alapok interaktivitás (ipywidgets)\n",
        "\n",
        "<https://klajosw.blogspot.com/>"
      ]
    },
    {
      "cell_type": "markdown",
      "metadata": {
        "id": "yq5ltPHOL3kM",
        "colab_type": "text"
      },
      "source": [
        "---\n",
        "\n",
        "# Interaktív függvények megjelenítése\n",
        "\n",
        "Az alábbiakban vizsgáljunk meg egy egyszerű módszert arra, hogy hogyan tehetjük Python-függvényeinket interaktívvá!\n",
        "Ehhez az `ipywidgets és Bokeh` csomag lesz segítségünkre!\n",
        "\n",
        "\n",
        "---"
      ]
    },
    {
      "cell_type": "code",
      "metadata": {
        "id": "2zFbzf-IL3kN",
        "colab_type": "code",
        "colab": {},
        "outputId": "45da80c9-4eff-4a5a-c0f8-3d7d38ec2dfa"
      },
      "source": [
        "## Egyszerű plot négyzet függvény\n",
        "# Az alábbi paranccsal alapvető matplotlib és numpy függvényeket töltünk be.\n",
        "%matplotlib inline\n",
        "%pylab inline \n",
        "\n",
        "x=linspace(0,3,100) #mintavételezési pontok legyártása\n",
        "y=x**2              #függvény kiértékelése a mintavételezési pontokban\n",
        "plot(x,y)           #ábrázolás"
      ],
      "execution_count": 0,
      "outputs": [
        {
          "output_type": "stream",
          "text": [
            "Populating the interactive namespace from numpy and matplotlib\n"
          ],
          "name": "stdout"
        },
        {
          "output_type": "execute_result",
          "data": {
            "text/plain": [
              "[<matplotlib.lines.Line2D at 0x1a4d9d34308>]"
            ]
          },
          "metadata": {
            "tags": []
          },
          "execution_count": 10
        },
        {
          "output_type": "display_data",
          "data": {
            "image/png": "[encoded data removed]",
            "text/plain": [
              "<Figure size 432x288 with 1 Axes>"
            ]
          },
          "metadata": {
            "tags": [],
            "needs_background": "light"
          }
        }
      ]
    },
    {
      "cell_type": "code",
      "metadata": {
        "id": "TOc1T6pqL3kS",
        "colab_type": "code",
        "colab": {},
        "outputId": "4a866f95-75b7-4b22-85c2-4742b9e6238d"
      },
      "source": [
        "## Egyszerű plot, kétváltozós függvény\n",
        "# Az alábbi paranccsal alapvető matplotlib és numpy függvényeket töltünk be.\n",
        "%matplotlib inline\n",
        "%pylab inline \n",
        "\n",
        "x2, y2 = meshgrid(linspace(-2,5,100),linspace(-1,4,100))  #2D mintavételezés\n",
        "z2 = sin(x2) ** 10 + cos(10 + y2 * x2) * cos(x2)          #kiértékelés                  \n",
        "pcolor(x2,y2,z2)                                          #ábrázolás"
      ],
      "execution_count": 0,
      "outputs": [
        {
          "output_type": "stream",
          "text": [
            "Populating the interactive namespace from numpy and matplotlib\n"
          ],
          "name": "stdout"
        },
        {
          "output_type": "execute_result",
          "data": {
            "text/plain": [
              "<matplotlib.collections.PolyCollection at 0x12db40363c8>"
            ]
          },
          "metadata": {
            "tags": []
          },
          "execution_count": 29
        },
        {
          "output_type": "display_data",
          "data": {
            "image/png": "[encoded data removed]",
            "text/plain": [
              "<Figure size 432x288 with 1 Axes>"
            ]
          },
          "metadata": {
            "tags": [],
            "needs_background": "light"
          }
        }
      ]
    },
    {
      "cell_type": "code",
      "metadata": {
        "id": "_W08Iqc1L3kV",
        "colab_type": "code",
        "colab": {},
        "outputId": "108b9101-a0a7-41a1-8a59-760697183e43"
      },
      "source": [
        "## Egyszerű plot szinusz függvény\n",
        "# Az alábbi paranccsal alapvető matplotlib és numpy függvényeket töltünk be.\n",
        "%matplotlib inline\n",
        "%pylab inline                      \n",
        "\n",
        "from ipywidgets import *  # az interaktivitásért felelős csomag\n",
        "t=linspace(0,2*pi,100);\n",
        "plot(t,sin(t))"
      ],
      "execution_count": 0,
      "outputs": [
        {
          "output_type": "stream",
          "text": [
            "Populating the interactive namespace from numpy and matplotlib\n"
          ],
          "name": "stdout"
        },
        {
          "output_type": "execute_result",
          "data": {
            "text/plain": [
              "[<matplotlib.lines.Line2D at 0x12db3776388>]"
            ]
          },
          "metadata": {
            "tags": []
          },
          "execution_count": 1
        },
        {
          "output_type": "display_data",
          "data": {
            "image/png": "[encoded data removed]",
            "text/plain": [
              "<Figure size 432x288 with 1 Axes>"
            ]
          },
          "metadata": {
            "tags": [],
            "needs_background": "light"
          }
        }
      ]
    },
    {
      "cell_type": "markdown",
      "metadata": {
        "id": "fDfem0AFL3kY",
        "colab_type": "text"
      },
      "source": [
        "Írjunk egy függvényt, ami egy megadott frekvenciájú jelet rajzol ki!"
      ]
    },
    {
      "cell_type": "code",
      "metadata": {
        "id": "M0a5X-FwL3kZ",
        "colab_type": "code",
        "colab": {},
        "outputId": "e7ee53d7-7dd8-4b68-959a-df08c3f5d8c2"
      },
      "source": [
        "## Egyszerű plot szinusz függvény\n",
        "# Az alábbi paranccsal alapvető matplotlib és numpy függvényeket töltünk be.\n",
        "%matplotlib inline\n",
        "%pylab inline    \n",
        "\n",
        "# a függvény definiciója\n",
        "t=linspace(0,2*pi,100);\n",
        "def freki(omega):    \n",
        "    plot(t,sin(omega*t))\n",
        "    \n",
        "freki(1.0)  # függvény meghívása 1.\n",
        "freki(2.0)  # függvény meghívása 2."
      ],
      "execution_count": 0,
      "outputs": [
        {
          "output_type": "display_data",
          "data": {
            "image/png": "[encoded data removed]",
            "text/plain": [
              "<Figure size 432x288 with 1 Axes>"
            ]
          },
          "metadata": {
            "tags": [],
            "needs_background": "light"
          }
        }
      ]
    },
    {
      "cell_type": "markdown",
      "metadata": {
        "id": "ScSulOq6L3kc",
        "colab_type": "text"
      },
      "source": [
        "Most jön a varázslat! Az `interact()` függvény segítségével interaktívvá tehetjük a fent definiált függvényünket!"
      ]
    },
    {
      "cell_type": "code",
      "metadata": {
        "id": "FG1cqv_YL3kc",
        "colab_type": "code",
        "colab": {
          "referenced_widgets": [
            "8e5104dab5f74b14932e4531cfc92949"
          ]
        },
        "outputId": "1878bbf8-12a6-494f-e245-1953ee26a55c"
      },
      "source": [
        "## interaktívvá tett függvény megjelenítés\n",
        "# Az alábbi paranccsal alapvető matplotlib és numpy függvényeket töltünk be.\n",
        "%matplotlib inline\n",
        "%pylab inline    \n",
        "\n",
        "# a függvény definiciója\n",
        "t=linspace(0,2*pi,100);\n",
        "def freki(omega):    \n",
        "    plot(t,sin(omega*t))\n",
        "    \n",
        "interact(freki,omega=(0,10,0.1))  # függvény interaktív meghívása "
      ],
      "execution_count": 0,
      "outputs": [
        {
          "output_type": "stream",
          "text": [
            "Populating the interactive namespace from numpy and matplotlib\n"
          ],
          "name": "stdout"
        },
        {
          "output_type": "display_data",
          "data": {
            "application/vnd.jupyter.widget-view+json": {
              "model_id": "8e5104dab5f74b14932e4531cfc92949",
              "version_major": 2,
              "version_minor": 0
            },
            "text/plain": [
              "interactive(children=(FloatSlider(value=5.0, description='omega', max=10.0), Output()), _dom_classes=('widget-…"
            ]
          },
          "metadata": {
            "tags": []
          }
        },
        {
          "output_type": "execute_result",
          "data": {
            "text/plain": [
              "<function __main__.freki(omega)>"
            ]
          },
          "metadata": {
            "tags": []
          },
          "execution_count": 3
        }
      ]
    },
    {
      "cell_type": "markdown",
      "metadata": {
        "id": "SWBgxjraL3kh",
        "colab_type": "text"
      },
      "source": [
        "Nézzük meg egy kicsit közelebbről, hogy is működik ez az `interact()` konstrukció! Definiáljunk ehhez először egy nagyon egyszerű függvényt!"
      ]
    },
    {
      "cell_type": "code",
      "metadata": {
        "id": "iqeLkEmNL3ki",
        "colab_type": "code",
        "colab": {}
      },
      "source": [
        "def func(x):\n",
        "     print(x)"
      ],
      "execution_count": 0,
      "outputs": []
    },
    {
      "cell_type": "markdown",
      "metadata": {
        "id": "hNvt2--3L3kl",
        "colab_type": "text"
      },
      "source": [
        "Az interact egy olyan függvény, amely az első paramétereként egy függvényt vár, és kulcsszavakként várja a függvény bemenő paramétereit! Amit visszaad, az egy interaktív **widget**, ami lehet sokfajta, de alapvetően azt a célt szolgálja, hogy a **func** függvényt kiszolgálja. Annak ad egy bemenő paramétert, lefuttatja, majd vár, hogy a felhasználó újra megváltoztassa az állapotot.\n",
        "Ha a kulcsszavas argumentumnak zárójelbe írt egész számokat adunk meg, akkor egy egész számokon végigmenő csúszkát kapunk:"
      ]
    },
    {
      "cell_type": "code",
      "metadata": {
        "id": "RPAGwXEZL3kl",
        "colab_type": "code",
        "colab": {
          "referenced_widgets": [
            "a5616a5da733401585864ebb667a1d32"
          ]
        },
        "outputId": "e8b1b99f-6033-469e-8734-03b449641a1c"
      },
      "source": [
        "interact(func,x=(0,10)); "
      ],
      "execution_count": 0,
      "outputs": [
        {
          "output_type": "display_data",
          "data": {
            "application/vnd.jupyter.widget-view+json": {
              "model_id": "a5616a5da733401585864ebb667a1d32",
              "version_major": 2,
              "version_minor": 0
            },
            "text/plain": [
              "interactive(children=(IntSlider(value=5, description='x', max=10), Output()), _dom_classes=('widget-interact',…"
            ]
          },
          "metadata": {
            "tags": []
          }
        }
      ]
    },
    {
      "cell_type": "markdown",
      "metadata": {
        "id": "smLrjtbxL3ko",
        "colab_type": "text"
      },
      "source": [
        "Ha egy `bool` értéket adunk meg, akkor egy pipálható dobozt:"
      ]
    },
    {
      "cell_type": "code",
      "metadata": {
        "id": "vvPoCL81L3kp",
        "colab_type": "code",
        "colab": {
          "referenced_widgets": [
            "6c64533b34554b9f84e6b996d87c9fc3"
          ]
        },
        "outputId": "f35afa75-60ea-4f4b-d5cc-cefa202ab343"
      },
      "source": [
        "interact(func,x=False);"
      ],
      "execution_count": 0,
      "outputs": [
        {
          "output_type": "display_data",
          "data": {
            "application/vnd.jupyter.widget-view+json": {
              "model_id": "6c64533b34554b9f84e6b996d87c9fc3",
              "version_major": 2,
              "version_minor": 0
            },
            "text/plain": [
              "interactive(children=(Checkbox(value=False, description='x'), Output()), _dom_classes=('widget-interact',))"
            ]
          },
          "metadata": {
            "tags": []
          }
        }
      ]
    },
    {
      "cell_type": "markdown",
      "metadata": {
        "id": "jUSsrzY4L3ks",
        "colab_type": "text"
      },
      "source": [
        "Ha egy általános listát adunk meg, akkor egy legördülő menüt kapunk:"
      ]
    },
    {
      "cell_type": "code",
      "metadata": {
        "id": "_mz8ijZlL3kt",
        "colab_type": "code",
        "colab": {
          "referenced_widgets": [
            "69849a2180c24d9c96d94beec0200977"
          ]
        },
        "outputId": "decefb02-b678-4c14-b8b7-e9ce40cde2de"
      },
      "source": [
        "interact(func,x=['hétfő','kedd','szerda']);"
      ],
      "execution_count": 0,
      "outputs": [
        {
          "output_type": "display_data",
          "data": {
            "application/vnd.jupyter.widget-view+json": {
              "model_id": "69849a2180c24d9c96d94beec0200977",
              "version_major": 2,
              "version_minor": 0
            },
            "text/plain": [
              "interactive(children=(Dropdown(description='x', options=('hétfő', 'kedd', 'szerda'), value='hétfő'), Output())…"
            ]
          },
          "metadata": {
            "tags": []
          }
        }
      ]
    },
    {
      "cell_type": "markdown",
      "metadata": {
        "id": "fh5vfARVL3kv",
        "colab_type": "text"
      },
      "source": [
        "Ha a sima zárójelbe írt számok nem egészek (legalább az egyik) akkor egy float csúszkát kapunk:"
      ]
    },
    {
      "cell_type": "code",
      "metadata": {
        "id": "3mXk1G1jL3kw",
        "colab_type": "code",
        "colab": {
          "referenced_widgets": [
            "3378d15f294d44858a00dcc95838e81c"
          ]
        },
        "outputId": "42042070-8915-4997-8076-3b2a41801597"
      },
      "source": [
        "interact(func,x=(0,10,0.1));"
      ],
      "execution_count": 0,
      "outputs": [
        {
          "output_type": "display_data",
          "data": {
            "application/vnd.jupyter.widget-view+json": {
              "model_id": "3378d15f294d44858a00dcc95838e81c",
              "version_major": 2,
              "version_minor": 0
            },
            "text/plain": [
              "interactive(children=(FloatSlider(value=5.0, description='x', max=10.0), Output()), _dom_classes=('widget-inte…"
            ]
          },
          "metadata": {
            "tags": []
          }
        }
      ]
    },
    {
      "cell_type": "markdown",
      "metadata": {
        "id": "7CbgLZjeL3ky",
        "colab_type": "text"
      },
      "source": [
        "Ha pontosan specifikálni szeretnénk, hogy milyen interaktivitást akarunk, akkor azt az alábbiak szerint tehetjük meg, \n",
        "\n",
        "\n",
        "egész csúszka$\\rightarrow$IntSlider()\n",
        "\n",
        "float csúszka$\\rightarrow$FloatSlider()\n",
        "\n",
        "legördülő menü$\\rightarrow$Dropdown()\n",
        "\n",
        "pipa doboz$\\rightarrow$Checkbox()\n",
        "\n",
        "szövegdoboz$\\rightarrow$Text()\n",
        "\n",
        "Ezt alább néhány példa illusztrálja:"
      ]
    },
    {
      "cell_type": "code",
      "metadata": {
        "id": "SfYmt8vOL3kz",
        "colab_type": "code",
        "colab": {
          "referenced_widgets": [
            "403d226ae8604277a667b91a4373a9fd"
          ]
        },
        "outputId": "1848ca78-bf2b-4813-e0b9-9b4179cf4ff6"
      },
      "source": [
        "import ipywidgets as widgets\n",
        "from ipywidgets import HBox, VBox\n",
        "import numpy as np\n",
        "import matplotlib.pyplot as plt\n",
        "from IPython.display import display\n",
        "%matplotlib inline\n",
        "\n",
        "@widgets.interact\n",
        "def f(x=5):\n",
        "    print(x)"
      ],
      "execution_count": 0,
      "outputs": [
        {
          "output_type": "display_data",
          "data": {
            "application/vnd.jupyter.widget-view+json": {
              "model_id": "403d226ae8604277a667b91a4373a9fd",
              "version_major": 2,
              "version_minor": 0
            },
            "text/plain": [
              "interactive(children=(IntSlider(value=5, description='x', max=15, min=-5), Output()), _dom_classes=('widget-in…"
            ]
          },
          "metadata": {
            "tags": []
          }
        }
      ]
    },
    {
      "cell_type": "code",
      "metadata": {
        "id": "Nw6hvDVsL3k2",
        "colab_type": "code",
        "colab": {
          "referenced_widgets": [
            "0d26b5fe5f5c46cdb4fc7db464414f11"
          ]
        },
        "outputId": "6a0fc7d4-9a37-4c15-e13b-5c85798353eb"
      },
      "source": [
        "@widgets.interact(x=(0, 5))\n",
        "def f(x=5):\n",
        "    print(x)"
      ],
      "execution_count": 0,
      "outputs": [
        {
          "output_type": "display_data",
          "data": {
            "application/vnd.jupyter.widget-view+json": {
              "model_id": "0d26b5fe5f5c46cdb4fc7db464414f11",
              "version_major": 2,
              "version_minor": 0
            },
            "text/plain": [
              "interactive(children=(IntSlider(value=5, description='x', max=5), Output()), _dom_classes=('widget-interact',)…"
            ]
          },
          "metadata": {
            "tags": []
          }
        }
      ]
    },
    {
      "cell_type": "code",
      "metadata": {
        "id": "eWxkymK4L3k5",
        "colab_type": "code",
        "colab": {
          "referenced_widgets": [
            "9f7873190859496ca034b62aba232fab"
          ]
        },
        "outputId": "fb1d0815-1075-436f-eac8-dd19fc06e0c9"
      },
      "source": [
        "@widgets.interact_manual(\n",
        "    color=['blue', 'red', 'green'], lw=(1., 10.))\n",
        "def plot(freq=1., color='blue', lw=2, grid=True):\n",
        "    t = np.linspace(-1., +1., 1000)\n",
        "    fig, ax = plt.subplots(1, 1, figsize=(8, 6))\n",
        "    ax.plot(t, np.sin(2 * np.pi * freq * t),\n",
        "            lw=lw, color=color)\n",
        "    ax.grid(grid)"
      ],
      "execution_count": 0,
      "outputs": [
        {
          "output_type": "display_data",
          "data": {
            "application/vnd.jupyter.widget-view+json": {
              "model_id": "9f7873190859496ca034b62aba232fab",
              "version_major": 2,
              "version_minor": 0
            },
            "text/plain": [
              "interactive(children=(FloatSlider(value=1.0, description='freq', max=3.0, min=-1.0), Dropdown(description='col…"
            ]
          },
          "metadata": {
            "tags": []
          }
        }
      ]
    },
    {
      "cell_type": "code",
      "metadata": {
        "id": "04QGARl1L3k7",
        "colab_type": "code",
        "colab": {
          "referenced_widgets": [
            "d244ee8c7f444392b516321a99d6771f"
          ]
        },
        "outputId": "aaa93bb5-0950-4486-d0de-99b6a5badbe8"
      },
      "source": [
        "freq_slider = widgets.FloatSlider(\n",
        "    value=2.,\n",
        "    min=1.,\n",
        "    max=10.0,\n",
        "    step=0.1,\n",
        "    description='Frequency:',\n",
        "    readout_format='.1f',\n",
        ")\n",
        "freq_slider"
      ],
      "execution_count": 0,
      "outputs": [
        {
          "output_type": "display_data",
          "data": {
            "application/vnd.jupyter.widget-view+json": {
              "model_id": "d244ee8c7f444392b516321a99d6771f",
              "version_major": 2,
              "version_minor": 0
            },
            "text/plain": [
              "FloatSlider(value=2.0, description='Frequency:', max=10.0, min=1.0, readout_format='.1f')"
            ]
          },
          "metadata": {
            "tags": []
          }
        }
      ]
    },
    {
      "cell_type": "code",
      "metadata": {
        "id": "aqRrpATyL3k_",
        "colab_type": "code",
        "colab": {
          "referenced_widgets": [
            "10b0e023f11a49b9acdda27b0a5b74d6"
          ]
        },
        "outputId": "c3cc4c73-e4cf-460a-ed87-9d3ace0526c4"
      },
      "source": [
        "color_buttons = widgets.ToggleButtons(\n",
        "    options=['blue', 'red', 'green'],\n",
        "    description='Color:',\n",
        ")\n",
        "color_buttons"
      ],
      "execution_count": 0,
      "outputs": [
        {
          "output_type": "display_data",
          "data": {
            "application/vnd.jupyter.widget-view+json": {
              "model_id": "10b0e023f11a49b9acdda27b0a5b74d6",
              "version_major": 2,
              "version_minor": 0
            },
            "text/plain": [
              "ToggleButtons(description='Color:', options=('blue', 'red', 'green'), value='blue')"
            ]
          },
          "metadata": {
            "tags": []
          }
        }
      ]
    },
    {
      "cell_type": "code",
      "metadata": {
        "id": "w_YD6_prL3lC",
        "colab_type": "code",
        "colab": {
          "referenced_widgets": [
            "3ad4e588bfbf4849b970bcb9ddbd9123"
          ]
        },
        "outputId": "e188745d-480d-4b1b-9ec7-29900e7555f7"
      },
      "source": [
        "color_picker = widgets.ColorPicker(\n",
        "    concise=True,\n",
        "    description='Background color:',\n",
        "    value='#efefef',\n",
        ")\n",
        "color_picker"
      ],
      "execution_count": 0,
      "outputs": [
        {
          "output_type": "display_data",
          "data": {
            "application/vnd.jupyter.widget-view+json": {
              "model_id": "3ad4e588bfbf4849b970bcb9ddbd9123",
              "version_major": 2,
              "version_minor": 0
            },
            "text/plain": [
              "ColorPicker(value='#efefef', concise=True, description='Background color:')"
            ]
          },
          "metadata": {
            "tags": []
          }
        }
      ]
    },
    {
      "cell_type": "code",
      "metadata": {
        "id": "eMEzaTZcL3lE",
        "colab_type": "code",
        "colab": {
          "referenced_widgets": [
            "144a395b236e4adca4dc4e3a25565317"
          ]
        },
        "outputId": "fd9fac52-f71f-45bb-f5c8-922561cb7a6f"
      },
      "source": [
        "## Komlex minta\n",
        "import ipywidgets as widgets\n",
        "from ipywidgets import HBox, VBox\n",
        "import numpy as np\n",
        "import matplotlib.pyplot as plt\n",
        "from IPython.display import display\n",
        "%matplotlib inline\n",
        "\n",
        "range_slider = widgets.FloatRangeSlider(\n",
        "    value=[-1., +1.],\n",
        "    min=-5., max=+5., step=0.1,\n",
        "    description='xlim:',\n",
        "    readout_format='.1f',\n",
        ")\n",
        "# range_slider\n",
        "\n",
        "title_textbox = widgets.Text(\n",
        "    value='Hello World',\n",
        "    description='Title:',\n",
        ")\n",
        "# title_textbox\n",
        "\n",
        "grid_button = widgets.ToggleButton(\n",
        "    value=False,\n",
        "    description='Grid',\n",
        "    icon='check'\n",
        ")\n",
        "# grid_button\n",
        "\n",
        "button = widgets.Button(\n",
        "    description='Plot',\n",
        ")\n",
        "#button\n",
        "\n",
        "color_picker = widgets.ColorPicker(\n",
        "    concise=True,\n",
        "    description='Background color:',\n",
        "    value='#efefef',\n",
        ")\n",
        "#color_picker\n",
        "\n",
        "def plot2(b=None):\n",
        "    xlim = range_slider.value\n",
        "    freq = freq_slider.value\n",
        "    grid = grid_button.value\n",
        "    color = color_buttons.value\n",
        "    title = title_textbox.value\n",
        "    bgcolor = color_picker.value\n",
        "\n",
        "    t = np.linspace(xlim[0], xlim[1], 1000)\n",
        "    f, ax = plt.subplots(1, 1, figsize=(8, 6))\n",
        "    ax.plot(t, np.sin(2 * np.pi * freq * t),\n",
        "            color=color)\n",
        "    ax.grid(grid)\n",
        "    \n",
        "@button.on_click\n",
        "def plot_on_click(b):\n",
        "    out.clear_output(wait=True)\n",
        "    with out:\n",
        "        plot2()\n",
        "        plt.show()\n",
        "        \n",
        "tab1 = VBox(children=[freq_slider,\n",
        "                      range_slider,\n",
        "                      ])\n",
        "tab2 = VBox(children=[color_buttons,\n",
        "                      HBox(children=[title_textbox,\n",
        "                                     color_picker,\n",
        "                                     grid_button]),\n",
        "                                     ])\n",
        "\n",
        "out = widgets.Output()\n",
        "tab = widgets.Tab(children=[tab1, tab2])\n",
        "tab.set_title(0, 'plot')\n",
        "tab.set_title(1, 'styling')\n",
        "VBox(children=[tab, button, out])"
      ],
      "execution_count": 0,
      "outputs": [
        {
          "output_type": "display_data",
          "data": {
            "application/vnd.jupyter.widget-view+json": {
              "model_id": "144a395b236e4adca4dc4e3a25565317",
              "version_major": 2,
              "version_minor": 0
            },
            "text/plain": [
              "VBox(children=(Tab(children=(VBox(children=(FloatSlider(value=2.0, description='Frequency:', max=10.0, min=1.0…"
            ]
          },
          "metadata": {
            "tags": []
          }
        }
      ]
    },
    {
      "cell_type": "markdown",
      "metadata": {
        "id": "9zNKRN6pL3lG",
        "colab_type": "text"
      },
      "source": [
        "\n",
        "$\\pi$ iteratív meghatározása \n",
        "\n"
      ]
    },
    {
      "cell_type": "code",
      "metadata": {
        "scrolled": true,
        "id": "9xCg9TsAL3lH",
        "colab_type": "code",
        "colab": {
          "base_uri": "https://localhost:8080/",
          "height": 567,
          "referenced_widgets": [
            "8ec329a4f9804a14850acda3ed888bda",
            "e027e994a2894145bf291c44da9c700f",
            "378100c5b817408d957c112af2dcbc12",
            "6ce79f9167174e8caf9d9c9e6ec33005",
            "6fb210b74d4746abb418af61180bd89c",
            "138dbb45358140d49ae1aba037391f1d"
          ]
        },
        "outputId": "a3bee464-3d6a-4f51-fa07-283e0bfbc988"
      },
      "source": [
        "## interaktívvá tett függvény megjelenítés\n",
        "# Az alábbi paranccsal alapvető matplotlib és numpy függvényeket töltünk be.\n",
        "%pylab inline  \n",
        "%matplotlib inline\n",
        "\n",
        "\n",
        "from ipywidgets import interact\n",
        "\n",
        "def fun(n):\n",
        "    a=sqrt(2)\n",
        "    for i in range(1,n):\n",
        "        a=sqrt((1-sqrt(1-a**2/4))**2+a**2/4)\n",
        "    return a*2**n\n",
        "phi=linspace(0,pi/2,60)\n",
        "figsize(8,8)\n",
        "\n",
        "def geo(m=0):\n",
        "    plot([0,0,1],[1,0,0],color='black')\n",
        "    plot(cos(phi),sin(phi),lw=25,color='black')\n",
        "    p=linspace(0,pi/2,2**m+1)\n",
        "    plot([0,0,cos(p[1])],[1,0,sin(p[1])],color='black')\n",
        "    plot(cos(p[0::2]),sin(p[0::2]),'--',lw=4,color='gray')\n",
        "    plot(cos(p),sin(p),'o-',lw=8,color='red',ms=20,mec='red')\n",
        "    #\n",
        "    axes().set_aspect('equal')\n",
        "    xlim(-0.1,1.1)\n",
        "    ylim(-0.1,1.1)\n",
        "    axis('off');\n",
        "    #\n",
        "    text(0.7,0.95,r'$\\pi/2=$'+str(pi/2),fontsize=40)\n",
        "    text(0.7,0.8,r'$\\;\\,s=$'+str(fun(m+1)/2),fontsize=40,color='red')\n",
        "    if m==1:\n",
        "        text(0.5,-0.1,r'$1$',fontsize=40)\n",
        "        text(-0.1,0.5,r'$1$',fontsize=40)\n",
        "        text(0.5,0.6,r'$x$',fontsize=40)\n",
        "        text(0.1,0.35,r'$1-x$',fontsize=40)\n",
        "        text(0.5,0.2,r'$\\frac{a_{m-1}}{2}$',fontsize=40)\n",
        "        text(0.9,0.35,r'$a_m$',fontsize=40,color='red')\n",
        "        text(1.2,0.5,r'$a^2_{m-1}/4+(1-x)^2=1$',fontsize=40)\n",
        "        text(1.2,0.3,r'$a^2_{m-1}/4+x^2=a^2_m$',fontsize=40)\n",
        "        text(1.2,0.1,r'$s=2^m a_m$',fontsize=40,color='red')\n",
        "    elif m==10:\n",
        "        text(1.1,0.4,r'$\\lim_{m\\rightarrow\\infty} \\left (2^m a_m\\right)=\\pi/2 $',fontsize=50,color='magenta')\n",
        "    \n",
        "interact(geo,m=(0,17))"
      ],
      "execution_count": 1,
      "outputs": [
        {
          "output_type": "stream",
          "text": [
            "Populating the interactive namespace from numpy and matplotlib\n"
          ],
          "name": "stdout"
        },
        {
          "output_type": "display_data",
          "data": {
            "application/vnd.jupyter.widget-view+json": {
              "model_id": "8ec329a4f9804a14850acda3ed888bda",
              "version_minor": 0,
              "version_major": 2
            },
            "text/plain": [
              "interactive(children=(IntSlider(value=0, description='m', max=17), Output()), _dom_classes=('widget-interact',…"
            ]
          },
          "metadata": {
            "tags": []
          }
        },
        {
          "output_type": "execute_result",
          "data": {
            "text/plain": [
              "<function __main__.geo>"
            ]
          },
          "metadata": {
            "tags": []
          },
          "execution_count": 1
        }
      ]
    },
    {
      "cell_type": "code",
      "metadata": {
        "id": "0PA0Y36DL3lJ",
        "colab_type": "code",
        "colab": {},
        "outputId": "5d66ae0e-e1e9-4a1c-b794-be0e1a2e61f1"
      },
      "source": [
        "from bokeh.plotting import figure \n",
        "from bokeh.io import output_notebook, show\n",
        "output_notebook()\n",
        "from numpy import cos, linspace\n",
        "x = linspace(-6, 6, 100)\n",
        "y = cos(x)\n",
        "from IPython.display import IFrame\n",
        "IFrame('https://demo.bokeh.org/sliders', width=900, height=410)"
      ],
      "execution_count": 0,
      "outputs": [
        {
          "output_type": "display_data",
          "data": {
            "text/html": [
              "\n",
              "    <div class=\"bk-root\">\n",
              "        <a href=\"https://bokeh.pydata.org\" target=\"_blank\" class=\"bk-logo bk-logo-small bk-logo-notebook\"></a>\n",
              "        <span id=\"1003\">Loading BokehJS ...</span>\n",
              "    </div>"
            ]
          },
          "metadata": {
            "tags": []
          }
        },
        {
          "output_type": "display_data",
          "data": {
            "application/javascript": [
              "\n",
              "(function(root) {\n",
              "  function now() {\n",
              "    return new Date();\n",
              "  }\n",
              "\n",
              "  var force = true;\n",
              "\n",
              "  if (typeof root._bokeh_onload_callbacks === \"undefined\" || force === true) {\n",
              "    root._bokeh_onload_callbacks = [];\n",
              "    root._bokeh_is_loading = undefined;\n",
              "  }\n",
              "\n",
              "  var JS_MIME_TYPE = 'application/javascript';\n",
              "  var HTML_MIME_TYPE = 'text/html';\n",
              "  var EXEC_MIME_TYPE = 'application/vnd.bokehjs_exec.v0+json';\n",
              "  var CLASS_NAME = 'output_bokeh rendered_html';\n",
              "\n",
              "  /**\n",
              "   * Render data to the DOM node\n",
              "   */\n",
              "  function render(props, node) {\n",
              "    var script = document.createElement(\"script\");\n",
              "    node.appendChild(script);\n",
              "  }\n",
              "\n",
              "  /**\n",
              "   * Handle when an output is cleared or removed\n",
              "   */\n",
              "  function handleClearOutput(event, handle) {\n",
              "    var cell = handle.cell;\n",
              "\n",
              "    var id = cell.output_area._bokeh_element_id;\n",
              "    var server_id = cell.output_area._bokeh_server_id;\n",
              "    // Clean up Bokeh references\n",
              "    if (id != null && id in Bokeh.index) {\n",
              "      Bokeh.index[id].model.document.clear();\n",
              "      delete Bokeh.index[id];\n",
              "    }\n",
              "\n",
              "    if (server_id !== undefined) {\n",
              "      // Clean up Bokeh references\n",
              "      var cmd = \"from bokeh.io.state import curstate; print(curstate().uuid_to_server['\" + server_id + \"'].get_sessions()[0].document.roots[0]._id)\";\n",
              "      cell.notebook.kernel.execute(cmd, {\n",
              "        iopub: {\n",
              "          output: function(msg) {\n",
              "            var id = msg.content.text.trim();\n",
              "            if (id in Bokeh.index) {\n",
              "              Bokeh.index[id].model.document.clear();\n",
              "              delete Bokeh.index[id];\n",
              "            }\n",
              "          }\n",
              "        }\n",
              "      });\n",
              "      // Destroy server and session\n",
              "      var cmd = \"import bokeh.io.notebook as ion; ion.destroy_server('\" + server_id + \"')\";\n",
              "      cell.notebook.kernel.execute(cmd);\n",
              "    }\n",
              "  }\n",
              "\n",
              "  /**\n",
              "   * Handle when a new output is added\n",
              "   */\n",
              "  function handleAddOutput(event, handle) {\n",
              "    var output_area = handle.output_area;\n",
              "    var output = handle.output;\n",
              "\n",
              "    // limit handleAddOutput to display_data with EXEC_MIME_TYPE content only\n",
              "    if ((output.output_type != \"display_data\") || (!output.data.hasOwnProperty(EXEC_MIME_TYPE))) {\n",
              "      return\n",
              "    }\n",
              "\n",
              "    var toinsert = output_area.element.find(\".\" + CLASS_NAME.split(' ')[0]);\n",
              "\n",
              "    if (output.metadata[EXEC_MIME_TYPE][\"id\"] !== undefined) {\n",
              "      toinsert[toinsert.length - 1].firstChild.textContent = output.data[JS_MIME_TYPE];\n",
              "      // store reference to embed id on output_area\n",
              "      output_area._bokeh_element_id = output.metadata[EXEC_MIME_TYPE][\"id\"];\n",
              "    }\n",
              "    if (output.metadata[EXEC_MIME_TYPE][\"server_id\"] !== undefined) {\n",
              "      var bk_div = document.createElement(\"div\");\n",
              "      bk_div.innerHTML = output.data[HTML_MIME_TYPE];\n",
              "      var script_attrs = bk_div.children[0].attributes;\n",
              "      for (var i = 0; i < script_attrs.length; i++) {\n",
              "        toinsert[toinsert.length - 1].firstChild.setAttribute(script_attrs[i].name, script_attrs[i].value);\n",
              "      }\n",
              "      // store reference to server id on output_area\n",
              "      output_area._bokeh_server_id = output.metadata[EXEC_MIME_TYPE][\"server_id\"];\n",
              "    }\n",
              "  }\n",
              "\n",
              "  function register_renderer(events, OutputArea) {\n",
              "\n",
              "    function append_mime(data, metadata, element) {\n",
              "      // create a DOM node to render to\n",
              "      var toinsert = this.create_output_subarea(\n",
              "        metadata,\n",
              "        CLASS_NAME,\n",
              "        EXEC_MIME_TYPE\n",
              "      );\n",
              "      this.keyboard_manager.register_events(toinsert);\n",
              "      // Render to node\n",
              "      var props = {data: data, metadata: metadata[EXEC_MIME_TYPE]};\n",
              "      render(props, toinsert[toinsert.length - 1]);\n",
              "      element.append(toinsert);\n",
              "      return toinsert\n",
              "    }\n",
              "\n",
              "    /* Handle when an output is cleared or removed */\n",
              "    events.on('clear_output.CodeCell', handleClearOutput);\n",
              "    events.on('delete.Cell', handleClearOutput);\n",
              "\n",
              "    /* Handle when a new output is added */\n",
              "    events.on('output_added.OutputArea', handleAddOutput);\n",
              "\n",
              "    /**\n",
              "     * Register the mime type and append_mime function with output_area\n",
              "     */\n",
              "    OutputArea.prototype.register_mime_type(EXEC_MIME_TYPE, append_mime, {\n",
              "      /* Is output safe? */\n",
              "      safe: true,\n",
              "      /* Index of renderer in `output_area.display_order` */\n",
              "      index: 0\n",
              "    });\n",
              "  }\n",
              "\n",
              "  // register the mime type if in Jupyter Notebook environment and previously unregistered\n",
              "  if (root.Jupyter !== undefined) {\n",
              "    var events = require('base/js/events');\n",
              "    var OutputArea = require('notebook/js/outputarea').OutputArea;\n",
              "\n",
              "    if (OutputArea.prototype.mime_types().indexOf(EXEC_MIME_TYPE) == -1) {\n",
              "      register_renderer(events, OutputArea);\n",
              "    }\n",
              "  }\n",
              "\n",
              "  \n",
              "  if (typeof (root._bokeh_timeout) === \"undefined\" || force === true) {\n",
              "    root._bokeh_timeout = Date.now() + 5000;\n",
              "    root._bokeh_failed_load = false;\n",
              "  }\n",
              "\n",
              "  var NB_LOAD_WARNING = {'data': {'text/html':\n",
              "     \"<div style='background-color: #fdd'>\\n\"+\n",
              "     \"<p>\\n\"+\n",
              "     \"BokehJS does not appear to have successfully loaded. If loading BokehJS from CDN, this \\n\"+\n",
              "     \"may be due to a slow or bad network connection. Possible fixes:\\n\"+\n",
              "     \"</p>\\n\"+\n",
              "     \"<ul>\\n\"+\n",
              "     \"<li>re-rerun `output_notebook()` to attempt to load from CDN again, or</li>\\n\"+\n",
              "     \"<li>use INLINE resources instead, as so:</li>\\n\"+\n",
              "     \"</ul>\\n\"+\n",
              "     \"<code>\\n\"+\n",
              "     \"from bokeh.resources import INLINE\\n\"+\n",
              "     \"output_notebook(resources=INLINE)\\n\"+\n",
              "     \"</code>\\n\"+\n",
              "     \"</div>\"}};\n",
              "\n",
              "  function display_loaded() {\n",
              "    var el = document.getElementById(\"1003\");\n",
              "    if (el != null) {\n",
              "      el.textContent = \"BokehJS is loading...\";\n",
              "    }\n",
              "    if (root.Bokeh !== undefined) {\n",
              "      if (el != null) {\n",
              "        el.textContent = \"BokehJS \" + root.Bokeh.version + \" successfully loaded.\";\n",
              "      }\n",
              "    } else if (Date.now() < root._bokeh_timeout) {\n",
              "      setTimeout(display_loaded, 100)\n",
              "    }\n",
              "  }\n",
              "\n",
              "\n",
              "  function run_callbacks() {\n",
              "    try {\n",
              "      root._bokeh_onload_callbacks.forEach(function(callback) {\n",
              "        if (callback != null)\n",
              "          callback();\n",
              "      });\n",
              "    } finally {\n",
              "      delete root._bokeh_onload_callbacks\n",
              "    }\n",
              "    console.debug(\"Bokeh: all callbacks have finished\");\n",
              "  }\n",
              "\n",
              "  function load_libs(css_urls, js_urls, callback) {\n",
              "    if (css_urls == null) css_urls = [];\n",
              "    if (js_urls == null) js_urls = [];\n",
              "\n",
              "    root._bokeh_onload_callbacks.push(callback);\n",
              "    if (root._bokeh_is_loading > 0) {\n",
              "      console.debug(\"Bokeh: BokehJS is being loaded, scheduling callback at\", now());\n",
              "      return null;\n",
              "    }\n",
              "    if (js_urls == null || js_urls.length === 0) {\n",
              "      run_callbacks();\n",
              "      return null;\n",
              "    }\n",
              "    console.debug(\"Bokeh: BokehJS not loaded, scheduling load and callback at\", now());\n",
              "    root._bokeh_is_loading = css_urls.length + js_urls.length;\n",
              "\n",
              "    function on_load() {\n",
              "      root._bokeh_is_loading--;\n",
              "      if (root._bokeh_is_loading === 0) {\n",
              "        console.debug(\"Bokeh: all BokehJS libraries/stylesheets loaded\");\n",
              "        run_callbacks()\n",
              "      }\n",
              "    }\n",
              "\n",
              "    function on_error() {\n",
              "      console.error(\"failed to load \" + url);\n",
              "    }\n",
              "\n",
              "    for (var i = 0; i < css_urls.length; i++) {\n",
              "      var url = css_urls[i];\n",
              "      const element = document.createElement(\"link\");\n",
              "      element.onload = on_load;\n",
              "      element.onerror = on_error;\n",
              "      element.rel = \"stylesheet\";\n",
              "      element.type = \"text/css\";\n",
              "      element.href = url;\n",
              "      console.debug(\"Bokeh: injecting link tag for BokehJS stylesheet: \", url);\n",
              "      document.body.appendChild(element);\n",
              "    }\n",
              "\n",
              "    for (var i = 0; i < js_urls.length; i++) {\n",
              "      var url = js_urls[i];\n",
              "      var element = document.createElement('script');\n",
              "      element.onload = on_load;\n",
              "      element.onerror = on_error;\n",
              "      element.async = false;\n",
              "      element.src = url;\n",
              "      console.debug(\"Bokeh: injecting script tag for BokehJS library: \", url);\n",
              "      document.head.appendChild(element);\n",
              "    }\n",
              "  };var element = document.getElementById(\"1003\");\n",
              "  if (element == null) {\n",
              "    console.error(\"Bokeh: ERROR: autoload.js configured with elementid '1003' but no matching script tag was found. \")\n",
              "    return false;\n",
              "  }\n",
              "\n",
              "  function inject_raw_css(css) {\n",
              "    const element = document.createElement(\"style\");\n",
              "    element.appendChild(document.createTextNode(css));\n",
              "    document.body.appendChild(element);\n",
              "  }\n",
              "\n",
              "  var js_urls = [\"https://cdn.pydata.org/bokeh/release/bokeh-1.3.4.min.js\", \"https://cdn.pydata.org/bokeh/release/bokeh-widgets-1.3.4.min.js\", \"https://cdn.pydata.org/bokeh/release/bokeh-tables-1.3.4.min.js\", \"https://cdn.pydata.org/bokeh/release/bokeh-gl-1.3.4.min.js\"];\n",
              "  var css_urls = [];\n",
              "\n",
              "  var inline_js = [\n",
              "    function(Bokeh) {\n",
              "      Bokeh.set_log_level(\"info\");\n",
              "    },\n",
              "    \n",
              "    function(Bokeh) {\n",
              "      \n",
              "    },\n",
              "    function(Bokeh) {} // ensure no trailing comma for IE\n",
              "  ];\n",
              "\n",
              "  function run_inline_js() {\n",
              "    \n",
              "    if ((root.Bokeh !== undefined) || (force === true)) {\n",
              "      for (var i = 0; i < inline_js.length; i++) {\n",
              "        inline_js[i].call(root, root.Bokeh);\n",
              "      }if (force === true) {\n",
              "        display_loaded();\n",
              "      }} else if (Date.now() < root._bokeh_timeout) {\n",
              "      setTimeout(run_inline_js, 100);\n",
              "    } else if (!root._bokeh_failed_load) {\n",
              "      console.log(\"Bokeh: BokehJS failed to load within specified timeout.\");\n",
              "      root._bokeh_failed_load = true;\n",
              "    } else if (force !== true) {\n",
              "      var cell = $(document.getElementById(\"1003\")).parents('.cell').data().cell;\n",
              "      cell.output_area.append_execute_result(NB_LOAD_WARNING)\n",
              "    }\n",
              "\n",
              "  }\n",
              "\n",
              "  if (root._bokeh_is_loading === 0) {\n",
              "    console.debug(\"Bokeh: BokehJS loaded, going straight to plotting\");\n",
              "    run_inline_js();\n",
              "  } else {\n",
              "    load_libs(css_urls, js_urls, function() {\n",
              "      console.debug(\"Bokeh: BokehJS plotting callback run at\", now());\n",
              "      run_inline_js();\n",
              "    });\n",
              "  }\n",
              "}(window));"
            ],
            "application/vnd.bokehjs_load.v0+json": "\n(function(root) {\n  function now() {\n    return new Date();\n  }\n\n  var force = true;\n\n  if (typeof root._bokeh_onload_callbacks === \"undefined\" || force === true) {\n    root._bokeh_onload_callbacks = [];\n    root._bokeh_is_loading = undefined;\n  }\n\n  \n\n  \n  if (typeof (root._bokeh_timeout) === \"undefined\" || force === true) {\n    root._bokeh_timeout = Date.now() + 5000;\n    root._bokeh_failed_load = false;\n  }\n\n  var NB_LOAD_WARNING = {'data': {'text/html':\n     \"<div style='background-color: #fdd'>\\n\"+\n     \"<p>\\n\"+\n     \"BokehJS does not appear to have successfully loaded. If loading BokehJS from CDN, this \\n\"+\n     \"may be due to a slow or bad network connection. Possible fixes:\\n\"+\n     \"</p>\\n\"+\n     \"<ul>\\n\"+\n     \"<li>re-rerun `output_notebook()` to attempt to load from CDN again, or</li>\\n\"+\n     \"<li>use INLINE resources instead, as so:</li>\\n\"+\n     \"</ul>\\n\"+\n     \"<code>\\n\"+\n     \"from bokeh.resources import INLINE\\n\"+\n     \"output_notebook(resources=INLINE)\\n\"+\n     \"</code>\\n\"+\n     \"</div>\"}};\n\n  function display_loaded() {\n    var el = document.getElementById(\"1003\");\n    if (el != null) {\n      el.textContent = \"BokehJS is loading...\";\n    }\n    if (root.Bokeh !== undefined) {\n      if (el != null) {\n        el.textContent = \"BokehJS \" + root.Bokeh.version + \" successfully loaded.\";\n      }\n    } else if (Date.now() < root._bokeh_timeout) {\n      setTimeout(display_loaded, 100)\n    }\n  }\n\n\n  function run_callbacks() {\n    try {\n      root._bokeh_onload_callbacks.forEach(function(callback) {\n        if (callback != null)\n          callback();\n      });\n    } finally {\n      delete root._bokeh_onload_callbacks\n    }\n    console.debug(\"Bokeh: all callbacks have finished\");\n  }\n\n  function load_libs(css_urls, js_urls, callback) {\n    if (css_urls == null) css_urls = [];\n    if (js_urls == null) js_urls = [];\n\n    root._bokeh_onload_callbacks.push(callback);\n    if (root._bokeh_is_loading > 0) {\n      console.debug(\"Bokeh: BokehJS is being loaded, scheduling callback at\", now());\n      return null;\n    }\n    if (js_urls == null || js_urls.length === 0) {\n      run_callbacks();\n      return null;\n    }\n    console.debug(\"Bokeh: BokehJS not loaded, scheduling load and callback at\", now());\n    root._bokeh_is_loading = css_urls.length + js_urls.length;\n\n    function on_load() {\n      root._bokeh_is_loading--;\n      if (root._bokeh_is_loading === 0) {\n        console.debug(\"Bokeh: all BokehJS libraries/stylesheets loaded\");\n        run_callbacks()\n      }\n    }\n\n    function on_error() {\n      console.error(\"failed to load \" + url);\n    }\n\n    for (var i = 0; i < css_urls.length; i++) {\n      var url = css_urls[i];\n      const element = document.createElement(\"link\");\n      element.onload = on_load;\n      element.onerror = on_error;\n      element.rel = \"stylesheet\";\n      element.type = \"text/css\";\n      element.href = url;\n      console.debug(\"Bokeh: injecting link tag for BokehJS stylesheet: \", url);\n      document.body.appendChild(element);\n    }\n\n    for (var i = 0; i < js_urls.length; i++) {\n      var url = js_urls[i];\n      var element = document.createElement('script');\n      element.onload = on_load;\n      element.onerror = on_error;\n      element.async = false;\n      element.src = url;\n      console.debug(\"Bokeh: injecting script tag for BokehJS library: \", url);\n      document.head.appendChild(element);\n    }\n  };var element = document.getElementById(\"1003\");\n  if (element == null) {\n    console.error(\"Bokeh: ERROR: autoload.js configured with elementid '1003' but no matching script tag was found. \")\n    return false;\n  }\n\n  function inject_raw_css(css) {\n    const element = document.createElement(\"style\");\n    element.appendChild(document.createTextNode(css));\n    document.body.appendChild(element);\n  }\n\n  var js_urls = [\"https://cdn.pydata.org/bokeh/release/bokeh-1.3.4.min.js\", \"https://cdn.pydata.org/bokeh/release/bokeh-widgets-1.3.4.min.js\", \"https://cdn.pydata.org/bokeh/release/bokeh-tables-1.3.4.min.js\", \"https://cdn.pydata.org/bokeh/release/bokeh-gl-1.3.4.min.js\"];\n  var css_urls = [];\n\n  var inline_js = [\n    function(Bokeh) {\n      Bokeh.set_log_level(\"info\");\n    },\n    \n    function(Bokeh) {\n      \n    },\n    function(Bokeh) {} // ensure no trailing comma for IE\n  ];\n\n  function run_inline_js() {\n    \n    if ((root.Bokeh !== undefined) || (force === true)) {\n      for (var i = 0; i < inline_js.length; i++) {\n        inline_js[i].call(root, root.Bokeh);\n      }if (force === true) {\n        display_loaded();\n      }} else if (Date.now() < root._bokeh_timeout) {\n      setTimeout(run_inline_js, 100);\n    } else if (!root._bokeh_failed_load) {\n      console.log(\"Bokeh: BokehJS failed to load within specified timeout.\");\n      root._bokeh_failed_load = true;\n    } else if (force !== true) {\n      var cell = $(document.getElementById(\"1003\")).parents('.cell').data().cell;\n      cell.output_area.append_execute_result(NB_LOAD_WARNING)\n    }\n\n  }\n\n  if (root._bokeh_is_loading === 0) {\n    console.debug(\"Bokeh: BokehJS loaded, going straight to plotting\");\n    run_inline_js();\n  } else {\n    load_libs(css_urls, js_urls, function() {\n      console.debug(\"Bokeh: BokehJS plotting callback run at\", now());\n      run_inline_js();\n    });\n  }\n}(window));"
          },
          "metadata": {
            "tags": []
          }
        },
        {
          "output_type": "execute_result",
          "data": {
            "text/html": [
              "\n",
              "        <iframe\n",
              "            width=\"900\"\n",
              "            height=\"410\"\n",
              "            src=\"https://demo.bokeh.org/sliders\"\n",
              "            frameborder=\"0\"\n",
              "            allowfullscreen\n",
              "        ></iframe>\n",
              "        "
            ],
            "text/plain": [
              "<IPython.lib.display.IFrame at 0x1a4d9b05688>"
            ]
          },
          "metadata": {
            "tags": []
          },
          "execution_count": 7
        }
      ]
    },
    {
      "cell_type": "code",
      "metadata": {
        "id": "HWpWZN0qL3lL",
        "colab_type": "code",
        "colab": {},
        "outputId": "e0dea57d-87bb-4bd3-fbe4-8b2f41645fd7"
      },
      "source": [
        "p = figure(width=500, height=500)\n",
        "p.circle(x, y, size=7, color=\"firebrick\", alpha=0.5)\n",
        "show(p)"
      ],
      "execution_count": 0,
      "outputs": [
        {
          "output_type": "display_data",
          "data": {
            "text/html": [
              "\n",
              "\n",
              "\n",
              "\n",
              "\n",
              "\n",
              "  <div class=\"bk-root\" id=\"ec07c3b4-3720-49f6-8816-cc8969745127\" data-root-id=\"1004\"></div>\n"
            ]
          },
          "metadata": {
            "tags": []
          }
        },
        {
          "output_type": "display_data",
          "data": {
            "application/javascript": [
              "(function(root) {\n",
              "  function embed_document(root) {\n",
              "    \n",
              "  var docs_json = {\"aae9d7a2-371c-4c19-bec6-f2866339c9b2\":{\"roots\":{\"references\":[{\"attributes\":{\"below\":[{\"id\":\"1013\",\"type\":\"LinearAxis\"}],\"center\":[{\"id\":\"1017\",\"type\":\"Grid\"},{\"id\":\"1022\",\"type\":\"Grid\"}],\"left\":[{\"id\":\"1018\",\"type\":\"LinearAxis\"}],\"plot_height\":500,\"plot_width\":500,\"renderers\":[{\"id\":\"1039\",\"type\":\"GlyphRenderer\"}],\"title\":{\"id\":\"1042\",\"type\":\"Title\"},\"toolbar\":{\"id\":\"1029\",\"type\":\"Toolbar\"},\"x_range\":{\"id\":\"1005\",\"type\":\"DataRange1d\"},\"x_scale\":{\"id\":\"1009\",\"type\":\"LinearScale\"},\"y_range\":{\"id\":\"1007\",\"type\":\"DataRange1d\"},\"y_scale\":{\"id\":\"1011\",\"type\":\"LinearScale\"}},\"id\":\"1004\",\"subtype\":\"Figure\",\"type\":\"Plot\"},{\"attributes\":{},\"id\":\"1023\",\"type\":\"PanTool\"},{\"attributes\":{},\"id\":\"1044\",\"type\":\"BasicTickFormatter\"},{\"attributes\":{},\"id\":\"1011\",\"type\":\"LinearScale\"},{\"attributes\":{\"callback\":null},\"id\":\"1007\",\"type\":\"DataRange1d\"},{\"attributes\":{},\"id\":\"1024\",\"type\":\"WheelZoomTool\"},{\"attributes\":{\"bottom_units\":\"screen\",\"fill_alpha\":{\"value\":0.5},\"fill_color\":{\"value\":\"lightgrey\"},\"left_units\":\"screen\",\"level\":\"overlay\",\"line_alpha\":{\"value\":1.0},\"line_color\":{\"value\":\"black\"},\"line_dash\":[4,4],\"line_width\":{\"value\":2},\"render_mode\":\"css\",\"right_units\":\"screen\",\"top_units\":\"screen\"},\"id\":\"1047\",\"type\":\"BoxAnnotation\"},{\"attributes\":{\"overlay\":{\"id\":\"1047\",\"type\":\"BoxAnnotation\"}},\"id\":\"1025\",\"type\":\"BoxZoomTool\"},{\"attributes\":{\"source\":{\"id\":\"1036\",\"type\":\"ColumnDataSource\"}},\"id\":\"1040\",\"type\":\"CDSView\"},{\"attributes\":{},\"id\":\"1048\",\"type\":\"UnionRenderers\"},{\"attributes\":{\"active_drag\":\"auto\",\"active_inspect\":\"auto\",\"active_multi\":null,\"active_scroll\":\"auto\",\"active_tap\":\"auto\",\"tools\":[{\"id\":\"1023\",\"type\":\"PanTool\"},{\"id\":\"1024\",\"type\":\"WheelZoomTool\"},{\"id\":\"1025\",\"type\":\"BoxZoomTool\"},{\"id\":\"1026\",\"type\":\"SaveTool\"},{\"id\":\"1027\",\"type\":\"ResetTool\"},{\"id\":\"1028\",\"type\":\"HelpTool\"}]},\"id\":\"1029\",\"type\":\"Toolbar\"},{\"attributes\":{},\"id\":\"1026\",\"type\":\"SaveTool\"},{\"attributes\":{},\"id\":\"1027\",\"type\":\"ResetTool\"},{\"attributes\":{\"callback\":null,\"data\":{\"x\":{\"__ndarray__\":\"AAAAAAAAGMCEDz744IMXwAgffPDBBxfAjC666KKLFsAQPvjggw8WwJNNNtlkkxXAF1100UUXFcCbbLLJJpsUwB988MEHHxTAo4suuuiiE8Anm2yyySYTwKqqqqqqqhLALrrooosuEsCyySabbLIRwDbZZJNNNhHAuuiiiy66EMA++OCDDz4QwIQPPvjggw/AjC666KKLDsCTTTbZZJMNwJtssskmmwzAo4suuuiiC8CqqqqqqqoKwLLJJptssgnAuuiiiy66CMDCBx988MEHwMomm2yyyQbA0UUXXXTRBcDZZJNNNtkEwOGDDz744APA6KKLLrroAsDwwQcffPABwPjggw8++ADAAAAAAAAAAMAQPvjggw/+vyB88MEHH/y/MLrooosu+r88+OCDDz74v0w22WSTTfa/XHTRRRdd9L9ssskmm2zyv3zwwQcffPC/GF100UUX7b842WSTTTbpv1BVVVVVVeW/cNFFF1104b8gm2yyySbbv2CTTTbZZNO/QBdddNFFx78AH3zwwQevvwAffPDBB68/QBdddNFFxz9gk0022WTTPzCbbLLJJts/eNFFF1104T9YVVVVVVXlPzjZZJNNNuk/GF100UUX7T988MEHH3zwP2yyySabbPI/YHTRRRdd9D9QNtlkk032P0D44IMPPvg/MLrooosu+j8gfPDBBx/8PxA++OCDD/4/AAAAAAAAAED44IMPPvgAQPDBBx988AFA6KKLLrroAkDggw8++OADQNhkk0022QRA0EUXXXTRBUDMJptssskGQMQHH3zwwQdAvOiiiy66CEC0ySabbLIJQKyqqqqqqgpApIsuuuiiC0CcbLLJJpsMQJRNNtlkkw1AjC666KKLDkCEDz744IMPQD744IMPPhBAuuiiiy66EEA22WSTTTYRQLLJJptsshFALrrooosuEkCsqqqqqqoSQCibbLLJJhNApIsuuuiiE0AgfPDBBx8UQJxssskmmxRAGF100UUXFUCUTTbZZJMVQBA++OCDDxZAjC666KKLFkAIH3zwwQcXQIQPPvjggxdAAAAAAAAAGEA=\",\"dtype\":\"float64\",\"shape\":[100]},\"y\":{\"__ndarray__\":\"9SJ4Cbe57j8JY+r+OmvtP60Tvck6rus/WLzTHz6J6T/x0bJaUwTnP6I1+zPxKOQ/oScYONMB4T8ZPFzpojXbP8HygfRnAdQ/fGjcYAsEyT8z6888mk6zP+5YV8fTZqe/pYFip7xExb9PFf407y/Svy7Wz2Mtedm/GSzA6Fwx4L8zrWZ2Tmnjv1qZMxdUWOa/yEpIeGjz6L+BKUaewTDrv4rmZKv1B+2/pq/Cehpy7r9tKDKa32nvv7My8UCi6++/lWFJ+Hr1779ggMrCRIfvv13mP6edou6/+5JWneBK7b/O+cbyGIXrv36TXFjvV+m/wpQK3pDL5r8HDQc8kOnjv6yITtzBvOC/BXJTVyai2r/ACBWWu2bTv4h0TibdxMe/sSQZ5fDFsL8tuK+mtnmsP79vCY4VhcY//tyFCJLL0j9AaSfs/Q3aPzoevIFEd+A/HBvGyK6p4z+YiDpMO5LmPxkpbAr9Jek/+alUikVb6z85RlM6ySntP8nZq5m+iu4/fMS1t/d47z+hS/Ko9fDvP6FL8qj18O8/fMS1t/d47z/J2auZvoruPzZGUzrJKe0/9KlUikVb6z8UKWwK/SXpP5iIOkw7kuY/HBvGyK6p4z86HryBRHfgP0BpJ+z9Ddo/79yFCJLL0j+fbwmOFYXGP623r6a2eaw/sSQZ5fDFsL+IdE4m3cTHv8AIFZa7ZtO/BXJTVyai2r+siE7cwbzgvwcNBzyQ6eO/wpQK3pDL5r98k1xY71fpv8z5xvIYheu/+pJWneBK7b9f5j+nnaLuv2KAysJEh++/lWFJ+Hr177+zMvFAouvvv2soMprfae+/pK/Cehpy7r+I5mSr9Qftv38pRp7BMOu/yEpIeGjz6L9amTMXVFjmvzOtZnZOaeO/GSzA6Fwx4L8u1s9jLXnZv08V/jTvL9K/pYFip7xExb/uV1fH02anv3PrzzyaTrM/nGjcYAsEyT/Q8oH0ZwHUPyc8XOmiNds/pycYONMB4T+oNfsz8SjkP/HRslpTBOc/WLzTHz6J6T+tE73JOq7rPwlj6v46a+0/9SJ4Cbe57j8=\",\"dtype\":\"float64\",\"shape\":[100]}},\"selected\":{\"id\":\"1049\",\"type\":\"Selection\"},\"selection_policy\":{\"id\":\"1048\",\"type\":\"UnionRenderers\"}},\"id\":\"1036\",\"type\":\"ColumnDataSource\"},{\"attributes\":{\"fill_alpha\":{\"value\":0.1},\"fill_color\":{\"value\":\"#1f77b4\"},\"line_alpha\":{\"value\":0.1},\"line_color\":{\"value\":\"#1f77b4\"},\"size\":{\"units\":\"screen\",\"value\":7},\"x\":{\"field\":\"x\"},\"y\":{\"field\":\"y\"}},\"id\":\"1038\",\"type\":\"Circle\"},{\"attributes\":{\"ticker\":{\"id\":\"1014\",\"type\":\"BasicTicker\"}},\"id\":\"1017\",\"type\":\"Grid\"},{\"attributes\":{},\"id\":\"1014\",\"type\":\"BasicTicker\"},{\"attributes\":{},\"id\":\"1046\",\"type\":\"BasicTickFormatter\"},{\"attributes\":{\"dimension\":1,\"ticker\":{\"id\":\"1019\",\"type\":\"BasicTicker\"}},\"id\":\"1022\",\"type\":\"Grid\"},{\"attributes\":{\"fill_alpha\":{\"value\":0.5},\"fill_color\":{\"value\":\"firebrick\"},\"line_alpha\":{\"value\":0.5},\"line_color\":{\"value\":\"firebrick\"},\"size\":{\"units\":\"screen\",\"value\":7},\"x\":{\"field\":\"x\"},\"y\":{\"field\":\"y\"}},\"id\":\"1037\",\"type\":\"Circle\"},{\"attributes\":{\"formatter\":{\"id\":\"1046\",\"type\":\"BasicTickFormatter\"},\"ticker\":{\"id\":\"1019\",\"type\":\"BasicTicker\"}},\"id\":\"1018\",\"type\":\"LinearAxis\"},{\"attributes\":{},\"id\":\"1028\",\"type\":\"HelpTool\"},{\"attributes\":{},\"id\":\"1049\",\"type\":\"Selection\"},{\"attributes\":{\"formatter\":{\"id\":\"1044\",\"type\":\"BasicTickFormatter\"},\"ticker\":{\"id\":\"1014\",\"type\":\"BasicTicker\"}},\"id\":\"1013\",\"type\":\"LinearAxis\"},{\"attributes\":{},\"id\":\"1019\",\"type\":\"BasicTicker\"},{\"attributes\":{\"text\":\"\"},\"id\":\"1042\",\"type\":\"Title\"},{\"attributes\":{\"callback\":null},\"id\":\"1005\",\"type\":\"DataRange1d\"},{\"attributes\":{\"data_source\":{\"id\":\"1036\",\"type\":\"ColumnDataSource\"},\"glyph\":{\"id\":\"1037\",\"type\":\"Circle\"},\"hover_glyph\":null,\"muted_glyph\":null,\"nonselection_glyph\":{\"id\":\"1038\",\"type\":\"Circle\"},\"selection_glyph\":null,\"view\":{\"id\":\"1040\",\"type\":\"CDSView\"}},\"id\":\"1039\",\"type\":\"GlyphRenderer\"},{\"attributes\":{},\"id\":\"1009\",\"type\":\"LinearScale\"}],\"root_ids\":[\"1004\"]},\"title\":\"Bokeh Application\",\"version\":\"1.3.4\"}};\n",
              "  var render_items = [{\"docid\":\"aae9d7a2-371c-4c19-bec6-f2866339c9b2\",\"roots\":{\"1004\":\"ec07c3b4-3720-49f6-8816-cc8969745127\"}}];\n",
              "  root.Bokeh.embed.embed_items_notebook(docs_json, render_items);\n",
              "\n",
              "  }\n",
              "  if (root.Bokeh !== undefined) {\n",
              "    embed_document(root);\n",
              "  } else {\n",
              "    var attempts = 0;\n",
              "    var timer = setInterval(function(root) {\n",
              "      if (root.Bokeh !== undefined) {\n",
              "        embed_document(root);\n",
              "        clearInterval(timer);\n",
              "      }\n",
              "      attempts++;\n",
              "      if (attempts > 100) {\n",
              "        console.log(\"Bokeh: ERROR: Unable to run BokehJS code because BokehJS library is missing\");\n",
              "        clearInterval(timer);\n",
              "      }\n",
              "    }, 10, root)\n",
              "  }\n",
              "})(window);"
            ],
            "application/vnd.bokehjs_exec.v0+json": ""
          },
          "metadata": {
            "tags": [],
            "application/vnd.bokehjs_exec.v0+json": {
              "id": "1004"
            }
          }
        }
      ]
    },
    {
      "cell_type": "code",
      "metadata": {
        "id": "XDEo9TrGL3lO",
        "colab_type": "code",
        "colab": {}
      },
      "source": [
        ""
      ],
      "execution_count": 0,
      "outputs": []
    }
  ]
}