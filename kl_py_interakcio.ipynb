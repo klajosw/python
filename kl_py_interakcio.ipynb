{
  "nbformat": 4,
  "nbformat_minor": 0,
  "metadata": {
    "anaconda-cloud": {},
    "hide_input": false,
    "kernelspec": {
      "display_name": "Python 3",
      "language": "python",
      "name": "python3"
    },
    "language_info": {
      "codemirror_mode": {
        "name": "ipython",
        "version": 3
      },
      "file_extension": ".py",
      "mimetype": "text/x-python",
      "name": "python",
      "nbconvert_exporter": "python",
      "pygments_lexer": "ipython3",
      "version": "3.7.4"
    },
    "latex_envs": {
      "bibliofile": "biblio.bib",
      "cite_by": "apalike",
      "current_citInitial": 1,
      "eqLabelWithNumbers": true,
      "eqNumInitial": 0
    },
    "name": "Interact.ipynb",
    "colab": {
      "name": "kl_py_interakcio.ipynb",
      "provenance": [],
      "collapsed_sections": [],
      "include_colab_link": true
    }
  },
  "cells": [
    {
      "cell_type": "markdown",
      "metadata": {
        "id": "view-in-github",
        "colab_type": "text"
      },
      "source": [
        "<a href=\"https://colab.research.google.com/github/klajosw/python/blob/master/kl_py_interakcio.ipynb\" target=\"_parent\"><img src=\"https://colab.research.google.com/assets/colab-badge.svg\" alt=\"Open In Colab\"/></a>"
      ]
    },
    {
      "cell_type": "markdown",
      "metadata": {
        "id": "1HOPzhWlhHBY",
        "colab_type": "text"
      },
      "source": [
        "<p align=\"left\"> \n",
        "    <img src=\"https://raw.githubusercontent.com/klajosw/python/master/kl_mie_python_logo_250.jpg\" \n",
        "         align=\"left\" width=\"251\" height=\"251\">\n",
        "    \n",
        "</p>\n",
        "\n",
        "\n",
        "<p> </p>\n",
        "\n",
        "\n",
        "\n",
        "# Python alapok interaktivitás (ipywidgets)\n",
        "\n",
        "<https://klajosw.blogspot.com/>"
      ]
    },
    {
      "cell_type": "markdown",
      "metadata": {
        "id": "qejhHHLqhHBb",
        "colab_type": "text"
      },
      "source": [
        "# Interaktív függvények megjelenítése\n",
        "\n",
        "Az alábbiakban vizsgáljunk meg egy egyszerű módszert arra, hogy hogyan tehetjük Python-függvényeinket interaktívvá!\n",
        "Ehhez az `ipywidgets` csomag lesz segítségünkre!\n",
        "\n",
        "\n",
        "\n",
        "\n",
        "<h3 style='color: darkcyan'>Interaktivitás</h3>\n",
        "\n",
        ">```python\n",
        ">from ipywidgets import *           # az interaktivitásért felelős csomag\n",
        ">\n",
        ">def freki(t,omega):                  #függvény amivel játszunk\n",
        ">    plot(t,sin(omega*t))   \n",
        ">\n",
        ">interact(freki,omega=(0,10,0.1));  #játszás\n",
        ">```\n",
        "\n",
        "\n",
        "Mostanra már tudjuk, hogy hogyan ábrázoljunk egy matematikai függvényt:"
      ]
    },
    {
      "cell_type": "code",
      "metadata": {
        "id": "VWngd81MhHBc",
        "colab_type": "code",
        "colab": {},
        "outputId": "44593eda-b78a-4794-d508-175adbacb159"
      },
      "source": [
        "## Egyszerű plot négyzet függvény\n",
        "# Az alábbi paranccsal alapvető matplotlib és numpy függvényeket töltünk be.\n",
        "%matplotlib inline\n",
        "%pylab inline \n",
        "\n",
        "x=linspace(0,3,100) #mintavételezési pontok legyártása\n",
        "y=x**2              #függvény kiértékelése a mintavételezési pontokban\n",
        "plot(x,y)           #ábrázolás"
      ],
      "execution_count": 0,
      "outputs": [
        {
          "output_type": "stream",
          "text": [
            "Populating the interactive namespace from numpy and matplotlib\n"
          ],
          "name": "stdout"
        },
        {
          "output_type": "execute_result",
          "data": {
            "text/plain": [
              "[<matplotlib.lines.Line2D at 0x12db4055c48>]"
            ]
          },
          "metadata": {
            "tags": []
          },
          "execution_count": 27
        },
        {
          "output_type": "display_data",
          "data": {
            "image/png": "[encoded data removed]",
            "text/plain": [
              "<Figure size 432x288 with 1 Axes>"
            ]
          },
          "metadata": {
            "tags": [],
            "needs_background": "light"
          }
        }
      ]
    },
    {
      "cell_type": "code",
      "metadata": {
        "id": "koSnbFLuhHBf",
        "colab_type": "code",
        "colab": {},
        "outputId": "114644a8-4087-4fbd-c990-10ea7b8ec737"
      },
      "source": [
        "## Egyszerű plot, kétváltozós függvény\n",
        "# Az alábbi paranccsal alapvető matplotlib és numpy függvényeket töltünk be.\n",
        "%matplotlib inline\n",
        "%pylab inline \n",
        "\n",
        "x2, y2 = meshgrid(linspace(-2,5,100),linspace(-1,4,100))  #2D mintavételezés\n",
        "z2 = sin(x2) ** 10 + cos(10 + y2 * x2) * cos(x2)          #kiértékelés                  \n",
        "pcolor(x2,y2,z2)                                          #ábrázolás"
      ],
      "execution_count": 0,
      "outputs": [
        {
          "output_type": "stream",
          "text": [
            "Populating the interactive namespace from numpy and matplotlib\n"
          ],
          "name": "stdout"
        },
        {
          "output_type": "execute_result",
          "data": {
            "text/plain": [
              "<matplotlib.collections.PolyCollection at 0x12db40363c8>"
            ]
          },
          "metadata": {
            "tags": []
          },
          "execution_count": 29
        },
        {
          "output_type": "display_data",
          "data": {
            "image/png": "[encoded data removed]",
            "text/plain": [
              "<Figure size 432x288 with 1 Axes>"
            ]
          },
          "metadata": {
            "tags": [],
            "needs_background": "light"
          }
        }
      ]
    },
    {
      "cell_type": "code",
      "metadata": {
        "id": "iTpeGQ4AhHBh",
        "colab_type": "code",
        "colab": {},
        "outputId": "e51fdba2-5bd7-49ab-ad83-e26864de25f4"
      },
      "source": [
        "## Egyszerű plot szinusz függvény\n",
        "# Az alábbi paranccsal alapvető matplotlib és numpy függvényeket töltünk be.\n",
        "%matplotlib inline\n",
        "%pylab inline                      \n",
        "\n",
        "from ipywidgets import *  # az interaktivitásért felelős csomag\n",
        "t=linspace(0,2*pi,100);\n",
        "plot(t,sin(t))"
      ],
      "execution_count": 0,
      "outputs": [
        {
          "output_type": "stream",
          "text": [
            "Populating the interactive namespace from numpy and matplotlib\n"
          ],
          "name": "stdout"
        },
        {
          "output_type": "execute_result",
          "data": {
            "text/plain": [
              "[<matplotlib.lines.Line2D at 0x12db3776388>]"
            ]
          },
          "metadata": {
            "tags": []
          },
          "execution_count": 1
        },
        {
          "output_type": "display_data",
          "data": {
            "image/png": "[encoded data removed]",
            "text/plain": [
              "<Figure size 432x288 with 1 Axes>"
            ]
          },
          "metadata": {
            "tags": [],
            "needs_background": "light"
          }
        }
      ]
    },
    {
      "cell_type": "markdown",
      "metadata": {
        "id": "LHw4QNmIhHBj",
        "colab_type": "text"
      },
      "source": [
        "Írjunk egy függvényt, ami egy megadott frekvenciájú jelet rajzol ki!"
      ]
    },
    {
      "cell_type": "code",
      "metadata": {
        "id": "OdwNwB7QhHBk",
        "colab_type": "code",
        "colab": {},
        "outputId": "63d50f13-15c1-4fef-c312-5398d7df3832"
      },
      "source": [
        "## Egyszerű plot szinusz függvény\n",
        "# Az alábbi paranccsal alapvető matplotlib és numpy függvényeket töltünk be.\n",
        "%matplotlib inline\n",
        "%pylab inline    \n",
        "\n",
        "# a függvény definiciója\n",
        "t=linspace(0,2*pi,100);\n",
        "def freki(omega):    \n",
        "    plot(t,sin(omega*t))\n",
        "    \n",
        "freki(1.0)  # függvény meghívása 1.\n",
        "freki(2.0)  # függvény meghívása 2."
      ],
      "execution_count": 0,
      "outputs": [
        {
          "output_type": "display_data",
          "data": {
            "image/png": "[encoded data removed]",
            "text/plain": [
              "<Figure size 432x288 with 1 Axes>"
            ]
          },
          "metadata": {
            "tags": [],
            "needs_background": "light"
          }
        }
      ]
    },
    {
      "cell_type": "markdown",
      "metadata": {
        "id": "hECCAIeuhHBm",
        "colab_type": "text"
      },
      "source": [
        "Most jön a varázslat! Az `interact()` függvény segítségével interaktívvá tehetjük a fent definiált függvényünket!"
      ]
    },
    {
      "cell_type": "code",
      "metadata": {
        "id": "MWhA2IjLhHBn",
        "colab_type": "code",
        "colab": {
          "referenced_widgets": [
            "8e5104dab5f74b14932e4531cfc92949"
          ]
        },
        "outputId": "591544cb-e184-4408-a733-b5805e8e7f29"
      },
      "source": [
        "## interaktívvá tett függvény megjelenítés\n",
        "# Az alábbi paranccsal alapvető matplotlib és numpy függvényeket töltünk be.\n",
        "%matplotlib inline\n",
        "%pylab inline    \n",
        "\n",
        "# a függvény definiciója\n",
        "t=linspace(0,2*pi,100);\n",
        "def freki(omega):    \n",
        "    plot(t,sin(omega*t))\n",
        "    \n",
        "interact(freki,omega=(0,10,0.1))  # függvény interaktív meghívása "
      ],
      "execution_count": 0,
      "outputs": [
        {
          "output_type": "stream",
          "text": [
            "Populating the interactive namespace from numpy and matplotlib\n"
          ],
          "name": "stdout"
        },
        {
          "output_type": "display_data",
          "data": {
            "application/vnd.jupyter.widget-view+json": {
              "model_id": "8e5104dab5f74b14932e4531cfc92949",
              "version_major": 2,
              "version_minor": 0
            },
            "text/plain": [
              "interactive(children=(FloatSlider(value=5.0, description='omega', max=10.0), Output()), _dom_classes=('widget-…"
            ]
          },
          "metadata": {
            "tags": []
          }
        },
        {
          "output_type": "execute_result",
          "data": {
            "text/plain": [
              "<function __main__.freki(omega)>"
            ]
          },
          "metadata": {
            "tags": []
          },
          "execution_count": 3
        }
      ]
    },
    {
      "cell_type": "markdown",
      "metadata": {
        "id": "W9BffEE2hHBp",
        "colab_type": "text"
      },
      "source": [
        "Nézzük meg egy kicsit közelebbről, hogy is működik ez az `interact()` konstrukció! Definiáljunk ehhez először egy nagyon egyszerű függvényt!"
      ]
    },
    {
      "cell_type": "code",
      "metadata": {
        "id": "3me_foUAhHBp",
        "colab_type": "code",
        "colab": {}
      },
      "source": [
        "def func(x):\n",
        "     print(x)"
      ],
      "execution_count": 0,
      "outputs": []
    },
    {
      "cell_type": "markdown",
      "metadata": {
        "id": "A3PdeAtohHBr",
        "colab_type": "text"
      },
      "source": [
        "Az interact egy olyan függvény, amely az első paramétereként egy függvényt vár, és kulcsszavakként várja a függvény bemenő paramétereit! Amit visszaad, az egy interaktív **widget**, ami lehet sokfajta, de alapvetően azt a célt szolgálja, hogy a **func** függvényt kiszolgálja. Annak ad egy bemenő paramétert, lefuttatja, majd vár, hogy a felhasználó újra megváltoztassa az állapotot.\n",
        "Ha a kulcsszavas argumentumnak zárójelbe írt egész számokat adunk meg, akkor egy egész számokon végigmenő csúszkát kapunk:"
      ]
    },
    {
      "cell_type": "code",
      "metadata": {
        "id": "-bLVLrPZhHBs",
        "colab_type": "code",
        "colab": {
          "referenced_widgets": [
            "a5616a5da733401585864ebb667a1d32"
          ]
        },
        "outputId": "c90617c2-c419-49c2-fb2a-1cda67331a47"
      },
      "source": [
        "interact(func,x=(0,10)); "
      ],
      "execution_count": 0,
      "outputs": [
        {
          "output_type": "display_data",
          "data": {
            "application/vnd.jupyter.widget-view+json": {
              "model_id": "a5616a5da733401585864ebb667a1d32",
              "version_major": 2,
              "version_minor": 0
            },
            "text/plain": [
              "interactive(children=(IntSlider(value=5, description='x', max=10), Output()), _dom_classes=('widget-interact',…"
            ]
          },
          "metadata": {
            "tags": []
          }
        }
      ]
    },
    {
      "cell_type": "markdown",
      "metadata": {
        "id": "f4Ae524UhHBu",
        "colab_type": "text"
      },
      "source": [
        "Ha egy `bool` értéket adunk meg, akkor egy pipálható dobozt:"
      ]
    },
    {
      "cell_type": "code",
      "metadata": {
        "id": "A0Dw47O5hHBu",
        "colab_type": "code",
        "colab": {
          "referenced_widgets": [
            "6c64533b34554b9f84e6b996d87c9fc3"
          ]
        },
        "outputId": "cf38408e-6ebb-4593-8fc6-eb7956654b05"
      },
      "source": [
        "interact(func,x=False);"
      ],
      "execution_count": 0,
      "outputs": [
        {
          "output_type": "display_data",
          "data": {
            "application/vnd.jupyter.widget-view+json": {
              "model_id": "6c64533b34554b9f84e6b996d87c9fc3",
              "version_major": 2,
              "version_minor": 0
            },
            "text/plain": [
              "interactive(children=(Checkbox(value=False, description='x'), Output()), _dom_classes=('widget-interact',))"
            ]
          },
          "metadata": {
            "tags": []
          }
        }
      ]
    },
    {
      "cell_type": "markdown",
      "metadata": {
        "id": "1hNkKUA5hHBx",
        "colab_type": "text"
      },
      "source": [
        "Ha egy általános listát adunk meg, akkor egy legördülő menüt kapunk:"
      ]
    },
    {
      "cell_type": "code",
      "metadata": {
        "id": "0ZZE_0o8hHBx",
        "colab_type": "code",
        "colab": {
          "referenced_widgets": [
            "69849a2180c24d9c96d94beec0200977"
          ]
        },
        "outputId": "a9bef90e-9354-4ac5-d8bc-8a6efaf1fc64"
      },
      "source": [
        "interact(func,x=['hétfő','kedd','szerda']);"
      ],
      "execution_count": 0,
      "outputs": [
        {
          "output_type": "display_data",
          "data": {
            "application/vnd.jupyter.widget-view+json": {
              "model_id": "69849a2180c24d9c96d94beec0200977",
              "version_major": 2,
              "version_minor": 0
            },
            "text/plain": [
              "interactive(children=(Dropdown(description='x', options=('hétfő', 'kedd', 'szerda'), value='hétfő'), Output())…"
            ]
          },
          "metadata": {
            "tags": []
          }
        }
      ]
    },
    {
      "cell_type": "markdown",
      "metadata": {
        "id": "-rFmxKhrhHBz",
        "colab_type": "text"
      },
      "source": [
        "Ha a sima zárójelbe írt számok nem egészek (legalább az egyik) akkor egy float csúszkát kapunk:"
      ]
    },
    {
      "cell_type": "code",
      "metadata": {
        "id": "Jy4V4AGbhHB0",
        "colab_type": "code",
        "colab": {
          "referenced_widgets": [
            "3378d15f294d44858a00dcc95838e81c"
          ]
        },
        "outputId": "b45aaa17-b9bc-45c6-ad78-409ce4e86127"
      },
      "source": [
        "interact(func,x=(0,10,0.1));"
      ],
      "execution_count": 0,
      "outputs": [
        {
          "output_type": "display_data",
          "data": {
            "application/vnd.jupyter.widget-view+json": {
              "model_id": "3378d15f294d44858a00dcc95838e81c",
              "version_major": 2,
              "version_minor": 0
            },
            "text/plain": [
              "interactive(children=(FloatSlider(value=5.0, description='x', max=10.0), Output()), _dom_classes=('widget-inte…"
            ]
          },
          "metadata": {
            "tags": []
          }
        }
      ]
    },
    {
      "cell_type": "markdown",
      "metadata": {
        "id": "gyveHmM9hHB2",
        "colab_type": "text"
      },
      "source": [
        "Ha pontosan specifikálni szeretnénk, hogy milyen interaktivitást akarunk, akkor azt az alábbiak szerint tehetjük meg, \n",
        "\n",
        "\n",
        "egész csúszka$\\rightarrow$IntSlider()\n",
        "\n",
        "float csúszka$\\rightarrow$FloatSlider()\n",
        "\n",
        "legördülő menü$\\rightarrow$Dropdown()\n",
        "\n",
        "pipa doboz$\\rightarrow$Checkbox()\n",
        "\n",
        "szövegdoboz$\\rightarrow$Text()\n",
        "\n",
        "Ezt alább néhány példa illusztrálja:"
      ]
    },
    {
      "cell_type": "code",
      "metadata": {
        "id": "86ypizqghHB3",
        "colab_type": "code",
        "colab": {
          "referenced_widgets": [
            "403d226ae8604277a667b91a4373a9fd"
          ]
        },
        "outputId": "9de2911a-dca5-4323-fca9-bf912ca77251"
      },
      "source": [
        "import ipywidgets as widgets\n",
        "from ipywidgets import HBox, VBox\n",
        "import numpy as np\n",
        "import matplotlib.pyplot as plt\n",
        "from IPython.display import display\n",
        "%matplotlib inline\n",
        "\n",
        "@widgets.interact\n",
        "def f(x=5):\n",
        "    print(x)"
      ],
      "execution_count": 0,
      "outputs": [
        {
          "output_type": "display_data",
          "data": {
            "application/vnd.jupyter.widget-view+json": {
              "model_id": "403d226ae8604277a667b91a4373a9fd",
              "version_major": 2,
              "version_minor": 0
            },
            "text/plain": [
              "interactive(children=(IntSlider(value=5, description='x', max=15, min=-5), Output()), _dom_classes=('widget-in…"
            ]
          },
          "metadata": {
            "tags": []
          }
        }
      ]
    },
    {
      "cell_type": "code",
      "metadata": {
        "id": "dkmOdE3_hHB5",
        "colab_type": "code",
        "colab": {
          "referenced_widgets": [
            "0d26b5fe5f5c46cdb4fc7db464414f11"
          ]
        },
        "outputId": "076bba54-cdeb-4e48-9eeb-90698c9de80e"
      },
      "source": [
        "@widgets.interact(x=(0, 5))\n",
        "def f(x=5):\n",
        "    print(x)"
      ],
      "execution_count": 0,
      "outputs": [
        {
          "output_type": "display_data",
          "data": {
            "application/vnd.jupyter.widget-view+json": {
              "model_id": "0d26b5fe5f5c46cdb4fc7db464414f11",
              "version_major": 2,
              "version_minor": 0
            },
            "text/plain": [
              "interactive(children=(IntSlider(value=5, description='x', max=5), Output()), _dom_classes=('widget-interact',)…"
            ]
          },
          "metadata": {
            "tags": []
          }
        }
      ]
    },
    {
      "cell_type": "code",
      "metadata": {
        "id": "EZDD7--nhHB7",
        "colab_type": "code",
        "colab": {
          "referenced_widgets": [
            "9f7873190859496ca034b62aba232fab"
          ]
        },
        "outputId": "1964517c-5185-4f35-d5bf-8cdc747fc946"
      },
      "source": [
        "@widgets.interact_manual(\n",
        "    color=['blue', 'red', 'green'], lw=(1., 10.))\n",
        "def plot(freq=1., color='blue', lw=2, grid=True):\n",
        "    t = np.linspace(-1., +1., 1000)\n",
        "    fig, ax = plt.subplots(1, 1, figsize=(8, 6))\n",
        "    ax.plot(t, np.sin(2 * np.pi * freq * t),\n",
        "            lw=lw, color=color)\n",
        "    ax.grid(grid)"
      ],
      "execution_count": 0,
      "outputs": [
        {
          "output_type": "display_data",
          "data": {
            "application/vnd.jupyter.widget-view+json": {
              "model_id": "9f7873190859496ca034b62aba232fab",
              "version_major": 2,
              "version_minor": 0
            },
            "text/plain": [
              "interactive(children=(FloatSlider(value=1.0, description='freq', max=3.0, min=-1.0), Dropdown(description='col…"
            ]
          },
          "metadata": {
            "tags": []
          }
        }
      ]
    },
    {
      "cell_type": "code",
      "metadata": {
        "id": "UhYzm5x8hHB9",
        "colab_type": "code",
        "colab": {
          "referenced_widgets": [
            "d244ee8c7f444392b516321a99d6771f"
          ]
        },
        "outputId": "ce9d80b8-5dc3-4c3d-bb1f-de8f6b993713"
      },
      "source": [
        "freq_slider = widgets.FloatSlider(\n",
        "    value=2.,\n",
        "    min=1.,\n",
        "    max=10.0,\n",
        "    step=0.1,\n",
        "    description='Frequency:',\n",
        "    readout_format='.1f',\n",
        ")\n",
        "freq_slider"
      ],
      "execution_count": 0,
      "outputs": [
        {
          "output_type": "display_data",
          "data": {
            "application/vnd.jupyter.widget-view+json": {
              "model_id": "d244ee8c7f444392b516321a99d6771f",
              "version_major": 2,
              "version_minor": 0
            },
            "text/plain": [
              "FloatSlider(value=2.0, description='Frequency:', max=10.0, min=1.0, readout_format='.1f')"
            ]
          },
          "metadata": {
            "tags": []
          }
        }
      ]
    },
    {
      "cell_type": "code",
      "metadata": {
        "id": "A3x5HuPxhHB-",
        "colab_type": "code",
        "colab": {
          "referenced_widgets": [
            "10b0e023f11a49b9acdda27b0a5b74d6"
          ]
        },
        "outputId": "6e1ee50a-ee1a-4b9b-dc9c-1e197e5be7e8"
      },
      "source": [
        "color_buttons = widgets.ToggleButtons(\n",
        "    options=['blue', 'red', 'green'],\n",
        "    description='Color:',\n",
        ")\n",
        "color_buttons"
      ],
      "execution_count": 0,
      "outputs": [
        {
          "output_type": "display_data",
          "data": {
            "application/vnd.jupyter.widget-view+json": {
              "model_id": "10b0e023f11a49b9acdda27b0a5b74d6",
              "version_major": 2,
              "version_minor": 0
            },
            "text/plain": [
              "ToggleButtons(description='Color:', options=('blue', 'red', 'green'), value='blue')"
            ]
          },
          "metadata": {
            "tags": []
          }
        }
      ]
    },
    {
      "cell_type": "code",
      "metadata": {
        "id": "eyTkNvw4hHCA",
        "colab_type": "code",
        "colab": {
          "referenced_widgets": [
            "3ad4e588bfbf4849b970bcb9ddbd9123"
          ]
        },
        "outputId": "d4bc0015-7821-4fcc-b7a1-5eda5b007d92"
      },
      "source": [
        "color_picker = widgets.ColorPicker(\n",
        "    concise=True,\n",
        "    description='Background color:',\n",
        "    value='#efefef',\n",
        ")\n",
        "color_picker"
      ],
      "execution_count": 0,
      "outputs": [
        {
          "output_type": "display_data",
          "data": {
            "application/vnd.jupyter.widget-view+json": {
              "model_id": "3ad4e588bfbf4849b970bcb9ddbd9123",
              "version_major": 2,
              "version_minor": 0
            },
            "text/plain": [
              "ColorPicker(value='#efefef', concise=True, description='Background color:')"
            ]
          },
          "metadata": {
            "tags": []
          }
        }
      ]
    },
    {
      "cell_type": "code",
      "metadata": {
        "id": "e2UvNEFhhHCC",
        "colab_type": "code",
        "colab": {
          "referenced_widgets": [
            "144a395b236e4adca4dc4e3a25565317"
          ]
        },
        "outputId": "ec79864d-368c-4a22-bc1b-3dd26acb6958"
      },
      "source": [
        "## Komlex minta\n",
        "import ipywidgets as widgets\n",
        "from ipywidgets import HBox, VBox\n",
        "import numpy as np\n",
        "import matplotlib.pyplot as plt\n",
        "from IPython.display import display\n",
        "%matplotlib inline\n",
        "\n",
        "range_slider = widgets.FloatRangeSlider(\n",
        "    value=[-1., +1.],\n",
        "    min=-5., max=+5., step=0.1,\n",
        "    description='xlim:',\n",
        "    readout_format='.1f',\n",
        ")\n",
        "# range_slider\n",
        "\n",
        "title_textbox = widgets.Text(\n",
        "    value='Hello World',\n",
        "    description='Title:',\n",
        ")\n",
        "# title_textbox\n",
        "\n",
        "grid_button = widgets.ToggleButton(\n",
        "    value=False,\n",
        "    description='Grid',\n",
        "    icon='check'\n",
        ")\n",
        "# grid_button\n",
        "\n",
        "button = widgets.Button(\n",
        "    description='Plot',\n",
        ")\n",
        "#button\n",
        "\n",
        "color_picker = widgets.ColorPicker(\n",
        "    concise=True,\n",
        "    description='Background color:',\n",
        "    value='#efefef',\n",
        ")\n",
        "#color_picker\n",
        "\n",
        "def plot2(b=None):\n",
        "    xlim = range_slider.value\n",
        "    freq = freq_slider.value\n",
        "    grid = grid_button.value\n",
        "    color = color_buttons.value\n",
        "    title = title_textbox.value\n",
        "    bgcolor = color_picker.value\n",
        "\n",
        "    t = np.linspace(xlim[0], xlim[1], 1000)\n",
        "    f, ax = plt.subplots(1, 1, figsize=(8, 6))\n",
        "    ax.plot(t, np.sin(2 * np.pi * freq * t),\n",
        "            color=color)\n",
        "    ax.grid(grid)\n",
        "    \n",
        "@button.on_click\n",
        "def plot_on_click(b):\n",
        "    out.clear_output(wait=True)\n",
        "    with out:\n",
        "        plot2()\n",
        "        plt.show()\n",
        "        \n",
        "tab1 = VBox(children=[freq_slider,\n",
        "                      range_slider,\n",
        "                      ])\n",
        "tab2 = VBox(children=[color_buttons,\n",
        "                      HBox(children=[title_textbox,\n",
        "                                     color_picker,\n",
        "                                     grid_button]),\n",
        "                                     ])\n",
        "\n",
        "out = widgets.Output()\n",
        "tab = widgets.Tab(children=[tab1, tab2])\n",
        "tab.set_title(0, 'plot')\n",
        "tab.set_title(1, 'styling')\n",
        "VBox(children=[tab, button, out])"
      ],
      "execution_count": 0,
      "outputs": [
        {
          "output_type": "display_data",
          "data": {
            "application/vnd.jupyter.widget-view+json": {
              "model_id": "144a395b236e4adca4dc4e3a25565317",
              "version_major": 2,
              "version_minor": 0
            },
            "text/plain": [
              "VBox(children=(Tab(children=(VBox(children=(FloatSlider(value=2.0, description='Frequency:', max=10.0, min=1.0…"
            ]
          },
          "metadata": {
            "tags": []
          }
        }
      ]
    },
    {
      "cell_type": "markdown",
      "metadata": {
        "id": "TP7oiEE6hHCE",
        "colab_type": "text"
      },
      "source": [
        "\n",
        "$\\pi$ iteratív meghatározása \n",
        "\n"
      ]
    },
    {
      "cell_type": "code",
      "metadata": {
        "scrolled": true,
        "id": "_2_b0T3ThHCH",
        "colab_type": "code",
        "colab": {
          "referenced_widgets": [
            "6dfa080fa3364c2ca66367fd7a3c9ab0"
          ]
        },
        "outputId": "999c8484-7461-4def-9d04-8ad99d94885d"
      },
      "source": [
        "## interaktívvá tett függvény megjelenítés\n",
        "# Az alábbi paranccsal alapvető matplotlib és numpy függvényeket töltünk be.\n",
        "%pylab inline  \n",
        "%matplotlib inline\n",
        "\n",
        "\n",
        "from ipywidgets import interact\n",
        "\n",
        "def fun(n):\n",
        "    a=sqrt(2)\n",
        "    for i in range(1,n):\n",
        "        a=sqrt((1-sqrt(1-a**2/4))**2+a**2/4)\n",
        "    return a*2**n\n",
        "phi=linspace(0,pi/2,60)\n",
        "figsize(8,8)\n",
        "\n",
        "def geo(m=0):\n",
        "    plot([0,0,1],[1,0,0],color='black')\n",
        "    plot(cos(phi),sin(phi),lw=25,color='black')\n",
        "    p=linspace(0,pi/2,2**m+1)\n",
        "    plot([0,0,cos(p[1])],[1,0,sin(p[1])],color='black')\n",
        "    plot(cos(p[0::2]),sin(p[0::2]),'--',lw=4,color='gray')\n",
        "    plot(cos(p),sin(p),'o-',lw=8,color='red',ms=20,mec='red')\n",
        "    #\n",
        "    axes().set_aspect('equal')\n",
        "    xlim(-0.1,1.1)\n",
        "    ylim(-0.1,1.1)\n",
        "    axis('off');\n",
        "    #\n",
        "    text(0.7,0.95,r'$\\pi/2=$'+str(pi/2),fontsize=50)\n",
        "    text(0.7,0.8,r'$\\;\\,s=$'+str(fun(m+1)/2),fontsize=50,color='red')\n",
        "    if m==1:\n",
        "        text(0.5,-0.1,r'$1$',fontsize=50)\n",
        "        text(-0.1,0.5,r'$1$',fontsize=50)\n",
        "        text(0.5,0.6,r'$x$',fontsize=50)\n",
        "        text(0.1,0.35,r'$1-x$',fontsize=50)\n",
        "        text(0.5,0.2,r'$\\frac{a_{m-1}}{2}$',fontsize=50)\n",
        "        text(0.9,0.35,r'$a_m$',fontsize=50,color='red')\n",
        "        text(1.2,0.5,r'$a^2_{m-1}/4+(1-x)^2=1$',fontsize=50)\n",
        "        text(1.2,0.3,r'$a^2_{m-1}/4+x^2=a^2_m$',fontsize=50)\n",
        "        text(1.2,0.1,r'$s=2^m a_m$',fontsize=50,color='red')\n",
        "    elif m==10:\n",
        "        text(1.1,0.4,r'$\\lim_{m\\rightarrow\\infty} \\left (2^m a_m\\right)=\\pi/2 $',fontsize=60,color='magenta')\n",
        "    \n",
        "interact(geo,m=(0,17))"
      ],
      "execution_count": 0,
      "outputs": [
        {
          "output_type": "stream",
          "text": [
            "Populating the interactive namespace from numpy and matplotlib\n"
          ],
          "name": "stdout"
        },
        {
          "output_type": "display_data",
          "data": {
            "application/vnd.jupyter.widget-view+json": {
              "model_id": "6dfa080fa3364c2ca66367fd7a3c9ab0",
              "version_major": 2,
              "version_minor": 0
            },
            "text/plain": [
              "interactive(children=(IntSlider(value=0, description='m', max=17), Output()), _dom_classes=('widget-interact',…"
            ]
          },
          "metadata": {
            "tags": []
          }
        },
        {
          "output_type": "execute_result",
          "data": {
            "text/plain": [
              "<function __main__.geo(m=0)>"
            ]
          },
          "metadata": {
            "tags": []
          },
          "execution_count": 41
        }
      ]
    },
    {
      "cell_type": "code",
      "metadata": {
        "id": "xzrhNmwEhHCK",
        "colab_type": "code",
        "colab": {}
      },
      "source": [
        ""
      ],
      "execution_count": 0,
      "outputs": []
    }
  ]
}