{
  "nbformat": 4,
  "nbformat_minor": 0,
  "metadata": {
    "kernelspec": {
      "display_name": "Python 3",
      "language": "python",
      "name": "python3"
    },
    "language_info": {
      "codemirror_mode": {
        "name": "ipython",
        "version": 3
      },
      "file_extension": ".py",
      "mimetype": "text/x-python",
      "name": "python",
      "nbconvert_exporter": "python",
      "pygments_lexer": "ipython3",
      "version": "3.7.4"
    },
    "colab": {
      "name": "kl_py_rendezesek.ipynb",
      "provenance": [],
      "collapsed_sections": [],
      "toc_visible": true,
      "include_colab_link": true
    }
  },
  "cells": [
    {
      "cell_type": "markdown",
      "metadata": {
        "id": "view-in-github",
        "colab_type": "text"
      },
      "source": [
        "<a href=\"https://colab.research.google.com/github/klajosw/python/blob/master/kl_py_rendezesek.ipynb\" target=\"_parent\"><img src=\"https://colab.research.google.com/assets/colab-badge.svg\" alt=\"Open In Colab\"/></a>"
      ]
    },
    {
      "cell_type": "markdown",
      "metadata": {
        "id": "PRQPSCChriLE",
        "colab_type": "text"
      },
      "source": [
        "## Rendezések pythonnal"
      ]
    },
    {
      "cell_type": "code",
      "metadata": {
        "id": "DdpzXAonriLH",
        "colab_type": "code",
        "colab": {
          "base_uri": "https://localhost:8080/",
          "height": 52
        },
        "outputId": "e48e8c60-e036-4600-b0c4-deaa8f8a4add"
      },
      "source": [
        "## merge_sort\n",
        "def merge_sort(collection):\n",
        "    \"\"\"A merge_sort algoritmus tiszta megvalósítása Pythonban\n",
        "    :Bemenet rendezettlen lista\n",
        "    :visszatérés: növekvő sorrendű rendezés\n",
        "    :Használat minta:    >>> merge_sort([0, 5, 3,-42, 2, -2, -15])\n",
        "    \"\"\"\n",
        "    length = len(collection)\n",
        "    if length > 1:\n",
        "        midpoint = length // 2\n",
        "        left_half = merge_sort(collection[:midpoint])\n",
        "        right_half = merge_sort(collection[midpoint:])\n",
        "        i = 0\n",
        "        j = 0\n",
        "        k = 0\n",
        "        left_length = len(left_half)\n",
        "        right_length = len(right_half)\n",
        "        while i < left_length and j < right_length:\n",
        "            if left_half[i] < right_half[j]:\n",
        "                collection[k] = left_half[i]\n",
        "                i += 1\n",
        "            else:\n",
        "                collection[k] = right_half[j]\n",
        "                j += 1\n",
        "            k += 1\n",
        "\n",
        "        while i < left_length:\n",
        "            collection[k] = left_half[i]\n",
        "            i += 1\n",
        "            k += 1\n",
        "\n",
        "        while j < right_length:\n",
        "            collection[k] = right_half[j]\n",
        "            j += 1\n",
        "            k += 1\n",
        "\n",
        "    return collection\n",
        "\n",
        "unsorted =[81, 42, 0, 5, 3, 2, 2, 0,-1, -12, -52, 0, 5, 3,-42, 2, -2, -15]\n",
        "print(\"Rendezés után : \")\n",
        "print( merge_sort(unsorted))"
      ],
      "execution_count": 32,
      "outputs": [
        {
          "output_type": "stream",
          "text": [
            "Rendezés után : \n",
            "[-52, -42, -15, -12, -2, -1, 0, 0, 0, 2, 2, 2, 3, 3, 5, 5, 42, 81]\n"
          ],
          "name": "stdout"
        }
      ]
    },
    {
      "cell_type": "code",
      "metadata": {
        "id": "p4yWX9tBt4ej",
        "colab_type": "code",
        "colab": {
          "base_uri": "https://localhost:8080/",
          "height": 52
        },
        "outputId": "98c56356-3764-4f96-e549-976d691df6e8"
      },
      "source": [
        "## merge_sort_fastest\n",
        "    \"\"\"A merge_sort_fastest algoritmus tiszta megvalósítása Pythonban\n",
        "    :Bemenet rendezettlen lista\n",
        "    :visszatérés: növekvő sorrendű rendezés\n",
        "    :Használat minta:    >>> merge_sort_ft([0, 5, 3,-42, 2, -2, -15])\n",
        "    \"\"\"\n",
        "def merge_sort_ft(LIST):\n",
        "  start = []\n",
        "  end = []\n",
        "  while len(LIST) > 1:\n",
        "        a = min(LIST)\n",
        "        b = max(LIST)\n",
        "        start.append(a)\n",
        "        end.append(b)\n",
        "        LIST.remove(a)\n",
        "        LIST.remove(b)\n",
        "  if LIST: start.append(LIST[0])\n",
        "  end.reverse()\n",
        "  return (start + end)\n",
        "\n",
        "unsorted =[81, 42, 0, 5, 3, 2, 2, 0,-1, -12, -52, 0, 5, 3,-42, 2, -2, -15]\n",
        "print(\"Rendezés után : \")\n",
        "print(merge_sort_ft(unsorted))"
      ],
      "execution_count": 31,
      "outputs": [
        {
          "output_type": "stream",
          "text": [
            "Rendezés után : \n",
            "[-52, -42, -15, -12, -2, -1, 0, 0, 0, 2, 2, 2, 3, 3, 5, 5, 42, 81]\n"
          ],
          "name": "stdout"
        }
      ]
    },
    {
      "cell_type": "code",
      "metadata": {
        "id": "Za54akNvuQQy",
        "colab_type": "code",
        "colab": {
          "base_uri": "https://localhost:8080/",
          "height": 52
        },
        "outputId": "1c3676cb-554b-47b5-fe83-e760c5dcc897"
      },
      "source": [
        "def quick_sort(ARRAY):\n",
        "    \"\"\"A quick_sort algoritmus tiszta megvalósítása Pythonban\n",
        "    :Bemenet rendezettlen lista\n",
        "    :visszatérés: növekvő sorrendű rendezés\n",
        "    :Használat minta:    >>> quick_sort([0, 5, 3,-42, 2, -2, -15])\n",
        "    \"\"\"\n",
        "    ARRAY_LENGTH = len(ARRAY)\n",
        "    if( ARRAY_LENGTH <= 1):\n",
        "        return ARRAY\n",
        "    else:\n",
        "        PIVOT = ARRAY[0]\n",
        "        GREATER = [ element for element in ARRAY[1:] if element > PIVOT ]\n",
        "        LESSER = [ element for element in ARRAY[1:] if element <= PIVOT ]\n",
        "        return quick_sort(LESSER) + [PIVOT] + quick_sort(GREATER)\n",
        "\n",
        "unsorted =[81, 42, 0, 5, 3, 2, 2, 0,-1, -12, -52, 0, 5, 3,-42, 2, -2, -15]\n",
        "print(\"Rendezés után : \")\n",
        "print(quick_sort(unsorted))\n"
      ],
      "execution_count": 25,
      "outputs": [
        {
          "output_type": "stream",
          "text": [
            "Rendezés után : \n",
            "[-52, -42, -15, -12, -2, -1, 0, 0, 0, 2, 2, 2, 3, 3, 5, 5, 42, 81]\n"
          ],
          "name": "stdout"
        }
      ]
    },
    {
      "cell_type": "code",
      "metadata": {
        "id": "sttdLl7Quqz7",
        "colab_type": "code",
        "colab": {
          "base_uri": "https://localhost:8080/",
          "height": 52
        },
        "outputId": "ce7adbdb-2038-4585-bd21-e10ccd46f823"
      },
      "source": [
        "def quick_sort_3partition(sorting, left, right):\n",
        "    \"\"\"A quick_sort_3partition algoritmus tiszta megvalósítása Pythonban\n",
        "    :Bemenet rendezettlen lista\n",
        "    :visszatérés: növekvő sorrendű rendezés\n",
        "    :Használat minta:    >>> quick_sort_3partition([0, 5, 3,-42, 2, -2, -15])\n",
        "    \"\"\"\n",
        "    if right <= left:\n",
        "        return sorting\n",
        "    a = i = left\n",
        "    b = right\n",
        "    pivot = sorting[left]\n",
        "    while i <= b:\n",
        "        if sorting[i] < pivot:\n",
        "            sorting[a], sorting[i] = sorting[i], sorting[a]\n",
        "            a += 1\n",
        "            i += 1\n",
        "        elif sorting[i] > pivot:\n",
        "            sorting[b], sorting[i] = sorting[i], sorting[b]\n",
        "            b -= 1\n",
        "        else:\n",
        "            i += 1\n",
        "    quick_sort_3partition(sorting, left, a - 1)\n",
        "    quick_sort_3partition(sorting, b + 1, right)\n",
        "\n",
        "unsorted =[81, 42, 0, 5, 3, 2, 2, 0,-1, -12, -52, 0, 5, 3,-42, 2, -2, -15]\n",
        "quick_sort_3partition(unsorted,0,len(unsorted)-1)\n",
        "print(\"Rendezés után : \")\n",
        "print(unsorted)"
      ],
      "execution_count": 24,
      "outputs": [
        {
          "output_type": "stream",
          "text": [
            "Rendezés után : \n",
            "[-52, -42, -15, -12, -2, -1, 0, 0, 0, 2, 2, 2, 3, 3, 5, 5, 42, 81]\n"
          ],
          "name": "stdout"
        }
      ]
    },
    {
      "cell_type": "code",
      "metadata": {
        "id": "0D_jMIddxHM8",
        "colab_type": "code",
        "colab": {
          "base_uri": "https://localhost:8080/",
          "height": 52
        },
        "outputId": "6e1daaa7-13fb-4f35-da3e-7d19067863b5"
      },
      "source": [
        "\n",
        "def cycle_sort(array):\n",
        "    ans = 0\n",
        "\n",
        "    # Pass through the array to find cycles to rotate.\n",
        "    for cycleStart in range(0, len(array) - 1):\n",
        "        item = array[cycleStart]\n",
        "\n",
        "        # finding the position for putting the item.\n",
        "        pos = cycleStart\n",
        "        for i in range(cycleStart + 1, len(array)):\n",
        "            if array[i] < item:\n",
        "                pos += 1\n",
        "\n",
        "        # If the item is already present-not a cycle.\n",
        "        if pos == cycleStart:\n",
        "            continue\n",
        "\n",
        "        # Otherwise, put the item there or right after any duplicates.\n",
        "        while item == array[pos]:\n",
        "            pos += 1\n",
        "        array[pos], item = item, array[pos]\n",
        "        ans += 1\n",
        "\n",
        "        # Rotate the rest of the cycle.\n",
        "        while pos != cycleStart:\n",
        "\n",
        "            # Find where to put the item.\n",
        "            pos = cycleStart\n",
        "            for i in range(cycleStart + 1, len(array)):\n",
        "                if array[i] < item:\n",
        "                    pos += 1\n",
        "\n",
        "            # Put the item there or right after any duplicates.\n",
        "            while item == array[pos]:\n",
        "                pos += 1\n",
        "            array[pos], item = item, array[pos]\n",
        "            ans += 1\n",
        "\n",
        "    return ans\n",
        "\n",
        "unsorted =[81, 42, 0, 5, 3, 2, 2, 0,-1, -12, -52, 0, 5, 3,-42, 2, -2, -15]\n",
        "n = len(unsorted)\n",
        "cycle_sort(unsorted)\n",
        "\n",
        "print(\"Rendezés után : \")\n",
        "for i in range(0, n):\n",
        "    print(unsorted[i], end=' ')"
      ],
      "execution_count": 33,
      "outputs": [
        {
          "output_type": "stream",
          "text": [
            "Rendezés után : \n",
            "-52 -42 -15 -12 -2 -1 0 0 0 2 2 2 3 3 5 5 42 81 "
          ],
          "name": "stdout"
        }
      ]
    },
    {
      "cell_type": "code",
      "metadata": {
        "id": "yciVVk0qriLJ",
        "colab_type": "code",
        "colab": {
          "base_uri": "https://localhost:8080/",
          "height": 52
        },
        "outputId": "ce22e632-1c35-48b9-df0e-d480e88e94a7"
      },
      "source": [
        "## bubble_sort\n",
        "def bubble_sort(collection):\n",
        "    \"\"\"A bubble_sort algoritmus tiszta megvalósítása Pythonban\n",
        "    :Bemenet rendezettlen lista\n",
        "    :visszatérés: növekvő sorrendű rendezés\n",
        "    :Használat minta:    >>> bubble_sort([0, 5, 3,-42, 2, -2, -15])\n",
        "    \"\"\"\n",
        "    length = len(collection)\n",
        "    for i in range(length-1):\n",
        "        swapped = False\n",
        "        for j in range(length-1-i):\n",
        "            if collection[j] > collection[j+1]:\n",
        "                swapped = True\n",
        "                collection[j], collection[j+1] = collection[j+1], collection[j]\n",
        "        if not swapped: break  # Stop iteration if the collection is sorted.\n",
        "    return collection\n",
        "\n",
        "\n",
        "unsorted =[81, 42, 0, 5, 3, 2, 2, 0,-1, -12, -52, 0, 5, 3,-42, 2, -2, -15]\n",
        "print(\"Rendezés után : \")\n",
        "print(bubble_sort(unsorted))\n"
      ],
      "execution_count": 34,
      "outputs": [
        {
          "output_type": "stream",
          "text": [
            "Rendezés után : \n",
            "[-52, -42, -15, -12, -2, -1, 0, 0, 0, 2, 2, 2, 3, 3, 5, 5, 42, 81]\n"
          ],
          "name": "stdout"
        }
      ]
    },
    {
      "cell_type": "code",
      "metadata": {
        "id": "mmyDTlugriLN",
        "colab_type": "code",
        "colab": {
          "base_uri": "https://localhost:8080/",
          "height": 52
        },
        "outputId": "0846fde8-4c56-49db-99ae-47b5081ddf2e"
      },
      "source": [
        "## bucketSort\n",
        "# from insertion_sort import insertion_sort\n",
        "import math\n",
        "\n",
        "DEFAULT_BUCKET_SIZE = 5\n",
        "\n",
        "def bucketSort(myList, bucketSize=DEFAULT_BUCKET_SIZE):\n",
        "    if(len(myList) == 0):\n",
        "        print('You don\\'t have any elements in array!')\n",
        "\n",
        "    minValue = myList[0]\n",
        "    maxValue = myList[0]\n",
        "\n",
        "    # For finding minimum and maximum values\n",
        "    for i in range(0, len(myList)):\n",
        "        if myList[i] < minValue:\n",
        "            minValue = myList[i]\n",
        "        elif myList[i] > maxValue:\n",
        "            maxValue = myList[i]\n",
        "\n",
        "    # Initialize buckets\n",
        "    bucketCount = math.floor((maxValue - minValue) / bucketSize) + 1\n",
        "    buckets = []\n",
        "    for i in range(0, bucketCount):\n",
        "        buckets.append([])\n",
        "\n",
        "    # For putting values in buckets\n",
        "    for i in range(0, len(myList)):\n",
        "        buckets[math.floor((myList[i] - minValue) / bucketSize)].append(myList[i])\n",
        "\n",
        "    # Sort buckets and place back into input array\n",
        "    sortedArray = []\n",
        "    for i in range(0, len(buckets)):\n",
        "        insertion_sort(buckets[i])\n",
        "        for j in range(0, len(buckets[i])):\n",
        "            sortedArray.append(buckets[i][j])\n",
        "\n",
        "    return sortedArray\n",
        "\n",
        "unsorted =[81, 42, 0, 5, 3, 2, 2, 0,-1, -12, -52, 0, 5, 3,-42, 2, -2, -15]\n",
        "print(\"Rendezés után : \")\n",
        "print(bucketSort(unsorted))\n"
      ],
      "execution_count": 35,
      "outputs": [
        {
          "output_type": "stream",
          "text": [
            "Rendezés után : \n",
            "[-52, -42, -15, -12, -2, -1, 0, 0, 0, 2, 2, 2, 3, 3, 5, 5, 42, 81]\n"
          ],
          "name": "stdout"
        }
      ]
    },
    {
      "cell_type": "code",
      "metadata": {
        "id": "ZXah2I2GsJDg",
        "colab_type": "code",
        "colab": {
          "base_uri": "https://localhost:8080/",
          "height": 52
        },
        "outputId": "77d84c63-fbcb-4c29-e217-c643be582b93"
      },
      "source": [
        "def insertion_sort(collection):\n",
        "    \"\"\"A insertion_sort algoritmus tiszta megvalósítása Pythonban\n",
        "    :Bemenet rendezettlen lista\n",
        "    :visszatérés: növekvő sorrendű rendezés\n",
        "    :Használat minta:    >>> insertion_sort([0, 5, 3,-42, 2, -2, -15])\n",
        "    \"\"\"\n",
        "    for index in range(1, len(collection)):\n",
        "        while index > 0 and collection[index - 1] > collection[index]:\n",
        "            collection[index], collection[index - 1] = collection[index - 1], collection[index]\n",
        "            index -= 1\n",
        "\n",
        "    return collection\n",
        "\n",
        "unsorted =[81, 42, 0, 5, 3, 2, 2, 0,-1, -12, -52, 0, 5, 3,-42, 2, -2, -15]\n",
        "print(\"Rendezés után : \")\n",
        "print(insertion_sort(unsorted))"
      ],
      "execution_count": 36,
      "outputs": [
        {
          "output_type": "stream",
          "text": [
            "Rendezés után : \n",
            "[-52, -42, -15, -12, -2, -1, 0, 0, 0, 2, 2, 2, 3, 3, 5, 5, 42, 81]\n"
          ],
          "name": "stdout"
        }
      ]
    },
    {
      "cell_type": "code",
      "metadata": {
        "id": "F2yWYX8DriLP",
        "colab_type": "code",
        "colab": {
          "base_uri": "https://localhost:8080/",
          "height": 52
        },
        "outputId": "1ef85fa3-74a5-49a2-b1d6-3dce18c55da3"
      },
      "source": [
        "## cocktail_shaker_sort\n",
        "\n",
        "def cocktail_shaker_sort(unsorted):\n",
        "    \"\"\"A cocktail_shaker_sort algoritmus tiszta megvalósítása Pythonban\n",
        "    :Bemenet rendezettlen lista\n",
        "    :visszatérés: növekvő sorrendű rendezés\n",
        "    :Használat minta:    >>> cocktail_shaker_sort([0, 5, 3,-42, 2, -2, -15])\n",
        "    \"\"\"\n",
        "    for i in range(len(unsorted)-1, 0, -1):\n",
        "        swapped = False\n",
        "        \n",
        "        for j in range(i, 0, -1):\n",
        "            if unsorted[j] < unsorted[j-1]:\n",
        "                unsorted[j], unsorted[j-1] = unsorted[j-1], unsorted[j]\n",
        "                swapped = True\n",
        "\n",
        "        for j in range(i):\n",
        "            if unsorted[j] > unsorted[j+1]:\n",
        "                unsorted[j], unsorted[j+1] = unsorted[j+1], unsorted[j]\n",
        "                swapped = True\n",
        "        \n",
        "        if not swapped:\n",
        "            return unsorted\n",
        "            \n",
        "unsorted =[81, 42, 0, 5, 3, 2, 2, 0,-1, -12, -52, 0, 5, 3,-42, 2, -2, -15]\n",
        "print(\"Rendezés után : \")\n",
        "print(cocktail_shaker_sort(unsorted))"
      ],
      "execution_count": 37,
      "outputs": [
        {
          "output_type": "stream",
          "text": [
            "Rendezés után : \n",
            "[-52, -42, -15, -12, -2, -1, 0, 0, 0, 2, 2, 2, 3, 3, 5, 5, 42, 81]\n"
          ],
          "name": "stdout"
        }
      ]
    },
    {
      "cell_type": "code",
      "metadata": {
        "id": "mKX_FtCHriLR",
        "colab_type": "code",
        "colab": {
          "base_uri": "https://localhost:8080/",
          "height": 52
        },
        "outputId": "857fd5d9-93cb-4e72-a8ab-4cb52738243b"
      },
      "source": [
        "\n",
        "def counting_sort(collection):\n",
        "    \"\"\"A counting_sort algoritmus tiszta megvalósítása Pythonban\n",
        "    :Bemenet rendezettlen lista\n",
        "    :visszatérés: növekvő sorrendű rendezés\n",
        "    :Használat minta:    >>> counting_sort([0, 5, 3,-42, 2, -2, -15])\n",
        "    \"\"\"\n",
        "    # if the collection is empty, returns empty\n",
        "    if collection == []:\n",
        "        return []\n",
        "\n",
        "    # get some information about the collection\n",
        "    coll_len = len(collection)\n",
        "    coll_max = max(collection)\n",
        "    coll_min = min(collection)\n",
        "\n",
        "    # create the counting array\n",
        "    counting_arr_length = coll_max + 1 - coll_min\n",
        "    counting_arr = [0] * counting_arr_length\n",
        "\n",
        "    # count how much a number appears in the collection\n",
        "    for number in collection:\n",
        "        counting_arr[number - coll_min] += 1\n",
        "\n",
        "    # sum each position with it's predecessors. now, counting_arr[i] tells\n",
        "    # us how many elements <= i has in the collection\n",
        "    for i in range(1, counting_arr_length):\n",
        "        counting_arr[i] = counting_arr[i] + counting_arr[i-1]\n",
        "\n",
        "    # create the output collection\n",
        "    ordered = [0] * coll_len\n",
        "\n",
        "    # place the elements in the output, respecting the original order (stable\n",
        "    # sort) from end to begin, updating counting_arr\n",
        "    for i in reversed(range(0, coll_len)):\n",
        "        ordered[counting_arr[collection[i] - coll_min]-1] = collection[i]\n",
        "        counting_arr[collection[i] - coll_min] -= 1\n",
        "\n",
        "    return ordered\n",
        "\n",
        "\n",
        "\n",
        "unsorted =[81, 42, 0, 5, 3, 2, 2, 0,-1, -12, -52, 0, 5, 3,-42, 2, -2, -15]\n",
        "print(\"Rendezés után : \")\n",
        "print(counting_sort(unsorted))"
      ],
      "execution_count": 39,
      "outputs": [
        {
          "output_type": "stream",
          "text": [
            "Rendezés után : \n",
            "[-52, -42, -15, -12, -2, -1, 0, 0, 0, 2, 2, 2, 3, 3, 5, 5, 42, 81]\n"
          ],
          "name": "stdout"
        }
      ]
    }
  ]
}