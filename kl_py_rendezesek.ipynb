{
  "cells": [
    {
      "cell_type": "markdown",
      "metadata": {
        "id": "view-in-github",
        "colab_type": "text"
      },
      "source": [
        "<a href=\"https://colab.research.google.com/github/klajosw/python/blob/master/kl_py_rendezesek.ipynb\" target=\"_parent\"><img src=\"https://colab.research.google.com/assets/colab-badge.svg\" alt=\"Open In Colab\"/></a>"
      ]
    },
    {
      "cell_type": "markdown",
      "metadata": {
        "id": "5GVKVzbT2vSo"
      },
      "source": [
        "<p align=\"left\"> \n",
        "    <img src=\"https://raw.githubusercontent.com/klajosw/python/master/kl_mie_python_logo_250.jpg\" \n",
        "         align=\"left\" width=\"251\" height=\"251\">\n",
        "    \n",
        "</p>\n",
        "\n",
        "\n",
        "<p> </p>\n",
        "\n",
        "\n",
        "\n",
        "# Python rendezések\n",
        "\n",
        "<https://klajosw.blogspot.com/>\n",
        "\n",
        "\n",
        "---"
      ]
    },
    {
      "cell_type": "markdown",
      "metadata": {
        "id": "vx67m_3Y2vSt"
      },
      "source": [
        "---\n",
        "\n",
        "# Cserés rendezés (listán)\n",
        "\n",
        "A külső for-ciklus indexek szerint végigjárja a listát az elejétől a vége előttig, a belső meg minden esetben az épp aktuális indextől a végéig. Az külső és a belső ciklus épp aktuális elemét összehasonlítjuk\n",
        "\n",
        "---\n"
      ]
    },
    {
      "cell_type": "code",
      "execution_count": 3,
      "metadata": {
        "scrolled": true,
        "colab": {
          "base_uri": "https://localhost:8080/"
        },
        "id": "LiyoPEte2vSu",
        "outputId": "1e433050-b200-4c9b-c9e8-61a35b8b13d8"
      },
      "outputs": [
        {
          "output_type": "stream",
          "name": "stdout",
          "text": [
            "CPU times: user 3 µs, sys: 1 µs, total: 4 µs\n",
            "Wall time: 7.63 µs\n",
            "Sorrendben ( 0.0003952980041503906 mp) : [1, 2, 3, 4, 5, 6, 7, 8, 9, 11, 12, 13, 14, 15, 16, 17, 17, 19, 19, 20, 42]\n"
          ]
        }
      ],
      "source": [
        "%time                                              \n",
        "## írja ki a végén futásidőt (első sorba kell lennie)\n",
        "## cserés rendezés (Listán)\n",
        "import time\n",
        "start_time = time.time()                             ## számoljuk a futásidőt\n",
        "\n",
        "lista = [2, 11, 4, 6, 5, 17, 3, 9, 1, 19, 7, 42, 14, 19, 12, 8, 13, 17, 15, 16, 20]\n",
        " \n",
        "for i in range(len(lista)-1):                         ## végig léptetés\n",
        "    for j in range(i+1, len(lista)):                  ## aktuálistól a végéig léptet\n",
        "        if lista[i] > lista [j]:                      ## összehasonlít\n",
        "            lista[i], lista[j] = lista[j], lista[i]   ## csere\n",
        "\n",
        "print(\"Sorrendben ( %s mp) :\" % (time.time() - start_time) , lista)\n"
      ]
    },
    {
      "cell_type": "markdown",
      "metadata": {
        "id": "K4JmEqbY2vSw"
      },
      "source": [
        "---\n",
        "\n",
        "## RENDEZÉS A MINIMUM KIVÁLASZTÁSÁVAL \n",
        "\n",
        "Egy   módosítható   és   indexelhető   objektumot   fogunk   rendezni.   Az   első   lépésben   kiválasztjuk   \n",
        "a   legkisebbelemet és az objektum 0-s indexű pozíciójába írjuk, a második lépésben a második legkisebbet keressük meg\n",
        "és írjuk az 1-es indexű helyre stb. A k-adik lépésben már az első k darab legkisebb elem a helyén van, \n",
        "elegendő a következő legkisebbet a  k+1-es és magasabb indexűek között keresni\n",
        "\n",
        "---"
      ]
    },
    {
      "cell_type": "code",
      "execution_count": 4,
      "metadata": {
        "colab": {
          "base_uri": "https://localhost:8080/"
        },
        "id": "fUd7_pxA2vSw",
        "outputId": "ececfb5d-b15e-4da9-a9d1-f6c6e8f85efa"
      },
      "outputs": [
        {
          "output_type": "stream",
          "name": "stdout",
          "text": [
            "CPU times: user 2 µs, sys: 0 ns, total: 2 µs\n",
            "Wall time: 5.48 µs\n",
            "Sorrendben ( 0.0004265308380126953 mp) : [1, 2, 3, 4, 5, 6, 7, 8, 9, 11, 12, 13, 14, 15, 16, 17, 17, 19, 19, 20, 42]\n"
          ]
        }
      ],
      "source": [
        "%time        \n",
        "## írja ki a végén futásidőt (első sorba kell lennie)\n",
        "## Minimum kiválasztásal történő rendezés\n",
        "import time\n",
        "start_time = time.time()   \n",
        "\n",
        "lista = [2, 11, 4, 6, 5, 17, 3, 9, 1, 19, 7, 42, 14, 19, 12, 8, 13, 17, 15, 16, 20]\n",
        "N =len(lista)\n",
        "for k in range(0,N-1):\n",
        "    minindex=k\n",
        "    for i in range(k+1,N):\n",
        "        if lista[i] < lista[minindex]:\n",
        "            minindex=i\n",
        "    lista[k],lista[minindex]=lista[minindex],lista[k]\n",
        "    \n",
        "print(\"Sorrendben ( %s mp) :\" % (time.time() - start_time) , lista)\n",
        "    "
      ]
    },
    {
      "cell_type": "markdown",
      "metadata": {
        "id": "nl3zUpT_2vSx"
      },
      "source": [
        "---\n",
        "\n",
        "## Rendezés beszúrással\n",
        "\n",
        "Az algoritmusban az objektumot két tartományra bontva képzeljük el: az„alsó” tartományban, a 0-s indextől kezdve az elemek „valameddig” már rendezve vannak, a „felső” tartománymég rendezetlen. Ekkor vesszük a „felső” tartomány „legalsó” elemét, aminek az értéke bármilyen nagy vagykicsi is lehet, és megnézzük, hogy az alsó rendezett tartományba hová szúrhatjuk be, hogy ott a rendezettségfenn is maradjon. A beszúrás helye a már rendezett tartományt két részre bontja: az alsó részt változatlanulhagyjuk,   utána   beírjuk   a   beszúrandó   elemet,   de   előtte   a   felső   részt   „feltoljuk”   egy   pozícióval,   hogy   az   a beszúrandó   elem   eredeti   helyét,   ami   még   a   rendezetlen   tartományban   van,   magába   foglalja.   \n",
        "Így   a   felsőrendezetlen tartomány eggyel kevesebb elemmel fog bírni, és az eljárást ismételve az egész objektum rendezettlesz. \n",
        "A külső (k) ciklus az 1-es indexel kezdődik, mert úgy vesszük, hogy a 0-s indexű elem önmagában már egyrendezett tartományt képez.   A beszúrás helye fölötti rendezett rész eltolását nem egyben végezzük, hanemegyesével, mert ezt megtehetjük lépésenként, amikor a beillesztendő elem új helyét keressük, és így nem kellkétszer bejárni ezt a részt.      A   jobb   oldali   algoritmusban   nem   emeljük   ki   a   beszúrandó   elemet   (például   egy  T  változóba),   hanem   alépésenkénti   összehasonlítás   során   megcseréljük   a   nála   nagyobbakkal,   azaz   az   eljárást   akár   egyfajta  cserélőalgoritmusnak is nevezhetjük.\n",
        "\n",
        "---"
      ]
    },
    {
      "cell_type": "code",
      "execution_count": 5,
      "metadata": {
        "colab": {
          "base_uri": "https://localhost:8080/"
        },
        "id": "Q5EFBkN12vSy",
        "outputId": "c771853b-8936-4001-eb56-4666142f7156"
      },
      "outputs": [
        {
          "output_type": "stream",
          "name": "stdout",
          "text": [
            "CPU times: user 2 µs, sys: 1e+03 ns, total: 3 µs\n",
            "Wall time: 5.01 µs\n",
            "Sorrendben ( 0.00039267539978027344 mp) : [1, 2, 3, 4, 5, 6, 7, 8, 9, 11, 12, 13, 14, 15, 16, 17, 17, 19, 19, 20, 42]\n"
          ]
        }
      ],
      "source": [
        "%time  \n",
        "## Rendezés beszúrással\n",
        "## írja ki a végén futásidőt (első sorba kell lennie)\n",
        "import time\n",
        "start_time = time.time()   \n",
        "\n",
        "lista = [2, 11, 4, 6, 5, 17, 3, 9, 1, 19, 7, 42, 14, 19, 12, 8, 13, 17, 15, 16, 20]\n",
        "N=len(lista)\n",
        "for k in range(1,N):\n",
        "    i=k-1\n",
        "    while i>=0 and lista[i+1] < lista[i]:\n",
        "        lista[i], lista[i+1] = lista[i+1], lista[i]\n",
        "        i=i-1\n",
        "        \n",
        "print(\"Sorrendben ( %s mp) :\" % (time.time() - start_time) , lista)"
      ]
    },
    {
      "cell_type": "markdown",
      "metadata": {
        "id": "p__WQOE32vSz"
      },
      "source": [
        "---\n",
        "\n",
        "## Buborék rendezés\n",
        "\n",
        "Minden lépésben egy elemet a helyére viszünk, az első lépésben a legnagyobbelemet, \n",
        "a másodikban a második  legnagyobbat  stb. Így a  k-adik   lépés  után az objektum  \n",
        "legnagyobb első  keleme már a helyén lesz, és ha  N  elem van, akkor a külső ciklust  \n",
        "N-szer kell végrehajtani. A belső ciklusbanmindig   a   0-ás   elemtől   indulunk   \n",
        "(technikailag   a  range  az  i=1-től   kezdődik,   de   utána  A[i-1]-re   történikhivatkozás),   \n",
        "amelyet   összehasonlítunk   a   következővel,   és   ha   az   előbbi   a   nagyobb,   \n",
        "akkor   megcseréljük   őket,majd ezt folytatjuk az 1-es és a 2-es indexűekkel stb. \n",
        "Így mindig a nagyobb elem száll felfelé, mint egy buborék\n",
        "\n",
        "---"
      ]
    },
    {
      "cell_type": "code",
      "execution_count": 7,
      "metadata": {
        "colab": {
          "base_uri": "https://localhost:8080/"
        },
        "id": "0GFFQm342vSz",
        "outputId": "bbbb4b94-e099-46d8-ecaa-a0d43f61c97f"
      },
      "outputs": [
        {
          "output_type": "stream",
          "name": "stdout",
          "text": [
            "CPU times: user 4 µs, sys: 1 µs, total: 5 µs\n",
            "Wall time: 9.54 µs\n",
            "Sorrendben ( 0.0002715587615966797 mp) : [1, 2, 3, 4, 5, 6, 7, 8, 9, 11, 12, 13, 14, 15, 16, 17, 17, 19, 19, 20, 42]\n"
          ]
        }
      ],
      "source": [
        "%time      \n",
        "## Buborék rendezés\n",
        "## írja ki a végén futásidőt (első sorba kell lennie)\n",
        "import time\n",
        "start_time = time.time()   \n",
        "\n",
        "lista = [2, 11, 4, 6, 5, 17, 3, 9, 1, 19, 7, 42, 14, 19, 12, 8, 13, 17, 15, 16, 20]\n",
        "N=len(lista)\n",
        "for k in range(0,N):\n",
        "    for i in range(1,N-k):\n",
        "        if lista[i-1] > lista[i]:\n",
        "            lista[i],lista[i-1] = lista[i-1], lista[i]\n",
        "            \n",
        "print(\"Sorrendben ( %s mp) :\" % (time.time() - start_time) , lista)            "
      ]
    },
    {
      "cell_type": "code",
      "execution_count": 8,
      "metadata": {
        "colab": {
          "base_uri": "https://localhost:8080/"
        },
        "id": "nu5i4fyG2vS0",
        "outputId": "a199d08d-4e9f-4efa-f031-eb01816a2d9e"
      },
      "outputs": [
        {
          "output_type": "stream",
          "name": "stdout",
          "text": [
            "CPU times: user 2 µs, sys: 1 µs, total: 3 µs\n",
            "Wall time: 5.01 µs\n",
            "[1, 2, 3, 4, 5, 6, 7, 8, 9, 11, 12, 13, 14, 15, 16, 17, 17, 19, 19, 20, 42]\n"
          ]
        }
      ],
      "source": [
        "%time   \n",
        "## bubble_sort\n",
        "## írja ki a végén futásidőt (első sorba kell lennie)\n",
        "import time\n",
        "start_time = time.time()   \n",
        "\n",
        "def bubble_sort(collection):\n",
        "    \"\"\"A bubble_sort algoritmus tiszta megvalósítása Pythonban\n",
        "    :Bemenet rendezettlen lista\n",
        "    :visszatérés: növekvő sorrendű rendezés\n",
        "    \"\"\"\n",
        "    length = len(collection)\n",
        "    for i in range(length-1):\n",
        "        swapped = False\n",
        "        for j in range(length-1-i):\n",
        "            if collection[j] > collection[j+1]:\n",
        "                swapped = True\n",
        "                collection[j], collection[j+1] = collection[j+1], collection[j]\n",
        "        if not swapped: break   \n",
        "    return collection\n",
        "\n",
        "\n",
        "unsorted = [2, 11, 4, 6, 5, 17, 3, 9, 1, 19, 7, 42, 14, 19, 12, 8, 13, 17, 15, 16, 20]\n",
        "print(bubble_sort(unsorted))\n"
      ]
    },
    {
      "cell_type": "markdown",
      "metadata": {
        "id": "9IhqFPiu2vS1"
      },
      "source": [
        "---\n",
        "\n",
        "## A koktélrendezés (cocktail sort) \n",
        "A buborékrendezés tökéletesített változata, mely két irányból megy végig a tömbön. \n",
        "Minimálisan bonyolultabb a buborékrendezésnél, de stabil marad, ugyanakkor kiküszöböli annak egyik problémáját, \n",
        "miszerint a nagy elemek gyorsan felemelkednek a helyükre (innen a „buborék” név), \n",
        "de a rossz helyen lévő kicsi elemek csak lassan süllyednek a helyükre.\n",
        "\n",
        "...."
      ]
    },
    {
      "cell_type": "code",
      "execution_count": 11,
      "metadata": {
        "colab": {
          "base_uri": "https://localhost:8080/"
        },
        "id": "K45GAwfi2vS2",
        "outputId": "7766df08-fc2a-4e4b-e88e-2ee7167155e8"
      },
      "outputs": [
        {
          "output_type": "stream",
          "name": "stdout",
          "text": [
            "CPU times: user 2 µs, sys: 0 ns, total: 2 µs\n",
            "Wall time: 5.72 µs\n",
            "[1, 2, 3, 4, 5, 6, 7, 8, 9, 11, 12, 13, 14, 15, 16, 17, 17, 19, 19, 20, 42]\n"
          ]
        }
      ],
      "source": [
        "%time   \n",
        "## cocktail_shaker_sort\n",
        "## írja ki a végén futásidőt (első sorba kell lennie)\n",
        "import time\n",
        "start_time = time.time()  \n",
        "\n",
        "def koktel_shaker_sort(unsorted):\n",
        "    for i in range(len(unsorted)-1, 0, -1):\n",
        "        swapped = False\n",
        "        \n",
        "        for j in range(i, 0, -1):\n",
        "            if unsorted[j] < unsorted[j-1]:\n",
        "                unsorted[j], unsorted[j-1] = unsorted[j-1], unsorted[j]\n",
        "                swapped = True\n",
        "\n",
        "        for j in range(i):\n",
        "            if unsorted[j] > unsorted[j+1]:\n",
        "                unsorted[j], unsorted[j+1] = unsorted[j+1], unsorted[j]\n",
        "                swapped = True\n",
        "        \n",
        "        if not swapped:\n",
        "            return unsorted\n",
        "            \n",
        "unsorted = [2, 11, 4, 6, 5, 17, 3, 9, 1, 19, 7, 42, 14, 19, 12, 8, 13, 17, 15, 16, 20]\n",
        "print(koktel_shaker_sort(unsorted))"
      ]
    },
    {
      "cell_type": "code",
      "execution_count": 12,
      "metadata": {
        "colab": {
          "base_uri": "https://localhost:8080/"
        },
        "id": "62uPOreU2vS2",
        "outputId": "d1b65294-5a88-4e9e-e416-c164dc94e12a"
      },
      "outputs": [
        {
          "output_type": "stream",
          "name": "stdout",
          "text": [
            "CPU times: user 2 µs, sys: 0 ns, total: 2 µs\n",
            "Wall time: 25 µs\n",
            "[1, 2, 3, 4, 5, 6, 7, 8, 9, 11, 12, 13, 14, 15, 16, 17, 17, 19, 19, 20, 42]\n"
          ]
        }
      ],
      "source": [
        "%time   \n",
        "## cocktail_shaker_sort\n",
        "## írja ki a végén futásidőt (első sorba kell lennie)\n",
        "import time\n",
        "start_time = time.time()  \n",
        "\n",
        "def koktel_sort(lista):  #Pythonban használhatóak ékezetes változónevek és függvénynevek\n",
        " lenn = len(lista)\n",
        " start = 0\n",
        " vég = lenn-1\n",
        " \n",
        " for i in range(0, lenn):\n",
        " \n",
        "  for j in range(start, vég):\n",
        "   if lista[j] > lista[j+1]:\n",
        "    temp = lista[j]\n",
        "    lista[j] = lista[j+1]\n",
        "    lista[j+1] = temp\n",
        "  vég-=1\n",
        "\n",
        "  for k in range(vég, start,-1):\n",
        "   if lista[k] < lista[k-1]:\n",
        "    temp = lista[k]\n",
        "    lista[k] = lista[k-1]\n",
        "    lista[k-1] = temp\n",
        "  start+=1\n",
        " return lista\n",
        "\n",
        "unsorted = [2, 11, 4, 6, 5, 17, 3, 9, 1, 19, 7, 42, 14, 19, 12, 8, 13, 17, 15, 16, 20]\n",
        "print(koktel_sort(unsorted))"
      ]
    },
    {
      "cell_type": "code",
      "execution_count": 13,
      "metadata": {
        "colab": {
          "base_uri": "https://localhost:8080/"
        },
        "id": "PEiHsz9C2vS3",
        "outputId": "7bf6e84b-7ed8-476d-d18b-6a5b7175657c"
      },
      "outputs": [
        {
          "output_type": "stream",
          "name": "stdout",
          "text": [
            "CPU times: user 4 µs, sys: 0 ns, total: 4 µs\n",
            "Wall time: 7.63 µs\n",
            "Sorrendben ( 0.0001575946807861328 mp) : [1, 2, 3, 4, 5, 6, 7, 8, 9, 11, 12, 13, 14, 15, 16, 17, 17, 19, 19, 20, 42]\n",
            "Sorrendben ( 0.00019621849060058594 mp) : [42, 20, 19, 19, 17, 17, 16, 15, 14, 13, 12, 11, 9, 8, 7, 6, 5, 4, 3, 2, 1]\n"
          ]
        }
      ],
      "source": [
        "%time   \n",
        "## Numerikus rendezés\n",
        "## írja ki a végén futásidőt (első sorba kell lennie)\n",
        "import time\n",
        "start_time = time.time()    \n",
        "\n",
        "lista =  [2, 11, 4, 6, 5, 17, 3, 9, 1, 19, 7, 42, 14, 19, 12, 8, 13, 17, 15, 16, 20]\n",
        "lista.sort()\n",
        "print(\"Sorrendben ( %s mp) :\" % (time.time() - start_time) , lista)\n",
        "\n",
        "\n",
        "## Fordítva rendezés\n",
        "start_time = time.time()   \n",
        "lista = [2, 11, 4, 6, 5, 17, 3, 9, 1, 19, 7, 42, 14, 19, 12, 8, 13, 17, 15, 16, 20]\n",
        "lista.sort(reverse = True)\n",
        "print(\"Sorrendben ( %s mp) :\" % (time.time() - start_time) , lista)\n"
      ]
    },
    {
      "cell_type": "code",
      "execution_count": null,
      "metadata": {
        "id": "Ja7OXPft2vS3"
      },
      "outputs": [],
      "source": [
        ""
      ]
    }
  ],
  "metadata": {
    "kernelspec": {
      "display_name": "Python 3",
      "language": "python",
      "name": "python3"
    },
    "language_info": {
      "codemirror_mode": {
        "name": "ipython",
        "version": 3
      },
      "file_extension": ".py",
      "mimetype": "text/x-python",
      "name": "python",
      "nbconvert_exporter": "python",
      "pygments_lexer": "ipython3",
      "version": "3.8.8"
    },
    "colab": {
      "name": "kl_py_rendezesek.ipynb",
      "provenance": [],
      "include_colab_link": true
    }
  },
  "nbformat": 4,
  "nbformat_minor": 0
}