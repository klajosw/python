{
  "nbformat": 4,
  "nbformat_minor": 0,
  "metadata": {
    "hide_input": false,
    "kernelspec": {
      "display_name": "Python 3",
      "language": "python",
      "name": "python3"
    },
    "language_info": {
      "codemirror_mode": {
        "name": "ipython",
        "version": 3
      },
      "file_extension": ".py",
      "mimetype": "text/x-python",
      "name": "python",
      "nbconvert_exporter": "python",
      "pygments_lexer": "ipython3",
      "version": "3.7.4"
    },
    "latex_envs": {
      "bibliofile": "biblio.bib",
      "cite_by": "apalike",
      "current_citInitial": 1,
      "eqLabelWithNumbers": true,
      "eqNumInitial": 0
    },
    "name": "python-bevezeto.ipynb",
    "toc": {
      "toc_cell": false,
      "toc_number_sections": true,
      "toc_threshold": 6,
      "toc_window_display": false
    },
    "colab": {
      "name": "kl_py_vezerlok.ipynb",
      "provenance": [],
      "collapsed_sections": [
        "WDnLMxbVb51p",
        "OqAphANBb52K",
        "_EWRCGLAb52e",
        "d8McYu2-b525",
        "6V0p5crxb53D"
      ],
      "include_colab_link": true
    }
  },
  "cells": [
    {
      "cell_type": "markdown",
      "metadata": {
        "id": "view-in-github",
        "colab_type": "text"
      },
      "source": [
        "<a href=\"https://colab.research.google.com/github/klajosw/python/blob/master/kl_py_vezerlok.ipynb\" target=\"_parent\"><img src=\"https://colab.research.google.com/assets/colab-badge.svg\" alt=\"Open In Colab\"/></a>"
      ]
    },
    {
      "cell_type": "markdown",
      "metadata": {
        "id": "BDoUZlrxb51O",
        "colab_type": "text"
      },
      "source": [
        "# Alapvető vezérlőutasítások\n",
        "\n",
        "Bonyolultabb programok sok egymás után következő utasítás végrehajtásából állnak. Azt, hogy melyik utasítás mikor kerül végrehajtásra, a vezérlőutasítások határozzák meg. Minden program nyelvben két alapvető vezérlő utasítás mindenképpen megtalálható, a feltételválasztó és a ciklusszervező."
      ]
    },
    {
      "cell_type": "markdown",
      "metadata": {
        "id": "O8nkkP8Tb51P",
        "colab_type": "text"
      },
      "source": [
        "## Az `if` utasítás\n",
        "Az **`if`** utasítás tölti be a legtöbb nyelvben a feltételválsztó utasítás szerepét. Segítségével határozhatjuk meg, hogy bizonyos körülmények teljesülésekor a program a megfelelő utasításokat hajtsa végre. \n",
        "Lássunk erre egy példát:"
      ]
    },
    {
      "cell_type": "code",
      "metadata": {
        "id": "JgNsmUy-b51Q",
        "colab_type": "code",
        "colab": {},
        "outputId": "538d0865-b448-422c-9fab-32451f85774f"
      },
      "source": [
        "if 2+2==4:\n",
        "    print('A matematika még mindig működik')\n"
      ],
      "execution_count": 0,
      "outputs": [
        {
          "output_type": "stream",
          "text": [
            "A matematika még mindig működik\n"
          ],
          "name": "stdout"
        }
      ]
    },
    {
      "cell_type": "markdown",
      "metadata": {
        "id": "dIyyFspVb51S",
        "colab_type": "text"
      },
      "source": [
        "<p style=\"color:darkred;\"> <b>Figyelem, a második sort beljebb húztuk!</b> A behúzás a Python jelölése az utasítások csoportosítására! </p> A behúzás mértékére általánosan bevett szokás, hogy a szintaktikailag alacsonyabb szintű programrészek négy szóközzel beljebb vannak tolva. Ha tehát két **`if`** utasítást ágyazunk egymásba, akkor a második által teljesítendő utasítások 8 szóközzel lesznek beljebb húzva. Ez a behúzás a `jupyter` notebook kódcelláiban automatikusan is megtörténik. A `:` utáni ENTER leütése után a következő sor 4 szóközzel kerül beljebb, további ENTER leütése hatására a hierarchia azonos szintjén kezdjük az új sort. Ha feljebb szeretnénk lépni, akkor a behúzást ki kell törölni. A C, C++, Java nyelvekben kapcsos zárójeleket {} használnak az egybefüggő kódrészletek elkülönítésére, kb. így: \n",
        "```C\n",
        "if (i==10) {\n",
        "print i\n",
        "}\n",
        "```\n",
        "A FORTRAN nyelvben az *END* szócska kiírása jelzi a kódrészlet végét. A pythonban a kettőspont (\":\"), majd szóközökkel beljebb írt sorok szolgálnak erre. Ha más programokból másolunk át részleteket, figyeljünk arra, hogy a behúzás helyett nem TAB-ot használ-e. (A TAB néhol megengedett, de kerülendő. A modern [python kódolási stílusirányzat](http://django.arek.uni-obuda.hu/python3-doc/html/tutorial/controlflow.html#intermezzo-kodolasi-stilus) minden behúzást, ahogy azt fent is említettük, 4 szóköznek javasol.)"
      ]
    },
    {
      "cell_type": "code",
      "metadata": {
        "id": "0Hy1wAyKb51T",
        "colab_type": "code",
        "colab": {},
        "outputId": "a24613f5-9152-4e21-88e6-a51c565c14c5"
      },
      "source": [
        "today='Monday';\n",
        "time='12:00';\n",
        "if today=='Monday':\n",
        "    if time=='12:00':\n",
        "        print('Nyomassuk a pythont!')"
      ],
      "execution_count": 0,
      "outputs": [
        {
          "output_type": "stream",
          "text": [
            "Nyomassuk a pythont!\n"
          ],
          "name": "stdout"
        }
      ]
    },
    {
      "cell_type": "markdown",
      "metadata": {
        "id": "Mv35VjO-b51V",
        "colab_type": "text"
      },
      "source": [
        "Bonyolultabb kritériumszerkezetet az **`else`** és **`elif`** parancsok segítségével konstruálhatunk:"
      ]
    },
    {
      "cell_type": "code",
      "metadata": {
        "id": "MRpaNwynb51W",
        "colab_type": "code",
        "colab": {},
        "outputId": "7174b4b1-e5a1-4d73-b787-937e55f64599"
      },
      "source": [
        "x = 1\n",
        "if x < 0:\n",
        "    x = 0\n",
        "    print('Negatív, lecseréltem nullára')\n",
        "elif x == 0:\n",
        "    print('Nulla')\n",
        "elif x == 1:\n",
        "    print('Egy')\n",
        "else:\n",
        "    print('Egynél több.')"
      ],
      "execution_count": 0,
      "outputs": [
        {
          "output_type": "stream",
          "text": [
            "Egy\n"
          ],
          "name": "stdout"
        }
      ]
    },
    {
      "cell_type": "markdown",
      "metadata": {
        "id": "aNha81szb51Y",
        "colab_type": "text"
      },
      "source": [
        "Hiányozhat, de lehet egy vagy akár egynél több **`elif`** rész, az **`else`** rész szintén elmaradhat. Az **`elif`** kulcsszó – amely az ‘else if’ rövidítése – hasznos a felesleges behúzások elkerülésre. Egy **`if`** ...**`elif`** ... **`elif`** ... sor helyettesíti a más nyelvekben található `switch` és `case` utasításokat."
      ]
    },
    {
      "cell_type": "markdown",
      "metadata": {
        "id": "nWV255XYb51Y",
        "colab_type": "text"
      },
      "source": [
        "## A **`for`** utasítás\n",
        "A számítógépek legfontosabb tulajdonságai közt szerepel az, hogy nagyon gyorsak és \"fáradhatatlanok\". Olyan feladatok megoldásában a leghatékonyabbak, amikor a feladatot kevés munkával meg lehet fogalmazni (\"az alkotó pihen\") de végrehajtása nagyon sok ismétlést, iterációt igényel (\"a gép forog\"). Az iteráció (angol: iterate) azt jelenti, hogy például egy lista elemein egyesével végigmegy a program, és műveleteket végez el rajtuk. A Python-ban az egyik erre használható utasítás a **`for`** parancs (magyarul kb. a ...-ra, azaz pl. a hét minden napjára, a lista minden elemére):"
      ]
    },
    {
      "cell_type": "code",
      "metadata": {
        "id": "vrWz_IkOb51Z",
        "colab_type": "code",
        "colab": {}
      },
      "source": [
        "days_of_the_week = [\"Sunday\",\"Monday\",\"Tuesday\",\"Wednesday\",\"Thursday\",\"Friday\",\"Saturday\"]"
      ],
      "execution_count": 0,
      "outputs": []
    },
    {
      "cell_type": "code",
      "metadata": {
        "id": "V8yy6-8yb51b",
        "colab_type": "code",
        "colab": {},
        "outputId": "3126d438-4493-42f0-9e20-db95ac37c5cf"
      },
      "source": [
        "for day in days_of_the_week:\n",
        "    print(day)"
      ],
      "execution_count": 0,
      "outputs": [
        {
          "output_type": "stream",
          "text": [
            "Sunday\n",
            "Monday\n",
            "Tuesday\n",
            "Wednesday\n",
            "Thursday\n",
            "Friday\n",
            "Saturday\n"
          ],
          "name": "stdout"
        }
      ]
    },
    {
      "cell_type": "markdown",
      "metadata": {
        "id": "azAqSuu-b51d",
        "colab_type": "text"
      },
      "source": [
        "Ez a kódrészlet a `days_of_the_week` listán megy végig, és a meglátogatott elemet hozzárendeli a `day` változóhoz, amit *ciklusváltozónak* is neveznek. Ezek után mindent végrehajt, amit a beljebb tabulált (angolul: *indented*) parancsblokkban írtunk (most csak egy `print` utasítás), amihez felhasználhatja a ciklusváltozót is. Miután vége a beljebb tabulált régiónak, kilép a ciklusból.\n",
        "Annak semmi jelentősége nincs, hogy a példában a **day** nevet adtuk az iterációban szereplő *ciklusváltozó*nak. A program semmit se tud az emberi időszámításról, például, hogy a hétben napok vannak és nem kiscicák:"
      ]
    },
    {
      "cell_type": "code",
      "metadata": {
        "id": "Aem53Rssb51d",
        "colab_type": "code",
        "colab": {},
        "outputId": "a41105ec-f0fc-4b98-d080-6a206a70af54"
      },
      "source": [
        "for macska in days_of_the_week:\n",
        "    print(macska)"
      ],
      "execution_count": 0,
      "outputs": [
        {
          "output_type": "stream",
          "text": [
            "Sunday\n",
            "Monday\n",
            "Tuesday\n",
            "Wednesday\n",
            "Thursday\n",
            "Friday\n",
            "Saturday\n"
          ],
          "name": "stdout"
        }
      ]
    },
    {
      "cell_type": "markdown",
      "metadata": {
        "id": "DKUrrDPvb51h",
        "colab_type": "text"
      },
      "source": [
        "A ciklus utasításblokkja állhat több utasításból is:"
      ]
    },
    {
      "cell_type": "code",
      "metadata": {
        "id": "ehL9xyNmb51i",
        "colab_type": "code",
        "colab": {},
        "outputId": "cffa9035-7c2b-4c5e-d16e-c5e092a42c91"
      },
      "source": [
        "for day in days_of_the_week:\n",
        "    statement = \"Today is \" + day\n",
        "    print(statement)"
      ],
      "execution_count": 0,
      "outputs": [
        {
          "output_type": "stream",
          "text": [
            "Today is Sunday\n",
            "Today is Monday\n",
            "Today is Tuesday\n",
            "Today is Wednesday\n",
            "Today is Thursday\n",
            "Today is Friday\n",
            "Today is Saturday\n"
          ],
          "name": "stdout"
        }
      ]
    },
    {
      "cell_type": "markdown",
      "metadata": {
        "id": "_oz-Fw4zb51k",
        "colab_type": "text"
      },
      "source": [
        "A **`range()`** parancs remekül használható, ha a **`for`** ciklusban adott számú műveletet szeretnénk elvégezni:"
      ]
    },
    {
      "cell_type": "code",
      "metadata": {
        "id": "DxFcDXisb51k",
        "colab_type": "code",
        "colab": {},
        "outputId": "12bb693f-45a9-46a7-ef5d-1f5c8ec70932"
      },
      "source": [
        "for i in range(20):\n",
        "    print(i,\" szer \",i ,\"az pontosan \",i*i)"
      ],
      "execution_count": 0,
      "outputs": [
        {
          "output_type": "stream",
          "text": [
            "0  szer  0 az pontosan  0\n",
            "1  szer  1 az pontosan  1\n",
            "2  szer  2 az pontosan  4\n",
            "3  szer  3 az pontosan  9\n",
            "4  szer  4 az pontosan  16\n",
            "5  szer  5 az pontosan  25\n",
            "6  szer  6 az pontosan  36\n",
            "7  szer  7 az pontosan  49\n",
            "8  szer  8 az pontosan  64\n",
            "9  szer  9 az pontosan  81\n",
            "10  szer  10 az pontosan  100\n",
            "11  szer  11 az pontosan  121\n",
            "12  szer  12 az pontosan  144\n",
            "13  szer  13 az pontosan  169\n",
            "14  szer  14 az pontosan  196\n",
            "15  szer  15 az pontosan  225\n",
            "16  szer  16 az pontosan  256\n",
            "17  szer  17 az pontosan  289\n",
            "18  szer  18 az pontosan  324\n",
            "19  szer  19 az pontosan  361\n"
          ],
          "name": "stdout"
        }
      ]
    },
    {
      "cell_type": "markdown",
      "metadata": {
        "id": "rvYQ6a5ub51m",
        "colab_type": "text"
      },
      "source": [
        "Akkor válik mindez még érdekesebbé, ha az eddig tanult iterációt és feltételvizsgálatot kombináljuk:"
      ]
    },
    {
      "cell_type": "code",
      "metadata": {
        "id": "18DXZnZfb51n",
        "colab_type": "code",
        "colab": {},
        "outputId": "82cb838f-8054-4cd3-ca15-52844d8c8785"
      },
      "source": [
        "for day in days_of_the_week:\n",
        "    statement = \"Today is \" + day\n",
        "    print(statement)\n",
        "    if day == \"Sunday\":\n",
        "        print (\"   Sleep in\")\n",
        "    elif day == \"Saturday\":\n",
        "        print (\"   Do chores\")\n",
        "    else:\n",
        "        print (\"   Go to work\")"
      ],
      "execution_count": 0,
      "outputs": [
        {
          "output_type": "stream",
          "text": [
            "Today is Sunday\n",
            "   Sleep in\n",
            "Today is Monday\n",
            "   Go to work\n",
            "Today is Tuesday\n",
            "   Go to work\n",
            "Today is Wednesday\n",
            "   Go to work\n",
            "Today is Thursday\n",
            "   Go to work\n",
            "Today is Friday\n",
            "   Go to work\n",
            "Today is Saturday\n",
            "   Do chores\n"
          ],
          "name": "stdout"
        }
      ]
    },
    {
      "cell_type": "markdown",
      "metadata": {
        "id": "t_S9_0ehb51o",
        "colab_type": "text"
      },
      "source": [
        "Figyeljük meg, a fenti példában hogy ágyazódik egymás alá a **`for`** és az **`if`**! "
      ]
    },
    {
      "cell_type": "markdown",
      "metadata": {
        "id": "WDnLMxbVb51p",
        "colab_type": "text"
      },
      "source": [
        "## Egy példaprogram: Fibbonacci-sorozat\n",
        "A [Fibonacci](http://en.wikipedia.org/wiki/Fibonacci_number)-sorozat első két eleme 0 és 1, majd a következő elemet mindig az előző kettő összegéből számoljuk ki: 0,1,1,2,3,5,8,13,21,34,55,89,...\n",
        "\n",
        "Ha nagyobb $n$ értékekre is ki akarjuk számolni a sorozatot, ez kiváló feladat lehet egy fáradhatatlan és gyors számítógépnek!"
      ]
    },
    {
      "cell_type": "code",
      "metadata": {
        "id": "wNp9lIdtb51q",
        "colab_type": "code",
        "colab": {},
        "outputId": "dd076bac-0033-4604-9c3c-52814aea4755"
      },
      "source": [
        "n = 10 # ennyi elemet szeretnénk meghatározni\n",
        "sequence = [0,1] # az első két elem\n",
        "for i in range(2,n): # számok 2-től n-ig, Figyelni kell, hogy n ne legyen kisebb mint 2!!\n",
        "    sequence.append(sequence[i-1]+sequence[i-2])\n",
        "print (sequence)"
      ],
      "execution_count": 0,
      "outputs": [
        {
          "output_type": "stream",
          "text": [
            "[0, 1, 1, 2, 3, 5, 8, 13, 21, 34]\n"
          ],
          "name": "stdout"
        }
      ]
    },
    {
      "cell_type": "markdown",
      "metadata": {
        "id": "sdItq72Qb51r",
        "colab_type": "text"
      },
      "source": [
        "Nézzük végig lépésről lépésre! Először $n$ értékét, azaz a kiszámolandó sorozat hosszát állítjuk be 10-re. A sorozatot majdan tároló listát **`sequence`**-nek neveztük el, és *inicializáltuk* az első két értékkel. A \"kézi munka\" után következhet a gép automatikus munkája, az iteráció.\n",
        "\n",
        "Az iterációt 2-vel kezdjük (ez ugye a 0-s indexelés miatt a 3. elem lesz, hisz az első kettőt már mi megadtuk) és $n$-ig, a megadott listaméretig számolunk. \n",
        "\n",
        "A ciklus törzsében az addig kiszámolt lista végére hozzátűzzük (**`append`** parancsról kicsit bővebben [itt](http://django.arek.uni-obuda.hu/python3-doc/html/tutorial/datastructures.html#a-listakrol-bovebben)) az előző két tag összegét. A ciklus vége után kiíratjuk az eredményt."
      ]
    },
    {
      "cell_type": "markdown",
      "metadata": {
        "id": "3TCdXU9Db51s",
        "colab_type": "text"
      },
      "source": [
        "# Függvények\n",
        "\n",
        "Számos programozási nyelvben szokás a felhasználó által megalkotott bonyolultabb utasításokat függvényekbe szervezni. Jól megírt függvények használata általában rövidebbé és jobban átláthatóvá teszi a programokat.\n",
        "\n",
        "## Függvények deklarálása\n",
        "Ha más hosszúságú sorozatot szeretnénk, átmásolhatjuk a fenti kódot egy új cellába, és átírhatjuk az **`n=10`**-et pl. **`n=100`**-ra. Van azonban egy hatékonyabb módszer, új *függvény*-ként definiálhatjuk a **def** utasítás segítségével:"
      ]
    },
    {
      "cell_type": "code",
      "metadata": {
        "id": "Y4JhqMn3b51s",
        "colab_type": "code",
        "colab": {}
      },
      "source": [
        "def fibonacci(sequence_length):\n",
        "    \"A Fibonacci sorozat elso *sequence_length* darab eleme\" # ez csak a 'help'-hez kell\n",
        "    sequence = [0,1]\n",
        "    if 0 < sequence_length < 3:\n",
        "        return sequence[:sequence_length]\n",
        "    for i in range(2,sequence_length): \n",
        "        sequence.append(sequence[i-1]+sequence[i-2])\n",
        "    return sequence"
      ],
      "execution_count": 0,
      "outputs": []
    },
    {
      "cell_type": "markdown",
      "metadata": {
        "id": "ybjhJU31b51u",
        "colab_type": "text"
      },
      "source": [
        "Most már *meghívhatjuk* a **`fibonacci()`** függvényt különböző hosszakra:"
      ]
    },
    {
      "cell_type": "code",
      "metadata": {
        "id": "Nsajbwd2b51v",
        "colab_type": "code",
        "colab": {},
        "outputId": "89af7f7c-9d28-46aa-c233-5433cd45bec7"
      },
      "source": [
        "fibonacci(5)"
      ],
      "execution_count": 0,
      "outputs": [
        {
          "output_type": "execute_result",
          "data": {
            "text/plain": [
              "[0, 1, 1, 2, 3]"
            ]
          },
          "metadata": {
            "tags": []
          },
          "execution_count": 12
        }
      ]
    },
    {
      "cell_type": "markdown",
      "metadata": {
        "id": "ru7AWhSQb51x",
        "colab_type": "text"
      },
      "source": [
        "Elemezzük a fenti kódot! A már megszokott módon a kettőspont és behúzás határozza meg a függvénydefinícióhoz tartozó kódblokkot. \n",
        "A 2. sorban idézőjelek közt szerepel a [\"**docstring**\"](http://django.arek.uni-obuda.hu/python3-doc/html/tutorial/controlflow.html#a-dokumentacios-karakterlancok), ami a függvény működését magyarázza el röviden, és később a **help** paranccsal hívható elő:"
      ]
    },
    {
      "cell_type": "code",
      "metadata": {
        "id": "_WqNx2r4b51x",
        "colab_type": "code",
        "colab": {},
        "outputId": "a6b2e53d-9dd5-4e53-a949-674d4d5d218b"
      },
      "source": [
        "help(fibonacci)"
      ],
      "execution_count": 0,
      "outputs": [
        {
          "output_type": "stream",
          "text": [
            "Help on function fibonacci in module __main__:\n",
            "\n",
            "fibonacci(sequence_length)\n",
            "    A Fibonacci sorozat elso *sequence_length* darab eleme\n",
            "\n"
          ],
          "name": "stdout"
        }
      ]
    },
    {
      "cell_type": "markdown",
      "metadata": {
        "id": "XbVEFgwQb51z",
        "colab_type": "text"
      },
      "source": [
        "A notebookos környezetben a docstring a ? segítségével is elérhető:"
      ]
    },
    {
      "cell_type": "code",
      "metadata": {
        "id": "0boWFXoEb510",
        "colab_type": "code",
        "colab": {}
      },
      "source": [
        "?fibonacci"
      ],
      "execution_count": 0,
      "outputs": []
    },
    {
      "cell_type": "markdown",
      "metadata": {
        "id": "al3abChab512",
        "colab_type": "text"
      },
      "source": [
        "A `docstring`-et `jupyter` környezetben úgy is megtekinthetjük, ha egyes függvények hasában, azaz a zárójelek között SHIFT+TAB-ot nyomunk. Próbáld ki ezt az alábbi cellán (annélkül hogy lefuttatnád azt)!"
      ]
    },
    {
      "cell_type": "code",
      "metadata": {
        "id": "sXR-6pK7b512",
        "colab_type": "code",
        "colab": {}
      },
      "source": [
        "fibonacci()"
      ],
      "execution_count": 0,
      "outputs": []
    },
    {
      "cell_type": "markdown",
      "metadata": {
        "id": "ihDaVSpjb515",
        "colab_type": "text"
      },
      "source": [
        "A függvény kimenetelét a **`return`** kulcsszó határozza meg. Ha a fügvény definiálása során nem használtunk **`return`** utasítást akkor a függvény **None** (semmi) értéket ad vissza. Ha egy függvény lefutott, és nem hajtott végre **`return`** utasítást, akkor is **None** értékkel tér vissza. A **fibonacci** fügvény például egy listát ad vissza:"
      ]
    },
    {
      "cell_type": "code",
      "metadata": {
        "id": "beCQyQePb516",
        "colab_type": "code",
        "colab": {},
        "outputId": "c9ecca8c-99f9-47fb-c37e-7bda5738b598"
      },
      "source": [
        "x=fibonacci(10)\n",
        "x"
      ],
      "execution_count": 0,
      "outputs": [
        {
          "output_type": "execute_result",
          "data": {
            "text/plain": [
              "[0, 1, 1, 2, 3, 5, 8, 13, 21, 34]"
            ]
          },
          "metadata": {
            "tags": []
          },
          "execution_count": 15
        }
      ]
    },
    {
      "cell_type": "markdown",
      "metadata": {
        "id": "SDL5RKOxb519",
        "colab_type": "text"
      },
      "source": [
        "Ez a függvény viszont nem tér vissza sehol:"
      ]
    },
    {
      "cell_type": "code",
      "metadata": {
        "id": "3nPOofP-b519",
        "colab_type": "code",
        "colab": {}
      },
      "source": [
        "def ures_fuggveny(x):\n",
        "    print('Én egy ures fuggvény vagyok,\\nannak ellenére hogy beszélek,\\nnem térek vissza változóval!!')\n",
        "    y=x-2;"
      ],
      "execution_count": 0,
      "outputs": []
    },
    {
      "cell_type": "markdown",
      "metadata": {
        "id": "m1vjpPbIb51_",
        "colab_type": "text"
      },
      "source": [
        "Így a **z** válltozóban nem tárolódik semmilyen érték!"
      ]
    },
    {
      "cell_type": "code",
      "metadata": {
        "id": "sAz46FqNb52A",
        "colab_type": "code",
        "colab": {},
        "outputId": "fe026dbf-2a71-4213-c0b8-0e846b6c7ed2"
      },
      "source": [
        "z=ures_fuggveny(3)\n",
        "z"
      ],
      "execution_count": 0,
      "outputs": [
        {
          "output_type": "stream",
          "text": [
            "Én egy ures fuggvény vagyok,\n",
            "annak ellenére hogy beszélek,\n",
            "nem térek vissza változóval!!\n"
          ],
          "name": "stdout"
        }
      ]
    },
    {
      "cell_type": "code",
      "metadata": {
        "id": "CwuvlsJXb52B",
        "colab_type": "code",
        "colab": {},
        "outputId": "8ca3c656-2f3c-467a-df13-fc908e5b1266"
      },
      "source": [
        "print(z)"
      ],
      "execution_count": 0,
      "outputs": [
        {
          "output_type": "stream",
          "text": [
            "None\n"
          ],
          "name": "stdout"
        }
      ]
    },
    {
      "cell_type": "markdown",
      "metadata": {
        "id": "Zu9nX0cFb52D",
        "colab_type": "text"
      },
      "source": [
        "Egy függvénynek lehet több bemeneti változója is:"
      ]
    },
    {
      "cell_type": "code",
      "metadata": {
        "id": "1IO7uetvb52E",
        "colab_type": "code",
        "colab": {}
      },
      "source": [
        "def osszead(a,b):\n",
        "    return a+b"
      ],
      "execution_count": 0,
      "outputs": []
    },
    {
      "cell_type": "markdown",
      "metadata": {
        "id": "ar9lyytnb52F",
        "colab_type": "text"
      },
      "source": [
        "Az is előfordulhat, hogy több értéket szeretnénk visszakapni egy függvényből. Ezt például az alábbiak alapján tehetjük meg:"
      ]
    },
    {
      "cell_type": "code",
      "metadata": {
        "id": "Xm94VZPyb52G",
        "colab_type": "code",
        "colab": {}
      },
      "source": [
        "def plusminus(a,b):\n",
        "    return a+b,a-b"
      ],
      "execution_count": 0,
      "outputs": []
    },
    {
      "cell_type": "code",
      "metadata": {
        "id": "d1_T36cfb52I",
        "colab_type": "code",
        "colab": {},
        "outputId": "78bb9b2a-6496-4106-8d30-1c5a4d3823fb"
      },
      "source": [
        "p,m=plusminus(2,3)\n",
        "print (p)\n",
        "print (m)"
      ],
      "execution_count": 0,
      "outputs": [
        {
          "output_type": "stream",
          "text": [
            "5\n",
            "-1\n"
          ],
          "name": "stdout"
        }
      ]
    },
    {
      "cell_type": "markdown",
      "metadata": {
        "id": "OqAphANBb52K",
        "colab_type": "text"
      },
      "source": [
        "## Paraméter lista és a \"kicsomagolás\""
      ]
    },
    {
      "cell_type": "markdown",
      "metadata": {
        "id": "4XXpouC6b52L",
        "colab_type": "text"
      },
      "source": [
        "Előfordulhat, hogy egy függvénynek sok bemenő paramétere van, vagy hogy egy függvény bemenő paramétereit egy másik függvény eleve egy listába rendezi. Egy tipikus ilyen példa, amint azt későb látni fogjuk, a függvényillesztés esete. Ilyenkor a paramétereket tartalmazó lista \"kicsomagolásával\", amit a \\*-jellel tehetünk meg, kompaktabb kódot érhetünk el. Vegyünk például egy olyan esetet amikor egy adatsorra egy ötödfokú polinomot illesztünk. "
      ]
    },
    {
      "cell_type": "markdown",
      "metadata": {
        "id": "hXM1NlGpb52L",
        "colab_type": "text"
      },
      "source": [
        "$$f(x)=a_0+a_1x+a_2x^2+a_3x^3+a_4x^4+a_5x^5$$"
      ]
    },
    {
      "cell_type": "markdown",
      "metadata": {
        "id": "MTbFu30ob52M",
        "colab_type": "text"
      },
      "source": [
        "Definiáljunk egy függvényt ami egy \"futó\" $x$ változó és az ötödfokó polinomnak megfelelően hat darab \"paraméter\" $a_i$ változó segítségével kiértékeli a fenti polinomot:"
      ]
    },
    {
      "cell_type": "code",
      "metadata": {
        "collapsed": true,
        "id": "_Sklagdhb52O",
        "colab_type": "code",
        "colab": {}
      },
      "source": [
        "# ez lesz az illesztendő függvény\n",
        "def poly5(x,a0,a1,a2,a3,a4,a5):\n",
        "    return a0+a1*x+a2*x**2+a3*x**3+a4*x**4+a5*x**5"
      ],
      "execution_count": 0,
      "outputs": []
    },
    {
      "cell_type": "markdown",
      "metadata": {
        "id": "pQMtRdHQb52R",
        "colab_type": "text"
      },
      "source": [
        "Az illesztés során hat darab illesztési paramétert határozunk meg: $a_0,a_1,a_2,a_3,a_4,a_5$ ám ezeket az illesztő program egy listába rendezve adja a kezünkbe:"
      ]
    },
    {
      "cell_type": "code",
      "metadata": {
        "collapsed": true,
        "id": "NHUng-gHb52S",
        "colab_type": "code",
        "colab": {}
      },
      "source": [
        "# ezek az illesztés során meghatározott paraméterek\n",
        "# az alábbi sorrendnek megfelelően\n",
        "# params=[a0,a1,a2,a3,a4,a5]\n",
        "params=[ 2.27171539, -1.1368942 ,  0.65380304, -0.25005187, -0.1751268 , -0.48828309];"
      ],
      "execution_count": 0,
      "outputs": []
    },
    {
      "cell_type": "markdown",
      "metadata": {
        "id": "jDEM2V_Ab52T",
        "colab_type": "text"
      },
      "source": [
        "Ha ki szeretnénk értékelni az illesztett polinomot az $x=0.3$ helyen, akkor azt megtehetjük az alábbi módon:"
      ]
    },
    {
      "cell_type": "code",
      "metadata": {
        "id": "2nUULPkZb52U",
        "colab_type": "code",
        "colab": {},
        "outputId": "d8912156-f0c1-4e43-c8fa-38e9a2b1670e"
      },
      "source": [
        "poly5(0.3,params[0],params[1],params[2],params[3],params[4],params[5])"
      ],
      "execution_count": 0,
      "outputs": [
        {
          "output_type": "execute_result",
          "data": {
            "text/plain": [
              "1.9801329481213"
            ]
          },
          "metadata": {
            "tags": []
          },
          "execution_count": 24
        }
      ]
    },
    {
      "cell_type": "markdown",
      "metadata": {
        "id": "6HzRqLxfb52V",
        "colab_type": "text"
      },
      "source": [
        "vagy az ennél sokkal kompaktabb módszerrel:"
      ]
    },
    {
      "cell_type": "code",
      "metadata": {
        "id": "d8w-JUAqb52W",
        "colab_type": "code",
        "colab": {},
        "outputId": "4cb7e951-7f76-4605-8bf3-7fbd18258061"
      },
      "source": [
        "poly5(0.3,*params)"
      ],
      "execution_count": 0,
      "outputs": [
        {
          "output_type": "execute_result",
          "data": {
            "text/plain": [
              "1.9801329481213"
            ]
          },
          "metadata": {
            "tags": []
          },
          "execution_count": 25
        }
      ]
    },
    {
      "cell_type": "markdown",
      "metadata": {
        "id": "c0Bk5uSNb52X",
        "colab_type": "text"
      },
      "source": [
        "Ez a konstrukció lehetővé teszi, hogy a függvény definiálása során felkészísük a függvényt arra, hogy a bemenő\n",
        "paraméterek száma ne legyen rögzített. Ha a függvény deklaráció során egy paraméter elé **\\***-t teszünk akkor az a paraméter tetszőleges hosszúságú lehet! Vizsgáljuk meg az alábbi példát:"
      ]
    },
    {
      "cell_type": "code",
      "metadata": {
        "collapsed": true,
        "id": "znTqL5nEb52Y",
        "colab_type": "code",
        "colab": {}
      },
      "source": [
        "def adok_mit_kapok(*argv):                                            #Így, a *-al, készítünk fel egy függvényt \n",
        "                                                                      #válltozó számú paraméter fogadására\n",
        "    print(\"Nekem \",len(argv),\"db bemenő paraméterem jött\")\n",
        "    for arg in argv:\n",
        "        print (\"Ez egy paraméter :\", arg)\n",
        "    return argv[-1]                                                 #a bemenő paraméterek elemeire mint \n",
        "                                                                    #szokványos lista elemekre hivatkozunk"
      ],
      "execution_count": 0,
      "outputs": []
    },
    {
      "cell_type": "markdown",
      "metadata": {
        "id": "-GPuNCvkb52a",
        "colab_type": "text"
      },
      "source": [
        "A fenti blokkban definiált függvény tetszőleges számú bemenő paramétert elfogad! A futás során közli, hogy hány paraméter érkezett, kiírja azokat, illetve a paraméterlista utolsó tagját mint a függvény vissza térési értékét állítja be."
      ]
    },
    {
      "cell_type": "code",
      "metadata": {
        "id": "O0ADoHrlb52a",
        "colab_type": "code",
        "colab": {},
        "outputId": "fdc31c48-7440-4a36-f247-51ed37d9d475"
      },
      "source": [
        "adok_mit_kapok('Gáspár','Menyhért','Boldizsár')"
      ],
      "execution_count": 0,
      "outputs": [
        {
          "output_type": "stream",
          "text": [
            "Nekem  3 db bemenő paraméterem jött\n",
            "Ez egy paraméter : Gáspár\n",
            "Ez egy paraméter : Menyhért\n",
            "Ez egy paraméter : Boldizsár\n"
          ],
          "name": "stdout"
        },
        {
          "output_type": "execute_result",
          "data": {
            "text/plain": [
              "'Boldizsár'"
            ]
          },
          "metadata": {
            "tags": []
          },
          "execution_count": 27
        }
      ]
    },
    {
      "cell_type": "markdown",
      "metadata": {
        "id": "nw1qJUPCb52c",
        "colab_type": "text"
      },
      "source": [
        "Természetesen a tetszőleges paraméter helyett egy \"kicsomagolt\" tetszőleges hosszúságú listát is használhatunk!"
      ]
    },
    {
      "cell_type": "code",
      "metadata": {
        "id": "fuady3SIb52c",
        "colab_type": "code",
        "colab": {},
        "outputId": "08687ef4-2a08-4443-bf1e-8037f10c46e6"
      },
      "source": [
        "adok_mit_kapok(*params) #természetesen itt is működik a kicsomagolás.."
      ],
      "execution_count": 0,
      "outputs": [
        {
          "output_type": "stream",
          "text": [
            "Nekem  6 db bemenő paraméterem jött\n",
            "Ez egy paraméter : 2.27171539\n",
            "Ez egy paraméter : -1.1368942\n",
            "Ez egy paraméter : 0.65380304\n",
            "Ez egy paraméter : -0.25005187\n",
            "Ez egy paraméter : -0.1751268\n",
            "Ez egy paraméter : -0.48828309\n"
          ],
          "name": "stdout"
        },
        {
          "output_type": "execute_result",
          "data": {
            "text/plain": [
              "-0.48828309"
            ]
          },
          "metadata": {
            "tags": []
          },
          "execution_count": 28
        }
      ]
    },
    {
      "cell_type": "markdown",
      "metadata": {
        "id": "_EWRCGLAb52e",
        "colab_type": "text"
      },
      "source": [
        "## Függvények kulcsszavakkal"
      ]
    },
    {
      "cell_type": "markdown",
      "metadata": {
        "id": "NWnqZD8Kb52f",
        "colab_type": "text"
      },
      "source": [
        "Azon kívül, hogy a szótárak már önmagukban is igen hasznos adatstruktúrák, később látni fogjuk, hogy sokszor függvények bizonyos paramétereit is szokás szótárakba szedni. Az ilyen paramétereket szokás kulcsszavas változóknak vagy kulcsszavas argumentumnak (angol nyelven keyword argument) hívni. Ezek használata olvashatóbbá és emberi szemmel is jóval értelmezhetőbbé teszi a programot, ezenfelül további flexibilitást is ad a programozó kezébe. \n",
        "Nézzük ezt meg az alábbi példán:"
      ]
    },
    {
      "cell_type": "code",
      "metadata": {
        "collapsed": true,
        "id": "KCWNMrEkb52f",
        "colab_type": "code",
        "colab": {}
      },
      "source": [
        "#Így adunk meg alapértelmezett értékeket\n",
        "def students(ido, allapot='lelkesen figyelik a tanárt', tevekenyseg='kísérletezés', ora='fizika'):\n",
        "    print(\"Ezek a diákok \"+ora+\"órán \"+tevekenyseg+\" közben mindig \"+allapot+\"!\");\n",
        "    print(\"Még akkor is, ha épp \",ido,\"-t mutat az óra!\");"
      ],
      "execution_count": 0,
      "outputs": []
    },
    {
      "cell_type": "markdown",
      "metadata": {
        "id": "x8sEU07_b52j",
        "colab_type": "text"
      },
      "source": [
        "A függvény első paraméterét meg kell adnunk, ha nem adunk többet, akkor az alapértelmezett értékek ugranak be:"
      ]
    },
    {
      "cell_type": "code",
      "metadata": {
        "id": "VaaoNbs5b52j",
        "colab_type": "code",
        "colab": {},
        "outputId": "25de0c93-6e00-4c7b-db72-d70bb9b20c7a"
      },
      "source": [
        "students('17:00') "
      ],
      "execution_count": 0,
      "outputs": [
        {
          "output_type": "stream",
          "text": [
            "Ezek a diákok fizikaórán kísérletezés közben mindig lelkesen figyelik a tanárt!\n",
            "Még akkor is, ha épp  17:00 -t mutat az óra!\n"
          ],
          "name": "stdout"
        }
      ]
    },
    {
      "cell_type": "markdown",
      "metadata": {
        "id": "2n4euMGOb52n",
        "colab_type": "text"
      },
      "source": [
        "Ha egy kulcsszavas argumentumot kap a függvény, akkor azt értelemszerűen használja:"
      ]
    },
    {
      "cell_type": "code",
      "metadata": {
        "id": "5YQY0hqSb52n",
        "colab_type": "code",
        "colab": {},
        "outputId": "7dd3f655-5f39-4710-96ce-7f4a13af2882"
      },
      "source": [
        "students('8:00',allapot='unott képet vágnak')"
      ],
      "execution_count": 0,
      "outputs": [
        {
          "output_type": "stream",
          "text": [
            "Ezek a diákok fizikaórán kísérletezés közben mindig unott képet vágnak!\n",
            "Még akkor is, ha épp  8:00 -t mutat az óra!\n"
          ],
          "name": "stdout"
        }
      ]
    },
    {
      "cell_type": "markdown",
      "metadata": {
        "id": "J-JCu0H7b52r",
        "colab_type": "text"
      },
      "source": [
        "A kulcsszavas argumentumok sorrendjére nem kell figyelni:"
      ]
    },
    {
      "cell_type": "code",
      "metadata": {
        "id": "vx12VWp9b52r",
        "colab_type": "code",
        "colab": {},
        "outputId": "1493c22b-8e8f-4340-a3a8-e166b3b71a9c"
      },
      "source": [
        "students('8:00',ora='ógörög',allapot='pánikolva izzadnak',tevekenyseg='TÉMAZÁRÓ')"
      ],
      "execution_count": 0,
      "outputs": [
        {
          "output_type": "stream",
          "text": [
            "Ezek a diákok ógörögórán TÉMAZÁRÓ közben mindig pánikolva izzadnak!\n",
            "Még akkor is, ha épp  8:00 -t mutat az óra!\n"
          ],
          "name": "stdout"
        }
      ]
    },
    {
      "cell_type": "markdown",
      "metadata": {
        "id": "rY8fHXWpb52t",
        "colab_type": "text"
      },
      "source": [
        "Ha a deklaráció során nem használt kulcsszót adunk meg, akkor hibát kapunk:"
      ]
    },
    {
      "cell_type": "code",
      "metadata": {
        "id": "tNopMEplb52t",
        "colab_type": "code",
        "colab": {},
        "outputId": "87fb0794-6359-4adc-e0ca-e5e233cc0b78"
      },
      "source": [
        "students('17:00',tanar='Mici néni')"
      ],
      "execution_count": 0,
      "outputs": [
        {
          "output_type": "error",
          "ename": "TypeError",
          "evalue": "students() got an unexpected keyword argument 'tanar'",
          "traceback": [
            "\u001b[0;31m---------------------------------------------------------------------------\u001b[0m",
            "\u001b[0;31mTypeError\u001b[0m                                 Traceback (most recent call last)",
            "\u001b[0;32m<ipython-input-33-7769c15fcb73>\u001b[0m in \u001b[0;36m<module>\u001b[0;34m()\u001b[0m\n\u001b[0;32m----> 1\u001b[0;31m \u001b[0mstudents\u001b[0m\u001b[0;34m(\u001b[0m\u001b[0;34m'17:00'\u001b[0m\u001b[0;34m,\u001b[0m\u001b[0mtanar\u001b[0m\u001b[0;34m=\u001b[0m\u001b[0;34m'Mici néni'\u001b[0m\u001b[0;34m)\u001b[0m\u001b[0;34m\u001b[0m\u001b[0m\n\u001b[0m",
            "\u001b[0;31mTypeError\u001b[0m: students() got an unexpected keyword argument 'tanar'"
          ]
        }
      ]
    },
    {
      "cell_type": "markdown",
      "metadata": {
        "id": "uStEmIQub52v",
        "colab_type": "text"
      },
      "source": [
        "Hasonlóan problémába ütközünk, ha egy kulcsszót kétszer is alkalmazunk:"
      ]
    },
    {
      "cell_type": "code",
      "metadata": {
        "id": "vtqlQ6e1b52v",
        "colab_type": "code",
        "colab": {},
        "outputId": "334148c1-c4c6-4068-8347-176e1627fdcf"
      },
      "source": [
        "students('8:00',ora='ógörög',ora='kémia')"
      ],
      "execution_count": 0,
      "outputs": [
        {
          "output_type": "error",
          "ename": "SyntaxError",
          "evalue": "keyword argument repeated (<ipython-input-34-f0bd085991b6>, line 1)",
          "traceback": [
            "\u001b[0;36m  File \u001b[0;32m\"<ipython-input-34-f0bd085991b6>\"\u001b[0;36m, line \u001b[0;32m1\u001b[0m\n\u001b[0;31m    students('8:00',ora='ógörög',ora='kémia')\u001b[0m\n\u001b[0m                                   ^\u001b[0m\n\u001b[0;31mSyntaxError\u001b[0m\u001b[0;31m:\u001b[0m keyword argument repeated\n"
          ]
        }
      ]
    },
    {
      "cell_type": "markdown",
      "metadata": {
        "id": "8f_T7C3vb52w",
        "colab_type": "text"
      },
      "source": [
        "Kulcsszavas argumentumok szótárának kicsomagolása \\*\\*-jel segítségével történik:"
      ]
    },
    {
      "cell_type": "code",
      "metadata": {
        "id": "YfGZSxkOb52x",
        "colab_type": "code",
        "colab": {},
        "outputId": "f40ad577-9e52-4ba8-b718-449119b5eb5a"
      },
      "source": [
        "diak_hozzaallas={'ora':'ének','allapot':'nyüszítenek'};\n",
        "students(12,**diak_hozzaallas)"
      ],
      "execution_count": 0,
      "outputs": [
        {
          "output_type": "stream",
          "text": [
            "Ezek a diákok énekórán kísérletezés közben mindig nyüszítenek!\n",
            "Még akkor is, ha épp  12 -t mutat az óra!\n"
          ],
          "name": "stdout"
        }
      ]
    },
    {
      "cell_type": "markdown",
      "metadata": {
        "id": "cGsXbnfhb52z",
        "colab_type": "text"
      },
      "source": [
        "Amint a sima paramétereknél is, itt is előfordulhat az, hogy tetszőleges hosszúságú dict-et szeretnénk feldolgozni. Erre példa, ha egy olyan függvényt írunk, amely esetleg több más fügvényt hív, melyeknek tovább akarjuk adni a bejövő paraméterek egy részét. \n",
        "\n",
        "Az alábbi függvény egy tetszőleges szótárat vár a bemenetre, megnézi hogy milyen hosszú, és ha a szótárban van 'hamburger' címkéjű kulcsszó, akkor annak az értékét adja vissza:"
      ]
    },
    {
      "cell_type": "code",
      "metadata": {
        "collapsed": true,
        "id": "oh7QEuSRb52z",
        "colab_type": "code",
        "colab": {}
      },
      "source": [
        "def kulcsot_adok_amit_kapok(**szotar):\n",
        "    print('A szotár hossza:',len(szotar))\n",
        "    for kulcs in list(szotar.keys()):\n",
        "        if kulcs=='hamburger':\n",
        "            print('Van hamburger!')\n",
        "            return szotar[kulcs]"
      ],
      "execution_count": 0,
      "outputs": []
    },
    {
      "cell_type": "code",
      "metadata": {
        "id": "SxcrgPHJb522",
        "colab_type": "code",
        "colab": {},
        "outputId": "c846fa24-abeb-490d-f8c8-e388ed0bca32"
      },
      "source": [
        "kulcsot_adok_amit_kapok(makaróni=1,torta='finom') #itt már nem jelent hibát ha előre meg nemhatározott kulcsszavaink vannak!"
      ],
      "execution_count": 0,
      "outputs": [
        {
          "output_type": "stream",
          "text": [
            "A szotár hossza: 2\n"
          ],
          "name": "stdout"
        }
      ]
    },
    {
      "cell_type": "code",
      "metadata": {
        "id": "70ttBJ0Rb524",
        "colab_type": "code",
        "colab": {},
        "outputId": "386334c3-fa19-4352-d7d8-4428a4416a42"
      },
      "source": [
        "kaja={'makaróni':1,'torta':'finom','hamburger':137,'saláta':'nincs'}\n",
        "kulcsot_adok_amit_kapok(**kaja) "
      ],
      "execution_count": 0,
      "outputs": [
        {
          "output_type": "stream",
          "text": [
            "A szotár hossza: 4\n",
            "Van hamburger!\n"
          ],
          "name": "stdout"
        },
        {
          "output_type": "execute_result",
          "data": {
            "text/plain": [
              "137"
            ]
          },
          "metadata": {
            "tags": []
          },
          "execution_count": 38
        }
      ]
    },
    {
      "cell_type": "markdown",
      "metadata": {
        "id": "d8McYu2-b525",
        "colab_type": "text"
      },
      "source": [
        "## Általános függvénydeklarációs szokások"
      ]
    },
    {
      "cell_type": "markdown",
      "metadata": {
        "id": "5fYhT_Mhb526",
        "colab_type": "text"
      },
      "source": [
        "Amint azt a fentiekben láttuk, függvényeknek többféleképpen is adhatunk paramétereket, \n",
        "\n",
        "1. változók (ezek lehetnek sima változók, meghatározott hosszúságú listák, vagy akár kulcsszavas változók is)\n",
        "2. előre meg nem határozott hosszúságú változó lista\n",
        "3. kulcsszavas változók tetszőleges hosszú listája\n",
        "\n",
        "Sokszor előfordul, hogy egy függvénynek mind a négy fajta bemenete is lehet. Illetve hogy néhány változónak alapértelmezett értéket is adunk. Függvények definiálásánál használjuk a fenti sorrendet!\n",
        "\n",
        "Például:"
      ]
    },
    {
      "cell_type": "code",
      "metadata": {
        "id": "k8g9zUNTb526",
        "colab_type": "code",
        "colab": {}
      },
      "source": [
        "def bonyolult_fuggveny(valtozo1,valtozo2,valtozo3='ELZETT',*args,**kwargs):\n",
        "    if ((len(args)==0 and len(kwargs)==0)):\n",
        "        return valtozo3+str(valtozo2)+str(valtozo1)\n",
        "    elif (len(args)!=0 and len(kwargs)==0):\n",
        "        return 'Van valami az args-ban!'\n",
        "    elif (len(args)==0 and len(kwargs)!=0):\n",
        "        return 'Van valami az kwargs-ban!'\n",
        "    else:\n",
        "        return 'Mindenféle változónk van:'+str(valtozo1)+str(valtozo2)+valtozo3+str(args)+str(kwargs)"
      ],
      "execution_count": 0,
      "outputs": []
    },
    {
      "cell_type": "markdown",
      "metadata": {
        "collapsed": true,
        "id": "is0E1fPTb528",
        "colab_type": "text"
      },
      "source": [
        "A fenti függvény első két változója \"sima\" változó, a harmadik egy kulcsszavas változó az alapértelmezett 'ELZETT' értékkel, és ezen kívül megengedünk még egyéb tetszőleges hosszú \"sima\" változók listáját (args), illetve tetszőleges hosszú kulcsszavas változók listáját (kwargs). Nézzük meg hogy a notebook során korábban definiált változókat felhasználva milyen viselkedést mutat a fent deklarált függvény:"
      ]
    },
    {
      "cell_type": "code",
      "metadata": {
        "id": "Mn4tcX8Kb528",
        "colab_type": "code",
        "colab": {},
        "outputId": "7293c61f-4c9d-480f-ea41-2e3f70c02e7a"
      },
      "source": [
        "bonyolult_fuggveny(1,2)"
      ],
      "execution_count": 0,
      "outputs": [
        {
          "output_type": "execute_result",
          "data": {
            "text/plain": [
              "'ELZETT21'"
            ]
          },
          "metadata": {
            "tags": []
          },
          "execution_count": 40
        }
      ]
    },
    {
      "cell_type": "code",
      "metadata": {
        "id": "quA6muPsb52-",
        "colab_type": "code",
        "colab": {},
        "outputId": "659dc439-38e9-4333-ab70-e91ed3e0d0cb"
      },
      "source": [
        "bonyolult_fuggveny(1,2,valtozo3='MULTLOCK')"
      ],
      "execution_count": 0,
      "outputs": [
        {
          "output_type": "execute_result",
          "data": {
            "text/plain": [
              "'MULTLOCK21'"
            ]
          },
          "metadata": {
            "tags": []
          },
          "execution_count": 41
        }
      ]
    },
    {
      "cell_type": "code",
      "metadata": {
        "id": "_PRwnQ3Sb53A",
        "colab_type": "code",
        "colab": {},
        "outputId": "acb7c98d-550e-40a1-af76-fbb0a9daa9c8"
      },
      "source": [
        "bonyolult_fuggveny(1,2,*days_of_the_week)"
      ],
      "execution_count": 0,
      "outputs": [
        {
          "output_type": "execute_result",
          "data": {
            "text/plain": [
              "'Van valami az args-ban!'"
            ]
          },
          "metadata": {
            "tags": []
          },
          "execution_count": 42
        }
      ]
    },
    {
      "cell_type": "code",
      "metadata": {
        "id": "qZzVRuCQb53B",
        "colab_type": "code",
        "colab": {},
        "outputId": "c30b5297-81d7-41c1-d45b-b3a1f61d1eb6"
      },
      "source": [
        "bonyolult_fuggveny(1,2,**kaja)"
      ],
      "execution_count": 0,
      "outputs": [
        {
          "output_type": "execute_result",
          "data": {
            "text/plain": [
              "'Van valami az kwargs-ban!'"
            ]
          },
          "metadata": {
            "tags": []
          },
          "execution_count": 43
        }
      ]
    },
    {
      "cell_type": "code",
      "metadata": {
        "id": "E7c8bA7-b53C",
        "colab_type": "code",
        "colab": {},
        "outputId": "5fedb156-4564-4b6d-b01c-7d8d97457c4f"
      },
      "source": [
        "bonyolult_fuggveny(1,2,*days_of_the_week,**kaja)"
      ],
      "execution_count": 0,
      "outputs": [
        {
          "output_type": "execute_result",
          "data": {
            "text/plain": [
              "\"Mindenféle változónk van:12Sunday('Monday', 'Tuesday', 'Wednesday', 'Thursday', 'Friday', 'Saturday'){'torta': 'finom', 'hamburger': 137, 'makaróni': 1, 'saláta': 'nincs'}\""
            ]
          },
          "metadata": {
            "tags": []
          },
          "execution_count": 44
        }
      ]
    },
    {
      "cell_type": "markdown",
      "metadata": {
        "id": "6V0p5crxb53D",
        "colab_type": "text"
      },
      "source": [
        "## A [Lambda](http://www.secnetix.de/olli/Python/lambda_functions.hawk)-formák ☠\n",
        "\n",
        "Egy függvénynek nemcsak változókat, hanem más függvényeket is megadhatunk bemenetként. Például gondolhatunk egy olyan függvényre, ami egy matematikai függvényt ábrázol! \n",
        "Ilyen esetekben, amikor egy függvény a bemenetére másik függvényt vár, sokszor előfordul, hogy hosszadalmas külön definiálni a bemeneti függvényt. Ekkor tömörebb használni az úgynevezett `lambda`-formákat.\n",
        "Nézzünk erre egy példát! Definiáljunk egy függvényt, ami egy másik függvényt értékel ki egy adott helyen, kiírja a kiértékelési helyet, és visszatér a kiértékelt függvényértékkel:"
      ]
    },
    {
      "cell_type": "code",
      "metadata": {
        "collapsed": true,
        "id": "XzHsrgsWb53E",
        "colab_type": "code",
        "colab": {}
      },
      "source": [
        "def funfun(g,x):\n",
        "    print('Ez volt az x változó: ',x)\n",
        "    return g(x)"
      ],
      "execution_count": 0,
      "outputs": []
    },
    {
      "cell_type": "code",
      "metadata": {
        "id": "Qp3YVb0Lb53F",
        "colab_type": "code",
        "colab": {},
        "outputId": "10414f51-4ba8-4085-8b8b-a9d8403f9e24"
      },
      "source": [
        "def fx(x):\n",
        "    return x**2-1/x;\n",
        "funfun(fx,0.1)"
      ],
      "execution_count": 0,
      "outputs": [
        {
          "output_type": "stream",
          "text": [
            "Ez volt az x változó:  0.1\n"
          ],
          "name": "stdout"
        },
        {
          "output_type": "execute_result",
          "data": {
            "text/plain": [
              "-9.99"
            ]
          },
          "metadata": {
            "tags": []
          },
          "execution_count": 46
        }
      ]
    },
    {
      "cell_type": "markdown",
      "metadata": {
        "id": "hj9p1w7ib53I",
        "colab_type": "text"
      },
      "source": [
        "Ekkor egy úgynevezett `lambda`-forma segítségével alkalmazhatjuk az ennél kicsivel kompaktabb kifejezést (megúszva a függvénydeklarációt):"
      ]
    },
    {
      "cell_type": "code",
      "metadata": {
        "id": "5lgdnAYub53J",
        "colab_type": "code",
        "colab": {},
        "outputId": "5166e677-5daa-49f9-eba6-3bde1e56e278"
      },
      "source": [
        "funfun(lambda x:x**2-1/x,0.1)"
      ],
      "execution_count": 0,
      "outputs": [
        {
          "output_type": "stream",
          "text": [
            "Ez volt az x változó:  0.1\n"
          ],
          "name": "stdout"
        },
        {
          "output_type": "execute_result",
          "data": {
            "text/plain": [
              "-9.99"
            ]
          },
          "metadata": {
            "tags": []
          },
          "execution_count": 47
        }
      ]
    },
    {
      "cell_type": "markdown",
      "metadata": {
        "id": "0ZoA0yorb53L",
        "colab_type": "text"
      },
      "source": [
        "A fenti kifejezésben a \n",
        ">```Python\n",
        "lambda x:x**2-1/x\n",
        "```\n",
        "\n",
        "kódrészlet egy \"anonim\" függvényt definiál, amely az $x$ változóhoz hozzárendeli az $x^2-1/x$-et."
      ]
    },
    {
      "cell_type": "markdown",
      "metadata": {
        "id": "we79f5mqb53L",
        "colab_type": "text"
      },
      "source": [
        "A `lambda`-kifejezésekkel lehet többváltozós függvényeket is definiálni. Például az alábbi\n",
        ">```python\n",
        "lambda x,y:x**2-1/y\n",
        "```\n",
        "\n",
        "kifejezés a\n",
        "\n",
        ">```python\n",
        "def fxy(x,y):\n",
        "    return x**2-1/y\n",
        "```\n",
        "\n",
        "függvénnyel ekvivalens."
      ]
    }
  ]
}