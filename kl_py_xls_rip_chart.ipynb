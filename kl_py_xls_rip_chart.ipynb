{
  "cells": [
    {
      "cell_type": "markdown",
      "metadata": {
        "id": "view-in-github",
        "colab_type": "text"
      },
      "source": [
        "<a href=\"https://colab.research.google.com/github/klajosw/python/blob/master/kl_py_xls_rip_chart.ipynb\" target=\"_parent\"><img src=\"https://colab.research.google.com/assets/colab-badge.svg\" alt=\"Open In Colab\"/></a>"
      ]
    },
    {
      "cell_type": "markdown",
      "metadata": {
        "id": "Dkz9CMUXYPny"
      },
      "source": [
        "<p align=\"left\"> \n",
        "    <img src=\"https://raw.githubusercontent.com/klajosw/python/master/kl_mie_python_logo_250.jpg\" \n",
        "         align=\"left\" width=\"251\" height=\"251\">\n",
        "    \n",
        "</p>\n",
        "\n",
        "\n",
        "<p> </p>\n",
        "\n",
        "#  Riportok Excelbe mentése és diagram készítés \n",
        "\n",
        "##  Pandas és cx_Oracle csomag használatával\n",
        "\n",
        "https://klajosw.blogspot.com/\n",
        "\n",
        "https://github.com/klajosw/\n",
        "\n",
        "---"
      ]
    },
    {
      "cell_type": "code",
      "execution_count": null,
      "metadata": {
        "id": "ttIRVVz5YPn3"
      },
      "outputs": [],
      "source": [
        "## diagram\n",
        "import cx_Oracle\n",
        "import pandas as pd\n",
        "import datetime\n",
        "us_nev = 'klajos'\n",
        "us_jsz = 'Ljs'\n",
        "us_db  = 'aix'\n",
        "\n",
        "dt = datetime.datetime.now() - datetime.timedelta(days=1)  ## tegnapi nap\n",
        "datum  = '{:%Y-%m-%d}'.format(dt)\n",
        "\n",
        "conn = cx_Oracle.connect(us_nev ,us_jsz, us_db)\n",
        "\n",
        "### Excel filebe mentes\n",
        "# Excel írható objektum létrehozása (név tartalmazza a futás dátumot)\n",
        "writer = pd.ExcelWriter(r'c:\\Users\\kl\\Documents\\xls\\kiv_xml_riport_'+datum+'_kesz.xlsx')\n",
        "\n",
        "#------------------- riport eredmény lekérdezése és excel mumklaba helyezés kezdet\n",
        "#--- riport1\n",
        "sql_com = \"\"\"\n",
        "select to_char(END_DATE,'YYYYMMDD') as END_DATE, \n",
        "count(distinct XML_FILENAME) as XML_DB, count( distinct INTERNAL_KEY) as szl_db1, count(0) as SZL_DB0 \n",
        "from DB_STMT_STAT where END_DATE >=  sysdate - 100 \n",
        "group by END_DATE \n",
        "order by END_DATE \"\"\"\n",
        "\n",
        "\n",
        "## lekérdezés futtatás\n",
        "df_ora = pd.read_sql(sql_com, conn)\n",
        "\n",
        "# Pandas dataframe excelbe írása\n",
        "df_ora.to_excel(writer, sheet_name='Stat_XML', engine='xlsxwriter', index=False)\n",
        "\n",
        "workbook  = writer.book\n",
        "worksheet = writer.sheets['Stat_XML']\n",
        "(max_row, max_col) = df_ora.shape\n",
        "\n",
        "# auto szűrő\n",
        "worksheet.autofilter(0, 0, max_row, max_col-1)\n",
        "\n",
        "# oszlop szélesítése : pld. az első oszlop 25-re állítása\n",
        "writer.sheets['Stat_XML'].set_column(0, 0, 25)\n",
        "\n",
        "# diagram beszúrás\n",
        "chart = workbook.add_chart({'type': 'line'})               ## column, pie, line, area, scatter' // circle', 'size': 7}\n",
        "#chart.add_series({'values': ['Stat_XML', 0, 0, 2, 3 ]})\n",
        "#chart.add_series({'values': '=Stat_XML!$A$1:$C$8'})\n",
        "#chart.add_series({'values': ['Stat_XML', 1, 1, max_row, 1]})\n",
        "\"\"\"\n",
        "----------------1.\n",
        "chart.add_series({\n",
        "'name': ['Stat_XML', 0, 2],\n",
        "'categories': ['Stat_XML', 1, 0, max_row, 0],  ## x tengely\n",
        "'values'    : ['Stat_XML', 1, 2, max_row, 2],  ## y tengely\n",
        "## 'values'    : ['Stat_XML', 1, 3, max_row, 3],\n",
        "})\n",
        "chart.add_series({\n",
        "'name': ['Stat_XML', 0, 3],\n",
        "'categories': ['Stat_XML', 1, 0, max_row, 0],  ## x tengely\n",
        "'values'    : ['Stat_XML', 1, 3, max_row, 3],  ## y tengely\n",
        "## 'values'    : ['Stat_XML', 1, 3, max_row, 3],\n",
        "})\n",
        "--------------- 2.\n",
        "chart.add_series({\n",
        "'name': ['Stat_XML', 0, max_col - 1],\n",
        "'categories': ['Stat_XML', 1, 0, max_row , 0],\n",
        "'values': ['Stat_XML', 1, max_col - 1, max_row , max_col - 1],\n",
        "#'overlap':-10,\n",
        "})\n",
        "chart.add_series({\n",
        "'name': ['Stat_XML', 0, max_col - 2],\n",
        "'categories': ['Stat_XML', 1, 0, max_row , 0],\n",
        "'values': ['Stat_XML', 1, max_col - 2, max_row , max_col - 2],\n",
        "#'overlap':-10,\n",
        "})\n",
        "chart.add_series({\n",
        "'name': ['Stat_XML', 0, 1],\n",
        "'categories': ['Stat_XML', 1, 0, max_row , 0],\n",
        "'values': ['Stat_XML', 1, 1, max_row , 1],\n",
        "#'overlap':-10,\n",
        "})\n",
        "\n",
        "\"\"\"\n",
        "## első oszlop a kategoria, tobbi oszlop adatok és az értékek \n",
        "for i in range(max_col):\n",
        "    if i != 0 :\n",
        "        chart.add_series({\n",
        "'name': ['Stat_XML', 0, i],\n",
        "'categories': ['Stat_XML', 1, 0, max_row , 0],\n",
        "'values': ['Stat_XML', 1, i, max_row ,i],\n",
        "#'overlap':-10,\n",
        "})\n",
        "\n",
        "\n",
        "\n",
        "worksheet.insert_chart(1, max_col +1, chart)\n",
        "\n",
        "#------------------- riport eredmény lekérdezése és excel mumklaba helyezés vége\n",
        "\n",
        "# Az excel állomány mentése és lezárás\n",
        "writer.save()\n",
        "writer.close()\n",
        "conn.close()\n"
      ]
    },
    {
      "cell_type": "code",
      "execution_count": null,
      "metadata": {
        "id": "UGX_4XuHYPn5"
      },
      "outputs": [],
      "source": [
        ""
      ]
    }
  ],
  "metadata": {
    "kernelspec": {
      "display_name": "Python 3",
      "language": "python",
      "name": "python3"
    },
    "language_info": {
      "codemirror_mode": {
        "name": "ipython",
        "version": 3
      },
      "file_extension": ".py",
      "mimetype": "text/x-python",
      "name": "python",
      "nbconvert_exporter": "python",
      "pygments_lexer": "ipython3",
      "version": "3.8.8"
    },
    "colab": {
      "name": "kl_py_xls_rip_chart.ipynb",
      "provenance": [],
      "include_colab_link": true
    }
  },
  "nbformat": 4,
  "nbformat_minor": 0
}