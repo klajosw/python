{
  "nbformat": 4,
  "nbformat_minor": 0,
  "metadata": {
    "anaconda-cloud": {},
    "hide_input": false,
    "kernelspec": {
      "display_name": "Python 3",
      "language": "python",
      "name": "python3"
    },
    "language_info": {
      "codemirror_mode": {
        "name": "ipython",
        "version": 3
      },
      "file_extension": ".py",
      "mimetype": "text/x-python",
      "name": "python",
      "nbconvert_exporter": "python",
      "pygments_lexer": "ipython3",
      "version": "3.7.4"
    },
    "latex_envs": {
      "bibliofile": "biblio.bib",
      "cite_by": "apalike",
      "current_citInitial": 1,
      "eqLabelWithNumbers": true,
      "eqNumInitial": 0
    },
    "name": "python-bevezeto.ipynb",
    "colab": {
      "name": "kl_py_kezdolepes.ipynb",
      "provenance": [],
      "collapsed_sections": [
        "zzHhy0KGaYim",
        "ihWv2d17aYi-",
        "Nli69a3MaYjn",
        "BrG5zntHaYkk",
        "XyufDODlaYk_",
        "Fn89WIvxaYlS"
      ],
      "include_colab_link": true
    }
  },
  "cells": [
    {
      "cell_type": "markdown",
      "metadata": {
        "id": "view-in-github",
        "colab_type": "text"
      },
      "source": [
        "<a href=\"https://colab.research.google.com/github/klajosw/python/blob/master/kl_py_kezdolepes.ipynb\" target=\"_parent\"><img src=\"https://colab.research.google.com/assets/colab-badge.svg\" alt=\"Open In Colab\"/></a>"
      ]
    },
    {
      "cell_type": "markdown",
      "metadata": {
        "id": "qiBM-GUpaYhq",
        "colab_type": "text"
      },
      "source": [
        "# Kezdő lépések Pythonban, ismerkedés a változókkal\n",
        "Ebben a notebookban rövid példákon keresztül megismerkedünk a Python nyelv szintaxisával, és néhány alapvető adattípussal és adatstruktúrával. Később ezeket és az ezekből származtatott adatstruktúrákat fogjuk lépten-nyomon használni.\n",
        "\n",
        "---"
      ]
    },
    {
      "cell_type": "markdown",
      "metadata": {
        "id": "mRV93Tt7aYhs",
        "colab_type": "text"
      },
      "source": [
        "## Megjegyzések (Comment-ek)\n",
        "A Pythonban a megjegyzések kettőskereszttel ('#') kezdődnek, és a sor végéig tartanak. Egy megjegyzés lehet sor elején, vagy követhet szóközt, tabulátor karaktert, de ha egy karakterlánc (string) belsejébe teszed, az nem lesz megjegyzés (lásd a példában!). A kettőskereszt karakter egy karakterláncon belül csak egy kettőskeresztet jelent."
      ]
    },
    {
      "cell_type": "code",
      "metadata": {
        "id": "858x3UclaYht",
        "colab_type": "code",
        "colab": {}
      },
      "source": [
        "# ez az első megjegyzés\n",
        "SPAM = 1                 # ez a második megjegyzés\n",
        "                         # ... és ez a harmadik.\n",
        "STRING = \"# Ez nem megjegyzés, mert idézőjelekben van.\""
      ],
      "execution_count": 0,
      "outputs": []
    },
    {
      "cell_type": "markdown",
      "metadata": {
        "id": "kqcCE1MkaYhv",
        "colab_type": "text"
      },
      "source": [
        "A komment csak a programozónak szól emlékeztetőül, vagy más programozók megértését segíti. Noha gyakran elmarad, a kódok rendszeres dokumentálása megjegyzésekkel később (amikor már a kód részleteit a feledés homálya borítja) nagyon kifizetődő lehet.\n",
        "\n",
        "---"
      ]
    },
    {
      "cell_type": "markdown",
      "metadata": {
        "id": "4aqgMVTBaYhw",
        "colab_type": "text"
      },
      "source": [
        "## A Python használata számológépként\n",
        "\n",
        "A notebookot lehet úgy használni, mint egy sima számológépet: be lehet írni egy kifejezést, és az kiszámolja az értékét. A kifejezések nyelvtana a szokásos: a +, -, * és / műveletek ugyanúgy működnek, mint a legtöbb nyelvben (például Fortran vagy C). A zárójeleket értelemszerűen az elvégzendő műveletek csoportosítására, a műveleti sorrend meghatározására használjuk. Például:"
      ]
    },
    {
      "cell_type": "code",
      "metadata": {
        "id": "H3WPOrVMaYhx",
        "colab_type": "code",
        "colab": {},
        "outputId": "5b4f11b5-6245-4437-ee55-d4892b9b2ef5"
      },
      "source": [
        "2 + 2"
      ],
      "execution_count": 0,
      "outputs": [
        {
          "output_type": "execute_result",
          "data": {
            "text/plain": [
              "4"
            ]
          },
          "metadata": {
            "tags": []
          },
          "execution_count": 2
        }
      ]
    },
    {
      "cell_type": "code",
      "metadata": {
        "id": "A9K9-neuaYh0",
        "colab_type": "code",
        "colab": {},
        "outputId": "a0b244db-46dd-4096-91b1-bc7bbaa7ffa2"
      },
      "source": [
        "50 - 5*6"
      ],
      "execution_count": 0,
      "outputs": [
        {
          "output_type": "execute_result",
          "data": {
            "text/plain": [
              "20"
            ]
          },
          "metadata": {
            "tags": []
          },
          "execution_count": 3
        }
      ]
    },
    {
      "cell_type": "code",
      "metadata": {
        "id": "Pu3zIOFEaYh2",
        "colab_type": "code",
        "colab": {},
        "outputId": "8c88cd52-8972-4c94-8eae-a355bb6306e0"
      },
      "source": [
        "(50 - 5*6) / 4"
      ],
      "execution_count": 0,
      "outputs": [
        {
          "output_type": "execute_result",
          "data": {
            "text/plain": [
              "5.0"
            ]
          },
          "metadata": {
            "tags": []
          },
          "execution_count": 4
        }
      ]
    },
    {
      "cell_type": "code",
      "metadata": {
        "id": "zTn2W5sYaYh4",
        "colab_type": "code",
        "colab": {},
        "outputId": "b9bd2bcd-c1b0-4536-eb5b-50c2ebfe05c8"
      },
      "source": [
        "8 / 5  # az osztás egész számok esetén is lebegőpontos eredményt ad. "
      ],
      "execution_count": 0,
      "outputs": [
        {
          "output_type": "execute_result",
          "data": {
            "text/plain": [
              "1.6"
            ]
          },
          "metadata": {
            "tags": []
          },
          "execution_count": 5
        }
      ]
    },
    {
      "cell_type": "markdown",
      "metadata": {
        "id": "lqruWh4gaYh7",
        "colab_type": "text"
      },
      "source": [
        "Az egész számok (pl. 2, 4, 20) alkotják az **int** típust, a valós számok (pl 5.0, 1.6) pedig a **float** típust. \n",
        "A Python 3-ban az osztás (/) mindig lebegőpontos értékeket ad vissza. Lefelé kerekítő egészosztás elvégzéséhez, amellyel egész értéket kapunk, a // operátor használható; az osztás maradékához a %-t hívhatjuk segítségül:"
      ]
    },
    {
      "cell_type": "code",
      "metadata": {
        "id": "3ViM_h6saYh7",
        "colab_type": "code",
        "colab": {},
        "outputId": "4180c75a-44a8-4d5d-fbe3-65e15086eb01"
      },
      "source": [
        "17 / 3  # hagyományos osztás lebegőpontos eredménnyel"
      ],
      "execution_count": 0,
      "outputs": [
        {
          "output_type": "execute_result",
          "data": {
            "text/plain": [
              "5.666666666666667"
            ]
          },
          "metadata": {
            "tags": []
          },
          "execution_count": 6
        }
      ]
    },
    {
      "cell_type": "code",
      "metadata": {
        "id": "oMeMYUgAaYh9",
        "colab_type": "code",
        "colab": {},
        "outputId": "e645fb58-298c-4abc-daf7-c93fe88d9e45"
      },
      "source": [
        "17 // 3  # az egészosztással megszabadulunk a törtrésztől"
      ],
      "execution_count": 0,
      "outputs": [
        {
          "output_type": "execute_result",
          "data": {
            "text/plain": [
              "5"
            ]
          },
          "metadata": {
            "tags": []
          },
          "execution_count": 7
        }
      ]
    },
    {
      "cell_type": "code",
      "metadata": {
        "id": "XijW9RAVaYh_",
        "colab_type": "code",
        "colab": {},
        "outputId": "0a0810ff-d21b-4311-e133-df70fa38b1b7"
      },
      "source": [
        "17 % 3  # a % operátor az osztás maradékával tér vissza"
      ],
      "execution_count": 0,
      "outputs": [
        {
          "output_type": "execute_result",
          "data": {
            "text/plain": [
              "2"
            ]
          },
          "metadata": {
            "tags": []
          },
          "execution_count": 8
        }
      ]
    },
    {
      "cell_type": "code",
      "metadata": {
        "id": "fe_JO4HgaYiB",
        "colab_type": "code",
        "colab": {},
        "outputId": "8c88b95e-0dc8-4491-c06f-a52308d4c4be"
      },
      "source": [
        "5 * 3 + 2  # eredmény * osztó + maradék"
      ],
      "execution_count": 0,
      "outputs": [
        {
          "output_type": "execute_result",
          "data": {
            "text/plain": [
              "17"
            ]
          },
          "metadata": {
            "tags": []
          },
          "execution_count": 9
        }
      ]
    },
    {
      "cell_type": "markdown",
      "metadata": {
        "id": "iD1gNulDaYiD",
        "colab_type": "text"
      },
      "source": [
        "A Pythonban a ** operátor használható a hatvány kiszámítására:"
      ]
    },
    {
      "cell_type": "code",
      "metadata": {
        "id": "hqVnBl2vaYiD",
        "colab_type": "code",
        "colab": {},
        "outputId": "45e9fbd4-f5c0-49fb-9c8b-3187f7cba0cc"
      },
      "source": [
        "5 ** 2  # 5 négyzete"
      ],
      "execution_count": 0,
      "outputs": [
        {
          "output_type": "execute_result",
          "data": {
            "text/plain": [
              "25"
            ]
          },
          "metadata": {
            "tags": []
          },
          "execution_count": 10
        }
      ]
    },
    {
      "cell_type": "code",
      "metadata": {
        "id": "w_FnyJfMaYiF",
        "colab_type": "code",
        "colab": {},
        "outputId": "5d97bcfd-3036-4ff0-acfc-1c05277b365c"
      },
      "source": [
        "2 ** 7  # 2 7-dik hatványa"
      ],
      "execution_count": 0,
      "outputs": [
        {
          "output_type": "execute_result",
          "data": {
            "text/plain": [
              "128"
            ]
          },
          "metadata": {
            "tags": []
          },
          "execution_count": 11
        }
      ]
    },
    {
      "cell_type": "markdown",
      "metadata": {
        "id": "odGB1Vy4aYiH",
        "colab_type": "text"
      },
      "source": [
        "A `Python` a lebegőpontos számokat bizonyos tekintetben előnyben részesíti az egész számokhoz képest. Azok a műveletek, amelyeknél keverednek a típusok, az egészeket lebegőpontossá alakítják:"
      ]
    },
    {
      "cell_type": "code",
      "metadata": {
        "id": "EqOqIsNsaYiI",
        "colab_type": "code",
        "colab": {},
        "outputId": "3fcca6d3-bd75-4165-8099-78b495af873b"
      },
      "source": [
        "3 * 3.75 / 1.5"
      ],
      "execution_count": 0,
      "outputs": [
        {
          "output_type": "execute_result",
          "data": {
            "text/plain": [
              "7.5"
            ]
          },
          "metadata": {
            "tags": []
          },
          "execution_count": 12
        }
      ]
    },
    {
      "cell_type": "code",
      "metadata": {
        "id": "BY8PxlASaYiK",
        "colab_type": "code",
        "colab": {},
        "outputId": "7044c3c8-78ae-4d52-f07a-b606c6e7b1c3"
      },
      "source": [
        "7.0 / 2"
      ],
      "execution_count": 0,
      "outputs": [
        {
          "output_type": "execute_result",
          "data": {
            "text/plain": [
              "3.5"
            ]
          },
          "metadata": {
            "tags": []
          },
          "execution_count": 13
        }
      ]
    },
    {
      "cell_type": "markdown",
      "metadata": {
        "id": "o5KeAvubaYiM",
        "colab_type": "text"
      },
      "source": [
        "Előfordul néha, hogy egyes függvények `int` típusú változót, várnak és ezt egy `float` típusúból kell előállítanunk. A típusok közti konverziót az int() és float() függvények segítségével tehetjük meg."
      ]
    },
    {
      "cell_type": "code",
      "metadata": {
        "id": "wvXTesTMaYiN",
        "colab_type": "code",
        "colab": {},
        "outputId": "65ddb2f7-9e44-4f07-ce47-ebd9957f2649"
      },
      "source": [
        "int(3.1415)"
      ],
      "execution_count": 0,
      "outputs": [
        {
          "output_type": "execute_result",
          "data": {
            "text/plain": [
              "3"
            ]
          },
          "metadata": {
            "tags": []
          },
          "execution_count": 14
        }
      ]
    },
    {
      "cell_type": "code",
      "metadata": {
        "id": "fTMOpUA5aYiO",
        "colab_type": "code",
        "colab": {},
        "outputId": "b0493dd6-bccd-4633-85d0-a490f77111fb"
      },
      "source": [
        "float(42)"
      ],
      "execution_count": 0,
      "outputs": [
        {
          "output_type": "execute_result",
          "data": {
            "text/plain": [
              "42.0"
            ]
          },
          "metadata": {
            "tags": []
          },
          "execution_count": 15
        }
      ]
    },
    {
      "cell_type": "markdown",
      "metadata": {
        "id": "iaktkHVjaYiQ",
        "colab_type": "text"
      },
      "source": [
        "A `Python` komplex számokat is tud kezelni – a képzetes részt a j vagy J jellel képezhetjük. A komplex számot (valós+képzetes j) formában írhatjuk:"
      ]
    },
    {
      "cell_type": "code",
      "metadata": {
        "id": "u3bYopdvaYiR",
        "colab_type": "code",
        "colab": {},
        "outputId": "580a608d-df7e-4873-ccba-2db5c35f5cf9"
      },
      "source": [
        "1j * 1J"
      ],
      "execution_count": 0,
      "outputs": [
        {
          "output_type": "execute_result",
          "data": {
            "text/plain": [
              "(-1+0j)"
            ]
          },
          "metadata": {
            "tags": []
          },
          "execution_count": 16
        }
      ]
    },
    {
      "cell_type": "code",
      "metadata": {
        "id": "J0LpfMA2aYiT",
        "colab_type": "code",
        "colab": {},
        "outputId": "3b2e5c7a-0803-42e3-dfcb-8b28cf4261bc"
      },
      "source": [
        "3+1j*3"
      ],
      "execution_count": 0,
      "outputs": [
        {
          "output_type": "execute_result",
          "data": {
            "text/plain": [
              "(3+3j)"
            ]
          },
          "metadata": {
            "tags": []
          },
          "execution_count": 17
        }
      ]
    },
    {
      "cell_type": "code",
      "metadata": {
        "id": "bCPJ-xifaYiU",
        "colab_type": "code",
        "colab": {},
        "outputId": "ba32e69c-e04b-4376-ccc2-73fa18b73683"
      },
      "source": [
        "(3+1j)*3"
      ],
      "execution_count": 0,
      "outputs": [
        {
          "output_type": "execute_result",
          "data": {
            "text/plain": [
              "(9+3j)"
            ]
          },
          "metadata": {
            "tags": []
          },
          "execution_count": 18
        }
      ]
    },
    {
      "cell_type": "code",
      "metadata": {
        "id": "VPN5-R_EaYiZ",
        "colab_type": "code",
        "colab": {},
        "outputId": "3ab126a3-33c9-4c77-a53a-f802916fc7d7"
      },
      "source": [
        "(1+2j)/(1+1j)"
      ],
      "execution_count": 0,
      "outputs": [
        {
          "output_type": "execute_result",
          "data": {
            "text/plain": [
              "(1.5+0.5j)"
            ]
          },
          "metadata": {
            "tags": []
          },
          "execution_count": 19
        }
      ]
    },
    {
      "cell_type": "markdown",
      "metadata": {
        "id": "FxnXZvAZaYid",
        "colab_type": "text"
      },
      "source": [
        "A komplex számokat gyakran két lebegőpontos számmal ábrázolják: a képzetes és a valós résszel. A `z` komplex számnak ezeket a részeit talán kicsit szokatlan módon (a változó után írt `.` és a megfelelő szó ) a `z.real` és `z.imag` utasításokkal olvashatjuk vissza."
      ]
    },
    {
      "cell_type": "code",
      "metadata": {
        "id": "NK1plMBbaYie",
        "colab_type": "code",
        "colab": {},
        "outputId": "60048aff-3d2d-49e9-ac21-61a36caffe95"
      },
      "source": [
        "(1.5+0.5j).real"
      ],
      "execution_count": 0,
      "outputs": [
        {
          "output_type": "execute_result",
          "data": {
            "text/plain": [
              "1.5"
            ]
          },
          "metadata": {
            "tags": []
          },
          "execution_count": 20
        }
      ]
    },
    {
      "cell_type": "code",
      "metadata": {
        "id": "RaOmun4eaYif",
        "colab_type": "code",
        "colab": {},
        "outputId": "7cc6aa9b-dd92-4cbb-89c1-c54333a11d85"
      },
      "source": [
        "(1.5+0.5j).imag"
      ],
      "execution_count": 0,
      "outputs": [
        {
          "output_type": "execute_result",
          "data": {
            "text/plain": [
              "0.5"
            ]
          },
          "metadata": {
            "tags": []
          },
          "execution_count": 21
        }
      ]
    },
    {
      "cell_type": "markdown",
      "metadata": {
        "id": "Pq3kbLejaYih",
        "colab_type": "text"
      },
      "source": [
        "A lebegőpontos és egész típusú konverziós függvények (`float()` és `int()`) nem működnek komplex számokra.\n",
        "A komplex-valós átalakításnak több lehetséges módja is van: ahhoz, hogy egy komplex számból valósat csinálj, használd az abs(z) utasítást, hogy megkapd a nagyságát, vagy a fennt már megismert `z.real` és `z.imag` utasítást, ha a valós része vagy a képzetes része kell. "
      ]
    },
    {
      "cell_type": "code",
      "metadata": {
        "id": "Z1yasd4laYii",
        "colab_type": "code",
        "colab": {},
        "outputId": "1c081bf2-b4dd-4cb3-9314-9ec91fc4182e"
      },
      "source": [
        "float(3.0+4.0j) # ez nem működik"
      ],
      "execution_count": 0,
      "outputs": [
        {
          "output_type": "error",
          "ename": "TypeError",
          "evalue": "can't convert complex to float",
          "traceback": [
            "\u001b[0;31m---------------------------------------------------------------------------\u001b[0m",
            "\u001b[0;31mTypeError\u001b[0m                                 Traceback (most recent call last)",
            "\u001b[0;32m<ipython-input-22-c2200350f3cd>\u001b[0m in \u001b[0;36m<module>\u001b[0;34m()\u001b[0m\n\u001b[0;32m----> 1\u001b[0;31m \u001b[0mfloat\u001b[0m\u001b[0;34m(\u001b[0m\u001b[0;36m3.0\u001b[0m\u001b[0;34m+\u001b[0m\u001b[0;36m4.0j\u001b[0m\u001b[0;34m)\u001b[0m \u001b[0;31m# ez nem működik\u001b[0m\u001b[0;34m\u001b[0m\u001b[0m\n\u001b[0m",
            "\u001b[0;31mTypeError\u001b[0m: can't convert complex to float"
          ]
        }
      ]
    },
    {
      "cell_type": "code",
      "metadata": {
        "id": "tIcEH5nmaYik",
        "colab_type": "code",
        "colab": {}
      },
      "source": [
        "abs(3.0+4.0j)  # sqrt(a.real**2 + a.imag**2)"
      ],
      "execution_count": 0,
      "outputs": []
    },
    {
      "cell_type": "markdown",
      "metadata": {
        "id": "IYLDmLeYaYim",
        "colab_type": "text"
      },
      "source": [
        "---"
      ]
    },
    {
      "cell_type": "markdown",
      "metadata": {
        "id": "zzHhy0KGaYim",
        "colab_type": "text"
      },
      "source": [
        "## Változók\n",
        "\n",
        "Programozási feladatok során rendszerint változókban tároljuk a hasznos információkat. A megírt programok nem konkrét számértékekre hanem, változókra hivatkoznak, ez teszi lehetővé, hogy különböző bemeneti adatokra ugyanazt az algoritmust ha kell, többször is lefuttathassuk. A változók neveit rendszerint az angol ABC betűiből és esetleg néhány egyéb karakterből szokás összeállítani. Például: \n",
        "```python\n",
        "szelesseg        # ebben csak betűk vannak\n",
        "a_folyoso_hossza # ebben a változó névben szerepel a _ karakter is\n",
        "```\n",
        "\n",
        "A változók neveit célszerű úgy megválasztani hogy később könnyen kitalálható legyen, mit is jelölünk vele.\n",
        "A legtöbb programozási nyelvhez hasonlóan az egyenlőségjellel (=) lehet értéket adni egy változónak. Az értékadás után az értelmező újabb utasításra vár, látszólag nem történik semmi:"
      ]
    },
    {
      "cell_type": "code",
      "metadata": {
        "collapsed": true,
        "id": "iSmbowR4aYin",
        "colab_type": "code",
        "colab": {}
      },
      "source": [
        "szelesseg = 20\n",
        "magassag = 5*9"
      ],
      "execution_count": 0,
      "outputs": []
    },
    {
      "cell_type": "markdown",
      "metadata": {
        "id": "FHBrVEN0aYip",
        "colab_type": "text"
      },
      "source": [
        "A háttérben viszont létrejöttek a `szelesseg` és `magassag` változók, amikkel most már hasznos dolgokat tudunk művelni. Számítsuk ki például a két változó szorzatát:"
      ]
    },
    {
      "cell_type": "code",
      "metadata": {
        "id": "LY0gCWspaYip",
        "colab_type": "code",
        "colab": {},
        "outputId": "c11a51a8-b9f1-49f7-ec64-b809522bc07f"
      },
      "source": [
        "szelesseg * magassag"
      ],
      "execution_count": 0,
      "outputs": [
        {
          "output_type": "execute_result",
          "data": {
            "text/plain": [
              "900"
            ]
          },
          "metadata": {
            "tags": []
          },
          "execution_count": 24
        }
      ]
    },
    {
      "cell_type": "markdown",
      "metadata": {
        "id": "kyXGbbzKaYir",
        "colab_type": "text"
      },
      "source": [
        "Ha egy változó nincs definiálva (nincs érték rendelve hozzá), és használni próbáljuk, akkor hibaüzenetet kapunk:"
      ]
    },
    {
      "cell_type": "code",
      "metadata": {
        "id": "PCRchvfXaYit",
        "colab_type": "code",
        "colab": {},
        "outputId": "7d01fe8d-3296-4dc4-80ad-e4921e327e34"
      },
      "source": [
        "n  # Az n változót még nem definiáltuk"
      ],
      "execution_count": 0,
      "outputs": [
        {
          "output_type": "error",
          "ename": "NameError",
          "evalue": "name 'n' is not defined",
          "traceback": [
            "\u001b[0;31m---------------------------------------------------------------------------\u001b[0m",
            "\u001b[0;31mNameError\u001b[0m                                 Traceback (most recent call last)",
            "\u001b[0;32m<ipython-input-25-a2ede96a8cec>\u001b[0m in \u001b[0;36m<module>\u001b[0;34m()\u001b[0m\n\u001b[0;32m----> 1\u001b[0;31m \u001b[0mn\u001b[0m  \u001b[0;31m# Az n változót még nem definiáltuk\u001b[0m\u001b[0;34m\u001b[0m\u001b[0m\n\u001b[0m",
            "\u001b[0;31mNameError\u001b[0m: name 'n' is not defined"
          ]
        }
      ]
    },
    {
      "cell_type": "markdown",
      "metadata": {
        "id": "HlmBuFQ2aYiw",
        "colab_type": "text"
      },
      "source": [
        "Az utoljára kiírt kifejezés értéke a _ (alsóvonás) változóban van. Így ha a Pythont asztali számológépként használod, akkor egyszerűbb folytatni a számolásokat, például:"
      ]
    },
    {
      "cell_type": "code",
      "metadata": {
        "collapsed": true,
        "id": "j88ipWxcaYiw",
        "colab_type": "code",
        "colab": {}
      },
      "source": [
        "ado = 12.5 / 100"
      ],
      "execution_count": 0,
      "outputs": []
    },
    {
      "cell_type": "code",
      "metadata": {
        "collapsed": true,
        "id": "QjaFG3PyaYi0",
        "colab_type": "code",
        "colab": {}
      },
      "source": [
        "ar = 100.50"
      ],
      "execution_count": 0,
      "outputs": []
    },
    {
      "cell_type": "code",
      "metadata": {
        "id": "GwBo5tp4aYi2",
        "colab_type": "code",
        "colab": {},
        "outputId": "b4b6e6eb-bea2-49a9-880f-729e836a98f5"
      },
      "source": [
        "ar * ado"
      ],
      "execution_count": 0,
      "outputs": [
        {
          "output_type": "execute_result",
          "data": {
            "text/plain": [
              "12.5625"
            ]
          },
          "metadata": {
            "tags": []
          },
          "execution_count": 28
        }
      ]
    },
    {
      "cell_type": "code",
      "metadata": {
        "id": "eO__hzYLaYi3",
        "colab_type": "code",
        "colab": {},
        "outputId": "c17d5648-4cd3-4759-d010-65e7f24a0061"
      },
      "source": [
        "ar + _"
      ],
      "execution_count": 0,
      "outputs": [
        {
          "output_type": "execute_result",
          "data": {
            "text/plain": [
              "113.0625"
            ]
          },
          "metadata": {
            "tags": []
          },
          "execution_count": 29
        }
      ]
    },
    {
      "cell_type": "code",
      "metadata": {
        "id": "qSvfd0RAaYi6",
        "colab_type": "code",
        "colab": {},
        "outputId": "e84b3e19-965c-49eb-ca62-f3fe3766f621"
      },
      "source": [
        "round(_, 2) #kerekítés 2 tizedes jegyre"
      ],
      "execution_count": 0,
      "outputs": [
        {
          "output_type": "execute_result",
          "data": {
            "text/plain": [
              "113.06"
            ]
          },
          "metadata": {
            "tags": []
          },
          "execution_count": 30
        }
      ]
    },
    {
      "cell_type": "markdown",
      "metadata": {
        "id": "4xzsX28MaYi7",
        "colab_type": "text"
      },
      "source": [
        "Ezt a változót csak olvasható változóként kezelhetjük. Ne adjunk értéket neki, mert ha adunk, akkor létrehozunk egy független helyi változót azonos névvel, amely meggátolja a beépített változó elérését, amely mágikus módon viselkedik. (Ha egy globális változó nevével létrehozunk egy helyi változót, akkor az értelmező a helyit használja.)"
      ]
    },
    {
      "cell_type": "markdown",
      "metadata": {
        "id": "unpuNXrXaYi8",
        "colab_type": "text"
      },
      "source": [
        "A notebookban az előző eredményen kívül jóval korábbi eredményekre is hivatkozhatunk. Például 2. parancs kimenetére a következőképpen:"
      ]
    },
    {
      "cell_type": "code",
      "metadata": {
        "id": "1XEk2Gj6aYi8",
        "colab_type": "code",
        "colab": {},
        "outputId": "a255af36-7b72-4cbe-cd5b-dc8868ac4ec9"
      },
      "source": [
        "Out[2]"
      ],
      "execution_count": 0,
      "outputs": [
        {
          "output_type": "execute_result",
          "data": {
            "text/plain": [
              "4"
            ]
          },
          "metadata": {
            "tags": []
          },
          "execution_count": 31
        }
      ]
    },
    {
      "cell_type": "markdown",
      "metadata": {
        "id": "o0FGUpE1aYi-",
        "colab_type": "text"
      },
      "source": [
        "---"
      ]
    },
    {
      "cell_type": "markdown",
      "metadata": {
        "id": "ihWv2d17aYi-",
        "colab_type": "text"
      },
      "source": [
        "## Logikai Bool-változók és feltételes végrehajtás\n",
        "Ahhoz, hogy a program reagálni tudjon bemenetekre, vagy egy már kiszámolt részeredménytől függhessen további működése, szükség van feltételek vizsgálatára. Gondoljunk például a másodfokú egyenlet megoldóképletére! Attól függően, hogy a diszkrimináns pozitív vagy negatív, léteznek, ill. nem léteznek valós gyökök, így értelemszerűen egy ilyen programnak \"döntenie\" kell. A döntés egy feltétel vizsgálatán alapul (pl. poz. vagy neg. diszkrimináns), ami lehet igaz, vagy hamis, angolul *True*, ill. *False*. Az igaz és hamis értéket tárolni képes változó típusa: **boolean** (Bool-változó). (Emlékezzünk vissza az **int** ill. **float** típusokra)."
      ]
    },
    {
      "cell_type": "markdown",
      "metadata": {
        "id": "WbiP4MFNaYi-",
        "colab_type": "text"
      },
      "source": [
        "Két objektum azonosságáról dupla egyenlőségjellel, azaz a == operátor segítségével tájékozódhatunk. "
      ]
    },
    {
      "cell_type": "code",
      "metadata": {
        "id": "uBbWOGAkaYi_",
        "colab_type": "code",
        "colab": {},
        "outputId": "1e070581-07db-4627-e3fc-13b36ee95be7"
      },
      "source": [
        "1 == 1  # 1 megeggyezik 1-el ?"
      ],
      "execution_count": 0,
      "outputs": [
        {
          "output_type": "execute_result",
          "data": {
            "text/plain": [
              "True"
            ]
          },
          "metadata": {
            "tags": []
          },
          "execution_count": 32
        }
      ]
    },
    {
      "cell_type": "code",
      "metadata": {
        "id": "D-SItTvjaYjA",
        "colab_type": "code",
        "colab": {},
        "outputId": "e733711b-1f7c-460d-b162-9a95c2897f52"
      },
      "source": [
        "1 == 2 # 1 megeggyezik 2-vel ?"
      ],
      "execution_count": 0,
      "outputs": [
        {
          "output_type": "execute_result",
          "data": {
            "text/plain": [
              "False"
            ]
          },
          "metadata": {
            "tags": []
          },
          "execution_count": 33
        }
      ]
    },
    {
      "cell_type": "markdown",
      "metadata": {
        "id": "Nzh9J4RpaYjC",
        "colab_type": "text"
      },
      "source": [
        "Ha arról akarunk meggyőződni hogy két objektum nem ugyanaz, akkor ezt a != operátor segítségével tehetjük meg:"
      ]
    },
    {
      "cell_type": "code",
      "metadata": {
        "id": "WNbqohQkaYjD",
        "colab_type": "code",
        "colab": {},
        "outputId": "5ffcde5c-c5d5-499d-b97b-e102f59b733a"
      },
      "source": [
        "1!=2 #1 nem 2 ?"
      ],
      "execution_count": 0,
      "outputs": [
        {
          "output_type": "execute_result",
          "data": {
            "text/plain": [
              "True"
            ]
          },
          "metadata": {
            "tags": []
          },
          "execution_count": 34
        }
      ]
    },
    {
      "cell_type": "markdown",
      "metadata": {
        "id": "gVZneYeQaYjE",
        "colab_type": "text"
      },
      "source": [
        "Természetszerűen számok esetén a <,> operátorok segítségével dönthetjük el, hogy melyik szám a nagyobb:"
      ]
    },
    {
      "cell_type": "code",
      "metadata": {
        "id": "cUaeK9V9aYjE",
        "colab_type": "code",
        "colab": {},
        "outputId": "764bc2d6-7492-46d3-df60-6e390ab242a5"
      },
      "source": [
        "1>2"
      ],
      "execution_count": 0,
      "outputs": [
        {
          "output_type": "execute_result",
          "data": {
            "text/plain": [
              "False"
            ]
          },
          "metadata": {
            "tags": []
          },
          "execution_count": 35
        }
      ]
    },
    {
      "cell_type": "code",
      "metadata": {
        "id": "YjJL5o1saYjG",
        "colab_type": "code",
        "colab": {},
        "outputId": "2e6b5115-5871-43cc-f5a0-0df10a1a73e3"
      },
      "source": [
        "1<2"
      ],
      "execution_count": 0,
      "outputs": [
        {
          "output_type": "execute_result",
          "data": {
            "text/plain": [
              "True"
            ]
          },
          "metadata": {
            "tags": []
          },
          "execution_count": 36
        }
      ]
    },
    {
      "cell_type": "code",
      "metadata": {
        "id": "NnAN-wX0aYjL",
        "colab_type": "code",
        "colab": {},
        "outputId": "75efff27-16dc-484c-bdc6-524cc74b0797"
      },
      "source": [
        "1j+3>2 # complex számokra nem értelmezzük a <> jeleket!!"
      ],
      "execution_count": 0,
      "outputs": [
        {
          "output_type": "error",
          "ename": "TypeError",
          "evalue": "unorderable types: complex() > int()",
          "traceback": [
            "\u001b[0;31m---------------------------------------------------------------------------\u001b[0m",
            "\u001b[0;31mTypeError\u001b[0m                                 Traceback (most recent call last)",
            "\u001b[0;32m<ipython-input-37-b892698ccb2f>\u001b[0m in \u001b[0;36m<module>\u001b[0;34m()\u001b[0m\n\u001b[0;32m----> 1\u001b[0;31m \u001b[0;36m1j\u001b[0m\u001b[0;34m+\u001b[0m\u001b[0;36m3\u001b[0m\u001b[0;34m>\u001b[0m\u001b[0;36m2\u001b[0m \u001b[0;31m# complex számokra nem értelmezzük a <> jeleket!!\u001b[0m\u001b[0;34m\u001b[0m\u001b[0m\n\u001b[0m",
            "\u001b[0;31mTypeError\u001b[0m: unorderable types: complex() > int()"
          ]
        }
      ]
    },
    {
      "cell_type": "markdown",
      "metadata": {
        "id": "azLqJflYaYjP",
        "colab_type": "text"
      },
      "source": [
        "Egy igaz/hamis értéket változóban is tárolhatunk:"
      ]
    },
    {
      "cell_type": "code",
      "metadata": {
        "collapsed": true,
        "id": "j8-gLmEsaYjQ",
        "colab_type": "code",
        "colab": {}
      },
      "source": [
        "igazvagyhamis= 2*2==5"
      ],
      "execution_count": 0,
      "outputs": []
    },
    {
      "cell_type": "code",
      "metadata": {
        "id": "HaPq3DjDaYjS",
        "colab_type": "code",
        "colab": {},
        "outputId": "a9003563-8015-4569-9c16-413af971c979"
      },
      "source": [
        "igazvagyhamis"
      ],
      "execution_count": 0,
      "outputs": [
        {
          "output_type": "execute_result",
          "data": {
            "text/plain": [
              "False"
            ]
          },
          "metadata": {
            "tags": []
          },
          "execution_count": 39
        }
      ]
    },
    {
      "cell_type": "markdown",
      "metadata": {
        "id": "3tp1tC0saYjU",
        "colab_type": "text"
      },
      "source": [
        "Az **is** és **is not** relációk összehasonlítják, hogy két dolog valóban azonos-e. Minden összehasonlító relációnak azonos precedenciája van, mely magasabb, mint a számokkal végzett műveleteké."
      ]
    },
    {
      "cell_type": "code",
      "metadata": {
        "id": "O5VhhrPfaYjV",
        "colab_type": "code",
        "colab": {},
        "outputId": "3a85e386-efaf-4963-ddc7-7a207cd98c60"
      },
      "source": [
        "1==1.0 # A számegyenesen történő összehasonlítás"
      ],
      "execution_count": 0,
      "outputs": [
        {
          "output_type": "execute_result",
          "data": {
            "text/plain": [
              "True"
            ]
          },
          "metadata": {
            "tags": []
          },
          "execution_count": 40
        }
      ]
    },
    {
      "cell_type": "code",
      "metadata": {
        "id": "AQTAdkZhaYjY",
        "colab_type": "code",
        "colab": {},
        "outputId": "b077de89-78a4-4afe-8260-a89756eeb8e8"
      },
      "source": [
        "1 is 1.0 # Objektum típusa és értéke szerint történő összehasonlítás: int vs float"
      ],
      "execution_count": 0,
      "outputs": [
        {
          "output_type": "execute_result",
          "data": {
            "text/plain": [
              "False"
            ]
          },
          "metadata": {
            "tags": []
          },
          "execution_count": 41
        }
      ]
    },
    {
      "cell_type": "markdown",
      "metadata": {
        "id": "7lxSPWwgaYjZ",
        "colab_type": "text"
      },
      "source": [
        "Egy objektumról az **isinstance** parancs segítségével tudjuk eldönteni, hogy milyen típusú:"
      ]
    },
    {
      "cell_type": "code",
      "metadata": {
        "id": "uhGX3EXLaYjZ",
        "colab_type": "code",
        "colab": {},
        "outputId": "1473c720-cb5d-44bf-ef1d-a23d2e564559"
      },
      "source": [
        "isinstance(1,int) # Vajon az '1' az int típusú ?"
      ],
      "execution_count": 0,
      "outputs": [
        {
          "output_type": "execute_result",
          "data": {
            "text/plain": [
              "True"
            ]
          },
          "metadata": {
            "tags": []
          },
          "execution_count": 42
        }
      ]
    },
    {
      "cell_type": "code",
      "metadata": {
        "id": "O7SqZ0BSaYjb",
        "colab_type": "code",
        "colab": {},
        "outputId": "b5ed7cc8-a17a-4af2-ac50-4d26b8fffb70"
      },
      "source": [
        "isinstance(2,float) # Vajon a '2' float típusú ?"
      ],
      "execution_count": 0,
      "outputs": [
        {
          "output_type": "execute_result",
          "data": {
            "text/plain": [
              "False"
            ]
          },
          "metadata": {
            "tags": []
          },
          "execution_count": 43
        }
      ]
    },
    {
      "cell_type": "markdown",
      "metadata": {
        "id": "r_wlrBPOaYjc",
        "colab_type": "text"
      },
      "source": [
        "Relációkat láncolhatunk is, például: az a < b == c megvizsgálja, hogy az a kisebb-e mint b, és ezen felül b egyenlő-e c-vel."
      ]
    },
    {
      "cell_type": "code",
      "metadata": {
        "id": "MbrZYTOtaYjd",
        "colab_type": "code",
        "colab": {},
        "outputId": "4d124ad2-5464-4de9-ed73-0c11452b111c"
      },
      "source": [
        "b=2\n",
        "1 < 2 == b"
      ],
      "execution_count": 0,
      "outputs": [
        {
          "output_type": "execute_result",
          "data": {
            "text/plain": [
              "True"
            ]
          },
          "metadata": {
            "tags": []
          },
          "execution_count": 44
        }
      ]
    },
    {
      "cell_type": "code",
      "metadata": {
        "id": "dbMIHGqraYje",
        "colab_type": "code",
        "colab": {},
        "outputId": "ef755215-2ec6-403c-98e5-d8a1e59099b0"
      },
      "source": [
        "b=3\n",
        "1 < 2 == b"
      ],
      "execution_count": 0,
      "outputs": [
        {
          "output_type": "execute_result",
          "data": {
            "text/plain": [
              "False"
            ]
          },
          "metadata": {
            "tags": []
          },
          "execution_count": 45
        }
      ]
    },
    {
      "cell_type": "markdown",
      "metadata": {
        "id": "gXBA6d5NaYjg",
        "colab_type": "text"
      },
      "source": [
        "A relációkat összefűzhetjük **and** és **or** logikai műveletekkel is. Reláció erdményét (vagy bármely logikai műveletét) ellentettjére változtathatjuk a **not** művelettel."
      ]
    },
    {
      "cell_type": "code",
      "metadata": {
        "id": "LWJyyJ7_aYjg",
        "colab_type": "code",
        "colab": {},
        "outputId": "a53277a2-c45b-422b-ee90-6f44b1a6e740"
      },
      "source": [
        "not 2*2==5"
      ],
      "execution_count": 0,
      "outputs": [
        {
          "output_type": "execute_result",
          "data": {
            "text/plain": [
              "True"
            ]
          },
          "metadata": {
            "tags": []
          },
          "execution_count": 46
        }
      ]
    },
    {
      "cell_type": "markdown",
      "metadata": {
        "id": "oK1AjvzdaYji",
        "colab_type": "text"
      },
      "source": [
        "Az **and**, **or** és **not** fügvények, ha zárójelezést nem alkalmazunk, akkor a relációjelek után kerülnek kiértékelésre (más szóval mondva a relációjelekhez képest alacsonyabb a precedenciájuk). \n",
        "A három logikai művelet közül a **not** értékelődik ki legelőször (neki a magasabb a precedenciája a másik kettőhöz képest), és az **or** értékelődik ki utolsónak. \n",
        "\n",
        "Tehát az A and not B or C ugyanazt jelenti, mint az (A and (not B)) or C. Természetesen a zárójeleket használhatjuk a kívánt feltétel eléréséhez."
      ]
    },
    {
      "cell_type": "code",
      "metadata": {
        "id": "fX-bPwU7aYji",
        "colab_type": "code",
        "colab": {},
        "outputId": "0aeb8639-f538-41c7-d2c3-3d817054bdc8"
      },
      "source": [
        "b=3\n",
        "((1==2) and (3==4)) or (b==3)"
      ],
      "execution_count": 0,
      "outputs": [
        {
          "output_type": "execute_result",
          "data": {
            "text/plain": [
              "True"
            ]
          },
          "metadata": {
            "tags": []
          },
          "execution_count": 47
        }
      ]
    },
    {
      "cell_type": "markdown",
      "metadata": {
        "id": "T8Ef3khqaYjn",
        "colab_type": "text"
      },
      "source": [
        "---"
      ]
    },
    {
      "cell_type": "markdown",
      "metadata": {
        "id": "Nli69a3MaYjn",
        "colab_type": "text"
      },
      "source": [
        "## Karakterláncok (Stringek)\n",
        "\n",
        "A számok mellett a Python karakterláncokkal, például szavakkal is tud műveleteket végezni. A karakterláncokat egyszeres ('...') vagy dupla idézőjelek (\"...\") közé lehet zárni. A két jelölés között nincs jelentős különbség. A \\\\ használható arra, hogy a karakterláncbeli idézőjeleket levédjük:"
      ]
    },
    {
      "cell_type": "code",
      "metadata": {
        "id": "RTfGj6P5aYjo",
        "colab_type": "code",
        "colab": {},
        "outputId": "8ec8d8fa-ebbc-4bcd-a5c8-5ed9b8eff1ec"
      },
      "source": [
        "'spam eggs'"
      ],
      "execution_count": 0,
      "outputs": [
        {
          "output_type": "execute_result",
          "data": {
            "text/plain": [
              "'spam eggs'"
            ]
          },
          "metadata": {
            "tags": []
          },
          "execution_count": 48
        }
      ]
    },
    {
      "cell_type": "code",
      "metadata": {
        "id": "RAemkYItaYjp",
        "colab_type": "code",
        "colab": {},
        "outputId": "02101d10-d037-4b6b-a87d-9fa076691daf"
      },
      "source": [
        "'doesn\\'t'"
      ],
      "execution_count": 0,
      "outputs": [
        {
          "output_type": "execute_result",
          "data": {
            "text/plain": [
              "\"doesn't\""
            ]
          },
          "metadata": {
            "tags": []
          },
          "execution_count": 49
        }
      ]
    },
    {
      "cell_type": "code",
      "metadata": {
        "id": "jBW3puSLaYjq",
        "colab_type": "code",
        "colab": {},
        "outputId": "741e41d5-283a-4079-90e9-f3e31ce9e80b"
      },
      "source": [
        "\"doesn't\""
      ],
      "execution_count": 0,
      "outputs": [
        {
          "output_type": "execute_result",
          "data": {
            "text/plain": [
              "\"doesn't\""
            ]
          },
          "metadata": {
            "tags": []
          },
          "execution_count": 50
        }
      ]
    },
    {
      "cell_type": "code",
      "metadata": {
        "id": "benrxNNnaYjr",
        "colab_type": "code",
        "colab": {},
        "outputId": "346e44be-8fce-4249-eb37-40da72bfd374"
      },
      "source": [
        "'\"Yes,\" he said.'"
      ],
      "execution_count": 0,
      "outputs": [
        {
          "output_type": "execute_result",
          "data": {
            "text/plain": [
              "'\"Yes,\" he said.'"
            ]
          },
          "metadata": {
            "tags": []
          },
          "execution_count": 51
        }
      ]
    },
    {
      "cell_type": "code",
      "metadata": {
        "id": "xT1cijUQaYju",
        "colab_type": "code",
        "colab": {},
        "outputId": "69fba1db-cfa7-4bf3-92b7-a5efeaae13e5"
      },
      "source": [
        "\"\\\"Yes,\\\" he said.\""
      ],
      "execution_count": 0,
      "outputs": [
        {
          "output_type": "execute_result",
          "data": {
            "text/plain": [
              "'\"Yes,\" he said.'"
            ]
          },
          "metadata": {
            "tags": []
          },
          "execution_count": 52
        }
      ]
    },
    {
      "cell_type": "code",
      "metadata": {
        "id": "SMY4zmaOaYjv",
        "colab_type": "code",
        "colab": {},
        "outputId": "4527b5be-4c87-4d18-d30c-206fb7951990"
      },
      "source": [
        "'\"Isn\\'t,\" she said.'"
      ],
      "execution_count": 0,
      "outputs": [
        {
          "output_type": "execute_result",
          "data": {
            "text/plain": [
              "'\"Isn\\'t,\" she said.'"
            ]
          },
          "metadata": {
            "tags": []
          },
          "execution_count": 53
        }
      ]
    },
    {
      "cell_type": "markdown",
      "metadata": {
        "id": "dooUrEkVaYjw",
        "colab_type": "text"
      },
      "source": [
        "A kimeneti karakterlánc idézőjelekben jelenik meg, a speciális karakterek vissza-perrel (\\\\) levédve. Bár ez néha különbözőnek látszik a bemenettől (az idézőjel fajtája megváltozhat), a két karakterlánc egyenértékű. A print() függvény egy sokkal olvashatóbb kimenetet eredményez, elhagyva az idézőjeleket és kiírva a levédett és speciális karaktereket:"
      ]
    },
    {
      "cell_type": "code",
      "metadata": {
        "id": "T_TN9v-jaYjw",
        "colab_type": "code",
        "colab": {},
        "outputId": "a64ac72b-4411-4e10-f92f-6a53cef7fd85"
      },
      "source": [
        "print('\"Isn\\'t,\" she said.')"
      ],
      "execution_count": 0,
      "outputs": [
        {
          "output_type": "stream",
          "text": [
            "\"Isn't,\" she said.\n"
          ],
          "name": "stdout"
        }
      ]
    },
    {
      "cell_type": "code",
      "metadata": {
        "collapsed": true,
        "id": "r8YEGX_8aYjx",
        "colab_type": "code",
        "colab": {}
      },
      "source": [
        "s = 'First line.\\nSecond line.'  # \\n újsort jelent"
      ],
      "execution_count": 0,
      "outputs": []
    },
    {
      "cell_type": "code",
      "metadata": {
        "id": "mcZSUAwIaYjy",
        "colab_type": "code",
        "colab": {},
        "outputId": "34fac3c0-1659-44f7-b01c-4be3bb0911ee"
      },
      "source": [
        "s  # print() nélkül a \\n benne van a kimenetben"
      ],
      "execution_count": 0,
      "outputs": [
        {
          "output_type": "execute_result",
          "data": {
            "text/plain": [
              "'First line.\\nSecond line.'"
            ]
          },
          "metadata": {
            "tags": []
          },
          "execution_count": 56
        }
      ]
    },
    {
      "cell_type": "code",
      "metadata": {
        "id": "SDTdRVATaYjz",
        "colab_type": "code",
        "colab": {},
        "outputId": "f5a219d4-9a44-4552-c80c-5cb403682e95"
      },
      "source": [
        "print(s)  # print()-tel az \\n újsort hoz létre"
      ],
      "execution_count": 0,
      "outputs": [
        {
          "output_type": "stream",
          "text": [
            "First line.\n",
            "Second line.\n"
          ],
          "name": "stdout"
        }
      ]
    },
    {
      "cell_type": "markdown",
      "metadata": {
        "id": "5P4wLMOBaYj2",
        "colab_type": "text"
      },
      "source": [
        "Ha nem akarod, hogy a \\ jellel kezdődő karakterek speciális karakterként értelmeződjenek, akkor nyers karakterláncokat használhatsz egy r-et helyezve a kezdő idézőjel elé:"
      ]
    },
    {
      "cell_type": "code",
      "metadata": {
        "id": "Ts67mtgoaYj2",
        "colab_type": "code",
        "colab": {},
        "outputId": "b1b1250f-631b-4cf6-e40e-ea77b6feee51"
      },
      "source": [
        "print('C:\\some\\name')  # \\n újsort jelent"
      ],
      "execution_count": 0,
      "outputs": [
        {
          "output_type": "stream",
          "text": [
            "C:\\some\n",
            "ame\n"
          ],
          "name": "stdout"
        }
      ]
    },
    {
      "cell_type": "code",
      "metadata": {
        "id": "nEtX176YaYj4",
        "colab_type": "code",
        "colab": {},
        "outputId": "c0ee445d-cb3b-4a27-fd0f-d8e087ff8d4e"
      },
      "source": [
        "print(r'C:\\some\\name')  # r van az idézőjel előtt"
      ],
      "execution_count": 0,
      "outputs": [
        {
          "output_type": "stream",
          "text": [
            "C:\\some\\name\n"
          ],
          "name": "stdout"
        }
      ]
    },
    {
      "cell_type": "markdown",
      "metadata": {
        "id": "F2VObRqOaYj5",
        "colab_type": "text"
      },
      "source": [
        "A literális karakterláncok többsorosak is lehetnek. Egy lehetőség erre a hármas idézőjelek használata: \"\"\"...\"\"\" vagy '''...'''. Ilyenkor az újsorok automatikusan belekerülnek a karakterláncba, de ez a viselkedés megszüntethető, ha a sor végére egy \\\\-t adsz. A következő példa"
      ]
    },
    {
      "cell_type": "code",
      "metadata": {
        "id": "jBES2IP6aYj6",
        "colab_type": "code",
        "colab": {},
        "outputId": "bea34198-1b01-46ee-eeda-f81e359e3abc"
      },
      "source": [
        "print(\"\"\"\\\n",
        "Usage: thingy [OPTIONS]\n",
        "     -h                        Display this usage message\n",
        "     -H hostname               Hostname to connect to\n",
        "\"\"\")"
      ],
      "execution_count": 0,
      "outputs": [
        {
          "output_type": "stream",
          "text": [
            "Usage: thingy [OPTIONS]\n",
            "     -h                        Display this usage message\n",
            "     -H hostname               Hostname to connect to\n",
            "\n"
          ],
          "name": "stdout"
        }
      ]
    },
    {
      "cell_type": "markdown",
      "metadata": {
        "id": "gZDONs6XaYj7",
        "colab_type": "text"
      },
      "source": [
        "Karakterláncokat a + művelettel ragaszthatunk össze, és *-gal ismételhetünk."
      ]
    },
    {
      "cell_type": "code",
      "metadata": {
        "id": "rQgLcaVgaYj8",
        "colab_type": "code",
        "colab": {},
        "outputId": "6421c960-3ddb-4087-cc82-8361780ab427"
      },
      "source": [
        "3 * 'un' + 'ium'"
      ],
      "execution_count": 0,
      "outputs": [
        {
          "output_type": "execute_result",
          "data": {
            "text/plain": [
              "'unununium'"
            ]
          },
          "metadata": {
            "tags": []
          },
          "execution_count": 61
        }
      ]
    },
    {
      "cell_type": "markdown",
      "metadata": {
        "id": "U4vHPUMraYj9",
        "colab_type": "text"
      },
      "source": [
        "Két egymást követő literális karakterláncot (azokat, amik idézőjelben vannak, és nem egy változóban, vagy nem egy függvény hoz létre) az értelmező magától összefűz:"
      ]
    },
    {
      "cell_type": "code",
      "metadata": {
        "id": "9Q9dMDM6aYj9",
        "colab_type": "code",
        "colab": {},
        "outputId": "8aec3141-50ef-48eb-8910-bd6617c723c4"
      },
      "source": [
        "'Py' 'thon'"
      ],
      "execution_count": 0,
      "outputs": [
        {
          "output_type": "execute_result",
          "data": {
            "text/plain": [
              "'Python'"
            ]
          },
          "metadata": {
            "tags": []
          },
          "execution_count": 62
        }
      ]
    },
    {
      "cell_type": "markdown",
      "metadata": {
        "id": "XnvCAKs6aYj-",
        "colab_type": "text"
      },
      "source": [
        "De ez csak két literálissal működik, változóval vagy kifejezéssel nem:"
      ]
    },
    {
      "cell_type": "code",
      "metadata": {
        "id": "uo3f7erYaYj_",
        "colab_type": "code",
        "colab": {},
        "outputId": "80e266d3-ac56-4dc7-8e5d-d2ac74ebcbcf"
      },
      "source": [
        "prefix = 'Py'\n",
        "prefix 'thon'  # nem tud változót és literális karakterláncot összefűzni"
      ],
      "execution_count": 0,
      "outputs": [
        {
          "output_type": "error",
          "ename": "SyntaxError",
          "evalue": "invalid syntax (<ipython-input-63-28f030133dcf>, line 2)",
          "traceback": [
            "\u001b[0;36m  File \u001b[0;32m\"<ipython-input-63-28f030133dcf>\"\u001b[0;36m, line \u001b[0;32m2\u001b[0m\n\u001b[0;31m    prefix 'thon'  # nem tud változót és literális karakterláncot összefűzni\u001b[0m\n\u001b[0m                ^\u001b[0m\n\u001b[0;31mSyntaxError\u001b[0m\u001b[0;31m:\u001b[0m invalid syntax\n"
          ]
        }
      ]
    },
    {
      "cell_type": "markdown",
      "metadata": {
        "id": "UaEYgY8LaYkB",
        "colab_type": "text"
      },
      "source": [
        "Ha változókat akarsz összefűzni, vagy változót literálissal, használj + műveletet:"
      ]
    },
    {
      "cell_type": "code",
      "metadata": {
        "id": "bHOHY2awaYkB",
        "colab_type": "code",
        "colab": {},
        "outputId": "cf5da0a3-72d4-4e4a-c651-c3f28eae7704"
      },
      "source": [
        "prefix = 'Py'\n",
        "prefix + 'thon'"
      ],
      "execution_count": 0,
      "outputs": [
        {
          "output_type": "execute_result",
          "data": {
            "text/plain": [
              "'Python'"
            ]
          },
          "metadata": {
            "tags": []
          },
          "execution_count": 64
        }
      ]
    },
    {
      "cell_type": "markdown",
      "metadata": {
        "id": "CtaAUEsfaYkC",
        "colab_type": "text"
      },
      "source": [
        "A literálisok összefűzése különösen hasznos hosszú sorok széttörésére:"
      ]
    },
    {
      "cell_type": "code",
      "metadata": {
        "id": "MF0p8rHGaYkD",
        "colab_type": "code",
        "colab": {},
        "outputId": "f903a95b-396f-45da-df6d-0c49abdd6954"
      },
      "source": [
        "text = ('Több karakterláncot írhatunk zárójelbe, '\n",
        "            'hogy összefűzhessük azokat.')\n",
        "text"
      ],
      "execution_count": 0,
      "outputs": [
        {
          "output_type": "execute_result",
          "data": {
            "text/plain": [
              "'Több karakterláncot írhatunk zárójelbe, hogy összefűzhessük azokat.'"
            ]
          },
          "metadata": {
            "tags": []
          },
          "execution_count": 65
        }
      ]
    },
    {
      "cell_type": "markdown",
      "metadata": {
        "id": "OFoYvu8VaYkE",
        "colab_type": "text"
      },
      "source": [
        "Minden karakterhez a karakterláncban a `Python` rendel egy sorszámot (indexet). Az első karakterhez tartozik a `0` index, a következőhöz az `1`-es index és így tovább. (Ez a konvenció tükrözi a C-ben megszokottakat.) "
      ]
    },
    {
      "cell_type": "code",
      "metadata": {
        "collapsed": true,
        "id": "a1bJi0SVaYkE",
        "colab_type": "code",
        "colab": {}
      },
      "source": [
        "szo = 'Python'"
      ],
      "execution_count": 0,
      "outputs": []
    },
    {
      "cell_type": "code",
      "metadata": {
        "id": "Jn8q1VnyaYkF",
        "colab_type": "code",
        "colab": {},
        "outputId": "a69ed043-f0ef-4f24-d9b7-7524932cfd3d"
      },
      "source": [
        "szo[0]  # karakter a 0 pozícióban"
      ],
      "execution_count": 0,
      "outputs": [
        {
          "output_type": "execute_result",
          "data": {
            "text/plain": [
              "'P'"
            ]
          },
          "metadata": {
            "tags": []
          },
          "execution_count": 67
        }
      ]
    },
    {
      "cell_type": "code",
      "metadata": {
        "id": "yjPSj5xBaYkH",
        "colab_type": "code",
        "colab": {},
        "outputId": "a2b31c6b-6ecc-4d40-9cd3-50811fad27b1"
      },
      "source": [
        "szo[5]  # karakter a 5 pozícióban"
      ],
      "execution_count": 0,
      "outputs": [
        {
          "output_type": "execute_result",
          "data": {
            "text/plain": [
              "'n'"
            ]
          },
          "metadata": {
            "tags": []
          },
          "execution_count": 68
        }
      ]
    },
    {
      "cell_type": "markdown",
      "metadata": {
        "id": "eU1CIrq7aYkK",
        "colab_type": "text"
      },
      "source": [
        "Az indexek negatívak is lehetnek, ilyenkor jobbról kezdünk el számolni:"
      ]
    },
    {
      "cell_type": "code",
      "metadata": {
        "id": "3sINx5AoaYkL",
        "colab_type": "code",
        "colab": {},
        "outputId": "fe64c422-c317-41a5-8f97-6e85605ecee0"
      },
      "source": [
        "szo[-1]  # utolsó karakter"
      ],
      "execution_count": 0,
      "outputs": [
        {
          "output_type": "execute_result",
          "data": {
            "text/plain": [
              "'n'"
            ]
          },
          "metadata": {
            "tags": []
          },
          "execution_count": 69
        }
      ]
    },
    {
      "cell_type": "code",
      "metadata": {
        "id": "j2P6o5O5aYkN",
        "colab_type": "code",
        "colab": {},
        "outputId": "c1825e47-4b55-4e01-d635-6ca70fe1b9e6"
      },
      "source": [
        "szo[-2]  # utolsó előtti karakter"
      ],
      "execution_count": 0,
      "outputs": [
        {
          "output_type": "execute_result",
          "data": {
            "text/plain": [
              "'o'"
            ]
          },
          "metadata": {
            "tags": []
          },
          "execution_count": 70
        }
      ]
    },
    {
      "cell_type": "code",
      "metadata": {
        "id": "8COJlJ94aYkQ",
        "colab_type": "code",
        "colab": {},
        "outputId": "fb85a586-f91f-447f-888a-0d38da86172d"
      },
      "source": [
        "szo[-6]"
      ],
      "execution_count": 0,
      "outputs": [
        {
          "output_type": "execute_result",
          "data": {
            "text/plain": [
              "'P'"
            ]
          },
          "metadata": {
            "tags": []
          },
          "execution_count": 71
        }
      ]
    },
    {
      "cell_type": "markdown",
      "metadata": {
        "id": "pZzysBzraYkR",
        "colab_type": "text"
      },
      "source": [
        "Az indexelésen felül a szeletelés is támogatott. Míg az indexelés egyetlen karaktert jelöl ki, a szeletelés egy részkarakterláncot:"
      ]
    },
    {
      "cell_type": "code",
      "metadata": {
        "id": "YDFRqfG_aYkR",
        "colab_type": "code",
        "colab": {},
        "outputId": "95c72c9e-caa8-46f8-9810-6340c296af39"
      },
      "source": [
        "szo[0:2]  # karakterek a 0 pozíciótól (benne van) a 2-esig (az már nem)"
      ],
      "execution_count": 0,
      "outputs": [
        {
          "output_type": "execute_result",
          "data": {
            "text/plain": [
              "'Py'"
            ]
          },
          "metadata": {
            "tags": []
          },
          "execution_count": 72
        }
      ]
    },
    {
      "cell_type": "code",
      "metadata": {
        "id": "jfgXY_nhaYkS",
        "colab_type": "code",
        "colab": {},
        "outputId": "81f56548-3475-4ec0-eac5-d5982c3d469d"
      },
      "source": [
        "szo[2:5]  # karakterek a 2 pozíciótól (benne van) a 5-esig (az már nem)"
      ],
      "execution_count": 0,
      "outputs": [
        {
          "output_type": "execute_result",
          "data": {
            "text/plain": [
              "'tho'"
            ]
          },
          "metadata": {
            "tags": []
          },
          "execution_count": 73
        }
      ]
    },
    {
      "cell_type": "markdown",
      "metadata": {
        "id": "uk-kdLz-aYkT",
        "colab_type": "text"
      },
      "source": [
        "A kezdő index mindig beleértendő az eredménybe, a végső index pedig nem. Ez teszi lehetővé, hogy s[:i] + s[i:] mindig egyenlő s-el:"
      ]
    },
    {
      "cell_type": "code",
      "metadata": {
        "id": "mRlvXXsraYkU",
        "colab_type": "code",
        "colab": {},
        "outputId": "5d3a697b-a710-4fd5-e248-973f96e9b614"
      },
      "source": [
        "szo[:2] + szo[2:]"
      ],
      "execution_count": 0,
      "outputs": [
        {
          "output_type": "execute_result",
          "data": {
            "text/plain": [
              "'Python'"
            ]
          },
          "metadata": {
            "tags": []
          },
          "execution_count": 74
        }
      ]
    },
    {
      "cell_type": "code",
      "metadata": {
        "id": "yi9d5IkZaYkV",
        "colab_type": "code",
        "colab": {},
        "outputId": "c62b8df7-d36f-4fd1-b996-a9794f5066b5"
      },
      "source": [
        "szo[:4] + szo[4:]"
      ],
      "execution_count": 0,
      "outputs": [
        {
          "output_type": "execute_result",
          "data": {
            "text/plain": [
              "'Python'"
            ]
          },
          "metadata": {
            "tags": []
          },
          "execution_count": 75
        }
      ]
    },
    {
      "cell_type": "markdown",
      "metadata": {
        "id": "8mKquRKDaYkW",
        "colab_type": "text"
      },
      "source": [
        "A szeletek indexeinek hasznos alapértékei vannak; a kihagyott első index alapértéke 0, az elhagyott második index alapértéke a szeletelendő karakterlánc hossza:"
      ]
    },
    {
      "cell_type": "code",
      "metadata": {
        "id": "h-UNEgv_aYkX",
        "colab_type": "code",
        "colab": {},
        "outputId": "063df139-7559-4fde-f3b0-328bcb7750f6"
      },
      "source": [
        "szo[:2]  # karakterek az elejétől a 2-esig (már nincs benne)"
      ],
      "execution_count": 0,
      "outputs": [
        {
          "output_type": "execute_result",
          "data": {
            "text/plain": [
              "'Py'"
            ]
          },
          "metadata": {
            "tags": []
          },
          "execution_count": 76
        }
      ]
    },
    {
      "cell_type": "code",
      "metadata": {
        "id": "2_BLvexkaYkZ",
        "colab_type": "code",
        "colab": {},
        "outputId": "5f8bfef6-bd36-482d-a724-524a23524807"
      },
      "source": [
        "szo[4:]  # karekterek a 4-es pozíciótól (benne van) a végéig"
      ],
      "execution_count": 0,
      "outputs": [
        {
          "output_type": "execute_result",
          "data": {
            "text/plain": [
              "'on'"
            ]
          },
          "metadata": {
            "tags": []
          },
          "execution_count": 77
        }
      ]
    },
    {
      "cell_type": "code",
      "metadata": {
        "id": "tdYaqH5VaYkb",
        "colab_type": "code",
        "colab": {},
        "outputId": "d4caba5d-5166-4844-e332-de9fac3846a0"
      },
      "source": [
        "szo[-2:] # karakterek az utolsó előttitől (beleértve) a végéig"
      ],
      "execution_count": 0,
      "outputs": [
        {
          "output_type": "execute_result",
          "data": {
            "text/plain": [
              "'on'"
            ]
          },
          "metadata": {
            "tags": []
          },
          "execution_count": 78
        }
      ]
    },
    {
      "cell_type": "markdown",
      "metadata": {
        "id": "UflasWgeaYkc",
        "colab_type": "text"
      },
      "source": [
        "Jegyezd meg, hogy a -0 valóban azonos a 0-val, így ez nem jobbról számol!"
      ]
    },
    {
      "cell_type": "code",
      "metadata": {
        "id": "DzlurESaaYkc",
        "colab_type": "code",
        "colab": {},
        "outputId": "39347dcb-416a-444d-f31a-aa08791f8c06"
      },
      "source": [
        "szo[-0]     # mivel -0 és 0 egyenlőek"
      ],
      "execution_count": 0,
      "outputs": [
        {
          "output_type": "execute_result",
          "data": {
            "text/plain": [
              "'P'"
            ]
          },
          "metadata": {
            "tags": []
          },
          "execution_count": 79
        }
      ]
    },
    {
      "cell_type": "markdown",
      "metadata": {
        "id": "QBR4m5O9aYkd",
        "colab_type": "text"
      },
      "source": [
        "A nem negatív indexek esetén a szelet hossza az indexek különbségével egyenlő, ha mindkettő a valódi szóhatárokon belül van. Például a szo[1:3] hossza 2.\n",
        "Ha olyan indexet használunk, amely túl nagy, az eredmény hibát ad:"
      ]
    },
    {
      "cell_type": "code",
      "metadata": {
        "id": "hB8TT3KnaYkd",
        "colab_type": "code",
        "colab": {},
        "outputId": "24a8e225-db93-4301-ce90-c5ab51d17b9b"
      },
      "source": [
        "szo[42]  # a szo csak 7 karakteres"
      ],
      "execution_count": 0,
      "outputs": [
        {
          "output_type": "error",
          "ename": "IndexError",
          "evalue": "string index out of range",
          "traceback": [
            "\u001b[0;31m---------------------------------------------------------------------------\u001b[0m",
            "\u001b[0;31mIndexError\u001b[0m                                Traceback (most recent call last)",
            "\u001b[0;32m<ipython-input-80-8ad9d484d8f7>\u001b[0m in \u001b[0;36m<module>\u001b[0;34m()\u001b[0m\n\u001b[0;32m----> 1\u001b[0;31m \u001b[0mszo\u001b[0m\u001b[0;34m[\u001b[0m\u001b[0;36m42\u001b[0m\u001b[0;34m]\u001b[0m  \u001b[0;31m# a szo csak 7 karakteres\u001b[0m\u001b[0;34m\u001b[0m\u001b[0m\n\u001b[0m",
            "\u001b[0;31mIndexError\u001b[0m: string index out of range"
          ]
        }
      ]
    },
    {
      "cell_type": "markdown",
      "metadata": {
        "id": "b6feKqsNaYkf",
        "colab_type": "text"
      },
      "source": [
        "A Python karakterláncait nem lehet megváltoztatni, azok megváltoztathatatlanok. Ezért, ha egy adott indexű helyhez értéket rendelünk, hibát kapunk:"
      ]
    },
    {
      "cell_type": "code",
      "metadata": {
        "id": "fhdxzT5LaYkg",
        "colab_type": "code",
        "colab": {},
        "outputId": "d805fc06-be98-4b9d-c1f9-09db475832cf"
      },
      "source": [
        "szo[0] = 'J'"
      ],
      "execution_count": 0,
      "outputs": [
        {
          "output_type": "error",
          "ename": "TypeError",
          "evalue": "'str' object does not support item assignment",
          "traceback": [
            "\u001b[0;31m---------------------------------------------------------------------------\u001b[0m",
            "\u001b[0;31mTypeError\u001b[0m                                 Traceback (most recent call last)",
            "\u001b[0;32m<ipython-input-81-3d63625a841c>\u001b[0m in \u001b[0;36m<module>\u001b[0;34m()\u001b[0m\n\u001b[0;32m----> 1\u001b[0;31m \u001b[0mszo\u001b[0m\u001b[0;34m[\u001b[0m\u001b[0;36m0\u001b[0m\u001b[0;34m]\u001b[0m \u001b[0;34m=\u001b[0m \u001b[0;34m'J'\u001b[0m\u001b[0;34m\u001b[0m\u001b[0m\n\u001b[0m",
            "\u001b[0;31mTypeError\u001b[0m: 'str' object does not support item assignment"
          ]
        }
      ]
    },
    {
      "cell_type": "markdown",
      "metadata": {
        "id": "o5Lo1f0ZaYkh",
        "colab_type": "text"
      },
      "source": [
        "Ha másik karakterláncra van szükség, alkothatunk egy újat:"
      ]
    },
    {
      "cell_type": "code",
      "metadata": {
        "id": "N2_WURTYaYkh",
        "colab_type": "code",
        "colab": {},
        "outputId": "aec4b982-da01-48a0-b946-35cd6bee962c"
      },
      "source": [
        "'J' + szo[1:]"
      ],
      "execution_count": 0,
      "outputs": [
        {
          "output_type": "execute_result",
          "data": {
            "text/plain": [
              "'Jython'"
            ]
          },
          "metadata": {
            "tags": []
          },
          "execution_count": 82
        }
      ]
    },
    {
      "cell_type": "code",
      "metadata": {
        "id": "7HMN1YWSaYki",
        "colab_type": "code",
        "colab": {},
        "outputId": "2612d2dd-55be-4a4e-e922-99ad8e709a11"
      },
      "source": [
        "szo[:2] + 'py'"
      ],
      "execution_count": 0,
      "outputs": [
        {
          "output_type": "execute_result",
          "data": {
            "text/plain": [
              "'Pypy'"
            ]
          },
          "metadata": {
            "tags": []
          },
          "execution_count": 83
        }
      ]
    },
    {
      "cell_type": "markdown",
      "metadata": {
        "id": "UV4ZqKYsaYkj",
        "colab_type": "text"
      },
      "source": [
        "A beépített len() függvény a karakterlánc hosszával tér vissza:"
      ]
    },
    {
      "cell_type": "code",
      "metadata": {
        "id": "IjdyCHBQaYkj",
        "colab_type": "code",
        "colab": {},
        "outputId": "c2dce102-54ac-470b-c55d-b4e1be407255"
      },
      "source": [
        "s = 'legeslegelkáposztásíthatatlanságoskodásaitokért'\n",
        "len(s)"
      ],
      "execution_count": 0,
      "outputs": [
        {
          "output_type": "execute_result",
          "data": {
            "text/plain": [
              "47"
            ]
          },
          "metadata": {
            "tags": []
          },
          "execution_count": 84
        }
      ]
    },
    {
      "cell_type": "markdown",
      "metadata": {
        "id": "DNWUWnWTaYkk",
        "colab_type": "text"
      },
      "source": [
        "---"
      ]
    },
    {
      "cell_type": "markdown",
      "metadata": {
        "id": "BrG5zntHaYkk",
        "colab_type": "text"
      },
      "source": [
        "## Listák (List)"
      ]
    },
    {
      "cell_type": "markdown",
      "metadata": {
        "id": "gz5tyRiDaYkl",
        "colab_type": "text"
      },
      "source": [
        "A Python többfajta összetett adattípust ismer, amellyel több különböző értéket csoportosíthatunk. Egy igen sokoldalú összetett adattípus a lista, amelyet vesszőkkel elválasztott értékekként írhatunk be szögletes zárójelbe zárva. Az alábbiakban a listákkal kapcsolatos műveletek alapjait tekintjük át. Listákról magyarul [itt](http://django.arek.uni-obuda.hu/python3-doc/html/tutorial/datastructures.html#a-listakrol-bovebben) egy kicsit bővebben olvashattok. A lista elemeinek nem kell azonos típusúaknak lenniük, bár sok alkalmazásban minden elem azonos típusú."
      ]
    },
    {
      "cell_type": "code",
      "metadata": {
        "id": "BphCa6I1aYkl",
        "colab_type": "code",
        "colab": {},
        "outputId": "6dd70cf2-c645-447a-9bb9-a60ceece1e5f"
      },
      "source": [
        "a = ['spam', 'tojások', 100, 1234]\n",
        "a\n",
        "['spam', 'tojások', 100, 1234]"
      ],
      "execution_count": 0,
      "outputs": [
        {
          "output_type": "execute_result",
          "data": {
            "text/plain": [
              "['spam', 'tojások', 100, 1234]"
            ]
          },
          "metadata": {
            "tags": []
          },
          "execution_count": 85
        }
      ]
    },
    {
      "cell_type": "markdown",
      "metadata": {
        "id": "UzhQazHpaYkm",
        "colab_type": "text"
      },
      "source": [
        "Ahogy a karakterláncokat, a listákat is indexelhetjük és szeletelhetjük:"
      ]
    },
    {
      "cell_type": "code",
      "metadata": {
        "id": "xa-ttMR3aYkm",
        "colab_type": "code",
        "colab": {},
        "outputId": "87b6f4e2-66a1-422b-b79f-e098bc90839e"
      },
      "source": [
        "a[0]"
      ],
      "execution_count": 0,
      "outputs": [
        {
          "output_type": "execute_result",
          "data": {
            "text/plain": [
              "'spam'"
            ]
          },
          "metadata": {
            "tags": []
          },
          "execution_count": 86
        }
      ]
    },
    {
      "cell_type": "code",
      "metadata": {
        "id": "JYt9db3baYkn",
        "colab_type": "code",
        "colab": {},
        "outputId": "02228188-0cf7-4df1-8361-9405984d44f7"
      },
      "source": [
        "a[3]"
      ],
      "execution_count": 0,
      "outputs": [
        {
          "output_type": "execute_result",
          "data": {
            "text/plain": [
              "1234"
            ]
          },
          "metadata": {
            "tags": []
          },
          "execution_count": 87
        }
      ]
    },
    {
      "cell_type": "code",
      "metadata": {
        "id": "taReYt3OaYko",
        "colab_type": "code",
        "colab": {},
        "outputId": "91f391a7-3b53-4cdb-8d33-a5ed445e4353"
      },
      "source": [
        "a[-2] "
      ],
      "execution_count": 0,
      "outputs": [
        {
          "output_type": "execute_result",
          "data": {
            "text/plain": [
              "100"
            ]
          },
          "metadata": {
            "tags": []
          },
          "execution_count": 88
        }
      ]
    },
    {
      "cell_type": "code",
      "metadata": {
        "id": "6snv6yXjaYkp",
        "colab_type": "code",
        "colab": {},
        "outputId": "5c4191ef-d962-4c04-e5af-3839f1199a5c"
      },
      "source": [
        "a[1:-1]   # a szeletelés új listát ad"
      ],
      "execution_count": 0,
      "outputs": [
        {
          "output_type": "execute_result",
          "data": {
            "text/plain": [
              "['tojások', 100]"
            ]
          },
          "metadata": {
            "tags": []
          },
          "execution_count": 89
        }
      ]
    },
    {
      "cell_type": "markdown",
      "metadata": {
        "id": "JScvQV_KaYkq",
        "colab_type": "text"
      },
      "source": [
        "A listák az összefűzést is támogatják:"
      ]
    },
    {
      "cell_type": "code",
      "metadata": {
        "id": "9pc_auftaYkq",
        "colab_type": "code",
        "colab": {},
        "outputId": "a10d8a0c-13d5-4f29-c298-5b6c24824306"
      },
      "source": [
        "a[:2] + ['sonka', 2*2]"
      ],
      "execution_count": 0,
      "outputs": [
        {
          "output_type": "execute_result",
          "data": {
            "text/plain": [
              "['spam', 'tojások', 'sonka', 4]"
            ]
          },
          "metadata": {
            "tags": []
          },
          "execution_count": 90
        }
      ]
    },
    {
      "cell_type": "code",
      "metadata": {
        "id": "X_meAkSgaYkr",
        "colab_type": "code",
        "colab": {},
        "outputId": "faf4596c-1ff1-4549-ac32-f9318158a164"
      },
      "source": [
        "3*a[:3] + ['Boe!']"
      ],
      "execution_count": 0,
      "outputs": [
        {
          "output_type": "execute_result",
          "data": {
            "text/plain": [
              "['spam',\n",
              " 'tojások',\n",
              " 100,\n",
              " 'spam',\n",
              " 'tojások',\n",
              " 100,\n",
              " 'spam',\n",
              " 'tojások',\n",
              " 100,\n",
              " 'Boe!']"
            ]
          },
          "metadata": {
            "tags": []
          },
          "execution_count": 91
        }
      ]
    },
    {
      "cell_type": "markdown",
      "metadata": {
        "id": "EVpmwSqsaYks",
        "colab_type": "text"
      },
      "source": [
        "A karakterláncokkal ellentétben – amelyek megváltoztathatatlanok – a listák egyes elemeit módosíthatjuk:"
      ]
    },
    {
      "cell_type": "code",
      "metadata": {
        "id": "vaBfcKRDaYks",
        "colab_type": "code",
        "colab": {},
        "outputId": "d77d83f3-f8fc-4995-c1ed-20febc0179b3"
      },
      "source": [
        "a[2] = a[2] + 23\n",
        "a"
      ],
      "execution_count": 0,
      "outputs": [
        {
          "output_type": "execute_result",
          "data": {
            "text/plain": [
              "['spam', 'tojások', 123, 1234]"
            ]
          },
          "metadata": {
            "tags": []
          },
          "execution_count": 92
        }
      ]
    },
    {
      "cell_type": "markdown",
      "metadata": {
        "id": "2ZEfKzt1aYkt",
        "colab_type": "text"
      },
      "source": [
        "A szeleteknek értékeket is adhatunk, és ez akár a lista elemszámát is megváltoztathatja:"
      ]
    },
    {
      "cell_type": "code",
      "metadata": {
        "id": "relL0Wq_aYku",
        "colab_type": "code",
        "colab": {},
        "outputId": "af67b518-482a-440c-85e2-80af02b3fdad"
      },
      "source": [
        "a[0:2] = [1, 12] # Pár elem átírása:\n",
        "a"
      ],
      "execution_count": 0,
      "outputs": [
        {
          "output_type": "execute_result",
          "data": {
            "text/plain": [
              "[1, 12, 123, 1234]"
            ]
          },
          "metadata": {
            "tags": []
          },
          "execution_count": 93
        }
      ]
    },
    {
      "cell_type": "code",
      "metadata": {
        "id": "tWtmWVGxaYkw",
        "colab_type": "code",
        "colab": {},
        "outputId": "d987b703-278d-42f2-e7c9-3ae8d666e751"
      },
      "source": [
        "a[0:2] = [] # Pár elem törlése:\n",
        "a"
      ],
      "execution_count": 0,
      "outputs": [
        {
          "output_type": "execute_result",
          "data": {
            "text/plain": [
              "[123, 1234]"
            ]
          },
          "metadata": {
            "tags": []
          },
          "execution_count": 94
        }
      ]
    },
    {
      "cell_type": "code",
      "metadata": {
        "id": "0gzFGYr1aYky",
        "colab_type": "code",
        "colab": {},
        "outputId": "040d3d2b-e178-45d3-bff5-c42eeff9521e"
      },
      "source": [
        "a[1:1] = ['bletch', 'xyzzy'] # Pár elem beszúrása:\n",
        "a"
      ],
      "execution_count": 0,
      "outputs": [
        {
          "output_type": "execute_result",
          "data": {
            "text/plain": [
              "[123, 'bletch', 'xyzzy', 1234]"
            ]
          },
          "metadata": {
            "tags": []
          },
          "execution_count": 95
        }
      ]
    },
    {
      "cell_type": "code",
      "metadata": {
        "id": "CrqmdJ4JaYkz",
        "colab_type": "code",
        "colab": {},
        "outputId": "57eadaaa-3efa-42f8-ab9f-e82319f0cb2e"
      },
      "source": [
        "a[:0] = a     # Beszúrja magát (pontosabban egy másolatát) a saját elejére.\n",
        "a"
      ],
      "execution_count": 0,
      "outputs": [
        {
          "output_type": "execute_result",
          "data": {
            "text/plain": [
              "[123, 'bletch', 'xyzzy', 1234, 123, 'bletch', 'xyzzy', 1234]"
            ]
          },
          "metadata": {
            "tags": []
          },
          "execution_count": 96
        }
      ]
    },
    {
      "cell_type": "markdown",
      "metadata": {
        "id": "HJ44OG8BaYk0",
        "colab_type": "text"
      },
      "source": [
        "A beépített len() függvény listákra is alkalmazható:"
      ]
    },
    {
      "cell_type": "code",
      "metadata": {
        "id": "ZxKjy69EaYk0",
        "colab_type": "code",
        "colab": {},
        "outputId": "8e7d516f-90c5-4976-ac48-c425c258f64f"
      },
      "source": [
        "len(a)"
      ],
      "execution_count": 0,
      "outputs": [
        {
          "output_type": "execute_result",
          "data": {
            "text/plain": [
              "8"
            ]
          },
          "metadata": {
            "tags": []
          },
          "execution_count": 97
        }
      ]
    },
    {
      "cell_type": "markdown",
      "metadata": {
        "id": "lULm7mBraYk2",
        "colab_type": "text"
      },
      "source": [
        "A listák egymásba ágyazhatóak, azaz listába elhelyezhetünk listát elemként:"
      ]
    },
    {
      "cell_type": "code",
      "metadata": {
        "id": "9Ti5v29daYk3",
        "colab_type": "code",
        "colab": {},
        "outputId": "1277abdf-ab3c-4911-e6f2-e5e649dd622e"
      },
      "source": [
        "a = ['a', 'b', 'c']\n",
        "n = [1, 2, 3]\n",
        "x = [a, n]\n",
        "x"
      ],
      "execution_count": 0,
      "outputs": [
        {
          "output_type": "execute_result",
          "data": {
            "text/plain": [
              "[['a', 'b', 'c'], [1, 2, 3]]"
            ]
          },
          "metadata": {
            "tags": []
          },
          "execution_count": 98
        }
      ]
    },
    {
      "cell_type": "code",
      "metadata": {
        "id": "P5LHhroMaYk3",
        "colab_type": "code",
        "colab": {},
        "outputId": "19060af6-6bfc-4e8d-aa7e-9aea79c962fe"
      },
      "source": [
        "x[0]"
      ],
      "execution_count": 0,
      "outputs": [
        {
          "output_type": "execute_result",
          "data": {
            "text/plain": [
              "['a', 'b', 'c']"
            ]
          },
          "metadata": {
            "tags": []
          },
          "execution_count": 99
        }
      ]
    },
    {
      "cell_type": "code",
      "metadata": {
        "id": "bSmhBqFVaYk4",
        "colab_type": "code",
        "colab": {},
        "outputId": "00c09a0c-c9ed-4254-fe04-8bb53de42b75"
      },
      "source": [
        "x[0][1]"
      ],
      "execution_count": 0,
      "outputs": [
        {
          "output_type": "execute_result",
          "data": {
            "text/plain": [
              "'b'"
            ]
          },
          "metadata": {
            "tags": []
          },
          "execution_count": 100
        }
      ]
    },
    {
      "cell_type": "code",
      "metadata": {
        "id": "rzl3B5NeaYk5",
        "colab_type": "code",
        "colab": {},
        "outputId": "d9fb382e-3fa7-4f60-ccf8-5b990367a04d"
      },
      "source": [
        "x[0][1]"
      ],
      "execution_count": 0,
      "outputs": [
        {
          "output_type": "execute_result",
          "data": {
            "text/plain": [
              "'b'"
            ]
          },
          "metadata": {
            "tags": []
          },
          "execution_count": 101
        }
      ]
    },
    {
      "cell_type": "markdown",
      "metadata": {
        "id": "V2Ehzp17aYk7",
        "colab_type": "text"
      },
      "source": [
        "Előfordul hogy meg szeretnénk tudni, hogy egy adott elem hanyadik helyen van a listában ezt az `.index()` függvény alkalmazásával kaphatjuk meg. Például nézzük meg hogy a lent definiált `autok` lista hanyadik eleme a `'merci'` karakter:"
      ]
    },
    {
      "cell_type": "code",
      "metadata": {
        "id": "4IFqU-lZaYk7",
        "colab_type": "code",
        "colab": {}
      },
      "source": [
        "autok=['skoda','vw','merci','mazda']"
      ],
      "execution_count": 0,
      "outputs": []
    },
    {
      "cell_type": "code",
      "metadata": {
        "id": "VnZ8QKGsaYk8",
        "colab_type": "code",
        "colab": {},
        "outputId": "5f803955-ec5a-4de2-eec9-c3a31e54b650"
      },
      "source": [
        "autok.index('merci')"
      ],
      "execution_count": 0,
      "outputs": [
        {
          "output_type": "execute_result",
          "data": {
            "text/plain": [
              "2"
            ]
          },
          "metadata": {
            "tags": []
          },
          "execution_count": 103
        }
      ]
    },
    {
      "cell_type": "markdown",
      "metadata": {
        "id": "I-ya0nKQaYk9",
        "colab_type": "text"
      },
      "source": [
        "Mint ahogy azt láttuk, a karakterláncok is indexelhetőek. Karakterláncban szereplő karakterek indexére is rákérdezhetünk az `.index()` paranccsal:"
      ]
    },
    {
      "cell_type": "code",
      "metadata": {
        "collapsed": true,
        "id": "wPwmyR-TaYk9",
        "colab_type": "code",
        "colab": {}
      },
      "source": [
        "betuk='abcdef'"
      ],
      "execution_count": 0,
      "outputs": []
    },
    {
      "cell_type": "code",
      "metadata": {
        "id": "egnSPJTeaYk-",
        "colab_type": "code",
        "colab": {},
        "outputId": "bca06597-8987-4347-9eeb-648fdd94135f"
      },
      "source": [
        "betuk.index('e')"
      ],
      "execution_count": 0,
      "outputs": [
        {
          "output_type": "execute_result",
          "data": {
            "text/plain": [
              "4"
            ]
          },
          "metadata": {
            "tags": []
          },
          "execution_count": 105
        }
      ]
    },
    {
      "cell_type": "markdown",
      "metadata": {
        "id": "P0zsgav1aYk_",
        "colab_type": "text"
      },
      "source": [
        "---"
      ]
    },
    {
      "cell_type": "markdown",
      "metadata": {
        "id": "XyufDODlaYk_",
        "colab_type": "text"
      },
      "source": [
        "### Még egy hasznos adatstruktúra: Szótárak (Dict-ek)"
      ]
    },
    {
      "cell_type": "markdown",
      "metadata": {
        "id": "ZrxfSvpLaYk_",
        "colab_type": "text"
      },
      "source": [
        "Sokszor előfordul, hogy adatokat nem valamilyen sorrendben, hanem inkább valamilyen címke szerint szeretnénk tárolni. Tipikus példája ennek egy idegen nyelvű szótár, ahol egy magyar kifejezést egy más nyelvbeli kifejezéssel párosítunk. Ezeknél a struktúráknál sokszor nem lényeges a sorrend, gondoljunk itt például valamilyen tárgy tulajdonságaira. Legyen mondjuk egy autónk ami \n",
        "\n",
        "- piros színű\n",
        "- 1976-ban gyártották\n",
        "- 3m hosszú \n",
        "- aok621 rendszámú\n",
        "\n",
        "Ezek a tulajdonságok egyértelműen meghatározzák az autót attól függetlenül, hogy a felsorolást milyen sorrendben tettük. \n",
        "Ilyen jellegű adatstruktúra a Python nyelvben a [szótár](http://django.arek.uni-obuda.hu/python3-doc/html/tutorial/datastructures.html#szotarak) vagy angolul a dictionary, röviden dict. \n",
        "A szótárak létrehozása kulcsszavak és a hozzájuk rendelt érték segítségével az alábbi szintaxis alapján történik:"
      ]
    },
    {
      "cell_type": "code",
      "metadata": {
        "id": "0U68rYPPaYlA",
        "colab_type": "code",
        "colab": {},
        "outputId": "5571b058-d9c3-49a8-ef31-7b8e78431056"
      },
      "source": [
        "tel = {'János': 4098, 'Simon': 4139}\n",
        "tel"
      ],
      "execution_count": 0,
      "outputs": [
        {
          "output_type": "execute_result",
          "data": {
            "text/plain": [
              "{'János': 4098, 'Simon': 4139}"
            ]
          },
          "metadata": {
            "tags": []
          },
          "execution_count": 106
        }
      ]
    },
    {
      "cell_type": "markdown",
      "metadata": {
        "id": "VQhAlZDlaYlB",
        "colab_type": "text"
      },
      "source": [
        "A listákkal ellenben, ahol sorszám alapján hivatkozunk egy elemre, itt kulcsszó alapján:"
      ]
    },
    {
      "cell_type": "code",
      "metadata": {
        "id": "ai_bnHm2aYlC",
        "colab_type": "code",
        "colab": {},
        "outputId": "8f7197b4-7649-489b-be2a-b76ce29e0eff"
      },
      "source": [
        "tel['János']"
      ],
      "execution_count": 0,
      "outputs": [
        {
          "output_type": "execute_result",
          "data": {
            "text/plain": [
              "4098"
            ]
          },
          "metadata": {
            "tags": []
          },
          "execution_count": 107
        }
      ]
    },
    {
      "cell_type": "markdown",
      "metadata": {
        "id": "wwYfYXcFaYlD",
        "colab_type": "text"
      },
      "source": [
        "Új elemet is kulcsszó alapján adhatunk egy dict-hez:"
      ]
    },
    {
      "cell_type": "code",
      "metadata": {
        "id": "D1US8kFxaYlG",
        "colab_type": "code",
        "colab": {},
        "outputId": "ff0052ab-b9e4-4980-ed28-31c06f3b6f8e"
      },
      "source": [
        "tel['Géza'] = 4127\n",
        "tel"
      ],
      "execution_count": 0,
      "outputs": [
        {
          "output_type": "execute_result",
          "data": {
            "text/plain": [
              "{'Géza': 4127, 'János': 4098, 'Simon': 4139}"
            ]
          },
          "metadata": {
            "tags": []
          },
          "execution_count": 108
        }
      ]
    },
    {
      "cell_type": "markdown",
      "metadata": {
        "id": "NHA8AvLraYlH",
        "colab_type": "text"
      },
      "source": [
        "Természetesen nem csak számokat adhatunk meg a szótárunkba mint hozzárendelt értéket:"
      ]
    },
    {
      "cell_type": "code",
      "metadata": {
        "id": "zF98CVeXaYlH",
        "colab_type": "code",
        "colab": {},
        "outputId": "2f20e528-c8a2-4fc1-e091-9f1420df9c99"
      },
      "source": [
        "tel['Brünhilda']='NEM TUDOM A SZÁMÁT'\n",
        "tel"
      ],
      "execution_count": 0,
      "outputs": [
        {
          "output_type": "execute_result",
          "data": {
            "text/plain": [
              "{'Brünhilda': 'NEM TUDOM A SZÁMÁT', 'Géza': 4127, 'János': 4098, 'Simon': 4139}"
            ]
          },
          "metadata": {
            "tags": []
          },
          "execution_count": 109
        }
      ]
    },
    {
      "cell_type": "markdown",
      "metadata": {
        "id": "C992dj_yaYlI",
        "colab_type": "text"
      },
      "source": [
        "Így törlünk valakit a telefonkönyvből:"
      ]
    },
    {
      "cell_type": "code",
      "metadata": {
        "id": "0J2cC9G-aYlI",
        "colab_type": "code",
        "colab": {},
        "outputId": "c4253885-e6e9-47f7-e62e-e4f4e727061d"
      },
      "source": [
        "del tel['Simon']\n",
        "tel"
      ],
      "execution_count": 0,
      "outputs": [
        {
          "output_type": "execute_result",
          "data": {
            "text/plain": [
              "{'Brünhilda': 'NEM TUDOM A SZÁMÁT', 'Géza': 4127, 'János': 4098}"
            ]
          },
          "metadata": {
            "tags": []
          },
          "execution_count": 110
        }
      ]
    },
    {
      "cell_type": "markdown",
      "metadata": {
        "id": "2HOib4ZcaYlJ",
        "colab_type": "text"
      },
      "source": [
        "A dict-ben szereplő kulcsszavakat a \".keys()\" metódus alkalmazásával tudjuk elérni. "
      ]
    },
    {
      "cell_type": "code",
      "metadata": {
        "id": "IcW63_4faYlJ",
        "colab_type": "code",
        "colab": {},
        "outputId": "62a1f662-81ca-4039-f4a8-e0c6ea4fe0da"
      },
      "source": [
        "tel.keys()"
      ],
      "execution_count": 0,
      "outputs": [
        {
          "output_type": "execute_result",
          "data": {
            "text/plain": [
              "dict_keys(['Géza', 'Brünhilda', 'János'])"
            ]
          },
          "metadata": {
            "tags": []
          },
          "execution_count": 111
        }
      ]
    },
    {
      "cell_type": "markdown",
      "metadata": {
        "id": "lAadWOAbaYlK",
        "colab_type": "text"
      },
      "source": [
        "A fenti parancs kimenete látszólag tartalmazza az általunk kért információt. Sokszor azonban célszerű ezt az outputot a `list()` parancs segítségével listává konvertálni:"
      ]
    },
    {
      "cell_type": "code",
      "metadata": {
        "id": "WyQD5DiVaYlK",
        "colab_type": "code",
        "colab": {},
        "outputId": "fe2f14d3-1daf-4263-d29b-349b9bbb7043"
      },
      "source": [
        "list(tel.keys())"
      ],
      "execution_count": 0,
      "outputs": [
        {
          "output_type": "execute_result",
          "data": {
            "text/plain": [
              "['Géza', 'Brünhilda', 'János']"
            ]
          },
          "metadata": {
            "tags": []
          },
          "execution_count": 112
        }
      ]
    },
    {
      "cell_type": "markdown",
      "metadata": {
        "id": "kSBpK_mpaYlL",
        "colab_type": "text"
      },
      "source": [
        "Vajon Géza benne van a telefonkönyvben? Ezt a listáknál megismert \"in\" parancsal tudjuk ellenőrizni:"
      ]
    },
    {
      "cell_type": "code",
      "metadata": {
        "id": "o4WG_6_3aYlM",
        "colab_type": "code",
        "colab": {},
        "outputId": "19de1e30-51a5-4f6d-f649-396d65a3a74e"
      },
      "source": [
        "'Géza' in tel"
      ],
      "execution_count": 0,
      "outputs": [
        {
          "output_type": "execute_result",
          "data": {
            "text/plain": [
              "True"
            ]
          },
          "metadata": {
            "tags": []
          },
          "execution_count": 113
        }
      ]
    },
    {
      "cell_type": "markdown",
      "metadata": {
        "id": "ST1GeaqNaYlN",
        "colab_type": "text"
      },
      "source": [
        "*Megjegyzés:* Nyilván attól, mert Brünhilda benne van a telefonkönyvben, nem biztos, hogy tudjuk a telefonszámát:"
      ]
    },
    {
      "cell_type": "code",
      "metadata": {
        "id": "_3LBdlxZaYlN",
        "colab_type": "code",
        "colab": {},
        "outputId": "a7f95c8d-d17e-4bed-fc1b-e89bbd877b24"
      },
      "source": [
        "'Brünhilda' in tel"
      ],
      "execution_count": 0,
      "outputs": [
        {
          "output_type": "execute_result",
          "data": {
            "text/plain": [
              "True"
            ]
          },
          "metadata": {
            "tags": []
          },
          "execution_count": 114
        }
      ]
    },
    {
      "cell_type": "code",
      "metadata": {
        "id": "C0jzCdKgaYlP",
        "colab_type": "code",
        "colab": {},
        "outputId": "4aaeedef-8301-44d9-f02e-7075c7037e58"
      },
      "source": [
        "tel['Brünhilda']"
      ],
      "execution_count": 0,
      "outputs": [
        {
          "output_type": "execute_result",
          "data": {
            "text/plain": [
              "'NEM TUDOM A SZÁMÁT'"
            ]
          },
          "metadata": {
            "tags": []
          },
          "execution_count": 115
        }
      ]
    },
    {
      "cell_type": "markdown",
      "metadata": {
        "id": "S8AsZmPaaYlQ",
        "colab_type": "text"
      },
      "source": [
        "A **dict** függvény segítségével az alábbi módon is definiálhatunk szótárakat:"
      ]
    },
    {
      "cell_type": "code",
      "metadata": {
        "id": "VXm7_UiTaYlQ",
        "colab_type": "code",
        "colab": {},
        "outputId": "35cce577-77ea-4927-ed3e-dc7808c95754"
      },
      "source": [
        "tel2=dict(Ica=1234,Maca=4321,Dada=5567)\n",
        "tel2"
      ],
      "execution_count": 0,
      "outputs": [
        {
          "output_type": "execute_result",
          "data": {
            "text/plain": [
              "{'Dada': 5567, 'Ica': 1234, 'Maca': 4321}"
            ]
          },
          "metadata": {
            "tags": []
          },
          "execution_count": 116
        }
      ]
    },
    {
      "cell_type": "markdown",
      "metadata": {
        "id": "EANdpEj4aYlR",
        "colab_type": "text"
      },
      "source": [
        "---"
      ]
    },
    {
      "cell_type": "markdown",
      "metadata": {
        "id": "Fn89WIvxaYlS",
        "colab_type": "text"
      },
      "source": [
        "## Bool változók és más változók kapcsolata\n",
        "Ahogy fentebb láttuk, egy objektumot egész számmá (**int()** függvény) vagy lebegőpontos számmá tudunk konvertálni ( **float()** függvény), illetve láttunk példát arra is hogy listává konvertáljunk valamit. Objektumokat Bool-változóvá is tudunk konvertálni. Erre szolgál a **bool()** függvény. Alább néhány példát nézzünk meg, hogy bizonyos dolgok hogy konvertálódnak a **bool()** függvénnyel.\n",
        "\n",
        "Egy szám vagy  egy karakterlánc **True** értéket ad:"
      ]
    },
    {
      "cell_type": "code",
      "metadata": {
        "id": "-uVTaxgqaYlS",
        "colab_type": "code",
        "colab": {},
        "outputId": "903c1bfa-428d-44d3-d02e-d50cce38c945"
      },
      "source": [
        "bool(1.0)"
      ],
      "execution_count": 0,
      "outputs": [
        {
          "output_type": "execute_result",
          "data": {
            "text/plain": [
              "True"
            ]
          },
          "metadata": {
            "tags": []
          },
          "execution_count": 117
        }
      ]
    },
    {
      "cell_type": "code",
      "metadata": {
        "id": "cbY2Nk8MaYlT",
        "colab_type": "code",
        "colab": {},
        "outputId": "3e49d291-ac2a-40ea-8696-2858d2936398"
      },
      "source": [
        "bool('szoveg')"
      ],
      "execution_count": 0,
      "outputs": [
        {
          "output_type": "execute_result",
          "data": {
            "text/plain": [
              "True"
            ]
          },
          "metadata": {
            "tags": []
          },
          "execution_count": 118
        }
      ]
    },
    {
      "cell_type": "markdown",
      "metadata": {
        "id": "vdLFYMCIaYlU",
        "colab_type": "text"
      },
      "source": [
        "Hasonlóan **True** értéked ad, ha egy nem üres listát vagy általában egy más létező objektumot vizsgálunk:"
      ]
    },
    {
      "cell_type": "code",
      "metadata": {
        "id": "LSjd1SppaYlV",
        "colab_type": "code",
        "colab": {},
        "outputId": "2a861b11-996e-4555-bfef-3e5743c7b34c"
      },
      "source": [
        "bool([1,'Bela'])"
      ],
      "execution_count": 0,
      "outputs": [
        {
          "output_type": "execute_result",
          "data": {
            "text/plain": [
              "True"
            ]
          },
          "metadata": {
            "tags": []
          },
          "execution_count": 119
        }
      ]
    },
    {
      "cell_type": "markdown",
      "metadata": {
        "id": "SP8CaUu5aYlW",
        "colab_type": "text"
      },
      "source": [
        "**False** értéket ad a 0 az üres karakterlánc, illetve az üres lista:"
      ]
    },
    {
      "cell_type": "code",
      "metadata": {
        "id": "ub9HqrZ5aYlW",
        "colab_type": "code",
        "colab": {},
        "outputId": "f1dcdd3e-9a48-49fb-81d2-d430359b5109"
      },
      "source": [
        "bool(0)"
      ],
      "execution_count": 0,
      "outputs": [
        {
          "output_type": "execute_result",
          "data": {
            "text/plain": [
              "False"
            ]
          },
          "metadata": {
            "tags": []
          },
          "execution_count": 120
        }
      ]
    },
    {
      "cell_type": "code",
      "metadata": {
        "id": "uD9ti530aYlX",
        "colab_type": "code",
        "colab": {},
        "outputId": "1f141921-aa1d-403d-d42e-7f11d1d6d5c4"
      },
      "source": [
        "bool(0.0)"
      ],
      "execution_count": 0,
      "outputs": [
        {
          "output_type": "execute_result",
          "data": {
            "text/plain": [
              "False"
            ]
          },
          "metadata": {
            "tags": []
          },
          "execution_count": 121
        }
      ]
    },
    {
      "cell_type": "code",
      "metadata": {
        "id": "utsrEpXhaYlY",
        "colab_type": "code",
        "colab": {},
        "outputId": "a3f6d120-5d8e-4e82-9bc3-f49e51c0115f"
      },
      "source": [
        "bool('')"
      ],
      "execution_count": 0,
      "outputs": [
        {
          "output_type": "execute_result",
          "data": {
            "text/plain": [
              "False"
            ]
          },
          "metadata": {
            "tags": []
          },
          "execution_count": 122
        }
      ]
    },
    {
      "cell_type": "code",
      "metadata": {
        "id": "CogdZqGQaYle",
        "colab_type": "code",
        "colab": {},
        "outputId": "de02c658-d6d8-455c-d863-ab4b453c2002"
      },
      "source": [
        "bool([])"
      ],
      "execution_count": 0,
      "outputs": [
        {
          "output_type": "execute_result",
          "data": {
            "text/plain": [
              "False"
            ]
          },
          "metadata": {
            "tags": []
          },
          "execution_count": 123
        }
      ]
    },
    {
      "cell_type": "markdown",
      "metadata": {
        "id": "ubJjHS8laYlf",
        "colab_type": "text"
      },
      "source": [
        "Egy látszólag rosszul működő példa:"
      ]
    },
    {
      "cell_type": "code",
      "metadata": {
        "id": "YPG85fgNaYlf",
        "colab_type": "code",
        "colab": {},
        "outputId": "490b3938-e3aa-4be3-a1aa-82c95f745c95"
      },
      "source": [
        "'a' == ('a' or 'b') "
      ],
      "execution_count": 0,
      "outputs": [
        {
          "output_type": "execute_result",
          "data": {
            "text/plain": [
              "True"
            ]
          },
          "metadata": {
            "tags": []
          },
          "execution_count": 124
        }
      ]
    },
    {
      "cell_type": "code",
      "metadata": {
        "id": "zDXbAa-YaYlj",
        "colab_type": "code",
        "colab": {},
        "outputId": "6558f718-139d-40f0-eeba-e9ece6ad91ac"
      },
      "source": [
        "'b' == ('a' or 'b') "
      ],
      "execution_count": 0,
      "outputs": [
        {
          "output_type": "execute_result",
          "data": {
            "text/plain": [
              "False"
            ]
          },
          "metadata": {
            "tags": []
          },
          "execution_count": 125
        }
      ]
    },
    {
      "cell_type": "code",
      "metadata": {
        "id": "GvpVVxGsaYlk",
        "colab_type": "code",
        "colab": {},
        "outputId": "260d5ba3-f5b4-496b-d4f1-e7e398e7dd9a"
      },
      "source": [
        "'a' == ('a' and 'b') "
      ],
      "execution_count": 0,
      "outputs": [
        {
          "output_type": "execute_result",
          "data": {
            "text/plain": [
              "False"
            ]
          },
          "metadata": {
            "tags": []
          },
          "execution_count": 126
        }
      ]
    },
    {
      "cell_type": "code",
      "metadata": {
        "id": "J5n07imBaYll",
        "colab_type": "code",
        "colab": {},
        "outputId": "3e7c174c-e382-4284-8745-87656a84e69c"
      },
      "source": [
        "'b' == ('a' and 'b') "
      ],
      "execution_count": 0,
      "outputs": [
        {
          "output_type": "execute_result",
          "data": {
            "text/plain": [
              "True"
            ]
          },
          "metadata": {
            "tags": []
          },
          "execution_count": 127
        }
      ]
    },
    {
      "cell_type": "markdown",
      "metadata": {
        "id": "iUnPgVmSaYlo",
        "colab_type": "text"
      },
      "source": [
        "A második példa vajon miért **False**, ha az első **True** ? A harmadik miért  **False**, ha a látszólag hasonló negyedik **True**?\n",
        "Ezen a ponton úgy tűnhet, hogy az **and** és **or** utasítások nem működnek megfelelően! Ha részletesen kiböngésszük, hogy mit is csinál a Python-értelmező, akkor kiderül, hogy pontosan azt teszi, amire megkértük. DE ez nem pontosan az, amire elsőnek gondolnánk! Az első két példa tehát nem azt ellenőrzi, hogy a **==** előtt álló karakter az szerepel-e a zárójelben. Mi is történik pontosan?\n",
        "Amikor a Python egy **or** kifejezéssel találkozik (a zárójeleken belül), sorba megy az **or** kifejezés által kapcsolatba hozott elemeken, és az első **True**-ként kiértékelhető objektum **értékét** adja vissza, tehát nem **True** vagy **False**-t hanem a változó értékét. Ez azért van így, mert ha egy **or** kifejezés egyik tagja igaz, akkor az egész kifejezés igaz. Az **and** ezzel szemben addig lépdel végig az alkotó kifejezéseken, amíg meggyőződött róla, hogy mindegyik kifejezés igaznak számít, és a legutolsó értéket adja vissza. A bool operációk ezen viselkedését *rövid zár*-nak hívják, és sok programozási nyelvben hasonlóan működik. \n",
        "Tehát ha arról akarunk meggyőződni, hogy egy kifejezés valamely kifejezéscsoport egyikével megegyezik, akkor az alábbiak szerint szükséges eljárni: "
      ]
    },
    {
      "cell_type": "code",
      "metadata": {
        "id": "Mz9EfK98aYlo",
        "colab_type": "code",
        "colab": {},
        "outputId": "b8042e12-8b98-4eb1-f958-d17b4c8783b5"
      },
      "source": [
        "(('a' == 'a') or ('a' == 'b'))"
      ],
      "execution_count": 0,
      "outputs": [
        {
          "output_type": "execute_result",
          "data": {
            "text/plain": [
              "True"
            ]
          },
          "metadata": {
            "tags": []
          },
          "execution_count": 128
        }
      ]
    },
    {
      "cell_type": "code",
      "metadata": {
        "id": "JiCm4lLBaYlp",
        "colab_type": "code",
        "colab": {},
        "outputId": "b0aa451a-b4af-45a1-8ad4-bb4a19dcda62"
      },
      "source": [
        "(('b' == 'a') or ('b' == 'b'))"
      ],
      "execution_count": 0,
      "outputs": [
        {
          "output_type": "execute_result",
          "data": {
            "text/plain": [
              "True"
            ]
          },
          "metadata": {
            "tags": []
          },
          "execution_count": 129
        }
      ]
    },
    {
      "cell_type": "markdown",
      "metadata": {
        "id": "ndZ0QlTsaYlp",
        "colab_type": "text"
      },
      "source": [
        "Előfordul azonban sokszor, hogy az a csoport, amihez egy lehetséges elemet össze kell hasonlítani, igen népes. Például hogy mondjuk meg, hogy egy karakterlánc szerepel egy adott hosszú listában? Erre alkalmazható az **in** kulcsszó:"
      ]
    },
    {
      "cell_type": "code",
      "metadata": {
        "collapsed": true,
        "id": "urZ3n9OJaYlq",
        "colab_type": "code",
        "colab": {}
      },
      "source": [
        "Tage_der_Woche=['Montag','Dienstag','Mittwoch','Donnerstag','Freitag','Samstag','Sonntag']"
      ],
      "execution_count": 0,
      "outputs": []
    },
    {
      "cell_type": "code",
      "metadata": {
        "id": "ni9iCY80aYlq",
        "colab_type": "code",
        "colab": {},
        "outputId": "82cb73ac-1234-4fa1-cbc9-d43b1f04365b"
      },
      "source": [
        "'hetfo' in Tage_der_Woche"
      ],
      "execution_count": 0,
      "outputs": [
        {
          "output_type": "execute_result",
          "data": {
            "text/plain": [
              "False"
            ]
          },
          "metadata": {
            "tags": []
          },
          "execution_count": 131
        }
      ]
    },
    {
      "cell_type": "code",
      "metadata": {
        "id": "arC4m9ehaYlr",
        "colab_type": "code",
        "colab": {},
        "outputId": "d57400fb-152a-4ec5-c9db-279bdf2ac476"
      },
      "source": [
        "'Montag' in Tage_der_Woche"
      ],
      "execution_count": 0,
      "outputs": [
        {
          "output_type": "execute_result",
          "data": {
            "text/plain": [
              "True"
            ]
          },
          "metadata": {
            "tags": []
          },
          "execution_count": 132
        }
      ]
    }
  ]
}