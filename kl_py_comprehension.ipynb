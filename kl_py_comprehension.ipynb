{
  "nbformat": 4,
  "nbformat_minor": 0,
  "metadata": {
    "kernelspec": {
      "display_name": "Python 3",
      "language": "python",
      "name": "python3"
    },
    "language_info": {
      "codemirror_mode": {
        "name": "ipython",
        "version": 3
      },
      "file_extension": ".py",
      "mimetype": "text/x-python",
      "name": "python",
      "nbconvert_exporter": "python",
      "pygments_lexer": "ipython3",
      "version": "3.7.4"
    },
    "colab": {
      "name": "kl_py_comprehension.ipynb",
      "provenance": [],
      "collapsed_sections": [],
      "include_colab_link": true
    }
  },
  "cells": [
    {
      "cell_type": "markdown",
      "metadata": {
        "id": "view-in-github",
        "colab_type": "text"
      },
      "source": [
        "<a href=\"https://colab.research.google.com/github/klajosw/python/blob/master/kl_py_comprehension.ipynb\" target=\"_parent\"><img src=\"https://colab.research.google.com/assets/colab-badge.svg\" alt=\"Open In Colab\"/></a>"
      ]
    },
    {
      "cell_type": "markdown",
      "metadata": {
        "id": "VM6G3708pvdR",
        "colab_type": "text"
      },
      "source": [
        "<p align=\"left\"> \n",
        "    <img src=\"https://raw.githubusercontent.com/klajosw/python/master/kl_mie_python_logo_250.jpg\" \n",
        "         align=\"left\" width=\"251\" height=\"251\">\n",
        "    \n",
        "</p>\n",
        "\n",
        "\n",
        "<p> </p>\n",
        "\n",
        "\n",
        "\n",
        "# Python alapok (Comprehension)\n",
        "\n",
        "<https://klajosw.blogspot.com/>\n",
        "\n",
        "\n",
        "---"
      ]
    },
    {
      "cell_type": "markdown",
      "metadata": {
        "id": "y5ocL7jMpvdU",
        "colab_type": "text"
      },
      "source": [
        "# Comprehension\n",
        "\n",
        "\n",
        "Ez a szerkezet úgy néz ki, hogy egy kifejezés és mögötte a for-os kifejezés.\n",
        "\n"
      ]
    },
    {
      "cell_type": "markdown",
      "metadata": {
        "id": "5394kysspvdU",
        "colab_type": "text"
      },
      "source": [
        "# List Comprehension"
      ]
    },
    {
      "cell_type": "code",
      "metadata": {
        "id": "elkCfqCcpvdV",
        "colab_type": "code",
        "colab": {},
        "outputId": "79b0c1cf-c4f5-46ab-afe8-9734c56059af"
      },
      "source": [
        "list1 = [i**2 for i in range(1,11)]\n",
        "print(list1)\n"
      ],
      "execution_count": 0,
      "outputs": [
        {
          "output_type": "stream",
          "text": [
            "[1, 4, 9, 16, 25, 36, 49, 64, 81, 100]\n"
          ],
          "name": "stdout"
        }
      ]
    },
    {
      "cell_type": "code",
      "metadata": {
        "id": "CWxPBCJgpvdZ",
        "colab_type": "code",
        "colab": {},
        "outputId": "a29dc14d-b93c-4348-800c-02c5ba681111"
      },
      "source": [
        "list2 = [i**2 for i in range (20) if i % 2 ==0 ]\n",
        "print(list2)"
      ],
      "execution_count": 0,
      "outputs": [
        {
          "output_type": "stream",
          "text": [
            "[0, 4, 16, 36, 64, 100, 144, 196, 256, 324]\n"
          ],
          "name": "stdout"
        }
      ]
    },
    {
      "cell_type": "code",
      "metadata": {
        "id": "QtDLx8nPpvdc",
        "colab_type": "code",
        "colab": {},
        "outputId": "bd746146-6ab5-4a8e-d2ba-b6799b588ef6"
      },
      "source": [
        "import glob, os\n",
        "filenames = [os.path.basename(fname)[5:16] for fname in glob.glob(\"*.ipynb\")]\n",
        "print (sorted(set(filenames)))\n"
      ],
      "execution_count": 0,
      "outputs": [
        {
          "output_type": "stream",
          "text": [
            "[' (  ).ipynb', ' ).ipynb', ' Function.i', ' _method.ip', '.ipynb', 'Nets_Cifar_', '_CIFAR10_Ea', '_ConvNet_So', '_Intro_to_M', '_MNIST_Eage', '_Pre_Made_E', '_interakcio', '_regexp.ipy', '_sheet04.ip', 'a func.ipyn', 'act.ipynb', 'at04.ipynb', 'der.ipynb', 'ehension.ip', 'ergy_minimi', 'ex Number.i', 'g.ipynb', 'gex.ipynb', 'ial-1st-exp', 'ial-pipelin', 'ikit.ipynb', 'ions Exampl', 'ipynb', 'j.ipynb', 'lassificati', 'm.ipynb', 'mpy_perform', 'ntroduction', 'otlib.ipynb', 'pelda00.ipy', 'pelda01.ipy', 'pelda02.ipy', 'pelda03.ipy', 'pelda04.ipy', 'pelda05.ipy', 'pelda06.ipy', 'pelda07.ipy', 'pelda08.ipy', 'pelda09.ipy', 'pelda10.ipy', 'ples.ipynb', 'ptron.ipynb', 'r.ipynb', 'rial.ipynb', 'ring.ipynb', 's.ipynb', 'spy.ipynb', 'ssion-autom', 'tional Stat', 'tions handi', 'y.ipynb', 'ynb']\n"
          ],
          "name": "stdout"
        }
      ]
    },
    {
      "cell_type": "markdown",
      "metadata": {
        "id": "AzDukJzLpvdd",
        "colab_type": "text"
      },
      "source": [
        "# Set Comprehension"
      ]
    },
    {
      "cell_type": "code",
      "metadata": {
        "id": "XNZtMptXpvde",
        "colab_type": "code",
        "colab": {},
        "outputId": "25971a5c-98b3-48c6-cfbb-d744c0939bc4"
      },
      "source": [
        "li = ['Afridi',4,0,2]\n",
        "set1 = {i for i in li  }\n",
        "print(set1)"
      ],
      "execution_count": 0,
      "outputs": [
        {
          "output_type": "stream",
          "text": [
            "{0, 2, 'Afridi', 4}\n"
          ],
          "name": "stdout"
        }
      ]
    },
    {
      "cell_type": "code",
      "metadata": {
        "id": "tu4jphD1pvdg",
        "colab_type": "code",
        "colab": {},
        "outputId": "f5577209-9c9b-410f-f6ab-ef16aed58cae"
      },
      "source": [
        "li2 = ['Afridi','Khan']\n",
        "set2 = {i for i in li2 if len(i) > 1}\n",
        "print(set2)"
      ],
      "execution_count": 0,
      "outputs": [
        {
          "output_type": "stream",
          "text": [
            "{'Afridi', 'Khan'}\n"
          ],
          "name": "stdout"
        }
      ]
    },
    {
      "cell_type": "code",
      "metadata": {
        "id": "HV7tO9_tpvdi",
        "colab_type": "code",
        "colab": {},
        "outputId": "dd7deb51-b1d8-40bc-a596-a483af0cd48a"
      },
      "source": [
        "import glob, os\n",
        "filenames = set(os.path.basename(fname)[5:16] for fname in glob.glob(\"*.ipynb\"))\n",
        "print (sorted(filenames))"
      ],
      "execution_count": 0,
      "outputs": [
        {
          "output_type": "stream",
          "text": [
            "[' (  ).ipynb', ' ).ipynb', ' Function.i', ' _method.ip', '.ipynb', 'Nets_Cifar_', '_CIFAR10_Ea', '_ConvNet_So', '_Intro_to_M', '_MNIST_Eage', '_Pre_Made_E', '_interakcio', '_regexp.ipy', '_sheet04.ip', 'a func.ipyn', 'act.ipynb', 'at04.ipynb', 'der.ipynb', 'ehension.ip', 'ergy_minimi', 'ex Number.i', 'g.ipynb', 'gex.ipynb', 'ial-1st-exp', 'ial-pipelin', 'ikit.ipynb', 'ions Exampl', 'ipynb', 'j.ipynb', 'lassificati', 'm.ipynb', 'mpy_perform', 'ntroduction', 'otlib.ipynb', 'pelda00.ipy', 'pelda01.ipy', 'pelda02.ipy', 'pelda03.ipy', 'pelda04.ipy', 'pelda05.ipy', 'pelda06.ipy', 'pelda07.ipy', 'pelda08.ipy', 'pelda09.ipy', 'pelda10.ipy', 'ples.ipynb', 'ptron.ipynb', 'r.ipynb', 'rial.ipynb', 'ring.ipynb', 's.ipynb', 'spy.ipynb', 'ssion-autom', 'tional Stat', 'tions handi', 'y.ipynb', 'ynb']\n"
          ],
          "name": "stdout"
        }
      ]
    },
    {
      "cell_type": "markdown",
      "metadata": {
        "id": "_2U1pjEIpvdk",
        "colab_type": "text"
      },
      "source": [
        "# Dictionary Comprehension"
      ]
    },
    {
      "cell_type": "markdown",
      "metadata": {
        "id": "cE4xgvZRpvdk",
        "colab_type": "text"
      },
      "source": [
        "### access Asci value "
      ]
    },
    {
      "cell_type": "code",
      "metadata": {
        "id": "uxcFQkxDpvdl",
        "colab_type": "code",
        "colab": {},
        "outputId": "0fbff088-5259-44da-bd56-5e38472b79f4"
      },
      "source": [
        "d = {i : chr(i) for i in range(65,90)}\n",
        "print(d)"
      ],
      "execution_count": 0,
      "outputs": [
        {
          "output_type": "stream",
          "text": [
            "{65: 'A', 66: 'B', 67: 'C', 68: 'D', 69: 'E', 70: 'F', 71: 'G', 72: 'H', 73: 'I', 74: 'J', 75: 'K', 76: 'L', 77: 'M', 78: 'N', 79: 'O', 80: 'P', 81: 'Q', 82: 'R', 83: 'S', 84: 'T', 85: 'U', 86: 'V', 87: 'W', 88: 'X', 89: 'Y'}\n"
          ],
          "name": "stdout"
        }
      ]
    },
    {
      "cell_type": "markdown",
      "metadata": {
        "id": "_ehmyuU5pvdn",
        "colab_type": "text"
      },
      "source": [
        "### access Numbers"
      ]
    },
    {
      "cell_type": "code",
      "metadata": {
        "id": "515b0hMzpvdn",
        "colab_type": "code",
        "colab": {},
        "outputId": "507d3093-137a-4519-86ba-9b3b90252a95"
      },
      "source": [
        "d = {i : i**2 for i in range(1,11)}\n",
        "print(d)"
      ],
      "execution_count": 0,
      "outputs": [
        {
          "output_type": "stream",
          "text": [
            "{1: 2, 2: 4, 3: 6, 4: 8, 5: 10, 6: 12, 7: 14, 8: 16, 9: 18, 10: 20}\n"
          ],
          "name": "stdout"
        }
      ]
    },
    {
      "cell_type": "markdown",
      "metadata": {
        "id": "w_8cP7Cipvdp",
        "colab_type": "text"
      },
      "source": [
        "# Import Matplotlib"
      ]
    },
    {
      "cell_type": "code",
      "metadata": {
        "id": "0rXWuC8qpvdq",
        "colab_type": "code",
        "colab": {},
        "outputId": "4cac4bfc-f6ec-4c76-ada3-82081b355235"
      },
      "source": [
        "from matplotlib.pyplot import plot\n",
        "plot([0,1,0,1])"
      ],
      "execution_count": 0,
      "outputs": [
        {
          "output_type": "execute_result",
          "data": {
            "text/plain": [
              "[<matplotlib.lines.Line2D at 0x7f91dc35f128>]"
            ]
          },
          "metadata": {
            "tags": []
          },
          "execution_count": 46
        },
        {
          "output_type": "display_data",
          "data": {
            "image/png": "[encoded data removed]",
            "text/plain": [
              "<Figure size 432x288 with 1 Axes>"
            ]
          },
          "metadata": {
            "tags": []
          }
        }
      ]
    }
  ]
}