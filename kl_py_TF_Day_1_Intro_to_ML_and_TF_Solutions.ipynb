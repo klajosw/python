{
  "nbformat": 4,
  "nbformat_minor": 0,
  "metadata": {
    "colab": {
      "name": "kl_py_TF_Day_1_Intro_to_ML_and_TF_Solutions.ipynb",
      "provenance": [],
      "collapsed_sections": [],
      "include_colab_link": true
    },
    "kernelspec": {
      "display_name": "Python 3",
      "language": "python",
      "name": "python3"
    },
    "language_info": {
      "codemirror_mode": {
        "name": "ipython",
        "version": 3
      },
      "file_extension": ".py",
      "mimetype": "text/x-python",
      "name": "python",
      "nbconvert_exporter": "python",
      "pygments_lexer": "ipython3",
      "version": "3.7.6"
    }
  },
  "cells": [
    {
      "cell_type": "markdown",
      "metadata": {
        "id": "view-in-github",
        "colab_type": "text"
      },
      "source": [
        "<a href=\"https://colab.research.google.com/github/klajosw/python/blob/master/kl_py_TF_Day_1_Intro_to_ML_and_TF_Solutions.ipynb\" target=\"_parent\"><img src=\"https://colab.research.google.com/assets/colab-badge.svg\" alt=\"Open In Colab\"/></a>"
      ]
    },
    {
      "cell_type": "markdown",
      "metadata": {
        "colab_type": "text",
        "id": "EXQHB7VTte3J"
      },
      "source": [
        "![TF](https://1.bp.blogspot.com/-eb-_3Aqu5bA/XnertoOpPgI/AAAAAAAAa6Y/8TPaJ8vjn2cN_so7xLeqPZDqX3pQjVARgCLcBGAsYHQ/s200/tf.jpg)\n",
        "\n",
        "## Machine Learning Intro\n",
        "\n",
        "Before getting started, active GPU support: **Runtime** -> **Change runtime type**\n",
        "  - Set Handware Accelerator to **GPU**"
      ]
    },
    {
      "cell_type": "markdown",
      "metadata": {
        "colab_type": "text",
        "id": "ijzHZUHpoV_y"
      },
      "source": [
        "## Using Data to Answer Questions\n",
        "\n",
        "Machine Learning is a branch of AI devoted to developing systems that learn from data.\n",
        "\n",
        "Types of Machine Learning tasks:\n",
        "\n",
        "- Supervised learning\n",
        "- Unsupervised learning\n",
        "- Reinforcement learning\n",
        "\n",
        "\n",
        "We are going to focus on **Supervised learning**. \n",
        "\n",
        "A supervised learning setup is like learning any concept with a teacher (supervisor) by your side.\n",
        "\n",
        "In this context, supervised datasets are composed of input features and the correspondings labels. The **true values** for each record.\n",
        "\n"
      ]
    },
    {
      "cell_type": "markdown",
      "metadata": {
        "colab_type": "text",
        "id": "vNzPC5yrtnIy"
      },
      "source": [
        "# Gradient Descent"
      ]
    },
    {
      "cell_type": "markdown",
      "metadata": {
        "colab_type": "text",
        "id": "_svV-GbBXWB3"
      },
      "source": [
        "### Gradient Descent is an optimization algorithm.\n",
        "\n",
        "**Optimization algorithms** (Basic definition): Finding a value that minimizes or maximizes a function f(x) by changing x.\n",
        "\n",
        "Imagine you are on top of a hill and you want to get to its **lowest spot**.\n",
        "\n",
        "Some key observatons:\n",
        "\n",
        "- You do not have a map of the mountain. So you do **NOT** know where the sweet spot you are looking for is.\n",
        "- What if you know the direction that brings your there?\n",
        "\n",
        "![alt text](https://cdn-images-1.medium.com/max/800/1*QEME_QUKOjntJpBBUdgTNA.png)\n",
        "\n",
        "- The Gradient points to the direction of steepest ascent.\n",
        "- The Gradient is a **vector** os partial derivatives.\n",
        "\n",
        "Each gradient value tells how much a function change if we slightly alter one of its parameters.\n",
        "\n",
        "![alt text](https://cdn-images-1.medium.com/max/800/1*J-TbI94E1nXNHIubJc7VeQ.png)\n",
        "\n",
        "[Intro do Gradient Descent](https://towardsdatascience.com/machine-learning-101-an-intuitive-introduction-to-gradient-descent-366b77b52645)\n"
      ]
    },
    {
      "cell_type": "markdown",
      "metadata": {
        "colab_type": "text",
        "id": "a_XTNZKYtrW3"
      },
      "source": [
        "# Learning Rate"
      ]
    },
    {
      "cell_type": "markdown",
      "metadata": {
        "colab_type": "text",
        "id": "-TedOpi8uW36"
      },
      "source": [
        "There are various knobs that we can change in order to optimize our ML models. \n",
        "\n",
        "- Batch size\n",
        "- Regularization strength\n",
        "- Learning rate\n",
        "\n",
        "We call these knobs** Hyper-parameters**.\n",
        "\n",
        "The **Learning Rate** is one of these knobs. Perharps, the most important one.\n",
        "\n",
        "![alt text](https://cdn-images-1.medium.com/max/1600/0*uIa_Dz3czXO5iWyI.)\n",
        "\n",
        "The learning rate controls the rate of learning of your ML algorithm. \n",
        "\n",
        "In math terms, the learning rate is a scalar that we **multiply by the Gradient vector**. \n",
        "  - It controls how much of the Gradient Signal, we are going to follow at each step.\n",
        "  \n",
        "Let's see it in action: [Learning Rate Playground](https://developers.google.com/machine-learning/crash-course/fitter/graph)"
      ]
    },
    {
      "cell_type": "markdown",
      "metadata": {
        "colab_type": "text",
        "id": "smurnV0etx8n"
      },
      "source": [
        "# TensorFlow Intro\n",
        "\n"
      ]
    },
    {
      "cell_type": "markdown",
      "metadata": {
        "colab_type": "text",
        "id": "kbZEM7Jsvzby"
      },
      "source": [
        "Tensorflow is a plataform to build Machine Learning algorithms.\n",
        "\n",
        "More generally, it is a** Graph based computation** framework.\n",
        "  - It can be used to create any kind of computation (as long as it can be interpreted as a graph)"
      ]
    },
    {
      "cell_type": "markdown",
      "metadata": {
        "colab_type": "text",
        "id": "6O5ZdIOTt9Lf"
      },
      "source": [
        "## Tensors and Ranks\n",
        "\n",
        "- In TensorFlow, the Tensor is the central unit of data.\n",
        "- The **Rank** is the Tensor number of dimensions. "
      ]
    },
    {
      "cell_type": "markdown",
      "metadata": {
        "colab_type": "text",
        "id": "lPw8wbrh-mZY"
      },
      "source": [
        "![Tensors](https://image.slidesharecdn.com/tensordecomposition-170301235239/95/a-brief-survey-of-tensors-3-638.jpg?cb=1488412458)\n",
        "\n",
        "\n",
        "**Take away: The Rank of a Tensor is its number of Dimentions.**"
      ]
    },
    {
      "cell_type": "code",
      "metadata": {
        "colab_type": "code",
        "id": "WAj7oeqTt-q7",
        "outputId": "8be4674b-3f16-4135-e318-2663cdbaf6ae",
        "colab": {
          "base_uri": "https://localhost:8080/",
          "height": 90
        }
      },
      "source": [
        "from __future__ import absolute_import\n",
        "from __future__ import division\n",
        "from __future__ import print_function\n",
        "\n",
        "import numpy as np\n",
        "import tensorflow as tf\n",
        "\n",
        "# create different tensors\n",
        "scalar = tf.constant(3.) # just a value\n",
        "one_d_array = tf.constant([4., 5.5, 3]) # a simple 1-D array\n",
        "two_d_array = tf.constant([[2., 3.4],[8.,1.0],[2.3,7.5]]) # a matrix like object 2-D\n",
        "tensor = tf.constant([[[3.0,9.3]], [[4.3,7.7]]]) # any representation with more than 2 dimentions\n",
        "\n",
        "# Look at the shapes. These are called the Ranks\n",
        "print(scalar)\n",
        "print(one_d_array)\n",
        "print(two_d_array)\n",
        "print(tensor)"
      ],
      "execution_count": 0,
      "outputs": [
        {
          "output_type": "stream",
          "text": [
            "Tensor(\"Const:0\", shape=(), dtype=float32)\n",
            "Tensor(\"Const_1:0\", shape=(3,), dtype=float32)\n",
            "Tensor(\"Const_2:0\", shape=(3, 2), dtype=float32)\n",
            "Tensor(\"Const_3:0\", shape=(2, 1, 2), dtype=float32)\n"
          ],
          "name": "stdout"
        }
      ]
    },
    {
      "cell_type": "markdown",
      "metadata": {
        "colab_type": "text",
        "id": "NKL55cl0t3VH"
      },
      "source": [
        "## Graph Execution\n",
        "\n",
        "You might think of TensorFlow Core programs as consisting of two discrete sections:\n",
        "\n",
        "1.   Building the computational graph.\n",
        "2.   Running the computational graph."
      ]
    },
    {
      "cell_type": "markdown",
      "metadata": {
        "colab_type": "text",
        "id": "k7GUidBNz0GN"
      },
      "source": [
        "A Tensorflow graph is a series of operations that are structured as a Graph.\n",
        "​\n",
        "A TF Graph contains two types of objects.\n",
        "  - Operations\n",
        "  - Tensors\n",
        "  \n",
        "## Operations\n",
        "In a Tensorflow computation graph. **The nodes represent Operations**. E.g. Matmul, add, sub...\n",
        "\n",
        "It consumes and produces **Tensors** by the means of math operations. \n",
        "  \n",
        "## Tensors\n",
        "\n",
        "Similarly, the **edges** of a TensorFlow graph represent Tensors. \n",
        "\n",
        "Tensors are the inputs and outputs of operations.\n",
        "\n",
        "That is, **Tensors** are the kind of information that flows through a TF Graph.\n",
        "\n",
        "![alt text](https://github.com/sthalles/tensorflow-tutorials/blob/master/images/sample_graph.png?raw=true)\n",
        "\n",
        "Note: When we create tensors using Graph execution, these objects are actually **references** to the nodes in the Graph.\n",
        "\n",
        "## Exercise\n",
        "\n",
        "- Use [tf.constant()](https://www.tensorflow.org/versions/master/api_docs/python/tf/constant) to build a simple computational graph. Try *y = a + b*. \n",
        "- Print the result of the tensors. What do you see?"
      ]
    },
    {
      "cell_type": "code",
      "metadata": {
        "colab_type": "code",
        "id": "vDEs16jJxoMc",
        "colab": {}
      },
      "source": [
        "# Creates a constant tensor.\n",
        "# tf.constant(\n",
        "#     value, # A constant value (or list) of output type dtype.\n",
        "#     dtype=None, # The type of the elements of the resulting tensor.\n",
        "#     shape=None, # Optional dimensions of resulting tensor.\n",
        "#     name='Const', # Optional name for the tensor.\n",
        "#     verify_shape=False # Boolean that enables verification of a shape of values.\n",
        "# )\n",
        "\n",
        "a = tf.constant(2.0)\n",
        "b = tf.constant(3.0, dtype=tf.float32) # you can also define the type values\n",
        "y = a + b"
      ],
      "execution_count": 0,
      "outputs": []
    },
    {
      "cell_type": "markdown",
      "metadata": {
        "colab_type": "text",
        "id": "LWgm4zNQ7k8V"
      },
      "source": [
        "## Session"
      ]
    },
    {
      "cell_type": "markdown",
      "metadata": {
        "colab_type": "text",
        "id": "Zve3h48E7trt"
      },
      "source": [
        "To run a TensorFlow graph and get the results from the operations, we need a **Session()**.\n",
        "\n",
        "- **Session is responsible for evaluating a computational Graph**.\n",
        "- The *run()* method runs the necessary nodes to evaluate a given operation."
      ]
    },
    {
      "cell_type": "code",
      "metadata": {
        "colab_type": "code",
        "id": "RakouxYm7mCe",
        "outputId": "faadb289-912e-4e23-97f8-aa3f49375cc9",
        "colab": {
          "base_uri": "https://localhost:8080/",
          "height": 54
        }
      },
      "source": [
        "with tf.Session() as sess:\n",
        "  y_ = sess.run(y) # print out the actual result of the computational graph we built above\n",
        "  print(\"a + b =\", y_)\n",
        "  \n",
        "  # we can pass as many tensors to run as we wish\n",
        "  a_,b_,y_ = sess.run([a,b,y])\n",
        "  print(\"a=%d, b=%d, y=%d\" % (a_,b_,y_))"
      ],
      "execution_count": 0,
      "outputs": [
        {
          "output_type": "stream",
          "text": [
            "a + b = 5.0\n",
            "a=2, b=3, y=5\n"
          ],
          "name": "stdout"
        }
      ]
    },
    {
      "cell_type": "markdown",
      "metadata": {
        "colab_type": "text",
        "id": "sP83PBHe9Jap"
      },
      "source": [
        "When we execute **Session().run()**, Tensorflow backtracks through all **dependent** operations of the running node.\n",
        "\n",
        "## Try it yourself\n",
        "\n",
        "Create a TensorFlow graph for the following operations.\n",
        "\n",
        "![alt text](https://www.tensorflow.org/versions/r1.1/images/getting_started_add.png)"
      ]
    },
    {
      "cell_type": "code",
      "metadata": {
        "colab_type": "code",
        "id": "w1JVRHHUU858",
        "outputId": "ebcb11b2-335d-4c0c-e2d5-5536a90f78dd",
        "colab": {
          "base_uri": "https://localhost:8080/",
          "height": 54
        }
      },
      "source": [
        "node1 = tf.constant(3.0)\n",
        "node2 = tf.constant(2.0)\n",
        "node3 = tf.add(node1, node2)\n",
        "print(\"node3: \", node3)\n",
        "\n",
        "with tf.Session() as sess:\n",
        "  print(\"sess.run(node3): \",sess.run(node3))"
      ],
      "execution_count": 0,
      "outputs": [
        {
          "output_type": "stream",
          "text": [
            "node3:  Tensor(\"Add_1:0\", shape=(), dtype=float32)\n",
            "sess.run(node3):  5.0\n"
          ],
          "name": "stdout"
        }
      ]
    },
    {
      "cell_type": "markdown",
      "metadata": {
        "colab_type": "text",
        "id": "Llip2PCFt_Cv"
      },
      "source": [
        "## Placeholders"
      ]
    },
    {
      "cell_type": "markdown",
      "metadata": {
        "colab_type": "text",
        "id": "JMt8zZk0AFDJ"
      },
      "source": [
        "What if we want to pass different values (from outside Tensorflow) to a computational Graph?\n",
        "\n",
        "To do that, Tensorflow provides a special kind of Tensor - the [tf.placeholder()](https://www.tensorflow.org/api_docs/python/tf/placeholder).\n",
        "\n",
        "A placeholder acts as a promise. \n",
        "**It promises to deliver the value assigned to it when its value is requested**.\n",
        "\n",
        "To dynamically feed values to a Tensorflow graph using placeholders, we use the **feed_dict** argument of the **run()** method.\n",
        "\n",
        "Note that the feed_dict can **overwrite any tensor**, not just placeholders.\n",
        "\n",
        "## Exercise\n",
        "- Use [tf.placeholder()](https://www.tensorflow.org/api_docs/python/tf/placeholder) to finish the new version of the computational graph below. Try y = a + b.\n",
        "- Try to feed different values to the placeholder. Try to break it. "
      ]
    },
    {
      "cell_type": "code",
      "metadata": {
        "colab_type": "code",
        "id": "Bs6s0ZtvuA4B",
        "outputId": "ee27b3de-3167-4e2f-ced1-9ae5d99802cb",
        "colab": {
          "base_uri": "https://localhost:8080/",
          "height": 54
        }
      },
      "source": [
        "a = tf.placeholder(dtype=tf.float32)\n",
        "b = tf.placeholder(dtype=tf.float32)\n",
        "y = a + b\n",
        "\n",
        "with tf.Session() as sess:\n",
        "  print(sess.run(y, feed_dict={a: 10, b:2}))\n",
        "  print(sess.run(y, feed_dict={a: [1, 3], b: [2, 4]}))"
      ],
      "execution_count": 0,
      "outputs": [
        {
          "output_type": "stream",
          "text": [
            "12.0\n",
            "[3. 7.]\n"
          ],
          "name": "stdout"
        }
      ]
    },
    {
      "cell_type": "markdown",
      "metadata": {
        "colab_type": "text",
        "id": "afKGn0HyWZ75"
      },
      "source": [
        "## Variables\n",
        "\n",
        "In Machine Learning, we usually need to modify the internal structure of a Graph (its variables) in order to get new (improved) outputs with the same inputs.\n",
        "\n",
        "- [tf.Variable()](https://www.tensorflow.org/api_docs/python/tf/Variable) gives us this possibility.\n",
        "- After creating a **tf.Variable**, its type and shape are Immutable. But its values can be changed.\n",
        "- Variables must be **initialized** before used by any operation."
      ]
    },
    {
      "cell_type": "code",
      "metadata": {
        "colab_type": "code",
        "id": "_ERB7w2ZXbx6",
        "outputId": "11b6ef62-34c6-4a83-a13c-2bd620de86b1",
        "colab": {
          "base_uri": "https://localhost:8080/",
          "height": 54
        }
      },
      "source": [
        "var1 = tf.Variable(1.2, name=\"my_first_variable\")\n",
        "\n",
        "# Assign a new value to the variable with `assign()` or a related method.\n",
        "# op = var1.assign(var1 + 1.0)\n",
        "op = var1.assign_add(1.0)\n",
        "\n",
        "with tf.Session() as sess:\n",
        "  sess.run(var1.initializer) # initialize the variable before running it\n",
        "  print(\"Value:\", sess.run(var1))\n",
        "  print(\"Value after mutation:\", sess.run(op))"
      ],
      "execution_count": 0,
      "outputs": [
        {
          "output_type": "stream",
          "text": [
            "Value: 1.2\n",
            "Value after mutation: 2.2\n"
          ],
          "name": "stdout"
        }
      ]
    },
    {
      "cell_type": "markdown",
      "metadata": {
        "colab_type": "text",
        "id": "r9IYjHGbuBSw"
      },
      "source": [
        "## Tensorboard"
      ]
    },
    {
      "cell_type": "markdown",
      "metadata": {
        "colab_type": "text",
        "id": "Ui_f0X32fLLt"
      },
      "source": [
        "[TensorBoard](https://www.tensorflow.org/programmers_guide/summaries_and_tensorboard) is a Tensorflow utility that provides ways of visualizing learning. Some of the functionalities include:\n",
        "1. Model's weights visualization\n",
        "2. Hyperparameters inspection\n",
        "3. Tensorflow Graph inspection\n",
        "\n",
        "[TensorFlow summit talk](https://www.youtube.com/watch?v=eBbEDRsCmv4)"
      ]
    },
    {
      "cell_type": "markdown",
      "metadata": {
        "colab_type": "text",
        "id": "3MrgyE1jRYy5"
      },
      "source": [
        "## Tensorflow APIs\n",
        "\n",
        "TensorFlow provides multiple APIs. \n",
        "\n",
        "- The lowest level API --**TensorFlow Core**-- provides you with complete programming control.\n",
        "- The higher level APIs are built on top of TensorFlow Core\n",
        "  - Easier to use.\n",
        "  - Less internal control\n",
        "  \n",
        "Let's run a complete example using the **Tensorflow Core** API"
      ]
    },
    {
      "cell_type": "markdown",
      "metadata": {
        "colab_type": "text",
        "id": "SjprE0CbuFwA"
      },
      "source": [
        "# Linear Regression\n",
        "\n",
        "Let's create one of the most basic ML models, The **Linear Regression**.\n",
        "\n",
        "As the name suggests, is a Regression model (predicts a real value) by finding the best line that fits the data.\n",
        "\n",
        "## Loading data"
      ]
    },
    {
      "cell_type": "code",
      "metadata": {
        "colab_type": "code",
        "id": "j0zbeI6NuHMy",
        "outputId": "73596097-da8a-42a3-9ae3-15259b1d4023",
        "colab": {
          "resources": {
            "http://localhost:8080/nbextensions/google.colab/files.js": {
              "data": "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",
              "headers": [
                [
                  "content-type",
                  "application/javascript"
                ]
              ],
              "ok": true,
              "status": 200,
              "status_text": ""
            }
          },
          "base_uri": "https://localhost:8080/",
          "height": 91
        }
      },
      "source": [
        "# updaload the RealEstate dataset\n",
        "from google.colab import files\n",
        "\n",
        "uploaded = files.upload()\n",
        "\n",
        "for fn in uploaded.keys():\n",
        "  print('User uploaded file \"{name}\" with length {length} bytes'.format(\n",
        "      name=fn, length=len(uploaded[fn])))"
      ],
      "execution_count": 0,
      "outputs": [
        {
          "output_type": "display_data",
          "data": {
            "text/html": [
              "\n",
              "     <input type=\"file\" id=\"files-a6024e77-8f6b-4045-95f6-2cf7d02b20cd\" name=\"files[]\" multiple disabled />\n",
              "     <output id=\"result-a6024e77-8f6b-4045-95f6-2cf7d02b20cd\">\n",
              "      Upload widget is only available when the cell has been executed in the\n",
              "      current browser session. Please rerun this cell to enable.\n",
              "      </output>\n",
              "      <script src=\"/nbextensions/google.colab/files.js\"></script> "
            ],
            "text/plain": [
              "<IPython.core.display.HTML object>"
            ]
          },
          "metadata": {
            "tags": []
          }
        },
        {
          "output_type": "stream",
          "text": [
            "Saving RealEstate.csv to RealEstate.csv\n",
            "User uploaded file \"RealEstate.csv\" with length 45702 bytes\n"
          ],
          "name": "stdout"
        }
      ]
    },
    {
      "cell_type": "code",
      "metadata": {
        "colab_type": "code",
        "id": "ZCDWZZUgpd-W",
        "colab": {}
      },
      "source": [
        "import pandas as pd\n",
        "import numpy as np\n",
        "import matplotlib.pyplot as plt"
      ],
      "execution_count": 0,
      "outputs": []
    },
    {
      "cell_type": "markdown",
      "metadata": {
        "colab_type": "text",
        "id": "HHbKvgReqLLc"
      },
      "source": [
        "We are going to solve the problem of predicting **house prices** based on historical data. "
      ]
    },
    {
      "cell_type": "code",
      "metadata": {
        "colab_type": "code",
        "id": "0gw72MCkpyIe",
        "outputId": "16e6a1f3-be77-4060-a108-9217055278f0",
        "colab": {
          "base_uri": "https://localhost:8080/",
          "height": 198
        }
      },
      "source": [
        "housing_data = pd.read_csv(\"RealEstate.csv\")\n",
        "housing_data.head()"
      ],
      "execution_count": 0,
      "outputs": [
        {
          "output_type": "execute_result",
          "data": {
            "text/html": [
              "<div>\n",
              "<style scoped>\n",
              "    .dataframe tbody tr th:only-of-type {\n",
              "        vertical-align: middle;\n",
              "    }\n",
              "\n",
              "    .dataframe tbody tr th {\n",
              "        vertical-align: top;\n",
              "    }\n",
              "\n",
              "    .dataframe thead th {\n",
              "        text-align: right;\n",
              "    }\n",
              "</style>\n",
              "<table border=\"1\" class=\"dataframe\">\n",
              "  <thead>\n",
              "    <tr style=\"text-align: right;\">\n",
              "      <th></th>\n",
              "      <th>MLS</th>\n",
              "      <th>Location</th>\n",
              "      <th>Price</th>\n",
              "      <th>Bedrooms</th>\n",
              "      <th>Bathrooms</th>\n",
              "      <th>Size</th>\n",
              "      <th>Price/SQ.Ft</th>\n",
              "      <th>Status</th>\n",
              "    </tr>\n",
              "  </thead>\n",
              "  <tbody>\n",
              "    <tr>\n",
              "      <th>0</th>\n",
              "      <td>132842</td>\n",
              "      <td>Arroyo Grande</td>\n",
              "      <td>795000.0</td>\n",
              "      <td>3</td>\n",
              "      <td>3</td>\n",
              "      <td>2371</td>\n",
              "      <td>335.30</td>\n",
              "      <td>Short Sale</td>\n",
              "    </tr>\n",
              "    <tr>\n",
              "      <th>1</th>\n",
              "      <td>134364</td>\n",
              "      <td>Paso Robles</td>\n",
              "      <td>399000.0</td>\n",
              "      <td>4</td>\n",
              "      <td>3</td>\n",
              "      <td>2818</td>\n",
              "      <td>141.59</td>\n",
              "      <td>Short Sale</td>\n",
              "    </tr>\n",
              "    <tr>\n",
              "      <th>2</th>\n",
              "      <td>135141</td>\n",
              "      <td>Paso Robles</td>\n",
              "      <td>545000.0</td>\n",
              "      <td>4</td>\n",
              "      <td>3</td>\n",
              "      <td>3032</td>\n",
              "      <td>179.75</td>\n",
              "      <td>Short Sale</td>\n",
              "    </tr>\n",
              "    <tr>\n",
              "      <th>3</th>\n",
              "      <td>135712</td>\n",
              "      <td>Morro Bay</td>\n",
              "      <td>909000.0</td>\n",
              "      <td>4</td>\n",
              "      <td>4</td>\n",
              "      <td>3540</td>\n",
              "      <td>256.78</td>\n",
              "      <td>Short Sale</td>\n",
              "    </tr>\n",
              "    <tr>\n",
              "      <th>4</th>\n",
              "      <td>136282</td>\n",
              "      <td>Santa Maria-Orcutt</td>\n",
              "      <td>109900.0</td>\n",
              "      <td>3</td>\n",
              "      <td>1</td>\n",
              "      <td>1249</td>\n",
              "      <td>87.99</td>\n",
              "      <td>Short Sale</td>\n",
              "    </tr>\n",
              "  </tbody>\n",
              "</table>\n",
              "</div>"
            ],
            "text/plain": [
              "      MLS            Location     Price  Bedrooms  Bathrooms  Size  \\\n",
              "0  132842       Arroyo Grande  795000.0         3          3  2371   \n",
              "1  134364         Paso Robles  399000.0         4          3  2818   \n",
              "2  135141         Paso Robles  545000.0         4          3  3032   \n",
              "3  135712           Morro Bay  909000.0         4          4  3540   \n",
              "4  136282  Santa Maria-Orcutt  109900.0         3          1  1249   \n",
              "\n",
              "   Price/SQ.Ft      Status  \n",
              "0       335.30  Short Sale  \n",
              "1       141.59  Short Sale  \n",
              "2       179.75  Short Sale  \n",
              "3       256.78  Short Sale  \n",
              "4        87.99  Short Sale  "
            ]
          },
          "metadata": {
            "tags": []
          },
          "execution_count": 9
        }
      ]
    },
    {
      "cell_type": "markdown",
      "metadata": {
        "colab_type": "text",
        "id": "nlYIRm-iqHhd"
      },
      "source": [
        "To build a Machine Learning model, we often need at least 3 things. A **problem T**, a performance **measure P**, and an **experience E**, from where our model will learn patterns from.\n",
        "\n",
        "- Take a look at the statistics bellow."
      ]
    },
    {
      "cell_type": "code",
      "metadata": {
        "colab_type": "code",
        "id": "s-_OOc8wqTm-",
        "outputId": "410a1702-c1e1-49e9-83ca-863fe7f4e4ab",
        "colab": {
          "base_uri": "https://localhost:8080/",
          "height": 288
        }
      },
      "source": [
        "housing_data.describe()"
      ],
      "execution_count": 0,
      "outputs": [
        {
          "output_type": "execute_result",
          "data": {
            "text/html": [
              "<div>\n",
              "<style scoped>\n",
              "    .dataframe tbody tr th:only-of-type {\n",
              "        vertical-align: middle;\n",
              "    }\n",
              "\n",
              "    .dataframe tbody tr th {\n",
              "        vertical-align: top;\n",
              "    }\n",
              "\n",
              "    .dataframe thead th {\n",
              "        text-align: right;\n",
              "    }\n",
              "</style>\n",
              "<table border=\"1\" class=\"dataframe\">\n",
              "  <thead>\n",
              "    <tr style=\"text-align: right;\">\n",
              "      <th></th>\n",
              "      <th>MLS</th>\n",
              "      <th>Price</th>\n",
              "      <th>Bedrooms</th>\n",
              "      <th>Bathrooms</th>\n",
              "      <th>Size</th>\n",
              "      <th>Price/SQ.Ft</th>\n",
              "    </tr>\n",
              "  </thead>\n",
              "  <tbody>\n",
              "    <tr>\n",
              "      <th>count</th>\n",
              "      <td>781.000000</td>\n",
              "      <td>7.810000e+02</td>\n",
              "      <td>781.000000</td>\n",
              "      <td>781.000000</td>\n",
              "      <td>781.000000</td>\n",
              "      <td>781.000000</td>\n",
              "    </tr>\n",
              "    <tr>\n",
              "      <th>mean</th>\n",
              "      <td>151224.550576</td>\n",
              "      <td>3.833291e+05</td>\n",
              "      <td>3.142125</td>\n",
              "      <td>2.355954</td>\n",
              "      <td>1755.058899</td>\n",
              "      <td>213.131293</td>\n",
              "    </tr>\n",
              "    <tr>\n",
              "      <th>std</th>\n",
              "      <td>3936.122042</td>\n",
              "      <td>3.490381e+05</td>\n",
              "      <td>0.855768</td>\n",
              "      <td>0.846596</td>\n",
              "      <td>819.577603</td>\n",
              "      <td>115.082146</td>\n",
              "    </tr>\n",
              "    <tr>\n",
              "      <th>min</th>\n",
              "      <td>132842.000000</td>\n",
              "      <td>2.650000e+04</td>\n",
              "      <td>0.000000</td>\n",
              "      <td>1.000000</td>\n",
              "      <td>120.000000</td>\n",
              "      <td>19.330000</td>\n",
              "    </tr>\n",
              "    <tr>\n",
              "      <th>25%</th>\n",
              "      <td>149922.000000</td>\n",
              "      <td>1.990000e+05</td>\n",
              "      <td>3.000000</td>\n",
              "      <td>2.000000</td>\n",
              "      <td>1218.000000</td>\n",
              "      <td>142.140000</td>\n",
              "    </tr>\n",
              "    <tr>\n",
              "      <th>50%</th>\n",
              "      <td>152581.000000</td>\n",
              "      <td>2.950000e+05</td>\n",
              "      <td>3.000000</td>\n",
              "      <td>2.000000</td>\n",
              "      <td>1550.000000</td>\n",
              "      <td>188.360000</td>\n",
              "    </tr>\n",
              "    <tr>\n",
              "      <th>75%</th>\n",
              "      <td>154167.000000</td>\n",
              "      <td>4.290000e+05</td>\n",
              "      <td>4.000000</td>\n",
              "      <td>3.000000</td>\n",
              "      <td>2032.000000</td>\n",
              "      <td>245.420000</td>\n",
              "    </tr>\n",
              "    <tr>\n",
              "      <th>max</th>\n",
              "      <td>154580.000000</td>\n",
              "      <td>5.499000e+06</td>\n",
              "      <td>10.000000</td>\n",
              "      <td>11.000000</td>\n",
              "      <td>6800.000000</td>\n",
              "      <td>1144.640000</td>\n",
              "    </tr>\n",
              "  </tbody>\n",
              "</table>\n",
              "</div>"
            ],
            "text/plain": [
              "                 MLS         Price    Bedrooms   Bathrooms         Size  \\\n",
              "count     781.000000  7.810000e+02  781.000000  781.000000   781.000000   \n",
              "mean   151224.550576  3.833291e+05    3.142125    2.355954  1755.058899   \n",
              "std      3936.122042  3.490381e+05    0.855768    0.846596   819.577603   \n",
              "min    132842.000000  2.650000e+04    0.000000    1.000000   120.000000   \n",
              "25%    149922.000000  1.990000e+05    3.000000    2.000000  1218.000000   \n",
              "50%    152581.000000  2.950000e+05    3.000000    2.000000  1550.000000   \n",
              "75%    154167.000000  4.290000e+05    4.000000    3.000000  2032.000000   \n",
              "max    154580.000000  5.499000e+06   10.000000   11.000000  6800.000000   \n",
              "\n",
              "       Price/SQ.Ft  \n",
              "count   781.000000  \n",
              "mean    213.131293  \n",
              "std     115.082146  \n",
              "min      19.330000  \n",
              "25%     142.140000  \n",
              "50%     188.360000  \n",
              "75%     245.420000  \n",
              "max    1144.640000  "
            ]
          },
          "metadata": {
            "tags": []
          },
          "execution_count": 24
        }
      ]
    },
    {
      "cell_type": "markdown",
      "metadata": {
        "colab_type": "text",
        "id": "4EzMLA89Gs7n"
      },
      "source": [
        "## Visualizing data"
      ]
    },
    {
      "cell_type": "code",
      "metadata": {
        "colab_type": "code",
        "id": "gYVbjdg-qi7m",
        "outputId": "835e3c0f-cd72-4f11-980e-cb779c9a2541",
        "colab": {
          "base_uri": "https://localhost:8080/",
          "height": 420
        }
      },
      "source": [
        "# only get the Size and the Price features\n",
        "Xs = housing_data[['Size']]\n",
        "Ys = housing_data[['Price']]\n",
        "print(\"Size shape:\", Xs.shape)\n",
        "print(\"Price shape:\", Ys.shape)\n",
        "dataset_size = Xs.shape[0]\n",
        "print(\"Size:\", dataset_size)\n",
        "\n",
        "# plot the price and the size\n",
        "plt.plot(Xs, Ys, 'ro')"
      ],
      "execution_count": 0,
      "outputs": [
        {
          "output_type": "stream",
          "text": [
            "Size shape: (781, 1)\n",
            "Price shape: (781, 1)\n",
            "Size: 781\n"
          ],
          "name": "stdout"
        },
        {
          "output_type": "execute_result",
          "data": {
            "text/plain": [
              "[<matplotlib.lines.Line2D at 0x7f5209d08390>]"
            ]
          },
          "metadata": {
            "tags": []
          },
          "execution_count": 11
        },
        {
          "output_type": "display_data",
          "data": {
            "image/png": "[encoded data removed]",
            "text/plain": [
              "<matplotlib.figure.Figure at 0x7f521755b080>"
            ]
          },
          "metadata": {
            "tags": []
          }
        }
      ]
    },
    {
      "cell_type": "markdown",
      "metadata": {
        "colab_type": "text",
        "id": "9VPFTuCpGx83"
      },
      "source": [
        "## Normalization\n",
        "\n",
        "Normalization helps the Learning algorithm in many aspects. \n",
        "- Prevents some attributes to outvalue some other\n",
        "- Decreases numerical error\n",
        "- Accelerates learning\n",
        "\n",
        "## Mean Standardization\n",
        "\n",
        "- Center the data by removing the mean, and scale it by dividing to the standard deviation.\n",
        "\n",
        "![alt text](https://wikimedia.org/api/rest_v1/media/math/render/svg/b0aa2e7d203db1526c577192f2d9102b718eafd5)\n",
        "\n",
        "## MinMax Scaling\n",
        "- Scale the data values to the [0-1] interval.\n",
        "\n",
        "![alt text](https://wikimedia.org/api/rest_v1/media/math/render/svg/358923abc154221bb5022fc329061f6fc4dcc69f)\n",
        "\n",
        "Tips: Use **np.max()**, **np.min()**, **np.mean()** and **np.std()**"
      ]
    },
    {
      "cell_type": "code",
      "metadata": {
        "colab_type": "code",
        "id": "uXYA9zWysxT9",
        "colab": {}
      },
      "source": [
        "Xs = Xs.values\n",
        "Ys = Ys.values\n",
        "\n",
        "# Normalize the input features\n",
        "max_size = np.max(Xs)\n",
        "min_size = np.min(Xs)\n",
        "max_price = np.max(Ys)\n",
        "min_price = np.min(Ys)\n",
        "\n",
        "Xs = (Xs - min_size) / (max_size - min_size)\n",
        "Ys = (Ys - min_price) / (max_price - min_price)\n",
        "\n",
        "# shuffle the dataset before separating test/train sets\n",
        "p = np.random.permutation(len(Xs))\n",
        "Xs = Xs[p]\n",
        "Ys = Ys[p]"
      ],
      "execution_count": 0,
      "outputs": []
    },
    {
      "cell_type": "markdown",
      "metadata": {
        "colab_type": "text",
        "id": "n-A-UuXhGv19"
      },
      "source": [
        "## Cross validation\n",
        "\n",
        "**Cross-validation allows us to be more confident about how good our model is**.\n",
        "\n",
        "We want to measure how our models will generalize when faced with unseen data.\n",
        "\n",
        "There are many kinds of cross-validation techniques.\n",
        "\n",
        "![alt text](https://github.com/sthalles/tensorflow-tutorials/blob/master/images/cross_val_1.png?raw=true)\n",
        "\n",
        "Can you see any problems with that?\n",
        "\n",
        "![alt text](https://github.com/sthalles/tensorflow-tutorials/blob/master/images/cross_val_2.png?raw=true)\n",
        "\n",
        "What happens if the results of on the validation data are quite different from the testing data?\n",
        "\n",
        "Let's stick with the basics. \n",
        "- Separates a subset for training and testing.\n",
        "\n",
        "\n"
      ]
    },
    {
      "cell_type": "code",
      "metadata": {
        "colab_type": "code",
        "id": "TFtV18cIbOYf",
        "outputId": "5a7c928d-cb47-431b-b7b1-613d5d8d0347",
        "colab": {
          "base_uri": "https://localhost:8080/",
          "height": 90
        }
      },
      "source": [
        "# separate train/test sets \n",
        "# Use 80% for training and 20% for testing\n",
        "train_size = int(0.8 * dataset_size)\n",
        "Xs_train = Xs[0:train_size]\n",
        "Xs_test = Xs[train_size:]\n",
        "Ys_train = Ys[0:train_size]\n",
        "Ys_test = Ys[train_size:]\n",
        "print(\"Training set:\", Xs_train.shape )\n",
        "print(\"Training set labels:\", Ys_train.shape )\n",
        "print(\"Testing set:\", Xs_test.shape )\n",
        "print(\"Testing set labels:\", Ys_test.shape )\n",
        "\n"
      ],
      "execution_count": 0,
      "outputs": [
        {
          "output_type": "stream",
          "text": [
            "Training set: (624, 1)\n",
            "Training set labels: (624, 1)\n",
            "Testing set: (157, 1)\n",
            "Testing set labels: (157, 1)\n"
          ],
          "name": "stdout"
        }
      ]
    },
    {
      "cell_type": "code",
      "metadata": {
        "colab_type": "code",
        "id": "eJAolOnar_kX",
        "outputId": "66ae6655-7062-4cfc-944f-02424261f136",
        "colab": {
          "base_uri": "https://localhost:8080/",
          "height": 418
        }
      },
      "source": [
        "\n",
        "min_x = np.min(Xs_test)\n",
        "max_x = np.max(Xs_test)\n",
        "\n",
        "# plot the price and the size\n",
        "fig = plt.figure()\n",
        "fig.suptitle('Normalized housing Size/Price dataset', fontsize=14, fontweight='bold')\n",
        "ax = fig.add_subplot(111)\n",
        "fig.subplots_adjust(top=0.85)\n",
        "ax.plot(Xs_train, Ys_train, 'ro')\n",
        "ax.set_xlabel('Size')\n",
        "ax.set_ylabel('Price')"
      ],
      "execution_count": 0,
      "outputs": [
        {
          "output_type": "execute_result",
          "data": {
            "text/plain": [
              "Text(0,0.5,'Price')"
            ]
          },
          "metadata": {
            "tags": []
          },
          "execution_count": 13
        },
        {
          "output_type": "display_data",
          "data": {
            "image/png": "[encoded data removed]",
            "text/plain": [
              "<matplotlib.figure.Figure at 0x7f5209da5b00>"
            ]
          },
          "metadata": {
            "tags": []
          }
        }
      ]
    },
    {
      "cell_type": "markdown",
      "metadata": {
        "colab_type": "text",
        "id": "BuarbqyF__t0"
      },
      "source": [
        "## Placeholders and Variables\n",
        "\n",
        "## Exercise:\n",
        "\n",
        "1. Use [tf.placeholder()](https://www.tensorflow.org/api_docs/python/tf/placeholder) to build the two placeholders necessary for feeding the housing data into the Tensorflow Model.\n",
        "2. Use [tf.Variable()](https://www.tensorflow.org/api_docs/python/tf/Variable) to create the two necessary variables for a Linear Model - *Hint: slope and y-intercept*\n",
        "\n",
        "**Template**: \n",
        "- *inputs = tf.placeholder(shape=[...], dtype=tf.float32, name=\"tensor_name\")*\n",
        "- *slope = tf.Variable({initial-value}, name={optional-name})*\n",
        "\n"
      ]
    },
    {
      "cell_type": "code",
      "metadata": {
        "colab_type": "code",
        "id": "ExALaYu-uTZF",
        "outputId": "ace34b2f-0297-4ffb-d08f-947bc935ec47",
        "colab": {
          "base_uri": "https://localhost:8080/",
          "height": 54
        }
      },
      "source": [
        "inputs = tf.placeholder(shape=[None,1], dtype=tf.float32, name=\"inputs\")\n",
        "labels = tf.placeholder(dtype=tf.float32, name=\"labels\")\n",
        "print(inputs)\n",
        "print(labels)"
      ],
      "execution_count": 0,
      "outputs": [
        {
          "output_type": "stream",
          "text": [
            "Tensor(\"inputs_1:0\", shape=(?, 1), dtype=float32)\n",
            "Tensor(\"labels_1:0\", dtype=float32)\n"
          ],
          "name": "stdout"
        }
      ]
    },
    {
      "cell_type": "code",
      "metadata": {
        "colab_type": "code",
        "id": "1Lo-CppoqyN5",
        "outputId": "99426c23-2948-4322-91f8-f8f6f55d0bf4",
        "colab": {
          "base_uri": "https://localhost:8080/",
          "height": 54
        }
      },
      "source": [
        "# create the training variables for the y_intercept and slope of the linear function\n",
        "\n",
        "# Pay special attention to the Tensor shapes\n",
        "y_intercept = tf.Variable(tf.random_normal(shape=[1], mean=0, stddev=0.02), name=\"y-intercept\")\n",
        "slope = tf.Variable(tf.random_normal(shape=[1,1], mean=0, stddev=0.02), name=\"slope\")\n",
        "print(y_intercept)\n",
        "print(slope)"
      ],
      "execution_count": 0,
      "outputs": [
        {
          "output_type": "stream",
          "text": [
            "<tf.Variable 'y-intercept_1:0' shape=(1,) dtype=float32_ref>\n",
            "<tf.Variable 'slope_1:0' shape=(1, 1) dtype=float32_ref>\n"
          ],
          "name": "stdout"
        }
      ]
    },
    {
      "cell_type": "markdown",
      "metadata": {
        "colab_type": "text",
        "id": "HsYimvQdG3va"
      },
      "source": [
        "## Building the Model"
      ]
    },
    {
      "cell_type": "markdown",
      "metadata": {
        "colab_type": "text",
        "id": "EOTHoFdf_T4x"
      },
      "source": [
        "## Exercise\n",
        "\n",
        "1- Build a linear model following the equation bellow.\n",
        "\n",
        "**Hint: Think about how a computational graph for the linear equation would look like.**\n",
        "\n",
        "![alt text](https://cdn-images-1.medium.com/max/800/1*SuNmDkv0qNJbKGZoEoGBmw.png)\n",
        "\n",
        "For Matrix multiplication: [tf.matmul()](https://www.tensorflow.org/api_docs/python/tf/matmul)"
      ]
    },
    {
      "cell_type": "code",
      "metadata": {
        "colab_type": "code",
        "id": "UtzDgJc6u4DM",
        "colab": {}
      },
      "source": [
        "def model(X):\n",
        "  # create the graph model here, and return it\n",
        "  return tf.matmul(X,slope) + y_intercept\n",
        "predictions = model(inputs)"
      ],
      "execution_count": 0,
      "outputs": []
    },
    {
      "cell_type": "markdown",
      "metadata": {
        "colab_type": "text",
        "id": "1A9Rh624_MiL"
      },
      "source": [
        "## Hyper-parameters\n",
        "\n",
        "## Exercise:\n",
        "1. Tune the hyper-parameters"
      ]
    },
    {
      "cell_type": "code",
      "metadata": {
        "colab_type": "code",
        "id": "ZghXH3pb1BXU",
        "colab": {}
      },
      "source": [
        "\n",
        "lr = 0.3 # defines the size of the step we want to perform in the direction of the gradient define \n",
        "batch_size = 96 # number of examples that we will use to calculate the gradients at each time step \n",
        "total_epochs = 25 # number of complete passes through the dataset "
      ],
      "execution_count": 0,
      "outputs": []
    },
    {
      "cell_type": "markdown",
      "metadata": {
        "colab_type": "text",
        "id": "tUl1ra1F--se"
      },
      "source": [
        "## Error Function\n",
        "\n",
        "![alt text](https://cdn-images-1.medium.com/max/800/1*GQ6vjZ9j0K5V7BReHywWAA.png)"
      ]
    },
    {
      "cell_type": "markdown",
      "metadata": {
        "colab_type": "text",
        "id": "odKT25Ee_7eO"
      },
      "source": [
        "### Loss Function and Convex Optimization\n",
        "\n",
        "- The **loss function**, also called the objective, is a method for evaluating how good our model is. \n",
        "- Remember, the goal is to make the **generalization loss** as low as possible.\n",
        "- The optimization function is responsible for minimizing the loss. It does it using **Gradient Descent**. \n",
        "- Basically, at each time step, it computes the Gradient of the loss function (MSE) with respect to the Weights (slope and bias) and then it takes a step in the opposite direction of this gradient.\n",
        "\n",
        "**DO NOT** worry with gradients - TensorFlow handles it for you :)\n",
        "\n",
        "In Practice:\n",
        "\n",
        "![alt text](http://res.cloudinary.com/dyy3xzfqh/image/upload/v1511673179/QQ%E6%88%AA%E5%9B%BE20171126131248_muwkba.png)\n",
        "\n",
        "## Exercise:\n",
        "\n",
        "1. Use [tf.losses.mean_squared_error()](https://www.tensorflow.org/api_docs/python/tf/losses/mean_squared_error) to compute the loss between the prediction values and the true (target) values.\n",
        "2. Use [tf.train.GradientDescentOptimizer()](https://www.tensorflow.org/api_docs/python/tf/train/GradientDescentOptimizer) to compute the Gradients and minimize the loss function."
      ]
    },
    {
      "cell_type": "code",
      "metadata": {
        "colab_type": "code",
        "id": "ciIWm6zgq9iv",
        "colab": {}
      },
      "source": [
        "# create the loss function here. It need to receive the labels and the predictions from the model\n",
        "loss = tf.losses.mean_squared_error(\n",
        "    labels=labels,\n",
        "    predictions=predictions)\n",
        "\n",
        "# Set the Gradient Descent optimizer and use the minimize() function to minimize the loss\n",
        "optimizer = tf.train.GradientDescentOptimizer(learning_rate=lr).minimize(loss)"
      ],
      "execution_count": 0,
      "outputs": []
    },
    {
      "cell_type": "code",
      "metadata": {
        "colab_type": "code",
        "id": "6hQL0bchw-Wn",
        "colab": {}
      },
      "source": [
        "## DO NOT CHANGE\n",
        "def next_batch(Xs, Ys, batch_size=64):\n",
        "    p = np.random.permutation(len(Xs))\n",
        "    Xs = Xs[p]\n",
        "    Ys = Ys[p]\n",
        "    for i in range(0,Xs.shape[0],batch_size):\n",
        "        x_batch = Xs[i:i+batch_size]\n",
        "        if x_batch.shape[0] < batch_size:\n",
        "            continue\n",
        "        yield np.reshape(x_batch, (batch_size,-1)), Ys[i:i+batch_size]"
      ],
      "execution_count": 0,
      "outputs": []
    },
    {
      "cell_type": "code",
      "metadata": {
        "colab_type": "code",
        "id": "i3TXqbTVzito",
        "colab": {}
      },
      "source": [
        "## DO NOT CHANGE\n",
        "def eval_and_plot(W0, W1, min_x, max_x):\n",
        "    min_y = W0 + np.dot(W1, min_x)\n",
        "    max_y = W0 + np.dot(W1, max_x)\n",
        "\n",
        "    plt.plot(Xs_test, Ys_test, 'ro')\n",
        "    plt.plot([min_x, max_x], [min_y.squeeze(), max_y.squeeze()], 'k-', lw=2)\n",
        "    #plt.savefig(\"./media/fit%(number)04d.png\" % {\"number\": id_})\n",
        "    #plt.clf()\n",
        "    plt.show()"
      ],
      "execution_count": 0,
      "outputs": []
    },
    {
      "cell_type": "markdown",
      "metadata": {
        "colab_type": "text",
        "id": "f0pNHIrdIKGz"
      },
      "source": [
        "## Exercise:\n",
        "\n",
        "\n",
        "1.   Finish the training loop bellow. Make sure you run the *optimizer* Tensor.\n",
        "2.   Fetch and display the *training* and *generalization* losses.\n",
        "\n",
        "Tips: Use the Session object to run the TF Graph. \n",
        "\n",
        "**Template:** \n",
        "\n",
        "*sess.run(\"tensor1, tensor2...\",  feed_dict={inputs: \"python var\", labels: \"python var\"})*\n"
      ]
    },
    {
      "cell_type": "code",
      "metadata": {
        "colab_type": "code",
        "id": "FE2uGdotvcye",
        "outputId": "d293be01-15e4-494b-a3cf-9bd8ad0c7ed6",
        "colab": {
          "base_uri": "https://localhost:8080/",
          "height": 802
        }
      },
      "source": [
        "training_loss = []\n",
        "generalization_loss =[]\n",
        "\n",
        "with tf.Session() as sess:\n",
        "  sess.run(tf.global_variables_initializer())\n",
        "  \n",
        "  for epoch in range(total_epochs):\n",
        "  \n",
        "    for X_batch, y_batch in next_batch(Xs_train, Ys_train, batch_size):\n",
        "      _, train_loss = sess.run([optimizer, loss], \n",
        "                            feed_dict={inputs:X_batch, labels:y_batch})\n",
        "    training_loss.append(train_loss)\n",
        "    val_pred, val_loss, m, y = sess.run([predictions, loss, slope, y_intercept], \n",
        "                                  feed_dict={inputs: Xs_test, labels:Ys_test})\n",
        "    \n",
        "    generalization_loss.append(val_loss)\n",
        "    print(\"Epoch:\", epoch, \"Generalization error:\", val_loss)\n",
        "    \n",
        "eval_and_plot(y,m,min_x,max_x)"
      ],
      "execution_count": 0,
      "outputs": [
        {
          "output_type": "stream",
          "text": [
            "Epoch: 0 Generalization error: 0.003373503\n",
            "Epoch: 1 Generalization error: 0.0033908547\n",
            "Epoch: 2 Generalization error: 0.0031347417\n",
            "Epoch: 3 Generalization error: 0.0029506658\n",
            "Epoch: 4 Generalization error: 0.0028681594\n",
            "Epoch: 5 Generalization error: 0.0027268634\n",
            "Epoch: 6 Generalization error: 0.002658567\n",
            "Epoch: 7 Generalization error: 0.0025818124\n",
            "Epoch: 8 Generalization error: 0.0025076296\n",
            "Epoch: 9 Generalization error: 0.002445568\n",
            "Epoch: 10 Generalization error: 0.0024022933\n",
            "Epoch: 11 Generalization error: 0.0023721373\n",
            "Epoch: 12 Generalization error: 0.0023220603\n",
            "Epoch: 13 Generalization error: 0.0022678894\n",
            "Epoch: 14 Generalization error: 0.0022409824\n",
            "Epoch: 15 Generalization error: 0.0022144038\n",
            "Epoch: 16 Generalization error: 0.002190112\n",
            "Epoch: 17 Generalization error: 0.0021960097\n",
            "Epoch: 18 Generalization error: 0.0021574877\n",
            "Epoch: 19 Generalization error: 0.0021513787\n",
            "Epoch: 20 Generalization error: 0.002142476\n",
            "Epoch: 21 Generalization error: 0.0021658572\n",
            "Epoch: 22 Generalization error: 0.0021265019\n",
            "Epoch: 23 Generalization error: 0.0021143414\n",
            "Epoch: 24 Generalization error: 0.0021170583\n"
          ],
          "name": "stdout"
        },
        {
          "output_type": "display_data",
          "data": {
            "image/png": "[encoded data removed]",
            "text/plain": [
              "<matplotlib.figure.Figure at 0x7f5207218c50>"
            ]
          },
          "metadata": {
            "tags": []
          }
        }
      ]
    },
    {
      "cell_type": "code",
      "metadata": {
        "colab_type": "code",
        "id": "BxRF-CYBAt5g",
        "outputId": "8def4a90-7166-4d18-ba82-2e2465776f04",
        "scrolled": true,
        "colab": {
          "base_uri": "https://localhost:8080/",
          "height": 361
        }
      },
      "source": [
        "# plot the price and the size\n",
        "plt.plot(training_loss, label=\"validation\")\n",
        "plt.plot(generalization_loss, label=\"training\")\n",
        "plt.xlabel('Epoch')\n",
        "plt.ylabel('Error')\n",
        "plt.show()"
      ],
      "execution_count": 0,
      "outputs": [
        {
          "output_type": "display_data",
          "data": {
            "image/png": "[encoded data removed]",
            "text/plain": [
              "<matplotlib.figure.Figure at 0x7f5209cd7a90>"
            ]
          },
          "metadata": {
            "tags": []
          }
        }
      ]
    },
    {
      "cell_type": "code",
      "metadata": {
        "colab_type": "code",
        "id": "eglK4edYgdRg",
        "colab": {}
      },
      "source": [
        ""
      ],
      "execution_count": 0,
      "outputs": []
    }
  ]
}