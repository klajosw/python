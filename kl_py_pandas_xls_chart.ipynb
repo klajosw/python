{
  "cells": [
    {
      "cell_type": "markdown",
      "metadata": {
        "id": "view-in-github",
        "colab_type": "text"
      },
      "source": [
        "<a href=\"https://colab.research.google.com/github/klajosw/python/blob/master/kl_py_pandas_xls_chart.ipynb\" target=\"_parent\"><img src=\"https://colab.research.google.com/assets/colab-badge.svg\" alt=\"Open In Colab\"/></a>"
      ]
    },
    {
      "cell_type": "markdown",
      "metadata": {
        "id": "R5ZZP4ewA8mP"
      },
      "source": [
        "<p align=\"left\"> \n",
        "    <img src=\"https://raw.githubusercontent.com/klajosw/python/master/kl_mie_python_logo_250.jpg\" \n",
        "         align=\"left\" width=\"251\" height=\"251\">\n",
        "    \n",
        "</p>\n",
        "\n",
        "\n",
        "<p> </p>\n",
        "\n",
        "#  Riportok Excelbe mentése és diagram készítés \n",
        "\n",
        "##  Pandas  csomag használatával\n",
        "\n",
        "https://klajosw.blogspot.com/\n",
        "\n",
        "https://github.com/klajosw/\n",
        "\n",
        "---"
      ]
    },
    {
      "cell_type": "code",
      "execution_count": null,
      "metadata": {
        "id": "Ekvj4iSxA8mV"
      },
      "outputs": [],
      "source": [
        "import pandas as pd\n",
        "from pandas import ExcelWriter\n",
        "from pandas import ExcelFile\n",
        "import datetime\n",
        "import matplotlib.pyplot as plt \n",
        "\n",
        "\n",
        "dt = datetime.datetime.now() - datetime.timedelta(days=1)  ## tegnapi nap\n",
        "datum  = '{:%Y-%m-%d}'.format(dt)\n",
        "\n",
        "# minta adat generálás\n",
        "dojo_1 = {'Pyton': 20, 'Java': 19, 'C#': 21, 'JS': 13, 'HTML': 18}\n",
        "dojo_2 = {'Pyton': 25, 'Java': 22, 'C#': 20, 'JS': 17, 'HTML': 10}\n",
        "dojo_3 = {'Pyton': 27, 'Java': 17, 'C#': 12, 'JS': 14, 'HTML': 23}\n",
        "dojo_4 = {'Pyton': 24, 'Java': 20, 'C#': 15, 'JS': 15, 'HTML': 11}\n",
        "\n",
        "# adat és index összeállítás\n",
        "data  = [dojo_1, dojo_2, dojo_3, dojo_4]\n",
        "index = ['Dojo 1', 'Dojo 2', 'Dojo 3', 'Dojo 4']\n",
        "\n",
        "# Pandas dataframe létrehozása minta adatokból\n",
        "df = pd.DataFrame(data, index=index)\n",
        "\n",
        "#Excel objektum létrehozása\n",
        "writer = pd.ExcelWriter(r'kl_dojo_'+datum+'_kesz.xlsx')\n",
        "df.to_excel(writer, sheet_name='Munka1', engine='xlsxwriter')\n",
        "\n",
        "#munka fizet és munkalap létrehozása\n",
        "workbook = writer.book\n",
        "worksheet = writer.sheets['Munka1']\n",
        "\n",
        "#diagram készítése\n",
        "chart = workbook.add_chart({'type': 'column'})\n",
        "\n",
        "# adat betöltés ciklus\n",
        "for col_num in range(1, len(dojo_1) + 1):\n",
        "    chart.add_series({\n",
        "        'name':       ['Munka1', 0, col_num],\n",
        "        'categories': ['Munka1', 1, 0, 4, 0],\n",
        "        'values':     ['Munka1', 1, col_num, 4, col_num],\n",
        "        'overlap':-10,\n",
        "    })\n",
        "    \n",
        "    \n",
        "# konfigurálása adiagrammnak\n",
        "chart.set_x_axis({'name': 'Total Dojo'})\n",
        "chart.set_y_axis({'name': 'Dojo', 'major_gridlines': {'visible': False}})\n",
        "\n",
        "# diagram munkalap cellába helyezése\n",
        "worksheet.insert_chart('H2', chart)\n",
        "\n",
        "\n",
        "# Az excel állomány mentése, lezárás\n",
        "writer.save()\n",
        "# writer.close()\n",
        "\n",
        "#plt.plot(df)\n",
        "df.plot(kind='bar', color=['red','blue','green','orange','yellow'])\n",
        "df.plot(kind='line', color=['red','blue','green','orange','yellow'])\n",
        "df.plot(kind='bar', color=['red','blue','green','orange','yellow'])\n",
        "df.plot(kind='barh',color=['red','blue','green','orange','yellow'])\n",
        "df.plot(kind='hist', color=['red','blue','green','orange','yellow'])\n",
        "df.plot(kind='area', color=['red','blue','green','orange','yellow'])"
      ]
    }
  ],
  "metadata": {
    "accelerator": "GPU",
    "colab": {
      "collapsed_sections": [],
      "name": "kl_py_pandas_xls_chart.ipynb",
      "private_outputs": true,
      "provenance": [],
      "toc_visible": true,
      "include_colab_link": true
    },
    "kernelspec": {
      "display_name": "Python 3",
      "language": "python",
      "name": "python3"
    },
    "language_info": {
      "codemirror_mode": {
        "name": "ipython",
        "version": 3
      },
      "file_extension": ".py",
      "mimetype": "text/x-python",
      "name": "python",
      "nbconvert_exporter": "python",
      "pygments_lexer": "ipython3",
      "version": "3.8.8"
    }
  },
  "nbformat": 4,
  "nbformat_minor": 0
}