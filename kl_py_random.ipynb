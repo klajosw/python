{
  "nbformat": 4,
  "nbformat_minor": 0,
  "metadata": {
    "kernelspec": {
      "display_name": "Python 3",
      "language": "python",
      "name": "python3"
    },
    "language_info": {
      "codemirror_mode": {
        "name": "ipython",
        "version": 3
      },
      "file_extension": ".py",
      "mimetype": "text/x-python",
      "name": "python",
      "nbconvert_exporter": "python",
      "pygments_lexer": "ipython3",
      "version": "3.7.4"
    },
    "colab": {
      "name": "kl_py_random.ipynb",
      "provenance": [],
      "collapsed_sections": [],
      "include_colab_link": true
    }
  },
  "cells": [
    {
      "cell_type": "markdown",
      "metadata": {
        "id": "view-in-github",
        "colab_type": "text"
      },
      "source": [
        "<a href=\"https://colab.research.google.com/github/klajosw/python/blob/master/kl_py_random.ipynb\" target=\"_parent\"><img src=\"https://colab.research.google.com/assets/colab-badge.svg\" alt=\"Open In Colab\"/></a>"
      ]
    },
    {
      "cell_type": "markdown",
      "metadata": {
        "id": "8MRJ9JKUq0KR",
        "colab_type": "text"
      },
      "source": [
        "<p align=\"left\"> \n",
        "    <img src=\"https://raw.githubusercontent.com/klajosw/python/master/kl_mie_python_logo_250.jpg\" \n",
        "         align=\"left\" width=\"251\" height=\"251\">\n",
        "    \n",
        "</p>\n",
        "\n",
        "\n",
        "<p> </p>\n",
        "\n",
        "\n",
        "\n",
        "# Python alapok (random)\n",
        "\n",
        "<https://klajosw.blogspot.com/>\n",
        "\n",
        "\n",
        "---"
      ]
    },
    {
      "cell_type": "markdown",
      "metadata": {
        "id": "47BTY2pXq0KS",
        "colab_type": "text"
      },
      "source": [
        "# Véletlenek használata pythonban"
      ]
    },
    {
      "cell_type": "code",
      "metadata": {
        "id": "XJ_4iYV1q0KS",
        "colab_type": "code",
        "colab": {},
        "outputId": "77370b87-5f45-4e99-8a93-5481bdf07508"
      },
      "source": [
        "import random as rnd\n",
        "rr= range(1,91,1)\n",
        "print('choice 1 : ', rnd.choice(rr))\n",
        "print('choice 2 : ', rnd.choice(rr))\n",
        "print('choice 3 : ', rnd.choice(rr))\n",
        "print('choice 4 : ', rnd.choice(rr))\n",
        "print('choice 5 : ', rnd.choice(rr))\n",
        "print('------- elválasztó 1 --------')\n",
        "print('random : ',rnd.random())"
      ],
      "execution_count": 0,
      "outputs": [
        {
          "output_type": "stream",
          "text": [
            "choice 1 :  6\n",
            "choice 2 :  60\n",
            "choice 3 :  25\n",
            "choice 4 :  11\n",
            "choice 5 :  8\n",
            "------- elválasztó 1 --------\n",
            "random :  0.21468028707094566\n"
          ],
          "name": "stdout"
        }
      ]
    },
    {
      "cell_type": "code",
      "metadata": {
        "id": "GKJbcRmgq0KV",
        "colab_type": "code",
        "colab": {},
        "outputId": "86381da0-8fd1-4ed8-867a-423ab0b6b2e2"
      },
      "source": [
        "def fv (a, b):\n",
        "    return (b//a)*a+b%a\n",
        "a=2\n",
        "b=5\n",
        "for a in range(1,4):\n",
        "    for b in range(1,4):\n",
        "        if not fv(a, b) == b :\n",
        "           print(' HIBA : fv('+str(a)+', '+str(b)+') : ', fv(a ,b))  \n",
        "        else :\n",
        "           print('OK  :  fv('+str(a)+', '+str(b)+') : ', fv(a ,b))  \n",
        "        "
      ],
      "execution_count": 0,
      "outputs": [
        {
          "output_type": "stream",
          "text": [
            "OK  :  fv(1, 1) :  1\n",
            "OK  :  fv(1, 2) :  2\n",
            "OK  :  fv(1, 3) :  3\n",
            "OK  :  fv(2, 1) :  1\n",
            "OK  :  fv(2, 2) :  2\n",
            "OK  :  fv(2, 3) :  3\n",
            "OK  :  fv(3, 1) :  1\n",
            "OK  :  fv(3, 2) :  2\n",
            "OK  :  fv(3, 3) :  3\n"
          ],
          "name": "stdout"
        }
      ]
    },
    {
      "cell_type": "markdown",
      "metadata": {
        "id": "chCE9rABq0KX",
        "colab_type": "text"
      },
      "source": [
        "Alpha Centauri Császárság 0x9C39\n",
        "(négy mellső végtagjuk van, mindegyiken 4-4 ujj)\n",
        "\n",
        "• Tau Ceti Köztársaság 0o37266\n",
        "(polipszerű lények nyolc csáppal)\n",
        "\n",
        "• Virgo Halmaz Független Kereskedők 53126\n",
        "(egyetlen mellső végtagjukon 6 nyúlvány van)\n",
        "\n",
        "• Orion Konglomerátum CH418\n",
        "(18 szemükkel pislantva számolnak és metánt lélegeznek)\n",
        "\n",
        "Ellenőrizzük, hogy az adományok összege forintban eléri-e a kivitelezéshez szükséges\n",
        "0x2AEA81C6C0 összeget! Egy galaktikus krajcár 3*10**6 Ft-ot ér. Használjuk az interaktív\n",
        "módot, de írhatunk külön programot is.\n"
      ]
    },
    {
      "cell_type": "code",
      "metadata": {
        "id": "ea2l6o8dq0KY",
        "colab_type": "code",
        "colab": {},
        "outputId": "a9de628d-a1b6-4403-bdfa-022737462944"
      },
      "source": [
        "felajanlas = int(\"0x9C39\", 16) + int(\"0o37266\", 8) + int(\"5312\",6)  + int(\"CH41\",18)\n",
        "szukseges = int(0x2AEA81C6C0) \n",
        "print(felajanlas, '-', szukseges/ (3*10**6),'=',felajanlas - (szukseges/ (3*10**6)), 'Galaktipus pénz')\n",
        "print(felajanlas * (3*10**6), '-', szukseges,'=',(felajanlas * (3*10**6)) - szukseges, 'földi pénz Ft')"
      ],
      "execution_count": 0,
      "outputs": [
        {
          "output_type": "stream",
          "text": [
            "132808 - 61441.0 = 71367.0 Galaktipus pénz\n",
            "398424000000 - 184323000000 = 214101000000 földi pénz Ft\n"
          ],
          "name": "stdout"
        }
      ]
    },
    {
      "cell_type": "code",
      "metadata": {
        "id": "N_Bl9qeLq0Ka",
        "colab_type": "code",
        "colab": {},
        "outputId": "109ee597-1e9f-40fe-bc75-bd4fed102669"
      },
      "source": [
        "print(ord('A'))\n",
        "print(hex( ord('A')))\n",
        "print(bin( ord('A')))\n",
        "print(chr(65))\n",
        "print(chr(0x3c9))\n"
      ],
      "execution_count": 0,
      "outputs": [
        {
          "output_type": "stream",
          "text": [
            "65\n",
            "0x41\n",
            "0b1000001\n",
            "A\n",
            "ω\n"
          ],
          "name": "stdout"
        }
      ]
    },
    {
      "cell_type": "code",
      "metadata": {
        "id": "Hk4sGRXvq0Kc",
        "colab_type": "code",
        "colab": {},
        "outputId": "ea90eabe-8bf4-4e88-8ccb-f54d7c6ad8c5"
      },
      "source": [
        "int(\"99\"), int(\"11\",2), int(\"A2\",16), int(\"A2\",17), int(\"12\",6)"
      ],
      "execution_count": 0,
      "outputs": [
        {
          "output_type": "execute_result",
          "data": {
            "text/plain": [
              "(99, 3, 162, 172, 8)"
            ]
          },
          "metadata": {
            "tags": []
          },
          "execution_count": 1
        }
      ]
    },
    {
      "cell_type": "code",
      "metadata": {
        "id": "y6Oa3DnKq0Ke",
        "colab_type": "code",
        "colab": {},
        "outputId": "1a410dec-3749-40b4-ca2a-96ec04b4cb9f"
      },
      "source": [
        "s3= \"Szia\" ' ' 'Univerzum' \"!\"\n",
        "s3"
      ],
      "execution_count": 0,
      "outputs": [
        {
          "output_type": "execute_result",
          "data": {
            "text/plain": [
              "'Szia Univerzum!'"
            ]
          },
          "metadata": {
            "tags": []
          },
          "execution_count": 54
        }
      ]
    },
    {
      "cell_type": "markdown",
      "metadata": {
        "id": "kXCFqN6gq0Kg",
        "colab_type": "text"
      },
      "source": [
        "## Módosított jelentéssel bíró karaktersorozatok és hatásuk:\n",
        "\n",
        "\n",
        "\n",
        "jel | szöveg\n",
        ":--- | :---\n",
        "\\n  | A karakterfolyam kiírása a következő sorban folytatódik.\n",
        "\\t  | A kiírás a következő tabulátorpozíción folytatódik.\n",
        "\\r  | A kiírás a sor elejére visszaugorva folytatódik (carriage return, azaz „kocsi vissza” parancs, aminek elnevezése még az írógépes-teleprinteres korszakból származik).\n",
        "\\\\ |Maga a '\\', a visszavágás jele kerül kiírásra.\n",
        "\\a |A számítógép hangszóróján egy pittyegés lesz halható( bell, csengő).\n",
        "\\xhh |A kiírandó karakter kódját hexa-számrendszerben adtuk meg két számjeggyel.\n",
        "\\ooo |A kiírandó karakter kódja oktális számrendszerben három számjeggyel.\n",
        "\\uxxxx |A kiírandó karakter kódpontja hexa-számrendszerben négy számjeggyel.\n",
        "\\Uxxxxxxxx |A kiírandó karakter kódpontja hexa-számrendszerben nyolc számjeggyel.\n",
        "\n",
        "\n",
        "\n"
      ]
    },
    {
      "cell_type": "markdown",
      "metadata": {
        "id": "KErA30Wjq0Kg",
        "colab_type": "text"
      },
      "source": [
        "\n",
        "## Markdown táblázatos megjelenítés\n",
        "\n",
        "<span style=\"font-family:Comic Sans MS\">This is a text</span>\n",
        "\n",
        "| Left-aligned | Center-aligned | Right-aligned |\n",
        "| :---         |     :---:      |          ---: |\n",
        "| git status   | git status     | git status    |\n",
        "| git diff     | git diff       | git diff      |\n",
        "\n",
        "</br>\n",
        "</br>\n",
        "</br>\n",
        "\n",
        "<table>\n",
        "  <tr><td> Tabl e s        </td><td> Are           </td><td> Cool  </td></tr>\n",
        "  <tr><td> col 3 is      </td><td> right-aligned </td><td> 1600 </td></tr>\n",
        "  <tr><td> col 2 is      </td><td> centered      </td><td>   12 </td></tr>\n",
        "  <tr><td> zebra stripes </td><td> are neat      </td><td>    1 </td></tr>\n",
        "</table>\n",
        "\n",
        "\n",
        "\n",
        "Markdown | Less | Pretty\n",
        "--- | --- | ---\n",
        "*Still* | `renders` | **nicely**\n",
        "1 | 2 | 3\n",
        "\n",
        "\n"
      ]
    },
    {
      "cell_type": "code",
      "metadata": {
        "id": "INKVPYadq0Kh",
        "colab_type": "code",
        "colab": {},
        "outputId": "3149fb1d-df09-4d30-89b2-b0e69b5d7689"
      },
      "source": [
        "print(\"-------\")\n",
        "s= 'abcdef'\n",
        "for i in range( len(s)-1, -1, -1 ):\n",
        "   print(i,'-->', s[i], end='|')\n",
        "print()\n",
        "print(\"-------\")"
      ],
      "execution_count": 0,
      "outputs": [
        {
          "output_type": "stream",
          "text": [
            "-------\n",
            "5 --> f|4 --> e|3 --> d|2 --> c|1 --> b|0 --> a|\n",
            "-------\n"
          ],
          "name": "stdout"
        }
      ]
    },
    {
      "cell_type": "code",
      "metadata": {
        "id": "o_EROxGdq0Kj",
        "colab_type": "code",
        "colab": {}
      },
      "source": [
        ""
      ],
      "execution_count": 0,
      "outputs": []
    },
    {
      "cell_type": "code",
      "metadata": {
        "id": "rGlASDOhq0Kl",
        "colab_type": "code",
        "colab": {}
      },
      "source": [
        ""
      ],
      "execution_count": 0,
      "outputs": []
    }
  ]
}