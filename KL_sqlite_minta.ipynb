{
  "nbformat": 4,
  "nbformat_minor": 0,
  "metadata": {
    "colab": {
      "name": "KL_sqlite_minta.ipynb",
      "provenance": [],
      "collapsed_sections": [],
      "toc_visible": true,
      "include_colab_link": true
    },
    "kernelspec": {
      "name": "python3",
      "display_name": "Python 3"
    }
  },
  "cells": [
    {
      "cell_type": "markdown",
      "metadata": {
        "id": "view-in-github",
        "colab_type": "text"
      },
      "source": [
        "<a href=\"https://colab.research.google.com/github/klajosw/python/blob/master/KL_sqlite_minta.ipynb\" target=\"_parent\"><img src=\"https://colab.research.google.com/assets/colab-badge.svg\" alt=\"Open In Colab\"/></a>"
      ]
    },
    {
      "cell_type": "markdown",
      "metadata": {
        "id": "5VWEm6ccHCbi",
        "colab_type": "text"
      },
      "source": [
        "# SqLite használata"
      ]
    },
    {
      "cell_type": "code",
      "metadata": {
        "id": "y_b8GDwsHATh",
        "colab_type": "code",
        "colab": {}
      },
      "source": [
        "## Modulok impontálása\n",
        "import sqlite3\n",
        "import os\n",
        "import hashlib"
      ],
      "execution_count": 0,
      "outputs": []
    },
    {
      "cell_type": "code",
      "metadata": {
        "id": "Tj2OKv6iHakf",
        "colab_type": "code",
        "colab": {}
      },
      "source": [
        "## Belső függveny eljárások definiálása\n",
        "def collate_reverse(string1, string2):\n",
        "    if string1 == string2:\n",
        "        return 0\n",
        "    elif string1 < string2:\n",
        "        return 1\n",
        "    else:\n",
        "        return -1\n",
        "\n",
        "## hashlib.md5 / hashlib.sha224 /// Titkosítás GDPR!!!\n",
        "def md5sum(t):\n",
        "    if type(t) == int:\n",
        "        t = str(t)\n",
        "    t = t.encode()    \n",
        "    return hashlib.md5(t).hexdigest()  \n",
        "    \n",
        "def sha224sum(t):\n",
        "    if type(t) == int:\n",
        "        t = str(t)\n",
        "    t = t.encode()    \n",
        "    return hashlib.sha224(t).hexdigest()   "
      ],
      "execution_count": 0,
      "outputs": []
    },
    {
      "cell_type": "markdown",
      "metadata": {
        "id": "BjaHgnYDIHTV",
        "colab_type": "text"
      },
      "source": [
        "## Memoria adatbázis, tábla használati módszer"
      ]
    },
    {
      "cell_type": "code",
      "metadata": {
        "id": "pdrMq3gVH27-",
        "colab_type": "code",
        "outputId": "b7dcfed7-4132-41eb-8c28-27d11c984484",
        "colab": {
          "base_uri": "https://localhost:8080/",
          "height": 141
        }
      },
      "source": [
        "## Memoria adatbázis / tábla használata\n",
        "sqlite3.enable_shared_cache(True) ### \n",
        "\n",
        "con = sqlite3.connect(\":memory:\")\n",
        "con.isolation_level = None\n",
        "\n",
        "con.create_collation(\"reverse\", collate_reverse)  ## fuggvény használat\n",
        "\n",
        "con.create_function(\"md5\", 1, md5sum)\n",
        "\n",
        "cur = con.cursor()\n",
        "\n",
        "cur.execute(\"select md5(?)\", (\"foo\",))\n",
        "print(cur.fetchone()[0])\n",
        "\n",
        "cur.execute(\"create table test(x)\")\n",
        "cur.executemany(\"insert into test(x) values (?)\", [(\"a\",), (\"b\",), (\"d\",) , (\"c\",)])\n",
        "## cur.execute(\"select x from test order by x collate reverse\")\n",
        "\n",
        "cur.execute(\"select x from test order by x asc\")\n",
        "\n",
        "print('---- Kiíratás 0.  ----\\n')\n",
        "for row in cur:\n",
        "    print(row)\n",
        "con.close()"
      ],
      "execution_count": 0,
      "outputs": [
        {
          "output_type": "stream",
          "text": [
            "acbd18db4cc2f85cedef654fccc4a4d8\n",
            "---- Kiíratás 0.  ----\n",
            "\n",
            "('a',)\n",
            "('b',)\n",
            "('c',)\n",
            "('d',)\n"
          ],
          "name": "stdout"
        }
      ]
    },
    {
      "cell_type": "markdown",
      "metadata": {
        "id": "dQQFg6bPIYjn",
        "colab_type": "text"
      },
      "source": [
        "## Állomány adatbázis használata"
      ]
    },
    {
      "cell_type": "code",
      "metadata": {
        "id": "Z8TPADekIcc9",
        "colab_type": "code",
        "outputId": "4a22b7cb-f665-4f03-8d32-4f284133a720",
        "colab": {
          "base_uri": "https://localhost:8080/",
          "height": 238
        }
      },
      "source": [
        "## Állomány adatbázis\n",
        "DB_FILE = \"/content/sample_data/mydb.db\"  # adatbázis neve\n",
        "newdb=0\n",
        "\n",
        "if os.path.exists(DB_FILE ):  ## adatbázis állomány létezik akkor törlés\n",
        "   os.remove(DB_FILE)\n",
        "   newdb = 1\n",
        "   print('Törölve')\n",
        "\n",
        "\n",
        "con = sqlite3.connect(DB_FILE)  ## ha nem létezik létrehozza\n",
        "\n",
        "con.create_function(\"md5\", 1, md5sum)\n",
        "\n",
        "cur = con.cursor()\n",
        "\n",
        "if newdb == 1 :  ## Ha új adatbázis akkor a táblát léátrekell hozni\n",
        "    cur.execute(\"\"\" create table people (\n",
        "      name_last  varchar(20), \n",
        "      age        integer)  \"\"\")\n",
        "    \n",
        "    \n",
        "\n",
        "\n",
        "## Rekordok beszúrása / INSERT\n",
        "cur.execute(\"insert into people (name_last, age) values ('Lajos',   57)\")    \n",
        "cur.execute(\"insert into people (name_last, age) values ('Béla',     53)\")   \n",
        "cur.execute(\"insert into people (name_last, age) values ('Ildikó',     54)\")  \n",
        "\n",
        "con.commit()  ## Beírás véglegesítése\n",
        "\n",
        "newPeople = (\n",
        "    ('Dani' , 22),\n",
        "    ('Tomi' , 21)\n",
        "  )\n",
        "\n",
        "for person in newPeople:\n",
        "    cur.execute(\"insert into people (name_last, age) values (?, ?)\", person)\n",
        "\n",
        "# The changes will not be saved unless the transaction is committed explicitly:\n",
        "con.commit()  ## Beírás véglegesítése\n",
        "\n",
        "##-----------------\n",
        "\n",
        "print('---- Kiíratás 11  ----\\n')\n",
        "cur.execute(\"select * from people \")\n",
        "for row in cur:\n",
        "    for mezo in row:\n",
        "        print(mezo)\n",
        "        \n",
        "print('---- Kiíratás 2.  ----\\n')        \n",
        "cur.execute(\"select * from people \")\n",
        "for row in cur:        \n",
        "        print('%s is %d years old.' % (row[0], row[1]))\n",
        "##\n",
        "print(\"Most törlök \", cur.execute(\"delete from people where name_last = 'Tomi' \").rowcount, \"rekordot/sort.\") \n",
        "\n",
        "print('---- Kiíratás 3.  ----\\n')\n",
        "cur.execute(\" select name_last, age,  md5(name_last) as name_md5 from people \")\n",
        "\n",
        "print(\"with column names:\", cur.fetchone()[0])\n",
        "print(\"with column names:\", cur.fetchone())\n",
        "\n",
        "print(cur.fetchall())  ## Összes további kiíratása\n",
        "\n",
        "\n",
        "print('---- Kiíratás 4.  ----\\n')\n",
        "FIELD_MAX_WIDTH = 20  ## mezők maximális hossz beállítása\n",
        "cur.execute(\" select name_last, age,  md5(name_last) as name_md5 from people \")\n",
        "\n",
        "# Fejléc\n",
        "for fieldDesc in cur.description:\n",
        "    print(fieldDesc[0].ljust(FIELD_MAX_WIDTH), end=' ')\n",
        "print()          # Fejléc vége  \n",
        "print('-' * 78)  # elválasztó sor\n",
        "\n",
        "# For each row, print the value of each field left-justified within\n",
        "# the maximum possible width of that field.\n",
        "fieldIndices = range(len(cur.description))\n",
        "for row in cur:\n",
        "    for fieldIndex in fieldIndices:\n",
        "        fieldValue = str(row[fieldIndex])\n",
        "        print(fieldValue.ljust(FIELD_MAX_WIDTH), end=' ')\n",
        "\n",
        "    print() # kiíratás végén sorvégjel kitétele\n",
        "\n",
        "\n",
        "cur.close()\n",
        "con.close()"
      ],
      "execution_count": 37,
      "outputs": [
        {
          "output_type": "error",
          "ename": "OperationalError",
          "evalue": "ignored",
          "traceback": [
            "\u001b[0;31m---------------------------------------------------------------------------\u001b[0m",
            "\u001b[0;31mOperationalError\u001b[0m                          Traceback (most recent call last)",
            "\u001b[0;32m<ipython-input-37-df9248774cf2>\u001b[0m in \u001b[0;36m<module>\u001b[0;34m()\u001b[0m\n\u001b[1;32m     23\u001b[0m \u001b[0;34m\u001b[0m\u001b[0m\n\u001b[1;32m     24\u001b[0m \u001b[0;31m## Rekordok beszúrása / INSERT\u001b[0m\u001b[0;34m\u001b[0m\u001b[0;34m\u001b[0m\u001b[0;34m\u001b[0m\u001b[0m\n\u001b[0;32m---> 25\u001b[0;31m \u001b[0mcur\u001b[0m\u001b[0;34m.\u001b[0m\u001b[0mexecute\u001b[0m\u001b[0;34m(\u001b[0m\u001b[0;34m\"insert into people (name_last, age) values ('Lajos',   57)\"\u001b[0m\u001b[0;34m)\u001b[0m\u001b[0;34m\u001b[0m\u001b[0;34m\u001b[0m\u001b[0m\n\u001b[0m\u001b[1;32m     26\u001b[0m \u001b[0mcur\u001b[0m\u001b[0;34m.\u001b[0m\u001b[0mexecute\u001b[0m\u001b[0;34m(\u001b[0m\u001b[0;34m\"insert into people (name_last, age) values ('Béla',     53)\"\u001b[0m\u001b[0;34m)\u001b[0m\u001b[0;34m\u001b[0m\u001b[0;34m\u001b[0m\u001b[0m\n\u001b[1;32m     27\u001b[0m \u001b[0mcur\u001b[0m\u001b[0;34m.\u001b[0m\u001b[0mexecute\u001b[0m\u001b[0;34m(\u001b[0m\u001b[0;34m\"insert into people (name_last, age) values ('Ildikó',     54)\"\u001b[0m\u001b[0;34m)\u001b[0m\u001b[0;34m\u001b[0m\u001b[0;34m\u001b[0m\u001b[0m\n",
            "\u001b[0;31mOperationalError\u001b[0m: attempt to write a readonly database"
          ]
        }
      ]
    },
    {
      "cell_type": "code",
      "metadata": {
        "id": "3783LNT6Uyhf",
        "colab_type": "code",
        "colab": {
          "base_uri": "https://localhost:8080/",
          "height": 132
        },
        "outputId": "5f055c29-04d2-419c-c38e-b673ce6bfba0"
      },
      "source": [
        "chmod 664 /content/sample_data/"
      ],
      "execution_count": 34,
      "outputs": [
        {
          "output_type": "error",
          "ename": "SyntaxError",
          "evalue": "ignored",
          "traceback": [
            "\u001b[0;36m  File \u001b[0;32m\"<ipython-input-34-cc1a375c4bbe>\"\u001b[0;36m, line \u001b[0;32m1\u001b[0m\n\u001b[0;31m    chmod 664 /content/sample_data/\u001b[0m\n\u001b[0m            ^\u001b[0m\n\u001b[0;31mSyntaxError\u001b[0m\u001b[0;31m:\u001b[0m invalid syntax\n"
          ]
        }
      ]
    },
    {
      "cell_type": "markdown",
      "metadata": {
        "id": "n3fXtyu3PFxp",
        "colab_type": "text"
      },
      "source": [
        ""
      ]
    }
  ]
}