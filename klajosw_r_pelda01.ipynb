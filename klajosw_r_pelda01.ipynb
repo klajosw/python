{
  "nbformat": 4,
  "nbformat_minor": 0,
  "metadata": {
    "colab": {
      "name": "klajosw_r_pelda01.ipynb",
      "provenance": [],
      "collapsed_sections": [],
      "toc_visible": true,
      "include_colab_link": true
    },
    "kernelspec": {
      "name": "python3",
      "display_name": "Python 3"
    }
  },
  "cells": [
    {
      "cell_type": "markdown",
      "metadata": {
        "id": "view-in-github",
        "colab_type": "text"
      },
      "source": [
        "<a href=\"https://colab.research.google.com/github/klajosw/python/blob/master/klajosw_r_pelda01.ipynb\" target=\"_parent\"><img src=\"https://colab.research.google.com/assets/colab-badge.svg\" alt=\"Open In Colab\"/></a>"
      ]
    },
    {
      "cell_type": "markdown",
      "metadata": {
        "id": "k6UFbvGLMmZ9",
        "colab_type": "text"
      },
      "source": [
        "# Jupiter 'R' nyelvú használat"
      ]
    },
    {
      "cell_type": "markdown",
      "metadata": {
        "id": "yCmXUqpWMyiJ",
        "colab_type": "text"
      },
      "source": [
        "## Kerner tipusok"
      ]
    },
    {
      "cell_type": "code",
      "metadata": {
        "id": "xqKC-VY_USnH",
        "colab_type": "code",
        "outputId": "8b31d57f-5afd-4559-fa1d-e9ee97a4bef7",
        "colab": {
          "base_uri": "https://localhost:8080/",
          "height": 105
        }
      },
      "source": [
        "!jupyter-kernelspec list"
      ],
      "execution_count": 2,
      "outputs": [
        {
          "output_type": "stream",
          "text": [
            "Available kernels:\n",
            "  ir         /usr/local/share/jupyter/kernels/ir\n",
            "  python2    /usr/local/share/jupyter/kernels/python2\n",
            "  python3    /usr/local/share/jupyter/kernels/python3\n",
            "  swift      /usr/local/share/jupyter/kernels/swift\n"
          ],
          "name": "stdout"
        }
      ]
    },
    {
      "cell_type": "code",
      "metadata": {
        "id": "VJ1Fv52UYpyO",
        "colab_type": "code",
        "outputId": "87eae664-b4a7-4e47-cdaa-6e50a54d2f51",
        "colab": {
          "base_uri": "https://localhost:8080/",
          "height": 178
        }
      },
      "source": [
        "!/swift/toolchain/usr/bin/swift --version\n",
        "!python3 /swift/swift-jupyter/register.py"
      ],
      "execution_count": 7,
      "outputs": [
        {
          "output_type": "stream",
          "text": [
            "Swift version 5.1.1-dev (Swift 7b97b0ced0)\n",
            "Target: x86_64-unknown-linux-gnu\n",
            "usage: register.py [-h] [--kernel-name KERNEL_NAME]\n",
            "                   [--user | --sys-prefix | --prefix PREFIX]\n",
            "                   (--swift-toolchain SWIFT_TOOLCHAIN | --swift-build SWIFT_BUILD | --xcode-path XCODE_PATH)\n",
            "                   [--swift-python-version SWIFT_PYTHON_VERSION | --swift-python-library SWIFT_PYTHON_LIBRARY | --swift-python-use-conda]\n",
            "                   [--use-conda-shared-libs]\n",
            "register.py: error: one of the arguments --swift-toolchain --swift-build --xcode-path is required\n"
          ],
          "name": "stdout"
        }
      ]
    },
    {
      "cell_type": "markdown",
      "metadata": {
        "id": "oLF_7aMTUqmE",
        "colab_type": "text"
      },
      "source": [
        "## IR az 'R' nyelv használahatóságát jelenti\n",
        "\n",
        "\n"
      ]
    },
    {
      "cell_type": "markdown",
      "metadata": {
        "id": "2dxIbEdmVASZ",
        "colab_type": "text"
      },
      "source": [
        "### Betöltöttük a szükséges kiterjesztést.\n"
      ]
    },
    {
      "cell_type": "code",
      "metadata": {
        "id": "0FeyJkQNU1T5",
        "colab_type": "code",
        "colab": {
          "base_uri": "https://localhost:8080/",
          "height": 52
        },
        "outputId": "436f5ab3-9b16-4dc1-9032-636c044d2b7c"
      },
      "source": [
        "%load_ext rpy2.ipython \n",
        "\n",
        "## Ez csak egyszerkell futtatni (osztály betöltés) FIGYI : Load sorba nem lehet semmi más még megjegyzés sem"
      ],
      "execution_count": 8,
      "outputs": [
        {
          "output_type": "stream",
          "text": [
            "The rpy2.ipython extension is already loaded. To reload it, use:\n",
            "  %reload_ext rpy2.ipython\n"
          ],
          "name": "stdout"
        }
      ]
    },
    {
      "cell_type": "markdown",
      "metadata": {
        "id": "xYG3WSqzNISo",
        "colab_type": "text"
      },
      "source": [
        "### Ezután már a nyelv %%R   jelzése után a r program értelmező fug futni"
      ]
    },
    {
      "cell_type": "code",
      "metadata": {
        "id": "uYdiI7WjVGD6",
        "colab_type": "code",
        "outputId": "ccb679b2-88b9-4daf-c15d-72e2c66f998f",
        "colab": {
          "base_uri": "https://localhost:8080/",
          "height": 52
        }
      },
      "source": [
        "%%R                         ## FIGYI:  ez mindig kell ez mondja meg a colab-nak, hogy 'R' parancsértelmezőt használjon\n",
        "a <- 50                    ## változó beállitása\n",
        "b <- -1                    ## változó beállitása\n",
        "print(a+b)                 ## kiiratás\n",
        "c <- 1:2\n",
        "d <- 1:3\n",
        "c(c,d) \n",
        "getwd()                    ## munka könyvtár listázása, lapaértelemzésban \"/content\"\n",
        "\n",
        "\n"
      ],
      "execution_count": 24,
      "outputs": [
        {
          "output_type": "display_data",
          "data": {
            "text/plain": [
              "[1] 41\n",
              "[1] \"/content\"\n"
            ]
          },
          "metadata": {
            "tags": []
          }
        }
      ]
    },
    {
      "cell_type": "code",
      "metadata": {
        "id": "NKJV4eRwCphn",
        "colab_type": "code",
        "outputId": "6bb9ec9c-9461-4052-e773-9da8d67b0f97",
        "colab": {
          "base_uri": "https://localhost:8080/",
          "height": 246
        }
      },
      "source": [
        "%%R                                  ## FIGYI:  ez mindig kell ez mondja meg a colab-nak, hogy 'R' parancsértelmezőt használjon\n",
        "vilagegyenlet <- 42                  ## érték adás\n",
        "vilagegyenlet <- round(3.1415) + 1   ## uj érték adás\n",
        "print( factorial(vilagegyenlet) )    ## 24 (4 faktoriális)\n",
        "rm(vilagegyenlet)                    ## objektum megszüntetése\n",
        "#  print( vilagegyenlet   )          ## mivel már nincs meg az objektum hibát üzenne ezért megjegyzésbe tettem\n",
        "\n",
        "\n",
        "##------------------------------Változó felül deffiniálás\n",
        "pi          ## pi értéke : 3.141593 \n",
        "pi <- 1     ## pi érték felüldeffiniálása pl 1-el   \n",
        "print(pi)   ## pi változó értéke 1\n",
        "rm(pi) \n",
        "print(pi)   ## pi érték visszaál az eredeti változó érték szerint 3.141593\n",
        "\n",
        "## ---------------------------- Vectorok\n",
        "vec <- c(1, 2, 3, 10, 100) \n",
        "vec                         ## 1   2   3  10 100\n",
        "\n",
        "## ----------------------------mátrixok [ két dimenzios tomb]\n",
        "# --- elemek 3x2 mátrixba töltése\n",
        "mat <- matrix(c(1, 2, 3, 4, 5, 6), nrow = 2) \n",
        "print(mat )\n",
        "\n",
        "#--- elemek  2x3 mátrixba töltése\n",
        "mat <- matrix(c(1, 2, 3, 4, 5, 6), nrow = 3) \n",
        "print(mat )\n",
        "\n",
        "## --transzláció (sor és oszlop felcserlése)\n",
        "print(t(mat) )"
      ],
      "execution_count": 10,
      "outputs": [
        {
          "output_type": "display_data",
          "data": {
            "text/plain": [
              "[1] 24\n",
              "[1] 1\n",
              "[1] 3.141593\n",
              "     [,1] [,2] [,3]\n",
              "[1,]    1    3    5\n",
              "[2,]    2    4    6\n",
              "     [,1] [,2]\n",
              "[1,]    1    4\n",
              "[2,]    2    5\n",
              "[3,]    3    6\n",
              "     [,1] [,2] [,3]\n",
              "[1,]    1    2    3\n",
              "[2,]    4    5    6\n"
            ]
          },
          "metadata": {
            "tags": []
          }
        }
      ]
    },
    {
      "cell_type": "code",
      "metadata": {
        "id": "oZqTM6zSCp-H",
        "colab_type": "code",
        "outputId": "9d670de9-62bf-4725-95a9-282019a85784",
        "colab": {
          "base_uri": "https://localhost:8080/",
          "height": 212
        }
      },
      "source": [
        "%%R           ## FIGYI:  ez mindig kell ez mondja meg a colab-nak, hogy 'R' parancsértelmezőt használjon\n",
        "vec <- c(1, 2, 3, 10, 100)   ## a vektor mindig csak azonos tipusu objektumokból állhat\n",
        "print(vec + 4)\n",
        "## -----\n",
        "print(vec * 4)\n",
        "## -----\n",
        "print(vec * vec)\n",
        "## -----\n",
        "print(vec %*% vec)  ##  # inner \n",
        "## -----\n",
        "print(vec %o% vec)  ##  # outer \n"
      ],
      "execution_count": 0,
      "outputs": [
        {
          "output_type": "display_data",
          "data": {
            "text/plain": [
              "[1]   5   6   7  14 104\n",
              "[1]   4   8  12  40 400\n",
              "[1]     1     4     9   100 10000\n",
              "      [,1]\n",
              "[1,] 10114\n",
              "     [,1] [,2] [,3] [,4]  [,5]\n",
              "[1,]    1    2    3   10   100\n",
              "[2,]    2    4    6   20   200\n",
              "[3,]    3    6    9   30   300\n",
              "[4,]   10   20   30  100  1000\n",
              "[5,]  100  200  300 1000 10000\n"
            ]
          },
          "metadata": {
            "tags": []
          }
        }
      ]
    },
    {
      "cell_type": "code",
      "metadata": {
        "id": "9UhjrdolCv2y",
        "colab_type": "code",
        "outputId": "ef508b62-f5db-4ff3-8a4b-add6bf75830b",
        "colab": {
          "base_uri": "https://localhost:8080/",
          "height": 336
        }
      },
      "source": [
        "%%R                                  ## FIGYI:  ez mindig kell ez mondja meg a colab-nak, hogy 'R' parancsértelmezőt használjon\n",
        "##  ----- három és több dimenziós tőmbök használata\n",
        "\n",
        "array(c(1, 2, 3, 4, 5, 6), dim = c(2, 2, 3))\n",
        "\n",
        "\n"
      ],
      "execution_count": 0,
      "outputs": [
        {
          "output_type": "display_data",
          "data": {
            "text/plain": [
              ", , 1\n",
              "\n",
              "     [,1] [,2]\n",
              "[1,]    1    3\n",
              "[2,]    2    4\n",
              "\n",
              ", , 2\n",
              "\n",
              "     [,1] [,2]\n",
              "[1,]    5    1\n",
              "[2,]    6    2\n",
              "\n",
              ", , 3\n",
              "\n",
              "     [,1] [,2]\n",
              "[1,]    3    5\n",
              "[2,]    4    6\n",
              "\n"
            ]
          },
          "metadata": {
            "tags": []
          }
        }
      ]
    },
    {
      "cell_type": "code",
      "metadata": {
        "id": "zegqbAC7C3TX",
        "colab_type": "code",
        "outputId": "79cb71ad-2468-4c12-9be4-b7349ff03bb8",
        "colab": {
          "base_uri": "https://localhost:8080/",
          "height": 301
        }
      },
      "source": [
        "%%R                                  ## FIGYI:  ez mindig kell ez mondja meg a colab-nak, hogy 'R' parancsértelmezőt használjon\n",
        "\n",
        "print(class(0.00001) )\n",
        "## --\n",
        "print(class(\"hello\") )\n",
        "\n",
        "## --------  Szöveg műveletek\n",
        "print(nchar(\"hello\"))      # 5 \n",
        "paste(\"hello\", \"world\")    # \"hello world\"\n",
        "\n",
        "## --------- faktorok\n",
        "fac <- factor(c(\"a\", \"b\", \"c\")) \n",
        "print(fac) \n",
        "\n",
        "## ------ listák\n",
        "lst <- list(1, \"R\", TRUE) \n",
        "print(class(lst) )          ## a listák különböző tipusu elemekből is álhatnak\n",
        "print (lst)\n",
        "\n",
        "## ---- összetett lista\n",
        "list(c(1, 2), TRUE, c(\"a\", \"b\", \"c\"))\n",
        "\n",
        "## ------ dataframe jellemzője, hogy mezőnként azonos tilusunak kellenie\n",
        "df <- data.frame(c(1, 2, 3),   c(\"R\",\"S\",\"T\"), c(TRUE, FALSE, TRUE)) \n",
        "class(df)\n",
        "\n"
      ],
      "execution_count": 0,
      "outputs": [
        {
          "output_type": "display_data",
          "data": {
            "text/plain": [
              "[1] \"numeric\"\n",
              "[1] \"character\"\n",
              "[1] 5\n",
              "[1] a b c\n",
              "Levels: a b c\n",
              "[1] \"list\"\n",
              "[[1]]\n",
              "[1] 1\n",
              "\n",
              "[[2]]\n",
              "[1] \"R\"\n",
              "\n",
              "[[3]]\n",
              "[1] TRUE\n",
              "\n",
              "[1] \"data.frame\"\n"
            ]
          },
          "metadata": {
            "tags": []
          }
        }
      ]
    },
    {
      "cell_type": "markdown",
      "metadata": {
        "id": "I-JM5rWDMd4T",
        "colab_type": "text"
      },
      "source": [
        "## Adat megjelenitések, diagrammok"
      ]
    },
    {
      "cell_type": "code",
      "metadata": {
        "id": "T9-nOj42bDDK",
        "colab_type": "code",
        "outputId": "ed814119-bc70-43f1-ca79-4fb7d499c751",
        "colab": {
          "base_uri": "https://localhost:8080/",
          "height": 496
        }
      },
      "source": [
        "%%R                                  ## FIGYI:  ez mindig kell ez mondja meg a colab-nak, hogy 'R' parancsértelmezőt használjon\n",
        "# install.packages(\"ggplot2\")        ## Csak egyszerkell \n",
        "#library(ggplot2) \n",
        "\n",
        "#mpg \n",
        "\n",
        "#View(mpg) \n",
        "\n",
        "#qplot(displ, hwy, data = mpg)\n",
        "\n",
        "plot(iris$Sepal.Width, iris$Sepal.Length)\n",
        "\n",
        "# qplot(displ, hwy, data = mpg, color = class)\n",
        "\n",
        "# qplot(displ, hwy, data = mpg) + facet_grid(. ~ cyl) \n",
        "\n",
        "#qplot(displ, hwy, data = mpg) + facet_grid(drv ~ .) \n",
        "\n",
        "#qplot(displ, hwy, data = mpg) + facet_grid(drv ~ cyl) \n",
        "\n",
        "#qplot(displ, hwy, data = mpg) + facet_wrap(~ class)"
      ],
      "execution_count": 0,
      "outputs": [
        {
          "output_type": "display_data",
          "data": {
            "image/png": "[encoded data removed]"
          },
          "metadata": {
            "tags": []
          }
        }
      ]
    },
    {
      "cell_type": "code",
      "metadata": {
        "id": "vfa6j7GX7Xv0",
        "colab_type": "code",
        "outputId": "680334df-868d-4b04-a4d1-2fbf881c8f8f",
        "colab": {
          "base_uri": "https://localhost:8080/",
          "height": 496
        }
      },
      "source": [
        "%%R                                  ## FIGYI:  ez mindig kell ez mondja meg a colab-nak, hogy 'R' parancsértelmezőt használjon\n",
        "\n",
        "##   !apt-get -qq install -y libfluidsynth1   ## csak egyszerkell installálást futtatni\n",
        "##  installed.packages()   ## az eddig installált csomagok listája\n",
        "## install.packages(\"dplyr\")\n",
        "\n",
        "\n",
        "x <- seq(0, 2*pi, length.out=50)\n",
        "plot(x, sin(x))\n",
        "\n",
        "\n",
        "\n",
        "\n"
      ],
      "execution_count": 0,
      "outputs": [
        {
          "output_type": "display_data",
          "data": {
            "image/png": "[encoded data removed]"
          },
          "metadata": {
            "tags": []
          }
        }
      ]
    },
    {
      "cell_type": "markdown",
      "metadata": {
        "id": "v-A37aA1Izdx",
        "colab_type": "text"
      },
      "source": [
        "# Adat betöltés\n",
        "\n",
        "### Tipus jelőlők:\n",
        "\n",
        "\n",
        "```\n",
        "\n",
        "read.csv(): comma separated \n",
        "read.delim(): tab separated\n",
        "read.delim(sep = \"|\"): | separated \n",
        "read.fwf(): ﬁxed width\n",
        "\n",
        "```\n",
        "\n",
        "\n"
      ]
    },
    {
      "cell_type": "code",
      "metadata": {
        "id": "I7oR_BvTMYbU",
        "colab_type": "code",
        "outputId": "acb0e987-120f-439e-a984-083ab6edfd59",
        "colab": {
          "base_uri": "https://localhost:8080/",
          "height": 52
        }
      },
      "source": [
        "%%R                                  ## FIGYI:  ez mindig kell ez mondja meg a colab-nak, hogy 'R' parancsértelmezőt használjon\n",
        "\n",
        "raw <- read.csv(\"data/pew.csv\", check.names = F)\n",
        "library(reshape2) \n",
        "tidy <- melt(raw, id = \"religion\")  \n",
        "head(tidy)\n",
        "\n",
        "\n",
        "tidy2 <- readRDS(\"tidy.rds\")\n",
        "\n",
        "\n",
        "tidy3 <- read.csv(\"tidy.csv.bz2\") \n",
        "\n",
        "\n"
      ],
      "execution_count": 0,
      "outputs": [
        {
          "output_type": "stream",
          "text": [
            "\n",
            "Error in file(file, \"rt\") : cannot open the connection\n"
          ],
          "name": "stdout"
        }
      ]
    },
    {
      "cell_type": "markdown",
      "metadata": {
        "id": "JmOPcMfkPYn4",
        "colab_type": "text"
      },
      "source": [
        "## Adat mentés állományba"
      ]
    },
    {
      "cell_type": "code",
      "metadata": {
        "id": "z3chgSVROr-d",
        "colab_type": "code",
        "outputId": "16f16d58-1fd1-401f-fe4a-696faa40a8e5",
        "colab": {
          "base_uri": "https://localhost:8080/",
          "height": 34
        }
      },
      "source": [
        "%%R                                  ## FIGYI:  ez mindig kell ez mondja meg a colab-nak, hogy 'R' parancsértelmezőt használjon\n",
        "getwd() \n",
        "write.csv(tidy, file = \"tidy.csv\",    row.names = FALSE) \n",
        "\n",
        "saveRDS(tidy, \"tidy.rds\")  ## rövid hivatkozás\n",
        "\n",
        "write.csv(tidy, file = bzfile(\"tidy.csv.bz2\"),    row.names = FALSE)  ## tömöritett állományba mentés"
      ],
      "execution_count": 0,
      "outputs": [
        {
          "output_type": "display_data",
          "data": {
            "text/plain": [
              "NULL\n"
            ]
          },
          "metadata": {
            "tags": []
          }
        }
      ]
    }
  ]
}