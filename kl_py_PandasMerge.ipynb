{
  "nbformat": 4,
  "nbformat_minor": 0,
  "metadata": {
    "kernelspec": {
      "display_name": "Python 3",
      "language": "python",
      "name": "python3"
    },
    "language_info": {
      "codemirror_mode": {
        "name": "ipython",
        "version": 3
      },
      "file_extension": ".py",
      "mimetype": "text/x-python",
      "name": "python",
      "nbconvert_exporter": "python",
      "pygments_lexer": "ipython3",
      "version": "3.7.6"
    },
    "colab": {
      "name": "kl_py_PandasMerge.ipynb",
      "provenance": [],
      "collapsed_sections": [],
      "include_colab_link": true
    }
  },
  "cells": [
    {
      "cell_type": "markdown",
      "metadata": {
        "id": "view-in-github",
        "colab_type": "text"
      },
      "source": [
        "<a href=\"https://colab.research.google.com/github/klajosw/python/blob/master/kl_py_PandasMerge.ipynb\" target=\"_parent\"><img src=\"https://colab.research.google.com/assets/colab-badge.svg\" alt=\"Open In Colab\"/></a>"
      ]
    },
    {
      "cell_type": "markdown",
      "metadata": {
        "id": "Fg0l_itDjWOz",
        "colab_type": "text"
      },
      "source": [
        "<p align=\"left\"> \n",
        "    <img src=\"https://raw.githubusercontent.com/klajosw/python/master/kl_mie_python_logo_250.jpg\" \n",
        "         align=\"left\" width=\"251\" height=\"251\">\n",
        "    \n",
        "</p>\n",
        "\n",
        "\n",
        "<p> </p>\n",
        "\n",
        "\n",
        "\n",
        "# Python alapok \n",
        "\n",
        "\n",
        "## Pandas Merge / JOIN és szűrések mita\n",
        "\n",
        "Leírás: <https://pandas.pydata.org/pandas-docs/stable/reference/api/pandas.DataFrame.merge.html/>\n",
        "\n",
        "<https://klajosw.blogspot.com/>\n",
        "\n",
        "\n",
        "---\n"
      ]
    },
    {
      "cell_type": "code",
      "metadata": {
        "id": "SK5ws9OfjWO0",
        "colab_type": "code",
        "colab": {}
      },
      "source": [
        "# Import\n",
        "import pandas as pd\n"
      ],
      "execution_count": 0,
      "outputs": []
    },
    {
      "cell_type": "code",
      "metadata": {
        "id": "N8MbcLh3jWO3",
        "colab_type": "code",
        "colab": {}
      },
      "source": [
        "## Állománypk megnyítása\n",
        "user_1 = pd.read_csv(\"ugyfelcsv1.csv\")\n",
        "user_2 = pd.read_csv(\"ugyfelcsv2.csv\")\n"
      ],
      "execution_count": 0,
      "outputs": []
    },
    {
      "cell_type": "code",
      "metadata": {
        "scrolled": true,
        "id": "qWIk1bzkjWO6",
        "colab_type": "code",
        "colab": {},
        "outputId": "4f099a14-49c4-43b6-b6ba-60b0c755fd5e"
      },
      "source": [
        "# user_1.head()  # csak első négy sor megjelenítése\n",
        "user_1"
      ],
      "execution_count": 0,
      "outputs": [
        {
          "output_type": "execute_result",
          "data": {
            "text/html": [
              "<div>\n",
              "<style scoped>\n",
              "    .dataframe tbody tr th:only-of-type {\n",
              "        vertical-align: middle;\n",
              "    }\n",
              "\n",
              "    .dataframe tbody tr th {\n",
              "        vertical-align: top;\n",
              "    }\n",
              "\n",
              "    .dataframe thead th {\n",
              "        text-align: right;\n",
              "    }\n",
              "</style>\n",
              "<table border=\"1\" class=\"dataframe\">\n",
              "  <thead>\n",
              "    <tr style=\"text-align: right;\">\n",
              "      <th></th>\n",
              "      <th>ugyfel_id</th>\n",
              "      <th>vnev</th>\n",
              "      <th>knev</th>\n",
              "      <th>szdatum</th>\n",
              "      <th>nem</th>\n",
              "    </tr>\n",
              "  </thead>\n",
              "  <tbody>\n",
              "    <tr>\n",
              "      <th>0</th>\n",
              "      <td>1</td>\n",
              "      <td>Walter</td>\n",
              "      <td>Gwendolyn</td>\n",
              "      <td>1954-07-10</td>\n",
              "      <td>M</td>\n",
              "    </tr>\n",
              "    <tr>\n",
              "      <th>1</th>\n",
              "      <td>2</td>\n",
              "      <td>Armstrong</td>\n",
              "      <td>Kieran</td>\n",
              "      <td>1932-02-24</td>\n",
              "      <td>M</td>\n",
              "    </tr>\n",
              "    <tr>\n",
              "      <th>2</th>\n",
              "      <td>3</td>\n",
              "      <td>Kline</td>\n",
              "      <td>Silas</td>\n",
              "      <td>1938-07-16</td>\n",
              "      <td>M</td>\n",
              "    </tr>\n",
              "    <tr>\n",
              "      <th>3</th>\n",
              "      <td>4</td>\n",
              "      <td>Gallagher</td>\n",
              "      <td>Rhoda</td>\n",
              "      <td>1972-10-28</td>\n",
              "      <td>M</td>\n",
              "    </tr>\n",
              "    <tr>\n",
              "      <th>4</th>\n",
              "      <td>5</td>\n",
              "      <td>Gallagher</td>\n",
              "      <td>Robin</td>\n",
              "      <td>1940-02-02</td>\n",
              "      <td>M</td>\n",
              "    </tr>\n",
              "    <tr>\n",
              "      <th>5</th>\n",
              "      <td>6</td>\n",
              "      <td>Frank</td>\n",
              "      <td>Blair</td>\n",
              "      <td>1977-12-19</td>\n",
              "      <td>M</td>\n",
              "    </tr>\n",
              "    <tr>\n",
              "      <th>6</th>\n",
              "      <td>7</td>\n",
              "      <td>Cash</td>\n",
              "      <td>Vaughan</td>\n",
              "      <td>1989-04-06</td>\n",
              "      <td>M</td>\n",
              "    </tr>\n",
              "    <tr>\n",
              "      <th>7</th>\n",
              "      <td>8</td>\n",
              "      <td>Shields</td>\n",
              "      <td>Charissa</td>\n",
              "      <td>1926-03-25</td>\n",
              "      <td>F</td>\n",
              "    </tr>\n",
              "    <tr>\n",
              "      <th>8</th>\n",
              "      <td>9</td>\n",
              "      <td>Brown</td>\n",
              "      <td>Inga</td>\n",
              "      <td>1942-04-18</td>\n",
              "      <td>F</td>\n",
              "    </tr>\n",
              "    <tr>\n",
              "      <th>9</th>\n",
              "      <td>10</td>\n",
              "      <td>Crawford</td>\n",
              "      <td>Glenna</td>\n",
              "      <td>1969-05-14</td>\n",
              "      <td>F</td>\n",
              "    </tr>\n",
              "  </tbody>\n",
              "</table>\n",
              "</div>"
            ],
            "text/plain": [
              "   ugyfel_id       vnev       knev     szdatum nem\n",
              "0          1     Walter  Gwendolyn  1954-07-10   M\n",
              "1          2  Armstrong     Kieran  1932-02-24   M\n",
              "2          3      Kline      Silas  1938-07-16   M\n",
              "3          4  Gallagher      Rhoda  1972-10-28   M\n",
              "4          5  Gallagher      Robin  1940-02-02   M\n",
              "5          6      Frank      Blair  1977-12-19   M\n",
              "6          7       Cash    Vaughan  1989-04-06   M\n",
              "7          8    Shields   Charissa  1926-03-25   F\n",
              "8          9      Brown       Inga  1942-04-18   F\n",
              "9         10   Crawford     Glenna  1969-05-14   F"
            ]
          },
          "metadata": {
            "tags": []
          },
          "execution_count": 109
        }
      ]
    },
    {
      "cell_type": "code",
      "metadata": {
        "scrolled": true,
        "id": "rNeNHEFRjWO9",
        "colab_type": "code",
        "colab": {},
        "outputId": "3186879f-3c0f-43d6-c0cd-4d9a177a23c0"
      },
      "source": [
        "# user_dada.rename(columns={\"ugyfel_id\": \"ID\"}, inplace=True)  ## fejléc átnevezése, ha szükséges lenne\n",
        "# user_2.head()  ## csak elsőnégy sor \n",
        "user_2"
      ],
      "execution_count": 0,
      "outputs": [
        {
          "output_type": "execute_result",
          "data": {
            "text/html": [
              "<div>\n",
              "<style scoped>\n",
              "    .dataframe tbody tr th:only-of-type {\n",
              "        vertical-align: middle;\n",
              "    }\n",
              "\n",
              "    .dataframe tbody tr th {\n",
              "        vertical-align: top;\n",
              "    }\n",
              "\n",
              "    .dataframe thead th {\n",
              "        text-align: right;\n",
              "    }\n",
              "</style>\n",
              "<table border=\"1\" class=\"dataframe\">\n",
              "  <thead>\n",
              "    <tr style=\"text-align: right;\">\n",
              "      <th></th>\n",
              "      <th>ugyfel_id</th>\n",
              "      <th>igazolvanytipus_id</th>\n",
              "      <th>igazolvanyszam</th>\n",
              "    </tr>\n",
              "  </thead>\n",
              "  <tbody>\n",
              "    <tr>\n",
              "      <th>0</th>\n",
              "      <td>3</td>\n",
              "      <td>J</td>\n",
              "      <td>YLHVLF29</td>\n",
              "    </tr>\n",
              "    <tr>\n",
              "      <th>1</th>\n",
              "      <td>4</td>\n",
              "      <td>J</td>\n",
              "      <td>SIDNEE06</td>\n",
              "    </tr>\n",
              "    <tr>\n",
              "      <th>2</th>\n",
              "      <td>5</td>\n",
              "      <td>SZ</td>\n",
              "      <td>DUSUNF64</td>\n",
              "    </tr>\n",
              "    <tr>\n",
              "      <th>3</th>\n",
              "      <td>6</td>\n",
              "      <td>UL</td>\n",
              "      <td>ENBNYK36</td>\n",
              "    </tr>\n",
              "    <tr>\n",
              "      <th>4</th>\n",
              "      <td>7</td>\n",
              "      <td>UL</td>\n",
              "      <td>PFOTXW50</td>\n",
              "    </tr>\n",
              "    <tr>\n",
              "      <th>5</th>\n",
              "      <td>8</td>\n",
              "      <td>J</td>\n",
              "      <td>MMRDLZ25</td>\n",
              "    </tr>\n",
              "    <tr>\n",
              "      <th>6</th>\n",
              "      <td>9</td>\n",
              "      <td>SZ</td>\n",
              "      <td>SKCMWG34</td>\n",
              "    </tr>\n",
              "    <tr>\n",
              "      <th>7</th>\n",
              "      <td>10</td>\n",
              "      <td>UL</td>\n",
              "      <td>VUKMBG65</td>\n",
              "    </tr>\n",
              "    <tr>\n",
              "      <th>8</th>\n",
              "      <td>11</td>\n",
              "      <td>SZ</td>\n",
              "      <td>NCGJMG03</td>\n",
              "    </tr>\n",
              "    <tr>\n",
              "      <th>9</th>\n",
              "      <td>12</td>\n",
              "      <td>SZ</td>\n",
              "      <td>LZQSRL48</td>\n",
              "    </tr>\n",
              "  </tbody>\n",
              "</table>\n",
              "</div>"
            ],
            "text/plain": [
              "   ugyfel_id igazolvanytipus_id igazolvanyszam\n",
              "0          3                  J       YLHVLF29\n",
              "1          4                  J       SIDNEE06\n",
              "2          5                 SZ       DUSUNF64\n",
              "3          6                 UL       ENBNYK36\n",
              "4          7                 UL       PFOTXW50\n",
              "5          8                  J       MMRDLZ25\n",
              "6          9                 SZ       SKCMWG34\n",
              "7         10                 UL       VUKMBG65\n",
              "8         11                 SZ       NCGJMG03\n",
              "9         12                 SZ       LZQSRL48"
            ]
          },
          "metadata": {
            "tags": []
          },
          "execution_count": 108
        }
      ]
    },
    {
      "cell_type": "markdown",
      "metadata": {
        "id": "76QW_JtRjWPC",
        "colab_type": "text"
      },
      "source": [
        "---\n",
        "\n",
        "## Két forrás tartalmának összekapcsolása 1.\n",
        "\n",
        "Kapcsolás az `ugyfel_id` kulcs mező szerint történik\n",
        "\n",
        "---"
      ]
    },
    {
      "cell_type": "code",
      "metadata": {
        "scrolled": true,
        "id": "68zhkDmgjWPC",
        "colab_type": "code",
        "colab": {},
        "outputId": "88686d6b-7a7d-4b5a-f872-557597b5ded3"
      },
      "source": [
        "result = pd.merge(user_1,\n",
        "                 user_2[['ugyfel_id', 'igazolvanyszam']], ## hozzáfűzési mezők, az első a kulcs mező\n",
        "                 on='ugyfel_id',                          ## kulcs mező a kapcsoláshoz (azonos nevüek legyenek)\n",
        "                 how='left',                              ## Kapcsolat módja (left, right, outer, inner)\n",
        "                 indicator=True                           ## jelző újmezőben megjelenítése                   \n",
        "                 )\n",
        "result.head(10)"
      ],
      "execution_count": 0,
      "outputs": [
        {
          "output_type": "execute_result",
          "data": {
            "text/html": [
              "<div>\n",
              "<style scoped>\n",
              "    .dataframe tbody tr th:only-of-type {\n",
              "        vertical-align: middle;\n",
              "    }\n",
              "\n",
              "    .dataframe tbody tr th {\n",
              "        vertical-align: top;\n",
              "    }\n",
              "\n",
              "    .dataframe thead th {\n",
              "        text-align: right;\n",
              "    }\n",
              "</style>\n",
              "<table border=\"1\" class=\"dataframe\">\n",
              "  <thead>\n",
              "    <tr style=\"text-align: right;\">\n",
              "      <th></th>\n",
              "      <th>ugyfel_id</th>\n",
              "      <th>vnev</th>\n",
              "      <th>knev</th>\n",
              "      <th>szdatum</th>\n",
              "      <th>nem</th>\n",
              "      <th>igazolvanyszam</th>\n",
              "      <th>_merge</th>\n",
              "    </tr>\n",
              "  </thead>\n",
              "  <tbody>\n",
              "    <tr>\n",
              "      <th>0</th>\n",
              "      <td>1</td>\n",
              "      <td>Walter</td>\n",
              "      <td>Gwendolyn</td>\n",
              "      <td>1954-07-10</td>\n",
              "      <td>M</td>\n",
              "      <td>NaN</td>\n",
              "      <td>left_only</td>\n",
              "    </tr>\n",
              "    <tr>\n",
              "      <th>1</th>\n",
              "      <td>2</td>\n",
              "      <td>Armstrong</td>\n",
              "      <td>Kieran</td>\n",
              "      <td>1932-02-24</td>\n",
              "      <td>M</td>\n",
              "      <td>NaN</td>\n",
              "      <td>left_only</td>\n",
              "    </tr>\n",
              "    <tr>\n",
              "      <th>2</th>\n",
              "      <td>3</td>\n",
              "      <td>Kline</td>\n",
              "      <td>Silas</td>\n",
              "      <td>1938-07-16</td>\n",
              "      <td>M</td>\n",
              "      <td>YLHVLF29</td>\n",
              "      <td>both</td>\n",
              "    </tr>\n",
              "    <tr>\n",
              "      <th>3</th>\n",
              "      <td>4</td>\n",
              "      <td>Gallagher</td>\n",
              "      <td>Rhoda</td>\n",
              "      <td>1972-10-28</td>\n",
              "      <td>M</td>\n",
              "      <td>SIDNEE06</td>\n",
              "      <td>both</td>\n",
              "    </tr>\n",
              "    <tr>\n",
              "      <th>4</th>\n",
              "      <td>5</td>\n",
              "      <td>Gallagher</td>\n",
              "      <td>Robin</td>\n",
              "      <td>1940-02-02</td>\n",
              "      <td>M</td>\n",
              "      <td>DUSUNF64</td>\n",
              "      <td>both</td>\n",
              "    </tr>\n",
              "    <tr>\n",
              "      <th>5</th>\n",
              "      <td>6</td>\n",
              "      <td>Frank</td>\n",
              "      <td>Blair</td>\n",
              "      <td>1977-12-19</td>\n",
              "      <td>M</td>\n",
              "      <td>ENBNYK36</td>\n",
              "      <td>both</td>\n",
              "    </tr>\n",
              "    <tr>\n",
              "      <th>6</th>\n",
              "      <td>7</td>\n",
              "      <td>Cash</td>\n",
              "      <td>Vaughan</td>\n",
              "      <td>1989-04-06</td>\n",
              "      <td>M</td>\n",
              "      <td>PFOTXW50</td>\n",
              "      <td>both</td>\n",
              "    </tr>\n",
              "    <tr>\n",
              "      <th>7</th>\n",
              "      <td>8</td>\n",
              "      <td>Shields</td>\n",
              "      <td>Charissa</td>\n",
              "      <td>1926-03-25</td>\n",
              "      <td>F</td>\n",
              "      <td>MMRDLZ25</td>\n",
              "      <td>both</td>\n",
              "    </tr>\n",
              "    <tr>\n",
              "      <th>8</th>\n",
              "      <td>9</td>\n",
              "      <td>Brown</td>\n",
              "      <td>Inga</td>\n",
              "      <td>1942-04-18</td>\n",
              "      <td>F</td>\n",
              "      <td>SKCMWG34</td>\n",
              "      <td>both</td>\n",
              "    </tr>\n",
              "    <tr>\n",
              "      <th>9</th>\n",
              "      <td>10</td>\n",
              "      <td>Crawford</td>\n",
              "      <td>Glenna</td>\n",
              "      <td>1969-05-14</td>\n",
              "      <td>F</td>\n",
              "      <td>VUKMBG65</td>\n",
              "      <td>both</td>\n",
              "    </tr>\n",
              "  </tbody>\n",
              "</table>\n",
              "</div>"
            ],
            "text/plain": [
              "   ugyfel_id       vnev       knev     szdatum nem igazolvanyszam     _merge\n",
              "0          1     Walter  Gwendolyn  1954-07-10   M            NaN  left_only\n",
              "1          2  Armstrong     Kieran  1932-02-24   M            NaN  left_only\n",
              "2          3      Kline      Silas  1938-07-16   M       YLHVLF29       both\n",
              "3          4  Gallagher      Rhoda  1972-10-28   M       SIDNEE06       both\n",
              "4          5  Gallagher      Robin  1940-02-02   M       DUSUNF64       both\n",
              "5          6      Frank      Blair  1977-12-19   M       ENBNYK36       both\n",
              "6          7       Cash    Vaughan  1989-04-06   M       PFOTXW50       both\n",
              "7          8    Shields   Charissa  1926-03-25   F       MMRDLZ25       both\n",
              "8          9      Brown       Inga  1942-04-18   F       SKCMWG34       both\n",
              "9         10   Crawford     Glenna  1969-05-14   F       VUKMBG65       both"
            ]
          },
          "metadata": {
            "tags": []
          },
          "execution_count": 98
        }
      ]
    },
    {
      "cell_type": "markdown",
      "metadata": {
        "id": "qj70NEPdjWPE",
        "colab_type": "text"
      },
      "source": [
        "Nézzük egy érték vizsgálatot."
      ]
    },
    {
      "cell_type": "code",
      "metadata": {
        "scrolled": true,
        "id": "s_QL4-6OjWPF",
        "colab_type": "code",
        "colab": {},
        "outputId": "0f628f4c-b482-4839-bc8e-eb5b490d7965"
      },
      "source": [
        "print(\"user_1 shape: {}\".format(user_1.shape))\n",
        "print(\"user_2 shape: {}\".format(user_2.shape))\n"
      ],
      "execution_count": 0,
      "outputs": [
        {
          "output_type": "stream",
          "text": [
            "user_1 dimensions: (10, 5)\n",
            "user_2 dimensions: (10, 3)\n"
          ],
          "name": "stdout"
        }
      ]
    },
    {
      "cell_type": "code",
      "metadata": {
        "scrolled": true,
        "id": "8y6ODYIcjWPI",
        "colab_type": "code",
        "colab": {},
        "outputId": "d3d8fe58-b95b-47dd-b614-f74f259de003"
      },
      "source": [
        "# Azonositó benn foglalás ellenőrzése\n",
        "user_1['ugyfel_id'].isin(user_2['ugyfel_id']).value_counts()"
      ],
      "execution_count": 0,
      "outputs": [
        {
          "output_type": "execute_result",
          "data": {
            "text/plain": [
              "True     8\n",
              "False    2\n",
              "Name: ugyfel_id, dtype: int64"
            ]
          },
          "metadata": {
            "tags": []
          },
          "execution_count": 90
        }
      ]
    },
    {
      "cell_type": "markdown",
      "metadata": {
        "id": "GNhLzHT9jWPK",
        "colab_type": "text"
      },
      "source": [
        "---\n",
        "\n",
        "## Két forrás tartalmának összekapcsolása 2.\n",
        "\n",
        "Kapcsolás az `ugyfel_id` kulcs mező szerint történik, de itt korréten megadjuk a kapcsolódo mezők nevét.\n",
        "\n",
        "---"
      ]
    },
    {
      "cell_type": "code",
      "metadata": {
        "id": "DSfvudFqjWPK",
        "colab_type": "code",
        "colab": {},
        "outputId": "79050751-89db-4dd3-fd23-b03f420c145d"
      },
      "source": [
        "result = pd.merge(user_1,\n",
        "                 user_2[['igazolvanytipus_id', 'ugyfel_id']], ## hozzáfűzési mezők // nem szerepel az első a kulcs mező\n",
        "                 left_on='ugyfel_id', right_on='ugyfel_id',   ## kulcs mezők konkrét megadása a kapcsoláshoz (eltérő nevüek)\n",
        "                 how='outer',                                 ## Kapcsolat módja left\n",
        "                 indicator=True                               ## jelző újmezőben megjelenítése                   \n",
        "                 )\n",
        "result.head(12)                                               ## első 12 sor megjelenítése (most összesen ennyi van)"
      ],
      "execution_count": 0,
      "outputs": [
        {
          "output_type": "execute_result",
          "data": {
            "text/html": [
              "<div>\n",
              "<style scoped>\n",
              "    .dataframe tbody tr th:only-of-type {\n",
              "        vertical-align: middle;\n",
              "    }\n",
              "\n",
              "    .dataframe tbody tr th {\n",
              "        vertical-align: top;\n",
              "    }\n",
              "\n",
              "    .dataframe thead th {\n",
              "        text-align: right;\n",
              "    }\n",
              "</style>\n",
              "<table border=\"1\" class=\"dataframe\">\n",
              "  <thead>\n",
              "    <tr style=\"text-align: right;\">\n",
              "      <th></th>\n",
              "      <th>ugyfel_id</th>\n",
              "      <th>vnev</th>\n",
              "      <th>knev</th>\n",
              "      <th>szdatum</th>\n",
              "      <th>nem</th>\n",
              "      <th>igazolvanytipus_id</th>\n",
              "      <th>_merge</th>\n",
              "    </tr>\n",
              "  </thead>\n",
              "  <tbody>\n",
              "    <tr>\n",
              "      <th>0</th>\n",
              "      <td>1</td>\n",
              "      <td>Walter</td>\n",
              "      <td>Gwendolyn</td>\n",
              "      <td>1954-07-10</td>\n",
              "      <td>M</td>\n",
              "      <td>NaN</td>\n",
              "      <td>left_only</td>\n",
              "    </tr>\n",
              "    <tr>\n",
              "      <th>1</th>\n",
              "      <td>2</td>\n",
              "      <td>Armstrong</td>\n",
              "      <td>Kieran</td>\n",
              "      <td>1932-02-24</td>\n",
              "      <td>M</td>\n",
              "      <td>NaN</td>\n",
              "      <td>left_only</td>\n",
              "    </tr>\n",
              "    <tr>\n",
              "      <th>2</th>\n",
              "      <td>3</td>\n",
              "      <td>Kline</td>\n",
              "      <td>Silas</td>\n",
              "      <td>1938-07-16</td>\n",
              "      <td>M</td>\n",
              "      <td>J</td>\n",
              "      <td>both</td>\n",
              "    </tr>\n",
              "    <tr>\n",
              "      <th>3</th>\n",
              "      <td>4</td>\n",
              "      <td>Gallagher</td>\n",
              "      <td>Rhoda</td>\n",
              "      <td>1972-10-28</td>\n",
              "      <td>M</td>\n",
              "      <td>J</td>\n",
              "      <td>both</td>\n",
              "    </tr>\n",
              "    <tr>\n",
              "      <th>4</th>\n",
              "      <td>5</td>\n",
              "      <td>Gallagher</td>\n",
              "      <td>Robin</td>\n",
              "      <td>1940-02-02</td>\n",
              "      <td>M</td>\n",
              "      <td>SZ</td>\n",
              "      <td>both</td>\n",
              "    </tr>\n",
              "    <tr>\n",
              "      <th>5</th>\n",
              "      <td>6</td>\n",
              "      <td>Frank</td>\n",
              "      <td>Blair</td>\n",
              "      <td>1977-12-19</td>\n",
              "      <td>M</td>\n",
              "      <td>UL</td>\n",
              "      <td>both</td>\n",
              "    </tr>\n",
              "    <tr>\n",
              "      <th>6</th>\n",
              "      <td>7</td>\n",
              "      <td>Cash</td>\n",
              "      <td>Vaughan</td>\n",
              "      <td>1989-04-06</td>\n",
              "      <td>M</td>\n",
              "      <td>UL</td>\n",
              "      <td>both</td>\n",
              "    </tr>\n",
              "    <tr>\n",
              "      <th>7</th>\n",
              "      <td>8</td>\n",
              "      <td>Shields</td>\n",
              "      <td>Charissa</td>\n",
              "      <td>1926-03-25</td>\n",
              "      <td>F</td>\n",
              "      <td>J</td>\n",
              "      <td>both</td>\n",
              "    </tr>\n",
              "    <tr>\n",
              "      <th>8</th>\n",
              "      <td>9</td>\n",
              "      <td>Brown</td>\n",
              "      <td>Inga</td>\n",
              "      <td>1942-04-18</td>\n",
              "      <td>F</td>\n",
              "      <td>SZ</td>\n",
              "      <td>both</td>\n",
              "    </tr>\n",
              "    <tr>\n",
              "      <th>9</th>\n",
              "      <td>10</td>\n",
              "      <td>Crawford</td>\n",
              "      <td>Glenna</td>\n",
              "      <td>1969-05-14</td>\n",
              "      <td>F</td>\n",
              "      <td>UL</td>\n",
              "      <td>both</td>\n",
              "    </tr>\n",
              "    <tr>\n",
              "      <th>10</th>\n",
              "      <td>11</td>\n",
              "      <td>NaN</td>\n",
              "      <td>NaN</td>\n",
              "      <td>NaN</td>\n",
              "      <td>NaN</td>\n",
              "      <td>SZ</td>\n",
              "      <td>right_only</td>\n",
              "    </tr>\n",
              "    <tr>\n",
              "      <th>11</th>\n",
              "      <td>12</td>\n",
              "      <td>NaN</td>\n",
              "      <td>NaN</td>\n",
              "      <td>NaN</td>\n",
              "      <td>NaN</td>\n",
              "      <td>SZ</td>\n",
              "      <td>right_only</td>\n",
              "    </tr>\n",
              "  </tbody>\n",
              "</table>\n",
              "</div>"
            ],
            "text/plain": [
              "    ugyfel_id       vnev       knev     szdatum  nem igazolvanytipus_id  \\\n",
              "0           1     Walter  Gwendolyn  1954-07-10    M                NaN   \n",
              "1           2  Armstrong     Kieran  1932-02-24    M                NaN   \n",
              "2           3      Kline      Silas  1938-07-16    M                  J   \n",
              "3           4  Gallagher      Rhoda  1972-10-28    M                  J   \n",
              "4           5  Gallagher      Robin  1940-02-02    M                 SZ   \n",
              "5           6      Frank      Blair  1977-12-19    M                 UL   \n",
              "6           7       Cash    Vaughan  1989-04-06    M                 UL   \n",
              "7           8    Shields   Charissa  1926-03-25    F                  J   \n",
              "8           9      Brown       Inga  1942-04-18    F                 SZ   \n",
              "9          10   Crawford     Glenna  1969-05-14    F                 UL   \n",
              "10         11        NaN        NaN         NaN  NaN                 SZ   \n",
              "11         12        NaN        NaN         NaN  NaN                 SZ   \n",
              "\n",
              "        _merge  \n",
              "0    left_only  \n",
              "1    left_only  \n",
              "2         both  \n",
              "3         both  \n",
              "4         both  \n",
              "5         both  \n",
              "6         both  \n",
              "7         both  \n",
              "8         both  \n",
              "9         both  \n",
              "10  right_only  \n",
              "11  right_only  "
            ]
          },
          "metadata": {
            "tags": []
          },
          "execution_count": 125
        }
      ]
    },
    {
      "cell_type": "markdown",
      "metadata": {
        "id": "8rIjwh_cjWPM",
        "colab_type": "text"
      },
      "source": [
        "---\n",
        "## Adatszámlálások\n",
        "\n",
        "\n",
        "---\n"
      ]
    },
    {
      "cell_type": "code",
      "metadata": {
        "scrolled": false,
        "id": "x9-pZLfIjWPN",
        "colab_type": "code",
        "colab": {},
        "outputId": "b7dd10e4-b609-4115-82cb-d602fc26d51c"
      },
      "source": [
        "print(\"Összesen van {} sorunk, amelyben nem szerepel egy oszlopban sem nulla.\".format(\n",
        "    (result.apply(lambda x: x.isnull().sum(), axis=1) == 0).sum()))\n",
        "print(\"Hiányzó adat {} szor fordul elő az 'igazolvanytipus_id' mezőben.\".format(\n",
        "        result['igazolvanytipus_id'].isnull().sum()))"
      ],
      "execution_count": 0,
      "outputs": [
        {
          "output_type": "stream",
          "text": [
            "Összesen van 8 sorunk, amelyben nem szerepel egy oszlopban sem nulla.\n",
            "Hiányzó adat 2 szor fordul elő az 'igazolvanytipus_id' mezőben.\n"
          ],
          "name": "stdout"
        }
      ]
    },
    {
      "cell_type": "markdown",
      "metadata": {
        "id": "OVnL62mxjWPQ",
        "colab_type": "text"
      },
      "source": [
        "---\n",
        "\n",
        "## A szűrések\n",
        "\n",
        "---\n"
      ]
    },
    {
      "cell_type": "code",
      "metadata": {
        "id": "GbX9miEdjWPR",
        "colab_type": "code",
        "colab": {},
        "outputId": "57985cad-cfc8-4c4d-edab-68aba38d6e6a"
      },
      "source": [
        "user_1[user_1.nem == 'F'] ## Nők megjelenitése csak azok amelyek a nem mezőben F -et tartalmaznak"
      ],
      "execution_count": 0,
      "outputs": [
        {
          "output_type": "execute_result",
          "data": {
            "text/html": [
              "<div>\n",
              "<style scoped>\n",
              "    .dataframe tbody tr th:only-of-type {\n",
              "        vertical-align: middle;\n",
              "    }\n",
              "\n",
              "    .dataframe tbody tr th {\n",
              "        vertical-align: top;\n",
              "    }\n",
              "\n",
              "    .dataframe thead th {\n",
              "        text-align: right;\n",
              "    }\n",
              "</style>\n",
              "<table border=\"1\" class=\"dataframe\">\n",
              "  <thead>\n",
              "    <tr style=\"text-align: right;\">\n",
              "      <th></th>\n",
              "      <th>ugyfel_id</th>\n",
              "      <th>vnev</th>\n",
              "      <th>knev</th>\n",
              "      <th>szdatum</th>\n",
              "      <th>nem</th>\n",
              "    </tr>\n",
              "  </thead>\n",
              "  <tbody>\n",
              "    <tr>\n",
              "      <th>7</th>\n",
              "      <td>8</td>\n",
              "      <td>Shields</td>\n",
              "      <td>Charissa</td>\n",
              "      <td>1926-03-25</td>\n",
              "      <td>F</td>\n",
              "    </tr>\n",
              "    <tr>\n",
              "      <th>8</th>\n",
              "      <td>9</td>\n",
              "      <td>Brown</td>\n",
              "      <td>Inga</td>\n",
              "      <td>1942-04-18</td>\n",
              "      <td>F</td>\n",
              "    </tr>\n",
              "    <tr>\n",
              "      <th>9</th>\n",
              "      <td>10</td>\n",
              "      <td>Crawford</td>\n",
              "      <td>Glenna</td>\n",
              "      <td>1969-05-14</td>\n",
              "      <td>F</td>\n",
              "    </tr>\n",
              "  </tbody>\n",
              "</table>\n",
              "</div>"
            ],
            "text/plain": [
              "   ugyfel_id      vnev      knev     szdatum nem\n",
              "7          8   Shields  Charissa  1926-03-25   F\n",
              "8          9     Brown      Inga  1942-04-18   F\n",
              "9         10  Crawford    Glenna  1969-05-14   F"
            ]
          },
          "metadata": {
            "tags": []
          },
          "execution_count": 115
        }
      ]
    },
    {
      "cell_type": "code",
      "metadata": {
        "id": "ylQvKPUAjWPT",
        "colab_type": "code",
        "colab": {},
        "outputId": "bbe882ff-d8cb-4873-f2a4-28eb99418903"
      },
      "source": [
        "user_1[user_1.vnev.str.startswith('Ga')]  ## Ga vnev kezdettel rendelkezők listázása"
      ],
      "execution_count": 0,
      "outputs": [
        {
          "output_type": "execute_result",
          "data": {
            "text/html": [
              "<div>\n",
              "<style scoped>\n",
              "    .dataframe tbody tr th:only-of-type {\n",
              "        vertical-align: middle;\n",
              "    }\n",
              "\n",
              "    .dataframe tbody tr th {\n",
              "        vertical-align: top;\n",
              "    }\n",
              "\n",
              "    .dataframe thead th {\n",
              "        text-align: right;\n",
              "    }\n",
              "</style>\n",
              "<table border=\"1\" class=\"dataframe\">\n",
              "  <thead>\n",
              "    <tr style=\"text-align: right;\">\n",
              "      <th></th>\n",
              "      <th>ugyfel_id</th>\n",
              "      <th>vnev</th>\n",
              "      <th>knev</th>\n",
              "      <th>szdatum</th>\n",
              "      <th>nem</th>\n",
              "    </tr>\n",
              "  </thead>\n",
              "  <tbody>\n",
              "    <tr>\n",
              "      <th>3</th>\n",
              "      <td>4</td>\n",
              "      <td>Gallagher</td>\n",
              "      <td>Rhoda</td>\n",
              "      <td>1972-10-28</td>\n",
              "      <td>M</td>\n",
              "    </tr>\n",
              "    <tr>\n",
              "      <th>4</th>\n",
              "      <td>5</td>\n",
              "      <td>Gallagher</td>\n",
              "      <td>Robin</td>\n",
              "      <td>1940-02-02</td>\n",
              "      <td>M</td>\n",
              "    </tr>\n",
              "  </tbody>\n",
              "</table>\n",
              "</div>"
            ],
            "text/plain": [
              "   ugyfel_id       vnev   knev     szdatum nem\n",
              "3          4  Gallagher  Rhoda  1972-10-28   M\n",
              "4          5  Gallagher  Robin  1940-02-02   M"
            ]
          },
          "metadata": {
            "tags": []
          },
          "execution_count": 117
        }
      ]
    },
    {
      "cell_type": "markdown",
      "metadata": {
        "id": "TlIPmsjejWPV",
        "colab_type": "text"
      },
      "source": [
        "---\n",
        "\n",
        "## Statisztikai függvények használata\n",
        "\n",
        "---"
      ]
    },
    {
      "cell_type": "code",
      "metadata": {
        "id": "azNPDFJNjWPW",
        "colab_type": "code",
        "colab": {},
        "outputId": "98238608-042e-4b66-e36e-a445e0488e0b"
      },
      "source": [
        "## Hányan vannak a nők és a férfiak és milyen idősek a legfiatalabbak\n",
        "user_1.groupby(\"nem\").agg({\n",
        "        \"szdatum\": \"min\",  ## mean, max, ..\n",
        "        \"knev\": \"count\"\n",
        "    })"
      ],
      "execution_count": 0,
      "outputs": [
        {
          "output_type": "execute_result",
          "data": {
            "text/html": [
              "<div>\n",
              "<style scoped>\n",
              "    .dataframe tbody tr th:only-of-type {\n",
              "        vertical-align: middle;\n",
              "    }\n",
              "\n",
              "    .dataframe tbody tr th {\n",
              "        vertical-align: top;\n",
              "    }\n",
              "\n",
              "    .dataframe thead th {\n",
              "        text-align: right;\n",
              "    }\n",
              "</style>\n",
              "<table border=\"1\" class=\"dataframe\">\n",
              "  <thead>\n",
              "    <tr style=\"text-align: right;\">\n",
              "      <th></th>\n",
              "      <th>szdatum</th>\n",
              "      <th>knev</th>\n",
              "    </tr>\n",
              "    <tr>\n",
              "      <th>nem</th>\n",
              "      <th></th>\n",
              "      <th></th>\n",
              "    </tr>\n",
              "  </thead>\n",
              "  <tbody>\n",
              "    <tr>\n",
              "      <th>F</th>\n",
              "      <td>1926-03-25</td>\n",
              "      <td>3</td>\n",
              "    </tr>\n",
              "    <tr>\n",
              "      <th>M</th>\n",
              "      <td>1932-02-24</td>\n",
              "      <td>7</td>\n",
              "    </tr>\n",
              "  </tbody>\n",
              "</table>\n",
              "</div>"
            ],
            "text/plain": [
              "        szdatum  knev\n",
              "nem                  \n",
              "F    1926-03-25     3\n",
              "M    1932-02-24     7"
            ]
          },
          "metadata": {
            "tags": []
          },
          "execution_count": 124
        }
      ]
    }
  ]
}