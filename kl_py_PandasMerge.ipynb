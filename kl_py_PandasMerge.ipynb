{
  "nbformat": 4,
  "nbformat_minor": 0,
  "metadata": {
    "kernelspec": {
      "display_name": "Python 3",
      "language": "python",
      "name": "python3"
    },
    "language_info": {
      "codemirror_mode": {
        "name": "ipython",
        "version": 3
      },
      "file_extension": ".py",
      "mimetype": "text/x-python",
      "name": "python",
      "nbconvert_exporter": "python",
      "pygments_lexer": "ipython3",
      "version": "3.7.7"
    },
    "colab": {
      "name": "kl_py_PandasMerge.ipynb",
      "provenance": [],
      "collapsed_sections": [],
      "include_colab_link": true
    }
  },
  "cells": [
    {
      "cell_type": "markdown",
      "metadata": {
        "id": "view-in-github",
        "colab_type": "text"
      },
      "source": [
        "<a href=\"https://colab.research.google.com/github/klajosw/python/blob/master/kl_py_PandasMerge.ipynb\" target=\"_parent\"><img src=\"https://colab.research.google.com/assets/colab-badge.svg\" alt=\"Open In Colab\"/></a>"
      ]
    },
    {
      "cell_type": "markdown",
      "metadata": {
        "id": "WCrqLLer7GqG",
        "colab_type": "text"
      },
      "source": [
        "<p align=\"left\"> \n",
        "    <img src=\"https://raw.githubusercontent.com/klajosw/python/master/kl_mie_python_logo_250.jpg\" \n",
        "         align=\"left\" width=\"251\" height=\"251\">\n",
        "    \n",
        "</p>\n",
        "\n",
        "\n",
        "<p> </p>\n",
        "\n",
        "\n",
        "\n",
        "# Python alapok \n",
        "\n",
        "\n",
        "## Pandas file i/o merge / JOIN és adat szűrések minta\n",
        "\n",
        "Leírás: <https://pandas.pydata.org/pandas-docs/stable/reference/api/pandas.DataFrame.merge.html/>\n",
        "\n",
        "<https://klajosw.blogspot.com/>\n",
        "\n",
        "\n",
        "---\n"
      ]
    },
    {
      "cell_type": "code",
      "metadata": {
        "id": "V7bQQcqQ7GqH",
        "colab_type": "code",
        "colab": {}
      },
      "source": [
        "# Import\n",
        "import pandas as pd\n"
      ],
      "execution_count": null,
      "outputs": []
    },
    {
      "cell_type": "code",
      "metadata": {
        "id": "U9oTe9a27GqK",
        "colab_type": "code",
        "colab": {}
      },
      "source": [
        "## csv olvasás + írás\n",
        "user = pd.read_csv('ugyfelcsv1.csv', header=None, nrows=5)  ## csv-ből olvasás, nincs fejlécsor, az első 5 sort\n",
        "user                                                        ## megjelenítés\n",
        "user.to_csv('ugyfelcsv1_kimenet.csv')                       ## csv-be mentés"
      ],
      "execution_count": null,
      "outputs": []
    },
    {
      "cell_type": "code",
      "metadata": {
        "id": "x4qCj71f7GqM",
        "colab_type": "code",
        "colab": {}
      },
      "source": [
        "## xls olvasás + írás\n",
        "xlsx = pd.ExcelFile('telepules.xlsx')                      ## xls-ből olvasás\n",
        "df = pd.read_excel(xlsx,  'telepules')                     ## aktív munkalap kijelőlése\n",
        "df                                                         ## megjelenítés\n",
        "df.to_excel('telepules_kimenet.xlsx',  sheet_name='Tel')   ## xls-be mentés"
      ],
      "execution_count": null,
      "outputs": []
    },
    {
      "cell_type": "code",
      "metadata": {
        "id": "x_upV9OK7GqP",
        "colab_type": "code",
        "colab": {},
        "outputId": "a9c0cf90-84d1-4f72-f9ca-0145a3679ada"
      },
      "source": [
        "print('Sor, oszlop szám' ,df.shape)  ## sor és oszlopszám kiírása\n",
        "print('index', df.index)\n",
        "print('Oszlop nevek', df.columns)\n",
        "print('ifo',df.info())\n",
        "print('count',df.count())\n",
        "print('cumsum', df.cumsum())\n",
        "print('describe',df.describe())"
      ],
      "execution_count": null,
      "outputs": [
        {
          "output_type": "stream",
          "text": [
            "Sor, oszlop szám (3176, 2)\n",
            "index RangeIndex(start=0, stop=3176, step=1)\n",
            "Oszlop nevek Index(['helyseg', 'lakos'], dtype='object')\n",
            "<class 'pandas.core.frame.DataFrame'>\n",
            "RangeIndex: 3176 entries, 0 to 3175\n",
            "Data columns (total 2 columns):\n",
            "helyseg    3176 non-null object\n",
            "lakos      3176 non-null int64\n",
            "dtypes: int64(1), object(1)\n",
            "memory usage: 49.8+ KB\n",
            "ifo None\n",
            "count helyseg    3176\n",
            "lakos      3176\n",
            "dtype: int64\n",
            "cumsum                                                 helyseg    lakos\n",
            "0                                              Debrecen   204333\n",
            "1                                       DebrecenMiskolc   367238\n",
            "2                                 DebrecenMiskolcSzeged   529075\n",
            "3                             DebrecenMiskolcSzegedPécs   676794\n",
            "4            DebrecenMiskolcSzegedPécsBudapest 11. ker.   821393\n",
            "...                                                 ...      ...\n",
            "3171  DebrecenMiskolcSzegedPécsBudapest 11. ker.Győr...  9908747\n",
            "3172  DebrecenMiskolcSzegedPécsBudapest 11. ker.Győr...  9908762\n",
            "3173  DebrecenMiskolcSzegedPécsBudapest 11. ker.Győr...  9908776\n",
            "3174  DebrecenMiskolcSzegedPécsBudapest 11. ker.Győr...  9908789\n",
            "3175  DebrecenMiskolcSzegedPécsBudapest 11. ker.Győr...  9908798\n",
            "\n",
            "[3176 rows x 2 columns]\n",
            "describe                lakos\n",
            "count    3176.000000\n",
            "mean     3119.898615\n",
            "std     11263.585339\n",
            "min         9.000000\n",
            "25%       345.750000\n",
            "50%       837.000000\n",
            "75%      1965.250000\n",
            "max    204333.000000\n"
          ],
          "name": "stdout"
        }
      ]
    },
    {
      "cell_type": "code",
      "metadata": {
        "id": "ybl9nLr87GqS",
        "colab_type": "code",
        "colab": {},
        "outputId": "cb867a98-b705-4e68-cbac-e1b60006e7db"
      },
      "source": [
        "# df.rank()\n",
        "df.sort_values(by='lakos') \n",
        "df[df['lakos']>10000000]\n",
        "print(df[1:3])\n",
        "print('-----------')\n",
        "print(df.loc[4][0])\n",
        "print('-----------')\n",
        "print(df.iloc[2])\n",
        "print('-----------')\n",
        "print(df.loc[3][0])"
      ],
      "execution_count": null,
      "outputs": [
        {
          "output_type": "stream",
          "text": [
            "   helyseg   lakos\n",
            "1  Miskolc  162905\n",
            "2   Szeged  161837\n",
            "-----------\n",
            "Budapest 11. ker.\n",
            "-----------\n",
            "helyseg    Szeged\n",
            "lakos      161837\n",
            "Name: 2, dtype: object\n",
            "-----------\n",
            "Pécs\n"
          ],
          "name": "stdout"
        }
      ]
    },
    {
      "cell_type": "code",
      "metadata": {
        "id": "KKUEqiaa7GqW",
        "colab_type": "code",
        "colab": {}
      },
      "source": [
        "## Text állományok megnyítása (csv: ,)\n",
        "user_1 = pd.read_csv(\"ugyfelcsv1.csv\")\n",
        "user_2 = pd.read_csv(\"ugyfelcsv2.csv\")\n"
      ],
      "execution_count": null,
      "outputs": []
    },
    {
      "cell_type": "code",
      "metadata": {
        "id": "AtnEh05b7GqY",
        "colab_type": "code",
        "colab": {},
        "outputId": "28cd7fd0-749a-4404-f650-5db3a1d075d9"
      },
      "source": [
        "# user = pd.read_csv('ugyfelcsv11.txt', sep='\\t', lineterminator='\\r')  ## TAB szeperát\n",
        "user = pd.read_csv('ugyfelcsv11.txt', sep=';', lineterminator='\\r')  ## pontosvesszővel szeperát\n",
        "user"
      ],
      "execution_count": null,
      "outputs": [
        {
          "output_type": "execute_result",
          "data": {
            "text/html": [
              "<div>\n",
              "<style scoped>\n",
              "    .dataframe tbody tr th:only-of-type {\n",
              "        vertical-align: middle;\n",
              "    }\n",
              "\n",
              "    .dataframe tbody tr th {\n",
              "        vertical-align: top;\n",
              "    }\n",
              "\n",
              "    .dataframe thead th {\n",
              "        text-align: right;\n",
              "    }\n",
              "</style>\n",
              "<table border=\"1\" class=\"dataframe\">\n",
              "  <thead>\n",
              "    <tr style=\"text-align: right;\">\n",
              "      <th></th>\n",
              "      <th>ugyfel_id</th>\n",
              "      <th>vnev</th>\n",
              "      <th>knev</th>\n",
              "      <th>szdatum</th>\n",
              "      <th>nem</th>\n",
              "    </tr>\n",
              "  </thead>\n",
              "  <tbody>\n",
              "    <tr>\n",
              "      <th>0</th>\n",
              "      <td>1</td>\n",
              "      <td>Walter</td>\n",
              "      <td>Gwendolyn</td>\n",
              "      <td>1954-07-10</td>\n",
              "      <td>M</td>\n",
              "    </tr>\n",
              "    <tr>\n",
              "      <th>1</th>\n",
              "      <td>2</td>\n",
              "      <td>Armstrong</td>\n",
              "      <td>Kieran</td>\n",
              "      <td>1932-02-24</td>\n",
              "      <td>M</td>\n",
              "    </tr>\n",
              "    <tr>\n",
              "      <th>2</th>\n",
              "      <td>3</td>\n",
              "      <td>Kline</td>\n",
              "      <td>Silas</td>\n",
              "      <td>1938-07-16</td>\n",
              "      <td>M</td>\n",
              "    </tr>\n",
              "    <tr>\n",
              "      <th>3</th>\n",
              "      <td>4</td>\n",
              "      <td>Gallagher</td>\n",
              "      <td>Rhoda</td>\n",
              "      <td>1972-10-28</td>\n",
              "      <td>M</td>\n",
              "    </tr>\n",
              "    <tr>\n",
              "      <th>4</th>\n",
              "      <td>5</td>\n",
              "      <td>Gallagher</td>\n",
              "      <td>Robin</td>\n",
              "      <td>1940-02-02</td>\n",
              "      <td>M</td>\n",
              "    </tr>\n",
              "    <tr>\n",
              "      <th>5</th>\n",
              "      <td>6</td>\n",
              "      <td>Frank</td>\n",
              "      <td>Blair</td>\n",
              "      <td>1977-12-19</td>\n",
              "      <td>M</td>\n",
              "    </tr>\n",
              "    <tr>\n",
              "      <th>6</th>\n",
              "      <td>7</td>\n",
              "      <td>Cash</td>\n",
              "      <td>Vaughan</td>\n",
              "      <td>1989-04-06</td>\n",
              "      <td>M</td>\n",
              "    </tr>\n",
              "    <tr>\n",
              "      <th>7</th>\n",
              "      <td>8</td>\n",
              "      <td>Shields</td>\n",
              "      <td>Charissa</td>\n",
              "      <td>1926-03-25</td>\n",
              "      <td>F</td>\n",
              "    </tr>\n",
              "    <tr>\n",
              "      <th>8</th>\n",
              "      <td>9</td>\n",
              "      <td>Brown</td>\n",
              "      <td>Inga</td>\n",
              "      <td>1942-04-18</td>\n",
              "      <td>F</td>\n",
              "    </tr>\n",
              "    <tr>\n",
              "      <th>9</th>\n",
              "      <td>10</td>\n",
              "      <td>Crawford</td>\n",
              "      <td>Glenna</td>\n",
              "      <td>1969-05-14</td>\n",
              "      <td>F</td>\n",
              "    </tr>\n",
              "  </tbody>\n",
              "</table>\n",
              "</div>"
            ],
            "text/plain": [
              "   ugyfel_id       vnev       knev     szdatum nem\n",
              "0          1     Walter  Gwendolyn  1954-07-10   M\n",
              "1          2  Armstrong     Kieran  1932-02-24   M\n",
              "2          3      Kline      Silas  1938-07-16   M\n",
              "3          4  Gallagher      Rhoda  1972-10-28   M\n",
              "4          5  Gallagher      Robin  1940-02-02   M\n",
              "5          6      Frank      Blair  1977-12-19   M\n",
              "6          7       Cash    Vaughan  1989-04-06   M\n",
              "7          8    Shields   Charissa  1926-03-25   F\n",
              "8          9      Brown       Inga  1942-04-18   F\n",
              "9         10   Crawford     Glenna  1969-05-14   F"
            ]
          },
          "metadata": {
            "tags": []
          },
          "execution_count": 69
        }
      ]
    },
    {
      "cell_type": "code",
      "metadata": {
        "scrolled": true,
        "id": "Rf3VjJNC7Gqb",
        "colab_type": "code",
        "colab": {},
        "outputId": "b620446f-dec7-4446-aca3-eb615ac803f6"
      },
      "source": [
        "# user_1.head()  # csak első négy sor megjelenítése\n",
        "user_1"
      ],
      "execution_count": null,
      "outputs": [
        {
          "output_type": "execute_result",
          "data": {
            "text/html": [
              "<div>\n",
              "<style scoped>\n",
              "    .dataframe tbody tr th:only-of-type {\n",
              "        vertical-align: middle;\n",
              "    }\n",
              "\n",
              "    .dataframe tbody tr th {\n",
              "        vertical-align: top;\n",
              "    }\n",
              "\n",
              "    .dataframe thead th {\n",
              "        text-align: right;\n",
              "    }\n",
              "</style>\n",
              "<table border=\"1\" class=\"dataframe\">\n",
              "  <thead>\n",
              "    <tr style=\"text-align: right;\">\n",
              "      <th></th>\n",
              "      <th>ugyfel_id</th>\n",
              "      <th>vnev</th>\n",
              "      <th>knev</th>\n",
              "      <th>szdatum</th>\n",
              "      <th>nem</th>\n",
              "    </tr>\n",
              "  </thead>\n",
              "  <tbody>\n",
              "    <tr>\n",
              "      <th>0</th>\n",
              "      <td>1</td>\n",
              "      <td>Walter</td>\n",
              "      <td>Gwendolyn</td>\n",
              "      <td>1954-07-10</td>\n",
              "      <td>M</td>\n",
              "    </tr>\n",
              "    <tr>\n",
              "      <th>1</th>\n",
              "      <td>2</td>\n",
              "      <td>Armstrong</td>\n",
              "      <td>Kieran</td>\n",
              "      <td>1932-02-24</td>\n",
              "      <td>M</td>\n",
              "    </tr>\n",
              "    <tr>\n",
              "      <th>2</th>\n",
              "      <td>3</td>\n",
              "      <td>Kline</td>\n",
              "      <td>Silas</td>\n",
              "      <td>1938-07-16</td>\n",
              "      <td>M</td>\n",
              "    </tr>\n",
              "    <tr>\n",
              "      <th>3</th>\n",
              "      <td>4</td>\n",
              "      <td>Gallagher</td>\n",
              "      <td>Rhoda</td>\n",
              "      <td>1972-10-28</td>\n",
              "      <td>M</td>\n",
              "    </tr>\n",
              "    <tr>\n",
              "      <th>4</th>\n",
              "      <td>5</td>\n",
              "      <td>Gallagher</td>\n",
              "      <td>Robin</td>\n",
              "      <td>1940-02-02</td>\n",
              "      <td>M</td>\n",
              "    </tr>\n",
              "    <tr>\n",
              "      <th>5</th>\n",
              "      <td>6</td>\n",
              "      <td>Frank</td>\n",
              "      <td>Blair</td>\n",
              "      <td>1977-12-19</td>\n",
              "      <td>M</td>\n",
              "    </tr>\n",
              "    <tr>\n",
              "      <th>6</th>\n",
              "      <td>7</td>\n",
              "      <td>Cash</td>\n",
              "      <td>Vaughan</td>\n",
              "      <td>1989-04-06</td>\n",
              "      <td>M</td>\n",
              "    </tr>\n",
              "    <tr>\n",
              "      <th>7</th>\n",
              "      <td>8</td>\n",
              "      <td>Shields</td>\n",
              "      <td>Charissa</td>\n",
              "      <td>1926-03-25</td>\n",
              "      <td>F</td>\n",
              "    </tr>\n",
              "    <tr>\n",
              "      <th>8</th>\n",
              "      <td>9</td>\n",
              "      <td>Brown</td>\n",
              "      <td>Inga</td>\n",
              "      <td>1942-04-18</td>\n",
              "      <td>F</td>\n",
              "    </tr>\n",
              "    <tr>\n",
              "      <th>9</th>\n",
              "      <td>10</td>\n",
              "      <td>Crawford</td>\n",
              "      <td>Glenna</td>\n",
              "      <td>1969-05-14</td>\n",
              "      <td>F</td>\n",
              "    </tr>\n",
              "  </tbody>\n",
              "</table>\n",
              "</div>"
            ],
            "text/plain": [
              "   ugyfel_id       vnev       knev     szdatum nem\n",
              "0          1     Walter  Gwendolyn  1954-07-10   M\n",
              "1          2  Armstrong     Kieran  1932-02-24   M\n",
              "2          3      Kline      Silas  1938-07-16   M\n",
              "3          4  Gallagher      Rhoda  1972-10-28   M\n",
              "4          5  Gallagher      Robin  1940-02-02   M\n",
              "5          6      Frank      Blair  1977-12-19   M\n",
              "6          7       Cash    Vaughan  1989-04-06   M\n",
              "7          8    Shields   Charissa  1926-03-25   F\n",
              "8          9      Brown       Inga  1942-04-18   F\n",
              "9         10   Crawford     Glenna  1969-05-14   F"
            ]
          },
          "metadata": {
            "tags": []
          },
          "execution_count": 109
        }
      ]
    },
    {
      "cell_type": "code",
      "metadata": {
        "id": "skynVn8h7Gqd",
        "colab_type": "code",
        "colab": {},
        "outputId": "54f3b7d8-38fc-4218-8298-0f93111e12c4"
      },
      "source": [
        "## charset beállítás utánni megnyítás\n",
        "import codecs\n",
        "doc = codecs.open('ugyfelcsv11.txt','rU','UTF-8') ## open for reading with \"universal\" type set\n",
        "user_1 = pd.read_csv(doc, sep=';')\n",
        "user_1"
      ],
      "execution_count": null,
      "outputs": [
        {
          "output_type": "execute_result",
          "data": {
            "text/html": [
              "<div>\n",
              "<style scoped>\n",
              "    .dataframe tbody tr th:only-of-type {\n",
              "        vertical-align: middle;\n",
              "    }\n",
              "\n",
              "    .dataframe tbody tr th {\n",
              "        vertical-align: top;\n",
              "    }\n",
              "\n",
              "    .dataframe thead th {\n",
              "        text-align: right;\n",
              "    }\n",
              "</style>\n",
              "<table border=\"1\" class=\"dataframe\">\n",
              "  <thead>\n",
              "    <tr style=\"text-align: right;\">\n",
              "      <th></th>\n",
              "      <th>ugyfel_id</th>\n",
              "      <th>vnev</th>\n",
              "      <th>knev</th>\n",
              "      <th>szdatum</th>\n",
              "      <th>nem</th>\n",
              "    </tr>\n",
              "  </thead>\n",
              "  <tbody>\n",
              "    <tr>\n",
              "      <th>0</th>\n",
              "      <td>1</td>\n",
              "      <td>Walter</td>\n",
              "      <td>Gwendolyn</td>\n",
              "      <td>1954-07-10</td>\n",
              "      <td>M</td>\n",
              "    </tr>\n",
              "    <tr>\n",
              "      <th>1</th>\n",
              "      <td>2</td>\n",
              "      <td>Armstrong</td>\n",
              "      <td>Kieran</td>\n",
              "      <td>1932-02-24</td>\n",
              "      <td>M</td>\n",
              "    </tr>\n",
              "    <tr>\n",
              "      <th>2</th>\n",
              "      <td>3</td>\n",
              "      <td>Kline</td>\n",
              "      <td>Silas</td>\n",
              "      <td>1938-07-16</td>\n",
              "      <td>M</td>\n",
              "    </tr>\n",
              "    <tr>\n",
              "      <th>3</th>\n",
              "      <td>4</td>\n",
              "      <td>Gallagher</td>\n",
              "      <td>Rhoda</td>\n",
              "      <td>1972-10-28</td>\n",
              "      <td>M</td>\n",
              "    </tr>\n",
              "    <tr>\n",
              "      <th>4</th>\n",
              "      <td>5</td>\n",
              "      <td>Gallagher</td>\n",
              "      <td>Robin</td>\n",
              "      <td>1940-02-02</td>\n",
              "      <td>M</td>\n",
              "    </tr>\n",
              "    <tr>\n",
              "      <th>5</th>\n",
              "      <td>6</td>\n",
              "      <td>Frank</td>\n",
              "      <td>Blair</td>\n",
              "      <td>1977-12-19</td>\n",
              "      <td>M</td>\n",
              "    </tr>\n",
              "    <tr>\n",
              "      <th>6</th>\n",
              "      <td>7</td>\n",
              "      <td>Cash</td>\n",
              "      <td>Vaughan</td>\n",
              "      <td>1989-04-06</td>\n",
              "      <td>M</td>\n",
              "    </tr>\n",
              "    <tr>\n",
              "      <th>7</th>\n",
              "      <td>8</td>\n",
              "      <td>Shields</td>\n",
              "      <td>Charissa</td>\n",
              "      <td>1926-03-25</td>\n",
              "      <td>F</td>\n",
              "    </tr>\n",
              "    <tr>\n",
              "      <th>8</th>\n",
              "      <td>9</td>\n",
              "      <td>Brown</td>\n",
              "      <td>Inga</td>\n",
              "      <td>1942-04-18</td>\n",
              "      <td>F</td>\n",
              "    </tr>\n",
              "    <tr>\n",
              "      <th>9</th>\n",
              "      <td>10</td>\n",
              "      <td>Crawford</td>\n",
              "      <td>Glenna</td>\n",
              "      <td>1969-05-14</td>\n",
              "      <td>F</td>\n",
              "    </tr>\n",
              "  </tbody>\n",
              "</table>\n",
              "</div>"
            ],
            "text/plain": [
              "   ugyfel_id       vnev       knev     szdatum nem\n",
              "0          1     Walter  Gwendolyn  1954-07-10   M\n",
              "1          2  Armstrong     Kieran  1932-02-24   M\n",
              "2          3      Kline      Silas  1938-07-16   M\n",
              "3          4  Gallagher      Rhoda  1972-10-28   M\n",
              "4          5  Gallagher      Robin  1940-02-02   M\n",
              "5          6      Frank      Blair  1977-12-19   M\n",
              "6          7       Cash    Vaughan  1989-04-06   M\n",
              "7          8    Shields   Charissa  1926-03-25   F\n",
              "8          9      Brown       Inga  1942-04-18   F\n",
              "9         10   Crawford     Glenna  1969-05-14   F"
            ]
          },
          "metadata": {
            "tags": []
          },
          "execution_count": 72
        }
      ]
    },
    {
      "cell_type": "code",
      "metadata": {
        "scrolled": true,
        "id": "NgZBr27h7Gqg",
        "colab_type": "code",
        "colab": {},
        "outputId": "4e477539-acaa-426a-e8b0-b7095cbfb65b"
      },
      "source": [
        "# user_dada.rename(columns={\"ugyfel_id\": \"ID\"}, inplace=True)  ## fejléc átnevezése, ha szükséges lenne\n",
        "# user_2.head()  ## csak elsőnégy sor \n",
        "user_2"
      ],
      "execution_count": null,
      "outputs": [
        {
          "output_type": "execute_result",
          "data": {
            "text/html": [
              "<div>\n",
              "<style scoped>\n",
              "    .dataframe tbody tr th:only-of-type {\n",
              "        vertical-align: middle;\n",
              "    }\n",
              "\n",
              "    .dataframe tbody tr th {\n",
              "        vertical-align: top;\n",
              "    }\n",
              "\n",
              "    .dataframe thead th {\n",
              "        text-align: right;\n",
              "    }\n",
              "</style>\n",
              "<table border=\"1\" class=\"dataframe\">\n",
              "  <thead>\n",
              "    <tr style=\"text-align: right;\">\n",
              "      <th></th>\n",
              "      <th>ugyfel_id</th>\n",
              "      <th>igazolvanytipus_id</th>\n",
              "      <th>igazolvanyszam</th>\n",
              "    </tr>\n",
              "  </thead>\n",
              "  <tbody>\n",
              "    <tr>\n",
              "      <th>0</th>\n",
              "      <td>3</td>\n",
              "      <td>J</td>\n",
              "      <td>YLHVLF29</td>\n",
              "    </tr>\n",
              "    <tr>\n",
              "      <th>1</th>\n",
              "      <td>4</td>\n",
              "      <td>J</td>\n",
              "      <td>SIDNEE06</td>\n",
              "    </tr>\n",
              "    <tr>\n",
              "      <th>2</th>\n",
              "      <td>5</td>\n",
              "      <td>SZ</td>\n",
              "      <td>DUSUNF64</td>\n",
              "    </tr>\n",
              "    <tr>\n",
              "      <th>3</th>\n",
              "      <td>6</td>\n",
              "      <td>UL</td>\n",
              "      <td>ENBNYK36</td>\n",
              "    </tr>\n",
              "    <tr>\n",
              "      <th>4</th>\n",
              "      <td>7</td>\n",
              "      <td>UL</td>\n",
              "      <td>PFOTXW50</td>\n",
              "    </tr>\n",
              "    <tr>\n",
              "      <th>5</th>\n",
              "      <td>8</td>\n",
              "      <td>J</td>\n",
              "      <td>MMRDLZ25</td>\n",
              "    </tr>\n",
              "    <tr>\n",
              "      <th>6</th>\n",
              "      <td>9</td>\n",
              "      <td>SZ</td>\n",
              "      <td>SKCMWG34</td>\n",
              "    </tr>\n",
              "    <tr>\n",
              "      <th>7</th>\n",
              "      <td>10</td>\n",
              "      <td>UL</td>\n",
              "      <td>VUKMBG65</td>\n",
              "    </tr>\n",
              "    <tr>\n",
              "      <th>8</th>\n",
              "      <td>11</td>\n",
              "      <td>SZ</td>\n",
              "      <td>NCGJMG03</td>\n",
              "    </tr>\n",
              "    <tr>\n",
              "      <th>9</th>\n",
              "      <td>12</td>\n",
              "      <td>SZ</td>\n",
              "      <td>LZQSRL48</td>\n",
              "    </tr>\n",
              "  </tbody>\n",
              "</table>\n",
              "</div>"
            ],
            "text/plain": [
              "   ugyfel_id igazolvanytipus_id igazolvanyszam\n",
              "0          3                  J       YLHVLF29\n",
              "1          4                  J       SIDNEE06\n",
              "2          5                 SZ       DUSUNF64\n",
              "3          6                 UL       ENBNYK36\n",
              "4          7                 UL       PFOTXW50\n",
              "5          8                  J       MMRDLZ25\n",
              "6          9                 SZ       SKCMWG34\n",
              "7         10                 UL       VUKMBG65\n",
              "8         11                 SZ       NCGJMG03\n",
              "9         12                 SZ       LZQSRL48"
            ]
          },
          "metadata": {
            "tags": []
          },
          "execution_count": 108
        }
      ]
    },
    {
      "cell_type": "code",
      "metadata": {
        "scrolled": false,
        "id": "4Voj-YvV7Gqj",
        "colab_type": "code",
        "colab": {},
        "outputId": "abc03922-93f1-4a41-de6e-69641ff43629"
      },
      "source": [
        "# user_id.rename(columns={\"ugyfel_id\": \"ID\"}, inplace=True)\n",
        "user_id.head(10)"
      ],
      "execution_count": null,
      "outputs": [
        {
          "output_type": "execute_result",
          "data": {
            "text/html": [
              "<div>\n",
              "<style scoped>\n",
              "    .dataframe tbody tr th:only-of-type {\n",
              "        vertical-align: middle;\n",
              "    }\n",
              "\n",
              "    .dataframe tbody tr th {\n",
              "        vertical-align: top;\n",
              "    }\n",
              "\n",
              "    .dataframe thead th {\n",
              "        text-align: right;\n",
              "    }\n",
              "</style>\n",
              "<table border=\"1\" class=\"dataframe\">\n",
              "  <thead>\n",
              "    <tr style=\"text-align: right;\">\n",
              "      <th></th>\n",
              "      <th>ugyfel_id</th>\n",
              "      <th>igazolvanytipus_id</th>\n",
              "      <th>igazolvanyszam</th>\n",
              "    </tr>\n",
              "  </thead>\n",
              "  <tbody>\n",
              "    <tr>\n",
              "      <th>0</th>\n",
              "      <td>1</td>\n",
              "      <td>SZ</td>\n",
              "      <td>NCGJMG03</td>\n",
              "    </tr>\n",
              "    <tr>\n",
              "      <th>1</th>\n",
              "      <td>2</td>\n",
              "      <td>SZ</td>\n",
              "      <td>LZQSRL48</td>\n",
              "    </tr>\n",
              "    <tr>\n",
              "      <th>2</th>\n",
              "      <td>3</td>\n",
              "      <td>J</td>\n",
              "      <td>YLHVLF29</td>\n",
              "    </tr>\n",
              "    <tr>\n",
              "      <th>3</th>\n",
              "      <td>4</td>\n",
              "      <td>J</td>\n",
              "      <td>SIDNEE06</td>\n",
              "    </tr>\n",
              "    <tr>\n",
              "      <th>4</th>\n",
              "      <td>5</td>\n",
              "      <td>SZ</td>\n",
              "      <td>DUSUNF64</td>\n",
              "    </tr>\n",
              "    <tr>\n",
              "      <th>5</th>\n",
              "      <td>6</td>\n",
              "      <td>UL</td>\n",
              "      <td>ENBNYK36</td>\n",
              "    </tr>\n",
              "    <tr>\n",
              "      <th>6</th>\n",
              "      <td>7</td>\n",
              "      <td>UL</td>\n",
              "      <td>PFOTXW50</td>\n",
              "    </tr>\n",
              "    <tr>\n",
              "      <th>7</th>\n",
              "      <td>8</td>\n",
              "      <td>J</td>\n",
              "      <td>MMRDLZ25</td>\n",
              "    </tr>\n",
              "    <tr>\n",
              "      <th>8</th>\n",
              "      <td>9</td>\n",
              "      <td>SZ</td>\n",
              "      <td>SKCMWG34</td>\n",
              "    </tr>\n",
              "    <tr>\n",
              "      <th>9</th>\n",
              "      <td>10</td>\n",
              "      <td>UL</td>\n",
              "      <td>VUKMBG65</td>\n",
              "    </tr>\n",
              "  </tbody>\n",
              "</table>\n",
              "</div>"
            ],
            "text/plain": [
              "   ugyfel_id igazolvanytipus_id igazolvanyszam\n",
              "0          1                 SZ       NCGJMG03\n",
              "1          2                 SZ       LZQSRL48\n",
              "2          3                  J       YLHVLF29\n",
              "3          4                  J       SIDNEE06\n",
              "4          5                 SZ       DUSUNF64\n",
              "5          6                 UL       ENBNYK36\n",
              "6          7                 UL       PFOTXW50\n",
              "7          8                  J       MMRDLZ25\n",
              "8          9                 SZ       SKCMWG34\n",
              "9         10                 UL       VUKMBG65"
            ]
          },
          "metadata": {
            "tags": []
          },
          "execution_count": 95
        }
      ]
    },
    {
      "cell_type": "markdown",
      "metadata": {
        "id": "5rGJac8b7Gql",
        "colab_type": "text"
      },
      "source": [
        "---\n",
        "\n",
        "## Két forrás tartalmának összekapcsolása 1.\n",
        "\n",
        "Kapcsolás az `ugyfel_id` kulcs mező szerint történik\n",
        "\n",
        "---"
      ]
    },
    {
      "cell_type": "code",
      "metadata": {
        "scrolled": true,
        "id": "PT3UIztr7Gqm",
        "colab_type": "code",
        "colab": {},
        "outputId": "d6bb6732-b06b-4ed6-b9eb-ccb4a55cc45e"
      },
      "source": [
        "result = pd.merge(user_1,\n",
        "                 user_2[['ugyfel_id', 'igazolvanyszam']], ## hozzáfűzési mezők, az első a kulcs mező\n",
        "                 on='ugyfel_id',                          ## kulcs mező a kapcsoláshoz (azonos nevüek legyenek)\n",
        "                 how='left',                              ## Kapcsolat módja (left, right, outer, inner)\n",
        "                 indicator=True                           ## jelző újmezőben megjelenítése                   \n",
        "                 )\n",
        "result.head(10)"
      ],
      "execution_count": null,
      "outputs": [
        {
          "output_type": "execute_result",
          "data": {
            "text/html": [
              "<div>\n",
              "<style scoped>\n",
              "    .dataframe tbody tr th:only-of-type {\n",
              "        vertical-align: middle;\n",
              "    }\n",
              "\n",
              "    .dataframe tbody tr th {\n",
              "        vertical-align: top;\n",
              "    }\n",
              "\n",
              "    .dataframe thead th {\n",
              "        text-align: right;\n",
              "    }\n",
              "</style>\n",
              "<table border=\"1\" class=\"dataframe\">\n",
              "  <thead>\n",
              "    <tr style=\"text-align: right;\">\n",
              "      <th></th>\n",
              "      <th>ugyfel_id</th>\n",
              "      <th>vnev</th>\n",
              "      <th>knev</th>\n",
              "      <th>szdatum</th>\n",
              "      <th>nem</th>\n",
              "      <th>igazolvanyszam</th>\n",
              "      <th>_merge</th>\n",
              "    </tr>\n",
              "  </thead>\n",
              "  <tbody>\n",
              "    <tr>\n",
              "      <th>0</th>\n",
              "      <td>1</td>\n",
              "      <td>Walter</td>\n",
              "      <td>Gwendolyn</td>\n",
              "      <td>1954-07-10</td>\n",
              "      <td>M</td>\n",
              "      <td>NaN</td>\n",
              "      <td>left_only</td>\n",
              "    </tr>\n",
              "    <tr>\n",
              "      <th>1</th>\n",
              "      <td>2</td>\n",
              "      <td>Armstrong</td>\n",
              "      <td>Kieran</td>\n",
              "      <td>1932-02-24</td>\n",
              "      <td>M</td>\n",
              "      <td>NaN</td>\n",
              "      <td>left_only</td>\n",
              "    </tr>\n",
              "    <tr>\n",
              "      <th>2</th>\n",
              "      <td>3</td>\n",
              "      <td>Kline</td>\n",
              "      <td>Silas</td>\n",
              "      <td>1938-07-16</td>\n",
              "      <td>M</td>\n",
              "      <td>YLHVLF29</td>\n",
              "      <td>both</td>\n",
              "    </tr>\n",
              "    <tr>\n",
              "      <th>3</th>\n",
              "      <td>4</td>\n",
              "      <td>Gallagher</td>\n",
              "      <td>Rhoda</td>\n",
              "      <td>1972-10-28</td>\n",
              "      <td>M</td>\n",
              "      <td>SIDNEE06</td>\n",
              "      <td>both</td>\n",
              "    </tr>\n",
              "    <tr>\n",
              "      <th>4</th>\n",
              "      <td>5</td>\n",
              "      <td>Gallagher</td>\n",
              "      <td>Robin</td>\n",
              "      <td>1940-02-02</td>\n",
              "      <td>M</td>\n",
              "      <td>DUSUNF64</td>\n",
              "      <td>both</td>\n",
              "    </tr>\n",
              "    <tr>\n",
              "      <th>5</th>\n",
              "      <td>6</td>\n",
              "      <td>Frank</td>\n",
              "      <td>Blair</td>\n",
              "      <td>1977-12-19</td>\n",
              "      <td>M</td>\n",
              "      <td>ENBNYK36</td>\n",
              "      <td>both</td>\n",
              "    </tr>\n",
              "    <tr>\n",
              "      <th>6</th>\n",
              "      <td>7</td>\n",
              "      <td>Cash</td>\n",
              "      <td>Vaughan</td>\n",
              "      <td>1989-04-06</td>\n",
              "      <td>M</td>\n",
              "      <td>PFOTXW50</td>\n",
              "      <td>both</td>\n",
              "    </tr>\n",
              "    <tr>\n",
              "      <th>7</th>\n",
              "      <td>8</td>\n",
              "      <td>Shields</td>\n",
              "      <td>Charissa</td>\n",
              "      <td>1926-03-25</td>\n",
              "      <td>F</td>\n",
              "      <td>MMRDLZ25</td>\n",
              "      <td>both</td>\n",
              "    </tr>\n",
              "    <tr>\n",
              "      <th>8</th>\n",
              "      <td>9</td>\n",
              "      <td>Brown</td>\n",
              "      <td>Inga</td>\n",
              "      <td>1942-04-18</td>\n",
              "      <td>F</td>\n",
              "      <td>SKCMWG34</td>\n",
              "      <td>both</td>\n",
              "    </tr>\n",
              "    <tr>\n",
              "      <th>9</th>\n",
              "      <td>10</td>\n",
              "      <td>Crawford</td>\n",
              "      <td>Glenna</td>\n",
              "      <td>1969-05-14</td>\n",
              "      <td>F</td>\n",
              "      <td>VUKMBG65</td>\n",
              "      <td>both</td>\n",
              "    </tr>\n",
              "  </tbody>\n",
              "</table>\n",
              "</div>"
            ],
            "text/plain": [
              "   ugyfel_id       vnev       knev     szdatum nem igazolvanyszam     _merge\n",
              "0          1     Walter  Gwendolyn  1954-07-10   M            NaN  left_only\n",
              "1          2  Armstrong     Kieran  1932-02-24   M            NaN  left_only\n",
              "2          3      Kline      Silas  1938-07-16   M       YLHVLF29       both\n",
              "3          4  Gallagher      Rhoda  1972-10-28   M       SIDNEE06       both\n",
              "4          5  Gallagher      Robin  1940-02-02   M       DUSUNF64       both\n",
              "5          6      Frank      Blair  1977-12-19   M       ENBNYK36       both\n",
              "6          7       Cash    Vaughan  1989-04-06   M       PFOTXW50       both\n",
              "7          8    Shields   Charissa  1926-03-25   F       MMRDLZ25       both\n",
              "8          9      Brown       Inga  1942-04-18   F       SKCMWG34       both\n",
              "9         10   Crawford     Glenna  1969-05-14   F       VUKMBG65       both"
            ]
          },
          "metadata": {
            "tags": []
          },
          "execution_count": 98
        }
      ]
    },
    {
      "cell_type": "markdown",
      "metadata": {
        "id": "AeOl8MtI7Gqp",
        "colab_type": "text"
      },
      "source": [
        "Nézzük egy érték vizsgálatot."
      ]
    },
    {
      "cell_type": "code",
      "metadata": {
        "scrolled": true,
        "id": "ZmNJj3Au7Gqp",
        "colab_type": "code",
        "colab": {},
        "outputId": "93333efd-3235-43fa-cbde-e0bd204e9a83"
      },
      "source": [
        "print(\"user_1 shape: {}\".format(user_1.shape))\n",
        "print(\"user_2 shape: {}\".format(user_2.shape))\n"
      ],
      "execution_count": null,
      "outputs": [
        {
          "output_type": "stream",
          "text": [
            "user_1 dimensions: (10, 5)\n",
            "user_2 dimensions: (10, 3)\n"
          ],
          "name": "stdout"
        }
      ]
    },
    {
      "cell_type": "code",
      "metadata": {
        "scrolled": true,
        "id": "-wr3w4AR7Gqs",
        "colab_type": "code",
        "colab": {},
        "outputId": "013232f5-7317-4c6d-e6fa-85c736557e38"
      },
      "source": [
        "# Azonositó benn foglalás ellenőrzése\n",
        "user_1['ugyfel_id'].isin(user_2['ugyfel_id']).value_counts()"
      ],
      "execution_count": null,
      "outputs": [
        {
          "output_type": "execute_result",
          "data": {
            "text/plain": [
              "True     8\n",
              "False    2\n",
              "Name: ugyfel_id, dtype: int64"
            ]
          },
          "metadata": {
            "tags": []
          },
          "execution_count": 90
        }
      ]
    },
    {
      "cell_type": "markdown",
      "metadata": {
        "id": "VMiUwt_h7Gqu",
        "colab_type": "text"
      },
      "source": [
        "---\n",
        "\n",
        "## Két forrás tartalmának összekapcsolása 2.\n",
        "\n",
        "Kapcsolás az `ugyfel_id` kulcs mező szerint történik, de itt korréten megadjuk a kapcsolódo mezők nevét.\n",
        "\n",
        "---"
      ]
    },
    {
      "cell_type": "code",
      "metadata": {
        "id": "CiHjhXTF7Gqu",
        "colab_type": "code",
        "colab": {},
        "outputId": "bb5f2d9e-12cf-465e-b381-2d2313c52962"
      },
      "source": [
        "result = pd.merge(user_1,\n",
        "                 user_2[['igazolvanytipus_id', 'ugyfel_id']], ## hozzáfűzési mezők // nem szerepel az első a kulcs mező\n",
        "                 left_on='ugyfel_id', right_on='ugyfel_id',   ## kulcs mezők konkrét megadása a kapcsoláshoz (eltérő nevüek)\n",
        "                 how='outer',                                 ## Kapcsolat módja left\n",
        "                 indicator=True                               ## jelző újmezőben megjelenítése                   \n",
        "                 )\n",
        "result.head(12)                                               ## első 12 sor megjelenítése (most összesen ennyi van)"
      ],
      "execution_count": null,
      "outputs": [
        {
          "output_type": "execute_result",
          "data": {
            "text/html": [
              "<div>\n",
              "<style scoped>\n",
              "    .dataframe tbody tr th:only-of-type {\n",
              "        vertical-align: middle;\n",
              "    }\n",
              "\n",
              "    .dataframe tbody tr th {\n",
              "        vertical-align: top;\n",
              "    }\n",
              "\n",
              "    .dataframe thead th {\n",
              "        text-align: right;\n",
              "    }\n",
              "</style>\n",
              "<table border=\"1\" class=\"dataframe\">\n",
              "  <thead>\n",
              "    <tr style=\"text-align: right;\">\n",
              "      <th></th>\n",
              "      <th>ugyfel_id</th>\n",
              "      <th>vnev</th>\n",
              "      <th>knev</th>\n",
              "      <th>szdatum</th>\n",
              "      <th>nem</th>\n",
              "      <th>igazolvanytipus_id</th>\n",
              "      <th>_merge</th>\n",
              "    </tr>\n",
              "  </thead>\n",
              "  <tbody>\n",
              "    <tr>\n",
              "      <th>0</th>\n",
              "      <td>1</td>\n",
              "      <td>Walter</td>\n",
              "      <td>Gwendolyn</td>\n",
              "      <td>1954-07-10</td>\n",
              "      <td>M</td>\n",
              "      <td>NaN</td>\n",
              "      <td>left_only</td>\n",
              "    </tr>\n",
              "    <tr>\n",
              "      <th>1</th>\n",
              "      <td>2</td>\n",
              "      <td>Armstrong</td>\n",
              "      <td>Kieran</td>\n",
              "      <td>1932-02-24</td>\n",
              "      <td>M</td>\n",
              "      <td>NaN</td>\n",
              "      <td>left_only</td>\n",
              "    </tr>\n",
              "    <tr>\n",
              "      <th>2</th>\n",
              "      <td>3</td>\n",
              "      <td>Kline</td>\n",
              "      <td>Silas</td>\n",
              "      <td>1938-07-16</td>\n",
              "      <td>M</td>\n",
              "      <td>J</td>\n",
              "      <td>both</td>\n",
              "    </tr>\n",
              "    <tr>\n",
              "      <th>3</th>\n",
              "      <td>4</td>\n",
              "      <td>Gallagher</td>\n",
              "      <td>Rhoda</td>\n",
              "      <td>1972-10-28</td>\n",
              "      <td>M</td>\n",
              "      <td>J</td>\n",
              "      <td>both</td>\n",
              "    </tr>\n",
              "    <tr>\n",
              "      <th>4</th>\n",
              "      <td>5</td>\n",
              "      <td>Gallagher</td>\n",
              "      <td>Robin</td>\n",
              "      <td>1940-02-02</td>\n",
              "      <td>M</td>\n",
              "      <td>SZ</td>\n",
              "      <td>both</td>\n",
              "    </tr>\n",
              "    <tr>\n",
              "      <th>5</th>\n",
              "      <td>6</td>\n",
              "      <td>Frank</td>\n",
              "      <td>Blair</td>\n",
              "      <td>1977-12-19</td>\n",
              "      <td>M</td>\n",
              "      <td>UL</td>\n",
              "      <td>both</td>\n",
              "    </tr>\n",
              "    <tr>\n",
              "      <th>6</th>\n",
              "      <td>7</td>\n",
              "      <td>Cash</td>\n",
              "      <td>Vaughan</td>\n",
              "      <td>1989-04-06</td>\n",
              "      <td>M</td>\n",
              "      <td>UL</td>\n",
              "      <td>both</td>\n",
              "    </tr>\n",
              "    <tr>\n",
              "      <th>7</th>\n",
              "      <td>8</td>\n",
              "      <td>Shields</td>\n",
              "      <td>Charissa</td>\n",
              "      <td>1926-03-25</td>\n",
              "      <td>F</td>\n",
              "      <td>J</td>\n",
              "      <td>both</td>\n",
              "    </tr>\n",
              "    <tr>\n",
              "      <th>8</th>\n",
              "      <td>9</td>\n",
              "      <td>Brown</td>\n",
              "      <td>Inga</td>\n",
              "      <td>1942-04-18</td>\n",
              "      <td>F</td>\n",
              "      <td>SZ</td>\n",
              "      <td>both</td>\n",
              "    </tr>\n",
              "    <tr>\n",
              "      <th>9</th>\n",
              "      <td>10</td>\n",
              "      <td>Crawford</td>\n",
              "      <td>Glenna</td>\n",
              "      <td>1969-05-14</td>\n",
              "      <td>F</td>\n",
              "      <td>UL</td>\n",
              "      <td>both</td>\n",
              "    </tr>\n",
              "    <tr>\n",
              "      <th>10</th>\n",
              "      <td>11</td>\n",
              "      <td>NaN</td>\n",
              "      <td>NaN</td>\n",
              "      <td>NaN</td>\n",
              "      <td>NaN</td>\n",
              "      <td>SZ</td>\n",
              "      <td>right_only</td>\n",
              "    </tr>\n",
              "    <tr>\n",
              "      <th>11</th>\n",
              "      <td>12</td>\n",
              "      <td>NaN</td>\n",
              "      <td>NaN</td>\n",
              "      <td>NaN</td>\n",
              "      <td>NaN</td>\n",
              "      <td>SZ</td>\n",
              "      <td>right_only</td>\n",
              "    </tr>\n",
              "  </tbody>\n",
              "</table>\n",
              "</div>"
            ],
            "text/plain": [
              "    ugyfel_id       vnev       knev     szdatum  nem igazolvanytipus_id  \\\n",
              "0           1     Walter  Gwendolyn  1954-07-10    M                NaN   \n",
              "1           2  Armstrong     Kieran  1932-02-24    M                NaN   \n",
              "2           3      Kline      Silas  1938-07-16    M                  J   \n",
              "3           4  Gallagher      Rhoda  1972-10-28    M                  J   \n",
              "4           5  Gallagher      Robin  1940-02-02    M                 SZ   \n",
              "5           6      Frank      Blair  1977-12-19    M                 UL   \n",
              "6           7       Cash    Vaughan  1989-04-06    M                 UL   \n",
              "7           8    Shields   Charissa  1926-03-25    F                  J   \n",
              "8           9      Brown       Inga  1942-04-18    F                 SZ   \n",
              "9          10   Crawford     Glenna  1969-05-14    F                 UL   \n",
              "10         11        NaN        NaN         NaN  NaN                 SZ   \n",
              "11         12        NaN        NaN         NaN  NaN                 SZ   \n",
              "\n",
              "        _merge  \n",
              "0    left_only  \n",
              "1    left_only  \n",
              "2         both  \n",
              "3         both  \n",
              "4         both  \n",
              "5         both  \n",
              "6         both  \n",
              "7         both  \n",
              "8         both  \n",
              "9         both  \n",
              "10  right_only  \n",
              "11  right_only  "
            ]
          },
          "metadata": {
            "tags": []
          },
          "execution_count": 125
        }
      ]
    },
    {
      "cell_type": "markdown",
      "metadata": {
        "id": "gJN7rVKD7Gqw",
        "colab_type": "text"
      },
      "source": [
        "---\n",
        "## Adatszámlálások\n",
        "\n",
        "\n",
        "---\n"
      ]
    },
    {
      "cell_type": "code",
      "metadata": {
        "scrolled": false,
        "id": "G8drG8WA7Gqx",
        "colab_type": "code",
        "colab": {},
        "outputId": "ac9d1c69-e375-46e5-8eb7-722c30b09e33"
      },
      "source": [
        "print(\"Összesen van {} sorunk, amelyben nem szerepel egy oszlopban sem nulla.\".format(\n",
        "    (result.apply(lambda x: x.isnull().sum(), axis=1) == 0).sum()))\n",
        "print(\"Hiányzó adat {} szor fordul elő az 'igazolvanytipus_id' mezőben.\".format(\n",
        "        result['igazolvanytipus_id'].isnull().sum()))"
      ],
      "execution_count": null,
      "outputs": [
        {
          "output_type": "stream",
          "text": [
            "Összesen van 8 sorunk, amelyben nem szerepel egy oszlopban sem nulla.\n",
            "Hiányzó adat 2 szor fordul elő az 'igazolvanytipus_id' mezőben.\n"
          ],
          "name": "stdout"
        }
      ]
    },
    {
      "cell_type": "markdown",
      "metadata": {
        "id": "m0BEHADb7Gqz",
        "colab_type": "text"
      },
      "source": [
        "---\n",
        "\n",
        "## A szűrések\n",
        "\n",
        "---\n"
      ]
    },
    {
      "cell_type": "code",
      "metadata": {
        "id": "lkj_bAZn7Gqz",
        "colab_type": "code",
        "colab": {},
        "outputId": "c1071b2b-a2c0-4142-c16b-4b8214cb7617"
      },
      "source": [
        "user_1[user_1.nem == 'F'] ## Nők megjelenitése csak azok amelyek a nem mezőben F -et tartalmaznak"
      ],
      "execution_count": null,
      "outputs": [
        {
          "output_type": "execute_result",
          "data": {
            "text/html": [
              "<div>\n",
              "<style scoped>\n",
              "    .dataframe tbody tr th:only-of-type {\n",
              "        vertical-align: middle;\n",
              "    }\n",
              "\n",
              "    .dataframe tbody tr th {\n",
              "        vertical-align: top;\n",
              "    }\n",
              "\n",
              "    .dataframe thead th {\n",
              "        text-align: right;\n",
              "    }\n",
              "</style>\n",
              "<table border=\"1\" class=\"dataframe\">\n",
              "  <thead>\n",
              "    <tr style=\"text-align: right;\">\n",
              "      <th></th>\n",
              "      <th>ugyfel_id</th>\n",
              "      <th>vnev</th>\n",
              "      <th>knev</th>\n",
              "      <th>szdatum</th>\n",
              "      <th>nem</th>\n",
              "    </tr>\n",
              "  </thead>\n",
              "  <tbody>\n",
              "    <tr>\n",
              "      <th>7</th>\n",
              "      <td>8</td>\n",
              "      <td>Shields</td>\n",
              "      <td>Charissa</td>\n",
              "      <td>1926-03-25</td>\n",
              "      <td>F</td>\n",
              "    </tr>\n",
              "    <tr>\n",
              "      <th>8</th>\n",
              "      <td>9</td>\n",
              "      <td>Brown</td>\n",
              "      <td>Inga</td>\n",
              "      <td>1942-04-18</td>\n",
              "      <td>F</td>\n",
              "    </tr>\n",
              "    <tr>\n",
              "      <th>9</th>\n",
              "      <td>10</td>\n",
              "      <td>Crawford</td>\n",
              "      <td>Glenna</td>\n",
              "      <td>1969-05-14</td>\n",
              "      <td>F</td>\n",
              "    </tr>\n",
              "  </tbody>\n",
              "</table>\n",
              "</div>"
            ],
            "text/plain": [
              "   ugyfel_id      vnev      knev     szdatum nem\n",
              "7          8   Shields  Charissa  1926-03-25   F\n",
              "8          9     Brown      Inga  1942-04-18   F\n",
              "9         10  Crawford    Glenna  1969-05-14   F"
            ]
          },
          "metadata": {
            "tags": []
          },
          "execution_count": 115
        }
      ]
    },
    {
      "cell_type": "code",
      "metadata": {
        "id": "85V9fozp7Gq2",
        "colab_type": "code",
        "colab": {},
        "outputId": "fb42baf5-3331-4d5c-d1fb-03928d74224c"
      },
      "source": [
        "user_1[user_1.vnev.str.startswith('Ga')]  ## Ga vnev kezdettel rendelkezők listázása"
      ],
      "execution_count": null,
      "outputs": [
        {
          "output_type": "execute_result",
          "data": {
            "text/html": [
              "<div>\n",
              "<style scoped>\n",
              "    .dataframe tbody tr th:only-of-type {\n",
              "        vertical-align: middle;\n",
              "    }\n",
              "\n",
              "    .dataframe tbody tr th {\n",
              "        vertical-align: top;\n",
              "    }\n",
              "\n",
              "    .dataframe thead th {\n",
              "        text-align: right;\n",
              "    }\n",
              "</style>\n",
              "<table border=\"1\" class=\"dataframe\">\n",
              "  <thead>\n",
              "    <tr style=\"text-align: right;\">\n",
              "      <th></th>\n",
              "      <th>ugyfel_id</th>\n",
              "      <th>vnev</th>\n",
              "      <th>knev</th>\n",
              "      <th>szdatum</th>\n",
              "      <th>nem</th>\n",
              "    </tr>\n",
              "  </thead>\n",
              "  <tbody>\n",
              "    <tr>\n",
              "      <th>3</th>\n",
              "      <td>4</td>\n",
              "      <td>Gallagher</td>\n",
              "      <td>Rhoda</td>\n",
              "      <td>1972-10-28</td>\n",
              "      <td>M</td>\n",
              "    </tr>\n",
              "    <tr>\n",
              "      <th>4</th>\n",
              "      <td>5</td>\n",
              "      <td>Gallagher</td>\n",
              "      <td>Robin</td>\n",
              "      <td>1940-02-02</td>\n",
              "      <td>M</td>\n",
              "    </tr>\n",
              "  </tbody>\n",
              "</table>\n",
              "</div>"
            ],
            "text/plain": [
              "   ugyfel_id       vnev   knev     szdatum nem\n",
              "3          4  Gallagher  Rhoda  1972-10-28   M\n",
              "4          5  Gallagher  Robin  1940-02-02   M"
            ]
          },
          "metadata": {
            "tags": []
          },
          "execution_count": 117
        }
      ]
    },
    {
      "cell_type": "markdown",
      "metadata": {
        "id": "HVIPUoY67Gq5",
        "colab_type": "text"
      },
      "source": [
        "---\n",
        "\n",
        "## Statisztikai függvények használata\n",
        "\n",
        "---"
      ]
    },
    {
      "cell_type": "code",
      "metadata": {
        "id": "YY1oaU-q7Gq5",
        "colab_type": "code",
        "colab": {},
        "outputId": "786df18b-1e18-4b0b-da98-ddd81fe6983f"
      },
      "source": [
        "## Hányan vannak a nők és a férfiak és milyen idősek a legfiatalabbak\n",
        "user_1.groupby(\"nem\").agg({\n",
        "        \"szdatum\": \"min\",  ## mean, max, ..\n",
        "        \"knev\": \"count\"\n",
        "    })"
      ],
      "execution_count": null,
      "outputs": [
        {
          "output_type": "execute_result",
          "data": {
            "text/html": [
              "<div>\n",
              "<style scoped>\n",
              "    .dataframe tbody tr th:only-of-type {\n",
              "        vertical-align: middle;\n",
              "    }\n",
              "\n",
              "    .dataframe tbody tr th {\n",
              "        vertical-align: top;\n",
              "    }\n",
              "\n",
              "    .dataframe thead th {\n",
              "        text-align: right;\n",
              "    }\n",
              "</style>\n",
              "<table border=\"1\" class=\"dataframe\">\n",
              "  <thead>\n",
              "    <tr style=\"text-align: right;\">\n",
              "      <th></th>\n",
              "      <th>szdatum</th>\n",
              "      <th>knev</th>\n",
              "    </tr>\n",
              "    <tr>\n",
              "      <th>nem</th>\n",
              "      <th></th>\n",
              "      <th></th>\n",
              "    </tr>\n",
              "  </thead>\n",
              "  <tbody>\n",
              "    <tr>\n",
              "      <th>F</th>\n",
              "      <td>1926-03-25</td>\n",
              "      <td>3</td>\n",
              "    </tr>\n",
              "    <tr>\n",
              "      <th>M</th>\n",
              "      <td>1932-02-24</td>\n",
              "      <td>7</td>\n",
              "    </tr>\n",
              "  </tbody>\n",
              "</table>\n",
              "</div>"
            ],
            "text/plain": [
              "        szdatum  knev\n",
              "nem                  \n",
              "F    1926-03-25     3\n",
              "M    1932-02-24     7"
            ]
          },
          "metadata": {
            "tags": []
          },
          "execution_count": 124
        }
      ]
    },
    {
      "cell_type": "markdown",
      "metadata": {
        "id": "4otLR1DI7Gq7",
        "colab_type": "text"
      },
      "source": [
        "---\n",
        "\n",
        "## SQL és Pandas szintaktika összevetése\n",
        "\n",
        "\n",
        "\n",
        "\n",
        "---"
      ]
    },
    {
      "cell_type": "code",
      "metadata": {
        "id": "aks6AXwA7Gq7",
        "colab_type": "code",
        "colab": {}
      },
      "source": [
        "import time\n",
        "import numpy as np\n",
        "import pandas as pd\n",
        "import matplotlib.pyplot as plt\n",
        "import sqlite3\n",
        "import numpy as np\n",
        "\n",
        "\n",
        "##------------------------------- SQL alapok (SqLite)\n",
        "\n",
        "sqlite_alapok = r\"\"\"\n",
        "conn = sqlite3.connect(r\"c:\\Users\\u23442\\kl\\sqlite\\minta.db\")\n",
        "\n",
        "## Tábla létrehozás, ha még nem létezik\n",
        "conn.execute(\"create table if not exists  user (name text, age integer)\")\n",
        "\n",
        " \n",
        "\n",
        "## Beírás kurzoron keresztül\n",
        "c = conn.cursor()\n",
        "c.execute(\"INSERT INTO user VALUES ('User A', 42)\")\n",
        "c.execute(\"INSERT INTO user VALUES ('User B', 43)\")\n",
        " \n",
        "\n",
        "## Csoportos beírás\n",
        "L = [('abcd_dfj', 300),\n",
        "     ('cfgd_dyfj', 400),\n",
        "     ('sdd_dfjh', 305)]\n",
        "\n",
        "conn.executemany(\"insert into user values (?, ?)\", L)\n",
        " \n",
        "\n",
        "## Véglegesítés\n",
        "conn.commit()\n",
        "\n",
        " \n",
        "\n",
        "c.execute(\"SELECT * FROM user\")\n",
        "print('KIIRAS : ',c.fetchall()) ## KIIRAS :  [('User A', 42), ('User B', 43)..\n",
        "\n",
        " \n",
        "\n",
        "rows = c.execute(\"select * from user\")\n",
        "for row in rows:\n",
        "    print('Nevek : ',row[0]),  ## Nevek :  cfgd_dyfj\n",
        "\n",
        " \n",
        "for row in conn.execute(\"select * from user\"):\n",
        "    print('SOR : ',row)       ## SOR :  ('User A', 42)\n",
        "    \n",
        "## Kapcsolat bezárása\n",
        "conn.close()\n",
        "\n",
        " \n",
        "\n",
        "# ----------------------  Pandas\n",
        "\n",
        "\n",
        "## pandas állományba írás\n",
        "d = {'a': (1, 2, 101), 'b': (2, 2, 202), 'c': (3, 3, 303.123456789),'e': (3,2, 203),'f': (3, 3,103),'g': (2, 1,303)}\n",
        "df=pd.DataFrame.from_dict(d, orient=\"index\")\n",
        "df.to_csv(\"data.csv\")\n",
        " \n",
        "\n",
        "## pandas állományból olvasás\n",
        "df = pd.read_csv(\"data.csv\")\n",
        "d = df.to_dict()\n",
        "print('Eredeti : ', df)\n",
        " \n",
        "\n",
        "## mező átnevezés       / sql: select mezo as ujmezo\n",
        "df.columns = ['col2',  'col3', 'col4']\n",
        "print('Átnevezett : ', df)\n",
        " \n",
        "\n",
        "## egyediek kiválasztása / sql: select distinct\n",
        "np.unique(df['col2'])\n",
        "print('Egyedi : ', np.unique(df['col2']))\n",
        " \n",
        "\n",
        "## dátumtra alakítás   / sql: select CAST(col1 AS DATE) AS col2\n",
        "print('Datumra alakítva : ', pd.to_datetime(df['col4']))\n",
        " \n",
        "\n",
        "## tipzedes pontosság változtatása / select CAST(col1 AS DECIMAL(15,4))\n",
        "df['col4'] = df['col4'].round(4)\n",
        "print('Átnevezett : ', df)\n",
        " \n",
        "\n",
        "## szűrés rekordsorszám és mező sorszám alapján\n",
        "szurt = df.iloc[0:3, 0:1]  ## első három sor kiválasztása és csak a col2 oszlop\n",
        "szurt.to_csv('my.output.csv', index = 0)  ## fejlécsor kihagyása kiíráskor\n",
        "print('Szűrt : ', szurt)\n",
        " \n",
        "\n",
        "## első pár sor  / sql:SELECT TOP 10\n",
        "print('Csak az első három sor : ', df.head(3))\n",
        "\n",
        "\n",
        "## csoportosított összeadás / sql: SELECT col1, col2 ,COUNT(*), agv(mezo)\n",
        "print('összegzés : ',df.groupby(['col2']).agg({'col4':[np.size, np.mean]}))\n",
        "\n",
        "\n",
        "## /sql: ROW_NUMBER() OVER (PARTITION BY col2, col3 ORDER BY col4 ASC) AS rn\n",
        "df2 = df.assign(rn=df.sort_values(['col4'], ascending=True).groupby(['col2','col3']).cumcount() + 1)\n",
        "print('Kiválasztási lista : ', df2)\n",
        "\n",
        " \n",
        "\n",
        "## / sql: SELECT * FROM (SELECT t.*, ROW_NUMBER() OVER(PARTITION BY day ORDER BY total_bill DESC) AS rn WHERE rn < 3 ORDER BY day, rn;\n",
        "df2 = df.assign(rn=df.sort_values(['col4'], ascending=False).groupby(['col3']).cumcount() + 1).query('rn < 3').sort_values(['col2','rn'])\n",
        "print('Kiválasztási lista2 : ', df2)\n",
        "\n",
        "\n",
        "## ---------------  sűrések\n",
        " \n",
        "/sql: UNION ALL            \n",
        "pd.concat([df1, df2])\n",
        "\n",
        "\n",
        "/sql: UNION       \n",
        "pd.concat([df1, df2]).drop_duplicates()\n",
        "\n",
        "\"\"\"\n",
        "\n",
        " \n",
        "\n",
        "#st = ['foo', 'foobar', 'baz', 'qux','python', 'Guido Van Rossum'] * 10000\n",
        "\n",
        "# print('st0 : ',st)          \n",
        "\n",
        " \n",
        "\n",
        "kl_segito=\"\"\"\n",
        "## Minta keresés tartalmazás\n",
        "%time st1 = [x for x in st if x.startswith('foo')]\n",
        "%time st2 = [x for x in st if x[:3] == 'foo']\n",
        "%timeit [x for x in st if x.startswith('foo')]\n",
        "%timeit [x for x in st if x[:3] == 'foo']\n",
        "#print('st1 : ',st1) \n",
        "#print('st2 : ',st2) \n",
        "#----\n",
        "\n",
        " \n",
        "\n",
        "import some_lib\n",
        "reload(some_lib)  ## megváltozott modul újra olvasása, friseb verzió betöltés kierőszakolása\n",
        "\n",
        " \n",
        " \n",
        "\n",
        "class Message:\n",
        "    def __init__(self, msg):\n",
        "        self.msg = msg\n",
        "    def __repr__(self):\n",
        "        return 'Visszamondom neked : %s' % self.msg\n",
        "\n",
        "x = Message('Mond vissza, kérlek.')\n",
        "print(x)\n",
        "\n",
        " \n",
        "\n",
        "## ------------------ numpy\n",
        "\n",
        "data = ([[ 0.9526, -0.246 , -0.8856],[ 0.5639, 0.2379, 0.9104]])\n",
        "data2= np.array(data)\n",
        "print(data2.shape)\n",
        "\n",
        " \n",
        "\n",
        "kl=np.empty((2, 3, 2))\n",
        "print(kl)\n",
        "\n",
        " \n",
        "\n",
        "kl = np.array([[1., 2., 3.], [4., 5., 6.]])\n",
        "kl = kl*kl\n",
        "print(kl)\n",
        "\"\"\"\n",
        "\n"
      ],
      "execution_count": null,
      "outputs": []
    },
    {
      "cell_type": "code",
      "metadata": {
        "id": "vHuawQET7Gq9",
        "colab_type": "code",
        "colab": {},
        "outputId": "dab6e9b8-7159-456f-8100-7594e5e79a85"
      },
      "source": [
        "import numpy as np\n",
        "import pandas as pd\n",
        "\n",
        "url = (r'https://raw.github.com/pandas-dev/pandas/master/pandas/tests/io/data/csv/tips.csv')\n",
        "tips = pd.read_csv(url)\n",
        "tips.head()\n"
      ],
      "execution_count": null,
      "outputs": [
        {
          "output_type": "execute_result",
          "data": {
            "text/html": [
              "<div>\n",
              "<style scoped>\n",
              "    .dataframe tbody tr th:only-of-type {\n",
              "        vertical-align: middle;\n",
              "    }\n",
              "\n",
              "    .dataframe tbody tr th {\n",
              "        vertical-align: top;\n",
              "    }\n",
              "\n",
              "    .dataframe thead th {\n",
              "        text-align: right;\n",
              "    }\n",
              "</style>\n",
              "<table border=\"1\" class=\"dataframe\">\n",
              "  <thead>\n",
              "    <tr style=\"text-align: right;\">\n",
              "      <th></th>\n",
              "      <th>total_bill</th>\n",
              "      <th>tip</th>\n",
              "      <th>sex</th>\n",
              "      <th>smoker</th>\n",
              "      <th>day</th>\n",
              "      <th>time</th>\n",
              "      <th>size</th>\n",
              "    </tr>\n",
              "  </thead>\n",
              "  <tbody>\n",
              "    <tr>\n",
              "      <th>0</th>\n",
              "      <td>16.99</td>\n",
              "      <td>1.01</td>\n",
              "      <td>Female</td>\n",
              "      <td>No</td>\n",
              "      <td>Sun</td>\n",
              "      <td>Dinner</td>\n",
              "      <td>2</td>\n",
              "    </tr>\n",
              "    <tr>\n",
              "      <th>1</th>\n",
              "      <td>10.34</td>\n",
              "      <td>1.66</td>\n",
              "      <td>Male</td>\n",
              "      <td>No</td>\n",
              "      <td>Sun</td>\n",
              "      <td>Dinner</td>\n",
              "      <td>3</td>\n",
              "    </tr>\n",
              "    <tr>\n",
              "      <th>2</th>\n",
              "      <td>21.01</td>\n",
              "      <td>3.50</td>\n",
              "      <td>Male</td>\n",
              "      <td>No</td>\n",
              "      <td>Sun</td>\n",
              "      <td>Dinner</td>\n",
              "      <td>3</td>\n",
              "    </tr>\n",
              "    <tr>\n",
              "      <th>3</th>\n",
              "      <td>23.68</td>\n",
              "      <td>3.31</td>\n",
              "      <td>Male</td>\n",
              "      <td>No</td>\n",
              "      <td>Sun</td>\n",
              "      <td>Dinner</td>\n",
              "      <td>2</td>\n",
              "    </tr>\n",
              "    <tr>\n",
              "      <th>4</th>\n",
              "      <td>24.59</td>\n",
              "      <td>3.61</td>\n",
              "      <td>Female</td>\n",
              "      <td>No</td>\n",
              "      <td>Sun</td>\n",
              "      <td>Dinner</td>\n",
              "      <td>4</td>\n",
              "    </tr>\n",
              "  </tbody>\n",
              "</table>\n",
              "</div>"
            ],
            "text/plain": [
              "   total_bill   tip     sex smoker  day    time  size\n",
              "0       16.99  1.01  Female     No  Sun  Dinner     2\n",
              "1       10.34  1.66    Male     No  Sun  Dinner     3\n",
              "2       21.01  3.50    Male     No  Sun  Dinner     3\n",
              "3       23.68  3.31    Male     No  Sun  Dinner     2\n",
              "4       24.59  3.61  Female     No  Sun  Dinner     4"
            ]
          },
          "metadata": {
            "tags": []
          },
          "execution_count": 12
        }
      ]
    },
    {
      "cell_type": "code",
      "metadata": {
        "id": "Hq-c00uh7Gq_",
        "colab_type": "code",
        "colab": {},
        "outputId": "28c73104-d3e7-4ba3-8c37-75aa7f74a297"
      },
      "source": [
        "## SELECT total_bill, tip, smoker, time FROM tips LIMIT 5;  # /sql =>\n",
        "print(tips[['total_bill', 'tip', 'smoker', 'time']].head(5))"
      ],
      "execution_count": null,
      "outputs": [
        {
          "output_type": "stream",
          "text": [
            "   total_bill   tip smoker    time\n",
            "0       16.99  1.01     No  Dinner\n",
            "1       10.34  1.66     No  Dinner\n",
            "2       21.01  3.50     No  Dinner\n",
            "3       23.68  3.31     No  Dinner\n",
            "4       24.59  3.61     No  Dinner\n"
          ],
          "name": "stdout"
        }
      ]
    },
    {
      "cell_type": "code",
      "metadata": {
        "id": "CvLOXahe7GrB",
        "colab_type": "code",
        "colab": {},
        "outputId": "64e44ec3-fca7-41be-c31f-bcecb1df296a"
      },
      "source": [
        "## SELECT *, tip/total_bill as szamolt FROM tips LIMIT 5;  # új számolt mezővel bővítés /sql =>\n",
        "print(tips.assign(szamolt=tips['tip'] / tips['total_bill']).head(5))"
      ],
      "execution_count": null,
      "outputs": [
        {
          "output_type": "stream",
          "text": [
            "   total_bill   tip     sex smoker  day    time  size   szamolt\n",
            "0       16.99  1.01  Female     No  Sun  Dinner     2  0.059447\n",
            "1       10.34  1.66    Male     No  Sun  Dinner     3  0.160542\n",
            "2       21.01  3.50    Male     No  Sun  Dinner     3  0.166587\n",
            "3       23.68  3.31    Male     No  Sun  Dinner     2  0.139780\n",
            "4       24.59  3.61  Female     No  Sun  Dinner     4  0.146808\n"
          ],
          "name": "stdout"
        }
      ]
    },
    {
      "cell_type": "code",
      "metadata": {
        "id": "tKfPrskG7GrD",
        "colab_type": "code",
        "colab": {},
        "outputId": "a385d032-22e2-4463-bac7-70066a83c26c"
      },
      "source": [
        "## SELECT * FROM tips WHERE size = 4  LIMIT 5;  # Szűrés /sql =>\n",
        "print(tips[tips['size'] == 4].head(5))"
      ],
      "execution_count": null,
      "outputs": [
        {
          "output_type": "stream",
          "text": [
            "    total_bill   tip     sex smoker  day    time  size\n",
            "4        24.59  3.61  Female     No  Sun  Dinner     4\n",
            "5        25.29  4.71    Male     No  Sun  Dinner     4\n",
            "7        26.88  3.12    Male     No  Sun  Dinner     4\n",
            "11       35.26  5.00  Female     No  Sun  Dinner     4\n",
            "13       18.43  3.00    Male     No  Sun  Dinner     4\n"
          ],
          "name": "stdout"
        }
      ]
    },
    {
      "cell_type": "code",
      "metadata": {
        "id": "meIdXgFw7GrG",
        "colab_type": "code",
        "colab": {},
        "outputId": "866a861d-4c51-4eb0-c89c-671a36b221f7"
      },
      "source": [
        "is_dinner = tips['time'] == 'Dinner'\n",
        "print(is_dinner.value_counts())"
      ],
      "execution_count": null,
      "outputs": [
        {
          "output_type": "stream",
          "text": [
            "True     176\n",
            "False     68\n",
            "Name: time, dtype: int64\n"
          ],
          "name": "stdout"
        }
      ]
    },
    {
      "cell_type": "code",
      "metadata": {
        "id": "8rTzJTXb7GrJ",
        "colab_type": "code",
        "colab": {},
        "outputId": "7ef748c0-696a-4643-f936-e81fbe99c190"
      },
      "source": [
        "tips[is_dinner].head(5)"
      ],
      "execution_count": null,
      "outputs": [
        {
          "output_type": "execute_result",
          "data": {
            "text/html": [
              "<div>\n",
              "<style scoped>\n",
              "    .dataframe tbody tr th:only-of-type {\n",
              "        vertical-align: middle;\n",
              "    }\n",
              "\n",
              "    .dataframe tbody tr th {\n",
              "        vertical-align: top;\n",
              "    }\n",
              "\n",
              "    .dataframe thead th {\n",
              "        text-align: right;\n",
              "    }\n",
              "</style>\n",
              "<table border=\"1\" class=\"dataframe\">\n",
              "  <thead>\n",
              "    <tr style=\"text-align: right;\">\n",
              "      <th></th>\n",
              "      <th>total_bill</th>\n",
              "      <th>tip</th>\n",
              "      <th>sex</th>\n",
              "      <th>smoker</th>\n",
              "      <th>day</th>\n",
              "      <th>time</th>\n",
              "      <th>size</th>\n",
              "    </tr>\n",
              "  </thead>\n",
              "  <tbody>\n",
              "    <tr>\n",
              "      <th>0</th>\n",
              "      <td>16.99</td>\n",
              "      <td>1.01</td>\n",
              "      <td>Female</td>\n",
              "      <td>No</td>\n",
              "      <td>Sun</td>\n",
              "      <td>Dinner</td>\n",
              "      <td>2</td>\n",
              "    </tr>\n",
              "    <tr>\n",
              "      <th>1</th>\n",
              "      <td>10.34</td>\n",
              "      <td>1.66</td>\n",
              "      <td>Male</td>\n",
              "      <td>No</td>\n",
              "      <td>Sun</td>\n",
              "      <td>Dinner</td>\n",
              "      <td>3</td>\n",
              "    </tr>\n",
              "    <tr>\n",
              "      <th>2</th>\n",
              "      <td>21.01</td>\n",
              "      <td>3.50</td>\n",
              "      <td>Male</td>\n",
              "      <td>No</td>\n",
              "      <td>Sun</td>\n",
              "      <td>Dinner</td>\n",
              "      <td>3</td>\n",
              "    </tr>\n",
              "    <tr>\n",
              "      <th>3</th>\n",
              "      <td>23.68</td>\n",
              "      <td>3.31</td>\n",
              "      <td>Male</td>\n",
              "      <td>No</td>\n",
              "      <td>Sun</td>\n",
              "      <td>Dinner</td>\n",
              "      <td>2</td>\n",
              "    </tr>\n",
              "    <tr>\n",
              "      <th>4</th>\n",
              "      <td>24.59</td>\n",
              "      <td>3.61</td>\n",
              "      <td>Female</td>\n",
              "      <td>No</td>\n",
              "      <td>Sun</td>\n",
              "      <td>Dinner</td>\n",
              "      <td>4</td>\n",
              "    </tr>\n",
              "  </tbody>\n",
              "</table>\n",
              "</div>"
            ],
            "text/plain": [
              "   total_bill   tip     sex smoker  day    time  size\n",
              "0       16.99  1.01  Female     No  Sun  Dinner     2\n",
              "1       10.34  1.66    Male     No  Sun  Dinner     3\n",
              "2       21.01  3.50    Male     No  Sun  Dinner     3\n",
              "3       23.68  3.31    Male     No  Sun  Dinner     2\n",
              "4       24.59  3.61  Female     No  Sun  Dinner     4"
            ]
          },
          "metadata": {
            "tags": []
          },
          "execution_count": 23
        }
      ]
    },
    {
      "cell_type": "code",
      "metadata": {
        "id": "z_vV8tls7GrK",
        "colab_type": "code",
        "colab": {},
        "outputId": "79c9503d-5d6b-43ba-c8a2-7983814d7126"
      },
      "source": [
        "## SELECT * FROM tips WHERE time = 'Dinner' AND tip > 5.00; # Összetett szűrés és-es & /sql =>\n",
        "print(tips[(tips['time'] == 'Dinner') & (tips['tip'] > 5.00)])\n"
      ],
      "execution_count": null,
      "outputs": [
        {
          "output_type": "stream",
          "text": [
            "     total_bill    tip     sex smoker  day    time  size\n",
            "23        39.42   7.58    Male     No  Sat  Dinner     4\n",
            "44        30.40   5.60    Male     No  Sun  Dinner     4\n",
            "47        32.40   6.00    Male     No  Sun  Dinner     4\n",
            "52        34.81   5.20  Female     No  Sun  Dinner     4\n",
            "59        48.27   6.73    Male     No  Sat  Dinner     4\n",
            "116       29.93   5.07    Male     No  Sun  Dinner     4\n",
            "155       29.85   5.14  Female     No  Sun  Dinner     5\n",
            "170       50.81  10.00    Male    Yes  Sat  Dinner     3\n",
            "172        7.25   5.15    Male    Yes  Sun  Dinner     2\n",
            "181       23.33   5.65    Male    Yes  Sun  Dinner     2\n",
            "183       23.17   6.50    Male    Yes  Sun  Dinner     4\n",
            "211       25.89   5.16    Male    Yes  Sat  Dinner     4\n",
            "212       48.33   9.00    Male     No  Sat  Dinner     4\n",
            "214       28.17   6.50  Female    Yes  Sat  Dinner     3\n",
            "239       29.03   5.92    Male     No  Sat  Dinner     3\n"
          ],
          "name": "stdout"
        }
      ]
    },
    {
      "cell_type": "code",
      "metadata": {
        "id": "FiLyHHtF7GrN",
        "colab_type": "code",
        "colab": {},
        "outputId": "50f9ad8a-8f4b-4151-b29c-d329514eff47"
      },
      "source": [
        "## SELECT * FROM tips WHERE size >= 5 OR total_bill > 45;  # Összetett szűrés vagy-os | /sql =>\n",
        "print(tips[(tips['size'] >= 5) | (tips['total_bill'] > 45)])\n"
      ],
      "execution_count": null,
      "outputs": [
        {
          "output_type": "stream",
          "text": [
            "     total_bill    tip     sex smoker   day    time  size\n",
            "59        48.27   6.73    Male     No   Sat  Dinner     4\n",
            "125       29.80   4.20  Female     No  Thur   Lunch     6\n",
            "141       34.30   6.70    Male     No  Thur   Lunch     6\n",
            "142       41.19   5.00    Male     No  Thur   Lunch     5\n",
            "143       27.05   5.00  Female     No  Thur   Lunch     6\n",
            "155       29.85   5.14  Female     No   Sun  Dinner     5\n",
            "156       48.17   5.00    Male     No   Sun  Dinner     6\n",
            "170       50.81  10.00    Male    Yes   Sat  Dinner     3\n",
            "182       45.35   3.50    Male    Yes   Sun  Dinner     3\n",
            "185       20.69   5.00    Male     No   Sun  Dinner     5\n",
            "187       30.46   2.00    Male    Yes   Sun  Dinner     5\n",
            "212       48.33   9.00    Male     No   Sat  Dinner     4\n",
            "216       28.15   3.00    Male    Yes   Sat  Dinner     5\n"
          ],
          "name": "stdout"
        }
      ]
    },
    {
      "cell_type": "code",
      "metadata": {
        "id": "lqZRiAV_7GrP",
        "colab_type": "code",
        "colab": {},
        "outputId": "a2714286-b77d-4ae8-e882-ecb2e0190b3f"
      },
      "source": [
        "frame = pd.DataFrame({'col1': ['A', 'B', np.NaN, 'C', 'D'],\n",
        "                      'col2': ['F', np.NaN, 'G', 'H', 'I']})\n",
        "\n",
        "## SELECT * FROM frame WHERE col2 IS NULL;  /sql =>\n",
        "print(frame[frame['col2'].isna()])\n"
      ],
      "execution_count": null,
      "outputs": [
        {
          "output_type": "stream",
          "text": [
            "  col1 col2\n",
            "1    B  NaN\n"
          ],
          "name": "stdout"
        }
      ]
    },
    {
      "cell_type": "code",
      "metadata": {
        "id": "fqSJk-ma7GrR",
        "colab_type": "code",
        "colab": {},
        "outputId": "75f6c8a1-d31e-4cb8-c98d-5bb05a7dcc86"
      },
      "source": [
        "## SELECT * FROM frame WHERE col1 IS NOT NULL;    /sql =>\n",
        "print(frame[frame['col2'].notna()])\n"
      ],
      "execution_count": null,
      "outputs": [
        {
          "output_type": "stream",
          "text": [
            "  col1 col2\n",
            "0    A    F\n",
            "2  NaN    G\n",
            "3    C    H\n",
            "4    D    I\n"
          ],
          "name": "stdout"
        }
      ]
    },
    {
      "cell_type": "code",
      "metadata": {
        "id": "XLH5MRq77GrT",
        "colab_type": "code",
        "colab": {},
        "outputId": "22160783-8926-4658-a63f-776b4df93b21"
      },
      "source": [
        "## SELECT sex, count(*) FROM tips GROUP BY sex;  /sql =>\n",
        "print('Size     : ', tips.groupby('sex').size())\n",
        "print('Count    : ', tips.groupby('sex')['total_bill'].count())\n",
        "print('CountAll : ', tips.groupby('sex').count())"
      ],
      "execution_count": null,
      "outputs": [
        {
          "output_type": "stream",
          "text": [
            "Size     :  sex\n",
            "Female     87\n",
            "Male      157\n",
            "dtype: int64\n",
            "Count    :  sex\n",
            "Female     87\n",
            "Male      157\n",
            "Name: total_bill, dtype: int64\n",
            "CountAll :          total_bill  tip  smoker  day  time  size\n",
            "sex                                             \n",
            "Female          87   87      87   87    87    87\n",
            "Male           157  157     157  157   157   157\n"
          ],
          "name": "stdout"
        }
      ]
    },
    {
      "cell_type": "code",
      "metadata": {
        "id": "P0JSsLpf7GrV",
        "colab_type": "code",
        "colab": {},
        "outputId": "ecf9503c-85d4-477d-e3a6-275cc81eab3d"
      },
      "source": [
        "## SELECT day, AVG(tip), COUNT(*) FROM tips GROUP BY day; /sql =>\n",
        "print(tips.groupby('day').agg({'tip': np.mean, 'day': np.size}))\n"
      ],
      "execution_count": null,
      "outputs": [
        {
          "output_type": "stream",
          "text": [
            "           tip  day\n",
            "day                \n",
            "Fri   2.734737   19\n",
            "Sat   2.993103   87\n",
            "Sun   3.255132   76\n",
            "Thur  2.771452   62\n"
          ],
          "name": "stdout"
        }
      ]
    },
    {
      "cell_type": "code",
      "metadata": {
        "id": "FOnGULW_7GrX",
        "colab_type": "code",
        "colab": {},
        "outputId": "6e8a265e-b73b-44c8-e1d8-97e6eabe2081"
      },
      "source": [
        "## SELECT smoker, day, COUNT(*), AVG(tip) FROM tips GROUP BY smoker, day;   /sql =>\n",
        "print(tips.groupby(['smoker', 'day']).agg({'tip': [np.size, np.mean]}))\n"
      ],
      "execution_count": null,
      "outputs": [
        {
          "output_type": "stream",
          "text": [
            "              tip          \n",
            "             size      mean\n",
            "smoker day                 \n",
            "No     Fri    4.0  2.812500\n",
            "       Sat   45.0  3.102889\n",
            "       Sun   57.0  3.167895\n",
            "       Thur  45.0  2.673778\n",
            "Yes    Fri   15.0  2.714000\n",
            "       Sat   42.0  2.875476\n",
            "       Sun   19.0  3.516842\n",
            "       Thur  17.0  3.030000\n"
          ],
          "name": "stdout"
        }
      ]
    },
    {
      "cell_type": "code",
      "metadata": {
        "id": "WXILYLWn7GrZ",
        "colab_type": "code",
        "colab": {},
        "outputId": "96b2136b-aaf7-4812-e0a8-f3cae7d473de"
      },
      "source": [
        "## JOIN\n",
        "df1 = pd.DataFrame({'key': ['A', 'B', 'C', 'D'],\n",
        "                    'value': np.random.randn(4)})\n",
        "df2 = pd.DataFrame({'key': ['B', 'D', 'D', 'E'],\n",
        "                    'value': np.random.randn(4)})\n",
        "\n",
        "## SELECT * FROM df1 INNER JOIN df2   ON df1.key = df2.key;  /sql =>\n",
        "print(pd.merge(df1, df2, on='key'))\n",
        "\n"
      ],
      "execution_count": null,
      "outputs": [
        {
          "output_type": "stream",
          "text": [
            "  key   value_x   value_y\n",
            "0   B -1.551345  1.328343\n",
            "1   D -2.079102  1.324529\n",
            "2   D -2.079102 -1.423345\n"
          ],
          "name": "stdout"
        }
      ]
    },
    {
      "cell_type": "code",
      "metadata": {
        "id": "DbGb6YtE7Grb",
        "colab_type": "code",
        "colab": {},
        "outputId": "10532011-7cb0-4c42-9824-9fcbec2d770e"
      },
      "source": [
        "indexed_df2 = df2.set_index('key')\n",
        "print(pd.merge(df1, indexed_df2, left_on='key', right_index=True))"
      ],
      "execution_count": null,
      "outputs": [
        {
          "output_type": "stream",
          "text": [
            "  key   value_x   value_y\n",
            "1   B -1.551345  1.328343\n",
            "3   D -2.079102  1.324529\n",
            "3   D -2.079102 -1.423345\n"
          ],
          "name": "stdout"
        }
      ]
    },
    {
      "cell_type": "code",
      "metadata": {
        "id": "CBM14NIv7Grd",
        "colab_type": "code",
        "colab": {},
        "outputId": "f38bced2-1ffe-4abe-b436-d3fdc0117210"
      },
      "source": [
        "## SELECT * FROM df1 LEFT OUTER JOIN df2   ON df1.key = df2.key;  /sql =>\n",
        "print(pd.merge(df1, df2, on='key', how='left'))\n"
      ],
      "execution_count": null,
      "outputs": [
        {
          "output_type": "stream",
          "text": [
            "  key   value_x   value_y\n",
            "0   A  1.642389       NaN\n",
            "1   B -1.551345  1.328343\n",
            "2   C  0.665297       NaN\n",
            "3   D -2.079102  1.324529\n",
            "4   D -2.079102 -1.423345\n"
          ],
          "name": "stdout"
        }
      ]
    },
    {
      "cell_type": "code",
      "metadata": {
        "id": "sIt4pWNi7Grf",
        "colab_type": "code",
        "colab": {},
        "outputId": "2975cb3b-0799-41eb-cb02-00b8fc7ea22e"
      },
      "source": [
        "## SELECT * FROM df1 RIGHT OUTER JOIN df2   ON df1.key = df2.key;   /sql =>\n",
        "print(pd.merge(df1, df2, on='key', how='right'))\n"
      ],
      "execution_count": null,
      "outputs": [
        {
          "output_type": "stream",
          "text": [
            "  key   value_x   value_y\n",
            "0   B -1.551345  1.328343\n",
            "1   D -2.079102  1.324529\n",
            "2   D -2.079102 -1.423345\n",
            "3   E       NaN  0.280305\n"
          ],
          "name": "stdout"
        }
      ]
    },
    {
      "cell_type": "code",
      "metadata": {
        "id": "2vd0grRg7Grh",
        "colab_type": "code",
        "colab": {},
        "outputId": "7c3c3b38-6361-4f50-ac5c-3835fe4b594e"
      },
      "source": [
        "## SELECT * FROM df1 FULL OUTER JOIN df2   ON df1.key = df2.key; /sql =>\n",
        "print(pd.merge(df1, df2, on='key', how='outer'))\n"
      ],
      "execution_count": null,
      "outputs": [
        {
          "output_type": "stream",
          "text": [
            "  key   value_x   value_y\n",
            "0   A  1.642389       NaN\n",
            "1   B -1.551345  1.328343\n",
            "2   C  0.665297       NaN\n",
            "3   D -2.079102  1.324529\n",
            "4   D -2.079102 -1.423345\n",
            "5   E       NaN  0.280305\n"
          ],
          "name": "stdout"
        }
      ]
    },
    {
      "cell_type": "code",
      "metadata": {
        "id": "1wxbB2ED7Grj",
        "colab_type": "code",
        "colab": {},
        "outputId": "214f19bc-894c-4f5e-fc09-2e6d130c135f"
      },
      "source": [
        "df1 = pd.DataFrame({'city': ['Chicago', 'San Francisco', 'New York City'],\n",
        "                    'rank': range(1, 4)})\n",
        "df2 = pd.DataFrame({'city': ['Chicago', 'Boston', 'Los Angeles'],\n",
        "                    'rank': [1, 4, 5]})\n",
        "\n",
        "## union all\n",
        "print(pd.concat([df1, df2]))\n"
      ],
      "execution_count": null,
      "outputs": [
        {
          "output_type": "stream",
          "text": [
            "            city  rank\n",
            "0        Chicago     1\n",
            "1  San Francisco     2\n",
            "2  New York City     3\n",
            "0        Chicago     1\n",
            "1         Boston     4\n",
            "2    Los Angeles     5\n"
          ],
          "name": "stdout"
        }
      ]
    },
    {
      "cell_type": "code",
      "metadata": {
        "id": "bzX-4NSe7Grk",
        "colab_type": "code",
        "colab": {},
        "outputId": "274a6b49-3fdd-4d8f-af9e-91d53dd131b5"
      },
      "source": [
        "## union\n",
        "print(pd.concat([df1, df2]).drop_duplicates())"
      ],
      "execution_count": null,
      "outputs": [
        {
          "output_type": "stream",
          "text": [
            "            city  rank\n",
            "0        Chicago     1\n",
            "1  San Francisco     2\n",
            "2  New York City     3\n",
            "1         Boston     4\n",
            "2    Los Angeles     5\n"
          ],
          "name": "stdout"
        }
      ]
    },
    {
      "cell_type": "code",
      "metadata": {
        "id": "TfB9DjwN7Gro",
        "colab_type": "code",
        "colab": {}
      },
      "source": [
        ""
      ],
      "execution_count": null,
      "outputs": []
    }
  ]
}