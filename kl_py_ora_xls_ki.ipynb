{
  "nbformat": 4,
  "nbformat_minor": 0,
  "metadata": {
    "kernelspec": {
      "display_name": "Python 3",
      "language": "python",
      "name": "python3"
    },
    "language_info": {
      "codemirror_mode": {
        "name": "ipython",
        "version": 3
      },
      "file_extension": ".py",
      "mimetype": "text/x-python",
      "name": "python",
      "nbconvert_exporter": "python",
      "pygments_lexer": "ipython3",
      "version": "3.7.4"
    },
    "colab": {
      "name": "kl_py_ora_xls_ki.ipynb",
      "provenance": [],
      "collapsed_sections": [],
      "include_colab_link": true
    }
  },
  "cells": [
    {
      "cell_type": "markdown",
      "metadata": {
        "id": "view-in-github",
        "colab_type": "text"
      },
      "source": [
        "<a href=\"https://colab.research.google.com/github/klajosw/python/blob/master/kl_py_ora_xls_ki.ipynb\" target=\"_parent\"><img src=\"https://colab.research.google.com/assets/colab-badge.svg\" alt=\"Open In Colab\"/></a>"
      ]
    },
    {
      "cell_type": "markdown",
      "metadata": {
        "id": "yybDWV02VIRK",
        "colab_type": "text"
      },
      "source": [
        "<p align=\"left\"> \n",
        "    <img src=\"https://raw.githubusercontent.com/klajosw/python/master/kl_mie_python_logo_250.jpg\" \n",
        "         align=\"left\" width=\"251\" height=\"251\">\n",
        "    \n",
        "</p>\n",
        "\n",
        "<p> </p>\n",
        "\n",
        "\n",
        "# Python alapok db xls\n",
        "\n",
        "\n",
        "<https://klajosw.blogspot.com/>\n",
        "\n",
        "<https://github.com/klajosw/>\n",
        "\n",
        "\n",
        "---"
      ]
    },
    {
      "cell_type": "markdown",
      "metadata": {
        "id": "5c2xjH6UVIRL",
        "colab_type": "text"
      },
      "source": [
        "\n",
        "# Python oracle db használat\n",
        "\n",
        "\n",
        "## kapcsolódás az adatbázishoz\n",
        "\n",
        "## séma kiválasztás, információ\n",
        "\n",
        "## select parancs\n"
      ]
    },
    {
      "cell_type": "code",
      "metadata": {
        "id": "YpwJ6tBsVIRM",
        "colab_type": "code",
        "colab": {},
        "outputId": "3bc8a348-d1b8-40c3-fd59-31ea23b8f7fc"
      },
      "source": [
        "from __future__ import print_function\n",
        "import cx_Oracle\n",
        "\n",
        "con = None\n",
        "try:\n",
        "    con = cx_Oracle.connect('H27091/2kl03KL@BIA.HU:5211/T10')\n",
        "    print ('Orcale db verzio: ', con.version)\n",
        "except cx_Oracle.Error as error:\n",
        "    print(error) ## ORA-12514: TNS: a figyelő nem ismeri a kapcsolatleíróban kért szolgáltatást\n",
        "finally:\n",
        "    if con:\n",
        "        con.close() ## Csak akkor zárjuk be ha létezik a kapcsolat"
      ],
      "execution_count": 0,
      "outputs": [
        {
          "output_type": "stream",
          "text": [
            "Orcale db verzio:  12.1.0.2.0\n"
          ],
          "name": "stdout"
        }
      ]
    },
    {
      "cell_type": "code",
      "metadata": {
        "id": "MtW58wWFVIRP",
        "colab_type": "code",
        "colab": {},
        "outputId": "4b2bd120-be39-4014-8b3e-845f7ab8aa09"
      },
      "source": [
        "# Eredmény csv filebe írása\n",
        "import cx_Oracle\n",
        "import csv\n",
        "\n",
        "con = cx_Oracle.connect('H27091/2kl03KL@BIA.HU:5211/T10')\n",
        "cur = con.cursor()\n",
        "f = open(\"job_history.csv\", \"w\")\n",
        "writer = csv.writer(f, lineterminator=\"\\n\", quoting=csv.QUOTE_NONNUMERIC)\n",
        "cur.execute(\" SELECT owner, table_name FROM all_tables where owner like 'HN_EBH27091' and table_name like 'OPT_F%' \")\n",
        "for row in cur:\n",
        "    print(row)\n",
        "    writer.writerow(row)\n",
        "f.close()\n",
        "\n",
        "cur.close()\n",
        "con.close()\n",
        "\n"
      ],
      "execution_count": 0,
      "outputs": [
        {
          "output_type": "stream",
          "text": [
            "('HN_EBH27091', 'OPT_F_BALANCE_SHEET')\n",
            "('HN_EBH27091', 'OPT_F_BALANCE_SHEET_ROW')\n",
            "('HN_EBH27091', 'OPT_F_LEADER')\n",
            "('HN_EBH27091', 'OPT_F_BALANCE_SHEET_ROW_TMP')\n",
            "('HN_EBH27091', 'OPT_F_BANK')\n",
            "('HN_EBH27091', 'OPT_F_BANK_ROW')\n",
            "('HN_EBH27091', 'OPT_F_OWNER')\n",
            "('HN_EBH27091', 'OPT_F_CP_PROPERTY')\n",
            "('HN_EBH27091', 'OPT_F_RELATION')\n",
            "('HN_EBH27091', 'OPT_F_NEG_EVENT')\n",
            "('HN_EBH27091', 'OPT_F_GROUP_PROPERTY')\n",
            "('HN_EBH27091', 'OPT_F_CP_EBH_PROPERTY')\n"
          ],
          "name": "stdout"
        }
      ]
    },
    {
      "cell_type": "code",
      "metadata": {
        "id": "Z9LdDaH8VIRR",
        "colab_type": "code",
        "colab": {},
        "outputId": "8a6dbdbb-4f5d-4265-f871-6665636f4f53"
      },
      "source": [
        "# Eredmény csv filebe írása fejléccel\n",
        "import cx_Oracle\n",
        "import csv\n",
        "\n",
        "con = cx_Oracle.connect('H27091/2kl03KL@BIA.HU:5211/T10')\n",
        "cur = con.cursor()\n",
        "SQL    = r\" select * from CALENDAR where rownum <= 10 \"\n",
        "cur.execute(SQL)\n",
        "\n",
        "\n",
        "headers = [i[0] for i in cur.description] ## fejléc kiolvasása\n",
        "\n",
        "# csv file megnyítása írásra:\n",
        "with open(\"DATA.csv\", \"w\") as f:\n",
        "    fcsv = csv.writer(f)\n",
        "\n",
        "    fcsv.writerow(headers)                   ## Fejléc kiírása\n",
        "    for record in cur: fcsv.writerow(record) ## adat kiírása\n",
        "\n",
        "assert f.closed  ## ha minden OK lezár\n",
        "\n",
        "# kiírt adatok visszaolvasása\n",
        "with open(\"DATA.csv\", \"r\") as f:\n",
        "    \n",
        "    fcsv = csv.reader(f)\n",
        "    for record in fcsv: print(record)  \n",
        "        \n",
        "        "
      ],
      "execution_count": 0,
      "outputs": [
        {
          "output_type": "stream",
          "text": [
            "['SYM_RUN_DATE', 'YYYYMMDD', 'YYYYMM', 'YYYY', 'MONTH_NUM', 'MONTH_NUM_CH', 'DAY_NUM', 'DAY_NUM_CH', 'HOLIDAY_DESC', 'DAY_NO', 'DAY_OF_WEEK_NUM_HU', 'DAY_OF_WEEK_NUM_US', 'DAY_OF_YEAR_NUM', 'DAY_OF_QUARTER_NUM', 'WEEK_OF_MONTH_NUM', 'WEEK_OF_YEAR_NUM', 'QUARTER_NO', 'QUARTER', 'DAY_OF_WEEK_SH_EN', 'DAY_OF_WEEK_SH_HU', 'DAY_OF_WEEK_LO_EN', 'DAY_OF_WEEK_LO_HU', 'IS_WORKDAY', 'IS_WEEKEND', 'WD_BY_YEAR', 'WD_BY_MONTH', 'WD_BY_WEEK', 'WEEKD_BY_DAYNAME_BY_MONTH', 'WEEKD_BY_DAYNAME_BY_YEAR', 'SUM_DAYS_IN_MONTH', 'SUM_DAYS_IN_QUARTER', 'SUM_WD_IN_MONTH']\n",
            "[]\n",
            "['2014-08-26 00:00:00', '20140826', '201408', '2014', '8', '08', '26', '26', '', '5352', '2', '3', '238', '57', '4', '34', '3', 'Q3', 'tue', 'k.', 'tuesday', 'kedd', 'Y', 'N', '169', '18', '2', '4', '34', '31', '92', '21']\n",
            "[]\n",
            "['2014-08-27 00:00:00', '20140827', '201408', '2014', '8', '08', '27', '27', '', '5353', '3', '4', '239', '58', '4', '35', '3', 'Q3', 'wed', 'sze', 'wednesday', 'szerda', 'Y', 'N', '170', '19', '3', '4', '35', '31', '92', '21']\n",
            "[]\n",
            "['2014-08-28 00:00:00', '20140828', '201408', '2014', '8', '08', '28', '28', '', '5354', '4', '5', '240', '59', '4', '35', '3', 'Q3', 'thu', 'cs.', 'thursday', 'csütörtök', 'Y', 'N', '171', '20', '4', '4', '35', '31', '92', '21']\n",
            "[]\n",
            "['2014-08-29 00:00:00', '20140829', '201408', '2014', '8', '08', '29', '29', '', '5355', '5', '6', '241', '60', '5', '35', '3', 'Q3', 'fri', 'p.', 'friday', 'péntek', 'Y', 'Y', '172', '21', '5', '5', '35', '31', '92', '21']\n",
            "[]\n",
            "['2014-08-30 00:00:00', '20140830', '201408', '2014', '8', '08', '30', '30', 'SZOMBAT', '5356', '6', '7', '242', '61', '5', '35', '3', 'Q3', 'sat', 'szo', 'saturday', 'szombat', 'N', 'Y', '0', '0', '0', '5', '35', '31', '92', '21']\n",
            "[]\n",
            "['2014-08-31 00:00:00', '20140831', '201408', '2014', '8', '08', '31', '31', 'VASÁRNAP', '5357', '7', '1', '243', '62', '5', '35', '3', 'Q3', 'sun', 'v.', 'sunday', 'vasárnap', 'N', 'N', '0', '0', '0', '5', '35', '31', '92', '21']\n",
            "[]\n",
            "['2014-09-01 00:00:00', '20140901', '201409', '2014', '9', '09', '1', '01', '', '5358', '1', '2', '244', '63', '1', '35', '3', 'Q3', 'mon', 'h.', 'monday', 'hétfő', 'Y', 'N', '173', '1', '1', '1', '35', '30', '92', '22']\n",
            "[]\n",
            "['2014-09-02 00:00:00', '20140902', '201409', '2014', '9', '09', '2', '02', '', '5359', '2', '3', '245', '64', '1', '35', '3', 'Q3', 'tue', 'k.', 'tuesday', 'kedd', 'Y', 'N', '174', '2', '2', '1', '35', '30', '92', '22']\n",
            "[]\n",
            "['2014-09-03 00:00:00', '20140903', '201409', '2014', '9', '09', '3', '03', '', '5360', '3', '4', '246', '65', '1', '36', '3', 'Q3', 'wed', 'sze', 'wednesday', 'szerda', 'Y', 'N', '175', '3', '3', '1', '36', '30', '92', '22']\n",
            "[]\n",
            "['2014-09-04 00:00:00', '20140904', '201409', '2014', '9', '09', '4', '04', '', '5361', '4', '5', '247', '66', '1', '36', '3', 'Q3', 'thu', 'cs.', 'thursday', 'csütörtök', 'Y', 'N', '176', '4', '4', '1', '36', '30', '92', '22']\n",
            "[]\n"
          ],
          "name": "stdout"
        }
      ]
    },
    {
      "cell_type": "code",
      "metadata": {
        "id": "oZkrSI-hVIRT",
        "colab_type": "code",
        "colab": {},
        "outputId": "bbef0d7c-6bfb-4978-811e-73018203108f"
      },
      "source": [
        "import cx_Oracle\n",
        "import time\n",
        "\n",
        "con = cx_Oracle.connect('H27091/2kl03KL@BIA.HU:5211/T10')\n",
        "\n",
        "start = time.time()\n",
        "\n",
        "cur = con.cursor()\n",
        "cur.execute(\" SELECT owner, table_name FROM all_tables where owner like 'H27091' and table_name like 'OPT_F%' \")               \n",
        "res = cur.fetchmany(numRows=3)  ## Csak három rekord\n",
        "## res = cur.fetchall()\n",
        "##print (res)\n",
        "columns = [i[0] for i in cur.description]  ## Fejléc kikkérése\n",
        "\n",
        "for column in columns:\n",
        "    print(column, end='|')  ## Fejléc kiírása\n",
        "print()\n",
        "\n",
        "for row in res:\n",
        "    for field in row:\n",
        "        print(field, end='|' ) ## adat kiírása\n",
        "    print()\n",
        "\n",
        "print(' ---------------------- ')\n",
        "\n",
        "elapsed = (time.time() - start)\n",
        "print (elapsed, \" másodperc alatt futott le.\")\n",
        "\n",
        "cur.close()\n",
        "con.close()"
      ],
      "execution_count": 0,
      "outputs": [
        {
          "output_type": "stream",
          "text": [
            "OWNER|TABLE_NAME|\n",
            "HN_EBH27091|OPT_F_BALANCE_SHEET|\n",
            "HN_EBH27091|OPT_F_BALANCE_SHEET_ROW|\n",
            "HN_EBH27091|OPT_F_LEADER|\n",
            " ---------------------- \n",
            "0.42289042472839355  másodperc alatt futott le.\n"
          ],
          "name": "stdout"
        }
      ]
    },
    {
      "cell_type": "code",
      "metadata": {
        "id": "pHiBOz_aVIRV",
        "colab_type": "code",
        "colab": {},
        "outputId": "e41d2ae3-e7f3-40bf-cd54-abecdfe724f5"
      },
      "source": [
        "## Paraméteres lekérdezés\n",
        "import cx_Oracle\n",
        "\n",
        "con = cx_Oracle.connect('H27091/2kl03KL@BIA.HU:5211/T10')\n",
        "\n",
        "start = time.time()\n",
        "\n",
        "cur = con.cursor()\n",
        "cur.prepare(r\" SELECT owner, table_name, :mask as mask FROM all_tables where owner like 'H27091' and table_name like :mask \")\n",
        "\n",
        "cur.execute(None, {'mask': r'OPT_F%'})\n",
        "res = cur.fetchmany(numRows=3)\n",
        "# res = cur.fetchall()\n",
        "# print (res)\n",
        "\n",
        "columns = [i[0] for i in cur.description]  ## Fejléc kikkérése\n",
        "for column in columns:\n",
        "    print(column, end='|')  ## Fejléc kiírása\n",
        "print()\n",
        "\n",
        "for row in res:\n",
        "    for field in row:\n",
        "        print(field, end='|' ) ## adat kiírása\n",
        "    print()\n",
        "\n",
        "print(' ----------------- ')\n",
        "\n",
        "cur.execute(None, {'mask': r'OPT_D%'})\n",
        "res = cur.fetchmany(numRows=3)\n",
        "# res = cur.fetchall()\n",
        "# print (res)\n",
        "\n",
        "columns = [i[0] for i in cur.description]  ## Fejléc kikkérése\n",
        "for column in columns:\n",
        "    print(column, end='|')  ## Fejléc kiírása\n",
        "print()\n",
        "\n",
        "for row in res:\n",
        "    for field in row:\n",
        "        print(field, end='|' ) ## adat kiírása\n",
        "    print()\n",
        "    \n",
        "print(' ----------------- ')\n",
        "elapsed = (time.time() - start)\n",
        "print (elapsed, \" másodperc alatt futott le.\")\n",
        "\n",
        "cur.close()\n",
        "con.close()"
      ],
      "execution_count": 0,
      "outputs": [
        {
          "output_type": "stream",
          "text": [
            "OWNER|TABLE_NAME|MASK|\n",
            "HN_EBH27091|OPT_F_BALANCE_SHEET|OPT_F%|\n",
            "HN_EBH27091|OPT_F_BALANCE_SHEET_ROW|OPT_F%|\n",
            "HN_EBH27091|OPT_F_LEADER|OPT_F%|\n",
            " ----------------- \n",
            "OWNER|TABLE_NAME|MASK|\n",
            "HN_EBH27091|OPT_D_TEAOR|OPT_D%|\n",
            "HN_EBH27091|OPT_D_GFO|OPT_D%|\n",
            "HN_EBH27091|OPT_D_KSH|OPT_D%|\n",
            " ----------------- \n",
            "0.8238465785980225  másodperc alatt futott le.\n"
          ],
          "name": "stdout"
        }
      ]
    },
    {
      "cell_type": "code",
      "metadata": {
        "id": "aPohxUOWVIRX",
        "colab_type": "code",
        "colab": {},
        "outputId": "30aede17-8a17-42b5-f753-db1dea62ef22"
      },
      "source": [
        "## Oracle lekérdezés panda kezeléssel\n",
        "import cx_Oracle\n",
        "import os\n",
        "import pandas as pd\n",
        " \n",
        "def connectToOracle(url, username, password, mode=None):\n",
        "    if mode is not None:\n",
        "        connection = cx_Oracle.Connection (user=username, password=password, dsn=url, mode=mode)\n",
        "    else:\n",
        "        connection = cx_Oracle.Connection (user=username, password=password, dsn=url)\n",
        "    return connection\n",
        " \n",
        "try:\n",
        "        c=cx_Oracle.Connection\n",
        " \n",
        "        stmt=\" SELECT owner, table_name FROM all_tables where owner like 'H27091' and table_name like 'OPT_F%' \"\n",
        "\n",
        "        c=connectToOracle(\"ora\",\"neevem\",\"jelsz\",mode=None)\n",
        "        dataframe=pd.read_sql(stmt,con=c)\n",
        "        \n",
        "        print(\"------\\nDF Data tartalom : \\n\",dataframe)\n",
        "        print(\"------\\nDF Data tipus : \\n\",dataframe.dtypes)\n",
        "        print(\"------\\nDF szűrés   : \\n\",dataframe[dataframe['TABLE_NAME']>='OPT_F_BANK'])\n",
        "        \n",
        "except cx_Oracle.DatabaseError as ex:\n",
        "        err, =ex.args\n",
        "        print(\"Error code    = \",err.code)\n",
        "        print(\"Error Message = \",err.message)\n",
        "#       os._exit(1)    ## Kilépés\n",
        "\n",
        "else:\n",
        "        c.close()"
      ],
      "execution_count": 0,
      "outputs": [
        {
          "output_type": "stream",
          "text": [
            "------\n",
            "DF Data tartalom : \n",
            "           OWNER                   TABLE_NAME\n",
            "0   HN_EBH27091          OPT_F_BALANCE_SHEET\n",
            "1   HN_EBH27091      OPT_F_BALANCE_SHEET_ROW\n",
            "2   HN_EBH27091                 OPT_F_LEADER\n",
            "3   HN_EBH27091  OPT_F_BALANCE_SHEET_ROW_TMP\n",
            "4   HN_EBH27091                   OPT_F_BANK\n",
            "5   HN_EBH27091               OPT_F_BANK_ROW\n",
            "6   HN_EBH27091                  OPT_F_OWNER\n",
            "7   HN_EBH27091            OPT_F_CP_PROPERTY\n",
            "8   HN_EBH27091               OPT_F_RELATION\n",
            "9   HN_EBH27091              OPT_F_NEG_EVENT\n",
            "10  HN_EBH27091         OPT_F_GROUP_PROPERTY\n",
            "11  HN_EBH27091        OPT_F_CP_EBH_PROPERTY\n",
            "------\n",
            "DF Data tipus : \n",
            " OWNER         object\n",
            "TABLE_NAME    object\n",
            "dtype: object\n",
            "------\n",
            "DF szűrés   : \n",
            "           OWNER             TABLE_NAME\n",
            "2   HN_EBH27091           OPT_F_LEADER\n",
            "4   HN_EBH27091             OPT_F_BANK\n",
            "5   HN_EBH27091         OPT_F_BANK_ROW\n",
            "6   HN_EBH27091            OPT_F_OWNER\n",
            "7   HN_EBH27091      OPT_F_CP_PROPERTY\n",
            "8   HN_EBH27091         OPT_F_RELATION\n",
            "9   HN_EBH27091        OPT_F_NEG_EVENT\n",
            "10  HN_EBH27091   OPT_F_GROUP_PROPERTY\n",
            "11  HN_EBH27091  OPT_F_CP_EBH_PROPERTY\n"
          ],
          "name": "stdout"
        }
      ]
    },
    {
      "cell_type": "markdown",
      "metadata": {
        "id": "PVv9I2N-VIRZ",
        "colab_type": "text"
      },
      "source": [
        "\n",
        "---\n",
        "\n",
        "# Excel file használat \n",
        "\n",
        "## megnyítás\n",
        "\n",
        "## írás \n",
        "\n",
        "## olvasás\n"
      ]
    },
    {
      "cell_type": "code",
      "metadata": {
        "id": "6YsWxn0KVIRZ",
        "colab_type": "code",
        "colab": {},
        "outputId": "5cc1dcbd-9fd7-41ec-c33a-3c813c1bb6e8"
      },
      "source": [
        "# Munkalap cella érték kiolvasása\n",
        "import openpyxl\n",
        "workbook = openpyxl.load_workbook(r'c:\\Users\\kecskemetil\\Documents\\kl_sj\\sj\\python_oktatas\\minta_py\\csv_xls\\cell_format.xlsx')\n",
        "#people = workbook.get_sheet_by_name('People')  ### Regi módszer\n",
        "people = workbook['People']\n",
        "print (\"Első cella kiolvasása   : \", people['A1'])\n",
        "print (\"További cellák olvasása : \", people.cell(row=3, column=2))\n",
        "print (\"Értékek :\", people['B2'].value, people['C2'].value)"
      ],
      "execution_count": 0,
      "outputs": [
        {
          "output_type": "stream",
          "text": [
            "Első cella kiolvasása   :  <Cell 'People'.A1>\n",
            "További cellák olvasása :  <Cell 'People'.B3>\n",
            "Értékek : Más22 Más32\n"
          ],
          "name": "stdout"
        }
      ]
    },
    {
      "cell_type": "code",
      "metadata": {
        "id": "b47MFJ_OVIRc",
        "colab_type": "code",
        "colab": {}
      },
      "source": [
        "import xlsxwriter\n",
        "\n",
        "#Create a workbook and add a worksheet\n",
        "workbook = xlsxwriter.Workbook('chart_line.xlsx')\n",
        "worksheet = workbook.add_worksheet()\n",
        "\n",
        "#Data to be plotted as a chart in worksheet\n",
        "data = [10, 40, 50, 20, 10, 50]\n",
        "\n",
        "#Add the data to the columns A1-A6 in worksheet\n",
        "worksheet.write_column('A1', data)\n",
        "\n",
        "#Create a line chart object using data from cells A1-A6\n",
        "chart = workbook.add_chart({'type': 'line'})\n",
        "chart.add_series({'values': '=Sheet1!$A$1:$A$6'})\n",
        "\n",
        "#Insert chart in the worksheet\n",
        "worksheet.insert_chart('C1', chart)\n",
        "\n",
        "#Close workbook object\n",
        "workbook.close()"
      ],
      "execution_count": 0,
      "outputs": []
    },
    {
      "cell_type": "code",
      "metadata": {
        "id": "DCG5BInBVIRe",
        "colab_type": "code",
        "colab": {},
        "outputId": "7554984c-b65a-4672-ba09-fc8e3363f80b"
      },
      "source": [
        "## Munka könyvtár lekérdezése\n",
        "import os\n",
        "print(os.getcwd())   ## Munka könyvtár helyének kiíratása\n",
        "os.chdir(r'c:\\Users\\kecskemetil\\Documents\\kl_sj\\sj\\python_oktatas\\minta_py\\csv_xls')  ## Munka könyvtár beállítása\n",
        "print(os.getcwd())   ## Munka könyvtár helyének kiíratása"
      ],
      "execution_count": 0,
      "outputs": [
        {
          "output_type": "stream",
          "text": [
            "C:\\Users\\kecskemetil\\Documents\\kl_sj\\sj\\python_oktatas\\ipynb\n",
            "c:\\Users\\kecskemetil\\Documents\\kl_sj\\sj\\python_oktatas\\minta_py\\csv_xls\n"
          ],
          "name": "stdout"
        }
      ]
    },
    {
      "cell_type": "code",
      "metadata": {
        "id": "szbLX88pVIRg",
        "colab_type": "code",
        "colab": {},
        "outputId": "fea1f18b-5649-4e69-f4fe-e919217f32de"
      },
      "source": [
        "import xlsxwriter\n",
        "import os\n",
        "\n",
        "print(os.getcwd())  ## Munka könyvtár helyének kiíratása\n",
        "\n",
        "#Create a workbook and add a worksheet\n",
        "workbook = xlsxwriter.Workbook('Minta1.xlsx')\n",
        "worksheet = workbook.add_worksheet()\n",
        "\n",
        "#Some data that we want to write to the worksheet\n",
        "expenses = (\n",
        "    ['Rent', 1000],\n",
        "    ['Gas',   100],\n",
        "    ['Food',  300],\n",
        "    ['Gym',    50],\n",
        ")\n",
        "\n",
        "#Start from the first cell. Rows and columns are zero indexed\n",
        "row = 0\n",
        "col = 0\n",
        "\n",
        "#Iterate over the data and write it out row by row\n",
        "for item, cost in (expenses):\n",
        "    worksheet.write(row, col, item)\n",
        "    worksheet.write(row, col + 1, cost)\n",
        "    row += 1\n",
        "\n",
        "#Create a total cell using a formula\n",
        "worksheet.write(row, 0, 'Total')\n",
        "worksheet.write(row, 1, '=SUM(B1:B4)')\n",
        "workbook.close()\n",
        "\n",
        "#Add a new sheet to the workbook\n",
        "import xlsxwriter\n",
        "workbook = xlsxwriter.Workbook('Minta2.xlsx')\n",
        "worksheet = workbook.add_worksheet(name='Uj munkalap')\n",
        "\n",
        "#Close workbook object\n",
        "workbook.close()"
      ],
      "execution_count": 0,
      "outputs": [
        {
          "output_type": "stream",
          "text": [
            "c:\\Users\\kecskemetil\\Documents\\kl_sj\\sj\\python_oktatas\\minta_py\\csv_xls\n"
          ],
          "name": "stdout"
        }
      ]
    },
    {
      "cell_type": "code",
      "metadata": {
        "id": "35OJ3_JjVIRh",
        "colab_type": "code",
        "colab": {}
      },
      "source": [
        ""
      ],
      "execution_count": 0,
      "outputs": []
    }
  ]
}