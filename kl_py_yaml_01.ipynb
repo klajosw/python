{
  "cells": [
    {
      "cell_type": "markdown",
      "metadata": {
        "id": "view-in-github",
        "colab_type": "text"
      },
      "source": [
        "<a href=\"https://colab.research.google.com/github/klajosw/python/blob/master/kl_py_yaml_01.ipynb\" target=\"_parent\"><img src=\"https://colab.research.google.com/assets/colab-badge.svg\" alt=\"Open In Colab\"/></a>"
      ]
    },
    {
      "cell_type": "markdown",
      "metadata": {
        "id": "YmTyvp7DyD8v"
      },
      "source": [
        "<p align=\"left\"> \n",
        "    <img src=\"https://raw.githubusercontent.com/klajosw/python/master/kl_mie_python_logo_250.jpg\" \n",
        "         align=\"left\" width=\"251\" height=\"251\">\n",
        "    \n",
        "</p>\n",
        "\n",
        "\n",
        "<p> </p>\n",
        "\n",
        "\n",
        "\n",
        "# Python és a Yaml\n",
        "\n",
        "<https://klajosw.blogspot.com/>\n",
        "\n",
        "https://klajosw.blogspot.com/2022/03/yaml-hasznalat-pythonban.html\n",
        "\n",
        "---"
      ]
    },
    {
      "cell_type": "markdown",
      "metadata": {
        "id": "oPX6BbyLGpPC"
      },
      "source": [
        "---\n",
        "\n",
        "# Yaml alapok\n",
        "\n",
        "\n",
        "YAML (a rekurzív betűszó for \"YAML Ain't Markup Language\") egy ember által olvasható adat-sorosítási nyelv. <br>\n",
        "<br>\n",
        "A YAML egy adat beolvasást támogató nyelv, amit úgy terveztek, hogy közvetlenül (ember által) is olvasható és írható, könnyen értelmezhető legyen.<br>\n",
        "<br>\n",
        "Hagyományosan properties, xml és json filekból olvassa el a program indításhoz szükséges konfigurácios paramétereket egy program (pláne ha sok konfigurációs paraméterre, finom beállításokra van szükség).<br>\n",
        "Ezen az úton egy új megoldás a yaml.<br>\n",
        "<br>\n",
        "A JSON formátumnak egy szigorú befoglaló halmazát alkotja, kiegészítve azt szintaktikai jelentéssel bíró sortörésekkel és indentációval (behúzásokkal), a Pythonhoz hasonlóan.\n",
        "<br>\n",
        "Egymásba ágyazás a behúzás változtatásával érhető el.\n",
        "<br><br>\n",
        "\n",
        "## Figyelem : \n",
        "\n",
        "  -  a Pythonnal ellentétben azonban a YAML nem engedélyezi a közvetlen tabulátor karakterek jelenlétét.<br>\n",
        "  -  UTF-8 ékezetes betűk használhatóak, ha a fájl kódlása megfelelő, a kódolást a tartalomban explicit nem kell (és nem is lehet) feltüntetni.<br>\n",
        "  - az ismétlődő kulcsok, amelyek érvényes JSON-ban,  érvénytelenek YAML-ban.<br>\n",
        "<br><br>\n",
        "A YAML-ben aliasokkal 'anchor'-ok segítségével könnyen lehet duplikálni tartalmakat a dokumentumon belül. <br>\n",
        "A következő kulcsok azonos értékküek:<br>\n",
        "egyik_tartalom: &anchor_neve  ez majd két helyre is beíródik\n",
        "másik_anchor: *anchor_neve\n",
        "<br><br>    \n",
        "Többsoros sztringek írhatóak 'literal block'-ként ('|' jelet használva) vagy 'folded block'-ként is ('>' jelet használva).<br>\n",
        "A literal block megőrzi az újsorokat (a | karakter), és a folded block kihagyja az új sorokat (a > karakter)\n",
        "<br><br>    \n",
        "A kulcsok is lehetnek többsoros objektumok, ? jellel jelezve a kulcs kezdetét\n",
        "<br><br>  \n",
        "\n",
        "## Használat\n",
        "\n",
        "<br> \n",
        "Napjainkban előszeretettel használják a felsző szolgáltatások (Cloud Computering) és konténerek (Docker, Kubernetes, ...) világában konfigurálásra, valamit a GIT is alkalmazza.  (pl.: .workflow.yml)<br> \n",
        "A yaml filek kiterjesztése : yaml vagy yml <br> \n",
        "<br><br> \n",
        "\n",
        "## Linkek\n",
        "\n",
        "<br>\n",
        "Yaml honlap : https://yaml.org/\n",
        "<br><br> \n",
        "Yaml validáció : http://www.yamllint.com/\n",
        "   \n",
        "---\n"
      ]
    },
    {
      "cell_type": "code",
      "execution_count": null,
      "metadata": {
        "colab": {
          "base_uri": "https://localhost:8080/",
          "height": 54
        },
        "id": "n_-Nn7IjGpPF",
        "outputId": "5e0ad3d2-b77f-44ab-837c-e230177dd034"
      },
      "outputs": [
        {
          "name": "stdout",
          "output_type": "stream",
          "text": [
            "-- python \n",
            "{'UserName': 'Boss', 'Password': 'God+123*', 'phone': 36703101111, 'AccessKeys': ['EmployeeTable', 'SoftwaresList', 'HardwareList']}\n",
            "\n",
            "-- dump()\n",
            "AccessKeys:\n",
            "- EmployeeTable\n",
            "- SoftwaresList\n",
            "- HardwareList\n",
            "Password: God+123*\n",
            "UserName: Boss\n",
            "phone: 36703101111\n",
            "\n",
            "\n",
            "-- dump_all()\n",
            "UserName\n",
            "--- Password\n",
            "--- phone\n",
            "--- AccessKeys\n",
            "...\n",
            "\n"
          ]
        }
      ],
      "source": [
        "import yaml\n",
        "from yaml.loader import SafeLoader\n",
        "\n",
        "# Yaml file biztonságos(SafeLoader) megnyítása és tartalmának megjelenítése\n",
        "with open(r'c:\\Users\\User\\Downloads\\KlYamlMinta.yaml') as f:\n",
        "    data = yaml.load(f, Loader=SafeLoader)\n",
        "print('-- python ')    \n",
        "print(data)                # python változóként  \n",
        "print('\\n-- dump()')\n",
        "print(yaml.dump(data))     # yaml tartalomként 1.\n",
        "print('\\n-- dump_all()')\n",
        "print(yaml.dump_all(data)) # yaml tartalomként 2."
      ]
    },
    {
      "cell_type": "code",
      "execution_count": null,
      "metadata": {
        "colab": {
          "base_uri": "https://localhost:8080/",
          "height": 255
        },
        "id": "1j6Pi7RZGpSp",
        "outputId": "f2e45373-48d8-4a42-ca3a-4459bd508f79"
      },
      "outputs": [
        {
          "name": "stdout",
          "output_type": "stream",
          "text": [
            "\n",
            "-- dump()\n",
            "- name: Boss\n",
            "  occupation: Leader\n",
            "- name: Doki\n",
            "  occupation: Dentist\n",
            "\n",
            "\n",
            "-- dump_all()\n",
            "name: Boss\n",
            "occupation: Leader\n",
            "---\n",
            "name: Doki\n",
            "occupation: Dentist\n",
            "\n"
          ]
        }
      ],
      "source": [
        "# dict létrehozása\n",
        "members = [{'name': 'Boss', 'occupation': 'Leader'},\n",
        "           {'name': 'Doki', 'occupation': 'Dentist'}]\n",
        "\n",
        "# YAML documentumba fordítás és megjelenítés\n",
        "print('\\n-- dump()')\n",
        "print(yaml.dump(members))\n",
        "\n",
        "print('\\n-- dump_all()')\n",
        "print(yaml.dump_all(members))"
      ]
    },
    {
      "cell_type": "code",
      "execution_count": null,
      "metadata": {
        "id": "nSsqoKjEyD84"
      },
      "outputs": [],
      "source": [
        "import yaml\n",
        "\n",
        "# Öszetett adatstuktura létrehozása\n",
        "user_details = {'UserName': 'Boss',\n",
        "                'Password': 'God+123*',\n",
        "                'phone': +36703101111,\n",
        "                'AccessKeys': ['EmployeeTable',\n",
        "                               'SoftwaresList',\n",
        "                               'HardwareList']}\n",
        "\n",
        "# YAML documentumba fordítás és megjelenítés\n",
        "with open(r'c:\\Users\\User\\Downloads\\KlYamlMinta.yaml', 'w') as f:\n",
        "    data = yaml.dump(user_details, f, sort_keys=False, default_flow_style=False)\n"
      ]
    },
    {
      "cell_type": "code",
      "execution_count": null,
      "metadata": {
        "id": "6rHcRj3GyD84",
        "outputId": "25cfc9a3-9969-450c-b712-a0e766313311"
      },
      "outputs": [
        {
          "name": "stdout",
          "output_type": "stream",
          "text": [
            "-- python \n",
            "{'UserName': 'Boss', 'Password': 'God+123*', 'phone': 36703101111, 'AccessKeys': ['EmployeeTable', 'SoftwaresList', 'HardwareList']}\n",
            "\n",
            "--Rendezés nélkül\n",
            "UserName: Boss\n",
            "Password: God+123*\n",
            "phone: 36703101111\n",
            "AccessKeys:\n",
            "- EmployeeTable\n",
            "- SoftwaresList\n",
            "- HardwareList\n",
            "\n",
            "\n",
            "--Rendezéssel\n",
            "AccessKeys:\n",
            "- EmployeeTable\n",
            "- SoftwaresList\n",
            "- HardwareList\n",
            "Password: God+123*\n",
            "UserName: Boss\n",
            "phone: 36703101111\n",
            "\n",
            "\n",
            "--Formázással\n",
            "AccessKeys:\n",
            "- EmployeeTable\n",
            "- SoftwaresList\n",
            "- HardwareList\n",
            "Password: God+123*\n",
            "UserName: Boss\n",
            "phone: 36703101111\n",
            "\n"
          ]
        }
      ],
      "source": [
        "import yaml\n",
        "\n",
        "with open(r'c:\\Users\\User\\Downloads\\KlYamlMinta.yaml') as f:\n",
        "    data = yaml.load(f, Loader=yaml.FullLoader)\n",
        "print('-- python ')    \n",
        "print(data)\n",
        "print('\\n--Rendezés nélkül')\n",
        "no_sorted_data = yaml.dump(data, sort_keys=False)\n",
        "print(no_sorted_data)\n",
        "print('\\n--Rendezéssel')\n",
        "sorted_data = yaml.dump(data, sort_keys=True)\n",
        "print(sorted_data)\n",
        "print('\\n--Formázással')\n",
        "print(yaml.dump(data, indent=3, default_flow_style=False))"
      ]
    },
    {
      "cell_type": "code",
      "execution_count": null,
      "metadata": {
        "id": "aiHADCC9yD85",
        "outputId": "80821cf5-9c2e-45e7-8722-ab519b038a2e"
      },
      "outputs": [
        {
          "name": "stdout",
          "output_type": "stream",
          "text": [
            "['eggs', 'ham', 'milk', 'bread', {'name': 'Dani Smith', 'age': 24}, {'name': 'Tomi Smith', 'age': 22}, {'json_map': {'key1': 'value'}}, {'json_seq': [4, 3, 2, 1, 'takeoff']}]\n"
          ]
        }
      ],
      "source": [
        "import yaml\n",
        "from yaml.loader import SafeLoader\n",
        "# összetett lista beolvasása és megjelenítése\n",
        "data = yaml.load('''\n",
        "# egyszerű lista\n",
        " - eggs   # tojás (megjegyzés a yaml-ban)\n",
        " - ham    # sonka\n",
        " - milk   # tej\n",
        " - bread  # kenyér\n",
        " - {name: Dani Smith, age: 24}       #  más stilusu megadás kombinálása\n",
        " - name: Tomi Smith                  #  más stilusu megadás kombinálása\n",
        "   age: 22\n",
        " - json_map: {\"key1\": \"value\"}       #  más stilusu megadás kombinálása\n",
        " - json_seq: [4, 3, 2, 1, \"takeoff\"] #  más stilusu megadás kombinálása\n",
        " ''', Loader=yaml.FullLoader)\n",
        "print(data)\n"
      ]
    },
    {
      "cell_type": "code",
      "execution_count": null,
      "metadata": {
        "id": "DIQ7-otIyD86",
        "outputId": "d8b38fd1-7b98-4088-b746-5926d20953b2"
      },
      "outputs": [
        {
          "name": "stdout",
          "output_type": "stream",
          "text": [
            "{'negative': -12, 'zero': 0, 'positive': 34, 'explicit_string': '0.5', 'python_complex_number': (1+2j)}\n"
          ]
        }
      ],
      "source": [
        "import yaml\n",
        "from yaml.loader import SafeLoader\n",
        "# tipusos lista beolvasása és megjelenítése\n",
        "data = yaml.load('''\n",
        "negative: !!int -12\n",
        "zero: !!int 0\n",
        "positive: !!int 34\n",
        "explicit_string: !!str 0.5                    # explicit lehet típusokat jelölni.\n",
        "python_complex_number: !!python/complex 1+2j  # Python komplex szám típusának jelölésére:\n",
        " ''', Loader=yaml.FullLoader)\n",
        "print(data)"
      ]
    },
    {
      "cell_type": "code",
      "execution_count": null,
      "metadata": {
        "id": "ezJBb8iOyD87",
        "outputId": "ca4f71a7-cddc-4bfb-8794-50a188f7c298"
      },
      "outputs": [
        {
          "name": "stdout",
          "output_type": "stream",
          "text": [
            "{'anchored_tartalom': None, 'anchor_neve': 'lajos', 'másik_anchor': None}\n"
          ]
        }
      ],
      "source": [
        "import yaml\n",
        "from yaml.loader import SafeLoader\n",
        "# A YAML-ben ún. 'anchor'-ök segítségével könnyen lehet duplikálni tartalmakat a dokumentumon belül\n",
        "data = yaml.load('''\n",
        "anchored_tartalom: Ildikó\n",
        "anchor_neve: lajos\n",
        "anchored_tartalom: &anchor_neve            ## Ez a sztring két kulcs értéke is lesz.\n",
        "másik_anchor: *anchor_neve\n",
        " ''', Loader=yaml.FullLoader)\n",
        "print(data)"
      ]
    },
    {
      "cell_type": "code",
      "execution_count": null,
      "metadata": {
        "id": "IbM-MRxqyD88",
        "outputId": "1b10f81e-3ed3-47b2-9d3f-745f2535c429"
      },
      "outputs": [
        {
          "name": "stdout",
          "output_type": "stream",
          "text": [
            "{'elem1': None, 'elem2': None, 'elem3': None, 'elem4': None, 'elem5': None}\n"
          ]
        }
      ],
      "source": [
        "import yaml\n",
        "from yaml.loader import SafeLoader\n",
        "\n",
        "# halmaz (set) tipus beolvasása és megjelenítése //  ? a kulcs kezdet jelőlője az : jel az érték kezdet jelőlője\n",
        "data = yaml.load('''\n",
        " ? elem1\n",
        " ? elem2\n",
        " ? elem3\n",
        " elem4: null  # más formátum\n",
        " elem5: null\n",
        " ''', Loader=yaml.FullLoader)\n",
        "print(data)\n"
      ]
    },
    {
      "cell_type": "code",
      "execution_count": null,
      "metadata": {
        "id": "-l4eLUtxyD88",
        "outputId": "67ff1a16-eee7-4c54-8c54-d3ef467686b9"
      },
      "outputs": [
        {
          "name": "stdout",
          "output_type": "stream",
          "text": [
            "{'gif_file': b\"GIF89a\\x0c\\x00\\x0c\\x00\\x84\\x00\\x00\\xff\\xff\\xf7\\xf5\\xf5\\xee\\xe9\\xe9\\xe5fff\\x00\\x00\\x00\\xe7\\xe7\\xe7^^^\\xf3\\xf3\\xed\\x8e\\x8e\\x8e\\xe0\\xe0\\xe0\\x9f\\x9f\\x9f\\x93\\x93\\x93\\xa7\\xa7\\xa7\\x9e\\x9e\\x9eiiiccc\\xa3\\xa3\\xa3\\x84\\x84\\x84\\xff\\xfe\\xf9\\xff\\xfe\\xf9\\xff\\xfe\\xf9\\xff\\xfe\\xf9\\xff\\xfe\\xf9\\xff\\xfe\\xf9\\xff\\xfe\\xf9\\xff\\xfe\\xf9\\xff\\xfe\\xf9\\xff\\xfe\\xf9\\xff\\xfe\\xf9\\xff\\xfe\\xf9\\xff\\xfe\\xf9\\xff\\xfe\\xf9!\\xfe\\x0eMade with GIMP\\x00,\\x00\\x00\\x00\\x00\\x0c\\x00\\x0c\\x00\\x00\\x05,  \\x8e\\x810\\x9e\\xe3@\\x14\\xe8i\\x10\\xc4\\xd1\\x8a\\x08\\x1c\\xcf\\x80M$z\\xef\\xff0\\x85p\\xb8\\xb01f\\r\\x1b\\xce\\x01\\xc3\\x01\\x1e\\x10' \\x82\\n\\x01\\x00;\"}\n"
          ]
        }
      ],
      "source": [
        "import yaml\n",
        "from yaml.loader import SafeLoader\n",
        "\n",
        "# bináris, blob tipus beolvasása és megjelenítése\n",
        "data = yaml.load('''\n",
        "gif_file: !!binary |\n",
        "    R0lGODlhDAAMAIQAAP//9/X17unp5WZmZgAAAOfn515eXvPz7Y6OjuDg4J+fn5\n",
        "    OTk6enp56enmlpaWNjY6Ojo4SEhP/++f/++f/++f/++f/++f/++f/++f/++f/+\n",
        "    +f/++f/++f/++f/++f/++SH+Dk1hZGUgd2l0aCBHSU1QACwAAAAADAAMAAAFLC\n",
        "    AgjoEwnuNAFOhpEMTRiggcz4BNJHrv/zCFcLiwMWYNG84BwwEeECcgggoBADs=\n",
        " ''', Loader=yaml.FullLoader)\n",
        "print(data)"
      ]
    },
    {
      "cell_type": "code",
      "execution_count": null,
      "metadata": {
        "id": "2hhP-rOZyD89",
        "outputId": "6dc339ab-d410-41f7-9bca-46c3e0c70b55"
      },
      "outputs": [
        {
          "name": "stdout",
          "output_type": "stream",
          "text": [
            "date: 2002-12-14\n",
            "datetime: 2001-12-15 02:59:43.100000+00:00\n",
            "datetime_with_spaces: 2001-12-14 21:59:43.100000-05:00\n",
            "\n"
          ]
        }
      ],
      "source": [
        "import yaml\n",
        "from yaml.loader import SafeLoader\n",
        "\n",
        "# dátum tipus beolvasása és megjelenítése\n",
        "data = yaml.load('''\n",
        "datetime: 2001-12-15T02:59:43.1Z\n",
        "datetime_with_spaces: 2001-12-14 21:59:43.10 -5\n",
        "date: 2002-12-14\n",
        " ''', Loader=yaml.FullLoader)\n",
        "#print(data)\n",
        "print(yaml.dump(data, indent=4, default_flow_style=False))"
      ]
    },
    {
      "cell_type": "code",
      "execution_count": null,
      "metadata": {
        "id": "Q3ms58OzyD8-",
        "outputId": "3ee0333e-f615-431f-f347-21b3e082678d"
      },
      "outputs": [
        {
          "name": "stdout",
          "output_type": "stream",
          "text": [
            "folded_style: \"Az az eg\\xE9sz sz\\xF6veg-blokk lesz az \\xE9rt\\xE9ke a 'folded_style'\\\n",
            "    \\ kulcsnak, de ez\\xFAttal minden sort\\xF6r\\xE9s egy sz\\xF3k\\xF6zre lesz cser\\xE9\\\n",
            "    lve.\\nAz \\xFCres sorok, mint a fenti, \\xFAj sor karakterre cser\\xE9l\\u0151dnek.\\n\\\n",
            "    \\n    A jobban beh\\xFAzott sorok megtartj\\xE1k a sort\\xF6r\\xE9seiket, -\\n    ez\\\n",
            "    \\ a sz\\xF6veg k\\xE9t sorban jelenik meg.\\n\"\n",
            "literal_block: \"Ez az eg\\xE9sz sz\\xF6veg-blokk lesz az \\xE9rt\\xE9ke a literal_block\\\n",
            "    \\ kulcsnak,\\na sort\\xF6r\\xE9seket megtartva.\\n\\nAz ilyen sztringn\\xE9l beh\\xFA\\\n",
            "    z\\xE1s pedig\\nelt\\xE1vol\\xEDt\\xE1sra ker\\xFCl.\\n\"\n",
            "\n"
          ]
        }
      ],
      "source": [
        "import yaml\n",
        "from yaml.loader import SafeLoader\n",
        "\n",
        "# többsoros szövegek megadása, beolvasása és megjelenítése\n",
        "data = yaml.load('''\n",
        "literal_block: |\n",
        "    Ez az egész szöveg-blokk lesz az értéke a literal_block kulcsnak,\n",
        "    a sortöréseket megtartva.\n",
        "\n",
        "    Az ilyen sztringnél behúzás pedig\n",
        "    eltávolításra kerül.\n",
        "\n",
        "folded_style: >\n",
        "    Az az egész szöveg-blokk lesz az értéke a 'folded_style' kulcsnak, de\n",
        "    ezúttal minden sortörés egy szóközre lesz cserélve.\n",
        "\n",
        "    Az üres sorok, mint a fenti, új sor karakterre cserélődnek.\n",
        "\n",
        "        A jobban behúzott sorok megtartják a sortöréseiket, -\n",
        "        ez a szöveg két sorban jelenik meg.\n",
        " ''', Loader=yaml.FullLoader)\n",
        "#print(data)\n",
        "print(yaml.dump(data, indent=4, default_flow_style=False))\n"
      ]
    },
    {
      "cell_type": "code",
      "execution_count": null,
      "metadata": {
        "id": "-Rhp6OOiyD8-",
        "outputId": "02ffc02d-de76-4d2c-e23b-71b8b42dbd04"
      },
      "outputs": [
        {
          "name": "stdout",
          "output_type": "stream",
          "text": [
            "beagyazott_map:\n",
            "    another_key: Another Value\n",
            "    key: value\n",
            "    masik_beagyazott_map:\n",
            "        hello: hello\n",
            "0.42: \"lebeg\\u0151pontos kulcs\"\n",
            "? \"Ez itt egy\\nt\\xF6bbsoros kulcs\\n\"\n",
            ": \"\\xE9s ez az \\xE9rt\\xE9ke\"\n",
            "\n"
          ]
        }
      ],
      "source": [
        "import yaml\n",
        "from yaml.loader import SafeLoader\n",
        "\n",
        "# Egymásba ágyazás a behúzás változtatásával érhető el.\n",
        "data = yaml.load('''\n",
        "beagyazott_map:\n",
        "    key: value\n",
        "    another_key: Another Value\n",
        "    masik_beagyazott_map:\n",
        "        hello: hello\n",
        "0.42: lebegőpontos kulcs   ## nem csak strin lehet a kulcs, itt lebegőpontos szám a kulcs\n",
        "? |\n",
        "    Ez itt egy\n",
        "    többsoros kulcs\n",
        ": és ez az értéke          ## nagyon nagy akár több soros kulcs is megadható\n",
        " ''', Loader=yaml.FullLoader)\n",
        "#print(data)\n",
        "print(yaml.dump(data, indent=4, default_flow_style=False))"
      ]
    },
    {
      "cell_type": "code",
      "execution_count": null,
      "metadata": {
        "id": "0krbpGBLyD8_",
        "outputId": "c9a22d8f-7461-4eaa-dc3d-72e5afd8a837"
      },
      "outputs": [
        {
          "name": "stdout",
          "output_type": "stream",
          "text": [
            " --data\n",
            " European:\n",
            "- Boston Red Sox\n",
            "- Detroit Tigers\n",
            "- New York Yankees\n",
            "national:\n",
            "- New York Mets\n",
            "- Chicago Cubs\n",
            "- Atlanta Braves\n",
            "-   avg: 0.278\n",
            "    hr: 87\n",
            "    name: Mark Joseph\n",
            "-   avg: 0.288\n",
            "    hr: 63\n",
            "    name: James Stephen\n",
            "\n",
            "-------------------------\n",
            " --data3\n",
            " defaults:\n",
            "    adapter: postgres\n",
            "    host: localhost\n",
            "development:\n",
            "    adapter: postgres\n",
            "    database: myapp_development\n",
            "    host: localhost\n",
            "test:\n",
            "    adapter: postgres\n",
            "    database: myapp_test\n",
            "    host: localhost\n",
            "\n"
          ]
        }
      ],
      "source": [
        "import yaml\n",
        "from yaml.loader import SafeLoader\n",
        "\n",
        "# bonyi stuktura\n",
        "data = yaml.load('''\n",
        "European:\n",
        "- Boston Red Sox\n",
        "- Detroit Tigers\n",
        "- New York Yankees\n",
        "national:\n",
        "- New York Mets\n",
        "- Chicago Cubs\n",
        "- Atlanta Braves\n",
        "-\n",
        "  name: Mark Joseph\n",
        "  hr: 87\n",
        "  avg: 0.278\n",
        "-\n",
        "  name: James Stephen\n",
        "  hr: 63\n",
        "  avg: 0.288\n",
        "''', Loader=yaml.FullLoader)\n",
        "\n",
        "data3 = yaml.load('''\n",
        "defaults: &defaults    ## hivatkozás készítése\n",
        " adapter: postgres\n",
        " host: localhost\n",
        "development:\n",
        " database: myapp_development\n",
        " <<: *defaults          ## hivatkozás által átvett értékkészlet betöltése\n",
        "test:\n",
        " database: myapp_test\n",
        " <<: *defaults\n",
        "\n",
        "''', Loader=yaml.FullLoader)\n",
        "\n",
        "print(' --data\\n', yaml.dump(data, indent=4, default_flow_style=False))\n",
        "print('-------------------------')\n",
        "print(' --data3\\n', yaml.dump(data3, indent=4, default_flow_style=False))"
      ]
    },
    {
      "cell_type": "code",
      "execution_count": null,
      "metadata": {
        "id": "m5162g6TyD8_",
        "outputId": "6326c979-8f88-470e-82af-092faee27260"
      },
      "outputs": [
        {
          "name": "stdout",
          "output_type": "stream",
          "text": [
            "{'sequence': ['one', 'two'], 'mapping': {'sky': 'blue', 'sea': 'green'}} \n",
            "----------------\n",
            "\n",
            " --data\n",
            " mapping:\n",
            "    sea: green\n",
            "    sky: blue\n",
            "sequence:\n",
            "- one\n",
            "- two\n",
            "\n",
            "{'Not indented': {'By one space': 'By four spaces ', 'Flow style': ['By two', 'Still by two', 'Again by two']}} \n",
            "----------------\n",
            "\n",
            " --data3\n",
            " Not indented:\n",
            "    By one space: 'By four spaces '\n",
            "    Flow style:\n",
            "    - By two\n",
            "    - Still by two\n",
            "    - Again by two\n",
            "\n",
            "{'Eredeti': 'Value', 'Hivatkozott': 'Value'} \n",
            "----------------\n",
            "\n",
            " --data4\n",
            " Eredeti: Value\n",
            "Hivatkozott: Value\n",
            "\n"
          ]
        }
      ],
      "source": [
        "import yaml\n",
        "from yaml.loader import SafeLoader\n",
        "\n",
        "# yaml map használat\n",
        "data = yaml.load('''\n",
        "!!map {\n",
        "? !!str \"sequence\"\n",
        ": !!seq [\n",
        "!!str \"one\", !!str \"two\"\n",
        "],\n",
        "? !!str \"mapping\"\n",
        ": !!map {\n",
        "? !!str \"sky\" : !!str \"blue\",\n",
        "? !!str \"sea\" : !!str \"green\",\n",
        "}\n",
        "}\n",
        "''', Loader=yaml.FullLoader)\n",
        "\n",
        "data3 = yaml.load('''\n",
        "!!map {\n",
        "? !!str \"Not indented\"\n",
        ": !!map {\n",
        "? !!str \"By one space\"\n",
        ": !!str \"By four\\n spaces\\n\",\n",
        "? !!str \"Flow style\"\n",
        ": !!seq [\n",
        "!!str \"By two\",\n",
        "!!str \"Still by two\",\n",
        "!!str \"Again by two\",\n",
        "]\n",
        "}\n",
        "}\n",
        "''', Loader=yaml.FullLoader)\n",
        "\n",
        "data4 = yaml.load('''\n",
        "!!map {\n",
        "? !!str \"Eredeti\"\n",
        ": &A !!str \"Value\",            ## alias node          // hivatkozozás értékre\n",
        "? !!str \"Hivatkozott\"\n",
        ": *A                           ## behelyettesítés     // hivatkozott érték betöltése\n",
        "}\n",
        "''', Loader=yaml.FullLoader)\n",
        "print(data,'\\n----------------\\n')\n",
        "print(' --data\\n', yaml.dump(data , indent=4, default_flow_style=False))\n",
        "print(data3,'\\n----------------\\n')\n",
        "print(' --data3\\n', yaml.dump(data3, indent=4, default_flow_style=False))\n",
        "print(data4,'\\n----------------\\n')\n",
        "print(' --data4\\n', yaml.dump(data4, indent=4, default_flow_style=False))"
      ]
    },
    {
      "cell_type": "code",
      "execution_count": null,
      "metadata": {
        "id": "xs4EqUHTyD9A",
        "outputId": "90c61f00-ad29-4650-da7a-6baf23e21621"
      },
      "outputs": [
        {
          "name": "stdout",
          "output_type": "stream",
          "text": [
            "{'egy_szekvencia': ['Item 1', 'Item 2', 0.5, 'Item 4', {'key': 'value'}, {'another_key': 'another_value'}, ['Ez egy szekvencia', 'egy másik szekvenciába ágyazva']]} \n",
            "----------------\n",
            "\n",
            " --data\n",
            " egy_szekvencia:\n",
            "- Item 1\n",
            "- Item 2\n",
            "- 0.5\n",
            "- Item 4\n",
            "-   key: value\n",
            "-   another_key: another_value\n",
            "-   - Ez egy szekvencia\n",
            "    - \"egy m\\xE1sik szekvenci\\xE1ba \\xE1gyazva\"\n",
            "\n",
            "{'A null': None, 'Booleans': [True, False], 'Integers': [0, 0, 3, -19], 'Floats': [0.0, -0.0, '14e3', '-2E+05'], 'Invalid': [True, None, '0o7', 58, 12.3]} \n",
            "----------------\n",
            "\n",
            " --data2\n",
            " A null: null\n",
            "Booleans:\n",
            "- true\n",
            "- false\n",
            "Floats:\n",
            "- 0.0\n",
            "- -0.0\n",
            "- 14e3\n",
            "- -2E+05\n",
            "Integers:\n",
            "- 0\n",
            "- 0\n",
            "- 3\n",
            "- -19\n",
            "Invalid:\n",
            "- true\n",
            "- null\n",
            "- 0o7\n",
            "- 58\n",
            "- 12.3\n",
            "\n"
          ]
        }
      ],
      "source": [
        "import yaml\n",
        "from yaml.loader import SafeLoader\n",
        "\n",
        "# Egymásba ágyazás a behúzás változtatásával érhető el.\n",
        "data = yaml.load('''\n",
        "egy_szekvencia:\n",
        "    - Item 1\n",
        "    - Item 2\n",
        "    - 0.5 # Többféle típust is tartalmazhat\n",
        "    - Item 4\n",
        "    - key: value\n",
        "    - another_key: another_value\n",
        "    -\n",
        "        - Ez egy szekvencia\n",
        "        - egy másik szekvenciába ágyazva\n",
        " ''', Loader=yaml.FullLoader)\n",
        "\n",
        "data2 = yaml.load('''\n",
        "A null: null\n",
        "Booleans: [ true, false ]\n",
        "Integers: [ 0, -0, 3, -19 ]\n",
        "Floats: [ 0., -0.0, 14e3, -2E+05 ]\n",
        "Invalid: [ True, Null, 0o7, 0x3A, +12.3 ]\n",
        "''', Loader=yaml.FullLoader)\n",
        "\n",
        "print(data,'\\n----------------\\n')\n",
        "print(' --data\\n', yaml.dump(data , indent=4, default_flow_style=False))\n",
        "print(data2,'\\n----------------\\n')\n",
        "print(' --data2\\n', yaml.dump(data2, indent=4, default_flow_style=False))"
      ]
    },
    {
      "cell_type": "code",
      "execution_count": null,
      "metadata": {
        "id": "H769c6P-yD9A",
        "outputId": "e7338142-c6c7-4442-ae44-c7ae10ea3ea0"
      },
      "outputs": [
        {
          "name": "stdout",
          "output_type": "stream",
          "text": [
            "{\n",
            "  \"UserName\": \"Boss\",\n",
            "  \"Password\": \"God+123*\",\n",
            "  \"phone\": 36703101111,\n",
            "  \"AccessKeys\": [\n",
            "    \"EmployeeTable\",\n",
            "    \"SoftwaresList\",\n",
            "    \"HardwareList\"\n",
            "  ]\n",
            "}\n"
          ]
        }
      ],
      "source": [
        "import yaml\n",
        "import json\n",
        "\n",
        "## konverzió yaml -> json\n",
        "# yaml file beolvasás\n",
        "with open(r'c:\\Users\\User\\Downloads\\KlYamlMinta.yaml', 'r') as file:\n",
        "    configuration = yaml.safe_load(file)\n",
        "    \n",
        "# kiírás json formátumba\n",
        "with open(r'c:\\Users\\User\\Downloads\\KlYamlMinta.json', 'w') as json_file:\n",
        "    json.dump(configuration, json_file)\n",
        "\n",
        "# megnyítás ellenőrzés céljára\n",
        "output = json.dumps(json.load(open(r'c:\\Users\\User\\Downloads\\KlYamlMinta.json')), indent=2)\n",
        "print(output)"
      ]
    },
    {
      "cell_type": "code",
      "execution_count": null,
      "metadata": {
        "id": "XvQh2PoIyD9B",
        "outputId": "990ffe30-0bca-4aca-81a4-88abc39f2989"
      },
      "outputs": [
        {
          "name": "stdout",
          "output_type": "stream",
          "text": [
            "\n",
            "-----------\n",
            " {'UserName': 'Boss', 'Password': 'God+123*', 'phone': 36703101111, 'AccessKeys': ['EmployeeTable', 'SoftwaresList', 'HardwareList']}\n",
            "\n",
            "-----------\n",
            " UserName :  Boss  | phone : 36703101111\n",
            "\n",
            "-----------\n",
            " <UserName>\n",
            "\tBoss\n",
            "</UserName>\n",
            "<Password>\n",
            "\tGod+123*\n",
            "</Password>\n",
            "<phone>\n",
            "\t36703101111\n",
            "</phone>\n",
            "<AccessKeys>\n",
            "\tEmployeeTable\n",
            "\tSoftwaresList\n",
            "\tHardwareList\n",
            "</AccessKeys>\n"
          ]
        }
      ],
      "source": [
        "def json2xml(json_obj, line_padding=\"\"):\n",
        "    result_list = list()\n",
        "\n",
        "    json_obj_type = type(json_obj)\n",
        "\n",
        "    if json_obj_type is list:\n",
        "        for sub_elem in json_obj:\n",
        "            result_list.append(json2xml(sub_elem, line_padding))\n",
        "\n",
        "        return \"\\n\".join(result_list)\n",
        "\n",
        "    if json_obj_type is dict:\n",
        "        for tag_name in json_obj:\n",
        "            sub_obj = json_obj[tag_name]\n",
        "            result_list.append(\"%s<%s>\" % (line_padding, tag_name))\n",
        "            result_list.append(json2xml(sub_obj, \"\\t\" + line_padding))\n",
        "            result_list.append(\"%s</%s>\" % (line_padding, tag_name))\n",
        "\n",
        "        return \"\\n\".join(result_list)\n",
        "\n",
        "    return \"%s%s\" % (line_padding, json_obj)\n",
        "\n",
        "##--------------------------------------------------\n",
        "\n",
        "## konverzió yaml -> xml\n",
        "# yaml file beolvasás   \n",
        "with open(r'c:\\Users\\User\\Downloads\\KlYamlMinta.yaml', 'r') as file:\n",
        "    root = yaml.safe_load(file)    \n",
        "    \n",
        "print('\\n-----------\\n', root)\n",
        "print('\\n-----------\\n', 'UserName : ', root['UserName'], ' | phone :', root['phone'] )\n",
        "# root = dict(root)\n",
        "# root = json.loads(json.dumps(root))\n",
        "root = json2xml(root)\n",
        "print('\\n-----------\\n', root)\n",
        "\n",
        "# f = open(r'c:\\Users\\User\\Downloads\\KlYamlMinta.xml', 'w')\n",
        "# f.write(root)\n",
        "# f.close()\n",
        "\n",
        "# kiírás xml formátumba\n",
        "with open(r'c:\\Users\\User\\Downloads\\KlYamlMinta.xml', \"w\") as outf:\n",
        "    outf.write(root)"
      ]
    },
    {
      "cell_type": "code",
      "execution_count": null,
      "metadata": {
        "id": "93rPYGkZyD9B"
      },
      "outputs": [],
      "source": [
        ""
      ]
    }
  ],
  "metadata": {
    "colab": {
      "collapsed_sections": [
        "S657YY_JGpQs",
        "4sOLjihFGpQ_"
      ],
      "name": "kl_py_yaml_01.ipynb",
      "provenance": [],
      "toc_visible": true,
      "include_colab_link": true
    },
    "kernelspec": {
      "display_name": "Python 3",
      "language": "python",
      "name": "python3"
    },
    "language_info": {
      "codemirror_mode": {
        "name": "ipython",
        "version": 3
      },
      "file_extension": ".py",
      "mimetype": "text/x-python",
      "name": "python",
      "nbconvert_exporter": "python",
      "pygments_lexer": "ipython3",
      "version": "3.8.8"
    }
  },
  "nbformat": 4,
  "nbformat_minor": 0
}