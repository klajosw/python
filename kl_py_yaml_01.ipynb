{
  "cells": [
    {
      "cell_type": "markdown",
      "metadata": {
        "id": "view-in-github",
        "colab_type": "text"
      },
      "source": [
        "<a href=\"https://colab.research.google.com/github/klajosw/python/blob/master/kl_py_yaml_01.ipynb\" target=\"_parent\"><img src=\"https://colab.research.google.com/assets/colab-badge.svg\" alt=\"Open In Colab\"/></a>"
      ]
    },
    {
      "cell_type": "markdown",
      "metadata": {
        "id": "T9AZS5srQ7Wt"
      },
      "source": [
        "<p align=\"left\"> \n",
        "    <img src=\"https://raw.githubusercontent.com/klajosw/python/master/kl_mie_python_logo_250.jpg\" \n",
        "         align=\"left\" width=\"251\" height=\"251\">\n",
        "    \n",
        "</p>\n",
        "\n",
        "\n",
        "<p> </p>\n",
        "\n",
        "\n",
        "\n",
        "# Python Yaml\n",
        "\n",
        "<https://klajosw.blogspot.com/>\n",
        "\n",
        "https://klajosw.blogspot.com/2022/03/yaml-hasznalat-pythonban.html\n",
        "\n",
        "---"
      ]
    },
    {
      "cell_type": "markdown",
      "metadata": {
        "id": "oPX6BbyLGpPC"
      },
      "source": [
        "---\n",
        "\n",
        "# Yaml alapok\n",
        "\n",
        "\n",
        "YAML (a rekurzív betűszó for \"YAML Ain't Markup Language\") egy ember által olvasható adat-sorosítási nyelv. <br>\n",
        "<br>\n",
        "A YAML egy adat beolvasást támogató nyelv, amit úgy terveztek, hogy közvetlenül (ember által) is olvasható és írható, könnyen értelmezhető legyen.<br>\n",
        "<br>\n",
        "Hagyományosan properties, xml és json filekból olvassa el a program indításhoz szükséges konfigurácios paramétereket egy program (pláne ha sok konfigurációs paraméterre, finom beállításokra van szükség).<br>\n",
        "Ezen az úton egy új megoldás a yaml.<br>\n",
        "<br>\n",
        "A JSON formátumnak egy szigorú befoglaló halmazát alkotja, kiegészítve azt szintaktikai jelentéssel bíró sortörésekkel és indentációval (behúzásokkal), a Pythonhoz hasonlóan.\n",
        "<br><br>\n",
        "Figyelem : \n",
        "  -  a Pythonnal ellentétben azonban a YAML nem engedélyezi a közvetlen tabulátor karakterek jelenlétét.<br>\n",
        "  -  UTF-8 ékezetes betűk használhatóak, ha a fájl kódlása megfelelő, a kódolást a tartalomban explicit nem kell (és nem is lehet) feltüntetni.<br>\n",
        "  - az ismétlődő kulcsok, amelyek érvényes JSON-ban,  érvénytelenek YAML-ban.<br>\n",
        "  \n",
        "<br><br>  \n",
        "Használat<br> \n",
        "<br> \n",
        "Napjainkban előszeretettel használják a felsző szolgáltatások (Cloud Computering) és konténerek (Doclet) világában konfigurálásra, valamit a GIT is alkalmazza.  (pl.: .workflow.yml)<br> \n",
        "A yaml filek kiterjesztése : yaml vagy yml <br> \n",
        "   \n",
        "---\n"
      ]
    },
    {
      "cell_type": "code",
      "execution_count": null,
      "metadata": {
        "colab": {
          "base_uri": "https://localhost:8080/",
          "height": 54
        },
        "id": "n_-Nn7IjGpPF",
        "outputId": "5e0ad3d2-b77f-44ab-837c-e230177dd034"
      },
      "outputs": [
        {
          "name": "stdout",
          "output_type": "stream",
          "text": [
            "-- python \n",
            "{'UserName': 'Boss', 'Password': 'God+123*', 'phone': 36703101111, 'AccessKeys': ['EmployeeTable', 'SoftwaresList', 'HardwareList']}\n",
            "\n",
            "-- dump()\n",
            "AccessKeys:\n",
            "- EmployeeTable\n",
            "- SoftwaresList\n",
            "- HardwareList\n",
            "Password: God+123*\n",
            "UserName: Boss\n",
            "phone: 36703101111\n",
            "\n",
            "\n",
            "-- dump_all()\n",
            "UserName\n",
            "--- Password\n",
            "--- phone\n",
            "--- AccessKeys\n",
            "...\n",
            "\n"
          ]
        }
      ],
      "source": [
        "import yaml\n",
        "from yaml.loader import SafeLoader\n",
        "\n",
        "# Yaml file biztonságos(SafeLoader) megnyítása és tartalmának megjelenítése\n",
        "with open(r'c:\\Users\\User\\Downloads\\KlYamlMinta.yaml') as f:\n",
        "    data = yaml.load(f, Loader=SafeLoader)\n",
        "print('-- python ')    \n",
        "print(data)                # python változóként  \n",
        "print('\\n-- dump()')\n",
        "print(yaml.dump(data))     # yaml tartalomként 1.\n",
        "print('\\n-- dump_all()')\n",
        "print(yaml.dump_all(data)) # yaml tartalomként 2."
      ]
    },
    {
      "cell_type": "code",
      "execution_count": null,
      "metadata": {
        "colab": {
          "base_uri": "https://localhost:8080/",
          "height": 255
        },
        "id": "1j6Pi7RZGpSp",
        "outputId": "f2e45373-48d8-4a42-ca3a-4459bd508f79"
      },
      "outputs": [
        {
          "name": "stdout",
          "output_type": "stream",
          "text": [
            "\n",
            "-- dump()\n",
            "- name: Boss\n",
            "  occupation: Leader\n",
            "- name: Doki\n",
            "  occupation: Dentist\n",
            "\n",
            "\n",
            "-- dump_all()\n",
            "name: Boss\n",
            "occupation: Leader\n",
            "---\n",
            "name: Doki\n",
            "occupation: Dentist\n",
            "\n"
          ]
        }
      ],
      "source": [
        "# dict létrehozása\n",
        "members = [{'name': 'Boss', 'occupation': 'Leader'},\n",
        "           {'name': 'Doki', 'occupation': 'Dentist'}]\n",
        "\n",
        "# YAML documentumba fordítás és megjelenítés\n",
        "print('\\n-- dump()')\n",
        "print(yaml.dump(members))\n",
        "\n",
        "print('\\n-- dump_all()')\n",
        "print(yaml.dump_all(members))"
      ]
    },
    {
      "cell_type": "code",
      "execution_count": null,
      "metadata": {
        "id": "g9rfoJoGQ7W2"
      },
      "outputs": [],
      "source": [
        "import yaml\n",
        "\n",
        "# Öszetett adatstuktura létrehozása\n",
        "user_details = {'UserName': 'Boss',\n",
        "                'Password': 'God+123*',\n",
        "                'phone': +36703101111,\n",
        "                'AccessKeys': ['EmployeeTable',\n",
        "                               'SoftwaresList',\n",
        "                               'HardwareList']}\n",
        "\n",
        "# YAML documentumba fordítás és megjelenítés\n",
        "with open(r'c:\\Users\\User\\Downloads\\KlYamlMinta.yaml', 'w') as f:\n",
        "    data = yaml.dump(user_details, f, sort_keys=False, default_flow_style=False)\n"
      ]
    },
    {
      "cell_type": "code",
      "execution_count": null,
      "metadata": {
        "id": "0WHFUeeKQ7W2",
        "outputId": "5b50d051-c375-4fb9-bd63-eca301930a3c"
      },
      "outputs": [
        {
          "name": "stdout",
          "output_type": "stream",
          "text": [
            "-- python \n",
            "{'UserName': 'Boss', 'Password': 'God+123*', 'phone': 36703101111, 'AccessKeys': ['EmployeeTable', 'SoftwaresList', 'HardwareList']}\n",
            "\n",
            "--Rendezés nélkül\n",
            "UserName: Boss\n",
            "Password: God+123*\n",
            "phone: 36703101111\n",
            "AccessKeys:\n",
            "- EmployeeTable\n",
            "- SoftwaresList\n",
            "- HardwareList\n",
            "\n",
            "\n",
            "--Rendezéssel\n",
            "AccessKeys:\n",
            "- EmployeeTable\n",
            "- SoftwaresList\n",
            "- HardwareList\n",
            "Password: God+123*\n",
            "UserName: Boss\n",
            "phone: 36703101111\n",
            "\n",
            "\n",
            "--Formázással\n",
            "AccessKeys:\n",
            "- EmployeeTable\n",
            "- SoftwaresList\n",
            "- HardwareList\n",
            "Password: God+123*\n",
            "UserName: Boss\n",
            "phone: 36703101111\n",
            "\n"
          ]
        }
      ],
      "source": [
        "import yaml\n",
        "\n",
        "with open(r'c:\\Users\\User\\Downloads\\KlYamlMinta.yaml') as f:\n",
        "    data = yaml.load(f, Loader=yaml.FullLoader)\n",
        "print('-- python ')    \n",
        "print(data)\n",
        "print('\\n--Rendezés nélkül')\n",
        "no_sorted_data = yaml.dump(data, sort_keys=False)\n",
        "print(no_sorted_data)\n",
        "print('\\n--Rendezéssel')\n",
        "sorted_data = yaml.dump(data, sort_keys=True)\n",
        "print(sorted_data)\n",
        "print('\\n--Formázással')\n",
        "print(yaml.dump(data, indent=4, default_flow_style=False))"
      ]
    },
    {
      "cell_type": "code",
      "execution_count": null,
      "metadata": {
        "id": "cgzbZyyCQ7W3",
        "outputId": "843f41e4-f185-4ebd-c5d7-118771c2bf85"
      },
      "outputs": [
        {
          "name": "stdout",
          "output_type": "stream",
          "text": [
            "['eggs', 'ham', 'milk', 'bread']\n"
          ]
        }
      ],
      "source": [
        "# direct felparaméterezés beolvasása és megjelenítése\n",
        "data = yaml.load('''\n",
        "# egyszerű lista\n",
        " - eggs   # tojás (megjegyzés a yaml-ban)\n",
        " - ham    # sonka\n",
        " - milk   # tej\n",
        " - bread  # kenyér\n",
        " ''', Loader=yaml.FullLoader)\n",
        "print(data)\n"
      ]
    },
    {
      "cell_type": "code",
      "execution_count": null,
      "metadata": {
        "id": "tXXeMvF8Q7W4",
        "outputId": "874c8e48-b772-4c3d-ac94-f5537f2574a8"
      },
      "outputs": [
        {
          "name": "stdout",
          "output_type": "stream",
          "text": [
            "{'negative': -12, 'zero': 0, 'positive': 34}\n"
          ]
        }
      ],
      "source": [
        "# direct felparaméterezés beolvasása és megjelenítése\n",
        "data = yaml.load('''\n",
        "negative: !!int -12\n",
        "zero: !!int 0\n",
        "positive: !!int 34\n",
        " ''', Loader=yaml.FullLoader)\n",
        "print(data)"
      ]
    },
    {
      "cell_type": "code",
      "execution_count": null,
      "metadata": {
        "id": "5lfsvgcZQ7W5",
        "outputId": "66a1c675-f9f3-44dc-b7b5-e680922d757c"
      },
      "outputs": [
        {
          "name": "stdout",
          "output_type": "stream",
          "text": [
            "{\n",
            "  \"UserName\": \"Boss\",\n",
            "  \"Password\": \"God+123*\",\n",
            "  \"phone\": 36703101111,\n",
            "  \"AccessKeys\": [\n",
            "    \"EmployeeTable\",\n",
            "    \"SoftwaresList\",\n",
            "    \"HardwareList\"\n",
            "  ]\n",
            "}\n"
          ]
        }
      ],
      "source": [
        "import yaml\n",
        "import json\n",
        "\n",
        "## konverzió yaml -> json\n",
        "# yaml file beolvasás\n",
        "with open(r'c:\\Users\\User\\Downloads\\KlYamlMinta.yaml', 'r') as file:\n",
        "    configuration = yaml.safe_load(file)\n",
        "    \n",
        "# kiírás json formátumba\n",
        "with open(r'c:\\Users\\User\\Downloads\\KlYamlMinta.json', 'w') as json_file:\n",
        "    json.dump(configuration, json_file)\n",
        "\n",
        "# megnyítás ellenőrzés céljára\n",
        "output = json.dumps(json.load(open(r'c:\\Users\\User\\Downloads\\KlYamlMinta.json')), indent=2)\n",
        "print(output)"
      ]
    },
    {
      "cell_type": "code",
      "execution_count": null,
      "metadata": {
        "id": "E3biCNS_Q7W6"
      },
      "outputs": [],
      "source": [
        "import xmlplain\n",
        "\n",
        "## konverzió yaml -> xml\n",
        "# yaml file beolvasás\n",
        "with open(r'c:\\Users\\User\\Downloads\\KlYamlMinta.yaml') as inf:\n",
        "    root = xmlplain.obj_from_yaml(inf)\n",
        "\n",
        "# kiírás xml formátumba\n",
        "with open(r'c:\\Users\\User\\Downloads\\KlYamlMinta.xml', \"w\") as outf:\n",
        "    xmlplain.xml_from_obj(root, outf, pretty=True)"
      ]
    },
    {
      "cell_type": "code",
      "execution_count": null,
      "metadata": {
        "id": "g2DuFTl7Q7W6"
      },
      "outputs": [],
      "source": [
        ""
      ]
    }
  ],
  "metadata": {
    "colab": {
      "collapsed_sections": [
        "S657YY_JGpQs",
        "4sOLjihFGpQ_"
      ],
      "name": "kl_py_yaml_01.ipynb",
      "provenance": [],
      "toc_visible": true,
      "include_colab_link": true
    },
    "kernelspec": {
      "display_name": "Python 3",
      "language": "python",
      "name": "python3"
    },
    "language_info": {
      "codemirror_mode": {
        "name": "ipython",
        "version": 3
      },
      "file_extension": ".py",
      "mimetype": "text/x-python",
      "name": "python",
      "nbconvert_exporter": "python",
      "pygments_lexer": "ipython3",
      "version": "3.8.8"
    }
  },
  "nbformat": 4,
  "nbformat_minor": 0
}