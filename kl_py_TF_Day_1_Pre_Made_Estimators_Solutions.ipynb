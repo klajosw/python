{
  "nbformat": 4,
  "nbformat_minor": 0,
  "metadata": {
    "accelerator": "GPU",
    "colab": {
      "name": "kl_py_TF_Day_1_Pre_Made_Estimators_Solutions.ipynb",
      "provenance": [],
      "collapsed_sections": [],
      "include_colab_link": true
    },
    "kernelspec": {
      "display_name": "Python 3",
      "language": "python",
      "name": "python3"
    },
    "language_info": {
      "codemirror_mode": {
        "name": "ipython",
        "version": 3
      },
      "file_extension": ".py",
      "mimetype": "text/x-python",
      "name": "python",
      "nbconvert_exporter": "python",
      "pygments_lexer": "ipython3",
      "version": "3.7.6"
    }
  },
  "cells": [
    {
      "cell_type": "markdown",
      "metadata": {
        "id": "view-in-github",
        "colab_type": "text"
      },
      "source": [
        "<a href=\"https://colab.research.google.com/github/klajosw/python/blob/master/kl_py_TF_Day_1_Pre_Made_Estimators_Solutions.ipynb\" target=\"_parent\"><img src=\"https://colab.research.google.com/assets/colab-badge.svg\" alt=\"Open In Colab\"/></a>"
      ]
    },
    {
      "cell_type": "markdown",
      "metadata": {
        "colab_type": "text",
        "id": "cqTmrQ_S2uHN"
      },
      "source": [
        "![TF](https://1.bp.blogspot.com/-eb-_3Aqu5bA/XnertoOpPgI/AAAAAAAAa6Y/8TPaJ8vjn2cN_so7xLeqPZDqX3pQjVARgCLcBGAsYHQ/s200/tf.jpg)\n",
        "\n",
        "## Pre-Made Estimators"
      ]
    },
    {
      "cell_type": "code",
      "metadata": {
        "colab_type": "code",
        "id": "Rs-U0Gbg2tOT",
        "colab": {}
      },
      "source": [
        "import tensorflow as tf\n",
        "import pandas as pd\n",
        "import numpy as np\n",
        "from sklearn.model_selection import train_test_split\n",
        "import matplotlib.pyplot as plt\n",
        "import itertools\n",
        "plt.rcParams[\"axes.grid\"] = False"
      ],
      "execution_count": 0,
      "outputs": []
    },
    {
      "cell_type": "markdown",
      "metadata": {
        "colab_type": "text",
        "id": "09FZfGX73c10"
      },
      "source": [
        "The Estimator is a high-level Tensorflow API. \n",
        "- It is built on top of the TensorFlow core API.\n",
        "\n",
        "It follows a **train-evaluate-predict** loop.\n",
        "\n",
        "Its goal is to handle the boring steps of training an ML model like:\n",
        "\n",
        "- Creating the computational graph\n",
        "- Initializing Variables\n",
        "- Training, testing, and making predictions\n",
        "- Visualizing training specific variables (learning rate, trainable variables and performance measures)\n",
        "- Saving the model\n",
        "\n",
        "\n",
        "![alt text](https://www.tensorflow.org/images/tensorflow_programming_environment.png)\n",
        "\n",
        "To write a TensorFlow program based on pre-made Estimators, you must perform the following tasks:\n",
        "\n",
        "1.  Create one or more **input functions**.\n",
        "2.  Define the model's **feature columns**.\n",
        "3. Instantiate an Estimator, specifying the feature columns and various hyperparameters.\n",
        "4. Train, Evaluate and Test\n",
        "\n",
        "# Loading Data"
      ]
    },
    {
      "cell_type": "code",
      "metadata": {
        "colab_type": "code",
        "id": "zyFPmARd8fUg",
        "colab": {}
      },
      "source": [
        "\"\"\"DO NOT NEED CHANGES\"\"\"\n",
        "def maybe_download():\n",
        "    train_path = tf.keras.utils.get_file(TRAIN_URL.split('/')[-1], TRAIN_URL)\n",
        "    test_path = tf.keras.utils.get_file(TEST_URL.split('/')[-1], TEST_URL)\n",
        "\n",
        "    return train_path, test_path"
      ],
      "execution_count": 0,
      "outputs": []
    },
    {
      "cell_type": "code",
      "metadata": {
        "colab_type": "code",
        "id": "GmASDzpA3zBn",
        "colab": {}
      },
      "source": [
        "\"\"\"DO NOT NEED CHANGES\"\"\"\n",
        "TRAIN_URL = \"http://download.tensorflow.org/data/iris_training.csv\"\n",
        "TEST_URL = \"http://download.tensorflow.org/data/iris_test.csv\"\n",
        "\n",
        "CSV_COLUMN_NAMES = ['SepalLength', 'SepalWidth',\n",
        "                    'PetalLength', 'PetalWidth', 'Species']\n",
        "SPECIES = ['Setosa', 'Versicolor', 'Virginica']\n",
        "\n",
        "\n",
        "def load_dataset():\n",
        "  train_path, test_path = maybe_download()\n",
        "  train_data = pd.read_csv(train_path, names=CSV_COLUMN_NAMES, header=0)\n",
        "  test_data = pd.read_csv(test_path, names=CSV_COLUMN_NAMES, header=0)\n",
        "  \n",
        "  train_input = train_data[CSV_COLUMN_NAMES[0:-1]]\n",
        "  train_labels = train_data[CSV_COLUMN_NAMES[-1]]\n",
        "  \n",
        "  test_input = test_data[CSV_COLUMN_NAMES[0:-1]]\n",
        "  test_labels = test_data[CSV_COLUMN_NAMES[-1]]\n",
        "  \n",
        "  return (train_input, train_labels), (test_input, test_labels)"
      ],
      "execution_count": 0,
      "outputs": []
    },
    {
      "cell_type": "markdown",
      "metadata": {
        "colab_type": "text",
        "id": "Emtq_oW0HtbZ"
      },
      "source": [
        "![alt text](https://www.tensorflow.org/images/iris_three_species.jpg)"
      ]
    },
    {
      "cell_type": "code",
      "metadata": {
        "colab_type": "code",
        "id": "_HNxFcVM8fyz",
        "colab": {}
      },
      "source": [
        "(X_train, y_train), (X_test, y_test) = load_dataset()"
      ],
      "execution_count": 0,
      "outputs": []
    },
    {
      "cell_type": "code",
      "metadata": {
        "colab_type": "code",
        "id": "L4dHRFlWUgDU",
        "outputId": "1409cedf-9e15-436b-bdb6-1be226994211",
        "colab": {
          "base_uri": "https://localhost:8080/",
          "height": 108
        }
      },
      "source": [
        "print(\"Visualize the Dataset shapes\")\n",
        "print(\"Train input:\", X_train.shape)\n",
        "print(\"Train labels:\", y_train.shape)\n",
        "print(\"Test input:\", X_test.shape)\n",
        "print(\"Test labels:\", y_test.shape)"
      ],
      "execution_count": 0,
      "outputs": [
        {
          "output_type": "stream",
          "text": [
            "Visualize the Dataset shapes\n",
            "Train input: (120, 4)\n",
            "Train labels: (120,)\n",
            "Test input: (30, 4)\n",
            "Test labels: (30,)\n"
          ],
          "name": "stdout"
        }
      ]
    },
    {
      "cell_type": "markdown",
      "metadata": {
        "colab_type": "text",
        "id": "3nUjVLf_H1nh"
      },
      "source": [
        "The Iris data set contains 4 features and 1 label. \n",
        "\n",
        "The 4 **features** identify the following botanical characteristics of individual Iris flowers:\n",
        "\n",
        "- sepal length\n",
        "- sepal width\n",
        "- petal length\n",
        "- petal width\n",
        "\n",
        "\n",
        "\n",
        "Our model will represent these features as float32 numerical data.\n",
        "\n",
        "The **label** identifies the Iris species, which must be one of the following:\n",
        "\n",
        "- Iris setosa (0)\n",
        "- Iris versicolor (1)\n",
        "- Iris virginica (2)\n",
        "\n",
        "Our model will represent the label as categorical data of type int."
      ]
    },
    {
      "cell_type": "code",
      "metadata": {
        "colab_type": "code",
        "id": "t3GLxIFMHU0E",
        "outputId": "89c4fa25-89ab-4e54-d9fa-bb089e932035",
        "colab": {
          "base_uri": "https://localhost:8080/",
          "height": 198
        }
      },
      "source": [
        "X_train.head()"
      ],
      "execution_count": 0,
      "outputs": [
        {
          "output_type": "execute_result",
          "data": {
            "text/html": [
              "<div>\n",
              "<style scoped>\n",
              "    .dataframe tbody tr th:only-of-type {\n",
              "        vertical-align: middle;\n",
              "    }\n",
              "\n",
              "    .dataframe tbody tr th {\n",
              "        vertical-align: top;\n",
              "    }\n",
              "\n",
              "    .dataframe thead th {\n",
              "        text-align: right;\n",
              "    }\n",
              "</style>\n",
              "<table border=\"1\" class=\"dataframe\">\n",
              "  <thead>\n",
              "    <tr style=\"text-align: right;\">\n",
              "      <th></th>\n",
              "      <th>SepalLength</th>\n",
              "      <th>SepalWidth</th>\n",
              "      <th>PetalLength</th>\n",
              "      <th>PetalWidth</th>\n",
              "    </tr>\n",
              "  </thead>\n",
              "  <tbody>\n",
              "    <tr>\n",
              "      <th>0</th>\n",
              "      <td>6.4</td>\n",
              "      <td>2.8</td>\n",
              "      <td>5.6</td>\n",
              "      <td>2.2</td>\n",
              "    </tr>\n",
              "    <tr>\n",
              "      <th>1</th>\n",
              "      <td>5.0</td>\n",
              "      <td>2.3</td>\n",
              "      <td>3.3</td>\n",
              "      <td>1.0</td>\n",
              "    </tr>\n",
              "    <tr>\n",
              "      <th>2</th>\n",
              "      <td>4.9</td>\n",
              "      <td>2.5</td>\n",
              "      <td>4.5</td>\n",
              "      <td>1.7</td>\n",
              "    </tr>\n",
              "    <tr>\n",
              "      <th>3</th>\n",
              "      <td>4.9</td>\n",
              "      <td>3.1</td>\n",
              "      <td>1.5</td>\n",
              "      <td>0.1</td>\n",
              "    </tr>\n",
              "    <tr>\n",
              "      <th>4</th>\n",
              "      <td>5.7</td>\n",
              "      <td>3.8</td>\n",
              "      <td>1.7</td>\n",
              "      <td>0.3</td>\n",
              "    </tr>\n",
              "  </tbody>\n",
              "</table>\n",
              "</div>"
            ],
            "text/plain": [
              "   SepalLength  SepalWidth  PetalLength  PetalWidth\n",
              "0          6.4         2.8          5.6         2.2\n",
              "1          5.0         2.3          3.3         1.0\n",
              "2          4.9         2.5          4.5         1.7\n",
              "3          4.9         3.1          1.5         0.1\n",
              "4          5.7         3.8          1.7         0.3"
            ]
          },
          "metadata": {
            "tags": []
          },
          "execution_count": 7
        }
      ]
    },
    {
      "cell_type": "code",
      "metadata": {
        "colab_type": "code",
        "id": "G8Iuj0njHaNX",
        "outputId": "2deb07cb-d9e6-456a-f8ae-41e5043e2086",
        "colab": {
          "base_uri": "https://localhost:8080/",
          "height": 126
        }
      },
      "source": [
        "y_train.head()"
      ],
      "execution_count": 0,
      "outputs": [
        {
          "output_type": "execute_result",
          "data": {
            "text/plain": [
              "0    2\n",
              "1    1\n",
              "2    2\n",
              "3    0\n",
              "4    0\n",
              "Name: Species, dtype: int64"
            ]
          },
          "metadata": {
            "tags": []
          },
          "execution_count": 8
        }
      ]
    },
    {
      "cell_type": "markdown",
      "metadata": {
        "colab_type": "text",
        "id": "IFad94RrSCyZ"
      },
      "source": [
        "##  Exercise: Creating Validation (Dev) set\n",
        "\n",
        "The Iris dataset is divided into Training and Testing sets.\n",
        "\n",
        "This time, let's **NOT** use the Test set for development. \n",
        "\n",
        "The idea is to have a different set for which we can perform **hyperparameter tuning** during training.\n",
        "\n",
        "That is the Dev or **Validation set**.\n",
        "\n",
        "- Separate the training set into 2 sets: **training** and **validation**.\n",
        "\n",
        "### Tip\n",
        "- *The size of the validation set may vary. 15 - 20% are good choices for this dataset.*\n",
        "- Use sklearn [train_test_split()](http://scikit-learn.org/stable/modules/generated/sklearn.model_selection.train_test_split.html).\n"
      ]
    },
    {
      "cell_type": "code",
      "metadata": {
        "colab_type": "code",
        "id": "PzlFnFP7SBcL",
        "colab": {}
      },
      "source": [
        "# CODE GOES HERE\n",
        "X_train, X_val, y_train, y_val = train_test_split(X_train, y_train, test_size=0.15, random_state=42)"
      ],
      "execution_count": 0,
      "outputs": []
    },
    {
      "cell_type": "code",
      "metadata": {
        "colab_type": "code",
        "id": "OYQDKxHFVAyY",
        "outputId": "d06911eb-7276-4b44-90d4-fc4548b3760a",
        "colab": {
          "base_uri": "https://localhost:8080/",
          "height": 108
        }
      },
      "source": [
        "print(\"Training/validation shapes\")\n",
        "print(\"Train input:\", X_train.shape)\n",
        "print(\"Train labels:\", y_train.shape)\n",
        "print(\"Test input:\", X_val.shape)\n",
        "print(\"Test labels:\", y_val.shape)"
      ],
      "execution_count": 0,
      "outputs": [
        {
          "output_type": "stream",
          "text": [
            "Training/validation shapes\n",
            "Train input: (102, 4)\n",
            "Train labels: (102,)\n",
            "Test input: (18, 4)\n",
            "Test labels: (18,)\n"
          ],
          "name": "stdout"
        }
      ]
    },
    {
      "cell_type": "markdown",
      "metadata": {
        "colab_type": "text",
        "id": "XE0JRtOAJ1Qi"
      },
      "source": [
        "# Creating Input funcions\n",
        "\n",
        "**Input functions are responsible for feeding data to ML Models created with the TF Estimators API.**\n",
        "\n",
        "The Estimator expects an *input_function()* to return a [tf.data.Dataset](https://www.tensorflow.org/api_docs/python/tf/data/Dataset) or a tuple of *(features, labels)*.\n",
        "\n",
        "Let's use the **tf.data.Dataset** as our input streaming.\n",
        "-  [tf.data.Dataset](https://www.tensorflow.org/api_docs/python/tf/data/Dataset) is the recommended Tensorflow input pipeline.\n",
        "\n",
        "Hint: [tf.data.Dataset template](https://www.tensorflow.org/get_started/datasets_quickstart)\n",
        "\n",
        "## Exercise\n",
        "\n",
        "Go ahaed and complete the input functions for training and validation."
      ]
    },
    {
      "cell_type": "code",
      "metadata": {
        "colab_type": "code",
        "id": "g69sCY5S8zYk",
        "colab": {}
      },
      "source": [
        "def train_input_fn(features, labels, batch_size):\n",
        "  \"\"\"\n",
        "  Provides input data for training\n",
        "  Return: A 'tf.data.Dataset' object: tuple (features, labels). \n",
        "          Or tuple (features, labels)\n",
        "  \"\"\"\n",
        "  \n",
        "  # Create the dataset object and return it\n",
        "  # Make sure you shuffle and define the batch size as given by the 'batch_size' parameter\n",
        "  dataset = tf.data.Dataset.from_tensor_slices((dict(features), labels))\n",
        "  dataset = dataset.shuffle(buffer_size=100)\n",
        "  dataset = dataset.repeat()\n",
        "  dataset = dataset.batch(batch_size)\n",
        "  return dataset # return the dataset object"
      ],
      "execution_count": 0,
      "outputs": []
    },
    {
      "cell_type": "code",
      "metadata": {
        "colab_type": "code",
        "id": "3aWlJkPaGrXg",
        "colab": {}
      },
      "source": [
        "def eval_input_fn(features, labels, batch_size):\n",
        "  \n",
        "  features = dict(features)\n",
        "  if labels is None:\n",
        "    inputs = features\n",
        "  else:\n",
        "    inputs = (dict(features), labels)\n",
        "  \n",
        "  # Create the tf.data.Dataset() object and return it\n",
        "  # Set the number of epochs to 1\n",
        "  dataset = tf.data.Dataset.from_tensor_slices(inputs)\n",
        "  dataset = dataset.repeat(1)\n",
        "  dataset = dataset.batch(batch_size)\n",
        "  return dataset"
      ],
      "execution_count": 0,
      "outputs": []
    },
    {
      "cell_type": "markdown",
      "metadata": {
        "colab_type": "text",
        "id": "pf6z_QJxEFFK"
      },
      "source": [
        "# Defining the Feature Columns\n",
        "\n",
        "Now, we have to convert our data into **Tensors** so that our Model can use it.\n",
        "\n",
        "Feature Columns provides a representation of how our model should interpret the data it will receive.\n",
        "- Is this column Numerical, Categorical or what?\n",
        "\n",
        "![alt text](https://www.tensorflow.org/images/feature_columns/some_constructors.jpg)\n",
        "\n",
        "**Feature Columns** define the **type of features** we are going to feed into our Models.\n",
        "\n",
        "The choice of Feature Columns depends on the Variable and Model type.\n",
        "\n",
        "Since the 4 feature of the Iris dataset are represented as continuos values, we need to especify it when creating the feature columns.\n",
        "\n",
        "To do that, we use the: [tf.feature_column.numeric_column()](https://www.tensorflow.org/api_docs/python/tf/feature_column/numeric_column) constructor.\n",
        "\n",
        "  - **tf.feature_column.numeric_column()** Represents real valued or numerical features.\n",
        "  \n",
        "Info++: [Feature Engineering](https://www.tensorflow.org/get_started/feature_columns)\n",
        "  \n",
        " \n"
      ]
    },
    {
      "cell_type": "code",
      "metadata": {
        "colab_type": "code",
        "id": "ZHeDQW56Li-s",
        "outputId": "8977a1d9-569a-4321-ef22-a2db7e67c68c",
        "colab": {
          "base_uri": "https://localhost:8080/",
          "height": 35
        }
      },
      "source": [
        "X_train.keys()"
      ],
      "execution_count": 0,
      "outputs": [
        {
          "output_type": "execute_result",
          "data": {
            "text/plain": [
              "Index(['SepalLength', 'SepalWidth', 'PetalLength', 'PetalWidth'], dtype='object')"
            ]
          },
          "metadata": {
            "tags": []
          },
          "execution_count": 13
        }
      ]
    },
    {
      "cell_type": "code",
      "metadata": {
        "colab_type": "code",
        "id": "PJEWtWQ_-v9s",
        "colab": {}
      },
      "source": [
        "# feature columns define how to use the feature data\n",
        "my_feature_columns = []\n",
        "\n",
        "my_feature_columns.append(tf.feature_column.numeric_column(key='SepalLength'))\n",
        "my_feature_columns.append(tf.feature_column.numeric_column(key='SepalWidth'))\n",
        "my_feature_columns.append(tf.feature_column.numeric_column(key='PetalLength'))\n",
        "my_feature_columns.append(tf.feature_column.numeric_column(key='PetalWidth'))"
      ],
      "execution_count": 0,
      "outputs": []
    },
    {
      "cell_type": "markdown",
      "metadata": {
        "colab_type": "text",
        "id": "Iihk9U-ubQbr"
      },
      "source": [
        "# Hyperparameters\n",
        "\n",
        "1. Tune the hyperparameters bellow."
      ]
    },
    {
      "cell_type": "code",
      "metadata": {
        "colab_type": "code",
        "id": "QRwjJ4qbbbzR",
        "colab": {}
      },
      "source": [
        "learning_rate = 0.1\n",
        "number_of_classes = 3 # number of classes from the Iris dataset\n",
        "batch_size = 16 # number of examples to feed to the network per step\n",
        "max_step = 2000 # maximum number of training steps\n",
        "regularization = 0.001 # regularization strength\n"
      ],
      "execution_count": 0,
      "outputs": []
    },
    {
      "cell_type": "markdown",
      "metadata": {
        "colab_type": "text",
        "id": "wCQTOJnbCjFo"
      },
      "source": [
        "# Building the Estimator\n",
        "\n",
        "An Estimator encapsulates all the necessary parts of a model. \n",
        "\n",
        "Some of the available Estimators include:\n",
        "\n",
        "1. **BoostedTrees** Classifier/Regressor\n",
        "2. **DNN Classifier**/Regressor\n",
        "3. **DNNLinearCombined** Classifier/Regressor\n",
        "4. **Linear** Classifier/Regressor\n",
        "\n",
        "Checkout: [tf.estimator](https://www.tensorflow.org/api_docs/python/tf/estimator)\n",
        "\n",
        "## Exercise\n",
        "\n",
        "1. Use the [tf.estimator.LinearClassifier](https://www.tensorflow.org/api_docs/python/tf/estimator/LinearClassifier) to classify the Iris Dataset.\n",
        "\n",
        "Things to keep in mind.\n",
        "  - Linear models are very simple, for this case, pay special attention to the **number of classes** and the **learning rate** tunning.\n",
        "  - Play with different configurations of **batch size**, it can have dramatic effects on how quick the model converges."
      ]
    },
    {
      "cell_type": "code",
      "metadata": {
        "colab_type": "code",
        "id": "jQBtZvi8CHKf",
        "outputId": "6de78b79-2f94-43a1-a637-dbe58672f9a5",
        "colab": {
          "base_uri": "https://localhost:8080/",
          "height": 92
        }
      },
      "source": [
        "classifier = tf.estimator.LinearClassifier(    \n",
        "    feature_columns=my_feature_columns, # pass the feature columns to the Linear Classifier\n",
        "    n_classes=number_of_classes, # Set the number of classes defined above\n",
        "    optimizer=tf.train.FtrlOptimizer( # Configure the loss function\n",
        "      learning_rate=learning_rate, # setup the learning rate\n",
        "      l1_regularization_strength=regularization # set the regularization strength \n",
        "    ))"
      ],
      "execution_count": 0,
      "outputs": [
        {
          "output_type": "stream",
          "text": [
            "INFO:tensorflow:Using default config.\n",
            "WARNING:tensorflow:Using temporary folder as model directory: /tmp/tmp71o8b9tm\n",
            "INFO:tensorflow:Using config: {'_model_dir': '/tmp/tmp71o8b9tm', '_tf_random_seed': None, '_save_summary_steps': 100, '_save_checkpoints_steps': None, '_save_checkpoints_secs': 600, '_session_config': None, '_keep_checkpoint_max': 5, '_keep_checkpoint_every_n_hours': 10000, '_log_step_count_steps': 100, '_train_distribute': None, '_device_fn': None, '_service': None, '_cluster_spec': <tensorflow.python.training.server_lib.ClusterSpec object at 0x7f43773e1c88>, '_task_type': 'worker', '_task_id': 0, '_global_id_in_cluster': 0, '_master': '', '_evaluation_master': '', '_is_chief': True, '_num_ps_replicas': 0, '_num_worker_replicas': 1}\n"
          ],
          "name": "stdout"
        }
      ]
    },
    {
      "cell_type": "markdown",
      "metadata": {
        "colab_type": "text",
        "id": "aGnEdrbmoBGa"
      },
      "source": [
        "### Tip\n",
        "\n",
        "You do NOT need to define nor control the TensorFlow Session. \n",
        "*Estimators take care of that for you.*\n",
        "\n",
        "## Exercise\n",
        "\n",
        "Use the *classifier.train()* method to train the built classifier.\n",
        "- Pass the  *train_input_fn()* as a lambda so you can control its input parameters.\n",
        "- Set the *steps* parameter to the maximum number of steps you defined to train your model."
      ]
    },
    {
      "cell_type": "code",
      "metadata": {
        "colab_type": "code",
        "id": "L4U3QtsFDHpB",
        "outputId": "5bcd2efd-93ad-4d29-f2dd-13ecfe1a608d",
        "colab": {
          "base_uri": "https://localhost:8080/",
          "height": 908
        }
      },
      "source": [
        "classifier.train(input_fn=lambda: train_input_fn(X_train, y_train, batch_size=batch_size), \n",
        "                 steps=max_step #  Number of steps for which to train model.\n",
        "                )"
      ],
      "execution_count": 0,
      "outputs": [
        {
          "output_type": "stream",
          "text": [
            "INFO:tensorflow:Calling model_fn.\n",
            "INFO:tensorflow:Done calling model_fn.\n",
            "INFO:tensorflow:Create CheckpointSaverHook.\n",
            "INFO:tensorflow:Graph was finalized.\n",
            "INFO:tensorflow:Running local_init_op.\n",
            "INFO:tensorflow:Done running local_init_op.\n",
            "INFO:tensorflow:Saving checkpoints for 0 into /tmp/tmp71o8b9tm/model.ckpt.\n",
            "INFO:tensorflow:loss = 17.577797, step = 0\n",
            "INFO:tensorflow:global_step/sec: 223.491\n",
            "INFO:tensorflow:loss = 7.956478, step = 100 (0.451 sec)\n",
            "INFO:tensorflow:global_step/sec: 186.913\n",
            "INFO:tensorflow:loss = 5.552061, step = 200 (0.538 sec)\n",
            "INFO:tensorflow:global_step/sec: 186.635\n",
            "INFO:tensorflow:loss = 4.5825543, step = 300 (0.532 sec)\n",
            "INFO:tensorflow:global_step/sec: 186.161\n",
            "INFO:tensorflow:loss = 3.3163636, step = 400 (0.537 sec)\n",
            "INFO:tensorflow:global_step/sec: 170.392\n",
            "INFO:tensorflow:loss = 4.0871553, step = 500 (0.587 sec)\n",
            "INFO:tensorflow:global_step/sec: 182.391\n",
            "INFO:tensorflow:loss = 4.061382, step = 600 (0.548 sec)\n",
            "INFO:tensorflow:global_step/sec: 177.823\n",
            "INFO:tensorflow:loss = 3.2096028, step = 700 (0.569 sec)\n",
            "INFO:tensorflow:global_step/sec: 178.353\n",
            "INFO:tensorflow:loss = 3.5447626, step = 800 (0.560 sec)\n",
            "INFO:tensorflow:global_step/sec: 194.695\n",
            "INFO:tensorflow:loss = 3.4896522, step = 900 (0.514 sec)\n",
            "INFO:tensorflow:global_step/sec: 197.075\n",
            "INFO:tensorflow:loss = 2.6321068, step = 1000 (0.506 sec)\n",
            "INFO:tensorflow:global_step/sec: 197.95\n",
            "INFO:tensorflow:loss = 4.45451, step = 1100 (0.507 sec)\n",
            "INFO:tensorflow:global_step/sec: 203.875\n",
            "INFO:tensorflow:loss = 2.4052541, step = 1200 (0.485 sec)\n",
            "INFO:tensorflow:global_step/sec: 213.742\n",
            "INFO:tensorflow:loss = 4.313611, step = 1300 (0.468 sec)\n",
            "INFO:tensorflow:global_step/sec: 215.506\n",
            "INFO:tensorflow:loss = 2.5904877, step = 1400 (0.467 sec)\n",
            "INFO:tensorflow:global_step/sec: 192.809\n",
            "INFO:tensorflow:loss = 2.7576346, step = 1500 (0.520 sec)\n",
            "INFO:tensorflow:global_step/sec: 191.139\n",
            "INFO:tensorflow:loss = 3.6837325, step = 1600 (0.523 sec)\n",
            "INFO:tensorflow:global_step/sec: 197.338\n",
            "INFO:tensorflow:loss = 3.628991, step = 1700 (0.505 sec)\n",
            "INFO:tensorflow:global_step/sec: 192.737\n",
            "INFO:tensorflow:loss = 3.6049676, step = 1800 (0.518 sec)\n",
            "INFO:tensorflow:global_step/sec: 204.091\n",
            "INFO:tensorflow:loss = 2.7496152, step = 1900 (0.496 sec)\n",
            "INFO:tensorflow:Saving checkpoints for 2000 into /tmp/tmp71o8b9tm/model.ckpt.\n",
            "INFO:tensorflow:Loss for final step: 2.87775.\n"
          ],
          "name": "stdout"
        },
        {
          "output_type": "execute_result",
          "data": {
            "text/plain": [
              "<tensorflow.python.estimator.canned.linear.LinearClassifier at 0x7f43773e1c18>"
            ]
          },
          "metadata": {
            "tags": []
          },
          "execution_count": 17
        }
      ]
    },
    {
      "cell_type": "markdown",
      "metadata": {
        "colab_type": "text",
        "id": "-uMr-6AppGzo"
      },
      "source": [
        "## Exercise - Validation\n",
        "\n",
        "Use the *eval_input_fn()* method to measure the performance of your model.\n",
        "\n",
        "- Use the **Validation set** to evaluate how good your model is becoming. \n",
        "- Here you are allowed to use this dataset to **change the model's hyperparameters**.\n",
        "\n",
        "\n",
        "\n"
      ]
    },
    {
      "cell_type": "code",
      "metadata": {
        "colab_type": "code",
        "id": "hA3DUaUIDtFY",
        "outputId": "11ea301b-3ae9-4af4-febb-9c4df2834096",
        "colab": {
          "base_uri": "https://localhost:8080/",
          "height": 199
        }
      },
      "source": [
        "eval_results = classifier.evaluate(input_fn=lambda: eval_input_fn(X_val, y_val, batch_size=16))"
      ],
      "execution_count": 0,
      "outputs": [
        {
          "output_type": "stream",
          "text": [
            "INFO:tensorflow:Calling model_fn.\n",
            "INFO:tensorflow:Done calling model_fn.\n",
            "INFO:tensorflow:Starting evaluation at 2018-06-25-18:47:55\n",
            "INFO:tensorflow:Graph was finalized.\n",
            "INFO:tensorflow:Restoring parameters from /tmp/tmp71o8b9tm/model.ckpt-2000\n",
            "INFO:tensorflow:Running local_init_op.\n",
            "INFO:tensorflow:Done running local_init_op.\n",
            "INFO:tensorflow:Finished evaluation at 2018-06-25-18:47:56\n",
            "INFO:tensorflow:Saving dict for global step 2000: accuracy = 0.9444444, average_loss = 0.20004624, global_step = 2000, loss = 1.8004162\n",
            "INFO:tensorflow:Saving 'checkpoint_path' summary for global step 2000: /tmp/tmp71o8b9tm/model.ckpt-2000\n"
          ],
          "name": "stdout"
        }
      ]
    },
    {
      "cell_type": "markdown",
      "metadata": {
        "colab_type": "text",
        "id": "InvMPSwxo7_F"
      },
      "source": [
        "## Exercise -Test\n",
        "\n",
        "Now, we want to use our **Testing set** to see how good our model really is.\n",
        "- Use the Unseen Test set now.\n",
        "- Use the same *eval_input_fn()* method you used for validation."
      ]
    },
    {
      "cell_type": "code",
      "metadata": {
        "colab_type": "code",
        "id": "-l-9hbiRmGln",
        "colab": {}
      },
      "source": [
        "predictions = classifier.predict(lambda: eval_input_fn(X_test, labels=None, batch_size=16))"
      ],
      "execution_count": 0,
      "outputs": []
    },
    {
      "cell_type": "code",
      "metadata": {
        "colab_type": "code",
        "id": "zaU7Jzxbmf7X",
        "outputId": "a163d117-f4b1-4320-ffbe-202ddbb9a6fa",
        "colab": {
          "base_uri": "https://localhost:8080/",
          "height": 1217
        }
      },
      "source": [
        "# Visualize the predictions and confidence for each of the Test set records\n",
        "SPECIES = ['Setosa', 'Versicolor', 'Virginica']\n",
        "template = ('\\nPrediction is \"{}\" ({:.1f}%), expected \"{}\"')\n",
        "prediction_values = []\n",
        "for pred_dict, expec in zip(predictions, y_test):\n",
        "  \n",
        "  # get the prediction class for each instance and save it\n",
        "  class_id = pred_dict['class_ids'][0]\n",
        "  prediction_values.append(class_id)\n",
        "  \n",
        "  # get and display the probabilities for each instance classification\n",
        "  probability = pred_dict['probabilities'][class_id]\n",
        "\n",
        "  print(template.format(SPECIES[class_id],\n",
        "                    100 * probability, SPECIES[expec]))"
      ],
      "execution_count": 0,
      "outputs": [
        {
          "output_type": "stream",
          "text": [
            "INFO:tensorflow:Calling model_fn.\n",
            "INFO:tensorflow:Done calling model_fn.\n",
            "INFO:tensorflow:Graph was finalized.\n",
            "INFO:tensorflow:Restoring parameters from /tmp/tmp71o8b9tm/model.ckpt-2000\n",
            "INFO:tensorflow:Running local_init_op.\n",
            "INFO:tensorflow:Done running local_init_op.\n",
            "\n",
            "Prediction is \"Versicolor\" (74.4%), expected \"Versicolor\"\n",
            "\n",
            "Prediction is \"Virginica\" (79.9%), expected \"Virginica\"\n",
            "\n",
            "Prediction is \"Setosa\" (96.2%), expected \"Setosa\"\n",
            "\n",
            "Prediction is \"Versicolor\" (72.7%), expected \"Versicolor\"\n",
            "\n",
            "Prediction is \"Versicolor\" (72.9%), expected \"Versicolor\"\n",
            "\n",
            "Prediction is \"Versicolor\" (84.1%), expected \"Versicolor\"\n",
            "\n",
            "Prediction is \"Setosa\" (99.8%), expected \"Setosa\"\n",
            "\n",
            "Prediction is \"Versicolor\" (50.9%), expected \"Virginica\"\n",
            "\n",
            "Prediction is \"Versicolor\" (82.2%), expected \"Versicolor\"\n",
            "\n",
            "Prediction is \"Virginica\" (86.6%), expected \"Virginica\"\n",
            "\n",
            "Prediction is \"Virginica\" (87.8%), expected \"Virginica\"\n",
            "\n",
            "Prediction is \"Setosa\" (98.9%), expected \"Setosa\"\n",
            "\n",
            "Prediction is \"Virginica\" (86.9%), expected \"Virginica\"\n",
            "\n",
            "Prediction is \"Versicolor\" (67.7%), expected \"Versicolor\"\n",
            "\n",
            "Prediction is \"Versicolor\" (87.2%), expected \"Versicolor\"\n",
            "\n",
            "Prediction is \"Setosa\" (99.2%), expected \"Setosa\"\n",
            "\n",
            "Prediction is \"Versicolor\" (89.4%), expected \"Versicolor\"\n",
            "\n",
            "Prediction is \"Setosa\" (96.7%), expected \"Setosa\"\n",
            "\n",
            "Prediction is \"Setosa\" (98.7%), expected \"Setosa\"\n",
            "\n",
            "Prediction is \"Virginica\" (91.1%), expected \"Virginica\"\n",
            "\n",
            "Prediction is \"Setosa\" (98.2%), expected \"Setosa\"\n",
            "\n",
            "Prediction is \"Versicolor\" (61.5%), expected \"Versicolor\"\n",
            "\n",
            "Prediction is \"Virginica\" (80.6%), expected \"Virginica\"\n",
            "\n",
            "Prediction is \"Virginica\" (52.5%), expected \"Versicolor\"\n",
            "\n",
            "Prediction is \"Versicolor\" (86.0%), expected \"Versicolor\"\n",
            "\n",
            "Prediction is \"Versicolor\" (74.4%), expected \"Versicolor\"\n",
            "\n",
            "Prediction is \"Setosa\" (99.7%), expected \"Setosa\"\n",
            "\n",
            "Prediction is \"Versicolor\" (77.6%), expected \"Versicolor\"\n",
            "\n",
            "Prediction is \"Virginica\" (95.0%), expected \"Virginica\"\n",
            "\n",
            "Prediction is \"Versicolor\" (86.0%), expected \"Versicolor\"\n"
          ],
          "name": "stdout"
        }
      ]
    },
    {
      "cell_type": "code",
      "metadata": {
        "colab_type": "code",
        "id": "WpMfuMoSq8Gq",
        "colab": {}
      },
      "source": [
        "\n",
        "def plot_confusion_matrix(cm, classes,\n",
        "                          normalize=False,\n",
        "                          title='Confusion matrix',\n",
        "                          cmap=plt.cm.Blues):\n",
        "    \"\"\"\n",
        "    This function prints and plots the confusion matrix.\n",
        "    Normalization can be applied by setting `normalize=True`.\n",
        "    \"\"\"\n",
        "    if normalize:\n",
        "        cm = cm.astype('float') / cm.sum(axis=1)[:, np.newaxis]\n",
        "        print(\"Normalized confusion matrix\")\n",
        "    else:\n",
        "        print('Confusion matrix, without normalization')\n",
        "\n",
        "    print(cm)\n",
        "\n",
        "    plt.imshow(cm, interpolation='nearest', cmap=cmap)\n",
        "    plt.title(title)\n",
        "    plt.colorbar()\n",
        "    tick_marks = np.arange(len(classes))\n",
        "    plt.xticks(tick_marks, classes, rotation=45)\n",
        "    plt.yticks(tick_marks, classes)\n",
        "\n",
        "    fmt = '.2f' if normalize else 'd'\n",
        "    thresh = cm.max() / 2.\n",
        "    for i, j in itertools.product(range(cm.shape[0]), range(cm.shape[1])):\n",
        "        plt.text(j, i, format(cm[i, j], fmt),\n",
        "                 horizontalalignment=\"center\",\n",
        "                 color=\"white\" if cm[i, j] > thresh else \"black\")\n",
        "\n",
        "    plt.tight_layout()\n",
        "    plt.ylabel('True label')\n",
        "    plt.xlabel('Predicted label')"
      ],
      "execution_count": 0,
      "outputs": []
    },
    {
      "cell_type": "code",
      "metadata": {
        "colab_type": "code",
        "id": "o6-NuIOioMHJ",
        "outputId": "2f74112f-c967-4279-cf6a-a4f3525a65b9",
        "colab": {
          "base_uri": "https://localhost:8080/",
          "height": 506
        }
      },
      "source": [
        "from sklearn.metrics import confusion_matrix\n",
        "print(predictions)\n",
        "cnf_matrix = confusion_matrix(y_test, prediction_values)\n",
        "plot_confusion_matrix(cnf_matrix, classes=SPECIES,\n",
        "                      title='Confusion matrix, without normalization')"
      ],
      "execution_count": 0,
      "outputs": [
        {
          "output_type": "stream",
          "text": [
            "<generator object Estimator.predict at 0x7f436d032f10>\n",
            "Confusion matrix, without normalization\n",
            "[[ 8  0  0]\n",
            " [ 0 13  1]\n",
            " [ 0  1  7]]\n"
          ],
          "name": "stdout"
        },
        {
          "output_type": "display_data",
          "data": {
            "image/png": "[encoded data removed]",
            "text/plain": [
              "<matplotlib.figure.Figure at 0x7f436d062320>"
            ]
          },
          "metadata": {
            "tags": []
          }
        }
      ]
    },
    {
      "cell_type": "markdown",
      "metadata": {
        "colab_type": "text",
        "id": "AuxmT16LtogI"
      },
      "source": [
        "# Deep Neural Networks\n",
        "\n",
        "### Definition:\n",
        "\n",
        "\"*...a computing system made up of a number of simple, highly interconnected processing elements, which process information by their dynamic state response to external inputs.*\"\n",
        "\n",
        "- Function approximator\n",
        "- Very powerful for non-linear relationships\n",
        "- Represents a function as the composition of many functions.\n",
        "\n",
        "## Exercise\n",
        "\n",
        "1. Change the Linear Model Estimator to a Deep Neural Network.\n",
        "- Head over to the Tensorflow documentation for [tf.estimator.DNNClassifier](https://www.tensorflow.org/api_docs/python/tf/estimator/DNNClassifier) and check it out.\n",
        "\n",
        "Think about:\n",
        "\n",
        "- How many layers you need\n",
        "- The number of units in each layer\n",
        "- The activation function used by default\n",
        "- The Gradient Descent Optimizer. \n",
        "\n",
        "![alt text](https://www.tensorflow.org/images/custom_estimators/full_network.png)\n",
        "\n",
        "## Architecturing your network\n",
        "\n",
        "![LeNet-5](http://cs231n.github.io/assets/nn1/layer_sizes.jpeg)\n",
        "\n",
        "Neural Nets with more hidden layers are able to represent more complex functions. \n",
        "\n",
        "- With more power comes complicated decision boundaries.\n",
        "\n",
        "Take care with **Overfitting**!\n",
        "\n",
        "- It occurs when a model with **high capacity** fits the noise in the data instead of the (assumed) underlying relationship.\n"
      ]
    },
    {
      "cell_type": "markdown",
      "metadata": {
        "colab_type": "text",
        "id": "07xM_Mh0dlc8"
      },
      "source": [
        "# Regularization\n",
        "\n",
        "Effects of Regularization. The figure below shows the decision boundaries of the same DNN (20 hidden units), with different regularization penalties. \n",
        "\n",
        "Note that more regularization smooths the decision boundary.\n",
        "\n",
        "- It fights **Overfitting**.\n",
        "\n",
        "![alt text](http://cs231n.github.io/assets/nn1/reg_strengths.jpeg)"
      ]
    },
    {
      "cell_type": "code",
      "metadata": {
        "colab_type": "code",
        "id": "6C6iw34VuR2Y",
        "colab": {}
      },
      "source": [
        ""
      ],
      "execution_count": 0,
      "outputs": []
    }
  ]
}