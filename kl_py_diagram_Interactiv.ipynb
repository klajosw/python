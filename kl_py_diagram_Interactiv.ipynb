{
  "nbformat": 4,
  "nbformat_minor": 0,
  "metadata": {
    "anaconda-cloud": {},
    "hide_input": false,
    "kernelspec": {
      "display_name": "Python 3",
      "language": "python",
      "name": "python3"
    },
    "language_info": {
      "codemirror_mode": {
        "name": "ipython",
        "version": 3
      },
      "file_extension": ".py",
      "mimetype": "text/x-python",
      "name": "python",
      "nbconvert_exporter": "python",
      "pygments_lexer": "ipython3",
      "version": "3.7.4"
    },
    "latex_envs": {
      "bibliofile": "biblio.bib",
      "cite_by": "apalike",
      "current_citInitial": 1,
      "eqLabelWithNumbers": true,
      "eqNumInitial": 0
    },
    "name": "Interact.ipynb",
    "colab": {
      "name": "kl_py_diagram_Interactiv.ipynb",
      "provenance": [],
      "collapsed_sections": [],
      "include_colab_link": true
    }
  },
  "cells": [
    {
      "cell_type": "markdown",
      "metadata": {
        "id": "view-in-github",
        "colab_type": "text"
      },
      "source": [
        "<a href=\"https://colab.research.google.com/github/klajosw/python/blob/master/kl_py_diagram_Interactiv.ipynb\" target=\"_parent\"><img src=\"https://colab.research.google.com/assets/colab-badge.svg\" alt=\"Open In Colab\"/></a>"
      ]
    },
    {
      "cell_type": "markdown",
      "metadata": {
        "id": "2XlMs5-CZJ9g",
        "colab_type": "text"
      },
      "source": [
        "# Interaktív függvények és ábrák\n",
        "\n",
        "Az alábbiakban vizsgáljunk meg egy egyszerű módszert arra, hogy hogyan tehetjük Python-függvényeinket interaktívvá!\n",
        "Ehhez az `ipywidgets` csomag lesz segítségünkre!"
      ]
    },
    {
      "cell_type": "code",
      "metadata": {
        "id": "sqMP9Il0ZJ9i",
        "colab_type": "code",
        "colab": {},
        "outputId": "38358658-d598-4a86-8fd1-9abf41b37bb3"
      },
      "source": [
        "%pylab inline\n",
        "from ipywidgets import *  # az interaktivitásért felelős csomag"
      ],
      "execution_count": 0,
      "outputs": [
        {
          "output_type": "stream",
          "text": [
            "Populating the interactive namespace from numpy and matplotlib\n"
          ],
          "name": "stdout"
        }
      ]
    },
    {
      "cell_type": "markdown",
      "metadata": {
        "id": "z-Lv1yx8ZJ9l",
        "colab_type": "text"
      },
      "source": [
        "Mostanra már tudjuk, hogy hogyan ábrázoljunk egy matematikai függvényt:"
      ]
    },
    {
      "cell_type": "code",
      "metadata": {
        "id": "IvRyxtIAZJ9m",
        "colab_type": "code",
        "colab": {},
        "outputId": "1e45d203-81d5-4a21-e5f0-b2526c8d6fc0"
      },
      "source": [
        "t=linspace(0,2*pi,100);\n",
        "plot(t,sin(t))"
      ],
      "execution_count": 0,
      "outputs": [
        {
          "output_type": "execute_result",
          "data": {
            "text/plain": [
              "[<matplotlib.lines.Line2D at 0x7f4fd17b5198>]"
            ]
          },
          "metadata": {
            "tags": []
          },
          "execution_count": 2
        },
        {
          "output_type": "display_data",
          "data": {
            "image/png": "[encoded data removed]",
            "text/plain": [
              "<matplotlib.figure.Figure at 0x7f4fd359ae80>"
            ]
          },
          "metadata": {
            "tags": []
          }
        }
      ]
    },
    {
      "cell_type": "markdown",
      "metadata": {
        "id": "VflRirB4ZJ9o",
        "colab_type": "text"
      },
      "source": [
        "Írjunk egy függvényt, ami egy megadott frekvenciájú jelet rajzol ki!"
      ]
    },
    {
      "cell_type": "code",
      "metadata": {
        "id": "MpaEgAzFZJ9p",
        "colab_type": "code",
        "colab": {}
      },
      "source": [
        "def freki(omega):    \n",
        "    plot(t,sin(omega*t))"
      ],
      "execution_count": 0,
      "outputs": []
    },
    {
      "cell_type": "code",
      "metadata": {
        "id": "fM4XoFeZZJ9r",
        "colab_type": "code",
        "colab": {},
        "outputId": "5e10f1cb-7260-4d0e-818e-a1f06b8b008a"
      },
      "source": [
        "freki(2.0)"
      ],
      "execution_count": 0,
      "outputs": [
        {
          "output_type": "display_data",
          "data": {
            "image/png": "[encoded data removed]",
            "text/plain": [
              "<matplotlib.figure.Figure at 0x7f4fd3da5e80>"
            ]
          },
          "metadata": {
            "tags": []
          }
        }
      ]
    },
    {
      "cell_type": "markdown",
      "metadata": {
        "id": "xuAmFizhZJ9t",
        "colab_type": "text"
      },
      "source": [
        "Most jön a varázslat! Az `interact()` függvény segítségével interaktívvá tehetjük a fent definiált függvényünket!"
      ]
    },
    {
      "cell_type": "code",
      "metadata": {
        "id": "-qvxrQIQZJ9t",
        "colab_type": "code",
        "colab": {},
        "outputId": "833e32da-88bd-4534-b5e1-0f3807d17f37"
      },
      "source": [
        "interact(freki,omega=(0,10,0.1));"
      ],
      "execution_count": 0,
      "outputs": [
        {
          "output_type": "display_data",
          "data": {
            "image/png": "[encoded data removed]",
            "text/plain": [
              "<matplotlib.figure.Figure at 0x7f4fd39abe48>"
            ]
          },
          "metadata": {
            "tags": []
          }
        }
      ]
    },
    {
      "cell_type": "markdown",
      "metadata": {
        "id": "v7zzaiHpZJ9v",
        "colab_type": "text"
      },
      "source": [
        "Nézzük meg egy kicsit közelebbről, hogy is működik ez az `interact()` konstrukció! Definiáljunk ehhez először egy nagyon egyszerű függvényt!"
      ]
    },
    {
      "cell_type": "code",
      "metadata": {
        "id": "WndxpQ67ZJ9w",
        "colab_type": "code",
        "colab": {}
      },
      "source": [
        "def func(x):\n",
        "     print(x)"
      ],
      "execution_count": 0,
      "outputs": []
    },
    {
      "cell_type": "markdown",
      "metadata": {
        "id": "gkzqdFw0ZJ9y",
        "colab_type": "text"
      },
      "source": [
        "Az interact egy olyan függvény, amely az első paramétereként egy függvényt vár, és kulcsszavakként várja a függvény bemenő paramétereit! Amit visszaad, az egy interaktív **widget**, ami lehet sokfajta, de alapvetően azt a célt szolgálja, hogy a **func** függvényt kiszolgálja. Annak ad egy bemenő paramétert, lefuttatja, majd vár, hogy a felhasználó újra megváltoztassa az állapotot.\n",
        "Ha a kulcsszavas argumentumnak zárójelbe írt egész számokat adunk meg, akkor egy egész számokon végigmenő csúszkát kapunk:"
      ]
    },
    {
      "cell_type": "code",
      "metadata": {
        "id": "oGozmQFDZJ9y",
        "colab_type": "code",
        "colab": {},
        "outputId": "cef59694-892e-4f9f-ef15-4127cc4d9fb8"
      },
      "source": [
        "interact(func,x=(0,10)); "
      ],
      "execution_count": 0,
      "outputs": [
        {
          "output_type": "stream",
          "text": [
            "10\n"
          ],
          "name": "stdout"
        }
      ]
    },
    {
      "cell_type": "markdown",
      "metadata": {
        "id": "r3ljbiSdZJ90",
        "colab_type": "text"
      },
      "source": [
        "Ha egy `bool` értéket adunk meg, akkor egy pipálható dobozt:"
      ]
    },
    {
      "cell_type": "code",
      "metadata": {
        "id": "DrYn1cHwZJ91",
        "colab_type": "code",
        "colab": {},
        "outputId": "bf00fd82-4d16-443d-c752-80822d4168d3"
      },
      "source": [
        "interact(func,x=False);"
      ],
      "execution_count": 0,
      "outputs": [
        {
          "output_type": "stream",
          "text": [
            "True\n"
          ],
          "name": "stdout"
        }
      ]
    },
    {
      "cell_type": "markdown",
      "metadata": {
        "id": "PZkAtzz_ZJ93",
        "colab_type": "text"
      },
      "source": [
        "Ha egy általános listát adunk meg, akkor egy legördülő menüt kapunk:"
      ]
    },
    {
      "cell_type": "code",
      "metadata": {
        "id": "PB5ozRYjZJ93",
        "colab_type": "code",
        "colab": {},
        "outputId": "f87c5e54-b4d7-4741-ce65-18fbd328e614"
      },
      "source": [
        "interact(func,x=['hétfő','kedd','szerda']);"
      ],
      "execution_count": 0,
      "outputs": [
        {
          "output_type": "stream",
          "text": [
            "hétfő\n"
          ],
          "name": "stdout"
        }
      ]
    },
    {
      "cell_type": "markdown",
      "metadata": {
        "id": "TVtgpOl7ZJ95",
        "colab_type": "text"
      },
      "source": [
        "Ha a sima zárójelbe írt számok nem egészek (legalább az egyik) akkor egy float csúszkát kapunk:"
      ]
    },
    {
      "cell_type": "code",
      "metadata": {
        "id": "FdnsC8gEZJ96",
        "colab_type": "code",
        "colab": {},
        "outputId": "8586e411-f2ba-442f-b111-d17c6fbf0eb9"
      },
      "source": [
        "interact(func,x=(0,10,0.1));"
      ],
      "execution_count": 0,
      "outputs": [
        {
          "output_type": "stream",
          "text": [
            "3.3\n"
          ],
          "name": "stdout"
        }
      ]
    },
    {
      "cell_type": "markdown",
      "metadata": {
        "id": "oJShnKRHZJ98",
        "colab_type": "text"
      },
      "source": [
        "Ha pontosan specifikálni szeretnénk, hogy milyen interaktivitást akarunk, akkor azt az alábbiak szerint tehetjük meg, \n",
        "\n",
        "\n",
        "egész csúszka$\\rightarrow$IntSlider()\n",
        "\n",
        "float csúszka$\\rightarrow$FloatSlider()\n",
        "\n",
        "legördülő menü$\\rightarrow$Dropdown()\n",
        "\n",
        "pipa doboz$\\rightarrow$Checkbox()\n",
        "\n",
        "szövegdoboz$\\rightarrow$Text()\n",
        "\n",
        "Ezt alább néhány példa illusztrálja:"
      ]
    },
    {
      "cell_type": "code",
      "metadata": {
        "id": "5bNgAJMRZJ99",
        "colab_type": "code",
        "colab": {},
        "outputId": "9e3c025b-9f5e-488d-c431-7c3e6169a0df"
      },
      "source": [
        "interact(func,x=IntSlider(min=0,max=10,step=2,value=2,description='egesz szamos csuszka x='));"
      ],
      "execution_count": 0,
      "outputs": [
        {
          "output_type": "stream",
          "text": [
            "6\n"
          ],
          "name": "stdout"
        }
      ]
    },
    {
      "cell_type": "code",
      "metadata": {
        "id": "qI6YBOqsZJ9-",
        "colab_type": "code",
        "colab": {},
        "outputId": "d8d3bf01-9268-480b-abd2-b675a70a9657"
      },
      "source": [
        "interact(func,x=FloatSlider(min=0,max=10,step=0.01,value=2,description='float szamos csuszka x='));"
      ],
      "execution_count": 0,
      "outputs": [
        {
          "output_type": "stream",
          "text": [
            "6.05\n"
          ],
          "name": "stdout"
        }
      ]
    },
    {
      "cell_type": "code",
      "metadata": {
        "id": "zkrzXpVOZJ-A",
        "colab_type": "code",
        "colab": {},
        "outputId": "4996e3e1-5d79-4943-f1d9-4bfd52b5eb5b"
      },
      "source": [
        "interact(func,x=Dropdown(options=['Hétfő','Kedd','Szerda'],description='legörülő x='));"
      ],
      "execution_count": 0,
      "outputs": [
        {
          "output_type": "stream",
          "text": [
            "Kedd\n"
          ],
          "name": "stdout"
        }
      ]
    },
    {
      "cell_type": "code",
      "metadata": {
        "id": "fHPrl4nVZJ-C",
        "colab_type": "code",
        "colab": {},
        "outputId": "0aca14db-d8ba-4584-a484-8c4be7a4a949"
      },
      "source": [
        "interact(func,x=Checkbox());"
      ],
      "execution_count": 0,
      "outputs": [
        {
          "output_type": "stream",
          "text": [
            "True\n"
          ],
          "name": "stdout"
        }
      ]
    },
    {
      "cell_type": "code",
      "metadata": {
        "id": "cCbJkV8OZJ-E",
        "colab_type": "code",
        "colab": {},
        "outputId": "6aa469de-c636-4bed-a731-37e1eba20f28"
      },
      "source": [
        "interact(func,x=Text());"
      ],
      "execution_count": 0,
      "outputs": [
        {
          "output_type": "stream",
          "text": [
            "xfsyfsdfsdfds\n"
          ],
          "name": "stdout"
        }
      ]
    },
    {
      "cell_type": "markdown",
      "metadata": {
        "id": "ph4NF3mqZJ-G",
        "colab_type": "text"
      },
      "source": [
        "Ha egy függvényt sokáig tart kiértékelni, akkor `interact` helyett érdemes `interact_manual`-t használni. Ez csak akkor futtatja le a függvényt, ha a megjelenő gombot megnyomjuk."
      ]
    },
    {
      "cell_type": "code",
      "metadata": {
        "id": "LSZYevYMZJ-H",
        "colab_type": "code",
        "colab": {},
        "outputId": "5f9dc4a1-611a-48a1-e45c-8c81579835fd"
      },
      "source": [
        "interact_manual(func,x=(0,10));"
      ],
      "execution_count": 0,
      "outputs": [
        {
          "output_type": "stream",
          "text": [
            "2\n"
          ],
          "name": "stdout"
        }
      ]
    },
    {
      "cell_type": "markdown",
      "metadata": {
        "id": "JodULkJ0ZJ-M",
        "colab_type": "text"
      },
      "source": [
        "A widgetekről [bővebben itt](http://nbviewer.ipython.org/github/quantopian/ipython/blob/master/examples/Interactive%20Widgets/Using%20Interact.ipynb) található több információ. Végül nézünk meg egy több változós interactot!"
      ]
    },
    {
      "cell_type": "code",
      "metadata": {
        "id": "ew49pjRHZJ-M",
        "colab_type": "code",
        "colab": {}
      },
      "source": [
        "t=linspace(0,2*pi,100);\n",
        "def oszci(A,omega,phi,szin):\n",
        "    plot(t,A*sin(omega*t+phi),color=szin)\n",
        "    plot(pi,A*sin(omega*pi+phi),'o')\n",
        "    xlim(0,2*pi)\n",
        "    ylim(-3,3)\n",
        "    xlabel('$t$',fontsize=20)\n",
        "    ylabel(r'$A\\,\\sin(\\omega t+\\varphi)$',fontsize=20)\n",
        "    grid(True)"
      ],
      "execution_count": 0,
      "outputs": []
    },
    {
      "cell_type": "code",
      "metadata": {
        "id": "lyvwTUydZJ-Q",
        "colab_type": "code",
        "colab": {},
        "outputId": "d3119b9d-53ae-4490-c9fa-0d75706266a5"
      },
      "source": [
        "interact(oszci,\n",
        "            A    =FloatSlider(min=1,max=2,step=0.1,value=2,description='A'),\n",
        "            omega=FloatSlider(min=0,max=10,step=0.1,value=2,description=r'$\\omega$'), \n",
        "            phi  =FloatSlider(min=0,max=2*pi,step=0.1,value=0,description=r'$\\varphi$'),\n",
        "            szin =Dropdown(options=['red','green','blue','darkcyan'],description='szín'));"
      ],
      "execution_count": 0,
      "outputs": [
        {
          "output_type": "display_data",
          "data": {
            "image/png": "[encoded data removed]",
            "text/plain": [
              "<matplotlib.figure.Figure at 0x7f4fd1bad9b0>"
            ]
          },
          "metadata": {
            "tags": []
          }
        }
      ]
    }
  ]
}