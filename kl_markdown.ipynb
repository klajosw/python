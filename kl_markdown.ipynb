{
  "nbformat": 4,
  "nbformat_minor": 0,
  "metadata": {
    "hide_input": false,
    "kernelspec": {
      "display_name": "Python 3",
      "language": "python",
      "name": "python3"
    },
    "language_info": {
      "codemirror_mode": {
        "name": "ipython",
        "version": 3
      },
      "file_extension": ".py",
      "mimetype": "text/x-python",
      "name": "python",
      "nbconvert_exporter": "python",
      "pygments_lexer": "ipython3",
      "version": "3.7.3"
    },
    "latex_envs": {
      "bibliofile": "biblio.bib",
      "cite_by": "apalike",
      "current_citInitial": 1,
      "eqLabelWithNumbers": true,
      "eqNumInitial": 0
    },
    "name": "mintapelda00.ipynb",
    "toc": {
      "toc_cell": false,
      "toc_number_sections": true,
      "toc_threshold": 6,
      "toc_window_display": false
    },
    "colab": {
      "name": "kl_markdown.ipynb",
      "provenance": [],
      "collapsed_sections": [],
      "include_colab_link": true
    }
  },
  "cells": [
    {
      "cell_type": "markdown",
      "metadata": {
        "id": "view-in-github",
        "colab_type": "text"
      },
      "source": [
        "<a href=\"https://colab.research.google.com/github/klajosw/python/blob/master/kl_markdown.ipynb\" target=\"_parent\"><img src=\"https://colab.research.google.com/assets/colab-badge.svg\" alt=\"Open In Colab\"/></a>"
      ]
    },
    {
      "cell_type": "markdown",
      "metadata": {
        "id": "qVpfXCahP8Wg",
        "colab_type": "text"
      },
      "source": [
        "# Markdown dokumentumok, cellák kezelésének alapjai\n",
        "\n",
        "A [Markdown](https://en.wikipedia.org/wiki/Markdown) egy webes \"könnyen\" írható, \"könnyen\" olvasható formátum, mely tipikusan böngészőben megjelenített szövegek, dokumentumok gyors szerkesztését teszi lehetővé. Az órák során használt [jupyter](http://jupyter.org/) keretrendszer Markdown formátumú celláiba legtöbször az adott porgramozási feladattal kapcsolatos feladatok leírása kerül. Ezen kívül ha a feladat szövege megköveteli, hogy szavakban fejezzük ki a program megírása során szerzett tapasztalatainkat, akkor ezeket a gondolatokat is Markdown cellákba kell leírni! \n",
        "Az alábbiakban tekintsük át a Markdown formátum alapjait.\n",
        "\n",
        "---"
      ]
    },
    {
      "cell_type": "markdown",
      "metadata": {
        "id": "c4Qh7BP8P8Wj",
        "colab_type": "text"
      },
      "source": [
        "## Szövegszerkeztés"
      ]
    },
    {
      "cell_type": "markdown",
      "metadata": {
        "id": "suaHTdBVP8Wk",
        "colab_type": "text"
      },
      "source": [
        "### Címsorok\n",
        "\n",
        "Egy teljes notebook vagy egy szövegrész címeit Markdownban a \\#-jellel jelöljük. Egy \\# jelölheti például a teljes notebook címét, két \\# egy fejezet címét. Egyre több \\# pedig a dokumentum tagolásának egyre mélyebb szerkezeti egységeit. \n",
        "\n",
        "# 1. Szintű címsor\n",
        "## 2.Szintű címsor\n",
        "### 3. Szintű címsor\n",
        "#### 4. Szintű címsor\n",
        "\n"
      ]
    },
    {
      "cell_type": "markdown",
      "metadata": {
        "id": "ouec4kEKP8Wm",
        "colab_type": "text"
      },
      "source": [
        "### Szöveg formátuma\n",
        "\n",
        "Markdownban lehetőség van egyes szavak vagy szövegrészletek kiemelésére. Ha egy szövegrészt egy \\*-al veszünk körbe. akkor *dölt* lesz, ha két \\*-t használunk akkor **vastagon** szedetté válnak a betűk. Ha egy szövegrészt két \\~~ jel közé veszünk, akkor az a rész ~~áthúzásra kerül~~\n",
        "\n",
        "\\*\\*\\*Vastag és dölt\\*\\*\\*       \n",
        "***bold and italic***\n",
        "\n",
        "\\*dőlt\\*     :   \n",
        "*italic*.\n",
        "\n",
        "\\*\\*vastag\\*\\*        \n",
        "**bold**.\n",
        "\n",
        "\\~\\~áthúzott\\~\\~    \n",
        "~~áthuzott  ~~\n",
        "\n",
        "\n",
        "\n",
        "### Megjegyzések:\n",
        "\n",
        "\n",
        "\\--\\-\n",
        "\\*\\*Megjegyzés\\*\\*\n",
        "\n",
        "Ez egy megjegyzés szöveg\n",
        "\n",
        "\\-\\-\\-\n",
        "\n",
        "\n",
        "\n",
        "\n",
        "---\n",
        "**Megjegyzés**\n",
        "\n",
        "Ez egy megjegyzés szöveg\n",
        "\n",
        "---\n",
        "\n",
        "\n",
        "\n",
        "\n",
        "\\> \\*\\*\\_Megjegyzés:\\_\\*\\*  Behuzott és kiemelt megjegyzés  KLAJOSW\n",
        "\n",
        "\n",
        "> **_Megjegyzés:_**  Behuzott és kiemelt megjegyzés  KLAJOSW\n",
        "\n",
        "\n",
        "\n",
        "\n",
        "\n",
        "\n",
        "\n",
        "\n",
        "### Idézet:\n",
        "\n",
        "\\> Behúzott idézet blok kacscsörrel kezdődik \n",
        "és üres sorig tart\n",
        "\n",
        "\n",
        "> Behúzott idézet blok kacscsörrel kezdődik \n",
        "és üres sorig tart\n",
        "\n",
        "\n",
        "\n",
        "### Formázott program részlet:\n",
        "\n",
        "\\`\\`\\`sql\n",
        "\n",
        "select mezo1, mezo2 from tabla where mezo1='Klajos'\n",
        "\n",
        "\\`\\`\\`\n",
        "\n",
        "```sql\n",
        "\n",
        "select mezo1, mezo2 from tabla where mezo1='Klajos'\n",
        "\n",
        "```"
      ]
    },
    {
      "cell_type": "markdown",
      "metadata": {
        "id": "L7YVxXMWP8Wn",
        "colab_type": "text"
      },
      "source": [
        "### Listák \n",
        "\n",
        "Markdown cellákban ha - jellel kezdünk sorokat, akkor azt a Markdown értelmező listába fogja rendezni:\n",
        "\n",
        "- ez elment vadászni\n",
        "- ez meglőtte\n",
        "- ez haza vitte\n",
        "\n",
        "Ha számokkal kedjük a sorokat, akkor számozott listát kapunk\n",
        "\n",
        " 1. megérett a meggy \n",
        " 2. csipkebokor vessző\n",
        " 3. te leszel a párom"
      ]
    },
    {
      "cell_type": "markdown",
      "metadata": {
        "id": "KU2s9DaMP8Wp",
        "colab_type": "text"
      },
      "source": [
        "### Táblázatok\n",
        "\n",
        "Markdown-ban | és - karakterek segítségével meghatározott módon körbehatárolt szövegrészlet segítségével írhatunk táblázatokat. Például így:\n",
        "\n",
        "**Név**|**Oszályzat**\n",
        "-------|-------------\n",
        "Pisti  | 4\n",
        "Géza   | 3\n",
        "Gizi   | 5\n",
        "[rem"
      ]
    },
    {
      "cell_type": "markdown",
      "metadata": {
        "id": "eSxbJFedP8Wq",
        "colab_type": "text"
      },
      "source": [
        "### Képek, Linkek\n",
        "\n",
        "A feladatok megírása során szükséges lehet bizonyos kérdéseknek utánanézni az interneten. Ha egy hasznos leírást találunk valahol, akkor arra Markdown-ban így  \n",
        "\\[link neve\\]\\(http://www.hasznos-link.hu\\)   \n",
        "[link neve](http://www.hasznos-link.hu)    \n",
        "hivatkozhatunk. \n",
        "\n",
        "Ha az interneten vagy a dokumentum saját könyvtárstruktúrájában lévő képet akarunk Markdown cellában mejeleníteni, azt pedig így tehetjük meg:\n",
        "\n",
        "\\!\\[macska\\]\\(http:\\/\\/a.deviantart.net\\/avatars\\/n\\/y\\/nyancat.gif\\?6\\)\n",
        "\n",
        "![macska](http://a.deviantart.net/avatars/n/y/nyancat.gif?6)\n",
        "\n",
        "---"
      ]
    },
    {
      "cell_type": "markdown",
      "metadata": {
        "id": "EytmfLxVP8Ws",
        "colab_type": "text"
      },
      "source": [
        "## Képletek írása\n",
        "Néhány feladat értelmezésénél szükséges lehet a feladat megoldásához vezető matematikai formulák ismertetése. \n",
        "Ha Markdown-ban \\$ \\$ -jelek közé teszünk [latex](http://www.ntg.nl/doc/nemeth/lrovid.pdf) szintaxisú szöveget, akkor szép matematikai képleteket tudunk írni, például ilyeneket, hogy $\\sin(\\alpha+\\beta)=\\sin(\\alpha)\\cos(\\beta)+\\cos(\\alpha)\\sin(\\beta)$. Ha egy képletet nagyon ki akarunk emelni a szövegből, akkor tegyük két \\$ jel közé! $$E=mc^2$$.\n",
        "Tekintsük át néhány további képlet formázással kapcsolatos példát:"
      ]
    },
    {
      "cell_type": "markdown",
      "metadata": {
        "id": "6eF4UwSxP8Wt",
        "colab_type": "text"
      },
      "source": [
        "1. Amint a fenti példában is láttuk, görög betűket egy \\\\-el kezdünk, és angolul nevezzük őket meg. Például $\\alpha$,$\\beta$,$\\gamma$,$\\delta$.\n",
        "\n",
        "2. Az ismertebb matematikai függvényeket is lehet \\\\-el kezdeni, de nem muszáj. Figyeljük meg a különbséget: $\\sin(x)$ és $sin(x)$.\n",
        "\n",
        "3. Így írhatunk alsó és felső indexeket: $a_i$, $c^2$.\n",
        "\n",
        "4. Így pedig törteket $\\frac{1}{2}$.\n",
        "\n",
        "5. Egy összegzés $\\mathrm{e}^x=\\sum_n \\frac{x^n}{n!}$. Itt a \\\\mathrm\\{\\} kifejezés segítségével az e karakter dölt jellegét tudtuk megszüntetni.\n",
        "\n",
        "6. Figyeljük meg a különbséget, ha kettő \\$\\$-t használunk $$\\mathrm{e}^x=\\sum_n \\frac{x^n}{n!} $$\n",
        "\n",
        "7. Integrálni, deriválni és parciálisan deriválni pedig így tudunk: $$\\int \\mathrm{e}^x \\mathrm{d} x=\\mathrm{e}^x+C$$ $$\\frac{\\mathrm{d}\\mathrm{e}^x}{ \\mathrm{d} x}=\\mathrm{e}^x$$ $$\\frac{\\partial\\mathrm{e}^x}{ \\partial x}=\\partial_x \\mathrm{e}^x=\\mathrm{e}^x$$ \n",
        "\n",
        "8. Itt egy pár példa vastag betűs vektorokra $$\\mathbf{a}\\cdot\\mathbf{b}=\\sum_{i=1}^3 a_ib_i$$\n",
        "\n",
        "9. Itt pedig egy példa felülvonásra $$\\overline{x}=\\frac{1}{N}\\sum_{i=1}^Nx_i$$\n",
        "\n",
        "10. Gyökjelet pedig így lehet írni $\\gamma=\\sqrt{1-v^2/c^2}$\n",
        "\n",
        "Végül pedig egy mindenkit izgató kérdés:\n",
        "\n",
        "\n",
        "$$\\frac{1}{2}x+b_u\\cdot x=?$$\n",
        "\n"
      ]
    },
    {
      "cell_type": "markdown",
      "metadata": {
        "collapsed": true,
        "id": "_JOJvQ40P8Wv",
        "colab_type": "text"
      },
      "source": [
        "## File\n",
        "A Markdown filek kiterjesztése md\n",
        "pl: file.md \n",
        "Az ilyen állományokat markdown szerkesztökben kellmegnyitni."
      ]
    }
  ]
}