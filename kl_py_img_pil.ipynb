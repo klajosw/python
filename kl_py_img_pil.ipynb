{
  "cells": [
    {
      "cell_type": "markdown",
      "metadata": {
        "id": "view-in-github",
        "colab_type": "text"
      },
      "source": [
        "<a href=\"https://colab.research.google.com/github/klajosw/python/blob/master/kl_py_img_pil.ipynb\" target=\"_parent\"><img src=\"https://colab.research.google.com/assets/colab-badge.svg\" alt=\"Open In Colab\"/></a>"
      ]
    },
    {
      "cell_type": "markdown",
      "metadata": {
        "id": "6msVLevwcRhm"
      },
      "source": [
        "<p align=\"left\"> \n",
        "    <img src=\"https://raw.githubusercontent.com/klajosw/python/master/kl_mie_python_logo_250.jpg\" \n",
        "         align=\"left\" width=\"251\" height=\"251\">\n",
        "    \n",
        "</p>\n",
        "\n",
        "\n",
        "<p> </p>\n",
        "\n",
        "\n",
        "\n",
        "# Python kép feldolgozás (PIL / Pilow  és exif modulokkal)\n",
        "\n",
        "<https://klajosw.blogspot.com/>"
      ]
    },
    {
      "cell_type": "markdown",
      "metadata": {
        "id": "aDyGj8DmXCJI"
      },
      "source": [
        "---\n",
        "\n",
        "# PIL /  Pillow modul\n",
        "\n",
        "PIL  (https://pypi.org/project/Pillow/)\n",
        "\n",
        "Számos képformátum betöltése és képek feldolgozása.\n",
        "\n",
        "A függvénytár kiterjedt formátum támogatásának köszönhetően ideális megoldást kínál képek konvertálására és nézetképek (thumbnail) készítésére.\n",
        "\n",
        "A beépített ablakkezelő keretrendszerek segítségével a képek feldolgozás közben megjeleníthetjük. \n",
        "\n",
        "A képek utólagos feldolgozása, manipulálása is lehetséges filterekkel és színtér konverziók segítségével.\n",
        "\n",
        "\n",
        "\n",
        "---\n"
      ]
    },
    {
      "cell_type": "code",
      "execution_count": null,
      "metadata": {
        "id": "BWHvWDB7i7yY"
      },
      "outputs": [],
      "source": [
        "# Kép állomány megnyítása\n",
        "from PIL import Image\n",
        "img = Image.open(r\"c:\\Users\\User\\Downloads\\elefant_fashegycsucs.jpg\")\n",
        "\n",
        "img.show()                                                            ## megjelenítés\n",
        "print(f\"Format: {img.format}\\nSize: {img.size}\\nMode: {img.mode}\")    ## adatok kiolvasása"
      ]
    },
    {
      "cell_type": "markdown",
      "metadata": {
        "id": "c5SlZYF1i7ya"
      },
      "source": [
        "---\n",
        "\n",
        "## PIL szűrő tipusok\n",
        "\n",
        "- BLUR\n",
        "- CONTOUR\n",
        "- DETAIL\n",
        "- EDGE_ENHANCE\n",
        "- EDGE_ENHANCE_MORE\n",
        "- EMBOSS\n",
        "- FIND_EDGES\n",
        "- SHARPEN\n",
        "- SMOOTH\n",
        "- SMOOTH_MORE\n",
        "\n",
        "---"
      ]
    },
    {
      "cell_type": "code",
      "execution_count": null,
      "metadata": {
        "id": "8-W1NmaWi7yb"
      },
      "outputs": [],
      "source": [
        "# képszürők 1.\n",
        "from PIL import Image, ImageFilter\n",
        "img = img.filter(ImageFilter.BLUR)              ## szűrő aktíválás\n",
        "img.show()                                      ## megjelenítés\n"
      ]
    },
    {
      "cell_type": "code",
      "execution_count": null,
      "metadata": {
        "id": "jofOHmPTi7yb"
      },
      "outputs": [],
      "source": [
        "# képszürők 2.\n",
        "from PIL import Image, ImageFilter\n",
        "img = img.filter(ImageFilter.CONTOUR)           ## szűrő aktíválás\n",
        "img.show()                                      ## megjelenítés\n"
      ]
    },
    {
      "cell_type": "code",
      "execution_count": null,
      "metadata": {
        "id": "gl5g5tMmi7yc"
      },
      "outputs": [],
      "source": [
        "# Változtatások mentése\n",
        "img.save(\"photo_change_new.jpg\")\n",
        "img.save(\"photo_change_new.png\", format=\"png\")  ## mentés formátum megadással\n",
        "img.save(\"photo_change_50%.jpg\", quality=50)    ## mentés a minőség megadássál 1-95%\n"
      ]
    },
    {
      "cell_type": "markdown",
      "metadata": {
        "id": "pZZNFHNei7yd"
      },
      "source": [
        "---\n",
        "\n",
        "## PIL Képek átalakítása\n",
        "\n",
        "- Elforgatás\n",
        "- Métezetés\n",
        "- tükrözés (x, vagy y tengely)\n",
        "- Több kép egymásra fektetése\n",
        "- Képre rajzolás, felíratozás\n",
        "- Kép EXIF információi olvasása írása\n",
        "\n",
        "\n",
        "---"
      ]
    },
    {
      "cell_type": "code",
      "execution_count": null,
      "metadata": {
        "id": "FPBQZzy1i7ye"
      },
      "outputs": [],
      "source": [
        "# elforgatás\n",
        "from PIL import Image\n",
        "img = Image.open(r\"c:\\Users\\User\\Downloads\\elefant_fashegycsucs.jpg\")\n",
        "img = img.rotate(180)                           ## átalakítás\n",
        "img.show()                                      ## megjelenítés\n"
      ]
    },
    {
      "cell_type": "code",
      "execution_count": null,
      "metadata": {
        "id": "TPEOmep1i7yf"
      },
      "outputs": [],
      "source": [
        "# méretezés (kiskép létrehozás)\n",
        "from PIL import Image\n",
        "img = Image.open(r\"c:\\Users\\User\\Downloads\\elefant_fashegycsucs.jpg\")\n",
        "img.thumbnail((img.size[0]/10, img.size[1]/10)) ## átalakítás\n",
        "img.show()                                      ## megjelenítés\n"
      ]
    },
    {
      "cell_type": "code",
      "execution_count": null,
      "metadata": {
        "id": "QoEhWzS-i7yg"
      },
      "outputs": [],
      "source": [
        "# méretezés (más méretban létrehozás)\n",
        "from PIL import Image\n",
        "img = Image.open(r\"c:\\Users\\User\\Downloads\\elefant_fashegycsucs.jpg\")\n",
        "img = img.resize((600, 200))                    ## átalakítás\n",
        "img.show()                                      ## megjelenítés\n"
      ]
    },
    {
      "cell_type": "code",
      "execution_count": null,
      "metadata": {
        "id": "GNesAX3ni7yg"
      },
      "outputs": [],
      "source": [
        "# tökrözés (tengelyes)\n",
        "from PIL import Image\n",
        "img = Image.open(r\"c:\\Users\\User\\Downloads\\elefant_fashegycsucs.jpg\")\n",
        "img = img.transpose(Image.FLIP_LEFT_RIGHT)      ## átalakítás\n",
        "img.show()                                      ## megjelenítés\n"
      ]
    },
    {
      "cell_type": "code",
      "execution_count": null,
      "metadata": {
        "id": "LTjMbY4Pi7yh"
      },
      "outputs": [],
      "source": [
        "# összefésülés\n",
        "from PIL import Image\n",
        "img1 = Image.open(r\"c:\\Users\\User\\Downloads\\elefant_fashegycsucs.jpg\")\n",
        "img2 = Image.open(r\"c:\\Users\\User\\Downloads\\elefant_fashegycsucs2.jpg\")\n",
        "\n",
        "# Figyelem!!! A második kép mérete meg kell egyezzen az elsővel!\n",
        "img2 = img2.resize(img1.size)\n",
        "\n",
        "composite = Image.blend(img1, img2, 0.5)        ## összefésülés\n",
        "composite.show()                                ## megjelenítés"
      ]
    },
    {
      "cell_type": "code",
      "execution_count": null,
      "metadata": {
        "id": "3rA1lEWVi7yh"
      },
      "outputs": [],
      "source": [
        "# rajzolás 1.\n",
        "from PIL import Image\n",
        "from PIL import ImageDraw\n",
        "img = Image.open(r\"c:\\Users\\User\\Downloads\\elefant_fashegycsucs.jpg\")\n",
        "\n",
        "draw = ImageDraw.Draw(img)\n",
        "draw.line((0, 0, img.size[0], img.size[1]), fill=(255, 255, 255))\n",
        "draw.line((0, img.size[1], img.size[0], 0), fill=(255, 255, 255))\n",
        "\n",
        "img.show()                                ## megjelenítés"
      ]
    },
    {
      "cell_type": "code",
      "execution_count": null,
      "metadata": {
        "id": "KcX2YY0ui7yi"
      },
      "outputs": [],
      "source": [
        "# rajzolás 2.\n",
        "draw.ellipse((0, 0, 100, 100), fill=(0, 255, 0), outline=(255, 0, 0), width=3)\n",
        "img.show()                                ## megjelenítés"
      ]
    },
    {
      "cell_type": "code",
      "execution_count": null,
      "metadata": {
        "id": "DCEUeUUEi7yi"
      },
      "outputs": [],
      "source": [
        "# felíratozás\n",
        "from PIL import ImageFont\n",
        "font = ImageFont.truetype(\"arial.ttf\", 100) \n",
        "draw.text((0, 0), \"C: Kecskeméti Lajos\", fill=(255, 0, 0))\n",
        "img.show()                                ## megjelenítés"
      ]
    },
    {
      "cell_type": "code",
      "execution_count": null,
      "metadata": {
        "scrolled": true,
        "id": "_32jvSj0i7yj"
      },
      "outputs": [],
      "source": [
        "# Képi információ kiolvasása\n",
        "from PIL import Image\n",
        "import PIL.ExifTags\n",
        "\n",
        "img = Image.open(r\"c:\\Users\\User\\Downloads\\IMG_20211224_170349.jpg\")\n",
        "\n",
        "exif = {\n",
        "    PIL.ExifTags.TAGS[k]: v\n",
        "    for k, v in img._getexif().items()\n",
        "    if k in PIL.ExifTags.TAGS\n",
        "}\n",
        "\n",
        "print('-------------------------------------')\n",
        "for key in exif:\n",
        "    print(key, '->', exif[key])\n"
      ]
    },
    {
      "cell_type": "code",
      "execution_count": null,
      "metadata": {
        "id": "HWKHBB6Ui7yj"
      },
      "outputs": [],
      "source": [
        "from PIL import Image\n",
        "from PIL.ExifTags import TAGS, GPSTAGS\n",
        "img = Image.open(r\"c:\\Users\\User\\Downloads\\IMG_20211224_170349.jpg\")\n",
        "#img.show()                                ## megjelenítés\n",
        "img._getexif()\n",
        "\n"
      ]
    },
    {
      "cell_type": "code",
      "execution_count": null,
      "metadata": {
        "id": "BiVx4osmi7yj"
      },
      "outputs": [],
      "source": [
        "from PIL import Image\n",
        "from PIL.ExifTags import TAGS \n",
        "\n",
        "def get_exif(filename):\n",
        "    image = Image.open(filename)\n",
        "    image.verify()\n",
        "    return image._getexif()\n",
        "\n",
        "def get_labeled_exif(exif):\n",
        "    labeled = {}\n",
        "    for (key, val) in exif.items():\n",
        "        labeled[TAGS.get(key)] = val\n",
        "    return labeled\n",
        "\n",
        "exif = get_exif(r\"c:\\Users\\User\\Downloads\\IMG_20211224_170349.jpg\")\n",
        "labeled = get_labeled_exif(exif)\n",
        "\n",
        "print('-------------------------------------')\n",
        "for key in labeled:\n",
        "    print(key, '->', labeled[key])\n",
        "    \n",
        "print('-------------------------------------')\n",
        "print('GPS pozició:  ', labeled['GPSInfo'][2])\n",
        "print('GPS magasság: ', labeled['GPSInfo'][6] , ' méter')"
      ]
    },
    {
      "cell_type": "code",
      "execution_count": null,
      "metadata": {
        "id": "2o0M8uV0i7yk"
      },
      "outputs": [],
      "source": [
        "from PIL import Image, IptcImagePlugin\n",
        "\n",
        "im = Image.open(r\"c:\\Users\\User\\Downloads\\elefant_fashegycsucs.jpg\")\n",
        "iptc = IptcImagePlugin.getiptcinfo(im)\n",
        "\n",
        "tag_name_to_id[270] = 'ImageDescription'\n",
        "tag_name_to_id[306] = 'DateTime'\n",
        "tag_name_to_id[256] = 'ImageWidth'\n",
        "tag_name_to_id[257] = 'ImageLength'\n",
        "tag_name_to_id[258] = 'BitsPerSample'\n",
        "tag_name_to_id[40962] = 'PixelXDimension'\n",
        "tag_name_to_id[40963] = 'PixelYDimension'\n",
        "tag_name_to_id[305]   = 'Software'\n",
        "tag_name_to_id[37510] = 'UserComment'\n",
        "tag_name_to_id[40091] = 'XPTitle'\n",
        "tag_name_to_id[40092] = 'XPComment'\n",
        "tag_name_to_id[40093] = 'XPAuthor'\n",
        "tag_name_to_id[40094] = 'XPKeywords'\n",
        "tag_name_to_id[40095] = 'XPSubject'\n",
        "tag_name_to_id[40961] = 'ColorSpace' # Bit depth\n",
        "tag_name_to_id[315]   = 'Artist'\n",
        "tag_name_to_id[33432] = 'Copyright'\n",
        "\n",
        "if iptc:\n",
        "    for k, v in iptc.items():\n",
        "        print(\"{} {}\".format(k, repr(v.decode())))\n",
        "else:\n",
        "    print(\" This image has no iptc info\")\n",
        "\n",
        "# https://iptc.org/std/photometadata/specification/IPTC-PhotoMetadata\n",
        "def get_caption():\n",
        "    return iptc.get((2,120)).decode()\n",
        "\n",
        "print(get_caption())"
      ]
    },
    {
      "cell_type": "code",
      "execution_count": null,
      "metadata": {
        "id": "9kpscwXAi7yk"
      },
      "outputs": [],
      "source": [
        "from PIL import Image, IptcImagePlugin\n",
        "from PIL.ExifTags import TAGS \n",
        "\n",
        "im = Image.open(r\"c:\\Users\\User\\Downloads\\elefant_fashegycsucs.jpg\")\n",
        "if 1 == 1 :\n",
        "        exif = {}\n",
        "        iptc = {}\n",
        "        exif_info = im._getexif() or {}\n",
        "        for tag, value in exif_info.items():\n",
        "            decoded = ExifTags.TAGS.get(tag, str(tag))\n",
        "            exif[decoded] = value\n",
        "            \n",
        "           \n",
        "        iptc_info = IptcImagePlugin.getiptcinfo(im) or {}        \n",
        "        for tag, value in iptc_info.items():\n",
        "             iptc = (\"{} {}\".format(tag, repr(value.decode())))\n",
        "#            decoded = iptc_tags.get(tag, str(tag))\n",
        "#            iptc[decoded] = value\n",
        "            \n",
        "print(exif)\n",
        "print('-----------------------')\n",
        "print(iptc)"
      ]
    },
    {
      "cell_type": "code",
      "execution_count": null,
      "metadata": {
        "id": "NqN5NwRdi7yk"
      },
      "outputs": [],
      "source": [
        "from PIL import Image, ExifTags\n",
        "\n",
        "tag_name_to_id = dict([ (v, k) for k, v in ExifTags.TAGS.items() ])\n",
        "\n",
        "# These I got from reading in files and matching to http://www.exiv2.org/tags.html\n",
        "# You'll have to map your own if something isn't recognised\n",
        "tag_name_to_id[270] = 'ImageDescription'\n",
        "tag_name_to_id[306] = 'DateTime'\n",
        "tag_name_to_id[256] = 'ImageWidth'\n",
        "tag_name_to_id[257] = 'ImageLength'\n",
        "tag_name_to_id[258] = 'BitsPerSample'\n",
        "tag_name_to_id[40962] = 'PixelXDimension'\n",
        "tag_name_to_id[40963] = 'PixelYDimension'\n",
        "tag_name_to_id[305] = 'Software'\n",
        "tag_name_to_id[37510] = 'UserComment'\n",
        "tag_name_to_id[40091] = 'XPTitle'\n",
        "tag_name_to_id[40092] = 'XPComment'\n",
        "tag_name_to_id[40093] = 'XPAuthor'\n",
        "tag_name_to_id[40094] = 'XPKeywords'\n",
        "tag_name_to_id[40095] = 'XPSubject'\n",
        "tag_name_to_id[40961] = 'ColorSpace' # Bit depth\n",
        "tag_name_to_id[315] = 'Artist'\n",
        "tag_name_to_id[33432] = 'Copyright'\n",
        "\n",
        "\n",
        "def convert_exif_to_dict(exif):\n",
        "    \"\"\"\n",
        "    This helper function converts the dictionary keys from\n",
        "    IDs to strings so your code is easier to read.\n",
        "    \"\"\"\n",
        "    data = {}\n",
        "\n",
        "    if exif is None:\n",
        "        return data\n",
        "\n",
        "    for k,v in exif.items():\n",
        "       if k in tag_name_to_id:\n",
        "           data[tag_name_to_id[k]] = v\n",
        "       else:\n",
        "           data[k] = v\n",
        "\n",
        "    # These fields are in UCS2/UTF-16, convert to something usable within python\n",
        "    for k in ['XPTitle', 'XPComment', 'XPAuthor', 'XPKeywords', 'XPSubject']:\n",
        "        if k in data:\n",
        "            data[k] = data[k].decode('utf-16').rstrip('\\x00')\n",
        "\n",
        "    return data\n",
        "\n",
        "f = open(r\"c:\\Users\\User\\Downloads\\elefant_fashegycsucs.jpg\")\n",
        "exif = exifread.process_file(f)\n",
        "f.close()\n",
        "\n",
        "# Convert byte array to unicode\n",
        "for k in ['Image XPTitle', 'Image XPComment', 'Image XPAuthor', 'Image XPKeywords', 'Image XPSubject']:\n",
        "    if k in exif:\n",
        "        exif[k].values = u\"\".join(map(unichr, exif[k].values)).decode('utf-16')\n",
        "\n",
        "\n",
        "if 'Image XPTitle' in exif:\n",
        "    print (\"Title\", exif['Image ImageDescription'].values)\n",
        "\n",
        "if 'Image ImageDescription' in exif:\n",
        "    print (\"Description\", exif['Image ImageDescription'].values)"
      ]
    },
    {
      "cell_type": "code",
      "execution_count": null,
      "metadata": {
        "id": "-3V1amHPi7yl"
      },
      "outputs": [],
      "source": [
        "from exif import Image\n",
        "\n",
        "folder_path = r'c:\\Users\\User\\Downloads'\n",
        "img_filename = '20170701_171218.jpg'\n",
        "img_path = f'{folder_path}/{img_filename}'\n",
        "with open(img_path, 'rb') as img_file:\n",
        "    img = Image(img_file)\n",
        "    \n",
        "print(img.has_exif)                                                    ## lista\n",
        "print(f'Make: {img.get(\"make\")}')                                      ## készítő eszköz neve\n",
        "print(f'Model: {img.get(\"model\")}')                                    ## készítő eszköz modellje\n",
        "print(f'DateTime (Original): {img.get(\"datetime_original\")}'           ## kép készítési idő"
      ]
    },
    {
      "cell_type": "code",
      "execution_count": null,
      "metadata": {
        "id": "v9pQQHLBi7yl"
      },
      "outputs": [],
      "source": [
        "from exif import Image\n",
        "with open((r\"c:\\Users\\User\\Downloads\\20170701_171218.jpg\"), 'rb') as image_file:\n",
        "    my_image = Image(image_file)\n",
        "\n",
        "my_image.make = \"Python\"\n",
        "print(my_image.gps_latitude_ref)\n",
        "print(my_image.gps_latitude)\n",
        "\n",
        "my_image.gps_longitude_ref= exif_lon_ref\n",
        "my_image.gps_longitude= exif_lon\n",
        "\n",
        "## kiírás\n",
        "with open(file_name, 'wb') as new_image_file:\n",
        "    new_image_file.write(my_image.get_file())"
      ]
    },
    {
      "cell_type": "code",
      "execution_count": null,
      "metadata": {
        "id": "PD3UA8LVi7ym"
      },
      "outputs": [],
      "source": [
        ""
      ]
    }
  ],
  "metadata": {
    "accelerator": "GPU",
    "colab": {
      "collapsed_sections": [],
      "name": "kl_py_img_pil.ipynb",
      "private_outputs": true,
      "provenance": [],
      "toc_visible": true,
      "include_colab_link": true
    },
    "kernelspec": {
      "display_name": "Python 3",
      "language": "python",
      "name": "python3"
    },
    "language_info": {
      "codemirror_mode": {
        "name": "ipython",
        "version": 3
      },
      "file_extension": ".py",
      "mimetype": "text/x-python",
      "name": "python",
      "nbconvert_exporter": "python",
      "pygments_lexer": "ipython3",
      "version": "3.8.8"
    }
  },
  "nbformat": 4,
  "nbformat_minor": 0
}