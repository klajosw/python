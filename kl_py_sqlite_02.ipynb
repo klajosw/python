{
  "nbformat": 4,
  "nbformat_minor": 0,
  "metadata": {
    "colab": {
      "name": "kl_py_sqlite_02.ipynb",
      "provenance": [],
      "collapsed_sections": [],
      "include_colab_link": true
    },
    "kernelspec": {
      "display_name": "Python 3",
      "language": "python",
      "name": "python3"
    },
    "language_info": {
      "codemirror_mode": {
        "name": "ipython",
        "version": 3
      },
      "file_extension": ".py",
      "mimetype": "text/x-python",
      "name": "python",
      "nbconvert_exporter": "python",
      "pygments_lexer": "ipython3",
      "version": "3.7.7"
    }
  },
  "cells": [
    {
      "cell_type": "markdown",
      "metadata": {
        "id": "view-in-github",
        "colab_type": "text"
      },
      "source": [
        "<a href=\"https://colab.research.google.com/github/klajosw/python/blob/master/kl_py_sqlite_02.ipynb\" target=\"_parent\"><img src=\"https://colab.research.google.com/assets/colab-badge.svg\" alt=\"Open In Colab\"/></a>"
      ]
    },
    {
      "cell_type": "markdown",
      "metadata": {
        "id": "0gAf3uqdwVvm",
        "colab_type": "text"
      },
      "source": [
        "<p align=\"left\"> \n",
        "    <img src=\"https://raw.githubusercontent.com/klajosw/python/master/kl_mie_python_logo_250.jpg\" \n",
        "         align=\"left\" width=\"251\" height=\"251\">\n",
        "    \n",
        "</p>\n",
        "\n",
        "\n",
        "<p> </p>\n",
        "\n",
        "\n",
        "\n",
        "# Python alapok SQL db használat (Sqlite) 2.\n",
        "\n",
        "<https://klajosw.blogspot.com/>\n",
        "\n",
        "\n",
        "---"
      ]
    },
    {
      "cell_type": "markdown",
      "metadata": {
        "colab_type": "text",
        "id": "5VWEm6ccHCbi"
      },
      "source": [
        "---\n",
        "\n",
        "## Kapcsolódás az adatbázishoz\n",
        "\n",
        "---"
      ]
    },
    {
      "cell_type": "code",
      "metadata": {
        "colab_type": "code",
        "id": "y_b8GDwsHATh",
        "colab": {}
      },
      "source": [
        "## Modulok impontálása\n",
        "import sqlite3\n",
        "import os\n",
        "import hashlib"
      ],
      "execution_count": null,
      "outputs": []
    },
    {
      "cell_type": "markdown",
      "metadata": {
        "colab_type": "text",
        "id": "dQQFg6bPIYjn"
      },
      "source": [
        "## SQLite állomány adatbázis lekérdezése és eredmény kiíratása"
      ]
    },
    {
      "cell_type": "code",
      "metadata": {
        "colab_type": "code",
        "id": "Z8TPADekIcc9",
        "colab": {
          "base_uri": "https://localhost:8080/",
          "height": 627
        },
        "outputId": "a4c4c05f-6f66-4f96-e49b-3989172de0a4"
      },
      "source": [
        "## Minta adatbázis\n",
        "DB_FILE = r\"c:\\Users\\User\\Downloads\\Chinook_Sqlite.sqlite\"  # adatbázis neve\n",
        "### forrás : https://github.com/lerocha/chinook-database/blob/master/ChinookDatabase/DataSources/Chinook_Sqlite.sqlite\n",
        "\n",
        "con = sqlite3.connect(DB_FILE)  ## kapcsolódás\n",
        "cur = con.cursor()              ## kurzor létrehozás\n",
        "\n",
        "print('---- Kiíratás 1  (nyers, csak tartalom) ----\\n')\n",
        "\n",
        "cur.execute(\" SELECT TrackId, Name, Composer, AlbumId, Bytes  FROM Track WHERE GenreId=23 and Composer is not null  \")\n",
        "for row in cur:\n",
        "    for mezo in row:\n",
        "        print(mezo, end=' ') # Mezők egy sorba\n",
        "    print()                  # kiíratás végén sorvégjel kitétele\n",
        "        \n",
        "print()  \n",
        "print('---- Kiíratás 2. (fejléccel és minimális formázással) ----\\n')\n",
        "print() \n",
        "\n",
        "FIELD_MAX_WIDTH = 25         ## mezők maximális hossz beállítása\n",
        "cur.execute(\" SELECT TrackId, Name, Composer, AlbumId, Bytes FROM Track WHERE GenreId=23 and Composer is not null   \")\n",
        "\n",
        "# Fejléc\n",
        "for fieldDesc in cur.description:\n",
        "    print(fieldDesc[0].ljust(FIELD_MAX_WIDTH), end=' ')\n",
        "print()                                 # Fejléc vége  \n",
        "for fieldDesc in cur.description:\n",
        "    print('-' * FIELD_MAX_WIDTH, end=' ')             # Alávonás\n",
        "print()                                  # elválasztó sor\n",
        "\n",
        "# Adattőrzs\n",
        "fieldIndices = range(len(cur.description))\n",
        "for row in cur:\n",
        "    for fieldIndex in fieldIndices:\n",
        "        fieldValue = str(row[fieldIndex])\n",
        "        print(fieldValue.ljust(FIELD_MAX_WIDTH), end=' ')  # Mezők egy sorba\n",
        "\n",
        "    print()                                          # kiíratás végén sorvégjel kitétele\n",
        "\n",
        "## lezárások, erőforrás felszabadítás\n",
        "cur.close()\n",
        "con.close()\n",
        "\n",
        "## Hiányzik: kivétel kezelés, ..."
      ],
      "execution_count": null,
      "outputs": [
        {
          "output_type": "stream",
          "text": [
            "---- Kiíratás 1  (nyers, csak tartalom) ----\n",
            "\n",
            "3375 No Such Thing Chris Cornell 270 3691272 \n",
            "3376 Poison Eye Chris Cornell 270 3890037 \n",
            "3377 Arms Around Your Love Chris Cornell 270 3516224 \n",
            "3378 Safe and Sound Chris Cornell 270 4207769 \n",
            "3379 She'll Never Be Your Man Chris Cornell 270 3355715 \n",
            "3380 Ghosts Chris Cornell 270 3799745 \n",
            "3381 Killing Birds Chris Cornell 270 3588776 \n",
            "3382 Billie Jean Michael Jackson 270 4606408 \n",
            "3383 Scar On the Sky Chris Cornell 270 3616618 \n",
            "3384 Your Soul Today Chris Cornell 270 3385722 \n",
            "3385 Finally Forever Chris Cornell 270 3565098 \n",
            "3386 Silence the Voices Chris Cornell 270 4379597 \n",
            "3387 Disappearing Act Chris Cornell 270 4476203 \n",
            "3388 You Know My Name Chris Cornell 270 3940651 \n",
            "\n",
            "---- Kiíratás 2. (fejléccel és minimális formázással) ----\n",
            "\n",
            "\n",
            "TrackId                   Name                      Composer                  AlbumId                   Bytes                     \n",
            "------------------------- ------------------------- ------------------------- ------------------------- ------------------------- \n",
            "3375                      No Such Thing             Chris Cornell             270                       3691272                   \n",
            "3376                      Poison Eye                Chris Cornell             270                       3890037                   \n",
            "3377                      Arms Around Your Love     Chris Cornell             270                       3516224                   \n",
            "3378                      Safe and Sound            Chris Cornell             270                       4207769                   \n",
            "3379                      She'll Never Be Your Man  Chris Cornell             270                       3355715                   \n",
            "3380                      Ghosts                    Chris Cornell             270                       3799745                   \n",
            "3381                      Killing Birds             Chris Cornell             270                       3588776                   \n",
            "3382                      Billie Jean               Michael Jackson           270                       4606408                   \n",
            "3383                      Scar On the Sky           Chris Cornell             270                       3616618                   \n",
            "3384                      Your Soul Today           Chris Cornell             270                       3385722                   \n",
            "3385                      Finally Forever           Chris Cornell             270                       3565098                   \n",
            "3386                      Silence the Voices        Chris Cornell             270                       4379597                   \n",
            "3387                      Disappearing Act          Chris Cornell             270                       4476203                   \n",
            "3388                      You Know My Name          Chris Cornell             270                       3940651                   \n"
          ],
          "name": "stdout"
        }
      ]
    },
    {
      "cell_type": "markdown",
      "metadata": {
        "colab_type": "text",
        "id": "TKIx7dJm-p88"
      },
      "source": [
        "---\n",
        "\n",
        "## Táblák lekérdezése inner join\n",
        "\n",
        "---"
      ]
    },
    {
      "cell_type": "code",
      "metadata": {
        "colab_type": "code",
        "id": "A_RCO12vWF_S",
        "colab": {
          "base_uri": "https://localhost:8080/",
          "height": 191
        },
        "outputId": "e44d5fbe-80e3-46a9-fc85-387e9171aeb0"
      },
      "source": [
        "import sqlite3\n",
        "DB_FILE = r\"c:\\Users\\User\\Downloads\\Chinook_Sqlite.sqlite\"  # adatbázis neve\n",
        "con = sqlite3.connect(DB_FILE)  ## kapcsolódás\n",
        "cur = con.cursor()              ## kurzor létrehozás\n",
        "\n",
        "FIELD_MAX_WIDTH = 30            ## mezők maximális hossz beállítása\n",
        "cur.execute(\"\"\" SELECT t.TrackId, t.Name, t.Composer,  g.name as style \n",
        "FROM Track t INNER JOIN Genre g ON t.GenreId= g.GenreId --- SQL megjegyzés: Join szabály\n",
        "WHERE t.GenreId=23 and t.Composer is not null           --- SQL megjegyzés: Where feltétel  \"\"\")\n",
        "\n",
        "# Fejléc\n",
        "for fieldDesc in cur.description:\n",
        "    print(fieldDesc[0].ljust(FIELD_MAX_WIDTH), end=' ')\n",
        "print()                                 # Fejléc vége  \n",
        "for fieldDesc in cur.description:\n",
        "    print('-' * 30, end=' ')             # Alávonás\n",
        "print()                                  # elválasztó sor\n",
        "\n",
        "# Adattőrzs\n",
        "fieldIndices = range(len(cur.description))\n",
        "for row in cur:\n",
        "    for fieldIndex in fieldIndices:\n",
        "        fieldValue = str(row[fieldIndex])\n",
        "        print(fieldValue.ljust(FIELD_MAX_WIDTH), end=' ')  # Mezők egy sorba\n",
        "\n",
        "    print()                                          # kiíratás végén sorvégjel kitétele\n",
        "\n",
        "\n",
        "## lezárások, erőforrás felszabadítás\n",
        "cur.close()\n",
        "con.close()\n",
        "\n",
        "## Hiányzik: kivétel kezelés, ..."
      ],
      "execution_count": null,
      "outputs": [
        {
          "output_type": "stream",
          "text": [
            "TrackId                        Name                           Composer                       style                          \n",
            "------------------------------ ------------------------------ ------------------------------ ------------------------------ \n",
            "3375                           No Such Thing                  Chris Cornell                  Alternative                    \n",
            "3376                           Poison Eye                     Chris Cornell                  Alternative                    \n",
            "3377                           Arms Around Your Love          Chris Cornell                  Alternative                    \n",
            "3378                           Safe and Sound                 Chris Cornell                  Alternative                    \n",
            "3379                           She'll Never Be Your Man       Chris Cornell                  Alternative                    \n",
            "3380                           Ghosts                         Chris Cornell                  Alternative                    \n",
            "3381                           Killing Birds                  Chris Cornell                  Alternative                    \n",
            "3382                           Billie Jean                    Michael Jackson                Alternative                    \n",
            "3383                           Scar On the Sky                Chris Cornell                  Alternative                    \n",
            "3384                           Your Soul Today                Chris Cornell                  Alternative                    \n",
            "3385                           Finally Forever                Chris Cornell                  Alternative                    \n",
            "3386                           Silence the Voices             Chris Cornell                  Alternative                    \n",
            "3387                           Disappearing Act               Chris Cornell                  Alternative                    \n",
            "3388                           You Know My Name               Chris Cornell                  Alternative                    \n"
          ],
          "name": "stdout"
        }
      ]
    },
    {
      "cell_type": "markdown",
      "metadata": {
        "id": "L2DqmEzewVvx",
        "colab_type": "text"
      },
      "source": [
        "---\n",
        "## Több táblás inner join\n",
        "\n",
        "---"
      ]
    },
    {
      "cell_type": "code",
      "metadata": {
        "id": "_X4UL3rDwVvy",
        "colab_type": "code",
        "colab": {},
        "outputId": "9b45b8b7-2c44-440f-9717-28b6cfd675dc"
      },
      "source": [
        "import sqlite3\n",
        "DB_FILE = r\"c:\\Users\\User\\Downloads\\Chinook_Sqlite.sqlite\"  # adatbázis neve\n",
        "con = sqlite3.connect(DB_FILE)  ## kapcsolódás\n",
        "cur = con.cursor()              ## kurzor létrehozás\n",
        "\n",
        "FIELD_MAX_WIDTH = 30            ## mezők maximális hossz beállítása\n",
        "cur.execute(\"\"\" SELECT Album.Title as Album_Title,  Track.Name as Track_Name, \n",
        "  Genre.Name as Genre_Name FROM Track \n",
        "  INNER JOIN Genre ON Track.GenreId=Genre.GenreId              --- sql:join1\n",
        "  INNER JOIN Album ON Track.AlbumId=Album.AlbumId              --- sql:join2\n",
        "  WHERE Genre.Name='Alternative' and Album.Title = 'Carry On'  --- sql: szűrés\n",
        "  \"\"\")\n",
        "\n",
        "# Fejléc\n",
        "for fieldDesc in cur.description:\n",
        "    print(fieldDesc[0].ljust(FIELD_MAX_WIDTH), end=' ')\n",
        "print()                                 # Fejléc vége  \n",
        "for fieldDesc in cur.description:\n",
        "    print('-' * 30, end=' ')             # Alávonás\n",
        "print()                                  # elválasztó sor\n",
        "\n",
        "# Adattőrzs\n",
        "fieldIndices = range(len(cur.description))\n",
        "for row in cur:\n",
        "    for fieldIndex in fieldIndices:\n",
        "        fieldValue = str(row[fieldIndex])\n",
        "        print(fieldValue.ljust(FIELD_MAX_WIDTH), end=' ')  # Mezők egy sorba\n",
        "\n",
        "    print()                                          # kiíratás végén sorvégjel kitétele\n",
        "\n",
        "\n",
        "## lezárások, erőforrás felszabadítás\n",
        "cur.close()\n",
        "con.close()\n",
        "\n",
        "## Hiányzik: kivétel kezelés, ..."
      ],
      "execution_count": null,
      "outputs": [
        {
          "output_type": "stream",
          "text": [
            "Album_Title                    Track_Name                     Genre_Name                     \n",
            "------------------------------ ------------------------------ ------------------------------ \n",
            "Carry On                       No Such Thing                  Alternative                    \n",
            "Carry On                       Poison Eye                     Alternative                    \n",
            "Carry On                       Arms Around Your Love          Alternative                    \n",
            "Carry On                       Safe and Sound                 Alternative                    \n",
            "Carry On                       She'll Never Be Your Man       Alternative                    \n",
            "Carry On                       Ghosts                         Alternative                    \n",
            "Carry On                       Killing Birds                  Alternative                    \n",
            "Carry On                       Billie Jean                    Alternative                    \n",
            "Carry On                       Scar On the Sky                Alternative                    \n",
            "Carry On                       Your Soul Today                Alternative                    \n",
            "Carry On                       Finally Forever                Alternative                    \n",
            "Carry On                       Silence the Voices             Alternative                    \n",
            "Carry On                       Disappearing Act               Alternative                    \n",
            "Carry On                       You Know My Name               Alternative                    \n"
          ],
          "name": "stdout"
        }
      ]
    },
    {
      "cell_type": "markdown",
      "metadata": {
        "id": "pM3wQ3-RwVv0",
        "colab_type": "text"
      },
      "source": [
        "---\n",
        "## Összegzések (Group by) \n",
        "\n",
        "---"
      ]
    },
    {
      "cell_type": "code",
      "metadata": {
        "id": "hddMvPP7wVv1",
        "colab_type": "code",
        "colab": {},
        "outputId": "3e667f99-577d-4735-92d5-2e76879ddcf0"
      },
      "source": [
        "import sqlite3\n",
        "DB_FILE = r\"c:\\Users\\User\\Downloads\\Chinook_Sqlite.sqlite\"  # adatbázis neve\n",
        "con = sqlite3.connect(DB_FILE)  ## kapcsolódás\n",
        "cur = con.cursor()              ## kurzor létrehozás\n",
        "\n",
        "FIELD_MAX_WIDTH = 30            ## mezők maximális hossz beállítása\n",
        "cur.execute(\"\"\" SELECT Customer.CustomerId , Customer.FirstName \n",
        ", Customer.LastName\n",
        ", sum(Bytes) AS Sum_Bytes                                         --- sql : count, avg, max, min,...\n",
        " FROM Customer \n",
        " INNER JOIN Invoice ON Customer.CustomerId=Invoice.CustomerId      --- sql : Join 1\n",
        " INNER JOIN InvoiceLine ON Invoice.InvoiceId=InvoiceLine.InvoiceId --- sql : Join 2\n",
        " INNER JOIN Track ON Track.TrackId=InvoiceLine.TrackId             --- sql : Join 3\n",
        " where Customer.CustomerId < 11                                    --- sql : szűrés\n",
        " GROUP BY Customer.CustomerId                                      --- sql : csoportosítás\n",
        "  \"\"\")\n",
        "\n",
        "# Fejléc\n",
        "for fieldDesc in cur.description:\n",
        "    print(fieldDesc[0].ljust(FIELD_MAX_WIDTH), end=' ')\n",
        "print()                                 # Fejléc vége  \n",
        "for fieldDesc in cur.description:\n",
        "    print('-' * 30, end=' ')             # Alávonás\n",
        "print()                                  # elválasztó sor\n",
        "\n",
        "# Adattőrzs\n",
        "fieldIndices = range(len(cur.description))\n",
        "for row in cur:\n",
        "    for fieldIndex in fieldIndices:\n",
        "        fieldValue = str(row[fieldIndex])\n",
        "        print(fieldValue.ljust(FIELD_MAX_WIDTH), end=' ')  # Mezők egy sorba\n",
        "\n",
        "    print()                                          # kiíratás végén sorvégjel kitétele\n",
        "\n",
        "\n",
        "## lezárások, erőforrás felszabadítás\n",
        "cur.close()\n",
        "con.close()\n",
        "\n",
        "## Hiányzik: kivétel kezelés, ..."
      ],
      "execution_count": null,
      "outputs": [
        {
          "output_type": "stream",
          "text": [
            "CustomerId                     FirstName                      LastName                       Sum_Bytes                      \n",
            "------------------------------ ------------------------------ ------------------------------ ------------------------------ \n",
            "1                              Luís                           Gonçalves                      1307723628                     \n",
            "2                              Leonie                         Köhler                         304319415                      \n",
            "3                              François                       Tremblay                       1267358979                     \n",
            "4                              Bjørn                          Hansen                         1311608192                     \n",
            "5                              František                      Wichterlová                    1317947209                     \n",
            "6                              Helena                         Holý                           5159980986                     \n",
            "7                              Astrid                         Gruber                         1943163939                     \n",
            "8                              Daan                           Peeters                        333502874                      \n",
            "9                              Kara                           Nielsen                        310818343                      \n",
            "10                             Eduardo                        Martins                        347735406                      \n"
          ],
          "name": "stdout"
        }
      ]
    },
    {
      "cell_type": "markdown",
      "metadata": {
        "id": "ZIgVwHmqwVv3",
        "colab_type": "text"
      },
      "source": [
        "---\n",
        "\n",
        "## Komplex SQL minta  (With-es temporary SUB-SELECTS)\n",
        "\n",
        "----"
      ]
    },
    {
      "cell_type": "code",
      "metadata": {
        "id": "apcWew4qwVv3",
        "colab_type": "code",
        "colab": {},
        "outputId": "0aa2e8ad-1def-4a4b-8c87-53b3abd96dad"
      },
      "source": [
        "import sqlite3\n",
        "DB_FILE = r\"c:\\Users\\User\\Downloads\\Chinook_Sqlite.sqlite\"  # adatbázis neve\n",
        "con = sqlite3.connect(DB_FILE)  ## kapcsolódás\n",
        "cur = con.cursor()              ## kurzor létrehozás\n",
        "\n",
        "FIELD_MAX_WIDTH = 30            ## mezők maximális hossz beállítása\n",
        "cur.execute(\"\"\" WITH    \n",
        "  TrackGenre(Trackid,GenreName) AS \n",
        "   (SELECT Trackid,Genre.Name as GenreName FROM Track INNER JOIN Genre ON  Track.GenreId=Genre.GenreId)\n",
        "   \n",
        "  ,InvoiceGenre(InvoiceId,GenreCount,GenreName) AS \n",
        "   (SELECT InvoiceId, COUNT(GenreName) AS GenreCount, GenreName FROM\n",
        "    InvoiceLine INNER JOIN TrackGenre ON \n",
        "    InvoiceLine.TrackId=TrackGenre.TrackId \n",
        "    GROUP BY InvoiceId,GenreName \n",
        "    ORDER BY InvoiceId,GenreCount DESC ),  \n",
        "    \n",
        "  CustomerGenre(CustomerId,GenreCount,GenreName) AS \n",
        "  (SELECT Customer.CustomerId,SUM(GenreCount),GenreName FROM Customer \n",
        "     INNER JOIN INVOICE ON Invoice.CustomerId=Customer.CustomerId \n",
        "     INNER JOIN InvoiceGenre ON InvoiceGenre.InvoiceId=Invoice.InvoiceId \n",
        "     GROUP BY Customer.CustomerId,GenreName)\n",
        "                                                                    --- sql :With rész vége   \n",
        "------------------------------------------------------------------------                                                                    \n",
        "                                                                    --- sql : inline nézetett használó select                                                                    \n",
        "SELECT Customer.CustomerId AS CustomerId,Customer.FirstName AS FirstName,\n",
        "GenreName AS FavoriteGenre, MAX(GenreCount) AS GenreCount  \n",
        "FROM CustomerGenre INNER JOIN Customer ON Customer.CustomerId=CustomerGenre.CustomerId\n",
        "where Customer.CustomerId < 11                --- sql : szűrés\n",
        "GROUP BY Customer.CustomerId                  --- sql : csoportosítás\n",
        "ORDER BY CustomerId                           --- sql : rendezés\n",
        "\n",
        "  \"\"\")\n",
        "\n",
        "# Fejléc\n",
        "for fieldDesc in cur.description:\n",
        "    print(fieldDesc[0].ljust(FIELD_MAX_WIDTH), end=' ')\n",
        "print()                                 # Fejléc vége  \n",
        "for fieldDesc in cur.description:\n",
        "    print('-' * 30, end=' ')             # Alávonás\n",
        "print()                                  # elválasztó sor\n",
        "\n",
        "# Adattőrzs\n",
        "fieldIndices = range(len(cur.description))\n",
        "for row in cur:\n",
        "    for fieldIndex in fieldIndices:\n",
        "        fieldValue = str(row[fieldIndex])\n",
        "        print(fieldValue.ljust(FIELD_MAX_WIDTH), end=' ')  # Mezők egy sorba\n",
        "\n",
        "    print()                                          # kiíratás végén sorvégjel kitétele\n",
        "\n",
        "\n",
        "## lezárások, erőforrás felszabadítás\n",
        "cur.close()\n",
        "con.close()\n",
        "\n",
        "## Hiányzik: kivétel kezelés, ..."
      ],
      "execution_count": null,
      "outputs": [
        {
          "output_type": "stream",
          "text": [
            "CustomerId                     FirstName                      FavoriteGenre                  GenreCount                     \n",
            "------------------------------ ------------------------------ ------------------------------ ------------------------------ \n",
            "1                              Luís                           Rock                           14                             \n",
            "2                              Leonie                         Rock                           17                             \n",
            "3                              François                       Metal                          10                             \n",
            "4                              Bjørn                          Rock                           17                             \n",
            "5                              František                      Rock                           15                             \n",
            "6                              Helena                         Rock                           10                             \n",
            "7                              Astrid                         Rock                           15                             \n",
            "8                              Daan                           Rock                           21                             \n",
            "9                              Kara                           Rock                           21                             \n",
            "10                             Eduardo                        Rock                           29                             \n"
          ],
          "name": "stdout"
        }
      ]
    },
    {
      "cell_type": "markdown",
      "metadata": {
        "id": "Xp5oy1niwVv8",
        "colab_type": "text"
      },
      "source": [
        "---\n",
        "### Adatbázis szerkezete:\n",
        "\n",
        "<br>\n",
        "<br>\n",
        "<p align=\"left\"> \n",
        "    <img src=\"https://1.bp.blogspot.com/-m1j4cr5w_VE/Xu5AoESi7nI/AAAAAAAAe2M/ZuyUsL459bU9qKvtbnG51sfbVUWbsmxVgCK4BGAsYHg/w625-h505/Chinook_Sqlite.jpg\" \n",
        "         align=\"left\" width=\"700\" height=\"500\">\n",
        "    \n",
        "</p>\n",
        "\n",
        "---"
      ]
    }
  ]
}