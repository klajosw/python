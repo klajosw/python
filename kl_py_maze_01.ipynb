{
  "nbformat": 4,
  "nbformat_minor": 0,
  "metadata": {
    "kernelspec": {
      "display_name": "Python 3",
      "language": "python",
      "name": "python3"
    },
    "language_info": {
      "codemirror_mode": {
        "name": "ipython",
        "version": 3
      },
      "file_extension": ".py",
      "mimetype": "text/x-python",
      "name": "python",
      "nbconvert_exporter": "python",
      "pygments_lexer": "ipython3",
      "version": "3.7.6"
    },
    "colab": {
      "name": "kl_py_maze_01.ipynb",
      "provenance": [],
      "collapsed_sections": [],
      "include_colab_link": true
    }
  },
  "cells": [
    {
      "cell_type": "markdown",
      "metadata": {
        "id": "view-in-github",
        "colab_type": "text"
      },
      "source": [
        "<a href=\"https://colab.research.google.com/github/klajosw/python/blob/master/kl_py_maze_01.ipynb\" target=\"_parent\"><img src=\"https://colab.research.google.com/assets/colab-badge.svg\" alt=\"Open In Colab\"/></a>"
      ]
    },
    {
      "cell_type": "markdown",
      "metadata": {
        "id": "L6PPJugj5kly",
        "colab_type": "text"
      },
      "source": [
        "<p align=\"left\"> \n",
        "    <img src=\"https://raw.githubusercontent.com/klajosw/python/master/kl_mie_python_logo_250.jpg\" \n",
        "         align=\"left\" width=\"251\" height=\"251\">\n",
        "    \n",
        "</p>\n",
        "\n",
        "\n",
        "<p> </p>\n",
        "\n",
        "# Labirintus generálás és megoldás pythonnal.\n",
        "\n",
        "https://klajosw.blogspot.com/\n",
        "\n",
        "https://github.com/klajosw/\n",
        "\n",
        "---"
      ]
    },
    {
      "cell_type": "markdown",
      "metadata": {
        "id": "BthzIA015klz",
        "colab_type": "text"
      },
      "source": [
        "--- \n",
        "\n",
        "A két fő megszorítás az, hogy legyen egy út a bejárattól a kijáratig, és szórakoztatónak kell lennie, ha a labirintust ceruzával, papírral és az agyi erővel oldja meg, nem túl könnyű, de nem is lehetetlen.\n",
        "\n",
        "Ahogy egy számítógépes labirintus modellezésére gondolok, úgy tűnik, hogy a grafikon lesz a megfelelő modell:\n",
        "a grafikon a rács négyzete, a grafikon szélei pedig a szomszédos négyzetek közötti nyílások. \n",
        "\n",
        "Tehát a grafikon milyen tulajdonságai eredményeznek jó labirintust\n",
        "\n",
        "\n",
        "- A bejárattól a kijáratig vezető útnak kell lennie.\n",
        "- Nem lehet túl sok ilyen út; talán a legjobb, ha csak egy van.\n",
        "- Valószínűleg a gráfot külön-külön össze kell kapcsolni, nem lehetnek olyan négyzet-szigetek, amelyek a kezdetektől elérhetetlenek. Valójában talán pontosan egy utat akarunk a két négyzet között.\n",
        "- Az útnak sok csavarral kell rendelkeznie; túl könnyű lenne, ha többnyire egyenes.\n",
        "\n",
        "Tudom, hogy a fa ezen tulajdonságokkal rendelkezik az utolsó kivételével. \n",
        "\n",
        "Tehát a célom így módosult: Helyezzünk a fát egy rácsra, amely minden négyzetet lefed, és ellenőrizzük, hogy az ösvények csavarodnak-e.  \n",
        "\n",
        "Így tegyem meg:\n",
        "\n",
        "- Indítsa el a szélek nélküli rácsot (minden négyzetet mindkét oldalán falak vesznek körül).\n",
        "- A bal felső sarokban és a jobb alsó sarokban adja hozzá a széleket (azaz le kell falakat) a bejárathoz.\n",
        "- Helyezze a fa gyökerét valamilyen négyzetre.\n",
        "- Ezután ismételje meg, amíg a fa nem fedezi az egész rácsot:\n",
        "   * Válasszon ki egy csomópontot a fában.\n",
        "   * Véletlenszerűen válassza ki a szomszédot, amelyet még nem adtak hozzá a fához.\n",
        "   * Adjon hozzá egy szélt (leüt a falon) a csomóponttól a szomszédhoz.\n",
        "  \n",
        "\n",
        "Az alábbi példában az A gyökér a bal felső sarokban van, és két ága van, Az \"A-B-C-D\" és az \"A-b-c-d\" véletlenszerűen választottak (nos, valójában nem véletlenszerűen; ugyanazt a labirintust kezdenek létrehozni):\n",
        "\n",
        "     o  o--o--o--o--o--o--o--o--o--o\n",
        "     | A  b  c|  |  |  |  |  |  |  |\n",
        "     o  o--o  o--o--o--o--o--o--o--o\n",
        "     | B|  | d|  |  |  |  |  |  |  |\n",
        "     o  o--o--o--o--o--o--o--o--o--o\n",
        "     | C  D|  |  |  |  |  |  |  |  |\n",
        "     o--o--o--o--o--o--o--o--o--o--o\n",
        "     |  |  |  |  |  |  |  |  |  |  |\n",
        "     o--o--o--o--o--o--o--o--o--o--o\n",
        "     |  |  |  |  |  |  |  |  |  |  |\n",
        "     o--o--o--o--o--o--o--o--o--o  o\n",
        "\n",
        "\n",
        "---\n",
        "    \n",
        "Ezután kiválasztom a \"d\" csomópontot, és kiterjesztem az \"e\" -re \n",
        "(ezen a ponton nincsenek elérhető szomszédok, tehát az \"e\" -et a jövőben nem választjuk meg), \n",
        "\n",
        "majd a \"D\" -et választom, és onnan kiterjesztem az összes az \"N\" módhoz, minden lépésben kiválasztva az éppen hozzáadott csomópontot:\n",
        "\n",
        "     o  o--o--o--o--o--o--o--o--o--o\n",
        "     | A  b  c|  |  |  |  |  |  |  |\n",
        "     o  o--o  o--o--o--o--o--o--o--o\n",
        "     | B| e  d|  | N|  |  |  |  |  |\n",
        "     o  o--o--o--o  o--o--o--o--o--o\n",
        "     | C  D|  |  | M|  |  |  |  |  |\n",
        "     o--o  o--o--o  o--o--o--o--o--o\n",
        "     | F  E|  | K  L|  |  |  |  |  |\n",
        "     o  o--o--o  o--o--o--o--o--o--o\n",
        "     | G  H  I  J|  |  |  |  |  |  |\n",
        "     o--o--o--o--o--o--o--o--o--o  o\n",
        "     \n",
        "Folytassa így, amíg a rács minden négyzetét hozzáadja a fához. Ezen a ponton lesz egy út a kezdetektől a célokig. Néhány falak megmaradnak; néhányat leütönek.\n",
        "\n"
      ]
    },
    {
      "cell_type": "markdown",
      "metadata": {
        "id": "CQsTvX-j5kl0",
        "colab_type": "text"
      },
      "source": [
        "---\n",
        "\n",
        "# Véletlenszerű fák készítése\n",
        "\n",
        "A következő végrehajtási döntéseket hozom:\n",
        "\n",
        "- A fa élek halmaza.\n",
        "- Az „él” egy csomópont két csomópontból. Az élek kétirányúak, így a félreértés elkerülése érdekében mindig a rendezett sorrendben fogjuk megkapni: mindig `(A, B)`, soha `(B, A)`. A „szél” kivitelező ezt kényszeríti.\n",
        "- A fában lévő csomópont bármi lehet: szám, betű, ... Ebben a jegyzetfüzetben fákat készítünk, ahol a csomópontok négyzet alakban vannak egy rácsban, de a \"random_tree\" függvény bármilyen típusú csomópontot elfogad.\n",
        "- A \"random_tree (csomópontok, szomszédok, pop)\" algoritmus a következőképpen működik:\n",
        "  * Az érvek:\n",
        "    - \"csomópontok\": csomópontok gyűjteménye.\n",
        "    - \"szomszédok\": olyan funkció, hogy a \"szomszédok (csomópont)\" egy csomópontkészletet ad vissza.\n",
        "    - \"pop\": olyan funkció, hogy a \"pop (frontier)\" eltávolítja és visszatér egy elemet a \"határról\".\n",
        "  * A funkció három gyűjteményt nyomon követi:\n",
        "    - \"fa\": a fa éleinek halmaza.\n",
        "    - \"csomópontok\": azon csomópontok halmaza, amelyeket még nem adtak hozzá a fához, de lesznek.\n",
        "    - \"határ\": a fában lévő csomópontok sora, amelyek jogosultak egy él hozzáadásához.\n",
        "  * Minden iteráción:\n",
        "    - A „pop” gombbal válasszon ki egy „csomópontot” a határról, és keresse meg azokat a szomszédokat, akik még nem vannak a fában.\n",
        "    - Ha vannak szomszédok, véletlenszerűen válasszon egyet (`nbr`), adjon hozzá` él (csomópont, nbr) `-t a` fához `, távolítsa el a\n",
        "      szomszédját a \"csomópontokból\", és tartsa a csomópontot és a szomszédot a határon. Ha nincsenek szomszédok,\n",
        "      dobja el a csomópontot a határról.\n",
        "  * Ha nincsenek \"csomópontok\", tegyük vissza a \"fát\".\n",
        "\n",
        "\n",
        "\n",
        "---"
      ]
    },
    {
      "cell_type": "code",
      "metadata": {
        "id": "7EzyC9Q-5kl0",
        "colab_type": "code",
        "colab": {}
      },
      "source": [
        "import random\n",
        "from collections import deque, namedtuple\n",
        "\n",
        "Edge = tuple\n",
        "Tree = set\n",
        "\n",
        "def edge(A, B) -> Edge: return Edge(sorted([A, B]))\n",
        "\n",
        "def random_tree(nodes, neighbors, pop=deque.pop) -> Tree:\n",
        "    \"\"\"Repeat: pop a node and add edge(node, nbr) until all nodes have been added to tree.\"\"\"\n",
        "    tree = Tree()\n",
        "    nodes = set(nodes)\n",
        "    root = nodes.pop()\n",
        "    frontier = deque([root])\n",
        "    while nodes:\n",
        "        node = pop(frontier)\n",
        "        nbrs = neighbors(node) & nodes\n",
        "        if nbrs:\n",
        "            nbr = random.choice(list(nbrs))\n",
        "            tree.add(edge(node, nbr))\n",
        "            nodes.remove(nbr)\n",
        "            frontier.extend([node, nbr])\n",
        "    return tree"
      ],
      "execution_count": 0,
      "outputs": []
    },
    {
      "cell_type": "markdown",
      "metadata": {
        "id": "WrwLF8aR5kl4",
        "colab_type": "text"
      },
      "source": [
        "---\n",
        "\n",
        "# Véletlenszerű labirintus készítése\n",
        "\n",
        "Most használjuk a `random_tree` funkciót a `random_maze` megvalósításához. \n",
        "\n",
        "Alapvetően csak `(x, y)` négyzetek gyűjteményét készítjük, ezeket átvisszük a `random_tree` -re, és hagyjuk, hogy a munka megtörténjen. \n",
        "\n",
        "Vegye figyelembe, hogy:\n",
        "\n",
        "A labirintus egy elnevezett tuple, amely három mezővel rendelkezik: a rács szélessége és magassága, valamint a négyzetek közötti élek.\n",
        "   \n",
        "A négyzetet egész koordináták (x, y) együttese jelöli.\n",
        "\n",
        "A szomszédok 4 (négyzet) függvény adja a négy környező négyzetet.\n",
        "\n",
        "---"
      ]
    },
    {
      "cell_type": "code",
      "metadata": {
        "id": "VCSJv0Ub5kl4",
        "colab_type": "code",
        "colab": {}
      },
      "source": [
        "Maze = namedtuple('Maze', 'width, height, edges')\n",
        "\n",
        "Square = tuple\n",
        "\n",
        "def neighbors4(square) -> {Square}:\n",
        "    \"\"\"The 4 neighbors of an (x, y) square.\"\"\"\n",
        "    (x, y) = square\n",
        "    return {(x + 1, y), (x - 1, y), (x, y + 1), (x, y - 1)}\n",
        "\n",
        "def grid(width, height) -> {Square}: \n",
        "    \"\"\"All squares in a grid of these dimensions.\"\"\"\n",
        "    return {(x, y) for x in range(width) for y in range(height)}\n",
        "\n",
        "def random_maze(width, height, pop=deque.pop) -> Maze:\n",
        "    \"\"\"Generate a random maze, using random_tree.\"\"\"\n",
        "    tree = random_tree(grid(width, height), neighbors4, pop)\n",
        "    return Maze(width, height, tree)"
      ],
      "execution_count": 0,
      "outputs": []
    },
    {
      "cell_type": "markdown",
      "metadata": {
        "id": "23_W7Xt45kl7",
        "colab_type": "text"
      },
      "source": [
        "###  Készítsünk egy 10x5-es labirintust:"
      ]
    },
    {
      "cell_type": "code",
      "metadata": {
        "id": "eOCjVJ595kl8",
        "colab_type": "code",
        "colab": {
          "base_uri": "https://localhost:8080/",
          "height": 54
        },
        "outputId": "d87e2fbc-920c-4a7b-e632-32f939aedf4a"
      },
      "source": [
        "random_maze(10, 5)"
      ],
      "execution_count": 3,
      "outputs": [
        {
          "output_type": "execute_result",
          "data": {
            "text/plain": [
              "Maze(width=10, height=5, edges={((6, 2), (6, 3)), ((8, 0), (8, 1)), ((6, 4), (7, 4)), ((8, 3), (9, 3)), ((2, 2), (3, 2)), ((8, 4), (9, 4)), ((4, 0), (5, 0)), ((1, 0), (2, 0)), ((1, 1), (2, 1)), ((4, 1), (5, 1)), ((4, 2), (4, 3)), ((2, 1), (2, 2)), ((0, 2), (0, 3)), ((7, 4), (8, 4)), ((6, 0), (7, 0)), ((3, 1), (3, 2)), ((3, 0), (3, 1)), ((2, 3), (2, 4)), ((7, 1), (7, 2)), ((0, 4), (1, 4)), ((3, 3), (4, 3)), ((9, 0), (9, 1)), ((1, 2), (1, 3)), ((8, 1), (9, 1)), ((7, 0), (8, 0)), ((9, 1), (9, 2)), ((7, 3), (8, 3)), ((4, 0), (4, 1)), ((4, 2), (5, 2)), ((2, 4), (3, 4)), ((6, 1), (7, 1)), ((0, 1), (0, 2)), ((1, 1), (1, 2)), ((6, 3), (6, 4)), ((6, 2), (7, 2)), ((3, 3), (3, 4)), ((0, 0), (1, 0)), ((5, 1), (5, 2)), ((2, 0), (3, 0)), ((5, 0), (6, 0)), ((3, 4), (4, 4)), ((0, 0), (0, 1)), ((0, 3), (0, 4)), ((4, 4), (5, 4)), ((1, 3), (2, 3)), ((9, 3), (9, 4)), ((5, 3), (5, 4)), ((6, 0), (6, 1)), ((8, 2), (9, 2))})"
            ]
          },
          "metadata": {
            "tags": []
          },
          "execution_count": 3
        }
      ]
    },
    {
      "cell_type": "markdown",
      "metadata": {
        "id": "OnUc_mSR5kl_",
        "colab_type": "text"
      },
      "source": [
        "---\n",
        "\n",
        "Ez így nem nagyon szép. Szükség lesz egy módszerre a labirintus megjelenítésére.\n",
        "\n",
        "\n",
        "# Labirintus megjelenítése\n",
        "\n",
        "\n",
        "\n",
        "\n",
        "\n",
        "A `matplotlib` -t használom a labirintus falainak ábrázolására. Alig várom, mikor lesz * megoldási út *, és megengedjük ennek ábrázolását is.\n",
        "\n",
        "\n",
        "---"
      ]
    },
    {
      "cell_type": "code",
      "metadata": {
        "id": "XKHPkXvX5kmA",
        "colab_type": "code",
        "colab": {}
      },
      "source": [
        "%matplotlib inline\n",
        "import matplotlib.pyplot as plt\n",
        "\n",
        "def plot_maze(maze, figsize=None, path=None):\n",
        "    \"\"\"Plot a maze by drawing lines between adjacent squares, except for pairs in maze.edges\"\"\"\n",
        "    w, h  = maze.width, maze.height\n",
        "    plt.figure(figsize=figsize or (w/5, h/5))\n",
        "    plt.axis('off')\n",
        "    plt.gca().invert_yaxis()\n",
        "    exits = {edge((0, 0), (0, -1)), edge((w-1, h-1), (w-1, h))}\n",
        "    edges = maze.edges | exits\n",
        "    for sq in grid(w, h):\n",
        "        for nbr in neighbors4(sq):\n",
        "            if edge(sq, nbr) not in edges:\n",
        "                plot_wall(sq, nbr)\n",
        "    if path: # Plot the solution (or any path) as a green line through the maze\n",
        "        X, Y = transpose((x + 0.5, y + 0.5) for (x, y) in path)\n",
        "        plt.plot(X, Y, 'g-', linewidth=2)\n",
        "        \n",
        "def transpose(matrix): return list(zip(*matrix))\n",
        "\n",
        "def plot_wall(s1, s2):\n",
        "    \"\"\"Plot a wall: a blue line between squares s1 and s2.\"\"\"\n",
        "    (x1, y1), (x2, y2) = s1, s2\n",
        "    if x1 == x2: # horizontal wall\n",
        "        y = max(y1, y2)\n",
        "        X, Y = [x1, x1+1], [y, y]\n",
        "    else: # vertical wall\n",
        "        x = max(x1, x2)\n",
        "        X, Y = [x, x], [y1, y1+1]\n",
        "    plt.plot(X, Y, 'b-', linewidth=2)"
      ],
      "execution_count": 0,
      "outputs": []
    },
    {
      "cell_type": "markdown",
      "metadata": {
        "id": "c6tvFDJL5kmC",
        "colab_type": "text"
      },
      "source": [
        "### Nézzük meg, hogy néz ki:"
      ]
    },
    {
      "cell_type": "code",
      "metadata": {
        "id": "XzWTU5qs5kmD",
        "colab_type": "code",
        "colab": {},
        "outputId": "99321fc3-6a54-4fc1-836a-387c2a02b521"
      },
      "source": [
        "M = random_maze(10, 5)\n",
        "plot_maze(M, figsize=(5, 2.5))  "
      ],
      "execution_count": 0,
      "outputs": [
        {
          "output_type": "display_data",
          "data": {
            "image/png": "[encoded data removed]",
            "text/plain": [
              "<Figure size 360x180 with 1 Axes>"
            ]
          },
          "metadata": {
            "tags": [],
            "needs_background": "light"
          }
        }
      ]
    },
    {
      "cell_type": "markdown",
      "metadata": {
        "id": "nUPIIBLt5kmF",
        "colab_type": "text"
      },
      "source": [
        "---\n",
        "\n",
        "# A labirintus megoldása\n",
        "\n",
        "Itt az ideje megmutatni, hogyan lehet megoldani egy labirintust. \n",
        "\n",
        "Az első szélességű keresést fogom használni, amely garantálja, hogy a megoldás a lehető legrövidebb lesz (bár csak egy megoldással rendelkező labirintusok esetén).\n",
        "\n",
        "A `breadth_first_search` függvény a fel nem fedezett négyzetek határát tartja fenn, és minden iterációnál eltávolítja a határról egy négyzetet, amely a legkisebb útmélységben van, és hozzáadja a határhoz a négyzet összes szomszédját, amelyeket a falak nem blokkolnak és még nem láttak korábban.\n",
        "\n",
        "A `{square: [square,...]}` elérési útnak nevezett szótárnak két célja van: megakadályozza, hogy hurkokat hozzunk létre egy útban, és végül megmondja nekünk az utat az indulástól a célig, pl. `[(0, 0), (0, 1), (1, 1), (2, 1), ...]`.\n",
        "\n",
        "---"
      ]
    },
    {
      "cell_type": "code",
      "metadata": {
        "id": "TggPnecr5kmF",
        "colab_type": "code",
        "colab": {}
      },
      "source": [
        "def breadth_first_search(maze):\n",
        "    \"\"\"Find a shortest sequence of states from start to the goal.\"\"\"\n",
        "    start = (0, 0)\n",
        "    goal = (maze.width - 1, maze.height - 1)\n",
        "    frontier = deque([start])  # A queue of states to consider\n",
        "    paths = {start: [start]}   # start has a one-square path\n",
        "    while frontier:\n",
        "        s = frontier.popleft()\n",
        "        if s == goal:\n",
        "            return paths[s]\n",
        "        for s2 in neighbors4(s):\n",
        "            if s2 not in paths and edge(s, s2) in maze.edges:\n",
        "                frontier.append(s2)\n",
        "                paths[s2] = paths.get(s, []) + [s2]"
      ],
      "execution_count": 0,
      "outputs": []
    },
    {
      "cell_type": "code",
      "metadata": {
        "id": "qz9uO0su5kmJ",
        "colab_type": "code",
        "colab": {},
        "outputId": "168e7669-775f-47fc-a139-447bb449e282"
      },
      "source": [
        "solution = breadth_first_search(M)\n",
        "solution"
      ],
      "execution_count": 0,
      "outputs": [
        {
          "output_type": "execute_result",
          "data": {
            "text/plain": [
              "[(0, 0),\n",
              " (1, 0),\n",
              " (2, 0),\n",
              " (3, 0),\n",
              " (4, 0),\n",
              " (5, 0),\n",
              " (5, 1),\n",
              " (6, 1),\n",
              " (6, 0),\n",
              " (7, 0),\n",
              " (8, 0),\n",
              " (9, 0),\n",
              " (9, 1),\n",
              " (9, 2),\n",
              " (9, 3),\n",
              " (9, 4)]"
            ]
          },
          "metadata": {
            "tags": []
          },
          "execution_count": 37
        }
      ]
    },
    {
      "cell_type": "code",
      "metadata": {
        "id": "IyjTCIrA5kmL",
        "colab_type": "code",
        "colab": {},
        "outputId": "56286568-6e21-4158-d9d8-4b871a3acd04"
      },
      "source": [
        "plot_maze(M, figsize=(5, 3), path=solution)"
      ],
      "execution_count": 0,
      "outputs": [
        {
          "output_type": "display_data",
          "data": {
            "image/png": "[encoded data removed]",
            "text/plain": [
              "<Figure size 360x216 with 1 Axes>"
            ]
          },
          "metadata": {
            "tags": [],
            "needs_background": "light"
          }
        }
      ]
    },
    {
      "cell_type": "markdown",
      "metadata": {
        "id": "6BRTf6WM5kmO",
        "colab_type": "text"
      },
      "source": [
        "---\n",
        "\n",
        "# Stratégiak `pop` paraméter `random_maze` használathoz\n",
        "\n",
        "Hasonlítsuk össze, hogy a labirintus hogyan változik a pop-paraméter három különböző választása alapján.\n",
        "\n",
        "\n",
        "# `pop=deque.pop`\n",
        "\n",
        "\n",
        "Az alapértelmezett pop módszer, a `deque.pop` azt jelenti, hogy a fát ** mélységében először ** hozza létre; mindig a `node` a határ ** ** végén ** választjuk, tehát a fa egy ágot követ véletlenszerűen csavart út mentén, amíg az út megduplázódik, és nincs több szomszéd. \n",
        "\n",
        "Ezen a ponton kiválasztjuk a legújabb teret, amelyhez szomszédok vannak, és onnan folytatjuk. A `deque.pop`  labirintus nagyon jól néz ki.\n",
        "\n",
        "Megmutatom a labirintust megoldás nélkül, majd a megoldás útvonalával.\n",
        "\n",
        "---"
      ]
    },
    {
      "cell_type": "code",
      "metadata": {
        "id": "72dJIG665kmO",
        "colab_type": "code",
        "colab": {}
      },
      "source": [
        "def show(pop):\n",
        "    \"\"\"Using this `pop` parameter, show a 70x70 maze, first without and then with the solution path.\"\"\"\n",
        "    M = random_maze(30, 30, pop)\n",
        "    plot_maze(M)\n",
        "    plt.show()\n",
        "    solution = breadth_first_search(M)\n",
        "    plot_maze(M, path=[(0, -1)] + solution + [(M.width - 1, M.height)])\n",
        "    return len(solution)"
      ],
      "execution_count": 0,
      "outputs": []
    },
    {
      "cell_type": "code",
      "metadata": {
        "id": "_Le5jU_G5kmQ",
        "colab_type": "code",
        "colab": {},
        "outputId": "0d887aae-669c-4dde-a54e-93e64b6bc0f6"
      },
      "source": [
        "show(deque.pop)"
      ],
      "execution_count": 0,
      "outputs": [
        {
          "output_type": "display_data",
          "data": {
            "image/png": "[encoded data removed]",
            "text/plain": [
              "<Figure size 432x432 with 1 Axes>"
            ]
          },
          "metadata": {
            "tags": [],
            "needs_background": "light"
          }
        },
        {
          "output_type": "execute_result",
          "data": {
            "text/plain": [
              "339"
            ]
          },
          "metadata": {
            "tags": []
          },
          "execution_count": 47
        },
        {
          "output_type": "display_data",
          "data": {
            "image/png": "[encoded data removed]",
            "text/plain": [
              "<Figure size 432x432 with 1 Axes>"
            ]
          },
          "metadata": {
            "tags": [],
            "needs_background": "light"
          }
        }
      ]
    },
    {
      "cell_type": "markdown",
      "metadata": {
        "id": "nagkcDYE5kmS",
        "colab_type": "text"
      },
      "source": [
        "---\n",
        "\n",
        "# `pop=deque.popleft`\n",
        "\n",
        "Ez nagyjából ugyan olyan szélességgel hozza létre a labirintust - egy gyökér négyzetnél indulunk, hozzá adunk egy szélt, és ettől kezdve mindig kiválasztunk egy szülői élt, mielőtt kiválasztunk egy gyermek élét.\n",
        "\n",
        "A nettó eredmény egy olyan terv, amely koncentrikus rétegekben sugároz ki a gyökérből (amelyet a `random_tree` választ ki, és nem feltétlenül a bal felső négyzet; alatta úgy tűnik, hogy a gyökér a jobb alsó negyedben található). \n",
        "\n",
        "A `deque.popleft` labirintus formatervezésként érdekes, de számomra nem működik jól, mint egy labirintus. Túl könnyű megoldani: kövesse az utat a kezdetektől a gyökérig, majd fontolja meg az utat a végétől a gyökérig, és nézze meg, hogy miként illeszkednek egymáshoz.\n",
        "\n",
        "---"
      ]
    },
    {
      "cell_type": "code",
      "metadata": {
        "id": "Bo6LicaA5kmS",
        "colab_type": "code",
        "colab": {},
        "outputId": "2fb82fe0-d0eb-47c4-cbb6-4e56f76c898d"
      },
      "source": [
        "show(deque.popleft)"
      ],
      "execution_count": 0,
      "outputs": [
        {
          "output_type": "display_data",
          "data": {
            "image/png": "[encoded data removed]",
            "text/plain": [
              "<Figure size 432x432 with 1 Axes>"
            ]
          },
          "metadata": {
            "tags": [],
            "needs_background": "light"
          }
        },
        {
          "output_type": "execute_result",
          "data": {
            "text/plain": [
              "59"
            ]
          },
          "metadata": {
            "tags": []
          },
          "execution_count": 48
        },
        {
          "output_type": "display_data",
          "data": {
            "image/png": "[encoded data removed]",
            "text/plain": [
              "<Figure size 432x432 with 1 Axes>"
            ]
          },
          "metadata": {
            "tags": [],
            "needs_background": "light"
          }
        }
      ]
    },
    {
      "cell_type": "markdown",
      "metadata": {
        "id": "xHTIHRQn5kmV",
        "colab_type": "text"
      },
      "source": [
        "# `pop=poprandom`\n",
        "\n",
        "Választhatunk egy cellát véletlenszerűen a határtól. \n",
        "\n",
        "Ez egy érdekes kompromisszum: van némi felépítése és véleményem szerint meglehetősen szép, mint labirintus. \n",
        "\n",
        "\n",
        "Meg kell azonban mondanom, hogy meglepett, hogy az út majdnem olyan egyenes és rövid, mint a `pop=popleft` esetében; nem olyan szűk, mint a `pop=deque.pop`-nál.\n",
        "\n",
        "---"
      ]
    },
    {
      "cell_type": "code",
      "metadata": {
        "id": "U4Uk5Bp15kmV",
        "colab_type": "code",
        "colab": {}
      },
      "source": [
        "def poprandom(seq):\n",
        "    \"\"\"Select and return a random element; remove it from the sequence.\"\"\"\n",
        "    element = random.choice(seq)\n",
        "    seq.remove(element)\n",
        "    return element"
      ],
      "execution_count": 0,
      "outputs": []
    },
    {
      "cell_type": "code",
      "metadata": {
        "id": "kic3L-kk5kmY",
        "colab_type": "code",
        "colab": {},
        "outputId": "02f252db-0171-4f33-dc4e-2e104335435a"
      },
      "source": [
        "show(poprandom)"
      ],
      "execution_count": 0,
      "outputs": [
        {
          "output_type": "display_data",
          "data": {
            "image/png": "[encoded data removed]",
            "text/plain": [
              "<Figure size 432x432 with 1 Axes>"
            ]
          },
          "metadata": {
            "tags": [],
            "needs_background": "light"
          }
        },
        {
          "output_type": "execute_result",
          "data": {
            "text/plain": [
              "65"
            ]
          },
          "metadata": {
            "tags": []
          },
          "execution_count": 50
        },
        {
          "output_type": "display_data",
          "data": {
            "image/png": "[encoded data removed]",
            "text/plain": [
              "<Figure size 432x432 with 1 Axes>"
            ]
          },
          "metadata": {
            "tags": [],
            "needs_background": "light"
          }
        }
      ]
    },
    {
      "cell_type": "code",
      "metadata": {
        "id": "ZEbOx2C35kma",
        "colab_type": "code",
        "colab": {}
      },
      "source": [
        ""
      ],
      "execution_count": 0,
      "outputs": []
    }
  ]
}