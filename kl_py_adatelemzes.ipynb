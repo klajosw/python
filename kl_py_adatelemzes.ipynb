{
  "nbformat": 4,
  "nbformat_minor": 0,
  "metadata": {
    "hide_input": false,
    "kernelspec": {
      "display_name": "Python 3",
      "language": "python",
      "name": "python3"
    },
    "language_info": {
      "codemirror_mode": {
        "name": "ipython",
        "version": 3
      },
      "file_extension": ".py",
      "mimetype": "text/x-python",
      "name": "python",
      "nbconvert_exporter": "python",
      "pygments_lexer": "ipython3",
      "version": "3.7.4"
    },
    "name": "elemzes.ipynb",
    "colab": {
      "name": "kl_py_adatelemzes.ipynb",
      "provenance": [],
      "collapsed_sections": [
        "Rqc8iAZzYoZM"
      ],
      "include_colab_link": true
    }
  },
  "cells": [
    {
      "cell_type": "markdown",
      "metadata": {
        "id": "view-in-github",
        "colab_type": "text"
      },
      "source": [
        "<a href=\"https://colab.research.google.com/github/klajosw/python/blob/master/kl_py_adatelemzes.ipynb\" target=\"_parent\"><img src=\"https://colab.research.google.com/assets/colab-badge.svg\" alt=\"Open In Colab\"/></a>"
      ]
    },
    {
      "cell_type": "markdown",
      "metadata": {
        "id": "9pwKmD0uYoYK",
        "colab_type": "text"
      },
      "source": [
        "# Adatok elemzése\n",
        "\n",
        "A két leggyakoribb adatelemzési problémát fogunk megvizsgálni:\n",
        "   Az első a függvényillesztés, \n",
        "   a második pedig a periodikus jelek (például hangminták) Fourier-analízise. \n",
        "   \n",
        "Kezdőlépésnek töltsünk be néhány hasznos modult és függvényt!"
      ]
    },
    {
      "cell_type": "code",
      "metadata": {
        "id": "X8ogSFlNYoYM",
        "colab_type": "code",
        "colab": {},
        "outputId": "a29cc960-f56b-47ef-ce73-4cf23a45d277"
      },
      "source": [
        "%pylab inline\n",
        "from scipy.optimize import curve_fit # Az illesztéshez használt függvény\n",
        "from numpy.fft import *              # Fourier-analízishez használt rutinok"
      ],
      "execution_count": 0,
      "outputs": [
        {
          "output_type": "stream",
          "text": [
            "Populating the interactive namespace from numpy and matplotlib\n"
          ],
          "name": "stdout"
        }
      ]
    },
    {
      "cell_type": "markdown",
      "metadata": {
        "id": "lAiK21bUYoYR",
        "colab_type": "text"
      },
      "source": [
        "## Függvényillesztés\n",
        "\n",
        "\n",
        "\n",
        "Sokszor előfordul, hogy egy kísérlet eredményeit valamilyen elméleti becsléssel szeretnénk összevetni, illetve, hogy az elméletben szereplő paramétereket egy kísérlethez szeretnénk igazítani. Az egyik legelterjedtebb eljárás ennek a problémának a megoldására az úgynevezett legkisebb négyzetek módszere.\n",
        "\n",
        "Tegyük fel, hogy a kísérleti adataink $(x_i,y_i)$ számpárokként állnak rendelkezésünkre, és van $N$ db mintapontunk, azaz $i=1\\dots N$ ! \n",
        "\n",
        "Erre az adatsorra szeretnénk illeszteni egy $y=f(x,a,b,c,d,\\dots)$ függvényt! A feladat az hogy olyan $a,b,c,d,\\dots$ paramétereket találjunk, amik a legjobban közelítik az adatpontjainkat. \n",
        "\n",
        "Ezt a feladatot az $$S(a,b,c,d,\\dots)=\\sum_{i=1}^N (y_i-f(x_i,a,b,c,d,\\dots))^2$$ függvény minimalizálásával oldhatjuk meg. \n",
        "\n",
        "Ez a legkisebb négyzetek módszerének lényege. Természetesen van Python-csomag, amely a legkisebb négyzetek módszerét használja, az alábbiakban ezzel fogunk megismerkedni néhány példán keresztül."
      ]
    },
    {
      "cell_type": "markdown",
      "metadata": {
        "collapsed": true,
        "id": "hkz1tVs0YoYS",
        "colab_type": "text"
      },
      "source": [
        "Generáljunk először egy adathalmazt, amit később vizsgálhatunk! Legyen ez egy zajos $\\sin$ függvény!"
      ]
    },
    {
      "cell_type": "code",
      "metadata": {
        "id": "rwnc96SnYoYT",
        "colab_type": "code",
        "colab": {}
      },
      "source": [
        "t1 = linspace(0,10,100) # mintavételezés\n",
        "zaj=0.3*randn(len(t1))  # normál eloszlású zaj\n",
        "x1=1.5*sin(t1+2)+zaj     # egy zajos sin függvény\n",
        "hiba=2*abs(zaj)        # ez a \"mérés\" hibája"
      ],
      "execution_count": 0,
      "outputs": []
    },
    {
      "cell_type": "markdown",
      "metadata": {
        "id": "TWyhr8dXYoYV",
        "colab_type": "text"
      },
      "source": [
        "Most nézzük is meg!"
      ]
    },
    {
      "cell_type": "code",
      "metadata": {
        "id": "r2TTo90DYoYV",
        "colab_type": "code",
        "colab": {},
        "outputId": "5ffdcba6-96b8-477a-ca48-4e4e37b9d95d"
      },
      "source": [
        "errorbar(t1,x1,hiba,marker='o',linestyle='')"
      ],
      "execution_count": 0,
      "outputs": [
        {
          "output_type": "execute_result",
          "data": {
            "text/plain": [
              "<ErrorbarContainer object of 3 artists>"
            ]
          },
          "metadata": {
            "tags": []
          },
          "execution_count": 3
        },
        {
          "output_type": "display_data",
          "data": {
            "image/png": "[encoded data removed]",
            "text/plain": [
              "<Figure size 432x288 with 1 Axes>"
            ]
          },
          "metadata": {
            "tags": [],
            "needs_background": "light"
          }
        }
      ]
    },
    {
      "cell_type": "markdown",
      "metadata": {
        "id": "v1l4BenLYoYY",
        "colab_type": "text"
      },
      "source": [
        "A függvényillesztéshez a `curve_fit` függvényt fogjuk használni, ennek az első bemenete az a függvény, amelyet illeszteni szeretnénk. Definiáljuk tehát az illesztendő függvényt! Legyen ez $$f(t)=A\\sin(\\omega t+\\varphi)$$ alakú!"
      ]
    },
    {
      "cell_type": "code",
      "metadata": {
        "id": "0VKFyHDxYoYY",
        "colab_type": "code",
        "colab": {}
      },
      "source": [
        "def fun(t,A,omega,phi):\n",
        "    return A*sin(omega*t+phi)"
      ],
      "execution_count": 0,
      "outputs": []
    },
    {
      "cell_type": "markdown",
      "metadata": {
        "id": "DUp1xeSJYoYa",
        "colab_type": "text"
      },
      "source": [
        "A `curve_fit` függvény az illesztendő függvény első változóját tekinti futó változónak, és a függvény többi paraméterét pedig meghatározandó paraméternek. Alapvetően két tömbbel tér vissza. Az első tömb tartalmazza a meghatározott illesztési paramétereket, a másik pedig az úgy nevezett kovarianciamátrixot. A kovarianciamátrix diagonális elemei határozzák meg az illesztett paraméterek pontosságát."
      ]
    },
    {
      "cell_type": "code",
      "metadata": {
        "id": "Gz5dyG9rYoYb",
        "colab_type": "code",
        "colab": {},
        "outputId": "607cf517-5d29-4a8f-cfbb-188b8bb8c110"
      },
      "source": [
        "popt,pcov=curve_fit(fun,t1,x1) # az illesztés elvégzése\n",
        "perr = sqrt(diag(pcov))      # az illesztési paraméterek hibáinak meghatározása\n",
        "print (['A','omega','phi'])\n",
        "print (popt)\n",
        "print (perr)"
      ],
      "execution_count": 0,
      "outputs": [
        {
          "output_type": "stream",
          "text": [
            "['A', 'omega', 'phi']\n",
            "[1.45295733 1.00487561 1.97002106]\n",
            "[0.04060018 0.00985074 0.05389702]\n"
          ],
          "name": "stdout"
        }
      ]
    },
    {
      "cell_type": "markdown",
      "metadata": {
        "id": "s4DrLQzmYoYd",
        "colab_type": "text"
      },
      "source": [
        "A `popt` array első eleme az $A$ paraméter, a második az $\\omega$, a harmadik pedig a $\\varphi$.\n",
        "Amint látszik, ez egy viszonylag jól sikerült illesztés, a paraméterek illesztési hibái az illesztett paraméterértékekhez képest kicsik! Mivel a mintaadatsort mi generáltuk 'kézzel', ezért ha összevetjük az illesztett értékeket az adatsor generálása során használt $A=1.5,\\,\\omega=1.0,\\,\\varphi=2.0$ értékkekkel, akkor ezen értékekhez is viszonylag közeli számokat kapunk! Az illesztett paraméterek ismeretében már ki tudjuk értékelni az illesztett függvényt. Tegyük ezt meg!"
      ]
    },
    {
      "cell_type": "code",
      "metadata": {
        "id": "Usc89gcfYoYe",
        "colab_type": "code",
        "colab": {},
        "outputId": "ad8f3b25-4948-493c-a7af-a445a5e72903"
      },
      "source": [
        "errorbar(t1,x1,hiba,marker='o',linestyle='') # az adatok ábrázolása\n",
        "plot(t1,fun(t1,popt[0],popt[1],popt[2]),color='red',linewidth=3) # az illesztett függvény ábrázolása"
      ],
      "execution_count": 0,
      "outputs": [
        {
          "output_type": "execute_result",
          "data": {
            "text/plain": [
              "[<matplotlib.lines.Line2D at 0x19797dc6408>]"
            ]
          },
          "metadata": {
            "tags": []
          },
          "execution_count": 6
        },
        {
          "output_type": "display_data",
          "data": {
            "image/png": "[encoded data removed]",
            "text/plain": [
              "<Figure size 432x288 with 1 Axes>"
            ]
          },
          "metadata": {
            "tags": [],
            "needs_background": "light"
          }
        }
      ]
    },
    {
      "cell_type": "markdown",
      "metadata": {
        "id": "aHJlDqThYoYg",
        "colab_type": "text"
      },
      "source": [
        "A `curve_fit` parancs segítségével figyelembe tudjuk venni az eredeti adatoknak a mérési hibáit (amit a `hiba` válltozóban tároltunk el )! Ez azt jelenti, hogy az illesztés során azok a pontok, amelyek nagy mérési hibával rendelkeznek, kisebb súlyal vannak figyelembe véve, mint azok a pontok, ahol a mérési hiba kicsi. \n",
        "A mérési hibák figyelembe vétele a `sigma` kulcsszóval történik meg. Nézzük meg, mi történik, ha megadjuk a hibákat!"
      ]
    },
    {
      "cell_type": "code",
      "metadata": {
        "id": "Ri-RTnW5YoYh",
        "colab_type": "code",
        "colab": {},
        "outputId": "5bb52b25-16d8-4405-cbb2-5048dc0e6a69"
      },
      "source": [
        "popt_hibaval,pcov_hibaval=curve_fit(fun,t1,x1,sigma=hiba)\n",
        "perr_hibaval = sqrt(diag(pcov_hibaval))\n",
        "print (['A','omega','phi'])\n",
        "print (popt_hibaval)\n",
        "print (perr_hibaval)"
      ],
      "execution_count": 0,
      "outputs": [
        {
          "output_type": "stream",
          "text": [
            "['A', 'omega', 'phi']\n",
            "[1.49989837 0.99998532 2.00114651]\n",
            "[0.00266582 0.00089263 0.00667261]\n"
          ],
          "name": "stdout"
        }
      ]
    },
    {
      "cell_type": "markdown",
      "metadata": {
        "id": "xcFF42NpYoYj",
        "colab_type": "text"
      },
      "source": [
        "Ha összehasonlítjuk a hibák figyelembevételével történt illesztést és a hiba nélküli illesztést, azt tapasztaljuk, hogy az illesztett paraméterek kicsit megválltoztak, **de** illesztési hiba jóval kisebb! Hasonlítsuk össze a két illesztési módszerrel kapott paraméterezést! Az alábbi példában az előzőhöz képest egy kicsit kompaktabb írásmódot alkamazunk a paramétervektor [kicsomagolásával](http://django.arek.uni-obuda.hu/python3-doc/html/tutorial/controlflow.html#argumentumlista-kicsomagolasa)."
      ]
    },
    {
      "cell_type": "code",
      "metadata": {
        "id": "RJGr2wGmYoYk",
        "colab_type": "code",
        "colab": {},
        "outputId": "a5c5294a-66c7-48e0-cd3d-caf08313b3aa"
      },
      "source": [
        "errorbar(t1,x1,hiba,marker='o',label='adatok',linestyle='') \n",
        "plot(t1,fun(t1,*popt),color='red',label='illesztes',linewidth=4)  # itt használtuk az argumentumok kicsomagolását                  \n",
        "plot(t1,fun(t1,*popt_hibaval),color='black',label='illesztes hibaval',linewidth=3)  # itt is.\n",
        "legend()"
      ],
      "execution_count": 0,
      "outputs": [
        {
          "output_type": "execute_result",
          "data": {
            "text/plain": [
              "<matplotlib.legend.Legend at 0x19795b67448>"
            ]
          },
          "metadata": {
            "tags": []
          },
          "execution_count": 8
        },
        {
          "output_type": "display_data",
          "data": {
            "image/png": "[encoded data removed]",
            "text/plain": [
              "<Figure size 432x288 with 1 Axes>"
            ]
          },
          "metadata": {
            "tags": [],
            "needs_background": "light"
          }
        }
      ]
    },
    {
      "cell_type": "markdown",
      "metadata": {
        "id": "cpk2ByhYYoYm",
        "colab_type": "text"
      },
      "source": [
        "Az illesztési allgoritmusok, amik a `curve_fit` parancs mélyén elvégzik az illesztési feladatokat, nem mindig találják meg a megfelelő paramétereket. Ha egy illeszési feladatban sok meghatározandó paraméter van, akkor ez a probléma sokkal súlyosabb lehet. Vizsgáljunk meg erre egy másik adatsort. A  `data/ket_gauss_plus_hiba` file egy zajos adatsort tartalmaz, ami két Gauss-görbe összege. Próbáljunk meg erre illeszteni egy olyan függvényt, ami két Gauss-görbe összege! Először olvassuk be a file-t és jelenítsük meg!"
      ]
    },
    {
      "cell_type": "code",
      "metadata": {
        "id": "zu1Pq1APYoYm",
        "colab_type": "code",
        "colab": {},
        "outputId": "2f7061b3-de8e-4222-f8c3-e8eb3c0afbda"
      },
      "source": [
        "t2,x2=loadtxt('data/ket_gauss_plus_hiba',unpack=True) # beolvasas\n",
        "plot(t2,x2)                        # megjelenites"
      ],
      "execution_count": 0,
      "outputs": [
        {
          "output_type": "error",
          "ename": "OSError",
          "evalue": "data/ket_gauss_plus_hiba not found.",
          "traceback": [
            "\u001b[1;31m---------------------------------------------------------------------------\u001b[0m",
            "\u001b[1;31mOSError\u001b[0m                                   Traceback (most recent call last)",
            "\u001b[1;32m<ipython-input-9-f97f9fe2cfe5>\u001b[0m in \u001b[0;36m<module>\u001b[1;34m\u001b[0m\n\u001b[1;32m----> 1\u001b[1;33m \u001b[0mt2\u001b[0m\u001b[1;33m,\u001b[0m\u001b[0mx2\u001b[0m\u001b[1;33m=\u001b[0m\u001b[0mloadtxt\u001b[0m\u001b[1;33m(\u001b[0m\u001b[1;34m'data/ket_gauss_plus_hiba'\u001b[0m\u001b[1;33m,\u001b[0m\u001b[0munpack\u001b[0m\u001b[1;33m=\u001b[0m\u001b[1;32mTrue\u001b[0m\u001b[1;33m)\u001b[0m \u001b[1;31m# beolvasas\u001b[0m\u001b[1;33m\u001b[0m\u001b[1;33m\u001b[0m\u001b[0m\n\u001b[0m\u001b[0;32m      2\u001b[0m \u001b[0mplot\u001b[0m\u001b[1;33m(\u001b[0m\u001b[0mt2\u001b[0m\u001b[1;33m,\u001b[0m\u001b[0mx2\u001b[0m\u001b[1;33m)\u001b[0m                        \u001b[1;31m# megjelenites\u001b[0m\u001b[1;33m\u001b[0m\u001b[1;33m\u001b[0m\u001b[0m\n",
            "\u001b[1;32m~\\Anaconda3\\lib\\site-packages\\numpy\\lib\\npyio.py\u001b[0m in \u001b[0;36mloadtxt\u001b[1;34m(fname, dtype, comments, delimiter, converters, skiprows, usecols, unpack, ndmin, encoding, max_rows)\u001b[0m\n\u001b[0;32m    953\u001b[0m             \u001b[0mfname\u001b[0m \u001b[1;33m=\u001b[0m \u001b[0mos_fspath\u001b[0m\u001b[1;33m(\u001b[0m\u001b[0mfname\u001b[0m\u001b[1;33m)\u001b[0m\u001b[1;33m\u001b[0m\u001b[1;33m\u001b[0m\u001b[0m\n\u001b[0;32m    954\u001b[0m         \u001b[1;32mif\u001b[0m \u001b[0m_is_string_like\u001b[0m\u001b[1;33m(\u001b[0m\u001b[0mfname\u001b[0m\u001b[1;33m)\u001b[0m\u001b[1;33m:\u001b[0m\u001b[1;33m\u001b[0m\u001b[1;33m\u001b[0m\u001b[0m\n\u001b[1;32m--> 955\u001b[1;33m             \u001b[0mfh\u001b[0m \u001b[1;33m=\u001b[0m \u001b[0mnp\u001b[0m\u001b[1;33m.\u001b[0m\u001b[0mlib\u001b[0m\u001b[1;33m.\u001b[0m\u001b[0m_datasource\u001b[0m\u001b[1;33m.\u001b[0m\u001b[0mopen\u001b[0m\u001b[1;33m(\u001b[0m\u001b[0mfname\u001b[0m\u001b[1;33m,\u001b[0m \u001b[1;34m'rt'\u001b[0m\u001b[1;33m,\u001b[0m \u001b[0mencoding\u001b[0m\u001b[1;33m=\u001b[0m\u001b[0mencoding\u001b[0m\u001b[1;33m)\u001b[0m\u001b[1;33m\u001b[0m\u001b[1;33m\u001b[0m\u001b[0m\n\u001b[0m\u001b[0;32m    956\u001b[0m             \u001b[0mfencoding\u001b[0m \u001b[1;33m=\u001b[0m \u001b[0mgetattr\u001b[0m\u001b[1;33m(\u001b[0m\u001b[0mfh\u001b[0m\u001b[1;33m,\u001b[0m \u001b[1;34m'encoding'\u001b[0m\u001b[1;33m,\u001b[0m \u001b[1;34m'latin1'\u001b[0m\u001b[1;33m)\u001b[0m\u001b[1;33m\u001b[0m\u001b[1;33m\u001b[0m\u001b[0m\n\u001b[0;32m    957\u001b[0m             \u001b[0mfh\u001b[0m \u001b[1;33m=\u001b[0m \u001b[0miter\u001b[0m\u001b[1;33m(\u001b[0m\u001b[0mfh\u001b[0m\u001b[1;33m)\u001b[0m\u001b[1;33m\u001b[0m\u001b[1;33m\u001b[0m\u001b[0m\n",
            "\u001b[1;32m~\\Anaconda3\\lib\\site-packages\\numpy\\lib\\_datasource.py\u001b[0m in \u001b[0;36mopen\u001b[1;34m(path, mode, destpath, encoding, newline)\u001b[0m\n\u001b[0;32m    264\u001b[0m \u001b[1;33m\u001b[0m\u001b[0m\n\u001b[0;32m    265\u001b[0m     \u001b[0mds\u001b[0m \u001b[1;33m=\u001b[0m \u001b[0mDataSource\u001b[0m\u001b[1;33m(\u001b[0m\u001b[0mdestpath\u001b[0m\u001b[1;33m)\u001b[0m\u001b[1;33m\u001b[0m\u001b[1;33m\u001b[0m\u001b[0m\n\u001b[1;32m--> 266\u001b[1;33m     \u001b[1;32mreturn\u001b[0m \u001b[0mds\u001b[0m\u001b[1;33m.\u001b[0m\u001b[0mopen\u001b[0m\u001b[1;33m(\u001b[0m\u001b[0mpath\u001b[0m\u001b[1;33m,\u001b[0m \u001b[0mmode\u001b[0m\u001b[1;33m,\u001b[0m \u001b[0mencoding\u001b[0m\u001b[1;33m=\u001b[0m\u001b[0mencoding\u001b[0m\u001b[1;33m,\u001b[0m \u001b[0mnewline\u001b[0m\u001b[1;33m=\u001b[0m\u001b[0mnewline\u001b[0m\u001b[1;33m)\u001b[0m\u001b[1;33m\u001b[0m\u001b[1;33m\u001b[0m\u001b[0m\n\u001b[0m\u001b[0;32m    267\u001b[0m \u001b[1;33m\u001b[0m\u001b[0m\n\u001b[0;32m    268\u001b[0m \u001b[1;33m\u001b[0m\u001b[0m\n",
            "\u001b[1;32m~\\Anaconda3\\lib\\site-packages\\numpy\\lib\\_datasource.py\u001b[0m in \u001b[0;36mopen\u001b[1;34m(self, path, mode, encoding, newline)\u001b[0m\n\u001b[0;32m    622\u001b[0m                                       encoding=encoding, newline=newline)\n\u001b[0;32m    623\u001b[0m         \u001b[1;32melse\u001b[0m\u001b[1;33m:\u001b[0m\u001b[1;33m\u001b[0m\u001b[1;33m\u001b[0m\u001b[0m\n\u001b[1;32m--> 624\u001b[1;33m             \u001b[1;32mraise\u001b[0m \u001b[0mIOError\u001b[0m\u001b[1;33m(\u001b[0m\u001b[1;34m\"%s not found.\"\u001b[0m \u001b[1;33m%\u001b[0m \u001b[0mpath\u001b[0m\u001b[1;33m)\u001b[0m\u001b[1;33m\u001b[0m\u001b[1;33m\u001b[0m\u001b[0m\n\u001b[0m\u001b[0;32m    625\u001b[0m \u001b[1;33m\u001b[0m\u001b[0m\n\u001b[0;32m    626\u001b[0m \u001b[1;33m\u001b[0m\u001b[0m\n",
            "\u001b[1;31mOSError\u001b[0m: data/ket_gauss_plus_hiba not found."
          ]
        }
      ]
    },
    {
      "cell_type": "markdown",
      "metadata": {
        "id": "1zBd1IHoYoYo",
        "colab_type": "text"
      },
      "source": [
        "Az alábbiakban definiáljuk az illesztendő függvényt!\n",
        "$$f_2(t)=A_1\\mathrm{e}^{-(t-e_1)^2/s_1^2}+A_2\\mathrm{e}^{-(t-e_2)^2/s_2^2}$$"
      ]
    },
    {
      "cell_type": "code",
      "metadata": {
        "id": "jMYwjgd1YoYp",
        "colab_type": "code",
        "colab": {}
      },
      "source": [
        "def func2(t,A1,e1,s1,A2,e2,s2):\n",
        "    'Ket Gauss-gorbe osszege'\n",
        "    return A1*exp(-((t-e1)/s1)**2)+A2*exp(-((t-e2)/s2)**2)"
      ],
      "execution_count": 0,
      "outputs": []
    },
    {
      "cell_type": "markdown",
      "metadata": {
        "id": "Zbn0UU8uYoYr",
        "colab_type": "text"
      },
      "source": [
        "Próbáljuk ezzel elvégezni az illesztést!"
      ]
    },
    {
      "cell_type": "code",
      "metadata": {
        "id": "ZGMKqaDSYoYr",
        "colab_type": "code",
        "colab": {},
        "outputId": "fd3588d8-dedc-4cd3-aa7a-2f401643b9a9"
      },
      "source": [
        "popt,pcov=curve_fit(func2,t2,x2)\n",
        "perr = sqrt(diag(pcov))\n",
        "print (['A1','e1','s1','A2','e2','s2'])\n",
        "print (popt)\n",
        "print (perr)"
      ],
      "execution_count": 0,
      "outputs": [
        {
          "output_type": "error",
          "ename": "NameError",
          "evalue": "name 't2' is not defined",
          "traceback": [
            "\u001b[1;31m---------------------------------------------------------------------------\u001b[0m",
            "\u001b[1;31mNameError\u001b[0m                                 Traceback (most recent call last)",
            "\u001b[1;32m<ipython-input-11-34d224140084>\u001b[0m in \u001b[0;36m<module>\u001b[1;34m\u001b[0m\n\u001b[1;32m----> 1\u001b[1;33m \u001b[0mpopt\u001b[0m\u001b[1;33m,\u001b[0m\u001b[0mpcov\u001b[0m\u001b[1;33m=\u001b[0m\u001b[0mcurve_fit\u001b[0m\u001b[1;33m(\u001b[0m\u001b[0mfunc2\u001b[0m\u001b[1;33m,\u001b[0m\u001b[0mt2\u001b[0m\u001b[1;33m,\u001b[0m\u001b[0mx2\u001b[0m\u001b[1;33m)\u001b[0m\u001b[1;33m\u001b[0m\u001b[1;33m\u001b[0m\u001b[0m\n\u001b[0m\u001b[0;32m      2\u001b[0m \u001b[0mperr\u001b[0m \u001b[1;33m=\u001b[0m \u001b[0msqrt\u001b[0m\u001b[1;33m(\u001b[0m\u001b[0mdiag\u001b[0m\u001b[1;33m(\u001b[0m\u001b[0mpcov\u001b[0m\u001b[1;33m)\u001b[0m\u001b[1;33m)\u001b[0m\u001b[1;33m\u001b[0m\u001b[1;33m\u001b[0m\u001b[0m\n\u001b[0;32m      3\u001b[0m \u001b[0mprint\u001b[0m \u001b[1;33m(\u001b[0m\u001b[1;33m[\u001b[0m\u001b[1;34m'A1'\u001b[0m\u001b[1;33m,\u001b[0m\u001b[1;34m'e1'\u001b[0m\u001b[1;33m,\u001b[0m\u001b[1;34m's1'\u001b[0m\u001b[1;33m,\u001b[0m\u001b[1;34m'A2'\u001b[0m\u001b[1;33m,\u001b[0m\u001b[1;34m'e2'\u001b[0m\u001b[1;33m,\u001b[0m\u001b[1;34m's2'\u001b[0m\u001b[1;33m]\u001b[0m\u001b[1;33m)\u001b[0m\u001b[1;33m\u001b[0m\u001b[1;33m\u001b[0m\u001b[0m\n\u001b[0;32m      4\u001b[0m \u001b[0mprint\u001b[0m \u001b[1;33m(\u001b[0m\u001b[0mpopt\u001b[0m\u001b[1;33m)\u001b[0m\u001b[1;33m\u001b[0m\u001b[1;33m\u001b[0m\u001b[0m\n\u001b[0;32m      5\u001b[0m \u001b[0mprint\u001b[0m \u001b[1;33m(\u001b[0m\u001b[0mperr\u001b[0m\u001b[1;33m)\u001b[0m\u001b[1;33m\u001b[0m\u001b[1;33m\u001b[0m\u001b[0m\n",
            "\u001b[1;31mNameError\u001b[0m: name 't2' is not defined"
          ]
        }
      ]
    },
    {
      "cell_type": "markdown",
      "metadata": {
        "id": "rjc3o-3xYoYt",
        "colab_type": "text"
      },
      "source": [
        "Úgy tűnik, az illesztés nem sikerült! Ez az adatsor és a meghatározandó függvény tehát jól illusztrálja a fent említett problémát!\n",
        "\n",
        "Az illesztés nagyobb valószínűséggel sikeres lehet, ha a megillesztendő paramétereket az illesztés előtt valamilyen módon meg tudjuk becsülni. A fenti adatsorban például van egy nagy csúcs 6 körül, aminek a szélessége nagyjából 1, és magassága 10, továbbá egy viszonylag széles váll a csúcstól balra, ami egy szélesebb és laposabb csúcsból származhat, mondjuk 4 körül egy 4 magasségú és 3 szélességű csúcsból. Ábrázoljuk az eredeti függvényt, és ezt a két becsült függvényt!"
      ]
    },
    {
      "cell_type": "code",
      "metadata": {
        "id": "u0X_i-ZCYoYu",
        "colab_type": "code",
        "colab": {},
        "outputId": "370f48d1-62d8-44b1-e89c-772d3973ed28"
      },
      "source": [
        "plot(t2,x2,label='adatok') # az adatok\n",
        "plot(t2,10*exp(-((t2-6)/1)**2),label='egyik csucs') # a magasabb és vékonyabb csúcs\n",
        "plot(t2,4*exp(-((t2-4)/3)**2),label='masik csucs')  # a szélesebb de alacsonyabb csúcs\n",
        "legend()"
      ],
      "execution_count": 0,
      "outputs": [
        {
          "output_type": "execute_result",
          "data": {
            "text/plain": [
              "<matplotlib.legend.Legend at 0x7fd133907e48>"
            ]
          },
          "metadata": {
            "tags": []
          },
          "execution_count": 12
        },
        {
          "output_type": "display_data",
          "data": {
            "image/png": "[encoded data removed]",
            "text/plain": [
              "<matplotlib.figure.Figure at 0x7fd1400e1fd0>"
            ]
          },
          "metadata": {
            "tags": []
          }
        }
      ]
    },
    {
      "cell_type": "markdown",
      "metadata": {
        "id": "4L9hm0-lYoYw",
        "colab_type": "text"
      },
      "source": [
        "A `curve_fit` függvénynek megadhatjuk ezeket a becsült értékeket mint az illesztési procedúra kezdő értékeit. Ezt a `p0` kulcsszón kerresztül tehetjük meg."
      ]
    },
    {
      "cell_type": "code",
      "metadata": {
        "id": "0ihBeCtgYoYx",
        "colab_type": "code",
        "colab": {},
        "outputId": "3b8c2c98-eac3-4bb2-ca69-fc79035954f2"
      },
      "source": [
        "A1=10;e1=6;s1=1\n",
        "A2=4;e2=4;s2=3\n",
        "popt,pcov=curve_fit(func2,t2,x2,p0=[A1,e1,s1,A2,e2,s2]) # A p0-ba egyszeruen felsoroljuk a becsult ertekeket\n",
        "perr = sqrt(diag(pcov))\n",
        "print (['A1','e1','s1','A2','e2','s2'])\n",
        "print (popt)\n",
        "print (perr)"
      ],
      "execution_count": 0,
      "outputs": [
        {
          "output_type": "stream",
          "text": [
            "['A1', 'e1', 's1', 'A2', 'e2', 's2']\n",
            "[ 8.21260636  5.99414772  1.0291653   3.83303602  3.88151827  2.48802627]\n",
            "[ 0.32159323  0.0130322   0.03320234  0.11389945  0.13779395  0.12601698]\n"
          ],
          "name": "stdout"
        }
      ]
    },
    {
      "cell_type": "markdown",
      "metadata": {
        "id": "kMZ1OmcUYoYz",
        "colab_type": "text"
      },
      "source": [
        "A becslés tehát segített az illesztés elvégzésében! Ábrázoljuk végül az illesztett függvényt, az eredeti adatokat, illetve az eredetileg  becsült görbéket!"
      ]
    },
    {
      "cell_type": "code",
      "metadata": {
        "id": "7Ru7GE47YoY0",
        "colab_type": "code",
        "colab": {},
        "outputId": "f5dc9e41-8d1c-4b33-c69a-c04046063116"
      },
      "source": [
        "plot(t2,x2,label='adatok') # a beolvasott adatok\n",
        "plot(t2,10*exp(-((t2-6)/1)**2),label='egyik csucs') # a két becsült Gauss\n",
        "plot(t2,4*exp(-((t2-4)/3)**2),label='masik csucs')\n",
        "plot(t2,func2(t2,*popt),label='illesztes',color='black',linewidth=2) # az illesztéssel meghatározott gorbe\n",
        "legend(loc='upper left')"
      ],
      "execution_count": 0,
      "outputs": [
        {
          "output_type": "execute_result",
          "data": {
            "text/plain": [
              "<matplotlib.legend.Legend at 0x7fd1338898d0>"
            ]
          },
          "metadata": {
            "tags": []
          },
          "execution_count": 14
        },
        {
          "output_type": "display_data",
          "data": {
            "image/png": "[encoded data removed]",
            "text/plain": [
              "<matplotlib.figure.Figure at 0x7fd1338df240>"
            ]
          },
          "metadata": {
            "tags": []
          }
        }
      ]
    },
    {
      "cell_type": "markdown",
      "metadata": {
        "id": "Yc03o5qqYoY2",
        "colab_type": "text"
      },
      "source": [
        "A korábbi feladatok között már szerepelt Felix Baumgartner ugrásának adatsora. Most újra vizsgáljunk meg ehhez kapcsolódóan egy életszerű illesztési problémát! \n",
        "\n",
        "Az ugrás első fázisában ($t=0\\dots 40$ s) a mozgás jó közelítéssel szabadeséssel írható le: mielőtt az ejtőernyő kinyílna, a légellenállás kiegyensúlyozza a gravitációs erőt, és az esés sebessége közelítőleg állandó (kb $t=210\\dots 260$ s  intervallumban).\n",
        "\n",
        "Határozzuk meg a nehézségi gyorsulás értékét a pálya elején szereplő pontokból, illetve határozzuk meg\n",
        "Felix Baumgartner légellenállását a pálya végén szereplő pontokból!\n",
        "Kezdjük a feladatot a felhasznált fizikai jelenségek [összefoglalásával](http://www.livescience.com/23710-physics-supersonic-skydive.html)!\n",
        "\n",
        "**Szabadesés az ugrás elején**\n",
        "\n",
        "Mivel a szabadesés egyenletesen gyorsuló mozgásnak felel meg, ezért a magasság--idő függvényt a $$h(t)=h_0+v_0t-\\frac{g}{2}t^2,$$ alakban kereshetjük! A nehézségi gyorsulás tehát meghatározható a pálya elejére illesztett parabola együtthatóiból hiszen a négyzetes tag együtthatójának a kétszerese épen $g$!\n",
        "\n",
        "**Egyenletes sebesség az ugrás végén**\n",
        "\n",
        "Mivel nincs gyorsulás, ezért ezen a ponton a közegellenállás és a gravitációs erő kiegyenlítik egymást!\n",
        "Azaz $$mg=\\alpha v^2 $$, amiből a közegellenállás  $\\alpha=\\frac{mg}{v^2}$. \n",
        "Baumgartner [súlya](http://www.livescience.com/23710-physics-supersonic-skydive.html) a szkafanderrel együtt kb 110 kg. Az illesztésből pedig meg tudjuk határozni $v$-t."
      ]
    },
    {
      "cell_type": "code",
      "metadata": {
        "id": "HFYYM-z0YoY2",
        "colab_type": "code",
        "colab": {}
      },
      "source": [
        "tB,h=loadtxt('data/h_vs_t',unpack=True) # adatok beolvasása\n",
        "# ido az elso oszlop\n",
        "# magassag a masodik"
      ],
      "execution_count": 0,
      "outputs": []
    },
    {
      "cell_type": "markdown",
      "metadata": {
        "id": "wN912xUVYoY4",
        "colab_type": "text"
      },
      "source": [
        "Definiáljuk most az illesztendő függvényeket. Egy lineáris függvényt és egy másodfokú polinomot!"
      ]
    },
    {
      "cell_type": "code",
      "metadata": {
        "id": "O9dI18eNYoY5",
        "colab_type": "code",
        "colab": {}
      },
      "source": [
        "def linearis(x,a,b):\n",
        "    'Linearis fuggveny: a*x+b'\n",
        "    return a*x+b\n",
        "\n",
        "def masodfok(x,a,b,c):\n",
        "    'Masodfoku fuggveny: a*x^2+b*x+c '\n",
        "    return a*x**2+b*x+c"
      ],
      "execution_count": 0,
      "outputs": []
    },
    {
      "cell_type": "markdown",
      "metadata": {
        "id": "q6dm2mtKYoY9",
        "colab_type": "text"
      },
      "source": [
        "Először illeszünk egy másodfokú polinomot az adatsor elejére. Az adatsor megfelelő részét az array-ek már ismert szeletelésével tudjuk megoldani. "
      ]
    },
    {
      "cell_type": "code",
      "metadata": {
        "id": "hBScHZBGYoY-",
        "colab_type": "code",
        "colab": {},
        "outputId": "b704478d-d8ad-4386-c7c7-83eaae333b37"
      },
      "source": [
        "p_eleje,pcov =curve_fit(masodfok,tB[tB<40],h[tB<40]) # illesztes azon pontokra ahol az ido kissebb mint 40\n",
        "err_eleje = sqrt(diag(pcov))\n",
        "# az illesztett parameterek ertekei es a hibak\n",
        "print('a=',p_eleje[0],'±',err_eleje[0]) \n",
        "print('b=',p_eleje[1],'±',err_eleje[1])\n",
        "print('c=',p_eleje[2],'±',err_eleje[2])"
      ],
      "execution_count": 0,
      "outputs": [
        {
          "output_type": "stream",
          "text": [
            "a= -4.74047528359 ± 0.0285659683743\n",
            "b= 45.2385570965 ± 1.16034897662\n",
            "c= 38893.934827 ± 9.87019931891\n"
          ],
          "name": "stdout"
        }
      ]
    },
    {
      "cell_type": "markdown",
      "metadata": {
        "id": "Czcssk9MYoZA",
        "colab_type": "text"
      },
      "source": [
        "A gravitációs gyorsulás tehát az illesztett $a$ paraméter kétszerese!"
      ]
    },
    {
      "cell_type": "code",
      "metadata": {
        "id": "rnFt-MNwYoZB",
        "colab_type": "code",
        "colab": {},
        "outputId": "e6bb3fef-7808-440d-a3ca-8e41935530f6"
      },
      "source": [
        "g=abs(p_eleje[0]*2)\n",
        "g"
      ],
      "execution_count": 0,
      "outputs": [
        {
          "output_type": "execute_result",
          "data": {
            "text/plain": [
              "9.4809505671794199"
            ]
          },
          "metadata": {
            "tags": []
          },
          "execution_count": 18
        }
      ]
    },
    {
      "cell_type": "markdown",
      "metadata": {
        "id": "_EEoEkUHYoZD",
        "colab_type": "text"
      },
      "source": [
        "Végezzük el az illesztést most a lineáris szakaszra is! Most is célszerű a már megismert indexelési trükkökkel megszorítani az illesztendő ttartományt. "
      ]
    },
    {
      "cell_type": "code",
      "metadata": {
        "id": "-0PzqqEGYoZD",
        "colab_type": "code",
        "colab": {},
        "outputId": "6443def1-8885-4143-a737-cb5c29308dfe"
      },
      "source": [
        "p_vege,pcov =curve_fit(linearis,tB[(tB>210)*(tB<260)],h[(tB>210)*(tB<260)]) # illesztes azon pontokra ahol az ido 210 es 260 kozott van\n",
        "err_vege = sqrt(diag(pcov))\n",
        "# az illesztett parameterek ertekei es a hibak\n",
        "print('a=',p_vege[0],'±',err_vege[0]) \n",
        "print('b=',p_vege[1],'±',err_vege[1])"
      ],
      "execution_count": 0,
      "outputs": [
        {
          "output_type": "stream",
          "text": [
            "a= -60.1648024714 ± 0.145934354195\n",
            "b= 18299.0046872 ± 34.3553394487\n"
          ],
          "name": "stdout"
        }
      ]
    },
    {
      "cell_type": "markdown",
      "metadata": {
        "id": "R5PoAdmaYoZG",
        "colab_type": "text"
      },
      "source": [
        "A keresett sebességérték tehát ismét az első illesztett paraméter értékéből határozható meg. Míg $\\alpha $ az $\\alpha=mg/v^2$ kifejezésből adódik:"
      ]
    },
    {
      "cell_type": "code",
      "metadata": {
        "id": "QXkETIusYoZG",
        "colab_type": "code",
        "colab": {},
        "outputId": "c4a3be45-cd9e-4bd9-fd3a-8b2e4cd58fa2"
      },
      "source": [
        "v=p_vege[0]\n",
        "m=110\n",
        "alpha= m*g/v**2\n",
        "alpha"
      ],
      "execution_count": 0,
      "outputs": [
        {
          "output_type": "execute_result",
          "data": {
            "text/plain": [
              "0.28811082561386603"
            ]
          },
          "metadata": {
            "tags": []
          },
          "execution_count": 20
        }
      ]
    },
    {
      "cell_type": "markdown",
      "metadata": {
        "id": "d5EYMawKYoZI",
        "colab_type": "text"
      },
      "source": [
        "Foglaljuk össze eredményeinket egy ábrában!"
      ]
    },
    {
      "cell_type": "code",
      "metadata": {
        "id": "odGGdr9RYoZI",
        "colab_type": "code",
        "colab": {},
        "outputId": "ee8c931b-e530-4649-bce9-5eb5c7f9df2a"
      },
      "source": [
        "figsize(8,4*3/2)\n",
        "plot(tB,h,label='meres',linewidth=7,color='lightgreen')\n",
        "plot(tB,masodfok(tB,*p_eleje),label='parabola az elejen',linewidth=3,color='red')\n",
        "plot(tB,linearis(tB,*p_vege),label='linearis a vegen',linestyle='dashed',linewidth=3,color='blue')\n",
        "ylim(0,40000)\n",
        "legend(fontsize=20)\n",
        "xlabel(r'$t[s]$',fontsize=20)\n",
        "ylabel(r'$h[m]$',fontsize=20)\n",
        "text(150,20000,r'$g=$'+str(g)+r' $m/s^2$',fontsize=20)\n",
        "text(150,15000,r'$\\alpha=$'+str(alpha)+r' $kg/m$',fontsize=20)\n",
        "grid()"
      ],
      "execution_count": 0,
      "outputs": [
        {
          "output_type": "error",
          "ename": "NameError",
          "evalue": "name 'tB' is not defined",
          "traceback": [
            "\u001b[1;31m---------------------------------------------------------------------------\u001b[0m",
            "\u001b[1;31mNameError\u001b[0m                                 Traceback (most recent call last)",
            "\u001b[1;32m<ipython-input-12-8d7ca2f985b6>\u001b[0m in \u001b[0;36m<module>\u001b[1;34m\u001b[0m\n\u001b[0;32m      1\u001b[0m \u001b[0mfigsize\u001b[0m\u001b[1;33m(\u001b[0m\u001b[1;36m8\u001b[0m\u001b[1;33m,\u001b[0m\u001b[1;36m4\u001b[0m\u001b[1;33m*\u001b[0m\u001b[1;36m3\u001b[0m\u001b[1;33m/\u001b[0m\u001b[1;36m2\u001b[0m\u001b[1;33m)\u001b[0m\u001b[1;33m\u001b[0m\u001b[1;33m\u001b[0m\u001b[0m\n\u001b[1;32m----> 2\u001b[1;33m \u001b[0mplot\u001b[0m\u001b[1;33m(\u001b[0m\u001b[0mtB\u001b[0m\u001b[1;33m,\u001b[0m\u001b[0mh\u001b[0m\u001b[1;33m,\u001b[0m\u001b[0mlabel\u001b[0m\u001b[1;33m=\u001b[0m\u001b[1;34m'meres'\u001b[0m\u001b[1;33m,\u001b[0m\u001b[0mlinewidth\u001b[0m\u001b[1;33m=\u001b[0m\u001b[1;36m7\u001b[0m\u001b[1;33m,\u001b[0m\u001b[0mcolor\u001b[0m\u001b[1;33m=\u001b[0m\u001b[1;34m'lightgreen'\u001b[0m\u001b[1;33m)\u001b[0m\u001b[1;33m\u001b[0m\u001b[1;33m\u001b[0m\u001b[0m\n\u001b[0m\u001b[0;32m      3\u001b[0m \u001b[0mplot\u001b[0m\u001b[1;33m(\u001b[0m\u001b[0mtB\u001b[0m\u001b[1;33m,\u001b[0m\u001b[0mmasodfok\u001b[0m\u001b[1;33m(\u001b[0m\u001b[0mtB\u001b[0m\u001b[1;33m,\u001b[0m\u001b[1;33m*\u001b[0m\u001b[0mp_eleje\u001b[0m\u001b[1;33m)\u001b[0m\u001b[1;33m,\u001b[0m\u001b[0mlabel\u001b[0m\u001b[1;33m=\u001b[0m\u001b[1;34m'parabola az elejen'\u001b[0m\u001b[1;33m,\u001b[0m\u001b[0mlinewidth\u001b[0m\u001b[1;33m=\u001b[0m\u001b[1;36m3\u001b[0m\u001b[1;33m,\u001b[0m\u001b[0mcolor\u001b[0m\u001b[1;33m=\u001b[0m\u001b[1;34m'red'\u001b[0m\u001b[1;33m)\u001b[0m\u001b[1;33m\u001b[0m\u001b[1;33m\u001b[0m\u001b[0m\n\u001b[0;32m      4\u001b[0m \u001b[0mplot\u001b[0m\u001b[1;33m(\u001b[0m\u001b[0mtB\u001b[0m\u001b[1;33m,\u001b[0m\u001b[0mlinearis\u001b[0m\u001b[1;33m(\u001b[0m\u001b[0mtB\u001b[0m\u001b[1;33m,\u001b[0m\u001b[1;33m*\u001b[0m\u001b[0mp_vege\u001b[0m\u001b[1;33m)\u001b[0m\u001b[1;33m,\u001b[0m\u001b[0mlabel\u001b[0m\u001b[1;33m=\u001b[0m\u001b[1;34m'linearis a vegen'\u001b[0m\u001b[1;33m,\u001b[0m\u001b[0mlinestyle\u001b[0m\u001b[1;33m=\u001b[0m\u001b[1;34m'dashed'\u001b[0m\u001b[1;33m,\u001b[0m\u001b[0mlinewidth\u001b[0m\u001b[1;33m=\u001b[0m\u001b[1;36m3\u001b[0m\u001b[1;33m,\u001b[0m\u001b[0mcolor\u001b[0m\u001b[1;33m=\u001b[0m\u001b[1;34m'blue'\u001b[0m\u001b[1;33m)\u001b[0m\u001b[1;33m\u001b[0m\u001b[1;33m\u001b[0m\u001b[0m\n\u001b[0;32m      5\u001b[0m \u001b[0mylim\u001b[0m\u001b[1;33m(\u001b[0m\u001b[1;36m0\u001b[0m\u001b[1;33m,\u001b[0m\u001b[1;36m40000\u001b[0m\u001b[1;33m)\u001b[0m\u001b[1;33m\u001b[0m\u001b[1;33m\u001b[0m\u001b[0m\n",
            "\u001b[1;31mNameError\u001b[0m: name 'tB' is not defined"
          ]
        }
      ]
    },
    {
      "cell_type": "code",
      "metadata": {
        "id": "3pf4FvnBYoZK",
        "colab_type": "code",
        "colab": {}
      },
      "source": [
        "figsize(6,4) #Ez csak vissza állítja az ábraméreteket az alapértelmezettre "
      ],
      "execution_count": 0,
      "outputs": []
    },
    {
      "cell_type": "markdown",
      "metadata": {
        "id": "Rqc8iAZzYoZM",
        "colab_type": "text"
      },
      "source": [
        "## Periodikus jelek vizsgálata és a Fourier-transzformáció\n",
        "![winamp](http://winampheritage.com/plugin/222660/EZ_Spectrum_Analyzer.png)"
      ]
    },
    {
      "cell_type": "markdown",
      "metadata": {
        "id": "zKRKVsiUYoZM",
        "colab_type": "text"
      },
      "source": [
        "Számtalan fizikai rendszerben előfordul az, hogy bizonyos jelenségek periodikus viselkedést mutatnak. A hétköznapból talán a legismertebb példa erre a zene. Sok zenelejátszó (amint azt a fenti ábra is bizonyítja) rendelkezik \"spektrumanalizátorral\". Ezek a spektrumanalizátorok azt mutatják, hogy egy bizonyos hang minta milyen frekveniájú hangokat tartalmaz. A módszer, ami egy adott hangmintából a frekvenciaspektrumot előállítja, a [Fourier-transzformáció](https://hu.wikipedia.org/wiki/Fourier-transzform%C3%A1ci%C3%B3).\n",
        "Egy függvény Fourier-transzformáltját az alábbi matematikai kifejezés definiálja:\n",
        "$$ \\mathcal{F}[f](\\nu)=\\int^{\\infty}_{-\\infty} \\mathrm{e}^{\\mathrm{i 2\\pi\\nu t}}f(t)$$\n",
        "A Fourier-transzformáció elvégzésére létezik egy gyors [allgoritmus](http://itl7.elte.hu/jelfel/node32.htm), ami igen sok alkalmazásban felbukkan. A Python-nyelvben a `numpy.fft` almodulban van implementálva a gyors Fourier transzformáció, az alábbi néhány példában ezzel fogunk megismerkedni. Ezt az almodult már a notebook elején betöltöttük!"
      ]
    },
    {
      "cell_type": "markdown",
      "metadata": {
        "id": "vT9LPfH_YoZN",
        "colab_type": "text"
      },
      "source": [
        "Először generáljunk egy meghatározott $\\nu$ frekvenciájú, azaz $\\omega=2\\pi\\nu$ körfrekvenciájú jelet! Ezt például a \n",
        "\n",
        "$$f(t)=\\sin(\\omega t)$$ függvény. (Vajon melyik függvény ennek a Fourier-transzformáltja?)"
      ]
    },
    {
      "cell_type": "code",
      "metadata": {
        "id": "gdWhKTqbYoZN",
        "colab_type": "code",
        "colab": {},
        "outputId": "1d946903-4ae9-4ced-a05d-6ef7b554774a"
      },
      "source": [
        "t3 = linspace(0,10,1000) # mintavetelezesi pontok\n",
        "nu=2;                   # frekvencia\n",
        "omega=2*pi*nu           # korfrekvencia\n",
        "jel=sin(omega*t3)        # maga a jel\n",
        "plot(t3,jel)"
      ],
      "execution_count": 0,
      "outputs": [
        {
          "output_type": "execute_result",
          "data": {
            "text/plain": [
              "[<matplotlib.lines.Line2D at 0x19797ffa648>]"
            ]
          },
          "metadata": {
            "tags": []
          },
          "execution_count": 13
        },
        {
          "output_type": "display_data",
          "data": {
            "image/png": "[encoded data removed]",
            "text/plain": [
              "<Figure size 576x432 with 1 Axes>"
            ]
          },
          "metadata": {
            "tags": [],
            "needs_background": "light"
          }
        }
      ]
    },
    {
      "cell_type": "markdown",
      "metadata": {
        "id": "th32kM_gYoZQ",
        "colab_type": "text"
      },
      "source": [
        "Maga a Fourier-transzformáció egyszerűen az `fft` függvény meghívásával történik."
      ]
    },
    {
      "cell_type": "code",
      "metadata": {
        "id": "jJ_leOp4YoZQ",
        "colab_type": "code",
        "colab": {}
      },
      "source": [
        "Fjel=fft(jel)"
      ],
      "execution_count": 0,
      "outputs": []
    },
    {
      "cell_type": "markdown",
      "metadata": {
        "id": "ud6Q_AhwYoZT",
        "colab_type": "text"
      },
      "source": [
        "Most már az `Fjel` változó tartalmazza a jel Fourier-transzformáltját! Ahogy azt a definició is mutatja, a Fourier- transzformált általában egy komplex kifejezés. A legtöbb alkalmazás szempontjából elegendő a Fourier-transzformált abszolút értékének vizsgálata.\n",
        "Ahhoz hogy a Fourier-transzformált jelet ábrázolni tudjuk a frekvencia függvényében, először le kell gyártanunk egy megfelelő frekvencia-mintavételezést. Ennek a mintavételezésnek illenie kell az eredeti idő-mintavételezéshez. A frekvencia-mintavételezést az `fftfreq` függvény végzi el. Ennek két bemenő paramétere van. Az első paraméter az eredeti idősor hossza, a második paraméter pedig az idősor felbontása (lépésköze). "
      ]
    },
    {
      "cell_type": "code",
      "metadata": {
        "id": "Ixp9dkQDYoZU",
        "colab_type": "code",
        "colab": {}
      },
      "source": [
        "freq = fftfreq(len(t3),t3[1]-t3[0])"
      ],
      "execution_count": 0,
      "outputs": []
    },
    {
      "cell_type": "markdown",
      "metadata": {
        "id": "Rgu1xQ4qYoZX",
        "colab_type": "text"
      },
      "source": [
        "Most már meg tudjuk jeleníteni a Fourier-transzformált abszolút értékét!"
      ]
    },
    {
      "cell_type": "code",
      "metadata": {
        "id": "yt40eBwPYoZY",
        "colab_type": "code",
        "colab": {},
        "outputId": "0ede9a21-3566-46c2-ec86-24153712b6cb"
      },
      "source": [
        "plot(freq,abs(Fjel))"
      ],
      "execution_count": 0,
      "outputs": [
        {
          "output_type": "execute_result",
          "data": {
            "text/plain": [
              "[<matplotlib.lines.Line2D at 0x1979806a608>]"
            ]
          },
          "metadata": {
            "tags": []
          },
          "execution_count": 17
        },
        {
          "output_type": "display_data",
          "data": {
            "image/png": "[encoded data removed]",
            "text/plain": [
              "<Figure size 576x432 with 1 Axes>"
            ]
          },
          "metadata": {
            "tags": [],
            "needs_background": "light"
          }
        }
      ]
    },
    {
      "cell_type": "markdown",
      "metadata": {
        "id": "VYAxGtrhYoZZ",
        "colab_type": "text"
      },
      "source": [
        "A Fourier-transzformált pozitív és negatív frekvenciaértékekre is definiálva van, azonban időfüggő jelek elemzése során elegendő pozitív frekvenciákra szorítkoznunk. "
      ]
    },
    {
      "cell_type": "code",
      "metadata": {
        "id": "iM4OdSegYoZa",
        "colab_type": "code",
        "colab": {},
        "outputId": "99b5f92d-695d-44b1-8b9d-fc408a24dbb1"
      },
      "source": [
        "plot(freq,abs(Fjel))\n",
        "xlim(0,10);"
      ],
      "execution_count": 0,
      "outputs": [
        {
          "output_type": "display_data",
          "data": {
            "image/png": "[encoded data removed]",
            "text/plain": [
              "<Figure size 576x432 with 1 Axes>"
            ]
          },
          "metadata": {
            "tags": [],
            "needs_background": "light"
          }
        }
      ]
    },
    {
      "cell_type": "markdown",
      "metadata": {
        "id": "NPO67T5CYoZb",
        "colab_type": "text"
      },
      "source": [
        "Tehát egy 2 frekvenciával oszcilláló jel Fourier-transzformáltja egy éles csúcs pontosan 2-nél (talán nem túl meglepő módon)!"
      ]
    },
    {
      "cell_type": "markdown",
      "metadata": {
        "id": "HTTOvsXYYoZc",
        "colab_type": "text"
      },
      "source": [
        "Vizsgáljuk meg utolsó példaképpen a napfoltadatok számának ingadozását! Vajon látszani fog benne a 11 éves periódusidő ?\n",
        "A napfoltadatok ismét az `data/SN_m_tot_V2.0.txt` file-ban vannak. Olvassuk őket be!"
      ]
    },
    {
      "cell_type": "code",
      "metadata": {
        "collapsed": true,
        "id": "OGScctBgYoZc",
        "colab_type": "code",
        "colab": {}
      },
      "source": [
        "napfolt=loadtxt('data/SN_m_tot_V2.0.txt');"
      ],
      "execution_count": 0,
      "outputs": []
    },
    {
      "cell_type": "markdown",
      "metadata": {
        "collapsed": true,
        "id": "4-QpD735YoZe",
        "colab_type": "text"
      },
      "source": [
        "A harmadik oszlop tartalmazza az időt években, a negyedik oszlop pedig a napfoltok számát tartalmazza. "
      ]
    },
    {
      "cell_type": "code",
      "metadata": {
        "collapsed": true,
        "id": "oonvXHSaYoZe",
        "colab_type": "code",
        "colab": {}
      },
      "source": [
        "tN=napfolt[:,2]\n",
        "N=napfolt[:,3]"
      ],
      "execution_count": 0,
      "outputs": []
    },
    {
      "cell_type": "markdown",
      "metadata": {
        "id": "XeS7tjniYoZg",
        "colab_type": "text"
      },
      "source": [
        "Gyártsuk le a frekvencia-mintavételezést, és végezzük el a Fourier-transzformáltat!"
      ]
    },
    {
      "cell_type": "code",
      "metadata": {
        "id": "OwZ9KTK5YoZh",
        "colab_type": "code",
        "colab": {}
      },
      "source": [
        "freqN = fftfreq(len(tN),tN[1]-tN[0])\n",
        "FN=fft(N)"
      ],
      "execution_count": 0,
      "outputs": []
    },
    {
      "cell_type": "markdown",
      "metadata": {
        "id": "FRzPQM6RYoZk",
        "colab_type": "text"
      },
      "source": [
        "Végül ábrázoljuk a kapott Fourier-spektrumot!"
      ]
    },
    {
      "cell_type": "code",
      "metadata": {
        "id": "bth9l05zYoZk",
        "colab_type": "code",
        "colab": {},
        "outputId": "fbf41a67-ac90-442c-f8e2-febf5553112a"
      },
      "source": [
        "plot(freqN,abs(FN)) # A spektrum ábrázolása\n",
        "xlim(0,0.5)\n",
        "ylim(0,80000)\n",
        "# A maximum hely megtalálása\n",
        "maxN=max(abs(FN)[(freqN>0.03)*(freqN<0.2)])\n",
        "maxf=freqN[(abs(FN)==maxN)*(freqN>0)]\n",
        "plot(maxf,maxN,'o',color='red') # Egy kis piros pont a csúcson\n",
        "xlabel(r'$\\nu [1/\\mathrm{ev}]$',fontsize=20)\n",
        "ylabel(r'$\\mathcal{F}(N_{\\mathrm{Napfolt}})$',fontsize=20)\n",
        "text(0.3,60000,'T='+str(1/maxf[0])+' ev',fontsize=20)"
      ],
      "execution_count": 0,
      "outputs": [
        {
          "output_type": "execute_result",
          "data": {
            "text/plain": [
              "<matplotlib.text.Text at 0x7fd1335118d0>"
            ]
          },
          "metadata": {
            "tags": []
          },
          "execution_count": 31
        },
        {
          "output_type": "display_data",
          "data": {
            "image/png": "[encoded data removed]",
            "text/plain": [
              "<matplotlib.figure.Figure at 0x7fd1334d7b00>"
            ]
          },
          "metadata": {
            "tags": []
          }
        }
      ]
    },
    {
      "cell_type": "markdown",
      "metadata": {
        "collapsed": true,
        "id": "kuFArwf5YoZm",
        "colab_type": "text"
      },
      "source": [
        "Tehát a Fourier-transzformált egy éles maximumot mutat 10.8 évnél! Azaz a megfigyelések Fourier-transzformáltja alapján is nagyjábol 11 éves periódussal változik a naptevékenységek intenzitása!"
      ]
    }
  ]
}