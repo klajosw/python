{
  "nbformat": 4,
  "nbformat_minor": 0,
  "metadata": {
    "colab": {
      "name": "kl_py_TF_keras_pic_class.ipynb",
      "provenance": [],
      "collapsed_sections": [],
      "include_colab_link": true
    },
    "kernelspec": {
      "name": "python3",
      "display_name": "Python 3"
    }
  },
  "cells": [
    {
      "cell_type": "markdown",
      "metadata": {
        "id": "view-in-github",
        "colab_type": "text"
      },
      "source": [
        "<a href=\"https://colab.research.google.com/github/klajosw/python/blob/master/kl_py_TF_keras_pic_class.ipynb\" target=\"_parent\"><img src=\"https://colab.research.google.com/assets/colab-badge.svg\" alt=\"Open In Colab\"/></a>"
      ]
    },
    {
      "cell_type": "markdown",
      "metadata": {
        "id": "Q6wBfwxPMAtL",
        "colab_type": "text"
      },
      "source": [
        "<p align=\"left\"> \n",
        "    <img src=\"https://raw.githubusercontent.com/klajosw/python/master/kl_mie_python_logo_250.jpg\" align=\"left\" width=\"251\" height=\"251\">\n",
        "</p>\n",
        "<br /><br /><br /><br /><br /><br /><br /><br /><br /><br /><br /><br />\n",
        "\n",
        "\n",
        "\n",
        "# Tensorflow + keras képfelismerés\n",
        "\n",
        "## A minta használata\n",
        "\n",
        "Ez egy a Jupyter notebook mely a Tensorflow  mintakód kipróbálásra szolgál.\n",
        "Ha nem akarunk telepíteni és rendelkezünk google email címmel akkor szabadon kiróbálhatjuk a google felhő szolgáltatásával itt:  [Google Colab](https://colab.research.google.com) \n",
        "\n",
        "\n",
        "Az egyes mintakódokat a kódblokk mellett balra található kis play gombbal tudjuk futtatni.\n",
        "\n",
        "\n",
        "Ha a Tensorflow minta tetszik, készíthetünk másolatot ebből a notebookból, így módosíthatod a kódokat és megnézheted a futás eredményét, vagy új kódblokk hozzáadásával (felül a +Code) saját kódokat is írhatunk hozzá.\n",
        "\n",
        "</div>\n"
      ]
    },
    {
      "cell_type": "markdown",
      "metadata": {
        "id": "wAzI1F1VUBpI",
        "colab_type": "text"
      },
      "source": [
        "---\n",
        "\n",
        "A lenti kódblokk létrehoz egy többrétegű konvolúciós neurális hálót, majd a CIFAR10 minta adatbázis alapján betanítja azt és elmenti a betanított hálózatot. \n",
        "\n",
        "Az adatbázis letölthető az alábi helyről : [db forras](https://www.cs.toronto.edu/~kriz/cifar-10-python.tar.gz)\n",
        "\n",
        "---\n"
      ]
    },
    {
      "cell_type": "code",
      "metadata": {
        "id": "ylC7DsbcL5j2",
        "colab_type": "code",
        "colab": {}
      },
      "source": [
        "# TensorFlow CNN model training example \n",
        "# based on https://www.tensorflow.org/tutorials/images/cnn\n",
        "\n",
        "from __future__ import absolute_import, division, print_function, unicode_literals\n",
        "\n",
        "import tensorflow as tf\n",
        "\n",
        "from tensorflow.keras import datasets, layers, models\n",
        "import matplotlib.pyplot as plt\n",
        "\n",
        "(train_images, train_labels), (test_images, test_labels) = datasets.cifar10.load_data()\n",
        "\n",
        "# Normalize pixel values to be between 0 and 1\n",
        "train_images, test_images = train_images / 255.0, test_images / 255.0\n",
        "\n",
        "class_names = ['airplane', 'automobile', 'bird', 'cat', 'deer',\n",
        "               'dog', 'frog', 'horse', 'ship', 'truck']\n",
        "\n",
        "plt.figure(figsize=(10,10))\n",
        "for i in range(25):\n",
        "    plt.subplot(5,5,i+1)\n",
        "    plt.xticks([])\n",
        "    plt.yticks([])\n",
        "    plt.grid(False)\n",
        "    plt.imshow(train_images[i], cmap=plt.cm.binary)\n",
        "    # The CIFAR labels happen to be arrays, \n",
        "    # which is why you need the extra index\n",
        "    plt.xlabel(class_names[train_labels[i][0]])\n",
        "plt.show()\n",
        "\n",
        "model = models.Sequential()\n",
        "model.add(layers.Conv2D(32, (3, 3), activation='relu', input_shape=(32, 32, 3)))\n",
        "model.add(layers.MaxPooling2D((2, 2)))\n",
        "model.add(layers.Conv2D(64, (3, 3), activation='relu'))\n",
        "model.add(layers.MaxPooling2D((2, 2)))\n",
        "model.add(layers.Conv2D(64, (3, 3), activation='relu'))\n",
        "model.add(layers.Flatten())\n",
        "model.add(layers.Dense(64, activation='relu'))\n",
        "model.add(layers.Dense(10, activation='softmax'))\n",
        "model.summary()\n",
        "\n",
        "model.compile(optimizer='adam',\n",
        "              loss='sparse_categorical_crossentropy',\n",
        "              metrics=['accuracy'])\n",
        "\n",
        "history = model.fit(train_images, train_labels, epochs=10, \n",
        "                    validation_data=(test_images, test_labels))\n",
        "\n",
        "plt.plot(history.history['acc'], label='accuracy')\n",
        "plt.plot(history.history['val_acc'], label = 'val_accuracy')\n",
        "plt.xlabel('Epoch')\n",
        "plt.ylabel('Accuracy')\n",
        "plt.ylim([0.5, 1])\n",
        "plt.legend(loc='lower right')\n",
        "plt.show()\n",
        "\n",
        "test_loss, test_acc = model.evaluate(test_images,  test_labels, verbose=2)\n",
        "print(test_acc)\n",
        "\n",
        "model.save('kl_model.h5')"
      ],
      "execution_count": 0,
      "outputs": []
    },
    {
      "cell_type": "markdown",
      "metadata": {
        "id": "GO6vztG_YiWb",
        "colab_type": "text"
      },
      "source": [
        "---\n",
        "\n",
        "Ha sikeresen lefutott a fenti tanítás, akkor létrejött a my_model.h5 fájl, ami a betanított modellt tartalmazza. A következő kódrészletben ezt fogjuk használni, és felismerni vele egy hajot.\n",
        "\n",
        "Teszt három hajó példánál megfogható a tévedés is:\n",
        "  - A 1 és 2 mintát biztosan eltalálja hajónak.\n",
        "  - A 15-ös mintát tévesen békának (frog) jelőli 61,6% és csak 21,7% ban tippeli hajónak.\n",
        "\n",
        "---"
      ]
    },
    {
      "cell_type": "code",
      "metadata": {
        "id": "OpOk-g08ZApX",
        "colab_type": "code",
        "outputId": "a325b017-7f70-4b18-c666-9444ee4eee1b",
        "colab": {
          "base_uri": "https://localhost:8080/",
          "height": 722
        }
      },
      "source": [
        "# TensorFlow image classification test example\n",
        "# based on https://www.tensorflow.org/tutorials/keras/classification\n",
        "\n",
        "\n",
        "from __future__ import absolute_import, division, print_function, unicode_literals\n",
        "\n",
        "import tensorflow as tf\n",
        "\n",
        "from tensorflow.keras import datasets, layers, models\n",
        "from tensorflow.keras.models import load_model\n",
        "import matplotlib.pyplot as plt\n",
        "import numpy as np\n",
        "\n",
        "model = load_model('kl_model.h5')\n",
        "\n",
        "(train_images, train_labels), (test_images, test_labels) = datasets.cifar10.load_data()\n",
        "\n",
        "# Normalize pixel values to be between 0 and 1\n",
        "train_images, test_images = train_images / 255.0, test_images / 255.0\n",
        "\n",
        "class_names = ['airplane', 'automobile', 'bird', 'cat', 'deer',\n",
        "               'dog', 'frog', 'horse', 'ship', 'truck']\n",
        "\n",
        "def plot_image(i, predictions_array, true_label, img):\n",
        "  predictions_array, true_label, img = predictions_array, true_label[i][0], img[i]\n",
        "  plt.grid(False)\n",
        "  plt.xticks([])\n",
        "  plt.yticks([])\n",
        "\n",
        "  plt.imshow(img, cmap=plt.cm.binary)\n",
        "\n",
        "  predicted_label = np.argmax(predictions_array)\n",
        "  if predicted_label == true_label:\n",
        "    color = 'blue'\n",
        "  else:\n",
        "    color = 'red'\n",
        "\n",
        "  plt.xlabel(\"{} {:2.0f}% ({})\".format(class_names[predicted_label],\n",
        "                                100*np.max(predictions_array),\n",
        "                                class_names[true_label]),\n",
        "                                color=color)\n",
        "\n",
        "def plot_value_array(i, predictions_array, true_label):\n",
        "  predictions_array, true_label = predictions_array, true_label[i][0]\n",
        "  plt.grid(False)\n",
        "  plt.xticks(range(10))\n",
        "  plt.yticks([])\n",
        "  thisplot = plt.bar(range(10), predictions_array, color=\"#777777\")\n",
        "  plt.ylim([0, 1])\n",
        "  predicted_label = np.argmax(predictions_array)\n",
        "\n",
        "  thisplot[predicted_label].set_color('red')\n",
        "  thisplot[true_label].set_color('blue')\n",
        "\n",
        "#i = 1   ## 0: cica 1: hajo, 2: hajo\n",
        "#for i in range(1,20):  # 1: hajo, 2: hajo\n",
        "kl=(1,2,15)\n",
        "for i in kl:  # 1: hajo, 2: hajo\n",
        "  predictions = model.predict(test_images[i:i+1])\n",
        "  print(i, predictions)\n",
        "\n",
        "  plt.figure(figsize=(6,3))\n",
        "  plt.subplot(1,2,1)\n",
        "  plot_image(i, predictions[0], test_labels, test_images)\n",
        "  plt.subplot(1,2,2)\n",
        "  plot_value_array(i, predictions[0],  test_labels)\n",
        "  plt.show()"
      ],
      "execution_count": 15,
      "outputs": [
        {
          "output_type": "stream",
          "text": [
            "1 [[1.9228178e-03 2.6269299e-03 4.7562628e-07 5.5097926e-06 8.7069481e-07\n",
            "  3.3569554e-09 6.0042140e-08 7.0312680e-08 9.9538761e-01 5.5595370e-05]]\n"
          ],
          "name": "stdout"
        },
        {
          "output_type": "display_data",
          "data": {
            "image/png": "[encoded data removed]",
            "text/plain": [
              "<Figure size 432x216 with 2 Axes>"
            ]
          },
          "metadata": {
            "tags": []
          }
        },
        {
          "output_type": "stream",
          "text": [
            "2 [[4.02548239e-02 9.33190659e-02 4.80340277e-05 3.01334937e-03\n",
            "  2.22218543e-04 1.44131345e-05 7.61669216e-05 1.35923692e-04\n",
            "  8.46484423e-01 1.64315999e-02]]\n"
          ],
          "name": "stdout"
        },
        {
          "output_type": "display_data",
          "data": {
            "image/png": "[encoded data removed]",
            "text/plain": [
              "<Figure size 432x216 with 2 Axes>"
            ]
          },
          "metadata": {
            "tags": []
          }
        },
        {
          "output_type": "stream",
          "text": [
            "15 [[7.8094122e-03 7.9216734e-02 5.0293680e-02 1.9250015e-02 3.4158535e-03\n",
            "  2.5799684e-03 6.1669052e-01 3.3149775e-04 2.1777739e-01 2.6349742e-03]]\n"
          ],
          "name": "stdout"
        },
        {
          "output_type": "display_data",
          "data": {
            "image/png": "[encoded data removed]",
            "text/plain": [
              "<Figure size 432x216 with 2 Axes>"
            ]
          },
          "metadata": {
            "tags": []
          }
        }
      ]
    }
  ]
}