{
  "nbformat": 4,
  "nbformat_minor": 0,
  "metadata": {
    "colab": {
      "name": "python_alapok_01.ipynb",
      "version": "0.3.2",
      "provenance": [],
      "collapsed_sections": [],
      "toc_visible": true
    },
    "kernelspec": {
      "name": "python3",
      "display_name": "Python 3"
    }
  },
  "cells": [
    {
      "cell_type": "markdown",
      "metadata": {
        "id": "tw9aFQ4EKYyf",
        "colab_type": "text"
      },
      "source": [
        "# Python alpok"
      ]
    },
    {
      "cell_type": "code",
      "metadata": {
        "id": "IUnDwIl9fV5Z",
        "colab_type": "code",
        "colab": {}
      },
      "source": [
        "from google.colab import drive\n",
        "drive.mount('/content/drive')"
      ],
      "execution_count": 0,
      "outputs": []
    },
    {
      "cell_type": "code",
      "metadata": {
        "id": "X1WTQqEjK2Xt",
        "colab_type": "code",
        "colab": {}
      },
      "source": [
        "# megjegyzés sor kettős kereszttel kezdődik és ezt a python értelmező kihagyja\n",
        "\n",
        "A jol szerkesztett program jól olvasható, a programon belüli tagolások a space(betüköz behúzással) vagy TABULATOR nyomással lehetséges. \n",
        "Csak az egyiket alkalmazzuk és ne keverjük.\n",
        "\n",
        "A véletlen szerú behúzásokat kerüljük. Ez általában hiba üzenetet is okoz."
      ],
      "execution_count": 0,
      "outputs": []
    },
    {
      "cell_type": "markdown",
      "metadata": {
        "id": "zJQh1b04KiAW",
        "colab_type": "text"
      },
      "source": [
        "## Tipusok"
      ]
    },
    {
      "cell_type": "code",
      "metadata": {
        "id": "nNUaRG4SKGwq",
        "colab_type": "code",
        "colab": {
          "base_uri": "https://localhost:8080/",
          "height": 126
        },
        "outputId": "e3325677-57da-40ba-dc04-5cf54b8696fe"
      },
      "source": [
        "##  Szám tipusú változók\n",
        "i = 10      # egész szám (int) \n",
        "f = 3.14    # lebegőpontos szám (float) \n",
        "c = 2 - 5j  # komplex szám (complex) \n",
        "\n",
        "print(c)        # egy szerű nyomtatás\n",
        "\n",
        "##  Szöveges állandók\n",
        "s1 = 'alma'              # a határoló jel lehet ' \n",
        "s2 = \"szilva\"            # ...és \" is \n",
        "s3 = '\"alma\" \"szilva\"'   # <= ilyenkor nem kell levédeni a sztringben a \" karaktert!\n",
        "\n",
        "# többsoros  szöveges állandók\n",
        "s4 = \"\"\"\n",
        " alma \n",
        " szilva\n",
        " \"\"\" \n",
        "\n",
        "print(s4)  # egy szerű nyomtatás\n",
        "\n",
        "## tömbszerű váltózók\n",
        "t = (1, 2, 3)    # tuple !! utolag nem változtatható meg\n",
        "l = [1, 2, 3]    # lista !! késöbb is bármely eleme módositható\n",
        "\n",
        "## halmazszerű \n",
        "s = {1, 2, 3}                # halmaz \n",
        "d = {'x': 1, 'y': 2, 'z': 3} # szótár\n",
        "d['x']                       # az 'x' kulcshoz rendelt érték lekérdezése \n",
        "d['x'] = 9                   # az 'x' kulcshoz érték módosítása\n",
        "d['w'] = 0                   # új kulcs-érték pár hozzáadása\n",
        "1 in s                       # eleme 1 az s halmaznak? \n",
        "'x' in d                     # van a d szótárban 'x' kulcs?\n",
        "\n"
      ],
      "execution_count": 5,
      "outputs": [
        {
          "output_type": "stream",
          "text": [
            "(2-5j)\n",
            "\n",
            " alma \n",
            " szilva\n",
            " \n"
          ],
          "name": "stdout"
        },
        {
          "output_type": "execute_result",
          "data": {
            "text/plain": [
              "True"
            ]
          },
          "metadata": {
            "tags": []
          },
          "execution_count": 5
        }
      ]
    },
    {
      "cell_type": "markdown",
      "metadata": {
        "id": "BQQss_qHN7kz",
        "colab_type": "text"
      },
      "source": [
        "## Műveleti jelek\n",
        "\n",
        "Aritmetikai műveletek: +, -, *, /, **, %, //. \n",
        "\n",
        "Összehasonlítás: <, <=, ==, !=, >, >=. \n",
        "\n",
        "Logikai műveletek: and, or, not. \n",
        "\n",
        "Bitenkénti logikai műveletek: &, |, ˆ, ˜, «, ». \n",
        "\n",
        "Halmazműveletek: &, |, -. \n",
        "\n",
        "Tartalmazásvizsgálat: in, not in. \n",
        "\n",
        "Azonosságvizsgálat: is, is not. \n",
        "\n",
        "Értékadás: =, +=, -=, *=, /=, **=, %=, //=, ...\n"
      ]
    },
    {
      "cell_type": "markdown",
      "metadata": {
        "id": "thJEWh2SPVUY",
        "colab_type": "text"
      },
      "source": [
        "## Tipusok közötti konverziók"
      ]
    },
    {
      "cell_type": "code",
      "metadata": {
        "id": "rf8gy99ZOwSR",
        "colab_type": "code",
        "colab": {
          "base_uri": "https://localhost:8080/",
          "height": 35
        },
        "outputId": "2dd3d5a4-06c3-454a-c708-724a2f34fb1f"
      },
      "source": [
        "## tipus konverzió\n",
        "int(2.3)         # float => int \n",
        "float('10')      # str => float \n",
        "str(20)          # int => str \n",
        "tuple([1, 2, 3]) # list => tuple \n",
        "list((4, 5, 6))  # tuple => list \n",
        "set((7, 8, 9))   # tuple => set\n",
        "\n",
        "dict([('a', 1), ('b', 2)])     # pairs => dict \n",
        "list({'a': 1, 'b': 2}.items()) # dict => pairs\n"
      ],
      "execution_count": 6,
      "outputs": [
        {
          "output_type": "execute_result",
          "data": {
            "text/plain": [
              "[('a', 1), ('b', 2)]"
            ]
          },
          "metadata": {
            "tags": []
          },
          "execution_count": 6
        }
      ]
    },
    {
      "cell_type": "markdown",
      "metadata": {
        "id": "6yxGh8lyPxHG",
        "colab_type": "text"
      },
      "source": [
        "## Vezérlési szerkezetek (elágazás, ciklus)"
      ]
    },
    {
      "cell_type": "code",
      "metadata": {
        "id": "U_AfIagwP3zm",
        "colab_type": "code",
        "colab": {
          "base_uri": "https://localhost:8080/",
          "height": 108
        },
        "outputId": "d5ebc457-b987-4228-ab2b-480548d21f2f"
      },
      "source": [
        "## Elágazások\n",
        "if 2 * 2 == 4:     # Pythonban a elágazás feltétel megadása kettős ponttal zárulnak\n",
        "     print('alma') # feltétel teljesülés belseje (végrehajtási kód) sorbehuzással különül el \n",
        "elif 2 * 2 == 5:   # a kód többi részétől. \n",
        "     print('szilva') \n",
        "else:              # Emiatt garantált, hogy a program \n",
        "     print('tök')  # megjelenése és logikai jelentése # összhangban van.\n",
        "\n",
        "\n",
        "## Ciklusok\n",
        "\n",
        "# végtelen ciklus megjegyzésként védve\n",
        "#   while True: pass # Ha csak 1 végrehajtandó utasítás van, akkor írhatjuk a while-lal 1 sorba.\n",
        "\n",
        "  \n",
        "# a 0-tól 4-ig terjedő egész számok hetedik hatványának kiírása \n",
        "for i in range(4): \n",
        "   print(i**7)\n",
        "\n",
        "# ciklusokből (azonnali) kilési parancsok : break, continue\n"
      ],
      "execution_count": 8,
      "outputs": [
        {
          "output_type": "stream",
          "text": [
            "alma\n",
            "0\n",
            "1\n",
            "128\n",
            "2187\n"
          ],
          "name": "stdout"
        }
      ]
    },
    {
      "cell_type": "markdown",
      "metadata": {
        "id": "6hNJsj5vRwIH",
        "colab_type": "text"
      },
      "source": [
        "## Program be és kimenet "
      ]
    },
    {
      "cell_type": "code",
      "metadata": {
        "id": "vRY0VuSbR30b",
        "colab_type": "code",
        "colab": {
          "base_uri": "https://localhost:8080/",
          "height": 90
        },
        "outputId": "76f75906-0bb6-4dbf-84c6-f87325a9aa91"
      },
      "source": [
        "## standard bemenet \n",
        "\n",
        "x = input('Kérek egy mondatot: ')          # programon belüli adatbekérő lehetőség\n",
        "y = int(input('Kérek egy egész számot: ')) # tipus konverzióvál váltunk számjegy kérésre\n",
        "  \n",
        "  \n",
        "## standard kimenet \n",
        "print('hello')          # kiírás soremeléssel \n",
        "print('hello', end='')  # kiírás soremelés nélkül\n"
      ],
      "execution_count": 10,
      "outputs": [
        {
          "output_type": "stream",
          "text": [
            "Kérek egy mondatot: 2\n",
            "Kérek egy egész számot: 34\n",
            "hello\n",
            "hello"
          ],
          "name": "stdout"
        }
      ]
    },
    {
      "cell_type": "markdown",
      "metadata": {
        "id": "CQI2p2yCThQz",
        "colab_type": "text"
      },
      "source": [
        "## Comprehension (értelmezés, érték feltölés)\n"
      ]
    },
    {
      "cell_type": "code",
      "metadata": {
        "id": "vIzXKS5YTlgj",
        "colab_type": "code",
        "colab": {
          "base_uri": "https://localhost:8080/",
          "height": 54
        },
        "outputId": "87fb0b79-f498-494d-be5a-bee65f721fc1"
      },
      "source": [
        "\n",
        "## feltétel nélküli \n",
        "a = [x**2 for x in range(10)] \n",
        "b = {x**2 for x in range(10)} \n",
        "c = {x: x**2 for x in range(10)} \n",
        "\n",
        "print (c)\n",
        "\n",
        "## feltételes \n",
        "a = [x**2 for x in range(10) if x % 2 == 0] \n",
        "b = {x**2 for x in range(10) if x % 2 == 0} \n",
        "c = {x: x**2 for x in range(10) if x % 2 == 0}\n",
        "\n",
        "print (c)\n"
      ],
      "execution_count": 11,
      "outputs": [
        {
          "output_type": "stream",
          "text": [
            "{0: 0, 1: 1, 2: 4, 3: 9, 4: 16, 5: 25, 6: 36, 7: 49, 8: 64, 9: 81}\n",
            "{0: 0, 2: 4, 4: 16, 6: 36, 8: 64}\n"
          ],
          "name": "stdout"
        }
      ]
    },
    {
      "cell_type": "markdown",
      "metadata": {
        "id": "qBF6Uv8tUBha",
        "colab_type": "text"
      },
      "source": [
        "## Rendezés"
      ]
    },
    {
      "cell_type": "code",
      "metadata": {
        "id": "Ps-YNwCNUG0p",
        "colab_type": "code",
        "colab": {
          "base_uri": "https://localhost:8080/",
          "height": 54
        },
        "outputId": "087acf8a-a81d-4ac2-fc05-52b45b8e9d3d"
      },
      "source": [
        "# lista rendezése helyben \n",
        "l = [2, 4, 1, 3] \n",
        "l.sort()\n",
        "\n",
        "\n",
        "# kollekció rendezése listába \n",
        "l1 = sorted((2, 4, 1, 3)) \n",
        "l2 = sorted([2, 4, 1, 3]) \n",
        "l3 = sorted({2: 'b', 4: 'd', 1: 'a', 3: 'c'})\n",
        "\n",
        "print(l3)\n",
        "\n",
        "\n",
        "# párok listájának rendezése \n",
        "l1 = [('alma', 20), ('szilva', 30), ('barack', 10)] \n",
        "l2 = sorted(l1)                       # a kulcs a 0-ás elem \n",
        "l3 = sorted(l1, key=lambda x: x[1])   # a kulcs az 1-es elem\n",
        "\n",
        "print(l3)\n"
      ],
      "execution_count": 13,
      "outputs": [
        {
          "output_type": "stream",
          "text": [
            "[1, 2, 3, 4]\n",
            "[('barack', 10), ('alma', 20), ('szilva', 30)]\n"
          ],
          "name": "stdout"
        }
      ]
    },
    {
      "cell_type": "markdown",
      "metadata": {
        "id": "xYB20tAuU5M3",
        "colab_type": "text"
      },
      "source": [
        "## Fájl kezelés"
      ]
    },
    {
      "cell_type": "code",
      "metadata": {
        "id": "O-oxSaDFU9UH",
        "colab_type": "code",
        "colab": {
          "base_uri": "https://localhost:8080/",
          "height": 272
        },
        "outputId": "a0fe639d-fc5b-4783-b408-d2ba240a5205"
      },
      "source": [
        "## fájl irás\n",
        "f = open('pascal.txt', 'w')    ## elérési könyvtár megadása is szükséges lehet\n",
        "f.write(' Első sor \\n') \n",
        "f.write(' 2 sor \\n') \n",
        "f.write(' 3 sor \\n') \n",
        "f.close()\n",
        "\n",
        "\n",
        "## fájl olvasás 1\n",
        "content = open('pascal.txt').read()     # azonnali, direct beolvasás sztringbe (!! csinnyán bánjunk vele nagy fájlok esetén)\n",
        "print(content)\n",
        "\n",
        "## fájl olvasás 2\n",
        "lines = open('pascal.txt').readlines()  # sorok beolvasása sztringlistába\n",
        "print(lines)\n",
        "\n",
        "\n",
        "\n",
        "# Pascal-háromszög kiszámítása és fájlba írása (komplex minta)\n",
        "f = open('pascal.txt', 'w')    ## elérési könyvtár megadása is szükséges lehet\n",
        "p = [1] \n",
        "for n in range(10): \n",
        "    f.write(str(p) + '\\n') \n",
        "    q = [p[i] + p[i + 1] for i in range(len(p) - 1)] \n",
        "    p = [1] + q + [1] \n",
        "f.close()\n",
        "\n",
        "\n",
        "\n",
        "## olvasás ciklusal\n",
        "f = open('pascal.txt') \n",
        "f.readline() # 1. sor átugrása\n",
        "for line in f: # további sorok tokenizálása \n",
        "   print(line.split(',')) \n",
        "f.close()\n",
        "\n"
      ],
      "execution_count": 17,
      "outputs": [
        {
          "output_type": "stream",
          "text": [
            " Első sor \n",
            " 2 sor \n",
            " 3 sor \n",
            "\n",
            "[' Első sor \\n', ' 2 sor \\n', ' 3 sor \\n']\n",
            "['[1', ' 1]\\n']\n",
            "['[1', ' 2', ' 1]\\n']\n",
            "['[1', ' 3', ' 3', ' 1]\\n']\n",
            "['[1', ' 4', ' 6', ' 4', ' 1]\\n']\n",
            "['[1', ' 5', ' 10', ' 10', ' 5', ' 1]\\n']\n",
            "['[1', ' 6', ' 15', ' 20', ' 15', ' 6', ' 1]\\n']\n",
            "['[1', ' 7', ' 21', ' 35', ' 35', ' 21', ' 7', ' 1]\\n']\n",
            "['[1', ' 8', ' 28', ' 56', ' 70', ' 56', ' 28', ' 8', ' 1]\\n']\n",
            "['[1', ' 9', ' 36', ' 84', ' 126', ' 126', ' 84', ' 36', ' 9', ' 1]\\n']\n"
          ],
          "name": "stdout"
        }
      ]
    },
    {
      "cell_type": "markdown",
      "metadata": {
        "id": "59TSgpBJXjzv",
        "colab_type": "text"
      },
      "source": [
        "## Kicsomagolás (unpacking)\n"
      ]
    },
    {
      "cell_type": "code",
      "metadata": {
        "id": "G7fXFubYXnE4",
        "colab_type": "code",
        "colab": {
          "base_uri": "https://localhost:8080/",
          "height": 199
        },
        "outputId": "ccf3bdc5-bec4-4501-efb8-7949f78a1d17"
      },
      "source": [
        "## általános eset: \n",
        "x, (y, z) = [10, (20, 30)] \n",
        "\n",
        "print(x)\n",
        "print(y)\n",
        "print(z)\n",
        "print('-------1-----')\n",
        "  \n",
        "## többszörös értékadás: \n",
        "a, b = 30, 40 \n",
        "\n",
        "print(a)\n",
        "print(b)\n",
        "print('-------2-----')\n",
        "\n",
        "## csere (egylépésben): \n",
        "a, b = b, a\n",
        "\n",
        "print(a)\n",
        "print(b)\n",
        "print('-------3-----')"
      ],
      "execution_count": 19,
      "outputs": [
        {
          "output_type": "stream",
          "text": [
            "10\n",
            "20\n",
            "30\n",
            "-------1-----\n",
            "30\n",
            "40\n",
            "-------2-----\n",
            "40\n",
            "30\n",
            "-------3-----\n"
          ],
          "name": "stdout"
        }
      ]
    },
    {
      "cell_type": "markdown",
      "metadata": {
        "id": "V_nd5xG2YSfl",
        "colab_type": "text"
      },
      "source": [
        "## Indexelés (slicing) \n",
        "\n",
        "Slice jelölésmód: [alsó határ: felső határ: lépésköz]\n"
      ]
    },
    {
      "cell_type": "code",
      "metadata": {
        "id": "hnHEz-ORYYPs",
        "colab_type": "code",
        "colab": {
          "base_uri": "https://localhost:8080/",
          "height": 72
        },
        "outputId": "6925bab7-1e78-4f83-f550-17993a2b7b66"
      },
      "source": [
        "a = ['spam', 'eggs', 1, 2]\n",
        "print(a[:2], a[1: 3], a[:])   # => ['spam', 'eggs'] ['eggs', 1] ['spam', 'eggs', 1, 2]\n",
        "print(a[-1], a[:-2])          # => 2 ['spam', 'eggs']\n",
        "print(a[::-1], a[1::2])       # => [2, 1, 'eggs', 'spam'] ['eggs', 2]\n"
      ],
      "execution_count": 20,
      "outputs": [
        {
          "output_type": "stream",
          "text": [
            "['spam', 'eggs'] ['eggs', 1] ['spam', 'eggs', 1, 2]\n",
            "2 ['spam', 'eggs']\n",
            "[2, 1, 'eggs', 'spam'] ['eggs', 2]\n"
          ],
          "name": "stdout"
        }
      ]
    },
    {
      "cell_type": "markdown",
      "metadata": {
        "id": "KbZLuSJ_YrKE",
        "colab_type": "text"
      },
      "source": [
        "## Iterálási technikák\n",
        "\n"
      ]
    },
    {
      "cell_type": "code",
      "metadata": {
        "id": "zQ28w3JIYv-s",
        "colab_type": "code",
        "colab": {
          "base_uri": "https://localhost:8080/",
          "height": 290
        },
        "outputId": "6995517b-7487-4f1c-a17b-af158ffaa1bd"
      },
      "source": [
        "a = ['A', 'B', 'C']\n",
        "\n",
        "for i in range(len(a)):     # C nyelv szerü megadás mód \n",
        "  print(i, a[i])\n",
        "  \n",
        "print('-------1-----')\n",
        "\n",
        "for i, ai in enumerate(a):  # Python nyelv szerü megadás mód \n",
        "  print(i, ai)\n",
        "\n",
        "\n",
        "print('-------11-----')\n",
        "  \n",
        "  \n",
        "a = ['A', 'B', 'C'] \n",
        "b = ['X', 'Y', 'Z']\n",
        "\n",
        "for i in range(len(a)):       # C nyelv szerü megadás mód \n",
        "  print(a[i], b[i])\n",
        "  \n",
        "print('-------1-----')\n",
        "\n",
        "for ai, bi in zip(a, b):      # Python nyelv szerü megadás mód \n",
        "  print(ai, bi)"
      ],
      "execution_count": 25,
      "outputs": [
        {
          "output_type": "stream",
          "text": [
            "0 A\n",
            "1 B\n",
            "2 C\n",
            "-------1-----\n",
            "0 A\n",
            "1 B\n",
            "2 C\n",
            "-------11-----\n",
            "A X\n",
            "B Y\n",
            "C Z\n",
            "-------1-----\n",
            "A X\n",
            "B Y\n",
            "C Z\n"
          ],
          "name": "stdout"
        }
      ]
    },
    {
      "cell_type": "markdown",
      "metadata": {
        "id": "86nxIovWZ9Fj",
        "colab_type": "text"
      },
      "source": [
        "## Függvények\n",
        " \n",
        " docstring \n",
        " \n",
        " pozícionális és kulcsszó argumentumok, \n",
        " \n",
        "\n",
        "```\n",
        "  *args, \n",
        "  **kwargs\n",
        "```\n",
        "\n",
        "\n",
        " \n",
        " egymásba ágyazás, attribútumok\n",
        "\n"
      ]
    },
    {
      "cell_type": "code",
      "metadata": {
        "id": "CBjFXIM3aANQ",
        "colab_type": "code",
        "colab": {
          "base_uri": "https://localhost:8080/",
          "height": 72
        },
        "outputId": "c2366164-b852-431b-a417-6879e5929b66"
      },
      "source": [
        "## függvény létrehozása 1\n",
        "def root(x, n=2): \n",
        "  '''  docstring rész\n",
        "  függvény belső leirasa, hogy mit csinál\n",
        "  n-th root of x.\n",
        "  ''' \n",
        "  return x**(1.0 / n)\n",
        "\n",
        "## függvény meghivása 1\n",
        "print(root(2,2))\n",
        "\n",
        "print('----------1--------------')\n",
        "\n",
        "## függvény létrehozása 2\n",
        "def fibon(F1=1, F2=1): \n",
        "  '''Return function that computes the \n",
        "  Fibonacci sequence with starting elements \n",
        "  F1 and F2.\n",
        "  ''' \n",
        "  \n",
        "  def g(n): \n",
        "     if n == 1:   return F1 \n",
        "     elif n == 2: return F2 \n",
        "     else:        return (g(n - 1) + g(n - 2)) \n",
        "  return g\n",
        "\n",
        "## függvény meghivása 2\n",
        "print(fibon(3))\n"
      ],
      "execution_count": 39,
      "outputs": [
        {
          "output_type": "stream",
          "text": [
            "1.4142135623730951\n",
            "----------1--------------\n",
            "<function fibon.<locals>.g at 0x7f2c4359ca60>\n"
          ],
          "name": "stdout"
        }
      ]
    }
  ]
}