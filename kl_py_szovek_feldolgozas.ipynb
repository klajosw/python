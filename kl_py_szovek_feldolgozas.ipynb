{
  "nbformat": 4,
  "nbformat_minor": 0,
  "metadata": {
    "anaconda-cloud": {},
    "hide_input": false,
    "kernelspec": {
      "display_name": "Python 3",
      "language": "python",
      "name": "python3"
    },
    "language_info": {
      "codemirror_mode": {
        "name": "ipython",
        "version": 3
      },
      "file_extension": ".py",
      "mimetype": "text/x-python",
      "name": "python",
      "nbconvert_exporter": "python",
      "pygments_lexer": "ipython3",
      "version": "3.7.4"
    },
    "latex_envs": {
      "bibliofile": "biblio.bib",
      "cite_by": "apalike",
      "current_citInitial": 1,
      "eqLabelWithNumbers": true,
      "eqNumInitial": 0
    },
    "name": "mintapelda03.ipynb",
    "colab": {
      "name": "kl_py_szovek_feldolgozas.ipynb",
      "provenance": [],
      "collapsed_sections": [
        "rKxMJyNJbv6m",
        "J3LVLNNebv6_"
      ],
      "include_colab_link": true
    }
  },
  "cells": [
    {
      "cell_type": "markdown",
      "metadata": {
        "id": "view-in-github",
        "colab_type": "text"
      },
      "source": [
        "<a href=\"https://colab.research.google.com/github/klajosw/python/blob/master/kl_py_szovek_feldolgozas.ipynb\" target=\"_parent\"><img src=\"https://colab.research.google.com/assets/colab-badge.svg\" alt=\"Open In Colab\"/></a>"
      ]
    },
    {
      "cell_type": "markdown",
      "metadata": {
        "id": "iy3rxFX2bv5g",
        "colab_type": "text"
      },
      "source": [
        "# File-ok feldolgozása\n",
        "\n",
        "\n",
        "Nagy mennyiségű adatok feldolgozásánál elengedthetetlen dolog a számítógépek memóriáján (RAM) kívűl a külső tárolókon (merevlemezek, egyéb adathordozók) tárolt file-ok megfelelő használata is.\n",
        "\n",
        "Az alábbiakban a python alapértelmezett filekezelő függvényeivel ismerkedünk meg, \n",
        "majd a `numpy` csomag filekezelő rutinjaival barátkozunk meg.\n",
        "\n"
      ]
    },
    {
      "cell_type": "code",
      "metadata": {
        "id": "6bDUFhTRbv5j",
        "colab_type": "code",
        "colab": {},
        "outputId": "e1be4345-f0a6-4bc4-bf0f-733c4d0d432b"
      },
      "source": [
        "%pylab inline"
      ],
      "execution_count": 0,
      "outputs": [
        {
          "output_type": "stream",
          "text": [
            "Populating the interactive namespace from numpy and matplotlib\n"
          ],
          "name": "stdout"
        }
      ]
    },
    {
      "cell_type": "markdown",
      "metadata": {
        "id": "tsEcLupCbv5m",
        "colab_type": "text"
      },
      "source": [
        "---\n",
        "\n",
        "## A python beépített filekezelő függvényei\n",
        "\n",
        "Ebben a fejezetben a `python` egyéb moduloktól független, alapvető fileműveleteket biztosító függvényeivel fogunk megismerkedni. Ezen függvények egy file tartalmát többnyire karakterláncok formájában kezelik, ezért konkrét formátumú adatok beolvasása, illetve kiírása némi bonyodalommal jár, melyeket legtöbbször valamilyen specifikusan az adott feladatra megírt függvény tesz lehetővé. Az alábbi részben a történelmi napfoltszám-megfigyelések [adatainak](http://www.sidc.be/silso/datafiles) az elemzésén keresztül ismerkedünk meg ezekkel a függvényekkel. "
      ]
    },
    {
      "cell_type": "markdown",
      "metadata": {
        "id": "Q-Z0jT9Pbv5n",
        "colab_type": "text"
      },
      "source": [
        "### File-ok beolvasása"
      ]
    },
    {
      "cell_type": "markdown",
      "metadata": {
        "id": "an4ufTNxbv5n",
        "colab_type": "text"
      },
      "source": [
        "Egész file beolvasása egyetlen karakterláncba az alábbiak szerint történik. \n",
        "\n",
        "Előszöris az `open()` függvény segítségével megnyitjuk a beolvasni kívánt file-t. Az `open()` függvény egy előkészítő függvény, amely arra készíti fel a rendszert, hogy az adott merevelemezen (vagy más adattárolón) fellelhető file-lal dolgozni tudjunk. Legegyszerűbb esetben ez a file nevének a megadásával történik."
      ]
    },
    {
      "cell_type": "code",
      "metadata": {
        "id": "i1mxF5c9bv5o",
        "colab_type": "code",
        "colab": {}
      },
      "source": [
        "file1 = open('SN_m_tot_V2.0.txt')"
      ],
      "execution_count": 0,
      "outputs": []
    },
    {
      "cell_type": "markdown",
      "metadata": {
        "id": "UpOkj9CEbv5q",
        "colab_type": "text"
      },
      "source": [
        "A fenti kódsor hatására a `file1` változón keresztül férhetünk hozzá a file tartalmához. A file teljes tartalmát például a következő utasítással tölthetjük be egy karakterlánc formájában az `egeszfile` változóba:"
      ]
    },
    {
      "cell_type": "code",
      "metadata": {
        "id": "qEUrOfJLbv5r",
        "colab_type": "code",
        "colab": {}
      },
      "source": [
        "egeszfile=file1.read()"
      ],
      "execution_count": 0,
      "outputs": []
    },
    {
      "cell_type": "markdown",
      "metadata": {
        "id": "xxjLeXpDbv5s",
        "colab_type": "text"
      },
      "source": [
        "Figyelem, ne keverjük össze a `file1` és az `egeszfile` változókat! Amint azt fent is említettük, az `egeszfile` egy karakterlánc, a `file1` pedig a file-ból való olvasást, illetve a file-ba való írást segítő segédobjektum, amelyet szokás esetenként (adat)folyam-nak vagy angolul streamnek is nevezni."
      ]
    },
    {
      "cell_type": "markdown",
      "metadata": {
        "id": "CeLlku3dbv5t",
        "colab_type": "text"
      },
      "source": [
        "Ha már minden olvasás és írás befejeződött, akkor a `close()` utasítással zárhatjuk be a folyamot, azaz ez a parancs szakítja meg a kommunikációt az adattárolóval."
      ]
    },
    {
      "cell_type": "code",
      "metadata": {
        "id": "eKFDo8qNbv5u",
        "colab_type": "code",
        "colab": {}
      },
      "source": [
        "file1.close()"
      ],
      "execution_count": 0,
      "outputs": []
    },
    {
      "cell_type": "markdown",
      "metadata": {
        "id": "paOipvH_bv5v",
        "colab_type": "text"
      },
      "source": [
        "Mivel fent betöltöttük a file tartalmát az `egeszfile` stringbe, ezért ennek segítségével bele is pillanthatunk, vizsgáljuk meg például az első 100 karaktert a file-ból:"
      ]
    },
    {
      "cell_type": "code",
      "metadata": {
        "id": "_18VFKXVbv5w",
        "colab_type": "code",
        "colab": {},
        "outputId": "33117eae-8500-43f2-aa98-12efe7f20ccb"
      },
      "source": [
        "egeszfile[:100]"
      ],
      "execution_count": 0,
      "outputs": [
        {
          "output_type": "execute_result",
          "data": {
            "text/plain": [
              "'#1. oszlop ev  ho  T[ev]  napfolt_szam\\n#2. oszlop honap\\n#3. oszlop az ido evben merve \\n#4. oszlop Na'"
            ]
          },
          "metadata": {
            "tags": []
          },
          "execution_count": 5
        }
      ]
    },
    {
      "cell_type": "markdown",
      "metadata": {
        "id": "tcPWxcSQbv5y",
        "colab_type": "text"
      },
      "source": [
        "Ha megnézzük magát a [file](data/NAPFOLT/SN_m_tot_V2.0.txt)-t, akkor látható hogy tényleg ezek a dolgok vannak benne. Figyeljük meg hogy a sor vége helyett a `\\n` karakter szerepel! "
      ]
    },
    {
      "cell_type": "markdown",
      "metadata": {
        "id": "yglFZl1Dbv5z",
        "colab_type": "text"
      },
      "source": [
        "A `read()` függvény előre specifikált számú karakter olvasását is lehetővé teszi. Nyissuk meg ismét az előző file-t ismét:"
      ]
    },
    {
      "cell_type": "code",
      "metadata": {
        "id": "dyGxLmNebv5z",
        "colab_type": "code",
        "colab": {}
      },
      "source": [
        "file1 = open('SN_m_tot_V2.0.txt')"
      ],
      "execution_count": 0,
      "outputs": []
    },
    {
      "cell_type": "markdown",
      "metadata": {
        "id": "FForOyPubv51",
        "colab_type": "text"
      },
      "source": [
        "Olvassunk be 10 karaktert a fileból az alábbi módon:"
      ]
    },
    {
      "cell_type": "code",
      "metadata": {
        "id": "Qf5LtbvXbv53",
        "colab_type": "code",
        "colab": {}
      },
      "source": [
        "karakterek1=file1.read(10)"
      ],
      "execution_count": 0,
      "outputs": []
    },
    {
      "cell_type": "markdown",
      "metadata": {
        "id": "EqF3JYgnbv55",
        "colab_type": "text"
      },
      "source": [
        "A `karakterek1` változó ezután a file első 10 karakterét tartalmazza (vessük össze ezt az `egeszfile[:100]` parancs kimenetével): "
      ]
    },
    {
      "cell_type": "code",
      "metadata": {
        "id": "Sn00QFfMbv56",
        "colab_type": "code",
        "colab": {},
        "outputId": "5184753d-4118-4c91-ca46-a125cdad2f83"
      },
      "source": [
        "karakterek1"
      ],
      "execution_count": 0,
      "outputs": [
        {
          "output_type": "execute_result",
          "data": {
            "text/plain": [
              "'#1. oszlop'"
            ]
          },
          "metadata": {
            "tags": []
          },
          "execution_count": 8
        }
      ]
    },
    {
      "cell_type": "markdown",
      "metadata": {
        "id": "Rv2YIM-Jbv58",
        "colab_type": "text"
      },
      "source": [
        "Ha ismét meghívjuk a `file1` változó `read()` függvényét, akkor az a következő 10 karaktert olvassa be:"
      ]
    },
    {
      "cell_type": "code",
      "metadata": {
        "id": "3vUI1je0bv58",
        "colab_type": "code",
        "colab": {}
      },
      "source": [
        "karakterek2=file1.read(10)"
      ],
      "execution_count": 0,
      "outputs": []
    },
    {
      "cell_type": "code",
      "metadata": {
        "id": "yzouL_lebv5-",
        "colab_type": "code",
        "colab": {},
        "outputId": "b8d649bd-bc9d-4804-b50b-39c25031f26b"
      },
      "source": [
        "karakterek2"
      ],
      "execution_count": 0,
      "outputs": [
        {
          "output_type": "execute_result",
          "data": {
            "text/plain": [
              "' ev  ho  T'"
            ]
          },
          "metadata": {
            "tags": []
          },
          "execution_count": 10
        }
      ]
    },
    {
      "cell_type": "markdown",
      "metadata": {
        "id": "7DHh84hYbv6A",
        "colab_type": "text"
      },
      "source": [
        "Látjuk tehát hogy a `read()` utasítás hatására könyörtelenül haladunk végig a file karakterein: úgy tűnhet, ha már egyszer valamit beolvastunk, akkor azt többé már nem tudjuk! Szerencsére ez nem így van, mivel a `tell()` és a `seek()` függvények segítségével kérdezhetjük le, illetve állíthatjuk be egy megnyitott filefolyam aktuális pozicióját."
      ]
    },
    {
      "cell_type": "markdown",
      "metadata": {
        "id": "hJ-dk2pCbv6A",
        "colab_type": "text"
      },
      "source": [
        "A `tell()` függvényt alkalmazva a `file1` változóra megkaphatjuk az aktuális folyampoziciót. Ami a jelen esetben 20, hiszen az előző két read parancs 10 karaktert olvasott be!"
      ]
    },
    {
      "cell_type": "code",
      "metadata": {
        "id": "Iv8CR_Jubv6B",
        "colab_type": "code",
        "colab": {},
        "outputId": "af302d73-f974-4d9a-fde5-a233a82efbb9"
      },
      "source": [
        "file1.tell()"
      ],
      "execution_count": 0,
      "outputs": [
        {
          "output_type": "execute_result",
          "data": {
            "text/plain": [
              "20"
            ]
          },
          "metadata": {
            "tags": []
          },
          "execution_count": 11
        }
      ]
    },
    {
      "cell_type": "markdown",
      "metadata": {
        "id": "YSgClLrdbv6C",
        "colab_type": "text"
      },
      "source": [
        "A `seek()` parancs segítségével a file egy teszőleges helyére ugorhatunk. A `seek(n)` függvény alkalmazásával a file `n`-edik karakterére ugrunk. Ha ezután alkalmazzuk a `read()` függvényt, akkor a file tartalmát ettől a poziciótól olvassuk."
      ]
    },
    {
      "cell_type": "code",
      "metadata": {
        "id": "kNDcCOTYbv6D",
        "colab_type": "code",
        "colab": {},
        "outputId": "505b0785-30b4-419b-f518-1196f89c169d"
      },
      "source": [
        "file1.seek(5)"
      ],
      "execution_count": 0,
      "outputs": [
        {
          "output_type": "execute_result",
          "data": {
            "text/plain": [
              "5"
            ]
          },
          "metadata": {
            "tags": []
          },
          "execution_count": 12
        }
      ]
    },
    {
      "cell_type": "markdown",
      "metadata": {
        "id": "bDVrq6uYbv6F",
        "colab_type": "text"
      },
      "source": [
        "Az alábbi parancs tehát a 5. karaktertől olvas be újabb 10 darab karaktert. "
      ]
    },
    {
      "cell_type": "code",
      "metadata": {
        "id": "a8EgE1owbv6F",
        "colab_type": "code",
        "colab": {}
      },
      "source": [
        "karakterek3=file1.read(10)"
      ],
      "execution_count": 0,
      "outputs": []
    },
    {
      "cell_type": "code",
      "metadata": {
        "id": "ZagAi6l3bv6H",
        "colab_type": "code",
        "colab": {},
        "outputId": "ea87c98c-c874-49c0-ccec-4c0add7aaafb"
      },
      "source": [
        "karakterek3"
      ],
      "execution_count": 0,
      "outputs": [
        {
          "output_type": "execute_result",
          "data": {
            "text/plain": [
              "'szlop ev  '"
            ]
          },
          "metadata": {
            "tags": []
          },
          "execution_count": 14
        }
      ]
    },
    {
      "cell_type": "markdown",
      "metadata": {
        "id": "xXcX3nIrbv6J",
        "colab_type": "text"
      },
      "source": [
        "Zárjuk ismét be a file-t!"
      ]
    },
    {
      "cell_type": "code",
      "metadata": {
        "id": "glJVt_sMbv6J",
        "colab_type": "code",
        "colab": {}
      },
      "source": [
        "file1.close()"
      ],
      "execution_count": 0,
      "outputs": []
    },
    {
      "cell_type": "markdown",
      "metadata": {
        "id": "ZXaJIpeIbv6N",
        "colab_type": "text"
      },
      "source": [
        "Nagyon sok esetben az adatfile-okban hordozott információ táblázatszerűen vannak rendezve. Az file minden sora hasonló tagolással csoportosítja a számunkra értékes adatokat. \n",
        "Egy megnyitott file minden sorát - mint soronkénti karakterláncok listáját - a readlines függvény segítségével gyárthatjuk le."
      ]
    },
    {
      "cell_type": "code",
      "metadata": {
        "id": "6hJrq6N9bv6O",
        "colab_type": "code",
        "colab": {}
      },
      "source": [
        "file1 = open('SN_m_tot_V2.0.txt')    "
      ],
      "execution_count": 0,
      "outputs": []
    },
    {
      "cell_type": "code",
      "metadata": {
        "id": "4CCN3pzjbv6Q",
        "colab_type": "code",
        "colab": {}
      },
      "source": [
        "sorok = file1.readlines()"
      ],
      "execution_count": 0,
      "outputs": []
    },
    {
      "cell_type": "markdown",
      "metadata": {
        "id": "0cp2I6EBbv6S",
        "colab_type": "text"
      },
      "source": [
        "Mivel már nincs szükség a a file-ra ezért be is csukjuk azt!"
      ]
    },
    {
      "cell_type": "code",
      "metadata": {
        "id": "5CMiIHpHbv6S",
        "colab_type": "code",
        "colab": {}
      },
      "source": [
        "file1.close()    "
      ],
      "execution_count": 0,
      "outputs": []
    },
    {
      "cell_type": "markdown",
      "metadata": {
        "id": "KvFHOXbVbv6U",
        "colab_type": "text"
      },
      "source": [
        "A sorok lista minden eleme most tehát egy egy sor a file-ból, vizsgáljuk meg például az első 10 sort:"
      ]
    },
    {
      "cell_type": "code",
      "metadata": {
        "id": "STtYu9Lmbv6U",
        "colab_type": "code",
        "colab": {},
        "outputId": "1dccd3d7-b071-4c7e-fa50-7db2d6fe63b0"
      },
      "source": [
        "sorok[0:10]"
      ],
      "execution_count": 0,
      "outputs": [
        {
          "output_type": "execute_result",
          "data": {
            "text/plain": [
              "['#1. oszlop ev  ho  T[ev]  napfolt_szam\\n',\n",
              " '#2. oszlop honap\\n',\n",
              " '#3. oszlop az ido evben merve \\n',\n",
              " '#4. oszlop Napfoltok szamanak atlaga\\n',\n",
              " '#5. oszlop Napfoltok szamanak szorasa, negativ ertekek azt jelentik hogy az informacio nem all rendelkezesre!\\n',\n",
              " '#6. oszlop Napfolt meresek szama,      negativ ertekek azt jelentik hogy az informacio nem all rendelkezesre!\\n',\n",
              " '1749 01 1749.042   96.7  -1.0    -1  \\n',\n",
              " '1749 02 1749.123  104.3  -1.0    -1  \\n',\n",
              " '1749 03 1749.204  116.7  -1.0    -1  \\n',\n",
              " '1749 04 1749.288   92.8  -1.0    -1  \\n']"
            ]
          },
          "metadata": {
            "tags": []
          },
          "execution_count": 15
        }
      ]
    },
    {
      "cell_type": "markdown",
      "metadata": {
        "id": "VGx2BlWVbv6X",
        "colab_type": "text"
      },
      "source": [
        "Amint látjuk, az első hat sor a '#' karakterrel kezdődik, és minden ilyen sor azt mondja meg hogy a tényleges adatok megfelelő oszlopa mit tartalmaz. A hetedik sortól lefelé viszont szóközökkel elválasztott számok vannak, ez maga a hőn áhitott adat, de sajnos még mindig karakterláncok formájában! "
      ]
    },
    {
      "cell_type": "markdown",
      "metadata": {
        "id": "AZsUxiofbv6X",
        "colab_type": "text"
      },
      "source": [
        "Az első értékes adatsor a file 7.-sora:"
      ]
    },
    {
      "cell_type": "code",
      "metadata": {
        "id": "tZPo_3q-bv6Y",
        "colab_type": "code",
        "colab": {},
        "outputId": "d6b2be48-d111-47f7-e8b7-fff1f2fb6ba3"
      },
      "source": [
        "sorok[6]"
      ],
      "execution_count": 0,
      "outputs": [
        {
          "output_type": "execute_result",
          "data": {
            "text/plain": [
              "'1749 01 1749.042   96.7  -1.0    -1  \\n'"
            ]
          },
          "metadata": {
            "tags": []
          },
          "execution_count": 20
        }
      ]
    },
    {
      "cell_type": "markdown",
      "metadata": {
        "id": "MI53c003bv6a",
        "colab_type": "text"
      },
      "source": [
        "Egy karakterláncot a `split()` parancs segítségével adott karakterek mentén fel tudunk vágni egy listába. A `split()` parancs alapértelmezésben szóközök szerint vágja fel a megjelölt karakterláncot, így az első értékes adatsor oszlopokra szabása az alábbiak szerint történik:"
      ]
    },
    {
      "cell_type": "code",
      "metadata": {
        "id": "2UV6niefbv6b",
        "colab_type": "code",
        "colab": {},
        "outputId": "6b3019a3-a53e-47ca-a35e-5430f8930d50"
      },
      "source": [
        "sorok[6].split()"
      ],
      "execution_count": 0,
      "outputs": [
        {
          "output_type": "execute_result",
          "data": {
            "text/plain": [
              "['1749', '01', '1749.042', '96.7', '-1.0', '-1']"
            ]
          },
          "metadata": {
            "tags": []
          },
          "execution_count": 21
        }
      ]
    },
    {
      "cell_type": "markdown",
      "metadata": {
        "id": "ydicI8Tmbv6d",
        "colab_type": "text"
      },
      "source": [
        "Az eredmény tehát egy lista mely tartalmazza az értékes adatokat, ugyan még mindig karakterláncok formájában! \n",
        "Az egyes elemeket lebegőpontos számmá a már ismert `float()` függvénnyel konvertálhatjuk. Tehát az első adatsor negyedik oszlopából a következő módon készíthetünk hús-vér számot:"
      ]
    },
    {
      "cell_type": "code",
      "metadata": {
        "id": "94oh9Nh3bv6e",
        "colab_type": "code",
        "colab": {},
        "outputId": "4f862e2c-19bd-4477-a23f-5315f16ab252"
      },
      "source": [
        "float(sorok[6].split()[3])"
      ],
      "execution_count": 0,
      "outputs": [
        {
          "output_type": "execute_result",
          "data": {
            "text/plain": [
              "96.7"
            ]
          },
          "metadata": {
            "tags": []
          },
          "execution_count": 22
        }
      ]
    },
    {
      "cell_type": "markdown",
      "metadata": {
        "id": "GjlouhWwbv6f",
        "colab_type": "text"
      },
      "source": [
        "Ha már egy elemet számmá tudunk konvertálni, akkor egy `for` ciklus segítségével számokat tartalmazó listákba tudjuk rendezni az adatokat a már megszokott módon:"
      ]
    },
    {
      "cell_type": "code",
      "metadata": {
        "id": "YFTfOLIwbv6g",
        "colab_type": "code",
        "colab": {}
      },
      "source": [
        "num_napfolt=[]\n",
        "meresi_ido=[]\n",
        "for sor in sorok[6:]:\n",
        "    num_napfolt.append( float(sor.split()[3]) )\n",
        "    meresi_ido.append(  float(sor.split()[2]) )"
      ],
      "execution_count": 0,
      "outputs": []
    },
    {
      "cell_type": "markdown",
      "metadata": {
        "id": "PpgqWwTMbv6j",
        "colab_type": "text"
      },
      "source": [
        "Ábrázoljuk végül a napfoltok számát az évek függvényében:"
      ]
    },
    {
      "cell_type": "code",
      "metadata": {
        "id": "fVODObsDbv6k",
        "colab_type": "code",
        "colab": {},
        "outputId": "935ac63b-c896-4ac1-fb95-cb3eb4cd03fa"
      },
      "source": [
        "plot(meresi_ido,num_napfolt)\n",
        "xlabel('T[ev]')\n",
        "ylabel('Napfoltszam')"
      ],
      "execution_count": 0,
      "outputs": [
        {
          "output_type": "execute_result",
          "data": {
            "text/plain": [
              "<matplotlib.text.Text at 0x7f56fda6a6d8>"
            ]
          },
          "metadata": {
            "tags": []
          },
          "execution_count": 24
        },
        {
          "output_type": "display_data",
          "data": {
            "image/png": "[encoded data removed]",
            "text/plain": [
              "<matplotlib.figure.Figure at 0x7f56fdac7518>"
            ]
          },
          "metadata": {
            "tags": []
          }
        }
      ]
    },
    {
      "cell_type": "markdown",
      "metadata": {
        "id": "rKxMJyNJbv6m",
        "colab_type": "text"
      },
      "source": [
        "### Mentés\n",
        "\n",
        "Az adatok beolvasása mellett sokszor lehet szükség a feldolgozott információ újbóli kiírására. Erre a `python` az adatfolyam típusú változókra alkalmazott `write()` függvényt kínálja. Vizsgáljuk meg, hogy hogy működik a fileírás, egy egyszerű példán! Nyissunk meg egy file-t, amelybe írni szeretnénk, ezt az `open()` függvény `mode` kulcsszavas paraméterén keresztül tudjuk jelezni a `mode='w'` beállítással. Itt a `w` az írási módot jelenti."
      ]
    },
    {
      "cell_type": "code",
      "metadata": {
        "id": "B269Nr3Cbv6m",
        "colab_type": "code",
        "colab": {}
      },
      "source": [
        "file2=open('mentes1.dat',mode='w')"
      ],
      "execution_count": 0,
      "outputs": []
    },
    {
      "cell_type": "markdown",
      "metadata": {
        "id": "okemJHdLbv6n",
        "colab_type": "text"
      },
      "source": [
        "A `file2` folyamba a `write()` függvény segítségével tudunk karakterláncokat írni:"
      ]
    },
    {
      "cell_type": "code",
      "metadata": {
        "id": "IfybAFO-bv6o",
        "colab_type": "code",
        "colab": {},
        "outputId": "bf9131db-8688-495b-98e9-8a3da316acc1"
      },
      "source": [
        "file2.write('#Ez az elso kiirt fileom!\\n')"
      ],
      "execution_count": 0,
      "outputs": [
        {
          "output_type": "execute_result",
          "data": {
            "text/plain": [
              "26"
            ]
          },
          "metadata": {
            "tags": []
          },
          "execution_count": 26
        }
      ]
    },
    {
      "cell_type": "markdown",
      "metadata": {
        "id": "xol8rg1Wbv6p",
        "colab_type": "text"
      },
      "source": [
        "A write fügvény alapértelmezett visszatérési értéke a file-ba kiírt karakterek száma. A biztonság kedvéért zárjuk be a file-t!"
      ]
    },
    {
      "cell_type": "code",
      "metadata": {
        "collapsed": true,
        "id": "upkJ09Pbbv6q",
        "colab_type": "code",
        "colab": {}
      },
      "source": [
        "file2.close()"
      ],
      "execution_count": 0,
      "outputs": []
    },
    {
      "cell_type": "markdown",
      "metadata": {
        "id": "hzLoZnygbv6r",
        "colab_type": "text"
      },
      "source": [
        "Ha már meglévő file-hoz szeretnénk további karaktereket fűzni, akkor az `open()` függvény `mode` paraméterének `mode='a'` beállításával jelezzük ezt. Az `'a'` karakter itt az append angol szó rövidítése, mely ismerős lehet már számunkra egy, a listákra vonatkozó függvény nevéből."
      ]
    },
    {
      "cell_type": "code",
      "metadata": {
        "collapsed": true,
        "id": "idtyAVFhbv6s",
        "colab_type": "code",
        "colab": {}
      },
      "source": [
        "file2=open('data/mentes1.dat',mode='a')"
      ],
      "execution_count": 0,
      "outputs": []
    },
    {
      "cell_type": "markdown",
      "metadata": {
        "id": "N2Qr21oYbv6u",
        "colab_type": "text"
      },
      "source": [
        "Írjuk ki a mérési idő (`meresi_ido`) és a napfoltok számát tartalmazó (`num_napfolt`) adatokat a már fent létrehozott `data/mentes1.dat` file-ba. \n",
        "Ezt egy `for` ciklus segítségével fogjuk megtenni:"
      ]
    },
    {
      "cell_type": "code",
      "metadata": {
        "collapsed": true,
        "id": "GNELSZtjbv6u",
        "colab_type": "code",
        "colab": {}
      },
      "source": [
        "for i in range(len(meresi_ido)):\n",
        "    file2.write(str(meresi_ido[i])+' '+str(num_napfolt[i])+'\\n')"
      ],
      "execution_count": 0,
      "outputs": []
    },
    {
      "cell_type": "markdown",
      "metadata": {
        "id": "YrK3_l_kbv6x",
        "colab_type": "text"
      },
      "source": [
        "A `write()` függvény hasába írt karakterlánc a `meresi_ido` és `num_napfolt` tömbök megfelelő sorában lévő elemet tartalmazza szóközzel elválasztva, illetve a sor végét egy sortörés `'\\n'` -el jelezve."
      ]
    },
    {
      "cell_type": "markdown",
      "metadata": {
        "id": "-yBUqbnSbv6y",
        "colab_type": "text"
      },
      "source": [
        "Zárjuk ismét be a file-t:"
      ]
    },
    {
      "cell_type": "code",
      "metadata": {
        "collapsed": true,
        "id": "7owsOpRKbv6y",
        "colab_type": "code",
        "colab": {}
      },
      "source": [
        "file2.close()"
      ],
      "execution_count": 0,
      "outputs": []
    },
    {
      "cell_type": "markdown",
      "metadata": {
        "id": "yVwYGydTbv60",
        "colab_type": "text"
      },
      "source": [
        "A beolvasáshoz hasonlóan a kiíratásnál is van lehetőség egész sorok kiírására. Ezt, talán nem túl meglepő módon a `writelines()` függvény valósítja meg. Ez a függvény karakterláncok listáját írja ki egy file-ba egy megnyitott filefolyamon keresztül.  "
      ]
    },
    {
      "cell_type": "code",
      "metadata": {
        "id": "h0Wo5Wn5bv61",
        "colab_type": "code",
        "colab": {}
      },
      "source": [
        "file3=open('data/mentes2.dat',mode='w')"
      ],
      "execution_count": 0,
      "outputs": []
    },
    {
      "cell_type": "markdown",
      "metadata": {
        "id": "h3sWNYcqbv63",
        "colab_type": "text"
      },
      "source": [
        "Ha a lista minden karakterlánca `'\\n'` karakterre végződik, akkor a kiíratás során a file-ban minden listaelem egy-egy külön sorba kerül:"
      ]
    },
    {
      "cell_type": "code",
      "metadata": {
        "collapsed": true,
        "id": "N8ynQX8Nbv64",
        "colab_type": "code",
        "colab": {}
      },
      "source": [
        "sorok=['Ez az elso sor\\n','Ez a masodik sor\\n'];"
      ],
      "execution_count": 0,
      "outputs": []
    },
    {
      "cell_type": "code",
      "metadata": {
        "id": "D7aPKhUMbv66",
        "colab_type": "code",
        "colab": {}
      },
      "source": [
        "file3.writelines(sorok)"
      ],
      "execution_count": 0,
      "outputs": []
    },
    {
      "cell_type": "markdown",
      "metadata": {
        "id": "kDTQX6Zwbv67",
        "colab_type": "text"
      },
      "source": [
        "Mi történik, ha lemarad a `'\\n'` ? "
      ]
    },
    {
      "cell_type": "code",
      "metadata": {
        "collapsed": true,
        "id": "OH-wQNSzbv67",
        "colab_type": "code",
        "colab": {}
      },
      "source": [
        "sorok=['Ez az harmadik','Ez hova kerult?\\n'];"
      ],
      "execution_count": 0,
      "outputs": []
    },
    {
      "cell_type": "code",
      "metadata": {
        "collapsed": true,
        "id": "5j94C02Bbv68",
        "colab_type": "code",
        "colab": {}
      },
      "source": [
        "file3.writelines(sorok)"
      ],
      "execution_count": 0,
      "outputs": []
    },
    {
      "cell_type": "code",
      "metadata": {
        "collapsed": true,
        "id": "Y1sTf-vxbv6-",
        "colab_type": "code",
        "colab": {}
      },
      "source": [
        "file3.close()"
      ],
      "execution_count": 0,
      "outputs": []
    },
    {
      "cell_type": "markdown",
      "metadata": {
        "id": "bOtqfaCabv6_",
        "colab_type": "text"
      },
      "source": [
        "Vizsgáljuk meg magát a file-t!"
      ]
    },
    {
      "cell_type": "markdown",
      "metadata": {
        "id": "J3LVLNNebv6_",
        "colab_type": "text"
      },
      "source": [
        "### Különös karakterek karakterláncokban\n",
        "\n",
        "A fentiekben már többször is találkoztunk a sortörést jelölő `'\\n' ` karakterrel. Ehhez hasonlóan van néhány más úgynevezett [literális](https://docs.python.org/2.0/ref/strings.html) karakter, amelynek speciális jelentése van. Ezek közül az alábbi táblázatban összefoglalunk néhányat:"
      ]
    },
    {
      "cell_type": "markdown",
      "metadata": {
        "id": "gTdKj-aubv7A",
        "colab_type": "text"
      },
      "source": [
        "\n",
        "karakter |\tjelentés\n",
        "-|-\n",
        "\\n|\tsortörés\n",
        "\\r|\tkocsi vissza\n",
        "\\t|\tvízszintes kihagyás (TAB)\n",
        "\\v| függőleges kihagyás (TAB)\n",
        "\\xhh..| hexadecimális karakter hh.. értékkel\n",
        "\n"
      ]
    },
    {
      "cell_type": "markdown",
      "metadata": {
        "id": "pXDTNkHnbv7A",
        "colab_type": "text"
      },
      "source": [
        "A print függvény segítségével az alábbi példán demonstráljuk a `'\\r'`, `'\\t'`, és a már ismert `'\\n'` hatását:"
      ]
    },
    {
      "cell_type": "code",
      "metadata": {
        "id": "crHIHbgqbv7B",
        "colab_type": "code",
        "colab": {},
        "outputId": "cf96c8dc-1785-448a-a38b-8df8e178e761"
      },
      "source": [
        "print(\"EZEK ITT NAGYBETUKezek itt kisbetuk\")"
      ],
      "execution_count": 0,
      "outputs": [
        {
          "output_type": "stream",
          "text": [
            "EZEK ITT NAGYBETUKezek itt kisbetuk\n"
          ],
          "name": "stdout"
        }
      ]
    },
    {
      "cell_type": "code",
      "metadata": {
        "id": "pjuQ2m6sbv7D",
        "colab_type": "code",
        "colab": {},
        "outputId": "29271d27-6be7-4c18-df7d-0dfb27b765d9"
      },
      "source": [
        "print(\"EZEK ITT NAGYBETUK\\rezek itt kisbetuk\")"
      ],
      "execution_count": 0,
      "outputs": [
        {
          "output_type": "stream",
          "text": [
            "EZEK ITT NAGYBETUK\rezek itt kisbetuk\n"
          ],
          "name": "stdout"
        }
      ]
    },
    {
      "cell_type": "code",
      "metadata": {
        "id": "sT1GhzlWbv7G",
        "colab_type": "code",
        "colab": {},
        "outputId": "4155de81-ea09-4beb-c0e0-6083c8b26a95"
      },
      "source": [
        "print(\"EZEK ITT NAGYBETUK\\tezek itt kisbetuk\")"
      ],
      "execution_count": 0,
      "outputs": [
        {
          "output_type": "stream",
          "text": [
            "EZEK ITT NAGYBETUK\tezek itt kisbetuk\n"
          ],
          "name": "stdout"
        }
      ]
    },
    {
      "cell_type": "code",
      "metadata": {
        "id": "hHee6oP3bv7I",
        "colab_type": "code",
        "colab": {},
        "outputId": "05e90a28-7e82-4197-b600-d6425b31be20"
      },
      "source": [
        "print(\"EZEK ITT NAGYBETUK\\nezek itt kisbetuk\")"
      ],
      "execution_count": 0,
      "outputs": [
        {
          "output_type": "stream",
          "text": [
            "EZEK ITT NAGYBETUK\n",
            "ezek itt kisbetuk\n"
          ],
          "name": "stdout"
        }
      ]
    },
    {
      "cell_type": "markdown",
      "metadata": {
        "id": "vKRURUJGbv7J",
        "colab_type": "text"
      },
      "source": [
        "Ezek a karakterek file-ba való írás közben is hasonlóan viselkednek!"
      ]
    },
    {
      "cell_type": "markdown",
      "metadata": {
        "id": "5jDlCQSxbv7J",
        "colab_type": "text"
      },
      "source": [
        "---\n",
        "\n",
        "## Numpy filekezelő rutinok"
      ]
    },
    {
      "cell_type": "markdown",
      "metadata": {
        "id": "8KyeJAorbv7K",
        "colab_type": "text"
      },
      "source": [
        "Amint korábbiakban is láthattuk, a `numpy` csomag `array` típusú változói számos előnyös tulajdonsággal rendelkeznek a sima `list` típusú változókhoz képest. \n",
        "\n",
        "A `numpy` csomag biztosít néhány hasznos filekezelő rutint, melyek az `array` tipusú változók file-ba kiírására, illetve file-okból történő beolvasására használhatóak. Az alábbiakban két érdekes példán keresztül fogjuk megvizsgálni ezeket a függvényeket.\n",
        "\n",
        "\n",
        "Elemezzük Felix Baumgartner ugrásának adatait. \n",
        "Az ugrás megtett út$--$idő adatait a `data/BAUMGARTNER/h_vs_t` file-ban találjuk. \n",
        "\n",
        "A file két oszlopnyi számot tartalmaz. Az első oszlop az idő s-ban, a második oszlop az adott időben mért magasság m-ben. \n",
        "Ilyen jellegű egyszerű struktúrájú file-ok beolvasására és az adatok array-ba való töltésére a `numpy` csomag `loadtxt` függvényét használhatjuk:"
      ]
    },
    {
      "cell_type": "code",
      "metadata": {
        "id": "TbiqsvYPbv7K",
        "colab_type": "code",
        "colab": {}
      },
      "source": [
        "baum_data=loadtxt('h_vs_t.txt')"
      ],
      "execution_count": 0,
      "outputs": []
    },
    {
      "cell_type": "markdown",
      "metadata": {
        "id": "nc-4dNA7bv7L",
        "colab_type": "text"
      },
      "source": [
        "A `baum_data` tömb első oszlopát a a `t` változóba, a második oszlopát pedig a `h` változóba tároljuk:"
      ]
    },
    {
      "cell_type": "code",
      "metadata": {
        "id": "6_HN5rDsbv7M",
        "colab_type": "code",
        "colab": {}
      },
      "source": [
        "t=baum_data[:,0] # idő\n",
        "h=baum_data[:,1] # magasság"
      ],
      "execution_count": 0,
      "outputs": []
    },
    {
      "cell_type": "markdown",
      "metadata": {
        "id": "Z4TtdnzYbv7N",
        "colab_type": "text"
      },
      "source": [
        "Ábrázoljuk az adatokat! A tengelyfeliratok természetesen nem maradhatnak el!"
      ]
    },
    {
      "cell_type": "code",
      "metadata": {
        "id": "rOJq4Rsnbv7N",
        "colab_type": "code",
        "colab": {},
        "outputId": "1696d6e4-0836-42e3-9251-affe62ef142b"
      },
      "source": [
        "plot(t,h)\n",
        "xlabel('Ido [s]')\n",
        "ylabel('Magassag [m]')"
      ],
      "execution_count": 0,
      "outputs": [
        {
          "output_type": "execute_result",
          "data": {
            "text/plain": [
              "Text(0, 0.5, 'Magassag [m]')"
            ]
          },
          "metadata": {
            "tags": []
          },
          "execution_count": 19
        },
        {
          "output_type": "display_data",
          "data": {
            "image/png": "[encoded data removed]",
            "text/plain": [
              "<Figure size 432x288 with 1 Axes>"
            ]
          },
          "metadata": {
            "tags": [],
            "needs_background": "light"
          }
        }
      ]
    },
    {
      "cell_type": "markdown",
      "metadata": {
        "id": "TFrmwBo3bv7O",
        "colab_type": "text"
      },
      "source": [
        "Az ugrással kapcsolatban egy igen fontos kérdés volt, hogy vajon sikerült-e szabadesésben átlépni a hangsebességet? Vizsgáljuk meg, hogy ezen adatok alapján vajon átlépte-e Felix Baumgartner a hanghatárt! Először is szükség van a sebesség időfüggésére. Ezt a magasság$--$idő függvény numerikus deriváltjával fogjuk most meghatározni. \n",
        "Ha egy $y(x)$ függvényt mintavételezésével véges darab $x_i,y_i$ párt kapunk, akkor az $y(x)$ függvény numerikus deriváltját a következő differencia hányadossal közelíthetjük:\n",
        "\n",
        "\n",
        " $$\\left . \\frac{\\mathrm{d}y}{\\mathrm{d}x}\\right|_{x_i} =\\frac{y_{i+1}-y_i}{x_{i+1}-x_i} $$"
      ]
    },
    {
      "cell_type": "markdown",
      "metadata": {
        "id": "wzcT-7k1bv7P",
        "colab_type": "text"
      },
      "source": [
        "Definiáljunk most egy függvényt, mely  két ugyanolyan hosszúságú  tömb `x` és `y` adataiból legenerálja a két tömb numerikus derviáltját. Figyeljük meg, hogy az utolsó és az első adatpontban a fenti képlettől egy kicsit eltérő módon járunk el."
      ]
    },
    {
      "cell_type": "code",
      "metadata": {
        "id": "ASvWLbsCbv7P",
        "colab_type": "code",
        "colab": {}
      },
      "source": [
        "# numerikus derivált függvény\n",
        "def nderiv(y,x):\n",
        "    \"Első szomszéd differenciál\"\n",
        "    n = len(y) # adatpontok száma\n",
        "    d = zeros(n) # változó inicializálás. A zeros() függvény tetszőleges alakú és 0-kat tartalmazó arrayt gyárt\n",
        "    # mivel a legegyszerűbb numerikus differenciálás nem szimmetrikus a végpontokat\n",
        "    # kicsit másképp kezeljük mint a tömb belsejében lévő pontokat\n",
        "    for i in range(1,n-1):\n",
        "        d[i] = (y[i+1]-y[i])/(x[i+1]-x[i])   #egy általános pont deriváltja\n",
        "    d[0] = (y[1]-y[0])/(x[1]-x[0])           #az első pont deriváltja\n",
        "    d[n-1] = (y[n-1]-y[n-2])/(x[n-1]-x[n-2]) # az utolsó pont deriváltja\n",
        "    return d\n"
      ],
      "execution_count": 0,
      "outputs": []
    },
    {
      "cell_type": "markdown",
      "metadata": {
        "id": "7FOP-jDGbv7Q",
        "colab_type": "text"
      },
      "source": [
        "<img  src=\"XA99SXT37G5VNU1K1K8UJRQW04FIOI7A.png\"/>"
      ]
    },
    {
      "cell_type": "markdown",
      "metadata": {
        "id": "DvPOcTf7bv7Q",
        "colab_type": "text"
      },
      "source": [
        "Az nderiv függvény segítségével a sebesség meghatározható."
      ]
    },
    {
      "cell_type": "code",
      "metadata": {
        "id": "mrzctshRbv7R",
        "colab_type": "code",
        "colab": {}
      },
      "source": [
        "v=nderiv(h,t) # Figyelem az első változó a h a második a t!!!"
      ],
      "execution_count": 0,
      "outputs": []
    },
    {
      "cell_type": "markdown",
      "metadata": {
        "id": "zWzEBcwzbv7S",
        "colab_type": "text"
      },
      "source": [
        "Vizsgáljuk meg a sebesség$--$idő függvényt!"
      ]
    },
    {
      "cell_type": "code",
      "metadata": {
        "id": "a0m1Zs21bv7T",
        "colab_type": "code",
        "colab": {},
        "outputId": "66639477-a413-4174-b4e2-eb77d23d06cd"
      },
      "source": [
        "plot(t,v)\n",
        "xlabel('Ido [s]')\n",
        "ylabel('Sebesseg [m/s]')"
      ],
      "execution_count": 0,
      "outputs": [
        {
          "output_type": "execute_result",
          "data": {
            "text/plain": [
              "Text(0, 0.5, 'Sebesseg [m/s]')"
            ]
          },
          "metadata": {
            "tags": []
          },
          "execution_count": 22
        },
        {
          "output_type": "display_data",
          "data": {
            "image/png": "[encoded data removed]",
            "text/plain": [
              "<Figure size 432x288 with 1 Axes>"
            ]
          },
          "metadata": {
            "tags": [],
            "needs_background": "light"
          }
        }
      ]
    },
    {
      "cell_type": "markdown",
      "metadata": {
        "id": "CfcDkUw5bv7X",
        "colab_type": "text"
      },
      "source": [
        "Mivel általában a hang terjedési sebessége függ a magasságtól, ezért annak érdekében, hogy megtudjuk, hogy sikerült-e áttörni a hanghatárt, célszerű a sebességet a magasság függvényében ábrázolni:"
      ]
    },
    {
      "cell_type": "code",
      "metadata": {
        "id": "3s8B74rtbv7X",
        "colab_type": "code",
        "colab": {},
        "outputId": "0ae415a7-71d1-4465-8320-d1d33d03a7f1"
      },
      "source": [
        "plot(h,abs(v))\n",
        "xlabel('Magassag [m]')\n",
        "ylabel('Sebesseg [m/s]')"
      ],
      "execution_count": 0,
      "outputs": [
        {
          "output_type": "execute_result",
          "data": {
            "text/plain": [
              "Text(0, 0.5, 'Sebesseg [m/s]')"
            ]
          },
          "metadata": {
            "tags": []
          },
          "execution_count": 23
        },
        {
          "output_type": "display_data",
          "data": {
            "image/png": "[encoded data removed]",
            "text/plain": [
              "<Figure size 432x288 with 1 Axes>"
            ]
          },
          "metadata": {
            "tags": [],
            "needs_background": "light"
          }
        }
      ]
    },
    {
      "cell_type": "markdown",
      "metadata": {
        "id": "1CCzn3jfbv7a",
        "colab_type": "text"
      },
      "source": [
        "A wikipédián található [adatok](https://upload.wikimedia.org/wikipedia/commons/thumb/9/9d/Comparison_US_standard_atmosphere_1962.svg/2000px-Comparison_US_standard_atmosphere_1962.svg.png) alapján a hangsebesség 25km magasságban valamivel 300 m/s alatt van. Ezen a magasságon Felix sebessége 350 m/s körül mozgott, tehát a rekord - a mérési adatok alapján - sikerült!\n"
      ]
    },
    {
      "cell_type": "markdown",
      "metadata": {
        "id": "GOpg0wxEbv7a",
        "colab_type": "text"
      },
      "source": [
        "Vizsgáljuk meg a `loadtxt()` függvény néhány paraméterét is! Ezt a feladatot a 2014-es ebola járvány statisztikai adatait tartalmazó file segítségével fogjuk megtenni."
      ]
    },
    {
      "cell_type": "markdown",
      "metadata": {
        "id": "ON6nPrhtbv7b",
        "colab_type": "text"
      },
      "source": [
        "Próbáljuk meg betölteni a `'data/EBOLA/ebola_vesszoesszazalekjel.txt'` - filet!"
      ]
    },
    {
      "cell_type": "code",
      "metadata": {
        "id": "Kxdqe2Q9bv7c",
        "colab_type": "code",
        "colab": {},
        "outputId": "a87d9a48-e5fc-41aa-e51a-bad32b959e92"
      },
      "source": [
        "ebola_data=loadtxt('ebola_vesszoesszazalekjel.txt')"
      ],
      "execution_count": 0,
      "outputs": [
        {
          "output_type": "error",
          "ename": "ValueError",
          "evalue": "could not convert string to float: '%'",
          "traceback": [
            "\u001b[1;31m---------------------------------------------------------------------------\u001b[0m",
            "\u001b[1;31mValueError\u001b[0m                                Traceback (most recent call last)",
            "\u001b[1;32m<ipython-input-25-c19be9a7d1b8>\u001b[0m in \u001b[0;36m<module>\u001b[1;34m\u001b[0m\n\u001b[1;32m----> 1\u001b[1;33m \u001b[0mebola_data\u001b[0m\u001b[1;33m=\u001b[0m\u001b[0mloadtxt\u001b[0m\u001b[1;33m(\u001b[0m\u001b[1;34m'ebola_vesszoesszazalekjel.txt'\u001b[0m\u001b[1;33m)\u001b[0m\u001b[1;33m\u001b[0m\u001b[1;33m\u001b[0m\u001b[0m\n\u001b[0m",
            "\u001b[1;32m~\\Anaconda3\\lib\\site-packages\\numpy\\lib\\npyio.py\u001b[0m in \u001b[0;36mloadtxt\u001b[1;34m(fname, dtype, comments, delimiter, converters, skiprows, usecols, unpack, ndmin, encoding, max_rows)\u001b[0m\n\u001b[0;32m   1132\u001b[0m         \u001b[1;31m# converting the data\u001b[0m\u001b[1;33m\u001b[0m\u001b[1;33m\u001b[0m\u001b[1;33m\u001b[0m\u001b[0m\n\u001b[0;32m   1133\u001b[0m         \u001b[0mX\u001b[0m \u001b[1;33m=\u001b[0m \u001b[1;32mNone\u001b[0m\u001b[1;33m\u001b[0m\u001b[1;33m\u001b[0m\u001b[0m\n\u001b[1;32m-> 1134\u001b[1;33m         \u001b[1;32mfor\u001b[0m \u001b[0mx\u001b[0m \u001b[1;32min\u001b[0m \u001b[0mread_data\u001b[0m\u001b[1;33m(\u001b[0m\u001b[0m_loadtxt_chunksize\u001b[0m\u001b[1;33m)\u001b[0m\u001b[1;33m:\u001b[0m\u001b[1;33m\u001b[0m\u001b[1;33m\u001b[0m\u001b[0m\n\u001b[0m\u001b[0;32m   1135\u001b[0m             \u001b[1;32mif\u001b[0m \u001b[0mX\u001b[0m \u001b[1;32mis\u001b[0m \u001b[1;32mNone\u001b[0m\u001b[1;33m:\u001b[0m\u001b[1;33m\u001b[0m\u001b[1;33m\u001b[0m\u001b[0m\n\u001b[0;32m   1136\u001b[0m                 \u001b[0mX\u001b[0m \u001b[1;33m=\u001b[0m \u001b[0mnp\u001b[0m\u001b[1;33m.\u001b[0m\u001b[0marray\u001b[0m\u001b[1;33m(\u001b[0m\u001b[0mx\u001b[0m\u001b[1;33m,\u001b[0m \u001b[0mdtype\u001b[0m\u001b[1;33m)\u001b[0m\u001b[1;33m\u001b[0m\u001b[1;33m\u001b[0m\u001b[0m\n",
            "\u001b[1;32m~\\Anaconda3\\lib\\site-packages\\numpy\\lib\\npyio.py\u001b[0m in \u001b[0;36mread_data\u001b[1;34m(chunk_size)\u001b[0m\n\u001b[0;32m   1059\u001b[0m \u001b[1;33m\u001b[0m\u001b[0m\n\u001b[0;32m   1060\u001b[0m             \u001b[1;31m# Convert each value according to its column and store\u001b[0m\u001b[1;33m\u001b[0m\u001b[1;33m\u001b[0m\u001b[1;33m\u001b[0m\u001b[0m\n\u001b[1;32m-> 1061\u001b[1;33m             \u001b[0mitems\u001b[0m \u001b[1;33m=\u001b[0m \u001b[1;33m[\u001b[0m\u001b[0mconv\u001b[0m\u001b[1;33m(\u001b[0m\u001b[0mval\u001b[0m\u001b[1;33m)\u001b[0m \u001b[1;32mfor\u001b[0m \u001b[1;33m(\u001b[0m\u001b[0mconv\u001b[0m\u001b[1;33m,\u001b[0m \u001b[0mval\u001b[0m\u001b[1;33m)\u001b[0m \u001b[1;32min\u001b[0m \u001b[0mzip\u001b[0m\u001b[1;33m(\u001b[0m\u001b[0mconverters\u001b[0m\u001b[1;33m,\u001b[0m \u001b[0mvals\u001b[0m\u001b[1;33m)\u001b[0m\u001b[1;33m]\u001b[0m\u001b[1;33m\u001b[0m\u001b[1;33m\u001b[0m\u001b[0m\n\u001b[0m\u001b[0;32m   1062\u001b[0m \u001b[1;33m\u001b[0m\u001b[0m\n\u001b[0;32m   1063\u001b[0m             \u001b[1;31m# Then pack it according to the dtype's nesting\u001b[0m\u001b[1;33m\u001b[0m\u001b[1;33m\u001b[0m\u001b[1;33m\u001b[0m\u001b[0m\n",
            "\u001b[1;32m~\\Anaconda3\\lib\\site-packages\\numpy\\lib\\npyio.py\u001b[0m in \u001b[0;36m<listcomp>\u001b[1;34m(.0)\u001b[0m\n\u001b[0;32m   1059\u001b[0m \u001b[1;33m\u001b[0m\u001b[0m\n\u001b[0;32m   1060\u001b[0m             \u001b[1;31m# Convert each value according to its column and store\u001b[0m\u001b[1;33m\u001b[0m\u001b[1;33m\u001b[0m\u001b[1;33m\u001b[0m\u001b[0m\n\u001b[1;32m-> 1061\u001b[1;33m             \u001b[0mitems\u001b[0m \u001b[1;33m=\u001b[0m \u001b[1;33m[\u001b[0m\u001b[0mconv\u001b[0m\u001b[1;33m(\u001b[0m\u001b[0mval\u001b[0m\u001b[1;33m)\u001b[0m \u001b[1;32mfor\u001b[0m \u001b[1;33m(\u001b[0m\u001b[0mconv\u001b[0m\u001b[1;33m,\u001b[0m \u001b[0mval\u001b[0m\u001b[1;33m)\u001b[0m \u001b[1;32min\u001b[0m \u001b[0mzip\u001b[0m\u001b[1;33m(\u001b[0m\u001b[0mconverters\u001b[0m\u001b[1;33m,\u001b[0m \u001b[0mvals\u001b[0m\u001b[1;33m)\u001b[0m\u001b[1;33m]\u001b[0m\u001b[1;33m\u001b[0m\u001b[1;33m\u001b[0m\u001b[0m\n\u001b[0m\u001b[0;32m   1062\u001b[0m \u001b[1;33m\u001b[0m\u001b[0m\n\u001b[0;32m   1063\u001b[0m             \u001b[1;31m# Then pack it according to the dtype's nesting\u001b[0m\u001b[1;33m\u001b[0m\u001b[1;33m\u001b[0m\u001b[1;33m\u001b[0m\u001b[0m\n",
            "\u001b[1;32m~\\Anaconda3\\lib\\site-packages\\numpy\\lib\\npyio.py\u001b[0m in \u001b[0;36mfloatconv\u001b[1;34m(x)\u001b[0m\n\u001b[0;32m    766\u001b[0m         \u001b[1;32mif\u001b[0m \u001b[1;34m'0x'\u001b[0m \u001b[1;32min\u001b[0m \u001b[0mx\u001b[0m\u001b[1;33m:\u001b[0m\u001b[1;33m\u001b[0m\u001b[1;33m\u001b[0m\u001b[0m\n\u001b[0;32m    767\u001b[0m             \u001b[1;32mreturn\u001b[0m \u001b[0mfloat\u001b[0m\u001b[1;33m.\u001b[0m\u001b[0mfromhex\u001b[0m\u001b[1;33m(\u001b[0m\u001b[0mx\u001b[0m\u001b[1;33m)\u001b[0m\u001b[1;33m\u001b[0m\u001b[1;33m\u001b[0m\u001b[0m\n\u001b[1;32m--> 768\u001b[1;33m         \u001b[1;32mreturn\u001b[0m \u001b[0mfloat\u001b[0m\u001b[1;33m(\u001b[0m\u001b[0mx\u001b[0m\u001b[1;33m)\u001b[0m\u001b[1;33m\u001b[0m\u001b[1;33m\u001b[0m\u001b[0m\n\u001b[0m\u001b[0;32m    769\u001b[0m \u001b[1;33m\u001b[0m\u001b[0m\n\u001b[0;32m    770\u001b[0m     \u001b[0mtyp\u001b[0m \u001b[1;33m=\u001b[0m \u001b[0mdtype\u001b[0m\u001b[1;33m.\u001b[0m\u001b[0mtype\u001b[0m\u001b[1;33m\u001b[0m\u001b[1;33m\u001b[0m\u001b[0m\n",
            "\u001b[1;31mValueError\u001b[0m: could not convert string to float: '%'"
          ]
        }
      ]
    },
    {
      "cell_type": "markdown",
      "metadata": {
        "id": "85p67cLKbv7d",
        "colab_type": "text"
      },
      "source": [
        "A szemfüles halgatók talán sikeresen ki tudják bogozni a fenti hibaüzenetet: \n",
        "\n",
        "*A '%' jelet nem tudom számmá konvertálni!*\n",
        "\n",
        "Ha megvizsgáljuk magát a file-t, akkor láthatjuk, hogy a napfoltadatoktól eltérő módon itt az adatokat szolgáltató személy a legtöbbször alkalmazott '#'-jel helyett a '%'-ot alkalmazta! Jelezzük ezt a függvénynek a `comments='%'` kapcsoló segítségével!"
      ]
    },
    {
      "cell_type": "code",
      "metadata": {
        "id": "gShFsEI-bv7e",
        "colab_type": "code",
        "colab": {},
        "outputId": "98259a3e-0787-45f3-c0ab-0549f590ee0c"
      },
      "source": [
        "ebola_data=loadtxt('ebola_vesszoesszazalekjel.txt',comments='%')"
      ],
      "execution_count": 0,
      "outputs": [
        {
          "output_type": "error",
          "ename": "ValueError",
          "evalue": "could not convert string to float: '0,'",
          "traceback": [
            "\u001b[1;31m---------------------------------------------------------------------------\u001b[0m",
            "\u001b[1;31mValueError\u001b[0m                                Traceback (most recent call last)",
            "\u001b[1;32m<ipython-input-26-ac8adffd9fb5>\u001b[0m in \u001b[0;36m<module>\u001b[1;34m\u001b[0m\n\u001b[1;32m----> 1\u001b[1;33m \u001b[0mebola_data\u001b[0m\u001b[1;33m=\u001b[0m\u001b[0mloadtxt\u001b[0m\u001b[1;33m(\u001b[0m\u001b[1;34m'ebola_vesszoesszazalekjel.txt'\u001b[0m\u001b[1;33m,\u001b[0m\u001b[0mcomments\u001b[0m\u001b[1;33m=\u001b[0m\u001b[1;34m'%'\u001b[0m\u001b[1;33m)\u001b[0m\u001b[1;33m\u001b[0m\u001b[1;33m\u001b[0m\u001b[0m\n\u001b[0m",
            "\u001b[1;32m~\\Anaconda3\\lib\\site-packages\\numpy\\lib\\npyio.py\u001b[0m in \u001b[0;36mloadtxt\u001b[1;34m(fname, dtype, comments, delimiter, converters, skiprows, usecols, unpack, ndmin, encoding, max_rows)\u001b[0m\n\u001b[0;32m   1132\u001b[0m         \u001b[1;31m# converting the data\u001b[0m\u001b[1;33m\u001b[0m\u001b[1;33m\u001b[0m\u001b[1;33m\u001b[0m\u001b[0m\n\u001b[0;32m   1133\u001b[0m         \u001b[0mX\u001b[0m \u001b[1;33m=\u001b[0m \u001b[1;32mNone\u001b[0m\u001b[1;33m\u001b[0m\u001b[1;33m\u001b[0m\u001b[0m\n\u001b[1;32m-> 1134\u001b[1;33m         \u001b[1;32mfor\u001b[0m \u001b[0mx\u001b[0m \u001b[1;32min\u001b[0m \u001b[0mread_data\u001b[0m\u001b[1;33m(\u001b[0m\u001b[0m_loadtxt_chunksize\u001b[0m\u001b[1;33m)\u001b[0m\u001b[1;33m:\u001b[0m\u001b[1;33m\u001b[0m\u001b[1;33m\u001b[0m\u001b[0m\n\u001b[0m\u001b[0;32m   1135\u001b[0m             \u001b[1;32mif\u001b[0m \u001b[0mX\u001b[0m \u001b[1;32mis\u001b[0m \u001b[1;32mNone\u001b[0m\u001b[1;33m:\u001b[0m\u001b[1;33m\u001b[0m\u001b[1;33m\u001b[0m\u001b[0m\n\u001b[0;32m   1136\u001b[0m                 \u001b[0mX\u001b[0m \u001b[1;33m=\u001b[0m \u001b[0mnp\u001b[0m\u001b[1;33m.\u001b[0m\u001b[0marray\u001b[0m\u001b[1;33m(\u001b[0m\u001b[0mx\u001b[0m\u001b[1;33m,\u001b[0m \u001b[0mdtype\u001b[0m\u001b[1;33m)\u001b[0m\u001b[1;33m\u001b[0m\u001b[1;33m\u001b[0m\u001b[0m\n",
            "\u001b[1;32m~\\Anaconda3\\lib\\site-packages\\numpy\\lib\\npyio.py\u001b[0m in \u001b[0;36mread_data\u001b[1;34m(chunk_size)\u001b[0m\n\u001b[0;32m   1059\u001b[0m \u001b[1;33m\u001b[0m\u001b[0m\n\u001b[0;32m   1060\u001b[0m             \u001b[1;31m# Convert each value according to its column and store\u001b[0m\u001b[1;33m\u001b[0m\u001b[1;33m\u001b[0m\u001b[1;33m\u001b[0m\u001b[0m\n\u001b[1;32m-> 1061\u001b[1;33m             \u001b[0mitems\u001b[0m \u001b[1;33m=\u001b[0m \u001b[1;33m[\u001b[0m\u001b[0mconv\u001b[0m\u001b[1;33m(\u001b[0m\u001b[0mval\u001b[0m\u001b[1;33m)\u001b[0m \u001b[1;32mfor\u001b[0m \u001b[1;33m(\u001b[0m\u001b[0mconv\u001b[0m\u001b[1;33m,\u001b[0m \u001b[0mval\u001b[0m\u001b[1;33m)\u001b[0m \u001b[1;32min\u001b[0m \u001b[0mzip\u001b[0m\u001b[1;33m(\u001b[0m\u001b[0mconverters\u001b[0m\u001b[1;33m,\u001b[0m \u001b[0mvals\u001b[0m\u001b[1;33m)\u001b[0m\u001b[1;33m]\u001b[0m\u001b[1;33m\u001b[0m\u001b[1;33m\u001b[0m\u001b[0m\n\u001b[0m\u001b[0;32m   1062\u001b[0m \u001b[1;33m\u001b[0m\u001b[0m\n\u001b[0;32m   1063\u001b[0m             \u001b[1;31m# Then pack it according to the dtype's nesting\u001b[0m\u001b[1;33m\u001b[0m\u001b[1;33m\u001b[0m\u001b[1;33m\u001b[0m\u001b[0m\n",
            "\u001b[1;32m~\\Anaconda3\\lib\\site-packages\\numpy\\lib\\npyio.py\u001b[0m in \u001b[0;36m<listcomp>\u001b[1;34m(.0)\u001b[0m\n\u001b[0;32m   1059\u001b[0m \u001b[1;33m\u001b[0m\u001b[0m\n\u001b[0;32m   1060\u001b[0m             \u001b[1;31m# Convert each value according to its column and store\u001b[0m\u001b[1;33m\u001b[0m\u001b[1;33m\u001b[0m\u001b[1;33m\u001b[0m\u001b[0m\n\u001b[1;32m-> 1061\u001b[1;33m             \u001b[0mitems\u001b[0m \u001b[1;33m=\u001b[0m \u001b[1;33m[\u001b[0m\u001b[0mconv\u001b[0m\u001b[1;33m(\u001b[0m\u001b[0mval\u001b[0m\u001b[1;33m)\u001b[0m \u001b[1;32mfor\u001b[0m \u001b[1;33m(\u001b[0m\u001b[0mconv\u001b[0m\u001b[1;33m,\u001b[0m \u001b[0mval\u001b[0m\u001b[1;33m)\u001b[0m \u001b[1;32min\u001b[0m \u001b[0mzip\u001b[0m\u001b[1;33m(\u001b[0m\u001b[0mconverters\u001b[0m\u001b[1;33m,\u001b[0m \u001b[0mvals\u001b[0m\u001b[1;33m)\u001b[0m\u001b[1;33m]\u001b[0m\u001b[1;33m\u001b[0m\u001b[1;33m\u001b[0m\u001b[0m\n\u001b[0m\u001b[0;32m   1062\u001b[0m \u001b[1;33m\u001b[0m\u001b[0m\n\u001b[0;32m   1063\u001b[0m             \u001b[1;31m# Then pack it according to the dtype's nesting\u001b[0m\u001b[1;33m\u001b[0m\u001b[1;33m\u001b[0m\u001b[1;33m\u001b[0m\u001b[0m\n",
            "\u001b[1;32m~\\Anaconda3\\lib\\site-packages\\numpy\\lib\\npyio.py\u001b[0m in \u001b[0;36mfloatconv\u001b[1;34m(x)\u001b[0m\n\u001b[0;32m    766\u001b[0m         \u001b[1;32mif\u001b[0m \u001b[1;34m'0x'\u001b[0m \u001b[1;32min\u001b[0m \u001b[0mx\u001b[0m\u001b[1;33m:\u001b[0m\u001b[1;33m\u001b[0m\u001b[1;33m\u001b[0m\u001b[0m\n\u001b[0;32m    767\u001b[0m             \u001b[1;32mreturn\u001b[0m \u001b[0mfloat\u001b[0m\u001b[1;33m.\u001b[0m\u001b[0mfromhex\u001b[0m\u001b[1;33m(\u001b[0m\u001b[0mx\u001b[0m\u001b[1;33m)\u001b[0m\u001b[1;33m\u001b[0m\u001b[1;33m\u001b[0m\u001b[0m\n\u001b[1;32m--> 768\u001b[1;33m         \u001b[1;32mreturn\u001b[0m \u001b[0mfloat\u001b[0m\u001b[1;33m(\u001b[0m\u001b[0mx\u001b[0m\u001b[1;33m)\u001b[0m\u001b[1;33m\u001b[0m\u001b[1;33m\u001b[0m\u001b[0m\n\u001b[0m\u001b[0;32m    769\u001b[0m \u001b[1;33m\u001b[0m\u001b[0m\n\u001b[0;32m    770\u001b[0m     \u001b[0mtyp\u001b[0m \u001b[1;33m=\u001b[0m \u001b[0mdtype\u001b[0m\u001b[1;33m.\u001b[0m\u001b[0mtype\u001b[0m\u001b[1;33m\u001b[0m\u001b[1;33m\u001b[0m\u001b[0m\n",
            "\u001b[1;31mValueError\u001b[0m: could not convert string to float: '0,'"
          ]
        }
      ]
    },
    {
      "cell_type": "markdown",
      "metadata": {
        "id": "wyrlwzSVbv7g",
        "colab_type": "text"
      },
      "source": [
        "Ismét hiba üzenet:\n",
        "\n",
        " *a '0,' karakterláncot nem tudom számmá konvertálni !*\n",
        " \n",
        "Ha megnézzük a file-t akkor láthatjuk hogy most szóközök helyett az oszlopok bizony vesszővel, azaz a `','`-karakterrel vannak elválasztva! Jelezzük ezt a függvénynek a `delimiter=','` kapcsoló segítségével!"
      ]
    },
    {
      "cell_type": "code",
      "metadata": {
        "id": "WCJvb-8Xbv7h",
        "colab_type": "code",
        "colab": {}
      },
      "source": [
        "ebola_data=loadtxt('ebola_vesszoesszazalekjel.txt',comments='%',delimiter=',')"
      ],
      "execution_count": 0,
      "outputs": []
    },
    {
      "cell_type": "markdown",
      "metadata": {
        "id": "W3t6-oWGbv7i",
        "colab_type": "text"
      },
      "source": [
        "Így most már be tudtuk tölteni a file-t!"
      ]
    },
    {
      "cell_type": "markdown",
      "metadata": {
        "id": "jDPvk0Rcbv7i",
        "colab_type": "text"
      },
      "source": [
        "A `usecols` és az `unpack` kulcsszavak segítségével specifikálhatjuk azt, hogy melyik oszlopokra vagyunk kíváncsiak, illetve hogy kicsomagolható formában térjen vissza a függvény.\n",
        "Beleolvasva szemmel a file-ba felvilágosítást kaphatunk, hogy melyik oszlopban milyen adat szerepel.\n",
        "Az alábbi minta például a `Nap,GuinLab,LibLab,NigLab,SLLab` és `SenLab` tömbökbe tölti be az országonkénti laboratóriumban kivizsgált megbetegedések számát, illetve a járvány kitörése óta eltelt napok számát."
      ]
    },
    {
      "cell_type": "code",
      "metadata": {
        "id": "w8AI8iGsbv7j",
        "colab_type": "code",
        "colab": {}
      },
      "source": [
        "Nap,GuinLab,LibLab,NigLab,SLLab,SenLab=loadtxt('data/EBOLA/ebola_vesszoesszazalekjel.txt',\n",
        "                                               comments='%',\n",
        "                                               usecols=(0,3,6,9,12,15),\n",
        "                                               unpack=True,\n",
        "                                               delimiter=',')"
      ],
      "execution_count": 0,
      "outputs": []
    },
    {
      "cell_type": "markdown",
      "metadata": {
        "id": "5D1kSEPsbv7k",
        "colab_type": "text"
      },
      "source": [
        "Ábrázoljuk a fenti adatok közzül a Guineában vizsgált fertőzések számát az idő függvényében:"
      ]
    },
    {
      "cell_type": "code",
      "metadata": {
        "id": "IAWjp9XZbv7k",
        "colab_type": "code",
        "colab": {},
        "outputId": "c34d401b-6f30-479f-abcb-3c325a4ff468"
      },
      "source": [
        "plot(Nap,GuinLab)\n",
        "xlabel('Nap')\n",
        "ylabel('Esetek szama')"
      ],
      "execution_count": 0,
      "outputs": [
        {
          "output_type": "execute_result",
          "data": {
            "text/plain": [
              "<matplotlib.text.Text at 0x7f56fd205d30>"
            ]
          },
          "metadata": {
            "tags": []
          },
          "execution_count": 59
        },
        {
          "output_type": "display_data",
          "data": {
            "image/png": "[encoded data removed]",
            "text/plain": [
              "<matplotlib.figure.Figure at 0x7f56fd6358d0>"
            ]
          },
          "metadata": {
            "tags": []
          }
        }
      ]
    },
    {
      "cell_type": "markdown",
      "metadata": {
        "id": "4fYrBw_Ubv7l",
        "colab_type": "text"
      },
      "source": [
        "A már korábban megismert `savetxt()` függvény segítségével tölthetjük a feldolgozott `array` formátumú változókat file-ba:"
      ]
    },
    {
      "cell_type": "code",
      "metadata": {
        "id": "olD66jm4bv7l",
        "colab_type": "code",
        "colab": {}
      },
      "source": [
        "savetxt('data/mentes_ebola_Guinea.dat',GuinLab)"
      ],
      "execution_count": 0,
      "outputs": []
    },
    {
      "cell_type": "markdown",
      "metadata": {
        "id": "rpGY2tWObv7n",
        "colab_type": "text"
      },
      "source": [
        "A `savetxt()` a `loadtxt()` hez hasonlóan számos kulcsszavas paraméterrel bír. Ezek közül az alábbi példában bemutatjuk a `header=` és a `comments=` paraméterek használatát.\n",
        "Az alábbi példa azt is illusztrálja, hogy ha ugyanolyan hosszúságú adatokat akarunk egymás melletti oszlopokba írni akkor azokat zárójelben egymás után felsorolva tehetjük meg:"
      ]
    },
    {
      "cell_type": "code",
      "metadata": {
        "id": "fF3P4JqRbv7n",
        "colab_type": "code",
        "colab": {}
      },
      "source": [
        "savetxt('data/mentes_ebola_Guinea_vs_time.dat',\n",
        "        (Nap,GuinLab),\n",
        "        header=' Guineai halalozasi adatok',\n",
        "        comments='@')"
      ],
      "execution_count": 0,
      "outputs": []
    }
  ]
}