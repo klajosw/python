{
  "cells": [
    {
      "cell_type": "markdown",
      "metadata": {
        "id": "view-in-github",
        "colab_type": "text"
      },
      "source": [
        "<a href=\"https://colab.research.google.com/github/klajosw/python/blob/master/kl_py_xls_nap.ipynb\" target=\"_parent\"><img src=\"https://colab.research.google.com/assets/colab-badge.svg\" alt=\"Open In Colab\"/></a>"
      ]
    },
    {
      "cell_type": "markdown",
      "id": "91c57de4",
      "metadata": {
        "id": "91c57de4"
      },
      "source": [
        "---\n",
        "\n",
        "# Solplanet forras feldolgozás Python alatt\n",
        "\n",
        "\n",
        "## Használt csomagok:\n",
        "\n",
        "\n",
        "json, matplotlib, pandas\n",
        "\n",
        "\n",
        "\n",
        "\n",
        "Python csomagok helye\n",
        "https://pypi.org\n",
        "\n",
        "\n",
        "---\n"
      ]
    },
    {
      "cell_type": "code",
      "execution_count": null,
      "id": "452b0c3b",
      "metadata": {
        "scrolled": false,
        "id": "452b0c3b"
      },
      "outputs": [],
      "source": [
        "import datetime\n",
        "import pandas as pd\n",
        "import warnings\n",
        "import datetime as dt\n",
        "from matplotlib import pyplot as plt\n",
        "warnings.filterwarnings(\"ignore\")\n",
        "\n",
        "plt.rcParams['figure.figsize'] = [12, 5] ## diagram megjelenítés mértezés\n",
        "\n",
        "kl_file =r'c:\\Users\\kecskemetil\\Documents\\sj\\napelem\\solplanet_napok\\Daily Energy20230'\n",
        "\n",
        "\n",
        "kl_tartalom  = pd.read_excel(kl_file +'201.xls')  ## 02.01. betöltés\n",
        "## ciklus olvasás a napokra\n",
        "for i in range(202,217):                          ## 02.02-02.16. betöltés\n",
        "    kl_file2 = kl_file + '{}.xls'.format(i)\n",
        "    kl_tmp = pd.read_excel(kl_file + '{}.xls'.format(i))\n",
        "    kl_tartalom = kl_tartalom.append(kl_tmp, ignore_index = True)\n",
        "    \n",
        "##  dátumtipusra alakítás\n",
        "kl_tartalom[\"Time\"] = pd.to_datetime(kl_tartalom[\"Time\"],format= \"%Y-%m-%d %H:%M:%S\")\n",
        "                           \n",
        "## dátum kiválasztás (szűrés)\n",
        "kl_tartalom.query(\"Time >= '2023-02-16 14' and Time < '2023-02-17'\", inplace = True)  ## [128 rows x 5 columns]\n",
        "#kl_tartalom = kl_tartalom[(kl_tartalom['Time'] > \"2023-02-16\") & (kl_tartalom['Time'] < \"2023-02-17\")] \n",
        "#kl_tartalom = kl_tartalom[kl_tartalom['Time'].dt.strftime('%Y-%m-%d') == '2023-02-16']\n",
        "\n",
        "## felesleges mezők kihagyása\n",
        "kl_tartalom.drop(labels=['SN.','Vpv1', 'Vpv2','Ipv1','Ipv2', \n",
        "'Vac1', 'Vac2', 'Vac3', 'Iac1', 'Iac2', 'Iac3','Fac','Temp','E-Total', 'H-Total'], axis=1, inplace=True)\n",
        "\n",
        "## idő kimetszése\n",
        "#kl_tartalom[\"Time2\"] = kl_tartalom[\"Time\"].dt.time\n",
        "#kl_tartalom[\"Time2\"] = kl_tartalom[\"Time\"].dt.hour\n",
        "kl_tartalom[\"Time\"] = kl_tartalom[\"Time\"].dt.strftime('%H:%M')\n",
        "      \n",
        "## mezők kiválasztása megjelenítésnél\n",
        "#print(kl_tartalom[['Time', 'Pac','E-Today']])\n",
        "\n",
        "kl_tartalom = kl_tartalom.set_index('Time')\n",
        "\n",
        "kl_tartalom['Pac'].plot(kind=\"bar\")\n",
        "plt.title(\"Napelem termelés\")\n",
        "plt.xlabel(\"Dátum\")\n",
        "plt.ylabel(\"Pac (Wh)\")\n",
        "\n",
        "#kl_tartalom.plot(kind=\"bar\")\n",
        "print(kl_tartalom)\n",
        "\n",
        "kl_tartalom.to_excel(r'c:\\Users\\kecskemetil\\Documents\\sj\\napelem\\solplanet_napok\\osszes_solplanet.xlsx', index=False, sheet_name='forras')\n"
      ]
    },
    {
      "cell_type": "code",
      "execution_count": null,
      "id": "0d83f70d",
      "metadata": {
        "id": "0d83f70d",
        "outputId": "8f24c8ac-913a-4ed1-e017-af6f5d446747"
      },
      "outputs": [
        {
          "name": "stdout",
          "output_type": "stream",
          "text": [
            "b'{\"flg\":1,\"tim\":\"20230218151822\",\"tmp\":382,\"fac\":4999,\"pac\":683,\"sac\":683,\"qac\":0,\"eto\":4420,\"etd\":197,\"hto\":185,\"pf\":83,\"wan\":0,\"err\":0,\"vac\":[2351,2350,2289],\"iac\":[11,11,11],\"vpv\":[4755,3633],\"ipv\":[83,76],\"str\":[]}'\n"
          ]
        }
      ],
      "source": [
        "from urllib.request import urlopen\n",
        "from bs4 import BeautifulSoup\n",
        "\n",
        "url = \"http://192.168.0.101:8484/getdevdata.cgi?device=2&sn=SP00106032280241\"\n",
        "html = urlopen(url).read()\n",
        "#soup = BeautifulSoup(html, features=\"html.parser\")\n",
        "print(html)"
      ]
    },
    {
      "cell_type": "code",
      "execution_count": null,
      "id": "992f2b7c",
      "metadata": {
        "id": "992f2b7c",
        "outputId": "13c74050-df3a-4839-cc4c-f414a0915a2f"
      },
      "outputs": [
        {
          "name": "stdout",
          "output_type": "stream",
          "text": [
            "A mai (2023.02.18) termelés: 20.2 KWh \n",
            "és a pillanatnyi (16:01:32 -kor) termelés: 533 Wh\n",
            "\n",
            "------------------------------------------------------------\n",
            "flg 1\n",
            "tim 20230218160132\n",
            "tmp 372\n",
            "fac 5005\n",
            "pac 533\n",
            "sac 533\n",
            "qac 0\n",
            "eto 4425\n",
            "etd 202\n",
            "hto 186\n",
            "pf 77\n",
            "wan 0\n",
            "err 0\n",
            "vac [2352, 2313, 2270]\n",
            "iac [9, 9, 10]\n",
            "vpv [4621, 3642]\n",
            "ipv [67, 59]\n",
            "str []\n"
          ]
        }
      ],
      "source": [
        "import urllib.request, json \n",
        "## beolvasás\n",
        "with urllib.request.urlopen(\"http://192.168.0.101:8484/getdevdata.cgi?device=2&sn=SP00106032280241\") as url:\n",
        "    data = json.load(url)\n",
        "\n",
        "\n",
        "## állományba írás\n",
        "with open(r\"c:\\Users\\User\\Documents\\kl\\napelem\\kl_blog\\java\\kl_kesz_py_2023-02-18.json\", \"w\") as outfile:\n",
        "    json.dump(data, outfile)\n",
        "\n",
        "## formázott megjelenítés\n",
        "print(f\"\"\"A mai ({data['tim'][0:4]}.{data['tim'][4:6]}.{data['tim'][6:8]}) termelés: {data['etd']/10:04.1f} KWh \n",
        "és a pillanatnyi ({data['tim'][8:10]}:{data['tim'][10:12]}:{data['tim'][12:14]} -kor) termelés: {data['pac']} Wh\n",
        "\"\"\")\n",
        "\n",
        "## csoportos megjelenítés\n",
        "print('-'*60)\n",
        "for key, value in data.items():\n",
        "    print(key, value)"
      ]
    },
    {
      "cell_type": "code",
      "execution_count": null,
      "id": "8b173d5f",
      "metadata": {
        "id": "8b173d5f"
      },
      "outputs": [],
      "source": []
    }
  ],
  "metadata": {
    "kernelspec": {
      "display_name": "Python 3",
      "language": "python",
      "name": "python3"
    },
    "language_info": {
      "codemirror_mode": {
        "name": "ipython",
        "version": 3
      },
      "file_extension": ".py",
      "mimetype": "text/x-python",
      "name": "python",
      "nbconvert_exporter": "python",
      "pygments_lexer": "ipython3",
      "version": "3.8.8"
    },
    "colab": {
      "provenance": [],
      "include_colab_link": true
    }
  },
  "nbformat": 4,
  "nbformat_minor": 5
}