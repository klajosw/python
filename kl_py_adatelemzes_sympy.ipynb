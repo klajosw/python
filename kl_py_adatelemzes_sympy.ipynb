{
  "nbformat": 4,
  "nbformat_minor": 0,
  "metadata": {
    "anaconda-cloud": {},
    "hide_input": false,
    "kernelspec": {
      "display_name": "Python 3",
      "language": "python",
      "name": "python3"
    },
    "language_info": {
      "codemirror_mode": {
        "name": "ipython",
        "version": 3
      },
      "file_extension": ".py",
      "mimetype": "text/x-python",
      "name": "python",
      "nbconvert_exporter": "python",
      "pygments_lexer": "ipython3",
      "version": "3.7.4"
    },
    "name": "analitikus.ipynb",
    "colab": {
      "name": "kl_py_adatelemzes_sympy.ipynb",
      "provenance": [],
      "collapsed_sections": [],
      "include_colab_link": true
    }
  },
  "cells": [
    {
      "cell_type": "markdown",
      "metadata": {
        "id": "view-in-github",
        "colab_type": "text"
      },
      "source": [
        "<a href=\"https://colab.research.google.com/github/klajosw/python/blob/master/kl_py_adatelemzes_sympy.ipynb\" target=\"_parent\"><img src=\"https://colab.research.google.com/assets/colab-badge.svg\" alt=\"Open In Colab\"/></a>"
      ]
    },
    {
      "cell_type": "markdown",
      "metadata": {
        "id": "Vse69Ch3ZAY5",
        "colab_type": "text"
      },
      "source": [
        "# Ismerkedés a [sympy](www.sympy.org) modullal\n",
        "\n",
        "Számos kereskedelmi ([Mathematica](https://www.wolfram.com/mathematica/), [Maple](http://www.maplesoft.com/products/maple/)) számítógépes algebrai csomag létezik már, melyek bonyolult analitikus formulamanipulációs készséggel rendelkeznek. A sympy csomag egy ingyenes Python-könyvtár, ami lassan használható alternatívát kínál kereskedelmi vetélytársaival szemben. Ebben a notebookban néhány sympy függvénnyel fogunk megismerkedni. **Fontos** megjegyezni hogy mivel van pár, a `sympy` függvényeihez hasonló nevű függvény a `pylab` parancs által importált modulokban, ezért a kellemetlenségek elkerülése végett célszerű mindig külön notebookot indítani a `sympy`-os problémák megoldásánál!"
      ]
    },
    {
      "cell_type": "code",
      "metadata": {
        "id": "YPguq0UQZAY7",
        "colab_type": "code",
        "colab": {}
      },
      "source": [
        "from sympy import * # a sympy csomag rutinjainak betöltése\n",
        "init_printing()     # szép kimenet  "
      ],
      "execution_count": 0,
      "outputs": []
    },
    {
      "cell_type": "markdown",
      "metadata": {
        "id": "bm17YQSrZAY-",
        "colab_type": "text"
      },
      "source": [
        "## Változók, egyenletek és egyenletrendszerek megoldása\n",
        "Ahhoz, hogy változókat szimbolikusan is manipulálni tudjunk, meg kell mondanunk a Pythonnak, hogy ezentúl tekintsen a változónkra mint valamilyen matematikai formulában előforduló szimbólumra. Ezt a legegyszerűbben így tehetjük meg:"
      ]
    },
    {
      "cell_type": "code",
      "metadata": {
        "id": "cb4cMMcOZAY-",
        "colab_type": "code",
        "colab": {}
      },
      "source": [
        "x=symbols('x')"
      ],
      "execution_count": 0,
      "outputs": []
    },
    {
      "cell_type": "markdown",
      "metadata": {
        "id": "eb6x7adiZAZA",
        "colab_type": "text"
      },
      "source": [
        "Ezek után az $x$ változót használhatjuk szimbolikus számításokra. Oldjuk meg például a következő egyszerű egyenletet: $$3x=5$$\n",
        "Ezt a `solve` függvény segítségével tehetjük meg. A `solve` függvény első bementete a megoldandó egyenlet 0-ra rendezve, a második pedig a keresett változó:"
      ]
    },
    {
      "cell_type": "code",
      "metadata": {
        "id": "YgxuQkmAZAZB",
        "colab_type": "code",
        "colab": {},
        "outputId": "dbf5bbe8-480a-4bb0-f5b4-e7626e98059a"
      },
      "source": [
        "solve(3*x-5,x)"
      ],
      "execution_count": 0,
      "outputs": [
        {
          "output_type": "execute_result",
          "data": {
            "image/png": "[encoded data removed]",
            "text/latex": "$$\\left [ \\frac{5}{3}\\right ]$$",
            "text/plain": [
              "[5/3]"
            ]
          },
          "metadata": {
            "tags": []
          },
          "execution_count": 3
        }
      ]
    },
    {
      "cell_type": "markdown",
      "metadata": {
        "id": "Bl_5KJFMZAZE",
        "colab_type": "text"
      },
      "source": [
        "Definiáljunk náhány további változót is!"
      ]
    },
    {
      "cell_type": "code",
      "metadata": {
        "id": "lkZtZmQ8ZAZE",
        "colab_type": "code",
        "colab": {}
      },
      "source": [
        "y,z,a,b,c=symbols('y,z,a,b,c') # Így definiálunk egyszerre több változót"
      ],
      "execution_count": 0,
      "outputs": []
    },
    {
      "cell_type": "markdown",
      "metadata": {
        "id": "De7v6IAPZAZG",
        "colab_type": "text"
      },
      "source": [
        "Oldjuk meg most az $$a x+b=y$$ egyenletet $x$ -re!"
      ]
    },
    {
      "cell_type": "code",
      "metadata": {
        "id": "2FmjSqLXZAZH",
        "colab_type": "code",
        "colab": {},
        "outputId": "21228715-1f2d-4d09-a6be-ff7d2a0f8647"
      },
      "source": [
        "solve(a*x+b-y,x)"
      ],
      "execution_count": 0,
      "outputs": [
        {
          "output_type": "execute_result",
          "data": {
            "image/png": "[encoded data removed]",
            "text/latex": "$$\\left [ \\frac{1}{a} \\left(- b + y\\right)\\right ]$$",
            "text/plain": [
              "⎡-b + y⎤\n",
              "⎢──────⎥\n",
              "⎣  a   ⎦"
            ]
          },
          "metadata": {
            "tags": []
          },
          "execution_count": 5
        }
      ]
    },
    {
      "cell_type": "markdown",
      "metadata": {
        "id": "xk42fGxjZAZJ",
        "colab_type": "text"
      },
      "source": [
        "Ha több megoldása is van az egyenletnek, akkor a `sympy` `solve` függvénye lehetőség szerint mind a kettőt megtalálja. Jól mutatja ezt a másodfokú egyenlet megoldásának \"megtalálása\":"
      ]
    },
    {
      "cell_type": "code",
      "metadata": {
        "id": "oq6vmJi1ZAZK",
        "colab_type": "code",
        "colab": {},
        "outputId": "4176865b-0850-4181-fca9-49a94f78d5e2"
      },
      "source": [
        "solve(a*x**2+b*x+c,x)"
      ],
      "execution_count": 0,
      "outputs": [
        {
          "output_type": "execute_result",
          "data": {
            "image/png": "[encoded data removed]",
            "text/latex": "$$\\left [ \\frac{1}{2 a} \\left(- b + \\sqrt{- 4 a c + b^{2}}\\right), \\quad - \\frac{1}{2 a} \\left(b + \\sqrt{- 4 a c + b^{2}}\\right)\\right ]$$",
            "text/plain": [
              "⎡        _____________   ⎛       _____________⎞ ⎤\n",
              "⎢       ╱           2    ⎜      ╱           2 ⎟ ⎥\n",
              "⎢-b + ╲╱  -4⋅a⋅c + b    -⎝b + ╲╱  -4⋅a⋅c + b  ⎠ ⎥\n",
              "⎢─────────────────────, ────────────────────────⎥\n",
              "⎣         2⋅a                     2⋅a           ⎦"
            ]
          },
          "metadata": {
            "tags": []
          },
          "execution_count": 6
        }
      ]
    },
    {
      "cell_type": "markdown",
      "metadata": {
        "id": "QeoLgpvrZAZM",
        "colab_type": "text"
      },
      "source": [
        "Természetesen a megoldás nem feltétlenül valós szám! A komplex egységgyököt a `sympy` `I`-vel jelöli:"
      ]
    },
    {
      "cell_type": "code",
      "metadata": {
        "id": "5XJkeqRIZAZM",
        "colab_type": "code",
        "colab": {},
        "outputId": "8aded48d-ebd6-4a6f-cbd0-95c51dfda660"
      },
      "source": [
        "I**2"
      ],
      "execution_count": 0,
      "outputs": [
        {
          "output_type": "execute_result",
          "data": {
            "image/png": "[encoded data removed]",
            "text/latex": "$$-1$$",
            "text/plain": [
              "-1"
            ]
          },
          "metadata": {
            "tags": []
          },
          "execution_count": 7
        }
      ]
    },
    {
      "cell_type": "markdown",
      "metadata": {
        "id": "iJUqIn2jZAZO",
        "colab_type": "text"
      },
      "source": [
        "A `solve` függvényt egyenletrendszerek megoldására is lehet használni. Ilyenkor a nullára rendezett egyenleteket listába foglaljuk. A keresett változókat szintúgy. Oldjuk meg a következő egyenletrendszert az $x$ és $y$ változókra:\n",
        "$$y=x^2+ax-4b$$\n",
        "$$y=x-b$$\n",
        "Mivel $x$-ben másodrendű az első egyenlet, ezért két megoldáspárt várunk (A parabola legfeljebb két helyen metszi az egyenest...)"
      ]
    },
    {
      "cell_type": "code",
      "metadata": {
        "id": "z6gH7VzpZAZP",
        "colab_type": "code",
        "colab": {},
        "outputId": "933a7c55-4aec-4a79-c18d-a4333f6398fb"
      },
      "source": [
        "solve([x**2 + a*x - y, x - y - b],[x,y]) # Így kell egyenletrendszert megoldani\n"
      ],
      "execution_count": 0,
      "outputs": [
        {
          "output_type": "execute_result",
          "data": {
            "image/png": "[encoded data removed]",
            "text/latex": "$$\\left [ \\left ( - \\frac{a}{2} - \\frac{1}{2} \\sqrt{a^{2} - 2 a - 4 b + 1} + \\frac{1}{2}, \\quad - \\frac{a}{2} - b - \\frac{1}{2} \\sqrt{a^{2} - 2 a - 4 b + 1} + \\frac{1}{2}\\right ), \\quad \\left ( - \\frac{a}{2} + \\frac{1}{2} \\sqrt{a^{2} - 2 a - 4 b + 1} + \\frac{1}{2}, \\quad - \\frac{a}{2} - b + \\frac{1}{2} \\sqrt{a^{2} - 2 a - 4 b + 1} + \\frac{1}{2}\\right )\\right ]$$",
            "text/plain": [
              "⎡⎛         ____________________                   ____________________    ⎞  ⎛\n",
              "⎢⎜        ╱  2                                   ╱  2                     ⎟  ⎜\n",
              "⎢⎜  a   ╲╱  a  - 2⋅a - 4⋅b + 1    1    a       ╲╱  a  - 2⋅a - 4⋅b + 1    1⎟  ⎜\n",
              "⎢⎜- ─ - ─────────────────────── + ─, - ─ - b - ─────────────────────── + ─⎟, ⎜\n",
              "⎣⎝  2              2              2    2                  2              2⎠  ⎝\n",
              "\n",
              "         ____________________                   ____________________    ⎞⎤\n",
              "        ╱  2                                   ╱  2                     ⎟⎥\n",
              "  a   ╲╱  a  - 2⋅a - 4⋅b + 1    1    a       ╲╱  a  - 2⋅a - 4⋅b + 1    1⎟⎥\n",
              "- ─ + ─────────────────────── + ─, - ─ - b + ─────────────────────── + ─⎟⎥\n",
              "  2              2              2    2                  2              2⎠⎦"
            ]
          },
          "metadata": {
            "tags": []
          },
          "execution_count": 8
        }
      ]
    },
    {
      "cell_type": "markdown",
      "metadata": {
        "id": "Lil_owWqZAZR",
        "colab_type": "text"
      },
      "source": [
        "A `solve` függvény kimenete most egy lista, amelynek az elemei a megfelelő $(x,y)$ párok."
      ]
    },
    {
      "cell_type": "markdown",
      "metadata": {
        "id": "F0KQzyOpZAZS",
        "colab_type": "text"
      },
      "source": [
        "## Függvényanalízis\n",
        "\n",
        "A `sympy` egyik legnagyobb előnye, hogy a `Python` nyelven belül lehetővé teszi egyszerűbb analízisbeli feladatok elvégzését. Alább a teljesség igénye nélkül összefoglalunk néhány egyszerű függvényt. Vizsgáljuk meg a következő két határértéket: $$\\lim_{x\\rightarrow 0}\\frac{\\sin x}{x}=? $$ illetve $$\\lim_{x\\rightarrow \\infty}\\frac{1}{1+\\mathrm{e}^{-x}}=? $$ A határértéket a `limit` függvény segítségével tudjuk meghatározni:"
      ]
    },
    {
      "cell_type": "code",
      "metadata": {
        "id": "cnGi170EZAZS",
        "colab_type": "code",
        "colab": {},
        "outputId": "583f7b2d-e4f0-4add-8b8d-d192e35a9fb7"
      },
      "source": [
        "limit(sin(x)/x,x,0)# sin(x)/x határértéke az x=0 pontban."
      ],
      "execution_count": 0,
      "outputs": [
        {
          "output_type": "execute_result",
          "data": {
            "image/png": "[encoded data removed]",
            "text/latex": "$$1$$",
            "text/plain": [
              "1"
            ]
          },
          "metadata": {
            "tags": []
          },
          "execution_count": 9
        }
      ]
    },
    {
      "cell_type": "markdown",
      "metadata": {
        "id": "AI1SN6S3ZAZU",
        "colab_type": "text"
      },
      "source": [
        "Ha a végtelenben vagyunk kíváncsiak a határértékre, akkor azt az `oo`-szimbólummal tudjuk elérni!"
      ]
    },
    {
      "cell_type": "code",
      "metadata": {
        "id": "dRYWB1zlZAZV",
        "colab_type": "code",
        "colab": {},
        "outputId": "b3159745-9355-4b48-b801-75020256a553"
      },
      "source": [
        "limit(1/(1+exp(-x)),x,oo)"
      ],
      "execution_count": 0,
      "outputs": [
        {
          "output_type": "execute_result",
          "data": {
            "image/png": "[encoded data removed]",
            "text/latex": "$$1$$",
            "text/plain": [
              "1"
            ]
          },
          "metadata": {
            "tags": []
          },
          "execution_count": 10
        }
      ]
    },
    {
      "cell_type": "markdown",
      "metadata": {
        "id": "ZguchM6uZAZW",
        "colab_type": "text"
      },
      "source": [
        "Egy kifejezés deriváltjait a `diff` függvény segítségével tudjuk meghatározni. Például a $\\sin$ függvény első $x$-szerinti deriváltja:"
      ]
    },
    {
      "cell_type": "code",
      "metadata": {
        "id": "d0M5CuKVZAZX",
        "colab_type": "code",
        "colab": {},
        "outputId": "721dd66f-d612-4dd6-d536-5ec141af677c"
      },
      "source": [
        "diff(sin(x),x)"
      ],
      "execution_count": 0,
      "outputs": [
        {
          "output_type": "execute_result",
          "data": {
            "image/png": "[encoded data removed]",
            "text/latex": "$$\\cos{\\left (x \\right )}$$",
            "text/plain": [
              "cos(x)"
            ]
          },
          "metadata": {
            "tags": []
          },
          "execution_count": 11
        }
      ]
    },
    {
      "cell_type": "markdown",
      "metadata": {
        "id": "P1VucMJgZAZZ",
        "colab_type": "text"
      },
      "source": [
        "A második deriváltat vagy így"
      ]
    },
    {
      "cell_type": "code",
      "metadata": {
        "id": "m3DUMb77ZAZa",
        "colab_type": "code",
        "colab": {},
        "outputId": "38e0b2b7-bbd8-4974-8a05-34eccbf7d067"
      },
      "source": [
        "diff(sin(x),x,x)"
      ],
      "execution_count": 0,
      "outputs": [
        {
          "output_type": "execute_result",
          "data": {
            "image/png": "[encoded data removed]",
            "text/latex": "$$- \\sin{\\left (x \\right )}$$",
            "text/plain": [
              "-sin(x)"
            ]
          },
          "metadata": {
            "tags": []
          },
          "execution_count": 12
        }
      ]
    },
    {
      "cell_type": "markdown",
      "metadata": {
        "id": "wJXMQreyZAZc",
        "colab_type": "text"
      },
      "source": [
        "vagy így, (talán egy kicsit átláthatóbban) írjuk."
      ]
    },
    {
      "cell_type": "code",
      "metadata": {
        "id": "UiLsuwCSZAZc",
        "colab_type": "code",
        "colab": {},
        "outputId": "14e30c1f-3ef4-49a5-9114-1b80e7e36879"
      },
      "source": [
        "diff(sin(x),x,2)"
      ],
      "execution_count": 0,
      "outputs": [
        {
          "output_type": "execute_result",
          "data": {
            "image/png": "[encoded data removed]",
            "text/latex": "$$- \\sin{\\left (x \\right )}$$",
            "text/plain": [
              "-sin(x)"
            ]
          },
          "metadata": {
            "tags": []
          },
          "execution_count": 13
        }
      ]
    },
    {
      "cell_type": "markdown",
      "metadata": {
        "id": "HOzkqiRSZAZe",
        "colab_type": "text"
      },
      "source": [
        "Természetesen parciális deriváltak elvégzésére is van mód:"
      ]
    },
    {
      "cell_type": "code",
      "metadata": {
        "id": "kBLRpPZgZAZf",
        "colab_type": "code",
        "colab": {},
        "outputId": "42bfb110-f9a0-4747-fd7a-ea3f3bb84c92"
      },
      "source": [
        "diff(sin(x)*cos(y),x,y)"
      ],
      "execution_count": 0,
      "outputs": [
        {
          "output_type": "execute_result",
          "data": {
            "image/png": "[encoded data removed]",
            "text/latex": "$$- \\sin{\\left (y \\right )} \\cos{\\left (x \\right )}$$",
            "text/plain": [
              "-sin(y)⋅cos(x)"
            ]
          },
          "metadata": {
            "tags": []
          },
          "execution_count": 14
        }
      ]
    },
    {
      "cell_type": "markdown",
      "metadata": {
        "id": "cVwiMNIUZAZj",
        "colab_type": "text"
      },
      "source": [
        "A magasabb rendű parciális deriváltak legyártása az egyszerű deriváltak általánosításán alapszik:"
      ]
    },
    {
      "cell_type": "code",
      "metadata": {
        "id": "7s-hpBgOZAZj",
        "colab_type": "code",
        "colab": {},
        "outputId": "7410250b-d017-4557-f20f-56897bc638ec"
      },
      "source": [
        "diff(sin(x)*cos(y),x,2,y,3)"
      ],
      "execution_count": 0,
      "outputs": [
        {
          "output_type": "execute_result",
          "data": {
            "image/png": "[encoded data removed]",
            "text/latex": "$$- \\sin{\\left (x \\right )} \\sin{\\left (y \\right )}$$",
            "text/plain": [
              "-sin(x)⋅sin(y)"
            ]
          },
          "metadata": {
            "tags": []
          },
          "execution_count": 15
        }
      ]
    },
    {
      "cell_type": "markdown",
      "metadata": {
        "id": "33JM-DQmZAZl",
        "colab_type": "text"
      },
      "source": [
        "Az `integrate` függvény segítségével határozott és határozattlan integrálokat tudunk elvégezni.  \n",
        "\n",
        "Határozzuk meg először az $x^2$ primitív függvényét:"
      ]
    },
    {
      "cell_type": "code",
      "metadata": {
        "id": "kEnRO796ZAZl",
        "colab_type": "code",
        "colab": {},
        "outputId": "0102fcb8-acf8-4d00-e832-3b16d12f584f"
      },
      "source": [
        "integrate(x**2,x)"
      ],
      "execution_count": 0,
      "outputs": [
        {
          "output_type": "execute_result",
          "data": {
            "image/png": "[encoded data removed]",
            "text/latex": "$$\\frac{x^{3}}{3}$$",
            "text/plain": [
              " 3\n",
              "x \n",
              "──\n",
              "3 "
            ]
          },
          "metadata": {
            "tags": []
          },
          "execution_count": 16
        }
      ]
    },
    {
      "cell_type": "markdown",
      "metadata": {
        "id": "VCqgXyH0ZAZp",
        "colab_type": "text"
      },
      "source": [
        "Az\n",
        "$$\\int_0^3 x^2\\mathrm{d}x$$ határozott integrált pedig az alábbi módon értékelhetjük ki."
      ]
    },
    {
      "cell_type": "code",
      "metadata": {
        "id": "4ZSjSpPVZAZp",
        "colab_type": "code",
        "colab": {},
        "outputId": "ad47464b-db69-4181-cb97-eea37c018eb6"
      },
      "source": [
        "integrate(x**2,(x,0,3))"
      ],
      "execution_count": 0,
      "outputs": [
        {
          "output_type": "execute_result",
          "data": {
            "image/png": "[encoded data removed]",
            "text/latex": "$$9$$",
            "text/plain": [
              "9"
            ]
          },
          "metadata": {
            "tags": []
          },
          "execution_count": 17
        }
      ]
    },
    {
      "cell_type": "markdown",
      "metadata": {
        "id": "cLg6H90aZAZs",
        "colab_type": "text"
      },
      "source": [
        "Természetesen az integrálás során szerepelhetnek a kifejezésben más paraméterek is:"
      ]
    },
    {
      "cell_type": "code",
      "metadata": {
        "id": "ROHX9Wo0ZAZs",
        "colab_type": "code",
        "colab": {},
        "outputId": "99019d99-2c80-4987-a2bc-ec34197ddac4"
      },
      "source": [
        "integrate(x**2+y**3,(x,0,3))"
      ],
      "execution_count": 0,
      "outputs": [
        {
          "output_type": "execute_result",
          "data": {
            "image/png": "[encoded data removed]",
            "text/latex": "$$3 y^{3} + 9$$",
            "text/plain": [
              "   3    \n",
              "3⋅y  + 9"
            ]
          },
          "metadata": {
            "tags": []
          },
          "execution_count": 18
        }
      ]
    },
    {
      "cell_type": "markdown",
      "metadata": {
        "id": "Ucom1nonZAZu",
        "colab_type": "text"
      },
      "source": [
        "Többváltozós integrált egyszerűen a változók (és ha határozott integrálról van szó, akkor az integrálási határok) egymás után írásával értékelhetünk ki:"
      ]
    },
    {
      "cell_type": "markdown",
      "metadata": {
        "id": "GihhWBmfZAZu",
        "colab_type": "text"
      },
      "source": [
        "A $$\\int x^2+y^3 \\mathrm{d}x\\mathrm{d}y $$ határozatlan integrál:"
      ]
    },
    {
      "cell_type": "code",
      "metadata": {
        "id": "C7ygZdElZAZv",
        "colab_type": "code",
        "colab": {},
        "outputId": "ca0413cc-95fe-4beb-dbc3-633598673328"
      },
      "source": [
        "integrate(x**2+y**3,x,y)"
      ],
      "execution_count": 0,
      "outputs": [
        {
          "output_type": "execute_result",
          "data": {
            "image/png": "[encoded data removed]",
            "text/latex": "$$\\frac{x^{3} y}{3} + \\frac{x y^{4}}{4}$$",
            "text/plain": [
              " 3        4\n",
              "x ⋅y   x⋅y \n",
              "──── + ────\n",
              " 3      4  "
            ]
          },
          "metadata": {
            "tags": []
          },
          "execution_count": 19
        }
      ]
    },
    {
      "cell_type": "markdown",
      "metadata": {
        "id": "byYYw0UBZAZx",
        "colab_type": "text"
      },
      "source": [
        "A\n",
        "$$\\int_0^3\\int_{-3}^{5} x^2+y^3 \\mathrm{d}x\\mathrm{d}y $$ határozott integrál:"
      ]
    },
    {
      "cell_type": "code",
      "metadata": {
        "id": "S-gLFNReZAZy",
        "colab_type": "code",
        "colab": {},
        "outputId": "51138602-d486-459c-c88b-c149026b94ba"
      },
      "source": [
        "integrate(x**2+y**3,(x,0,3),(y,-3,5))"
      ],
      "execution_count": 0,
      "outputs": [
        {
          "output_type": "execute_result",
          "data": {
            "image/png": "[encoded data removed]",
            "text/latex": "$$480$$",
            "text/plain": [
              "480"
            ]
          },
          "metadata": {
            "tags": []
          },
          "execution_count": 20
        }
      ]
    }
  ]
}