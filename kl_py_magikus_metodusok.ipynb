{
  "nbformat": 4,
  "nbformat_minor": 0,
  "metadata": {
    "kernelspec": {
      "display_name": "Python 3",
      "language": "python",
      "name": "python3"
    },
    "language_info": {
      "codemirror_mode": {
        "name": "ipython",
        "version": 3
      },
      "file_extension": ".py",
      "mimetype": "text/x-python",
      "name": "python",
      "nbconvert_exporter": "python",
      "pygments_lexer": "ipython3",
      "version": "3.7.4"
    },
    "colab": {
      "name": "kl_py_magikus_metodusok.ipynb",
      "provenance": [],
      "collapsed_sections": [
        "rrE5meOSma7F",
        "kYltTEtvma7N",
        "Wef9mIlkma7T",
        "wN2U6no1ma7a",
        "Yos_oiH_ma7f",
        "XIOflHsgma8E",
        "o2Fkk-O6ma8M"
      ],
      "include_colab_link": true
    }
  },
  "cells": [
    {
      "cell_type": "markdown",
      "metadata": {
        "id": "view-in-github",
        "colab_type": "text"
      },
      "source": [
        "<a href=\"https://colab.research.google.com/github/klajosw/python/blob/master/kl_py_magikus_metodusok.ipynb\" target=\"_parent\"><img src=\"https://colab.research.google.com/assets/colab-badge.svg\" alt=\"Open In Colab\"/></a>"
      ]
    },
    {
      "cell_type": "markdown",
      "metadata": {
        "id": "gQBhwLM-ma6M",
        "colab_type": "text"
      },
      "source": [
        "<p align=\"left\"> \n",
        "    <img src=\"https://raw.githubusercontent.com/klajosw/python/master/kl_mie_python_logo_250.jpg\" \n",
        "         align=\"left\" width=\"251\" height=\"251\">\n",
        "    \n",
        "</p>\n",
        "\n",
        "\n",
        "<p> </p>\n",
        "\n",
        "\n",
        "\n",
        "# Python alapok Mágikus metodusok\n",
        "\n",
        "<https://klajosw.blogspot.com/>\n",
        "\n",
        "\n",
        "---"
      ]
    },
    {
      "cell_type": "markdown",
      "metadata": {
        "id": "e_UnrC8Qma6P",
        "colab_type": "text"
      },
      "source": [
        " # Mágikus metodusok  // Magic Method !\n",
        " \n",
        " \n",
        " \n",
        " \n",
        " ## Sorsintű %\n",
        " \n",
        " Csak az őt követő sorra hat\n",
        " \n",
        " \n",
        " \n",
        " ## Cella szintű %% \n",
        " \n",
        " Egész beviteli cellára hat\n",
        " \n",
        " \n",
        " ---"
      ]
    },
    {
      "cell_type": "code",
      "metadata": {
        "id": "U0wp9lXmma6Q",
        "colab_type": "code",
        "colab": {},
        "outputId": "95938db9-3f7f-4a1f-9ba8-388dde547661"
      },
      "source": [
        "## %timeit?\n",
        "## %magic\n",
        "## %run kl_py_pelda.py\n",
        "\n",
        "### Az elérhető mágikus parancsok listája\n",
        "%lsmagic\n"
      ],
      "execution_count": 0,
      "outputs": [
        {
          "output_type": "execute_result",
          "data": {
            "application/json": {
              "cell": {
                "!": "OSMagics",
                "HTML": "Other",
                "SVG": "Other",
                "bash": "Other",
                "capture": "ExecutionMagics",
                "cmd": "Other",
                "debug": "ExecutionMagics",
                "file": "Other",
                "html": "DisplayMagics",
                "javascript": "DisplayMagics",
                "js": "DisplayMagics",
                "latex": "DisplayMagics",
                "markdown": "DisplayMagics",
                "perl": "Other",
                "prun": "ExecutionMagics",
                "pypy": "Other",
                "python": "Other",
                "python2": "Other",
                "python3": "Other",
                "ruby": "Other",
                "script": "ScriptMagics",
                "sh": "Other",
                "svg": "DisplayMagics",
                "sx": "OSMagics",
                "system": "OSMagics",
                "time": "ExecutionMagics",
                "timeit": "ExecutionMagics",
                "writefile": "OSMagics"
              },
              "line": {
                "alias": "OSMagics",
                "alias_magic": "BasicMagics",
                "autoawait": "AsyncMagics",
                "autocall": "AutoMagics",
                "automagic": "AutoMagics",
                "autosave": "KernelMagics",
                "bookmark": "OSMagics",
                "cd": "OSMagics",
                "clear": "KernelMagics",
                "cls": "KernelMagics",
                "colors": "BasicMagics",
                "conda": "PackagingMagics",
                "config": "ConfigMagics",
                "connect_info": "KernelMagics",
                "copy": "Other",
                "ddir": "Other",
                "debug": "ExecutionMagics",
                "dhist": "OSMagics",
                "dirs": "OSMagics",
                "doctest_mode": "BasicMagics",
                "echo": "Other",
                "ed": "Other",
                "edit": "KernelMagics",
                "env": "OSMagics",
                "gui": "BasicMagics",
                "hist": "Other",
                "history": "HistoryMagics",
                "killbgscripts": "ScriptMagics",
                "ldir": "Other",
                "less": "KernelMagics",
                "load": "CodeMagics",
                "load_ext": "ExtensionMagics",
                "loadpy": "CodeMagics",
                "logoff": "LoggingMagics",
                "logon": "LoggingMagics",
                "logstart": "LoggingMagics",
                "logstate": "LoggingMagics",
                "logstop": "LoggingMagics",
                "ls": "Other",
                "lsmagic": "BasicMagics",
                "macro": "ExecutionMagics",
                "magic": "BasicMagics",
                "matplotlib": "PylabMagics",
                "mkdir": "Other",
                "more": "KernelMagics",
                "notebook": "BasicMagics",
                "page": "BasicMagics",
                "pastebin": "CodeMagics",
                "pdb": "ExecutionMagics",
                "pdef": "NamespaceMagics",
                "pdoc": "NamespaceMagics",
                "pfile": "NamespaceMagics",
                "pinfo": "NamespaceMagics",
                "pinfo2": "NamespaceMagics",
                "pip": "PackagingMagics",
                "popd": "OSMagics",
                "pprint": "BasicMagics",
                "precision": "BasicMagics",
                "prun": "ExecutionMagics",
                "psearch": "NamespaceMagics",
                "psource": "NamespaceMagics",
                "pushd": "OSMagics",
                "pwd": "OSMagics",
                "pycat": "OSMagics",
                "pylab": "PylabMagics",
                "qtconsole": "KernelMagics",
                "quickref": "BasicMagics",
                "recall": "HistoryMagics",
                "rehashx": "OSMagics",
                "reload_ext": "ExtensionMagics",
                "ren": "Other",
                "rep": "Other",
                "rerun": "HistoryMagics",
                "reset": "NamespaceMagics",
                "reset_selective": "NamespaceMagics",
                "rmdir": "Other",
                "run": "ExecutionMagics",
                "save": "CodeMagics",
                "sc": "OSMagics",
                "set_env": "OSMagics",
                "store": "StoreMagics",
                "sx": "OSMagics",
                "system": "OSMagics",
                "tb": "ExecutionMagics",
                "time": "ExecutionMagics",
                "timeit": "ExecutionMagics",
                "unalias": "OSMagics",
                "unload_ext": "ExtensionMagics",
                "who": "NamespaceMagics",
                "who_ls": "NamespaceMagics",
                "whos": "NamespaceMagics",
                "xdel": "NamespaceMagics",
                "xmode": "BasicMagics"
              }
            },
            "text/plain": [
              "Available line magics:\n",
              "%alias  %alias_magic  %autoawait  %autocall  %automagic  %autosave  %bookmark  %cd  %clear  %cls  %colors  %conda  %config  %connect_info  %copy  %ddir  %debug  %dhist  %dirs  %doctest_mode  %echo  %ed  %edit  %env  %gui  %hist  %history  %killbgscripts  %ldir  %less  %load  %load_ext  %loadpy  %logoff  %logon  %logstart  %logstate  %logstop  %ls  %lsmagic  %macro  %magic  %matplotlib  %mkdir  %more  %notebook  %page  %pastebin  %pdb  %pdef  %pdoc  %pfile  %pinfo  %pinfo2  %pip  %popd  %pprint  %precision  %prun  %psearch  %psource  %pushd  %pwd  %pycat  %pylab  %qtconsole  %quickref  %recall  %rehashx  %reload_ext  %ren  %rep  %rerun  %reset  %reset_selective  %rmdir  %run  %save  %sc  %set_env  %store  %sx  %system  %tb  %time  %timeit  %unalias  %unload_ext  %who  %who_ls  %whos  %xdel  %xmode\n",
              "\n",
              "Available cell magics:\n",
              "%%!  %%HTML  %%SVG  %%bash  %%capture  %%cmd  %%debug  %%file  %%html  %%javascript  %%js  %%latex  %%markdown  %%perl  %%prun  %%pypy  %%python  %%python2  %%python3  %%ruby  %%script  %%sh  %%svg  %%sx  %%system  %%time  %%timeit  %%writefile\n",
              "\n",
              "Automagic is ON, % prefix IS NOT needed for line magics."
            ]
          },
          "metadata": {
            "tags": []
          },
          "execution_count": 17
        }
      ]
    },
    {
      "cell_type": "markdown",
      "metadata": {
        "id": "37WkKmKpma6U",
        "colab_type": "text"
      },
      "source": [
        "\n",
        "---\n",
        "\n",
        "\n",
        "\n",
        "## Mágikus parancs létrehozása\n",
        "\n",
        "\n",
        "---\n"
      ]
    },
    {
      "cell_type": "code",
      "metadata": {
        "id": "-hwUiZdBma6V",
        "colab_type": "code",
        "colab": {},
        "outputId": "e491106f-412f-4416-dde9-65c14154c26c"
      },
      "source": [
        "## mággikus utasítás létrehozása\n",
        "# modul betöltés\n",
        "from IPython.core.magic import (register_line_magic, register_cell_magic)\n",
        "\n",
        "@register_line_magic\n",
        "def kl_hello(line):\n",
        "    if line == 'OK':\n",
        "        print(\"Ez egy szép nap!\")\n",
        "    else:\n",
        "        print(\"Hello world!\")\n",
        "        \n",
        "%kl_hello        \n",
        "print('------- Elválasztás')\n",
        "%kl_hello OK"
      ],
      "execution_count": 0,
      "outputs": [
        {
          "output_type": "stream",
          "text": [
            "Hello world!\n",
            "------- Elválasztás\n",
            "Ez egy szép nap!\n"
          ],
          "name": "stdout"
        }
      ]
    },
    {
      "cell_type": "code",
      "metadata": {
        "id": "p8STnqrWma6Y",
        "colab_type": "code",
        "colab": {},
        "outputId": "792d8ef6-69a5-4a98-c246-23dfdf46abf4"
      },
      "source": [
        "## ellenőrzés a mágikus beírás működik DE a charset-re vigyázzni kell!!!\n",
        "with open('test.txt', 'r') as f:\n",
        "    print(f.read())"
      ],
      "execution_count": 0,
      "outputs": [
        {
          "output_type": "stream",
          "text": [
            "''' mĂˇgikus paranccsal ĂˇllomĂˇnybaĂ­rĂˇs\n",
            "'''\n",
            "Hello world!\n",
            "Itt a vĂ©ge\n",
            "fuss el vĂ©le.\n",
            "----\n",
            "\n"
          ],
          "name": "stdout"
        }
      ]
    },
    {
      "cell_type": "code",
      "metadata": {
        "id": "I7dWn7vXma6b",
        "colab_type": "code",
        "colab": {},
        "outputId": "92ea731f-34a1-4a03-b368-e8bad45f05cb"
      },
      "source": [
        "%%writefile test.txt \n",
        "''' A mágikus paranccsal állománybaírás\n",
        "'''\n",
        "Hello world!\n",
        "Itt a vége\n",
        "fuss el véle.\n",
        "----"
      ],
      "execution_count": 0,
      "outputs": [
        {
          "output_type": "stream",
          "text": [
            "Overwriting test.txt\n"
          ],
          "name": "stdout"
        }
      ]
    },
    {
      "cell_type": "code",
      "metadata": {
        "id": "5hiLhttNma6g",
        "colab_type": "code",
        "colab": {},
        "outputId": "9b16b5c1-99b6-4af2-c476-aa8698d4b4b7"
      },
      "source": [
        "%%file mprun_demo.py\n",
        "''' A mágikus paranccsal állománybaírás\n",
        "'''\n",
        "def sum_of_lists(N):\n",
        "    total = 0\n",
        "    for i in range(5):\n",
        "        L = [j ^ (j >> i) for j in range(N)]\n",
        "        total += sum(L)\n",
        "        del L # remove reference to L\n",
        "    return total"
      ],
      "execution_count": 0,
      "outputs": [
        {
          "output_type": "stream",
          "text": [
            "Overwriting mprun_demo.py\n"
          ],
          "name": "stdout"
        }
      ]
    },
    {
      "cell_type": "markdown",
      "metadata": {
        "id": "aelC___Gma6j",
        "colab_type": "text"
      },
      "source": [
        "\n",
        "---\n",
        "\n",
        "\n",
        "\n",
        "## Az egyes osztályok mágikus metodusai \n",
        "\n",
        "\n",
        "---\n"
      ]
    },
    {
      "cell_type": "code",
      "metadata": {
        "scrolled": true,
        "id": "57DA3Wa4ma6k",
        "colab_type": "code",
        "colab": {},
        "outputId": "7d38a720-8497-4acb-ee9e-83304a14867f"
      },
      "source": [
        "print(list(dir(int))[0:10])  ## int (egész tipusnak) mágikus metodusai közül az első 10 db\n",
        "num=10\n",
        "## num += 5\n",
        "print('v1 :', num + 5)\n",
        "print('v2 :', num.__add__(5))\n"
      ],
      "execution_count": 0,
      "outputs": [
        {
          "output_type": "stream",
          "text": [
            "['__abs__', '__add__', '__and__', '__bool__', '__ceil__', '__class__', '__delattr__', '__dir__', '__divmod__', '__doc__']\n",
            "v1 : 15\n",
            "v2 : 15\n"
          ],
          "name": "stdout"
        }
      ]
    },
    {
      "cell_type": "code",
      "metadata": {
        "id": "rK_NVCSVma6n",
        "colab_type": "code",
        "colab": {},
        "outputId": "f1dfaf1a-c9eb-40cf-d8b0-4c8806e6b79e"
      },
      "source": [
        "a = 5\n",
        "b = 9\n",
        "i = a.__eq__(b)\n",
        "print(i)"
      ],
      "execution_count": 0,
      "outputs": [
        {
          "output_type": "stream",
          "text": [
            "False\n"
          ],
          "name": "stdout"
        }
      ]
    },
    {
      "cell_type": "code",
      "metadata": {
        "id": "9mlEw7vPma6q",
        "colab_type": "code",
        "colab": {},
        "outputId": "9366f444-5b3c-458c-e577-3d6d74165a96"
      },
      "source": [
        "a = 5\n",
        "b = 9\n",
        "i = a.__ne__(b)\n",
        "print(i)"
      ],
      "execution_count": 0,
      "outputs": [
        {
          "output_type": "stream",
          "text": [
            "True\n"
          ],
          "name": "stdout"
        }
      ]
    },
    {
      "cell_type": "code",
      "metadata": {
        "id": "58Ow_UtVma6u",
        "colab_type": "code",
        "colab": {},
        "outputId": "0021f3d2-ec75-4045-a428-3fc4b67a3e73"
      },
      "source": [
        "a = 5\n",
        "b = 9\n",
        "i = a.__lt__(b)\n",
        "print(i)"
      ],
      "execution_count": 0,
      "outputs": [
        {
          "output_type": "stream",
          "text": [
            "True\n"
          ],
          "name": "stdout"
        }
      ]
    },
    {
      "cell_type": "code",
      "metadata": {
        "id": "K44LZG1kma6x",
        "colab_type": "code",
        "colab": {},
        "outputId": "f335a826-5f8d-48de-bfc8-fb63c57827cc"
      },
      "source": [
        "i = a.__gt__(b)\n",
        "print(i)"
      ],
      "execution_count": 0,
      "outputs": [
        {
          "output_type": "stream",
          "text": [
            "False\n"
          ],
          "name": "stdout"
        }
      ]
    },
    {
      "cell_type": "code",
      "metadata": {
        "id": "Jk886Ilbma6z",
        "colab_type": "code",
        "colab": {},
        "outputId": "7a1512c3-5349-4a18-c9a6-7f2a6b9c7897"
      },
      "source": [
        "i = a.__le__(b)\n",
        "print(i)"
      ],
      "execution_count": 0,
      "outputs": [
        {
          "output_type": "stream",
          "text": [
            "True\n"
          ],
          "name": "stdout"
        }
      ]
    },
    {
      "cell_type": "code",
      "metadata": {
        "id": "iMVsc5PGma62",
        "colab_type": "code",
        "colab": {},
        "outputId": "59b1c0a3-adad-411b-c7bb-9201e68daf85"
      },
      "source": [
        "i = a.__ge__(b)\n",
        "print(i)"
      ],
      "execution_count": 0,
      "outputs": [
        {
          "output_type": "stream",
          "text": [
            "False\n"
          ],
          "name": "stdout"
        }
      ]
    },
    {
      "cell_type": "code",
      "metadata": {
        "id": "30yxmXqama64",
        "colab_type": "code",
        "colab": {},
        "outputId": "4f1eff5e-598e-4450-b8c0-c037340a6da5"
      },
      "source": [
        "i = a.__add__(b)\n",
        "print(i)"
      ],
      "execution_count": 0,
      "outputs": [
        {
          "output_type": "stream",
          "text": [
            "14\n"
          ],
          "name": "stdout"
        }
      ]
    },
    {
      "cell_type": "code",
      "metadata": {
        "id": "1L5AQ9Poma67",
        "colab_type": "code",
        "colab": {},
        "outputId": "cd95e6d7-578e-4791-f2d4-4d87f2cc8fc8"
      },
      "source": [
        "i = a.__sub__(b)\n",
        "print(i)"
      ],
      "execution_count": 0,
      "outputs": [
        {
          "output_type": "stream",
          "text": [
            "-4\n"
          ],
          "name": "stdout"
        }
      ]
    },
    {
      "cell_type": "code",
      "metadata": {
        "id": "VGh6pXZ3ma6-",
        "colab_type": "code",
        "colab": {},
        "outputId": "3e88d3fc-151c-4887-bd85-6d88ca2e8f01"
      },
      "source": [
        "i = a.__mul__(b)\n",
        "print(i)"
      ],
      "execution_count": 0,
      "outputs": [
        {
          "output_type": "stream",
          "text": [
            "45\n"
          ],
          "name": "stdout"
        }
      ]
    },
    {
      "cell_type": "code",
      "metadata": {
        "id": "HkKizAV9ma7A",
        "colab_type": "code",
        "colab": {},
        "outputId": "3762cede-8129-42a4-a679-60cac22923e3"
      },
      "source": [
        "i = a.__pow__(b)\n",
        "print(i)"
      ],
      "execution_count": 0,
      "outputs": [
        {
          "output_type": "stream",
          "text": [
            "1953125\n"
          ],
          "name": "stdout"
        }
      ]
    },
    {
      "cell_type": "code",
      "metadata": {
        "id": "iA2THmzwma7D",
        "colab_type": "code",
        "colab": {},
        "outputId": "deeca029-598b-4d8d-aa01-3cea82838992"
      },
      "source": [
        "a = 'Lajoska'\n",
        "i = a.__len__()\n",
        "print(i)"
      ],
      "execution_count": 0,
      "outputs": [
        {
          "output_type": "stream",
          "text": [
            "7\n"
          ],
          "name": "stdout"
        }
      ]
    },
    {
      "cell_type": "markdown",
      "metadata": {
        "id": "rrE5meOSma7F",
        "colab_type": "text"
      },
      "source": [
        "\n",
        "---\n",
        "\n",
        "\n",
        "\n",
        "\n",
        "## Saját mágikus parancs létrehozása\n",
        "\n",
        "---\n"
      ]
    },
    {
      "cell_type": "code",
      "metadata": {
        "id": "hj56heZUma7G",
        "colab_type": "code",
        "colab": {},
        "outputId": "4096ba88-83d6-48c4-8ae7-d558cae5f923"
      },
      "source": [
        "%%writefile csvmagic.py\n",
        "import pandas as pd\n",
        "''' A mágikus parncs tartalom elmentése\n",
        "'''   \n",
        "from io import StringIO  # Python 3\n",
        "\n",
        "def csv(line, cell):\n",
        "    sio = StringIO(cell)\n",
        "    return pd.read_csv(sio)\n",
        "\n",
        "def load_ipython_extension(ipython):\n",
        "    \"\"\"Ezt a funkciót akkor hívják, amikor a kiterjesztés betöltődik.\n",
        "    Elfogad egy IPython InteractiveShell példányt.\n",
        "    Mágikus parancs regisztrálható a „register_magic_function” segítségével\n",
        "    a shell példány módszere.\"\"\"\n",
        "    ipython.register_magic_function(csv, 'cell')"
      ],
      "execution_count": 0,
      "outputs": [
        {
          "output_type": "stream",
          "text": [
            "Overwriting csvmagic.py\n"
          ],
          "name": "stdout"
        }
      ]
    },
    {
      "cell_type": "code",
      "metadata": {
        "id": "1mzecZPZma7I",
        "colab_type": "code",
        "colab": {}
      },
      "source": [
        "## saját mágikus parancs betöltése\n",
        "%load_ext csvmagic\n"
      ],
      "execution_count": 0,
      "outputs": []
    },
    {
      "cell_type": "code",
      "metadata": {
        "id": "I3kKe4unma7L",
        "colab_type": "code",
        "colab": {},
        "outputId": "47f93beb-829d-4856-bf04-7df78a5a9ea7"
      },
      "source": [
        "%%csv   ### használata\n",
        "col1,col2,col3\n",
        "0,1,2\n",
        "3,4,5\n",
        "7,8,9"
      ],
      "execution_count": 0,
      "outputs": [
        {
          "output_type": "execute_result",
          "data": {
            "text/html": [
              "<div>\n",
              "<style scoped>\n",
              "    .dataframe tbody tr th:only-of-type {\n",
              "        vertical-align: middle;\n",
              "    }\n",
              "\n",
              "    .dataframe tbody tr th {\n",
              "        vertical-align: top;\n",
              "    }\n",
              "\n",
              "    .dataframe thead th {\n",
              "        text-align: right;\n",
              "    }\n",
              "</style>\n",
              "<table border=\"1\" class=\"dataframe\">\n",
              "  <thead>\n",
              "    <tr style=\"text-align: right;\">\n",
              "      <th></th>\n",
              "      <th>col1</th>\n",
              "      <th>col2</th>\n",
              "      <th>col3</th>\n",
              "    </tr>\n",
              "  </thead>\n",
              "  <tbody>\n",
              "    <tr>\n",
              "      <td>0</td>\n",
              "      <td>0</td>\n",
              "      <td>1</td>\n",
              "      <td>2</td>\n",
              "    </tr>\n",
              "    <tr>\n",
              "      <td>1</td>\n",
              "      <td>3</td>\n",
              "      <td>4</td>\n",
              "      <td>5</td>\n",
              "    </tr>\n",
              "    <tr>\n",
              "      <td>2</td>\n",
              "      <td>7</td>\n",
              "      <td>8</td>\n",
              "      <td>9</td>\n",
              "    </tr>\n",
              "  </tbody>\n",
              "</table>\n",
              "</div>"
            ],
            "text/plain": [
              "   col1  col2  col3\n",
              "0     0     1     2\n",
              "1     3     4     5\n",
              "2     7     8     9"
            ]
          },
          "metadata": {
            "tags": []
          },
          "execution_count": 30
        }
      ]
    },
    {
      "cell_type": "markdown",
      "metadata": {
        "id": "kYltTEtvma7N",
        "colab_type": "text"
      },
      "source": [
        "\n",
        "---\n",
        "\n",
        "\n",
        "## javascript használat\n",
        "\n"
      ]
    },
    {
      "cell_type": "code",
      "metadata": {
        "id": "m8QxxE0bma7O",
        "colab_type": "code",
        "colab": {},
        "outputId": "bff76bc9-3028-4015-fc18-385bc917e36e"
      },
      "source": [
        "%%javascript\n",
        "alert(\"Hi there\")              // ablkba kiírás\n",
        "console.log(\"Hello Python\")    // logolás\n",
        "var myVar = \"Awesome\"          // értékadás\n",
        "pystartlife.output.text(myVar)\n"
      ],
      "execution_count": 0,
      "outputs": [
        {
          "output_type": "display_data",
          "data": {
            "application/javascript": [
              "alert(\"Hi there\")              // ablkba kiírás\n",
              "console.log(\"Hello Python\")    // logolás\n",
              "var myVar = \"Awesome\"          // értékadás\n",
              "pystartlife.output.text(myVar)\n"
            ],
            "text/plain": [
              "<IPython.core.display.Javascript object>"
            ]
          },
          "metadata": {
            "tags": []
          }
        }
      ]
    },
    {
      "cell_type": "code",
      "metadata": {
        "id": "G6f2MFoIma7Q",
        "colab_type": "code",
        "colab": {},
        "outputId": "342655da-d38f-429d-df40-a9a3c007cc1e"
      },
      "source": [
        "%%javascript\n",
        "//  python változó JS módosítása\n",
        "document.getElementById(\"textid\").innerHTML = \"a szám 101 lett\";\n"
      ],
      "execution_count": 0,
      "outputs": [
        {
          "output_type": "display_data",
          "data": {
            "application/javascript": [
              "//  python változó JS módosítása\n",
              "document.getElementById(\"textid\").innerHTML = \"a szám 101 lett\";\n"
            ],
            "text/plain": [
              "<IPython.core.display.Javascript object>"
            ]
          },
          "metadata": {
            "tags": []
          }
        }
      ]
    },
    {
      "cell_type": "markdown",
      "metadata": {
        "id": "Wef9mIlkma7T",
        "colab_type": "text"
      },
      "source": [
        "\n",
        "---\n",
        "\n",
        "## html használat\n",
        "\n"
      ]
    },
    {
      "cell_type": "code",
      "metadata": {
        "id": "xdMlTaexma7T",
        "colab_type": "code",
        "colab": {},
        "outputId": "ba355186-3791-4d9e-c36b-ea1f91458b68"
      },
      "source": [
        "from IPython.display import HTML\n",
        "pystartlife = str(100)\n",
        "HTML(\"<div id='textid'>\" + pystartlife + \"</div>\")"
      ],
      "execution_count": 0,
      "outputs": [
        {
          "output_type": "execute_result",
          "data": {
            "text/html": [
              "<div id='textid'>100</div>"
            ],
            "text/plain": [
              "<IPython.core.display.HTML object>"
            ]
          },
          "metadata": {
            "tags": []
          },
          "execution_count": 33
        }
      ]
    },
    {
      "cell_type": "code",
      "metadata": {
        "id": "yVZ1TtVGma7W",
        "colab_type": "code",
        "colab": {},
        "outputId": "df8df834-e97f-454b-9448-1ec126cff361"
      },
      "source": [
        "%%HTML\n",
        "<h2> heder 2</h2>"
      ],
      "execution_count": 0,
      "outputs": [
        {
          "output_type": "display_data",
          "data": {
            "text/html": [
              "<h2> heder 2</h2>\n"
            ],
            "text/plain": [
              "<IPython.core.display.HTML object>"
            ]
          },
          "metadata": {
            "tags": []
          }
        }
      ]
    },
    {
      "cell_type": "markdown",
      "metadata": {
        "id": "wN2U6no1ma7a",
        "colab_type": "text"
      },
      "source": [
        "\n",
        "---\n",
        "\n",
        "\n",
        "\n",
        "## CMD (kerner parancsok) használata\n",
        "\n",
        "\n",
        "---\n"
      ]
    },
    {
      "cell_type": "code",
      "metadata": {
        "scrolled": true,
        "id": "gHu2Lwtgma7b",
        "colab_type": "code",
        "colab": {},
        "outputId": "cb54bf11-bc56-4c53-da97-65408b669a09"
      },
      "source": [
        "%%cmd\n",
        "rem CommandCom ablak (DOS / Windows)\n",
        "rem path\n",
        "dir c:\\tmp\n"
      ],
      "execution_count": 0,
      "outputs": [
        {
          "output_type": "stream",
          "text": [
            "Microsoft Windows [Version 10.0.18363.592]\r\n",
            "(c) 2019 Microsoft Corporation. Minden jog fenntartva.\r\n",
            "\r\n",
            "C:\\Users\\User\\Documents\\mintak\\jupiter\\kl\\okt>rem CommandCom ablak (DOS / Windows)\n",
            "\r\n",
            "C:\\Users\\User\\Documents\\mintak\\jupiter\\kl\\okt>rem path\n",
            "\r\n",
            "C:\\Users\\User\\Documents\\mintak\\jupiter\\kl\\okt>dir c:\\tmp\n",
            " Volume in drive C is W10\r\n",
            " Volume Serial Number is 3EAD-BF3C\r\n",
            "\r\n",
            " Directory of c:\\tmp\r\n",
            "\r\n",
            "2020.01.12.  19:11    <DIR>          .\r\n",
            "2020.01.12.  19:11    <DIR>          ..\r\n",
            "2020.01.12.  19:11                61 example.csv\r\n",
            "               1 File(s)             61 bytes\r\n",
            "               2 Dir(s)  156˙839˙292˙928 bytes free\r\n",
            "\r\n",
            "C:\\Users\\User\\Documents\\mintak\\jupiter\\kl\\okt>"
          ],
          "name": "stdout"
        }
      ]
    },
    {
      "cell_type": "code",
      "metadata": {
        "id": "zmwKe26oma7d",
        "colab_type": "code",
        "colab": {},
        "outputId": "32e0670e-7d4a-42da-e24b-673955925b3f"
      },
      "source": [
        "## Operácios rendszer kernernek átadott parancs\n",
        "!dir c:\\tmp\n",
        "!echo \"hello world from windows\" \n",
        "!cd\n",
        "\n",
        "\n",
        "## python változó kernernek átadása\n",
        "message = \"hello from Python\"\n",
        "!echo {message}\n",
        "\n",
        "\n",
        "## Kerner változo pythonba\n",
        "contents = !dir c:\\tmp\n",
        "print(contents)"
      ],
      "execution_count": 0,
      "outputs": [
        {
          "output_type": "stream",
          "text": [
            " Volume in drive C is W10\n",
            " Volume Serial Number is 3EAD-BF3C\n",
            "\n",
            " Directory of c:\\tmp\n",
            "\n",
            "2020.01.12.  19:11    <DIR>          .\n",
            "2020.01.12.  19:11    <DIR>          ..\n",
            "2020.01.12.  19:11                61 example.csv\n",
            "               1 File(s)             61 bytes\n",
            "               2 Dir(s)  156˙839˙288˙832 bytes free\n",
            "\"hello world from windows\" \n",
            "C:\\Users\\User\\Documents\\mintak\\jupiter\\kl\\okt\n",
            "hello from Python\n",
            "[' Volume in drive C is W10', ' Volume Serial Number is 3EAD-BF3C', '', ' Directory of c:\\\\tmp', '', '2020.01.12.  19:11    <DIR>          .', '2020.01.12.  19:11    <DIR>          ..', '2020.01.12.  19:11                61 example.csv', '               1 File(s)             61 bytes', '               2 Dir(s)  156˙839˙288˙832 bytes free']\n"
          ],
          "name": "stdout"
        }
      ]
    },
    {
      "cell_type": "markdown",
      "metadata": {
        "id": "Yos_oiH_ma7f",
        "colab_type": "text"
      },
      "source": [
        "---\n",
        "\n",
        "\n",
        "## A kimenet visszahívása\n",
        "\n",
        "---"
      ]
    },
    {
      "cell_type": "code",
      "metadata": {
        "id": "RgMrmrKvma7g",
        "colab_type": "code",
        "colab": {},
        "outputId": "39748f9b-e20d-4280-8500-cd1249514cb5"
      },
      "source": [
        "import math\n",
        "math.sin(2)\n"
      ],
      "execution_count": 0,
      "outputs": [
        {
          "output_type": "execute_result",
          "data": {
            "text/plain": [
              "0.9092974268256817"
            ]
          },
          "metadata": {
            "tags": []
          },
          "execution_count": 37
        }
      ]
    },
    {
      "cell_type": "code",
      "metadata": {
        "id": "jTQZi-Plma7i",
        "colab_type": "code",
        "colab": {},
        "outputId": "9697f98d-e2ec-41cf-f575-7179a87c0fe3"
      },
      "source": [
        "math.cos(2)"
      ],
      "execution_count": 0,
      "outputs": [
        {
          "output_type": "execute_result",
          "data": {
            "text/plain": [
              "-0.4161468365471424"
            ]
          },
          "metadata": {
            "tags": []
          },
          "execution_count": 38
        }
      ]
    },
    {
      "cell_type": "code",
      "metadata": {
        "id": "zba7uEzGma7k",
        "colab_type": "code",
        "colab": {},
        "outputId": "869da175-e6ee-46c6-80db-30ec2dda21fc"
      },
      "source": [
        "# print('In (Eddigi bemeneti tagok listája : )',In)\n",
        "# print('Out (Eddigi bemeneti tagok listája : )',Out)\n",
        "print(In[37])\n",
        "print(Out[37])"
      ],
      "execution_count": 0,
      "outputs": [
        {
          "output_type": "stream",
          "text": [
            "import math\n",
            "math.sin(2)\n",
            "0.9092974268256817\n"
          ],
          "name": "stdout"
        }
      ]
    },
    {
      "cell_type": "code",
      "metadata": {
        "id": "HHb4bvaJma7o",
        "colab_type": "code",
        "colab": {},
        "outputId": "5e262f5c-de0d-41c0-f947-67fe92aae72c"
      },
      "source": [
        "print(_)   ### print(Out[38]) erre mutat // Utolsó kimeneten megjelent érték újra elérése"
      ],
      "execution_count": 0,
      "outputs": [
        {
          "output_type": "stream",
          "text": [
            "-0.4161468365471424\n"
          ],
          "name": "stdout"
        }
      ]
    },
    {
      "cell_type": "code",
      "metadata": {
        "id": "h4GQgijrma7q",
        "colab_type": "code",
        "colab": {},
        "outputId": "608d9697-1c5f-4adc-da73-502157c4d80c"
      },
      "source": [
        "print(__)  ### print(Out[38]) erre mutat //  dupla aláhúzással hozzáférhet a második-utolsó kimenethez"
      ],
      "execution_count": 0,
      "outputs": [
        {
          "output_type": "stream",
          "text": [
            "0.9092974268256817\n"
          ],
          "name": "stdout"
        }
      ]
    },
    {
      "cell_type": "code",
      "metadata": {
        "id": "oYHdYW_dma7t",
        "colab_type": "code",
        "colab": {},
        "outputId": "d7e0d436-f26f-488d-c673-f81740bc9695"
      },
      "source": [
        "print(___) ### print(Out[34]) erre mutat // hármas aláhúzással a harmadik-utolsó kimenetet "
      ],
      "execution_count": 0,
      "outputs": [
        {
          "output_type": "stream",
          "text": [
            "<IPython.core.display.HTML object>\n"
          ],
          "name": "stdout"
        }
      ]
    },
    {
      "cell_type": "code",
      "metadata": {
        "id": "qVw80lW6ma7v",
        "colab_type": "code",
        "colab": {},
        "outputId": "bc77a920-76fa-4366-c3bc-bf232f3549df"
      },
      "source": [
        "print(_38) ## ugyan az minta print(Out[38])\n"
      ],
      "execution_count": 0,
      "outputs": [
        {
          "output_type": "stream",
          "text": [
            "-0.4161468365471424\n"
          ],
          "name": "stdout"
        }
      ]
    },
    {
      "cell_type": "code",
      "metadata": {
        "id": "CnXzIZE-ma7y",
        "colab_type": "code",
        "colab": {},
        "outputId": "b0c1f48e-b163-4c58-c396-f8e715bcbcf6"
      },
      "source": [
        "## parancs lista cellatartomány megadásával\n",
        "%history -n 40-44"
      ],
      "execution_count": 0,
      "outputs": [
        {
          "output_type": "stream",
          "text": [
            "  40: print(_)   ### print(Out[64]) erre mutat // Utolsó kimeneten megjelent érték újra elérése\n",
            "  41: print(__)  ### print(Out[63]) erre mutat //  dupla aláhúzással hozzáférhet a második-utolsó kimenethez\n",
            "  42: print(___) ### print(Out[64]) erre mutat // hármas aláhúzással a harmadik-utolsó kimenetet\n",
            "  43: print(_34) ## ugyan az minta print(Out[34])\n",
            "  44: print(_38) ## ugyan az minta print(Out[34])\n"
          ],
          "name": "stdout"
        }
      ]
    },
    {
      "cell_type": "code",
      "metadata": {
        "id": "F4JRDoqSma70",
        "colab_type": "code",
        "colab": {},
        "outputId": "4643e18a-15cb-4506-a9f9-49f71c38fc43"
      },
      "source": [
        "## futás ido elemzés timait mágikus paranccsal\n",
        "%timeit L = [n ** 2 for n in range(1000)]\n",
        "\n",
        "%timeit sum(range(100))\n"
      ],
      "execution_count": 0,
      "outputs": [
        {
          "output_type": "stream",
          "text": [
            "331 µs ± 4.34 µs per loop (mean ± std. dev. of 7 runs, 1000 loops each)\n",
            "1.21 µs ± 30.3 ns per loop (mean ± std. dev. of 7 runs, 1000000 loops each)\n"
          ],
          "name": "stdout"
        }
      ]
    },
    {
      "cell_type": "code",
      "metadata": {
        "id": "060FgqRXma73",
        "colab_type": "code",
        "colab": {},
        "outputId": "b73647af-49fd-46ff-c7b1-12ad5f85e467"
      },
      "source": [
        "%%timeit\n",
        "## futásidő elemzés cella érvényességgel\n",
        "total = 0\n",
        "for i in range(1000):\n",
        "    for j in range(1000):\n",
        "        total += i * (-1) ** j"
      ],
      "execution_count": 0,
      "outputs": [
        {
          "output_type": "stream",
          "text": [
            "424 ms ± 1.91 ms per loop (mean ± std. dev. of 7 runs, 1 loop each)\n"
          ],
          "name": "stdout"
        }
      ]
    },
    {
      "cell_type": "code",
      "metadata": {
        "id": "tKKCcugGma75",
        "colab_type": "code",
        "colab": {}
      },
      "source": [
        "def sum_of_lists(N):\n",
        "    total = 0\n",
        "    for i in range(5):\n",
        "        L = [j ^ (j >> i) for j in range(N)]\n",
        "        total += sum(L)\n",
        "    return total\n",
        "\n",
        "## futás elemzés\n",
        "%prun sum_of_lists(1000000)\n",
        "\n",
        "'''\n",
        "         14 function calls in 0.814 seconds\n",
        "\n",
        "   Ordered by: internal time\n",
        "\n",
        "   ncalls  tottime  percall  cumtime  percall filename:lineno(function)\n",
        "        5    0.663    0.133    0.663    0.133 <ipython-input-84-c4157532b4b8>:4(<listcomp>)\n",
        "        5    0.103    0.021    0.103    0.021 {built-in method builtins.sum}\n",
        "        1    0.037    0.037    0.803    0.803 <ipython-input-84-c4157532b4b8>:1(sum_of_lists)\n",
        "        1    0.011    0.011    0.814    0.814 <string>:1(<module>)\n",
        "        1    0.000    0.000    0.814    0.814 {built-in method builtins.exec}\n",
        "        1    0.000    0.000    0.000    0.000 {method 'disable' of '_lsprof.Profiler' objects}\n",
        "'''\n"
      ],
      "execution_count": 0,
      "outputs": []
    },
    {
      "cell_type": "code",
      "metadata": {
        "id": "WY95eAYPma77",
        "colab_type": "code",
        "colab": {}
      },
      "source": [
        "## hibakeresés bekapcsolása + finomitás\n",
        "%debug\n",
        "%xmode Plain\n",
        "%xmode Verbose\n",
        "\n",
        "# debuger bekapcsolása\n",
        "%pdb on"
      ],
      "execution_count": 0,
      "outputs": []
    },
    {
      "cell_type": "code",
      "metadata": {
        "id": "cwPtWljema7-",
        "colab_type": "code",
        "colab": {}
      },
      "source": [
        "## AZ INTERKTIVITÁS BEÁLLÍTÁSA\n",
        "from IPython.core.interactiveshell import InteractiveShell\n",
        "InteractiveShell.ast_node_interactivity = \"all\"\n",
        "\n",
        "###  ~/.ipython/profile_default/ipython_config.py   // itt jelenik mejd meg"
      ],
      "execution_count": 0,
      "outputs": []
    },
    {
      "cell_type": "code",
      "metadata": {
        "id": "HxMHBYGcma8C",
        "colab_type": "code",
        "colab": {},
        "outputId": "3d5e84df-f4c0-440b-d83f-b4036fee2d5c"
      },
      "source": [
        "%run ./kl_py_web_kep_letolt.ipynb\n"
      ],
      "execution_count": 0,
      "outputs": [
        {
          "output_type": "stream",
          "text": [
            "https://i.redd.it/t958mpar84d41.jpg\n",
            "https://i.redd.it/75u3xtvym4d41.jpg\n",
            "https://i.redd.it/7npazwk3c4d41.jpg\n",
            "https://i.redd.it/otyy4m8ox3d41.jpg\n",
            "https://i.redd.it/9ubwrdgkv5d41.jpg\n",
            "https://i.redd.it/nfde3tyk00d41.jpg\n",
            "https://i.imgur.com/FZeb2fn.jpg\n",
            "https://i.redd.it/cv1bxdquf3d41.jpg\n",
            "https://i.redd.it/fy5pngaor4d41.jpg\n",
            "https://i.redd.it/bgjd9wzbg4d41.jpg\n",
            "https://i.redd.it/26c7z44435d41.jpg\n",
            "https://i.redd.it/epr9z9fgi4d41.jpg\n",
            "https://i.redd.it/h5bmzln712d41.jpg\n",
            "https://i.redd.it/m60cirmdc5d41.jpg\n",
            "https://i.redd.it/bte0kbilb6d41.jpg\n",
            "https://i.redd.it/6hzp7uzr16d41.jpg\n",
            "https://i.redd.it/ujshybr9h3d41.jpg\n",
            "https://i.redd.it/0yvtpgojq4d41.jpg\n",
            "https://i.imgur.com/LZEyRER.jpg\n",
            "https://i.redd.it/raeh33ln16d41.jpg\n",
            "https://i.redd.it/drhrkiplh6d41.jpg\n",
            "https://i.redd.it/4ivv80r224d41.jpg\n",
            "https://i.redd.it/74bvdi37e6d41.jpg\n",
            "----   KÉSZ   ----\n"
          ],
          "name": "stdout"
        }
      ]
    },
    {
      "cell_type": "markdown",
      "metadata": {
        "id": "XIOflHsgma8E",
        "colab_type": "text"
      },
      "source": [
        "---\n",
        "\n",
        "## Egy másik python program tartalmának betőltése %load mágikus paranccsal\n",
        "\n",
        "`%load ./first.py`\n",
        "\n",
        "\n",
        "### Külön ablakban megmutatja atartalmat:\n",
        "\n",
        "`%pycat`\n",
        "\n",
        "\n",
        "---"
      ]
    },
    {
      "cell_type": "code",
      "metadata": {
        "id": "N_Sdr4Tlma8F",
        "colab_type": "code",
        "colab": {}
      },
      "source": [
        "# %load ./first.py\n",
        "## írás mágikus utasítással\n",
        "def first(l):\n",
        "    return l[0]\n",
        "\n",
        "def test_first():\n",
        "    assert first([1, 2, 3]) == 1\n",
        "    assert first([]) is None\n"
      ],
      "execution_count": 0,
      "outputs": []
    },
    {
      "cell_type": "code",
      "metadata": {
        "id": "ExGwy2enma8H",
        "colab_type": "code",
        "colab": {}
      },
      "source": [
        "%pycat ./first.py"
      ],
      "execution_count": 0,
      "outputs": []
    },
    {
      "cell_type": "markdown",
      "metadata": {
        "id": "o2Fkk-O6ma8M",
        "colab_type": "text"
      },
      "source": [
        "---\n",
        "\n",
        "\n",
        "## Változok kilistázása %who globális hatókörben\n",
        "\n",
        "`%who str`\n",
        "\n",
        "\n",
        "---"
      ]
    },
    {
      "cell_type": "code",
      "metadata": {
        "id": "kHRNuiErma8M",
        "colab_type": "code",
        "colab": {}
      },
      "source": [
        "one = \"for the money\"\n",
        "two = \"for the show\"\n",
        "three = \"to get ready now go cat go\"\n",
        "%who str"
      ],
      "execution_count": 0,
      "outputs": []
    },
    {
      "cell_type": "code",
      "metadata": {
        "id": "WyrYvCq0ma8Q",
        "colab_type": "code",
        "colab": {}
      },
      "source": [
        "### installálás\n",
        "\n",
        "# !pip install -c r r-essentials\n",
        "# !conda install -c r r-essentials\n"
      ],
      "execution_count": 0,
      "outputs": []
    },
    {
      "cell_type": "code",
      "metadata": {
        "id": "2oMWtBjwma8S",
        "colab_type": "code",
        "colab": {}
      },
      "source": [
        ""
      ],
      "execution_count": 0,
      "outputs": []
    }
  ]
}