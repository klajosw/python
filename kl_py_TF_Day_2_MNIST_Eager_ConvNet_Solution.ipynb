{
  "nbformat": 4,
  "nbformat_minor": 0,
  "metadata": {
    "accelerator": "GPU",
    "colab": {
      "name": "kl_py_TF_Day_2_MNIST_Eager_ConvNet_Solution.ipynb",
      "provenance": [],
      "collapsed_sections": [],
      "include_colab_link": true
    },
    "kernelspec": {
      "display_name": "Python 3",
      "language": "python",
      "name": "python3"
    },
    "language_info": {
      "codemirror_mode": {
        "name": "ipython",
        "version": 3
      },
      "file_extension": ".py",
      "mimetype": "text/x-python",
      "name": "python",
      "nbconvert_exporter": "python",
      "pygments_lexer": "ipython3",
      "version": "3.7.6"
    }
  },
  "cells": [
    {
      "cell_type": "markdown",
      "metadata": {
        "id": "view-in-github",
        "colab_type": "text"
      },
      "source": [
        "<a href=\"https://colab.research.google.com/github/klajosw/python/blob/master/kl_py_TF_Day_2_MNIST_Eager_ConvNet_Solution.ipynb\" target=\"_parent\"><img src=\"https://colab.research.google.com/assets/colab-badge.svg\" alt=\"Open In Colab\"/></a>"
      ]
    },
    {
      "cell_type": "markdown",
      "metadata": {
        "colab_type": "text",
        "id": "aAOBNN50Tx5z"
      },
      "source": [
        "![TF](https://1.bp.blogspot.com/-eb-_3Aqu5bA/XnertoOpPgI/AAAAAAAAa6Y/8TPaJ8vjn2cN_so7xLeqPZDqX3pQjVARgCLcBGAsYHQ/s200/tf.jpg)\n",
        "\n",
        "# Exploring the New Eager Execution TensorFlow API"
      ]
    },
    {
      "cell_type": "code",
      "metadata": {
        "colab_type": "code",
        "id": "AfR0x2u-65MY",
        "outputId": "4d2de624-e8bd-45bf-ba50-068be7d28c2b",
        "colab": {
          "base_uri": "https://localhost:8080/",
          "height": 35
        }
      },
      "source": [
        "import tensorflow as tf\n",
        "import numpy as np\n",
        "import matplotlib.pyplot as plt\n",
        "from mpl_toolkits.axes_grid1 import ImageGrid\n",
        "from tensorflow.examples.tutorials.mnist import input_data\n",
        "from keras.datasets import mnist\n",
        "from sklearn.model_selection import train_test_split\n",
        "from sklearn.metrics import accuracy_score\n",
        "import keras\n",
        "plt.rcParams[\"axes.grid\"] = False"
      ],
      "execution_count": 0,
      "outputs": [
        {
          "output_type": "stream",
          "text": [
            "Using TensorFlow backend.\n"
          ],
          "name": "stderr"
        }
      ]
    },
    {
      "cell_type": "markdown",
      "metadata": {
        "colab_type": "text",
        "id": "vSfYB9xG1Mnb"
      },
      "source": [
        "# Deep Learning\n",
        "\n",
        "Deep Learning is a branch of machine learning focused on building algorithms that learn data representations (instead of task-specific solutions) \n",
        "\n",
        "Deep Learning is **state-of-the-art** in almost all **perception** problem: \n",
        "\n",
        "- Natural Language Processing (NLP)\n",
        "- Voice Recognition\n",
        "- Computer Vision\n",
        "\n",
        "![alt text](https://developer.nvidia.com/sites/default/files/Deep_Learning_Icons_R5_PNG.jpg.png)\n",
        "\n",
        "Deep Learning is a **family of methods**:\n",
        "- Feedforward Network\n",
        "- Convolutional Nets\n",
        "- Recurrent Nets\n",
        "- Auto-Encoders\n",
        "- Generative Adversarial Networks\n",
        "- etc..."
      ]
    },
    {
      "cell_type": "markdown",
      "metadata": {
        "colab_type": "text",
        "id": "ii79jzp1aDmU"
      },
      "source": [
        "# TensorFlow Eager Execution\n",
        "\n",
        "Eager execution is a new **high-level TF API** that lets users execute tensors in real time (**Imperative**) fashion. \n",
        "\n",
        "- Brings TF to the level of some other Deep Learning frameworks like PyTorch and Chainer.\n",
        "- Run TF models just like any other python code (Numpy and python objects compliant)\n",
        "- Don't think about Computational Graphs - Just execute code normally \n",
        "- Allows for **real-time python** Debugging\n",
        "- To enable Eager Execution - just run: **tf.enable_eager_execution()**\n",
        "\n",
        "## Exercise\n",
        "\n",
        "1- Enable eager execution mode using *tf.enable_eager_execution()*."
      ]
    },
    {
      "cell_type": "code",
      "metadata": {
        "colab_type": "code",
        "id": "Fdqa3b6N723r",
        "colab": {}
      },
      "source": [
        "# Enable eager execution mode\n",
        "tfe = tf.contrib.eager\n",
        "\n",
        "## YOUR CODE GOES HERE\n",
        "tf.enable_eager_execution()"
      ],
      "execution_count": 0,
      "outputs": []
    },
    {
      "cell_type": "code",
      "metadata": {
        "colab_type": "code",
        "id": "mivD5CTu65Mg",
        "outputId": "34784b3e-212e-49c5-d47c-b57957f39600",
        "colab": {
          "base_uri": "https://localhost:8080/",
          "height": 35
        }
      },
      "source": [
        "if tf.executing_eagerly():\n",
        "    print(\"Eager is Enabled!\")"
      ],
      "execution_count": 0,
      "outputs": [
        {
          "output_type": "stream",
          "text": [
            "Eager is Enabled!\n"
          ],
          "name": "stdout"
        }
      ]
    },
    {
      "cell_type": "markdown",
      "metadata": {
        "colab_type": "text",
        "id": "UaY0efbWBjWj"
      },
      "source": [
        "# Computer Vision 101 with MNIST \n",
        "\n",
        "## Exploring the MNIST dataset\n",
        "\n",
        "Computer Vision is a branch of AI devoted to building algorithms that enable machines to perceive the world. \n",
        "\n",
        "MNIST is a computer vision dataset. \n",
        "\n",
        "It contains **greyscale images of handwritten digits** like these.\n",
        "\n",
        "The MNIST dataset is composed of **60000 thousand images**. *50000* for training and *10000* for testing."
      ]
    },
    {
      "cell_type": "markdown",
      "metadata": {
        "colab_type": "text",
        "id": "KQWMGeGGKiB1"
      },
      "source": [
        "![alt text](https://www.tensorflow.org/versions/r1.1/images/MNIST-Matrix.png)"
      ]
    },
    {
      "cell_type": "markdown",
      "metadata": {
        "colab_type": "text",
        "id": "Stm9ehUpby1U"
      },
      "source": [
        "## Numerical Stabilization\n",
        "\n",
        "Any time we are up to doing some calculus on a computer, we need to think about representation.\n",
        "- We all know, machines are **memory-limited**\n",
        "\n",
        "## Exercise\n",
        "\n",
        "Accessing numerical error.\n",
        "1. Create two variables a and b.\n",
        "2. Assign 1000000000 (one billion) to a and 0.000001 to be\n",
        "3. In the loop add b to a 1000000 (one million) times\n",
        "\n",
        "What happens? What should the result be?"
      ]
    },
    {
      "cell_type": "code",
      "metadata": {
        "colab_type": "code",
        "id": "UYvuPKzMdR8k",
        "outputId": "fc768dfd-a088-46a1-8eed-a01d245721cf",
        "colab": {
          "base_uri": "https://localhost:8080/",
          "height": 72
        }
      },
      "source": [
        "a = 1000000000 # one billion\n",
        "b = 0.000001\n",
        "for i in range(1000000):\n",
        "  a += b\n",
        "\n",
        "print(\"a:\", a)\n",
        "print(\"a - 1000000000:\", a - 1000000000)\n",
        "print(\"Error:\", 1 - (a - 1000000000))"
      ],
      "execution_count": 0,
      "outputs": [
        {
          "output_type": "stream",
          "text": [
            "a: 1000000000.9536743\n",
            "a - 1000000000: 0.95367431640625\n",
            "Error: 0.04632568359375\n"
          ],
          "name": "stdout"
        }
      ]
    },
    {
      "cell_type": "markdown",
      "metadata": {
        "colab_type": "text",
        "id": "W3s4_BA-fX89"
      },
      "source": [
        "Try now to substitute the 1000000000 (one billion) to just one.\n",
        "\n",
        "What do you see? \n",
        "\n",
        "When calculating the grandients and the loss, we do NOT want their values to get too **BIG** or too **SMALL**.\n",
        "- **Facilitates the job of the optimizer** (find the best spot in the error function)\n",
        "- Makes convergence FASTER and reduces the probability of **DIVERGENCE**.\n",
        "\n",
        "**That is why normalization is important.**"
      ]
    },
    {
      "cell_type": "markdown",
      "metadata": {
        "colab_type": "text",
        "id": "LcaAcJGw65Mn"
      },
      "source": [
        "## Load MNIST data"
      ]
    },
    {
      "cell_type": "code",
      "metadata": {
        "colab_type": "code",
        "id": "ymF2hVMZ8Zd1",
        "colab": {}
      },
      "source": [
        "# Download the mnist data\n",
        "(X_train, y_train), (X_test, y_test) = mnist.load_data()"
      ],
      "execution_count": 0,
      "outputs": []
    },
    {
      "cell_type": "markdown",
      "metadata": {
        "colab_type": "text",
        "id": "1Vn4TOoa8VJf"
      },
      "source": [
        "## Exercise\n",
        "\n",
        "Like we did before, divide the training data into **train** and **validation** sets.\n",
        "\n",
        "- You may use: [train_test_split()](http://scikit-learn.org/stable/modules/generated/sklearn.model_selection.train_test_split.html).\n",
        "- Choose a reasonable value for the split fraction."
      ]
    },
    {
      "cell_type": "code",
      "metadata": {
        "colab_type": "code",
        "id": "qS6KI6DT8RRu",
        "colab": {}
      },
      "source": [
        "## YOUR CODE GOES HERE\n",
        "X_train, X_val, y_train, y_val = train_test_split(X_train, y_train, test_size=0.1, random_state=42)"
      ],
      "execution_count": 0,
      "outputs": []
    },
    {
      "cell_type": "markdown",
      "metadata": {
        "colab_type": "text",
        "id": "vNcZQSOx65Ms"
      },
      "source": [
        "# Visualize the dataset Shapes"
      ]
    },
    {
      "cell_type": "code",
      "metadata": {
        "colab_type": "code",
        "id": "ltddY8_A65Mt",
        "outputId": "7e3d9f81-f83a-4b39-b37e-7430c73ce7de",
        "colab": {
          "base_uri": "https://localhost:8080/",
          "height": 126
        }
      },
      "source": [
        "print(\"Train shape:\", X_train.shape)\n",
        "print(\"Train labels:\", y_train.shape)\n",
        "print(\"Validation shape:\", X_val.shape)\n",
        "print(\"Validation labels:\", y_val.shape)\n",
        "print(\"Test shape:\", X_test.shape)\n",
        "print(\"Test labels:\", y_test.shape)"
      ],
      "execution_count": 0,
      "outputs": [
        {
          "output_type": "stream",
          "text": [
            "Train shape: (54000, 28, 28)\n",
            "Train labels: (54000,)\n",
            "Validation shape: (6000, 28, 28)\n",
            "Validation labels: (6000,)\n",
            "Test shape: (10000, 28, 28)\n",
            "Test labels: (10000,)\n"
          ],
          "name": "stdout"
        }
      ]
    },
    {
      "cell_type": "markdown",
      "metadata": {
        "colab_type": "text",
        "id": "6zQk8ZfnloDn"
      },
      "source": [
        "## Exercise\n",
        "\n",
        "Build the **normalizer()** function above. \n",
        "\n",
        "Our goal is to keep the input values (pixels) in a small range.\n",
        "\n",
        "1. Option 1: Dvide the image pixels by 255. What does it mean?\n",
        "2. Option 2: Subtract each pixel by 128 and divide by 128. "
      ]
    },
    {
      "cell_type": "code",
      "metadata": {
        "colab_type": "code",
        "id": "o3JnPP0vB5gF",
        "colab": {}
      },
      "source": [
        "def normalizer(image, label):\n",
        "  \"\"\"\n",
        "  TODO: Finish the normalizer function\n",
        "  \"\"\"\n",
        "  return 2 * tf.to_float(image) / 255. - 1.0, label"
      ],
      "execution_count": 0,
      "outputs": []
    },
    {
      "cell_type": "code",
      "metadata": {
        "colab_type": "code",
        "id": "UZQtKc7_65Mw",
        "outputId": "07a9c858-0276-4154-b7bb-be1ab15ecad6",
        "colab": {
          "base_uri": "https://localhost:8080/",
          "height": 413
        }
      },
      "source": [
        "## Visualize the dataset distribution\n",
        "import pylab as P\n",
        "n, bins, patches = P.hist(y_train, bins=10, histtype=\"bar\", rwidth=0.8)\n",
        "print(\"Train:\", n)\n",
        "n, bins, patches = P.hist(y_test, bins=10, histtype=\"bar\", rwidth=0.8 )\n",
        "print(\"Test:\", n)\n",
        "P.xlabel('Classes')\n",
        "P.ylabel('Distribution')\n",
        "P.title('Train/Test distribution')\n",
        "P.show()"
      ],
      "execution_count": 0,
      "outputs": [
        {
          "output_type": "stream",
          "text": [
            "Train: [5299. 6088. 5386. 5542. 5262. 4870. 5338. 5632. 5266. 5317.]\n",
            "Test: [ 980. 1135. 1032. 1010.  982.  892.  958. 1028.  974. 1009.]\n"
          ],
          "name": "stdout"
        },
        {
          "output_type": "display_data",
          "data": {
            "image/png": "[encoded data removed]",
            "text/plain": [
              "<matplotlib.figure.Figure at 0x7f9158090d30>"
            ]
          },
          "metadata": {
            "tags": []
          }
        }
      ]
    },
    {
      "cell_type": "code",
      "metadata": {
        "colab_type": "code",
        "id": "5C_DYDAE65Mz",
        "outputId": "b97fc78e-8e3a-486c-d339-98feccdc8a55",
        "colab": {
          "base_uri": "https://localhost:8080/",
          "height": 90
        }
      },
      "source": [
        "print(\"Max value:\", np.max(X_train[0]))\n",
        "print(\"Min value:\", np.min(X_train[0]))\n",
        "print(\"Mean:\", np.mean(X_train[0]))\n",
        "print(\"Std:\", np.std(X_train[0]))"
      ],
      "execution_count": 0,
      "outputs": [
        {
          "output_type": "stream",
          "text": [
            "Max value: 255\n",
            "Min value: 0\n",
            "Mean: 11.565051020408163\n",
            "Std: 45.77647391710191\n"
          ],
          "name": "stdout"
        }
      ]
    },
    {
      "cell_type": "markdown",
      "metadata": {
        "colab_type": "text",
        "id": "Hln7rscN65M2"
      },
      "source": [
        "## Visualize some MNIST images"
      ]
    },
    {
      "cell_type": "code",
      "metadata": {
        "colab_type": "code",
        "id": "w0HpFtdF65M2",
        "outputId": "3dbe0c91-67fd-426d-cac8-e81f96cd5adb",
        "colab": {
          "base_uri": "https://localhost:8080/",
          "height": 377
        }
      },
      "source": [
        "fig = plt.figure(1, (6., 6.))\n",
        "grid = ImageGrid(fig, 111,  # similar to subplot(111)\n",
        "                 nrows_ncols=(4, 4),  # creates 2x2 grid of axes\n",
        "                 axes_pad=0.1,  # pad between axes in inch.\n",
        "                 )\n",
        "\n",
        "for i in range(16):\n",
        "    grid[i].imshow(X_train[i], cmap=\"gray\")  # The AxesGrid object work as a list of axes.\n",
        "\n",
        "plt.show()"
      ],
      "execution_count": 0,
      "outputs": [
        {
          "output_type": "display_data",
          "data": {
            "image/png": "[encoded data removed]",
            "text/plain": [
              "<matplotlib.figure.Figure at 0x7f91557ffd68>"
            ]
          },
          "metadata": {
            "tags": []
          }
        }
      ]
    },
    {
      "cell_type": "markdown",
      "metadata": {
        "colab_type": "text",
        "id": "GD40dOS165M6"
      },
      "source": [
        "## Building our Neural Net"
      ]
    },
    {
      "cell_type": "markdown",
      "metadata": {
        "colab_type": "text",
        "id": "TtwfoK4X65M7"
      },
      "source": [
        "\n",
        "![alt text](http://cs231n.github.io/assets/cnn/convnet.jpeg)\n",
        "\n",
        "The basic architecture follows a simple sequence of operations.\n",
        "1. Convolution\n",
        "2. Activation function\n",
        "3. Pooling\n",
        "4. Fully-Connected layers \n",
        "\n",
        "In the end, to build the classification layer, we usually use a fully-connected layer.\n",
        "\n",
        "Refer to these links for full documentations:\n",
        "\n",
        "- [Keras Conv2D](https://www.tensorflow.org/api_docs/python/tf/keras/layers/Conv2D)\n",
        "- [Keras Activation](https://www.tensorflow.org/api_docs/python/tf/keras/layers/Activation)\n",
        "- [Keras MaxPool2D](https://www.tensorflow.org/api_docs/python/tf/keras/layers/MaxPool2D)\n",
        "- [Keras Dense](https://www.tensorflow.org/api_docs/python/tf/keras/layers/Dense)\n",
        "\n",
        "\n",
        "![LeNet-5](https://world4jason.gitbooks.io/research-log/content/deepLearning/CNN/img/lenet.png)\n",
        "\n",
        "\n",
        "## Convolutions and Non-linearity\n",
        "\n",
        "The convolution is a linear operation that uses **small local receptive fields** that pass over an image to create feature maps between the input and the next layer. \n",
        "\n",
        "Its main advantage is that we do not need to engineer the features (filter).\n",
        "- The network will learn them for us.\n",
        "\n",
        "Also, Convolution are very memory efficient.\n",
        "- They **share parameters** across space.\n",
        "\n",
        "![Convolution](http://deeplearning.net/software/theano/_images/numerical_padding_strides.gif)\n",
        "\n",
        "Non-linearity is what makes DNN cool.\n",
        "\n",
        "ReLU (rectified linear Unit) is one of the most simple functions one can think of.\n",
        "- Yet, they do just what we need. **Non-linearity** and **Differentiability**.\n",
        "\n",
        "![NonLinearity](https://tiny.colaflycdn.com/static/img/learn/relu.png)"
      ]
    },
    {
      "cell_type": "markdown",
      "metadata": {
        "colab_type": "text",
        "id": "9LTfrgyDo7_o"
      },
      "source": [
        "## Exercise:\n",
        "\n",
        "Build your own DNN using eager execution.\n",
        "\n",
        "Hint: Use the [Keras layers](https://www.tensorflow.org/api_docs/python/tf/keras/layers) built into Tensorflow.\n",
        "\n",
        "Convolutional Net template:\n",
        "\n",
        "\n",
        "\n",
        "\n"
      ]
    },
    {
      "cell_type": "code",
      "metadata": {
        "colab_type": "code",
        "id": "G8Qn-lB4Np8b",
        "colab": {}
      },
      "source": [
        "# def ConvNet():\n",
        "#   Conv()\n",
        "#   Pooling()\n",
        "#   Conv()\n",
        "#   Pooling()\n",
        "#   ...\n",
        "#   Flatten()\n",
        "#   Dense()\n",
        "#   Dense()\n",
        "#   ...\n",
        "#   Classification layer - Dense()"
      ],
      "execution_count": 0,
      "outputs": []
    },
    {
      "cell_type": "markdown",
      "metadata": {
        "colab_type": "text",
        "id": "CC9vwoYdN0wo"
      },
      "source": [
        "*tf.keras.layers.Conv2D(filters, kernel_size, strides, padding, activation=tf.nn.relu, use_bias)*\n",
        "- filters: Number of convolutional filters. Can be 16, 32, 48 .\n",
        "- kernel_size: The size of the filter. Usually 3, or 5.\n",
        "- strides: Number of pixels that the filter should skip. Usually 1 or 2 (if 2, the output will have a smaller size).\n",
        "- padding: One of 'same' or 'valid'. Valid padding means no padding.\n",
        "\n",
        "\n",
        "*tf.keras.layers.MaxPool2D(pool_size, strides=2, padding='same')*\n",
        "- Used to reduce the features spatial dimensions.\n",
        "\n",
        "- pool_size: Size of the pooling window. Usually, 2\n",
        "- strides: Go with 2.\n",
        "- padding: Go with 'same'. We want to reduce the feature vectors dimensions!\n",
        "\n",
        "*tf.keras.layers.Dense(units=128, activation=tf.nn.relu)*\n",
        "\n",
        "- units: Number of neuron units: 96, 128, 256, 512 ...\n",
        "\n",
        "Build a last Dense layer and set the *units* to have the **number of classes** of the dataset and **no Activation Function**."
      ]
    },
    {
      "cell_type": "code",
      "metadata": {
        "colab_type": "code",
        "id": "aJwsbTjl65M8",
        "colab": {}
      },
      "source": [
        "class MNISTModel(tf.keras.Model):\n",
        "    \n",
        "    def __init__(self):\n",
        "        super(MNISTModel, self).__init__() # Call the super class constructor\n",
        "        \n",
        "        # Now define the layers of your model\n",
        "        # The convolutions, ReLUs and classifications layers goes here\n",
        "        # CODE GOES HERE\n",
        "        self.conv1 = tf.keras.layers.Conv2D(filters=32, kernel_size=3, strides=(1, 1),\n",
        "                                            padding='same', activation=tf.nn.relu, use_bias=True)\n",
        "        self.pool1 = tf.keras.layers.MaxPool2D(pool_size=2, strides=2, padding=\"same\")\n",
        "        self.flatten = tf.layers.Flatten()\n",
        "        self.fc1 = tf.keras.layers.Dense(units=128, activation=tf.nn.relu)\n",
        "        self.logits = tf.keras.layers.Dense(units=10)\n",
        "\n",
        "    def call(self, inputs):\n",
        "        # Use the layers defined in the constructor\n",
        "        # Here, we define the model hierarchical computations\n",
        "        # Start by passing the inputs to the first Conv layer and chain the results to the next layers\n",
        "        # CODE GOES GERE\n",
        "        conv1 = self.conv1(inputs)\n",
        "        pool1 = self.pool1(conv1)\n",
        "        flat = self.flatten(pool1)\n",
        "        fc1 = self.fc1(flat)\n",
        "        logits = self.logits(fc1)\n",
        "        return logits"
      ],
      "execution_count": 0,
      "outputs": []
    },
    {
      "cell_type": "markdown",
      "metadata": {
        "colab_type": "text",
        "id": "zuCA-haQNTsu"
      },
      "source": [
        "# Loss\n",
        "\n",
        "The loss function (or objective) is responsible for measuring how **good/bad** our classifier is doing. \n",
        "\n",
        "There are many loss functions.\n",
        "\n",
        "For **multiclass problems**, we usually use the **cross-entropy** function.\n",
        "\n",
        "The cross-entropy loss (log-loss) is used to measure the performance of a classifier that outputs probabilities.\n",
        "\n",
        "![alt text](https://github.com/sthalles/tensorflow-tutorials/blob/master/images/cross_entropy.png?raw=true)\n",
        "\n",
        "- The cross-entropy **increases** when the predicted value deviates from the true values and **decreases** otherwise.\n",
        "\n",
        "One-hot encoding is a form of representing categorical data so that each category (class) contains the same power (magnitude) over one another.\n",
        "\n",
        "![One-hot encodding representation](https://encrypted-tbn0.gstatic.com/images?q=tbn:ANd9GcRRo9fhLj8UpmziNvD_eifQ3SkjybaaGmlfLd5Z2fsDn3XaASUoWw)\n",
        "\n",
        "### Exercise:\n",
        "\n",
        "Finish the **loss()** function bellow.\n",
        "\n",
        "1. Remember, our labels are vectors. *Example: [0, 3, 2, 5, 6, ..., 5]*. \n",
        "\n",
        "2. Each number represents the image corresponding class. However, in order to make the labels equally valued, we need to convert them to binary representations (**one-hot-encoding**).\n",
        "\n",
        "3. Use the [tf.one_hot()](https://www.tensorflow.org/api_docs/python/tf/one_hot) function to convert the labels to the proper format.\n",
        "\n",
        "4. For the cross-entropy loss you can choose to **write it your self** or use the built-in [tf.nn.softmax_cross_entropy_with_logits_v2()](https://www.tensorflow.org/api_docs/python/tf/nn/softmax_cross_entropy_with_logits_v2). \n",
        "\n",
        "  - If you take the challenge of writing it, [tf.multiply()](https://www.tensorflow.org/api_docs/python/tf/multiply) and [tf.log()](https://www.tensorflow.org/api_docs/python/tf/log) will help. "
      ]
    },
    {
      "cell_type": "code",
      "metadata": {
        "colab_type": "code",
        "id": "Mae8x2hL65NB",
        "colab": {}
      },
      "source": [
        "def loss(logits, labels):\n",
        "  # YOUR CODE GOES HERE\n",
        "  labels_one_hot = tf.one_hot(labels, 10)\n",
        "  \n",
        "  # cross_entropy = tf.nn.softmax_cross_entropy_with_logits_v2(labels=labels_one_hot, logits=logits)\n",
        "  # print(cross_entropy.shape)\n",
        "\n",
        "  cross_entropy = tf.multiply(labels_one_hot, tf.log(tf.nn.softmax(logits))) # element wise multiplication\n",
        "  return - tf.reduce_mean(cross_entropy)"
      ],
      "execution_count": 0,
      "outputs": []
    },
    {
      "cell_type": "markdown",
      "metadata": {
        "colab_type": "text",
        "id": "N76qN4L_nkjz"
      },
      "source": [
        "## Exercise - Hyperparameters\n",
        "\n",
        "\n",
        "Tune the hyperparameters bellow.\n",
        "- Remember: The learning rate controls how fast your model learns. \n",
        "- A bigger learning rate might get you to a sub-optimal objective faster, but you might **overshoot the target.**"
      ]
    },
    {
      "cell_type": "code",
      "metadata": {
        "colab_type": "code",
        "id": "20uC6p7inXvK",
        "colab": {}
      },
      "source": [
        "## CODE GOES HERE\n",
        "epochs = 1\n",
        "batch_size = 32\n",
        "learning_rate = 0.001"
      ],
      "execution_count": 0,
      "outputs": []
    },
    {
      "cell_type": "markdown",
      "metadata": {
        "colab_type": "text",
        "id": "dBp6U-eDJLhg"
      },
      "source": [
        "# Optimizers\n",
        "\n",
        "The Optimizer is the algorithm responsible for applying the gradients to the Model's weight variables. \n",
        "\n",
        "Imagine a curved surface (just an example), the goal is to find the minimal value of that surface. \n",
        "\n",
        "The Gradient points to the direction of **steepest ascent**. Thus, we follow the opposite direction of the gradient (**steepest descent**).\n",
        "\n",
        "These are some of the Optimizers available in Tensorflow\n",
        "\n",
        "- **AdadeltaOptimizer**: Optimizer that implements the Adadelta algorithm.\n",
        "\n",
        "- **AdagradOptimizer**: Optimizer that implements the Adagrad algorithm.\n",
        "\n",
        "- **AdamOptimizer**: Optimizer that implements the Adam algorithm.\n",
        "\n",
        "- **GradientDescentOptimizer**: Optimizer that implements the gradient descent algorithm.\n",
        "\n",
        "- **MomentumOptimizer**: Optimizer that implements the Momentum algorithm.\n",
        "\n",
        "[Tensorflow Build-in Optimizers](https://www.tensorflow.org/versions/r1.2/api_docs/python/tf/train)\n",
        "\n",
        "## Exercise:\n",
        "\n",
        "1. Pick one of these optimizers and  use it to minimize the loss function for your model.\n"
      ]
    },
    {
      "cell_type": "markdown",
      "metadata": {
        "colab_type": "text",
        "id": "986czgX1GqWC"
      },
      "source": [
        "![alt text](https://cs231n.github.io/assets/nn3/opt1.gif)"
      ]
    },
    {
      "cell_type": "code",
      "metadata": {
        "colab_type": "code",
        "id": "25d9ASXb65NE",
        "colab": {}
      },
      "source": [
        "# Choose one of the optimizers and set an initial learning rate\n",
        "# CODE GOES HERE\n",
        "optimizer = tf.train.AdamOptimizer(learning_rate=learning_rate)"
      ],
      "execution_count": 0,
      "outputs": []
    },
    {
      "cell_type": "code",
      "metadata": {
        "colab_type": "code",
        "id": "dgYl_Px-65NH",
        "colab": {}
      },
      "source": [
        "# Create the model\n",
        "model = MNISTModel()"
      ],
      "execution_count": 0,
      "outputs": []
    },
    {
      "cell_type": "code",
      "metadata": {
        "colab_type": "code",
        "id": "0rCf3g0u8u00",
        "colab": {}
      },
      "source": [
        "dataset = tf.data.Dataset.from_tensor_slices((X_train, y_train))\n",
        "dataset = dataset.map(normalizer)\n",
        "dataset = dataset.shuffle(1000) # shuffle before each epoch and bufferize some data\n",
        "dataset = dataset.repeat(epochs) # number of epochs\n",
        "dataset = dataset.batch(batch_size) # batch size\n",
        "\n",
        "val_dataset = tf.data.Dataset.from_tensor_slices((X_val, y_val))\n",
        "val_dataset = val_dataset.map(normalizer)\n",
        "val_dataset = val_dataset.repeat(1) # number of epochs\n",
        "val_dataset = val_dataset.batch(128) # batch size"
      ],
      "execution_count": 0,
      "outputs": []
    },
    {
      "cell_type": "markdown",
      "metadata": {
        "colab_type": "text",
        "id": "U78KTudAy6En"
      },
      "source": [
        "## Exercise\n",
        "\n",
        "Finish the training loop. The main part is the **Gradient Tape**. It accumulates gradients for a batch.\n",
        "\n",
        "Inside the **GradientTape()** scope:\n",
        "1. Compute the logits, run a forward pass through the model.\n",
        "2. Use the logits to compute the loss value i.e. call the **loss()** function.\n",
        "3. Outside of the **GradientTape()** scope compute the **gradient of the loss with respect to the weights**."
      ]
    },
    {
      "cell_type": "code",
      "metadata": {
        "colab_type": "code",
        "id": "yKkQFfHl65NK",
        "outputId": "70d0063c-4541-495b-d198-94ffe11e8a81",
        "colab": {
          "base_uri": "https://localhost:8080/",
          "height": 635
        }
      },
      "source": [
        "train_epoch_loss_avg = tfe.metrics.Mean()\n",
        "train_epoch_accuracy = tfe.metrics.Accuracy()\n",
        "\n",
        "for (step, (images, labels)) in enumerate(tfe.Iterator(dataset)):\n",
        "  with tfe.GradientTape() as tape:\n",
        "    # Call the model() here and pass it the input batches\n",
        "    logits = model(tf.expand_dims(images, axis=3))\n",
        "    \n",
        "    # Call the loss() function - That will give you the loss signal for the given batch\n",
        "    loss_value = loss(logits, labels)\n",
        "   \n",
        "  # Compute the gradient of the loss with respect to the models' weights\n",
        "  grads = tape.gradient(loss_value, model.variables)\n",
        "  \n",
        "  optimizer.apply_gradients(zip(grads, model.variables),\n",
        "                            global_step=tf.train.get_or_create_global_step())\n",
        "  \n",
        "  train_epoch_loss_avg(loss_value)\n",
        "  train_epoch_accuracy(tf.cast(tf.argmax(logits, axis=1), tf.uint8), labels)\n",
        "  \n",
        "  if step % 100 == 0:\n",
        "    val_predictions = []\n",
        "    for (val_step, (val_images, val_labels)) in enumerate(tfe.Iterator(val_dataset)):\n",
        "      val_logits = model(tf.expand_dims(val_images, axis=3))\n",
        "      val_pred = tf.argmax(val_logits, axis=1)\n",
        "      val_predictions.extend(val_pred)\n",
        "      \n",
        "    print(\"Training loss: {: .3}\\tTrain Accuracy: {: .3}\\tValidation Accuracy: {: .3}\".format(train_epoch_loss_avg.result(), train_epoch_accuracy.result(), accuracy_score(val_predictions, y_val)))"
      ],
      "execution_count": 0,
      "outputs": [
        {
          "output_type": "stream",
          "text": [
            "Training loss:  0.178\tTrain Accuracy:  0.5\tValidation Accuracy:  0.525\n",
            "Training loss:  0.066\tTrain Accuracy:  0.807\tValidation Accuracy:  0.888\n",
            "Training loss:  0.0513\tTrain Accuracy:  0.848\tValidation Accuracy:  0.908\n",
            "Training loss:  0.0443\tTrain Accuracy:  0.869\tValidation Accuracy:  0.915\n",
            "Training loss:  0.0388\tTrain Accuracy:  0.887\tValidation Accuracy:  0.938\n",
            "Training loss:  0.0354\tTrain Accuracy:  0.896\tValidation Accuracy:  0.947\n",
            "Training loss:  0.0325\tTrain Accuracy:  0.904\tValidation Accuracy:  0.954\n",
            "Training loss:  0.0302\tTrain Accuracy:  0.911\tValidation Accuracy:  0.96\n",
            "Training loss:  0.0283\tTrain Accuracy:  0.917\tValidation Accuracy:  0.961\n",
            "Training loss:  0.0266\tTrain Accuracy:  0.921\tValidation Accuracy:  0.963\n",
            "Training loss:  0.025\tTrain Accuracy:  0.926\tValidation Accuracy:  0.969\n",
            "Training loss:  0.0237\tTrain Accuracy:  0.93\tValidation Accuracy:  0.969\n",
            "Training loss:  0.0228\tTrain Accuracy:  0.932\tValidation Accuracy:  0.972\n",
            "Training loss:  0.0221\tTrain Accuracy:  0.935\tValidation Accuracy:  0.962\n",
            "Training loss:  0.0213\tTrain Accuracy:  0.937\tValidation Accuracy:  0.975\n",
            "Training loss:  0.0207\tTrain Accuracy:  0.939\tValidation Accuracy:  0.973\n",
            "Training loss:  0.0199\tTrain Accuracy:  0.941\tValidation Accuracy:  0.975\n",
            "Training loss:  0.0193\tTrain Accuracy:  0.943\tValidation Accuracy:  0.971\n",
            "Training loss:  0.0188\tTrain Accuracy:  0.945\tValidation Accuracy:  0.969\n",
            "Training loss:  0.0182\tTrain Accuracy:  0.946\tValidation Accuracy:  0.974\n",
            "Training loss:  0.0178\tTrain Accuracy:  0.947\tValidation Accuracy:  0.974\n",
            "Training loss:  0.0174\tTrain Accuracy:  0.948\tValidation Accuracy:  0.976\n",
            "Training loss:  0.0171\tTrain Accuracy:  0.949\tValidation Accuracy:  0.98\n",
            "Training loss:  0.0168\tTrain Accuracy:  0.95\tValidation Accuracy:  0.979\n",
            "Training loss:  0.0165\tTrain Accuracy:  0.951\tValidation Accuracy:  0.975\n",
            "Training loss:  0.0161\tTrain Accuracy:  0.952\tValidation Accuracy:  0.976\n",
            "Training loss:  0.0158\tTrain Accuracy:  0.953\tValidation Accuracy:  0.979\n",
            "Training loss:  0.0154\tTrain Accuracy:  0.954\tValidation Accuracy:  0.982\n",
            "Training loss:  0.0152\tTrain Accuracy:  0.955\tValidation Accuracy:  0.982\n",
            "Training loss:  0.015\tTrain Accuracy:  0.955\tValidation Accuracy:  0.98\n",
            "Training loss:  0.0147\tTrain Accuracy:  0.956\tValidation Accuracy:  0.979\n",
            "Training loss:  0.0144\tTrain Accuracy:  0.957\tValidation Accuracy:  0.982\n",
            "Training loss:  0.0142\tTrain Accuracy:  0.958\tValidation Accuracy:  0.98\n",
            "Training loss:  0.0139\tTrain Accuracy:  0.958\tValidation Accuracy:  0.982\n"
          ],
          "name": "stdout"
        }
      ]
    },
    {
      "cell_type": "code",
      "metadata": {
        "colab_type": "code",
        "id": "mi95YnV965NO",
        "colab": {}
      },
      "source": [
        "from sklearn.metrics import confusion_matrix\n",
        "import itertools\n",
        "\n",
        "def plot_confusion_matrix(cm, classes,\n",
        "                          normalize=False,\n",
        "                          title='Confusion matrix',\n",
        "                          cmap=plt.cm.Blues):\n",
        "    \"\"\"\n",
        "    This function prints and plots the confusion matrix.\n",
        "    Normalization can be applied by setting `normalize=True`.\n",
        "    \"\"\"\n",
        "    if normalize:\n",
        "        cm = cm.astype('float') / cm.sum(axis=1)[:, np.newaxis]\n",
        "        print(\"Normalized confusion matrix\")\n",
        "    else:\n",
        "        print('Confusion matrix, without normalization')\n",
        "\n",
        "    # print(cm)\n",
        "\n",
        "    plt.imshow(cm, interpolation='nearest', cmap=cmap)\n",
        "    plt.title(title)\n",
        "    plt.colorbar()\n",
        "    tick_marks = np.arange(len(classes))\n",
        "    plt.xticks(tick_marks, classes, rotation=45)\n",
        "    plt.yticks(tick_marks, classes)\n",
        "\n",
        "    fmt = '.2f' if normalize else 'd'\n",
        "    thresh = cm.max() / 2.\n",
        "    for i, j in itertools.product(range(cm.shape[0]), range(cm.shape[1])):\n",
        "        plt.text(j, i, format(cm[i, j], fmt),\n",
        "                 horizontalalignment=\"center\",\n",
        "                 color=\"white\" if cm[i, j] > thresh else \"black\")\n",
        "\n",
        "    plt.tight_layout()\n",
        "    plt.ylabel('True label')\n",
        "    plt.xlabel('Predicted label')\n",
        "    plt.show()\n",
        "    \n",
        "def normalized_acc(conf_matrix):\n",
        "    for i in range(conf_matrix.shape[0]):\n",
        "        print(\"Acc class {0} --> {1: .3}\".format(i, conf_matrix[i,i]/sum(conf_matrix[i])))"
      ],
      "execution_count": 0,
      "outputs": []
    },
    {
      "cell_type": "markdown",
      "metadata": {
        "colab_type": "text",
        "id": "zxZiK6_00pt6"
      },
      "source": [
        "## Evaluation\n",
        "\n",
        "Run the trained model using the testing dataset."
      ]
    },
    {
      "cell_type": "code",
      "metadata": {
        "colab_type": "code",
        "id": "pBS4S7kJ65NQ",
        "outputId": "e707dd2c-0a0c-46ac-d5fb-9fd794ad4916",
        "colab": {
          "base_uri": "https://localhost:8080/",
          "height": 35
        }
      },
      "source": [
        "test_dataset = tf.data.Dataset.from_tensor_slices((X_test, y_test))\n",
        "test_dataset = test_dataset.map(normalizer)\n",
        "test_dataset = test_dataset.repeat(1) # number of epochs\n",
        "test_dataset = test_dataset.batch(128) # batch size\n",
        "\n",
        "test_predictions = []\n",
        "for (_, (test_images, test_labels)) in enumerate(tfe.Iterator(test_dataset)):\n",
        "  test_logits = model(tf.expand_dims(test_images, axis=3))\n",
        "  test_pred = tf.argmax(test_logits, axis=1)\n",
        "  test_predictions.extend(test_pred)\n",
        "\n",
        "print(\"Test Overall Accuracy: {: .3}\".format(accuracy_score(test_predictions, y_test)))"
      ],
      "execution_count": 0,
      "outputs": [
        {
          "output_type": "stream",
          "text": [
            "Test Overall Accuracy:  0.981\n"
          ],
          "name": "stdout"
        }
      ]
    },
    {
      "cell_type": "code",
      "metadata": {
        "colab_type": "code",
        "id": "Y-tCNPPC65NR",
        "outputId": "d17ea147-506a-41f4-9f17-2f1cdf068c3d",
        "colab": {
          "base_uri": "https://localhost:8080/",
          "height": 434
        }
      },
      "source": [
        "conf_matrix = confusion_matrix(test_predictions, y_test)\n",
        "_ = plot_confusion_matrix(conf_matrix, classes=[str(i) for i in range(10)])"
      ],
      "execution_count": 0,
      "outputs": [
        {
          "output_type": "stream",
          "text": [
            "Confusion matrix, without normalization\n"
          ],
          "name": "stdout"
        },
        {
          "output_type": "display_data",
          "data": {
            "image/png": "[encoded data removed]",
            "text/plain": [
              "<matplotlib.figure.Figure at 0x7f9135ca87f0>"
            ]
          },
          "metadata": {
            "tags": []
          }
        }
      ]
    },
    {
      "cell_type": "code",
      "metadata": {
        "colab_type": "code",
        "id": "E7eLhsYGQQCX",
        "outputId": "6f3f60df-477c-4fa3-b5a4-5a836af91705",
        "colab": {
          "base_uri": "https://localhost:8080/",
          "height": 199
        }
      },
      "source": [
        "normalized_acc(conf_matrix)"
      ],
      "execution_count": 0,
      "outputs": [
        {
          "output_type": "stream",
          "text": [
            "Acc class 0 -->  0.959\n",
            "Acc class 1 -->  0.991\n",
            "Acc class 2 -->  0.981\n",
            "Acc class 3 -->  0.977\n",
            "Acc class 4 -->  0.99\n",
            "Acc class 5 -->  0.981\n",
            "Acc class 6 -->  0.995\n",
            "Acc class 7 -->  0.98\n",
            "Acc class 8 -->  0.97\n",
            "Acc class 9 -->  0.985\n"
          ],
          "name": "stdout"
        }
      ]
    }
  ]
}