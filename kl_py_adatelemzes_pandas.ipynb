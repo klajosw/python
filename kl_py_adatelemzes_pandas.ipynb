{
  "nbformat": 4,
  "nbformat_minor": 0,
  "metadata": {
    "anaconda-cloud": {},
    "hide_input": false,
    "kernelspec": {
      "display_name": "Python 3",
      "language": "python",
      "name": "python3"
    },
    "language_info": {
      "codemirror_mode": {
        "name": "ipython",
        "version": 3
      },
      "file_extension": ".py",
      "mimetype": "text/x-python",
      "name": "python",
      "nbconvert_exporter": "python",
      "pygments_lexer": "ipython3",
      "version": "3.7.4"
    },
    "toc": {
      "toc_cell": false,
      "toc_number_sections": false,
      "toc_section_display": "block",
      "toc_threshold": 6,
      "toc_window_display": false
    },
    "colab": {
      "name": "kl_py_adatelemzes_pandas.ipynb",
      "provenance": [],
      "collapsed_sections": [
        "xVnVYrYvY0te",
        "8yQdLtSFY0tp",
        "nKH2Re_TY0t0",
        "GqBWj8JQY0uB",
        "XflyUd8rY0uM",
        "_h3YXzrQY0uc",
        "lShO0vfwY0uw",
        "B8hCSJRhY0u5",
        "NwIlY4TGY0vG",
        "f1xMxe6LY0vI",
        "yR0pPbetY0vQ"
      ],
      "include_colab_link": true
    }
  },
  "cells": [
    {
      "cell_type": "markdown",
      "metadata": {
        "id": "view-in-github",
        "colab_type": "text"
      },
      "source": [
        "<a href=\"https://colab.research.google.com/github/klajosw/python/blob/master/kl_py_adatelemzes_pandas.ipynb\" target=\"_parent\"><img src=\"https://colab.research.google.com/assets/colab-badge.svg\" alt=\"Open In Colab\"/></a>"
      ]
    },
    {
      "cell_type": "markdown",
      "metadata": {
        "id": "g3OW4owgY0s3",
        "colab_type": "text"
      },
      "source": [
        "# Adatelemzés Pandas könyvtár használatával\n",
        "\n",
        "Mérési vagy szimulációs adatainkat gyakran célszerűbb a puszta számokat tartalmazó *list* vagy *numpy.array* adatszerkezet helyett a *pandas* könyvtár *DataFrame* osztályában tárolunk.\n",
        "\n",
        "Mostmár a számok mellett feliratozni is tudjuk a sorokat, illetve oszlopokat, illetve a különböző oszlopokban különböző adattípusok lehetnek.\n",
        "\n",
        "A *DataFrame*-re gondolhatunk úgy, mint egy szokásos Excel-táblázatra, az osztályhoz tartozó függvények egy része ugyanis nagyon hasonlít a táblázatkezelőkből ismertekére. \n",
        "\n",
        "Használata első ránézésre talán bonyolultnak tűnhet, de mindenképpen megéri a befektetett energiát.\n",
        "\n"
      ]
    },
    {
      "cell_type": "code",
      "metadata": {
        "id": "VLHrc1M9Y0s5",
        "colab_type": "code",
        "colab": {}
      },
      "source": [
        "import pandas as pd"
      ],
      "execution_count": 0,
      "outputs": []
    },
    {
      "cell_type": "markdown",
      "metadata": {
        "id": "L0-CMK75Y0s8",
        "colab_type": "text"
      },
      "source": [
        "## Beolvasás fájlból"
      ]
    },
    {
      "cell_type": "markdown",
      "metadata": {
        "id": "h2yiVbndY0s8",
        "colab_type": "text"
      },
      "source": [
        "Legtöbbször vesszővel vagy tabulátorral elválasztott értékeket (amit a `sep` kulcsszóval állíthatunk be, ha szükséges) olvasunk be egyszerű szövegfájlokból. Itt be kell állítanunk, hogy a táblázatunk tartalmaz-e fejlécet (`header`), illetve hogy a soroknak van-e nevük (`index`).\n",
        "\n",
        "Az alapértelmezett beállítás megpróbálja kitalálni, hogy van-e fejléc, és a sorokat magától megszámozza."
      ]
    },
    {
      "cell_type": "code",
      "metadata": {
        "id": "IyARhR8EY0s9",
        "colab_type": "code",
        "colab": {},
        "outputId": "dd8d6cbf-14ac-4639-d096-36d443b739f0"
      },
      "source": [
        "pd.read_csv(\".\\kisnevsor2.csv\")"
      ],
      "execution_count": 0,
      "outputs": [
        {
          "output_type": "execute_result",
          "data": {
            "text/html": [
              "<div>\n",
              "<style scoped>\n",
              "    .dataframe tbody tr th:only-of-type {\n",
              "        vertical-align: middle;\n",
              "    }\n",
              "\n",
              "    .dataframe tbody tr th {\n",
              "        vertical-align: top;\n",
              "    }\n",
              "\n",
              "    .dataframe thead th {\n",
              "        text-align: right;\n",
              "    }\n",
              "</style>\n",
              "<table border=\"1\" class=\"dataframe\">\n",
              "  <thead>\n",
              "    <tr style=\"text-align: right;\">\n",
              "      <th></th>\n",
              "      <th>0</th>\n",
              "      <th>0.1</th>\n",
              "      <th>Eszter</th>\n",
              "      <th>Orsi</th>\n",
              "      <th>Nem</th>\n",
              "      <th>Kor</th>\n",
              "    </tr>\n",
              "  </thead>\n",
              "  <tbody>\n",
              "    <tr>\n",
              "      <td>0</td>\n",
              "      <td>0</td>\n",
              "      <td>Bálint</td>\n",
              "      <td>2</td>\n",
              "      <td>3</td>\n",
              "      <td>fiú</td>\n",
              "      <td>20</td>\n",
              "    </tr>\n",
              "    <tr>\n",
              "      <td>1</td>\n",
              "      <td>1</td>\n",
              "      <td>Csenge</td>\n",
              "      <td>4</td>\n",
              "      <td>4</td>\n",
              "      <td>lány</td>\n",
              "      <td>22</td>\n",
              "    </tr>\n",
              "    <tr>\n",
              "      <td>2</td>\n",
              "      <td>2</td>\n",
              "      <td>István</td>\n",
              "      <td>5</td>\n",
              "      <td>4</td>\n",
              "      <td>fiú</td>\n",
              "      <td>19</td>\n",
              "    </tr>\n",
              "    <tr>\n",
              "      <td>3</td>\n",
              "      <td>3</td>\n",
              "      <td>Zita</td>\n",
              "      <td>3</td>\n",
              "      <td>5</td>\n",
              "      <td>lány</td>\n",
              "      <td>20</td>\n",
              "    </tr>\n",
              "  </tbody>\n",
              "</table>\n",
              "</div>"
            ],
            "text/plain": [
              "   0     0.1  Eszter  Orsi   Nem  Kor\n",
              "0  0  Bálint       2     3   fiú   20\n",
              "1  1  Csenge       4     4  lány   22\n",
              "2  2  István       5     4   fiú   19\n",
              "3  3    Zita       3     5  lány   20"
            ]
          },
          "metadata": {
            "tags": []
          },
          "execution_count": 9
        }
      ]
    },
    {
      "cell_type": "markdown",
      "metadata": {
        "id": "DatkrvDXY0tA",
        "colab_type": "text"
      },
      "source": [
        "Mi viszont azt szeretnénk, ha a legelső oszlopot a sorok neveiként olvasnánk be, mint az exceles esetben."
      ]
    },
    {
      "cell_type": "code",
      "metadata": {
        "id": "b4QOdJzrY0tB",
        "colab_type": "code",
        "colab": {},
        "outputId": "d8e6414d-4dc0-4f01-d675-ef088f7727ed"
      },
      "source": [
        "pd.read_csv(\"kisnevsor2.csv\",index_col=0)"
      ],
      "execution_count": 0,
      "outputs": [
        {
          "output_type": "execute_result",
          "data": {
            "text/html": [
              "<div>\n",
              "<style scoped>\n",
              "    .dataframe tbody tr th:only-of-type {\n",
              "        vertical-align: middle;\n",
              "    }\n",
              "\n",
              "    .dataframe tbody tr th {\n",
              "        vertical-align: top;\n",
              "    }\n",
              "\n",
              "    .dataframe thead th {\n",
              "        text-align: right;\n",
              "    }\n",
              "</style>\n",
              "<table border=\"1\" class=\"dataframe\">\n",
              "  <thead>\n",
              "    <tr style=\"text-align: right;\">\n",
              "      <th></th>\n",
              "      <th>0</th>\n",
              "      <th>Eszter</th>\n",
              "      <th>Orsi</th>\n",
              "      <th>Nem</th>\n",
              "      <th>Kor</th>\n",
              "    </tr>\n",
              "    <tr>\n",
              "      <th>0</th>\n",
              "      <th></th>\n",
              "      <th></th>\n",
              "      <th></th>\n",
              "      <th></th>\n",
              "      <th></th>\n",
              "    </tr>\n",
              "  </thead>\n",
              "  <tbody>\n",
              "    <tr>\n",
              "      <td>0</td>\n",
              "      <td>Bálint</td>\n",
              "      <td>2</td>\n",
              "      <td>3</td>\n",
              "      <td>fiú</td>\n",
              "      <td>20</td>\n",
              "    </tr>\n",
              "    <tr>\n",
              "      <td>1</td>\n",
              "      <td>Csenge</td>\n",
              "      <td>4</td>\n",
              "      <td>4</td>\n",
              "      <td>lány</td>\n",
              "      <td>22</td>\n",
              "    </tr>\n",
              "    <tr>\n",
              "      <td>2</td>\n",
              "      <td>István</td>\n",
              "      <td>5</td>\n",
              "      <td>4</td>\n",
              "      <td>fiú</td>\n",
              "      <td>19</td>\n",
              "    </tr>\n",
              "    <tr>\n",
              "      <td>3</td>\n",
              "      <td>Zita</td>\n",
              "      <td>3</td>\n",
              "      <td>5</td>\n",
              "      <td>lány</td>\n",
              "      <td>20</td>\n",
              "    </tr>\n",
              "  </tbody>\n",
              "</table>\n",
              "</div>"
            ],
            "text/plain": [
              "        0  Eszter  Orsi   Nem  Kor\n",
              "0                                 \n",
              "0  Bálint       2     3   fiú   20\n",
              "1  Csenge       4     4  lány   22\n",
              "2  István       5     4   fiú   19\n",
              "3    Zita       3     5  lány   20"
            ]
          },
          "metadata": {
            "tags": []
          },
          "execution_count": 13
        }
      ]
    },
    {
      "cell_type": "markdown",
      "metadata": {
        "id": "DavzajyMY0tD",
        "colab_type": "text"
      },
      "source": [
        "Most a fejlécbeolvasót kikapcsoljuk. Így az első sor ismeretlen (`NaN`) sorfelirattal bekerül az értékek elé, az oszlopok pedig 0-tól számozódnak."
      ]
    },
    {
      "cell_type": "code",
      "metadata": {
        "id": "7dW67-PsY0tD",
        "colab_type": "code",
        "colab": {},
        "outputId": "96684ffe-f2dd-4d06-f484-5d81a2871223"
      },
      "source": [
        "pd.read_csv(\"kisnevsor2.csv\",header=None,index_col=0)"
      ],
      "execution_count": 0,
      "outputs": [
        {
          "output_type": "execute_result",
          "data": {
            "text/html": [
              "<div>\n",
              "<style scoped>\n",
              "    .dataframe tbody tr th:only-of-type {\n",
              "        vertical-align: middle;\n",
              "    }\n",
              "\n",
              "    .dataframe tbody tr th {\n",
              "        vertical-align: top;\n",
              "    }\n",
              "\n",
              "    .dataframe thead th {\n",
              "        text-align: right;\n",
              "    }\n",
              "</style>\n",
              "<table border=\"1\" class=\"dataframe\">\n",
              "  <thead>\n",
              "    <tr style=\"text-align: right;\">\n",
              "      <th></th>\n",
              "      <th>1</th>\n",
              "      <th>2</th>\n",
              "      <th>3</th>\n",
              "      <th>4</th>\n",
              "      <th>5</th>\n",
              "    </tr>\n",
              "    <tr>\n",
              "      <th>0</th>\n",
              "      <th></th>\n",
              "      <th></th>\n",
              "      <th></th>\n",
              "      <th></th>\n",
              "      <th></th>\n",
              "    </tr>\n",
              "  </thead>\n",
              "  <tbody>\n",
              "    <tr>\n",
              "      <td>0</td>\n",
              "      <td>0</td>\n",
              "      <td>Eszter</td>\n",
              "      <td>Orsi</td>\n",
              "      <td>Nem</td>\n",
              "      <td>Kor</td>\n",
              "    </tr>\n",
              "    <tr>\n",
              "      <td>0</td>\n",
              "      <td>Bálint</td>\n",
              "      <td>2</td>\n",
              "      <td>3</td>\n",
              "      <td>fiú</td>\n",
              "      <td>20</td>\n",
              "    </tr>\n",
              "    <tr>\n",
              "      <td>1</td>\n",
              "      <td>Csenge</td>\n",
              "      <td>4</td>\n",
              "      <td>4</td>\n",
              "      <td>lány</td>\n",
              "      <td>22</td>\n",
              "    </tr>\n",
              "    <tr>\n",
              "      <td>2</td>\n",
              "      <td>István</td>\n",
              "      <td>5</td>\n",
              "      <td>4</td>\n",
              "      <td>fiú</td>\n",
              "      <td>19</td>\n",
              "    </tr>\n",
              "    <tr>\n",
              "      <td>3</td>\n",
              "      <td>Zita</td>\n",
              "      <td>3</td>\n",
              "      <td>5</td>\n",
              "      <td>lány</td>\n",
              "      <td>20</td>\n",
              "    </tr>\n",
              "  </tbody>\n",
              "</table>\n",
              "</div>"
            ],
            "text/plain": [
              "        1       2     3     4    5\n",
              "0                                 \n",
              "0       0  Eszter  Orsi   Nem  Kor\n",
              "0  Bálint       2     3   fiú   20\n",
              "1  Csenge       4     4  lány   22\n",
              "2  István       5     4   fiú   19\n",
              "3    Zita       3     5  lány   20"
            ]
          },
          "metadata": {
            "tags": []
          },
          "execution_count": 16
        }
      ]
    },
    {
      "cell_type": "markdown",
      "metadata": {
        "id": "jrzA497JY0tF",
        "colab_type": "text"
      },
      "source": [
        "Ha elfelejtettük beállítani az oszlopok neveit eredetileg, utólag is megtehetjük azt a `.set_index(oszlopnev)` függvény segítségével. A `set_index()` függvény visszatérési értéke alapesetben az új oszloppal indexelt *DataFrame*."
      ]
    },
    {
      "cell_type": "code",
      "metadata": {
        "id": "lw4p9UNXY0tG",
        "colab_type": "code",
        "colab": {},
        "outputId": "70f0376f-fb26-4b1b-88cd-9ec1646ffc65"
      },
      "source": [
        "nevsor=pd.read_csv(\"kisnevsor2.csv\")\n",
        "ujnevsor=nevsor.set_index(\"Unnamed: 0\")"
      ],
      "execution_count": 0,
      "outputs": [
        {
          "output_type": "error",
          "ename": "KeyError",
          "evalue": "\"None of ['Unnamed: 0'] are in the columns\"",
          "traceback": [
            "\u001b[1;31m---------------------------------------------------------------------------\u001b[0m",
            "\u001b[1;31mKeyError\u001b[0m                                  Traceback (most recent call last)",
            "\u001b[1;32m<ipython-input-20-0b435c06a612>\u001b[0m in \u001b[0;36m<module>\u001b[1;34m\u001b[0m\n\u001b[0;32m      1\u001b[0m \u001b[0mnevsor\u001b[0m\u001b[1;33m=\u001b[0m\u001b[0mpd\u001b[0m\u001b[1;33m.\u001b[0m\u001b[0mread_csv\u001b[0m\u001b[1;33m(\u001b[0m\u001b[1;34m\"kisnevsor2.csv\"\u001b[0m\u001b[1;33m)\u001b[0m\u001b[1;33m\u001b[0m\u001b[1;33m\u001b[0m\u001b[0m\n\u001b[1;32m----> 2\u001b[1;33m \u001b[0mujnevsor\u001b[0m\u001b[1;33m=\u001b[0m\u001b[0mnevsor\u001b[0m\u001b[1;33m.\u001b[0m\u001b[0mset_index\u001b[0m\u001b[1;33m(\u001b[0m\u001b[1;34m\"Unnamed: 0\"\u001b[0m\u001b[1;33m)\u001b[0m\u001b[1;33m\u001b[0m\u001b[1;33m\u001b[0m\u001b[0m\n\u001b[0m",
            "\u001b[1;32m~\\Anaconda3\\lib\\site-packages\\pandas\\core\\frame.py\u001b[0m in \u001b[0;36mset_index\u001b[1;34m(self, keys, drop, append, inplace, verify_integrity)\u001b[0m\n\u001b[0;32m   4394\u001b[0m \u001b[1;33m\u001b[0m\u001b[0m\n\u001b[0;32m   4395\u001b[0m         \u001b[1;32mif\u001b[0m \u001b[0mmissing\u001b[0m\u001b[1;33m:\u001b[0m\u001b[1;33m\u001b[0m\u001b[1;33m\u001b[0m\u001b[0m\n\u001b[1;32m-> 4396\u001b[1;33m             \u001b[1;32mraise\u001b[0m \u001b[0mKeyError\u001b[0m\u001b[1;33m(\u001b[0m\u001b[1;34m\"None of {} are in the columns\"\u001b[0m\u001b[1;33m.\u001b[0m\u001b[0mformat\u001b[0m\u001b[1;33m(\u001b[0m\u001b[0mmissing\u001b[0m\u001b[1;33m)\u001b[0m\u001b[1;33m)\u001b[0m\u001b[1;33m\u001b[0m\u001b[1;33m\u001b[0m\u001b[0m\n\u001b[0m\u001b[0;32m   4397\u001b[0m \u001b[1;33m\u001b[0m\u001b[0m\n\u001b[0;32m   4398\u001b[0m         \u001b[1;32mif\u001b[0m \u001b[0minplace\u001b[0m\u001b[1;33m:\u001b[0m\u001b[1;33m\u001b[0m\u001b[1;33m\u001b[0m\u001b[0m\n",
            "\u001b[1;31mKeyError\u001b[0m: \"None of ['Unnamed: 0'] are in the columns\""
          ]
        }
      ]
    },
    {
      "cell_type": "markdown",
      "metadata": {
        "id": "SRpzgsEwY0tI",
        "colab_type": "text"
      },
      "source": [
        "Ezt megtehettük volna úgy is, hogy a `nevsor` nevű *DataFrame*-et rögtön felülírjuk helyben (`inplace`):"
      ]
    },
    {
      "cell_type": "code",
      "metadata": {
        "id": "97CZpuRvY0tJ",
        "colab_type": "code",
        "colab": {}
      },
      "source": [
        "nevsor.set_index(\"Unnamed: 0\",inplace=True)"
      ],
      "execution_count": 0,
      "outputs": []
    },
    {
      "cell_type": "markdown",
      "metadata": {
        "id": "3FTaN054Y0tL",
        "colab_type": "text"
      },
      "source": [
        "## Adatok elérése"
      ]
    },
    {
      "cell_type": "markdown",
      "metadata": {
        "id": "_uoYo5YdY0tL",
        "colab_type": "text"
      },
      "source": [
        "A *pandas* a *DataFrame*-ben tárolt értékeket elsősorban a fejléccel és a sorok neveivel teszi elérhetővé.\n",
        "\n",
        "Ha egy oszlop nevét *string*ként szögletes zárójelekben írjuk a *DataFrame* neve mögé, visszakapjuk az oszlopot."
      ]
    },
    {
      "cell_type": "code",
      "metadata": {
        "id": "f5WcfifPY0tM",
        "colab_type": "code",
        "colab": {},
        "outputId": "07650d92-0fcb-4570-9bc1-56f36716ba89"
      },
      "source": [
        "df=pd.read_csv(\"data/kisnevsor.csv\",index_col=0)\n",
        "print(df[\"Eszter\"])"
      ],
      "execution_count": 0,
      "outputs": [
        {
          "output_type": "stream",
          "text": [
            "Bálint    2\n",
            "Csenge    4\n",
            "István    5\n",
            "Zita      3\n",
            "Name: Eszter, dtype: int64\n"
          ],
          "name": "stdout"
        }
      ]
    },
    {
      "cell_type": "markdown",
      "metadata": {
        "id": "J1T_0-QYY0tO",
        "colab_type": "text"
      },
      "source": [
        "Ha több oszlopot is vissza szeretnénk kapni, akkor azokat egy stringeket tartalmazó listában írjuk a *DataFrame* mögötti szögletes zárójelbe."
      ]
    },
    {
      "cell_type": "code",
      "metadata": {
        "id": "wPuUxaRUY0tO",
        "colab_type": "code",
        "colab": {},
        "outputId": "d7b01b29-d668-49c2-c381-7c17210b48a4"
      },
      "source": [
        "df[[\"Eszter\",\"Nem\",\"Kor\"]]"
      ],
      "execution_count": 0,
      "outputs": [
        {
          "output_type": "execute_result",
          "data": {
            "text/html": [
              "<div>\n",
              "<table border=\"1\" class=\"dataframe\">\n",
              "  <thead>\n",
              "    <tr style=\"text-align: right;\">\n",
              "      <th></th>\n",
              "      <th>Eszter</th>\n",
              "      <th>Nem</th>\n",
              "      <th>Kor</th>\n",
              "    </tr>\n",
              "  </thead>\n",
              "  <tbody>\n",
              "    <tr>\n",
              "      <th>Bálint</th>\n",
              "      <td>2</td>\n",
              "      <td>fiú</td>\n",
              "      <td>20</td>\n",
              "    </tr>\n",
              "    <tr>\n",
              "      <th>Csenge</th>\n",
              "      <td>4</td>\n",
              "      <td>lány</td>\n",
              "      <td>22</td>\n",
              "    </tr>\n",
              "    <tr>\n",
              "      <th>István</th>\n",
              "      <td>5</td>\n",
              "      <td>fiú</td>\n",
              "      <td>19</td>\n",
              "    </tr>\n",
              "    <tr>\n",
              "      <th>Zita</th>\n",
              "      <td>3</td>\n",
              "      <td>lány</td>\n",
              "      <td>20</td>\n",
              "    </tr>\n",
              "  </tbody>\n",
              "</table>\n",
              "</div>"
            ],
            "text/plain": [
              "        Eszter   Nem  Kor\n",
              "Bálint       2   fiú   20\n",
              "Csenge       4  lány   22\n",
              "István       5   fiú   19\n",
              "Zita         3  lány   20"
            ]
          },
          "metadata": {
            "tags": []
          },
          "execution_count": 6
        }
      ]
    },
    {
      "cell_type": "markdown",
      "metadata": {
        "id": "TnXZqgEyY0tQ",
        "colab_type": "text"
      },
      "source": [
        "Ha egy oszlopnak szeretnénk elérni az egyik elemét:"
      ]
    },
    {
      "cell_type": "code",
      "metadata": {
        "id": "RHo9jd7FY0tR",
        "colab_type": "code",
        "colab": {},
        "outputId": "181e20eb-2a62-4d5d-b6af-8db7c309231c"
      },
      "source": [
        "print(df[\"Eszter\"][\"Zita\"])"
      ],
      "execution_count": 0,
      "outputs": [
        {
          "output_type": "stream",
          "text": [
            "3\n"
          ],
          "name": "stdout"
        }
      ]
    },
    {
      "cell_type": "markdown",
      "metadata": {
        "id": "C21ALPQ5Y0tT",
        "colab_type": "text"
      },
      "source": [
        "Vigyázat, mindig először az oszlop nevét írtuk! Ha egy sort szeretnénk visszakapni, az `ix` objektumot kell használunk."
      ]
    },
    {
      "cell_type": "code",
      "metadata": {
        "id": "7nZb3LcdY0tT",
        "colab_type": "code",
        "colab": {},
        "outputId": "b12531e8-9d7c-48f2-edc0-24abf92e6736"
      },
      "source": [
        "df.ix[\"Zita\"]"
      ],
      "execution_count": 0,
      "outputs": [
        {
          "output_type": "execute_result",
          "data": {
            "text/plain": [
              "Eszter       3\n",
              "Orsi         5\n",
              "Nem       lány\n",
              "Kor         20\n",
              "Name: Zita, dtype: object"
            ]
          },
          "metadata": {
            "tags": []
          },
          "execution_count": 8
        }
      ]
    },
    {
      "cell_type": "markdown",
      "metadata": {
        "id": "-u-2fyDeY0tV",
        "colab_type": "text"
      },
      "source": [
        "Aki szeretné ugyanúgy számokkal indexelni a *DataFrame*-et, mint egy *array*-t, annak erre az `iloc` biztosít lehetőséget. Nézzük meg az előző eléréseket `iloc`-kal!"
      ]
    },
    {
      "cell_type": "code",
      "metadata": {
        "id": "ZjFc03IMY0tW",
        "colab_type": "code",
        "colab": {},
        "outputId": "7c52be82-87f5-4fab-8685-5f76eb9ab7d4"
      },
      "source": [
        "df.iloc[:,0] # az első (0.) oszlop"
      ],
      "execution_count": 0,
      "outputs": [
        {
          "output_type": "execute_result",
          "data": {
            "text/plain": [
              "Bálint    2\n",
              "Csenge    4\n",
              "István    5\n",
              "Zita      3\n",
              "Name: Eszter, dtype: int64"
            ]
          },
          "metadata": {
            "tags": []
          },
          "execution_count": 9
        }
      ]
    },
    {
      "cell_type": "code",
      "metadata": {
        "id": "54JbBgKbY0tY",
        "colab_type": "code",
        "colab": {},
        "outputId": "3531fa6f-a334-4104-e32a-49330329deb8"
      },
      "source": [
        "df.iloc[0,0]  # az első sor első eleme"
      ],
      "execution_count": 0,
      "outputs": [
        {
          "output_type": "execute_result",
          "data": {
            "text/plain": [
              "2"
            ]
          },
          "metadata": {
            "tags": []
          },
          "execution_count": 10
        }
      ]
    },
    {
      "cell_type": "markdown",
      "metadata": {
        "id": "QleFMKosY0tZ",
        "colab_type": "text"
      },
      "source": [
        "Sőt, a *DataFrame* belsejét átalakíthatjuk *numpy* *array*-jé, és alkalmazhatjuk rá a korábban tanult módszereket :-)"
      ]
    },
    {
      "cell_type": "code",
      "metadata": {
        "id": "yngncPL9Y0ta",
        "colab_type": "code",
        "colab": {},
        "outputId": "88ec0b87-af12-4f6d-ddf3-77f33b90dd8a"
      },
      "source": [
        "df.as_matrix()"
      ],
      "execution_count": 0,
      "outputs": [
        {
          "output_type": "execute_result",
          "data": {
            "text/plain": [
              "array([[2, 3, 'fiú', 20],\n",
              "       [4, 4, 'lány', 22],\n",
              "       [5, 4, 'fiú', 19],\n",
              "       [3, 5, 'lány', 20]], dtype=object)"
            ]
          },
          "metadata": {
            "tags": []
          },
          "execution_count": 11
        }
      ]
    },
    {
      "cell_type": "markdown",
      "metadata": {
        "id": "xVnVYrYvY0te",
        "colab_type": "text"
      },
      "source": [
        "### Az oszlopnevek és a sornevek elérése"
      ]
    },
    {
      "cell_type": "markdown",
      "metadata": {
        "id": "14jfoi_sY0tf",
        "colab_type": "text"
      },
      "source": [
        "Írassuk ki a táblázatunk oszlopainak a nevét!"
      ]
    },
    {
      "cell_type": "code",
      "metadata": {
        "id": "eCQ6mqH1Y0tf",
        "colab_type": "code",
        "colab": {},
        "outputId": "f21379b6-60a2-4e72-d74b-430913692ad0"
      },
      "source": [
        "df.columns"
      ],
      "execution_count": 0,
      "outputs": [
        {
          "output_type": "execute_result",
          "data": {
            "text/plain": [
              "Index(['Eszter', 'Orsi', 'Nem', 'Kor'], dtype='object')"
            ]
          },
          "metadata": {
            "tags": []
          },
          "execution_count": 12
        }
      ]
    },
    {
      "cell_type": "markdown",
      "metadata": {
        "id": "EGpQLiZfY0th",
        "colab_type": "text"
      },
      "source": [
        "Írassuk ki a táblázatunk sorainak a nevét!"
      ]
    },
    {
      "cell_type": "code",
      "metadata": {
        "id": "SUb8tnupY0th",
        "colab_type": "code",
        "colab": {},
        "outputId": "a8f8c1ea-ff84-4abe-cd3e-d020895d1dcf"
      },
      "source": [
        "df.index"
      ],
      "execution_count": 0,
      "outputs": [
        {
          "output_type": "execute_result",
          "data": {
            "text/plain": [
              "Index(['Bálint', 'Csenge', 'István', 'Zita'], dtype='object')"
            ]
          },
          "metadata": {
            "tags": []
          },
          "execution_count": 13
        }
      ]
    },
    {
      "cell_type": "markdown",
      "metadata": {
        "id": "UQV6vm8YY0tj",
        "colab_type": "text"
      },
      "source": [
        "Szükség lehet rá, hogy a fenti listákat tényleg Python-féle *list*-ként kapjuk vissza."
      ]
    },
    {
      "cell_type": "code",
      "metadata": {
        "id": "3FYqHo5oY0tk",
        "colab_type": "code",
        "colab": {},
        "outputId": "79a4fb35-4b61-4b06-b336-7047c9a76baf"
      },
      "source": [
        "df.columns.tolist()"
      ],
      "execution_count": 0,
      "outputs": [
        {
          "output_type": "execute_result",
          "data": {
            "text/plain": [
              "['Eszter', 'Orsi', 'Nem', 'Kor']"
            ]
          },
          "metadata": {
            "tags": []
          },
          "execution_count": 14
        }
      ]
    },
    {
      "cell_type": "code",
      "metadata": {
        "id": "xo5dHBLwY0tn",
        "colab_type": "code",
        "colab": {},
        "outputId": "7fd26702-4b64-4f80-b014-814badab8248"
      },
      "source": [
        "list(df.columns)"
      ],
      "execution_count": 0,
      "outputs": [
        {
          "output_type": "execute_result",
          "data": {
            "text/plain": [
              "['Eszter', 'Orsi', 'Nem', 'Kor']"
            ]
          },
          "metadata": {
            "tags": []
          },
          "execution_count": 15
        }
      ]
    },
    {
      "cell_type": "markdown",
      "metadata": {
        "id": "8yQdLtSFY0tp",
        "colab_type": "text"
      },
      "source": [
        "## Egyszerű sor- és oszlopműveletek"
      ]
    },
    {
      "cell_type": "markdown",
      "metadata": {
        "id": "whWbkQc0Y0tq",
        "colab_type": "text"
      },
      "source": [
        "A *DataFrame*-re is könnyű néhány beépített függvény segítségével különböző aggregált értékeket számolni.\n",
        "\n",
        "Például álljon itt oszloponként a számok összege:"
      ]
    },
    {
      "cell_type": "code",
      "metadata": {
        "id": "PH3bOTf5Y0tq",
        "colab_type": "code",
        "colab": {},
        "outputId": "e097c9ac-d091-4c46-ab1e-bf39d54f9ade"
      },
      "source": [
        "df.sum()"
      ],
      "execution_count": 0,
      "outputs": [
        {
          "output_type": "execute_result",
          "data": {
            "text/plain": [
              "Eszter                14\n",
              "Orsi                  16\n",
              "Nem       fiúlányfiúlány\n",
              "Kor                   81\n",
              "dtype: object"
            ]
          },
          "metadata": {
            "tags": []
          },
          "execution_count": 16
        }
      ]
    },
    {
      "cell_type": "markdown",
      "metadata": {
        "id": "tcZ9CbDkY0ts",
        "colab_type": "text"
      },
      "source": [
        "Mit tegyünk, ha ezt soronként szeretnénk visszakapni? Változtassuk meg az összegzés \"tengelyét\" (`axis`)! Az előző eset ugyanis az alapértelmezett `axis=0` volt, ami oszloponként végzi a műveletet. Csak a jegyeket tartalmazó oszlopokat összegezzük."
      ]
    },
    {
      "cell_type": "code",
      "metadata": {
        "id": "-SuM3jjAY0ts",
        "colab_type": "code",
        "colab": {},
        "outputId": "efef3c63-0817-422f-c218-f195ec3d9728"
      },
      "source": [
        "df[[\"Eszter\",\"Orsi\"]].sum(axis=1)"
      ],
      "execution_count": 0,
      "outputs": [
        {
          "output_type": "execute_result",
          "data": {
            "text/plain": [
              "Bálint    5\n",
              "Csenge    8\n",
              "István    9\n",
              "Zita      8\n",
              "dtype: int64"
            ]
          },
          "metadata": {
            "tags": []
          },
          "execution_count": 17
        }
      ]
    },
    {
      "cell_type": "markdown",
      "metadata": {
        "id": "Fua7FnVSY0tu",
        "colab_type": "text"
      },
      "source": [
        "Számoltassuk meg, hány elem van az oszlopokban, illetve a sorokban!"
      ]
    },
    {
      "cell_type": "code",
      "metadata": {
        "id": "2t4Pu5s2Y0tv",
        "colab_type": "code",
        "colab": {},
        "outputId": "54ea641d-6046-431d-d929-be0bac48bf30"
      },
      "source": [
        "df.count()"
      ],
      "execution_count": 0,
      "outputs": [
        {
          "output_type": "execute_result",
          "data": {
            "text/plain": [
              "Eszter    4\n",
              "Orsi      4\n",
              "Nem       4\n",
              "Kor       4\n",
              "dtype: int64"
            ]
          },
          "metadata": {
            "tags": []
          },
          "execution_count": 18
        }
      ]
    },
    {
      "cell_type": "code",
      "metadata": {
        "id": "sRJ_Q2I8Y0tw",
        "colab_type": "code",
        "colab": {},
        "outputId": "4a9b69e6-1c5b-4204-b254-366ecfe46886"
      },
      "source": [
        "df.count(axis=1)"
      ],
      "execution_count": 0,
      "outputs": [
        {
          "output_type": "execute_result",
          "data": {
            "text/plain": [
              "Bálint    4\n",
              "Csenge    4\n",
              "István    4\n",
              "Zita      4\n",
              "dtype: int64"
            ]
          },
          "metadata": {
            "tags": []
          },
          "execution_count": 19
        }
      ]
    },
    {
      "cell_type": "markdown",
      "metadata": {
        "id": "TXYWqwioY0ty",
        "colab_type": "text"
      },
      "source": [
        "Ezt persze az *array*-hez hasonlóan is megtehettük volna:"
      ]
    },
    {
      "cell_type": "code",
      "metadata": {
        "id": "wmnrYtZ8Y0ty",
        "colab_type": "code",
        "colab": {},
        "outputId": "a9d65233-b730-4b8f-bf15-05d728d2a0b0"
      },
      "source": [
        "df.shape"
      ],
      "execution_count": 0,
      "outputs": [
        {
          "output_type": "execute_result",
          "data": {
            "text/plain": [
              "(4, 4)"
            ]
          },
          "metadata": {
            "tags": []
          },
          "execution_count": 20
        }
      ]
    },
    {
      "cell_type": "markdown",
      "metadata": {
        "id": "bfCNLPyDY0t0",
        "colab_type": "text"
      },
      "source": [
        "További ötletek beépített függvényekre: `mean, median, min, max, std`."
      ]
    },
    {
      "cell_type": "markdown",
      "metadata": {
        "id": "nKH2Re_TY0t0",
        "colab_type": "text"
      },
      "source": [
        "## Boolean indexing"
      ]
    },
    {
      "cell_type": "markdown",
      "metadata": {
        "id": "k_GGvKmpY0t1",
        "colab_type": "text"
      },
      "source": [
        "Nagyon gyakran előfordul, hogy a táblázatunkból csak bizonyos feltételeknek megfelelő sorokat szeretnénk látni. Ha a táblázat sorainak számával megegyező hosszú igaz/hamis sorozatot adunk meg a *DataFrame* mögötti szögletes zárójelben, akkor csak az igaz elemeket fogjuk visszakapni visszatérési értékként.\n",
        "\n",
        "Először nézzük meg, mi történik, ha megkérdezzük, hogy egy oszlop egyenlő-e egy értékkel:"
      ]
    },
    {
      "cell_type": "code",
      "metadata": {
        "id": "VVTUZeRIY0t2",
        "colab_type": "code",
        "colab": {},
        "outputId": "73e36e15-013f-4ff1-950c-9738662161fe"
      },
      "source": [
        "df[\"Nem\"]==\"lány\""
      ],
      "execution_count": 0,
      "outputs": [
        {
          "output_type": "execute_result",
          "data": {
            "text/plain": [
              "Bálint    False\n",
              "Csenge     True\n",
              "István    False\n",
              "Zita       True\n",
              "Name: Nem, dtype: bool"
            ]
          },
          "metadata": {
            "tags": []
          },
          "execution_count": 21
        }
      ]
    },
    {
      "cell_type": "markdown",
      "metadata": {
        "id": "a6axZ8TVY0t4",
        "colab_type": "text"
      },
      "source": [
        "Láttuk, hogy minden sorhoz kaptunk egy igaz/hamis értéket. Most a fenti kifejezést beírjuk a `[]`-be:"
      ]
    },
    {
      "cell_type": "code",
      "metadata": {
        "id": "Lw30ZhLOY0t6",
        "colab_type": "code",
        "colab": {},
        "outputId": "51060fbd-e47c-419c-d147-53ca5e7e10e4"
      },
      "source": [
        "df[df[\"Nem\"]==\"lány\"]"
      ],
      "execution_count": 0,
      "outputs": [
        {
          "output_type": "execute_result",
          "data": {
            "text/html": [
              "<div>\n",
              "<table border=\"1\" class=\"dataframe\">\n",
              "  <thead>\n",
              "    <tr style=\"text-align: right;\">\n",
              "      <th></th>\n",
              "      <th>Eszter</th>\n",
              "      <th>Orsi</th>\n",
              "      <th>Nem</th>\n",
              "      <th>Kor</th>\n",
              "    </tr>\n",
              "  </thead>\n",
              "  <tbody>\n",
              "    <tr>\n",
              "      <th>Csenge</th>\n",
              "      <td>4</td>\n",
              "      <td>4</td>\n",
              "      <td>lány</td>\n",
              "      <td>22</td>\n",
              "    </tr>\n",
              "    <tr>\n",
              "      <th>Zita</th>\n",
              "      <td>3</td>\n",
              "      <td>5</td>\n",
              "      <td>lány</td>\n",
              "      <td>20</td>\n",
              "    </tr>\n",
              "  </tbody>\n",
              "</table>\n",
              "</div>"
            ],
            "text/plain": [
              "        Eszter  Orsi   Nem  Kor\n",
              "Csenge       4     4  lány   22\n",
              "Zita         3     5  lány   20"
            ]
          },
          "metadata": {
            "tags": []
          },
          "execution_count": 22
        }
      ]
    },
    {
      "cell_type": "markdown",
      "metadata": {
        "id": "68nfOt8AY0t7",
        "colab_type": "text"
      },
      "source": [
        "De más feltételt is megadhatunk, például hogy kinek adott Eszter 3-asnál jobb jegyet."
      ]
    },
    {
      "cell_type": "code",
      "metadata": {
        "id": "HY0E0liEY0t8",
        "colab_type": "code",
        "colab": {},
        "outputId": "f2eaaa10-0d3b-4d39-bd35-00f962e14d99"
      },
      "source": [
        "df[df[\"Eszter\"]>3]"
      ],
      "execution_count": 0,
      "outputs": [
        {
          "output_type": "execute_result",
          "data": {
            "text/html": [
              "<div>\n",
              "<table border=\"1\" class=\"dataframe\">\n",
              "  <thead>\n",
              "    <tr style=\"text-align: right;\">\n",
              "      <th></th>\n",
              "      <th>Eszter</th>\n",
              "      <th>Orsi</th>\n",
              "      <th>Nem</th>\n",
              "      <th>Kor</th>\n",
              "    </tr>\n",
              "  </thead>\n",
              "  <tbody>\n",
              "    <tr>\n",
              "      <th>Csenge</th>\n",
              "      <td>4</td>\n",
              "      <td>4</td>\n",
              "      <td>lány</td>\n",
              "      <td>22</td>\n",
              "    </tr>\n",
              "    <tr>\n",
              "      <th>István</th>\n",
              "      <td>5</td>\n",
              "      <td>4</td>\n",
              "      <td>fiú</td>\n",
              "      <td>19</td>\n",
              "    </tr>\n",
              "  </tbody>\n",
              "</table>\n",
              "</div>"
            ],
            "text/plain": [
              "        Eszter  Orsi   Nem  Kor\n",
              "Csenge       4     4  lány   22\n",
              "István       5     4   fiú   19"
            ]
          },
          "metadata": {
            "tags": []
          },
          "execution_count": 23
        }
      ]
    },
    {
      "cell_type": "markdown",
      "metadata": {
        "id": "PmCBxmp3Y0t-",
        "colab_type": "text"
      },
      "source": [
        "Két feltételt összefűzhetünk egymáshoz, ilyenkor a `&` és a `|` operátorokat használjuk **and** és **or** helyett, mert azok nem tudnak két sorozatot elemenként összehasonlítani. A feltételeket zárójelbe kell tenni, különben hibát kapunk.\n",
        "\n",
        "Ezek alapján az, akinek Eszter hármasnál jobbat adott, és idősebb 20 évesnél:"
      ]
    },
    {
      "cell_type": "code",
      "metadata": {
        "id": "idkyM4uCY0t_",
        "colab_type": "code",
        "colab": {},
        "outputId": "801a6bb0-b80a-4068-ca48-2aed39956e26"
      },
      "source": [
        "df[(df[\"Eszter\"]>3) & (df[\"Kor\"]>20)]"
      ],
      "execution_count": 0,
      "outputs": [
        {
          "output_type": "execute_result",
          "data": {
            "text/html": [
              "<div>\n",
              "<table border=\"1\" class=\"dataframe\">\n",
              "  <thead>\n",
              "    <tr style=\"text-align: right;\">\n",
              "      <th></th>\n",
              "      <th>Eszter</th>\n",
              "      <th>Orsi</th>\n",
              "      <th>Nem</th>\n",
              "      <th>Kor</th>\n",
              "    </tr>\n",
              "  </thead>\n",
              "  <tbody>\n",
              "    <tr>\n",
              "      <th>Csenge</th>\n",
              "      <td>4</td>\n",
              "      <td>4</td>\n",
              "      <td>lány</td>\n",
              "      <td>22</td>\n",
              "    </tr>\n",
              "  </tbody>\n",
              "</table>\n",
              "</div>"
            ],
            "text/plain": [
              "        Eszter  Orsi   Nem  Kor\n",
              "Csenge       4     4  lány   22"
            ]
          },
          "metadata": {
            "tags": []
          },
          "execution_count": 24
        }
      ]
    },
    {
      "cell_type": "markdown",
      "metadata": {
        "id": "GqBWj8JQY0uB",
        "colab_type": "text"
      },
      "source": [
        "## Sorba rendezés"
      ]
    },
    {
      "cell_type": "markdown",
      "metadata": {
        "id": "mrn_SDs2Y0uB",
        "colab_type": "text"
      },
      "source": [
        "Szükségünk lehet arra, hogy a táblázatunkat sorba rendezzük valamelyik oszlop szerint. Ilyenkor a `sort_values(by=\"oszlop_neve\")` függvényt használjuk, melynek megadhatjuk, hogy növekvő (`ascending=True`), vagy csökkenő (`ascending=False`) sorrendben szeretnénk-e a rendezést.\n",
        "\n",
        "A függvény visszatérési értéke a rendezett táblázat."
      ]
    },
    {
      "cell_type": "code",
      "metadata": {
        "id": "MgE74aJPY0uC",
        "colab_type": "code",
        "colab": {},
        "outputId": "94c18406-ebd1-4985-99a3-2fff9a5f7664"
      },
      "source": [
        "df.sort_values(by=\"Kor\",ascending=False)"
      ],
      "execution_count": 0,
      "outputs": [
        {
          "output_type": "execute_result",
          "data": {
            "text/html": [
              "<div>\n",
              "<table border=\"1\" class=\"dataframe\">\n",
              "  <thead>\n",
              "    <tr style=\"text-align: right;\">\n",
              "      <th></th>\n",
              "      <th>Eszter</th>\n",
              "      <th>Orsi</th>\n",
              "      <th>Nem</th>\n",
              "      <th>Kor</th>\n",
              "    </tr>\n",
              "  </thead>\n",
              "  <tbody>\n",
              "    <tr>\n",
              "      <th>Csenge</th>\n",
              "      <td>4</td>\n",
              "      <td>4</td>\n",
              "      <td>lány</td>\n",
              "      <td>22</td>\n",
              "    </tr>\n",
              "    <tr>\n",
              "      <th>Bálint</th>\n",
              "      <td>2</td>\n",
              "      <td>3</td>\n",
              "      <td>fiú</td>\n",
              "      <td>20</td>\n",
              "    </tr>\n",
              "    <tr>\n",
              "      <th>Zita</th>\n",
              "      <td>3</td>\n",
              "      <td>5</td>\n",
              "      <td>lány</td>\n",
              "      <td>20</td>\n",
              "    </tr>\n",
              "    <tr>\n",
              "      <th>István</th>\n",
              "      <td>5</td>\n",
              "      <td>4</td>\n",
              "      <td>fiú</td>\n",
              "      <td>19</td>\n",
              "    </tr>\n",
              "  </tbody>\n",
              "</table>\n",
              "</div>"
            ],
            "text/plain": [
              "        Eszter  Orsi   Nem  Kor\n",
              "Csenge       4     4  lány   22\n",
              "Bálint       2     3   fiú   20\n",
              "Zita         3     5  lány   20\n",
              "István       5     4   fiú   19"
            ]
          },
          "metadata": {
            "tags": []
          },
          "execution_count": 25
        }
      ]
    },
    {
      "cell_type": "markdown",
      "metadata": {
        "id": "wEyFe7K6Y0uE",
        "colab_type": "text"
      },
      "source": [
        "Ha azt szeretnénk, hogy az eredeti *DataFrame*-ben rendezve tárolódjanak el a sorok, be kell kapcsolnunk az `inplace=True` paramétert, ami felülírja a *DataFrame*-et a rendezés után."
      ]
    },
    {
      "cell_type": "code",
      "metadata": {
        "id": "bwO8IQXYY0uF",
        "colab_type": "code",
        "colab": {}
      },
      "source": [
        "df.sort_values(by=\"Kor\",ascending=False,inplace=True)"
      ],
      "execution_count": 0,
      "outputs": []
    },
    {
      "cell_type": "markdown",
      "metadata": {
        "id": "kSe-NqbrY0uH",
        "colab_type": "text"
      },
      "source": [
        "Persze, ezt elérhettük volna szokásos értékadással is."
      ]
    },
    {
      "cell_type": "code",
      "metadata": {
        "collapsed": true,
        "id": "IfuBHssLY0uI",
        "colab_type": "code",
        "colab": {}
      },
      "source": [
        "df=df.sort_values(by=\"Kor\",ascending=False)"
      ],
      "execution_count": 0,
      "outputs": []
    },
    {
      "cell_type": "markdown",
      "metadata": {
        "id": "w5A1qYMwY0uK",
        "colab_type": "text"
      },
      "source": [
        "Ha a *DataFrame* indexe szerint szeretnénk sorba rendezni, akkor a `sort_index()` függvény segít (itt is választhatjuk, hogy helyben szeretnénk-e a rendezést az `inplace=True` segítségével):"
      ]
    },
    {
      "cell_type": "code",
      "metadata": {
        "id": "govar-lNY0uL",
        "colab_type": "code",
        "colab": {}
      },
      "source": [
        "df.sort_index(inplace=True)"
      ],
      "execution_count": 0,
      "outputs": []
    },
    {
      "cell_type": "markdown",
      "metadata": {
        "id": "XflyUd8rY0uM",
        "colab_type": "text"
      },
      "source": [
        "## Új sor/oszlop hozzáadása, törlés"
      ]
    },
    {
      "cell_type": "markdown",
      "metadata": {
        "id": "usBn1AGhY0uM",
        "colab_type": "text"
      },
      "source": [
        "Ha új sort szeretnénk hozzáadni a táblázathoz, akkor a `.loc[\"Új_sor_indexe\"]` változónak egy, az oszlopok számával megegyező hosszúságú listát kell odaadnunk."
      ]
    },
    {
      "cell_type": "code",
      "metadata": {
        "id": "9_V0uTKpY0uN",
        "colab_type": "code",
        "colab": {},
        "outputId": "40fad0de-2f28-492a-93bf-a503491b6b5a"
      },
      "source": [
        "df.loc[\"Dávid\"]=[5,5,\"fiú\",20]\n",
        "df"
      ],
      "execution_count": 0,
      "outputs": [
        {
          "output_type": "execute_result",
          "data": {
            "text/html": [
              "<div>\n",
              "<table border=\"1\" class=\"dataframe\">\n",
              "  <thead>\n",
              "    <tr style=\"text-align: right;\">\n",
              "      <th></th>\n",
              "      <th>Eszter</th>\n",
              "      <th>Orsi</th>\n",
              "      <th>Nem</th>\n",
              "      <th>Kor</th>\n",
              "    </tr>\n",
              "  </thead>\n",
              "  <tbody>\n",
              "    <tr>\n",
              "      <th>Bálint</th>\n",
              "      <td>2</td>\n",
              "      <td>3</td>\n",
              "      <td>fiú</td>\n",
              "      <td>20</td>\n",
              "    </tr>\n",
              "    <tr>\n",
              "      <th>Csenge</th>\n",
              "      <td>4</td>\n",
              "      <td>4</td>\n",
              "      <td>lány</td>\n",
              "      <td>22</td>\n",
              "    </tr>\n",
              "    <tr>\n",
              "      <th>István</th>\n",
              "      <td>5</td>\n",
              "      <td>4</td>\n",
              "      <td>fiú</td>\n",
              "      <td>19</td>\n",
              "    </tr>\n",
              "    <tr>\n",
              "      <th>Zita</th>\n",
              "      <td>3</td>\n",
              "      <td>5</td>\n",
              "      <td>lány</td>\n",
              "      <td>20</td>\n",
              "    </tr>\n",
              "    <tr>\n",
              "      <th>Dávid</th>\n",
              "      <td>5</td>\n",
              "      <td>5</td>\n",
              "      <td>fiú</td>\n",
              "      <td>20</td>\n",
              "    </tr>\n",
              "  </tbody>\n",
              "</table>\n",
              "</div>"
            ],
            "text/plain": [
              "        Eszter  Orsi   Nem  Kor\n",
              "Bálint       2     3   fiú   20\n",
              "Csenge       4     4  lány   22\n",
              "István       5     4   fiú   19\n",
              "Zita         3     5  lány   20\n",
              "Dávid        5     5   fiú   20"
            ]
          },
          "metadata": {
            "tags": []
          },
          "execution_count": 29
        }
      ]
    },
    {
      "cell_type": "markdown",
      "metadata": {
        "id": "6KIUyEzNY0uQ",
        "colab_type": "text"
      },
      "source": [
        "Ha új oszlopot, akkor hasonlóan járunk el, de nem szükséges a `loc`, mert az a sorokat indexeli."
      ]
    },
    {
      "cell_type": "code",
      "metadata": {
        "id": "3IcL-UzzY0uQ",
        "colab_type": "code",
        "colab": {},
        "outputId": "24a63eb4-86aa-4d38-82d2-6bb956b5566e"
      },
      "source": [
        "df[\"Emelt\"]=[0,0,1,1,0]\n",
        "df"
      ],
      "execution_count": 0,
      "outputs": [
        {
          "output_type": "execute_result",
          "data": {
            "text/html": [
              "<div>\n",
              "<table border=\"1\" class=\"dataframe\">\n",
              "  <thead>\n",
              "    <tr style=\"text-align: right;\">\n",
              "      <th></th>\n",
              "      <th>Eszter</th>\n",
              "      <th>Orsi</th>\n",
              "      <th>Nem</th>\n",
              "      <th>Kor</th>\n",
              "      <th>Emelt</th>\n",
              "    </tr>\n",
              "  </thead>\n",
              "  <tbody>\n",
              "    <tr>\n",
              "      <th>Bálint</th>\n",
              "      <td>2</td>\n",
              "      <td>3</td>\n",
              "      <td>fiú</td>\n",
              "      <td>20</td>\n",
              "      <td>0</td>\n",
              "    </tr>\n",
              "    <tr>\n",
              "      <th>Csenge</th>\n",
              "      <td>4</td>\n",
              "      <td>4</td>\n",
              "      <td>lány</td>\n",
              "      <td>22</td>\n",
              "      <td>0</td>\n",
              "    </tr>\n",
              "    <tr>\n",
              "      <th>István</th>\n",
              "      <td>5</td>\n",
              "      <td>4</td>\n",
              "      <td>fiú</td>\n",
              "      <td>19</td>\n",
              "      <td>1</td>\n",
              "    </tr>\n",
              "    <tr>\n",
              "      <th>Zita</th>\n",
              "      <td>3</td>\n",
              "      <td>5</td>\n",
              "      <td>lány</td>\n",
              "      <td>20</td>\n",
              "      <td>1</td>\n",
              "    </tr>\n",
              "    <tr>\n",
              "      <th>Dávid</th>\n",
              "      <td>5</td>\n",
              "      <td>5</td>\n",
              "      <td>fiú</td>\n",
              "      <td>20</td>\n",
              "      <td>0</td>\n",
              "    </tr>\n",
              "  </tbody>\n",
              "</table>\n",
              "</div>"
            ],
            "text/plain": [
              "        Eszter  Orsi   Nem  Kor  Emelt\n",
              "Bálint       2     3   fiú   20      0\n",
              "Csenge       4     4  lány   22      0\n",
              "István       5     4   fiú   19      1\n",
              "Zita         3     5  lány   20      1\n",
              "Dávid        5     5   fiú   20      0"
            ]
          },
          "metadata": {
            "tags": []
          },
          "execution_count": 30
        }
      ]
    },
    {
      "cell_type": "markdown",
      "metadata": {
        "id": "pQNKBBdzY0uS",
        "colab_type": "text"
      },
      "source": [
        "Ha sort szeretnénk törölni, a `drop` függvénnyel tehetjük meg."
      ]
    },
    {
      "cell_type": "code",
      "metadata": {
        "id": "PrqFBEk9Y0uU",
        "colab_type": "code",
        "colab": {},
        "outputId": "2473c05e-195d-4fe9-decc-76f0c5b866e2"
      },
      "source": [
        "df.drop(\"Bálint\",inplace=True)\n",
        "df"
      ],
      "execution_count": 0,
      "outputs": [
        {
          "output_type": "execute_result",
          "data": {
            "text/html": [
              "<div>\n",
              "<table border=\"1\" class=\"dataframe\">\n",
              "  <thead>\n",
              "    <tr style=\"text-align: right;\">\n",
              "      <th></th>\n",
              "      <th>Eszter</th>\n",
              "      <th>Orsi</th>\n",
              "      <th>Nem</th>\n",
              "      <th>Kor</th>\n",
              "      <th>Emelt</th>\n",
              "    </tr>\n",
              "  </thead>\n",
              "  <tbody>\n",
              "    <tr>\n",
              "      <th>Csenge</th>\n",
              "      <td>4</td>\n",
              "      <td>4</td>\n",
              "      <td>lány</td>\n",
              "      <td>22</td>\n",
              "      <td>0</td>\n",
              "    </tr>\n",
              "    <tr>\n",
              "      <th>István</th>\n",
              "      <td>5</td>\n",
              "      <td>4</td>\n",
              "      <td>fiú</td>\n",
              "      <td>19</td>\n",
              "      <td>1</td>\n",
              "    </tr>\n",
              "    <tr>\n",
              "      <th>Zita</th>\n",
              "      <td>3</td>\n",
              "      <td>5</td>\n",
              "      <td>lány</td>\n",
              "      <td>20</td>\n",
              "      <td>1</td>\n",
              "    </tr>\n",
              "    <tr>\n",
              "      <th>Dávid</th>\n",
              "      <td>5</td>\n",
              "      <td>5</td>\n",
              "      <td>fiú</td>\n",
              "      <td>20</td>\n",
              "      <td>0</td>\n",
              "    </tr>\n",
              "  </tbody>\n",
              "</table>\n",
              "</div>"
            ],
            "text/plain": [
              "        Eszter  Orsi   Nem  Kor  Emelt\n",
              "Csenge       4     4  lány   22      0\n",
              "István       5     4   fiú   19      1\n",
              "Zita         3     5  lány   20      1\n",
              "Dávid        5     5   fiú   20      0"
            ]
          },
          "metadata": {
            "tags": []
          },
          "execution_count": 31
        }
      ]
    },
    {
      "cell_type": "markdown",
      "metadata": {
        "id": "VVxeL5gFY0uV",
        "colab_type": "text"
      },
      "source": [
        "Elég ritkán, de szeretnénk a táblázatunkból oszlopokat törölni:"
      ]
    },
    {
      "cell_type": "code",
      "metadata": {
        "id": "74G_lx1wY0uW",
        "colab_type": "code",
        "colab": {}
      },
      "source": [
        "del df[\"Kor\"] #ritkán"
      ],
      "execution_count": 0,
      "outputs": []
    },
    {
      "cell_type": "code",
      "metadata": {
        "collapsed": true,
        "id": "rxE-Kce2Y0uZ",
        "colab_type": "code",
        "colab": {}
      },
      "source": [
        "df[\"Kor\"]=[22,19,20,20]"
      ],
      "execution_count": 0,
      "outputs": []
    },
    {
      "cell_type": "markdown",
      "metadata": {
        "id": "_h3YXzrQY0uc",
        "colab_type": "text"
      },
      "source": [
        "## Csoportosítás"
      ]
    },
    {
      "cell_type": "markdown",
      "metadata": {
        "id": "0rZ8jhJgY0uc",
        "colab_type": "text"
      },
      "source": [
        "Egy oszlop értékei szerint csoportosíthatjuk a *DataFrame*-et, és utána a csoportokon végezhetünk műveleteket.\n",
        "\n",
        "Például az emelt szintű érettségit tevők (1), illtve nem tevők (0) maximum jegyeit láthatjuk a következő sorban.\n",
        "\n",
        "Figyeljük meg, hogy a `Nem` oszlop maximális értéke mindkét csoportban a `\"lány\"`, hiszen az hátrébb áll az abc-ben, mint a fiú."
      ]
    },
    {
      "cell_type": "code",
      "metadata": {
        "id": "LzYXodw_Y0ud",
        "colab_type": "code",
        "colab": {},
        "outputId": "02eb5091-0fe1-4d3b-cfa9-ef19a0c3fba3"
      },
      "source": [
        "df.groupby(\"Emelt\").max()"
      ],
      "execution_count": 0,
      "outputs": [
        {
          "output_type": "execute_result",
          "data": {
            "text/html": [
              "<div>\n",
              "<table border=\"1\" class=\"dataframe\">\n",
              "  <thead>\n",
              "    <tr style=\"text-align: right;\">\n",
              "      <th></th>\n",
              "      <th>Eszter</th>\n",
              "      <th>Orsi</th>\n",
              "      <th>Nem</th>\n",
              "      <th>Kor</th>\n",
              "    </tr>\n",
              "    <tr>\n",
              "      <th>Emelt</th>\n",
              "      <th></th>\n",
              "      <th></th>\n",
              "      <th></th>\n",
              "      <th></th>\n",
              "    </tr>\n",
              "  </thead>\n",
              "  <tbody>\n",
              "    <tr>\n",
              "      <th>0</th>\n",
              "      <td>5</td>\n",
              "      <td>5</td>\n",
              "      <td>lány</td>\n",
              "      <td>22</td>\n",
              "    </tr>\n",
              "    <tr>\n",
              "      <th>1</th>\n",
              "      <td>5</td>\n",
              "      <td>5</td>\n",
              "      <td>lány</td>\n",
              "      <td>20</td>\n",
              "    </tr>\n",
              "  </tbody>\n",
              "</table>\n",
              "</div>"
            ],
            "text/plain": [
              "       Eszter  Orsi   Nem  Kor\n",
              "Emelt                         \n",
              "0           5     5  lány   22\n",
              "1           5     5  lány   20"
            ]
          },
          "metadata": {
            "tags": []
          },
          "execution_count": 34
        }
      ]
    },
    {
      "cell_type": "markdown",
      "metadata": {
        "id": "TSNERyjjY0uf",
        "colab_type": "text"
      },
      "source": [
        "Egyszerre két oszlop szerint is csoportosíthatunk, ilyenkor listát kell a `groupby`-nak átadnunk. Itt már nem csak az `Emelt` oszlop, hanem a `Nem` oszlop is a táblázat indexének a része, ezt hívjuk többszintű indexelésnek. A továbbiakban az órán erre nem lesz szükség, csak a példa kedvéért áll itt."
      ]
    },
    {
      "cell_type": "code",
      "metadata": {
        "id": "4dGbsZ-BY0uf",
        "colab_type": "code",
        "colab": {},
        "outputId": "a06788a5-943e-4371-f930-bd8d65ff0a4c"
      },
      "source": [
        "df.groupby([\"Emelt\",\"Nem\"]).max()"
      ],
      "execution_count": 0,
      "outputs": [
        {
          "output_type": "execute_result",
          "data": {
            "text/html": [
              "<div>\n",
              "<table border=\"1\" class=\"dataframe\">\n",
              "  <thead>\n",
              "    <tr style=\"text-align: right;\">\n",
              "      <th></th>\n",
              "      <th></th>\n",
              "      <th>Eszter</th>\n",
              "      <th>Orsi</th>\n",
              "      <th>Kor</th>\n",
              "    </tr>\n",
              "    <tr>\n",
              "      <th>Emelt</th>\n",
              "      <th>Nem</th>\n",
              "      <th></th>\n",
              "      <th></th>\n",
              "      <th></th>\n",
              "    </tr>\n",
              "  </thead>\n",
              "  <tbody>\n",
              "    <tr>\n",
              "      <th rowspan=\"2\" valign=\"top\">0</th>\n",
              "      <th>fiú</th>\n",
              "      <td>5</td>\n",
              "      <td>5</td>\n",
              "      <td>20</td>\n",
              "    </tr>\n",
              "    <tr>\n",
              "      <th>lány</th>\n",
              "      <td>4</td>\n",
              "      <td>4</td>\n",
              "      <td>22</td>\n",
              "    </tr>\n",
              "    <tr>\n",
              "      <th rowspan=\"2\" valign=\"top\">1</th>\n",
              "      <th>fiú</th>\n",
              "      <td>5</td>\n",
              "      <td>4</td>\n",
              "      <td>19</td>\n",
              "    </tr>\n",
              "    <tr>\n",
              "      <th>lány</th>\n",
              "      <td>3</td>\n",
              "      <td>5</td>\n",
              "      <td>20</td>\n",
              "    </tr>\n",
              "  </tbody>\n",
              "</table>\n",
              "</div>"
            ],
            "text/plain": [
              "            Eszter  Orsi  Kor\n",
              "Emelt Nem                    \n",
              "0     fiú        5     5   20\n",
              "      lány       4     4   22\n",
              "1     fiú        5     4   19\n",
              "      lány       3     5   20"
            ]
          },
          "metadata": {
            "tags": []
          },
          "execution_count": 35
        }
      ]
    },
    {
      "cell_type": "markdown",
      "metadata": {
        "id": "BTH0s4b4Y0ui",
        "colab_type": "text"
      },
      "source": [
        "# Érettségi adatok feldolgozása"
      ]
    },
    {
      "cell_type": "markdown",
      "metadata": {
        "id": "XYMnlJD7Y0uj",
        "colab_type": "text"
      },
      "source": [
        "Az alábbiakban az elmúlt pár év érettségi statisztikai adatait fogjuk megvizsgálni. Ez a példa sok szempontból jól illusztrál olyan problémákat, amelyek valós adatbázis-elemzések kapcsán felmerülhetnek.\n",
        "Ilyen például a hiányzó adatok kezelése, vagy a nem egészen kompatibilis adatbázisok egységes kezelése.\n",
        "Az érettségi adatokat a fenti honlap az előzőekben megismert elválasztóval tagolt tagolt (comma separated value, röviden csv) formátumban teszi elérhetővé, itt az elválasztójel a pontosvessző."
      ]
    },
    {
      "cell_type": "markdown",
      "metadata": {
        "id": "e0YAFkR8Y0uj",
        "colab_type": "text"
      },
      "source": [
        "Mivel ékezetes karakterek is vannak a fájlban, át kell állítanunk a karakterkódolást is a beolvasásnál. Az értékeket a sorokban a \";\" karakter választja el, a sorok nevei a 0. oszlopban vannak."
      ]
    },
    {
      "cell_type": "code",
      "metadata": {
        "id": "nswHwUL2Y0uk",
        "colab_type": "code",
        "colab": {}
      },
      "source": [
        "erettsegi_adat=pd.read_csv(\"data/erettsegi.csv.gz\",encoding=\"utf8\",sep=\";\",index_col=0)"
      ],
      "execution_count": 0,
      "outputs": []
    },
    {
      "cell_type": "markdown",
      "metadata": {
        "id": "narHyLTmY0ul",
        "colab_type": "text"
      },
      "source": [
        "Listáztassuk ki, milyen oszlopnevek vannak a fájlban!"
      ]
    },
    {
      "cell_type": "code",
      "metadata": {
        "id": "Ft0iyo_5Y0um",
        "colab_type": "code",
        "colab": {},
        "outputId": "0400c72c-dce4-4680-b4da-df72ee886d9e"
      },
      "source": [
        "print(\"\\n\".join(erettsegi_adat.columns.tolist()))"
      ],
      "execution_count": 0,
      "outputs": [
        {
          "output_type": "stream",
          "text": [
            "intézmény megyéje\n",
            "intézmény városa\n",
            "vizsgázó évfolyama\n",
            "vizsgázó képzési típusa\n",
            "vizsgázó neme\n",
            "vizsgázó képzési munkarendje\n",
            "vizsgatárgy neve\n",
            "vizsga szintje\n",
            "vizsga fajtája\n",
            "vizsgamentesség\n",
            "vizsga nyelve\n",
            "érdemjegy\n",
            "össz százalék\n",
            "össz pontszám\n",
            "vizsgázó részvétele\n",
            "I. feleletválasztós kérdéssor\n",
            "II. esszé: tartalom\n",
            "II. esszé:  kifejtés módja\n",
            "III. összetett feladatok\n",
            "írásbeli pontszám\n",
            "mérés és tételkifejtés: tartalmi helyesség\n",
            "mérés és tételkifejtés: felépítés, kifejtés\n",
            "szóbeli pontszám\n",
            "év\n",
            "szint\n",
            "időszak\n",
            "egy téma kifejtése kísérlettel vagy méréssel: tartalom\n",
            "egy téma kifejtése kísérlettel vagy méréssel: felépítés, kifejtés\n",
            "II. összetett feladatok\n"
          ],
          "name": "stdout"
        }
      ]
    },
    {
      "cell_type": "markdown",
      "metadata": {
        "id": "5_is_5PBY0uo",
        "colab_type": "text"
      },
      "source": [
        "Látható, hogy az `év`, `szint` megadják, hogy melyik évben, melyik szintű érettségiről van szó. Azt is megállapíthatjuk, hogy ősszel vagy tavasszal (`időszak`) írta-e a diák az érettségit, az iskolájáról és a képzési típusról is rögzítve van a statisztika. Emellett részletes írásbeli és szóbeli, illetve összpontszám, összesített százalék is szerepel az adatok között.\n",
        "\n",
        "Érdemes az első néhány sort kiíratni példaként, hogy lássuk, mivel is van dolgunk. Most transzponálva írjuk ki, hogy elférjen a képernyőre."
      ]
    },
    {
      "cell_type": "code",
      "metadata": {
        "id": "sRlZeqFGY0uo",
        "colab_type": "code",
        "colab": {},
        "outputId": "e11f51fe-ede6-4d08-9b5d-f0d1fd25b2fb"
      },
      "source": [
        "erettsegi_adat.head().transpose()"
      ],
      "execution_count": 0,
      "outputs": [
        {
          "output_type": "execute_result",
          "data": {
            "text/html": [
              "<div>\n",
              "<table border=\"1\" class=\"dataframe\">\n",
              "  <thead>\n",
              "    <tr style=\"text-align: right;\">\n",
              "      <th></th>\n",
              "      <th>0</th>\n",
              "      <th>1</th>\n",
              "      <th>2</th>\n",
              "      <th>3</th>\n",
              "      <th>4</th>\n",
              "    </tr>\n",
              "  </thead>\n",
              "  <tbody>\n",
              "    <tr>\n",
              "      <th>intézmény megyéje</th>\n",
              "      <td>Budapest</td>\n",
              "      <td>Budapest</td>\n",
              "      <td>Budapest</td>\n",
              "      <td>Budapest</td>\n",
              "      <td>Budapest</td>\n",
              "    </tr>\n",
              "    <tr>\n",
              "      <th>intézmény városa</th>\n",
              "      <td>Budapest</td>\n",
              "      <td>Budapest</td>\n",
              "      <td>Budapest</td>\n",
              "      <td>Budapest</td>\n",
              "      <td>Budapest</td>\n",
              "    </tr>\n",
              "    <tr>\n",
              "      <th>vizsgázó évfolyama</th>\n",
              "      <td>12</td>\n",
              "      <td>12</td>\n",
              "      <td>12</td>\n",
              "      <td>13</td>\n",
              "      <td>12</td>\n",
              "    </tr>\n",
              "    <tr>\n",
              "      <th>vizsgázó képzési típusa</th>\n",
              "      <td>gimnázium</td>\n",
              "      <td>gimnázium</td>\n",
              "      <td>gimnázium</td>\n",
              "      <td>gimnázium</td>\n",
              "      <td>gimnázium</td>\n",
              "    </tr>\n",
              "    <tr>\n",
              "      <th>vizsgázó neme</th>\n",
              "      <td>férfi</td>\n",
              "      <td>nõ</td>\n",
              "      <td>férfi</td>\n",
              "      <td>nõ</td>\n",
              "      <td>férfi</td>\n",
              "    </tr>\n",
              "    <tr>\n",
              "      <th>vizsgázó képzési munkarendje</th>\n",
              "      <td>nappali</td>\n",
              "      <td>nappali</td>\n",
              "      <td>nappali</td>\n",
              "      <td>nappali</td>\n",
              "      <td>nappali</td>\n",
              "    </tr>\n",
              "    <tr>\n",
              "      <th>vizsgatárgy neve</th>\n",
              "      <td>fizika</td>\n",
              "      <td>fizika</td>\n",
              "      <td>fizika</td>\n",
              "      <td>fizika</td>\n",
              "      <td>fizika</td>\n",
              "    </tr>\n",
              "    <tr>\n",
              "      <th>vizsga szintje</th>\n",
              "      <td>közép</td>\n",
              "      <td>közép</td>\n",
              "      <td>közép</td>\n",
              "      <td>közép</td>\n",
              "      <td>közép</td>\n",
              "    </tr>\n",
              "    <tr>\n",
              "      <th>vizsga fajtája</th>\n",
              "      <td>elõrehozott</td>\n",
              "      <td>elõrehozott</td>\n",
              "      <td>elõrehozott</td>\n",
              "      <td>elõrehozott</td>\n",
              "      <td>elõrehozott</td>\n",
              "    </tr>\n",
              "    <tr>\n",
              "      <th>vizsgamentesség</th>\n",
              "      <td>-</td>\n",
              "      <td>-</td>\n",
              "      <td>-</td>\n",
              "      <td>-</td>\n",
              "      <td>-</td>\n",
              "    </tr>\n",
              "    <tr>\n",
              "      <th>vizsga nyelve</th>\n",
              "      <td>magyar</td>\n",
              "      <td>magyar</td>\n",
              "      <td>magyar</td>\n",
              "      <td>magyar</td>\n",
              "      <td>magyar</td>\n",
              "    </tr>\n",
              "    <tr>\n",
              "      <th>érdemjegy</th>\n",
              "      <td>1</td>\n",
              "      <td>1</td>\n",
              "      <td>5</td>\n",
              "      <td>3</td>\n",
              "      <td>5</td>\n",
              "    </tr>\n",
              "    <tr>\n",
              "      <th>össz százalék</th>\n",
              "      <td>26</td>\n",
              "      <td>19</td>\n",
              "      <td>97</td>\n",
              "      <td>40</td>\n",
              "      <td>84</td>\n",
              "    </tr>\n",
              "    <tr>\n",
              "      <th>össz pontszám</th>\n",
              "      <td>40</td>\n",
              "      <td>29</td>\n",
              "      <td>146</td>\n",
              "      <td>61</td>\n",
              "      <td>126</td>\n",
              "    </tr>\n",
              "    <tr>\n",
              "      <th>vizsgázó részvétele</th>\n",
              "      <td>nem jelent meg</td>\n",
              "      <td>nem jelent meg</td>\n",
              "      <td>megjelent</td>\n",
              "      <td>megjelent</td>\n",
              "      <td>megjelent</td>\n",
              "    </tr>\n",
              "    <tr>\n",
              "      <th>I. feleletválasztós kérdéssor</th>\n",
              "      <td>NaN</td>\n",
              "      <td>NaN</td>\n",
              "      <td>38</td>\n",
              "      <td>14</td>\n",
              "      <td>24</td>\n",
              "    </tr>\n",
              "    <tr>\n",
              "      <th>II. esszé: tartalom</th>\n",
              "      <td>NaN</td>\n",
              "      <td>NaN</td>\n",
              "      <td>NaN</td>\n",
              "      <td>NaN</td>\n",
              "      <td>NaN</td>\n",
              "    </tr>\n",
              "    <tr>\n",
              "      <th>II. esszé:  kifejtés módja</th>\n",
              "      <td>NaN</td>\n",
              "      <td>NaN</td>\n",
              "      <td>NaN</td>\n",
              "      <td>NaN</td>\n",
              "      <td>NaN</td>\n",
              "    </tr>\n",
              "    <tr>\n",
              "      <th>III. összetett feladatok</th>\n",
              "      <td>NaN</td>\n",
              "      <td>NaN</td>\n",
              "      <td>NaN</td>\n",
              "      <td>NaN</td>\n",
              "      <td>NaN</td>\n",
              "    </tr>\n",
              "    <tr>\n",
              "      <th>írásbeli pontszám</th>\n",
              "      <td>NaN</td>\n",
              "      <td>NaN</td>\n",
              "      <td>86</td>\n",
              "      <td>23</td>\n",
              "      <td>66</td>\n",
              "    </tr>\n",
              "    <tr>\n",
              "      <th>mérés és tételkifejtés: tartalmi helyesség</th>\n",
              "      <td>NaN</td>\n",
              "      <td>NaN</td>\n",
              "      <td>NaN</td>\n",
              "      <td>NaN</td>\n",
              "      <td>NaN</td>\n",
              "    </tr>\n",
              "    <tr>\n",
              "      <th>mérés és tételkifejtés: felépítés, kifejtés</th>\n",
              "      <td>NaN</td>\n",
              "      <td>NaN</td>\n",
              "      <td>NaN</td>\n",
              "      <td>NaN</td>\n",
              "      <td>NaN</td>\n",
              "    </tr>\n",
              "    <tr>\n",
              "      <th>szóbeli pontszám</th>\n",
              "      <td>NaN</td>\n",
              "      <td>NaN</td>\n",
              "      <td>60</td>\n",
              "      <td>38</td>\n",
              "      <td>60</td>\n",
              "    </tr>\n",
              "    <tr>\n",
              "      <th>év</th>\n",
              "      <td>2013</td>\n",
              "      <td>2013</td>\n",
              "      <td>2013</td>\n",
              "      <td>2013</td>\n",
              "      <td>2013</td>\n",
              "    </tr>\n",
              "    <tr>\n",
              "      <th>szint</th>\n",
              "      <td>K</td>\n",
              "      <td>K</td>\n",
              "      <td>K</td>\n",
              "      <td>K</td>\n",
              "      <td>K</td>\n",
              "    </tr>\n",
              "    <tr>\n",
              "      <th>időszak</th>\n",
              "      <td>tavasz</td>\n",
              "      <td>tavasz</td>\n",
              "      <td>tavasz</td>\n",
              "      <td>tavasz</td>\n",
              "      <td>tavasz</td>\n",
              "    </tr>\n",
              "    <tr>\n",
              "      <th>egy téma kifejtése kísérlettel vagy méréssel: tartalom</th>\n",
              "      <td>NaN</td>\n",
              "      <td>NaN</td>\n",
              "      <td>55</td>\n",
              "      <td>36</td>\n",
              "      <td>55</td>\n",
              "    </tr>\n",
              "    <tr>\n",
              "      <th>egy téma kifejtése kísérlettel vagy méréssel: felépítés, kifejtés</th>\n",
              "      <td>NaN</td>\n",
              "      <td>NaN</td>\n",
              "      <td>5</td>\n",
              "      <td>2</td>\n",
              "      <td>5</td>\n",
              "    </tr>\n",
              "    <tr>\n",
              "      <th>II. összetett feladatok</th>\n",
              "      <td>NaN</td>\n",
              "      <td>NaN</td>\n",
              "      <td>48</td>\n",
              "      <td>9</td>\n",
              "      <td>42</td>\n",
              "    </tr>\n",
              "  </tbody>\n",
              "</table>\n",
              "</div>"
            ],
            "text/plain": [
              "                                                                 0  \\\n",
              "intézmény megyéje                                         Budapest   \n",
              "intézmény városa                                          Budapest   \n",
              "vizsgázó évfolyama                                              12   \n",
              "vizsgázó képzési típusa                                  gimnázium   \n",
              "vizsgázó neme                                                férfi   \n",
              "vizsgázó képzési munkarendje                               nappali   \n",
              "vizsgatárgy neve                                            fizika   \n",
              "vizsga szintje                                               közép   \n",
              "vizsga fajtája                                         elõrehozott   \n",
              "vizsgamentesség                                                  -   \n",
              "vizsga nyelve                                               magyar   \n",
              "érdemjegy                                                        1   \n",
              "össz százalék                                                   26   \n",
              "össz pontszám                                                   40   \n",
              "vizsgázó részvétele                                 nem jelent meg   \n",
              "I. feleletválasztós kérdéssor                                  NaN   \n",
              "II. esszé: tartalom                                            NaN   \n",
              "II. esszé:  kifejtés módja                                     NaN   \n",
              "III. összetett feladatok                                       NaN   \n",
              "írásbeli pontszám                                              NaN   \n",
              "mérés és tételkifejtés: tartalmi helyesség                     NaN   \n",
              "mérés és tételkifejtés: felépítés, kifejtés                    NaN   \n",
              "szóbeli pontszám                                               NaN   \n",
              "év                                                            2013   \n",
              "szint                                                            K   \n",
              "időszak                                                     tavasz   \n",
              "egy téma kifejtése kísérlettel vagy méréssel: t...             NaN   \n",
              "egy téma kifejtése kísérlettel vagy méréssel: f...             NaN   \n",
              "II. összetett feladatok                                        NaN   \n",
              "\n",
              "                                                                 1  \\\n",
              "intézmény megyéje                                         Budapest   \n",
              "intézmény városa                                          Budapest   \n",
              "vizsgázó évfolyama                                              12   \n",
              "vizsgázó képzési típusa                                  gimnázium   \n",
              "vizsgázó neme                                                   nõ   \n",
              "vizsgázó képzési munkarendje                               nappali   \n",
              "vizsgatárgy neve                                            fizika   \n",
              "vizsga szintje                                               közép   \n",
              "vizsga fajtája                                         elõrehozott   \n",
              "vizsgamentesség                                                  -   \n",
              "vizsga nyelve                                               magyar   \n",
              "érdemjegy                                                        1   \n",
              "össz százalék                                                   19   \n",
              "össz pontszám                                                   29   \n",
              "vizsgázó részvétele                                 nem jelent meg   \n",
              "I. feleletválasztós kérdéssor                                  NaN   \n",
              "II. esszé: tartalom                                            NaN   \n",
              "II. esszé:  kifejtés módja                                     NaN   \n",
              "III. összetett feladatok                                       NaN   \n",
              "írásbeli pontszám                                              NaN   \n",
              "mérés és tételkifejtés: tartalmi helyesség                     NaN   \n",
              "mérés és tételkifejtés: felépítés, kifejtés                    NaN   \n",
              "szóbeli pontszám                                               NaN   \n",
              "év                                                            2013   \n",
              "szint                                                            K   \n",
              "időszak                                                     tavasz   \n",
              "egy téma kifejtése kísérlettel vagy méréssel: t...             NaN   \n",
              "egy téma kifejtése kísérlettel vagy méréssel: f...             NaN   \n",
              "II. összetett feladatok                                        NaN   \n",
              "\n",
              "                                                              2            3  \\\n",
              "intézmény megyéje                                      Budapest     Budapest   \n",
              "intézmény városa                                       Budapest     Budapest   \n",
              "vizsgázó évfolyama                                           12           13   \n",
              "vizsgázó képzési típusa                               gimnázium    gimnázium   \n",
              "vizsgázó neme                                             férfi           nõ   \n",
              "vizsgázó képzési munkarendje                            nappali      nappali   \n",
              "vizsgatárgy neve                                         fizika       fizika   \n",
              "vizsga szintje                                            közép        közép   \n",
              "vizsga fajtája                                      elõrehozott  elõrehozott   \n",
              "vizsgamentesség                                               -            -   \n",
              "vizsga nyelve                                            magyar       magyar   \n",
              "érdemjegy                                                     5            3   \n",
              "össz százalék                                                97           40   \n",
              "össz pontszám                                               146           61   \n",
              "vizsgázó részvétele                                   megjelent    megjelent   \n",
              "I. feleletválasztós kérdéssor                                38           14   \n",
              "II. esszé: tartalom                                         NaN          NaN   \n",
              "II. esszé:  kifejtés módja                                  NaN          NaN   \n",
              "III. összetett feladatok                                    NaN          NaN   \n",
              "írásbeli pontszám                                            86           23   \n",
              "mérés és tételkifejtés: tartalmi helyesség                  NaN          NaN   \n",
              "mérés és tételkifejtés: felépítés, kifejtés                 NaN          NaN   \n",
              "szóbeli pontszám                                             60           38   \n",
              "év                                                         2013         2013   \n",
              "szint                                                         K            K   \n",
              "időszak                                                  tavasz       tavasz   \n",
              "egy téma kifejtése kísérlettel vagy méréssel: t...           55           36   \n",
              "egy téma kifejtése kísérlettel vagy méréssel: f...            5            2   \n",
              "II. összetett feladatok                                      48            9   \n",
              "\n",
              "                                                              4  \n",
              "intézmény megyéje                                      Budapest  \n",
              "intézmény városa                                       Budapest  \n",
              "vizsgázó évfolyama                                           12  \n",
              "vizsgázó képzési típusa                               gimnázium  \n",
              "vizsgázó neme                                             férfi  \n",
              "vizsgázó képzési munkarendje                            nappali  \n",
              "vizsgatárgy neve                                         fizika  \n",
              "vizsga szintje                                            közép  \n",
              "vizsga fajtája                                      elõrehozott  \n",
              "vizsgamentesség                                               -  \n",
              "vizsga nyelve                                            magyar  \n",
              "érdemjegy                                                     5  \n",
              "össz százalék                                                84  \n",
              "össz pontszám                                               126  \n",
              "vizsgázó részvétele                                   megjelent  \n",
              "I. feleletválasztós kérdéssor                                24  \n",
              "II. esszé: tartalom                                         NaN  \n",
              "II. esszé:  kifejtés módja                                  NaN  \n",
              "III. összetett feladatok                                    NaN  \n",
              "írásbeli pontszám                                            66  \n",
              "mérés és tételkifejtés: tartalmi helyesség                  NaN  \n",
              "mérés és tételkifejtés: felépítés, kifejtés                 NaN  \n",
              "szóbeli pontszám                                             60  \n",
              "év                                                         2013  \n",
              "szint                                                         K  \n",
              "időszak                                                  tavasz  \n",
              "egy téma kifejtése kísérlettel vagy méréssel: t...           55  \n",
              "egy téma kifejtése kísérlettel vagy méréssel: f...            5  \n",
              "II. összetett feladatok                                      42  "
            ]
          },
          "metadata": {
            "tags": []
          },
          "execution_count": 38
        }
      ]
    },
    {
      "cell_type": "markdown",
      "metadata": {
        "id": "CLKEpI9kY0uq",
        "colab_type": "text"
      },
      "source": [
        "Itt aztán már tényleg nagy hasznát vesszük a fentebb tanult csoportosítási, aggregálási műveleteknek, a következőkben felteszünk néhány példakérdést, és megválaszoljuk azt."
      ]
    },
    {
      "cell_type": "markdown",
      "metadata": {
        "id": "-pdGJHDPY0uq",
        "colab_type": "text"
      },
      "source": [
        "* Melyik évben mennyi volt az emelt szintű érettségik jegyeinek átlaga?\n",
        "\n",
        "Ehhez először kiválasztjuk az emelt szintű érettségit tartalmazó sorokat, majd azokat év szerint csoportosítjuk. Kiválasztjuk az \"érdemjegy\" oszlopot, amit a végén átlagolunk. A csoportosítás miatt az átlag évenként kerül kiszámítása."
      ]
    },
    {
      "cell_type": "code",
      "metadata": {
        "id": "e4oluWkkY0ur",
        "colab_type": "code",
        "colab": {},
        "outputId": "5457163a-d3ed-4361-9855-279a458dc391"
      },
      "source": [
        "erettsegi_adat[erettsegi_adat[\"szint\"]==\"E\"].groupby(\"év\")[\"érdemjegy\"].mean()"
      ],
      "execution_count": 0,
      "outputs": [
        {
          "output_type": "execute_result",
          "data": {
            "text/plain": [
              "év\n",
              "2011    4.125000\n",
              "2012    4.429338\n",
              "2013    4.232607\n",
              "2014    4.404090\n",
              "2015    4.432165\n",
              "Name: érdemjegy, dtype: float64"
            ]
          },
          "metadata": {
            "tags": []
          },
          "execution_count": 39
        }
      ]
    },
    {
      "cell_type": "markdown",
      "metadata": {
        "id": "P2GTGk9CY0ut",
        "colab_type": "text"
      },
      "source": [
        "* Vajon a fiúk vagy a lányok írtak jobb pontszámú középszintű érettségit 2015-ben?\n",
        "\n",
        "A \"\\\" jel csak azért kell, hogy ne írjunk túl hosszú sorokat a Pythonnak, mert az nehéz lenne elolvasni. Ha ilyen jelet teszel a sor végére, akkor az értelmező úgy olvassa, mintha a következő sor a \"\\\" jel helyére lenne fűzve.\n",
        "\n",
        "Először logikai indexeléssel kiválasztjuk a 2015-ös középszintű érettségiket tartalmazó sorokat. Több feltételt a sorokra egyszerre az `and` operátor helyett az & operátorral adhatunk meg, és a feltételeket zárójeleznünk kell, hogy jól olvassa az értelmező. \n",
        "\n",
        "Ezek után csoportosítunk a vizsgázó neme szerint, majd vesszük az összpontszámok átlagát."
      ]
    },
    {
      "cell_type": "code",
      "metadata": {
        "id": "sxpmUFn3Y0ut",
        "colab_type": "code",
        "colab": {},
        "outputId": "b95970f4-9527-4aea-ef57-7dd9b169d940"
      },
      "source": [
        "erettsegi_adat[\n",
        "    (erettsegi_adat[\"szint\"]==\"K\") &\\\n",
        "    (erettsegi_adat[\"év\"]==2015)].\\\n",
        "groupby(\"vizsgázó neme\")[\"össz pontszám\"].mean()"
      ],
      "execution_count": 0,
      "outputs": [
        {
          "output_type": "execute_result",
          "data": {
            "text/plain": [
              "vizsgázó neme\n",
              "férfi    100.270135\n",
              "nõ        97.180775\n",
              "Name: össz pontszám, dtype: float64"
            ]
          },
          "metadata": {
            "tags": []
          },
          "execution_count": 40
        }
      ]
    },
    {
      "cell_type": "markdown",
      "metadata": {
        "id": "sqXjOQ4iY0uv",
        "colab_type": "text"
      },
      "source": [
        "* Számoljuk le, melyik iskolatípusban hány érettségiző jelent meg, illetve nem jelent meg!\n",
        "\n",
        "Most egyszerre két oszlop szerint is csoportosítottunk, a csoportosítás alapját képező oszlopok nevét listaként kell megadni a groupby-nak. Utána egy tetszőleges oszlopot (pl. év) kiválasztva megszámláltathatjuk csoportonként a sorokat a count-tal."
      ]
    },
    {
      "cell_type": "code",
      "metadata": {
        "id": "HOpBuBLfY0uv",
        "colab_type": "code",
        "colab": {},
        "outputId": "962693ca-589c-446c-b6b2-a096e1ea6cb1"
      },
      "source": [
        "erettsegi_adat.groupby([\"vizsgázó képzési típusa\", \"vizsgázó részvétele\"])[\"év\"].count()"
      ],
      "execution_count": 0,
      "outputs": [
        {
          "output_type": "execute_result",
          "data": {
            "text/plain": [
              "vizsgázó képzési típusa  vizsgázó részvétele\n",
              "-                        megjelent               1260\n",
              "                         nem jelent meg           490\n",
              "gimnázium                megjelent              14448\n",
              "                         nem jelent meg           551\n",
              "szakközép                megjelent               5007\n",
              "                         nem jelent meg           134\n",
              "Name: év, dtype: int64"
            ]
          },
          "metadata": {
            "tags": []
          },
          "execution_count": 41
        }
      ]
    },
    {
      "cell_type": "markdown",
      "metadata": {
        "id": "lShO0vfwY0uw",
        "colab_type": "text"
      },
      "source": [
        "## Ábrázolás"
      ]
    },
    {
      "cell_type": "markdown",
      "metadata": {
        "id": "SM-ZK9KPY0ux",
        "colab_type": "text"
      },
      "source": [
        "A `pandas` nagy erőssége, hogy a *DataFrame*-ekből nagyon rövid szintaxissal lehet egészen elfogadható ábrákat készíteni. Ehhez a `pandas` a `matplotlib` könyvtárat használja, melyet emiatt be is kell importálnunk."
      ]
    },
    {
      "cell_type": "code",
      "metadata": {
        "id": "jzSRXbIyY0ux",
        "colab_type": "code",
        "colab": {},
        "outputId": "8810c65a-6643-4cb2-d627-5cccfe51ab6a"
      },
      "source": [
        "%pylab inline"
      ],
      "execution_count": 0,
      "outputs": [
        {
          "output_type": "stream",
          "text": [
            "Populating the interactive namespace from numpy and matplotlib\n"
          ],
          "name": "stdout"
        }
      ]
    },
    {
      "cell_type": "markdown",
      "metadata": {
        "id": "zk-PBPedY0uy",
        "colab_type": "text"
      },
      "source": [
        "Az ábra paramétereit (title, ylabel stb.) a `matplotlib`ben megszokott módon állíthatjuk be.\n",
        "\n",
        "Elsőként növeljük meg alapértelmezetten a tengelyfeliratokat:"
      ]
    },
    {
      "cell_type": "code",
      "metadata": {
        "id": "VqfmVejzY0uz",
        "colab_type": "code",
        "colab": {}
      },
      "source": [
        "rcParams[\"font.size\"]=15"
      ],
      "execution_count": 0,
      "outputs": []
    },
    {
      "cell_type": "markdown",
      "metadata": {
        "id": "YNp5-gOgY0u1",
        "colab_type": "text"
      },
      "source": [
        "Nézzük meg ábrán is az emelt szintű érettségik évenkénti átlagát! Ehhez csak a fenti parancs végére hozzá kell fűznünk a \"plot\" szócskát. Az oszlopdiagram rajzolásához megadhatjuk a plot függvénynek a kind kulcsszóval, hogy `kind=\"bar\"`. Az x tengely feliratai a DataFrame indexei lesznek, de az y tengelynek már mi kell, hogy nevet adjunk."
      ]
    },
    {
      "cell_type": "code",
      "metadata": {
        "id": "m_zA4xNIY0u2",
        "colab_type": "code",
        "colab": {},
        "outputId": "d7649fe7-6feb-4f11-d044-42ba185ebb0c"
      },
      "source": [
        "erettsegi_adat[erettsegi_adat[\"szint\"]==\"E\"].groupby(\"év\")[\"érdemjegy\"].mean().plot(kind=\"bar\", figsize=(12, 9))\n",
        "ylabel(\"Emelt szint átlag\")\n",
        "ylim(0,5)"
      ],
      "execution_count": 0,
      "outputs": [
        {
          "output_type": "execute_result",
          "data": {
            "text/plain": [
              "(0, 5)"
            ]
          },
          "metadata": {
            "tags": []
          },
          "execution_count": 44
        },
        {
          "output_type": "display_data",
          "data": {
            "image/png": "[encoded data removed]",
            "text/plain": [
              "<matplotlib.figure.Figure at 0x7f2fc658e128>"
            ]
          },
          "metadata": {
            "tags": []
          }
        }
      ]
    },
    {
      "cell_type": "markdown",
      "metadata": {
        "id": "tkAoLUuEY0u3",
        "colab_type": "text"
      },
      "source": [
        "Megnézhetjük kördiagramon, hogy melyik iskolatípusból hányan érettségiztek közép- és emelt szinten 2011 és 2015 között. Ehhez két alábrát készítünk a múltkor tanultakhoz hasonlóan.\n",
        "\n",
        "Vajon mit csinált az `autopct` kulcsszó?"
      ]
    },
    {
      "cell_type": "code",
      "metadata": {
        "id": "yzzLShz7Y0u3",
        "colab_type": "code",
        "colab": {},
        "outputId": "fbd6e9e3-c871-4b13-b905-8cdbf7d31ce9"
      },
      "source": [
        "subplot(1,2,1)\n",
        "erettsegi_adat[\n",
        "    (erettsegi_adat[\"vizsgázó részvétele\"]==\"megjelent\") &\\\n",
        "    (erettsegi_adat[\"szint\"]==\"K\")]\\\n",
        "    .groupby([\"vizsgázó képzési típusa\"])\\\n",
        "    .size()\\\n",
        "    .plot(kind=\"pie\",autopct='%.1f',figsize=(20,10))\n",
        "title(\"Középszint\")\n",
        "\n",
        "subplot(1,2,2)\n",
        "erettsegi_adat[\n",
        "    (erettsegi_adat[\"vizsgázó részvétele\"]==\"megjelent\") &\\\n",
        "    (erettsegi_adat[\"szint\"]==\"E\")]\\\n",
        "    .groupby([\"vizsgázó képzési típusa\"])\\\n",
        "    .size()\\\n",
        "    .plot(kind=\"pie\",autopct='%.1f',figsize=(20,10))\n",
        "title(\"Emelt szint\")"
      ],
      "execution_count": 0,
      "outputs": [
        {
          "output_type": "execute_result",
          "data": {
            "text/plain": [
              "<matplotlib.text.Text at 0x7f2fc4c2a198>"
            ]
          },
          "metadata": {
            "tags": []
          },
          "execution_count": 45
        },
        {
          "output_type": "display_data",
          "data": {
            "image/png": "[encoded data removed]",
            "text/plain": [
              "<matplotlib.figure.Figure at 0x7f2fc4a9d5c0>"
            ]
          },
          "metadata": {
            "tags": []
          }
        }
      ]
    },
    {
      "cell_type": "markdown",
      "metadata": {
        "id": "ONrde9xUY0u5",
        "colab_type": "text"
      },
      "source": [
        "# ☠ Haladóknak"
      ]
    },
    {
      "cell_type": "markdown",
      "metadata": {
        "id": "B8hCSJRhY0u5",
        "colab_type": "text"
      },
      "source": [
        "## Összefűzés, join"
      ]
    },
    {
      "cell_type": "markdown",
      "metadata": {
        "id": "Kigh43ozY0u6",
        "colab_type": "text"
      },
      "source": [
        "Két *DataFrame*-et összefűzhetünk egymás alá, ha a `pd.concat()` függvénynek egy ugyanannyi oszlopból álló *DataFrame*-eket tartalmazó listát adunk oda.\n",
        "\n",
        "Példánkban kétszer egymás alá írjuk ugyanazt a *DataFrame*-et."
      ]
    },
    {
      "cell_type": "code",
      "metadata": {
        "id": "cVV3crBdY0u6",
        "colab_type": "code",
        "colab": {},
        "outputId": "2797c3c8-5587-438d-b0c7-f7a0d1989804"
      },
      "source": [
        "pd.concat([df,df])"
      ],
      "execution_count": 0,
      "outputs": [
        {
          "output_type": "execute_result",
          "data": {
            "text/html": [
              "<div>\n",
              "<table border=\"1\" class=\"dataframe\">\n",
              "  <thead>\n",
              "    <tr style=\"text-align: right;\">\n",
              "      <th></th>\n",
              "      <th>Eszter</th>\n",
              "      <th>Orsi</th>\n",
              "      <th>Nem</th>\n",
              "      <th>Emelt</th>\n",
              "      <th>Kor</th>\n",
              "    </tr>\n",
              "  </thead>\n",
              "  <tbody>\n",
              "    <tr>\n",
              "      <th>Csenge</th>\n",
              "      <td>4</td>\n",
              "      <td>4</td>\n",
              "      <td>lány</td>\n",
              "      <td>0</td>\n",
              "      <td>22</td>\n",
              "    </tr>\n",
              "    <tr>\n",
              "      <th>István</th>\n",
              "      <td>5</td>\n",
              "      <td>4</td>\n",
              "      <td>fiú</td>\n",
              "      <td>1</td>\n",
              "      <td>19</td>\n",
              "    </tr>\n",
              "    <tr>\n",
              "      <th>Zita</th>\n",
              "      <td>3</td>\n",
              "      <td>5</td>\n",
              "      <td>lány</td>\n",
              "      <td>1</td>\n",
              "      <td>20</td>\n",
              "    </tr>\n",
              "    <tr>\n",
              "      <th>Dávid</th>\n",
              "      <td>5</td>\n",
              "      <td>5</td>\n",
              "      <td>fiú</td>\n",
              "      <td>0</td>\n",
              "      <td>20</td>\n",
              "    </tr>\n",
              "    <tr>\n",
              "      <th>Csenge</th>\n",
              "      <td>4</td>\n",
              "      <td>4</td>\n",
              "      <td>lány</td>\n",
              "      <td>0</td>\n",
              "      <td>22</td>\n",
              "    </tr>\n",
              "    <tr>\n",
              "      <th>István</th>\n",
              "      <td>5</td>\n",
              "      <td>4</td>\n",
              "      <td>fiú</td>\n",
              "      <td>1</td>\n",
              "      <td>19</td>\n",
              "    </tr>\n",
              "    <tr>\n",
              "      <th>Zita</th>\n",
              "      <td>3</td>\n",
              "      <td>5</td>\n",
              "      <td>lány</td>\n",
              "      <td>1</td>\n",
              "      <td>20</td>\n",
              "    </tr>\n",
              "    <tr>\n",
              "      <th>Dávid</th>\n",
              "      <td>5</td>\n",
              "      <td>5</td>\n",
              "      <td>fiú</td>\n",
              "      <td>0</td>\n",
              "      <td>20</td>\n",
              "    </tr>\n",
              "  </tbody>\n",
              "</table>\n",
              "</div>"
            ],
            "text/plain": [
              "        Eszter  Orsi   Nem  Emelt  Kor\n",
              "Csenge       4     4  lány      0   22\n",
              "István       5     4   fiú      1   19\n",
              "Zita         3     5  lány      1   20\n",
              "Dávid        5     5   fiú      0   20\n",
              "Csenge       4     4  lány      0   22\n",
              "István       5     4   fiú      1   19\n",
              "Zita         3     5  lány      1   20\n",
              "Dávid        5     5   fiú      0   20"
            ]
          },
          "metadata": {
            "tags": []
          },
          "execution_count": 46
        }
      ]
    },
    {
      "cell_type": "markdown",
      "metadata": {
        "id": "moOoJJxPY0u7",
        "colab_type": "text"
      },
      "source": [
        "Létrehozunk egy másik *DataFrame*-et, és egy `Énekkar` nevű oszlopot teszünk bele az előző *DataFrame* indexeivel."
      ]
    },
    {
      "cell_type": "code",
      "metadata": {
        "id": "9ylsdtTMY0u8",
        "colab_type": "code",
        "colab": {},
        "outputId": "d8469b4c-3d6c-4804-8465-1d1487301e0c"
      },
      "source": [
        "import numpy as np\n",
        "df2=pd.DataFrame(np.array([[0,1,1,1]]).transpose(),columns=[\"Énekkar\"],index=df.index)\n",
        "df2"
      ],
      "execution_count": 0,
      "outputs": [
        {
          "output_type": "execute_result",
          "data": {
            "text/html": [
              "<div>\n",
              "<table border=\"1\" class=\"dataframe\">\n",
              "  <thead>\n",
              "    <tr style=\"text-align: right;\">\n",
              "      <th></th>\n",
              "      <th>Énekkar</th>\n",
              "    </tr>\n",
              "  </thead>\n",
              "  <tbody>\n",
              "    <tr>\n",
              "      <th>Csenge</th>\n",
              "      <td>0</td>\n",
              "    </tr>\n",
              "    <tr>\n",
              "      <th>István</th>\n",
              "      <td>1</td>\n",
              "    </tr>\n",
              "    <tr>\n",
              "      <th>Zita</th>\n",
              "      <td>1</td>\n",
              "    </tr>\n",
              "    <tr>\n",
              "      <th>Dávid</th>\n",
              "      <td>1</td>\n",
              "    </tr>\n",
              "  </tbody>\n",
              "</table>\n",
              "</div>"
            ],
            "text/plain": [
              "        Énekkar\n",
              "Csenge        0\n",
              "István        1\n",
              "Zita          1\n",
              "Dávid         1"
            ]
          },
          "metadata": {
            "tags": []
          },
          "execution_count": 47
        }
      ]
    },
    {
      "cell_type": "markdown",
      "metadata": {
        "id": "zLpQKLXpY0u_",
        "colab_type": "text"
      },
      "source": [
        "Hogyan tudnánk ezt az oszlopot hozzáilleszteni az előző táblázathoz? Megtehetjük `concat` segítségével, de át kell állítanunk, hogy melyik irányban fűzzük össze a két táblázatot (`axis=1` jelenti, hogy az oszlopok mellé szeretnénk írni)."
      ]
    },
    {
      "cell_type": "code",
      "metadata": {
        "id": "lwh9-1fnY0vA",
        "colab_type": "code",
        "colab": {},
        "outputId": "3db4feeb-48c2-4038-c9fa-c3097af2675d"
      },
      "source": [
        "pd.concat([df,df2],axis=1)"
      ],
      "execution_count": 0,
      "outputs": [
        {
          "output_type": "execute_result",
          "data": {
            "text/html": [
              "<div>\n",
              "<table border=\"1\" class=\"dataframe\">\n",
              "  <thead>\n",
              "    <tr style=\"text-align: right;\">\n",
              "      <th></th>\n",
              "      <th>Eszter</th>\n",
              "      <th>Orsi</th>\n",
              "      <th>Nem</th>\n",
              "      <th>Emelt</th>\n",
              "      <th>Kor</th>\n",
              "      <th>Énekkar</th>\n",
              "    </tr>\n",
              "  </thead>\n",
              "  <tbody>\n",
              "    <tr>\n",
              "      <th>Csenge</th>\n",
              "      <td>4</td>\n",
              "      <td>4</td>\n",
              "      <td>lány</td>\n",
              "      <td>0</td>\n",
              "      <td>22</td>\n",
              "      <td>0</td>\n",
              "    </tr>\n",
              "    <tr>\n",
              "      <th>István</th>\n",
              "      <td>5</td>\n",
              "      <td>4</td>\n",
              "      <td>fiú</td>\n",
              "      <td>1</td>\n",
              "      <td>19</td>\n",
              "      <td>1</td>\n",
              "    </tr>\n",
              "    <tr>\n",
              "      <th>Zita</th>\n",
              "      <td>3</td>\n",
              "      <td>5</td>\n",
              "      <td>lány</td>\n",
              "      <td>1</td>\n",
              "      <td>20</td>\n",
              "      <td>1</td>\n",
              "    </tr>\n",
              "    <tr>\n",
              "      <th>Dávid</th>\n",
              "      <td>5</td>\n",
              "      <td>5</td>\n",
              "      <td>fiú</td>\n",
              "      <td>0</td>\n",
              "      <td>20</td>\n",
              "      <td>1</td>\n",
              "    </tr>\n",
              "  </tbody>\n",
              "</table>\n",
              "</div>"
            ],
            "text/plain": [
              "        Eszter  Orsi   Nem  Emelt  Kor  Énekkar\n",
              "Csenge       4     4  lány      0   22        0\n",
              "István       5     4   fiú      1   19        1\n",
              "Zita         3     5  lány      1   20        1\n",
              "Dávid        5     5   fiú      0   20        1"
            ]
          },
          "metadata": {
            "tags": []
          },
          "execution_count": 48
        }
      ]
    },
    {
      "cell_type": "markdown",
      "metadata": {
        "id": "T1cF3S1wY0vD",
        "colab_type": "text"
      },
      "source": [
        "Megtehetnénk azt is, hogy elkészítjük a két táblázat Descartes-szorzatát, azaz az egyikből minden sort összepárosítunk a másik minden sorával, majd kiválogatjuk ebből a sorhalmazból csak azokat a sorokat, amelyekben az indexek megegyeznek.\n",
        "\n",
        "(Aki ismeri az SQL-nyelv `join` parancsát, ez az ún. `inner join`.)"
      ]
    },
    {
      "cell_type": "code",
      "metadata": {
        "id": "JJd3Zqr2Y0vE",
        "colab_type": "code",
        "colab": {},
        "outputId": "b1ce9219-f153-4909-b05e-76e4542b7bef"
      },
      "source": [
        "pd.merge(df,df2,left_index=True,right_index=True)"
      ],
      "execution_count": 0,
      "outputs": [
        {
          "output_type": "execute_result",
          "data": {
            "text/html": [
              "<div>\n",
              "<table border=\"1\" class=\"dataframe\">\n",
              "  <thead>\n",
              "    <tr style=\"text-align: right;\">\n",
              "      <th></th>\n",
              "      <th>Eszter</th>\n",
              "      <th>Orsi</th>\n",
              "      <th>Nem</th>\n",
              "      <th>Emelt</th>\n",
              "      <th>Kor</th>\n",
              "      <th>Énekkar</th>\n",
              "    </tr>\n",
              "  </thead>\n",
              "  <tbody>\n",
              "    <tr>\n",
              "      <th>Csenge</th>\n",
              "      <td>4</td>\n",
              "      <td>4</td>\n",
              "      <td>lány</td>\n",
              "      <td>0</td>\n",
              "      <td>22</td>\n",
              "      <td>0</td>\n",
              "    </tr>\n",
              "    <tr>\n",
              "      <th>István</th>\n",
              "      <td>5</td>\n",
              "      <td>4</td>\n",
              "      <td>fiú</td>\n",
              "      <td>1</td>\n",
              "      <td>19</td>\n",
              "      <td>1</td>\n",
              "    </tr>\n",
              "    <tr>\n",
              "      <th>Zita</th>\n",
              "      <td>3</td>\n",
              "      <td>5</td>\n",
              "      <td>lány</td>\n",
              "      <td>1</td>\n",
              "      <td>20</td>\n",
              "      <td>1</td>\n",
              "    </tr>\n",
              "    <tr>\n",
              "      <th>Dávid</th>\n",
              "      <td>5</td>\n",
              "      <td>5</td>\n",
              "      <td>fiú</td>\n",
              "      <td>0</td>\n",
              "      <td>20</td>\n",
              "      <td>1</td>\n",
              "    </tr>\n",
              "  </tbody>\n",
              "</table>\n",
              "</div>"
            ],
            "text/plain": [
              "        Eszter  Orsi   Nem  Emelt  Kor  Énekkar\n",
              "Csenge       4     4  lány      0   22        0\n",
              "István       5     4   fiú      1   19        1\n",
              "Zita         3     5  lány      1   20        1\n",
              "Dávid        5     5   fiú      0   20        1"
            ]
          },
          "metadata": {
            "tags": []
          },
          "execution_count": 49
        }
      ]
    },
    {
      "cell_type": "markdown",
      "metadata": {
        "id": "NwIlY4TGY0vG",
        "colab_type": "text"
      },
      "source": [
        "## Contains"
      ]
    },
    {
      "cell_type": "markdown",
      "metadata": {
        "id": "6P2uDvytY0vG",
        "colab_type": "text"
      },
      "source": [
        "Ha egy stringeket tartalmazó oszlopban végig kell néznünk, hogy megvan-e valamilyen karaktersorozat:"
      ]
    },
    {
      "cell_type": "code",
      "metadata": {
        "id": "1zQx9N4fY0vH",
        "colab_type": "code",
        "colab": {},
        "outputId": "b6232a04-6403-4021-978f-f82cc09eae15"
      },
      "source": [
        "df[\"Nem\"].str.contains(\"án\")"
      ],
      "execution_count": 0,
      "outputs": [
        {
          "output_type": "execute_result",
          "data": {
            "text/plain": [
              "Csenge     True\n",
              "István    False\n",
              "Zita       True\n",
              "Dávid     False\n",
              "Name: Nem, dtype: bool"
            ]
          },
          "metadata": {
            "tags": []
          },
          "execution_count": 50
        }
      ]
    },
    {
      "cell_type": "markdown",
      "metadata": {
        "id": "f1xMxe6LY0vI",
        "colab_type": "text"
      },
      "source": [
        "## Apply"
      ]
    },
    {
      "cell_type": "markdown",
      "metadata": {
        "id": "GX7d0qTQY0vI",
        "colab_type": "text"
      },
      "source": [
        "Ha egy tetszőleges függvényt szeretnénk egy oszlop minden egyes elemére alkalmazni, megtehetjük az `apply` segítségével. Az apply belsejébe írjuk a függvényt, amit alkalmazni szeretnénk.\n",
        "\n",
        "Elsőként például készítünk egy függvényt, ami egy számhoz hozzáad egyet:"
      ]
    },
    {
      "cell_type": "code",
      "metadata": {
        "collapsed": true,
        "id": "dbwwaMrlY0vJ",
        "colab_type": "code",
        "colab": {}
      },
      "source": [
        "def hozzaad(x):\n",
        "    return x+1"
      ],
      "execution_count": 0,
      "outputs": []
    },
    {
      "cell_type": "markdown",
      "metadata": {
        "id": "Z1j2yCszY0vL",
        "colab_type": "text"
      },
      "source": [
        "Ezek után mindenkit öregítünk egy évvel."
      ]
    },
    {
      "cell_type": "code",
      "metadata": {
        "id": "NvoWNP6jY0vL",
        "colab_type": "code",
        "colab": {},
        "outputId": "2d708eb0-be6b-446a-b945-cb3620f888fe"
      },
      "source": [
        "df[\"Kor\"].apply(hozzaad)"
      ],
      "execution_count": 0,
      "outputs": [
        {
          "output_type": "execute_result",
          "data": {
            "text/plain": [
              "Csenge    23\n",
              "István    20\n",
              "Zita      21\n",
              "Dávid     21\n",
              "Name: Kor, dtype: int64"
            ]
          },
          "metadata": {
            "tags": []
          },
          "execution_count": 52
        }
      ]
    },
    {
      "cell_type": "markdown",
      "metadata": {
        "id": "1b0My9xNY0vM",
        "colab_type": "text"
      },
      "source": [
        "Az apply-t is lehet soronként is végeztetni az `axis=1` kulcsszó segítségével. Például írjuk meg kézzel azt a függvényt, ami a két kapott jegy átlagát kiszámolja."
      ]
    },
    {
      "cell_type": "code",
      "metadata": {
        "collapsed": true,
        "id": "L3jfPApiY0vN",
        "colab_type": "code",
        "colab": {}
      },
      "source": [
        "def atlag(sor):\n",
        "    return (sor[\"Eszter\"]+sor[\"Orsi\"])/2"
      ],
      "execution_count": 0,
      "outputs": []
    },
    {
      "cell_type": "code",
      "metadata": {
        "id": "am-V9twrY0vP",
        "colab_type": "code",
        "colab": {},
        "outputId": "c328cfe4-3715-43bf-81c1-41d29053f61c"
      },
      "source": [
        "df.apply(atlag,axis=1)"
      ],
      "execution_count": 0,
      "outputs": [
        {
          "output_type": "execute_result",
          "data": {
            "text/plain": [
              "Csenge    4.0\n",
              "István    4.5\n",
              "Zita      4.0\n",
              "Dávid     5.0\n",
              "dtype: float64"
            ]
          },
          "metadata": {
            "tags": []
          },
          "execution_count": 54
        }
      ]
    },
    {
      "cell_type": "markdown",
      "metadata": {
        "id": "yR0pPbetY0vQ",
        "colab_type": "text"
      },
      "source": [
        "## Pivot"
      ]
    },
    {
      "cell_type": "markdown",
      "metadata": {
        "id": "qGrsGKSrY0vR",
        "colab_type": "text"
      },
      "source": [
        "Új táblázatot is készíthetünk összesített eredmények alapján az eredetiből. Hogy legyen valami látható eredményünk, adjuk még hozzá Károlyt a táblázatunkhoz."
      ]
    },
    {
      "cell_type": "code",
      "metadata": {
        "id": "aL2IkJr0Y0vU",
        "colab_type": "code",
        "colab": {}
      },
      "source": [
        "df.loc[\"Károly\"]=[4,5,\"fiú\",1,20]"
      ],
      "execution_count": 0,
      "outputs": []
    },
    {
      "cell_type": "markdown",
      "metadata": {
        "id": "b5_vtRyoY0vX",
        "colab_type": "text"
      },
      "source": [
        "Most megnézzünk nemenként és emelt szintű érettségi szerint, hogy melyik kategóriában hány ember van. Mivel a csoportosítás készít nekünk egy többszintű indexet, ezt kiiktatjuk a `reset_index(inplace=True)` parancs segítségével."
      ]
    },
    {
      "cell_type": "code",
      "metadata": {
        "id": "ebUSFE1pY0vY",
        "colab_type": "code",
        "colab": {},
        "outputId": "9ee4a319-77b1-4e68-c032-192338acbd76"
      },
      "source": [
        "p=df.groupby([\"Nem\",\"Emelt\"]).count()\n",
        "p.reset_index(inplace=True)\n",
        "p"
      ],
      "execution_count": 0,
      "outputs": [
        {
          "output_type": "execute_result",
          "data": {
            "text/html": [
              "<div>\n",
              "<table border=\"1\" class=\"dataframe\">\n",
              "  <thead>\n",
              "    <tr style=\"text-align: right;\">\n",
              "      <th></th>\n",
              "      <th>Nem</th>\n",
              "      <th>Emelt</th>\n",
              "      <th>Eszter</th>\n",
              "      <th>Orsi</th>\n",
              "      <th>Kor</th>\n",
              "    </tr>\n",
              "  </thead>\n",
              "  <tbody>\n",
              "    <tr>\n",
              "      <th>0</th>\n",
              "      <td>fiú</td>\n",
              "      <td>0</td>\n",
              "      <td>1</td>\n",
              "      <td>1</td>\n",
              "      <td>1</td>\n",
              "    </tr>\n",
              "    <tr>\n",
              "      <th>1</th>\n",
              "      <td>fiú</td>\n",
              "      <td>1</td>\n",
              "      <td>2</td>\n",
              "      <td>2</td>\n",
              "      <td>2</td>\n",
              "    </tr>\n",
              "    <tr>\n",
              "      <th>2</th>\n",
              "      <td>lány</td>\n",
              "      <td>0</td>\n",
              "      <td>1</td>\n",
              "      <td>1</td>\n",
              "      <td>1</td>\n",
              "    </tr>\n",
              "    <tr>\n",
              "      <th>3</th>\n",
              "      <td>lány</td>\n",
              "      <td>1</td>\n",
              "      <td>1</td>\n",
              "      <td>1</td>\n",
              "      <td>1</td>\n",
              "    </tr>\n",
              "  </tbody>\n",
              "</table>\n",
              "</div>"
            ],
            "text/plain": [
              "    Nem  Emelt  Eszter  Orsi  Kor\n",
              "0   fiú      0       1     1    1\n",
              "1   fiú      1       2     2    2\n",
              "2  lány      0       1     1    1\n",
              "3  lány      1       1     1    1"
            ]
          },
          "metadata": {
            "tags": []
          },
          "execution_count": 56
        }
      ]
    },
    {
      "cell_type": "markdown",
      "metadata": {
        "id": "FduDS2Y7Y0vZ",
        "colab_type": "text"
      },
      "source": [
        "Készítsünk egy táblázatot, melyben a sorok a nemek, az oszlopok, hogy tett-e valaki emelt szintű érettségit, és az értékek a kategóriák leszámlálásai:"
      ]
    },
    {
      "cell_type": "code",
      "metadata": {
        "id": "RY7ZyM4oY0vb",
        "colab_type": "code",
        "colab": {},
        "outputId": "cde2c59a-3bf0-439b-b54b-9dfe5b9719f3"
      },
      "source": [
        "p.pivot_table(values=\"Eszter\",columns=\"Emelt\",index=\"Nem\")"
      ],
      "execution_count": 0,
      "outputs": [
        {
          "output_type": "execute_result",
          "data": {
            "text/html": [
              "<div>\n",
              "<table border=\"1\" class=\"dataframe\">\n",
              "  <thead>\n",
              "    <tr style=\"text-align: right;\">\n",
              "      <th>Emelt</th>\n",
              "      <th>0</th>\n",
              "      <th>1</th>\n",
              "    </tr>\n",
              "    <tr>\n",
              "      <th>Nem</th>\n",
              "      <th></th>\n",
              "      <th></th>\n",
              "    </tr>\n",
              "  </thead>\n",
              "  <tbody>\n",
              "    <tr>\n",
              "      <th>fiú</th>\n",
              "      <td>1</td>\n",
              "      <td>2</td>\n",
              "    </tr>\n",
              "    <tr>\n",
              "      <th>lány</th>\n",
              "      <td>1</td>\n",
              "      <td>1</td>\n",
              "    </tr>\n",
              "  </tbody>\n",
              "</table>\n",
              "</div>"
            ],
            "text/plain": [
              "Emelt  0  1\n",
              "Nem        \n",
              "fiú    1  2\n",
              "lány   1  1"
            ]
          },
          "metadata": {
            "tags": []
          },
          "execution_count": 57
        }
      ]
    }
  ]
}