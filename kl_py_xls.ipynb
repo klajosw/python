{
  "nbformat": 4,
  "nbformat_minor": 0,
  "metadata": {
    "kernelspec": {
      "display_name": "Python 3",
      "language": "python",
      "name": "python3"
    },
    "language_info": {
      "codemirror_mode": {
        "name": "ipython",
        "version": 3
      },
      "file_extension": ".py",
      "mimetype": "text/x-python",
      "name": "python",
      "nbconvert_exporter": "python",
      "pygments_lexer": "ipython3",
      "version": "3.7.4"
    },
    "colab": {
      "name": "kl_py_xls.ipynb",
      "provenance": [],
      "collapsed_sections": [],
      "include_colab_link": true
    }
  },
  "cells": [
    {
      "cell_type": "markdown",
      "metadata": {
        "id": "view-in-github",
        "colab_type": "text"
      },
      "source": [
        "<a href=\"https://colab.research.google.com/github/klajosw/python/blob/master/kl_py_xls.ipynb\" target=\"_parent\"><img src=\"https://colab.research.google.com/assets/colab-badge.svg\" alt=\"Open In Colab\"/></a>"
      ]
    },
    {
      "cell_type": "markdown",
      "metadata": {
        "id": "oTsK8oFBU8Bu",
        "colab_type": "text"
      },
      "source": [
        "<p align=\"left\"> \n",
        "    <img src=\"https://raw.githubusercontent.com/klajosw/python/master/kl_mie_python_logo_250.jpg\" \n",
        "         align=\"left\" width=\"251\" height=\"251\">\n",
        "    \n",
        "</p>\n",
        "<p> </p>\n",
        "\n",
        "# Python alapok db xls\n",
        "\n",
        "\n",
        "<https://klajosw.blogspot.com/>\n",
        "\n",
        "<https://github.com/klajosw/>\n",
        "\n",
        "\n",
        "---"
      ]
    },
    {
      "cell_type": "markdown",
      "metadata": {
        "id": "IOM2KnibU8Bw",
        "colab_type": "text"
      },
      "source": [
        "\n",
        "# Python xls és xlsx file olvasása, írása\n",
        "\n",
        "Python gyakran használt excel modulok : pandas, openpyxl, xlrd, xlutils and pyexcel.\n",
        "\n",
        "## XLSX állomány megnyítás\n",
        "\n",
        "### Munkalap kiválasztás\n",
        "\n",
        "### Cella kiválasztás\n"
      ]
    },
    {
      "cell_type": "code",
      "metadata": {
        "id": "kpI1MuDdU8Bx",
        "colab_type": "code",
        "colab": {},
        "outputId": "5bcb6d96-029a-4653-d2c9-1d0b3e606af2"
      },
      "source": [
        "# Összes munkalapnév liolvasása\n",
        "import openpyxl\n",
        "workbook = openpyxl.load_workbook(r'c:\\Users\\kecskemetil\\Documents\\kl_sj\\sj\\python_oktatas\\minta_py\\csv_xls\\cell_format.xlsx')\n",
        "#print (\"Workbook lista:\", workbook.get_sheet_names())  ### Regi módszer\n",
        "print (\"XLSX munkalap lista:\", workbook.sheetnames)\n",
        "\n",
        "# Munkafuzet kiválasztása\n",
        "#people = workbook.get_sheet_by_name('People')  ### Regi módszer\n",
        "people = workbook['People']\n",
        "print (\"XLSX munkalap név : \", people)\n",
        "\n"
      ],
      "execution_count": 0,
      "outputs": [
        {
          "output_type": "stream",
          "text": [
            "XLSX munkalap lista: ['Sheet1', 'People']\n",
            "XLSX munkalap név :  <Worksheet \"People\">\n"
          ],
          "name": "stdout"
        }
      ]
    },
    {
      "cell_type": "code",
      "metadata": {
        "id": "uXsWSX1uU8B1",
        "colab_type": "code",
        "colab": {},
        "outputId": "e9ab6cc1-631b-4442-ba05-ff15ad1f5d14"
      },
      "source": [
        "# Munkalap cella érték kiolvasása\n",
        "import openpyxl\n",
        "workbook = openpyxl.load_workbook(r'c:\\Users\\kecskemetil\\Documents\\kl_sj\\sj\\python_oktatas\\minta_py\\csv_xls\\cell_format.xlsx')\n",
        "#people = workbook.get_sheet_by_name('People')  ### Regi módszer\n",
        "people = workbook['People']\n",
        "print (\"Első cella kiolvasása   : \", people['A1'])\n",
        "print (\"További cellák olvasása : \", people.cell(row=3, column=2))\n",
        "print (\"Értékek :\", people['B2'].value, people['C2'].value)"
      ],
      "execution_count": 0,
      "outputs": [
        {
          "output_type": "stream",
          "text": [
            "Első cella kiolvasása   :  <Cell 'People'.A1>\n",
            "További cellák olvasása :  <Cell 'People'.B3>\n",
            "Értékek : Más22 Más32\n"
          ],
          "name": "stdout"
        }
      ]
    },
    {
      "cell_type": "code",
      "metadata": {
        "id": "xhJHq4k7U8B3",
        "colab_type": "code",
        "colab": {}
      },
      "source": [
        "import xlsxwriter\n",
        "\n",
        "#Create a workbook and add a worksheet\n",
        "workbook = xlsxwriter.Workbook('chart_line.xlsx')\n",
        "worksheet = workbook.add_worksheet()\n",
        "\n",
        "#Data to be plotted as a chart in worksheet\n",
        "data = [10, 40, 50, 20, 10, 50]\n",
        "\n",
        "#Add the data to the columns A1-A6 in worksheet\n",
        "worksheet.write_column('A1', data)\n",
        "\n",
        "#Create a line chart object using data from cells A1-A6\n",
        "chart = workbook.add_chart({'type': 'line'})\n",
        "chart.add_series({'values': '=Sheet1!$A$1:$A$6'})\n",
        "\n",
        "#Insert chart in the worksheet\n",
        "worksheet.insert_chart('C1', chart)\n",
        "\n",
        "#Close workbook object\n",
        "workbook.close()"
      ],
      "execution_count": 0,
      "outputs": []
    },
    {
      "cell_type": "code",
      "metadata": {
        "id": "nv-DSxFqU8B5",
        "colab_type": "code",
        "colab": {},
        "outputId": "c939a2da-e42a-4f75-e47c-e90854b4c092"
      },
      "source": [
        "## Munka könyvtár lekérdezése\n",
        "import os\n",
        "print(os.getcwd())   ## Munka könyvtár helyének kiíratása\n",
        "os.chdir(r'c:\\Users\\kecskemetil\\Documents\\kl_sj\\sj\\python_oktatas\\minta_py\\csv_xls')  ## Munka könyvtár beállítása\n",
        "print(os.getcwd())   ## Munka könyvtár helyének kiíratása"
      ],
      "execution_count": 0,
      "outputs": [
        {
          "output_type": "stream",
          "text": [
            "C:\\Users\\kecskemetil\\Documents\\kl_sj\\sj\\python_oktatas\\minta\\cookbook-code-master\\notebooks\\chapter01_basic\n",
            "c:\\Users\\kecskemetil\\Documents\\kl_sj\\sj\\python_oktatas\\minta_py\\csv_xls\n"
          ],
          "name": "stdout"
        }
      ]
    },
    {
      "cell_type": "code",
      "metadata": {
        "id": "EC7n2OXuU8B7",
        "colab_type": "code",
        "colab": {},
        "outputId": "d1659fcf-c111-4366-a46e-450b35461422"
      },
      "source": [
        "import xlsxwriter\n",
        "import os\n",
        "\n",
        "print(os.getcwd())  ## Munka könyvtár helyének kiíratása\n",
        "\n",
        "#Create a workbook and add a worksheet\n",
        "workbook = xlsxwriter.Workbook('Minta1.xlsx')\n",
        "worksheet = workbook.add_worksheet()\n",
        "\n",
        "#Some data that we want to write to the worksheet\n",
        "expenses = (\n",
        "    ['Rent', 1000],\n",
        "    ['Gas',   100],\n",
        "    ['Food',  300],\n",
        "    ['Gym',    50],\n",
        ")\n",
        "\n",
        "#Start from the first cell. Rows and columns are zero indexed\n",
        "row = 0\n",
        "col = 0\n",
        "\n",
        "#Iterate over the data and write it out row by row\n",
        "for item, cost in (expenses):\n",
        "    worksheet.write(row, col, item)\n",
        "    worksheet.write(row, col + 1, cost)\n",
        "    row += 1\n",
        "\n",
        "#Create a total cell using a formula\n",
        "worksheet.write(row, 0, 'Total')\n",
        "worksheet.write(row, 1, '=SUM(B1:B4)')\n",
        "workbook.close()\n",
        "\n",
        "#Add a new sheet to the workbook\n",
        "import xlsxwriter\n",
        "workbook = xlsxwriter.Workbook('Minta2.xlsx')\n",
        "worksheet = workbook.add_worksheet(name='Uj munkalap')\n",
        "\n",
        "#Close workbook object\n",
        "workbook.close()"
      ],
      "execution_count": 0,
      "outputs": [
        {
          "output_type": "stream",
          "text": [
            "c:\\Users\\kecskemetil\\Documents\\kl_sj\\sj\\python_oktatas\\minta_py\\csv_xls\n"
          ],
          "name": "stdout"
        }
      ]
    },
    {
      "cell_type": "code",
      "metadata": {
        "id": "4KSWklhUU8B9",
        "colab_type": "code",
        "colab": {},
        "outputId": "58978645-6888-4876-be0c-a91711aa51b0"
      },
      "source": [
        "## xls csv file olvasása\n",
        "import pandas as pd\n",
        "\n",
        "file = r'c:\\Users\\kecskemetil\\Documents\\kl\\munka\\feladatok_kl.xlsx'\n",
        "\n",
        "xl = pd.ExcelFile(file)  ## excel megnyítása\n",
        "\n",
        "print(xl.sheet_names)    ## munkalapok neveinek kiírása\n",
        "\n",
        "df1 = xl.parse('kesz')  ## xls tartalmának dataframe-be töltése\n",
        "\n",
        "##------------\n",
        "\n",
        "df = pd.read_csv(r\"c:\\Users\\kecskemetil\\Documents\\kl\\munka\\feladatok_kl_ki.csv\")  ## csv file megnyítása\n",
        "\n",
        "print('kész')"
      ],
      "execution_count": 0,
      "outputs": [
        {
          "output_type": "stream",
          "text": [
            "['folyamatban', 'kesz']\n",
            "kész\n"
          ],
          "name": "stdout"
        }
      ]
    },
    {
      "cell_type": "code",
      "metadata": {
        "id": "zXAjbezmU8B_",
        "colab_type": "code",
        "colab": {},
        "outputId": "9b95a3d4-308d-4805-f84a-c8be02ab255b"
      },
      "source": [
        "## xls csv file írása Pandas-al\n",
        "# pip install XlsxWriter\n",
        "import pandas as pd\n",
        "\n",
        "writer = pd.ExcelWriter(r'c:\\Users\\kecskemetil\\Documents\\kl\\munka\\feladatok_kl_ki.xlsx', engine='xlsxwriter')\n",
        " \n",
        "df1.to_excel(writer, 'Sheet1')  ## DataFrame munkalapra írása\n",
        "\n",
        "writer.save()  ## változások mentése\n",
        "\n",
        "##------------\n",
        "\n",
        "df1.to_csv(r\"c:\\Users\\kecskemetil\\Documents\\kl\\munka\\feladatok_kl_ki.csv\")\n",
        "\n",
        "print('kész')"
      ],
      "execution_count": 0,
      "outputs": [
        {
          "output_type": "stream",
          "text": [
            "kész\n"
          ],
          "name": "stdout"
        }
      ]
    },
    {
      "cell_type": "code",
      "metadata": {
        "id": "y65hvrn3U8CB",
        "colab_type": "code",
        "colab": {},
        "outputId": "61e2eb1b-6b78-40c6-add2-f0040e9f27e4"
      },
      "source": [
        "import xlwt\n",
        "\n",
        "def output(filename, sheet, list1, list2, x, y, z):\n",
        "    book = xlwt.Workbook()\n",
        "    sh = book.add_sheet(sheet)\n",
        "\n",
        "    variables = [x, y, z]\n",
        "    x_desc = 'Display'\n",
        "    y_desc = 'Dominance'\n",
        "    z_desc = 'Test'\n",
        "    desc = [x_desc, y_desc, z_desc]\n",
        "\n",
        "    col1_name = 'Stimulus Time'\n",
        "    col2_name = 'Reaction Time'\n",
        "\n",
        "\n",
        "    for n, v_desc, v in enumerate(zip(desc, variables)):\n",
        "        sh.write(n, 0, v_desc)\n",
        "        sh.write(n, 1, v)\n",
        "\n",
        "    n+=1\n",
        "\n",
        "    sh.write(n, 0, col1_name)\n",
        "    sh.write(n, 1, col2_name)\n",
        "\n",
        "    for m, e1 in enumerate(list1, n+1):\n",
        "        sh.write(m, 0, e1)\n",
        "\n",
        "    for m, e2 in enumerate(list2, n+1):\n",
        "        sh.write(m, 1, e2)\n",
        "\n",
        "    book.save(filename)\n",
        "    \n",
        "    \n",
        "print('kész')"
      ],
      "execution_count": 0,
      "outputs": [
        {
          "output_type": "stream",
          "text": [
            "kész\n"
          ],
          "name": "stdout"
        }
      ]
    },
    {
      "cell_type": "code",
      "metadata": {
        "id": "IiZHQlY8U8CD",
        "colab_type": "code",
        "colab": {},
        "outputId": "50a84252-881f-40f2-ecba-28b31288ffea"
      },
      "source": [
        "import xlsxwriter\n",
        "\n",
        "\n",
        "# Create an new Excel file and add a worksheet.\n",
        "workbook = xlsxwriter.Workbook('demo.xlsx')\n",
        "worksheet = workbook.add_worksheet()\n",
        "\n",
        "# Widen the first column to make the text clearer.\n",
        "worksheet.set_column('A:A', 20)\n",
        "\n",
        "# Add a bold format to use to highlight cells.\n",
        "bold = workbook.add_format({'bold': True})\n",
        "\n",
        "# Write some simple text.\n",
        "worksheet.write('A1', 'Hello')\n",
        "\n",
        "# Text with formatting.\n",
        "worksheet.write('A2', 'World', bold)\n",
        "\n",
        "# Write some numbers, with row/column notation.\n",
        "worksheet.write(2, 0, 123)\n",
        "worksheet.write(3, 0, 123.456)\n",
        "\n",
        "# Insert an image.\n",
        "worksheet.insert_image('B5', r'c:\\Users\\kecskemetil\\Pictures\\letöltés.png')\n",
        "\n",
        "workbook.close()\n",
        "\n",
        "print('kész')"
      ],
      "execution_count": 0,
      "outputs": [
        {
          "output_type": "stream",
          "text": [
            "kész\n"
          ],
          "name": "stdout"
        }
      ]
    },
    {
      "cell_type": "code",
      "metadata": {
        "id": "0YeajeisU8CF",
        "colab_type": "code",
        "colab": {}
      },
      "source": [
        ""
      ],
      "execution_count": 0,
      "outputs": []
    }
  ]
}