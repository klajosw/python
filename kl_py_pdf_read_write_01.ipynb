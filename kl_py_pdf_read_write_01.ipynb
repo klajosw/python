{
  "nbformat": 4,
  "nbformat_minor": 0,
  "metadata": {
    "accelerator": "GPU",
    "colab": {
      "name": "kl_py_pdf_read_write_01.ipynb",
      "private_outputs": true,
      "provenance": [],
      "collapsed_sections": [],
      "toc_visible": true,
      "include_colab_link": true
    },
    "kernelspec": {
      "display_name": "Python 3",
      "language": "python",
      "name": "python3"
    },
    "language_info": {
      "codemirror_mode": {
        "name": "ipython",
        "version": 3
      },
      "file_extension": ".py",
      "mimetype": "text/x-python",
      "name": "python",
      "nbconvert_exporter": "python",
      "pygments_lexer": "ipython3",
      "version": "3.8.8"
    }
  },
  "cells": [
    {
      "cell_type": "markdown",
      "metadata": {
        "id": "view-in-github",
        "colab_type": "text"
      },
      "source": [
        "<a href=\"https://colab.research.google.com/github/klajosw/python/blob/master/kl_py_pdf_read_write_01.ipynb\" target=\"_parent\"><img src=\"https://colab.research.google.com/assets/colab-badge.svg\" alt=\"Open In Colab\"/></a>"
      ]
    },
    {
      "cell_type": "markdown",
      "metadata": {
        "id": "Oew0vDJ8RcsX"
      },
      "source": [
        "<p align=\"left\"> \n",
        "    <img src=\"https://raw.githubusercontent.com/klajosw/python/master/kl_mie_python_logo_250.jpg\" \n",
        "         align=\"left\" width=\"251\" height=\"251\">\n",
        "    \n",
        "</p>\n",
        "\n",
        "\n",
        "<p> </p>\n",
        "\n",
        "# PDF használata pythonnal.\n",
        "\n",
        "## PyPDF2, PyPDF4 csomag\n",
        "\n",
        "## tika  csomag\n",
        "\n",
        "## pdfplumber csomag\n",
        "\n",
        "\n",
        "\n",
        "https://klajosw.blogspot.com/\n",
        "\n",
        "https://github.com/klajosw/\n",
        "\n",
        "---"
      ]
    },
    {
      "cell_type": "markdown",
      "metadata": {
        "id": "dFxohzEERcsa"
      },
      "source": [
        "\n",
        "\n",
        "# Telepítés\n",
        "\n",
        "## Anaconda\n",
        "\n",
        "conda install PyPDF2\n",
        "conda install tika\n",
        "conda install pdfplumber\n",
        "\n",
        "## Python\n",
        "\n",
        "python3 -m pip install PyPDF2\n",
        "python3 -m pip show PyPDF2\n",
        "\n",
        "python3 -m pip install tika\n",
        "python3 -m pip install pdfplumber\n",
        "\n",
        "### Állományból telepítés\n",
        "\n",
        "python3 -m pip install c:\\Users\\User\\Downloads\\PyPDF4-1.27.0.tar.gz \n",
        "\n",
        "----\n"
      ]
    },
    {
      "cell_type": "code",
      "metadata": {
        "cellView": "form",
        "id": "MTKwbguKwT4R",
        "scrolled": true
      },
      "source": [
        "# modul importálása\n",
        "import PyPDF2 \n",
        "    \n",
        "# file objektum létrehozása (b: binális megnyítással) \n",
        "pdfFileObj = open(r'c:\\Users\\User\\Documents\\kl\\sj_pdf\\hozzajarulo_nyilatkozat_vedooltashoz.pdf', 'rb') \n",
        "    \n",
        "# pdf kiolvasó objektum léterhozása \n",
        "pdfReader = PyPDF2.PdfFileReader(pdfFileObj) \n",
        "    \n",
        "# lapszám kiírása \n",
        "print('A pdf file oldal száma :', pdfReader.numPages) \n",
        "    \n",
        "# egy oldal megcímzése \n",
        "pageObj = pdfReader.getPage(0) \n",
        "\n",
        "print('---------------pdf tartalma ---------------')\n",
        "    \n",
        "# megcímzett oldal kiolvasása és kiírása \n",
        "print(pageObj.extractText()) \n",
        "\n",
        "print('---------------pdf információk ---------------')\n",
        "\n",
        "\n",
        "information = pdfReader.getDocumentInfo()\n",
        "number_of_pages = pdfReader.getNumPages()\n",
        "print('pdf létrehozás ideje:', information['/CreationDate'])\n",
        "\n",
        "txt = f\"\"\"\n",
        "    Information about pdf\n",
        "    Author: {information.author}\n",
        "    Creator: {information.creator}\n",
        "    Producer: {information.producer}\n",
        "    Subject: {information.subject}\n",
        "    Title: {information.title} \n",
        "    Number of pages: {number_of_pages}\n",
        "    \"\"\"\n",
        "\n",
        "print(txt)\n",
        "    \n",
        "# pdf olvasás lezárása\n",
        "pdfFileObj.close() "
      ],
      "execution_count": null,
      "outputs": []
    },
    {
      "cell_type": "code",
      "metadata": {
        "id": "Zv2AjSW6Rcsc"
      },
      "source": [
        "# modul importálása\n",
        "from tika import parser  \n",
        "  \n",
        "# pdf file megnyítása\n",
        "parsed_pdf = parser.from_file(r'c:\\Users\\User\\Documents\\kl\\sj_pdf\\hozzajarulo_nyilatkozat_vedooltashoz.pdf')\n",
        "#parsed_pdf = parser.from_file(r'c:\\Users\\User\\Documents\\kl\\sj_pdf\\02_04_21_Firefox_finomsagok.pdf')\n",
        "\n",
        "\n",
        "#print(parsed_pdf.keys())  ## dict_keys(['metadata', 'content', 'status'])  \n",
        "# pdf tartalom kinyerése szövegként\n",
        "data = parsed_pdf['content'] \n",
        "\n",
        "print('---------------pdf tartalma ---------------')\n",
        "  \n",
        "# tartalom kiírása \n",
        "print(data)\n",
        "  \n",
        "print('---------------pdf információk ---------------')\n",
        "\n",
        "print('pdf létrehozás ideje: ', parsed_pdf['metadata']['Creation-Date']) \n",
        "print('pdf oldalszám: ', parsed_pdf['metadata']['xmpTPg:NPages']) \n",
        "print('pdf gen. prg.: ', parsed_pdf['metadata']['xmp:CreatorTool']) \n",
        "\n",
        "# print(parsed_pdf['metadata'])"
      ],
      "execution_count": null,
      "outputs": []
    },
    {
      "cell_type": "code",
      "metadata": {
        "id": "4wkXKMudRcsc"
      },
      "source": [
        ""
      ],
      "execution_count": null,
      "outputs": []
    },
    {
      "cell_type": "code",
      "metadata": {
        "id": "smz1uFQFRcsd"
      },
      "source": [
        "# extract_doc_info.py\n",
        "\n",
        "from PyPDF2 import PdfFileReader\n",
        "\n",
        "def extract_information(pdf_path):\n",
        "    with open(pdf_path, 'rb') as f:\n",
        "        pdf = PdfFileReader(f)\n",
        "        information = pdf.getDocumentInfo()\n",
        "        number_of_pages = pdf.getNumPages()\n",
        "\n",
        "    txt = f\"\"\"\n",
        "    Information about {pdf_path}: \n",
        "\n",
        "    Author: {information.author}\n",
        "    Creator: {information.creator}\n",
        "    Producer: {information.producer}\n",
        "    Subject: {information.subject}\n",
        "    Title: {information.title}\n",
        "    Number of pages: {number_of_pages}\n",
        "    \"\"\"\n",
        "\n",
        "    print(txt)\n",
        "    return information\n",
        "\n",
        "if __name__ == '__main__':\n",
        "    path = r'c:\\Users\\User\\Downloads\\06_04_20_USB4.pdf'\n",
        "    extract_information(path)"
      ],
      "execution_count": null,
      "outputs": []
    },
    {
      "cell_type": "code",
      "metadata": {
        "id": "38nl786xRcsd"
      },
      "source": [
        "# pdf tartalom forgatás\n",
        "\n",
        "from PyPDF4 import PdfFileReader, PdfFileWriter\n",
        "\n",
        "def rotate_pages(pdf_path):\n",
        "    pdf_writer = PdfFileWriter()\n",
        "    pdf_reader = PdfFileReader(pdf_path)\n",
        "    # elforgatás 90 fokkal jobbra\n",
        "    page_1 = pdf_reader.getPage(0).rotateClockwise(90)\n",
        "    pdf_writer.addPage(page_1)\n",
        "    # elforgatás 90 fokkal balra\n",
        "    page_2 = pdf_reader.getPage(1).rotateCounterClockwise(90)\n",
        "    pdf_writer.addPage(page_2)\n",
        "    # alap helyzetbe\n",
        "    pdf_writer.addPage(pdf_reader.getPage(2))\n",
        "\n",
        "    with open(r'c:\\Users\\User\\Downloads\\rotate_pages.pdf', 'wb') as fh:\n",
        "        pdf_writer.write(fh)\n",
        "\n",
        "if __name__ == '__main__':\n",
        "    path = r'c:\\Users\\User\\Downloads\\06_04_20_USB4.pdf'\n",
        "    rotate_pages(path)"
      ],
      "execution_count": null,
      "outputs": []
    },
    {
      "cell_type": "code",
      "metadata": {
        "id": "d_8KJ-vqRcse"
      },
      "source": [
        "# pdf_összefüzés\n",
        "\n",
        "from PyPDF2 import PdfFileReader, PdfFileWriter\n",
        "\n",
        "def merge_pdfs(paths, output):\n",
        "    pdf_writer = PdfFileWriter()\n",
        "\n",
        "    for path in paths:\n",
        "        pdf_reader = PdfFileReader(path)\n",
        "        for page in range(pdf_reader.getNumPages()):\n",
        "            # Add each page to the writer object\n",
        "            pdf_writer.addPage(pdf_reader.getPage(page))\n",
        "\n",
        "    # Write out the merged PDF\n",
        "    with open(output, 'wb') as out:\n",
        "        pdf_writer.write(out)\n",
        "\n",
        "if __name__ == '__main__':\n",
        "    paths = [r'c:\\Users\\User\\Downloads\\06_04_20_USB4.pdf', r'c:\\Users\\User\\Downloads\\01_03_20_IPTV_Streaming.pdf']\n",
        "    merge_pdfs(paths, output=r'c:\\Users\\User\\Downloads\\merged.pdf')"
      ],
      "execution_count": null,
      "outputs": []
    },
    {
      "cell_type": "code",
      "metadata": {
        "id": "5LFVQZICRcse"
      },
      "source": [
        "# pdf kivágás / oldalakra szét darabolás\n",
        "\n",
        "from PyPDF2 import PdfFileReader, PdfFileWriter\n",
        "\n",
        "def split(path, name_of_split):\n",
        "    pdf = PdfFileReader(path)\n",
        "    for page in range(pdf.getNumPages()):\n",
        "        pdf_writer = PdfFileWriter()\n",
        "        pdf_writer.addPage(pdf.getPage(page))\n",
        "\n",
        "        output = f'{name_of_split}{page}.pdf'\n",
        "        with open(output, 'wb') as output_pdf:\n",
        "            pdf_writer.write(output_pdf)\n",
        "\n",
        "if __name__ == '__main__':\n",
        "    path = r'c:\\Users\\User\\Downloads\\06_04_20_USB4.pdf'\n",
        "    split(path, r'c:\\Users\\User\\Downloads\\jupyter_page.pdf')"
      ],
      "execution_count": null,
      "outputs": []
    },
    {
      "cell_type": "code",
      "metadata": {
        "id": "yA-lT6kNRcsf"
      },
      "source": [
        "# pdf jelszavas védelem\n",
        "from PyPDF4 import PdfFileWriter, PdfFileReader\n",
        "\n",
        "def add_encryption(input_pdf, output_pdf, password):\n",
        "    pdf_writer = PdfFileWriter()\n",
        "    pdf_reader = PdfFileReader(input_pdf)\n",
        "\n",
        "    for page in range(pdf_reader.getNumPages()):\n",
        "        pdf_writer.addPage(pdf_reader.getPage(page))\n",
        "\n",
        "    pdf_writer.encrypt(user_pwd=password, owner_pwd=None, use_128bit=True)\n",
        "\n",
        "    with open(output_pdf, 'wb') as fh:\n",
        "        pdf_writer.write(fh)\n",
        "        \n",
        "## Jelszavas megnyítás\n",
        "# pdf_reader.decrypt(password=\"Miérdekel?\")\n",
        "# pdf_reader.getPage(0)\n",
        "\n",
        "\n",
        "if __name__ == '__main__':\n",
        "    add_encryption(input_pdf=r'c:\\Users\\User\\Downloads\\06_04_20_USB4.pdf',\n",
        "                   output_pdf=r'c:\\Users\\User\\Downloads\\06_04_20_USB4_encrypt.pdf',\n",
        "                   password='Miérdekel?')"
      ],
      "execution_count": null,
      "outputs": []
    },
    {
      "cell_type": "code",
      "metadata": {
        "id": "q_6t93fwRcsf"
      },
      "source": [
        "#python verzió lekérése (jupyter-ben)\n",
        "import sys\n",
        "from pathlib import Path\n",
        "\n",
        "!{sys.executable} --version\n",
        "# Python 3.7.7\n",
        "\n",
        "print('\\n', Path.home())\n"
      ],
      "execution_count": null,
      "outputs": []
    },
    {
      "cell_type": "code",
      "metadata": {
        "id": "gkABIdm2Rcsg"
      },
      "source": [
        "import PyPDF2\n",
        "pdfFileObj = open(r'c:\\Users\\User\\Downloads\\06_04_20_USB4.pdf', 'rb')\n",
        "pdfReader = PyPDF2.PdfFileReader(pdfFileObj)\n",
        "print('oldalszám', pdfReader.numPages)\n",
        "pageObj = pdfReader.getPage(0)\n",
        "pageObj.extractText()\n",
        "pdfReader.getPage(1-1).extractText()  ## második oldaltol az utolsóig beolvasás"
      ],
      "execution_count": null,
      "outputs": []
    },
    {
      "cell_type": "code",
      "metadata": {
        "id": "Vt17XxDuRcsg"
      },
      "source": [
        "import PyPDF2, os\n",
        "\n",
        "# Get all the PDF filenames. / keresd ki összes PDF fájlnevet.\n",
        "pdfFiles = []\n",
        "for filename in os.listdir('.'):\n",
        "    if filename.endswith('.pdf'):\n",
        "        pdfFiles.append(filename)\n",
        "pdfFiles.sort(key=str.lower)\n",
        "\n",
        "# Loop through all the PDF files. / járjuk végig az összes PDF fájlt.\n",
        "for filename in pdfFiles:\n",
        "    pdfFileObj = open(filename, 'rb')\n",
        "    pdfReader = PyPDF2.PdfFileReader(pdfFileObj)\n",
        "\n",
        "# Loop through all the pages (except the first) and add them. / járjuk végig az összes oldalt (az első kivételével), és adja hozzá őket.\n",
        "    for pageNum in range(1, pdfReader.numPages):\n",
        "        pageObj = pdfReader.getPage(pageNum)\n",
        "        pdfWriter.addPage(pageObj)\n",
        "\n",
        "\n",
        "# Save the resulting PDF to a file. / Mentsd el a kapott PDF fájlt.\n",
        "pdfOutput = open('all_sources.pdf', 'wb')\n",
        "pdfWriter.write(pdfOutput)\n",
        "pdfOutput.close()\n"
      ],
      "execution_count": null,
      "outputs": []
    },
    {
      "cell_type": "code",
      "metadata": {
        "id": "-xIb1uYwRcsh"
      },
      "source": [
        "import os\n",
        "from os.path import isfile, join\n",
        "import PyPDF2\n",
        "\"\"\"If running locally, set these variables to your local directories.\n",
        "\"\"\"\n",
        "pdf_dir = r\"c:/Users/User/Documents/kl/sj_pdf\"\n",
        "txt_dir = r\"c:/Users/User/Documents/kl/sj_pdf\"\n",
        "    \n",
        "\"\"\"Note: Uses a generator expression.\n",
        "Rerun the cell if you restart the loop below.\n",
        "\"\"\"\n",
        "corpus = (f for f in os.listdir(pdf_dir) if not f.startswith('.') and isfile(join(pdf_dir, f)) and f.endswith('.pdf'))\n",
        "\n",
        "\"\"\"The documentation for PyPDF2 is minimal. \n",
        "For this pattern, I followed the syntax at \n",
        "https://automatetheboringstuff.com/chapter13/ and\n",
        "https://github.com/msaxton/iliff_review/blob/master/code/atla_pdfConvert.py\n",
        "\"\"\"\n",
        "\n",
        "for filename in corpus:\n",
        "    print(filename)\n",
        "    # Open the PDF and load as PyPDF2 Reader object.\n",
        "    pdf = open(join(pdf_dir, filename), mode='rb')\n",
        "    pdfReader = PyPDF2.PdfFileReader(pdf,strict=False)\n",
        "    \n",
        "    # Loop through the pages, extract the text, and write each page to individual file.\n",
        "    for page in range(0, pdfReader.numPages):\n",
        "        pageObj = pdfReader.getPage(page)\n",
        "        text = pageObj.extractText()   #.encode('ascii', 'ignore')\n",
        "        \n",
        "        # Compile the page name. Add one because Python counts from 0.\n",
        "        page_name = \"{}-page{}.txt\".format(filename[:-4], page+1)\n",
        "\n",
        "        # Write to each page to file\n",
        "        with open(join(txt_dir, page_name), mode=\"w\", encoding='utf-8') as o:\n",
        "            o.write(text)\n",
        "            \n",
        "\"\"\"\n",
        "    try:\n",
        "        pdf_writer = PyPDF4.PdfFileWriter()\n",
        "        pdf_writer.addPage(pdf.getPage(page))\n",
        "        output = name_of_split + '_f'+str(page)+'.pdf'\n",
        "        with open(output, 'wb') as output_pdf:\n",
        "            pdf_writer.write(output_pdf)\n",
        "    except Exception as e:\n",
        "        print('Exception:', output,e,output_pdf)\n",
        "\n",
        "\"\"\""
      ],
      "execution_count": null,
      "outputs": []
    },
    {
      "cell_type": "code",
      "metadata": {
        "id": "xJpZ4V5MRcsh"
      },
      "source": [
        "## Angol karakterek csoportosítása\n",
        "whitespace = ' \\t\\n\\r\\v\\f'\n",
        "ascii_lowercase = 'abcdefghijklmnopqrstuvwxyz'\n",
        "ascii_uppercase = 'ABCDEFGHIJKLMNOPQRSTUVWXYZ'\n",
        "ascii_letters = ascii_lowercase + ascii_uppercase\n",
        "digits = '0123456789'\n",
        "hexdigits = digits + 'abcdef' + 'ABCDEF'\n",
        "octdigits = '01234567'\n",
        "punctuation = r\"\"\"!\"#$%&'()*+,-./:;<=>?@[\\]^_`{|}~\"\"\"\n",
        "printable = digits + ascii_letters + punctuation + whitespace"
      ],
      "execution_count": null,
      "outputs": []
    },
    {
      "cell_type": "code",
      "metadata": {
        "id": "nfJf-8IeRcsh"
      },
      "source": [
        ""
      ],
      "execution_count": null,
      "outputs": []
    }
  ]
}