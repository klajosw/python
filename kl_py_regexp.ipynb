{
  "nbformat": 4,
  "nbformat_minor": 0,
  "metadata": {
    "kernelspec": {
      "display_name": "Python 3",
      "language": "python",
      "name": "python3"
    },
    "language_info": {
      "codemirror_mode": {
        "name": "ipython",
        "version": 3
      },
      "file_extension": ".py",
      "mimetype": "text/x-python",
      "name": "python",
      "nbconvert_exporter": "python",
      "pygments_lexer": "ipython3",
      "version": "3.7.4"
    },
    "colab": {
      "name": "kl_py_regexp.ipynb",
      "provenance": [],
      "collapsed_sections": [],
      "include_colab_link": true
    }
  },
  "cells": [
    {
      "cell_type": "markdown",
      "metadata": {
        "id": "view-in-github",
        "colab_type": "text"
      },
      "source": [
        "<a href=\"https://colab.research.google.com/github/klajosw/python/blob/master/kl_py_regexp.ipynb\" target=\"_parent\"><img src=\"https://colab.research.google.com/assets/colab-badge.svg\" alt=\"Open In Colab\"/></a>"
      ]
    },
    {
      "cell_type": "markdown",
      "metadata": {
        "id": "JCSGkSlmqs1l",
        "colab_type": "text"
      },
      "source": [
        "<p align=\"left\"> \n",
        "    <img src=\"https://raw.githubusercontent.com/klajosw/python/master/kl_mie_python_logo_250.jpg\" \n",
        "         align=\"left\" width=\"251\" height=\"251\">\n",
        "    \n",
        "</p>\n",
        "\n",
        "\n",
        "<p> </p>\n",
        "\n",
        "\n",
        "\n",
        "# Python alapok (re)\n",
        "\n",
        "<https://klajosw.blogspot.com/>\n",
        "\n",
        "\n",
        "---"
      ]
    },
    {
      "cell_type": "markdown",
      "metadata": {
        "id": "EvNfaD7Kqs1o",
        "colab_type": "text"
      },
      "source": [
        "# Python  RegEx használata"
      ]
    },
    {
      "cell_type": "markdown",
      "metadata": {
        "id": "pqFL1vWnqs1o",
        "colab_type": "text"
      },
      "source": [
        "## Modul inport"
      ]
    },
    {
      "cell_type": "code",
      "metadata": {
        "id": "a--op_n6qs1q",
        "colab_type": "code",
        "colab": {}
      },
      "source": [
        "import re"
      ],
      "execution_count": 0,
      "outputs": []
    },
    {
      "cell_type": "markdown",
      "metadata": {
        "id": "O0IwRDyiqs1t",
        "colab_type": "text"
      },
      "source": [
        "##  Python IN (tartalmazás) művelet"
      ]
    },
    {
      "cell_type": "code",
      "metadata": {
        "id": "bjNUIeUXqs1u",
        "colab_type": "code",
        "colab": {},
        "outputId": "e9518159-62f2-40e2-ca18-d7893d872061"
      },
      "source": [
        "# matching string\n",
        "pattern1 = \"cat\"\n",
        "pattern2 = \"bird\"\n",
        "string = \"dog runs to cat\"\n",
        "print(pattern1 in string)    \n",
        "print(pattern2 in string)    "
      ],
      "execution_count": 0,
      "outputs": [
        {
          "output_type": "stream",
          "text": [
            "True\n",
            "False\n"
          ],
          "name": "stdout"
        }
      ]
    },
    {
      "cell_type": "markdown",
      "metadata": {
        "id": "DO_nP-yLqs1x",
        "colab_type": "text"
      },
      "source": [
        "## search"
      ]
    },
    {
      "cell_type": "code",
      "metadata": {
        "id": "SDYtze5Zqs1y",
        "colab_type": "code",
        "colab": {},
        "outputId": "c518bb30-98bf-481a-f941-d17847bdd879"
      },
      "source": [
        "# regular expression\n",
        "pattern1 = \"cat\"\n",
        "pattern2 = \"bird\"\n",
        "string = \"dog runs to cat\"\n",
        "print(re.search(pattern1, string))  \n",
        "print(re.search(pattern2, string)) "
      ],
      "execution_count": 0,
      "outputs": [
        {
          "output_type": "stream",
          "text": [
            "<re.Match object; span=(12, 15), match='cat'>\n",
            "None\n"
          ],
          "name": "stdout"
        }
      ]
    },
    {
      "cell_type": "markdown",
      "metadata": {
        "id": "ABANzl6Aqs10",
        "colab_type": "text"
      },
      "source": [
        "## felsorolás []"
      ]
    },
    {
      "cell_type": "code",
      "metadata": {
        "id": "4UuP5TUfqs10",
        "colab_type": "code",
        "colab": {},
        "outputId": "821361ca-977a-4c32-aa78-9825fb710757"
      },
      "source": [
        "# multiple patterns (\"run\" or \"ran\")\n",
        "ptn = r\"r[au]n\"       \n",
        "print(re.search(ptn, \"dog runs to cat\"))    "
      ],
      "execution_count": 0,
      "outputs": [
        {
          "output_type": "stream",
          "text": [
            "<re.Match object; span=(4, 7), match='run'>\n"
          ],
          "name": "stdout"
        }
      ]
    },
    {
      "cell_type": "code",
      "metadata": {
        "id": "AMWG0mLkqs12",
        "colab_type": "code",
        "colab": {},
        "outputId": "fd70f195-89a4-4bf2-88f1-cceda89c0121"
      },
      "source": [
        "# continue\n",
        "print(re.search(r\"r[A-Z]n\", \"dog runs to cat\"))     \n",
        "print(re.search(r\"r[a-z]n\", \"dog runs to cat\"))     \n",
        "print(re.search(r\"r[0-9]n\", \"dog r2ns to cat\"))     \n",
        "print(re.search(r\"r[0-9a-z]n\", \"dog runs to cat\"))  "
      ],
      "execution_count": 0,
      "outputs": [
        {
          "output_type": "stream",
          "text": [
            "None\n",
            "<_sre.SRE_Match object; span=(4, 7), match='run'>\n",
            "<_sre.SRE_Match object; span=(4, 7), match='r2n'>\n",
            "<_sre.SRE_Match object; span=(4, 7), match='run'>\n"
          ],
          "name": "stdout"
        }
      ]
    },
    {
      "cell_type": "code",
      "metadata": {
        "id": "jK98WqtMqs14",
        "colab_type": "code",
        "colab": {},
        "outputId": "00b38211-fd2e-4287-cfd5-59e9b4d46fbf"
      },
      "source": [
        "# \\d : decimal digit\n",
        "print(re.search(r\"r\\dn\", \"run r4n\"))                \n",
        "# \\D : any non-decimal digit\n",
        "print(re.search(r\"r\\Dn\", \"run r4n\"))                \n"
      ],
      "execution_count": 0,
      "outputs": [
        {
          "output_type": "stream",
          "text": [
            "<_sre.SRE_Match object; span=(4, 7), match='r4n'>\n",
            "<_sre.SRE_Match object; span=(0, 3), match='run'>\n"
          ],
          "name": "stdout"
        }
      ]
    },
    {
      "cell_type": "code",
      "metadata": {
        "id": "1PXnL4_gqs16",
        "colab_type": "code",
        "colab": {},
        "outputId": "98eed272-ca7a-40f8-92b0-a4aec2b31e70"
      },
      "source": [
        "# \\s : any white space [\\t\\n\\r\\f\\v]\n",
        "print(re.search(r\"r\\sn\", \"r\\nn r4n\"))               \n",
        "# \\S : opposite to \\s, any non-white space\n",
        "print(re.search(r\"r\\Sn\", \"r\\nn r4n\"))               \n"
      ],
      "execution_count": 0,
      "outputs": [
        {
          "output_type": "stream",
          "text": [
            "<_sre.SRE_Match object; span=(0, 3), match='r\\nn'>\n",
            "<_sre.SRE_Match object; span=(4, 7), match='r4n'>\n"
          ],
          "name": "stdout"
        }
      ]
    },
    {
      "cell_type": "code",
      "metadata": {
        "id": "lhzAgU1Yqs18",
        "colab_type": "code",
        "colab": {},
        "outputId": "17626966-f7e0-4708-c937-0cf78d26216c"
      },
      "source": [
        "# \\w : [a-zA-Z0-9_]\n",
        "print(re.search(r\"r\\wn\", \"r\\nn r4n\"))               \n",
        "# \\W : opposite to \\w\n",
        "print(re.search(r\"r\\Wn\", \"r\\nn r4n\"))               \n"
      ],
      "execution_count": 0,
      "outputs": [
        {
          "output_type": "stream",
          "text": [
            "<_sre.SRE_Match object; span=(4, 7), match='r4n'>\n",
            "<_sre.SRE_Match object; span=(0, 3), match='r\\nn'>\n"
          ],
          "name": "stdout"
        }
      ]
    },
    {
      "cell_type": "code",
      "metadata": {
        "id": "TfB92Exvqs1_",
        "colab_type": "code",
        "colab": {},
        "outputId": "ac67da2f-786c-4977-b8a6-72855d9ae207"
      },
      "source": [
        "# \\b : empty string (only at the start or end of the word)\n",
        "print(re.search(r\"\\bruns\\b\", \"dog runs to cat\"))    \n",
        "# \\B : empty string (but not at the start or end of a word)\n",
        "print(re.search(r\"\\B runs \\B\", \"dog   runs  to cat\"))  \n"
      ],
      "execution_count": 0,
      "outputs": [
        {
          "output_type": "stream",
          "text": [
            "<_sre.SRE_Match object; span=(4, 8), match='runs'>\n",
            "<_sre.SRE_Match object; span=(5, 11), match=' runs '>\n"
          ],
          "name": "stdout"
        }
      ]
    },
    {
      "cell_type": "code",
      "metadata": {
        "id": "0rSjcbbZqs2B",
        "colab_type": "code",
        "colab": {},
        "outputId": "d5effd20-044d-4aaf-e8e5-a4140f812e33"
      },
      "source": [
        "# \\\\ : match \\\n",
        "print(re.search(r\"runs\\\\\", \"runs\\ to me\"))          \n",
        "# . : match anything (except \\n)\n",
        "print(re.search(r\"r.n\", \"r[ns to me\"))              \n"
      ],
      "execution_count": 0,
      "outputs": [
        {
          "output_type": "stream",
          "text": [
            "<_sre.SRE_Match object; span=(0, 5), match='runs\\\\'>\n",
            "<_sre.SRE_Match object; span=(0, 3), match='r[n'>\n"
          ],
          "name": "stdout"
        }
      ]
    },
    {
      "cell_type": "markdown",
      "metadata": {
        "id": "2nfiP_Kxqs2D",
        "colab_type": "text"
      },
      "source": [
        "### search"
      ]
    },
    {
      "cell_type": "code",
      "metadata": {
        "id": "Vu_jxVJ7qs2D",
        "colab_type": "code",
        "colab": {},
        "outputId": "4242f25f-3594-4bf4-ed8f-311edb357e59"
      },
      "source": [
        "# ^ : match line beginning\n",
        "print(re.search(r\"^dog\", \"dog runs to cat\"))        \n",
        "# $ : match line ending\n",
        "print(re.search(r\"cat$\", \"dog runs to cat\"))       \n"
      ],
      "execution_count": 0,
      "outputs": [
        {
          "output_type": "stream",
          "text": [
            "<_sre.SRE_Match object; span=(0, 3), match='dog'>\n",
            "<_sre.SRE_Match object; span=(12, 15), match='cat'>\n"
          ],
          "name": "stdout"
        }
      ]
    },
    {
      "cell_type": "markdown",
      "metadata": {
        "id": "XHhNFO16qs2F",
        "colab_type": "text"
      },
      "source": [
        "### search"
      ]
    },
    {
      "cell_type": "code",
      "metadata": {
        "id": "sm7Nb5Cgqs2G",
        "colab_type": "code",
        "colab": {},
        "outputId": "613e96a1-8b6a-4ccc-d0f9-a01dd0fd06e5"
      },
      "source": [
        "# ? : may or may not occur\n",
        "print(re.search(r\"Mon(day)?\", \"Monday\"))            \n",
        "print(re.search(r\"Mon(day)?\", \"Mon\"))               "
      ],
      "execution_count": 0,
      "outputs": [
        {
          "output_type": "stream",
          "text": [
            "<_sre.SRE_Match object; span=(0, 6), match='Monday'>\n",
            "<_sre.SRE_Match object; span=(0, 3), match='Mon'>\n"
          ],
          "name": "stdout"
        }
      ]
    },
    {
      "cell_type": "markdown",
      "metadata": {
        "id": "Yp0S6q4_qs2K",
        "colab_type": "text"
      },
      "source": [
        "## search"
      ]
    },
    {
      "cell_type": "code",
      "metadata": {
        "id": "E7uaAO99qs2L",
        "colab_type": "code",
        "colab": {},
        "outputId": "f6938ac9-d2bf-4f80-d44e-5bc41b6fc479"
      },
      "source": [
        "# multi-line\n",
        "string = \"\"\"\n",
        "dog runs to cat.\n",
        "I run to dog.\n",
        "\"\"\"\n",
        "print(re.search(r\"^I\", string))                     \n",
        "print(re.search(r\"^I\", string, flags=re.M)) "
      ],
      "execution_count": 0,
      "outputs": [
        {
          "output_type": "stream",
          "text": [
            "None\n",
            "<_sre.SRE_Match object; span=(18, 19), match='I'>\n"
          ],
          "name": "stdout"
        }
      ]
    },
    {
      "cell_type": "markdown",
      "metadata": {
        "id": "FahZCYfaqs2N",
        "colab_type": "text"
      },
      "source": [
        "## search 1"
      ]
    },
    {
      "cell_type": "code",
      "metadata": {
        "id": "Tkc7jX0Dqs2N",
        "colab_type": "code",
        "colab": {},
        "outputId": "1ddb9f34-0b60-41cd-a933-eb95063907a0"
      },
      "source": [
        "# * : occur 0 or more times\n",
        "print(re.search(r\"ab*\", \"a\"))                       \n",
        "print(re.search(r\"ab*\", \"abbbbb\"))                  \n"
      ],
      "execution_count": 0,
      "outputs": [
        {
          "output_type": "stream",
          "text": [
            "<_sre.SRE_Match object; span=(0, 1), match='a'>\n",
            "<_sre.SRE_Match object; span=(0, 6), match='abbbbb'>\n"
          ],
          "name": "stdout"
        }
      ]
    },
    {
      "cell_type": "markdown",
      "metadata": {
        "id": "92fuC8lKqs2P",
        "colab_type": "text"
      },
      "source": [
        "## search 2"
      ]
    },
    {
      "cell_type": "code",
      "metadata": {
        "id": "F2PDDdx1qs2Q",
        "colab_type": "code",
        "colab": {},
        "outputId": "fba7308c-282c-4bc6-dbb2-0a89bfa116b9"
      },
      "source": [
        "# + : occur 1 or more times\n",
        "print(re.search(r\"ab+\", \"a\"))                       \n",
        "print(re.search(r\"ab+\", \"abbbbb\"))                  \n"
      ],
      "execution_count": 0,
      "outputs": [
        {
          "output_type": "stream",
          "text": [
            "None\n",
            "<_sre.SRE_Match object; span=(0, 6), match='abbbbb'>\n"
          ],
          "name": "stdout"
        }
      ]
    },
    {
      "cell_type": "markdown",
      "metadata": {
        "id": "60AEgu2Zqs2R",
        "colab_type": "text"
      },
      "source": [
        "## search 3"
      ]
    },
    {
      "cell_type": "code",
      "metadata": {
        "id": "LR1U6K3uqs2S",
        "colab_type": "code",
        "colab": {},
        "outputId": "06956c95-68f2-481e-c762-7491266a5c2e"
      },
      "source": [
        "# {n, m} : occur n to m times\n",
        "print(re.search(r\"ab{2,10}\", \"a\"))                  \n",
        "print(re.search(r\"ab{2,10}\", \"abbbbb\"))             \n"
      ],
      "execution_count": 0,
      "outputs": [
        {
          "output_type": "stream",
          "text": [
            "None\n",
            "<_sre.SRE_Match object; span=(0, 6), match='abbbbb'>\n"
          ],
          "name": "stdout"
        }
      ]
    },
    {
      "cell_type": "markdown",
      "metadata": {
        "id": "zMrcCEp7qs2U",
        "colab_type": "text"
      },
      "source": [
        "## group"
      ]
    },
    {
      "cell_type": "code",
      "metadata": {
        "id": "-hWPoeu0qs2U",
        "colab_type": "code",
        "colab": {},
        "outputId": "957ad363-428a-41ca-e86e-2fb54797bc94"
      },
      "source": [
        "# group\n",
        "match = re.search(r\"(\\d+), Date: (.+)\", \"ID: 021523, Date: Feb/12/2017\")\n",
        "print(match.group())                                \n",
        "print(match.group(1))                               \n",
        "print(match.group(2))                               "
      ],
      "execution_count": 0,
      "outputs": [
        {
          "output_type": "stream",
          "text": [
            "021523, Date: Feb/12/2017\n",
            "021523\n",
            "Feb/12/2017\n"
          ],
          "name": "stdout"
        }
      ]
    },
    {
      "cell_type": "markdown",
      "metadata": {
        "id": "QXXt6cc1qs2Y",
        "colab_type": "text"
      },
      "source": [
        "## Search"
      ]
    },
    {
      "cell_type": "code",
      "metadata": {
        "id": "UdrklcKUqs2Z",
        "colab_type": "code",
        "colab": {},
        "outputId": "0d2f1e20-3d42-4191-b55c-d6825578672b"
      },
      "source": [
        "match = re.search(r\"(?P<id>\\d+), Date: (?P<date>.+)\", \"ID: 021523, Date: Feb/12/2017\")\n",
        "print(match.group('id'))                            \n",
        "print(match.group('date'))                          "
      ],
      "execution_count": 0,
      "outputs": [
        {
          "output_type": "stream",
          "text": [
            "021523\n",
            "Feb/12/2017\n"
          ],
          "name": "stdout"
        }
      ]
    },
    {
      "cell_type": "markdown",
      "metadata": {
        "id": "kGvORLcTqs2a",
        "colab_type": "text"
      },
      "source": [
        "## findall"
      ]
    },
    {
      "cell_type": "code",
      "metadata": {
        "id": "vt-ps4UIqs2b",
        "colab_type": "code",
        "colab": {},
        "outputId": "d6144a14-b4de-4d82-e879-7cb1befbab54"
      },
      "source": [
        "# findall\n",
        "print(re.findall(r\"r[ua]n\", \"run ran ren\"))         "
      ],
      "execution_count": 0,
      "outputs": [
        {
          "output_type": "stream",
          "text": [
            "['run', 'ran']\n"
          ],
          "name": "stdout"
        }
      ]
    },
    {
      "cell_type": "code",
      "metadata": {
        "id": "Y8cFaBCvqs2d",
        "colab_type": "code",
        "colab": {},
        "outputId": "e9292320-ebe4-4fd5-80e4-237629fd625a"
      },
      "source": [
        "# | : or\n",
        "print(re.findall(r\"(run|ran)\", \"run ran ren\"))      "
      ],
      "execution_count": 0,
      "outputs": [
        {
          "output_type": "stream",
          "text": [
            "['run', 'ran']\n"
          ],
          "name": "stdout"
        }
      ]
    },
    {
      "cell_type": "markdown",
      "metadata": {
        "id": "HxMubaE2qs2e",
        "colab_type": "text"
      },
      "source": [
        "## sub"
      ]
    },
    {
      "cell_type": "code",
      "metadata": {
        "id": "nPHt3--cqs2f",
        "colab_type": "code",
        "colab": {},
        "outputId": "8b19092c-d809-41c4-c941-411e8d02f6d9"
      },
      "source": [
        "# re.sub() replace\n",
        "print(re.sub(r\"r[au]ns\", \"catches\", \"dog runs to cat\"))     "
      ],
      "execution_count": 0,
      "outputs": [
        {
          "output_type": "stream",
          "text": [
            "dog catches to cat\n"
          ],
          "name": "stdout"
        }
      ]
    },
    {
      "cell_type": "markdown",
      "metadata": {
        "id": "6gUouy4Uqs2h",
        "colab_type": "text"
      },
      "source": [
        "## split"
      ]
    },
    {
      "cell_type": "code",
      "metadata": {
        "id": "E58r-ijNqs2h",
        "colab_type": "code",
        "colab": {},
        "outputId": "ad8dcd40-f5a9-4b83-c84d-ad53839da25b"
      },
      "source": [
        "# re.split()\n",
        "print(re.split(r\"[,;\\.]\", \"a;b,c.d;e\"))             \n"
      ],
      "execution_count": 0,
      "outputs": [
        {
          "output_type": "stream",
          "text": [
            "['a', 'b', 'c', 'd', 'e']\n"
          ],
          "name": "stdout"
        }
      ]
    },
    {
      "cell_type": "markdown",
      "metadata": {
        "id": "H6YflJ_7qs2j",
        "colab_type": "text"
      },
      "source": [
        "## compile"
      ]
    },
    {
      "cell_type": "code",
      "metadata": {
        "id": "ZEUBC-gdqs2j",
        "colab_type": "code",
        "colab": {},
        "outputId": "5b0d554a-e3c5-4e82-e5e6-ad56c4926735"
      },
      "source": [
        "# compile\n",
        "compiled_re = re.compile(r\"r[ua]n\")\n",
        "print(compiled_re.search(\"dog ran to cat\"))     "
      ],
      "execution_count": 0,
      "outputs": [
        {
          "output_type": "stream",
          "text": [
            "<_sre.SRE_Match object; span=(4, 7), match='ran'>\n"
          ],
          "name": "stdout"
        }
      ]
    }
  ]
}