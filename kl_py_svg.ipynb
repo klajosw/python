{
  "cells": [
    {
      "cell_type": "markdown",
      "metadata": {
        "id": "view-in-github",
        "colab_type": "text"
      },
      "source": [
        "<a href=\"https://colab.research.google.com/github/klajosw/python/blob/master/kl_py_svg.ipynb\" target=\"_parent\"><img src=\"https://colab.research.google.com/assets/colab-badge.svg\" alt=\"Open In Colab\"/></a>"
      ]
    },
    {
      "cell_type": "markdown",
      "metadata": {
        "id": "mWcfFp6YKtlh"
      },
      "source": [
        "<p align=\"left\"> \n",
        "    <img src=\"https://raw.githubusercontent.com/klajosw/python/master/kl_mie_python_logo_250.jpg\" \n",
        "         align=\"left\" width=\"251\" height=\"251\">\n",
        "    \n",
        "</p>\n",
        "\n",
        "\n",
        "<p> </p>\n",
        "\n",
        "\n",
        "\n",
        "# Python alapok (rajzolás, svg)\n",
        "\n",
        "<https://klajosw.blogspot.com/>\n",
        "\n",
        "\n",
        "---"
      ]
    },
    {
      "cell_type": "code",
      "execution_count": null,
      "metadata": {
        "id": "NpYn0lkXKtlj"
      },
      "outputs": [],
      "source": [
        "%%cmd\n",
        "dir\n",
        "\n"
      ]
    },
    {
      "cell_type": "code",
      "execution_count": null,
      "metadata": {
        "id": "HNQ_uF8PKtlk",
        "outputId": "fc48e606-027c-4fcb-dbf6-e36d87e8b989"
      },
      "outputs": [
        {
          "name": "stdout",
          "output_type": "stream",
          "text": [
            "C:\\Users\\User\\Documents\\kl\\mintak\\jupiter\\kl\\aa_kl_2020\n"
          ]
        }
      ],
      "source": [
        "!rem dir\n",
        "!cd\n"
      ]
    },
    {
      "cell_type": "code",
      "execution_count": null,
      "metadata": {
        "id": "6D5HEIn2Ktlk"
      },
      "outputs": [],
      "source": [
        "!pip install drawSvg\n",
        "!pip install hyperbolic"
      ]
    },
    {
      "cell_type": "code",
      "execution_count": null,
      "metadata": {
        "id": "ZWYjEWNyKtll",
        "outputId": "cd167aa8-3ffd-45b9-af20-8ecf69bad587"
      },
      "outputs": [
        {
          "data": {
            "text/html": [
              "<img src=\"data:image/svg+xml;base64,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\">"
            ],
            "text/plain": [
              "<drawSvg.drawing.Drawing at 0x1ac6ce57550>"
            ]
          },
          "execution_count": 4,
          "metadata": {},
          "output_type": "execute_result"
        }
      ],
      "source": [
        "import drawSvg as draw\n",
        "\n",
        "d = draw.Drawing(200, 100, origin='center', displayInline=False)\n",
        "\n",
        "# Draw an irregular polygon\n",
        "d.append(draw.Lines(-80, -45,\n",
        "                    70, -49,\n",
        "                    95, 49,\n",
        "                    -90, 40,\n",
        "                    close=False,\n",
        "            fill='#eeee00',\n",
        "            stroke='black'))\n",
        "\n",
        "# Draw a rectangle\n",
        "r = draw.Rectangle(-80,0,40,50, fill='#1248ff')\n",
        "r.appendTitle(\"Our first rectangle\")  # Add a tooltip\n",
        "d.append(r)\n",
        "\n",
        "# Draw a circle\n",
        "d.append(draw.Circle(-40, -10, 30,\n",
        "            fill='red', stroke_width=2, stroke='black'))\n",
        "\n",
        "# Draw an arbitrary path (a triangle in this case)\n",
        "p = draw.Path(stroke_width=2, stroke='lime',\n",
        "              fill='black', fill_opacity=0.2)\n",
        "p.M(-10, 20)  # Start path at point (-10, 20)\n",
        "p.C(30, -10, 30, 50, 70, 20)  # Draw a curve to (70, 20)\n",
        "d.append(p)\n",
        "\n",
        "# Draw text\n",
        "d.append(draw.Text('Basic text', 8, -10, 35, fill='blue'))  # Text with font size 8\n",
        "d.append(draw.Text('Path text', 8, path=p, text_anchor='start', valign='middle'))\n",
        "d.append(draw.Text(['Multi-line', 'text'], 8, path=p, text_anchor='end'))\n",
        "\n",
        "# Draw multiple circular arcs\n",
        "d.append(draw.ArcLine(60,-20,20,60,270,\n",
        "            stroke='red', stroke_width=5, fill='red', fill_opacity=0.2))\n",
        "d.append(draw.Arc(60,-20,20,60,270,cw=False,\n",
        "            stroke='green', stroke_width=3, fill='none'))\n",
        "d.append(draw.Arc(60,-20,20,270,60,cw=True,\n",
        "            stroke='blue', stroke_width=1, fill='black', fill_opacity=0.3))\n",
        "\n",
        "# Draw arrows\n",
        "arrow = draw.Marker(-0.1, -0.5, 0.9, 0.5, scale=4, orient='auto')\n",
        "arrow.append(draw.Lines(-0.1, -0.5, -0.1, 0.5, 0.9, 0, fill='red', close=True))\n",
        "p = draw.Path(stroke='red', stroke_width=2, fill='none',\n",
        "              marker_end=arrow)  # Add an arrow to the end of a path\n",
        "p.M(20, -40).L(20, -27).L(0, -20)  # Chain multiple path operations\n",
        "d.append(p)\n",
        "d.append(draw.Line(30, -20, 0, -10,\n",
        "            stroke='red', stroke_width=2, fill='none',\n",
        "            marker_end=arrow))  # Add an arrow to the end of a line\n",
        "\n",
        "d.setPixelScale(2)  # Set number of pixels per geometry unit\n",
        "#d.setRenderSize(400,200)  # Alternative to setPixelScale\n",
        "d.saveSvg('example.svg')\n",
        "#d.savePng('example.png')\n",
        "\n",
        "# Display in Jupyter notebook\n",
        "#d.rasterize()  # Display as PNG\n",
        "d  # Display as SVG"
      ]
    },
    {
      "cell_type": "code",
      "execution_count": null,
      "metadata": {
        "id": "pPXajWJwKtlm",
        "outputId": "1d0aea67-646f-42d8-81b2-ca5d8da928b2"
      },
      "outputs": [
        {
          "data": {
            "image/svg+xml": [
              "<?xml version=\"1.0\" encoding=\"UTF-8\"?>\n",
              "<svg xmlns=\"http://www.w3.org/2000/svg\" xmlns:xlink=\"http://www.w3.org/1999/xlink\"\n",
              "     width=\"600\" height=\"320.0\" viewBox=\"-0.75 -0.4 1.5 0.8\">\n",
              "<defs>\n",
              "<radialGradient cx=\"0\" cy=\"0.35\" r=\"7.0\" gradientUnits=\"userSpaceOnUse\" id=\"d0\">\n",
              "<stop offset=\"0.07142857142857142\" stop-color=\"green\" stop-opacity=\"1\" />\n",
              "<stop offset=\"0.1\" stop-color=\"red\" stop-opacity=\"0\" />\n",
              "</radialGradient>\n",
              "<linearGradient x1=\"0.1\" y1=\"0.35\" x2=\"0.7\" y2=\"0.14999999999999997\" gradientUnits=\"userSpaceOnUse\" id=\"d1\">\n",
              "<stop offset=\"0\" stop-color=\"green\" stop-opacity=\"1\" />\n",
              "<stop offset=\"1\" stop-color=\"red\" stop-opacity=\"0\" />\n",
              "</linearGradient>\n",
              "</defs>\n",
              "<rect x=\"-0.75\" y=\"-0.5\" width=\"1.5\" height=\"1\" fill=\"#ddd\" />\n",
              "<path d=\"M0.6062177826491071,5.551115123125783e-17 A0.7,0.7,0,0,0,-0.3499999999999998,-0.2562177826491071 L-0.2499999999999999,-0.08301270189221938 A0.5,0.5,0,0,1,0.43301270189221935,0.1 Z\" fill=\"url(#d0)\" stroke=\"black\" stroke-width=\"0.002\" />\n",
              "<path d=\"M-0.48209070726490455,-0.22453333233923356 A0.75,0.75,0,0,0,-0.7047694655894312,0.09348489250574832 L0.0,0.35 A0,0,0,0,1,0.0,0.35 Z\" fill=\"url(#d0)\" stroke=\"red\" stroke-width=\"0.002\" />\n",
              "<rect x=\"0.1\" y=\"0.14999999999999997\" width=\"0.6\" height=\"0.2\" stroke=\"black\" stroke-width=\"0.002\" fill=\"url(#d1)\" />\n",
              "</svg>"
            ],
            "text/plain": [
              "<drawSvg.drawing.Drawing at 0x1ac6c7ad1f0>"
            ]
          },
          "execution_count": 5,
          "metadata": {},
          "output_type": "execute_result"
        }
      ],
      "source": [
        "import drawSvg as draw\n",
        "\n",
        "d = draw.Drawing(1.5, 0.8, origin='center')\n",
        "\n",
        "d.draw(draw.Rectangle(-0.75,-0.5,1.5,1, fill='#ddd'))\n",
        "\n",
        "# Create gradient\n",
        "gradient = draw.RadialGradient(0,-0.35,0.7*10)\n",
        "gradient.addStop(0.5/0.7/10, 'green', 1)\n",
        "gradient.addStop(1/10, 'red', 0)\n",
        "\n",
        "# Draw a shape to fill with the gradient\n",
        "p = draw.Path(fill=gradient, stroke='black', stroke_width=0.002)\n",
        "p.arc(0,-0.35,0.7,30,120)\n",
        "p.arc(0,-0.35,0.5,120,30,cw=True, includeL=True)\n",
        "p.Z()\n",
        "d.append(p)\n",
        "\n",
        "# Draw another shape to fill with the same gradient\n",
        "p = draw.Path(fill=gradient, stroke='red', stroke_width=0.002)\n",
        "p.arc(0,-0.35,0.75,130,160)\n",
        "p.arc(0,-0.35,0,160,130,cw=True, includeL=True)\n",
        "p.Z()\n",
        "d.append(p)\n",
        "\n",
        "# Another gradient\n",
        "gradient2 = draw.LinearGradient(0.1,-0.35,0.1+0.6,-0.35+0.2)\n",
        "gradient2.addStop(0, 'green', 1)\n",
        "gradient2.addStop(1, 'red', 0)\n",
        "d.append(draw.Rectangle(0.1,-0.35,0.6,0.2,\n",
        "                        stroke='black', stroke_width=0.002,\n",
        "                        fill=gradient2))\n",
        "\n",
        "# Display\n",
        "d.setRenderSize(w=600)\n",
        "d"
      ]
    },
    {
      "cell_type": "code",
      "execution_count": null,
      "metadata": {
        "id": "yU6uOAYtKtlm",
        "outputId": "720753ab-fa81-422b-8ab9-75972017238c"
      },
      "outputs": [
        {
          "data": {
            "image/svg+xml": [
              "<?xml version=\"1.0\" encoding=\"UTF-8\"?>\n",
              "<svg xmlns=\"http://www.w3.org/2000/svg\" xmlns:xlink=\"http://www.w3.org/1999/xlink\"\n",
              "     width=\"400\" height=\"400.0\" viewBox=\"-0.7 -0.7 1.4 1.4\">\n",
              "<defs>\n",
              "<clipPath id=\"d0\">\n",
              "<rect x=\"-0.25\" y=\"-0.25\" width=\"1\" height=\"1\" />\n",
              "</clipPath>\n",
              "</defs>\n",
              "<circle cx=\"0\" cy=\"0\" r=\"0.5\" stroke-width=\"0.01\" stroke=\"black\" fill-opacity=\"0.3\" clip-path=\"url(#d0)\" id=\"circle\" />\n",
              "<g opacity=\"0.5\" clip-path=\"url(#d0)\">\n",
              "<use xlink:href=\"#circle\" x=\"0.25\" y=\"-0.1\" />\n",
              "</g>\n",
              "</svg>"
            ],
            "text/plain": [
              "<drawSvg.drawing.Drawing at 0x1ac6c7db0a0>"
            ]
          },
          "execution_count": 7,
          "metadata": {},
          "output_type": "execute_result"
        }
      ],
      "source": [
        "import drawSvg as draw\n",
        "\n",
        "d = draw.Drawing(1.4, 1.4, origin='center')\n",
        "\n",
        "# Define clip path\n",
        "clip = draw.ClipPath()\n",
        "clip.append(draw.Rectangle(-.25,.25-1,1,1))\n",
        "\n",
        "# Draw a cropped circle\n",
        "c = draw.Circle(0,0,0.5, stroke_width='0.01', stroke='black',\n",
        "                         fill_opacity=0.3, clip_path=clip,\n",
        "                         id='circle')\n",
        "d.append(c)\n",
        "\n",
        "# Make a transparent copy, cropped again\n",
        "g = draw.Group(opacity=0.5, clip_path=clip)\n",
        "g.append(draw.Use('circle', 0.25,0.1))\n",
        "d.append(g)\n",
        "\n",
        "# Display\n",
        "d.setRenderSize(400)\n",
        "d"
      ]
    },
    {
      "cell_type": "code",
      "execution_count": null,
      "metadata": {
        "id": "pUZuAe13Ktln",
        "outputId": "c6da48d8-3fb2-4951-9577-58b5034fbf81"
      },
      "outputs": [
        {
          "data": {
            "image/svg+xml": [
              "<?xml version=\"1.0\" encoding=\"UTF-8\"?>\n",
              "<svg xmlns=\"http://www.w3.org/2000/svg\" xmlns:xlink=\"http://www.w3.org/1999/xlink\"\n",
              "     width=\"200\" height=\"240.0\" viewBox=\"-0.5 -0.6 1 1.2\">\n",
              "<defs>\n",
              "</defs>\n",
              "<a href=\"https://www.python.org\" target=\"_blank\" transform=\"skewY(-30)\">\n",
              "<circle cx=\"0\" cy=\"0\" r=\"0.5\" fill=\"green\" />\n",
              "<text x=\"0\" y=\"0\" font-size=\"0.2\" fill=\"white\" text-anchor=\"middle\" dy=\"0.3em\">Hyperlink</text>\n",
              "</a>\n",
              "</svg>"
            ],
            "text/plain": [
              "<drawSvg.drawing.Drawing at 0x1ac6c76feb0>"
            ]
          },
          "execution_count": 8,
          "metadata": {},
          "output_type": "execute_result"
        }
      ],
      "source": [
        "import drawSvg as draw\n",
        "\n",
        "# Subclass DrawingBasicElement if it cannot have child nodes\n",
        "# Subclass DrawingParentElement otherwise\n",
        "# Subclass DrawingDef if it must go between <def></def> tags in an SVG\n",
        "class Hyperlink(draw.DrawingParentElement):\n",
        "    TAG_NAME = 'a'\n",
        "    def __init__(self, href, target=None, **kwargs):\n",
        "        # Other init logic...\n",
        "        # Keyword arguments to super().__init__() correspond to SVG node\n",
        "        # arguments: stroke_width=5 -> stroke-width=\"5\"\n",
        "        super().__init__(href=href, target=target, **kwargs)\n",
        "\n",
        "d = draw.Drawing(1, 1.2, origin='center')\n",
        "\n",
        "# Create hyperlink\n",
        "hlink = Hyperlink('https://www.python.org', target='_blank',\n",
        "                  transform='skewY(-30)')\n",
        "# Add child elements\n",
        "hlink.append(draw.Circle(0,0,0.5, fill='green'))\n",
        "hlink.append(draw.Text('Hyperlink',0.2, 0,0, center=0.6, fill='white'))\n",
        "\n",
        "# Draw and display\n",
        "d.append(hlink)\n",
        "d.setRenderSize(200)\n",
        "d"
      ]
    },
    {
      "cell_type": "code",
      "execution_count": null,
      "metadata": {
        "id": "kfLlKL1iKtln",
        "outputId": "0e373a38-2289-4885-f39a-d38cf0a8d55b"
      },
      "outputs": [
        {
          "data": {
            "image/svg+xml": [
              "<?xml version=\"1.0\" encoding=\"UTF-8\"?>\n",
              "<svg xmlns=\"http://www.w3.org/2000/svg\" xmlns:xlink=\"http://www.w3.org/1999/xlink\"\n",
              "     width=\"200\" height=\"200\" viewBox=\"-100.0 -100.0 200 200\">\n",
              "<defs>\n",
              "<path d=\"M-90,0 A90,40,360,1,1,90,0 A90,40,360,1,1,-90,0 Z\" id=\"d0\" />\n",
              "</defs>\n",
              "<circle cx=\"0\" cy=\"0\" r=\"20\" fill=\"red\">\n",
              "<animate repeatCount=\"indefinite\" attributeName=\"cy\" dur=\"6s\" values=\"-80;80;-80\" />\n",
              "<animate repeatCount=\"indefinite\" attributeName=\"cx\" dur=\"6s\" values=\"0;80;0;-80;0\" />\n",
              "<animate calcMode=\"discrete\" repeatCount=\"indefinite\" attributeName=\"fill\" dur=\"6s\" values=\"red;green;blue;yellow\" />\n",
              "</circle>\n",
              "<circle cx=\"0\" cy=\"0\" r=\"10\">\n",
              "<animateMotion repeatCount=\"indefinite\" dur=\"3s\">\n",
              "<mpath xlink:href=\"#d0\" />\n",
              "</animateMotion>\n",
              "<animateTransform type=\"scale\" repeatCount=\"indefinite\" attributeName=\"transform\" dur=\"3s\" values=\"1,2;2,1;1,2;2,1;1,2\" />\n",
              "</circle>\n",
              "</svg>"
            ],
            "text/plain": [
              "<drawSvg.drawing.Drawing at 0x1ac6ce29fd0>"
            ]
          },
          "execution_count": 9,
          "metadata": {},
          "output_type": "execute_result"
        }
      ],
      "source": [
        "import drawSvg as draw\n",
        "\n",
        "d = draw.Drawing(200, 200, origin='center')\n",
        "\n",
        "# Animate the position and color of circle\n",
        "c = draw.Circle(0, 0, 20, fill='red')\n",
        "# See for supported attributes:\n",
        "# https://developer.mozilla.org/en-US/docs/Web/SVG/Element/animate\n",
        "c.appendAnim(draw.Animate('cy', '6s', '-80;80;-80',\n",
        "                          repeatCount='indefinite'))\n",
        "c.appendAnim(draw.Animate('cx', '6s', '0;80;0;-80;0',\n",
        "                          repeatCount='indefinite'))\n",
        "c.appendAnim(draw.Animate('fill', '6s', 'red;green;blue;yellow',\n",
        "                          calcMode='discrete',\n",
        "                          repeatCount='indefinite'))\n",
        "d.append(c)\n",
        "\n",
        "# Animate a black circle around an ellipse\n",
        "ellipse = draw.Path()\n",
        "ellipse.M(-90, 0)\n",
        "ellipse.A(90, 40, 360, True, True, 90, 0)  # Ellipse path\n",
        "ellipse.A(90, 40, 360, True, True, -90, 0)\n",
        "ellipse.Z()\n",
        "c2 = draw.Circle(0, 0, 10)\n",
        "# See for supported attributes:\n",
        "# https://developer.mozilla.org/en-US/docs/Web/SVG/Element/animateMotion\n",
        "c2.appendAnim(draw.AnimateMotion(ellipse, '3s',\n",
        "                                 repeatCount='indefinite'))\n",
        "# See for supported attributes:\n",
        "# https://developer.mozilla.org/en-US/docs/Web/SVG/Element/animateTransform\n",
        "c2.appendAnim(draw.AnimateTransform('scale', '3s', '1,2;2,1;1,2;2,1;1,2',\n",
        "                                    repeatCount='indefinite'))\n",
        "d.append(c2)\n",
        "\n",
        "d.saveSvg('animated.svg')  # Save to file\n",
        "d  # Display in Jupyter notebook"
      ]
    },
    {
      "cell_type": "code",
      "execution_count": null,
      "metadata": {
        "id": "GxsoPXFzKtlo",
        "outputId": "9c8173d2-72cc-466e-9362-948bf6829e8b",
        "colab": {
          "referenced_widgets": [
            "6c7f49f00213489490e59a6909ee45db"
          ]
        }
      },
      "outputs": [
        {
          "data": {
            "application/vnd.jupyter.widget-view+json": {
              "model_id": "6c7f49f00213489490e59a6909ee45db",
              "version_major": 2,
              "version_minor": 0
            },
            "text/plain": [
              "DrawingWidget()"
            ]
          },
          "metadata": {},
          "output_type": "display_data"
        }
      ],
      "source": [
        "import drawSvg as draw\n",
        "from drawSvg.widgets import DrawingWidget\n",
        "import hyperbolic.poincare.shapes as hyper  # pip3 install hyperbolic\n",
        "\n",
        "# Create drawing\n",
        "d = draw.Drawing(2, 2, origin='center')\n",
        "d.setRenderSize(500)\n",
        "d.append(draw.Circle(0, 0, 1, fill='orange'))\n",
        "group = draw.Group()\n",
        "d.append(group)\n",
        "\n",
        "# Update the drawing based on user input\n",
        "click_list = []\n",
        "def redraw(points):\n",
        "    group.children.clear()\n",
        "    for x1, y1 in points:\n",
        "        for x2, y2 in points:\n",
        "            if (x1, y1) == (x2, y2): continue\n",
        "            p1 = hyper.Point.fromEuclid(x1, y1)\n",
        "            p2 = hyper.Point.fromEuclid(x2, y2)\n",
        "            if p1.distanceTo(p2) <= 2:\n",
        "                line = hyper.Line.fromPoints(*p1, *p2, segment=True)\n",
        "                group.draw(line, hwidth=0.2, fill='white')\n",
        "    for x, y in points:\n",
        "        p = hyper.Point.fromEuclid(x, y)\n",
        "        group.draw(hyper.Circle.fromCenterRadius(p, 0.1),\n",
        "                   fill='green')\n",
        "redraw(click_list)\n",
        "\n",
        "# Create interactive widget and register mouse events\n",
        "widget = DrawingWidget(d)\n",
        "@widget.mousedown\n",
        "def mousedown(widget, x, y, info):\n",
        "    if (x**2 + y**2) ** 0.5 + 1e-5 < 1:\n",
        "        click_list.append((x, y))\n",
        "    redraw(click_list)\n",
        "    widget.refresh()\n",
        "@widget.mousemove\n",
        "def mousemove(widget, x, y, info):\n",
        "    if (x**2 + y**2) ** 0.5 + 1e-5 < 1:\n",
        "        redraw(click_list + [(x, y)])\n",
        "    widget.refresh()\n",
        "widget"
      ]
    },
    {
      "cell_type": "code",
      "execution_count": null,
      "metadata": {
        "id": "mQcNS64ZKtlo",
        "outputId": "79023480-6843-4ded-c6ba-10bbe189920f"
      },
      "outputs": [
        {
          "data": {
            "image/svg+xml": [
              "<?xml version=\"1.0\" encoding=\"UTF-8\"?>\n",
              "<svg xmlns=\"http://www.w3.org/2000/svg\" xmlns:xlink=\"http://www.w3.org/1999/xlink\"\n",
              "     width=\"99.17355371900827\" height=\"300\" viewBox=\"-1 -5.0 2 6.05\">\n",
              "<defs>\n",
              "</defs>\n",
              "<rect x=\"-2\" y=\"-6\" width=\"4\" height=\"8\" fill=\"white\" />\n",
              "<rect x=\"-1\" y=\"1.0\" width=\"2\" height=\"0.05\" fill=\"brown\" />\n",
              "<circle cx=\"0\" cy=\"-3.96\" r=\"1\" fill=\"lime\" />\n",
              "</svg>"
            ],
            "text/plain": [
              "<drawSvg.drawing.Drawing at 0x1ac6cff3490>"
            ]
          },
          "metadata": {},
          "output_type": "display_data"
        }
      ],
      "source": [
        "import drawSvg as draw\n",
        "\n",
        "# Draw a frame of the animation\n",
        "def draw_frame(t):\n",
        "    d = draw.Drawing(2, 6.05, origin=(-1,-1.05))\n",
        "    d.setRenderSize(h=300)\n",
        "    d.append(draw.Rectangle(-2, -2, 4, 8, fill='white'))\n",
        "    d.append(draw.Rectangle(-1, -1.05, 2, 0.05, fill='brown'))\n",
        "    t = (t + 1) % 2 - 1\n",
        "    y = 4 - t**2 * 4\n",
        "    d.append(draw.Circle(0, y, 1, fill='lime'))\n",
        "    return d\n",
        "\n",
        "with draw.animate_jupyter(draw_frame, delay=0.05) as anim:\n",
        "# Or:\n",
        "#with draw.animate_video('example6.gif', draw_frame, duration=0.05\n",
        "#                       ) as anim:\n",
        "    # Add each frame to the animation\n",
        "    for i in range(20):\n",
        "        anim.draw_frame(i/10)\n",
        "    for i in range(20):\n",
        "        anim.draw_frame(i/10)\n",
        "    for i in range(20):\n",
        "        anim.draw_frame(i/10)"
      ]
    },
    {
      "cell_type": "code",
      "execution_count": null,
      "metadata": {
        "id": "EaI21dByKtlp"
      },
      "outputs": [],
      "source": [
        "# Jupyter cell 1:\n",
        "import drawSvg as draw\n",
        "from drawSvg.widgets import AsyncAnimation\n",
        "widget = AsyncAnimation(fps=10)\n",
        "widget\n",
        "# [Animation is displayed here (click to pause)]\n",
        "\n",
        "# Jupyter cell 2:\n",
        "global_variable = 'a'\n",
        "@widget.set_draw_frame  # Animation above is automatically updated\n",
        "def draw_frame(secs=0):\n",
        "    # Draw something...\n",
        "    d = draw.Drawing(100, 40)\n",
        "    d.append(draw.Text(global_variable, 20, 0, 10))\n",
        "    d.append(draw.Text('{:0.1f}'.format(secs), 20, 30, 10))\n",
        "    return d\n",
        "\n",
        "# Jupyter cell 3:\n",
        "global_variable = 'b'  # Animation above now displays 'b'"
      ]
    },
    {
      "cell_type": "code",
      "execution_count": null,
      "metadata": {
        "id": "HXVIgQ7MKtlp"
      },
      "outputs": [],
      "source": []
    }
  ],
  "metadata": {
    "kernelspec": {
      "display_name": "Python 3",
      "language": "python",
      "name": "python3"
    },
    "language_info": {
      "codemirror_mode": {
        "name": "ipython",
        "version": 3
      },
      "file_extension": ".py",
      "mimetype": "text/x-python",
      "name": "python",
      "nbconvert_exporter": "python",
      "pygments_lexer": "ipython3",
      "version": "3.8.8"
    },
    "colab": {
      "provenance": [],
      "include_colab_link": true
    }
  },
  "nbformat": 4,
  "nbformat_minor": 0
}