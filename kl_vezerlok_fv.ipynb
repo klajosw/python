{
  "nbformat": 4,
  "nbformat_minor": 0,
  "metadata": {
    "hide_input": false,
    "kernelspec": {
      "display_name": "Python 3",
      "language": "python",
      "name": "python3"
    },
    "language_info": {
      "codemirror_mode": {
        "name": "ipython",
        "version": 3
      },
      "file_extension": ".py",
      "mimetype": "text/x-python",
      "name": "python",
      "nbconvert_exporter": "python",
      "pygments_lexer": "ipython3",
      "version": "3.7.3"
    },
    "latex_envs": {
      "bibliofile": "biblio.bib",
      "cite_by": "apalike",
      "current_citInitial": 1,
      "eqLabelWithNumbers": true,
      "eqNumInitial": 0
    },
    "name": "python-bevezeto.ipynb",
    "toc": {
      "toc_cell": false,
      "toc_number_sections": true,
      "toc_threshold": 6,
      "toc_window_display": false
    },
    "colab": {
      "name": "kl_vezerlok_fv.ipynb",
      "provenance": [],
      "collapsed_sections": [
        "6oIPg7dmQrFw",
        "uHARN1v5QrGs",
        "uQPgOkQfQrHL",
        "5nlrZaVrQrHx",
        "dB79OWLkQrID"
      ],
      "toc_visible": true,
      "include_colab_link": true
    }
  },
  "cells": [
    {
      "cell_type": "markdown",
      "metadata": {
        "id": "view-in-github",
        "colab_type": "text"
      },
      "source": [
        "<a href=\"https://colab.research.google.com/github/klajosw/python/blob/master/kl_vezerlok_fv.ipynb\" target=\"_parent\"><img src=\"https://colab.research.google.com/assets/colab-badge.svg\" alt=\"Open In Colab\"/></a>"
      ]
    },
    {
      "cell_type": "markdown",
      "metadata": {
        "id": "m8AjWrbBQrFK",
        "colab_type": "text"
      },
      "source": [
        "# Python vezérlőutasítások, függvények, ..\n",
        "\n",
        "Bonyolultabb programok sok egymás után következő utasítás végrehajtásából állnak. Azt, hogy melyik utasítás mikor kerül végrehajtásra, a vezérlőutasítások határozzák meg. Minden program nyelvben két alapvető vezérlő utasítás mindenképpen megtalálható, a feltételválasztó és a ciklusszervező."
      ]
    },
    {
      "cell_type": "markdown",
      "metadata": {
        "id": "tw8brNpRQrFL",
        "colab_type": "text"
      },
      "source": [
        "## Az `if` utasítás\n",
        "Az **`if`** utasítás tölti be a legtöbb nyelvben a feltételválsztó utasítás szerepét. Segítségével határozhatjuk meg, hogy bizonyos körülmények teljesülésekor a program a megfelelő utasításokat hajtsa végre. \n",
        "Lássunk erre egy példát:"
      ]
    },
    {
      "cell_type": "code",
      "metadata": {
        "id": "JYOPzwKXQrFN",
        "colab_type": "code",
        "colab": {},
        "outputId": "e36f3342-415e-481d-c2f6-d136ff85f71f"
      },
      "source": [
        "if 2+2==4:\n",
        "    print('Minden OK')\n"
      ],
      "execution_count": 0,
      "outputs": [
        {
          "output_type": "stream",
          "text": [
            "Minden OK\n"
          ],
          "name": "stdout"
        }
      ]
    },
    {
      "cell_type": "markdown",
      "metadata": {
        "id": "IzEg6DeBQrFR",
        "colab_type": "text"
      },
      "source": [
        "<p style=\"color:darkred;\"> <b>Figyelem, a második sort beljebb húztuk!</b> A behúzás a Python jelölése az utasítások csoportosítására! </p> A behúzás mértékére általánosan bevett szokás, hogy a szintaktikailag alacsonyabb szintű programrészek négy szóközzel beljebb vannak tolva. Ha tehát két **`if`** utasítást ágyazunk egymásba, akkor a második által teljesítendő utasítások 8 szóközzel lesznek beljebb húzva. Ez a behúzás a `jupyter` notebook kódcelláiban automatikusan is megtörténik. A `:` utáni ENTER leütése után a következő sor 4 szóközzel kerül beljebb, további ENTER leütése hatására a hierarchia azonos szintjén kezdjük az új sort. Ha feljebb szeretnénk lépni, akkor a behúzást ki kell törölni. A C, C++, Java nyelvekben kapcsos zárójeleket {} használnak az egybefüggő kódrészletek elkülönítésére, kb. így: \n",
        "```C\n",
        "if (i==10) {\n",
        "print i\n",
        "}\n",
        "```\n",
        "A FORTRAN nyelvben az *END* szócska kiírása jelzi a kódrészlet végét. A pythonban a kettőspont (\":\"), majd szóközökkel beljebb írt sorok szolgálnak erre. Ha más programokból másolunk át részleteket, figyeljünk arra, hogy a behúzás helyett nem TAB-ot használ-e. (A TAB néhol megengedett, de kerülendő. A modern [python kódolási stílusirányzat](http://django.arek.uni-obuda.hu/python3-doc/html/tutorial/controlflow.html#intermezzo-kodolasi-stilus) minden behúzást, ahogy azt fent is említettük, 4 szóköznek javasol.)"
      ]
    },
    {
      "cell_type": "code",
      "metadata": {
        "id": "2rzJBxfcQrFS",
        "colab_type": "code",
        "colab": {},
        "outputId": "d5a1439b-4879-4332-af18-c8b4f66dae86"
      },
      "source": [
        "today='Hétfő';\n",
        "time='12:00';\n",
        "if today=='Hétfő':\n",
        "    if time=='12:00':\n",
        "        print('Üdv délben python!')\n",
        "    else:\n",
        "        print('Üdv python!')"
      ],
      "execution_count": 0,
      "outputs": [
        {
          "output_type": "stream",
          "text": [
            "Üdv délben python!\n"
          ],
          "name": "stdout"
        }
      ]
    },
    {
      "cell_type": "markdown",
      "metadata": {
        "id": "68SyI_O0QrFV",
        "colab_type": "text"
      },
      "source": [
        "Bonyolultabb kritériumszerkezetet az **`else`** és **`elif`** parancsok segítségével konstruálhatunk:"
      ]
    },
    {
      "cell_type": "code",
      "metadata": {
        "id": "zM9zCSHuQrFW",
        "colab_type": "code",
        "colab": {},
        "outputId": "e030a1e6-6c35-4aab-8adf-a6c789880ff2"
      },
      "source": [
        "x = 1\n",
        "if x < 0:\n",
        "    x = 0\n",
        "    print('Negatív, csere nullára')\n",
        "elif x == 0:\n",
        "    print('Nulla')\n",
        "elif x == 1:\n",
        "    print('Egy')\n",
        "else:\n",
        "    print('Egynél több.')"
      ],
      "execution_count": 0,
      "outputs": [
        {
          "output_type": "stream",
          "text": [
            "Egy\n"
          ],
          "name": "stdout"
        }
      ]
    },
    {
      "cell_type": "markdown",
      "metadata": {
        "id": "OUbbgmzEQrFZ",
        "colab_type": "text"
      },
      "source": [
        "Hiányozhat, de lehet egy vagy akár egynél több **`elif`** rész, az **`else`** rész szintén elmaradhat. Az **`elif`** kulcsszó – amely az ‘else if’ rövidítése – hasznos a felesleges behúzások elkerülésre. Egy **`if`** ...**`elif`** ... **`elif`** ... sor helyettesíti a más nyelvekben található `switch` és `case` utasításokat."
      ]
    },
    {
      "cell_type": "markdown",
      "metadata": {
        "id": "L6Gt9vBMQrFa",
        "colab_type": "text"
      },
      "source": [
        "## A **`for`** utasítás\n",
        "A számítógépek legfontosabb tulajdonságai közt szerepel az, hogy nagyon gyorsak és \"fáradhatatlanok\". Olyan feladatok megoldásában a leghatékonyabbak, amikor a feladatot kevés munkával meg lehet fogalmazni (\"az alkotó pihen\") de végrehajtása nagyon sok ismétlést, iterációt igényel (\"a gép forog\"). Az iteráció (angol: iterate) azt jelenti, hogy például egy lista elemein egyesével végigmegy a program, és műveleteket végez el rajtuk. A Python-ban az egyik erre használható utasítás a **`for`** parancs (magyarul kb. a ...-ra, azaz pl. a hét minden napjára, a lista minden elemére):"
      ]
    },
    {
      "cell_type": "code",
      "metadata": {
        "id": "avhx5eYZQrFb",
        "colab_type": "code",
        "colab": {}
      },
      "source": [
        "days_of_the_week = [\"Vasárnap\",\"Hétfő\",\"Kedd\",\"Szerda\",\"Csütörtök\",\"Péntek\",\"Szombat\"]"
      ],
      "execution_count": 0,
      "outputs": []
    },
    {
      "cell_type": "code",
      "metadata": {
        "id": "1buoNn5AQrFe",
        "colab_type": "code",
        "colab": {},
        "outputId": "ab9ad190-786b-4fc3-dcf9-a90d77494b13"
      },
      "source": [
        "for day in days_of_the_week:\n",
        "    print(day)"
      ],
      "execution_count": 0,
      "outputs": [
        {
          "output_type": "stream",
          "text": [
            "Vasárnap\n",
            "Hétfő\n",
            "Kedd\n",
            "Szerda\n",
            "Csütörtök\n",
            "Péntek\n",
            "Szombat\n"
          ],
          "name": "stdout"
        }
      ]
    },
    {
      "cell_type": "markdown",
      "metadata": {
        "id": "BmlcxyWJQrFh",
        "colab_type": "text"
      },
      "source": [
        "Ez a kódrészlet a `days_of_the_week` listán megy végig, és a meglátogatott elemet hozzárendeli a `day` változóhoz, amit *ciklusváltozónak* is neveznek. Ezek után mindent végrehajt, amit a beljebb tabulált (angolul: *indented*) parancsblokkban írtunk (most csak egy `print` utasítás), amihez felhasználhatja a ciklusváltozót is. Miután vége a beljebb tabulált régiónak, kilép a ciklusból.\n",
        "Annak semmi jelentősége nincs, hogy a példában a **day** nevet adtuk az iterációban szereplő *ciklusváltozó*nak. A program semmit se tud az emberi időszámításról, például, hogy a hétben napok vannak és nem kiscicák:"
      ]
    },
    {
      "cell_type": "code",
      "metadata": {
        "id": "F8BTpJRDQrFi",
        "colab_type": "code",
        "colab": {},
        "outputId": "05ae954b-6006-4b8a-f1a1-e1a80e20ecc0"
      },
      "source": [
        "for macska in days_of_the_week:\n",
        "    print(macska)"
      ],
      "execution_count": 0,
      "outputs": [
        {
          "output_type": "stream",
          "text": [
            "Vasárnap\n",
            "Hétfő\n",
            "Kedd\n",
            "Szerda\n",
            "Csütörtök\n",
            "Péntek\n",
            "Szombat\n"
          ],
          "name": "stdout"
        }
      ]
    },
    {
      "cell_type": "markdown",
      "metadata": {
        "id": "ZHbWWNdNQrFk",
        "colab_type": "text"
      },
      "source": [
        "A ciklus utasításblokkja állhat több utasításból is:"
      ]
    },
    {
      "cell_type": "code",
      "metadata": {
        "id": "6ar2Ho5OQrFl",
        "colab_type": "code",
        "colab": {},
        "outputId": "1479cb52-6bef-42ed-ba85-3bcb52609bf2"
      },
      "source": [
        "for day in days_of_the_week:\n",
        "    statement = \"Hát \" + day + ' van ma'\n",
        "    print(statement)"
      ],
      "execution_count": 0,
      "outputs": [
        {
          "output_type": "stream",
          "text": [
            "Hát Vasárnap van ma\n",
            "Hát Hétfő van ma\n",
            "Hát Kedd van ma\n",
            "Hát Szerda van ma\n",
            "Hát Csütörtök van ma\n",
            "Hát Péntek van ma\n",
            "Hát Szombat van ma\n"
          ],
          "name": "stdout"
        }
      ]
    },
    {
      "cell_type": "markdown",
      "metadata": {
        "id": "I3cURySWQrFo",
        "colab_type": "text"
      },
      "source": [
        "A **`range()`** parancs remekül használható, ha a **`for`** ciklusban adott számú műveletet szeretnénk elvégezni:"
      ]
    },
    {
      "cell_type": "code",
      "metadata": {
        "id": "zfsoUNc_QrFp",
        "colab_type": "code",
        "colab": {},
        "outputId": "52028161-8e7e-4e21-a9cd-6709e499d379"
      },
      "source": [
        "for i in range(8):\n",
        "    print(i,\" szer \",i ,\"az pontosan \",i*i)"
      ],
      "execution_count": 0,
      "outputs": [
        {
          "output_type": "stream",
          "text": [
            "0  szer  0 az pontosan  0\n",
            "1  szer  1 az pontosan  1\n",
            "2  szer  2 az pontosan  4\n",
            "3  szer  3 az pontosan  9\n",
            "4  szer  4 az pontosan  16\n",
            "5  szer  5 az pontosan  25\n",
            "6  szer  6 az pontosan  36\n",
            "7  szer  7 az pontosan  49\n"
          ],
          "name": "stdout"
        }
      ]
    },
    {
      "cell_type": "markdown",
      "metadata": {
        "id": "ijycqLJmQrFr",
        "colab_type": "text"
      },
      "source": [
        "Akkor válik mindez még érdekesebbé, ha az eddig tanult iterációt és feltételvizsgálatot kombináljuk:"
      ]
    },
    {
      "cell_type": "code",
      "metadata": {
        "id": "dEuFH23pQrFs",
        "colab_type": "code",
        "colab": {},
        "outputId": "611fdb28-17a3-4668-de02-422ad8494f68"
      },
      "source": [
        "for day in days_of_the_week:\n",
        "    statement = \"Hát \" + day + 'ma van'\n",
        "    print(statement)\n",
        "    if day == \"Vasárnap\":\n",
        "        print (\"   Aludhatunk tovább\")\n",
        "    elif day == \"Szombat\":\n",
        "        print (\"   Mulatság, ..\")\n",
        "    else:\n",
        "        print (\"   Dolgozni kell\")"
      ],
      "execution_count": 0,
      "outputs": [
        {
          "output_type": "stream",
          "text": [
            "Hát Vasárnapma van\n",
            "   Aludhatunk tovább\n",
            "Hát Hétfőma van\n",
            "   Dolgozni kell\n",
            "Hát Keddma van\n",
            "   Dolgozni kell\n",
            "Hát Szerdama van\n",
            "   Dolgozni kell\n",
            "Hát Csütörtökma van\n",
            "   Dolgozni kell\n",
            "Hát Péntekma van\n",
            "   Dolgozni kell\n",
            "Hát Szombatma van\n",
            "   Mulatság, ..\n"
          ],
          "name": "stdout"
        }
      ]
    },
    {
      "cell_type": "markdown",
      "metadata": {
        "id": "1y3UqO8xQrFv",
        "colab_type": "text"
      },
      "source": [
        "Figyeljük meg, a fenti példában hogy ágyazódik egymás alá a **`for`** és az **`if`**! "
      ]
    },
    {
      "cell_type": "markdown",
      "metadata": {
        "id": "6oIPg7dmQrFw",
        "colab_type": "text"
      },
      "source": [
        "## Egy példaprogram: Fibbonacci-sorozat\n",
        "A [Fibonacci](http://en.wikipedia.org/wiki/Fibonacci_number)-sorozat első két eleme 0 és 1, majd a következő elemet mindig az előző kettő összegéből számoljuk ki: 0,1,1,2,3,5,8,13,21,34,55,89,...\n",
        "\n",
        "Ha nagyobb $n$ értékekre is ki akarjuk számolni a sorozatot, ez kiváló feladat lehet egy fáradhatatlan és gyors számítógépnek!"
      ]
    },
    {
      "cell_type": "code",
      "metadata": {
        "id": "Niov7lYnQrFw",
        "colab_type": "code",
        "colab": {},
        "outputId": "f6381314-8844-47fc-a37f-87304ebfaa32"
      },
      "source": [
        "n = 10 # ennyi elemet szeretnénk meghatározni\n",
        "sequence = [0,1] # az első két elem\n",
        "for i in range(2,n): # számok 2-től n-ig, Figyelni kell, hogy n ne legyen kisebb mint 2!!\n",
        "    sequence.append(sequence[i-1]+sequence[i-2])\n",
        "print (sequence)"
      ],
      "execution_count": 0,
      "outputs": [
        {
          "output_type": "stream",
          "text": [
            "[0, 1, 1, 2, 3, 5, 8, 13, 21, 34]\n"
          ],
          "name": "stdout"
        }
      ]
    },
    {
      "cell_type": "markdown",
      "metadata": {
        "id": "iRIlRhP9QrFz",
        "colab_type": "text"
      },
      "source": [
        "Nézzük végig lépésről lépésre! Először $n$ értékét, azaz a kiszámolandó sorozat hosszát állítjuk be 10-re. A sorozatot majdan tároló listát **`sequence`**-nek neveztük el, és *inicializáltuk* az első két értékkel. A \"kézi munka\" után következhet a gép automatikus munkája, az iteráció.\n",
        "\n",
        "Az iterációt 2-vel kezdjük (ez ugye a 0-s indexelés miatt a 3. elem lesz, hisz az első kettőt már mi megadtuk) és $n$-ig, a megadott listaméretig számolunk. \n",
        "\n",
        "A ciklus törzsében az addig kiszámolt lista végére hozzátűzzük (**`append`** parancsról kicsit bővebben [itt](http://django.arek.uni-obuda.hu/python3-doc/html/tutorial/datastructures.html#a-listakrol-bovebben)) az előző két tag összegét. A ciklus vége után kiíratjuk az eredményt."
      ]
    },
    {
      "cell_type": "markdown",
      "metadata": {
        "id": "1f5AMyFCQrF0",
        "colab_type": "text"
      },
      "source": [
        "# Függvények\n",
        "\n",
        "Számos programozási nyelvben szokás a felhasználó által megalkotott bonyolultabb utasításokat függvényekbe szervezni. Jól megírt függvények használata általában rövidebbé és jobban átláthatóvá teszi a programokat.\n",
        "\n",
        "## Függvények deklarálása\n",
        "Ha más hosszúságú sorozatot szeretnénk, átmásolhatjuk a fenti kódot egy új cellába, és átírhatjuk az **`n=10`**-et pl. **`n=100`**-ra. Van azonban egy hatékonyabb módszer, új *függvény*-ként definiálhatjuk a **def** utasítás segítségével:"
      ]
    },
    {
      "cell_type": "code",
      "metadata": {
        "id": "Fx4fg7b0QrF1",
        "colab_type": "code",
        "colab": {}
      },
      "source": [
        "def fibonacci(sequence_length):\n",
        "    \"A Fibonacci sorozat elso *sequence_length* darab eleme\" # ez csak a 'help'-hez kell\n",
        "    sequence = [0,1]\n",
        "    if 0 < sequence_length < 3:\n",
        "        return sequence[:sequence_length]\n",
        "    for i in range(2,sequence_length): \n",
        "        sequence.append(sequence[i-1]+sequence[i-2])\n",
        "    return sequence"
      ],
      "execution_count": 0,
      "outputs": []
    },
    {
      "cell_type": "markdown",
      "metadata": {
        "id": "Tcesp3rFQrF4",
        "colab_type": "text"
      },
      "source": [
        "Most már *meghívhatjuk* a **`fibonacci()`** függvényt különböző hosszakra:"
      ]
    },
    {
      "cell_type": "code",
      "metadata": {
        "id": "lvWd1OETQrF5",
        "colab_type": "code",
        "colab": {},
        "outputId": "f27fd035-658e-4aa0-fd6a-976f9da2e35a"
      },
      "source": [
        "fibonacci(5)"
      ],
      "execution_count": 0,
      "outputs": [
        {
          "output_type": "execute_result",
          "data": {
            "text/plain": [
              "[0, 1, 1, 2, 3]"
            ]
          },
          "metadata": {
            "tags": []
          },
          "execution_count": 21
        }
      ]
    },
    {
      "cell_type": "markdown",
      "metadata": {
        "id": "1BX69HBtQrF_",
        "colab_type": "text"
      },
      "source": [
        "Elemezzük a fenti kódot! A már megszokott módon a kettőspont és behúzás határozza meg a függvénydefinícióhoz tartozó kódblokkot. \n",
        "A 2. sorban idézőjelek közt szerepel a [\"**docstring**\"](http://django.arek.uni-obuda.hu/python3-doc/html/tutorial/controlflow.html#a-dokumentacios-karakterlancok), ami a függvény működését magyarázza el röviden, és később a **help** paranccsal hívható elő:"
      ]
    },
    {
      "cell_type": "code",
      "metadata": {
        "id": "Vjlik-dcQrGA",
        "colab_type": "code",
        "colab": {},
        "outputId": "d2e4ce52-30d9-43a7-983c-f35273e30a11"
      },
      "source": [
        "help(fibonacci)"
      ],
      "execution_count": 0,
      "outputs": [
        {
          "output_type": "stream",
          "text": [
            "Help on function fibonacci in module __main__:\n",
            "\n",
            "fibonacci(sequence_length)\n",
            "    A Fibonacci sorozat elso *sequence_length* darab eleme\n",
            "\n"
          ],
          "name": "stdout"
        }
      ]
    },
    {
      "cell_type": "markdown",
      "metadata": {
        "id": "jZ_e6y_BQrGC",
        "colab_type": "text"
      },
      "source": [
        "A notebookos környezetben a docstring a ? segítségével is elérhető:"
      ]
    },
    {
      "cell_type": "code",
      "metadata": {
        "id": "kZRqAaW4QrGD",
        "colab_type": "code",
        "colab": {}
      },
      "source": [
        "?fibonacci"
      ],
      "execution_count": 0,
      "outputs": []
    },
    {
      "cell_type": "markdown",
      "metadata": {
        "id": "ITzLAEwEQrGG",
        "colab_type": "text"
      },
      "source": [
        "A `docstring`-et `jupyter` környezetben úgy is megtekinthetjük, ha egyes függvények hasában, azaz a zárójelek között SHIFT+TAB-ot nyomunk. Próbáld ki ezt az alábbi cellán (annélkül hogy lefuttatnád azt)!"
      ]
    },
    {
      "cell_type": "code",
      "metadata": {
        "id": "1t9zVopxQrGI",
        "colab_type": "code",
        "colab": {},
        "outputId": "70ba0177-8766-4c9d-c8cc-f6b2f775165f"
      },
      "source": [
        "fibonacci()"
      ],
      "execution_count": 0,
      "outputs": [
        {
          "output_type": "error",
          "ename": "TypeError",
          "evalue": "fibonacci() missing 1 required positional argument: 'sequence_length'",
          "traceback": [
            "\u001b[1;31m---------------------------------------------------------------------------\u001b[0m",
            "\u001b[1;31mTypeError\u001b[0m                                 Traceback (most recent call last)",
            "\u001b[1;32m<ipython-input-26-9f4a5433493a>\u001b[0m in \u001b[0;36m<module>\u001b[1;34m\u001b[0m\n\u001b[1;32m----> 1\u001b[1;33m \u001b[0mfibonacci\u001b[0m\u001b[1;33m(\u001b[0m\u001b[1;33m)\u001b[0m\u001b[1;33m\u001b[0m\u001b[1;33m\u001b[0m\u001b[0m\n\u001b[0m",
            "\u001b[1;31mTypeError\u001b[0m: fibonacci() missing 1 required positional argument: 'sequence_length'"
          ]
        }
      ]
    },
    {
      "cell_type": "markdown",
      "metadata": {
        "id": "1-SgATDdQrGO",
        "colab_type": "text"
      },
      "source": [
        "A függvény kimenetelét a **`return`** kulcsszó határozza meg. Ha a fügvény definiálása során nem használtunk **`return`** utasítást akkor a függvény **None** (semmi) értéket ad vissza. Ha egy függvény lefutott, és nem hajtott végre **`return`** utasítást, akkor is **None** értékkel tér vissza. A **fibonacci** fügvény például egy listát ad vissza:"
      ]
    },
    {
      "cell_type": "code",
      "metadata": {
        "id": "ahJZ0XfbQrGS",
        "colab_type": "code",
        "colab": {},
        "outputId": "c588d7e2-51c8-469e-f8a0-86c1ca712d8e"
      },
      "source": [
        "x=fibonacci(10)\n",
        "x"
      ],
      "execution_count": 0,
      "outputs": [
        {
          "output_type": "execute_result",
          "data": {
            "text/plain": [
              "[0, 1, 1, 2, 3, 5, 8, 13, 21, 34]"
            ]
          },
          "metadata": {
            "tags": []
          },
          "execution_count": 27
        }
      ]
    },
    {
      "cell_type": "markdown",
      "metadata": {
        "id": "acgNJowoQrGY",
        "colab_type": "text"
      },
      "source": [
        "Ez a függvény viszont nem tér vissza sehol:"
      ]
    },
    {
      "cell_type": "code",
      "metadata": {
        "id": "k0REDlXKQrGZ",
        "colab_type": "code",
        "colab": {}
      },
      "source": [
        "def ures_fuggveny(x):\n",
        "    print('Én egy ures fuggvény vagyok,\\nannak ellenére hogy beszélek,\\nnem térek vissza változóval!!')\n",
        "    y=x-2;"
      ],
      "execution_count": 0,
      "outputs": []
    },
    {
      "cell_type": "markdown",
      "metadata": {
        "id": "Ni7qS25DQrGc",
        "colab_type": "text"
      },
      "source": [
        "Így a **z** válltozóban nem tárolódik semmilyen érték!"
      ]
    },
    {
      "cell_type": "code",
      "metadata": {
        "id": "9_Xm_oRzQrGd",
        "colab_type": "code",
        "colab": {},
        "outputId": "a13a4337-cf4d-47dc-d2d0-66b1684a7a0d"
      },
      "source": [
        "z=ures_fuggveny(3)\n",
        "z"
      ],
      "execution_count": 0,
      "outputs": [
        {
          "output_type": "stream",
          "text": [
            "Én egy ures fuggvény vagyok,\n",
            "annak ellenére hogy beszélek,\n",
            "nem térek vissza változóval!!\n"
          ],
          "name": "stdout"
        }
      ]
    },
    {
      "cell_type": "code",
      "metadata": {
        "id": "Zs0Ec3zOQrGh",
        "colab_type": "code",
        "colab": {},
        "outputId": "497f7e97-7538-40f5-f550-00609ec9c0fa"
      },
      "source": [
        "print(z)"
      ],
      "execution_count": 0,
      "outputs": [
        {
          "output_type": "stream",
          "text": [
            "None\n"
          ],
          "name": "stdout"
        }
      ]
    },
    {
      "cell_type": "markdown",
      "metadata": {
        "id": "ms7iYqQpQrGk",
        "colab_type": "text"
      },
      "source": [
        "Egy függvénynek lehet több bemeneti változója is:"
      ]
    },
    {
      "cell_type": "code",
      "metadata": {
        "id": "HlNj8phZQrGk",
        "colab_type": "code",
        "colab": {}
      },
      "source": [
        "def osszead(a,b):\n",
        "    return a+b"
      ],
      "execution_count": 0,
      "outputs": []
    },
    {
      "cell_type": "markdown",
      "metadata": {
        "id": "tuMTBHDwQrGn",
        "colab_type": "text"
      },
      "source": [
        "Az is előfordulhat, hogy több értéket szeretnénk visszakapni egy függvényből. Ezt például az alábbiak alapján tehetjük meg:"
      ]
    },
    {
      "cell_type": "code",
      "metadata": {
        "id": "1AFQyEmZQrGn",
        "colab_type": "code",
        "colab": {}
      },
      "source": [
        "def plusminus(a,b):\n",
        "    return a+b,a-b"
      ],
      "execution_count": 0,
      "outputs": []
    },
    {
      "cell_type": "code",
      "metadata": {
        "id": "q_1qlxyGQrGq",
        "colab_type": "code",
        "colab": {},
        "outputId": "bd7b8d7a-dd55-4b98-82ed-e488fdb20c77"
      },
      "source": [
        "p,m=plusminus(2,3)\n",
        "print (p)\n",
        "print (m)"
      ],
      "execution_count": 0,
      "outputs": [
        {
          "output_type": "stream",
          "text": [
            "5\n",
            "-1\n"
          ],
          "name": "stdout"
        }
      ]
    },
    {
      "cell_type": "markdown",
      "metadata": {
        "id": "uHARN1v5QrGs",
        "colab_type": "text"
      },
      "source": [
        "## Paraméter lista és a \"kicsomagolás\""
      ]
    },
    {
      "cell_type": "markdown",
      "metadata": {
        "id": "jM73FruiQrGt",
        "colab_type": "text"
      },
      "source": [
        "Előfordulhat, hogy egy függvénynek sok bemenő paramétere van, vagy hogy egy függvény bemenő paramétereit egy másik függvény eleve egy listába rendezi. Egy tipikus ilyen példa, amint azt későb látni fogjuk, a függvényillesztés esete. Ilyenkor a paramétereket tartalmazó lista \"kicsomagolásával\", amit a \\*-jellel tehetünk meg, kompaktabb kódot érhetünk el. Vegyünk például egy olyan esetet amikor egy adatsorra egy ötödfokú polinomot illesztünk. "
      ]
    },
    {
      "cell_type": "markdown",
      "metadata": {
        "id": "Z5jyhww-QrGu",
        "colab_type": "text"
      },
      "source": [
        "$$f(x)=a_0+a_1x+a_2x^2+a_3x^3+a_4x^4+a_5x^5$$"
      ]
    },
    {
      "cell_type": "markdown",
      "metadata": {
        "id": "OCVto3jJQrGv",
        "colab_type": "text"
      },
      "source": [
        "Definiáljunk egy függvényt ami egy \"futó\" $x$ változó és az ötödfokó polinomnak megfelelően hat darab \"paraméter\" $a_i$ változó segítségével kiértékeli a fenti polinomot:"
      ]
    },
    {
      "cell_type": "code",
      "metadata": {
        "collapsed": true,
        "id": "TfM643UDQrGx",
        "colab_type": "code",
        "colab": {}
      },
      "source": [
        "# ez lesz az illesztendő függvény\n",
        "def poly5(x,a0,a1,a2,a3,a4,a5):\n",
        "    return a0+a1*x+a2*x**2+a3*x**3+a4*x**4+a5*x**5"
      ],
      "execution_count": 0,
      "outputs": []
    },
    {
      "cell_type": "markdown",
      "metadata": {
        "id": "Sx28uckHQrG1",
        "colab_type": "text"
      },
      "source": [
        "Az illesztés során hat darab illesztési paramétert határozunk meg: $a_0,a_1,a_2,a_3,a_4,a_5$ ám ezeket az illesztő program egy listába rendezve adja a kezünkbe:"
      ]
    },
    {
      "cell_type": "code",
      "metadata": {
        "collapsed": true,
        "id": "bdAdaH1lQrG2",
        "colab_type": "code",
        "colab": {}
      },
      "source": [
        "# ezek az illesztés során meghatározott paraméterek\n",
        "# az alábbi sorrendnek megfelelően\n",
        "# params=[a0,a1,a2,a3,a4,a5]\n",
        "params=[ 2.27171539, -1.1368942 ,  0.65380304, -0.25005187, -0.1751268 , -0.48828309];"
      ],
      "execution_count": 0,
      "outputs": []
    },
    {
      "cell_type": "markdown",
      "metadata": {
        "id": "CQkhzcyoQrG6",
        "colab_type": "text"
      },
      "source": [
        "Ha ki szeretnénk értékelni az illesztett polinomot az $x=0.3$ helyen, akkor azt megtehetjük az alábbi módon:"
      ]
    },
    {
      "cell_type": "code",
      "metadata": {
        "id": "Wm3dWnlsQrG6",
        "colab_type": "code",
        "colab": {},
        "outputId": "91a88f06-b32f-4c7a-d153-d10c7f3109f1"
      },
      "source": [
        "poly5(0.3,params[0],params[1],params[2],params[3],params[4],params[5])"
      ],
      "execution_count": 0,
      "outputs": [
        {
          "output_type": "execute_result",
          "data": {
            "text/plain": [
              "1.9801329481213"
            ]
          },
          "metadata": {
            "tags": []
          },
          "execution_count": 24
        }
      ]
    },
    {
      "cell_type": "markdown",
      "metadata": {
        "id": "mOp_Qqh2QrG9",
        "colab_type": "text"
      },
      "source": [
        "vagy az ennél sokkal kompaktabb módszerrel:"
      ]
    },
    {
      "cell_type": "code",
      "metadata": {
        "id": "rc6ymyEDQrG-",
        "colab_type": "code",
        "colab": {},
        "outputId": "383c2a18-82eb-490b-c1b8-d27dc8a76b44"
      },
      "source": [
        "poly5(0.3,*params)"
      ],
      "execution_count": 0,
      "outputs": [
        {
          "output_type": "execute_result",
          "data": {
            "text/plain": [
              "1.9801329481213"
            ]
          },
          "metadata": {
            "tags": []
          },
          "execution_count": 25
        }
      ]
    },
    {
      "cell_type": "markdown",
      "metadata": {
        "id": "lFpdnn8JQrHC",
        "colab_type": "text"
      },
      "source": [
        "Ez a konstrukció lehetővé teszi, hogy a függvény definiálása során felkészísük a függvényt arra, hogy a bemenő\n",
        "paraméterek száma ne legyen rögzített. Ha a függvény deklaráció során egy paraméter elé **\\***-t teszünk akkor az a paraméter tetszőleges hosszúságú lehet! Vizsgáljuk meg az alábbi példát:"
      ]
    },
    {
      "cell_type": "code",
      "metadata": {
        "collapsed": true,
        "id": "SWGPnTBiQrHC",
        "colab_type": "code",
        "colab": {}
      },
      "source": [
        "def adok_mit_kapok(*argv):                                            #Így, a *-al, készítünk fel egy függvényt \n",
        "                                                                      #válltozó számú paraméter fogadására\n",
        "    print(\"Nekem \",len(argv),\"db bemenő paraméterem jött\")\n",
        "    for arg in argv:\n",
        "        print (\"Ez egy paraméter :\", arg)\n",
        "    return argv[-1]                                                 #a bemenő paraméterek elemeire mint \n",
        "                                                                    #szokványos lista elemekre hivatkozunk"
      ],
      "execution_count": 0,
      "outputs": []
    },
    {
      "cell_type": "markdown",
      "metadata": {
        "id": "ebaCpg0eQrHF",
        "colab_type": "text"
      },
      "source": [
        "A fenti blokkban definiált függvény tetszőleges számú bemenő paramétert elfogad! A futás során közli, hogy hány paraméter érkezett, kiírja azokat, illetve a paraméterlista utolsó tagját mint a függvény vissza térési értékét állítja be."
      ]
    },
    {
      "cell_type": "code",
      "metadata": {
        "id": "hMRdSNEOQrHF",
        "colab_type": "code",
        "colab": {},
        "outputId": "a75c81a0-1ac6-4537-f348-926ca6089df5"
      },
      "source": [
        "adok_mit_kapok('Gáspár','Menyhért','Boldizsár')"
      ],
      "execution_count": 0,
      "outputs": [
        {
          "output_type": "stream",
          "text": [
            "Nekem  3 db bemenő paraméterem jött\n",
            "Ez egy paraméter : Gáspár\n",
            "Ez egy paraméter : Menyhért\n",
            "Ez egy paraméter : Boldizsár\n"
          ],
          "name": "stdout"
        },
        {
          "output_type": "execute_result",
          "data": {
            "text/plain": [
              "'Boldizsár'"
            ]
          },
          "metadata": {
            "tags": []
          },
          "execution_count": 27
        }
      ]
    },
    {
      "cell_type": "markdown",
      "metadata": {
        "id": "ziSaqqrPQrHH",
        "colab_type": "text"
      },
      "source": [
        "Természetesen a tetszőleges paraméter helyett egy \"kicsomagolt\" tetszőleges hosszúságú listát is használhatunk!"
      ]
    },
    {
      "cell_type": "code",
      "metadata": {
        "id": "Bs__r8NvQrHI",
        "colab_type": "code",
        "colab": {},
        "outputId": "1b52709f-2261-498a-bc8e-a57a8c55e517"
      },
      "source": [
        "adok_mit_kapok(*params) #természetesen itt is működik a kicsomagolás.."
      ],
      "execution_count": 0,
      "outputs": [
        {
          "output_type": "stream",
          "text": [
            "Nekem  6 db bemenő paraméterem jött\n",
            "Ez egy paraméter : 2.27171539\n",
            "Ez egy paraméter : -1.1368942\n",
            "Ez egy paraméter : 0.65380304\n",
            "Ez egy paraméter : -0.25005187\n",
            "Ez egy paraméter : -0.1751268\n",
            "Ez egy paraméter : -0.48828309\n"
          ],
          "name": "stdout"
        },
        {
          "output_type": "execute_result",
          "data": {
            "text/plain": [
              "-0.48828309"
            ]
          },
          "metadata": {
            "tags": []
          },
          "execution_count": 28
        }
      ]
    },
    {
      "cell_type": "markdown",
      "metadata": {
        "id": "uQPgOkQfQrHL",
        "colab_type": "text"
      },
      "source": [
        "## Függvények kulcsszavakkal"
      ]
    },
    {
      "cell_type": "markdown",
      "metadata": {
        "id": "gmdO3s4zQrHM",
        "colab_type": "text"
      },
      "source": [
        "Azon kívül, hogy a szótárak már önmagukban is igen hasznos adatstruktúrák, később látni fogjuk, hogy sokszor függvények bizonyos paramétereit is szokás szótárakba szedni. Az ilyen paramétereket szokás kulcsszavas változóknak vagy kulcsszavas argumentumnak (angol nyelven keyword argument) hívni. Ezek használata olvashatóbbá és emberi szemmel is jóval értelmezhetőbbé teszi a programot, ezenfelül további flexibilitást is ad a programozó kezébe. \n",
        "Nézzük ezt meg az alábbi példán:"
      ]
    },
    {
      "cell_type": "code",
      "metadata": {
        "collapsed": true,
        "id": "7Igsk2CsQrHM",
        "colab_type": "code",
        "colab": {}
      },
      "source": [
        "#Így adunk meg alapértelmezett értékeket\n",
        "def students(ido, allapot='lelkesen figyelik a tanárt', tevekenyseg='kísérletezés', ora='fizika'):\n",
        "    print(\"Ezek a diákok \"+ora+\"órán \"+tevekenyseg+\" közben mindig \"+allapot+\"!\");\n",
        "    print(\"Még akkor is, ha épp \",ido,\"-t mutat az óra!\");"
      ],
      "execution_count": 0,
      "outputs": []
    },
    {
      "cell_type": "markdown",
      "metadata": {
        "id": "za3bZMLGQrHO",
        "colab_type": "text"
      },
      "source": [
        "A függvény első paraméterét meg kell adnunk, ha nem adunk többet, akkor az alapértelmezett értékek ugranak be:"
      ]
    },
    {
      "cell_type": "code",
      "metadata": {
        "id": "lUHsAhPpQrHQ",
        "colab_type": "code",
        "colab": {},
        "outputId": "f79c4b88-5039-4d4b-869b-752e369a8266"
      },
      "source": [
        "students('17:00') "
      ],
      "execution_count": 0,
      "outputs": [
        {
          "output_type": "stream",
          "text": [
            "Ezek a diákok fizikaórán kísérletezés közben mindig lelkesen figyelik a tanárt!\n",
            "Még akkor is, ha épp  17:00 -t mutat az óra!\n"
          ],
          "name": "stdout"
        }
      ]
    },
    {
      "cell_type": "markdown",
      "metadata": {
        "id": "tf4RzJ0mQrHS",
        "colab_type": "text"
      },
      "source": [
        "Ha egy kulcsszavas argumentumot kap a függvény, akkor azt értelemszerűen használja:"
      ]
    },
    {
      "cell_type": "code",
      "metadata": {
        "id": "ag5OeVEkQrHV",
        "colab_type": "code",
        "colab": {},
        "outputId": "6a5b87a1-d8f8-4de2-e601-6f4ad5642e6f"
      },
      "source": [
        "students('8:00',allapot='unott képet vágnak')"
      ],
      "execution_count": 0,
      "outputs": [
        {
          "output_type": "stream",
          "text": [
            "Ezek a diákok fizikaórán kísérletezés közben mindig unott képet vágnak!\n",
            "Még akkor is, ha épp  8:00 -t mutat az óra!\n"
          ],
          "name": "stdout"
        }
      ]
    },
    {
      "cell_type": "markdown",
      "metadata": {
        "id": "cvRandQeQrHb",
        "colab_type": "text"
      },
      "source": [
        "A kulcsszavas argumentumok sorrendjére nem kell figyelni:"
      ]
    },
    {
      "cell_type": "code",
      "metadata": {
        "id": "U05c-DDjQrHc",
        "colab_type": "code",
        "colab": {},
        "outputId": "ca772333-136e-401a-a3eb-d1edda799c80"
      },
      "source": [
        "students('8:00',ora='ógörög',allapot='pánikolva izzadnak',tevekenyseg='TÉMAZÁRÓ')"
      ],
      "execution_count": 0,
      "outputs": [
        {
          "output_type": "stream",
          "text": [
            "Ezek a diákok ógörögórán TÉMAZÁRÓ közben mindig pánikolva izzadnak!\n",
            "Még akkor is, ha épp  8:00 -t mutat az óra!\n"
          ],
          "name": "stdout"
        }
      ]
    },
    {
      "cell_type": "markdown",
      "metadata": {
        "id": "HjI8wjmXQrHe",
        "colab_type": "text"
      },
      "source": [
        "Ha a deklaráció során nem használt kulcsszót adunk meg, akkor hibát kapunk:"
      ]
    },
    {
      "cell_type": "code",
      "metadata": {
        "id": "dEw-ScAJQrHf",
        "colab_type": "code",
        "colab": {},
        "outputId": "e9c8ea0e-39c0-4029-d3d9-c10108b69b61"
      },
      "source": [
        "students('17:00',tanar='Mici néni')"
      ],
      "execution_count": 0,
      "outputs": [
        {
          "output_type": "error",
          "ename": "TypeError",
          "evalue": "students() got an unexpected keyword argument 'tanar'",
          "traceback": [
            "\u001b[0;31m---------------------------------------------------------------------------\u001b[0m",
            "\u001b[0;31mTypeError\u001b[0m                                 Traceback (most recent call last)",
            "\u001b[0;32m<ipython-input-33-7769c15fcb73>\u001b[0m in \u001b[0;36m<module>\u001b[0;34m()\u001b[0m\n\u001b[0;32m----> 1\u001b[0;31m \u001b[0mstudents\u001b[0m\u001b[0;34m(\u001b[0m\u001b[0;34m'17:00'\u001b[0m\u001b[0;34m,\u001b[0m\u001b[0mtanar\u001b[0m\u001b[0;34m=\u001b[0m\u001b[0;34m'Mici néni'\u001b[0m\u001b[0;34m)\u001b[0m\u001b[0;34m\u001b[0m\u001b[0m\n\u001b[0m",
            "\u001b[0;31mTypeError\u001b[0m: students() got an unexpected keyword argument 'tanar'"
          ]
        }
      ]
    },
    {
      "cell_type": "markdown",
      "metadata": {
        "id": "7x8OEMnIQrHh",
        "colab_type": "text"
      },
      "source": [
        "Hasonlóan problémába ütközünk, ha egy kulcsszót kétszer is alkalmazunk:"
      ]
    },
    {
      "cell_type": "code",
      "metadata": {
        "id": "Eb0Ug6NyQrHh",
        "colab_type": "code",
        "colab": {},
        "outputId": "488ee324-2ada-45cc-e33a-6b8f8e0e8ff2"
      },
      "source": [
        "students('8:00',ora='ógörög',ora='kémia')"
      ],
      "execution_count": 0,
      "outputs": [
        {
          "output_type": "error",
          "ename": "SyntaxError",
          "evalue": "keyword argument repeated (<ipython-input-34-f0bd085991b6>, line 1)",
          "traceback": [
            "\u001b[0;36m  File \u001b[0;32m\"<ipython-input-34-f0bd085991b6>\"\u001b[0;36m, line \u001b[0;32m1\u001b[0m\n\u001b[0;31m    students('8:00',ora='ógörög',ora='kémia')\u001b[0m\n\u001b[0m                                   ^\u001b[0m\n\u001b[0;31mSyntaxError\u001b[0m\u001b[0;31m:\u001b[0m keyword argument repeated\n"
          ]
        }
      ]
    },
    {
      "cell_type": "markdown",
      "metadata": {
        "id": "2_E_4i-8QrHj",
        "colab_type": "text"
      },
      "source": [
        "Kulcsszavas argumentumok szótárának kicsomagolása \\*\\*-jel segítségével történik:"
      ]
    },
    {
      "cell_type": "code",
      "metadata": {
        "id": "1ItkMzmpQrHk",
        "colab_type": "code",
        "colab": {},
        "outputId": "fa302bf3-ad9b-40b5-ebb7-fe8674533750"
      },
      "source": [
        "diak_hozzaallas={'ora':'ének','allapot':'nyüszítenek'};\n",
        "students(12,**diak_hozzaallas)"
      ],
      "execution_count": 0,
      "outputs": [
        {
          "output_type": "stream",
          "text": [
            "Ezek a diákok énekórán kísérletezés közben mindig nyüszítenek!\n",
            "Még akkor is, ha épp  12 -t mutat az óra!\n"
          ],
          "name": "stdout"
        }
      ]
    },
    {
      "cell_type": "markdown",
      "metadata": {
        "id": "gwG734RnQrHn",
        "colab_type": "text"
      },
      "source": [
        "Amint a sima paramétereknél is, itt is előfordulhat az, hogy tetszőleges hosszúságú dict-et szeretnénk feldolgozni. Erre példa, ha egy olyan függvényt írunk, amely esetleg több más fügvényt hív, melyeknek tovább akarjuk adni a bejövő paraméterek egy részét. \n",
        "\n",
        "Az alábbi függvény egy tetszőleges szótárat vár a bemenetre, megnézi hogy milyen hosszú, és ha a szótárban van 'hamburger' címkéjű kulcsszó, akkor annak az értékét adja vissza:"
      ]
    },
    {
      "cell_type": "code",
      "metadata": {
        "collapsed": true,
        "id": "4EwlB7bGQrHn",
        "colab_type": "code",
        "colab": {}
      },
      "source": [
        "def kulcsot_adok_amit_kapok(**szotar):\n",
        "    print('A szotár hossza:',len(szotar))\n",
        "    for kulcs in list(szotar.keys()):\n",
        "        if kulcs=='hamburger':\n",
        "            print('Van hamburger!')\n",
        "            return szotar[kulcs]"
      ],
      "execution_count": 0,
      "outputs": []
    },
    {
      "cell_type": "code",
      "metadata": {
        "id": "j23ftLGIQrHs",
        "colab_type": "code",
        "colab": {},
        "outputId": "1b3699d7-0b91-4a16-b865-28c4ff32ceb2"
      },
      "source": [
        "kulcsot_adok_amit_kapok(makaróni=1,torta='finom') #itt már nem jelent hibát ha előre meg nemhatározott kulcsszavaink vannak!"
      ],
      "execution_count": 0,
      "outputs": [
        {
          "output_type": "stream",
          "text": [
            "A szotár hossza: 2\n"
          ],
          "name": "stdout"
        }
      ]
    },
    {
      "cell_type": "code",
      "metadata": {
        "id": "Sdtk-nU8QrHu",
        "colab_type": "code",
        "colab": {},
        "outputId": "5cd74dfa-b97b-4574-b6e8-4223ba01fd17"
      },
      "source": [
        "kaja={'makaróni':1,'torta':'finom','hamburger':137,'saláta':'nincs'}\n",
        "kulcsot_adok_amit_kapok(**kaja) "
      ],
      "execution_count": 0,
      "outputs": [
        {
          "output_type": "stream",
          "text": [
            "A szotár hossza: 4\n",
            "Van hamburger!\n"
          ],
          "name": "stdout"
        },
        {
          "output_type": "execute_result",
          "data": {
            "text/plain": [
              "137"
            ]
          },
          "metadata": {
            "tags": []
          },
          "execution_count": 38
        }
      ]
    },
    {
      "cell_type": "markdown",
      "metadata": {
        "id": "5nlrZaVrQrHx",
        "colab_type": "text"
      },
      "source": [
        "## Általános függvénydeklarációs szokások"
      ]
    },
    {
      "cell_type": "markdown",
      "metadata": {
        "id": "3ExyCopxQrHy",
        "colab_type": "text"
      },
      "source": [
        "Amint azt a fentiekben láttuk, függvényeknek többféleképpen is adhatunk paramétereket, \n",
        "\n",
        "1. változók (ezek lehetnek sima változók, meghatározott hosszúságú listák, vagy akár kulcsszavas változók is)\n",
        "2. előre meg nem határozott hosszúságú változó lista\n",
        "3. kulcsszavas változók tetszőleges hosszú listája\n",
        "\n",
        "Sokszor előfordul, hogy egy függvénynek mind a négy fajta bemenete is lehet. Illetve hogy néhány változónak alapértelmezett értéket is adunk. Függvények definiálásánál használjuk a fenti sorrendet!\n",
        "\n",
        "Például:"
      ]
    },
    {
      "cell_type": "code",
      "metadata": {
        "id": "TCJBNeguQrHz",
        "colab_type": "code",
        "colab": {}
      },
      "source": [
        "def bonyolult_fuggveny(valtozo1,valtozo2,valtozo3='ELZETT',*args,**kwargs):\n",
        "    if ((len(args)==0 and len(kwargs)==0)):\n",
        "        return valtozo3+str(valtozo2)+str(valtozo1)\n",
        "    elif (len(args)!=0 and len(kwargs)==0):\n",
        "        return 'Van valami az args-ban!'\n",
        "    elif (len(args)==0 and len(kwargs)!=0):\n",
        "        return 'Van valami az kwargs-ban!'\n",
        "    else:\n",
        "        return 'Mindenféle változónk van:'+str(valtozo1)+str(valtozo2)+valtozo3+str(args)+str(kwargs)"
      ],
      "execution_count": 0,
      "outputs": []
    },
    {
      "cell_type": "markdown",
      "metadata": {
        "collapsed": true,
        "id": "SYlVSlRMQrH3",
        "colab_type": "text"
      },
      "source": [
        "A fenti függvény első két változója \"sima\" változó, a harmadik egy kulcsszavas változó az alapértelmezett 'ELZETT' értékkel, és ezen kívül megengedünk még egyéb tetszőleges hosszú \"sima\" változók listáját (args), illetve tetszőleges hosszú kulcsszavas változók listáját (kwargs). Nézzük meg hogy a notebook során korábban definiált változókat felhasználva milyen viselkedést mutat a fent deklarált függvény:"
      ]
    },
    {
      "cell_type": "code",
      "metadata": {
        "id": "D29wH2a2QrH4",
        "colab_type": "code",
        "colab": {},
        "outputId": "fd71cd78-831b-4565-a9f8-e1f7567786ad"
      },
      "source": [
        "bonyolult_fuggveny(1,2)"
      ],
      "execution_count": 0,
      "outputs": [
        {
          "output_type": "execute_result",
          "data": {
            "text/plain": [
              "'ELZETT21'"
            ]
          },
          "metadata": {
            "tags": []
          },
          "execution_count": 40
        }
      ]
    },
    {
      "cell_type": "code",
      "metadata": {
        "id": "XyZlcYh2QrH6",
        "colab_type": "code",
        "colab": {},
        "outputId": "7127116d-936e-4d3d-edf5-4e41f19b775b"
      },
      "source": [
        "bonyolult_fuggveny(1,2,valtozo3='MULTLOCK')"
      ],
      "execution_count": 0,
      "outputs": [
        {
          "output_type": "execute_result",
          "data": {
            "text/plain": [
              "'MULTLOCK21'"
            ]
          },
          "metadata": {
            "tags": []
          },
          "execution_count": 41
        }
      ]
    },
    {
      "cell_type": "code",
      "metadata": {
        "id": "HuWOy5UKQrH8",
        "colab_type": "code",
        "colab": {},
        "outputId": "569abb50-53ed-4259-9253-e3acbe63da00"
      },
      "source": [
        "bonyolult_fuggveny(1,2,*days_of_the_week)"
      ],
      "execution_count": 0,
      "outputs": [
        {
          "output_type": "execute_result",
          "data": {
            "text/plain": [
              "'Van valami az args-ban!'"
            ]
          },
          "metadata": {
            "tags": []
          },
          "execution_count": 42
        }
      ]
    },
    {
      "cell_type": "code",
      "metadata": {
        "id": "wBhs4h6WQrH-",
        "colab_type": "code",
        "colab": {},
        "outputId": "4303facc-b1ca-4bf4-8a65-de13995d92d7"
      },
      "source": [
        "bonyolult_fuggveny(1,2,**kaja)"
      ],
      "execution_count": 0,
      "outputs": [
        {
          "output_type": "execute_result",
          "data": {
            "text/plain": [
              "'Van valami az kwargs-ban!'"
            ]
          },
          "metadata": {
            "tags": []
          },
          "execution_count": 43
        }
      ]
    },
    {
      "cell_type": "code",
      "metadata": {
        "id": "TMu1ZFlbQrIA",
        "colab_type": "code",
        "colab": {},
        "outputId": "49147dfe-6024-4183-d3a7-7dd17609d552"
      },
      "source": [
        "bonyolult_fuggveny(1,2,*days_of_the_week,**kaja)"
      ],
      "execution_count": 0,
      "outputs": [
        {
          "output_type": "execute_result",
          "data": {
            "text/plain": [
              "\"Mindenféle változónk van:12Sunday('Monday', 'Tuesday', 'Wednesday', 'Thursday', 'Friday', 'Saturday'){'torta': 'finom', 'hamburger': 137, 'makaróni': 1, 'saláta': 'nincs'}\""
            ]
          },
          "metadata": {
            "tags": []
          },
          "execution_count": 44
        }
      ]
    },
    {
      "cell_type": "markdown",
      "metadata": {
        "id": "dB79OWLkQrID",
        "colab_type": "text"
      },
      "source": [
        "## A [Lambda](http://www.secnetix.de/olli/Python/lambda_functions.hawk)-formák ☠\n",
        "\n",
        "Egy függvénynek nemcsak változókat, hanem más függvényeket is megadhatunk bemenetként. Például gondolhatunk egy olyan függvényre, ami egy matematikai függvényt ábrázol! \n",
        "Ilyen esetekben, amikor egy függvény a bemenetére másik függvényt vár, sokszor előfordul, hogy hosszadalmas külön definiálni a bemeneti függvényt. Ekkor tömörebb használni az úgynevezett `lambda`-formákat.\n",
        "Nézzünk erre egy példát! Definiáljunk egy függvényt, ami egy másik függvényt értékel ki egy adott helyen, kiírja a kiértékelési helyet, és visszatér a kiértékelt függvényértékkel:"
      ]
    },
    {
      "cell_type": "code",
      "metadata": {
        "collapsed": true,
        "id": "OzKmJ6XiQrIE",
        "colab_type": "code",
        "colab": {}
      },
      "source": [
        "def funfun(g,x):\n",
        "    print('Ez volt az x változó: ',x)\n",
        "    return g(x)"
      ],
      "execution_count": 0,
      "outputs": []
    },
    {
      "cell_type": "code",
      "metadata": {
        "id": "H3WGYPSuQrIF",
        "colab_type": "code",
        "colab": {},
        "outputId": "3088e64e-7d60-4cce-afc0-fc5d9d5de73c"
      },
      "source": [
        "def fx(x):\n",
        "    return x**2-1/x;\n",
        "funfun(fx,0.1)"
      ],
      "execution_count": 0,
      "outputs": [
        {
          "output_type": "stream",
          "text": [
            "Ez volt az x változó:  0.1\n"
          ],
          "name": "stdout"
        },
        {
          "output_type": "execute_result",
          "data": {
            "text/plain": [
              "-9.99"
            ]
          },
          "metadata": {
            "tags": []
          },
          "execution_count": 46
        }
      ]
    },
    {
      "cell_type": "markdown",
      "metadata": {
        "id": "-kBEt_e8QrIJ",
        "colab_type": "text"
      },
      "source": [
        "Ekkor egy úgynevezett `lambda`-forma segítségével alkalmazhatjuk az ennél kicsivel kompaktabb kifejezést (megúszva a függvénydeklarációt):"
      ]
    },
    {
      "cell_type": "code",
      "metadata": {
        "id": "FktqMst4QrIK",
        "colab_type": "code",
        "colab": {},
        "outputId": "45fe5156-ac0e-40f0-c9f6-442b5649625a"
      },
      "source": [
        "funfun(lambda x:x**2-1/x,0.1)"
      ],
      "execution_count": 0,
      "outputs": [
        {
          "output_type": "stream",
          "text": [
            "Ez volt az x változó:  0.1\n"
          ],
          "name": "stdout"
        },
        {
          "output_type": "execute_result",
          "data": {
            "text/plain": [
              "-9.99"
            ]
          },
          "metadata": {
            "tags": []
          },
          "execution_count": 47
        }
      ]
    },
    {
      "cell_type": "markdown",
      "metadata": {
        "id": "u19Frh6IQrIL",
        "colab_type": "text"
      },
      "source": [
        "A fenti kifejezésben a \n",
        ">```Python\n",
        "lambda x:x**2-1/x\n",
        "```\n",
        "\n",
        "kódrészlet egy \"anonim\" függvényt definiál, amely az $x$ változóhoz hozzárendeli az $x^2-1/x$-et."
      ]
    },
    {
      "cell_type": "markdown",
      "metadata": {
        "id": "4TS_EUHmQrIM",
        "colab_type": "text"
      },
      "source": [
        "A `lambda`-kifejezésekkel lehet többváltozós függvényeket is definiálni. Például az alábbi\n",
        ">```python\n",
        "lambda x,y:x**2-1/y\n",
        "```\n",
        "\n",
        "kifejezés a\n",
        "\n",
        ">```python\n",
        "def fxy(x,y):\n",
        "    return x**2-1/y\n",
        "```\n",
        "\n",
        "függvénnyel ekvivalens."
      ]
    }
  ]
}