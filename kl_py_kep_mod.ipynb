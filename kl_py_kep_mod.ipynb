{
  "nbformat": 4,
  "nbformat_minor": 0,
  "metadata": {
    "kernelspec": {
      "display_name": "Python 3",
      "language": "python",
      "name": "python3"
    },
    "language_info": {
      "codemirror_mode": {
        "name": "ipython",
        "version": 3
      },
      "file_extension": ".py",
      "mimetype": "text/x-python",
      "name": "python",
      "nbconvert_exporter": "python",
      "pygments_lexer": "ipython3",
      "version": "3.7.4"
    },
    "colab": {
      "name": "kl_py_kep_mod.ipynb",
      "provenance": [],
      "collapsed_sections": [],
      "include_colab_link": true
    }
  },
  "cells": [
    {
      "cell_type": "markdown",
      "metadata": {
        "id": "view-in-github",
        "colab_type": "text"
      },
      "source": [
        "<a href=\"https://colab.research.google.com/github/klajosw/python/blob/master/kl_py_kep_mod.ipynb\" target=\"_parent\"><img src=\"https://colab.research.google.com/assets/colab-badge.svg\" alt=\"Open In Colab\"/></a>"
      ]
    },
    {
      "cell_type": "code",
      "metadata": {
        "id": "yM_O3_v4O2Q5",
        "colab_type": "code",
        "colab": {}
      },
      "source": [
        "## Pythonban képek Szűrke konverziója\n",
        "from PIL import Image\n",
        "#img = Image.open(r'c:\\Users\\User\\Documents\\kepek\\allat\\Dsc_8619_mokus.jpg').convert('LA')\n",
        "#img.save(r'c:\\Users\\User\\Documents\\kepek\\allat\\Dsc_8619_mokus_szurke.jpg')\n",
        "\n",
        "\n",
        "## Visszaolvasás\n",
        "img = Image.open(r'c:\\Users\\User\\Documents\\kepek\\allat\\Dsc_8619_mokus.jpg').convert('L')\n",
        "\n",
        "img.save(r'c:\\Users\\User\\Documents\\kepek\\allat\\Dsc_8619_mokus_szurke2.jpg')\n"
      ],
      "execution_count": 0,
      "outputs": []
    },
    {
      "cell_type": "code",
      "metadata": {
        "id": "caxeJTmSO2Q-",
        "colab_type": "code",
        "colab": {},
        "outputId": "3c669df9-dd3f-45d8-cb7d-e9e2763add81"
      },
      "source": [
        "# pythonban nyissunk meg egy képet, forgassuk el, jelenítsük meg, és írjunk ki róla pár dolgot\n",
        "from PIL import Image, TiffImagePlugin, TiffTags\n",
        "import os, sys\n",
        "import glob\n",
        "\n",
        "im = Image.open(r\"c:\\Users\\User\\Documents\\kepek\\allat\\Dsc_8619_mokus_szurke2.jpg\") ## kép megnyítása\n",
        "#im.rotate(45).show()                                ## elforgatás és megjelenítése\n",
        "#im.transpose(Image.FLIP_LEFT_RIGHT).show() \n",
        "im.transpose(Image.FLIP_TOP_BOTTOM).show()  # megfordít\n",
        "#im.transpose(Image.ROTATE_90)\n",
        "#im.transpose(Image.ROTATE_180)\n",
        "#im.transpose(Image.ROTATE_270)\n",
        "print (im.format, im.size, im.mode)                 ## kép info kiírás\n",
        "print (im.size[0])\n",
        "print('\\n----------------------------\\n)')\n",
        "\n",
        "# munka könyvtár beállítása a képek könyvtárra\n",
        "os.chdir(r\"c:\\Users\\User\\Documents\\kepek\\allat\")\n",
        "for infile in glob.glob(\"*.jpg\"):\n",
        "    file, ext = os.path.splitext(infile)\n",
        "    try:\n",
        "      im = Image.open(infile)\n",
        "      if im.size[0] > 200 :  ## kis eredeti meretű képről ne készüljön kiskép\n",
        "        im.thumbnail((128, 128), Image.ANTIALIAS)\n",
        "        im.save(file + \"_thumbnail.jpg\", \"JPEG\")\n",
        "        print ('Kiskép elkészült : ', infile,' ->', im.size, im.mode ) \n",
        "    except IOError:\n",
        "        print (\"Nem készült kiskép : \", infile,' ->', im.size, im.mode )  \n",
        "\n",
        "im = Image.open(r\"c:\\Users\\User\\Documents\\kepek\\allat\\Dsc_8619_mokus_szurke2.jpg\")\n",
        "croppedIm = im.crop((335, 345, 565, 560))  ## terület kimetszés\n",
        "croppedIm.show()\n",
        "croppedIm.save(r\"c:\\Users\\User\\Documents\\kepek\\allat\\Dsc_8619_mokus_szurke2_cropped.jpg\")\n"
      ],
      "execution_count": 0,
      "outputs": [
        {
          "output_type": "stream",
          "text": [
            "JPEG (3008, 2000) L\n",
            "3008\n",
            "\n",
            "----------------------------\n",
            ")\n",
            "Kiskép elkészült :  Dsc_8579_roka.jpg  -> (128, 85) RGB\n",
            "Kiskép elkészült :  Dsc_8596_mokus.jpg  -> (128, 85) RGB\n",
            "Kiskép elkészült :  Dsc_8601_mokus.jpg  -> (128, 85) RGB\n",
            "Kiskép elkészült :  Dsc_8619_mokus.jpg  -> (128, 85) RGB\n",
            "Kiskép elkészült :  Dsc_8619_mokus_szurke2.jpg  -> (128, 85) L\n",
            "Kiskép elkészült :  Dsc_8619_mokus_szurke2_cropped.jpg  -> (128, 119) L\n"
          ],
          "name": "stdout"
        }
      ]
    },
    {
      "cell_type": "code",
      "metadata": {
        "id": "kVwqODi1O2RC",
        "colab_type": "code",
        "colab": {},
        "outputId": "e48c0cba-70c5-4ecc-c3c0-b331e06accf9"
      },
      "source": [
        "## játek a könyvtárakkal\n",
        "import os, sys\n",
        "\n",
        "print(\"Jelenlegi munka könyvtár1 \" , os.getcwd())  ## munkakönyvtár kiírása\n",
        "os.chdir(r\"c:\\Users\\User\\Documents\\kepek\\allat\")   ## munkakönyvtár beállítása\n",
        "print(\"Jelenlegi munka könyvtár2 \" , os.getcwd())  ## munkakönyvtár kiírása"
      ],
      "execution_count": 0,
      "outputs": [
        {
          "output_type": "stream",
          "text": [
            "Jelenlegi munka könyvtár1  c:\\Users\\User\\Documents\\kepek\\allat\n",
            "Jelenlegi munka könyvtár2  c:\\Users\\User\\Documents\\kepek\\allat\n"
          ],
          "name": "stdout"
        }
      ]
    },
    {
      "cell_type": "code",
      "metadata": {
        "id": "gzTsDocIO2RE",
        "colab_type": "code",
        "colab": {}
      },
      "source": [
        "## Python rajz készítés és lementése jpg filebe\n",
        "from PIL import Image, ImageDraw\n",
        "import os, sys\n",
        "\n",
        "os.chdir(r\"c:\\Users\\User\\Documents\\kepek\\allat\") \n",
        "im = Image.new('RGBA', (200, 200), 'white')\n",
        "draw = ImageDraw.Draw(im)\n",
        "draw.line([(0, 0), (199, 0), (199, 199), (0, 199), (0, 0)], fill='black')\n",
        "draw.rectangle((20, 30, 60, 60), fill='blue')\n",
        "draw.ellipse((120, 30, 160, 60), fill='red')\n",
        "draw.polygon(((57, 87), (79, 62), (94, 85), (120, 90), (103, 113)),\n",
        "fill='pink')\n",
        "for i in range(100, 200, 10):\n",
        "    draw.line([(i, 0), (200, i - 100)], fill='blue')\n",
        "im.save('python_rajz.png')\n"
      ],
      "execution_count": 0,
      "outputs": []
    },
    {
      "cell_type": "code",
      "metadata": {
        "id": "c8_Jl6oKO2RG",
        "colab_type": "code",
        "colab": {}
      },
      "source": [
        "## Pythonban szoveg képállományba írása\n",
        "from PIL import Image, ImageDraw, ImageFont\n",
        "import os\n",
        "\n",
        "os.chdir(r\"c:\\Users\\User\\Documents\\kepek\\allat\") \n",
        "im = Image.new('RGBA', (200, 200), 'white')\n",
        "draw = ImageDraw.Draw(im)\n",
        "draw.text((20, 150), 'Üdvözöllek ', fill='purple')\n",
        "fontsFolder = r'c:\\Windows\\Fonts' # e.g. 'Library/Fonts'\n",
        "arialFont = ImageFont.truetype(os.path.join(fontsFolder, 'arial.ttf'), 32)\n",
        "draw.text((100, 150), 'Lajos', fill='red', font=arialFont)\n",
        "im.save('text_kepbe.png')"
      ],
      "execution_count": 0,
      "outputs": []
    },
    {
      "cell_type": "code",
      "metadata": {
        "id": "7le9jJtjO2RI",
        "colab_type": "code",
        "colab": {}
      },
      "source": [
        "##logos kép készítése\n",
        "from PIL import Image\n",
        "import os\n",
        "\n",
        "os.chdir(r\"c:\\Users\\User\\Documents\\kepek\\allat\") \n",
        "filename=r\"c:\\Users\\User\\Documents\\kepek\\allat\\Dsc_8619_mokus_szurke2.jpg\"\n",
        "logofilename=r\"c:\\Users\\User\\Documents\\kepek\\allat\\python_rajz2.png\"\n",
        "im = Image.open(filename)\n",
        "width, height = im.size\n",
        "logoIm = Image.open(logofilename)\n",
        "logoWidth, logoHeight = im.size\n",
        "im.paste(logoIm, (width - logoWidth, height - logoHeight), logoIm)\n",
        "\n",
        "# módosítások mentése\n",
        "#im.save(os.path.join(\"logo', filename))\n",
        "im.save(r\"c:\\Users\\User\\Documents\\kepek\\allat\\Dsc_8619_mokus_szurke2_logo.jpg\")"
      ],
      "execution_count": 0,
      "outputs": []
    },
    {
      "cell_type": "code",
      "metadata": {
        "id": "-8XU4bBFO2RJ",
        "colab_type": "code",
        "colab": {}
      },
      "source": [
        ""
      ],
      "execution_count": 0,
      "outputs": []
    }
  ]
}