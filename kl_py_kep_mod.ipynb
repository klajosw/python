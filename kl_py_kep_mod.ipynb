{
  "nbformat": 4,
  "nbformat_minor": 0,
  "metadata": {
    "kernelspec": {
      "display_name": "Python 3",
      "language": "python",
      "name": "python3"
    },
    "language_info": {
      "codemirror_mode": {
        "name": "ipython",
        "version": 3
      },
      "file_extension": ".py",
      "mimetype": "text/x-python",
      "name": "python",
      "nbconvert_exporter": "python",
      "pygments_lexer": "ipython3",
      "version": "3.7.4"
    },
    "colab": {
      "name": "kl_py_kep_mod.ipynb",
      "provenance": [],
      "collapsed_sections": [],
      "include_colab_link": true
    }
  },
  "cells": [
    {
      "cell_type": "markdown",
      "metadata": {
        "id": "view-in-github",
        "colab_type": "text"
      },
      "source": [
        "<a href=\"https://colab.research.google.com/github/klajosw/python/blob/master/kl_py_kep_mod.ipynb\" target=\"_parent\"><img src=\"https://colab.research.google.com/assets/colab-badge.svg\" alt=\"Open In Colab\"/></a>"
      ]
    },
    {
      "cell_type": "markdown",
      "metadata": {
        "id": "0dqMhvuiUwQh",
        "colab_type": "text"
      },
      "source": [
        "## Pythonban képek Szűrke konverziója\n"
      ]
    },
    {
      "cell_type": "code",
      "metadata": {
        "id": "yM_O3_v4O2Q5",
        "colab_type": "code",
        "colab": {}
      },
      "source": [
        "## Pythonban képek Szűrke konverziója\n",
        "from PIL import Image\n",
        "#img = Image.open(r'c:\\Users\\User\\Documents\\kepek\\allat\\Dsc_8619_mokus.jpg').convert('LA')\n",
        "#img.save(r'c:\\Users\\User\\Documents\\kepek\\allat\\Dsc_8619_mokus_szurke.jpg')\n",
        "\n",
        "\n",
        "## Visszaolvasás\n",
        "img = Image.open(r'c:\\Users\\User\\Documents\\kepek\\allat\\Dsc_8619_mokus.jpg').convert('L')\n",
        "\n",
        "img.save(r'c:\\Users\\User\\Documents\\kepek\\allat\\Dsc_8619_mokus_szurke2.jpg')\n"
      ],
      "execution_count": 0,
      "outputs": []
    },
    {
      "cell_type": "markdown",
      "metadata": {
        "id": "Jdnt1QPuU0zE",
        "colab_type": "text"
      },
      "source": [
        "## pythonban nyissunk meg egy képet, forgassuk el, jelenítsük meg, és írjunk ki róla pár dolgot"
      ]
    },
    {
      "cell_type": "code",
      "metadata": {
        "id": "caxeJTmSO2Q-",
        "colab_type": "code",
        "outputId": "3c669df9-dd3f-45d8-cb7d-e9e2763add81",
        "colab": {}
      },
      "source": [
        "## pythonban nyissunk meg egy képet, forgassuk el, jelenítsük meg, és írjunk ki róla pár dolgot\n",
        "from PIL import Image, TiffImagePlugin, TiffTags\n",
        "import os, sys\n",
        "import glob\n",
        "\n",
        "im = Image.open(r\"c:\\Users\\User\\Documents\\kepek\\allat\\Dsc_8619_mokus_szurke2.jpg\") ## kép megnyítása\n",
        "#im.rotate(45).show()                                ## elforgatás és megjelenítése\n",
        "#im.transpose(Image.FLIP_LEFT_RIGHT).show() \n",
        "im.transpose(Image.FLIP_TOP_BOTTOM).show()  # megfordít\n",
        "#im.transpose(Image.ROTATE_90)\n",
        "#im.transpose(Image.ROTATE_180)\n",
        "#im.transpose(Image.ROTATE_270)\n",
        "print (im.format, im.size, im.mode)                 ## kép info kiírás\n",
        "print (im.size[0])\n",
        "print('\\n----------------------------\\n)')\n",
        "\n",
        "# munka könyvtár beállítása a képek könyvtárra\n",
        "os.chdir(r\"c:\\Users\\User\\Documents\\kepek\\allat\")\n",
        "for infile in glob.glob(\"*.jpg\"):\n",
        "    file, ext = os.path.splitext(infile)\n",
        "    try:\n",
        "      im = Image.open(infile)\n",
        "      if im.size[0] > 200 :  ## kis eredeti meretű képről ne készüljön kiskép\n",
        "        im.thumbnail((128, 128), Image.ANTIALIAS)\n",
        "        im.save(file + \"_thumbnail.jpg\", \"JPEG\")\n",
        "        print ('Kiskép elkészült : ', infile,' ->', im.size, im.mode ) \n",
        "    except IOError:\n",
        "        print (\"Nem készült kiskép : \", infile,' ->', im.size, im.mode )  \n",
        "\n",
        "im = Image.open(r\"c:\\Users\\User\\Documents\\kepek\\allat\\Dsc_8619_mokus_szurke2.jpg\")\n",
        "croppedIm = im.crop((335, 345, 565, 560))  ## terület kimetszés\n",
        "croppedIm.show()\n",
        "croppedIm.save(r\"c:\\Users\\User\\Documents\\kepek\\allat\\Dsc_8619_mokus_szurke2_cropped.jpg\")\n"
      ],
      "execution_count": 0,
      "outputs": [
        {
          "output_type": "stream",
          "text": [
            "JPEG (3008, 2000) L\n",
            "3008\n",
            "\n",
            "----------------------------\n",
            ")\n",
            "Kiskép elkészült :  Dsc_8579_roka.jpg  -> (128, 85) RGB\n",
            "Kiskép elkészült :  Dsc_8596_mokus.jpg  -> (128, 85) RGB\n",
            "Kiskép elkészült :  Dsc_8601_mokus.jpg  -> (128, 85) RGB\n",
            "Kiskép elkészült :  Dsc_8619_mokus.jpg  -> (128, 85) RGB\n",
            "Kiskép elkészült :  Dsc_8619_mokus_szurke2.jpg  -> (128, 85) L\n",
            "Kiskép elkészült :  Dsc_8619_mokus_szurke2_cropped.jpg  -> (128, 119) L\n"
          ],
          "name": "stdout"
        }
      ]
    },
    {
      "cell_type": "markdown",
      "metadata": {
        "id": "J5Kk9zpCVDeb",
        "colab_type": "text"
      },
      "source": [
        "## Könyvtár végilolvasásához alapok (játek a könyvtárakkal)"
      ]
    },
    {
      "cell_type": "code",
      "metadata": {
        "id": "kVwqODi1O2RC",
        "colab_type": "code",
        "outputId": "e48c0cba-70c5-4ecc-c3c0-b331e06accf9",
        "colab": {}
      },
      "source": [
        "## Könyvtár végilolvasásához alapok (játek a könyvtárakkal)\n",
        "import os, sys\n",
        "\n",
        "print(\"Jelenlegi munka könyvtár1 \" , os.getcwd())  ## munkakönyvtár kiírása\n",
        "os.chdir(r\"c:\\Users\\User\\Documents\\kepek\\allat\")   ## munkakönyvtár beállítása\n",
        "print(\"Jelenlegi munka könyvtár2 \" , os.getcwd())  ## munkakönyvtár kiírása"
      ],
      "execution_count": 0,
      "outputs": [
        {
          "output_type": "stream",
          "text": [
            "Jelenlegi munka könyvtár1  c:\\Users\\User\\Documents\\kepek\\allat\n",
            "Jelenlegi munka könyvtár2  c:\\Users\\User\\Documents\\kepek\\allat\n"
          ],
          "name": "stdout"
        }
      ]
    },
    {
      "cell_type": "markdown",
      "metadata": {
        "id": "wYXRLTSfVGh3",
        "colab_type": "text"
      },
      "source": [
        "## Python rajz készítés és lementése jpg filebe"
      ]
    },
    {
      "cell_type": "code",
      "metadata": {
        "id": "gzTsDocIO2RE",
        "colab_type": "code",
        "colab": {}
      },
      "source": [
        "## Python rajz készítés és lementése jpg filebe\n",
        "from PIL import Image, ImageDraw\n",
        "import os, sys\n",
        "\n",
        "os.chdir(r\"c:\\Users\\User\\Documents\\kepek\\allat\") \n",
        "im = Image.new('RGBA', (200, 200), 'white')\n",
        "draw = ImageDraw.Draw(im)\n",
        "draw.line([(0, 0), (199, 0), (199, 199), (0, 199), (0, 0)], fill='black')\n",
        "draw.rectangle((20, 30, 60, 60), fill='blue')\n",
        "draw.ellipse((120, 30, 160, 60), fill='red')\n",
        "draw.polygon(((57, 87), (79, 62), (94, 85), (120, 90), (103, 113)),\n",
        "fill='pink')\n",
        "for i in range(100, 200, 10):\n",
        "    draw.line([(i, 0), (200, i - 100)], fill='blue')\n",
        "im.save('python_rajz.png')\n"
      ],
      "execution_count": 0,
      "outputs": []
    },
    {
      "cell_type": "code",
      "metadata": {
        "id": "c8_Jl6oKO2RG",
        "colab_type": "code",
        "colab": {}
      },
      "source": [
        "## Pythonban szoveg képállományba írása\n",
        "from PIL import Image, ImageDraw, ImageFont\n",
        "import os\n",
        "\n",
        "os.chdir(r\"c:\\Users\\User\\Documents\\kepek\\allat\") \n",
        "im = Image.new('RGBA', (200, 200), 'white')\n",
        "draw = ImageDraw.Draw(im)\n",
        "draw.text((20, 150), 'Üdvözöllek ', fill='purple')\n",
        "fontsFolder = r'c:\\Windows\\Fonts' # e.g. 'Library/Fonts'\n",
        "arialFont = ImageFont.truetype(os.path.join(fontsFolder, 'arial.ttf'), 32)\n",
        "draw.text((100, 150), 'Lajos', fill='red', font=arialFont)\n",
        "im.save('text_kepbe.png')"
      ],
      "execution_count": 0,
      "outputs": []
    },
    {
      "cell_type": "code",
      "metadata": {
        "id": "7le9jJtjO2RI",
        "colab_type": "code",
        "colab": {}
      },
      "source": [
        "##logos kép készítése\n",
        "from PIL import Image\n",
        "import os\n",
        "\n",
        "os.chdir(r\"c:\\Users\\User\\Documents\\kepek\\allat\") \n",
        "filename=r\"c:\\Users\\User\\Documents\\kepek\\allat\\Dsc_8619_mokus_szurke2.jpg\"\n",
        "logofilename=r\"c:\\Users\\User\\Documents\\kepek\\allat\\python_rajz2.png\"\n",
        "im = Image.open(filename)\n",
        "width, height = im.size\n",
        "logoIm = Image.open(logofilename)\n",
        "logoWidth, logoHeight = im.size\n",
        "im.paste(logoIm, (width - logoWidth, height - logoHeight), logoIm)\n",
        "\n",
        "# módosítások mentése\n",
        "#im.save(os.path.join(\"logo', filename))\n",
        "im.save(r\"c:\\Users\\User\\Documents\\kepek\\allat\\Dsc_8619_mokus_szurke2_logo.jpg\")"
      ],
      "execution_count": 0,
      "outputs": []
    },
    {
      "cell_type": "code",
      "metadata": {
        "id": "UCugYz1tToWl",
        "colab_type": "code",
        "colab": {}
      },
      "source": [
        "## exif információ kiolvasása kép fileből (pythonnal - PIL modul)\n",
        "\n",
        "from PIL import Image\n",
        "from PIL.ExifTags import TAGS\n",
        "\n",
        "def get_exif(fn):\n",
        "    ret = {}\n",
        "    i = Image.open(fn)\n",
        "    info = i._getexif()\n",
        "    for tag, value in info.items():\n",
        "        decoded = TAGS.get(tag, tag)\n",
        "        ret[decoded] = value\n",
        "    return ret\n",
        "\n",
        " \n",
        "\n",
        "kl=get_exif(r\"c:\\Users\\User\\Documents\\kepek\\allat\\Dsc_8579_roka.jpg\")\n",
        "\n",
        "\n",
        "## csak bizonyos infók\n",
        "for k, v in kl.items():\n",
        "   if k=='Make' or k=='DateTime' or k=='Model': \n",
        "                    print(k,' -> ',v)\n",
        "print('\\n ------  új rész ---------- \\n')   \n",
        "\n",
        "## Összes info  kiveve a MakerNote-ot      \n",
        "for k, v in kl.items():\n",
        "    if k != 'MakerNote' : \n",
        "                    print(k,' -> ',v)    \n"
      ],
      "execution_count": 0,
      "outputs": []
    },
    {
      "cell_type": "markdown",
      "metadata": {
        "id": "gbB0ETIyT5VB",
        "colab_type": "text"
      },
      "source": [
        "Model  ->  NIKON D70\n",
        "\n",
        "DateTime  ->  2010:06:08 23:12:49\n",
        "\n",
        "Make  ->  NIKON CORPORATION\n",
        "\n",
        " ------  új rész ---------- \n",
        "\n",
        "ExifVersion  ->  b'0221'\n",
        "ComponentsConfiguration  ->  b'\\x01\\x02\\x03\\x00'\n",
        "CompressedBitsPerPixel  ->  (4, 1)\n",
        "DateTimeOriginal  ->  2010:06:08 23:12:49\n",
        "DateTimeDigitized  ->  2010:06:08 23:12:49\n",
        "ExposureBiasValue  ->  (0, 6)\n",
        "MaxApertureValue  ->  (49, 10)\n",
        "MeteringMode  ->  5\n",
        "LightSource  ->  0\n",
        "Flash  ->  31\n",
        "FocalLength  ->  (1050, 10)\n",
        "UserComment  ->  b'ASCII\\x00\\x00\\x00                                    '\n",
        "ColorSpace  ->  1\n",
        "ExifImageWidth  ->  3008\n",
        "ExifInteroperabilityOffset  ->  28060\n",
        "SceneCaptureType  ->  0\n",
        "SubsecTime  ->  00\n",
        "SubsecTimeOriginal  ->  00\n",
        "SubsecTimeDigitized  ->  00\n",
        "ExifImageHeight  ->  2000\n",
        "SubjectDistanceRange  ->  0\n",
        "Model  ->  NIKON D70\n",
        "Orientation  ->  1\n",
        "SensingMethod  ->  2\n",
        "YCbCrPositioning  ->  2\n",
        "FileSource  ->  b'\\x03'\n",
        "ExposureTime  ->  (10, 600)\n",
        "XResolution  ->  (300, 1)\n",
        "YResolution  ->  (300, 1)\n",
        "FNumber  ->  (56, 10)\n",
        "SceneType  ->  b'\\x01'\n",
        "ExposureProgram  ->  2\n",
        "CFAPattern  ->  b'\\x00\\x02\\x00\\x02\\x02\\x01\\x01\\x00'\n",
        "CustomRendered  ->  0\n",
        "ResolutionUnit  ->  2\n",
        "ExposureMode  ->  0\n",
        "FlashPixVersion  ->  b'0100'\n",
        "WhiteBalance  ->  0\n",
        "Software  ->  Ver.2.00 \n",
        "DateTime  ->  2010:06:08 23:12:49\n",
        "DigitalZoomRatio  ->  (1, 1)\n",
        "FocalLengthIn35mmFilm  ->  157\n",
        "GainControl  ->  0\n",
        "Contrast  ->  1\n",
        "Saturation  ->  0\n",
        "Sharpness  ->  0\n",
        "Make  ->  NIKON CORPORATION\n",
        "ExifOffset  ->  216"
      ]
    },
    {
      "cell_type": "markdown",
      "metadata": {
        "id": "Xho3xJ9VUCZ-",
        "colab_type": "text"
      },
      "source": [
        "## Képek Exiif információinka kiolvaássa (python + pil modul segítségével)"
      ]
    },
    {
      "cell_type": "code",
      "metadata": {
        "id": "-8XU4bBFO2RJ",
        "colab_type": "code",
        "colab": {}
      },
      "source": [
        "#---- Minta1:\n",
        "from PIL import Image\n",
        "from PIL.ExifTags import TAGS\n",
        "\n",
        "def get_exif(fn):\n",
        "    ret = {}\n",
        "    i = Image.open(fn)\n",
        "    info = i._getexif()\n",
        "    for tag, value in info.items():\n",
        "        decoded = TAGS.get(tag, tag)\n",
        "        ret[decoded] = value\n",
        "    return ret\n",
        " \n",
        "kl=get_exif(r\"c:\\Users\\kecskemetil\\kl_kep.jpg\")\n",
        "\n",
        "print('\\n  ----------------------------- \\n')\n",
        "\n",
        "for k, v in kl.items():\n",
        "   if k=='Make' or k=='DateTime' or k=='ISOSpeedRatings':\n",
        "                    print(k,' -> ',v)\n",
        "\n",
        "print('\\n  ----------------------------- \\n')\n",
        "\n",
        "fn = (r\"c:\\Users\\kecskemetil\\kl_kep.jpg\")\n",
        "\n",
        "\n",
        "i = Image.open(fn)\n",
        "info = i._getexif()\n",
        "for tag, value in info.items():\n",
        "        decoded = TAGS.get(tag, tag)\n",
        "        print(decoded, ' -> ', tag, ' ->', value)\n",
        "\n",
        "\n",
        "\n",
        "        "
      ],
      "execution_count": 0,
      "outputs": []
    },
    {
      "cell_type": "markdown",
      "metadata": {
        "id": "6Oh4ybcwUd2Z",
        "colab_type": "text"
      },
      "source": [
        "## Képek exif információjának olvasása írása"
      ]
    },
    {
      "cell_type": "code",
      "metadata": {
        "id": "0LOd3EipUcCF",
        "colab_type": "code",
        "colab": {}
      },
      "source": [
        "#---- Minta 2\n",
        "\n",
        "from io import BytesIO\n",
        "from PIL import Image, TiffImagePlugin, TiffTags\n",
        "from PIL.ExifTags import TAGS\n",
        "from PIL.TiffImagePlugin import ImageFileDirectory_v2\n",
        "\n",
        "##  Kiolvasás\n",
        "\n",
        "fn =(r\"c:\\Users\\kecskemetil\\kl_kep.jpg\")\n",
        "ret = {}\n",
        "i = Image.open(fn)\n",
        "info = i._getexif()\n",
        "info[271] = 'KLajos'  ## Beállítása a gyártónak (Make : 271)\n",
        "for tag, value in info.items():\n",
        "        decoded = TAGS.get(tag, tag)\n",
        "        if decoded=='Make' :\n",
        "           print(decoded, ' -> ', tag,' -> ', value)\n",
        "\n",
        "print(\"\\n  ----------------------------------\\n\")\n",
        "\n",
        "# i.save(r\"c:\\Users\\kecskemetil\\kl_kep_mod.jpg\", exif=info)\n",
        "\n",
        "\n",
        "#Tag szótár feltöltése\n",
        "_TAGS_r = dict(((v, k) for k, v in TAGS.items()))\n",
        "\n",
        "# Képaállomány létrehozása és tag-olása\n",
        "jpgimg1 = Image.new(\"RGB\", (64, 64))\n",
        "\n",
        "# Kép File Directory\n",
        "ifd = ImageFileDirectory_v2()\n",
        "\n",
        "# TiffTags kikeresése\n",
        "TiffTags.lookup(_TAGS_r[\"Artist\"])\n",
        "TiffTags.lookup(_TAGS_r[\"LightSource\"])\n",
        "\n",
        " # TagInfo(value=315, name='Artist', type=2, length=1, enum={})  # 2 : string tipus\n",
        "ifd[_TAGS_r[\"Artist\"]] = u'somebody'\n",
        "\n",
        "#ifd[_TAGS_r[\"Make\"]] = u'Ildiko'\n",
        " \n",
        "\n",
        "# TagInfo(value=37384, name='LightSource', type=None, length=0, enum={})\n",
        "ifd[_TAGS_r['LightSource']] = 1          # nappali fény /DayLight\n",
        "ifd.tagtype[_TAGS_r['LightSource']] = 3  # Tipus beállítása / short\n",
        "\n",
        "\n",
        "# Szekezet összeállítása és mágikus exif structure minta hozzáadás\n",
        "out = BytesIO()\n",
        "ifd.save(out)\n",
        "exif = b\"Exif\\x00\\x00\" + out.getvalue()\n",
        " \n",
        "\n",
        "# Mentés állományba\n",
        "jpgimg1.save(r\"c:\\Users\\kecskemetil\\kl_kep_uj.jpg\", exif=exif)\n",
        " \n",
        "\n",
        "# Visszaellenőrzés\n",
        "jpgimg2 = Image.open(r\"c:\\Users\\kecskemetil\\kl_kep_uj.jpg\")\n",
        "info = jpgimg2._getexif()\n",
        "for tag, value in info.items():\n",
        "        decoded = TAGS.get(tag, tag)\n",
        "        print(decoded, ' -> ', tag,' -> ', value)\n",
        "\n"
      ],
      "execution_count": 0,
      "outputs": []
    }
  ]
}