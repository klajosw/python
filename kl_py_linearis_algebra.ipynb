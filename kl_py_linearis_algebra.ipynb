{
  "nbformat": 4,
  "nbformat_minor": 0,
  "metadata": {
    "anaconda-cloud": {},
    "hide_input": false,
    "kernelspec": {
      "display_name": "Python 3",
      "language": "python",
      "name": "python3"
    },
    "language_info": {
      "codemirror_mode": {
        "name": "ipython",
        "version": 3
      },
      "file_extension": ".py",
      "mimetype": "text/x-python",
      "name": "python",
      "nbconvert_exporter": "python",
      "pygments_lexer": "ipython3",
      "version": "3.7.4"
    },
    "name": "linalg.ipynb",
    "colab": {
      "name": "kl_py_linearis_algebra.ipynb",
      "provenance": [],
      "collapsed_sections": [],
      "include_colab_link": true
    }
  },
  "cells": [
    {
      "cell_type": "markdown",
      "metadata": {
        "id": "view-in-github",
        "colab_type": "text"
      },
      "source": [
        "<a href=\"https://colab.research.google.com/github/klajosw/python/blob/master/kl_py_linearis_algebra.ipynb\" target=\"_parent\"><img src=\"https://colab.research.google.com/assets/colab-badge.svg\" alt=\"Open In Colab\"/></a>"
      ]
    },
    {
      "cell_type": "markdown",
      "metadata": {
        "id": "ouiwW3AXarlG",
        "colab_type": "text"
      },
      "source": [
        "# Lineáris algebra\n",
        "\n",
        "A lineáris algebra a sokváltozós lineáris egyenletrendszerek megoldásával, illetve megoldhatóságának vizsgálatával foglalkozik. \n",
        "\n",
        "A lineáris algebra gyakorlati jelentősége abban mutatkozik meg, hogy számos bonyolult matematikai probléma numerikus megoldása sok esetben egy sok (esetenként igen sok, akár több millió) ismeretlenes lineáris egyenletrendszerre vezet. \n",
        "\n",
        "Az alábbiakban a `numpy` csomag lineáris algebrai rutinjaival fogunk megismerkedni. Először a `matrix` típust vizsgáljuk meg, mely segítségével egszerű vektor-mátrix műveletek tömören fogalmazhatóak meg. \n",
        "\n",
        "Ezután a `solve` lineáris egyenletrendszereket megoldó függvény használatát sajátítjuk el, végül az `eig` sajátérték-, illetve sajátvektor-kereső rutinnal ismerkedünk meg. "
      ]
    },
    {
      "cell_type": "code",
      "metadata": {
        "id": "IpDh3QK2arlI",
        "colab_type": "code",
        "colab": {},
        "outputId": "68076319-da72-41ed-f2b0-79175f66d6ca"
      },
      "source": [
        "# A szokásos import\n",
        "%pylab inline"
      ],
      "execution_count": 0,
      "outputs": [
        {
          "output_type": "stream",
          "text": [
            "Populating the interactive namespace from numpy and matplotlib\n"
          ],
          "name": "stdout"
        }
      ]
    },
    {
      "cell_type": "markdown",
      "metadata": {
        "id": "rJX4zYV8arlM",
        "colab_type": "text"
      },
      "source": [
        "## Mátrixok és mátrix vektor műveletek"
      ]
    },
    {
      "cell_type": "markdown",
      "metadata": {
        "id": "BAMwTUmVarlM",
        "colab_type": "text"
      },
      "source": [
        "A korábbiakban rendszeresen használtuk a `numpy` csomag `array` válltozóit. Ezek sok szempontból hasznosnak bizonyultak, de alapvetően táblázatként működtek, és nem a lineáris algebrában megszokott mátrixként. Ennek a legszembetűnőbb megnyilvánulása az, hogy a rájuk értelmezett műveletek szigorúan elemenként értendőek voltak. Azaz a `*` elemenkénti szorzást és nem mátrixszorzást jelent. Például az alább definiált `A` és `B` tömbök"
      ]
    },
    {
      "cell_type": "code",
      "metadata": {
        "id": "USXMbxynarlN",
        "colab_type": "code",
        "colab": {}
      },
      "source": [
        "# két minta array\n",
        "A=array([[1,2],\n",
        "         [3,4]])\n",
        "\n",
        "B=array([[2,2],\n",
        "         [2,2]])\n"
      ],
      "execution_count": 0,
      "outputs": []
    },
    {
      "cell_type": "markdown",
      "metadata": {
        "id": "N4pJZn4GarlP",
        "colab_type": "text"
      },
      "source": [
        "egymással összeszorozva egy olyan `array` -t adnak végeredményül, amelynek elemei az `A` és a `B` elemeinek szorzata: \n",
        "$$ (A*B)_{ij}=A_{ij}*B_{ij} $$"
      ]
    },
    {
      "cell_type": "code",
      "metadata": {
        "id": "cajmCKhqarlQ",
        "colab_type": "code",
        "colab": {},
        "outputId": "622cee8a-4858-4ed4-d562-0ceb9040c9c7"
      },
      "source": [
        "A*B"
      ],
      "execution_count": 0,
      "outputs": [
        {
          "output_type": "execute_result",
          "data": {
            "text/plain": [
              "array([[2, 4],\n",
              "       [6, 8]])"
            ]
          },
          "metadata": {
            "tags": []
          },
          "execution_count": 3
        }
      ]
    },
    {
      "cell_type": "markdown",
      "metadata": {
        "id": "WiHhVLDsarlS",
        "colab_type": "text"
      },
      "source": [
        "Ez a művelet természetesen nem érzékeny a műveleti sorrendre, azaz `A*B=B*A`:"
      ]
    },
    {
      "cell_type": "code",
      "metadata": {
        "id": "6luBxa_zarlT",
        "colab_type": "code",
        "colab": {},
        "outputId": "b1c80cbb-3579-4521-c78d-5f674e91c9c7"
      },
      "source": [
        "B*A"
      ],
      "execution_count": 0,
      "outputs": [
        {
          "output_type": "execute_result",
          "data": {
            "text/plain": [
              "array([[2, 4],\n",
              "       [6, 8]])"
            ]
          },
          "metadata": {
            "tags": []
          },
          "execution_count": 4
        }
      ]
    },
    {
      "cell_type": "markdown",
      "metadata": {
        "id": "t6xMbhsXarlV",
        "colab_type": "text"
      },
      "source": [
        "A `numpy` rendelkezik egy `matrix` típussal is, ami sok szempontból hasonlóan viselkedik, mint az `array`, de bizonyos műveletek, például a \\* is a lineáris algebrában megszokott módon van definiálva. Azaz itt a \\*-jel az alábbiakat jelenti:\n",
        "$$ (A*B)_{ij}=\\sum_l A_{il}B_{lj} $$"
      ]
    },
    {
      "cell_type": "markdown",
      "metadata": {
        "id": "ktn29QLUarlW",
        "colab_type": "text"
      },
      "source": [
        "A `matrix()`-függvény  `array` vagy `list` típusú változókból `matrix` típusú változókat csinál:"
      ]
    },
    {
      "cell_type": "code",
      "metadata": {
        "id": "7i1qzTzvarlW",
        "colab_type": "code",
        "colab": {}
      },
      "source": [
        "# Így definiálunk mátrixokat\n",
        "Am=matrix(A)\n",
        "Bm=matrix(B)"
      ],
      "execution_count": 0,
      "outputs": []
    },
    {
      "cell_type": "markdown",
      "metadata": {
        "id": "eikWOUOParlY",
        "colab_type": "text"
      },
      "source": [
        "Figyeljük meg, hogy az `Am` és `Bm` változókra miként hat a * művelet:"
      ]
    },
    {
      "cell_type": "code",
      "metadata": {
        "id": "xL81V7THarlZ",
        "colab_type": "code",
        "colab": {},
        "outputId": "10a98f2b-cb20-4c6e-811d-aae7a7352aec"
      },
      "source": [
        "Am*Bm"
      ],
      "execution_count": 0,
      "outputs": [
        {
          "output_type": "execute_result",
          "data": {
            "text/plain": [
              "matrix([[ 6,  6],\n",
              "        [14, 14]])"
            ]
          },
          "metadata": {
            "tags": []
          },
          "execution_count": 6
        }
      ]
    },
    {
      "cell_type": "code",
      "metadata": {
        "id": "z5qKKif0arlb",
        "colab_type": "code",
        "colab": {},
        "outputId": "2ee10b73-9ad8-4db8-ef18-ea197063318d"
      },
      "source": [
        "Bm*Am"
      ],
      "execution_count": 0,
      "outputs": [
        {
          "output_type": "execute_result",
          "data": {
            "text/plain": [
              "matrix([[ 8, 12],\n",
              "        [ 8, 12]])"
            ]
          },
          "metadata": {
            "tags": []
          },
          "execution_count": 7
        }
      ]
    },
    {
      "cell_type": "markdown",
      "metadata": {
        "id": "cWCVf4Ufarld",
        "colab_type": "text"
      },
      "source": [
        "A szorzás eredménye tehát ahogy vártuk, függ a műveleti sorrendtől!"
      ]
    },
    {
      "cell_type": "markdown",
      "metadata": {
        "id": "D2XDtpRparld",
        "colab_type": "text"
      },
      "source": [
        "Nézzünk meg egypár hasznos lineáris algebrai mátrixműveletet:"
      ]
    },
    {
      "cell_type": "code",
      "metadata": {
        "id": "GzSos1ggarle",
        "colab_type": "code",
        "colab": {},
        "outputId": "2f355074-186c-4a5a-e0cd-f5da03ba0322"
      },
      "source": [
        "Am.T  # Ez az Am mátrix transzponáltja"
      ],
      "execution_count": 0,
      "outputs": [
        {
          "output_type": "execute_result",
          "data": {
            "text/plain": [
              "matrix([[1, 3],\n",
              "        [2, 4]])"
            ]
          },
          "metadata": {
            "tags": []
          },
          "execution_count": 8
        }
      ]
    },
    {
      "cell_type": "code",
      "metadata": {
        "id": "6pyTsyW7arlg",
        "colab_type": "code",
        "colab": {},
        "outputId": "ff26f406-36e4-425a-cd3d-3f7874cfb598"
      },
      "source": [
        "Am+1.0j*Bm #Ez egy komplex mátrix"
      ],
      "execution_count": 0,
      "outputs": [
        {
          "output_type": "execute_result",
          "data": {
            "text/plain": [
              "matrix([[ 1.+2.j,  2.+2.j],\n",
              "        [ 3.+2.j,  4.+2.j]])"
            ]
          },
          "metadata": {
            "tags": []
          },
          "execution_count": 9
        }
      ]
    },
    {
      "cell_type": "code",
      "metadata": {
        "id": "lIzGopeGarli",
        "colab_type": "code",
        "colab": {},
        "outputId": "75feb927-f139-41a5-8323-13c097fb9ced"
      },
      "source": [
        "(Am+1.0j*Bm).H  # Ez a komplex  mátrix adjungáltja, azaz a transzponált konjugáltja"
      ],
      "execution_count": 0,
      "outputs": [
        {
          "output_type": "execute_result",
          "data": {
            "text/plain": [
              "matrix([[ 1.-2.j,  3.-2.j],\n",
              "        [ 2.-2.j,  4.-2.j]])"
            ]
          },
          "metadata": {
            "tags": []
          },
          "execution_count": 10
        }
      ]
    },
    {
      "cell_type": "code",
      "metadata": {
        "id": "11sEpcYGarlk",
        "colab_type": "code",
        "colab": {},
        "outputId": "708dd362-a247-42f7-fd36-b7ec8fc8c10d"
      },
      "source": [
        "trace(Am) # A mátrix nyoma, (vagy spur-ja) azaz a diagonális elemek összege"
      ],
      "execution_count": 0,
      "outputs": [
        {
          "output_type": "execute_result",
          "data": {
            "text/plain": [
              "5"
            ]
          },
          "metadata": {
            "tags": []
          },
          "execution_count": 11
        }
      ]
    },
    {
      "cell_type": "code",
      "metadata": {
        "id": "e9Caprv5arlm",
        "colab_type": "code",
        "colab": {},
        "outputId": "3ba5a5da-9896-44c2-f7e7-689ae30902c0"
      },
      "source": [
        "trace(A) # A trace ugyan úgy működik array-ekre"
      ],
      "execution_count": 0,
      "outputs": [
        {
          "output_type": "execute_result",
          "data": {
            "text/plain": [
              "5"
            ]
          },
          "metadata": {
            "tags": []
          },
          "execution_count": 12
        }
      ]
    },
    {
      "cell_type": "code",
      "metadata": {
        "id": "OTDly0Biarlo",
        "colab_type": "code",
        "colab": {},
        "outputId": "382ff75b-02f1-4951-df3f-2ea9f797cd0a"
      },
      "source": [
        "det(Am) # A mátrix determinánsa"
      ],
      "execution_count": 0,
      "outputs": [
        {
          "output_type": "execute_result",
          "data": {
            "text/plain": [
              "-2.0000000000000004"
            ]
          },
          "metadata": {
            "tags": []
          },
          "execution_count": 13
        }
      ]
    },
    {
      "cell_type": "code",
      "metadata": {
        "id": "TOczvmxlarlp",
        "colab_type": "code",
        "colab": {},
        "outputId": "7aa1f88d-6b25-45e3-e838-f446706d5b88"
      },
      "source": [
        "det(A) # A determináns is alkalmazható array-ekre"
      ],
      "execution_count": 0,
      "outputs": [
        {
          "output_type": "execute_result",
          "data": {
            "text/plain": [
              "-2.0000000000000004"
            ]
          },
          "metadata": {
            "tags": []
          },
          "execution_count": 14
        }
      ]
    },
    {
      "cell_type": "code",
      "metadata": {
        "id": "S6x1sEHzarlr",
        "colab_type": "code",
        "colab": {},
        "outputId": "9a9ea91b-1438-4acd-8dd5-adec88a5aace"
      },
      "source": [
        "inv(Am) # A mátrix inverze.. ugyebár ez nem feltétlenül létezik"
      ],
      "execution_count": 0,
      "outputs": [
        {
          "output_type": "execute_result",
          "data": {
            "text/plain": [
              "matrix([[-2. ,  1. ],\n",
              "        [ 1.5, -0.5]])"
            ]
          },
          "metadata": {
            "tags": []
          },
          "execution_count": 15
        }
      ]
    },
    {
      "cell_type": "code",
      "metadata": {
        "id": "X0egQqcGarlt",
        "colab_type": "code",
        "colab": {},
        "outputId": "7e11d329-2c2e-4429-ac38-c824c615a6f5"
      },
      "source": [
        "inv(A) # Ez is megy array -ekre"
      ],
      "execution_count": 0,
      "outputs": [
        {
          "output_type": "execute_result",
          "data": {
            "text/plain": [
              "array([[-2. ,  1. ],\n",
              "       [ 1.5, -0.5]])"
            ]
          },
          "metadata": {
            "tags": []
          },
          "execution_count": 16
        }
      ]
    },
    {
      "cell_type": "code",
      "metadata": {
        "id": "8MYKxoPvarlv",
        "colab_type": "code",
        "colab": {},
        "outputId": "a431f796-58a2-414f-ee00-e067a03e28a1"
      },
      "source": [
        "inv(Am)*Am # Ennek egységnek kell lennie"
      ],
      "execution_count": 0,
      "outputs": [
        {
          "output_type": "execute_result",
          "data": {
            "text/plain": [
              "matrix([[  1.00000000e+00,   0.00000000e+00],\n",
              "        [  2.22044605e-16,   1.00000000e+00]])"
            ]
          },
          "metadata": {
            "tags": []
          },
          "execution_count": 17
        }
      ]
    },
    {
      "cell_type": "markdown",
      "metadata": {
        "id": "Mle-TygJarlx",
        "colab_type": "text"
      },
      "source": [
        "## Lineáris egyenletrendszerek\n",
        "\n",
        "Az egyik gyakran előforduló lineáris algebrai feladat az egyenletrendszerek megoldása. Például keressük azt az $x$ vektort amely teljesíti a\n",
        "\n",
        "$$ \\mathbf{A}x=b$$\n",
        "\n",
        "egyenletet, ahol $\\mathbf{A}$ egy ismert mátrix és $b$ egy ismert vektor. A `numpy` csomag az ilyen formában megadott egyenletrendszer megoldására a `solve` függvényt kínálja. \n",
        "\n",
        "**Fgyelem**: ez a függvény nem keverendő össze a `sympy` csomag azonos nevű függvényével, amely tetszőleges algebrai egyenletrendszerre kínál analitikus megoldást. A `numpy` modul `solve` függvénye szigorúan csak numerikus lineáris algebrai feladatok megoldására alkalmas!\n",
        "\n",
        "Vizsgáljuk meg egy példát ! Keressük meg azt a síkbeli vektort, amit ha $\\varphi=30^\\circ$-al az óra járásával megegyező irányban elforgatunk, akkor az $y$ irányú egységvektort kapjuk! \n",
        "Azaz \n",
        "\n",
        "$$A=\\begin{pmatrix}\n",
        "\\cos(\\varphi) & -\\sin(\\varphi)\\\\ \n",
        "\\sin(\\varphi) & \\cos(\\varphi)\n",
        "\\end{pmatrix}$$ valamint\n",
        "$$b=\\begin{pmatrix}\n",
        "0 \\\\ \n",
        "1    \n",
        "\\end{pmatrix}$$"
      ]
    },
    {
      "cell_type": "code",
      "metadata": {
        "id": "zjatWrroarlz",
        "colab_type": "code",
        "colab": {}
      },
      "source": [
        "# az ismert mennyiségek definiálása:\n",
        "phi=pi/6;\n",
        "#Ez az A mátrix\n",
        "A=matrix([[cos(phi), -sin(phi)],\n",
        "         [sin(phi),  cos(phi)]])\n",
        "#Ez pedig a b oszlopvektor, figyeljünk a zárójelezésre!!!\n",
        "b=matrix([[0],\n",
        "          [1]])"
      ],
      "execution_count": 0,
      "outputs": []
    },
    {
      "cell_type": "code",
      "metadata": {
        "id": "LrqagI8Uarl2",
        "colab_type": "code",
        "colab": {}
      },
      "source": [
        "x=solve(A,b)"
      ],
      "execution_count": 0,
      "outputs": []
    },
    {
      "cell_type": "code",
      "metadata": {
        "id": "TlGaFI_9arl4",
        "colab_type": "code",
        "colab": {},
        "outputId": "dd25485a-202c-4e03-b921-c8528cbb7e91"
      },
      "source": [
        "x"
      ],
      "execution_count": 0,
      "outputs": [
        {
          "output_type": "execute_result",
          "data": {
            "text/plain": [
              "matrix([[ 0.5      ],\n",
              "        [ 0.8660254]])"
            ]
          },
          "metadata": {
            "tags": []
          },
          "execution_count": 20
        }
      ]
    },
    {
      "cell_type": "markdown",
      "metadata": {
        "id": "KrgL8BrTarl6",
        "colab_type": "text"
      },
      "source": [
        "## Sajátérték-probléma\n",
        "\n",
        "A másik sokszor felmerülő lineáris algebrai problémakör egy mátrix sajátértékeinek és sajátvektorainak meghatározása. Legyen $A$ egy ismert mátrix, és keressük tehát azon $x$ vektorokat, illetve azon $\\lambda$ számokat, melyek teljesítik az alábbi feltételt.\n",
        "\n",
        "$$ \\mathbf{M}x=\\lambda x.$$\n",
        "\n",
        "Ilyen jellegű problémákat az `eig` rutin segítségével tudunk megoldani. Lássunk erre is egy példát!\n",
        "Legyen $M$ egy 10x10-es mátrix, melynek mindkét első mellékátlója -1, a többi elem pedig nulla!"
      ]
    },
    {
      "cell_type": "code",
      "metadata": {
        "id": "ewi4yPuDarl6",
        "colab_type": "code",
        "colab": {}
      },
      "source": [
        "M=matrix(zeros((10,10))) # Így gyártunk egy 10x10-es üres mátrixot.\n",
        "for i in range(9):#A mellékátlók 1-el rövidebbek mint a mátrix mérete!\n",
        "    M[i,i+1]=-1.0 #A mellékátlók feltöltése -1 -el\n",
        "    M[i+1,i]=-1.0 \n"
      ],
      "execution_count": 0,
      "outputs": []
    },
    {
      "cell_type": "code",
      "metadata": {
        "id": "PULxipDkarl8",
        "colab_type": "code",
        "colab": {},
        "outputId": "02f45225-138f-49ab-86ee-7a596394f206"
      },
      "source": [
        "M # nézzük meg a mátrixot"
      ],
      "execution_count": 0,
      "outputs": [
        {
          "output_type": "execute_result",
          "data": {
            "text/plain": [
              "matrix([[ 0., -1.,  0.,  0.,  0.,  0.,  0.,  0.,  0.,  0.],\n",
              "        [-1.,  0., -1.,  0.,  0.,  0.,  0.,  0.,  0.,  0.],\n",
              "        [ 0., -1.,  0., -1.,  0.,  0.,  0.,  0.,  0.,  0.],\n",
              "        [ 0.,  0., -1.,  0., -1.,  0.,  0.,  0.,  0.,  0.],\n",
              "        [ 0.,  0.,  0., -1.,  0., -1.,  0.,  0.,  0.,  0.],\n",
              "        [ 0.,  0.,  0.,  0., -1.,  0., -1.,  0.,  0.,  0.],\n",
              "        [ 0.,  0.,  0.,  0.,  0., -1.,  0., -1.,  0.,  0.],\n",
              "        [ 0.,  0.,  0.,  0.,  0.,  0., -1.,  0., -1.,  0.],\n",
              "        [ 0.,  0.,  0.,  0.,  0.,  0.,  0., -1.,  0., -1.],\n",
              "        [ 0.,  0.,  0.,  0.,  0.,  0.,  0.,  0., -1.,  0.]])"
            ]
          },
          "metadata": {
            "tags": []
          },
          "execution_count": 22
        }
      ]
    },
    {
      "cell_type": "markdown",
      "metadata": {
        "id": "Lsi4Rb_Varl_",
        "colab_type": "text"
      },
      "source": [
        "A sajátérték-probléma megoldása:"
      ]
    },
    {
      "cell_type": "code",
      "metadata": {
        "id": "4y-d0F0_arl_",
        "colab_type": "code",
        "colab": {}
      },
      "source": [
        "ertek,vektor=eig(M)"
      ],
      "execution_count": 0,
      "outputs": []
    },
    {
      "cell_type": "markdown",
      "metadata": {
        "id": "LdnnB6rWarmB",
        "colab_type": "text"
      },
      "source": [
        "Most az `ertek` valtozó tartalmazza a saját értékeket illetve a `vektor` a sajátvektorokat."
      ]
    },
    {
      "cell_type": "code",
      "metadata": {
        "id": "MUOArgqtarmB",
        "colab_type": "code",
        "colab": {},
        "outputId": "27228125-2f0b-4366-bd53-0a83c42ed0e7"
      },
      "source": [
        "ertek"
      ],
      "execution_count": 0,
      "outputs": [
        {
          "output_type": "execute_result",
          "data": {
            "text/plain": [
              "array([-1.91898595, -1.68250707, -1.30972147, -0.83083003, -0.28462968,\n",
              "        0.28462968,  1.91898595,  1.68250707,  1.30972147,  0.83083003])"
            ]
          },
          "metadata": {
            "tags": []
          },
          "execution_count": 24
        }
      ]
    },
    {
      "cell_type": "code",
      "metadata": {
        "id": "F8K_WYY-armD",
        "colab_type": "code",
        "colab": {},
        "outputId": "ea746b3c-5876-451b-b2f2-dcaf7b20814b"
      },
      "source": [
        "vektor"
      ],
      "execution_count": 0,
      "outputs": [
        {
          "output_type": "execute_result",
          "data": {
            "text/plain": [
              "matrix([[-0.12013117,  0.23053002,  0.3222527 ,  0.38786839, -0.42206128,\n",
              "         -0.42206128, -0.12013117, -0.23053002, -0.3222527 ,  0.38786839],\n",
              "        [-0.23053002,  0.38786839,  0.42206128,  0.3222527 , -0.12013117,\n",
              "          0.12013117,  0.23053002,  0.38786839,  0.42206128, -0.3222527 ],\n",
              "        [-0.3222527 ,  0.42206128,  0.23053002, -0.12013117,  0.38786839,\n",
              "          0.38786839, -0.3222527 , -0.42206128, -0.23053002, -0.12013117],\n",
              "        [-0.38786839,  0.3222527 , -0.12013117, -0.42206128,  0.23053002,\n",
              "         -0.23053002,  0.38786839,  0.3222527 , -0.12013117,  0.42206128],\n",
              "        [-0.42206128,  0.12013117, -0.38786839, -0.23053002, -0.3222527 ,\n",
              "         -0.3222527 , -0.42206128, -0.12013117,  0.38786839, -0.23053002],\n",
              "        [-0.42206128, -0.12013117, -0.38786839,  0.23053002, -0.3222527 ,\n",
              "          0.3222527 ,  0.42206128, -0.12013117, -0.38786839, -0.23053002],\n",
              "        [-0.38786839, -0.3222527 , -0.12013117,  0.42206128,  0.23053002,\n",
              "          0.23053002, -0.38786839,  0.3222527 ,  0.12013117,  0.42206128],\n",
              "        [-0.3222527 , -0.42206128,  0.23053002,  0.12013117,  0.38786839,\n",
              "         -0.38786839,  0.3222527 , -0.42206128,  0.23053002, -0.12013117],\n",
              "        [-0.23053002, -0.38786839,  0.42206128, -0.3222527 , -0.12013117,\n",
              "         -0.12013117, -0.23053002,  0.38786839, -0.42206128, -0.3222527 ],\n",
              "        [-0.12013117, -0.23053002,  0.3222527 , -0.38786839, -0.42206128,\n",
              "          0.42206128,  0.12013117, -0.23053002,  0.3222527 ,  0.38786839]])"
            ]
          },
          "metadata": {
            "tags": []
          },
          "execution_count": 25
        }
      ]
    },
    {
      "cell_type": "markdown",
      "metadata": {
        "id": "ZWesWv0zarmF",
        "colab_type": "text"
      },
      "source": [
        "Az $i$-edik sajátvektort a `vektor` változó `i`-edik oszlopa, `vektor[:,i]` tartalmazza.\n",
        "\n",
        "Ez a sajátvektor az $i$-edik, `ertek[i]` sajátértékhez tartozó megoldása az $Mx=\\lambda x$ sajátérték-problémának.\n",
        "\n",
        "Ellenőrizzük ezt le:"
      ]
    },
    {
      "cell_type": "code",
      "metadata": {
        "id": "4eMG1FMCarmF",
        "colab_type": "code",
        "colab": {},
        "outputId": "c0ffd143-6537-4ad1-e3e2-3b62df5f01b3"
      },
      "source": [
        "#ez tehát a nullvektor kell hogy legyen:\n",
        "M*vektor[:,3]-vektor[:,3]*ertek[3]"
      ],
      "execution_count": 0,
      "outputs": [
        {
          "output_type": "execute_result",
          "data": {
            "text/plain": [
              "matrix([[ -1.66533454e-16],\n",
              "        [ -8.32667268e-16],\n",
              "        [  8.32667268e-17],\n",
              "        [  1.11022302e-16],\n",
              "        [  3.60822483e-16],\n",
              "        [  3.88578059e-16],\n",
              "        [  2.77555756e-16],\n",
              "        [  5.55111512e-17],\n",
              "        [ -2.77555756e-16],\n",
              "        [ -1.11022302e-16]])"
            ]
          },
          "metadata": {
            "tags": []
          },
          "execution_count": 26
        }
      ]
    },
    {
      "cell_type": "markdown",
      "metadata": {
        "id": "gxuJMS4TarmH",
        "colab_type": "text"
      },
      "source": [
        "Jelenítsük meg a két legkisebb sajátértékhez tartozó sajátfüggvényt!"
      ]
    },
    {
      "cell_type": "code",
      "metadata": {
        "id": "mPzYBT3zarmI",
        "colab_type": "code",
        "colab": {},
        "outputId": "fc055a5e-4747-4784-d197-09e23db8bffd"
      },
      "source": [
        "plot(vektor[:,0],'o-',label='elso sajatvektor')\n",
        "plot(vektor[:,1],'+--',label='masodik sajatvektor')\n",
        "legend()"
      ],
      "execution_count": 0,
      "outputs": [
        {
          "output_type": "execute_result",
          "data": {
            "text/plain": [
              "<matplotlib.legend.Legend at 0x7f1b91812978>"
            ]
          },
          "metadata": {
            "tags": []
          },
          "execution_count": 27
        },
        {
          "output_type": "display_data",
          "data": {
            "image/png": "[encoded data removed]",
            "text/plain": [
              "<matplotlib.figure.Figure at 0x7f1b916d3710>"
            ]
          },
          "metadata": {
            "tags": []
          }
        }
      ]
    },
    {
      "cell_type": "markdown",
      "metadata": {
        "id": "gl1iDzB4armK",
        "colab_type": "text"
      },
      "source": [
        "Vajon miért néznek így ki ezek a sajátfüggvények ? "
      ]
    }
  ]
}