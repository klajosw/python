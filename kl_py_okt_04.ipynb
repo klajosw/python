{
  "nbformat": 4,
  "nbformat_minor": 0,
  "metadata": {
    "anaconda-cloud": {},
    "hide_input": false,
    "kernelspec": {
      "display_name": "Python 3",
      "language": "python",
      "name": "python3"
    },
    "language_info": {
      "codemirror_mode": {
        "name": "ipython",
        "version": 3
      },
      "file_extension": ".py",
      "mimetype": "text/x-python",
      "name": "python",
      "nbconvert_exporter": "python",
      "pygments_lexer": "ipython3",
      "version": "3.7.4"
    },
    "latex_envs": {
      "bibliofile": "biblio.bib",
      "cite_by": "apalike",
      "current_citInitial": 1,
      "eqLabelWithNumbers": true,
      "eqNumInitial": 0
    },
    "name": "mintapelda03.ipynb",
    "colab": {
      "name": "kl_py_okt_04.ipynb",
      "provenance": [],
      "collapsed_sections": [
        "s4jIdvUEseBi",
        "z6PkYbuhseCC"
      ],
      "include_colab_link": true
    }
  },
  "cells": [
    {
      "cell_type": "markdown",
      "metadata": {
        "id": "view-in-github",
        "colab_type": "text"
      },
      "source": [
        "<a href=\"https://colab.research.google.com/github/klajosw/python/blob/master/kl_py_okt_04.ipynb\" target=\"_parent\"><img src=\"https://colab.research.google.com/assets/colab-badge.svg\" alt=\"Open In Colab\"/></a>"
      ]
    },
    {
      "cell_type": "markdown",
      "metadata": {
        "id": "U8abyDHbseAJ",
        "colab_type": "text"
      },
      "source": [
        "<p align=\"left\"> \n",
        "    <img src=\"https://raw.githubusercontent.com/klajosw/python/master/kl_mie_python_logo_250.jpg\" \n",
        "         align=\"left\" width=\"251\" height=\"251\">\n",
        "    \n",
        "</p>\n",
        "\n",
        "\n",
        "<p> </p>\n",
        "\n",
        "\n",
        "\n",
        "# Python alapok 4\n",
        "\n",
        "<https://klajosw.blogspot.com/>\n",
        "\n",
        "\n",
        "---"
      ]
    },
    {
      "cell_type": "markdown",
      "metadata": {
        "id": "ACa4BWU2seAL",
        "colab_type": "text"
      },
      "source": [
        "# File-ok kezelése\n",
        "\n",
        "\n",
        "\n",
        "Nagy mennyiségű adatok feldolgozásánál elengedthetetlen dolog a számítógépek memóriáján (RAM) kívűl a külső tárolókon (merevlemezek, egyéb adathordozók) tárolt file-ok használata is. Az alábbiakban a python alapértelmezett filekezelő függvényeivel ismerkedünk meg először, majd a `numpy` csomag filekezelő rutinjaival barátkozunk meg.\n",
        "A notebookot - mint mindig - most is kezdjük a már megszokott sorral:"
      ]
    },
    {
      "cell_type": "code",
      "metadata": {
        "id": "bxNeQzToseAM",
        "colab_type": "code",
        "colab": {},
        "outputId": "05387914-b4e9-428a-b149-7b1042df62cd"
      },
      "source": [
        "%pylab inline"
      ],
      "execution_count": 0,
      "outputs": [
        {
          "output_type": "stream",
          "text": [
            "Populating the interactive namespace from numpy and matplotlib\n"
          ],
          "name": "stdout"
        }
      ]
    },
    {
      "cell_type": "markdown",
      "metadata": {
        "id": "_WYz69gLseAQ",
        "colab_type": "text"
      },
      "source": [
        "---\n",
        "\n",
        "## A python beépített filekezelő függvényei\n",
        "\n",
        "Ebben a fejezetben a `python` egyéb moduloktól független, alapvető fileműveleteket biztosító függvényeivel fogunk megismerkedni. Ezen függvények egy file tartalmát többnyire karakterláncok formájában kezelik, ezért konkrét formátumú adatok beolvasása, illetve kiírása némi bonyodalommal jár, melyeket legtöbbször valamilyen specifikusan az adott feladatra megírt függvény tesz lehetővé. Az alábbi részben a történelmi napfoltszám-megfigyelések [adatainak](http://www.sidc.be/silso/datafiles) az elemzésén keresztül ismerkedünk meg ezekkel a függvényekkel. "
      ]
    },
    {
      "cell_type": "markdown",
      "metadata": {
        "id": "RFlTkRwYseAQ",
        "colab_type": "text"
      },
      "source": [
        "### File-ok beolvasása"
      ]
    },
    {
      "cell_type": "markdown",
      "metadata": {
        "id": "_SvV6qLeseAR",
        "colab_type": "text"
      },
      "source": [
        "Egész file beolvasása egyetlen karakterláncba az alábbiak szerint történik. \n",
        "\n",
        "Előszöris az `open()` függvény segítségével megnyitjuk a beolvasni kívánt file-t. Az `open()` függvény egy előkészítő függvény, amely arra készíti fel a rendszert, hogy az adott merevelemezen (vagy más adattárolón) fellelhető file-lal dolgozni tudjunk. Legegyszerűbb esetben ez a file nevének a megadásával történik."
      ]
    },
    {
      "cell_type": "code",
      "metadata": {
        "id": "tATZEHQAseAS",
        "colab_type": "code",
        "colab": {}
      },
      "source": [
        "file1 = open('data/NAPFOLT/SN_m_tot_V2.0.txt')"
      ],
      "execution_count": 0,
      "outputs": []
    },
    {
      "cell_type": "markdown",
      "metadata": {
        "id": "7o1UsbTlseAU",
        "colab_type": "text"
      },
      "source": [
        "A fenti kódsor hatására a `file1` változón keresztül férhetünk hozzá a file tartalmához. A file teljes tartalmát például a következő utasítással tölthetjük be egy karakterlánc formájában az `egeszfile` változóba:"
      ]
    },
    {
      "cell_type": "code",
      "metadata": {
        "id": "tH4NgXTvseAU",
        "colab_type": "code",
        "colab": {}
      },
      "source": [
        "egeszfile=file1.read()"
      ],
      "execution_count": 0,
      "outputs": []
    },
    {
      "cell_type": "markdown",
      "metadata": {
        "id": "AmTnotXEseAW",
        "colab_type": "text"
      },
      "source": [
        "Figyelem, ne keverjük össze a `file1` és az `egeszfile` változókat! Amint azt fent is említettük, az `egeszfile` egy karakterlánc, a `file1` pedig a file-ból való olvasást, illetve a file-ba való írást segítő segédobjektum, amelyet szokás esetenként (adat)folyam-nak vagy angolul streamnek is nevezni."
      ]
    },
    {
      "cell_type": "markdown",
      "metadata": {
        "id": "2YmXD0QQseAX",
        "colab_type": "text"
      },
      "source": [
        "Ha már minden olvasás és írás befejeződött, akkor a `close()` utasítással zárhatjuk be a folyamot, azaz ez a parancs szakítja meg a kommunikációt az adattárolóval."
      ]
    },
    {
      "cell_type": "code",
      "metadata": {
        "id": "HfErhOsjseAY",
        "colab_type": "code",
        "colab": {}
      },
      "source": [
        "file1.close()"
      ],
      "execution_count": 0,
      "outputs": []
    },
    {
      "cell_type": "markdown",
      "metadata": {
        "id": "xje-8MeTseAa",
        "colab_type": "text"
      },
      "source": [
        "Mivel fent betöltöttük a file tartalmát az `egeszfile` stringbe, ezért ennek segítségével bele is pillanthatunk, vizsgáljuk meg például az első 100 karaktert a file-ból:"
      ]
    },
    {
      "cell_type": "code",
      "metadata": {
        "id": "LX2s0TRQseAa",
        "colab_type": "code",
        "colab": {},
        "outputId": "a91f25a0-5be5-4707-b947-f179750c0d7d"
      },
      "source": [
        "egeszfile[:100]"
      ],
      "execution_count": 0,
      "outputs": [
        {
          "output_type": "execute_result",
          "data": {
            "text/plain": [
              "'#1. oszlop ev  ho  T[ev]  napfolt_szam\\n#2. oszlop honap\\n#3. oszlop az ido evben merve \\n#4. oszlop Na'"
            ]
          },
          "metadata": {
            "tags": []
          },
          "execution_count": 5
        }
      ]
    },
    {
      "cell_type": "markdown",
      "metadata": {
        "id": "Lh96v4JnseAc",
        "colab_type": "text"
      },
      "source": [
        "Ha megnézzük magát a [file](data/NAPFOLT/SN_m_tot_V2.0.txt)-t, akkor látható hogy tényleg ezek a dolgok vannak benne. Figyeljük meg hogy a sor vége helyett a `\\n` karakter szerepel! "
      ]
    },
    {
      "cell_type": "markdown",
      "metadata": {
        "id": "7oZ9pxVXseAd",
        "colab_type": "text"
      },
      "source": [
        "A `read()` függvény előre specifikált számú karakter olvasását is lehetővé teszi. Nyissuk meg ismét az előző file-t ismét:"
      ]
    },
    {
      "cell_type": "code",
      "metadata": {
        "id": "ux964k3dseAd",
        "colab_type": "code",
        "colab": {}
      },
      "source": [
        "file1 = open('data/NAPFOLT/SN_m_tot_V2.0.txt')"
      ],
      "execution_count": 0,
      "outputs": []
    },
    {
      "cell_type": "markdown",
      "metadata": {
        "id": "g0h55N-9seAf",
        "colab_type": "text"
      },
      "source": [
        "Olvassunk be 10 karaktert a fileból az alábbi módon:"
      ]
    },
    {
      "cell_type": "code",
      "metadata": {
        "id": "qeHHmkANseAg",
        "colab_type": "code",
        "colab": {}
      },
      "source": [
        "karakterek1=file1.read(10)"
      ],
      "execution_count": 0,
      "outputs": []
    },
    {
      "cell_type": "markdown",
      "metadata": {
        "id": "08CkWsO_seAi",
        "colab_type": "text"
      },
      "source": [
        "A `karakterek1` változó ezután a file első 10 karakterét tartalmazza (vessük össze ezt az `egeszfile[:100]` parancs kimenetével): "
      ]
    },
    {
      "cell_type": "code",
      "metadata": {
        "id": "1LpvJ-NjseAi",
        "colab_type": "code",
        "colab": {},
        "outputId": "7a7c908c-1cf0-4e5c-941b-9173195670a1"
      },
      "source": [
        "karakterek1"
      ],
      "execution_count": 0,
      "outputs": [
        {
          "output_type": "execute_result",
          "data": {
            "text/plain": [
              "'#1. oszlop'"
            ]
          },
          "metadata": {
            "tags": []
          },
          "execution_count": 8
        }
      ]
    },
    {
      "cell_type": "markdown",
      "metadata": {
        "id": "fSd20athseAo",
        "colab_type": "text"
      },
      "source": [
        "Ha ismét meghívjuk a `file1` változó `read()` függvényét, akkor az a következő 10 karaktert olvassa be:"
      ]
    },
    {
      "cell_type": "code",
      "metadata": {
        "id": "QTbhY9cLseAr",
        "colab_type": "code",
        "colab": {}
      },
      "source": [
        "karakterek2=file1.read(10)"
      ],
      "execution_count": 0,
      "outputs": []
    },
    {
      "cell_type": "code",
      "metadata": {
        "id": "xZ2IJrb-seAu",
        "colab_type": "code",
        "colab": {},
        "outputId": "b9027639-5ad9-4de8-e64f-ef89f7059046"
      },
      "source": [
        "karakterek2"
      ],
      "execution_count": 0,
      "outputs": [
        {
          "output_type": "execute_result",
          "data": {
            "text/plain": [
              "' ev  ho  T'"
            ]
          },
          "metadata": {
            "tags": []
          },
          "execution_count": 10
        }
      ]
    },
    {
      "cell_type": "markdown",
      "metadata": {
        "id": "Mxx87YyhseA7",
        "colab_type": "text"
      },
      "source": [
        "Látjuk tehát hogy a `read()` utasítás hatására könyörtelenül haladunk végig a file karakterein: úgy tűnhet, ha már egyszer valamit beolvastunk, akkor azt többé már nem tudjuk! Szerencsére ez nem így van, mivel a `tell()` és a `seek()` függvények segítségével kérdezhetjük le, illetve állíthatjuk be egy megnyitott filefolyam aktuális pozicióját."
      ]
    },
    {
      "cell_type": "markdown",
      "metadata": {
        "id": "B05DbwvPseA8",
        "colab_type": "text"
      },
      "source": [
        "A `tell()` függvényt alkalmazva a `file1` változóra megkaphatjuk az aktuális folyampoziciót. Ami a jelen esetben 20, hiszen az előző két read parancs 10 karaktert olvasott be!"
      ]
    },
    {
      "cell_type": "code",
      "metadata": {
        "id": "BmhMaPQQseA8",
        "colab_type": "code",
        "colab": {},
        "outputId": "03d3660c-3694-4bde-b479-41c19445bc0d"
      },
      "source": [
        "file1.tell()"
      ],
      "execution_count": 0,
      "outputs": [
        {
          "output_type": "execute_result",
          "data": {
            "text/plain": [
              "20"
            ]
          },
          "metadata": {
            "tags": []
          },
          "execution_count": 11
        }
      ]
    },
    {
      "cell_type": "markdown",
      "metadata": {
        "id": "TvBqyZw8seA_",
        "colab_type": "text"
      },
      "source": [
        "A `seek()` parancs segítségével a file egy teszőleges helyére ugorhatunk. A `seek(n)` függvény alkalmazásával a file `n`-edik karakterére ugrunk. Ha ezután alkalmazzuk a `read()` függvényt, akkor a file tartalmát ettől a poziciótól olvassuk."
      ]
    },
    {
      "cell_type": "code",
      "metadata": {
        "id": "6Rde_USxseBA",
        "colab_type": "code",
        "colab": {},
        "outputId": "801d28fd-6c03-48d2-d6ae-ff608a7a0012"
      },
      "source": [
        "file1.seek(5)"
      ],
      "execution_count": 0,
      "outputs": [
        {
          "output_type": "execute_result",
          "data": {
            "text/plain": [
              "5"
            ]
          },
          "metadata": {
            "tags": []
          },
          "execution_count": 12
        }
      ]
    },
    {
      "cell_type": "markdown",
      "metadata": {
        "id": "ngEXXauzseBC",
        "colab_type": "text"
      },
      "source": [
        "Az alábbi parancs tehát a 5. karaktertől olvas be újabb 10 darab karaktert. "
      ]
    },
    {
      "cell_type": "code",
      "metadata": {
        "id": "MX3TveCZseBD",
        "colab_type": "code",
        "colab": {}
      },
      "source": [
        "karakterek3=file1.read(10)"
      ],
      "execution_count": 0,
      "outputs": []
    },
    {
      "cell_type": "code",
      "metadata": {
        "id": "PTKMKFtvseBF",
        "colab_type": "code",
        "colab": {},
        "outputId": "207fda24-e9f4-48cf-b690-d123891e4d3d"
      },
      "source": [
        "karakterek3"
      ],
      "execution_count": 0,
      "outputs": [
        {
          "output_type": "execute_result",
          "data": {
            "text/plain": [
              "'szlop ev  '"
            ]
          },
          "metadata": {
            "tags": []
          },
          "execution_count": 14
        }
      ]
    },
    {
      "cell_type": "markdown",
      "metadata": {
        "id": "qeHzjNWQseBH",
        "colab_type": "text"
      },
      "source": [
        "Zárjuk ismét be a file-t!"
      ]
    },
    {
      "cell_type": "code",
      "metadata": {
        "id": "RsX6bRjxseBH",
        "colab_type": "code",
        "colab": {}
      },
      "source": [
        "file1.close()"
      ],
      "execution_count": 0,
      "outputs": []
    },
    {
      "cell_type": "markdown",
      "metadata": {
        "id": "3VTOju_lseBL",
        "colab_type": "text"
      },
      "source": [
        "Nagyon sok esetben az adatfile-okban hordozott információ táblázatszerűen vannak rendezve. Az file minden sora hasonló tagolással csoportosítja a számunkra értékes adatokat. \n",
        "Egy megnyitott file minden sorát - mint soronkénti karakterláncok listáját - a readlines függvény segítségével gyárthatjuk le."
      ]
    },
    {
      "cell_type": "code",
      "metadata": {
        "id": "-5vhig_VseBM",
        "colab_type": "code",
        "colab": {}
      },
      "source": [
        "file1 = open('data/NAPFOLT/SN_m_tot_V2.0.txt')    "
      ],
      "execution_count": 0,
      "outputs": []
    },
    {
      "cell_type": "code",
      "metadata": {
        "id": "qtunAKvCseBO",
        "colab_type": "code",
        "colab": {}
      },
      "source": [
        "sorok = file1.readlines()"
      ],
      "execution_count": 0,
      "outputs": []
    },
    {
      "cell_type": "markdown",
      "metadata": {
        "id": "dau-7ATfseBP",
        "colab_type": "text"
      },
      "source": [
        "Mivel már nincs szükség a a file-ra ezért be is csukjuk azt!"
      ]
    },
    {
      "cell_type": "code",
      "metadata": {
        "id": "WX5ZEWcEseBQ",
        "colab_type": "code",
        "colab": {}
      },
      "source": [
        "file1.close()    "
      ],
      "execution_count": 0,
      "outputs": []
    },
    {
      "cell_type": "markdown",
      "metadata": {
        "id": "ASlikRgNseBS",
        "colab_type": "text"
      },
      "source": [
        "A sorok lista minden eleme most tehát egy egy sor a file-ból, vizsgáljuk meg például az első 10 sort:"
      ]
    },
    {
      "cell_type": "code",
      "metadata": {
        "id": "Nb8tFgNTseBS",
        "colab_type": "code",
        "colab": {},
        "outputId": "b3dccc7a-74c8-42fd-e23c-fa62fb82520c"
      },
      "source": [
        "sorok[0:10]"
      ],
      "execution_count": 0,
      "outputs": [
        {
          "output_type": "execute_result",
          "data": {
            "text/plain": [
              "['#1. oszlop ev  ho  T[ev]  napfolt_szam\\n',\n",
              " '#2. oszlop honap\\n',\n",
              " '#3. oszlop az ido evben merve \\n',\n",
              " '#4. oszlop Napfoltok szamanak atlaga\\n',\n",
              " '#5. oszlop Napfoltok szamanak szorasa, negativ ertekek azt jelentik hogy az informacio nem all rendelkezesre!\\n',\n",
              " '#6. oszlop Napfolt meresek szama,      negativ ertekek azt jelentik hogy az informacio nem all rendelkezesre!\\n',\n",
              " '1749 01 1749.042   96.7  -1.0    -1  \\n',\n",
              " '1749 02 1749.123  104.3  -1.0    -1  \\n',\n",
              " '1749 03 1749.204  116.7  -1.0    -1  \\n',\n",
              " '1749 04 1749.288   92.8  -1.0    -1  \\n']"
            ]
          },
          "metadata": {
            "tags": []
          },
          "execution_count": 19
        }
      ]
    },
    {
      "cell_type": "markdown",
      "metadata": {
        "id": "74or3ooiseBU",
        "colab_type": "text"
      },
      "source": [
        "Amint látjuk, az első hat sor a '#' karakterrel kezdődik, és minden ilyen sor azt mondja meg hogy a tényleges adatok megfelelő oszlopa mit tartalmaz. A hetedik sortól lefelé viszont szóközökkel elválasztott számok vannak, ez maga a hőn áhitott adat, de sajnos még mindig karakterláncok formájában! "
      ]
    },
    {
      "cell_type": "markdown",
      "metadata": {
        "id": "LqQkbXdPseBV",
        "colab_type": "text"
      },
      "source": [
        "Az első értékes adatsor a file 7.-sora:"
      ]
    },
    {
      "cell_type": "code",
      "metadata": {
        "id": "DEnP2LOXseBW",
        "colab_type": "code",
        "colab": {},
        "outputId": "0bd76e54-eb21-4d6e-e6d4-eb78f08ec593"
      },
      "source": [
        "sorok[6]"
      ],
      "execution_count": 0,
      "outputs": [
        {
          "output_type": "execute_result",
          "data": {
            "text/plain": [
              "'1749 01 1749.042   96.7  -1.0    -1  \\n'"
            ]
          },
          "metadata": {
            "tags": []
          },
          "execution_count": 20
        }
      ]
    },
    {
      "cell_type": "markdown",
      "metadata": {
        "id": "KdjfMwrsseBY",
        "colab_type": "text"
      },
      "source": [
        "Egy karakterláncot a `split()` parancs segítségével adott karakterek mentén fel tudunk vágni egy listába. A `split()` parancs alapértelmezésben szóközök szerint vágja fel a megjelölt karakterláncot, így az első értékes adatsor oszlopokra szabása az alábbiak szerint történik:"
      ]
    },
    {
      "cell_type": "code",
      "metadata": {
        "id": "zkNW3VTpseBY",
        "colab_type": "code",
        "colab": {},
        "outputId": "598623a3-6ea3-4e7a-ad33-dbe9ef8e0e9e"
      },
      "source": [
        "sorok[6].split()"
      ],
      "execution_count": 0,
      "outputs": [
        {
          "output_type": "execute_result",
          "data": {
            "text/plain": [
              "['1749', '01', '1749.042', '96.7', '-1.0', '-1']"
            ]
          },
          "metadata": {
            "tags": []
          },
          "execution_count": 21
        }
      ]
    },
    {
      "cell_type": "markdown",
      "metadata": {
        "id": "SX6O_hsWseBa",
        "colab_type": "text"
      },
      "source": [
        "Az eredmény tehát egy lista mely tartalmazza az értékes adatokat, ugyan még mindig karakterláncok formájában! \n",
        "Az egyes elemeket lebegőpontos számmá a már ismert `float()` függvénnyel konvertálhatjuk. Tehát az első adatsor negyedik oszlopából a következő módon készíthetünk hús-vér számot:"
      ]
    },
    {
      "cell_type": "code",
      "metadata": {
        "id": "-ErorUq8seBb",
        "colab_type": "code",
        "colab": {},
        "outputId": "6358c2af-e077-4ba7-83bb-ef7ac490d2ff"
      },
      "source": [
        "float(sorok[6].split()[3])"
      ],
      "execution_count": 0,
      "outputs": [
        {
          "output_type": "execute_result",
          "data": {
            "text/plain": [
              "96.7"
            ]
          },
          "metadata": {
            "tags": []
          },
          "execution_count": 22
        }
      ]
    },
    {
      "cell_type": "markdown",
      "metadata": {
        "id": "ykfSHOGeseBe",
        "colab_type": "text"
      },
      "source": [
        "Ha már egy elemet számmá tudunk konvertálni, akkor egy `for` ciklus segítségével számokat tartalmazó listákba tudjuk rendezni az adatokat a már megszokott módon:"
      ]
    },
    {
      "cell_type": "code",
      "metadata": {
        "id": "B57AVrRYseBf",
        "colab_type": "code",
        "colab": {}
      },
      "source": [
        "num_napfolt=[]\n",
        "meresi_ido=[]\n",
        "for sor in sorok[6:]:\n",
        "    num_napfolt.append( float(sor.split()[3]) )\n",
        "    meresi_ido.append(  float(sor.split()[2]) )"
      ],
      "execution_count": 0,
      "outputs": []
    },
    {
      "cell_type": "markdown",
      "metadata": {
        "id": "nHZldvbHseBg",
        "colab_type": "text"
      },
      "source": [
        "Ábrázoljuk végül a napfoltok számát az évek függvényében:"
      ]
    },
    {
      "cell_type": "code",
      "metadata": {
        "id": "YLcFOjVtseBh",
        "colab_type": "code",
        "colab": {},
        "outputId": "8d50355c-98b7-43b5-9a5b-c3b6abe67a5e"
      },
      "source": [
        "plot(meresi_ido,num_napfolt)\n",
        "xlabel('T[ev]')\n",
        "ylabel('Napfoltszam')"
      ],
      "execution_count": 0,
      "outputs": [
        {
          "output_type": "execute_result",
          "data": {
            "text/plain": [
              "<matplotlib.text.Text at 0x7f56fda6a6d8>"
            ]
          },
          "metadata": {
            "tags": []
          },
          "execution_count": 24
        },
        {
          "output_type": "display_data",
          "data": {
            "image/png": "[encoded data removed]",
            "text/plain": [
              "<matplotlib.figure.Figure at 0x7f56fdac7518>"
            ]
          },
          "metadata": {
            "tags": []
          }
        }
      ]
    },
    {
      "cell_type": "markdown",
      "metadata": {
        "id": "s4jIdvUEseBi",
        "colab_type": "text"
      },
      "source": [
        "### Mentés\n",
        "\n",
        "Az adatok beolvasása mellett sokszor lehet szükség a feldolgozott információ újbóli kiírására. Erre a `python` az adatfolyam típusú változókra alkalmazott `write()` függvényt kínálja. Vizsgáljuk meg, hogy hogy működik a fileírás, egy egyszerű példán! Nyissunk meg egy file-t, amelybe írni szeretnénk, ezt az `open()` függvény `mode` kulcsszavas paraméterén keresztül tudjuk jelezni a `mode='w'` beállítással. Itt a `w` az írási módot jelenti."
      ]
    },
    {
      "cell_type": "code",
      "metadata": {
        "id": "JRXK9NKDseBj",
        "colab_type": "code",
        "colab": {}
      },
      "source": [
        "file2=open('data/mentes1.dat',mode='w')"
      ],
      "execution_count": 0,
      "outputs": []
    },
    {
      "cell_type": "markdown",
      "metadata": {
        "id": "DnyMlKwIseBk",
        "colab_type": "text"
      },
      "source": [
        "A `file2` folyamba a `write()` függvény segítségével tudunk karakterláncokat írni:"
      ]
    },
    {
      "cell_type": "code",
      "metadata": {
        "id": "yCRvzXPyseBl",
        "colab_type": "code",
        "colab": {},
        "outputId": "c485921d-91ce-46e8-ce49-31f16776176a"
      },
      "source": [
        "file2.write('#Ez az elso kiirt fileom!\\n')"
      ],
      "execution_count": 0,
      "outputs": [
        {
          "output_type": "execute_result",
          "data": {
            "text/plain": [
              "26"
            ]
          },
          "metadata": {
            "tags": []
          },
          "execution_count": 26
        }
      ]
    },
    {
      "cell_type": "markdown",
      "metadata": {
        "id": "AS8mL2CPseBn",
        "colab_type": "text"
      },
      "source": [
        "A write fügvény alapértelmezett visszatérési értéke a file-ba kiírt karakterek száma. A biztonság kedvéért zárjuk be a file-t!"
      ]
    },
    {
      "cell_type": "code",
      "metadata": {
        "collapsed": true,
        "id": "4KfSUAAJseBn",
        "colab_type": "code",
        "colab": {}
      },
      "source": [
        "file2.close()"
      ],
      "execution_count": 0,
      "outputs": []
    },
    {
      "cell_type": "markdown",
      "metadata": {
        "id": "JeTLGcngseBq",
        "colab_type": "text"
      },
      "source": [
        "Ha már meglévő file-hoz szeretnénk további karaktereket fűzni, akkor az `open()` függvény `mode` paraméterének `mode='a'` beállításával jelezzük ezt. Az `'a'` karakter itt az append angol szó rövidítése, mely ismerős lehet már számunkra egy, a listákra vonatkozó függvény nevéből."
      ]
    },
    {
      "cell_type": "code",
      "metadata": {
        "collapsed": true,
        "id": "YR8x_6K9seBq",
        "colab_type": "code",
        "colab": {}
      },
      "source": [
        "file2=open('data/mentes1.dat',mode='a')"
      ],
      "execution_count": 0,
      "outputs": []
    },
    {
      "cell_type": "markdown",
      "metadata": {
        "id": "VsXViUJdseBs",
        "colab_type": "text"
      },
      "source": [
        "Írjuk ki a mérési idő (`meresi_ido`) és a napfoltok számát tartalmazó (`num_napfolt`) adatokat a már fent létrehozott `data/mentes1.dat` file-ba. \n",
        "Ezt egy `for` ciklus segítségével fogjuk megtenni:"
      ]
    },
    {
      "cell_type": "code",
      "metadata": {
        "collapsed": true,
        "id": "BOHmCLe4seBt",
        "colab_type": "code",
        "colab": {}
      },
      "source": [
        "for i in range(len(meresi_ido)):\n",
        "    file2.write(str(meresi_ido[i])+' '+str(num_napfolt[i])+'\\n')"
      ],
      "execution_count": 0,
      "outputs": []
    },
    {
      "cell_type": "markdown",
      "metadata": {
        "id": "gdFNjYK-seBv",
        "colab_type": "text"
      },
      "source": [
        "A `write()` függvény hasába írt karakterlánc a `meresi_ido` és `num_napfolt` tömbök megfelelő sorában lévő elemet tartalmazza szóközzel elválasztva, illetve a sor végét egy sortörés `'\\n'` -el jelezve."
      ]
    },
    {
      "cell_type": "markdown",
      "metadata": {
        "id": "w1Wt0-LcseBw",
        "colab_type": "text"
      },
      "source": [
        "Zárjuk ismét be a file-t:"
      ]
    },
    {
      "cell_type": "code",
      "metadata": {
        "collapsed": true,
        "id": "K674pm1nseBw",
        "colab_type": "code",
        "colab": {}
      },
      "source": [
        "file2.close()"
      ],
      "execution_count": 0,
      "outputs": []
    },
    {
      "cell_type": "markdown",
      "metadata": {
        "id": "CBIimJl0seBy",
        "colab_type": "text"
      },
      "source": [
        "A beolvasáshoz hasonlóan a kiíratásnál is van lehetőség egész sorok kiírására. Ezt, talán nem túl meglepő módon a `writelines()` függvény valósítja meg. Ez a függvény karakterláncok listáját írja ki egy file-ba egy megnyitott filefolyamon keresztül.  "
      ]
    },
    {
      "cell_type": "code",
      "metadata": {
        "id": "S6uQZOl7seBz",
        "colab_type": "code",
        "colab": {}
      },
      "source": [
        "file3=open('data/mentes2.dat',mode='w')"
      ],
      "execution_count": 0,
      "outputs": []
    },
    {
      "cell_type": "markdown",
      "metadata": {
        "id": "-mISPJYmseB1",
        "colab_type": "text"
      },
      "source": [
        "Ha a lista minden karakterlánca `'\\n'` karakterre végződik, akkor a kiíratás során a file-ban minden listaelem egy-egy külön sorba kerül:"
      ]
    },
    {
      "cell_type": "code",
      "metadata": {
        "collapsed": true,
        "id": "Hk0e6B4qseB3",
        "colab_type": "code",
        "colab": {}
      },
      "source": [
        "sorok=['Ez az elso sor\\n','Ez a masodik sor\\n'];"
      ],
      "execution_count": 0,
      "outputs": []
    },
    {
      "cell_type": "code",
      "metadata": {
        "id": "4SDTtmFkseB7",
        "colab_type": "code",
        "colab": {}
      },
      "source": [
        "file3.writelines(sorok)"
      ],
      "execution_count": 0,
      "outputs": []
    },
    {
      "cell_type": "markdown",
      "metadata": {
        "id": "KRy0OPlSseB9",
        "colab_type": "text"
      },
      "source": [
        "Mi történik, ha lemarad a `'\\n'` ? "
      ]
    },
    {
      "cell_type": "code",
      "metadata": {
        "collapsed": true,
        "id": "k7nzOY3CseB9",
        "colab_type": "code",
        "colab": {}
      },
      "source": [
        "sorok=['Ez az harmadik','Ez hova kerult?\\n'];"
      ],
      "execution_count": 0,
      "outputs": []
    },
    {
      "cell_type": "code",
      "metadata": {
        "collapsed": true,
        "id": "_vP8SEb2seB_",
        "colab_type": "code",
        "colab": {}
      },
      "source": [
        "file3.writelines(sorok)"
      ],
      "execution_count": 0,
      "outputs": []
    },
    {
      "cell_type": "code",
      "metadata": {
        "collapsed": true,
        "id": "LzxsmpCaseCA",
        "colab_type": "code",
        "colab": {}
      },
      "source": [
        "file3.close()"
      ],
      "execution_count": 0,
      "outputs": []
    },
    {
      "cell_type": "markdown",
      "metadata": {
        "id": "8U1Qz6h_seCC",
        "colab_type": "text"
      },
      "source": [
        "Vizsgáljuk meg magát a file-t!"
      ]
    },
    {
      "cell_type": "markdown",
      "metadata": {
        "id": "z6PkYbuhseCC",
        "colab_type": "text"
      },
      "source": [
        "### Különös karakterek karakterláncokban\n",
        "\n",
        "A fentiekben már többször is találkoztunk a sortörést jelölő `'\\n' ` karakterrel. Ehhez hasonlóan van néhány más úgynevezett [literális](https://docs.python.org/2.0/ref/strings.html) karakter, amelynek speciális jelentése van. Ezek közül az alábbi táblázatban összefoglalunk néhányat:"
      ]
    },
    {
      "cell_type": "markdown",
      "metadata": {
        "id": "8WU9YVK3seCD",
        "colab_type": "text"
      },
      "source": [
        "\n",
        "karakter |\tjelentés\n",
        "-|-\n",
        "\\n|\tsortörés\n",
        "\\r|\tkocsi vissza\n",
        "\\t|\tvízszintes kihagyás (TAB)\n",
        "\\v| függőleges kihagyás (TAB)\n",
        "\\xhh..| hexadecimális karakter hh.. értékkel\n",
        "\n"
      ]
    },
    {
      "cell_type": "markdown",
      "metadata": {
        "id": "BYCz2pIiseCD",
        "colab_type": "text"
      },
      "source": [
        "A print függvény segítségével az alábbi példán demonstráljuk a `'\\r'`, `'\\t'`, és a már ismert `'\\n'` hatását:"
      ]
    },
    {
      "cell_type": "code",
      "metadata": {
        "id": "rnXHXy82seCE",
        "colab_type": "code",
        "colab": {},
        "outputId": "34208c05-303c-4081-d42e-5b775d87ec20"
      },
      "source": [
        "print(\"EZEK ITT NAGYBETUKezek itt kisbetuk\")"
      ],
      "execution_count": 0,
      "outputs": [
        {
          "output_type": "stream",
          "text": [
            "EZEK ITT NAGYBETUKezek itt kisbetuk\n"
          ],
          "name": "stdout"
        }
      ]
    },
    {
      "cell_type": "code",
      "metadata": {
        "id": "jvbwq3HFseCH",
        "colab_type": "code",
        "colab": {},
        "outputId": "8286f724-f3b3-4872-8a0e-cb2a79e85406"
      },
      "source": [
        "print(\"EZEK ITT NAGYBETUK\\rezek itt kisbetuk\")"
      ],
      "execution_count": 0,
      "outputs": [
        {
          "output_type": "stream",
          "text": [
            "EZEK ITT NAGYBETUK\rezek itt kisbetuk\n"
          ],
          "name": "stdout"
        }
      ]
    },
    {
      "cell_type": "code",
      "metadata": {
        "id": "OYTcWCh0seCI",
        "colab_type": "code",
        "colab": {},
        "outputId": "8f11a41b-ca07-4d46-d789-c776c2f4b99a"
      },
      "source": [
        "print(\"EZEK ITT NAGYBETUK\\tezek itt kisbetuk\")"
      ],
      "execution_count": 0,
      "outputs": [
        {
          "output_type": "stream",
          "text": [
            "EZEK ITT NAGYBETUK\tezek itt kisbetuk\n"
          ],
          "name": "stdout"
        }
      ]
    },
    {
      "cell_type": "code",
      "metadata": {
        "id": "l2S9c74dseCL",
        "colab_type": "code",
        "colab": {},
        "outputId": "2c69b90e-1d0b-46ff-d8fd-aed40dd8d758"
      },
      "source": [
        "print(\"EZEK ITT NAGYBETUK\\nezek itt kisbetuk\")"
      ],
      "execution_count": 0,
      "outputs": [
        {
          "output_type": "stream",
          "text": [
            "EZEK ITT NAGYBETUK\n",
            "ezek itt kisbetuk\n"
          ],
          "name": "stdout"
        }
      ]
    },
    {
      "cell_type": "markdown",
      "metadata": {
        "id": "a9otzPNsseCM",
        "colab_type": "text"
      },
      "source": [
        "Ezek a karakterek file-ba való írás közben is hasonlóan viselkednek!"
      ]
    },
    {
      "cell_type": "markdown",
      "metadata": {
        "id": "N-UmWyx9seCN",
        "colab_type": "text"
      },
      "source": [
        "---\n",
        "\n",
        "## Numpy filekezelő rutinok"
      ]
    },
    {
      "cell_type": "markdown",
      "metadata": {
        "id": "0B1XF3KbseCO",
        "colab_type": "text"
      },
      "source": [
        "Amint korábbiakban is láthattuk, a `numpy` csomag `array` típusú változói számos előnyös tulajdonsággal rendelkeznek a sima `list` típusú változókhoz képest. A `numpy` csomag biztosít néhány hasznos filekezelő rutint, melyek az `array` tipusú változók file-ba kiírására, illetve file-okból történő beolvasására használhatóak. Az alábbiakban két érdekes példán keresztül fogjuk megvizsgálni ezeket a függvényeket.\n",
        "\n",
        "\n",
        "Elemezzük Felix Baumgartner  adatait. Az ugrás megtett út$--$idő adatait a `data/BAUMGARTNER/h_vs_t` file-ban találjuk. (Vizsgáljuk meg magát a file-t is! ) A file két oszlopnyi számot tartalmaz. Az első oszlop az idő s-ban, a második oszlop az adott időben mért magasság m-ben. Ilyen jellegű egyszerű struktúrájú file-ok beolvasására és az adatok array-ba való töltésére a `numpy` csomag `loadtxt` függvényét használhatjuk:"
      ]
    },
    {
      "cell_type": "code",
      "metadata": {
        "id": "8ypdNxDgseCP",
        "colab_type": "code",
        "colab": {}
      },
      "source": [
        "baum_data=loadtxt('data/BAUMGARTNER/h_vs_t')"
      ],
      "execution_count": 0,
      "outputs": []
    },
    {
      "cell_type": "markdown",
      "metadata": {
        "id": "3lV8RWntseCT",
        "colab_type": "text"
      },
      "source": [
        "A `baum_data` tömb első oszlopát a a `t` változóba, a második oszlopát pedig a `h` változóba tároljuk:"
      ]
    },
    {
      "cell_type": "code",
      "metadata": {
        "id": "ulnOfBVbseCT",
        "colab_type": "code",
        "colab": {}
      },
      "source": [
        "t=baum_data[:,0] # idő\n",
        "h=baum_data[:,1] # magasság"
      ],
      "execution_count": 0,
      "outputs": []
    },
    {
      "cell_type": "markdown",
      "metadata": {
        "id": "Cj4BqxeOseCU",
        "colab_type": "text"
      },
      "source": [
        "Ábrázoljuk az adatokat! A tengelyfeliratok természetesen nem maradhatnak el!"
      ]
    },
    {
      "cell_type": "code",
      "metadata": {
        "id": "P4FoPR5YseCV",
        "colab_type": "code",
        "colab": {},
        "outputId": "c4dd541d-fa0e-4445-f411-68ea23d3066c"
      },
      "source": [
        "plot(t,h)\n",
        "xlabel('Ido [s]')\n",
        "ylabel('Magassag [m]')"
      ],
      "execution_count": 0,
      "outputs": [
        {
          "output_type": "execute_result",
          "data": {
            "text/plain": [
              "<matplotlib.text.Text at 0x7f56fdaad5c0>"
            ]
          },
          "metadata": {
            "tags": []
          },
          "execution_count": 50
        },
        {
          "output_type": "display_data",
          "data": {
            "image/png": "[encoded data removed]",
            "text/plain": [
              "<matplotlib.figure.Figure at 0x7f570806a828>"
            ]
          },
          "metadata": {
            "tags": []
          }
        }
      ]
    },
    {
      "cell_type": "markdown",
      "metadata": {
        "id": "LLrJtki3seCW",
        "colab_type": "text"
      },
      "source": [
        "Az ugrással kapcsolatban egy igen fontos kérdés volt, hogy vajon sikerült-e szabadesésben átlépni a hangsebességet? Vizsgáljuk meg, hogy ezen adatok alapján vajon átlépte-e Felix Baumgartner a hanghatárt! Először is szükség van a sebesség időfüggésére. Ezt a magasság$--$idő függvény numerikus deriváltjával fogjuk most meghatározni. \n",
        "Ha egy $y(x)$ függvényt mintavételezésével véges darab $x_i,y_i$ párt kapunk, akkor az $y(x)$ függvény numerikus deriváltját a következő differencia hányadossal közelíthetjük:\n",
        "\n",
        "\n",
        " $$\\left . \\frac{\\mathrm{d}y}{\\mathrm{d}x}\\right|_{x_i} =\\frac{y_{i+1}-y_i}{x_{i+1}-x_i} $$"
      ]
    },
    {
      "cell_type": "markdown",
      "metadata": {
        "id": "OYIJJEz_seCW",
        "colab_type": "text"
      },
      "source": [
        "Definiáljunk most egy függvényt, mely  két ugyanolyan hosszúságú  tömb `x` és `y` adataiból legenerálja a két tömb numerikus derviáltját. Figyeljük meg, hogy az utolsó és az első adatpontban a fenti képlettől egy kicsit eltérő módon járunk el."
      ]
    },
    {
      "cell_type": "code",
      "metadata": {
        "id": "nQwdV1HkseCX",
        "colab_type": "code",
        "colab": {}
      },
      "source": [
        "# numerikus derivált függvény\n",
        "def nderiv(y,x):\n",
        "    \"Első szomszéd differenciál\"\n",
        "    n = len(y) # adatpontok száma\n",
        "    d = zeros(n) # változó inicializálás. A zeros() függvény tetszőleges alakú és 0-kat tartalmazó arrayt gyárt\n",
        "    # mivel a legegyszerűbb numerikus differenciálás nem szimmetrikus a végpontokat\n",
        "    # kicsit másképp kezeljük mint a tömb belsejében lévő pontokat\n",
        "    for i in range(1,n-1):\n",
        "        d[i] = (y[i+1]-y[i])/(x[i+1]-x[i])   #egy általános pont deriváltja\n",
        "    d[0] = (y[1]-y[0])/(x[1]-x[0])           #az első pont deriváltja\n",
        "    d[n-1] = (y[n-1]-y[n-2])/(x[n-1]-x[n-2]) # az utolsó pont deriváltja\n",
        "    return d\n"
      ],
      "execution_count": 0,
      "outputs": []
    },
    {
      "cell_type": "markdown",
      "metadata": {
        "id": "lWtWujT1seCY",
        "colab_type": "text"
      },
      "source": [
        "<img  src=\"XA99SXT37G5VNU1K1K8UJRQW04FIOI7A.png\"/>"
      ]
    },
    {
      "cell_type": "markdown",
      "metadata": {
        "id": "zt_yyDfDseCY",
        "colab_type": "text"
      },
      "source": [
        "Az nderiv függvény segítségével a sebesség meghatározható."
      ]
    },
    {
      "cell_type": "code",
      "metadata": {
        "id": "7Ed_qz6rseCZ",
        "colab_type": "code",
        "colab": {}
      },
      "source": [
        "v=nderiv(h,t) # Figyelem az első változó a h a második a t!!!"
      ],
      "execution_count": 0,
      "outputs": []
    },
    {
      "cell_type": "markdown",
      "metadata": {
        "id": "ewguyU8FseCc",
        "colab_type": "text"
      },
      "source": [
        "Vizsgáljuk meg a sebesség$--$idő függvényt!"
      ]
    },
    {
      "cell_type": "code",
      "metadata": {
        "id": "exBqxRcFseCc",
        "colab_type": "code",
        "colab": {},
        "outputId": "2a672591-7560-4aa4-e9cd-931a7cf7b904"
      },
      "source": [
        "plot(t,v)\n",
        "xlabel('Ido [s]')\n",
        "ylabel('Sebesseg [m/s]')"
      ],
      "execution_count": 0,
      "outputs": [
        {
          "output_type": "execute_result",
          "data": {
            "text/plain": [
              "<matplotlib.text.Text at 0x7f56fd6c7d30>"
            ]
          },
          "metadata": {
            "tags": []
          },
          "execution_count": 53
        },
        {
          "output_type": "display_data",
          "data": {
            "image/png": "[encoded data removed]",
            "text/plain": [
              "<matplotlib.figure.Figure at 0x7f56fdab0d68>"
            ]
          },
          "metadata": {
            "tags": []
          }
        }
      ]
    },
    {
      "cell_type": "markdown",
      "metadata": {
        "id": "FTyqCxayseCe",
        "colab_type": "text"
      },
      "source": [
        "Mivel általában a hang terjedési sebessége függ a magasságtól, ezért annak érdekében, hogy megtudjuk, hogy sikerült-e áttörni a hanghatárt, célszerű a sebességet a magasság függvényében ábrázolni:"
      ]
    },
    {
      "cell_type": "code",
      "metadata": {
        "id": "svYmFRkMseCe",
        "colab_type": "code",
        "colab": {},
        "outputId": "b94f1de7-9103-4ad5-d6fb-ac80ab533606"
      },
      "source": [
        "plot(h,abs(v))\n",
        "xlabel('Magassag [m]')\n",
        "ylabel('Sebesseg [m/s]')"
      ],
      "execution_count": 0,
      "outputs": [
        {
          "output_type": "execute_result",
          "data": {
            "text/plain": [
              "<matplotlib.text.Text at 0x7f57080d59e8>"
            ]
          },
          "metadata": {
            "tags": []
          },
          "execution_count": 54
        },
        {
          "output_type": "display_data",
          "data": {
            "image/png": "[encoded data removed]",
            "text/plain": [
              "<matplotlib.figure.Figure at 0x7f56fd635898>"
            ]
          },
          "metadata": {
            "tags": []
          }
        }
      ]
    },
    {
      "cell_type": "markdown",
      "metadata": {
        "id": "e9s1Q1lGseCh",
        "colab_type": "text"
      },
      "source": [
        "A wikipédián található [adatok](https://upload.wikimedia.org/wikipedia/commons/thumb/9/9d/Comparison_US_standard_atmosphere_1962.svg/2000px-Comparison_US_standard_atmosphere_1962.svg.png) alapján a hangsebesség 25km magasságban valamivel 300 m/s alatt van. Ezen a magasságon Felix sebessége 350 m/s körül mozgott, tehát a rekord - a mérési adatok alapján - sikerült!\n"
      ]
    },
    {
      "cell_type": "markdown",
      "metadata": {
        "id": "9Mm55T7PseCh",
        "colab_type": "text"
      },
      "source": [
        "Vizsgáljuk meg a `loadtxt()` függvény néhány paraméterét is! Ezt a feladatot a 2014-es ebola járvány statisztikai adatait tartalmazó file segítségével fogjuk megtenni."
      ]
    },
    {
      "cell_type": "markdown",
      "metadata": {
        "id": "EDeCKpJDseCh",
        "colab_type": "text"
      },
      "source": [
        "Próbáljuk meg betölteni a `'data/EBOLA/ebola_vesszoesszazalekjel.txt'` - filet!"
      ]
    },
    {
      "cell_type": "code",
      "metadata": {
        "id": "LyOvT5AcseCi",
        "colab_type": "code",
        "colab": {},
        "outputId": "2d77c8ae-ea08-43f6-c0ba-3935f2310dd9"
      },
      "source": [
        "ebola_data=loadtxt('data/EBOLA/ebola_vesszoesszazalekjel.txt')"
      ],
      "execution_count": 0,
      "outputs": [
        {
          "output_type": "error",
          "ename": "ValueError",
          "evalue": "could not convert string to float: b'%'",
          "traceback": [
            "\u001b[1;31m---------------------------------------------------------------------------\u001b[0m",
            "\u001b[1;31mValueError\u001b[0m                                Traceback (most recent call last)",
            "\u001b[1;32m<ipython-input-55-2afee1d9618b>\u001b[0m in \u001b[0;36m<module>\u001b[1;34m()\u001b[0m\n\u001b[1;32m----> 1\u001b[1;33m \u001b[0mebola_data\u001b[0m\u001b[1;33m=\u001b[0m\u001b[0mloadtxt\u001b[0m\u001b[1;33m(\u001b[0m\u001b[1;34m'data/EBOLA/ebola_vesszoesszazalekjel.txt'\u001b[0m\u001b[1;33m)\u001b[0m\u001b[1;33m\u001b[0m\u001b[0m\n\u001b[0m",
            "\u001b[1;32m/home/oroszlany/.local/lib/python3.5/site-packages/numpy/lib/npyio.py\u001b[0m in \u001b[0;36mloadtxt\u001b[1;34m(fname, dtype, comments, delimiter, converters, skiprows, usecols, unpack, ndmin)\u001b[0m\n\u001b[0;32m    928\u001b[0m \u001b[1;33m\u001b[0m\u001b[0m\n\u001b[0;32m    929\u001b[0m             \u001b[1;31m# Convert each value according to its column and store\u001b[0m\u001b[1;33m\u001b[0m\u001b[1;33m\u001b[0m\u001b[0m\n\u001b[1;32m--> 930\u001b[1;33m             \u001b[0mitems\u001b[0m \u001b[1;33m=\u001b[0m \u001b[1;33m[\u001b[0m\u001b[0mconv\u001b[0m\u001b[1;33m(\u001b[0m\u001b[0mval\u001b[0m\u001b[1;33m)\u001b[0m \u001b[1;32mfor\u001b[0m \u001b[1;33m(\u001b[0m\u001b[0mconv\u001b[0m\u001b[1;33m,\u001b[0m \u001b[0mval\u001b[0m\u001b[1;33m)\u001b[0m \u001b[1;32min\u001b[0m \u001b[0mzip\u001b[0m\u001b[1;33m(\u001b[0m\u001b[0mconverters\u001b[0m\u001b[1;33m,\u001b[0m \u001b[0mvals\u001b[0m\u001b[1;33m)\u001b[0m\u001b[1;33m]\u001b[0m\u001b[1;33m\u001b[0m\u001b[0m\n\u001b[0m\u001b[0;32m    931\u001b[0m             \u001b[1;31m# Then pack it according to the dtype's nesting\u001b[0m\u001b[1;33m\u001b[0m\u001b[1;33m\u001b[0m\u001b[0m\n\u001b[0;32m    932\u001b[0m             \u001b[0mitems\u001b[0m \u001b[1;33m=\u001b[0m \u001b[0mpack_items\u001b[0m\u001b[1;33m(\u001b[0m\u001b[0mitems\u001b[0m\u001b[1;33m,\u001b[0m \u001b[0mpacking\u001b[0m\u001b[1;33m)\u001b[0m\u001b[1;33m\u001b[0m\u001b[0m\n",
            "\u001b[1;32m/home/oroszlany/.local/lib/python3.5/site-packages/numpy/lib/npyio.py\u001b[0m in \u001b[0;36m<listcomp>\u001b[1;34m(.0)\u001b[0m\n\u001b[0;32m    928\u001b[0m \u001b[1;33m\u001b[0m\u001b[0m\n\u001b[0;32m    929\u001b[0m             \u001b[1;31m# Convert each value according to its column and store\u001b[0m\u001b[1;33m\u001b[0m\u001b[1;33m\u001b[0m\u001b[0m\n\u001b[1;32m--> 930\u001b[1;33m             \u001b[0mitems\u001b[0m \u001b[1;33m=\u001b[0m \u001b[1;33m[\u001b[0m\u001b[0mconv\u001b[0m\u001b[1;33m(\u001b[0m\u001b[0mval\u001b[0m\u001b[1;33m)\u001b[0m \u001b[1;32mfor\u001b[0m \u001b[1;33m(\u001b[0m\u001b[0mconv\u001b[0m\u001b[1;33m,\u001b[0m \u001b[0mval\u001b[0m\u001b[1;33m)\u001b[0m \u001b[1;32min\u001b[0m \u001b[0mzip\u001b[0m\u001b[1;33m(\u001b[0m\u001b[0mconverters\u001b[0m\u001b[1;33m,\u001b[0m \u001b[0mvals\u001b[0m\u001b[1;33m)\u001b[0m\u001b[1;33m]\u001b[0m\u001b[1;33m\u001b[0m\u001b[0m\n\u001b[0m\u001b[0;32m    931\u001b[0m             \u001b[1;31m# Then pack it according to the dtype's nesting\u001b[0m\u001b[1;33m\u001b[0m\u001b[1;33m\u001b[0m\u001b[0m\n\u001b[0;32m    932\u001b[0m             \u001b[0mitems\u001b[0m \u001b[1;33m=\u001b[0m \u001b[0mpack_items\u001b[0m\u001b[1;33m(\u001b[0m\u001b[0mitems\u001b[0m\u001b[1;33m,\u001b[0m \u001b[0mpacking\u001b[0m\u001b[1;33m)\u001b[0m\u001b[1;33m\u001b[0m\u001b[0m\n",
            "\u001b[1;32m/home/oroszlany/.local/lib/python3.5/site-packages/numpy/lib/npyio.py\u001b[0m in \u001b[0;36mfloatconv\u001b[1;34m(x)\u001b[0m\n\u001b[0;32m    657\u001b[0m         \u001b[1;32mif\u001b[0m \u001b[1;34mb'0x'\u001b[0m \u001b[1;32min\u001b[0m \u001b[0mx\u001b[0m\u001b[1;33m:\u001b[0m\u001b[1;33m\u001b[0m\u001b[0m\n\u001b[0;32m    658\u001b[0m             \u001b[1;32mreturn\u001b[0m \u001b[0mfloat\u001b[0m\u001b[1;33m.\u001b[0m\u001b[0mfromhex\u001b[0m\u001b[1;33m(\u001b[0m\u001b[0masstr\u001b[0m\u001b[1;33m(\u001b[0m\u001b[0mx\u001b[0m\u001b[1;33m)\u001b[0m\u001b[1;33m)\u001b[0m\u001b[1;33m\u001b[0m\u001b[0m\n\u001b[1;32m--> 659\u001b[1;33m         \u001b[1;32mreturn\u001b[0m \u001b[0mfloat\u001b[0m\u001b[1;33m(\u001b[0m\u001b[0mx\u001b[0m\u001b[1;33m)\u001b[0m\u001b[1;33m\u001b[0m\u001b[0m\n\u001b[0m\u001b[0;32m    660\u001b[0m \u001b[1;33m\u001b[0m\u001b[0m\n\u001b[0;32m    661\u001b[0m     \u001b[0mtyp\u001b[0m \u001b[1;33m=\u001b[0m \u001b[0mdtype\u001b[0m\u001b[1;33m.\u001b[0m\u001b[0mtype\u001b[0m\u001b[1;33m\u001b[0m\u001b[0m\n",
            "\u001b[1;31mValueError\u001b[0m: could not convert string to float: b'%'"
          ]
        }
      ]
    },
    {
      "cell_type": "markdown",
      "metadata": {
        "id": "_ndbTDksseCk",
        "colab_type": "text"
      },
      "source": [
        "A szemfüles halgatók talán sikeresen ki tudják bogozni a fenti hibaüzenetet: \n",
        "\n",
        "*A '%' jelet nem tudom számmá konvertálni!*\n",
        "\n",
        "Ha megvizsgáljuk magát a file-t, akkor láthatjuk, hogy a napfoltadatoktól eltérő módon itt az adatokat szolgáltató személy a legtöbbször alkalmazott '#'-jel helyett a '%'-ot alkalmazta! Jelezzük ezt a függvénynek a `comments='%'` kapcsoló segítségével!"
      ]
    },
    {
      "cell_type": "code",
      "metadata": {
        "id": "Fs5pee0pseCk",
        "colab_type": "code",
        "colab": {},
        "outputId": "40a8ca7f-5557-48b2-eb77-95c78568b5c6"
      },
      "source": [
        "ebola_data=loadtxt('data/EBOLA/ebola_vesszoesszazalekjel.txt',comments='%')"
      ],
      "execution_count": 0,
      "outputs": [
        {
          "output_type": "error",
          "ename": "ValueError",
          "evalue": "could not convert string to float: b'0,'",
          "traceback": [
            "\u001b[1;31m---------------------------------------------------------------------------\u001b[0m",
            "\u001b[1;31mValueError\u001b[0m                                Traceback (most recent call last)",
            "\u001b[1;32m<ipython-input-56-4aff2dae81a1>\u001b[0m in \u001b[0;36m<module>\u001b[1;34m()\u001b[0m\n\u001b[1;32m----> 1\u001b[1;33m \u001b[0mebola_data\u001b[0m\u001b[1;33m=\u001b[0m\u001b[0mloadtxt\u001b[0m\u001b[1;33m(\u001b[0m\u001b[1;34m'data/EBOLA/ebola_vesszoesszazalekjel.txt'\u001b[0m\u001b[1;33m,\u001b[0m\u001b[0mcomments\u001b[0m\u001b[1;33m=\u001b[0m\u001b[1;34m'%'\u001b[0m\u001b[1;33m)\u001b[0m\u001b[1;33m\u001b[0m\u001b[0m\n\u001b[0m",
            "\u001b[1;32m/home/oroszlany/.local/lib/python3.5/site-packages/numpy/lib/npyio.py\u001b[0m in \u001b[0;36mloadtxt\u001b[1;34m(fname, dtype, comments, delimiter, converters, skiprows, usecols, unpack, ndmin)\u001b[0m\n\u001b[0;32m    928\u001b[0m \u001b[1;33m\u001b[0m\u001b[0m\n\u001b[0;32m    929\u001b[0m             \u001b[1;31m# Convert each value according to its column and store\u001b[0m\u001b[1;33m\u001b[0m\u001b[1;33m\u001b[0m\u001b[0m\n\u001b[1;32m--> 930\u001b[1;33m             \u001b[0mitems\u001b[0m \u001b[1;33m=\u001b[0m \u001b[1;33m[\u001b[0m\u001b[0mconv\u001b[0m\u001b[1;33m(\u001b[0m\u001b[0mval\u001b[0m\u001b[1;33m)\u001b[0m \u001b[1;32mfor\u001b[0m \u001b[1;33m(\u001b[0m\u001b[0mconv\u001b[0m\u001b[1;33m,\u001b[0m \u001b[0mval\u001b[0m\u001b[1;33m)\u001b[0m \u001b[1;32min\u001b[0m \u001b[0mzip\u001b[0m\u001b[1;33m(\u001b[0m\u001b[0mconverters\u001b[0m\u001b[1;33m,\u001b[0m \u001b[0mvals\u001b[0m\u001b[1;33m)\u001b[0m\u001b[1;33m]\u001b[0m\u001b[1;33m\u001b[0m\u001b[0m\n\u001b[0m\u001b[0;32m    931\u001b[0m             \u001b[1;31m# Then pack it according to the dtype's nesting\u001b[0m\u001b[1;33m\u001b[0m\u001b[1;33m\u001b[0m\u001b[0m\n\u001b[0;32m    932\u001b[0m             \u001b[0mitems\u001b[0m \u001b[1;33m=\u001b[0m \u001b[0mpack_items\u001b[0m\u001b[1;33m(\u001b[0m\u001b[0mitems\u001b[0m\u001b[1;33m,\u001b[0m \u001b[0mpacking\u001b[0m\u001b[1;33m)\u001b[0m\u001b[1;33m\u001b[0m\u001b[0m\n",
            "\u001b[1;32m/home/oroszlany/.local/lib/python3.5/site-packages/numpy/lib/npyio.py\u001b[0m in \u001b[0;36m<listcomp>\u001b[1;34m(.0)\u001b[0m\n\u001b[0;32m    928\u001b[0m \u001b[1;33m\u001b[0m\u001b[0m\n\u001b[0;32m    929\u001b[0m             \u001b[1;31m# Convert each value according to its column and store\u001b[0m\u001b[1;33m\u001b[0m\u001b[1;33m\u001b[0m\u001b[0m\n\u001b[1;32m--> 930\u001b[1;33m             \u001b[0mitems\u001b[0m \u001b[1;33m=\u001b[0m \u001b[1;33m[\u001b[0m\u001b[0mconv\u001b[0m\u001b[1;33m(\u001b[0m\u001b[0mval\u001b[0m\u001b[1;33m)\u001b[0m \u001b[1;32mfor\u001b[0m \u001b[1;33m(\u001b[0m\u001b[0mconv\u001b[0m\u001b[1;33m,\u001b[0m \u001b[0mval\u001b[0m\u001b[1;33m)\u001b[0m \u001b[1;32min\u001b[0m \u001b[0mzip\u001b[0m\u001b[1;33m(\u001b[0m\u001b[0mconverters\u001b[0m\u001b[1;33m,\u001b[0m \u001b[0mvals\u001b[0m\u001b[1;33m)\u001b[0m\u001b[1;33m]\u001b[0m\u001b[1;33m\u001b[0m\u001b[0m\n\u001b[0m\u001b[0;32m    931\u001b[0m             \u001b[1;31m# Then pack it according to the dtype's nesting\u001b[0m\u001b[1;33m\u001b[0m\u001b[1;33m\u001b[0m\u001b[0m\n\u001b[0;32m    932\u001b[0m             \u001b[0mitems\u001b[0m \u001b[1;33m=\u001b[0m \u001b[0mpack_items\u001b[0m\u001b[1;33m(\u001b[0m\u001b[0mitems\u001b[0m\u001b[1;33m,\u001b[0m \u001b[0mpacking\u001b[0m\u001b[1;33m)\u001b[0m\u001b[1;33m\u001b[0m\u001b[0m\n",
            "\u001b[1;32m/home/oroszlany/.local/lib/python3.5/site-packages/numpy/lib/npyio.py\u001b[0m in \u001b[0;36mfloatconv\u001b[1;34m(x)\u001b[0m\n\u001b[0;32m    657\u001b[0m         \u001b[1;32mif\u001b[0m \u001b[1;34mb'0x'\u001b[0m \u001b[1;32min\u001b[0m \u001b[0mx\u001b[0m\u001b[1;33m:\u001b[0m\u001b[1;33m\u001b[0m\u001b[0m\n\u001b[0;32m    658\u001b[0m             \u001b[1;32mreturn\u001b[0m \u001b[0mfloat\u001b[0m\u001b[1;33m.\u001b[0m\u001b[0mfromhex\u001b[0m\u001b[1;33m(\u001b[0m\u001b[0masstr\u001b[0m\u001b[1;33m(\u001b[0m\u001b[0mx\u001b[0m\u001b[1;33m)\u001b[0m\u001b[1;33m)\u001b[0m\u001b[1;33m\u001b[0m\u001b[0m\n\u001b[1;32m--> 659\u001b[1;33m         \u001b[1;32mreturn\u001b[0m \u001b[0mfloat\u001b[0m\u001b[1;33m(\u001b[0m\u001b[0mx\u001b[0m\u001b[1;33m)\u001b[0m\u001b[1;33m\u001b[0m\u001b[0m\n\u001b[0m\u001b[0;32m    660\u001b[0m \u001b[1;33m\u001b[0m\u001b[0m\n\u001b[0;32m    661\u001b[0m     \u001b[0mtyp\u001b[0m \u001b[1;33m=\u001b[0m \u001b[0mdtype\u001b[0m\u001b[1;33m.\u001b[0m\u001b[0mtype\u001b[0m\u001b[1;33m\u001b[0m\u001b[0m\n",
            "\u001b[1;31mValueError\u001b[0m: could not convert string to float: b'0,'"
          ]
        }
      ]
    },
    {
      "cell_type": "markdown",
      "metadata": {
        "id": "W5dMX8Q9seCp",
        "colab_type": "text"
      },
      "source": [
        "Ismét hiba üzenet:\n",
        "\n",
        " *a '0,' karakterláncot nem tudom számmá konvertálni !*\n",
        " \n",
        "Ha megnézzük a file-t akkor láthatjuk hogy most szóközök helyett az oszlopok bizony vesszővel, azaz a `','`-karakterrel vannak elválasztva! Jelezzük ezt a függvénynek a `delimiter=','` kapcsoló segítségével!"
      ]
    },
    {
      "cell_type": "code",
      "metadata": {
        "id": "dZQK6SQ0seCq",
        "colab_type": "code",
        "colab": {}
      },
      "source": [
        "ebola_data=loadtxt('data/EBOLA/ebola_vesszoesszazalekjel.txt',comments='%',delimiter=',')"
      ],
      "execution_count": 0,
      "outputs": []
    },
    {
      "cell_type": "markdown",
      "metadata": {
        "id": "TaLx_sh9seCs",
        "colab_type": "text"
      },
      "source": [
        "Így most már be tudtuk tölteni a file-t!"
      ]
    },
    {
      "cell_type": "markdown",
      "metadata": {
        "id": "yvTVvpdSseCt",
        "colab_type": "text"
      },
      "source": [
        "A `usecols` és az `unpack` kulcsszavak segítségével specifikálhatjuk azt, hogy melyik oszlopokra vagyunk kíváncsiak, illetve hogy kicsomagolható formában térjen vissza a függvény.\n",
        "Beleolvasva szemmel a file-ba felvilágosítást kaphatunk, hogy melyik oszlopban milyen adat szerepel.\n",
        "Az alábbi minta például a `Nap,GuinLab,LibLab,NigLab,SLLab` és `SenLab` tömbökbe tölti be az országonkénti laboratóriumban kivizsgált megbetegedések számát, illetve a járvány kitörése óta eltelt napok számát."
      ]
    },
    {
      "cell_type": "code",
      "metadata": {
        "id": "kKlDfWN6seCv",
        "colab_type": "code",
        "colab": {}
      },
      "source": [
        "Nap,GuinLab,LibLab,NigLab,SLLab,SenLab=loadtxt('data/EBOLA/ebola_vesszoesszazalekjel.txt',\n",
        "                                               comments='%',\n",
        "                                               usecols=(0,3,6,9,12,15),\n",
        "                                               unpack=True,\n",
        "                                               delimiter=',')"
      ],
      "execution_count": 0,
      "outputs": []
    },
    {
      "cell_type": "markdown",
      "metadata": {
        "id": "fccnE-E-seCw",
        "colab_type": "text"
      },
      "source": [
        "Ábrázoljuk a fenti adatok közzül a Guineában vizsgált fertőzések számát az idő függvényében:"
      ]
    },
    {
      "cell_type": "code",
      "metadata": {
        "id": "m7ct3FYxseCx",
        "colab_type": "code",
        "colab": {},
        "outputId": "d5087b8e-3654-439d-8808-8edebb5204da"
      },
      "source": [
        "plot(Nap,GuinLab)\n",
        "xlabel('Nap')\n",
        "ylabel('Esetek szama')"
      ],
      "execution_count": 0,
      "outputs": [
        {
          "output_type": "execute_result",
          "data": {
            "text/plain": [
              "<matplotlib.text.Text at 0x7f56fd205d30>"
            ]
          },
          "metadata": {
            "tags": []
          },
          "execution_count": 59
        },
        {
          "output_type": "display_data",
          "data": {
            "image/png": "[encoded data removed]",
            "text/plain": [
              "<matplotlib.figure.Figure at 0x7f56fd6358d0>"
            ]
          },
          "metadata": {
            "tags": []
          }
        }
      ]
    },
    {
      "cell_type": "markdown",
      "metadata": {
        "id": "q39Ty9RXseCy",
        "colab_type": "text"
      },
      "source": [
        "A már korábban megismert `savetxt()` függvény segítségével tölthetjük a feldolgozott `array` formátumú változókat file-ba:"
      ]
    },
    {
      "cell_type": "code",
      "metadata": {
        "id": "ZZ7iFBeCseCz",
        "colab_type": "code",
        "colab": {}
      },
      "source": [
        "savetxt('data/mentes_ebola_Guinea.dat',GuinLab)"
      ],
      "execution_count": 0,
      "outputs": []
    },
    {
      "cell_type": "markdown",
      "metadata": {
        "id": "4M-aU1OoseC0",
        "colab_type": "text"
      },
      "source": [
        "A `savetxt()` a `loadtxt()` hez hasonlóan számos kulcsszavas paraméterrel bír. Ezek közül az alábbi példában bemutatjuk a `header=` és a `comments=` paraméterek használatát.\n",
        "Az alábbi példa azt is illusztrálja, hogy ha ugyanolyan hosszúságú adatokat akarunk egymás melletti oszlopokba írni akkor azokat zárójelben egymás után felsorolva tehetjük meg:"
      ]
    },
    {
      "cell_type": "code",
      "metadata": {
        "id": "h_S_Gy90seC1",
        "colab_type": "code",
        "colab": {}
      },
      "source": [
        "savetxt('data/mentes_ebola_Guinea_vs_time.dat',\n",
        "        (Nap,GuinLab),\n",
        "        header=' Guineai halalozasi adatok',\n",
        "        comments='@')"
      ],
      "execution_count": 0,
      "outputs": []
    },
    {
      "cell_type": "markdown",
      "metadata": {
        "id": "bDwefcWBseC2",
        "colab_type": "text"
      },
      "source": [
        "Vizsgáljuk meg az elkészített [filet](data/mentes_ebola_Guinea_vs_time.dat)!"
      ]
    }
  ]
}