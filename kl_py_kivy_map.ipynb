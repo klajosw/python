{
  "nbformat": 4,
  "nbformat_minor": 0,
  "metadata": {
    "colab": {
      "name": "kl_py_kivy_map.ipynb",
      "provenance": [],
      "collapsed_sections": [],
      "include_colab_link": true
    },
    "kernelspec": {
      "name": "python3",
      "display_name": "Python 3"
    }
  },
  "cells": [
    {
      "cell_type": "markdown",
      "metadata": {
        "id": "view-in-github",
        "colab_type": "text"
      },
      "source": [
        "<a href=\"https://colab.research.google.com/github/klajosw/python/blob/master/kl_py_kivy_map.ipynb\" target=\"_parent\"><img src=\"https://colab.research.google.com/assets/colab-badge.svg\" alt=\"Open In Colab\"/></a>"
      ]
    },
    {
      "cell_type": "markdown",
      "metadata": {
        "id": "H-RUf_alXjIv",
        "colab_type": "text"
      },
      "source": [
        "# Térkép kezelés és megjelenítés kivy modul segítségével\n",
        "\n",
        "## Installálás\n",
        "\n",
        "### Egy alap képernyő\n",
        "\n",
        "#### Nem müködik:\n",
        "\n",
        "*Sajnos UI-re szükség van egy megjelenítéshez (Kivy az OpenGL-rel ). Ez a megjelenítés még nem érhető el a Colab-ban.*\n",
        "\n",
        "\n",
        "\n",
        "\n"
      ]
    },
    {
      "cell_type": "code",
      "metadata": {
        "id": "72qAnxYFWnR8",
        "colab_type": "code",
        "colab": {
          "base_uri": "https://localhost:8080/",
          "height": 193
        },
        "outputId": "080489c9-946f-4056-8e89-599d0f6f0e85"
      },
      "source": [
        "### code\n",
        "!pip install kivy \n",
        "#!garden install mapview\n",
        "\n",
        "### conda\n",
        "# conda install -c conda-forge kivy\n",
        "# conda install -c conda-forge kivy-garden\n",
        "# garden install mapview   \n",
        "\n",
        "UIs (User Interfaces) you need to a render (Kivy works with OpenGL). This render is not available yet in Colab.\n"
      ],
      "execution_count": 0,
      "outputs": [
        {
          "output_type": "stream",
          "text": [
            "[INFO   ] [Logger      ] Record log in /root/.kivy/logs/kivy_20-01-04_6.txt\n",
            "[INFO   ] [Kivy        ] v1.11.1\n",
            "[INFO   ] [Kivy        ] Installed at \"/usr/local/lib/python3.6/dist-packages/kivy/__init__.py\"\n",
            "[INFO   ] [Python      ] v3.6.9 (default, Nov  7 2019, 10:44:02) \n",
            "[GCC 8.3.0]\n",
            "[INFO   ] [Python      ] Interpreter at \"/usr/bin/python3\"\n",
            "[INFO   ] [Factory     ] 184 symbols loaded\n",
            "[INFO   ] [Image       ] Providers: img_tex, img_dds, img_sdl2, img_pil, img_gif (img_ffpyplayer ignored)\n",
            "[INFO   ] [Text        ] Provider: sdl2\n",
            "[INFO   ] [Window      ] Provider: sdl2(['window_egl_rpi'] ignored)\n"
          ],
          "name": "stderr"
        }
      ]
    },
    {
      "cell_type": "code",
      "metadata": {
        "id": "r8nB2iszZSqM",
        "colab_type": "code",
        "colab": {
          "base_uri": "https://localhost:8080/",
          "height": 598
        },
        "outputId": "d632bb0d-a86d-4346-a43c-b92740a77b18"
      },
      "source": [
        "!garden install matplotlib --kivy\n"
      ],
      "execution_count": 1,
      "outputs": [
        {
          "output_type": "stream",
          "text": [
            "[INFO   ] [Logger      ] Record log in /root/.kivy/logs/kivy_20-01-04_4.txt\n",
            "[INFO   ] [Kivy        ] v1.11.1\n",
            "[INFO   ] [Kivy        ] Installed at \"/usr/local/lib/python3.6/dist-packages/kivy/__init__.py\"\n",
            "[INFO   ] [Python      ] v3.6.9 (default, Nov  7 2019, 10:44:02) \n",
            "[GCC 8.3.0]\n",
            "[INFO   ] [Python      ] Interpreter at \"/usr/bin/python3\"\n",
            "Downloading http://github.com/kivy-garden/garden.matplotlib/archive/master.zip ...\n",
            "Progression 1024 | \r\n",
            "Progression 2048 / \r\n",
            "Progression 3072 - \r\n",
            "Progression 4096 \\ \r\n",
            "Progression 5120 | \r\n",
            "Progression 6144 / \r\n",
            "Progression 7168 - \r\n",
            "Progression 8192 \\ \r\n",
            "Progression 9216 | \r\n",
            "Progression 10240 / \r\n",
            "Progression 11264 - \r\n",
            "Progression 12288 \\ \r\n",
            "Progression 13312 | \r\n",
            "Progression 14336 / \r\n",
            "Progression 15360 - \r\n",
            "Progression 16384 \\ \r\n",
            "Progression 17408 | \r\n",
            "Progression 18432 / \r\n",
            "Progression 19456 - \r\n",
            "Progression 20480 \\ \r\n",
            "Progression 21300 | \r\n",
            "Download done (21300 downloaded)\n",
            "Extracting...\n",
            "Installing new version...\n",
            "Done! garden.matplotlib is installed at: /usr/local/lib/python3.6/dist-packages/kivy/garden/matplotlib\n",
            "Cleaning...\n"
          ],
          "name": "stdout"
        }
      ]
    },
    {
      "cell_type": "code",
      "metadata": {
        "id": "-vzNdZG8hThG",
        "colab_type": "code",
        "colab": {}
      },
      "source": [
        "#----  alap ablak létrehozása\n",
        "from kivy.app import App\n",
        "from kivy.uix.button import Button\n",
        " \n",
        "class Hello(App):\n",
        "    def build(self):\n",
        "        btn = Button(text='Hello World')\n",
        "        return  btn\n",
        " \n",
        "Hello().run()"
      ],
      "execution_count": 0,
      "outputs": []
    },
    {
      "cell_type": "markdown",
      "metadata": {
        "id": "yxlN-aVqYadD",
        "colab_type": "text"
      },
      "source": [
        "### Modul import és alap működés Budapestre"
      ]
    },
    {
      "cell_type": "code",
      "metadata": {
        "id": "mr49Ty5wYf19",
        "colab_type": "code",
        "colab": {
          "base_uri": "https://localhost:8080/",
          "height": 175
        },
        "outputId": "9f3a1f60-f0ca-4853-e0af-c1588e239c92"
      },
      "source": [
        "# ------ alap térkép létrehozása\n",
        "from kivy.garden.mapview import MapView\n",
        "from kivy.app import App\n",
        "\n",
        "class MapViewApp(App):\n",
        "    \n",
        "    def build(self):\n",
        "        mapview = MapView(zoom=11, lat=47.6394, lon=19.057)\n",
        "        return mapview\n",
        "\n",
        "MapViewApp().run()"
      ],
      "execution_count": 0,
      "outputs": [
        {
          "output_type": "stream",
          "text": [
            "[INFO   ] [Logger      ] Record log in /root/.kivy/logs/kivy_20-01-04_8.txt\n",
            "[INFO   ] [Kivy        ] v1.11.1\n",
            "[INFO   ] [Kivy        ] Installed at \"/usr/local/lib/python3.6/dist-packages/kivy/__init__.py\"\n",
            "[INFO   ] [Python      ] v3.6.9 (default, Nov  7 2019, 10:44:02) \n",
            "[GCC 8.3.0]\n",
            "[INFO   ] [Python      ] Interpreter at \"/usr/bin/python3\"\n",
            "[INFO   ] [Factory     ] 184 symbols loaded\n",
            "[INFO   ] [Image       ] Providers: img_tex, img_dds, img_sdl2, img_pil, img_gif (img_ffpyplayer ignored)\n",
            "[INFO   ] [Window      ] Provider: sdl2(['window_egl_rpi'] ignored)\n"
          ],
          "name": "stderr"
        }
      ]
    },
    {
      "cell_type": "code",
      "metadata": {
        "id": "xzdO3Qh7ehnH",
        "colab_type": "code",
        "colab": {
          "base_uri": "https://localhost:8080/",
          "height": 193
        },
        "outputId": "c7899d81-8118-4c47-eb89-3d3cee119ba7"
      },
      "source": [
        "# ------ alap térkép létrehozása és marker lehelyezése\n",
        "from kivy.garden.mapview import MapView, MapMarkerPopup\n",
        "from kivy.app import App\n",
        "\n",
        "class MapViewApp(App):\n",
        "    def build(self):\n",
        "        mapview = MapView(zoom=15, lat=47.681382, lon=19.766084)\n",
        "        marker1 = MapMarkerPopup(lat=47.681382, lon=19.766084)  ##marker lehelyezése\n",
        "        mapview.add_marker(marker1)\n",
        "        return mapview\n",
        "\n",
        "MapViewApp().run()"
      ],
      "execution_count": 0,
      "outputs": [
        {
          "output_type": "stream",
          "text": [
            "[INFO   ] [Logger      ] Record log in /root/.kivy/logs/kivy_20-01-04_7.txt\n",
            "[INFO   ] [Kivy        ] v1.11.1\n",
            "[INFO   ] [Kivy        ] Installed at \"/usr/local/lib/python3.6/dist-packages/kivy/__init__.py\"\n",
            "[INFO   ] [Python      ] v3.6.9 (default, Nov  7 2019, 10:44:02) \n",
            "[GCC 8.3.0]\n",
            "[INFO   ] [Python      ] Interpreter at \"/usr/bin/python3\"\n",
            "[INFO   ] [Factory     ] 184 symbols loaded\n",
            "[INFO   ] [Image       ] Providers: img_tex, img_dds, img_sdl2, img_pil, img_gif (img_ffpyplayer ignored)\n",
            "[INFO   ] [Window      ] Provider: sdl2(['window_egl_rpi'] ignored)\n",
            "[INFO   ] [Window      ] Provider: x11(['window_egl_rpi', 'window_sdl2'] ignored)\n"
          ],
          "name": "stderr"
        }
      ]
    },
    {
      "cell_type": "code",
      "metadata": {
        "id": "U6mMyybLaHq5",
        "colab_type": "code",
        "colab": {
          "base_uri": "https://localhost:8080/",
          "height": 54
        },
        "outputId": "dec226c7-54df-4a1f-accf-0d5c55715e0f"
      },
      "source": [
        "### Környezet lekérdezése\n",
        "import os\n",
        "print (os.environ)"
      ],
      "execution_count": 5,
      "outputs": [
        {
          "output_type": "stream",
          "text": [
            "environ({'ENV': '/root/.bashrc', 'GCS_READ_CACHE_BLOCK_SIZE_MB': '16', 'CLOUDSDK_CONFIG': '/content/.config', 'CUDA_VERSION': '10.1.243', 'PATH': '/usr/local/nvidia/bin:/usr/local/cuda/bin:/usr/local/sbin:/usr/local/bin:/usr/sbin:/usr/bin:/sbin:/bin:/tools/node/bin:/tools/google-cloud-sdk/bin:/opt/bin', 'HOME': '/root', 'LD_LIBRARY_PATH': '/usr/local/nvidia/lib:/usr/local/nvidia/lib64', 'LANG': 'en_US.UTF-8', 'SHELL': '/bin/bash', 'LIBRARY_PATH': '/usr/local/cuda/lib64/stubs', 'CUDA_PKG_VERSION': '10-1=10.1.243-1', 'SHLVL': '1', 'NCCL_VERSION': '2.4.8', 'NVIDIA_VISIBLE_DEVICES': 'all', 'TF_FORCE_GPU_ALLOW_GROWTH': 'true', 'DEBIAN_FRONTEND': 'noninteractive', 'CUDNN_VERSION': '7.6.5.32', 'LAST_FORCED_REBUILD': '20191217', 'JPY_PARENT_PID': '28', 'PYTHONPATH': '/env/python', 'DATALAB_SETTINGS_OVERRIDES': '{\"kernelManagerProxyPort\":6000,\"kernelManagerProxyHost\":\"172.28.0.3\",\"jupyterArgs\":[\"--ip=\\\\\"172.28.0.2\\\\\"\"]}', 'NO_GCE_CHECK': 'True', 'GLIBCXX_FORCE_NEW': '1', 'NVIDIA_DRIVER_CAPABILITIES': 'compute,utility', '_': '/tools/node/bin/node', 'LD_PRELOAD': '/usr/lib/x86_64-linux-gnu/libtcmalloc.so.4', 'NVIDIA_REQUIRE_CUDA': 'cuda>=10.1 brand=tesla,driver>=384,driver<385 brand=tesla,driver>=396,driver<397 brand=tesla,driver>=410,driver<411', 'OLDPWD': '/', 'HOSTNAME': 'd51df5ec93a6', 'COLAB_GPU': '0', 'PWD': '/', 'GLIBCPP_FORCE_NEW': '1', 'PYTHONWARNINGS': 'ignore:::pip._internal.cli.base_command', 'TBE_CREDS_ADDR': '172.28.0.1:8008', 'TERM': 'xterm-color', 'CLICOLOR': '1', 'PAGER': 'cat', 'GIT_PAGER': 'cat', 'MPLBACKEND': 'module://ipykernel.pylab.backend_inline'})\n"
          ],
          "name": "stdout"
        }
      ]
    }
  ]
}