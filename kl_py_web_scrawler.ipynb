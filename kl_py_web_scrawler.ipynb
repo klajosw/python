{
  "nbformat": 4,
  "nbformat_minor": 0,
  "metadata": {
    "kernelspec": {
      "display_name": "Python 3",
      "language": "python",
      "name": "python3"
    },
    "language_info": {
      "codemirror_mode": {
        "name": "ipython",
        "version": 3
      },
      "file_extension": ".py",
      "mimetype": "text/x-python",
      "name": "python",
      "nbconvert_exporter": "python",
      "pygments_lexer": "ipython3",
      "version": "3.7.4"
    },
    "colab": {
      "name": "kl_py_web_scrawler.ipynb",
      "provenance": [],
      "collapsed_sections": [],
      "include_colab_link": true
    }
  },
  "cells": [
    {
      "cell_type": "markdown",
      "metadata": {
        "id": "view-in-github",
        "colab_type": "text"
      },
      "source": [
        "<a href=\"https://colab.research.google.com/github/klajosw/python/blob/master/kl_py_web_scrawler.ipynb\" target=\"_parent\"><img src=\"https://colab.research.google.com/assets/colab-badge.svg\" alt=\"Open In Colab\"/></a>"
      ]
    },
    {
      "cell_type": "markdown",
      "metadata": {
        "collapsed": true,
        "id": "ZozVVN7mlTuG",
        "colab_type": "text"
      },
      "source": [
        "# WEB lapról adatgyüjtés\n",
        "\n",
        "## linkek kigyüjtése (külső és belső is)\n",
        "<a> és href"
      ]
    },
    {
      "cell_type": "code",
      "metadata": {
        "id": "DVaKdZOmlTuJ",
        "colab_type": "code",
        "colab": {},
        "outputId": "675b65e2-99fd-49a2-a480-92346a3df503"
      },
      "source": [
        "from urllib.request import urlopen\n",
        "from bs4 import BeautifulSoup \n",
        "\n",
        "html = urlopen('https://mierdekel.hu/blog/')\n",
        "bs = BeautifulSoup(html, 'html.parser')\n",
        "szamol=0\n",
        "for link in bs.find_all('a'):\n",
        "    if 'href' in link.attrs:        \n",
        "        print(szamol, link.attrs['href'])\n",
        "        szamol += 1\n",
        "        if szamol > 10:   ## 10 után leállás\n",
        "            break"
      ],
      "execution_count": 0,
      "outputs": [
        {
          "output_type": "stream",
          "text": [
            "0 https://mierdekel.hu/blog/\n",
            "1 #content\n",
            "2 https://mierdekel.hu/blog/\n",
            "3 https://mierdekel.hu/blog/android/\n",
            "4 https://mierdekel.hu/blog/blogok/\n",
            "5 https://mierdekel.hu/blog/gdpr/\n",
            "6 https://klajosw.blogspot.com\n",
            "7 https://www.google.com/url?q=https%3A%2F%2Fgithub.com%2Fklajosw&sa=D&sntz=1&usg=AFQjCNFUOAPFijSP8VCDVH8DJ4fkzqZXig\n",
            "8 https://www.google.com/url?q=https%3A%2F%2Fwww.linkedin.com%2Fin%2Fklajosw%2F&sa=D&sntz=1&usg=AFQjCNGzwLQIyvWQNVHAiFibbgdaOAIupQ\n",
            "9 https://sites.google.com/site/klajosw\n",
            "10 https://mierdekel.hu/blog/2018/08/\n"
          ],
          "name": "stdout"
        }
      ]
    },
    {
      "cell_type": "markdown",
      "metadata": {
        "id": "IU5gxb3BlTuM",
        "colab_type": "text"
      },
      "source": [
        "## Csak  WEB blog tartalom cikkek linkjeinek bejárása"
      ]
    },
    {
      "cell_type": "code",
      "metadata": {
        "id": "-CO1Is66lTuN",
        "colab_type": "code",
        "colab": {},
        "outputId": "1cf1e017-6c70-4016-d553-d5a07eed5f60"
      },
      "source": [
        "from urllib.request import urlopen \n",
        "from bs4 import BeautifulSoup \n",
        "import re\n",
        "\n",
        "html = urlopen('http://en.wikipedia.org')\n",
        "bs = BeautifulSoup(html, 'html.parser')\n",
        "szamol=0\n",
        "for link in bs.find('div', {'id':'content'}).find_all(\n",
        "    'a', href=re.compile('^(/wiki/)((?!:).)*$')):\n",
        "    if 'href' in link.attrs:\n",
        "        print(szamol, link.attrs['href'])\n",
        "        szamol += 1\n",
        "        if szamol > 10:   ## 10 után leállás\n",
        "            break"
      ],
      "execution_count": 0,
      "outputs": [
        {
          "output_type": "stream",
          "text": [
            "0 /wiki/Wikipedia\n",
            "1 /wiki/Free_content\n",
            "2 /wiki/Encyclopedia\n",
            "3 /wiki/English_language\n",
            "4 /wiki/Kinara\n",
            "5 /wiki/A_Rugrats_Kwanzaa\n",
            "6 /wiki/Television_special\n",
            "7 /wiki/Animated_series\n",
            "8 /wiki/Rugrats\n",
            "9 /wiki/Kwanzaa\n",
            "10 /wiki/List_of_Rugrats_characters#Susie\n"
          ],
          "name": "stdout"
        }
      ]
    },
    {
      "cell_type": "markdown",
      "metadata": {
        "id": "2nR4V2nylTuP",
        "colab_type": "text"
      },
      "source": [
        "## Tartalom linkek véletlen szerű bejárása"
      ]
    },
    {
      "cell_type": "code",
      "metadata": {
        "id": "iQXEwh4rlTuQ",
        "colab_type": "code",
        "colab": {},
        "outputId": "9d6a2ef4-f478-4ac1-a894-6749339b2597"
      },
      "source": [
        "from urllib.request import urlopen\n",
        "from bs4 import BeautifulSoup\n",
        "import datetime\n",
        "import random\n",
        "import re\n",
        "\n",
        "random.seed(datetime.datetime.now())\n",
        "szamol=0\n",
        "def getLinks(articleUrl):\n",
        "    html = urlopen('http://en.wikipedia.org{}'.format(articleUrl))\n",
        "    bs = BeautifulSoup(html, 'html.parser')\n",
        "    return bs.find('div', {'id':'bodyContent'}).find_all('a', href=re.compile('^(/wiki/)((?!:).)*$'))\n",
        "\n",
        "links = getLinks('/wiki/Kevin_Bacon')\n",
        "while len(links) > 0:\n",
        "    newArticle = links[random.randint(0, len(links)-1)].attrs['href']\n",
        "    print(szamol, newArticle)\n",
        "    links = getLinks(newArticle)\n",
        "    szamol += 1\n",
        "    if szamol > 7:   ## 10 után leállás\n",
        "            break"
      ],
      "execution_count": 0,
      "outputs": [
        {
          "output_type": "stream",
          "text": [
            "0 /wiki/Footloose_(1984_film)\n",
            "1 /wiki/Tatum_O%27Neal\n",
            "2 /wiki/Angelina_Jolie\n",
            "3 /wiki/Shark_Tale\n",
            "4 /wiki/Christina_Aguilera\n",
            "5 /wiki/Alexander_McQueen\n",
            "6 /wiki/James_Phillips_(playwright)\n",
            "7 /wiki/TMA_Award\n"
          ],
          "name": "stdout"
        }
      ]
    },
    {
      "cell_type": "markdown",
      "metadata": {
        "id": "AsawmO6klTuR",
        "colab_type": "text"
      },
      "source": [
        "## Rekurzív módon bejárja az egész webhelyet"
      ]
    },
    {
      "cell_type": "code",
      "metadata": {
        "id": "6BpeJHYZlTuS",
        "colab_type": "code",
        "colab": {},
        "outputId": "83febf92-5e85-4f57-95b6-56c79e86b5e1"
      },
      "source": [
        "from urllib.request import urlopen\n",
        "from bs4 import BeautifulSoup\n",
        "import re\n",
        "\n",
        "pages = set()\n",
        "szamol=0\n",
        "def getLinks(pageUrl):\n",
        "    global pages, szamol\n",
        "    html = urlopen('http://en.wikipedia.org{}'.format(pageUrl))\n",
        "    bs = BeautifulSoup(html, 'html.parser')\n",
        "    for link in bs.find_all('a', href=re.compile('^(/wiki/)')):\n",
        "        if 'href' in link.attrs:\n",
        "            if link.attrs['href'] not in pages:\n",
        "                #Wúj oldalak számlálása\n",
        "                newPage = link.attrs['href']\n",
        "                print(szamol, newPage)\n",
        "                pages.add(newPage)\n",
        "                szamol += 1\n",
        "                if szamol > 7:   ## 10 után leállás\n",
        "                    break               \n",
        "                getLinks(newPage)\n",
        "\n",
        "                \n",
        "getLinks('')"
      ],
      "execution_count": 0,
      "outputs": [
        {
          "output_type": "stream",
          "text": [
            "0 /wiki/Wikipedia\n",
            "1 /wiki/Wikipedia:Protection_policy#semi\n",
            "2 /wiki/Wikipedia:Requests_for_page_protection\n",
            "3 /wiki/Wikipedia:Protection_policy#move\n",
            "4 /wiki/Wikipedia:Lists_of_protected_pages\n",
            "5 /wiki/Wikipedia:Protection_policy\n",
            "6 /wiki/Wikipedia:Perennial_proposals\n",
            "7 /wiki/Wikipedia:Reliable_sources/Perennial_sources\n",
            "8 /wiki/Wikipedia:WikiProject_Parliamentary_Procedure\n",
            "9 /wiki/Wikipedia:Protection_policy#Semi-protection\n",
            "10 /wiki/Wikipedia:Party_and_person\n",
            "11 /wiki/Wikipedia:Requests_for_permissions\n",
            "12 /wiki/Wikipedia:Child_protection\n",
            "13 /wiki/Main_Page\n",
            "14 /wiki/Free_content\n"
          ],
          "name": "stdout"
        }
      ]
    },
    {
      "cell_type": "markdown",
      "metadata": {
        "id": "M7rsnPrplTuU",
        "colab_type": "text"
      },
      "source": [
        "## Adatgyűjtés az egész webhelyen"
      ]
    },
    {
      "cell_type": "code",
      "metadata": {
        "id": "_xOizYlBlTuU",
        "colab_type": "code",
        "colab": {},
        "outputId": "b77ab78b-f7a5-4f04-f18a-7c144fe7c393"
      },
      "source": [
        "from urllib.request import urlopen\n",
        "from bs4 import BeautifulSoup\n",
        "import re\n",
        "\n",
        "pages = set()\n",
        "szamol=0\n",
        "def getLinks(pageUrl):\n",
        "    global pages, szamol\n",
        "    html = urlopen('http://en.wikipedia.org{}'.format(pageUrl))\n",
        "    bs = BeautifulSoup(html, 'html.parser')\n",
        "    try:\n",
        "        print(bs.h1.get_text())\n",
        "        print(bs.find(id ='mw-content-text').find_all('p')[0])\n",
        "        print(bs.find(id='ca-edit').find('span').find('a').attrs['href'])\n",
        "    except AttributeError:\n",
        "        print('Valami hiba van!!! Folytassuk azért.')\n",
        "    \n",
        "    for link in bs.find_all('a', href=re.compile('^(/wiki/)')):\n",
        "        if 'href' in link.attrs:\n",
        "            if link.attrs['href'] not in pages:\n",
        "                ## új lap link felismerése\n",
        "                newPage = link.attrs['href']\n",
        "                print('-'*20)\n",
        "                print(newPage)\n",
        "                pages.add(newPage)\n",
        "                szamol += 1\n",
        "                if szamol > 7:   ## 10 után leállás\n",
        "                    break                    \n",
        "                getLinks(newPage)\n",
        "                \n",
        "getLinks('') "
      ],
      "execution_count": 0,
      "outputs": [
        {
          "output_type": "stream",
          "text": [
            "Main Page\n",
            "<p>\"<b><a href=\"/wiki/A_Rugrats_Kwanzaa\" title=\"A Rugrats Kwanzaa\">A Rugrats Kwanzaa</a></b>\" is a <a href=\"/wiki/Television_special\" title=\"Television special\">television special</a> from the American <a href=\"/wiki/Animated_series\" title=\"Animated series\">animated</a> series <i><a href=\"/wiki/Rugrats\" title=\"Rugrats\">Rugrats</a></i>, first broadcast on December 11, 2001. It was one of the first mainstream television shows to feature the holiday <a href=\"/wiki/Kwanzaa\" title=\"Kwanzaa\">Kwanzaa</a>. In the episode, the toddler <a href=\"/wiki/List_of_Rugrats_characters#Susie\" title=\"List of Rugrats characters\">Susie Carmichael</a> and her friends – <a href=\"/wiki/Tommy_Pickles\" title=\"Tommy Pickles\">Tommy Pickles</a>, Chuckie and Kimi Finster, and Phil and Lil DeVille – learn about the holiday during a visit from her great-aunt. <a href=\"/wiki/Anthony_Bell_(director)\" title=\"Anthony Bell (director)\">Anthony Bell</a> directed the episode from a script by Lisa D. Hall, Jill Gorey, and Barbara Herndon. \"A Rugrats Kwanzaa\" was praised by critics for its representation of the holiday and the voice acting; there was a mixed response to its commercialism. <a href=\"/wiki/Cree_Summer\" title=\"Cree Summer\">Cree Summer</a>, who voices Susie, earned a nomination for an <a href=\"/wiki/NAACP_Image_Award_for_Outstanding_Performance_by_a_Youth_(Series,_Special,_Television_Movie_or_Limited-series)\" title=\"NAACP Image Award for Outstanding Performance by a Youth (Series, Special, Television Movie or Limited-series)\">NAACP Image Award for Outstanding Performance by a Youth</a> at the 34th NAACP Image Awards for her role in the episode. A <a href=\"/wiki/Picture_book\" title=\"Picture book\">picture book</a> entitled <i>The Rugrats' First Kwanzaa</i> was adapted from the script. (<b><a href=\"/wiki/A_Rugrats_Kwanzaa\" title=\"A Rugrats Kwanzaa\">Full article...</a></b>)\n",
            "</p>\n",
            "Valami hiba van!!! Folytassuk azért.\n",
            "--------------------\n",
            "/wiki/Wikipedia\n",
            "Wikipedia\n",
            "<p class=\"mw-empty-elt\">\n",
            "</p>\n",
            "Valami hiba van!!! Folytassuk azért.\n",
            "--------------------\n",
            "/wiki/Wikipedia:Protection_policy#semi\n",
            "Wikipedia:Protection policy\n",
            "<p class=\"mw-empty-elt\">\n",
            "</p>\n",
            "Valami hiba van!!! Folytassuk azért.\n",
            "--------------------\n",
            "/wiki/Wikipedia:Requests_for_page_protection\n",
            "Wikipedia:Requests for page protection\n",
            "<p>This page is for requesting that a page, file or template be <b> fully protected</b>, <b>create protected</b> (<a href=\"/wiki/Wikipedia:Protection_policy#Creation_protection\" title=\"Wikipedia:Protection policy\">salted</a>), <b>extended confirmed protected</b>, <b>semi-protected</b>, added to <b>pending changes</b>, <b>move-protected</b>, <b>template protected</b>, <b>upload protected</b> (file-specific), or <b>unprotected</b>. Please read up on the <a href=\"/wiki/Wikipedia:Protection_policy\" title=\"Wikipedia:Protection policy\">protection policy</a>. Full protection is used to stop edit warring between multiple users or to prevent vandalism to <a href=\"/wiki/Wikipedia:High-risk_templates\" title=\"Wikipedia:High-risk templates\">high-risk templates</a>; semi-protection and pending changes are usually used only to prevent IP and new user vandalism (see the <a href=\"/wiki/Wikipedia:Rough_guide_to_semi-protection\" title=\"Wikipedia:Rough guide to semi-protection\">rough guide to semi-protection</a>); and move protection is used to stop <a href=\"/wiki/Wikipedia:Page-move_war\" title=\"Wikipedia:Page-move war\">page-move wars</a>. Extended confirmed protection is used where semi-protection has proved insufficient (see the <a href=\"/wiki/Wikipedia:Rough_guide_to_extended_confirmed_protection\" title=\"Wikipedia:Rough guide to extended confirmed protection\">rough guide to extended confirmed protection</a>)\n",
            "</p>\n",
            "Valami hiba van!!! Folytassuk azért.\n",
            "--------------------\n",
            "/wiki/Wikipedia:Protection_policy#move\n",
            "Wikipedia:Protection policy\n",
            "<p class=\"mw-empty-elt\">\n",
            "</p>\n",
            "Valami hiba van!!! Folytassuk azért.\n",
            "--------------------\n",
            "/wiki/Wikipedia:Lists_of_protected_pages\n",
            "Wikipedia:Lists of protected pages\n",
            "<p class=\"mw-empty-elt\">\n",
            "</p>\n",
            "Valami hiba van!!! Folytassuk azért.\n",
            "--------------------\n",
            "/wiki/Wikipedia:Protection_policy\n",
            "Wikipedia:Protection policy\n",
            "<p class=\"mw-empty-elt\">\n",
            "</p>\n",
            "Valami hiba van!!! Folytassuk azért.\n",
            "--------------------\n",
            "/wiki/Wikipedia:Perennial_proposals\n",
            "Wikipedia:Perennial proposals\n",
            "<p>This is a list of things that have frequently been proposed on Wikipedia, and have been <a class=\"mw-redirect\" href=\"/wiki/Wikipedia:Rejected_proposals\" title=\"Wikipedia:Rejected proposals\">rejected by the community</a> several times in the past. It should be noted that merely listing something on this page does not mean it will never happen, but that it has been discussed before and never met consensus.  <a class=\"mw-redirect\" href=\"/wiki/Wikipedia:Consensus_can_change\" title=\"Wikipedia:Consensus can change\">Consensus can change</a>, and some proposals that remained on this page for a long time have finally been proposed in a way that reached consensus, but you should address rebuttals raised in the past if you make a proposal along these lines.  If you feel you would still like to do one of these proposals, then raise it at the <a href=\"/wiki/Wikipedia:Village_pump\" title=\"Wikipedia:Village pump\">Wikipedia:Village pump</a>.\n",
            "</p>\n",
            "Valami hiba van!!! Folytassuk azért.\n",
            "--------------------\n",
            "/wiki/Wikipedia:Reliable_sources/Perennial_sources\n",
            "--------------------\n",
            "/wiki/Wikipedia:WikiProject_Parliamentary_Procedure\n",
            "--------------------\n",
            "/wiki/Wikipedia:Protection_policy#Semi-protection\n",
            "--------------------\n",
            "/wiki/Wikipedia:Party_and_person\n",
            "--------------------\n",
            "/wiki/Wikipedia:Requests_for_permissions\n",
            "--------------------\n",
            "/wiki/Wikipedia:Child_protection\n",
            "--------------------\n",
            "/wiki/Main_Page\n",
            "--------------------\n",
            "/wiki/Free_content\n"
          ],
          "name": "stdout"
        }
      ]
    },
    {
      "cell_type": "markdown",
      "metadata": {
        "id": "yOYpKe7UlTuW",
        "colab_type": "text"
      },
      "source": [
        "## WEB lap feltérképezés az interneten keresztül véletren szerü sorrendben"
      ]
    },
    {
      "cell_type": "code",
      "metadata": {
        "id": "H_EBGjAflTuX",
        "colab_type": "code",
        "colab": {},
        "outputId": "fe5a080c-b95e-4c5c-f319-997c323dfee4"
      },
      "source": [
        "from urllib.request import urlopen\n",
        "from urllib.parse import urlparse\n",
        "from bs4 import BeautifulSoup\n",
        "import re\n",
        "import datetime\n",
        "import random\n",
        "\n",
        "pages = set()\n",
        "szamol=0\n",
        "random.seed(datetime.datetime.now())\n",
        "\n",
        "## Beolvassa az oldalon található összes belső link listáját\n",
        "def getInternalLinks(bs, includeUrl):\n",
        "    includeUrl = '{}://{}'.format(urlparse(includeUrl).scheme, urlparse(includeUrl).netloc)\n",
        "    internalLinks = []\n",
        "    #Finds all links that begin with a \"/\"\n",
        "    for link in bs.find_all('a', href=re.compile('^(/|.*'+includeUrl+')')):\n",
        "        if link.attrs['href'] is not None:\n",
        "            if link.attrs['href'] not in internalLinks:  ## új belső link\n",
        "                print('belső link : {}'.format(internalLinks))\n",
        "                if(link.attrs['href'].startswith('/')):\n",
        "                    internalLinks.append(includeUrl+link.attrs['href'])\n",
        "                else:\n",
        "                    internalLinks.append(link.attrs['href'])\n",
        "                print('belső link : {}'.format(internalLinks))\n",
        "    return internalLinks\n",
        "            \n",
        "## Beolvassa az oldalon található összes külső link listáját\n",
        "def getExternalLinks(bs, excludeUrl):\n",
        "    externalLinks = []\n",
        "    ##összes link keresése\n",
        "    ##nem tartalmaz külső URL-t\n",
        "    for link in bs.find_all('a', href=re.compile('^(http|www)((?!'+excludeUrl+').)*$')):\n",
        "        if link.attrs['href'] is not None:\n",
        "            if link.attrs['href'] not in externalLinks:  ## új külső link\n",
        "                externalLinks.append(link.attrs['href'])                \n",
        "    return externalLinks\n",
        "\n",
        "def getRandomExternalLink(startingPage):\n",
        "    html = urlopen(startingPage)\n",
        "    bs = BeautifulSoup(html, 'html.parser')\n",
        "    externalLinks = getExternalLinks(bs, urlparse(startingPage).netloc)\n",
        "    if len(externalLinks) == 0:\n",
        "        print('Nincs külső link, nézze meg a webhelyen is')\n",
        "        domain = '{}://{}'.format(urlparse(startingPage).scheme, urlparse(startingPage).netloc)\n",
        "        internalLinks = getInternalLinks(bs, domain)\n",
        "        return getRandomExternalLink(internalLinks[random.randint(0,\n",
        "                                    len(internalLinks)-1)])\n",
        "    else:\n",
        "        return externalLinks[random.randint(0, len(externalLinks)-1)]\n",
        "    \n",
        "def followExternalOnly(startingSite):\n",
        "    global szamol\n",
        "    externalLink = getRandomExternalLink(startingSite)\n",
        "    print('Véletlen külső link : {}'.format(externalLink))\n",
        "    print('Véletlen belső link : {}'.format(externalLink))\n",
        "    szamol += 1\n",
        "    if szamol < 2:   ## 10 után leállás\n",
        "        followExternalOnly(externalLink)\n",
        "            \n",
        "followExternalOnly('https://mierdekel.hu/blog/2015/12/')\n",
        "#followExternalOnly('https://klajosw.blogspot.com/')"
      ],
      "execution_count": 0,
      "outputs": [
        {
          "output_type": "stream",
          "text": [
            "Véletlen külső link : https://hu.wordpress.org/\n",
            "Véletlen belső link : https://hu.wordpress.org/\n",
            "Véletlen külső link : https://wordpress.org/showcase/\n",
            "Véletlen belső link : https://wordpress.org/showcase/\n"
          ],
          "name": "stdout"
        }
      ]
    },
    {
      "cell_type": "markdown",
      "metadata": {
        "id": "SkDtpwdelTuZ",
        "colab_type": "text"
      },
      "source": [
        "## Összes külső link összegyüjtése egy web helyről"
      ]
    },
    {
      "cell_type": "code",
      "metadata": {
        "id": "cXgHWK4OlTuZ",
        "colab_type": "code",
        "colab": {},
        "outputId": "9cc382af-9a0e-4152-f206-0180e209c1d6"
      },
      "source": [
        "from urllib.request import urlopen\n",
        "from urllib.parse import urlparse\n",
        "from bs4 import BeautifulSoup\n",
        "import re\n",
        "import datetime\n",
        "import random\n",
        "\n",
        "# Collects a list of all external URLs found on the site\n",
        "allExtLinks = set()\n",
        "allIntLinks = set()\n",
        "szamol=0\n",
        "\n",
        "pages = set()\n",
        "random.seed(datetime.datetime.now())\n",
        "\n",
        "#Retrieves a list of all Internal links found on a page\n",
        "def getInternalLinks(bs, includeUrl):\n",
        "    global szamol\n",
        "    includeUrl = '{}://{}'.format(urlparse(includeUrl).scheme, urlparse(includeUrl).netloc)\n",
        "    internalLinks = []\n",
        "    #Finds all links that begin with a \"/\"\n",
        "    for link in bs.find_all('a', href=re.compile('^(/|.*'+includeUrl+')')):\n",
        "        if link.attrs['href'] is not None:\n",
        "            if link.attrs['href'] not in internalLinks:\n",
        "                if(link.attrs['href'].startswith('/')):\n",
        "                    internalLinks.append(includeUrl+link.attrs['href'])\n",
        "                else:\n",
        "                    internalLinks.append(link.attrs['href'])\n",
        "#                print('Belső ', szamol, link.attrs['href'])\n",
        "                szamol += 1\n",
        "                if szamol > 200:   ## 10 után leállás\n",
        "                    break                    \n",
        "                    \n",
        "    return internalLinks\n",
        "            \n",
        "#Retrieves a list of all external links found on a page\n",
        "def getExternalLinks(bs, excludeUrl):\n",
        "    global szamol\n",
        "    externalLinks = []\n",
        "    #Finds all links that start with \"http\" that do\n",
        "    #not contain the current URL\n",
        "    for link in bs.find_all('a', href=re.compile('^(http|www)((?!'+excludeUrl+').)*$')):\n",
        "        if link.attrs['href'] is not None:\n",
        "            if link.attrs['href'] not in externalLinks:\n",
        "                externalLinks.append(link.attrs['href'])\n",
        "#                print('Külső ', szamol, link.attrs['href'])\n",
        "                szamol += 1\n",
        "                if szamol > 200:   ## 10 után leállás\n",
        "                    break\n",
        "    return externalLinks\n",
        "\n",
        "\n",
        "def getAllExternalLinks(siteUrl):\n",
        "    html = urlopen(siteUrl)\n",
        "    domain = '{}://{}'.format(urlparse(siteUrl).scheme,\n",
        "                              urlparse(siteUrl).netloc)\n",
        "    bs = BeautifulSoup(html, 'html.parser')\n",
        "    internalLinks = getInternalLinks(bs, domain)\n",
        "    externalLinks = getExternalLinks(bs, domain)\n",
        "\n",
        "    for link in externalLinks:\n",
        "        if link not in allExtLinks:\n",
        "            allExtLinks.add(link)\n",
        "            print('Külső link -> ', link)\n",
        "    for link in internalLinks:\n",
        "        if link not in allIntLinks:\n",
        "            allIntLinks.add(link)\n",
        "            print('Belső link -> ', link)\n",
        "            getAllExternalLinks(link)\n",
        "\n",
        "\n",
        "allIntLinks.add('https://mierdekel.hu/blog')\n",
        "getAllExternalLinks('''https://mierdekel.hu/blog''')"
      ],
      "execution_count": 0,
      "outputs": [
        {
          "output_type": "stream",
          "text": [
            "Külső link ->  https://mierdekel.hu/blog/\n",
            "Külső link ->  https://mierdekel.hu/blog/android/\n",
            "Külső link ->  https://mierdekel.hu/blog/blogok/\n",
            "Külső link ->  https://mierdekel.hu/blog/gdpr/\n",
            "Külső link ->  https://klajosw.blogspot.com\n",
            "Külső link ->  https://www.google.com/url?q=https%3A%2F%2Fgithub.com%2Fklajosw&sa=D&sntz=1&usg=AFQjCNFUOAPFijSP8VCDVH8DJ4fkzqZXig\n",
            "Külső link ->  https://www.google.com/url?q=https%3A%2F%2Fwww.linkedin.com%2Fin%2Fklajosw%2F&sa=D&sntz=1&usg=AFQjCNGzwLQIyvWQNVHAiFibbgdaOAIupQ\n",
            "Külső link ->  https://sites.google.com/site/klajosw\n",
            "Külső link ->  https://mierdekel.hu/blog/2018/08/\n",
            "Külső link ->  https://mierdekel.hu/oktatas\n",
            "Külső link ->  https://mierdekel.hu/igeny\n",
            "Külső link ->  https://mierdekel.hu/alap\n",
            "Külső link ->  http://mierdekel.hu/kozlekedes\n",
            "Külső link ->  https://mierdekel.hu/abra/d3/\n",
            "Külső link ->  https://mierdekel.hu/abra/d3/index1.html\n",
            "Külső link ->  https://mierdekel.hu/abra/d3/index3.html\n",
            "Külső link ->  https://mierdekel.hu/abra/d3/index4.html\n",
            "Külső link ->  https://mierdekel.hu/abra/vis/\n",
            "Külső link ->  https://mierdekel.hu/abra/vis/animacio.html\n",
            "Külső link ->  https://mierdekel.hu/abra/vis/beallitas.html\n",
            "Külső link ->  https://mierdekel.hu/abra/vis/szerkesztes.html\n",
            "Külső link ->  https://mierdekel.hu/abra/vis/szerkesztes2.html\n",
            "Külső link ->  https://mierdekel.hu/abra/vis/szerkesztes3.html\n",
            "Külső link ->  https://mierdekel.hu/abra/vis/nodok.html\n",
            "Külső link ->  https://mierdekel.hu/abra/vis/ment_betolt.html\n",
            "Külső link ->  https://mierdekel.hu/abra/vis/ikonok.html\n",
            "Külső link ->  https://mierdekel.hu/abra/vis/ido.html\n",
            "Külső link ->  https://mierdekel.hu/abra/vis/ido2.html\n",
            "Külső link ->  https://mierdekel.hu/abra/vis/hierachiak.html\n",
            "Külső link ->  https://mierdekel.hu/blog/2018/08/12/android-alapok/\n",
            "Külső link ->  https://mierdekel.hu/blog/2018/07/03/adatmodellezes-alapjai-powerdesignerrel/\n",
            "Külső link ->  https://mierdekel.hu/blog/2018/07/03/adat-modellezes-sqldeveloperrel/\n",
            "Külső link ->  https://mierdekel.hu/blog/2015/12/07/oracle-sql-halado-mintak/\n",
            "Külső link ->  https://mierdekel.hu/blog/2015/12/01/szoftver-fejlesztes-mint-folyamat/\n",
            "Külső link ->  https://mierdekel.hu/blog/2018/07/\n",
            "Külső link ->  https://mierdekel.hu/blog/2015/12/\n",
            "Külső link ->  https://mierdekel.hu/blog/2015/11/\n",
            "Külső link ->  https://mierdekel.hu/blog/2015/10/\n",
            "Külső link ->  https://mierdekel.hu/blog/2015/09/\n",
            "Külső link ->  https://mierdekel.hu/blog/2015/08/\n",
            "Külső link ->  https://mierdekel.hu/blog/2015/07/\n",
            "Külső link ->  https://mierdekel.hu/blog/2015/06/\n",
            "Külső link ->  https://mierdekel.hu/blog/2015/05/\n",
            "Külső link ->  https://mierdekel.hu/blog/2015/04/\n",
            "Külső link ->  https://mierdekel.hu/blog/2015/03/\n",
            "Külső link ->  https://mierdekel.hu/blog/2015/02/\n",
            "Külső link ->  https://mierdekel.hu/blog/2015/01/\n",
            "Külső link ->  https://mierdekel.hu/blog/2014/12/\n",
            "Külső link ->  https://mierdekel.hu/blog/2014/11/\n",
            "Külső link ->  https://mierdekel.hu/blog/2014/10/\n",
            "Külső link ->  https://mierdekel.hu/blog/2014/09/\n",
            "Külső link ->  https://mierdekel.hu/blog/2014/08/\n",
            "Külső link ->  https://mierdekel.hu/blog/2014/07/\n",
            "Külső link ->  https://mierdekel.hu/blog/2014/05/\n",
            "Külső link ->  https://mierdekel.hu/blog/2014/03/\n",
            "Külső link ->  https://mierdekel.hu/blog/2014/02/\n",
            "Külső link ->  https://mierdekel.hu/blog/2014/01/\n",
            "Külső link ->  https://mierdekel.hu/blog/category/egyeb/\n",
            "Külső link ->  https://mierdekel.hu/blog/category/felmero/\n",
            "Külső link ->  https://mierdekel.hu/blog/category/hoby/\n",
            "Külső link ->  https://mierdekel.hu/blog/category/it/\n",
            "Külső link ->  https://mierdekel.hu/blog/category/mas/\n",
            "Külső link ->  https://mierdekel.hu/blog/category/oktatas-2/\n",
            "Külső link ->  https://mierdekel.hu/blog/category/stat/\n",
            "Külső link ->  https://mierdekel.hu/blog/category/szemelyiseg/\n",
            "Külső link ->  https://mierdekel.hu/blog/wp-login.php\n",
            "Külső link ->  https://mierdekel.hu/blog/feed/\n",
            "Külső link ->  https://mierdekel.hu/blog/comments/feed/\n",
            "Külső link ->  https://hu.wordpress.org/\n",
            "Külső link ->  https://mierdekel.hu/blog/gdpr\n",
            "Belső link ->  https://mierdekel.hu/blog/\n",
            "Belső link ->  https://mierdekel.hu/blog/android/\n",
            "Belső link ->  https://mierdekel.hu/blog/blogok/\n",
            "Belső link ->  https://mierdekel.hu/blog/gdpr/\n",
            "Belső link ->  https://mierdekel.hu/blog/2018/08/\n",
            "Belső link ->  https://mierdekel.hu/oktatas\n",
            "Külső link ->  https://mierdekel.hu/oktatas/\n",
            "Belső link ->  https://mierdekel.hu/oktatas/\n",
            "Belső link ->  https://mierdekel.hu/igeny\n",
            "Belső link ->  https://mierdekel.hu/alap\n",
            "Belső link ->  https://mierdekel.hu/alap/\n",
            "Belső link ->  https://mierdekel.hu/abra/d3/\n",
            "Belső link ->  https://mierdekel.hu/abra/d3/index1.html\n",
            "Belső link ->  https://mierdekel.hu/abra/d3/index3.html\n",
            "Belső link ->  https://mierdekel.hu/abra/d3/index4.html\n",
            "Belső link ->  https://mierdekel.hu/abra/vis/\n",
            "Belső link ->  https://mierdekel.hu/abra/vis/animacio.html\n",
            "Belső link ->  https://mierdekel.hu/abra/vis/beallitas.html\n",
            "Belső link ->  https://mierdekel.hu/abra/vis/szerkesztes.html\n",
            "Belső link ->  https://mierdekel.hu/abra/vis/szerkesztes2.html\n",
            "Belső link ->  https://mierdekel.hu/abra/vis/szerkesztes3.html\n",
            "Belső link ->  https://mierdekel.hu/abra/vis/nodok.html\n",
            "Belső link ->  https://mierdekel.hu/abra/vis/ment_betolt.html\n",
            "Belső link ->  https://mierdekel.hu/abra/vis/ikonok.html\n",
            "Belső link ->  https://mierdekel.hu/abra/vis/ido.html\n",
            "Belső link ->  https://mierdekel.hu/abra/vis/ido2.html\n",
            "Belső link ->  https://mierdekel.hu/abra/vis/hierachiak.html\n",
            "Belső link ->  https://mierdekel.hu/blog/2018/08/12/android-alapok/\n",
            "Belső link ->  https://mierdekel.hu/blog/2018/07/03/adatmodellezes-alapjai-powerdesignerrel/\n",
            "Belső link ->  https://mierdekel.hu/blog/2018/07/03/adat-modellezes-sqldeveloperrel/\n",
            "Belső link ->  https://mierdekel.hu/blog/2015/12/07/oracle-sql-halado-mintak/\n",
            "Belső link ->  https://mierdekel.hu/blog/2015/12/01/szoftver-fejlesztes-mint-folyamat/\n",
            "Belső link ->  https://mierdekel.hu/blog/2018/07/\n",
            "Belső link ->  https://mierdekel.hu/blog/2015/12/\n",
            "Belső link ->  https://mierdekel.hu/blog/2015/11/\n",
            "Belső link ->  https://mierdekel.hu/blog/2015/10/\n",
            "Belső link ->  https://mierdekel.hu/blog/2015/09/\n",
            "Belső link ->  https://mierdekel.hu/blog/2015/08/\n",
            "Belső link ->  https://mierdekel.hu/blog/2015/07/\n",
            "Belső link ->  https://mierdekel.hu/blog/2015/06/\n",
            "Belső link ->  https://mierdekel.hu/blog/2015/05/\n",
            "Belső link ->  https://mierdekel.hu/blog/2015/04/\n",
            "Belső link ->  https://mierdekel.hu/blog/2015/03/\n",
            "Belső link ->  https://mierdekel.hu/blog/2015/02/\n",
            "Belső link ->  https://mierdekel.hu/blog/2015/01/\n",
            "Belső link ->  https://mierdekel.hu/blog/2014/12/\n",
            "Belső link ->  https://mierdekel.hu/blog/2014/11/\n",
            "Belső link ->  https://mierdekel.hu/blog/2014/10/\n",
            "Belső link ->  https://mierdekel.hu/blog/2014/09/\n",
            "Belső link ->  https://mierdekel.hu/blog/2014/08/\n",
            "Belső link ->  https://mierdekel.hu/blog/2014/07/\n",
            "Belső link ->  https://mierdekel.hu/blog/2014/05/\n",
            "Belső link ->  https://mierdekel.hu/blog/2014/03/\n",
            "Belső link ->  https://mierdekel.hu/blog/2014/02/\n",
            "Belső link ->  https://mierdekel.hu/blog/2014/01/\n",
            "Belső link ->  https://mierdekel.hu/blog/category/egyeb/\n",
            "Belső link ->  https://mierdekel.hu/blog/category/felmero/\n",
            "Belső link ->  https://mierdekel.hu/blog/category/hoby/\n",
            "Belső link ->  https://mierdekel.hu/blog/category/it/\n",
            "Belső link ->  https://mierdekel.hu/blog/category/mas/\n",
            "Belső link ->  https://mierdekel.hu/blog/category/oktatas-2/\n",
            "Belső link ->  https://mierdekel.hu/blog/category/stat/\n",
            "Belső link ->  https://mierdekel.hu/blog/category/szemelyiseg/\n",
            "Belső link ->  https://mierdekel.hu/blog/wp-login.php\n",
            "Belső link ->  https://mierdekel.hu/blog/wp-login.php?action=lostpassword\n",
            "Belső link ->  https://mierdekel.hu/blog/feed/\n",
            "Belső link ->  https://mierdekel.hu/blog/comments/feed/\n",
            "Belső link ->  https://mierdekel.hu/blog/gdpr\n"
          ],
          "name": "stdout"
        }
      ]
    },
    {
      "cell_type": "markdown",
      "metadata": {
        "id": "y2Y6yKCxlTuc",
        "colab_type": "text"
      },
      "source": [
        "## WEB lapról képek kikeresése"
      ]
    },
    {
      "cell_type": "code",
      "metadata": {
        "id": "2EDVoAbwlTuc",
        "colab_type": "code",
        "colab": {},
        "outputId": "777d3936-286d-4d92-e88a-e65876e78fc7"
      },
      "source": [
        "from urllib.request import urlopen\n",
        "from bs4 import BeautifulSoup\n",
        "import re\n",
        "\n",
        "szamol=0\n",
        "html = urlopen('https://klajosw.blogspot.com')\n",
        "bs = BeautifulSoup(html, 'html.parser')\n",
        "images = bs.find_all('img')\n",
        "for image in images: \n",
        "     ## print(image)\n",
        "     print(image['src'])\n",
        "     szamol += 1\n",
        "     if szamol > 10:   ## 10 után leállás\n",
        "        break"
      ],
      "execution_count": 0,
      "outputs": [
        {
          "output_type": "stream",
          "text": [
            "https://1.bp.blogspot.com/-LvQsQz0kOTU/XfyOEdINRWI/AAAAAAAAXxc/k1cZdGkTJnwYvkABO3oMxH10kKwx2edPwCLcBGAsYHQ/s320/KL_karacsonyi_szofelho.png\n",
            "https://1.bp.blogspot.com/-H62-mz2F1DY/Xfyc2J0gObI/AAAAAAAAXxo/7iQK20DSkvEK1kg0lMbcb3NX3eu0Q1gxwCLcBGAsYHQ/s320/kari_fa_word_cloud_szines.png\n",
            "https://1.bp.blogspot.com/-CVi-9ZUaRmU/XfyNu6i0LyI/AAAAAAAAXxQ/pIsl7ClQThgVtoOp2MQf7EU8LNtnhEqwgCLcBGAsYHQ/s320/KL_tonok_harca_veg_szo_felho.png\n",
            "https://resources.blogblog.com/img/icon18_edit_allbkg.gif\n",
            "https://resources.blogblog.com/img/icon18_edit_allbkg.gif\n",
            "https://resources.blogblog.com/img/icon18_edit_allbkg.gif\n",
            "https://resources.blogblog.com/img/icon18_edit_allbkg.gif\n",
            "https://resources.blogblog.com/img/icon18_edit_allbkg.gif\n",
            "https://resources.blogblog.com/img/icon18_edit_allbkg.gif\n",
            "https://resources.blogblog.com/img/icon18_edit_allbkg.gif\n",
            "https://1.bp.blogspot.com/-LvQsQz0kOTU/XfyOEdINRWI/AAAAAAAAXxc/k1cZdGkTJnwYvkABO3oMxH10kKwx2edPwCLcBGAsYHQ/s320/KL_karacsonyi_szofelho.png\n"
          ],
          "name": "stdout"
        }
      ]
    },
    {
      "cell_type": "markdown",
      "metadata": {
        "id": "0Kqimy_UlTue",
        "colab_type": "text"
      },
      "source": [
        "## WEB lapról képek letöltése"
      ]
    },
    {
      "cell_type": "code",
      "metadata": {
        "scrolled": true,
        "id": "aLAEU2dalTuf",
        "colab_type": "code",
        "colab": {},
        "outputId": "b4f3ee34-eb04-4f3b-f58a-ec1f15c60e7b"
      },
      "source": [
        "import os\n",
        "from urllib.request import urlretrieve\n",
        "from urllib.request import urlopen\n",
        "from bs4 import BeautifulSoup\n",
        "\n",
        "\n",
        "\n",
        "def getAbsoluteURL(baseUrl, source):\n",
        "    if source.startswith('http://www.'):\n",
        "        url = 'http://{}'.format(source[11:])\n",
        "    elif source.startswith('http://'):\n",
        "        url = source\n",
        "    elif source.startswith('www.'):\n",
        "        url = source[4:]\n",
        "        url = 'http://{}'.format(source)\n",
        "    else:\n",
        "        url = '{}/{}'.format(baseUrl, source)\n",
        "    if baseUrl not in url:\n",
        "        return None\n",
        "    url = url.replace('/https://', 'https://')\n",
        "    url = url.replace('/http://', 'http://')\n",
        "    return url\n",
        "\n",
        "def getDownloadPath(baseUrl, absoluteUrl, downloadDirectory):\n",
        "    path = absoluteUrl.replace('www.', '')\n",
        "    path = path.replace(baseUrl, '')\n",
        "    path = path.replace('https://resources.blogblog.com', '')\n",
        "    path = path.replace('http://resources.blogblog.com', '')\n",
        "    konyvtar =  path.split(\"/\")\n",
        "    path = \"/\".join(konyvtar[-2:])\n",
        "    path = downloadDirectory+\"/\"+path\n",
        "    directory = os.path.dirname(path)\n",
        "    if not os.path.exists(directory):\n",
        "        os.makedirs(directory)\n",
        "    return path\n",
        "\n",
        "\n",
        "##----\n",
        "## Paraméterek megadása\n",
        "downloadDirectory = 'downloaded'      ## Letöltési könyvtár neve\n",
        "baseUrl = 'https://klajosw.blogspot.com' ## forrás web lap címe  ///http://pythonscraping.com\n",
        "\n",
        "html = urlopen(baseUrl)\n",
        "bs = BeautifulSoup(html, 'html.parser')\n",
        "downloadList = bs.find_all('img')    ## képfilek keresése\n",
        "#downloadList = bs.findAll(src=True)\n",
        "\n",
        "for download in downloadList:\n",
        "    fileUrl = getAbsoluteURL(baseUrl, download['src'])\n",
        "    if fileUrl is not None:\n",
        "        print('p1', getDownloadPath(baseUrl, fileUrl, downloadDirectory))\n",
        "        fileUrl = fileUrl.replace(baseUrl, '')\n",
        "        print('p2',fileUrl)\n",
        "        urlretrieve(fileUrl, getDownloadPath(baseUrl, fileUrl, downloadDirectory))"
      ],
      "execution_count": 0,
      "outputs": [
        {
          "output_type": "stream",
          "text": [
            "p1 downloaded/s320/KL_karacsonyi_szofelho.png\n",
            "p2 https://1.bp.blogspot.com/-LvQsQz0kOTU/XfyOEdINRWI/AAAAAAAAXxc/k1cZdGkTJnwYvkABO3oMxH10kKwx2edPwCLcBGAsYHQ/s320/KL_karacsonyi_szofelho.png\n",
            "p1 downloaded/s320/kari_fa_word_cloud_szines.png\n",
            "p2 https://1.bp.blogspot.com/-H62-mz2F1DY/Xfyc2J0gObI/AAAAAAAAXxo/7iQK20DSkvEK1kg0lMbcb3NX3eu0Q1gxwCLcBGAsYHQ/s320/kari_fa_word_cloud_szines.png\n",
            "p1 downloaded/s320/KL_tonok_harca_veg_szo_felho.png\n",
            "p2 https://1.bp.blogspot.com/-CVi-9ZUaRmU/XfyNu6i0LyI/AAAAAAAAXxQ/pIsl7ClQThgVtoOp2MQf7EU8LNtnhEqwgCLcBGAsYHQ/s320/KL_tonok_harca_veg_szo_felho.png\n",
            "p1 downloaded/img/icon18_edit_allbkg.gif\n",
            "p2 https://resources.blogblog.com/img/icon18_edit_allbkg.gif\n",
            "p1 downloaded/img/icon18_edit_allbkg.gif\n",
            "p2 https://resources.blogblog.com/img/icon18_edit_allbkg.gif\n",
            "p1 downloaded/img/icon18_edit_allbkg.gif\n",
            "p2 https://resources.blogblog.com/img/icon18_edit_allbkg.gif\n",
            "p1 downloaded/img/icon18_edit_allbkg.gif\n",
            "p2 https://resources.blogblog.com/img/icon18_edit_allbkg.gif\n",
            "p1 downloaded/img/icon18_edit_allbkg.gif\n",
            "p2 https://resources.blogblog.com/img/icon18_edit_allbkg.gif\n",
            "p1 downloaded/img/icon18_edit_allbkg.gif\n",
            "p2 https://resources.blogblog.com/img/icon18_edit_allbkg.gif\n",
            "p1 downloaded/img/icon18_edit_allbkg.gif\n",
            "p2 https://resources.blogblog.com/img/icon18_edit_allbkg.gif\n",
            "p1 downloaded/s320/KL_karacsonyi_szofelho.png\n",
            "p2 https://1.bp.blogspot.com/-LvQsQz0kOTU/XfyOEdINRWI/AAAAAAAAXxc/k1cZdGkTJnwYvkABO3oMxH10kKwx2edPwCLcBGAsYHQ/s320/KL_karacsonyi_szofelho.png\n",
            "p1 downloaded/img/icon18_wrench_allbkg.png\n",
            "p2 https://resources.blogblog.com/img/icon18_wrench_allbkg.png\n",
            "p1 downloaded/img/icon18_wrench_allbkg.png\n",
            "p2 https://resources.blogblog.com/img/icon18_wrench_allbkg.png\n",
            "p1 downloaded/img/icon18_wrench_allbkg.png\n",
            "p2 https://resources.blogblog.com/img/icon18_wrench_allbkg.png\n",
            "p1 downloaded/img/icon18_wrench_allbkg.png\n",
            "p2 https://resources.blogblog.com/img/icon18_wrench_allbkg.png\n",
            "p1 downloaded/img/icon18_wrench_allbkg.png\n",
            "p2 https://resources.blogblog.com/img/icon18_wrench_allbkg.png\n",
            "p1 downloaded/img/icon18_wrench_allbkg.png\n",
            "p2 https://resources.blogblog.com/img/icon18_wrench_allbkg.png\n",
            "p1 downloaded/img/icon18_wrench_allbkg.png\n",
            "p2 https://resources.blogblog.com/img/icon18_wrench_allbkg.png\n",
            "p1 downloaded/img/icon18_wrench_allbkg.png\n",
            "p2 https://resources.blogblog.com/img/icon18_wrench_allbkg.png\n",
            "p1 downloaded/img/icon18_wrench_allbkg.png\n",
            "p2 https://resources.blogblog.com/img/icon18_wrench_allbkg.png\n"
          ],
          "name": "stdout"
        }
      ]
    },
    {
      "cell_type": "code",
      "metadata": {
        "id": "dbzBz8JOlTuh",
        "colab_type": "code",
        "colab": {}
      },
      "source": [
        ""
      ],
      "execution_count": 0,
      "outputs": []
    }
  ]
}